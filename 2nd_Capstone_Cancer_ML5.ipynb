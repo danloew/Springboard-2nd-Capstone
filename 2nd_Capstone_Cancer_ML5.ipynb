{
 "cells": [
  {
   "cell_type": "code",
   "execution_count": 1,
   "metadata": {},
   "outputs": [],
   "source": [
    "import csv\n",
    "import numpy as np\n",
    "import pandas as pd\n",
    "import matplotlib.pyplot as plt\n",
    "import sklearn\n",
    "from sklearn import linear_model\n",
    "from sklearn.model_selection import train_test_split\n",
    "from sklearn.model_selection import cross_val_score\n",
    "from sklearn.metrics import accuracy_score\n",
    "from sklearn.metrics import roc_curve\n",
    "from sklearn.metrics import roc_auc_score\n",
    "from sklearn.preprocessing import MinMaxScaler\n",
    "from sklearn.metrics import confusion_matrix\n",
    "import pickle"
   ]
  },
  {
   "cell_type": "code",
   "execution_count": 2,
   "metadata": {},
   "outputs": [],
   "source": [
    "df = pd.read_csv('cancer_ml6.csv', index_col=['Geography'])"
   ]
  },
  {
   "cell_type": "code",
   "execution_count": 3,
   "metadata": {
    "scrolled": true
   },
   "outputs": [
    {
     "data": {
      "text/html": [
       "<div>\n",
       "<style scoped>\n",
       "    .dataframe tbody tr th:only-of-type {\n",
       "        vertical-align: middle;\n",
       "    }\n",
       "\n",
       "    .dataframe tbody tr th {\n",
       "        vertical-align: top;\n",
       "    }\n",
       "\n",
       "    .dataframe thead th {\n",
       "        text-align: right;\n",
       "    }\n",
       "</style>\n",
       "<table border=\"1\" class=\"dataframe\">\n",
       "  <thead>\n",
       "    <tr style=\"text-align: right;\">\n",
       "      <th></th>\n",
       "      <th>avgAnnCount</th>\n",
       "      <th>TARGET_deathRate</th>\n",
       "      <th>incidenceRate</th>\n",
       "      <th>medIncome</th>\n",
       "      <th>popEst2015</th>\n",
       "      <th>povertyPercent</th>\n",
       "      <th>studyPerCap</th>\n",
       "      <th>MedianAge</th>\n",
       "      <th>MedianAgeMale</th>\n",
       "      <th>MedianAgeFemale</th>\n",
       "      <th>...</th>\n",
       "      <th>PctEmpPrivCoverage_log</th>\n",
       "      <th>PctPublicCoverageAlone_log</th>\n",
       "      <th>BirthRate_sqrd</th>\n",
       "      <th>INTPTLONG_sqrd</th>\n",
       "      <th>onc_min_distsl2_sqrd</th>\n",
       "      <th>city_min_distsl1_log</th>\n",
       "      <th>PCT_LACCESS_POP10_sqrd</th>\n",
       "      <th>PCT_LACCESS_HHNV10_sqrd</th>\n",
       "      <th>PC_DIRSALES07_sqrd</th>\n",
       "      <th>PCT_OBESE_ADULTS13_log</th>\n",
       "    </tr>\n",
       "    <tr>\n",
       "      <th>Geography</th>\n",
       "      <th></th>\n",
       "      <th></th>\n",
       "      <th></th>\n",
       "      <th></th>\n",
       "      <th></th>\n",
       "      <th></th>\n",
       "      <th></th>\n",
       "      <th></th>\n",
       "      <th></th>\n",
       "      <th></th>\n",
       "      <th></th>\n",
       "      <th></th>\n",
       "      <th></th>\n",
       "      <th></th>\n",
       "      <th></th>\n",
       "      <th></th>\n",
       "      <th></th>\n",
       "      <th></th>\n",
       "      <th></th>\n",
       "      <th></th>\n",
       "      <th></th>\n",
       "    </tr>\n",
       "  </thead>\n",
       "  <tbody>\n",
       "    <tr>\n",
       "      <th>Abbeville County, South Carolina</th>\n",
       "      <td>143.0</td>\n",
       "      <td>183.7</td>\n",
       "      <td>430.9</td>\n",
       "      <td>35525</td>\n",
       "      <td>24932</td>\n",
       "      <td>21.4</td>\n",
       "      <td>0.000000</td>\n",
       "      <td>43.3</td>\n",
       "      <td>40.7</td>\n",
       "      <td>44.9</td>\n",
       "      <td>...</td>\n",
       "      <td>3.627004</td>\n",
       "      <td>3.254243</td>\n",
       "      <td>33.916455</td>\n",
       "      <td>6798.671681</td>\n",
       "      <td>37.990317</td>\n",
       "      <td>0.881278</td>\n",
       "      <td>901.005860</td>\n",
       "      <td>36.601854</td>\n",
       "      <td>13.9129</td>\n",
       "      <td>3.456317</td>\n",
       "    </tr>\n",
       "    <tr>\n",
       "      <th>Acadia Parish, Louisiana</th>\n",
       "      <td>323.0</td>\n",
       "      <td>230.5</td>\n",
       "      <td>492.7</td>\n",
       "      <td>40269</td>\n",
       "      <td>62577</td>\n",
       "      <td>22.0</td>\n",
       "      <td>0.000000</td>\n",
       "      <td>35.7</td>\n",
       "      <td>34.7</td>\n",
       "      <td>37.2</td>\n",
       "      <td>...</td>\n",
       "      <td>3.660994</td>\n",
       "      <td>3.139833</td>\n",
       "      <td>48.144664</td>\n",
       "      <td>8539.799759</td>\n",
       "      <td>9.259066</td>\n",
       "      <td>1.927334</td>\n",
       "      <td>2.894705</td>\n",
       "      <td>3.229274</td>\n",
       "      <td>58.9824</td>\n",
       "      <td>3.499533</td>\n",
       "    </tr>\n",
       "    <tr>\n",
       "      <th>Accomack County, Virginia</th>\n",
       "      <td>221.0</td>\n",
       "      <td>216.2</td>\n",
       "      <td>479.4</td>\n",
       "      <td>38390</td>\n",
       "      <td>32973</td>\n",
       "      <td>19.4</td>\n",
       "      <td>0.000000</td>\n",
       "      <td>45.3</td>\n",
       "      <td>42.7</td>\n",
       "      <td>47.3</td>\n",
       "      <td>...</td>\n",
       "      <td>3.618993</td>\n",
       "      <td>2.912351</td>\n",
       "      <td>18.920319</td>\n",
       "      <td>5739.245321</td>\n",
       "      <td>3.040260</td>\n",
       "      <td>1.547278</td>\n",
       "      <td>21.215684</td>\n",
       "      <td>59.388869</td>\n",
       "      <td>2.9584</td>\n",
       "      <td>3.303217</td>\n",
       "    </tr>\n",
       "    <tr>\n",
       "      <th>Ada County, Idaho</th>\n",
       "      <td>1757.0</td>\n",
       "      <td>151.6</td>\n",
       "      <td>469.0</td>\n",
       "      <td>57908</td>\n",
       "      <td>434211</td>\n",
       "      <td>11.6</td>\n",
       "      <td>414.545002</td>\n",
       "      <td>35.8</td>\n",
       "      <td>35.0</td>\n",
       "      <td>36.6</td>\n",
       "      <td>...</td>\n",
       "      <td>3.981549</td>\n",
       "      <td>2.406945</td>\n",
       "      <td>22.882023</td>\n",
       "      <td>13512.754950</td>\n",
       "      <td>565.675639</td>\n",
       "      <td>2.326541</td>\n",
       "      <td>335.644721</td>\n",
       "      <td>0.336674</td>\n",
       "      <td>5.2441</td>\n",
       "      <td>3.387774</td>\n",
       "    </tr>\n",
       "    <tr>\n",
       "      <th>Adair County, Iowa</th>\n",
       "      <td>51.0</td>\n",
       "      <td>178.9</td>\n",
       "      <td>440.7</td>\n",
       "      <td>48216</td>\n",
       "      <td>7228</td>\n",
       "      <td>10.3</td>\n",
       "      <td>138.350858</td>\n",
       "      <td>45.9</td>\n",
       "      <td>45.0</td>\n",
       "      <td>47.7</td>\n",
       "      <td>...</td>\n",
       "      <td>3.770459</td>\n",
       "      <td>2.653242</td>\n",
       "      <td>24.891658</td>\n",
       "      <td>8926.123473</td>\n",
       "      <td>11.302137</td>\n",
       "      <td>2.001201</td>\n",
       "      <td>62.037931</td>\n",
       "      <td>3.520720</td>\n",
       "      <td>48.3025</td>\n",
       "      <td>3.443618</td>\n",
       "    </tr>\n",
       "  </tbody>\n",
       "</table>\n",
       "<p>5 rows × 250 columns</p>\n",
       "</div>"
      ],
      "text/plain": [
       "                                  avgAnnCount  TARGET_deathRate  \\\n",
       "Geography                                                         \n",
       "Abbeville County, South Carolina        143.0             183.7   \n",
       "Acadia Parish, Louisiana                323.0             230.5   \n",
       "Accomack County, Virginia               221.0             216.2   \n",
       "Ada County, Idaho                      1757.0             151.6   \n",
       "Adair County, Iowa                       51.0             178.9   \n",
       "\n",
       "                                  incidenceRate  medIncome  popEst2015  \\\n",
       "Geography                                                                \n",
       "Abbeville County, South Carolina          430.9      35525       24932   \n",
       "Acadia Parish, Louisiana                  492.7      40269       62577   \n",
       "Accomack County, Virginia                 479.4      38390       32973   \n",
       "Ada County, Idaho                         469.0      57908      434211   \n",
       "Adair County, Iowa                        440.7      48216        7228   \n",
       "\n",
       "                                  povertyPercent  studyPerCap  MedianAge  \\\n",
       "Geography                                                                  \n",
       "Abbeville County, South Carolina            21.4     0.000000       43.3   \n",
       "Acadia Parish, Louisiana                    22.0     0.000000       35.7   \n",
       "Accomack County, Virginia                   19.4     0.000000       45.3   \n",
       "Ada County, Idaho                           11.6   414.545002       35.8   \n",
       "Adair County, Iowa                          10.3   138.350858       45.9   \n",
       "\n",
       "                                  MedianAgeMale  MedianAgeFemale  ...  \\\n",
       "Geography                                                         ...   \n",
       "Abbeville County, South Carolina           40.7             44.9  ...   \n",
       "Acadia Parish, Louisiana                   34.7             37.2  ...   \n",
       "Accomack County, Virginia                  42.7             47.3  ...   \n",
       "Ada County, Idaho                          35.0             36.6  ...   \n",
       "Adair County, Iowa                         45.0             47.7  ...   \n",
       "\n",
       "                                  PctEmpPrivCoverage_log  \\\n",
       "Geography                                                  \n",
       "Abbeville County, South Carolina                3.627004   \n",
       "Acadia Parish, Louisiana                        3.660994   \n",
       "Accomack County, Virginia                       3.618993   \n",
       "Ada County, Idaho                               3.981549   \n",
       "Adair County, Iowa                              3.770459   \n",
       "\n",
       "                                  PctPublicCoverageAlone_log  BirthRate_sqrd  \\\n",
       "Geography                                                                      \n",
       "Abbeville County, South Carolina                    3.254243       33.916455   \n",
       "Acadia Parish, Louisiana                            3.139833       48.144664   \n",
       "Accomack County, Virginia                           2.912351       18.920319   \n",
       "Ada County, Idaho                                   2.406945       22.882023   \n",
       "Adair County, Iowa                                  2.653242       24.891658   \n",
       "\n",
       "                                  INTPTLONG_sqrd  onc_min_distsl2_sqrd  \\\n",
       "Geography                                                                \n",
       "Abbeville County, South Carolina     6798.671681             37.990317   \n",
       "Acadia Parish, Louisiana             8539.799759              9.259066   \n",
       "Accomack County, Virginia            5739.245321              3.040260   \n",
       "Ada County, Idaho                   13512.754950            565.675639   \n",
       "Adair County, Iowa                   8926.123473             11.302137   \n",
       "\n",
       "                                  city_min_distsl1_log  \\\n",
       "Geography                                                \n",
       "Abbeville County, South Carolina              0.881278   \n",
       "Acadia Parish, Louisiana                      1.927334   \n",
       "Accomack County, Virginia                     1.547278   \n",
       "Ada County, Idaho                             2.326541   \n",
       "Adair County, Iowa                            2.001201   \n",
       "\n",
       "                                  PCT_LACCESS_POP10_sqrd  \\\n",
       "Geography                                                  \n",
       "Abbeville County, South Carolina              901.005860   \n",
       "Acadia Parish, Louisiana                        2.894705   \n",
       "Accomack County, Virginia                      21.215684   \n",
       "Ada County, Idaho                             335.644721   \n",
       "Adair County, Iowa                             62.037931   \n",
       "\n",
       "                                  PCT_LACCESS_HHNV10_sqrd  PC_DIRSALES07_sqrd  \\\n",
       "Geography                                                                       \n",
       "Abbeville County, South Carolina                36.601854             13.9129   \n",
       "Acadia Parish, Louisiana                         3.229274             58.9824   \n",
       "Accomack County, Virginia                       59.388869              2.9584   \n",
       "Ada County, Idaho                                0.336674              5.2441   \n",
       "Adair County, Iowa                               3.520720             48.3025   \n",
       "\n",
       "                                  PCT_OBESE_ADULTS13_log  \n",
       "Geography                                                 \n",
       "Abbeville County, South Carolina                3.456317  \n",
       "Acadia Parish, Louisiana                        3.499533  \n",
       "Accomack County, Virginia                       3.303217  \n",
       "Ada County, Idaho                               3.387774  \n",
       "Adair County, Iowa                              3.443618  \n",
       "\n",
       "[5 rows x 250 columns]"
      ]
     },
     "execution_count": 3,
     "metadata": {},
     "output_type": "execute_result"
    }
   ],
   "source": [
    "df.head()"
   ]
  },
  {
   "cell_type": "code",
   "execution_count": 4,
   "metadata": {},
   "outputs": [
    {
     "data": {
      "text/plain": [
       "Index(['avgAnnCount', 'TARGET_deathRate', 'incidenceRate', 'medIncome',\n",
       "       'popEst2015', 'povertyPercent', 'studyPerCap', 'MedianAge',\n",
       "       'MedianAgeMale', 'MedianAgeFemale',\n",
       "       ...\n",
       "       'PctEmpPrivCoverage_log', 'PctPublicCoverageAlone_log',\n",
       "       'BirthRate_sqrd', 'INTPTLONG_sqrd', 'onc_min_distsl2_sqrd',\n",
       "       'city_min_distsl1_log', 'PCT_LACCESS_POP10_sqrd',\n",
       "       'PCT_LACCESS_HHNV10_sqrd', 'PC_DIRSALES07_sqrd',\n",
       "       'PCT_OBESE_ADULTS13_log'],\n",
       "      dtype='object', length=250)"
      ]
     },
     "execution_count": 4,
     "metadata": {},
     "output_type": "execute_result"
    }
   ],
   "source": [
    "df.columns"
   ]
  },
  {
   "cell_type": "code",
   "execution_count": 5,
   "metadata": {},
   "outputs": [
    {
     "data": {
      "text/plain": [
       "3047"
      ]
     },
     "execution_count": 5,
     "metadata": {},
     "output_type": "execute_result"
    }
   ],
   "source": [
    "len(df.index.unique())"
   ]
  },
  {
   "cell_type": "code",
   "execution_count": 6,
   "metadata": {
    "scrolled": true
   },
   "outputs": [
    {
     "data": {
      "text/plain": [
       "(3047, 250)"
      ]
     },
     "execution_count": 6,
     "metadata": {},
     "output_type": "execute_result"
    }
   ],
   "source": [
    "df.shape"
   ]
  },
  {
   "cell_type": "code",
   "execution_count": 7,
   "metadata": {
    "scrolled": true
   },
   "outputs": [
    {
     "name": "stdout",
     "output_type": "stream",
     "text": [
      "<class 'pandas.core.frame.DataFrame'>\n",
      "Index: 3047 entries, Abbeville County, South Carolina to Zavala County, Texas\n",
      "Data columns (total 250 columns):\n",
      "avgAnnCount                       float64\n",
      "TARGET_deathRate                  float64\n",
      "incidenceRate                     float64\n",
      "medIncome                         int64\n",
      "popEst2015                        int64\n",
      "povertyPercent                    float64\n",
      "studyPerCap                       float64\n",
      "MedianAge                         float64\n",
      "MedianAgeMale                     float64\n",
      "MedianAgeFemale                   float64\n",
      "AvgHouseholdSize                  float64\n",
      "PercentMarried                    float64\n",
      "PctNoHS18_24                      float64\n",
      "PctHS18_24                        float64\n",
      "PctSomeCol18_24                   float64\n",
      "PctBachDeg18_24                   float64\n",
      "PctHS25_Over                      float64\n",
      "PctBachDeg25_Over                 float64\n",
      "PctEmployed16_Over                float64\n",
      "PctUnemployed16_Over              float64\n",
      "PctPrivateCoverage                float64\n",
      "PctPrivateCoverageAlone           float64\n",
      "PctEmpPrivCoverage                float64\n",
      "PctPublicCoverage                 float64\n",
      "PctPublicCoverageAlone            float64\n",
      "PctWhite                          float64\n",
      "PctBlack                          float64\n",
      "PctAsian                          float64\n",
      "PctOtherRace                      float64\n",
      "PctMarriedHouseholds              float64\n",
      "BirthRate                         float64\n",
      "PctSomeCol18_24_isnull            bool\n",
      "PctEmployed16_Over_isnull         bool\n",
      "PctPrivateCoverageAlone_isnull    bool\n",
      "age_gt_100                        bool\n",
      "household_lt_1                    bool\n",
      "binnedInc_(34218.1, 37413.8]      int64\n",
      "binnedInc_(37413.8, 40362.7]      int64\n",
      "binnedInc_(40362.7, 42724.4]      int64\n",
      "binnedInc_(42724.4, 45201]        int64\n",
      "binnedInc_(45201, 48021.6]        int64\n",
      "binnedInc_(48021.6, 51046.4]      int64\n",
      "binnedInc_(51046.4, 54545.6]      int64\n",
      "binnedInc_(54545.6, 61494.5]      int64\n",
      "binnedInc_(61494.5, 125635]       int64\n",
      "binnedInc_[22640, 34218.1]        int64\n",
      "ALAND_SQMI                        float64\n",
      "AWATER_SQMI                       float64\n",
      "INTPTLAT                          float64\n",
      "INTPTLONG                         float64\n",
      "utmda_l1                          float64\n",
      "mskcc_l1                          float64\n",
      "mayo_l1                           float64\n",
      "hopkins_l1                        float64\n",
      "dfb_l1                            float64\n",
      "cleveland_l1                      float64\n",
      "upmcps_l1                         float64\n",
      "hlmcc_l1                          float64\n",
      "mgs_l1                            float64\n",
      "nw_mem_l1                         float64\n",
      "chi_l1                            float64\n",
      "nyc_l1                            float64\n",
      "atlanta_l1                        float64\n",
      "dallas_l1                         float64\n",
      "denver_l1                         float64\n",
      "los_ang_l1                        float64\n",
      "seattle_l1                        float64\n",
      "san_fran_l1                       float64\n",
      "utmda_l2                          float64\n",
      "mskcc_l2                          float64\n",
      "mayo_l2                           float64\n",
      "hopkins_l2                        float64\n",
      "dfb_l2                            float64\n",
      "cleveland_l2                      float64\n",
      "upmcps_l2                         float64\n",
      "hlmcc_l2                          float64\n",
      "mgs_l2                            float64\n",
      "nw_mem_l2                         float64\n",
      "chi_l2                            float64\n",
      "nyc_l2                            float64\n",
      "atlanta_l2                        float64\n",
      "dallas_l2                         float64\n",
      "denver_l2                         float64\n",
      "los_ang_l2                        float64\n",
      "seattle_l2                        float64\n",
      "san_fran_l2                       float64\n",
      "onc_min_distsl1                   float64\n",
      "onc_min_distsl2                   float64\n",
      "city_min_distsl1                  float64\n",
      "city_min_distsl2                  float64\n",
      "sc_min_dists_l1                   float64\n",
      "sc_min_dists_l2                   float64\n",
      "PCT_LACCESS_POP10                 float64\n",
      "PCT_LACCESS_LOWI10                float64\n",
      "PCT_LACCESS_CHILD10               float64\n",
      "PCT_LACCESS_SENIORS10             float64\n",
      "PCT_LACCESS_HHNV10                float64\n",
      "PCT_LACCESS_POP10_isnull          bool\n",
      "PCT_LACCESS_LOWI10_isnull         bool\n",
      "PCT_LACCESS_CHILD10_isnull        bool\n",
      "PCT_LACCESS_SENIORS10_isnull      bool\n",
      "PCT_LACCESS_HHNV10_isnull         bool\n",
      "FOODINSEC_00_02                   float64\n",
      "FOODINSEC_07_09                   float64\n",
      "FOODINSEC_10_12                   float64\n",
      "CH_FOODINSEC_02_12                float64\n",
      "CH_FOODINSEC_09_12                float64\n",
      "VLFOODSEC_00_02                   float64\n",
      "VLFOODSEC_07_09                   float64\n",
      "VLFOODSEC_10_12                   float64\n",
      "CH_VLFOODSEC_02_12                float64\n",
      "CH_VLFOODSEC_09_12                float64\n",
      "FOODINSEC_CHILD_01_07             float64\n",
      "FOODINSEC_CHILD_03_11             float64\n",
      "FOODINSEC_00_02_isnull            bool\n",
      "FOODINSEC_07_09_isnull            bool\n",
      "FOODINSEC_10_12_isnull            bool\n",
      "CH_FOODINSEC_02_12_isnull         bool\n",
      "CH_FOODINSEC_09_12_isnull         bool\n",
      "VLFOODSEC_00_02_isnull            bool\n",
      "VLFOODSEC_07_09_isnull            bool\n",
      "VLFOODSEC_10_12_isnull            bool\n",
      "CH_VLFOODSEC_02_12_isnull         bool\n",
      "CH_VLFOODSEC_09_12_isnull         bool\n",
      "FOODINSEC_CHILD_01_07_isnull      bool\n",
      "FOODINSEC_CHILD_03_11_isnull      bool\n",
      "PCT_LOCLFARM07                    float64\n",
      "PCT_LOCLSALE07                    float64\n",
      "PC_DIRSALES07                     float64\n",
      "FMRKT09                           int64\n",
      "FMRKT13                           int64\n",
      "PCH_FMRKT_09_13                   float64\n",
      "FMRKTPTH09                        float64\n",
      "FMRKTPTH13                        float64\n",
      "PCH_FMRKTPTH_09_13                float64\n",
      "PCT_FMRKT_SNAP13                  int64\n",
      "PCT_FMRKT_WIC13                   float64\n",
      "PCT_FMRKT_WICCASH13               float64\n",
      "PCT_FMRKT_SFMNP13                 int64\n",
      "PCT_FRMKT_FRVEG13                 float64\n",
      "PCT_FRMKT_ANMLPROD13              float64\n",
      "PCT_FMRKT_OTHER13                 float64\n",
      "VEG_FARMS07                       int64\n",
      "VEG_ACRES07                       int64\n",
      "VEG_ACRESPTH07                    float64\n",
      "FRESHVEG_FARMS07                  int64\n",
      "FRESHVEG_ACRES07                  int64\n",
      "FRESHVEG_ACRESPTH07               float64\n",
      "ORCHARD_FARMS07                   int64\n",
      "ORCHARD_ACRES07                   int64\n",
      "ORCHARD_ACRESPTH07                float64\n",
      "BERRY_FARMS07                     int64\n",
      "BERRY_ACRES07                     int64\n",
      "BERRY_ACRESPTH07                  float64\n",
      "SLHOUSE07                         int64\n",
      "GHVEG_FARMS07                     int64\n",
      "GHVEG_SQFT07                      int64\n",
      "GHVEG_SQFTPTH07                   float64\n",
      "FOODHUB12                         int64\n",
      "CSA07                             int64\n",
      "AGRITRSM_OPS07                    int64\n",
      "AGRITRSM_RCT07                    int64\n",
      "FARM_TO_SCHOOL                    int64\n",
      "PCT_LOCLFARM07_isnull             bool\n",
      "PCT_LOCLSALE07_isnull             bool\n",
      "PC_DIRSALES07_isnull              bool\n",
      "FMRKT09_isnull                    bool\n",
      "FMRKT13_isnull                    bool\n",
      "PCH_FMRKT_09_13_isnull            bool\n",
      "FMRKTPTH09_isnull                 bool\n",
      "FMRKTPTH13_isnull                 bool\n",
      "PCH_FMRKTPTH_09_13_isnull         bool\n",
      "PCT_FMRKT_SNAP13_isnull           bool\n",
      "PCT_FMRKT_WIC13_isnull            bool\n",
      "PCT_FMRKT_WICCASH13_isnull        bool\n",
      "PCT_FMRKT_SFMNP13_isnull          bool\n",
      "PCT_FRMKT_FRVEG13_isnull          bool\n",
      "PCT_FRMKT_ANMLPROD13_isnull       bool\n",
      "PCT_FMRKT_OTHER13_isnull          bool\n",
      "VEG_FARMS07_isnull                bool\n",
      "VEG_ACRES07_isnull                bool\n",
      "VEG_ACRESPTH07_isnull             bool\n",
      "FRESHVEG_FARMS07_isnull           bool\n",
      "FRESHVEG_ACRES07_isnull           bool\n",
      "FRESHVEG_ACRESPTH07_isnull        bool\n",
      "ORCHARD_FARMS07_isnull            bool\n",
      "ORCHARD_ACRES07_isnull            bool\n",
      "ORCHARD_ACRESPTH07_isnull         bool\n",
      "BERRY_FARMS07_isnull              bool\n",
      "BERRY_ACRES07_isnull              bool\n",
      "BERRY_ACRESPTH07_isnull           bool\n",
      "SLHOUSE07_isnull                  bool\n",
      "GHVEG_FARMS07_isnull              bool\n",
      "GHVEG_SQFT07_isnull               bool\n",
      "GHVEG_SQFTPTH07_isnull            bool\n",
      "FOODHUB12_isnull                  bool\n",
      "CSA07_isnull                      bool\n",
      "AGRITRSM_OPS07_isnull             bool\n",
      "AGRITRSM_RCT07_isnull             bool\n",
      "FARM_TO_SCHOOL_isnull             bool\n",
      "PCT_DIABETES_ADULTS09             float64\n",
      "PCT_DIABETES_ADULTS10             float64\n",
      "PCT_OBESE_ADULTS09                float64\n",
      "PCT_OBESE_ADULTS10                float64\n",
      "PCT_OBESE_ADULTS13                float64\n",
      "PCT_OBESE_CHILD08                 float64\n",
      "PCT_OBESE_CHILD11                 float64\n",
      "PCH_OBESE_CHILD_08_11             float64\n",
      "PCT_HSPA09                        float64\n",
      "RECFAC07                          int64\n",
      "RECFAC12                          int64\n",
      "PCH_RECFAC_07_12                  float64\n",
      "RECFACPTH07                       float64\n",
      "RECFACPTH12                       float64\n",
      "PCH_RECFACPTH_07_12               float64\n",
      "NATAMEN                           int64\n",
      "PCT_OBESE_CHILD08_isnull          bool\n",
      "PCT_OBESE_CHILD11_isnull          bool\n",
      "PCH_OBESE_CHILD_08_11_isnull      bool\n",
      "PCT_HSPA09_isnull                 bool\n",
      "PCH_RECFAC_07_12_isnull           bool\n",
      "PCH_RECFACPTH_07_12_isnull        bool\n",
      "NATAMEN_isnull                    bool\n",
      "PERPOV10                          int64\n",
      "CHILDPOVRATE10                    float64\n",
      "PERCHLDPOV10                      int64\n",
      "METRO13                           int64\n",
      "POPLOSS00                         int64\n",
      "avgAnnCount_sqrd                  float64\n",
      "medIncome_sqrd                    int64\n",
      "popEst2015_sqrd                   float64\n",
      "povertyPercent_log                float64\n",
      "studyPerCap_sqrd                  float64\n",
      "MedianAge_log                     float64\n",
      "MedianAgeFemale_sqrd              float64\n",
      "PercentMarried_log                float64\n",
      "PctEmployed16_Over_log            float64\n",
      "PctUnemployed16_Over_sqrd         float64\n",
      "PctPrivateCoverage_log            float64\n",
      "PctPrivateCoverage_sqrd           float64\n",
      "PctEmpPrivCoverage_log            float64\n",
      "PctPublicCoverageAlone_log        float64\n",
      "BirthRate_sqrd                    float64\n",
      "INTPTLONG_sqrd                    float64\n",
      "onc_min_distsl2_sqrd              float64\n",
      "city_min_distsl1_log              float64\n",
      "PCT_LACCESS_POP10_sqrd            float64\n",
      "PCT_LACCESS_HHNV10_sqrd           float64\n",
      "PC_DIRSALES07_sqrd                float64\n",
      "PCT_OBESE_ADULTS13_log            float64\n",
      "dtypes: bool(66), float64(144), int64(40)\n",
      "memory usage: 4.5+ MB\n"
     ]
    }
   ],
   "source": [
    "df.info(verbose=True)"
   ]
  },
  {
   "cell_type": "code",
   "execution_count": 8,
   "metadata": {
    "scrolled": true
   },
   "outputs": [
    {
     "data": {
      "text/plain": [
       "LinearRegression(copy_X=True, fit_intercept=True, n_jobs=None,\n",
       "         normalize=False)"
      ]
     },
     "execution_count": 8,
     "metadata": {},
     "output_type": "execute_result"
    }
   ],
   "source": [
    "lr = linear_model.LinearRegression()\n",
    "lr"
   ]
  },
  {
   "cell_type": "code",
   "execution_count": 9,
   "metadata": {},
   "outputs": [],
   "source": [
    "y = df['TARGET_deathRate']"
   ]
  },
  {
   "cell_type": "code",
   "execution_count": 10,
   "metadata": {},
   "outputs": [],
   "source": [
    "target_name = ['TARGET_deathRate']\n",
    "X = df[[cn for cn in df.columns if cn not in target_name]]"
   ]
  },
  {
   "cell_type": "code",
   "execution_count": 11,
   "metadata": {},
   "outputs": [
    {
     "data": {
      "text/plain": [
       "LinearRegression(copy_X=True, fit_intercept=True, n_jobs=None,\n",
       "         normalize=False)"
      ]
     },
     "execution_count": 11,
     "metadata": {},
     "output_type": "execute_result"
    }
   ],
   "source": [
    "lr.fit(X, y)"
   ]
  },
  {
   "cell_type": "code",
   "execution_count": 12,
   "metadata": {},
   "outputs": [
    {
     "data": {
      "text/plain": [
       "0.6201550922287257"
      ]
     },
     "execution_count": 12,
     "metadata": {},
     "output_type": "execute_result"
    }
   ],
   "source": [
    "lr.score(X, y)"
   ]
  },
  {
   "cell_type": "code",
   "execution_count": 13,
   "metadata": {},
   "outputs": [],
   "source": [
    "X_train, X_test, y_train, y_test = train_test_split(X, y, test_size=0.2, random_state=42)"
   ]
  },
  {
   "cell_type": "code",
   "execution_count": 14,
   "metadata": {},
   "outputs": [
    {
     "data": {
      "text/plain": [
       "LinearRegression(copy_X=True, fit_intercept=True, n_jobs=None,\n",
       "         normalize=False)"
      ]
     },
     "execution_count": 14,
     "metadata": {},
     "output_type": "execute_result"
    }
   ],
   "source": [
    "lr.fit(X_train, y_train)"
   ]
  },
  {
   "cell_type": "code",
   "execution_count": 15,
   "metadata": {},
   "outputs": [
    {
     "data": {
      "text/plain": [
       "0.617863041290833"
      ]
     },
     "execution_count": 15,
     "metadata": {},
     "output_type": "execute_result"
    }
   ],
   "source": [
    "lr.score(X_train, y_train)"
   ]
  },
  {
   "cell_type": "code",
   "execution_count": 16,
   "metadata": {
    "scrolled": true
   },
   "outputs": [
    {
     "data": {
      "text/plain": [
       "array([181.84635798, 173.40860156, 162.01745513, 174.72161957,\n",
       "       172.67542944, 190.97351859, 181.79930301, 160.60380088,\n",
       "       169.51255889, 176.87085812, 181.98332179, 205.27353373,\n",
       "       159.2721136 , 155.44943569, 219.49547146, 118.66454644,\n",
       "       193.10246756, 203.09106432, 201.01861605, 188.6615422 ,\n",
       "       169.55718896, 150.36235791, 185.06049798, 161.90710709,\n",
       "       166.08653812, 185.06290631, 173.42361325, 161.46306453,\n",
       "       150.66828992, 169.16704792, 220.60185612, 186.99026417,\n",
       "       152.21279829, 179.34842636, 170.80135937])"
      ]
     },
     "execution_count": 16,
     "metadata": {},
     "output_type": "execute_result"
    }
   ],
   "source": [
    "y_pred = lr.predict(X_test)\n",
    "y_pred[0:35]"
   ]
  },
  {
   "cell_type": "markdown",
   "metadata": {},
   "source": [
    "score we care about "
   ]
  },
  {
   "cell_type": "code",
   "execution_count": 20,
   "metadata": {
    "scrolled": true
   },
   "outputs": [
    {
     "data": {
      "text/plain": [
       "0.6053656794304265"
      ]
     },
     "execution_count": 20,
     "metadata": {},
     "output_type": "execute_result"
    }
   ],
   "source": [
    "lr.score(X_test, y_test)"
   ]
  },
  {
   "cell_type": "code",
   "execution_count": 18,
   "metadata": {},
   "outputs": [
    {
     "data": {
      "text/plain": [
       "array([0.4743376 , 0.55834286, 0.52709064, 0.42484742, 0.41944285])"
      ]
     },
     "execution_count": 18,
     "metadata": {},
     "output_type": "execute_result"
    }
   ],
   "source": [
    "#crossvalscore\n",
    "cv_scores_train = cross_val_score(lr, X_train, y_train, cv=5)\n",
    "cv_scores_train"
   ]
  },
  {
   "cell_type": "code",
   "execution_count": 19,
   "metadata": {},
   "outputs": [
    {
     "data": {
      "text/plain": [
       "array([-0.15685264,  0.10523607,  0.37793025, -2.09356902,  0.39421308])"
      ]
     },
     "execution_count": 19,
     "metadata": {},
     "output_type": "execute_result"
    }
   ],
   "source": [
    "cv_scores_test = cross_val_score(lr, X_test, y_test, cv=5)\n",
    "cv_scores_test"
   ]
  },
  {
   "cell_type": "code",
   "execution_count": null,
   "metadata": {},
   "outputs": [],
   "source": [
    "#hyperparameters for linear regression: ridge and LASSO?"
   ]
  },
  {
   "cell_type": "code",
   "execution_count": null,
   "metadata": {},
   "outputs": [],
   "source": [
    "#SGDRegressor(loss='huber')"
   ]
  },
  {
   "cell_type": "code",
   "execution_count": null,
   "metadata": {},
   "outputs": [],
   "source": [
    "#deep learning"
   ]
  },
  {
   "cell_type": "code",
   "execution_count": null,
   "metadata": {},
   "outputs": [],
   "source": [
    "#random forest?"
   ]
  },
  {
   "cell_type": "code",
   "execution_count": null,
   "metadata": {},
   "outputs": [],
   "source": [
    "#GBM?"
   ]
  },
  {
   "cell_type": "code",
   "execution_count": null,
   "metadata": {},
   "outputs": [],
   "source": [
    "#coefficients from the linear regression model and SGD, possibly?"
   ]
  },
  {
   "cell_type": "code",
   "execution_count": null,
   "metadata": {},
   "outputs": [],
   "source": [
    "#nodes with heaviest heights for deep learning?"
   ]
  }
 ],
 "metadata": {
  "kernelspec": {
   "display_name": "Python 3",
   "language": "python",
   "name": "python3"
  },
  "language_info": {
   "codemirror_mode": {
    "name": "ipython",
    "version": 3
   },
   "file_extension": ".py",
   "mimetype": "text/x-python",
   "name": "python",
   "nbconvert_exporter": "python",
   "pygments_lexer": "ipython3",
   "version": "3.7.3"
  }
 },
 "nbformat": 4,
 "nbformat_minor": 2
}
