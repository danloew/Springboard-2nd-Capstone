{
 "cells": [
  {
   "cell_type": "markdown",
   "metadata": {},
   "source": [
    "# Exploration of Socioeconomic Influences on Cancer Mortality"
   ]
  },
  {
   "cell_type": "markdown",
   "metadata": {},
   "source": [
    "# Hypothesis Testing notebook"
   ]
  },
  {
   "cell_type": "code",
   "execution_count": 1,
   "metadata": {},
   "outputs": [],
   "source": [
    "import numpy as np\n",
    "import pandas as pd\n",
    "import matplotlib.pyplot as plt\n",
    "import scipy.stats\n",
    "import statsmodels\n",
    "from numpy.random import seed"
   ]
  },
  {
   "cell_type": "markdown",
   "metadata": {},
   "source": [
    "The focus of this sub-report is to run hypothesis tests on a series of null hypotheses about whether the cancer mortality rates seen in different types of counties is due to chance. The null hypotheses will be evaluated using the t-test. The null hypotheses tested will be:\n",
    "\n",
    "- That the differing cancer mortality rates seen in majority White counties and majority Black counties is due to chance.\n",
    "\n",
    "- That the differing cancer mortality rates seen in counties where the majority of the populace has private health insurance and counties where the majority of the populace has public health insurance is due to chance.\n",
    "\n",
    "- That the differing cancer mortality rates seen in counties with a high percentage of the populace who is unemployed and counties with a high percentage of the populace who is employed is due to chance. A \"high percentage\" is defined as being above the median of the unemployment feature: 'PctUnemployed16_Over'.\n",
    "\n",
    "- That the differing cancer mortality rates seen in counties where the median income of the populace is below the national median income and counties where the median income of the populace is above the national median income is due to chance.\n",
    "\n",
    "- That the differing cancer mortality rates seen in counties where a high percentage of the adult populace's highest level of education is a high school diploma and counties where a high percentage of the adult populace's highest level of education is a college degree is due to chance. A \"high percentage\" is defined as being above the median of the individual feature - the percentage of county residents ages 25 and over whose highest education attained is a high school diploma or the percentage of county residents ages 25 and over whose highest education attained is a Bachelor's Degree"
   ]
  },
  {
   "cell_type": "markdown",
   "metadata": {},
   "source": [
    "The DataFrame used in this hypothesis testing stage is the full version that includes the original data.world file on cancer mortality and the other data sources that were merged into this file, along with the logarithmic and exponential transformations of select features that increased the overall OLS linear regression model's accuracy."
   ]
  },
  {
   "cell_type": "code",
   "execution_count": 2,
   "metadata": {
    "scrolled": true
   },
   "outputs": [],
   "source": [
    "cancer = pd.read_csv('cancer_ml6.csv', index_col=['Geography'])"
   ]
  },
  {
   "cell_type": "code",
   "execution_count": 3,
   "metadata": {},
   "outputs": [
    {
     "data": {
      "text/plain": [
       "(3047, 329)"
      ]
     },
     "execution_count": 3,
     "metadata": {},
     "output_type": "execute_result"
    }
   ],
   "source": [
    "cancer.shape"
   ]
  },
  {
   "cell_type": "markdown",
   "metadata": {},
   "source": [
    "## First Null Hypothesis: Majority White and Black Counties"
   ]
  },
  {
   "cell_type": "markdown",
   "metadata": {},
   "source": [
    "The first null hypothesis states that the differing cancer mortality rates seen in majority White counties and majority Black counties is due to random chance. Separate DataFrames are created for each of these groups."
   ]
  },
  {
   "cell_type": "code",
   "execution_count": 4,
   "metadata": {},
   "outputs": [
    {
     "data": {
      "text/plain": [
       "2873"
      ]
     },
     "execution_count": 4,
     "metadata": {},
     "output_type": "execute_result"
    }
   ],
   "source": [
    "white = cancer[cancer.PctWhite > 50]\n",
    "len(white)"
   ]
  },
  {
   "cell_type": "code",
   "execution_count": 5,
   "metadata": {},
   "outputs": [
    {
     "data": {
      "text/plain": [
       "96"
      ]
     },
     "execution_count": 5,
     "metadata": {},
     "output_type": "execute_result"
    }
   ],
   "source": [
    "black = cancer[cancer.PctBlack > 50]\n",
    "len(black)"
   ]
  },
  {
   "cell_type": "markdown",
   "metadata": {},
   "source": [
    "For the majority White group, the necessary statistics for running hypothesis tests are assigned to objects below. First, the N, or sample size, is assigned to 'n_white'."
   ]
  },
  {
   "cell_type": "code",
   "execution_count": 6,
   "metadata": {},
   "outputs": [
    {
     "data": {
      "text/plain": [
       "2873"
      ]
     },
     "execution_count": 6,
     "metadata": {},
     "output_type": "execute_result"
    }
   ],
   "source": [
    "n_white = len(white)\n",
    "n_white"
   ]
  },
  {
   "cell_type": "markdown",
   "metadata": {},
   "source": [
    "Second, the mean value of cancer mortality for majority White counties is computed."
   ]
  },
  {
   "cell_type": "code",
   "execution_count": 7,
   "metadata": {},
   "outputs": [
    {
     "data": {
      "text/plain": [
       "177.59474416985736"
      ]
     },
     "execution_count": 7,
     "metadata": {},
     "output_type": "execute_result"
    }
   ],
   "source": [
    "white_cancer_mortality = np.mean(white['TARGET_deathRate'])\n",
    "white_cancer_mortality"
   ]
  },
  {
   "cell_type": "markdown",
   "metadata": {},
   "source": [
    "The standard deviation of the cancer mortality feature for majority White counties is assigned to 'white_std', for use in the t-test function that will be run below."
   ]
  },
  {
   "cell_type": "code",
   "execution_count": 8,
   "metadata": {},
   "outputs": [
    {
     "data": {
      "text/plain": [
       "27.155587670795196"
      ]
     },
     "execution_count": 8,
     "metadata": {},
     "output_type": "execute_result"
    }
   ],
   "source": [
    "white_std = np.std(white['TARGET_deathRate'])\n",
    "white_std"
   ]
  },
  {
   "cell_type": "markdown",
   "metadata": {},
   "source": [
    "For the majority Black group, the necessary statistics for running hypothesis tests are assigned to objects below. First, the N, or sample size is assigned to 'n_black'."
   ]
  },
  {
   "cell_type": "code",
   "execution_count": 9,
   "metadata": {},
   "outputs": [
    {
     "data": {
      "text/plain": [
       "96"
      ]
     },
     "execution_count": 9,
     "metadata": {},
     "output_type": "execute_result"
    }
   ],
   "source": [
    "n_black = len(black)\n",
    "n_black"
   ]
  },
  {
   "cell_type": "markdown",
   "metadata": {},
   "source": [
    "Second, the mean value of cancer mortality for majority Black counties is computed. This is 12% higher than for majority white counties."
   ]
  },
  {
   "cell_type": "code",
   "execution_count": 10,
   "metadata": {},
   "outputs": [
    {
     "data": {
      "text/plain": [
       "202.10416666666677"
      ]
     },
     "execution_count": 10,
     "metadata": {},
     "output_type": "execute_result"
    }
   ],
   "source": [
    "black_cancer_mortality = np.mean(black['TARGET_deathRate'])\n",
    "black_cancer_mortality"
   ]
  },
  {
   "cell_type": "markdown",
   "metadata": {},
   "source": [
    "The standard deviation of cancer mortality for majority Black counties is assigned to 'black_std', for use in the t-test function that will be run below."
   ]
  },
  {
   "cell_type": "code",
   "execution_count": 11,
   "metadata": {},
   "outputs": [
    {
     "data": {
      "text/plain": [
       "28.190209280981847"
      ]
     },
     "execution_count": 11,
     "metadata": {},
     "output_type": "execute_result"
    }
   ],
   "source": [
    "black_std = np.std(black['TARGET_deathRate'])\n",
    "black_std"
   ]
  },
  {
   "cell_type": "markdown",
   "metadata": {},
   "source": [
    "The t-test is run using the mean and standard deviation of the cancer mortality feature, along with the sample size, of the majority White and majority Black counties. The t-score is approximately 8.69 and the p-value is 6e-18."
   ]
  },
  {
   "cell_type": "code",
   "execution_count": 12,
   "metadata": {
    "scrolled": true
   },
   "outputs": [
    {
     "data": {
      "text/plain": [
       "Ttest_indResult(statistic=8.688263418553845, pvalue=5.97504172600573e-18)"
      ]
     },
     "execution_count": 12,
     "metadata": {},
     "output_type": "execute_result"
    }
   ],
   "source": [
    "scipy.stats.ttest_ind_from_stats(black_cancer_mortality, black_std, n_black, \n",
    "                                 white_cancer_mortality, white_std, n_white)"
   ]
  },
  {
   "cell_type": "markdown",
   "metadata": {},
   "source": [
    "The first null hypothesis is rejected. Although causality and the identification of confounding variables is outside the scope of this analysis, one cannot say that the difference in cancer mortality rates seen in majority Black and majority White counties is due to random chance."
   ]
  },
  {
   "cell_type": "markdown",
   "metadata": {},
   "source": [
    "## Second Hypothesis: Majority Private Health Insurance and Majority Public Health Insurance"
   ]
  },
  {
   "cell_type": "markdown",
   "metadata": {},
   "source": [
    "The second null hypothesis states that the differing cancer mortality rates seen in counties where the majority of the populace has private health insurance and counties where the majority of the populace has public  health insurance is due to random chance. Separate DataFrames are created for each of these groups."
   ]
  },
  {
   "cell_type": "code",
   "execution_count": 13,
   "metadata": {},
   "outputs": [
    {
     "data": {
      "text/plain": [
       "2752"
      ]
     },
     "execution_count": 13,
     "metadata": {},
     "output_type": "execute_result"
    }
   ],
   "source": [
    "private = cancer[cancer.PctPrivateCoverage > 50]\n",
    "len(private)"
   ]
  },
  {
   "cell_type": "code",
   "execution_count": 14,
   "metadata": {},
   "outputs": [
    {
     "data": {
      "text/plain": [
       "124"
      ]
     },
     "execution_count": 14,
     "metadata": {},
     "output_type": "execute_result"
    }
   ],
   "source": [
    "public = cancer[cancer.PctPublicCoverage > 50]\n",
    "len(public)"
   ]
  },
  {
   "cell_type": "markdown",
   "metadata": {},
   "source": [
    "For the majority private health insurance group, the necessary statistics for running hypothesis tests are assigned to objects below. First, the N, or sample size, is assigned to 'n_private'."
   ]
  },
  {
   "cell_type": "code",
   "execution_count": 15,
   "metadata": {},
   "outputs": [
    {
     "data": {
      "text/plain": [
       "2752"
      ]
     },
     "execution_count": 15,
     "metadata": {},
     "output_type": "execute_result"
    }
   ],
   "source": [
    "n_private = len(private)\n",
    "n_private"
   ]
  },
  {
   "cell_type": "markdown",
   "metadata": {},
   "source": [
    "Second, the mean value of cancer mortality for the majority private health insurance group is computed."
   ]
  },
  {
   "cell_type": "code",
   "execution_count": 16,
   "metadata": {},
   "outputs": [
    {
     "data": {
      "text/plain": [
       "177.03771802325568"
      ]
     },
     "execution_count": 16,
     "metadata": {},
     "output_type": "execute_result"
    }
   ],
   "source": [
    "private_cancer_mortality = np.mean(private['TARGET_deathRate'])\n",
    "private_cancer_mortality"
   ]
  },
  {
   "cell_type": "markdown",
   "metadata": {},
   "source": [
    "The standard deviation of cancer mortality for majority private health insurance counties is assigned to 'private_std', for use in the t-test function that will be run below."
   ]
  },
  {
   "cell_type": "code",
   "execution_count": 17,
   "metadata": {},
   "outputs": [
    {
     "data": {
      "text/plain": [
       "25.838121011576288"
      ]
     },
     "execution_count": 17,
     "metadata": {},
     "output_type": "execute_result"
    }
   ],
   "source": [
    "private_std = np.std(private['TARGET_deathRate'])\n",
    "private_std"
   ]
  },
  {
   "cell_type": "markdown",
   "metadata": {},
   "source": [
    "For the majority public health insurance group, the necessary statistics for running hypothesis tests are assigned to objects below. First, the N, or sample size is assigned to 'n_public'."
   ]
  },
  {
   "cell_type": "code",
   "execution_count": 18,
   "metadata": {},
   "outputs": [
    {
     "data": {
      "text/plain": [
       "124"
      ]
     },
     "execution_count": 18,
     "metadata": {},
     "output_type": "execute_result"
    }
   ],
   "source": [
    "n_public = len(public)\n",
    "n_public"
   ]
  },
  {
   "cell_type": "markdown",
   "metadata": {},
   "source": [
    "Second, the mean value of cancer mortality for the majority public health insurance group is computed."
   ]
  },
  {
   "cell_type": "code",
   "execution_count": 19,
   "metadata": {},
   "outputs": [
    {
     "data": {
      "text/plain": [
       "199.166129032258"
      ]
     },
     "execution_count": 19,
     "metadata": {},
     "output_type": "execute_result"
    }
   ],
   "source": [
    "public_cancer_mortality = np.mean(public['TARGET_deathRate'])\n",
    "public_cancer_mortality"
   ]
  },
  {
   "cell_type": "markdown",
   "metadata": {},
   "source": [
    "The standard deviation of cancer mortality for majority public health insurance counties is assigned to 'public_std', for use in the t-test function that will be run below."
   ]
  },
  {
   "cell_type": "code",
   "execution_count": 20,
   "metadata": {},
   "outputs": [
    {
     "data": {
      "text/plain": [
       "38.075372802480445"
      ]
     },
     "execution_count": 20,
     "metadata": {},
     "output_type": "execute_result"
    }
   ],
   "source": [
    "public_std = np.std(public['TARGET_deathRate'])\n",
    "public_std"
   ]
  },
  {
   "cell_type": "markdown",
   "metadata": {},
   "source": [
    "The t-test is run using the mean and standard deviation of the cancer mortality feature, along with the sample size, of the majority private health insurance group of counties and majority public health insurance group of counties. The t-score is approximately 9.1 and the p-value is 1.6e-19."
   ]
  },
  {
   "cell_type": "code",
   "execution_count": 21,
   "metadata": {
    "scrolled": true
   },
   "outputs": [
    {
     "data": {
      "text/plain": [
       "Ttest_indResult(statistic=9.103462113639981, pvalue=1.5948013698145586e-19)"
      ]
     },
     "execution_count": 21,
     "metadata": {},
     "output_type": "execute_result"
    }
   ],
   "source": [
    "scipy.stats.ttest_ind_from_stats(public_cancer_mortality, public_std, n_public, \n",
    "                                 private_cancer_mortality, private_std, n_private)"
   ]
  },
  {
   "cell_type": "markdown",
   "metadata": {},
   "source": [
    "The second null hypothesis is rejected. Although causality and the identification of any confounding variables is outside the scope of this analysis, one cannot say that the difference in cancer mortality rates seen in majority public health insurance counties and majority private health insurance counties is due to random chance."
   ]
  },
  {
   "cell_type": "markdown",
   "metadata": {},
   "source": [
    "## Third Hypothesis: High Rates of Employment and Unemployment"
   ]
  },
  {
   "cell_type": "markdown",
   "metadata": {},
   "source": [
    "The third null hypothesis states that the differing cancer mortality rates seen in counties with a high percentage of the populace who is unemployed and counties with a high percentage of the populace who is employed is due to chance. A \"high percentage\" is defined as being above the median of the unemployment feature: 'PctUnemployed16_Over'. Separate DataFrames are created for each of these groups."
   ]
  },
  {
   "cell_type": "code",
   "execution_count": 22,
   "metadata": {},
   "outputs": [
    {
     "data": {
      "text/plain": [
       "7.6"
      ]
     },
     "execution_count": 22,
     "metadata": {},
     "output_type": "execute_result"
    }
   ],
   "source": [
    "unemployed_median = cancer['PctUnemployed16_Over'].median()\n",
    "unemployed_median"
   ]
  },
  {
   "cell_type": "code",
   "execution_count": 23,
   "metadata": {},
   "outputs": [
    {
     "data": {
      "text/plain": [
       "1488"
      ]
     },
     "execution_count": 23,
     "metadata": {},
     "output_type": "execute_result"
    }
   ],
   "source": [
    "employed = cancer[cancer.PctUnemployed16_Over > unemployed_median]\n",
    "len(employed)"
   ]
  },
  {
   "cell_type": "code",
   "execution_count": 24,
   "metadata": {},
   "outputs": [
    {
     "data": {
      "text/plain": [
       "1517"
      ]
     },
     "execution_count": 24,
     "metadata": {},
     "output_type": "execute_result"
    }
   ],
   "source": [
    "unemployed = cancer[cancer.PctUnemployed16_Over < unemployed_median]\n",
    "len(unemployed)"
   ]
  },
  {
   "cell_type": "markdown",
   "metadata": {},
   "source": [
    "For the low unemployment group of counties, the necessary statistics for running hypothesis tests are assigned to objects below. First, the N, or sample size, is assigned to 'n_employed'."
   ]
  },
  {
   "cell_type": "code",
   "execution_count": 25,
   "metadata": {},
   "outputs": [
    {
     "data": {
      "text/plain": [
       "1488"
      ]
     },
     "execution_count": 25,
     "metadata": {},
     "output_type": "execute_result"
    }
   ],
   "source": [
    "n_employed = len(employed)\n",
    "n_employed"
   ]
  },
  {
   "cell_type": "markdown",
   "metadata": {},
   "source": [
    "Second, the mean value of cancer mortality for the low unemployment group is computed."
   ]
  },
  {
   "cell_type": "code",
   "execution_count": 26,
   "metadata": {},
   "outputs": [
    {
     "data": {
      "text/plain": [
       "188.09240591397838"
      ]
     },
     "execution_count": 26,
     "metadata": {},
     "output_type": "execute_result"
    }
   ],
   "source": [
    "employed_cancer_mortality = np.mean(employed['TARGET_deathRate'])\n",
    "employed_cancer_mortality"
   ]
  },
  {
   "cell_type": "markdown",
   "metadata": {},
   "source": [
    "The standard deviation of cancer mortality for the low unemployment group is assigned to 'employed_std', for use in the t-test function that will be run below."
   ]
  },
  {
   "cell_type": "code",
   "execution_count": 27,
   "metadata": {},
   "outputs": [
    {
     "data": {
      "text/plain": [
       "27.74457837412228"
      ]
     },
     "execution_count": 27,
     "metadata": {},
     "output_type": "execute_result"
    }
   ],
   "source": [
    "employed_std = np.std(employed['TARGET_deathRate'])\n",
    "employed_std"
   ]
  },
  {
   "cell_type": "markdown",
   "metadata": {},
   "source": [
    "For the high unemployment group, the necessary statistics for running hypothesis tests are assigned to objects below. First, the N, or sample size is assigned to 'n_unemployed'."
   ]
  },
  {
   "cell_type": "code",
   "execution_count": 28,
   "metadata": {},
   "outputs": [
    {
     "data": {
      "text/plain": [
       "1517"
      ]
     },
     "execution_count": 28,
     "metadata": {},
     "output_type": "execute_result"
    }
   ],
   "source": [
    "n_unemployed = len(unemployed)\n",
    "n_unemployed"
   ]
  },
  {
   "cell_type": "markdown",
   "metadata": {},
   "source": [
    "Second, the mean value of cancer mortality for the high unemployment group is computed."
   ]
  },
  {
   "cell_type": "code",
   "execution_count": 29,
   "metadata": {},
   "outputs": [
    {
     "data": {
      "text/plain": [
       "169.37600527356634"
      ]
     },
     "execution_count": 29,
     "metadata": {},
     "output_type": "execute_result"
    }
   ],
   "source": [
    "unemployed_cancer_mortality = np.mean(unemployed['TARGET_deathRate'])\n",
    "unemployed_cancer_mortality"
   ]
  },
  {
   "cell_type": "markdown",
   "metadata": {},
   "source": [
    "The standard deviation of cancer mortality for the high unemployment group is assigned to 'unemployed_std', for use in the t-test function that will be run below."
   ]
  },
  {
   "cell_type": "code",
   "execution_count": 30,
   "metadata": {},
   "outputs": [
    {
     "data": {
      "text/plain": [
       "24.6406806342136"
      ]
     },
     "execution_count": 30,
     "metadata": {},
     "output_type": "execute_result"
    }
   ],
   "source": [
    "unemployed_std = np.std(unemployed['TARGET_deathRate'])\n",
    "unemployed_std"
   ]
  },
  {
   "cell_type": "markdown",
   "metadata": {},
   "source": [
    "The t-test is run using the mean and standard deviation of the cancer mortality feature, along with the sample size, of the low and high unemployment counties. The t-score is approximately 19.6 and the p-value is 2.7e-80."
   ]
  },
  {
   "cell_type": "code",
   "execution_count": 33,
   "metadata": {
    "scrolled": true
   },
   "outputs": [
    {
     "data": {
      "text/plain": [
       "Ttest_indResult(statistic=19.561493672569732, pvalue=2.6718069354190553e-80)"
      ]
     },
     "execution_count": 33,
     "metadata": {},
     "output_type": "execute_result"
    }
   ],
   "source": [
    "scipy.stats.ttest_ind_from_stats(employed_cancer_mortality, employed_std, n_employed, \n",
    "                                 unemployed_cancer_mortality, unemployed_std, n_unemployed)"
   ]
  },
  {
   "cell_type": "markdown",
   "metadata": {},
   "source": [
    "The third null hypothesis is rejected. Although causality and the identification of any confounding variables is outside the scope of this analysis, one cannot say that the difference in cancer mortality rates seen in low unemployment and high unemployment counties is due to random chance."
   ]
  },
  {
   "cell_type": "markdown",
   "metadata": {},
   "source": [
    "## Fourth Hypothesis: Low Median Income and High Median Income Counties"
   ]
  },
  {
   "cell_type": "markdown",
   "metadata": {},
   "source": [
    "The fourth null hypothesis states that the differing cancer mortality rates seen in counties with low median income and counties with high median income is due to random chance. Separate DataFrames are created for each of these groups."
   ]
  },
  {
   "cell_type": "code",
   "execution_count": 34,
   "metadata": {},
   "outputs": [
    {
     "data": {
      "text/plain": [
       "45207.0"
      ]
     },
     "execution_count": 34,
     "metadata": {},
     "output_type": "execute_result"
    }
   ],
   "source": [
    "median_medIncome = np.median(cancer['medIncome'])\n",
    "median_medIncome"
   ]
  },
  {
   "cell_type": "code",
   "execution_count": 35,
   "metadata": {},
   "outputs": [
    {
     "data": {
      "text/plain": [
       "1523"
      ]
     },
     "execution_count": 35,
     "metadata": {},
     "output_type": "execute_result"
    }
   ],
   "source": [
    "low_income = cancer[cancer.medIncome < median_medIncome]\n",
    "len(low_income)"
   ]
  },
  {
   "cell_type": "code",
   "execution_count": 36,
   "metadata": {},
   "outputs": [
    {
     "data": {
      "text/plain": [
       "1523"
      ]
     },
     "execution_count": 36,
     "metadata": {},
     "output_type": "execute_result"
    }
   ],
   "source": [
    "high_income = cancer[cancer.medIncome > median_medIncome]\n",
    "len(high_income)"
   ]
  },
  {
   "cell_type": "markdown",
   "metadata": {},
   "source": [
    "For the low income group of counties, the necessary statistics for running hypothesis tests are assigned to objects below. First, the N, or sample size, is assigned to 'n_low_income'."
   ]
  },
  {
   "cell_type": "code",
   "execution_count": 37,
   "metadata": {},
   "outputs": [
    {
     "data": {
      "text/plain": [
       "1523"
      ]
     },
     "execution_count": 37,
     "metadata": {},
     "output_type": "execute_result"
    }
   ],
   "source": [
    "n_low_income = len(low_income)\n",
    "n_low_income"
   ]
  },
  {
   "cell_type": "markdown",
   "metadata": {},
   "source": [
    "Second, the mean value of cancer mortality for the low income group is computed."
   ]
  },
  {
   "cell_type": "code",
   "execution_count": 38,
   "metadata": {},
   "outputs": [
    {
     "data": {
      "text/plain": [
       "188.95778069599461"
      ]
     },
     "execution_count": 38,
     "metadata": {},
     "output_type": "execute_result"
    }
   ],
   "source": [
    "low_income_cancer_mortality = np.mean(low_income['TARGET_deathRate'])\n",
    "low_income_cancer_mortality"
   ]
  },
  {
   "cell_type": "markdown",
   "metadata": {},
   "source": [
    "The standard deviation of cancer mortality for the low income group is assigned to 'low_income_std', for use in the t-test function that will be run below."
   ]
  },
  {
   "cell_type": "code",
   "execution_count": 39,
   "metadata": {},
   "outputs": [
    {
     "data": {
      "text/plain": [
       "28.56731180116208"
      ]
     },
     "execution_count": 39,
     "metadata": {},
     "output_type": "execute_result"
    }
   ],
   "source": [
    "low_income_std = np.std(low_income['TARGET_deathRate'])\n",
    "low_income_std"
   ]
  },
  {
   "cell_type": "markdown",
   "metadata": {},
   "source": [
    "For the high income group, the necessary statistics for running hypothesis tests are assigned to objects below. First, the N, or sample size is assigned to 'n_high_income'."
   ]
  },
  {
   "cell_type": "code",
   "execution_count": 40,
   "metadata": {},
   "outputs": [
    {
     "data": {
      "text/plain": [
       "1523"
      ]
     },
     "execution_count": 40,
     "metadata": {},
     "output_type": "execute_result"
    }
   ],
   "source": [
    "n_high_income = len(high_income)\n",
    "n_high_income"
   ]
  },
  {
   "cell_type": "markdown",
   "metadata": {},
   "source": [
    "Second, the mean value of cancer mortality for the high income group is computed."
   ]
  },
  {
   "cell_type": "code",
   "execution_count": 41,
   "metadata": {},
   "outputs": [
    {
     "data": {
      "text/plain": [
       "168.37327642810246"
      ]
     },
     "execution_count": 41,
     "metadata": {},
     "output_type": "execute_result"
    }
   ],
   "source": [
    "high_income_cancer_mortality = np.mean(high_income['TARGET_deathRate'])\n",
    "high_income_cancer_mortality"
   ]
  },
  {
   "cell_type": "markdown",
   "metadata": {},
   "source": [
    "The standard deviation of cancer mortality for the high income group is assigned to 'high_income_std', for use in the t-test function that will be run below."
   ]
  },
  {
   "cell_type": "code",
   "execution_count": 42,
   "metadata": {},
   "outputs": [
    {
     "data": {
      "text/plain": [
       "22.63465176462829"
      ]
     },
     "execution_count": 42,
     "metadata": {},
     "output_type": "execute_result"
    }
   ],
   "source": [
    "high_income_std = np.std(high_income['TARGET_deathRate'])\n",
    "high_income_std"
   ]
  },
  {
   "cell_type": "markdown",
   "metadata": {},
   "source": [
    "The t-test is run using the mean and standard deviation of the cancer mortality feature, along with the sample size, of the low and high income counties. The t-score is approximately 22 and the p-value is 5.2e-100."
   ]
  },
  {
   "cell_type": "code",
   "execution_count": 44,
   "metadata": {
    "scrolled": true
   },
   "outputs": [
    {
     "data": {
      "text/plain": [
       "Ttest_indResult(statistic=22.0405721116392, pvalue=5.24224060328677e-100)"
      ]
     },
     "execution_count": 44,
     "metadata": {},
     "output_type": "execute_result"
    }
   ],
   "source": [
    "scipy.stats.ttest_ind_from_stats(low_income_cancer_mortality, low_income_std, n_low_income, \n",
    "                                 high_income_cancer_mortality, high_income_std, n_high_income)"
   ]
  },
  {
   "cell_type": "markdown",
   "metadata": {},
   "source": [
    "The fourth null hypothesis is rejected. Although causality and the identification of any confounding variables is outside the scope of this analysis, one cannot say that the difference in cancer mortality rates seen in low income and high income counties is due to random chance."
   ]
  },
  {
   "cell_type": "markdown",
   "metadata": {},
   "source": [
    "## Fifth Hypothesis: High School Educated and College Educated Counties"
   ]
  },
  {
   "cell_type": "markdown",
   "metadata": {},
   "source": [
    "The fifth null hypothesis states that the differing cancer mortality rates seen in counties with a high percentage of adults whose highest level of education is a high school diploma and counties with a high percentage of adults whose highest level of education is a college degree is due to random chance. Separate DataFrames are created for each of these groups. A \"high percentage\" is defined as higher than the median of the feature - 'PctHS25_Over' or 'PctBachDeg25_Over'."
   ]
  },
  {
   "cell_type": "code",
   "execution_count": 45,
   "metadata": {},
   "outputs": [
    {
     "data": {
      "text/plain": [
       "35.3"
      ]
     },
     "execution_count": 45,
     "metadata": {},
     "output_type": "execute_result"
    }
   ],
   "source": [
    "median_hs = cancer['PctHS25_Over'].median()\n",
    "median_hs"
   ]
  },
  {
   "cell_type": "code",
   "execution_count": 47,
   "metadata": {},
   "outputs": [
    {
     "data": {
      "text/plain": [
       "1509"
      ]
     },
     "execution_count": 47,
     "metadata": {},
     "output_type": "execute_result"
    }
   ],
   "source": [
    "high_school = cancer[cancer.PctHS25_Over > median_hs]\n",
    "len(high_school)"
   ]
  },
  {
   "cell_type": "code",
   "execution_count": 48,
   "metadata": {},
   "outputs": [
    {
     "data": {
      "text/plain": [
       "12.3"
      ]
     },
     "execution_count": 48,
     "metadata": {},
     "output_type": "execute_result"
    }
   ],
   "source": [
    "median_college = cancer['PctBachDeg25_Over'].median()\n",
    "median_college"
   ]
  },
  {
   "cell_type": "code",
   "execution_count": 49,
   "metadata": {},
   "outputs": [
    {
     "data": {
      "text/plain": [
       "1516"
      ]
     },
     "execution_count": 49,
     "metadata": {},
     "output_type": "execute_result"
    }
   ],
   "source": [
    "college = cancer[cancer.PctBachDeg25_Over > median_college]\n",
    "len(college)"
   ]
  },
  {
   "cell_type": "markdown",
   "metadata": {},
   "source": [
    "For the high school counties, the necessary statistics for running hypothesis tests are assigned to objects below. First, the N, or sample size, is assigned to 'n_high_school'."
   ]
  },
  {
   "cell_type": "code",
   "execution_count": 50,
   "metadata": {},
   "outputs": [
    {
     "data": {
      "text/plain": [
       "1509"
      ]
     },
     "execution_count": 50,
     "metadata": {},
     "output_type": "execute_result"
    }
   ],
   "source": [
    "n_high_school = len(high_school)\n",
    "n_high_school"
   ]
  },
  {
   "cell_type": "markdown",
   "metadata": {},
   "source": [
    "Second, the mean value of cancer mortality for the low income group is computed."
   ]
  },
  {
   "cell_type": "code",
   "execution_count": 51,
   "metadata": {},
   "outputs": [
    {
     "data": {
      "text/plain": [
       "187.95354539430116"
      ]
     },
     "execution_count": 51,
     "metadata": {},
     "output_type": "execute_result"
    }
   ],
   "source": [
    "high_school_cancer_mortality = np.mean(high_school['TARGET_deathRate'])\n",
    "high_school_cancer_mortality"
   ]
  },
  {
   "cell_type": "markdown",
   "metadata": {},
   "source": [
    "The standard deviation of cancer mortality for the high school group is assigned to 'high_school_std', for use in the t-test function that will be run below."
   ]
  },
  {
   "cell_type": "code",
   "execution_count": 52,
   "metadata": {},
   "outputs": [
    {
     "data": {
      "text/plain": [
       "27.02209504518429"
      ]
     },
     "execution_count": 52,
     "metadata": {},
     "output_type": "execute_result"
    }
   ],
   "source": [
    "high_school_std = np.std(high_school['TARGET_deathRate'])\n",
    "high_school_std"
   ]
  },
  {
   "cell_type": "markdown",
   "metadata": {},
   "source": [
    "For the college group, the necessary statistics for running hypothesis tests are assigned to objects below. First, the N, or sample size is assigned to 'n_college'."
   ]
  },
  {
   "cell_type": "code",
   "execution_count": 53,
   "metadata": {},
   "outputs": [
    {
     "data": {
      "text/plain": [
       "1516"
      ]
     },
     "execution_count": 53,
     "metadata": {},
     "output_type": "execute_result"
    }
   ],
   "source": [
    "n_college = len(college)\n",
    "n_college"
   ]
  },
  {
   "cell_type": "markdown",
   "metadata": {},
   "source": [
    "Second, the mean value of cancer mortality for the college group is computed."
   ]
  },
  {
   "cell_type": "code",
   "execution_count": 54,
   "metadata": {},
   "outputs": [
    {
     "data": {
      "text/plain": [
       "167.61583113456462"
      ]
     },
     "execution_count": 54,
     "metadata": {},
     "output_type": "execute_result"
    }
   ],
   "source": [
    "college_cancer_mortality = np.mean(college['TARGET_deathRate'])\n",
    "college_cancer_mortality"
   ]
  },
  {
   "cell_type": "markdown",
   "metadata": {},
   "source": [
    "The standard deviation of cancer mortality for the college group is assigned to 'college_std', for use in the t-test function that will be run below."
   ]
  },
  {
   "cell_type": "code",
   "execution_count": 55,
   "metadata": {},
   "outputs": [
    {
     "data": {
      "text/plain": [
       "23.55942355045072"
      ]
     },
     "execution_count": 55,
     "metadata": {},
     "output_type": "execute_result"
    }
   ],
   "source": [
    "college_std = np.std(college['TARGET_deathRate'])\n",
    "college_std"
   ]
  },
  {
   "cell_type": "markdown",
   "metadata": {},
   "source": [
    "The t-test is run using the mean and standard deviation of the cancer mortality feature, along with the sample size, of the counties with a high percentage of adults whose highest level of education is a high school diploma and counties with a high percentage of adults whose highest level of education is a college diploma. The t-score is approximately 22.2 and the p-value is 3.6e-100."
   ]
  },
  {
   "cell_type": "code",
   "execution_count": 56,
   "metadata": {
    "scrolled": true
   },
   "outputs": [
    {
     "data": {
      "text/plain": [
       "Ttest_indResult(statistic=22.066074333060843, pvalue=3.604126593783376e-100)"
      ]
     },
     "execution_count": 56,
     "metadata": {},
     "output_type": "execute_result"
    }
   ],
   "source": [
    "scipy.stats.ttest_ind_from_stats(high_school_cancer_mortality, high_school_std, n_high_school, \n",
    "                                 college_cancer_mortality, college_std, n_college)"
   ]
  },
  {
   "cell_type": "markdown",
   "metadata": {},
   "source": [
    "The fifth null hypothesis is rejected. Although causality and the identification of any confounding variables is outside the scope of this analysis, one cannot say that the difference in cancer mortality rates seen in \"high school\" and \"college\" counties are due to random chance."
   ]
  },
  {
   "cell_type": "markdown",
   "metadata": {},
   "source": [
    "A clear image emerges from these hypothesis tests: that the socioeconomic differences seen in cancer mortality are real and cannot be ascribed to random chance. Exploring the matrix of confounding variables that influence these differences comprise rich ground for future research which could serve as a foundation for meaningful policy changes. The machine learning models conducted in the next section will serve to shed light on the differential influence of the socioeconomic variables that influenced cancer mortality in 2015."
   ]
  }
 ],
 "metadata": {
  "kernelspec": {
   "display_name": "Python 3",
   "language": "python",
   "name": "python3"
  },
  "language_info": {
   "codemirror_mode": {
    "name": "ipython",
    "version": 3
   },
   "file_extension": ".py",
   "mimetype": "text/x-python",
   "name": "python",
   "nbconvert_exporter": "python",
   "pygments_lexer": "ipython3",
   "version": "3.7.3"
  }
 },
 "nbformat": 4,
 "nbformat_minor": 2
}
