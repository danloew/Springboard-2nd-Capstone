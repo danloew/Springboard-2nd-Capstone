{
 "cells": [
  {
   "cell_type": "markdown",
   "metadata": {},
   "source": [
    "# Exploration of Socioeconomic Influences on Cancer Mortality:\n",
    "# Machine Learning with Unscaled Data"
   ]
  },
  {
   "cell_type": "markdown",
   "metadata": {},
   "source": [
    "This notebook uses the cleaned DataFrame built off of the \"cancer-reg.csv\" dataset (https://data.world/exercises/linear-regression-exercise-1) to build a series of classification models designed to identify the most salient predictors of cancer mortality at the county level for the year 2015 by looking at the coefficients of the best performing regressor algorithm. The cleaned DataFrame contains a series of features native to the \"cancer-reg.csv\" dataset, but also contains a series of derived features (as detailed in the Data Cleaning notebook).\n",
    "\n",
    "The target feature of the model is continuous, so regression is the focus in this report. Machine Learning regression models are carried out below using Ordinary Least Squares (OLS) Regression, Ridge Regression, LASSO, ElasticNet, Stochastic Gradient Descent (SGD) Regressor, Kernel Ridge Regression, and Random Forest algorithms to try and predict cancer mortality rates.\n",
    "\n",
    "These models are created not only to predict cancer mortality, but to also identify the most salient predictors of cancer mortality by looking at the coefficients of the best performing regression algorithm. By identifying the most salient predictors of cancer mortality, policy makers can use this study as a resource in which to guide public health policy as a component of the fight against cancer. Although these salient predictors cannot be identified as a cause of cancer mortality, identifying predictive features can help in the understanding of factors that contribute to cancer mortality. Random Forest is also used as a way to nonlinearly predict cancer mortality, but because the Random Forest method does not produce coefficients, it is not used to identify the most salient predictors of cancer mortality. \n",
    "\n",
    "The best performing regression algorithm for the model is identified by evaluating the accuracy score and root mean squared error (RMSE) of a set of regression algorithms. Generally speaking, these regression algorithms are run on unscaled and scaled data, and utilizee different values for the regularization hyperparameter ‘alpha’ (for all algorithms except for simple OLS linear regression), the L1 ratio (for ElasticNet and SGD Regressor), the penalty (L1, L2, or ElasticNet for SGD Regressor), and the number of estimators (for Random Forest). The LASSO and ElasticNet algorithms use their internal normalization setting to scale the data, as they would not converge otherwise. The MinMax scaler is used for scaling data on the other algorithms, but in the next notebook named 'Cancer_ML_unscaled.ipynb'. In this notebook, only unscaled data is used (except for the necessary normalization used in the LASSO and Elastic Net algorithms). \n",
    "\n",
    "The best performing regression algorithm in terms of accuracy score and RMSE is then identified. These regression algorithms’ accuracy and RMSE scores are stored in a hyperparameter tuning table, which is displayed below."
   ]
  },
  {
   "cell_type": "code",
   "execution_count": 2,
   "metadata": {},
   "outputs": [],
   "source": [
    "import csv\n",
    "import numpy as np\n",
    "import pandas as pd\n",
    "import matplotlib.pyplot as plt\n",
    "import sklearn\n",
    "from sklearn.preprocessing import MinMaxScaler\n",
    "from sklearn import linear_model\n",
    "from sklearn.linear_model import Ridge\n",
    "from sklearn.kernel_ridge import KernelRidge\n",
    "from sklearn.linear_model import Lasso\n",
    "from sklearn.linear_model import ElasticNet\n",
    "from sklearn.linear_model import SGDRegressor\n",
    "from sklearn.ensemble import RandomForestRegressor\n",
    "from sklearn.model_selection import train_test_split\n",
    "from sklearn.model_selection import cross_val_score\n",
    "from sklearn import metrics\n",
    "from sklearn.metrics import roc_curve\n",
    "from sklearn.metrics import roc_auc_score\n",
    "from sklearn.metrics import mean_squared_error\n",
    "import pickle"
   ]
  },
  {
   "cell_type": "code",
   "execution_count": 3,
   "metadata": {},
   "outputs": [],
   "source": [
    "df = pd.read_csv('cancer_ml6_ml.csv', index_col=['Geography'])"
   ]
  },
  {
   "cell_type": "code",
   "execution_count": 4,
   "metadata": {
    "scrolled": true
   },
   "outputs": [
    {
     "data": {
      "text/html": [
       "<div>\n",
       "<style scoped>\n",
       "    .dataframe tbody tr th:only-of-type {\n",
       "        vertical-align: middle;\n",
       "    }\n",
       "\n",
       "    .dataframe tbody tr th {\n",
       "        vertical-align: top;\n",
       "    }\n",
       "\n",
       "    .dataframe thead th {\n",
       "        text-align: right;\n",
       "    }\n",
       "</style>\n",
       "<table border=\"1\" class=\"dataframe\">\n",
       "  <thead>\n",
       "    <tr style=\"text-align: right;\">\n",
       "      <th></th>\n",
       "      <th>TARGET_deathRate</th>\n",
       "      <th>avgAnnCount</th>\n",
       "      <th>incidenceRate</th>\n",
       "      <th>medIncome</th>\n",
       "      <th>popEst2015</th>\n",
       "      <th>povertyPercent</th>\n",
       "      <th>studyPerCap</th>\n",
       "      <th>MedianAge</th>\n",
       "      <th>MedianAgeMale</th>\n",
       "      <th>MedianAgeFemale</th>\n",
       "      <th>...</th>\n",
       "      <th>city_min_distsl1_sqrd</th>\n",
       "      <th>sc_min_dists_l1_log</th>\n",
       "      <th>PCT_LACCESS_CHILD10_sqrd</th>\n",
       "      <th>PCT_LACCESS_HHNV10_sqrd</th>\n",
       "      <th>PC_DIRSALES07_sqrd</th>\n",
       "      <th>FMRKT13_sqrd</th>\n",
       "      <th>PCH_FMRKT_09_13_sqrd</th>\n",
       "      <th>PCT_OBESE_ADULTS13_log</th>\n",
       "      <th>PCT_OBESE_ADULTS13_sqrd</th>\n",
       "      <th>CHILDPOVRATE10_log</th>\n",
       "    </tr>\n",
       "    <tr>\n",
       "      <th>Geography</th>\n",
       "      <th></th>\n",
       "      <th></th>\n",
       "      <th></th>\n",
       "      <th></th>\n",
       "      <th></th>\n",
       "      <th></th>\n",
       "      <th></th>\n",
       "      <th></th>\n",
       "      <th></th>\n",
       "      <th></th>\n",
       "      <th></th>\n",
       "      <th></th>\n",
       "      <th></th>\n",
       "      <th></th>\n",
       "      <th></th>\n",
       "      <th></th>\n",
       "      <th></th>\n",
       "      <th></th>\n",
       "      <th></th>\n",
       "      <th></th>\n",
       "      <th></th>\n",
       "    </tr>\n",
       "  </thead>\n",
       "  <tbody>\n",
       "    <tr>\n",
       "      <th>Abbeville County, South Carolina</th>\n",
       "      <td>183.7</td>\n",
       "      <td>143.0</td>\n",
       "      <td>430.9</td>\n",
       "      <td>35525</td>\n",
       "      <td>24932</td>\n",
       "      <td>21.4</td>\n",
       "      <td>0.000000</td>\n",
       "      <td>43.3</td>\n",
       "      <td>40.7</td>\n",
       "      <td>44.9</td>\n",
       "      <td>...</td>\n",
       "      <td>5.827314</td>\n",
       "      <td>-0.674641</td>\n",
       "      <td>49.425404</td>\n",
       "      <td>36.601854</td>\n",
       "      <td>13.9129</td>\n",
       "      <td>4</td>\n",
       "      <td>0.00000</td>\n",
       "      <td>3.456317</td>\n",
       "      <td>1004.89</td>\n",
       "      <td>3.280911</td>\n",
       "    </tr>\n",
       "    <tr>\n",
       "      <th>Acadia Parish, Louisiana</th>\n",
       "      <td>230.5</td>\n",
       "      <td>323.0</td>\n",
       "      <td>492.7</td>\n",
       "      <td>40269</td>\n",
       "      <td>62577</td>\n",
       "      <td>22.0</td>\n",
       "      <td>0.000000</td>\n",
       "      <td>35.7</td>\n",
       "      <td>34.7</td>\n",
       "      <td>37.2</td>\n",
       "      <td>...</td>\n",
       "      <td>47.212922</td>\n",
       "      <td>-1.386678</td>\n",
       "      <td>0.243122</td>\n",
       "      <td>3.229274</td>\n",
       "      <td>58.9824</td>\n",
       "      <td>0</td>\n",
       "      <td>0.00000</td>\n",
       "      <td>3.499533</td>\n",
       "      <td>1095.61</td>\n",
       "      <td>3.387774</td>\n",
       "    </tr>\n",
       "    <tr>\n",
       "      <th>Accomack County, Virginia</th>\n",
       "      <td>216.2</td>\n",
       "      <td>221.0</td>\n",
       "      <td>479.4</td>\n",
       "      <td>38390</td>\n",
       "      <td>32973</td>\n",
       "      <td>19.4</td>\n",
       "      <td>0.000000</td>\n",
       "      <td>45.3</td>\n",
       "      <td>42.7</td>\n",
       "      <td>47.3</td>\n",
       "      <td>...</td>\n",
       "      <td>22.077434</td>\n",
       "      <td>0.153911</td>\n",
       "      <td>0.516719</td>\n",
       "      <td>59.388869</td>\n",
       "      <td>2.9584</td>\n",
       "      <td>4</td>\n",
       "      <td>10000.00000</td>\n",
       "      <td>3.303217</td>\n",
       "      <td>739.84</td>\n",
       "      <td>3.356897</td>\n",
       "    </tr>\n",
       "    <tr>\n",
       "      <th>Ada County, Idaho</th>\n",
       "      <td>151.6</td>\n",
       "      <td>1757.0</td>\n",
       "      <td>469.0</td>\n",
       "      <td>57908</td>\n",
       "      <td>434211</td>\n",
       "      <td>11.6</td>\n",
       "      <td>414.545002</td>\n",
       "      <td>35.8</td>\n",
       "      <td>35.0</td>\n",
       "      <td>36.6</td>\n",
       "      <td>...</td>\n",
       "      <td>104.907721</td>\n",
       "      <td>-0.244491</td>\n",
       "      <td>24.459579</td>\n",
       "      <td>0.336674</td>\n",
       "      <td>5.2441</td>\n",
       "      <td>100</td>\n",
       "      <td>123.45679</td>\n",
       "      <td>3.387774</td>\n",
       "      <td>876.16</td>\n",
       "      <td>2.778819</td>\n",
       "    </tr>\n",
       "    <tr>\n",
       "      <th>Adair County, Iowa</th>\n",
       "      <td>178.9</td>\n",
       "      <td>51.0</td>\n",
       "      <td>440.7</td>\n",
       "      <td>48216</td>\n",
       "      <td>7228</td>\n",
       "      <td>10.3</td>\n",
       "      <td>138.350858</td>\n",
       "      <td>45.9</td>\n",
       "      <td>45.0</td>\n",
       "      <td>47.7</td>\n",
       "      <td>...</td>\n",
       "      <td>54.729457</td>\n",
       "      <td>-0.522917</td>\n",
       "      <td>3.281391</td>\n",
       "      <td>3.520720</td>\n",
       "      <td>48.3025</td>\n",
       "      <td>4</td>\n",
       "      <td>0.00000</td>\n",
       "      <td>3.443618</td>\n",
       "      <td>979.69</td>\n",
       "      <td>2.646175</td>\n",
       "    </tr>\n",
       "  </tbody>\n",
       "</table>\n",
       "<p>5 rows × 329 columns</p>\n",
       "</div>"
      ],
      "text/plain": [
       "                                  TARGET_deathRate  avgAnnCount  \\\n",
       "Geography                                                         \n",
       "Abbeville County, South Carolina             183.7        143.0   \n",
       "Acadia Parish, Louisiana                     230.5        323.0   \n",
       "Accomack County, Virginia                    216.2        221.0   \n",
       "Ada County, Idaho                            151.6       1757.0   \n",
       "Adair County, Iowa                           178.9         51.0   \n",
       "\n",
       "                                  incidenceRate  medIncome  popEst2015  \\\n",
       "Geography                                                                \n",
       "Abbeville County, South Carolina          430.9      35525       24932   \n",
       "Acadia Parish, Louisiana                  492.7      40269       62577   \n",
       "Accomack County, Virginia                 479.4      38390       32973   \n",
       "Ada County, Idaho                         469.0      57908      434211   \n",
       "Adair County, Iowa                        440.7      48216        7228   \n",
       "\n",
       "                                  povertyPercent  studyPerCap  MedianAge  \\\n",
       "Geography                                                                  \n",
       "Abbeville County, South Carolina            21.4     0.000000       43.3   \n",
       "Acadia Parish, Louisiana                    22.0     0.000000       35.7   \n",
       "Accomack County, Virginia                   19.4     0.000000       45.3   \n",
       "Ada County, Idaho                           11.6   414.545002       35.8   \n",
       "Adair County, Iowa                          10.3   138.350858       45.9   \n",
       "\n",
       "                                  MedianAgeMale  MedianAgeFemale  ...  \\\n",
       "Geography                                                         ...   \n",
       "Abbeville County, South Carolina           40.7             44.9  ...   \n",
       "Acadia Parish, Louisiana                   34.7             37.2  ...   \n",
       "Accomack County, Virginia                  42.7             47.3  ...   \n",
       "Ada County, Idaho                          35.0             36.6  ...   \n",
       "Adair County, Iowa                         45.0             47.7  ...   \n",
       "\n",
       "                                  city_min_distsl1_sqrd  sc_min_dists_l1_log  \\\n",
       "Geography                                                                      \n",
       "Abbeville County, South Carolina               5.827314            -0.674641   \n",
       "Acadia Parish, Louisiana                      47.212922            -1.386678   \n",
       "Accomack County, Virginia                     22.077434             0.153911   \n",
       "Ada County, Idaho                            104.907721            -0.244491   \n",
       "Adair County, Iowa                            54.729457            -0.522917   \n",
       "\n",
       "                                  PCT_LACCESS_CHILD10_sqrd  \\\n",
       "Geography                                                    \n",
       "Abbeville County, South Carolina                 49.425404   \n",
       "Acadia Parish, Louisiana                          0.243122   \n",
       "Accomack County, Virginia                         0.516719   \n",
       "Ada County, Idaho                                24.459579   \n",
       "Adair County, Iowa                                3.281391   \n",
       "\n",
       "                                  PCT_LACCESS_HHNV10_sqrd  PC_DIRSALES07_sqrd  \\\n",
       "Geography                                                                       \n",
       "Abbeville County, South Carolina                36.601854             13.9129   \n",
       "Acadia Parish, Louisiana                         3.229274             58.9824   \n",
       "Accomack County, Virginia                       59.388869              2.9584   \n",
       "Ada County, Idaho                                0.336674              5.2441   \n",
       "Adair County, Iowa                               3.520720             48.3025   \n",
       "\n",
       "                                  FMRKT13_sqrd  PCH_FMRKT_09_13_sqrd  \\\n",
       "Geography                                                              \n",
       "Abbeville County, South Carolina             4               0.00000   \n",
       "Acadia Parish, Louisiana                     0               0.00000   \n",
       "Accomack County, Virginia                    4           10000.00000   \n",
       "Ada County, Idaho                          100             123.45679   \n",
       "Adair County, Iowa                           4               0.00000   \n",
       "\n",
       "                                  PCT_OBESE_ADULTS13_log  \\\n",
       "Geography                                                  \n",
       "Abbeville County, South Carolina                3.456317   \n",
       "Acadia Parish, Louisiana                        3.499533   \n",
       "Accomack County, Virginia                       3.303217   \n",
       "Ada County, Idaho                               3.387774   \n",
       "Adair County, Iowa                              3.443618   \n",
       "\n",
       "                                  PCT_OBESE_ADULTS13_sqrd  CHILDPOVRATE10_log  \n",
       "Geography                                                                      \n",
       "Abbeville County, South Carolina                  1004.89            3.280911  \n",
       "Acadia Parish, Louisiana                          1095.61            3.387774  \n",
       "Accomack County, Virginia                          739.84            3.356897  \n",
       "Ada County, Idaho                                  876.16            2.778819  \n",
       "Adair County, Iowa                                 979.69            2.646175  \n",
       "\n",
       "[5 rows x 329 columns]"
      ]
     },
     "execution_count": 4,
     "metadata": {},
     "output_type": "execute_result"
    }
   ],
   "source": [
    "df.head()"
   ]
  },
  {
   "cell_type": "code",
   "execution_count": 5,
   "metadata": {},
   "outputs": [
    {
     "data": {
      "text/plain": [
       "Index(['TARGET_deathRate', 'avgAnnCount', 'incidenceRate', 'medIncome',\n",
       "       'popEst2015', 'povertyPercent', 'studyPerCap', 'MedianAge',\n",
       "       'MedianAgeMale', 'MedianAgeFemale',\n",
       "       ...\n",
       "       'city_min_distsl1_sqrd', 'sc_min_dists_l1_log',\n",
       "       'PCT_LACCESS_CHILD10_sqrd', 'PCT_LACCESS_HHNV10_sqrd',\n",
       "       'PC_DIRSALES07_sqrd', 'FMRKT13_sqrd', 'PCH_FMRKT_09_13_sqrd',\n",
       "       'PCT_OBESE_ADULTS13_log', 'PCT_OBESE_ADULTS13_sqrd',\n",
       "       'CHILDPOVRATE10_log'],\n",
       "      dtype='object', length=329)"
      ]
     },
     "execution_count": 5,
     "metadata": {},
     "output_type": "execute_result"
    }
   ],
   "source": [
    "df.columns"
   ]
  },
  {
   "cell_type": "code",
   "execution_count": 6,
   "metadata": {},
   "outputs": [
    {
     "data": {
      "text/plain": [
       "3047"
      ]
     },
     "execution_count": 6,
     "metadata": {},
     "output_type": "execute_result"
    }
   ],
   "source": [
    "len(df.index.unique())"
   ]
  },
  {
   "cell_type": "code",
   "execution_count": 7,
   "metadata": {
    "scrolled": true
   },
   "outputs": [
    {
     "data": {
      "text/plain": [
       "(3047, 329)"
      ]
     },
     "execution_count": 7,
     "metadata": {},
     "output_type": "execute_result"
    }
   ],
   "source": [
    "df.shape"
   ]
  },
  {
   "cell_type": "code",
   "execution_count": 8,
   "metadata": {
    "scrolled": true
   },
   "outputs": [
    {
     "name": "stdout",
     "output_type": "stream",
     "text": [
      "<class 'pandas.core.frame.DataFrame'>\n",
      "Index: 3047 entries, Abbeville County, South Carolina to Zavala County, Texas\n",
      "Data columns (total 329 columns):\n",
      "TARGET_deathRate                  float64\n",
      "avgAnnCount                       float64\n",
      "incidenceRate                     float64\n",
      "medIncome                         int64\n",
      "popEst2015                        int64\n",
      "povertyPercent                    float64\n",
      "studyPerCap                       float64\n",
      "MedianAge                         float64\n",
      "MedianAgeMale                     float64\n",
      "MedianAgeFemale                   float64\n",
      "AvgHouseholdSize                  float64\n",
      "PercentMarried                    float64\n",
      "PctNoHS18_24                      float64\n",
      "PctHS18_24                        float64\n",
      "PctSomeCol18_24                   float64\n",
      "PctBachDeg18_24                   float64\n",
      "PctHS25_Over                      float64\n",
      "PctBachDeg25_Over                 float64\n",
      "PctEmployed16_Over                float64\n",
      "PctUnemployed16_Over              float64\n",
      "PctPrivateCoverage                float64\n",
      "PctPrivateCoverageAlone           float64\n",
      "PctEmpPrivCoverage                float64\n",
      "PctPublicCoverage                 float64\n",
      "PctPublicCoverageAlone            float64\n",
      "PctWhite                          float64\n",
      "PctBlack                          float64\n",
      "PctAsian                          float64\n",
      "PctOtherRace                      float64\n",
      "PctMarriedHouseholds              float64\n",
      "BirthRate                         float64\n",
      "PctSomeCol18_24_isnull            bool\n",
      "PctEmployed16_Over_isnull         bool\n",
      "PctPrivateCoverageAlone_isnull    bool\n",
      "age_gt_100                        bool\n",
      "household_lt_1                    bool\n",
      "binnedInc_(34218.1, 37413.8]      int64\n",
      "binnedInc_(37413.8, 40362.7]      int64\n",
      "binnedInc_(40362.7, 42724.4]      int64\n",
      "binnedInc_(42724.4, 45201]        int64\n",
      "binnedInc_(45201, 48021.6]        int64\n",
      "binnedInc_(48021.6, 51046.4]      int64\n",
      "binnedInc_(51046.4, 54545.6]      int64\n",
      "binnedInc_(54545.6, 61494.5]      int64\n",
      "binnedInc_(61494.5, 125635]       int64\n",
      "binnedInc_[22640, 34218.1]        int64\n",
      "ALAND_SQMI                        float64\n",
      "AWATER_SQMI                       float64\n",
      "INTPTLAT                          float64\n",
      "INTPTLONG                         float64\n",
      "State_Alabama                     int64\n",
      "State_Alaska                      int64\n",
      "State_Arizona                     int64\n",
      "State_Arkansas                    int64\n",
      "State_California                  int64\n",
      "State_Colorado                    int64\n",
      "State_Connecticut                 int64\n",
      "State_Delaware                    int64\n",
      "State_District of Columbia        int64\n",
      "State_Florida                     int64\n",
      "State_Georgia                     int64\n",
      "State_Hawaii                      int64\n",
      "State_Idaho                       int64\n",
      "State_Illinois                    int64\n",
      "State_Indiana                     int64\n",
      "State_Iowa                        int64\n",
      "State_Kansas                      int64\n",
      "State_Kentucky                    int64\n",
      "State_Louisiana                   int64\n",
      "State_Maine                       int64\n",
      "State_Maryland                    int64\n",
      "State_Massachusetts               int64\n",
      "State_Michigan                    int64\n",
      "State_Minnesota                   int64\n",
      "State_Mississippi                 int64\n",
      "State_Missouri                    int64\n",
      "State_Montana                     int64\n",
      "State_Nebraska                    int64\n",
      "State_Nevada                      int64\n",
      "State_New Hampshire               int64\n",
      "State_New Jersey                  int64\n",
      "State_New Mexico                  int64\n",
      "State_New York                    int64\n",
      "State_North Carolina              int64\n",
      "State_North Dakota                int64\n",
      "State_Ohio                        int64\n",
      "State_Oklahoma                    int64\n",
      "State_Oregon                      int64\n",
      "State_Pennsylvania                int64\n",
      "State_Rhode Island                int64\n",
      "State_South Carolina              int64\n",
      "State_South Dakota                int64\n",
      "State_Tennessee                   int64\n",
      "State_Texas                       int64\n",
      "State_Utah                        int64\n",
      "State_Vermont                     int64\n",
      "State_Virginia                    int64\n",
      "State_Washington                  int64\n",
      "State_West Virginia               int64\n",
      "State_Wisconsin                   int64\n",
      "State_Wyoming                     int64\n",
      "utmda_l1                          float64\n",
      "mskcc_l1                          float64\n",
      "mayo_l1                           float64\n",
      "hopkins_l1                        float64\n",
      "dfb_l1                            float64\n",
      "cleveland_l1                      float64\n",
      "upmcps_l1                         float64\n",
      "hlmcc_l1                          float64\n",
      "mgs_l1                            float64\n",
      "nw_mem_l1                         float64\n",
      "chi_l1                            float64\n",
      "nyc_l1                            float64\n",
      "atlanta_l1                        float64\n",
      "dallas_l1                         float64\n",
      "denver_l1                         float64\n",
      "los_ang_l1                        float64\n",
      "seattle_l1                        float64\n",
      "san_fran_l1                       float64\n",
      "utmda_l2                          float64\n",
      "mskcc_l2                          float64\n",
      "mayo_l2                           float64\n",
      "hopkins_l2                        float64\n",
      "dfb_l2                            float64\n",
      "cleveland_l2                      float64\n",
      "upmcps_l2                         float64\n",
      "hlmcc_l2                          float64\n",
      "mgs_l2                            float64\n",
      "nw_mem_l2                         float64\n",
      "chi_l2                            float64\n",
      "nyc_l2                            float64\n",
      "atlanta_l2                        float64\n",
      "dallas_l2                         float64\n",
      "denver_l2                         float64\n",
      "los_ang_l2                        float64\n",
      "seattle_l2                        float64\n",
      "san_fran_l2                       float64\n",
      "onc_min_distsl1                   float64\n",
      "onc_min_distsl2                   float64\n",
      "city_min_distsl1                  float64\n",
      "city_min_distsl2                  float64\n",
      "sc_min_dists_l1                   float64\n",
      "sc_min_dists_l2                   float64\n",
      "PCT_LACCESS_POP10                 float64\n",
      "PCT_LACCESS_LOWI10                float64\n",
      "PCT_LACCESS_CHILD10               float64\n",
      "PCT_LACCESS_SENIORS10             float64\n",
      "PCT_LACCESS_HHNV10                float64\n",
      "PCT_LACCESS_POP10_isnull          bool\n",
      "PCT_LACCESS_LOWI10_isnull         bool\n",
      "PCT_LACCESS_CHILD10_isnull        bool\n",
      "PCT_LACCESS_SENIORS10_isnull      bool\n",
      "PCT_LACCESS_HHNV10_isnull         bool\n",
      "FOODINSEC_00_02                   float64\n",
      "FOODINSEC_07_09                   float64\n",
      "FOODINSEC_10_12                   float64\n",
      "CH_FOODINSEC_02_12                float64\n",
      "CH_FOODINSEC_09_12                float64\n",
      "VLFOODSEC_00_02                   float64\n",
      "VLFOODSEC_07_09                   float64\n",
      "VLFOODSEC_10_12                   float64\n",
      "CH_VLFOODSEC_02_12                float64\n",
      "CH_VLFOODSEC_09_12                float64\n",
      "FOODINSEC_CHILD_01_07             float64\n",
      "FOODINSEC_CHILD_03_11             float64\n",
      "FOODINSEC_00_02_isnull            bool\n",
      "FOODINSEC_07_09_isnull            bool\n",
      "FOODINSEC_10_12_isnull            bool\n",
      "CH_FOODINSEC_02_12_isnull         bool\n",
      "CH_FOODINSEC_09_12_isnull         bool\n",
      "VLFOODSEC_00_02_isnull            bool\n",
      "VLFOODSEC_07_09_isnull            bool\n",
      "VLFOODSEC_10_12_isnull            bool\n",
      "CH_VLFOODSEC_02_12_isnull         bool\n",
      "CH_VLFOODSEC_09_12_isnull         bool\n",
      "FOODINSEC_CHILD_01_07_isnull      bool\n",
      "FOODINSEC_CHILD_03_11_isnull      bool\n",
      "PCT_LOCLFARM07                    float64\n",
      "PCT_LOCLSALE07                    float64\n",
      "PC_DIRSALES07                     float64\n",
      "FMRKT09                           int64\n",
      "FMRKT13                           int64\n",
      "PCH_FMRKT_09_13                   float64\n",
      "FMRKTPTH09                        float64\n",
      "FMRKTPTH13                        float64\n",
      "PCH_FMRKTPTH_09_13                float64\n",
      "PCT_FMRKT_SNAP13                  int64\n",
      "PCT_FMRKT_WIC13                   float64\n",
      "PCT_FMRKT_WICCASH13               float64\n",
      "PCT_FMRKT_SFMNP13                 int64\n",
      "PCT_FRMKT_FRVEG13                 float64\n",
      "PCT_FRMKT_ANMLPROD13              float64\n",
      "PCT_FMRKT_OTHER13                 float64\n",
      "VEG_FARMS07                       int64\n",
      "VEG_ACRES07                       int64\n",
      "VEG_ACRESPTH07                    float64\n",
      "FRESHVEG_FARMS07                  int64\n",
      "FRESHVEG_ACRES07                  int64\n",
      "FRESHVEG_ACRESPTH07               float64\n",
      "ORCHARD_FARMS07                   int64\n",
      "ORCHARD_ACRES07                   int64\n",
      "ORCHARD_ACRESPTH07                float64\n",
      "BERRY_FARMS07                     int64\n",
      "BERRY_ACRES07                     int64\n",
      "BERRY_ACRESPTH07                  float64\n",
      "SLHOUSE07                         int64\n",
      "GHVEG_FARMS07                     int64\n",
      "GHVEG_SQFT07                      int64\n",
      "GHVEG_SQFTPTH07                   float64\n",
      "FOODHUB12                         int64\n",
      "CSA07                             int64\n",
      "AGRITRSM_OPS07                    int64\n",
      "AGRITRSM_RCT07                    int64\n",
      "FARM_TO_SCHOOL                    int64\n",
      "PCT_LOCLFARM07_isnull             bool\n",
      "PCT_LOCLSALE07_isnull             bool\n",
      "PC_DIRSALES07_isnull              bool\n",
      "FMRKT09_isnull                    bool\n",
      "FMRKT13_isnull                    bool\n",
      "PCH_FMRKT_09_13_isnull            bool\n",
      "FMRKTPTH09_isnull                 bool\n",
      "FMRKTPTH13_isnull                 bool\n",
      "PCH_FMRKTPTH_09_13_isnull         bool\n",
      "PCT_FMRKT_SNAP13_isnull           bool\n",
      "PCT_FMRKT_WIC13_isnull            bool\n",
      "PCT_FMRKT_WICCASH13_isnull        bool\n",
      "PCT_FMRKT_SFMNP13_isnull          bool\n",
      "PCT_FRMKT_FRVEG13_isnull          bool\n",
      "PCT_FRMKT_ANMLPROD13_isnull       bool\n",
      "PCT_FMRKT_OTHER13_isnull          bool\n",
      "VEG_FARMS07_isnull                bool\n",
      "VEG_ACRES07_isnull                bool\n",
      "VEG_ACRESPTH07_isnull             bool\n",
      "FRESHVEG_FARMS07_isnull           bool\n",
      "FRESHVEG_ACRES07_isnull           bool\n",
      "FRESHVEG_ACRESPTH07_isnull        bool\n",
      "ORCHARD_FARMS07_isnull            bool\n",
      "ORCHARD_ACRES07_isnull            bool\n",
      "ORCHARD_ACRESPTH07_isnull         bool\n",
      "BERRY_FARMS07_isnull              bool\n",
      "BERRY_ACRES07_isnull              bool\n",
      "BERRY_ACRESPTH07_isnull           bool\n",
      "SLHOUSE07_isnull                  bool\n",
      "GHVEG_FARMS07_isnull              bool\n",
      "GHVEG_SQFT07_isnull               bool\n",
      "GHVEG_SQFTPTH07_isnull            bool\n",
      "FOODHUB12_isnull                  bool\n",
      "CSA07_isnull                      bool\n",
      "AGRITRSM_OPS07_isnull             bool\n",
      "AGRITRSM_RCT07_isnull             bool\n",
      "FARM_TO_SCHOOL_isnull             bool\n",
      "PCT_DIABETES_ADULTS09             float64\n",
      "PCT_DIABETES_ADULTS10             float64\n",
      "PCT_OBESE_ADULTS09                float64\n",
      "PCT_OBESE_ADULTS10                float64\n",
      "PCT_OBESE_ADULTS13                float64\n",
      "PCT_OBESE_CHILD08                 float64\n",
      "PCT_OBESE_CHILD11                 float64\n",
      "PCH_OBESE_CHILD_08_11             float64\n",
      "PCT_HSPA09                        float64\n",
      "RECFAC07                          int64\n",
      "RECFAC12                          int64\n",
      "PCH_RECFAC_07_12                  float64\n",
      "RECFACPTH07                       float64\n",
      "RECFACPTH12                       float64\n",
      "PCH_RECFACPTH_07_12               float64\n",
      "NATAMEN                           int64\n",
      "PCT_OBESE_CHILD08_isnull          bool\n",
      "PCT_OBESE_CHILD11_isnull          bool\n",
      "PCH_OBESE_CHILD_08_11_isnull      bool\n",
      "PCT_HSPA09_isnull                 bool\n",
      "PCH_RECFAC_07_12_isnull           bool\n",
      "PCH_RECFACPTH_07_12_isnull        bool\n",
      "NATAMEN_isnull                    bool\n",
      "PERPOV10                          int64\n",
      "CHILDPOVRATE10                    float64\n",
      "PERCHLDPOV10                      int64\n",
      "METRO13                           int64\n",
      "POPLOSS00                         int64\n",
      "povertyPercent_log                float64\n",
      "povertyPercent_sqrd               float64\n",
      "MedianAge_log                     float64\n",
      "MedianAgeFemale_sqrd              float64\n",
      "AvgHouseholdSize_log              float64\n",
      "PercentMarried_log                float64\n",
      "PercentMarried_sqrd               float64\n",
      "PctSomeCol18_24_log               float64\n",
      "PctSomeCol18_24_sqrd              float64\n",
      "PctHS25_Over_sqrd                 float64\n",
      "PctBachDeg25_Over_log             float64\n",
      "PctEmployed16_Over_log            float64\n",
      "PctEmployed16_Over_sqrd           float64\n",
      "PctPrivateCoverage_log            float64\n",
      "PctEmpPrivCoverage_log            float64\n",
      "PctPublicCoverage_log             float64\n",
      "PctPublicCoverageAlone_log        float64\n",
      "PctPublicCoverageAlone_sqrd       float64\n",
      "PctWhite_sqrd                     float64\n",
      "PctBlack_sqrd                     float64\n",
      "INTPTLONG_sqrd                    float64\n",
      "mskcc_l1_log                      float64\n",
      "mayo_l1_log                       float64\n",
      "mayo_l1_sqrd                      float64\n",
      "dfb_l1_log                        float64\n",
      "dfb_l1_sqrd                       float64\n",
      "cleveland_l1_log                  float64\n",
      "cleveland_l1_sqrd                 float64\n",
      "upmcps_l1_log                     float64\n",
      "mgs_l1_log                        float64\n",
      "atlanta_l1_log                    float64\n",
      "denver_l1_sqrd                    float64\n",
      "los_ang_l1_sqrd                   float64\n",
      "seattle_l1_log                    float64\n",
      "hopkins_l2_log                    float64\n",
      "dfb_l2_log                        float64\n",
      "cleveland_l2_log                  float64\n",
      "upmcps_l2_log                     float64\n",
      "mgs_l2_log                        float64\n",
      "atlanta_l2_log                    float64\n",
      "city_min_distsl1_sqrd             float64\n",
      "sc_min_dists_l1_log               float64\n",
      "PCT_LACCESS_CHILD10_sqrd          float64\n",
      "PCT_LACCESS_HHNV10_sqrd           float64\n",
      "PC_DIRSALES07_sqrd                float64\n",
      "FMRKT13_sqrd                      int64\n",
      "PCH_FMRKT_09_13_sqrd              float64\n",
      "PCT_OBESE_ADULTS13_log            float64\n",
      "PCT_OBESE_ADULTS13_sqrd           float64\n",
      "CHILDPOVRATE10_log                float64\n",
      "dtypes: bool(66), float64(172), int64(91)\n",
      "memory usage: 6.3+ MB\n"
     ]
    }
   ],
   "source": [
    "df.info(verbose=True)"
   ]
  },
  {
   "cell_type": "markdown",
   "metadata": {},
   "source": [
    "In order for all features in the DataFrame to be compatible with all types of machine learning model algorithms, the set of all Boolean features in the DataFrame is first converted to binary integer features."
   ]
  },
  {
   "cell_type": "code",
   "execution_count": 9,
   "metadata": {},
   "outputs": [],
   "source": [
    "boolean_cols = ['PctSomeCol18_24_isnull', 'PctEmployed16_Over_isnull', 'PctPrivateCoverageAlone_isnull', \n",
    "               'age_gt_100', 'household_lt_1', 'PCT_LACCESS_POP10_isnull', 'PCT_LACCESS_LOWI10_isnull', \n",
    "               'PCT_LACCESS_CHILD10_isnull', 'PCT_LACCESS_SENIORS10_isnull', 'PCT_LACCESS_HHNV10_isnull', \n",
    "               'FOODINSEC_00_02_isnull', 'FOODINSEC_07_09_isnull', 'FOODINSEC_10_12_isnull', \n",
    "               'CH_FOODINSEC_02_12_isnull', 'CH_FOODINSEC_09_12_isnull', 'VLFOODSEC_00_02_isnull', \n",
    "               'VLFOODSEC_07_09_isnull', 'VLFOODSEC_10_12_isnull', 'CH_VLFOODSEC_02_12_isnull', \n",
    "               'CH_VLFOODSEC_09_12_isnull', 'FOODINSEC_CHILD_01_07_isnull', 'FOODINSEC_CHILD_03_11_isnull', \n",
    "               'PCT_LOCLFARM07_isnull', 'PCT_LOCLSALE07_isnull', 'PC_DIRSALES07_isnull', 'FMRKT09_isnull', \n",
    "               'FMRKT13_isnull', 'PCH_FMRKT_09_13_isnull', 'FMRKTPTH09_isnull', 'FMRKTPTH13_isnull', \n",
    "               'PCH_FMRKTPTH_09_13_isnull', 'PCT_FMRKT_SNAP13_isnull', 'PCT_FMRKT_WIC13_isnull', \n",
    "               'PCT_FMRKT_WICCASH13_isnull', 'PCT_FMRKT_SFMNP13_isnull', 'PCT_FRMKT_FRVEG13_isnull', \n",
    "               'PCT_FRMKT_ANMLPROD13_isnull', 'PCT_FMRKT_OTHER13_isnull', 'VEG_FARMS07_isnull', \n",
    "               'VEG_ACRES07_isnull', 'VEG_ACRESPTH07_isnull', 'FRESHVEG_FARMS07_isnull', 'FRESHVEG_ACRES07_isnull', \n",
    "               'FRESHVEG_ACRESPTH07_isnull', 'ORCHARD_FARMS07_isnull', 'ORCHARD_ACRES07_isnull', \n",
    "               'ORCHARD_ACRESPTH07_isnull', 'BERRY_FARMS07_isnull', 'BERRY_ACRES07_isnull', \n",
    "               'BERRY_ACRESPTH07_isnull', 'SLHOUSE07_isnull', 'GHVEG_FARMS07_isnull', 'GHVEG_SQFT07_isnull', \n",
    "               'GHVEG_SQFTPTH07_isnull', 'FOODHUB12_isnull', 'CSA07_isnull', 'AGRITRSM_OPS07_isnull', \n",
    "               'AGRITRSM_RCT07_isnull', 'FARM_TO_SCHOOL_isnull', 'PCT_OBESE_CHILD08_isnull', \n",
    "               'PCT_OBESE_CHILD11_isnull', 'PCH_OBESE_CHILD_08_11_isnull', 'PCT_HSPA09_isnull', \n",
    "               'PCH_RECFAC_07_12_isnull', 'PCH_RECFACPTH_07_12_isnull', 'NATAMEN_isnull']"
   ]
  },
  {
   "cell_type": "code",
   "execution_count": 10,
   "metadata": {},
   "outputs": [],
   "source": [
    "for col in boolean_cols:\n",
    "    df[col] = df[col].astype(int)"
   ]
  },
  {
   "cell_type": "code",
   "execution_count": 11,
   "metadata": {},
   "outputs": [],
   "source": [
    "df.to_csv('cancer_ml7.csv')"
   ]
  },
  {
   "cell_type": "code",
   "execution_count": 12,
   "metadata": {},
   "outputs": [],
   "source": [
    "del df"
   ]
  },
  {
   "cell_type": "code",
   "execution_count": 13,
   "metadata": {},
   "outputs": [],
   "source": [
    "df = pd.read_csv('cancer_ml7.csv', index_col=['Geography'])"
   ]
  },
  {
   "cell_type": "markdown",
   "metadata": {},
   "source": [
    "# Machine Learning with Unscaled Data"
   ]
  },
  {
   "cell_type": "markdown",
   "metadata": {},
   "source": [
    "To find the best performing algorithm, unscaled data is first experimented with and then scaled data will be used in the \"Cancer_ML_scaled\" notebook. A simple 1-fold cross-validation of a train-test split will be used.\n",
    "\n",
    "The hyperparameter tuning table that records all of the train and test accuracy and Root Mean Squared Error (RMSE) is called below for reference."
   ]
  },
  {
   "cell_type": "code",
   "execution_count": 19,
   "metadata": {},
   "outputs": [
    {
     "data": {
      "text/html": [
       "<div>\n",
       "<style scoped>\n",
       "    .dataframe tbody tr th:only-of-type {\n",
       "        vertical-align: middle;\n",
       "    }\n",
       "\n",
       "    .dataframe tbody tr th {\n",
       "        vertical-align: top;\n",
       "    }\n",
       "\n",
       "    .dataframe thead th {\n",
       "        text-align: right;\n",
       "    }\n",
       "</style>\n",
       "<table border=\"1\" class=\"dataframe\">\n",
       "  <thead>\n",
       "    <tr style=\"text-align: right;\">\n",
       "      <th></th>\n",
       "      <th>Individual Algorithm Summary</th>\n",
       "      <th>LR_#</th>\n",
       "      <th>Train_Accuracy_Score</th>\n",
       "      <th>Train_RMSE</th>\n",
       "      <th>Test_Accuracy_Score</th>\n",
       "      <th>Test_RMSE</th>\n",
       "      <th>Model</th>\n",
       "      <th>Unscaled/Scaled</th>\n",
       "      <th>Non-normalized/Normalized</th>\n",
       "      <th>Alpha</th>\n",
       "      <th>Solver</th>\n",
       "      <th>Penalty</th>\n",
       "      <th>L1 Ratio (for ElasticNet)</th>\n",
       "      <th>epsilon (for SGD Regressor)</th>\n",
       "      <th>learning_rate (for SGD Regressor)</th>\n",
       "      <th>eta0 (for SGD Regressor)</th>\n",
       "      <th>power_t (for SGD Regressor)</th>\n",
       "      <th>estimators (for Random Forest)</th>\n",
       "    </tr>\n",
       "  </thead>\n",
       "  <tbody>\n",
       "    <tr>\n",
       "      <th>0</th>\n",
       "      <td>Unscaled, OLS Linear Regression, No Train-Test...</td>\n",
       "      <td>1</td>\n",
       "      <td>0.652889</td>\n",
       "      <td>1.634743e+01</td>\n",
       "      <td>NaN</td>\n",
       "      <td>NaN</td>\n",
       "      <td>OLS Linear Regression</td>\n",
       "      <td>NaN</td>\n",
       "      <td>NaN</td>\n",
       "      <td>NaN</td>\n",
       "      <td>NaN</td>\n",
       "      <td>NaN</td>\n",
       "      <td>NaN</td>\n",
       "      <td>NaN</td>\n",
       "      <td>NaN</td>\n",
       "      <td>NaN</td>\n",
       "      <td>NaN</td>\n",
       "      <td>NaN</td>\n",
       "    </tr>\n",
       "    <tr>\n",
       "      <th>1</th>\n",
       "      <td>Unscaled, OLS Linear Regression</td>\n",
       "      <td>2</td>\n",
       "      <td>0.646626</td>\n",
       "      <td>1.658783e+01</td>\n",
       "      <td>0.640625</td>\n",
       "      <td>1.619956e+01</td>\n",
       "      <td>OLS Linear Regression</td>\n",
       "      <td>Unscaled</td>\n",
       "      <td>Non-normalized</td>\n",
       "      <td>NaN</td>\n",
       "      <td>NaN</td>\n",
       "      <td>NaN</td>\n",
       "      <td>NaN</td>\n",
       "      <td>NaN</td>\n",
       "      <td>NaN</td>\n",
       "      <td>NaN</td>\n",
       "      <td>NaN</td>\n",
       "      <td>NaN</td>\n",
       "    </tr>\n",
       "    <tr>\n",
       "      <th>2</th>\n",
       "      <td>Unscaled, Ridge Regression, Alpha 0.001, auto ...</td>\n",
       "      <td>3</td>\n",
       "      <td>0.646537</td>\n",
       "      <td>1.658992e+01</td>\n",
       "      <td>0.640764</td>\n",
       "      <td>1.619642e+01</td>\n",
       "      <td>Ridge Regression</td>\n",
       "      <td>Unscaled</td>\n",
       "      <td>Non-normalized</td>\n",
       "      <td>0.00100</td>\n",
       "      <td>Auto</td>\n",
       "      <td>NaN</td>\n",
       "      <td>NaN</td>\n",
       "      <td>NaN</td>\n",
       "      <td>NaN</td>\n",
       "      <td>NaN</td>\n",
       "      <td>NaN</td>\n",
       "      <td>NaN</td>\n",
       "    </tr>\n",
       "    <tr>\n",
       "      <th>3</th>\n",
       "      <td>Unscaled, Ridge Regression, Alpha 0.01, auto s...</td>\n",
       "      <td>4</td>\n",
       "      <td>0.646118</td>\n",
       "      <td>1.659976e+01</td>\n",
       "      <td>0.639803</td>\n",
       "      <td>1.621808e+01</td>\n",
       "      <td>Ridge Regression</td>\n",
       "      <td>Unscaled</td>\n",
       "      <td>Non-normalized</td>\n",
       "      <td>0.01000</td>\n",
       "      <td>Auto</td>\n",
       "      <td>NaN</td>\n",
       "      <td>NaN</td>\n",
       "      <td>NaN</td>\n",
       "      <td>NaN</td>\n",
       "      <td>NaN</td>\n",
       "      <td>NaN</td>\n",
       "      <td>NaN</td>\n",
       "    </tr>\n",
       "    <tr>\n",
       "      <th>4</th>\n",
       "      <td>Unscaled, Ridge Regression, Alpha 0.1, auto so...</td>\n",
       "      <td>5</td>\n",
       "      <td>0.644564</td>\n",
       "      <td>1.663615e+01</td>\n",
       "      <td>0.634241</td>\n",
       "      <td>1.634281e+01</td>\n",
       "      <td>Ridge Regression</td>\n",
       "      <td>Unscaled</td>\n",
       "      <td>Non-normalized</td>\n",
       "      <td>0.10000</td>\n",
       "      <td>Auto</td>\n",
       "      <td>NaN</td>\n",
       "      <td>NaN</td>\n",
       "      <td>NaN</td>\n",
       "      <td>NaN</td>\n",
       "      <td>NaN</td>\n",
       "      <td>NaN</td>\n",
       "      <td>NaN</td>\n",
       "    </tr>\n",
       "    <tr>\n",
       "      <th>5</th>\n",
       "      <td>Unscaled, Ridge Regression, Alpha 1, auto solver</td>\n",
       "      <td>6</td>\n",
       "      <td>0.638631</td>\n",
       "      <td>1.677443e+01</td>\n",
       "      <td>0.621876</td>\n",
       "      <td>1.661678e+01</td>\n",
       "      <td>Ridge Regression</td>\n",
       "      <td>Unscaled</td>\n",
       "      <td>Non-normalized</td>\n",
       "      <td>1.00000</td>\n",
       "      <td>Auto</td>\n",
       "      <td>NaN</td>\n",
       "      <td>NaN</td>\n",
       "      <td>NaN</td>\n",
       "      <td>NaN</td>\n",
       "      <td>NaN</td>\n",
       "      <td>NaN</td>\n",
       "      <td>NaN</td>\n",
       "    </tr>\n",
       "    <tr>\n",
       "      <th>6</th>\n",
       "      <td>Unscaled, Ridge Regression, Alpha 10, auto solver</td>\n",
       "      <td>7</td>\n",
       "      <td>0.631687</td>\n",
       "      <td>1.693482e+01</td>\n",
       "      <td>0.613007</td>\n",
       "      <td>1.681052e+01</td>\n",
       "      <td>Ridge Regression</td>\n",
       "      <td>Unscaled</td>\n",
       "      <td>Non-normalized</td>\n",
       "      <td>10.00000</td>\n",
       "      <td>Auto</td>\n",
       "      <td>NaN</td>\n",
       "      <td>NaN</td>\n",
       "      <td>NaN</td>\n",
       "      <td>NaN</td>\n",
       "      <td>NaN</td>\n",
       "      <td>NaN</td>\n",
       "      <td>NaN</td>\n",
       "    </tr>\n",
       "    <tr>\n",
       "      <th>7</th>\n",
       "      <td>Unscaled, Ridge Regression, Alpha 100, auto so...</td>\n",
       "      <td>8</td>\n",
       "      <td>0.620851</td>\n",
       "      <td>1.718215e+01</td>\n",
       "      <td>0.607718</td>\n",
       "      <td>1.692499e+01</td>\n",
       "      <td>Ridge Regression</td>\n",
       "      <td>Unscaled</td>\n",
       "      <td>Non-normalized</td>\n",
       "      <td>100.00000</td>\n",
       "      <td>Auto</td>\n",
       "      <td>NaN</td>\n",
       "      <td>NaN</td>\n",
       "      <td>NaN</td>\n",
       "      <td>NaN</td>\n",
       "      <td>NaN</td>\n",
       "      <td>NaN</td>\n",
       "      <td>NaN</td>\n",
       "    </tr>\n",
       "    <tr>\n",
       "      <th>8</th>\n",
       "      <td>Normalized, LASSO, Alpha 0.001</td>\n",
       "      <td>9</td>\n",
       "      <td>0.620849</td>\n",
       "      <td>1.718219e+01</td>\n",
       "      <td>0.599832</td>\n",
       "      <td>1.709427e+01</td>\n",
       "      <td>LASSO</td>\n",
       "      <td>Unscaled</td>\n",
       "      <td>Normalized</td>\n",
       "      <td>0.00100</td>\n",
       "      <td>NaN</td>\n",
       "      <td>NaN</td>\n",
       "      <td>NaN</td>\n",
       "      <td>NaN</td>\n",
       "      <td>NaN</td>\n",
       "      <td>NaN</td>\n",
       "      <td>NaN</td>\n",
       "      <td>NaN</td>\n",
       "    </tr>\n",
       "    <tr>\n",
       "      <th>9</th>\n",
       "      <td>Normalized, LASSO, Alpha 0.01</td>\n",
       "      <td>10</td>\n",
       "      <td>0.580685</td>\n",
       "      <td>1.806936e+01</td>\n",
       "      <td>0.594475</td>\n",
       "      <td>1.720831e+01</td>\n",
       "      <td>LASSO</td>\n",
       "      <td>Unscaled</td>\n",
       "      <td>Normalized</td>\n",
       "      <td>0.01000</td>\n",
       "      <td>NaN</td>\n",
       "      <td>NaN</td>\n",
       "      <td>NaN</td>\n",
       "      <td>NaN</td>\n",
       "      <td>NaN</td>\n",
       "      <td>NaN</td>\n",
       "      <td>NaN</td>\n",
       "      <td>NaN</td>\n",
       "    </tr>\n",
       "    <tr>\n",
       "      <th>10</th>\n",
       "      <td>Normalized, LASSO, Alpha 0.1</td>\n",
       "      <td>11</td>\n",
       "      <td>0.432863</td>\n",
       "      <td>2.101438e+01</td>\n",
       "      <td>0.455485</td>\n",
       "      <td>1.994042e+01</td>\n",
       "      <td>LASSO</td>\n",
       "      <td>Unscaled</td>\n",
       "      <td>Normalized</td>\n",
       "      <td>0.10000</td>\n",
       "      <td>NaN</td>\n",
       "      <td>NaN</td>\n",
       "      <td>NaN</td>\n",
       "      <td>NaN</td>\n",
       "      <td>NaN</td>\n",
       "      <td>NaN</td>\n",
       "      <td>NaN</td>\n",
       "      <td>NaN</td>\n",
       "    </tr>\n",
       "    <tr>\n",
       "      <th>11</th>\n",
       "      <td>Normalized, LASSO, Alpha 1</td>\n",
       "      <td>12</td>\n",
       "      <td>0</td>\n",
       "      <td>2.790438e+01</td>\n",
       "      <td>-0.0079875</td>\n",
       "      <td>2.713046e+01</td>\n",
       "      <td>LASSO</td>\n",
       "      <td>Unscaled</td>\n",
       "      <td>Normalized</td>\n",
       "      <td>1.00000</td>\n",
       "      <td>NaN</td>\n",
       "      <td>NaN</td>\n",
       "      <td>NaN</td>\n",
       "      <td>NaN</td>\n",
       "      <td>NaN</td>\n",
       "      <td>NaN</td>\n",
       "      <td>NaN</td>\n",
       "      <td>NaN</td>\n",
       "    </tr>\n",
       "    <tr>\n",
       "      <th>12</th>\n",
       "      <td>Normalized, LASSO, Alpha 10</td>\n",
       "      <td>13</td>\n",
       "      <td>0</td>\n",
       "      <td>2.790438e+01</td>\n",
       "      <td>-0.0079875</td>\n",
       "      <td>2.713046e+01</td>\n",
       "      <td>LASSO</td>\n",
       "      <td>Unscaled</td>\n",
       "      <td>Normalized</td>\n",
       "      <td>10.00000</td>\n",
       "      <td>NaN</td>\n",
       "      <td>NaN</td>\n",
       "      <td>NaN</td>\n",
       "      <td>NaN</td>\n",
       "      <td>NaN</td>\n",
       "      <td>NaN</td>\n",
       "      <td>NaN</td>\n",
       "      <td>NaN</td>\n",
       "    </tr>\n",
       "    <tr>\n",
       "      <th>13</th>\n",
       "      <td>Normalized, LASSO, Alpha 100</td>\n",
       "      <td>14</td>\n",
       "      <td>0</td>\n",
       "      <td>2.790438e+01</td>\n",
       "      <td>-0.0079875</td>\n",
       "      <td>2.713046e+01</td>\n",
       "      <td>LASSO</td>\n",
       "      <td>Unscaled</td>\n",
       "      <td>Normalized</td>\n",
       "      <td>100.00000</td>\n",
       "      <td>NaN</td>\n",
       "      <td>NaN</td>\n",
       "      <td>NaN</td>\n",
       "      <td>NaN</td>\n",
       "      <td>NaN</td>\n",
       "      <td>NaN</td>\n",
       "      <td>NaN</td>\n",
       "      <td>NaN</td>\n",
       "    </tr>\n",
       "    <tr>\n",
       "      <th>14</th>\n",
       "      <td>Normalized, ElasticNet, L1 Ratio 0.25,  Alpha ...</td>\n",
       "      <td>15</td>\n",
       "      <td>0.531913</td>\n",
       "      <td>1.909130e+01</td>\n",
       "      <td>0.491902</td>\n",
       "      <td>1.926209e+01</td>\n",
       "      <td>ElasticNet</td>\n",
       "      <td>Unscaled</td>\n",
       "      <td>Normalized</td>\n",
       "      <td>0.00100</td>\n",
       "      <td>NaN</td>\n",
       "      <td>NaN</td>\n",
       "      <td>0.25</td>\n",
       "      <td>NaN</td>\n",
       "      <td>NaN</td>\n",
       "      <td>NaN</td>\n",
       "      <td>NaN</td>\n",
       "      <td>NaN</td>\n",
       "    </tr>\n",
       "    <tr>\n",
       "      <th>15</th>\n",
       "      <td>Normalized, ElasticNet, L1 Ratio 0.25, Alpha 0.01</td>\n",
       "      <td>16</td>\n",
       "      <td>0.356699</td>\n",
       "      <td>2.238100e+01</td>\n",
       "      <td>0.307876</td>\n",
       "      <td>2.248131e+01</td>\n",
       "      <td>ElasticNet</td>\n",
       "      <td>Unscaled</td>\n",
       "      <td>Normalized</td>\n",
       "      <td>0.01000</td>\n",
       "      <td>NaN</td>\n",
       "      <td>NaN</td>\n",
       "      <td>0.25</td>\n",
       "      <td>NaN</td>\n",
       "      <td>NaN</td>\n",
       "      <td>NaN</td>\n",
       "      <td>NaN</td>\n",
       "      <td>NaN</td>\n",
       "    </tr>\n",
       "    <tr>\n",
       "      <th>16</th>\n",
       "      <td>Normalized, ElasticNet, L1 Ratio 0.25, Alpha 0.1</td>\n",
       "      <td>17</td>\n",
       "      <td>0.0902943</td>\n",
       "      <td>2.661478e+01</td>\n",
       "      <td>0.0725357</td>\n",
       "      <td>2.602424e+01</td>\n",
       "      <td>ElasticNet</td>\n",
       "      <td>Unscaled</td>\n",
       "      <td>Normalized</td>\n",
       "      <td>0.10000</td>\n",
       "      <td>NaN</td>\n",
       "      <td>NaN</td>\n",
       "      <td>0.25</td>\n",
       "      <td>NaN</td>\n",
       "      <td>NaN</td>\n",
       "      <td>NaN</td>\n",
       "      <td>NaN</td>\n",
       "      <td>NaN</td>\n",
       "    </tr>\n",
       "    <tr>\n",
       "      <th>17</th>\n",
       "      <td>Normalized, ElasticNet, L1 Ratio 0.25, Alpha 1</td>\n",
       "      <td>18</td>\n",
       "      <td>0.000287795</td>\n",
       "      <td>2.790036e+01</td>\n",
       "      <td>-0.00773888</td>\n",
       "      <td>2.712711e+01</td>\n",
       "      <td>ElasticNet</td>\n",
       "      <td>Unscaled</td>\n",
       "      <td>Normalized</td>\n",
       "      <td>1.00000</td>\n",
       "      <td>NaN</td>\n",
       "      <td>NaN</td>\n",
       "      <td>0.25</td>\n",
       "      <td>NaN</td>\n",
       "      <td>NaN</td>\n",
       "      <td>NaN</td>\n",
       "      <td>NaN</td>\n",
       "      <td>NaN</td>\n",
       "    </tr>\n",
       "    <tr>\n",
       "      <th>18</th>\n",
       "      <td>Normalized, ElasticNet, L1 Ratio 0.25, Alpha 10</td>\n",
       "      <td>19</td>\n",
       "      <td>0</td>\n",
       "      <td>2.790438e+01</td>\n",
       "      <td>-0.0079875</td>\n",
       "      <td>2.713046e+01</td>\n",
       "      <td>ElasticNet</td>\n",
       "      <td>Unscaled</td>\n",
       "      <td>Normalized</td>\n",
       "      <td>10.00000</td>\n",
       "      <td>NaN</td>\n",
       "      <td>NaN</td>\n",
       "      <td>0.25</td>\n",
       "      <td>NaN</td>\n",
       "      <td>NaN</td>\n",
       "      <td>NaN</td>\n",
       "      <td>NaN</td>\n",
       "      <td>NaN</td>\n",
       "    </tr>\n",
       "    <tr>\n",
       "      <th>19</th>\n",
       "      <td>Normalized, ElasticNet, L1 Ratio 0.25, Alpha 100</td>\n",
       "      <td>20</td>\n",
       "      <td>0</td>\n",
       "      <td>2.790438e+01</td>\n",
       "      <td>-0.0079875</td>\n",
       "      <td>2.713046e+01</td>\n",
       "      <td>ElasticNet</td>\n",
       "      <td>Unscaled</td>\n",
       "      <td>Normalized</td>\n",
       "      <td>100.00000</td>\n",
       "      <td>NaN</td>\n",
       "      <td>NaN</td>\n",
       "      <td>0.25</td>\n",
       "      <td>NaN</td>\n",
       "      <td>NaN</td>\n",
       "      <td>NaN</td>\n",
       "      <td>NaN</td>\n",
       "      <td>NaN</td>\n",
       "    </tr>\n",
       "    <tr>\n",
       "      <th>20</th>\n",
       "      <td>Normalized, ElasticNet, L1 Ratio 0.5,  Alpha 0...</td>\n",
       "      <td>21</td>\n",
       "      <td>0.55148</td>\n",
       "      <td>1.868801e+01</td>\n",
       "      <td>0.517138</td>\n",
       "      <td>1.877764e+01</td>\n",
       "      <td>ElasticNet</td>\n",
       "      <td>Unscaled</td>\n",
       "      <td>Normalized</td>\n",
       "      <td>0.00100</td>\n",
       "      <td>NaN</td>\n",
       "      <td>NaN</td>\n",
       "      <td>0.50</td>\n",
       "      <td>NaN</td>\n",
       "      <td>NaN</td>\n",
       "      <td>NaN</td>\n",
       "      <td>NaN</td>\n",
       "      <td>NaN</td>\n",
       "    </tr>\n",
       "    <tr>\n",
       "      <th>21</th>\n",
       "      <td>Normalized, ElasticNet, L1 Ratio 0.5, Alpha 0.01</td>\n",
       "      <td>22</td>\n",
       "      <td>0.39095</td>\n",
       "      <td>2.177703e+01</td>\n",
       "      <td>0.340451</td>\n",
       "      <td>2.194589e+01</td>\n",
       "      <td>ElasticNet</td>\n",
       "      <td>Unscaled</td>\n",
       "      <td>Normalized</td>\n",
       "      <td>0.01000</td>\n",
       "      <td>NaN</td>\n",
       "      <td>NaN</td>\n",
       "      <td>0.50</td>\n",
       "      <td>NaN</td>\n",
       "      <td>NaN</td>\n",
       "      <td>NaN</td>\n",
       "      <td>NaN</td>\n",
       "      <td>NaN</td>\n",
       "    </tr>\n",
       "    <tr>\n",
       "      <th>22</th>\n",
       "      <td>Normalized, ElasticNet, L1 Ratio 0.5, Alpha 0.1</td>\n",
       "      <td>23</td>\n",
       "      <td>0.102759</td>\n",
       "      <td>2.643182e+01</td>\n",
       "      <td>0.0836451</td>\n",
       "      <td>2.586791e+01</td>\n",
       "      <td>ElasticNet</td>\n",
       "      <td>Unscaled</td>\n",
       "      <td>Normalized</td>\n",
       "      <td>0.10000</td>\n",
       "      <td>NaN</td>\n",
       "      <td>NaN</td>\n",
       "      <td>0.50</td>\n",
       "      <td>NaN</td>\n",
       "      <td>NaN</td>\n",
       "      <td>NaN</td>\n",
       "      <td>NaN</td>\n",
       "      <td>NaN</td>\n",
       "    </tr>\n",
       "    <tr>\n",
       "      <th>23</th>\n",
       "      <td>Normalized, ElasticNet, L1 Ratio 0.5, Alpha 1</td>\n",
       "      <td>24</td>\n",
       "      <td>0</td>\n",
       "      <td>2.790438e+01</td>\n",
       "      <td>-0.0079875</td>\n",
       "      <td>2.713046e+01</td>\n",
       "      <td>ElasticNet</td>\n",
       "      <td>Unscaled</td>\n",
       "      <td>Normalized</td>\n",
       "      <td>1.00000</td>\n",
       "      <td>NaN</td>\n",
       "      <td>NaN</td>\n",
       "      <td>0.50</td>\n",
       "      <td>NaN</td>\n",
       "      <td>NaN</td>\n",
       "      <td>NaN</td>\n",
       "      <td>NaN</td>\n",
       "      <td>NaN</td>\n",
       "    </tr>\n",
       "    <tr>\n",
       "      <th>24</th>\n",
       "      <td>Normalized, ElasticNet, L1 Ratio 0.5, Alpha 10</td>\n",
       "      <td>25</td>\n",
       "      <td>0</td>\n",
       "      <td>2.790438e+01</td>\n",
       "      <td>-0.0079875</td>\n",
       "      <td>2.713046e+01</td>\n",
       "      <td>ElasticNet</td>\n",
       "      <td>Unscaled</td>\n",
       "      <td>Normalized</td>\n",
       "      <td>10.00000</td>\n",
       "      <td>NaN</td>\n",
       "      <td>NaN</td>\n",
       "      <td>0.50</td>\n",
       "      <td>NaN</td>\n",
       "      <td>NaN</td>\n",
       "      <td>NaN</td>\n",
       "      <td>NaN</td>\n",
       "      <td>NaN</td>\n",
       "    </tr>\n",
       "    <tr>\n",
       "      <th>25</th>\n",
       "      <td>Normalized, ElasticNet, L1 Ratio 0.5, Alpha 100</td>\n",
       "      <td>26</td>\n",
       "      <td>0</td>\n",
       "      <td>2.790438e+01</td>\n",
       "      <td>-0.0079875</td>\n",
       "      <td>2.713046e+01</td>\n",
       "      <td>ElasticNet</td>\n",
       "      <td>Unscaled</td>\n",
       "      <td>Normalized</td>\n",
       "      <td>100.00000</td>\n",
       "      <td>NaN</td>\n",
       "      <td>NaN</td>\n",
       "      <td>0.50</td>\n",
       "      <td>NaN</td>\n",
       "      <td>NaN</td>\n",
       "      <td>NaN</td>\n",
       "      <td>NaN</td>\n",
       "      <td>NaN</td>\n",
       "    </tr>\n",
       "    <tr>\n",
       "      <th>26</th>\n",
       "      <td>Normalized, ElasticNet, L1 Ratio 0.75,  Alpha ...</td>\n",
       "      <td>27</td>\n",
       "      <td>0.577296</td>\n",
       "      <td>1.814222e+01</td>\n",
       "      <td>0.551777</td>\n",
       "      <td>1.809158e+01</td>\n",
       "      <td>ElasticNet</td>\n",
       "      <td>Unscaled</td>\n",
       "      <td>Normalized</td>\n",
       "      <td>0.00100</td>\n",
       "      <td>NaN</td>\n",
       "      <td>NaN</td>\n",
       "      <td>0.75</td>\n",
       "      <td>NaN</td>\n",
       "      <td>NaN</td>\n",
       "      <td>NaN</td>\n",
       "      <td>NaN</td>\n",
       "      <td>NaN</td>\n",
       "    </tr>\n",
       "    <tr>\n",
       "      <th>27</th>\n",
       "      <td>Normalized, ElasticNet, L1 Ratio 0.75, Alpha 0...</td>\n",
       "      <td>28</td>\n",
       "      <td>0.441472</td>\n",
       "      <td>2.085426e+01</td>\n",
       "      <td>0.392991</td>\n",
       "      <td>2.105363e+01</td>\n",
       "      <td>ElasticNet</td>\n",
       "      <td>Unscaled</td>\n",
       "      <td>Normalized</td>\n",
       "      <td>0.01000</td>\n",
       "      <td>NaN</td>\n",
       "      <td>NaN</td>\n",
       "      <td>0.75</td>\n",
       "      <td>NaN</td>\n",
       "      <td>NaN</td>\n",
       "      <td>NaN</td>\n",
       "      <td>NaN</td>\n",
       "      <td>NaN</td>\n",
       "    </tr>\n",
       "    <tr>\n",
       "      <th>28</th>\n",
       "      <td>Normalized, ElasticNet, L1 Ratio 0.75, Alpha 0...</td>\n",
       "      <td>29</td>\n",
       "      <td>0.13669</td>\n",
       "      <td>2.592720e+01</td>\n",
       "      <td>0.114057</td>\n",
       "      <td>2.543505e+01</td>\n",
       "      <td>ElasticNet</td>\n",
       "      <td>Unscaled</td>\n",
       "      <td>Normalized</td>\n",
       "      <td>0.10000</td>\n",
       "      <td>NaN</td>\n",
       "      <td>NaN</td>\n",
       "      <td>0.75</td>\n",
       "      <td>NaN</td>\n",
       "      <td>NaN</td>\n",
       "      <td>NaN</td>\n",
       "      <td>NaN</td>\n",
       "      <td>NaN</td>\n",
       "    </tr>\n",
       "    <tr>\n",
       "      <th>29</th>\n",
       "      <td>Normalized, ElasticNet, L1 Ratio 0.75, Alpha 1...</td>\n",
       "      <td>30</td>\n",
       "      <td>0</td>\n",
       "      <td>2.790438e+01</td>\n",
       "      <td>-0.0079875</td>\n",
       "      <td>2.713046e+01</td>\n",
       "      <td>ElasticNet</td>\n",
       "      <td>Unscaled</td>\n",
       "      <td>Normalized</td>\n",
       "      <td>1.00000</td>\n",
       "      <td>NaN</td>\n",
       "      <td>NaN</td>\n",
       "      <td>0.75</td>\n",
       "      <td>NaN</td>\n",
       "      <td>NaN</td>\n",
       "      <td>NaN</td>\n",
       "      <td>NaN</td>\n",
       "      <td>NaN</td>\n",
       "    </tr>\n",
       "    <tr>\n",
       "      <th>30</th>\n",
       "      <td>Normalized, ElasticNet, L1 Ratio 0.75, Alpha 1...</td>\n",
       "      <td>31</td>\n",
       "      <td>0</td>\n",
       "      <td>2.790438e+01</td>\n",
       "      <td>-0.0079875</td>\n",
       "      <td>2.713046e+01</td>\n",
       "      <td>ElasticNet</td>\n",
       "      <td>Unscaled</td>\n",
       "      <td>Normalized</td>\n",
       "      <td>10.00000</td>\n",
       "      <td>NaN</td>\n",
       "      <td>NaN</td>\n",
       "      <td>0.75</td>\n",
       "      <td>NaN</td>\n",
       "      <td>NaN</td>\n",
       "      <td>NaN</td>\n",
       "      <td>NaN</td>\n",
       "      <td>NaN</td>\n",
       "    </tr>\n",
       "    <tr>\n",
       "      <th>31</th>\n",
       "      <td>Normalized, ElasticNet, L1 Ratio 0.75, Alpha 1...</td>\n",
       "      <td>32</td>\n",
       "      <td>0</td>\n",
       "      <td>2.790438e+01</td>\n",
       "      <td>-0.0079875</td>\n",
       "      <td>2.713046e+01</td>\n",
       "      <td>ElasticNet</td>\n",
       "      <td>Unscaled</td>\n",
       "      <td>Normalized</td>\n",
       "      <td>100.00000</td>\n",
       "      <td>NaN</td>\n",
       "      <td>NaN</td>\n",
       "      <td>0.75</td>\n",
       "      <td>NaN</td>\n",
       "      <td>NaN</td>\n",
       "      <td>NaN</td>\n",
       "      <td>NaN</td>\n",
       "      <td>NaN</td>\n",
       "    </tr>\n",
       "    <tr>\n",
       "      <th>32</th>\n",
       "      <td>Unscaled, SGD, loss=Huber, L2,  Alpha 0.00001</td>\n",
       "      <td>33</td>\n",
       "      <td>-7.43889e+12</td>\n",
       "      <td>7.610731e+07</td>\n",
       "      <td>-7.78234e+12</td>\n",
       "      <td>7.538493e+07</td>\n",
       "      <td>SGD Linear Regression</td>\n",
       "      <td>Unscaled</td>\n",
       "      <td>Non-normalized</td>\n",
       "      <td>0.00001</td>\n",
       "      <td>NaN</td>\n",
       "      <td>L2</td>\n",
       "      <td>NaN</td>\n",
       "      <td>0.10</td>\n",
       "      <td>invscaling</td>\n",
       "      <td>0.01</td>\n",
       "      <td>0.25</td>\n",
       "      <td>NaN</td>\n",
       "    </tr>\n",
       "    <tr>\n",
       "      <th>33</th>\n",
       "      <td>Unscaled, SGD, loss=Huber, L2,  Alpha 0.0001</td>\n",
       "      <td>34</td>\n",
       "      <td>-7.44046e+12</td>\n",
       "      <td>7.611537e+07</td>\n",
       "      <td>-7.78396e+12</td>\n",
       "      <td>7.539279e+07</td>\n",
       "      <td>SGD Linear Regression</td>\n",
       "      <td>Unscaled</td>\n",
       "      <td>Non-normalized</td>\n",
       "      <td>0.00010</td>\n",
       "      <td>NaN</td>\n",
       "      <td>L2</td>\n",
       "      <td>NaN</td>\n",
       "      <td>0.10</td>\n",
       "      <td>invscaling</td>\n",
       "      <td>0.01</td>\n",
       "      <td>0.25</td>\n",
       "      <td>NaN</td>\n",
       "    </tr>\n",
       "    <tr>\n",
       "      <th>34</th>\n",
       "      <td>Unscaled, SGD, loss=Huber, L2,  Alpha 0.001</td>\n",
       "      <td>35</td>\n",
       "      <td>-6.43279e+12</td>\n",
       "      <td>7.077373e+07</td>\n",
       "      <td>-6.73369e+12</td>\n",
       "      <td>7.012228e+07</td>\n",
       "      <td>SGD Linear Regression</td>\n",
       "      <td>Unscaled</td>\n",
       "      <td>Non-normalized</td>\n",
       "      <td>0.00100</td>\n",
       "      <td>NaN</td>\n",
       "      <td>L2</td>\n",
       "      <td>NaN</td>\n",
       "      <td>0.10</td>\n",
       "      <td>invscaling</td>\n",
       "      <td>0.01</td>\n",
       "      <td>0.25</td>\n",
       "      <td>NaN</td>\n",
       "    </tr>\n",
       "    <tr>\n",
       "      <th>35</th>\n",
       "      <td>Unscaled, SGD, loss=Huber, L2,  Alpha 0.01</td>\n",
       "      <td>36</td>\n",
       "      <td>-6.83906e+12</td>\n",
       "      <td>7.297439e+07</td>\n",
       "      <td>-7.07108e+12</td>\n",
       "      <td>7.185754e+07</td>\n",
       "      <td>SGD Linear Regression</td>\n",
       "      <td>Unscaled</td>\n",
       "      <td>Non-normalized</td>\n",
       "      <td>0.01000</td>\n",
       "      <td>NaN</td>\n",
       "      <td>L2</td>\n",
       "      <td>NaN</td>\n",
       "      <td>0.10</td>\n",
       "      <td>invscaling</td>\n",
       "      <td>0.01</td>\n",
       "      <td>0.25</td>\n",
       "      <td>NaN</td>\n",
       "    </tr>\n",
       "    <tr>\n",
       "      <th>36</th>\n",
       "      <td>Unscaled, SGD, loss=Huber, L2,  Alpha 0.1</td>\n",
       "      <td>37</td>\n",
       "      <td>-5.33329e+12</td>\n",
       "      <td>6.444215e+07</td>\n",
       "      <td>-5.48082e+12</td>\n",
       "      <td>6.326338e+07</td>\n",
       "      <td>SGD Linear Regression</td>\n",
       "      <td>Unscaled</td>\n",
       "      <td>Non-normalized</td>\n",
       "      <td>0.10000</td>\n",
       "      <td>NaN</td>\n",
       "      <td>L2</td>\n",
       "      <td>NaN</td>\n",
       "      <td>0.10</td>\n",
       "      <td>invscaling</td>\n",
       "      <td>0.01</td>\n",
       "      <td>0.25</td>\n",
       "      <td>NaN</td>\n",
       "    </tr>\n",
       "    <tr>\n",
       "      <th>37</th>\n",
       "      <td>Unscaled, SGD, loss=Huber, L2,  Alpha 1</td>\n",
       "      <td>38</td>\n",
       "      <td>-6.62837e+12</td>\n",
       "      <td>7.184155e+07</td>\n",
       "      <td>-6.83623e+12</td>\n",
       "      <td>7.065417e+07</td>\n",
       "      <td>SGD Linear Regression</td>\n",
       "      <td>Unscaled</td>\n",
       "      <td>Non-normalized</td>\n",
       "      <td>1.00000</td>\n",
       "      <td>NaN</td>\n",
       "      <td>L2</td>\n",
       "      <td>NaN</td>\n",
       "      <td>0.10</td>\n",
       "      <td>invscaling</td>\n",
       "      <td>0.01</td>\n",
       "      <td>0.25</td>\n",
       "      <td>NaN</td>\n",
       "    </tr>\n",
       "    <tr>\n",
       "      <th>38</th>\n",
       "      <td>Unscaled, SGD, loss=Huber, L2,  Alpha 10</td>\n",
       "      <td>39</td>\n",
       "      <td>-3.63357e+12</td>\n",
       "      <td>5.319115e+07</td>\n",
       "      <td>-3.73685e+12</td>\n",
       "      <td>5.223746e+07</td>\n",
       "      <td>SGD Linear Regression</td>\n",
       "      <td>Unscaled</td>\n",
       "      <td>Non-normalized</td>\n",
       "      <td>10.00000</td>\n",
       "      <td>NaN</td>\n",
       "      <td>L2</td>\n",
       "      <td>NaN</td>\n",
       "      <td>0.10</td>\n",
       "      <td>invscaling</td>\n",
       "      <td>0.01</td>\n",
       "      <td>0.25</td>\n",
       "      <td>NaN</td>\n",
       "    </tr>\n",
       "    <tr>\n",
       "      <th>39</th>\n",
       "      <td>Unscaled, SGD, loss=Huber, L2,  Alpha 100</td>\n",
       "      <td>40</td>\n",
       "      <td>-4.87066e+09</td>\n",
       "      <td>1.947450e+06</td>\n",
       "      <td>-4.76509e+09</td>\n",
       "      <td>1.865371e+06</td>\n",
       "      <td>SGD Linear Regression</td>\n",
       "      <td>Unscaled</td>\n",
       "      <td>Non-normalized</td>\n",
       "      <td>100.00000</td>\n",
       "      <td>NaN</td>\n",
       "      <td>L2</td>\n",
       "      <td>NaN</td>\n",
       "      <td>0.10</td>\n",
       "      <td>invscaling</td>\n",
       "      <td>0.01</td>\n",
       "      <td>0.25</td>\n",
       "      <td>NaN</td>\n",
       "    </tr>\n",
       "    <tr>\n",
       "      <th>40</th>\n",
       "      <td>Unscaled, SGD, loss=Huber, L2,  Alpha 0.00001,...</td>\n",
       "      <td>41</td>\n",
       "      <td>-731990046485499</td>\n",
       "      <td>7.549617e+08</td>\n",
       "      <td>-758480624721869</td>\n",
       "      <td>7.442207e+08</td>\n",
       "      <td>SGD Linear Regression</td>\n",
       "      <td>Unscaled</td>\n",
       "      <td>Non-normalized</td>\n",
       "      <td>0.00001</td>\n",
       "      <td>NaN</td>\n",
       "      <td>L2</td>\n",
       "      <td>NaN</td>\n",
       "      <td>0.10</td>\n",
       "      <td>Constant</td>\n",
       "      <td>0.01</td>\n",
       "      <td>0.25</td>\n",
       "      <td>NaN</td>\n",
       "    </tr>\n",
       "    <tr>\n",
       "      <th>41</th>\n",
       "      <td>Unscaled, SGD, loss=Huber, L2,  Alpha 0.0001, ...</td>\n",
       "      <td>42</td>\n",
       "      <td>-230843779650040004608</td>\n",
       "      <td>4.239664e+11</td>\n",
       "      <td>-239197778350966996992</td>\n",
       "      <td>4.179344e+11</td>\n",
       "      <td>SGD Linear Regression</td>\n",
       "      <td>Unscaled</td>\n",
       "      <td>Non-normalized</td>\n",
       "      <td>0.00001</td>\n",
       "      <td>NaN</td>\n",
       "      <td>L2</td>\n",
       "      <td>NaN</td>\n",
       "      <td>0.10</td>\n",
       "      <td>Optimal</td>\n",
       "      <td>0.01</td>\n",
       "      <td>0.25</td>\n",
       "      <td>NaN</td>\n",
       "    </tr>\n",
       "    <tr>\n",
       "      <th>42</th>\n",
       "      <td>Unscaled, SGD, loss=Huber, L2, Alpha 0.00001, ...</td>\n",
       "      <td>43</td>\n",
       "      <td>-7.33496e+10</td>\n",
       "      <td>7.557380e+06</td>\n",
       "      <td>-7.58167e+10</td>\n",
       "      <td>7.440670e+06</td>\n",
       "      <td>SGD Linear Regression</td>\n",
       "      <td>Unscaled</td>\n",
       "      <td>Non-normalized</td>\n",
       "      <td>0.00001</td>\n",
       "      <td>NaN</td>\n",
       "      <td>L2</td>\n",
       "      <td>NaN</td>\n",
       "      <td>0.01</td>\n",
       "      <td>invscaling</td>\n",
       "      <td>0.01</td>\n",
       "      <td>0.25</td>\n",
       "      <td>NaN</td>\n",
       "    </tr>\n",
       "    <tr>\n",
       "      <th>43</th>\n",
       "      <td>Unscaled, SGD, loss=Huber, L2, Alpha 0.0001, e...</td>\n",
       "      <td>44</td>\n",
       "      <td>-6.77298e+10</td>\n",
       "      <td>7.262102e+06</td>\n",
       "      <td>-7.01016e+10</td>\n",
       "      <td>7.154733e+06</td>\n",
       "      <td>SGD Linear Regression</td>\n",
       "      <td>Unscaled</td>\n",
       "      <td>Non-normalized</td>\n",
       "      <td>0.00010</td>\n",
       "      <td>NaN</td>\n",
       "      <td>L2</td>\n",
       "      <td>NaN</td>\n",
       "      <td>0.01</td>\n",
       "      <td>invscaling</td>\n",
       "      <td>0.01</td>\n",
       "      <td>0.25</td>\n",
       "      <td>NaN</td>\n",
       "    </tr>\n",
       "    <tr>\n",
       "      <th>44</th>\n",
       "      <td>Unscaled, SGD, loss=Huber, L2, Alpha 0.001, ep...</td>\n",
       "      <td>45</td>\n",
       "      <td>-6.43286e+10</td>\n",
       "      <td>7.077410e+06</td>\n",
       "      <td>-6.73377e+10</td>\n",
       "      <td>7.012272e+06</td>\n",
       "      <td>SGD Linear Regression</td>\n",
       "      <td>Unscaled</td>\n",
       "      <td>Non-normalized</td>\n",
       "      <td>0.00100</td>\n",
       "      <td>NaN</td>\n",
       "      <td>L2</td>\n",
       "      <td>NaN</td>\n",
       "      <td>0.01</td>\n",
       "      <td>invscaling</td>\n",
       "      <td>0.01</td>\n",
       "      <td>0.25</td>\n",
       "      <td>NaN</td>\n",
       "    </tr>\n",
       "    <tr>\n",
       "      <th>45</th>\n",
       "      <td>Unscaled, SGD, loss=Huber, L2, Alpha 0.01, eps...</td>\n",
       "      <td>46</td>\n",
       "      <td>-5.71998e+10</td>\n",
       "      <td>6.673742e+06</td>\n",
       "      <td>-5.85856e+10</td>\n",
       "      <td>6.540711e+06</td>\n",
       "      <td>SGD Linear Regression</td>\n",
       "      <td>Unscaled</td>\n",
       "      <td>Non-normalized</td>\n",
       "      <td>0.01000</td>\n",
       "      <td>NaN</td>\n",
       "      <td>L2</td>\n",
       "      <td>NaN</td>\n",
       "      <td>0.01</td>\n",
       "      <td>invscaling</td>\n",
       "      <td>0.01</td>\n",
       "      <td>0.25</td>\n",
       "      <td>NaN</td>\n",
       "    </tr>\n",
       "    <tr>\n",
       "      <th>46</th>\n",
       "      <td>Unscaled, SGD, loss=Huber, L2, Alpha 0.1, epsi...</td>\n",
       "      <td>47</td>\n",
       "      <td>-6.69059e+10</td>\n",
       "      <td>7.217796e+06</td>\n",
       "      <td>-6.86564e+10</td>\n",
       "      <td>7.080602e+06</td>\n",
       "      <td>SGD Linear Regression</td>\n",
       "      <td>Unscaled</td>\n",
       "      <td>Non-normalized</td>\n",
       "      <td>0.10000</td>\n",
       "      <td>NaN</td>\n",
       "      <td>L2</td>\n",
       "      <td>NaN</td>\n",
       "      <td>0.01</td>\n",
       "      <td>invscaling</td>\n",
       "      <td>0.01</td>\n",
       "      <td>0.25</td>\n",
       "      <td>NaN</td>\n",
       "    </tr>\n",
       "    <tr>\n",
       "      <th>47</th>\n",
       "      <td>Unscaled, SGD, loss=Huber, L2, Alpha 0.001, ep...</td>\n",
       "      <td>48</td>\n",
       "      <td>-160819630965698</td>\n",
       "      <td>3.538685e+08</td>\n",
       "      <td>-168342038933085</td>\n",
       "      <td>3.506112e+08</td>\n",
       "      <td>SGD Linear Regression</td>\n",
       "      <td>Unscaled</td>\n",
       "      <td>Non-normalized</td>\n",
       "      <td>0.00100</td>\n",
       "      <td>NaN</td>\n",
       "      <td>L2</td>\n",
       "      <td>NaN</td>\n",
       "      <td>0.50</td>\n",
       "      <td>invscaling</td>\n",
       "      <td>0.01</td>\n",
       "      <td>0.25</td>\n",
       "      <td>NaN</td>\n",
       "    </tr>\n",
       "    <tr>\n",
       "      <th>48</th>\n",
       "      <td>Unscaled, Kernel Ridge, Alpha 0.001, auto solver</td>\n",
       "      <td>49</td>\n",
       "      <td>0.62911</td>\n",
       "      <td>1.699397e+01</td>\n",
       "      <td>0.603181</td>\n",
       "      <td>1.702259e+01</td>\n",
       "      <td>Kernel Ridge</td>\n",
       "      <td>Unscaled</td>\n",
       "      <td>NaN</td>\n",
       "      <td>0.00100</td>\n",
       "      <td>NaN</td>\n",
       "      <td>NaN</td>\n",
       "      <td>NaN</td>\n",
       "      <td>NaN</td>\n",
       "      <td>NaN</td>\n",
       "      <td>NaN</td>\n",
       "      <td>NaN</td>\n",
       "      <td>NaN</td>\n",
       "    </tr>\n",
       "    <tr>\n",
       "      <th>49</th>\n",
       "      <td>Unscaled, Kernel Ridge, Alpha 0.01, auto solver</td>\n",
       "      <td>50</td>\n",
       "      <td>0.630038</td>\n",
       "      <td>1.697269e+01</td>\n",
       "      <td>0.618134</td>\n",
       "      <td>1.669879e+01</td>\n",
       "      <td>Kernel Ridge</td>\n",
       "      <td>Unscaled</td>\n",
       "      <td>NaN</td>\n",
       "      <td>0.01000</td>\n",
       "      <td>NaN</td>\n",
       "      <td>NaN</td>\n",
       "      <td>NaN</td>\n",
       "      <td>NaN</td>\n",
       "      <td>NaN</td>\n",
       "      <td>NaN</td>\n",
       "      <td>NaN</td>\n",
       "      <td>NaN</td>\n",
       "    </tr>\n",
       "    <tr>\n",
       "      <th>50</th>\n",
       "      <td>Unscaled, Kernel Ridge, Alpha 0.1, auto solver</td>\n",
       "      <td>51</td>\n",
       "      <td>0.446553</td>\n",
       "      <td>2.075920e+01</td>\n",
       "      <td>0.378315</td>\n",
       "      <td>2.130663e+01</td>\n",
       "      <td>Kernel Ridge</td>\n",
       "      <td>Unscaled</td>\n",
       "      <td>NaN</td>\n",
       "      <td>0.10000</td>\n",
       "      <td>NaN</td>\n",
       "      <td>NaN</td>\n",
       "      <td>NaN</td>\n",
       "      <td>NaN</td>\n",
       "      <td>NaN</td>\n",
       "      <td>NaN</td>\n",
       "      <td>NaN</td>\n",
       "      <td>NaN</td>\n",
       "    </tr>\n",
       "    <tr>\n",
       "      <th>51</th>\n",
       "      <td>Unscaled, Kernel Ridge, Alpha 1, auto solver</td>\n",
       "      <td>52</td>\n",
       "      <td>0.638681</td>\n",
       "      <td>1.677327e+01</td>\n",
       "      <td>0.621496</td>\n",
       "      <td>1.662512e+01</td>\n",
       "      <td>Kernel Ridge</td>\n",
       "      <td>Unscaled</td>\n",
       "      <td>NaN</td>\n",
       "      <td>1.00000</td>\n",
       "      <td>NaN</td>\n",
       "      <td>NaN</td>\n",
       "      <td>NaN</td>\n",
       "      <td>NaN</td>\n",
       "      <td>NaN</td>\n",
       "      <td>NaN</td>\n",
       "      <td>NaN</td>\n",
       "      <td>NaN</td>\n",
       "    </tr>\n",
       "    <tr>\n",
       "      <th>52</th>\n",
       "      <td>Unscaled, Kernel Ridge, Alpha 10, auto solver</td>\n",
       "      <td>53</td>\n",
       "      <td>0.631686</td>\n",
       "      <td>1.693484e+01</td>\n",
       "      <td>0.613038</td>\n",
       "      <td>1.680984e+01</td>\n",
       "      <td>Kernel Ridge</td>\n",
       "      <td>Unscaled</td>\n",
       "      <td>NaN</td>\n",
       "      <td>10.00000</td>\n",
       "      <td>NaN</td>\n",
       "      <td>NaN</td>\n",
       "      <td>NaN</td>\n",
       "      <td>NaN</td>\n",
       "      <td>NaN</td>\n",
       "      <td>NaN</td>\n",
       "      <td>NaN</td>\n",
       "      <td>NaN</td>\n",
       "    </tr>\n",
       "    <tr>\n",
       "      <th>53</th>\n",
       "      <td>Unscaled, Kernel Ridge, Alpha 100, auto solver</td>\n",
       "      <td>54</td>\n",
       "      <td>0.620819</td>\n",
       "      <td>1.718287e+01</td>\n",
       "      <td>0.607555</td>\n",
       "      <td>1.692852e+01</td>\n",
       "      <td>Kernel Ridge</td>\n",
       "      <td>Unscaled</td>\n",
       "      <td>NaN</td>\n",
       "      <td>100.00000</td>\n",
       "      <td>NaN</td>\n",
       "      <td>NaN</td>\n",
       "      <td>NaN</td>\n",
       "      <td>NaN</td>\n",
       "      <td>NaN</td>\n",
       "      <td>NaN</td>\n",
       "      <td>NaN</td>\n",
       "      <td>NaN</td>\n",
       "    </tr>\n",
       "    <tr>\n",
       "      <th>54</th>\n",
       "      <td>Unscaled, Normalized, OLS Linear Regression</td>\n",
       "      <td>2n</td>\n",
       "      <td>0.641185</td>\n",
       "      <td>1.671505e+01</td>\n",
       "      <td>-17688596633522700025856</td>\n",
       "      <td>3.593985e+12</td>\n",
       "      <td>OLS Linear Regression</td>\n",
       "      <td>Unscaled</td>\n",
       "      <td>Normalized</td>\n",
       "      <td>NaN</td>\n",
       "      <td>NaN</td>\n",
       "      <td>NaN</td>\n",
       "      <td>NaN</td>\n",
       "      <td>NaN</td>\n",
       "      <td>NaN</td>\n",
       "      <td>NaN</td>\n",
       "      <td>NaN</td>\n",
       "      <td>NaN</td>\n",
       "    </tr>\n",
       "    <tr>\n",
       "      <th>55</th>\n",
       "      <td>Unscaled, Random Forest, 10 estimators</td>\n",
       "      <td>rfc_1</td>\n",
       "      <td>0.915474</td>\n",
       "      <td>8.112725e+00</td>\n",
       "      <td>0.516572</td>\n",
       "      <td>1.878865e+01</td>\n",
       "      <td>Random Forest Regressor</td>\n",
       "      <td>Unscaled</td>\n",
       "      <td>NaN</td>\n",
       "      <td>NaN</td>\n",
       "      <td>NaN</td>\n",
       "      <td>NaN</td>\n",
       "      <td>NaN</td>\n",
       "      <td>NaN</td>\n",
       "      <td>NaN</td>\n",
       "      <td>NaN</td>\n",
       "      <td>NaN</td>\n",
       "      <td>10.0</td>\n",
       "    </tr>\n",
       "    <tr>\n",
       "      <th>56</th>\n",
       "      <td>Unscaled, Random Forest, 100 estimators</td>\n",
       "      <td>rfc_2</td>\n",
       "      <td>0.93891</td>\n",
       "      <td>6.896950e+00</td>\n",
       "      <td>0.567818</td>\n",
       "      <td>1.776490e+01</td>\n",
       "      <td>Random Forest Regressor</td>\n",
       "      <td>Unscaled</td>\n",
       "      <td>NaN</td>\n",
       "      <td>NaN</td>\n",
       "      <td>NaN</td>\n",
       "      <td>NaN</td>\n",
       "      <td>NaN</td>\n",
       "      <td>NaN</td>\n",
       "      <td>NaN</td>\n",
       "      <td>NaN</td>\n",
       "      <td>NaN</td>\n",
       "      <td>100.0</td>\n",
       "    </tr>\n",
       "    <tr>\n",
       "      <th>57</th>\n",
       "      <td>Unscaled, Random Forest, 1,000 estimators</td>\n",
       "      <td>rfc_3</td>\n",
       "      <td>0.942626</td>\n",
       "      <td>6.683887e+00</td>\n",
       "      <td>0.571351</td>\n",
       "      <td>1.769215e+01</td>\n",
       "      <td>Random Forest Regressor</td>\n",
       "      <td>Unscaled</td>\n",
       "      <td>NaN</td>\n",
       "      <td>NaN</td>\n",
       "      <td>NaN</td>\n",
       "      <td>NaN</td>\n",
       "      <td>NaN</td>\n",
       "      <td>NaN</td>\n",
       "      <td>NaN</td>\n",
       "      <td>NaN</td>\n",
       "      <td>NaN</td>\n",
       "      <td>1000.0</td>\n",
       "    </tr>\n",
       "  </tbody>\n",
       "</table>\n",
       "</div>"
      ],
      "text/plain": [
       "                         Individual Algorithm Summary   LR_#  \\\n",
       "0   Unscaled, OLS Linear Regression, No Train-Test...      1   \n",
       "1                     Unscaled, OLS Linear Regression      2   \n",
       "2   Unscaled, Ridge Regression, Alpha 0.001, auto ...      3   \n",
       "3   Unscaled, Ridge Regression, Alpha 0.01, auto s...      4   \n",
       "4   Unscaled, Ridge Regression, Alpha 0.1, auto so...      5   \n",
       "5    Unscaled, Ridge Regression, Alpha 1, auto solver      6   \n",
       "6   Unscaled, Ridge Regression, Alpha 10, auto solver      7   \n",
       "7   Unscaled, Ridge Regression, Alpha 100, auto so...      8   \n",
       "8                      Normalized, LASSO, Alpha 0.001      9   \n",
       "9                       Normalized, LASSO, Alpha 0.01     10   \n",
       "10                       Normalized, LASSO, Alpha 0.1     11   \n",
       "11                         Normalized, LASSO, Alpha 1     12   \n",
       "12                        Normalized, LASSO, Alpha 10     13   \n",
       "13                       Normalized, LASSO, Alpha 100     14   \n",
       "14  Normalized, ElasticNet, L1 Ratio 0.25,  Alpha ...     15   \n",
       "15  Normalized, ElasticNet, L1 Ratio 0.25, Alpha 0.01     16   \n",
       "16   Normalized, ElasticNet, L1 Ratio 0.25, Alpha 0.1     17   \n",
       "17     Normalized, ElasticNet, L1 Ratio 0.25, Alpha 1     18   \n",
       "18    Normalized, ElasticNet, L1 Ratio 0.25, Alpha 10     19   \n",
       "19   Normalized, ElasticNet, L1 Ratio 0.25, Alpha 100     20   \n",
       "20  Normalized, ElasticNet, L1 Ratio 0.5,  Alpha 0...     21   \n",
       "21   Normalized, ElasticNet, L1 Ratio 0.5, Alpha 0.01     22   \n",
       "22    Normalized, ElasticNet, L1 Ratio 0.5, Alpha 0.1     23   \n",
       "23      Normalized, ElasticNet, L1 Ratio 0.5, Alpha 1     24   \n",
       "24     Normalized, ElasticNet, L1 Ratio 0.5, Alpha 10     25   \n",
       "25    Normalized, ElasticNet, L1 Ratio 0.5, Alpha 100     26   \n",
       "26  Normalized, ElasticNet, L1 Ratio 0.75,  Alpha ...     27   \n",
       "27  Normalized, ElasticNet, L1 Ratio 0.75, Alpha 0...     28   \n",
       "28  Normalized, ElasticNet, L1 Ratio 0.75, Alpha 0...     29   \n",
       "29  Normalized, ElasticNet, L1 Ratio 0.75, Alpha 1...     30   \n",
       "30  Normalized, ElasticNet, L1 Ratio 0.75, Alpha 1...     31   \n",
       "31  Normalized, ElasticNet, L1 Ratio 0.75, Alpha 1...     32   \n",
       "32      Unscaled, SGD, loss=Huber, L2,  Alpha 0.00001     33   \n",
       "33       Unscaled, SGD, loss=Huber, L2,  Alpha 0.0001     34   \n",
       "34        Unscaled, SGD, loss=Huber, L2,  Alpha 0.001     35   \n",
       "35         Unscaled, SGD, loss=Huber, L2,  Alpha 0.01     36   \n",
       "36          Unscaled, SGD, loss=Huber, L2,  Alpha 0.1     37   \n",
       "37            Unscaled, SGD, loss=Huber, L2,  Alpha 1     38   \n",
       "38           Unscaled, SGD, loss=Huber, L2,  Alpha 10     39   \n",
       "39          Unscaled, SGD, loss=Huber, L2,  Alpha 100     40   \n",
       "40  Unscaled, SGD, loss=Huber, L2,  Alpha 0.00001,...     41   \n",
       "41  Unscaled, SGD, loss=Huber, L2,  Alpha 0.0001, ...     42   \n",
       "42  Unscaled, SGD, loss=Huber, L2, Alpha 0.00001, ...     43   \n",
       "43  Unscaled, SGD, loss=Huber, L2, Alpha 0.0001, e...     44   \n",
       "44  Unscaled, SGD, loss=Huber, L2, Alpha 0.001, ep...     45   \n",
       "45  Unscaled, SGD, loss=Huber, L2, Alpha 0.01, eps...     46   \n",
       "46  Unscaled, SGD, loss=Huber, L2, Alpha 0.1, epsi...     47   \n",
       "47  Unscaled, SGD, loss=Huber, L2, Alpha 0.001, ep...     48   \n",
       "48   Unscaled, Kernel Ridge, Alpha 0.001, auto solver     49   \n",
       "49    Unscaled, Kernel Ridge, Alpha 0.01, auto solver     50   \n",
       "50     Unscaled, Kernel Ridge, Alpha 0.1, auto solver     51   \n",
       "51       Unscaled, Kernel Ridge, Alpha 1, auto solver     52   \n",
       "52      Unscaled, Kernel Ridge, Alpha 10, auto solver     53   \n",
       "53     Unscaled, Kernel Ridge, Alpha 100, auto solver     54   \n",
       "54        Unscaled, Normalized, OLS Linear Regression     2n   \n",
       "55             Unscaled, Random Forest, 10 estimators  rfc_1   \n",
       "56            Unscaled, Random Forest, 100 estimators  rfc_2   \n",
       "57          Unscaled, Random Forest, 1,000 estimators  rfc_3   \n",
       "\n",
       "      Train_Accuracy_Score    Train_RMSE       Test_Accuracy_Score  \\\n",
       "0                 0.652889  1.634743e+01                       NaN   \n",
       "1                 0.646626  1.658783e+01                  0.640625   \n",
       "2                 0.646537  1.658992e+01                  0.640764   \n",
       "3                 0.646118  1.659976e+01                  0.639803   \n",
       "4                 0.644564  1.663615e+01                  0.634241   \n",
       "5                 0.638631  1.677443e+01                  0.621876   \n",
       "6                 0.631687  1.693482e+01                  0.613007   \n",
       "7                 0.620851  1.718215e+01                  0.607718   \n",
       "8                 0.620849  1.718219e+01                  0.599832   \n",
       "9                 0.580685  1.806936e+01                  0.594475   \n",
       "10                0.432863  2.101438e+01                  0.455485   \n",
       "11                       0  2.790438e+01                -0.0079875   \n",
       "12                       0  2.790438e+01                -0.0079875   \n",
       "13                       0  2.790438e+01                -0.0079875   \n",
       "14                0.531913  1.909130e+01                  0.491902   \n",
       "15                0.356699  2.238100e+01                  0.307876   \n",
       "16               0.0902943  2.661478e+01                 0.0725357   \n",
       "17             0.000287795  2.790036e+01               -0.00773888   \n",
       "18                       0  2.790438e+01                -0.0079875   \n",
       "19                       0  2.790438e+01                -0.0079875   \n",
       "20                 0.55148  1.868801e+01                  0.517138   \n",
       "21                 0.39095  2.177703e+01                  0.340451   \n",
       "22                0.102759  2.643182e+01                 0.0836451   \n",
       "23                       0  2.790438e+01                -0.0079875   \n",
       "24                       0  2.790438e+01                -0.0079875   \n",
       "25                       0  2.790438e+01                -0.0079875   \n",
       "26                0.577296  1.814222e+01                  0.551777   \n",
       "27                0.441472  2.085426e+01                  0.392991   \n",
       "28                 0.13669  2.592720e+01                  0.114057   \n",
       "29                       0  2.790438e+01                -0.0079875   \n",
       "30                       0  2.790438e+01                -0.0079875   \n",
       "31                       0  2.790438e+01                -0.0079875   \n",
       "32            -7.43889e+12  7.610731e+07              -7.78234e+12   \n",
       "33            -7.44046e+12  7.611537e+07              -7.78396e+12   \n",
       "34            -6.43279e+12  7.077373e+07              -6.73369e+12   \n",
       "35            -6.83906e+12  7.297439e+07              -7.07108e+12   \n",
       "36            -5.33329e+12  6.444215e+07              -5.48082e+12   \n",
       "37            -6.62837e+12  7.184155e+07              -6.83623e+12   \n",
       "38            -3.63357e+12  5.319115e+07              -3.73685e+12   \n",
       "39            -4.87066e+09  1.947450e+06              -4.76509e+09   \n",
       "40        -731990046485499  7.549617e+08          -758480624721869   \n",
       "41  -230843779650040004608  4.239664e+11    -239197778350966996992   \n",
       "42            -7.33496e+10  7.557380e+06              -7.58167e+10   \n",
       "43            -6.77298e+10  7.262102e+06              -7.01016e+10   \n",
       "44            -6.43286e+10  7.077410e+06              -6.73377e+10   \n",
       "45            -5.71998e+10  6.673742e+06              -5.85856e+10   \n",
       "46            -6.69059e+10  7.217796e+06              -6.86564e+10   \n",
       "47        -160819630965698  3.538685e+08          -168342038933085   \n",
       "48                 0.62911  1.699397e+01                  0.603181   \n",
       "49                0.630038  1.697269e+01                  0.618134   \n",
       "50                0.446553  2.075920e+01                  0.378315   \n",
       "51                0.638681  1.677327e+01                  0.621496   \n",
       "52                0.631686  1.693484e+01                  0.613038   \n",
       "53                0.620819  1.718287e+01                  0.607555   \n",
       "54                0.641185  1.671505e+01  -17688596633522700025856   \n",
       "55                0.915474  8.112725e+00                  0.516572   \n",
       "56                 0.93891  6.896950e+00                  0.567818   \n",
       "57                0.942626  6.683887e+00                  0.571351   \n",
       "\n",
       "       Test_RMSE                    Model Unscaled/Scaled  \\\n",
       "0            NaN    OLS Linear Regression             NaN   \n",
       "1   1.619956e+01    OLS Linear Regression        Unscaled   \n",
       "2   1.619642e+01         Ridge Regression        Unscaled   \n",
       "3   1.621808e+01         Ridge Regression        Unscaled   \n",
       "4   1.634281e+01         Ridge Regression        Unscaled   \n",
       "5   1.661678e+01         Ridge Regression        Unscaled   \n",
       "6   1.681052e+01         Ridge Regression        Unscaled   \n",
       "7   1.692499e+01         Ridge Regression        Unscaled   \n",
       "8   1.709427e+01                    LASSO        Unscaled   \n",
       "9   1.720831e+01                    LASSO        Unscaled   \n",
       "10  1.994042e+01                    LASSO        Unscaled   \n",
       "11  2.713046e+01                    LASSO        Unscaled   \n",
       "12  2.713046e+01                    LASSO        Unscaled   \n",
       "13  2.713046e+01                    LASSO        Unscaled   \n",
       "14  1.926209e+01               ElasticNet        Unscaled   \n",
       "15  2.248131e+01               ElasticNet        Unscaled   \n",
       "16  2.602424e+01               ElasticNet        Unscaled   \n",
       "17  2.712711e+01               ElasticNet        Unscaled   \n",
       "18  2.713046e+01               ElasticNet        Unscaled   \n",
       "19  2.713046e+01               ElasticNet        Unscaled   \n",
       "20  1.877764e+01               ElasticNet        Unscaled   \n",
       "21  2.194589e+01               ElasticNet        Unscaled   \n",
       "22  2.586791e+01               ElasticNet        Unscaled   \n",
       "23  2.713046e+01               ElasticNet        Unscaled   \n",
       "24  2.713046e+01               ElasticNet        Unscaled   \n",
       "25  2.713046e+01               ElasticNet        Unscaled   \n",
       "26  1.809158e+01               ElasticNet        Unscaled   \n",
       "27  2.105363e+01               ElasticNet        Unscaled   \n",
       "28  2.543505e+01               ElasticNet        Unscaled   \n",
       "29  2.713046e+01               ElasticNet        Unscaled   \n",
       "30  2.713046e+01               ElasticNet        Unscaled   \n",
       "31  2.713046e+01               ElasticNet        Unscaled   \n",
       "32  7.538493e+07    SGD Linear Regression        Unscaled   \n",
       "33  7.539279e+07    SGD Linear Regression        Unscaled   \n",
       "34  7.012228e+07    SGD Linear Regression        Unscaled   \n",
       "35  7.185754e+07    SGD Linear Regression        Unscaled   \n",
       "36  6.326338e+07    SGD Linear Regression        Unscaled   \n",
       "37  7.065417e+07    SGD Linear Regression        Unscaled   \n",
       "38  5.223746e+07    SGD Linear Regression        Unscaled   \n",
       "39  1.865371e+06    SGD Linear Regression        Unscaled   \n",
       "40  7.442207e+08    SGD Linear Regression        Unscaled   \n",
       "41  4.179344e+11    SGD Linear Regression        Unscaled   \n",
       "42  7.440670e+06    SGD Linear Regression        Unscaled   \n",
       "43  7.154733e+06    SGD Linear Regression        Unscaled   \n",
       "44  7.012272e+06    SGD Linear Regression        Unscaled   \n",
       "45  6.540711e+06    SGD Linear Regression        Unscaled   \n",
       "46  7.080602e+06    SGD Linear Regression        Unscaled   \n",
       "47  3.506112e+08    SGD Linear Regression        Unscaled   \n",
       "48  1.702259e+01             Kernel Ridge        Unscaled   \n",
       "49  1.669879e+01             Kernel Ridge        Unscaled   \n",
       "50  2.130663e+01             Kernel Ridge        Unscaled   \n",
       "51  1.662512e+01             Kernel Ridge        Unscaled   \n",
       "52  1.680984e+01             Kernel Ridge        Unscaled   \n",
       "53  1.692852e+01             Kernel Ridge        Unscaled   \n",
       "54  3.593985e+12    OLS Linear Regression        Unscaled   \n",
       "55  1.878865e+01  Random Forest Regressor        Unscaled   \n",
       "56  1.776490e+01  Random Forest Regressor        Unscaled   \n",
       "57  1.769215e+01  Random Forest Regressor        Unscaled   \n",
       "\n",
       "   Non-normalized/Normalized      Alpha Solver Penalty  \\\n",
       "0                        NaN        NaN    NaN     NaN   \n",
       "1             Non-normalized        NaN    NaN     NaN   \n",
       "2             Non-normalized    0.00100   Auto     NaN   \n",
       "3             Non-normalized    0.01000   Auto     NaN   \n",
       "4             Non-normalized    0.10000   Auto     NaN   \n",
       "5             Non-normalized    1.00000   Auto     NaN   \n",
       "6             Non-normalized   10.00000   Auto     NaN   \n",
       "7             Non-normalized  100.00000   Auto     NaN   \n",
       "8                 Normalized    0.00100    NaN     NaN   \n",
       "9                 Normalized    0.01000    NaN     NaN   \n",
       "10                Normalized    0.10000    NaN     NaN   \n",
       "11                Normalized    1.00000    NaN     NaN   \n",
       "12                Normalized   10.00000    NaN     NaN   \n",
       "13                Normalized  100.00000    NaN     NaN   \n",
       "14                Normalized    0.00100    NaN     NaN   \n",
       "15                Normalized    0.01000    NaN     NaN   \n",
       "16                Normalized    0.10000    NaN     NaN   \n",
       "17                Normalized    1.00000    NaN     NaN   \n",
       "18                Normalized   10.00000    NaN     NaN   \n",
       "19                Normalized  100.00000    NaN     NaN   \n",
       "20                Normalized    0.00100    NaN     NaN   \n",
       "21                Normalized    0.01000    NaN     NaN   \n",
       "22                Normalized    0.10000    NaN     NaN   \n",
       "23                Normalized    1.00000    NaN     NaN   \n",
       "24                Normalized   10.00000    NaN     NaN   \n",
       "25                Normalized  100.00000    NaN     NaN   \n",
       "26                Normalized    0.00100    NaN     NaN   \n",
       "27                Normalized    0.01000    NaN     NaN   \n",
       "28                Normalized    0.10000    NaN     NaN   \n",
       "29                Normalized    1.00000    NaN     NaN   \n",
       "30                Normalized   10.00000    NaN     NaN   \n",
       "31                Normalized  100.00000    NaN     NaN   \n",
       "32            Non-normalized    0.00001    NaN      L2   \n",
       "33            Non-normalized    0.00010    NaN      L2   \n",
       "34            Non-normalized    0.00100    NaN      L2   \n",
       "35            Non-normalized    0.01000    NaN      L2   \n",
       "36            Non-normalized    0.10000    NaN      L2   \n",
       "37            Non-normalized    1.00000    NaN      L2   \n",
       "38            Non-normalized   10.00000    NaN      L2   \n",
       "39            Non-normalized  100.00000    NaN      L2   \n",
       "40            Non-normalized    0.00001    NaN      L2   \n",
       "41            Non-normalized    0.00001    NaN      L2   \n",
       "42            Non-normalized    0.00001    NaN      L2   \n",
       "43            Non-normalized    0.00010    NaN      L2   \n",
       "44            Non-normalized    0.00100    NaN      L2   \n",
       "45            Non-normalized    0.01000    NaN      L2   \n",
       "46            Non-normalized    0.10000    NaN      L2   \n",
       "47            Non-normalized    0.00100    NaN      L2   \n",
       "48                       NaN    0.00100    NaN     NaN   \n",
       "49                       NaN    0.01000    NaN     NaN   \n",
       "50                       NaN    0.10000    NaN     NaN   \n",
       "51                       NaN    1.00000    NaN     NaN   \n",
       "52                       NaN   10.00000    NaN     NaN   \n",
       "53                       NaN  100.00000    NaN     NaN   \n",
       "54                Normalized        NaN    NaN     NaN   \n",
       "55                       NaN        NaN    NaN     NaN   \n",
       "56                       NaN        NaN    NaN     NaN   \n",
       "57                       NaN        NaN    NaN     NaN   \n",
       "\n",
       "    L1 Ratio (for ElasticNet)  epsilon (for SGD Regressor)  \\\n",
       "0                         NaN                          NaN   \n",
       "1                         NaN                          NaN   \n",
       "2                         NaN                          NaN   \n",
       "3                         NaN                          NaN   \n",
       "4                         NaN                          NaN   \n",
       "5                         NaN                          NaN   \n",
       "6                         NaN                          NaN   \n",
       "7                         NaN                          NaN   \n",
       "8                         NaN                          NaN   \n",
       "9                         NaN                          NaN   \n",
       "10                        NaN                          NaN   \n",
       "11                        NaN                          NaN   \n",
       "12                        NaN                          NaN   \n",
       "13                        NaN                          NaN   \n",
       "14                       0.25                          NaN   \n",
       "15                       0.25                          NaN   \n",
       "16                       0.25                          NaN   \n",
       "17                       0.25                          NaN   \n",
       "18                       0.25                          NaN   \n",
       "19                       0.25                          NaN   \n",
       "20                       0.50                          NaN   \n",
       "21                       0.50                          NaN   \n",
       "22                       0.50                          NaN   \n",
       "23                       0.50                          NaN   \n",
       "24                       0.50                          NaN   \n",
       "25                       0.50                          NaN   \n",
       "26                       0.75                          NaN   \n",
       "27                       0.75                          NaN   \n",
       "28                       0.75                          NaN   \n",
       "29                       0.75                          NaN   \n",
       "30                       0.75                          NaN   \n",
       "31                       0.75                          NaN   \n",
       "32                        NaN                         0.10   \n",
       "33                        NaN                         0.10   \n",
       "34                        NaN                         0.10   \n",
       "35                        NaN                         0.10   \n",
       "36                        NaN                         0.10   \n",
       "37                        NaN                         0.10   \n",
       "38                        NaN                         0.10   \n",
       "39                        NaN                         0.10   \n",
       "40                        NaN                         0.10   \n",
       "41                        NaN                         0.10   \n",
       "42                        NaN                         0.01   \n",
       "43                        NaN                         0.01   \n",
       "44                        NaN                         0.01   \n",
       "45                        NaN                         0.01   \n",
       "46                        NaN                         0.01   \n",
       "47                        NaN                         0.50   \n",
       "48                        NaN                          NaN   \n",
       "49                        NaN                          NaN   \n",
       "50                        NaN                          NaN   \n",
       "51                        NaN                          NaN   \n",
       "52                        NaN                          NaN   \n",
       "53                        NaN                          NaN   \n",
       "54                        NaN                          NaN   \n",
       "55                        NaN                          NaN   \n",
       "56                        NaN                          NaN   \n",
       "57                        NaN                          NaN   \n",
       "\n",
       "   learning_rate (for SGD Regressor)  eta0 (for SGD Regressor)  \\\n",
       "0                                NaN                       NaN   \n",
       "1                                NaN                       NaN   \n",
       "2                                NaN                       NaN   \n",
       "3                                NaN                       NaN   \n",
       "4                                NaN                       NaN   \n",
       "5                                NaN                       NaN   \n",
       "6                                NaN                       NaN   \n",
       "7                                NaN                       NaN   \n",
       "8                                NaN                       NaN   \n",
       "9                                NaN                       NaN   \n",
       "10                               NaN                       NaN   \n",
       "11                               NaN                       NaN   \n",
       "12                               NaN                       NaN   \n",
       "13                               NaN                       NaN   \n",
       "14                               NaN                       NaN   \n",
       "15                               NaN                       NaN   \n",
       "16                               NaN                       NaN   \n",
       "17                               NaN                       NaN   \n",
       "18                               NaN                       NaN   \n",
       "19                               NaN                       NaN   \n",
       "20                               NaN                       NaN   \n",
       "21                               NaN                       NaN   \n",
       "22                               NaN                       NaN   \n",
       "23                               NaN                       NaN   \n",
       "24                               NaN                       NaN   \n",
       "25                               NaN                       NaN   \n",
       "26                               NaN                       NaN   \n",
       "27                               NaN                       NaN   \n",
       "28                               NaN                       NaN   \n",
       "29                               NaN                       NaN   \n",
       "30                               NaN                       NaN   \n",
       "31                               NaN                       NaN   \n",
       "32                        invscaling                      0.01   \n",
       "33                        invscaling                      0.01   \n",
       "34                        invscaling                      0.01   \n",
       "35                        invscaling                      0.01   \n",
       "36                        invscaling                      0.01   \n",
       "37                        invscaling                      0.01   \n",
       "38                        invscaling                      0.01   \n",
       "39                        invscaling                      0.01   \n",
       "40                          Constant                      0.01   \n",
       "41                           Optimal                      0.01   \n",
       "42                        invscaling                      0.01   \n",
       "43                        invscaling                      0.01   \n",
       "44                        invscaling                      0.01   \n",
       "45                        invscaling                      0.01   \n",
       "46                        invscaling                      0.01   \n",
       "47                        invscaling                      0.01   \n",
       "48                               NaN                       NaN   \n",
       "49                               NaN                       NaN   \n",
       "50                               NaN                       NaN   \n",
       "51                               NaN                       NaN   \n",
       "52                               NaN                       NaN   \n",
       "53                               NaN                       NaN   \n",
       "54                               NaN                       NaN   \n",
       "55                               NaN                       NaN   \n",
       "56                               NaN                       NaN   \n",
       "57                               NaN                       NaN   \n",
       "\n",
       "    power_t (for SGD Regressor)  estimators (for Random Forest)  \n",
       "0                           NaN                             NaN  \n",
       "1                           NaN                             NaN  \n",
       "2                           NaN                             NaN  \n",
       "3                           NaN                             NaN  \n",
       "4                           NaN                             NaN  \n",
       "5                           NaN                             NaN  \n",
       "6                           NaN                             NaN  \n",
       "7                           NaN                             NaN  \n",
       "8                           NaN                             NaN  \n",
       "9                           NaN                             NaN  \n",
       "10                          NaN                             NaN  \n",
       "11                          NaN                             NaN  \n",
       "12                          NaN                             NaN  \n",
       "13                          NaN                             NaN  \n",
       "14                          NaN                             NaN  \n",
       "15                          NaN                             NaN  \n",
       "16                          NaN                             NaN  \n",
       "17                          NaN                             NaN  \n",
       "18                          NaN                             NaN  \n",
       "19                          NaN                             NaN  \n",
       "20                          NaN                             NaN  \n",
       "21                          NaN                             NaN  \n",
       "22                          NaN                             NaN  \n",
       "23                          NaN                             NaN  \n",
       "24                          NaN                             NaN  \n",
       "25                          NaN                             NaN  \n",
       "26                          NaN                             NaN  \n",
       "27                          NaN                             NaN  \n",
       "28                          NaN                             NaN  \n",
       "29                          NaN                             NaN  \n",
       "30                          NaN                             NaN  \n",
       "31                          NaN                             NaN  \n",
       "32                         0.25                             NaN  \n",
       "33                         0.25                             NaN  \n",
       "34                         0.25                             NaN  \n",
       "35                         0.25                             NaN  \n",
       "36                         0.25                             NaN  \n",
       "37                         0.25                             NaN  \n",
       "38                         0.25                             NaN  \n",
       "39                         0.25                             NaN  \n",
       "40                         0.25                             NaN  \n",
       "41                         0.25                             NaN  \n",
       "42                         0.25                             NaN  \n",
       "43                         0.25                             NaN  \n",
       "44                         0.25                             NaN  \n",
       "45                         0.25                             NaN  \n",
       "46                         0.25                             NaN  \n",
       "47                         0.25                             NaN  \n",
       "48                          NaN                             NaN  \n",
       "49                          NaN                             NaN  \n",
       "50                          NaN                             NaN  \n",
       "51                          NaN                             NaN  \n",
       "52                          NaN                             NaN  \n",
       "53                          NaN                             NaN  \n",
       "54                          NaN                             NaN  \n",
       "55                          NaN                            10.0  \n",
       "56                          NaN                           100.0  \n",
       "57                          NaN                          1000.0  "
      ]
     },
     "execution_count": 19,
     "metadata": {},
     "output_type": "execute_result"
    }
   ],
   "source": [
    "hp_tuning_table_unscaled = pd.read_excel('HP tuning table - 2nd Capstone_Loew.xlsx', \n",
    "                                         sheet_name = 'HP_Tuning_Unscaled')\n",
    "hp_tuning_table_unscaled"
   ]
  },
  {
   "cell_type": "markdown",
   "metadata": {},
   "source": [
    "## Linear Regression: Basic OLS with no Hyperparameter Tuning or Train-Test Split"
   ]
  },
  {
   "cell_type": "markdown",
   "metadata": {},
   "source": [
    "The target variable is set as 'TARGET_deathRate', the per capita cancer mortality rate (per 100,000 people)."
   ]
  },
  {
   "cell_type": "code",
   "execution_count": 13,
   "metadata": {},
   "outputs": [],
   "source": [
    "y = df['TARGET_deathRate']"
   ]
  },
  {
   "cell_type": "markdown",
   "metadata": {},
   "source": [
    "The predictive feature set X is defined as the rest of the columns in the DataFrame."
   ]
  },
  {
   "cell_type": "code",
   "execution_count": 14,
   "metadata": {},
   "outputs": [],
   "source": [
    "target_name = ['TARGET_deathRate']\n",
    "X = df[[cn for cn in df.columns if cn not in target_name]]"
   ]
  },
  {
   "cell_type": "markdown",
   "metadata": {},
   "source": [
    "As a starting point, a simple Linear Regression algorithm is run with no scaling, no hyperparameter tuning and no train/test split."
   ]
  },
  {
   "cell_type": "code",
   "execution_count": 15,
   "metadata": {
    "scrolled": true
   },
   "outputs": [
    {
     "data": {
      "text/plain": [
       "LinearRegression(copy_X=True, fit_intercept=True, n_jobs=None,\n",
       "         normalize=False)"
      ]
     },
     "execution_count": 15,
     "metadata": {},
     "output_type": "execute_result"
    }
   ],
   "source": [
    "lr_1 = linear_model.LinearRegression()\n",
    "lr_1"
   ]
  },
  {
   "cell_type": "code",
   "execution_count": 16,
   "metadata": {
    "scrolled": true
   },
   "outputs": [
    {
     "data": {
      "text/plain": [
       "LinearRegression(copy_X=True, fit_intercept=True, n_jobs=None,\n",
       "         normalize=False)"
      ]
     },
     "execution_count": 16,
     "metadata": {},
     "output_type": "execute_result"
    }
   ],
   "source": [
    "lr_1.fit(X, y)"
   ]
  },
  {
   "cell_type": "code",
   "execution_count": 17,
   "metadata": {},
   "outputs": [
    {
     "data": {
      "text/plain": [
       "0.6528892461052225"
      ]
     },
     "execution_count": 17,
     "metadata": {},
     "output_type": "execute_result"
    }
   ],
   "source": [
    "lr_1.score(X, y)"
   ]
  },
  {
   "cell_type": "code",
   "execution_count": 18,
   "metadata": {},
   "outputs": [
    {
     "data": {
      "text/plain": [
       "array([188.49306894, 204.21317534, 208.04168369, 144.35277673,\n",
       "       172.08713334, 208.03640583, 177.36422249, 211.13721024,\n",
       "       157.36076519, 164.04873534, 178.13226571, 188.25829047,\n",
       "       180.1145355 , 209.17514372, 178.23192609, 154.91846179,\n",
       "       222.78217372, 166.29058527, 148.85989663, 178.30619196])"
      ]
     },
     "execution_count": 18,
     "metadata": {},
     "output_type": "execute_result"
    }
   ],
   "source": [
    "y_pred_1 = lr_1.predict(X)\n",
    "y_pred_1[0:20]"
   ]
  },
  {
   "cell_type": "code",
   "execution_count": 19,
   "metadata": {},
   "outputs": [
    {
     "name": "stdout",
     "output_type": "stream",
     "text": [
      "R^2: 0.6528892461052225\n",
      "Root Mean Squared Error: 16.34742660293694\n"
     ]
    }
   ],
   "source": [
    "print(\"R^2: {}\".format(lr_1.score(X, y)))\n",
    "rmse = np.sqrt(mean_squared_error(y, y_pred_1))\n",
    "print(\"Root Mean Squared Error: {}\".format(rmse))"
   ]
  },
  {
   "cell_type": "code",
   "execution_count": 20,
   "metadata": {},
   "outputs": [],
   "source": [
    "filename = 'cancer_lr_1.sav'\n",
    "pickle.dump(lr_1, open(filename, 'wb'))"
   ]
  },
  {
   "cell_type": "markdown",
   "metadata": {},
   "source": [
    "## Linear Regression: Basic OLS with no Normalization and 80/20 Train-Test Split"
   ]
  },
  {
   "cell_type": "code",
   "execution_count": 21,
   "metadata": {
    "scrolled": false
   },
   "outputs": [
    {
     "data": {
      "text/plain": [
       "LinearRegression(copy_X=True, fit_intercept=True, n_jobs=None,\n",
       "         normalize=False)"
      ]
     },
     "execution_count": 21,
     "metadata": {},
     "output_type": "execute_result"
    }
   ],
   "source": [
    "lr_2 = linear_model.LinearRegression()\n",
    "lr_2"
   ]
  },
  {
   "cell_type": "markdown",
   "metadata": {},
   "source": [
    "Next, a train/test split is created and the OLS linear regression algorithm is re-run."
   ]
  },
  {
   "cell_type": "code",
   "execution_count": 22,
   "metadata": {},
   "outputs": [],
   "source": [
    "X_train, X_test, y_train, y_test = train_test_split(X, y, test_size=0.2, random_state=42)"
   ]
  },
  {
   "cell_type": "markdown",
   "metadata": {},
   "source": [
    "The algorithm is fitted on the training set, and the accuracy is returned on the training and test sets."
   ]
  },
  {
   "cell_type": "code",
   "execution_count": 23,
   "metadata": {
    "scrolled": true
   },
   "outputs": [
    {
     "data": {
      "text/plain": [
       "LinearRegression(copy_X=True, fit_intercept=True, n_jobs=None,\n",
       "         normalize=False)"
      ]
     },
     "execution_count": 23,
     "metadata": {},
     "output_type": "execute_result"
    }
   ],
   "source": [
    "lr_2.fit(X_train, y_train)"
   ]
  },
  {
   "cell_type": "code",
   "execution_count": 24,
   "metadata": {
    "scrolled": false
   },
   "outputs": [
    {
     "data": {
      "text/plain": [
       "array([193.43076022, 190.79549479, 216.14766197, 139.15685695,\n",
       "       225.40659532, 196.12564798, 173.12573478, 170.47723738,\n",
       "       196.51814602, 230.39423481, 197.22011038, 175.54912298,\n",
       "       202.47658953, 187.68025628, 154.69078527, 188.18074488,\n",
       "       201.16786053, 156.98379718, 174.44087904, 179.39307531])"
      ]
     },
     "execution_count": 24,
     "metadata": {},
     "output_type": "execute_result"
    }
   ],
   "source": [
    "y_pred_2_train = lr_2.predict(X_train)\n",
    "y_pred_2_train[0:20]"
   ]
  },
  {
   "cell_type": "code",
   "execution_count": 25,
   "metadata": {
    "scrolled": false
   },
   "outputs": [
    {
     "name": "stdout",
     "output_type": "stream",
     "text": [
      "Training Set R^2: 0.6466260171457876\n",
      "Training Set Root Mean Squared Error: 16.587832150231034\n"
     ]
    }
   ],
   "source": [
    "print(\"Training Set R^2: {}\".format(lr_2.score(X_train, y_train)))\n",
    "rmse_2_train = np.sqrt(mean_squared_error(y_train, y_pred_2_train))\n",
    "print(\"Training Set Root Mean Squared Error: {}\".format(rmse_2_train))"
   ]
  },
  {
   "cell_type": "markdown",
   "metadata": {},
   "source": [
    "A training set accuracy score/R Squared of 0.647 and a training set RMSE of 16.6 is returned."
   ]
  },
  {
   "cell_type": "code",
   "execution_count": 26,
   "metadata": {
    "scrolled": false
   },
   "outputs": [
    {
     "data": {
      "text/plain": [
       "array([177.32331018, 174.71390586, 162.20675843, 175.78673799,\n",
       "       178.88472736, 195.88785672, 173.28360857, 164.24285469,\n",
       "       175.00771172, 171.91171712, 177.00965019, 206.91234961,\n",
       "       158.15670143, 157.54265212, 219.88087446, 108.69274019,\n",
       "       188.3489999 , 205.9336845 , 208.31387718, 183.87287741])"
      ]
     },
     "execution_count": 26,
     "metadata": {},
     "output_type": "execute_result"
    }
   ],
   "source": [
    "y_pred_2_test = lr_2.predict(X_test)\n",
    "y_pred_2_test[0:20]"
   ]
  },
  {
   "cell_type": "code",
   "execution_count": 27,
   "metadata": {
    "scrolled": false
   },
   "outputs": [
    {
     "name": "stdout",
     "output_type": "stream",
     "text": [
      "Test Set R^2: 0.6406253865183126\n",
      "Test Set Root Mean Squared Error: 16.199560036310984\n"
     ]
    }
   ],
   "source": [
    "print(\"Test Set R^2: {}\".format(lr_2.score(X_test, y_test)))\n",
    "rmse_2_test = np.sqrt(mean_squared_error(y_test, y_pred_2_test))\n",
    "print(\"Test Set Root Mean Squared Error: {}\".format(rmse_2_test))"
   ]
  },
  {
   "cell_type": "markdown",
   "metadata": {},
   "source": [
    "A test set accuracy score/R Squared of 0.641 and a training set RMSE of 16.2 is returned."
   ]
  },
  {
   "cell_type": "code",
   "execution_count": 28,
   "metadata": {},
   "outputs": [],
   "source": [
    "filename = 'cancer_lr_2.sav'\n",
    "pickle.dump(lr_2, open(filename, 'wb'))"
   ]
  },
  {
   "cell_type": "markdown",
   "metadata": {},
   "source": [
    "## Linear Regression: Basic OLS with Normalization and 80/20 Train-Test Split"
   ]
  },
  {
   "cell_type": "code",
   "execution_count": 29,
   "metadata": {
    "scrolled": true
   },
   "outputs": [
    {
     "data": {
      "text/plain": [
       "LinearRegression(copy_X=True, fit_intercept=True, n_jobs=None, normalize=True)"
      ]
     },
     "execution_count": 29,
     "metadata": {},
     "output_type": "execute_result"
    }
   ],
   "source": [
    "lr_2n = linear_model.LinearRegression(normalize=True)\n",
    "lr_2n"
   ]
  },
  {
   "cell_type": "markdown",
   "metadata": {},
   "source": [
    "The algorithm is fitted on the training set, and the accuracy is returned on the test set."
   ]
  },
  {
   "cell_type": "code",
   "execution_count": 30,
   "metadata": {
    "scrolled": true
   },
   "outputs": [
    {
     "data": {
      "text/plain": [
       "LinearRegression(copy_X=True, fit_intercept=True, n_jobs=None, normalize=True)"
      ]
     },
     "execution_count": 30,
     "metadata": {},
     "output_type": "execute_result"
    }
   ],
   "source": [
    "lr_2n.fit(X_train, y_train)"
   ]
  },
  {
   "cell_type": "code",
   "execution_count": 31,
   "metadata": {},
   "outputs": [
    {
     "data": {
      "text/plain": [
       "array([193.5  , 191.25 , 214.5  , 137.   , 225.125, 195.125, 172.   ,\n",
       "       170.875, 195.   , 228.625, 197.25 , 172.875, 199.625, 189.25 ,\n",
       "       154.5  , 188.625, 200.75 , 144.5  , 172.875, 178.375])"
      ]
     },
     "execution_count": 31,
     "metadata": {},
     "output_type": "execute_result"
    }
   ],
   "source": [
    "y_pred_2n_train = lr_2n.predict(X_train)\n",
    "y_pred_2n_train[0:20]"
   ]
  },
  {
   "cell_type": "code",
   "execution_count": 32,
   "metadata": {},
   "outputs": [
    {
     "name": "stdout",
     "output_type": "stream",
     "text": [
      "Training Set R^2: 0.6411848638577181\n",
      "Training Set Root Mean Squared Error: 16.715051687428854\n"
     ]
    }
   ],
   "source": [
    "print(\"Training Set R^2: {}\".format(lr_2n.score(X_train, y_train)))\n",
    "rmse_2n_train = np.sqrt(mean_squared_error(y_train, y_pred_2n_train))\n",
    "print(\"Training Set Root Mean Squared Error: {}\".format(rmse_2n_train))"
   ]
  },
  {
   "cell_type": "markdown",
   "metadata": {},
   "source": [
    "A training set accuracy score/R Squared of 0.641 and a training set RMSE of 16.7 is returned."
   ]
  },
  {
   "cell_type": "code",
   "execution_count": 33,
   "metadata": {},
   "outputs": [
    {
     "data": {
      "text/plain": [
       "array([176.   , 173.25 , 158.   , 175.75 , 179.75 , 197.625, 173.125,\n",
       "       162.375, 173.75 , 174.625, 176.75 , 206.75 , 158.75 , 156.625,\n",
       "       220.   , 113.25 , 189.375, 208.125, 206.625, 183.125])"
      ]
     },
     "execution_count": 33,
     "metadata": {},
     "output_type": "execute_result"
    }
   ],
   "source": [
    "y_pred_2n_test = lr_2n.predict(X_test)\n",
    "y_pred_2n_test[0:20]"
   ]
  },
  {
   "cell_type": "code",
   "execution_count": 34,
   "metadata": {},
   "outputs": [
    {
     "name": "stdout",
     "output_type": "stream",
     "text": [
      "Test Set R^2: -1.7688596633522706e+22\n",
      "Test Set Root Mean Squared Error: 3593984596963.187\n"
     ]
    }
   ],
   "source": [
    "print(\"Test Set R^2: {}\".format(lr_2n.score(X_test, y_test)))\n",
    "rmse_2n_test = np.sqrt(mean_squared_error(y_test, y_pred_2n_test))\n",
    "print(\"Test Set Root Mean Squared Error: {}\".format(rmse_2n_test))"
   ]
  },
  {
   "cell_type": "markdown",
   "metadata": {},
   "source": [
    "A test set accuracy score/R Squared of -1.77 and a training set RMSE of 3593984596963.2 is returned. The internal normalization parameter in OLS linear regression is abandoned."
   ]
  },
  {
   "cell_type": "code",
   "execution_count": 35,
   "metadata": {},
   "outputs": [],
   "source": [
    "filename = 'cancer_lr_2n.sav'\n",
    "pickle.dump(lr_2n, open(filename, 'wb'))"
   ]
  },
  {
   "cell_type": "markdown",
   "metadata": {},
   "source": [
    "## Ridge Regression"
   ]
  },
  {
   "cell_type": "code",
   "execution_count": 36,
   "metadata": {},
   "outputs": [],
   "source": [
    "lr_3 = linear_model.Ridge(alpha=0.001)"
   ]
  },
  {
   "cell_type": "markdown",
   "metadata": {},
   "source": [
    "The algorithm is fitted on the training set, and the accuracy is returned on the training and test sets."
   ]
  },
  {
   "cell_type": "code",
   "execution_count": 37,
   "metadata": {
    "scrolled": true
   },
   "outputs": [
    {
     "name": "stderr",
     "output_type": "stream",
     "text": [
      "/Users/DanLoew/anaconda3/lib/python3.7/site-packages/sklearn/linear_model/ridge.py:125: LinAlgWarning: Ill-conditioned matrix (rcond=1.63404e-18): result may not be accurate.\n",
      "  overwrite_a=True).T\n"
     ]
    },
    {
     "data": {
      "text/plain": [
       "Ridge(alpha=0.001, copy_X=True, fit_intercept=True, max_iter=None,\n",
       "   normalize=False, random_state=None, solver='auto', tol=0.001)"
      ]
     },
     "execution_count": 37,
     "metadata": {},
     "output_type": "execute_result"
    }
   ],
   "source": [
    "lr_3.fit(X_train, y_train)"
   ]
  },
  {
   "cell_type": "code",
   "execution_count": 38,
   "metadata": {},
   "outputs": [
    {
     "data": {
      "text/plain": [
       "array([193.6814711 , 190.81999526, 216.23272617, 139.13920381,\n",
       "       225.16635654, 195.66524864, 172.79393977, 170.42103655,\n",
       "       196.48290334, 230.26460023, 197.25887577, 175.61009965,\n",
       "       202.61717549, 187.70993108, 155.03822506, 188.09679189,\n",
       "       201.12734623, 156.97725576, 174.21388088, 179.27723478])"
      ]
     },
     "execution_count": 38,
     "metadata": {},
     "output_type": "execute_result"
    }
   ],
   "source": [
    "y_pred_3_train = lr_3.predict(X_train)\n",
    "y_pred_3_train[0:20]"
   ]
  },
  {
   "cell_type": "code",
   "execution_count": 39,
   "metadata": {},
   "outputs": [
    {
     "name": "stdout",
     "output_type": "stream",
     "text": [
      "Training Set R^2: 0.6465369736893312\n",
      "Training Set Root Mean Squared Error: 16.58992192614389\n"
     ]
    }
   ],
   "source": [
    "print(\"Training Set R^2: {}\".format(lr_3.score(X_train, y_train)))\n",
    "rmse_3_train = np.sqrt(mean_squared_error(y_train, y_pred_3_train))\n",
    "print(\"Training Set Root Mean Squared Error: {}\".format(rmse_3_train))"
   ]
  },
  {
   "cell_type": "markdown",
   "metadata": {},
   "source": [
    "A training set accuracy score/R Squared of 0.647 and a training set RMSE of 16.6 is returned."
   ]
  },
  {
   "cell_type": "code",
   "execution_count": 40,
   "metadata": {},
   "outputs": [
    {
     "data": {
      "text/plain": [
       "array([177.35025576, 175.37003439, 162.28118045, 175.61565049,\n",
       "       178.79949234, 195.82574314, 173.08925325, 164.09948603,\n",
       "       174.86180399, 172.19905272, 177.03470199, 206.9132008 ,\n",
       "       157.80007659, 157.37575802, 220.00185197, 108.9025308 ,\n",
       "       188.29362207, 205.9232775 , 208.2225993 , 183.78457323])"
      ]
     },
     "execution_count": 40,
     "metadata": {},
     "output_type": "execute_result"
    }
   ],
   "source": [
    "y_pred_3_test = lr_3.predict(X_test)\n",
    "y_pred_3_test[0:20]"
   ]
  },
  {
   "cell_type": "code",
   "execution_count": 41,
   "metadata": {},
   "outputs": [
    {
     "name": "stdout",
     "output_type": "stream",
     "text": [
      "Test Set R^2: 0.6407644965711742\n",
      "Test Set Root Mean Squared Error: 16.196424394992476\n"
     ]
    }
   ],
   "source": [
    "print(\"Test Set R^2: {}\".format(lr_3.score(X_test, y_test)))\n",
    "rmse_3_test = np.sqrt(mean_squared_error(y_test, y_pred_3_test))\n",
    "print(\"Test Set Root Mean Squared Error: {}\".format(rmse_3_test))"
   ]
  },
  {
   "cell_type": "markdown",
   "metadata": {},
   "source": [
    "A test set accuracy score/R Squared of 0.641 and a training set RMSE of 16.2 is returned."
   ]
  },
  {
   "cell_type": "code",
   "execution_count": 42,
   "metadata": {},
   "outputs": [],
   "source": [
    "filename = 'cancer_lr_3.sav'\n",
    "pickle.dump(lr_3, open(filename, 'wb'))"
   ]
  },
  {
   "cell_type": "code",
   "execution_count": 43,
   "metadata": {},
   "outputs": [],
   "source": [
    "lr_4 = linear_model.Ridge(alpha=0.01)"
   ]
  },
  {
   "cell_type": "code",
   "execution_count": 44,
   "metadata": {
    "scrolled": true
   },
   "outputs": [
    {
     "name": "stderr",
     "output_type": "stream",
     "text": [
      "/Users/DanLoew/anaconda3/lib/python3.7/site-packages/sklearn/linear_model/ridge.py:125: LinAlgWarning: Ill-conditioned matrix (rcond=1.6332e-17): result may not be accurate.\n",
      "  overwrite_a=True).T\n"
     ]
    },
    {
     "data": {
      "text/plain": [
       "Ridge(alpha=0.01, copy_X=True, fit_intercept=True, max_iter=None,\n",
       "   normalize=False, random_state=None, solver='auto', tol=0.001)"
      ]
     },
     "execution_count": 44,
     "metadata": {},
     "output_type": "execute_result"
    }
   ],
   "source": [
    "lr_4.fit(X_train, y_train)"
   ]
  },
  {
   "cell_type": "code",
   "execution_count": 45,
   "metadata": {},
   "outputs": [
    {
     "data": {
      "text/plain": [
       "array([193.97421274, 190.803042  , 216.47744598, 139.18168145,\n",
       "       224.86107479, 195.28616606, 172.60630417, 170.38031619,\n",
       "       196.58773879, 229.98546095, 197.3855935 , 175.83052981,\n",
       "       202.87079374, 187.91668978, 155.3324726 , 187.87667801,\n",
       "       200.94054981, 157.19996637, 173.92273127, 179.02946537])"
      ]
     },
     "execution_count": 45,
     "metadata": {},
     "output_type": "execute_result"
    }
   ],
   "source": [
    "y_pred_4_train = lr_4.predict(X_train)\n",
    "y_pred_4_train[0:20]"
   ]
  },
  {
   "cell_type": "code",
   "execution_count": 46,
   "metadata": {},
   "outputs": [
    {
     "name": "stdout",
     "output_type": "stream",
     "text": [
      "Training Set R^2: 0.6461176562856638\n",
      "Training Set Root Mean Squared Error: 16.599759420544274\n"
     ]
    }
   ],
   "source": [
    "print(\"Training Set R^2: {}\".format(lr_4.score(X_train, y_train)))\n",
    "rmse_4_train = np.sqrt(mean_squared_error(y_train, y_pred_4_train))\n",
    "print(\"Training Set Root Mean Squared Error: {}\".format(rmse_4_train))"
   ]
  },
  {
   "cell_type": "markdown",
   "metadata": {},
   "source": [
    "A training set accuracy score/R Squared of 0.646 and a training set RMSE of 16.6 is returned."
   ]
  },
  {
   "cell_type": "code",
   "execution_count": 47,
   "metadata": {},
   "outputs": [
    {
     "data": {
      "text/plain": [
       "array([177.2773751 , 175.84086138, 162.39717784, 175.15845469,\n",
       "       178.70525044, 195.52244801, 173.33644092, 164.07576807,\n",
       "       174.89145587, 172.53565528, 176.99916738, 206.93467414,\n",
       "       157.3491704 , 157.17733013, 220.12558715, 109.72125026,\n",
       "       188.33461587, 205.93000181, 208.1122704 , 183.61566339])"
      ]
     },
     "execution_count": 47,
     "metadata": {},
     "output_type": "execute_result"
    }
   ],
   "source": [
    "y_pred_4_test = lr_4.predict(X_test)\n",
    "y_pred_4_test[0:20]"
   ]
  },
  {
   "cell_type": "code",
   "execution_count": 48,
   "metadata": {},
   "outputs": [
    {
     "name": "stdout",
     "output_type": "stream",
     "text": [
      "Test Set R^2: 0.639803404401255\n",
      "Test Set Root Mean Squared Error: 16.21807573374081\n"
     ]
    }
   ],
   "source": [
    "print(\"Test Set R^2: {}\".format(lr_4.score(X_test, y_test)))\n",
    "rmse_4_test = np.sqrt(mean_squared_error(y_test, y_pred_4_test))\n",
    "print(\"Test Set Root Mean Squared Error: {}\".format(rmse_4_test))"
   ]
  },
  {
   "cell_type": "markdown",
   "metadata": {},
   "source": [
    "A test set accuracy score/R Squared of 0.64 and a training set RMSE of 16.2 is returned."
   ]
  },
  {
   "cell_type": "code",
   "execution_count": 49,
   "metadata": {},
   "outputs": [],
   "source": [
    "filename = 'cancer_lr_4.sav'\n",
    "pickle.dump(lr_4, open(filename, 'wb'))"
   ]
  },
  {
   "cell_type": "code",
   "execution_count": 50,
   "metadata": {},
   "outputs": [],
   "source": [
    "lr_5 = linear_model.Ridge(alpha=0.1)"
   ]
  },
  {
   "cell_type": "code",
   "execution_count": 51,
   "metadata": {},
   "outputs": [
    {
     "data": {
      "text/plain": [
       "Ridge(alpha=0.1, copy_X=True, fit_intercept=True, max_iter=None,\n",
       "   normalize=False, random_state=None, solver='auto', tol=0.001)"
      ]
     },
     "execution_count": 51,
     "metadata": {},
     "output_type": "execute_result"
    }
   ],
   "source": [
    "lr_5.fit(X_train, y_train)"
   ]
  },
  {
   "cell_type": "code",
   "execution_count": 52,
   "metadata": {},
   "outputs": [
    {
     "data": {
      "text/plain": [
       "array([193.94205107, 190.34004958, 216.98964232, 139.65314151,\n",
       "       224.57663064, 195.59982137, 173.39302848, 170.04832602,\n",
       "       197.32928555, 229.38218098, 197.26445118, 176.06077122,\n",
       "       203.27706487, 188.84950273, 155.12403909, 187.5381329 ,\n",
       "       200.38345278, 158.04278352, 174.15385082, 177.3109295 ])"
      ]
     },
     "execution_count": 52,
     "metadata": {},
     "output_type": "execute_result"
    }
   ],
   "source": [
    "y_pred_5_train = lr_5.predict(X_train)\n",
    "y_pred_5_train[0:20]"
   ]
  },
  {
   "cell_type": "code",
   "execution_count": 53,
   "metadata": {},
   "outputs": [
    {
     "name": "stdout",
     "output_type": "stream",
     "text": [
      "Training Set R^2: 0.6445643776248309\n",
      "Training Set Root Mean Squared Error: 16.636149793347826\n"
     ]
    }
   ],
   "source": [
    "print(\"Training Set R^2: {}\".format(lr_5.score(X_train, y_train)))\n",
    "rmse_5_train = np.sqrt(mean_squared_error(y_train, y_pred_5_train))\n",
    "print(\"Training Set Root Mean Squared Error: {}\".format(rmse_5_train))"
   ]
  },
  {
   "cell_type": "markdown",
   "metadata": {},
   "source": [
    "A training set accuracy score/R Squared of 0.645 and a training set RMSE of 16.6 is returned."
   ]
  },
  {
   "cell_type": "code",
   "execution_count": 54,
   "metadata": {},
   "outputs": [
    {
     "data": {
      "text/plain": [
       "array([177.1340568 , 175.00340605, 162.34699421, 173.79786528,\n",
       "       178.48061032, 194.9497752 , 173.09927602, 164.42108045,\n",
       "       175.15798394, 173.22456346, 176.72338181, 206.77115802,\n",
       "       156.94780341, 157.19234886, 220.28363902, 113.02093142,\n",
       "       188.87890876, 206.64952067, 208.33444128, 182.93581046])"
      ]
     },
     "execution_count": 54,
     "metadata": {},
     "output_type": "execute_result"
    }
   ],
   "source": [
    "y_pred_5_test = lr_5.predict(X_test)\n",
    "y_pred_5_test[0:20]"
   ]
  },
  {
   "cell_type": "code",
   "execution_count": 55,
   "metadata": {
    "scrolled": true
   },
   "outputs": [
    {
     "name": "stdout",
     "output_type": "stream",
     "text": [
      "Test Set R^2: 0.6342414817237682\n",
      "Test Set Root Mean Squared Error: 16.342810573526208\n"
     ]
    }
   ],
   "source": [
    "print(\"Test Set R^2: {}\".format(lr_5.score(X_test, y_test)))\n",
    "rmse_5_test = np.sqrt(mean_squared_error(y_test, y_pred_5_test))\n",
    "print(\"Test Set Root Mean Squared Error: {}\".format(rmse_5_test))"
   ]
  },
  {
   "cell_type": "markdown",
   "metadata": {},
   "source": [
    "A test set accuracy score/R Squared of 0.634 and a training set RMSE of 16.3 is returned."
   ]
  },
  {
   "cell_type": "code",
   "execution_count": 56,
   "metadata": {},
   "outputs": [],
   "source": [
    "filename = 'cancer_lr_5.sav'\n",
    "pickle.dump(lr_5, open(filename, 'wb'))"
   ]
  },
  {
   "cell_type": "code",
   "execution_count": 57,
   "metadata": {},
   "outputs": [],
   "source": [
    "lr_6 = linear_model.Ridge(alpha=1)"
   ]
  },
  {
   "cell_type": "code",
   "execution_count": 58,
   "metadata": {},
   "outputs": [
    {
     "data": {
      "text/plain": [
       "Ridge(alpha=1, copy_X=True, fit_intercept=True, max_iter=None,\n",
       "   normalize=False, random_state=None, solver='auto', tol=0.001)"
      ]
     },
     "execution_count": 58,
     "metadata": {},
     "output_type": "execute_result"
    }
   ],
   "source": [
    "lr_6.fit(X_train, y_train)"
   ]
  },
  {
   "cell_type": "code",
   "execution_count": 59,
   "metadata": {},
   "outputs": [
    {
     "data": {
      "text/plain": [
       "array([193.54968432, 189.2868701 , 217.23528763, 141.35479957,\n",
       "       224.13278864, 196.1489831 , 174.80309007, 169.01708056,\n",
       "       197.753776  , 228.33165561, 197.41040226, 176.30335466,\n",
       "       203.98032825, 190.02798824, 153.41207884, 187.29487857,\n",
       "       199.85069636, 158.40415461, 175.24353758, 174.09075559])"
      ]
     },
     "execution_count": 59,
     "metadata": {},
     "output_type": "execute_result"
    }
   ],
   "source": [
    "y_pred_6_train = lr_6.predict(X_train)\n",
    "y_pred_6_train[0:20]"
   ]
  },
  {
   "cell_type": "code",
   "execution_count": 60,
   "metadata": {
    "scrolled": true
   },
   "outputs": [
    {
     "name": "stdout",
     "output_type": "stream",
     "text": [
      "Training Set R^2: 0.6386310911070309\n",
      "Training Set Root Mean Squared Error: 16.77442872580821\n"
     ]
    }
   ],
   "source": [
    "print(\"Training Set R^2: {}\".format(lr_6.score(X_train, y_train)))\n",
    "rmse_6_train = np.sqrt(mean_squared_error(y_train, y_pred_6_train))\n",
    "print(\"Training Set Root Mean Squared Error: {}\".format(rmse_6_train))"
   ]
  },
  {
   "cell_type": "markdown",
   "metadata": {},
   "source": [
    "A training set accuracy score/R Squared of 0.639 and a training set RMSE of 16.8 is returned."
   ]
  },
  {
   "cell_type": "code",
   "execution_count": 61,
   "metadata": {},
   "outputs": [
    {
     "data": {
      "text/plain": [
       "array([178.28647312, 174.17563057, 162.27984659, 172.30645947,\n",
       "       177.01143399, 194.83043133, 172.52843565, 164.25192969,\n",
       "       174.27564908, 174.77172972, 176.31234174, 205.97603674,\n",
       "       156.19165276, 157.61862641, 221.01656054, 118.96910462,\n",
       "       190.12973789, 208.20548821, 209.28291182, 181.50484774])"
      ]
     },
     "execution_count": 61,
     "metadata": {},
     "output_type": "execute_result"
    }
   ],
   "source": [
    "y_pred_6_test = lr_6.predict(X_test)\n",
    "y_pred_6_test[0:20]"
   ]
  },
  {
   "cell_type": "code",
   "execution_count": 62,
   "metadata": {
    "scrolled": true
   },
   "outputs": [
    {
     "name": "stdout",
     "output_type": "stream",
     "text": [
      "Test Set R^2: 0.6218756881258749\n",
      "Test Set Root Mean Squared Error: 16.61677820375241\n"
     ]
    }
   ],
   "source": [
    "print(\"Test Set R^2: {}\".format(lr_6.score(X_test, y_test)))\n",
    "rmse_6_test = np.sqrt(mean_squared_error(y_test, y_pred_6_test))\n",
    "print(\"Test Set Root Mean Squared Error: {}\".format(rmse_6_test))"
   ]
  },
  {
   "cell_type": "markdown",
   "metadata": {},
   "source": [
    "A test set accuracy score/R Squared of 0.622 and a training set RMSE of 16.6 is returned."
   ]
  },
  {
   "cell_type": "code",
   "execution_count": 63,
   "metadata": {},
   "outputs": [],
   "source": [
    "filename = 'cancer_lr_6.sav'\n",
    "pickle.dump(lr_6, open(filename, 'wb'))"
   ]
  },
  {
   "cell_type": "code",
   "execution_count": 64,
   "metadata": {},
   "outputs": [],
   "source": [
    "lr_7 = linear_model.Ridge(alpha=10)"
   ]
  },
  {
   "cell_type": "code",
   "execution_count": 65,
   "metadata": {},
   "outputs": [
    {
     "data": {
      "text/plain": [
       "Ridge(alpha=10, copy_X=True, fit_intercept=True, max_iter=None,\n",
       "   normalize=False, random_state=None, solver='auto', tol=0.001)"
      ]
     },
     "execution_count": 65,
     "metadata": {},
     "output_type": "execute_result"
    }
   ],
   "source": [
    "lr_7.fit(X_train, y_train)"
   ]
  },
  {
   "cell_type": "code",
   "execution_count": 66,
   "metadata": {},
   "outputs": [
    {
     "data": {
      "text/plain": [
       "array([194.00905367, 189.12904693, 216.08855183, 142.97653181,\n",
       "       222.53178716, 196.87411927, 175.60206817, 167.33288297,\n",
       "       196.07545264, 224.37824004, 200.50080077, 176.89280777,\n",
       "       204.22857049, 191.9179439 , 150.87817075, 187.30911358,\n",
       "       200.36238998, 158.04910085, 174.37658874, 173.87917218])"
      ]
     },
     "execution_count": 66,
     "metadata": {},
     "output_type": "execute_result"
    }
   ],
   "source": [
    "y_pred_7_train = lr_7.predict(X_train)\n",
    "y_pred_7_train[0:20]"
   ]
  },
  {
   "cell_type": "code",
   "execution_count": 67,
   "metadata": {
    "scrolled": true
   },
   "outputs": [
    {
     "name": "stdout",
     "output_type": "stream",
     "text": [
      "Training Set R^2: 0.6316873504680414\n",
      "Training Set Root Mean Squared Error: 16.934823077496894\n"
     ]
    }
   ],
   "source": [
    "print(\"Training Set R^2: {}\".format(lr_7.score(X_train, y_train)))\n",
    "rmse_7_train = np.sqrt(mean_squared_error(y_train, y_pred_7_train))\n",
    "print(\"Training Set Root Mean Squared Error: {}\".format(rmse_7_train))"
   ]
  },
  {
   "cell_type": "markdown",
   "metadata": {},
   "source": [
    "A training set accuracy score/R Squared of 0.632 and a training set RMSE of 16.9 is returned."
   ]
  },
  {
   "cell_type": "code",
   "execution_count": 68,
   "metadata": {},
   "outputs": [
    {
     "data": {
      "text/plain": [
       "array([181.51286026, 174.1025006 , 162.20529353, 172.25515684,\n",
       "       174.55663589, 195.29457999, 174.05345022, 164.98582171,\n",
       "       173.29383253, 175.64665635, 177.42640548, 204.45822473,\n",
       "       155.87860821, 157.57432716, 221.61193598, 123.83752829,\n",
       "       192.35713452, 208.18793313, 208.7256466 , 181.32054179])"
      ]
     },
     "execution_count": 68,
     "metadata": {},
     "output_type": "execute_result"
    }
   ],
   "source": [
    "y_pred_7_test = lr_7.predict(X_test)\n",
    "y_pred_7_test[0:20]"
   ]
  },
  {
   "cell_type": "code",
   "execution_count": 69,
   "metadata": {},
   "outputs": [
    {
     "name": "stdout",
     "output_type": "stream",
     "text": [
      "Test Set R^2: 0.61300697698984\n",
      "Test Set Root Mean Squared Error: 16.810517763043546\n"
     ]
    }
   ],
   "source": [
    "print(\"Test Set R^2: {}\".format(lr_7.score(X_test, y_test)))\n",
    "rmse_7_test = np.sqrt(mean_squared_error(y_test, y_pred_7_test))\n",
    "print(\"Test Set Root Mean Squared Error: {}\".format(rmse_7_test))"
   ]
  },
  {
   "cell_type": "markdown",
   "metadata": {},
   "source": [
    "A test set accuracy score/R Squared of 0.613 and a training set RMSE of 16.8 is returned."
   ]
  },
  {
   "cell_type": "code",
   "execution_count": 70,
   "metadata": {},
   "outputs": [],
   "source": [
    "filename = 'cancer_lr_7.sav'\n",
    "pickle.dump(lr_7, open(filename, 'wb'))"
   ]
  },
  {
   "cell_type": "code",
   "execution_count": 71,
   "metadata": {},
   "outputs": [],
   "source": [
    "lr_8 = linear_model.Ridge(alpha=100)"
   ]
  },
  {
   "cell_type": "code",
   "execution_count": 72,
   "metadata": {},
   "outputs": [
    {
     "data": {
      "text/plain": [
       "Ridge(alpha=100, copy_X=True, fit_intercept=True, max_iter=None,\n",
       "   normalize=False, random_state=None, solver='auto', tol=0.001)"
      ]
     },
     "execution_count": 72,
     "metadata": {},
     "output_type": "execute_result"
    }
   ],
   "source": [
    "lr_8.fit(X_train, y_train)"
   ]
  },
  {
   "cell_type": "code",
   "execution_count": 73,
   "metadata": {},
   "outputs": [
    {
     "data": {
      "text/plain": [
       "array([194.24892437, 191.60300774, 213.57133849, 144.54719904,\n",
       "       219.0851009 , 196.35544434, 177.82030462, 164.37242971,\n",
       "       192.63831902, 218.26143246, 206.01853551, 177.11785672,\n",
       "       204.41301744, 193.61998569, 150.67888029, 187.32176655,\n",
       "       202.20898951, 156.60314818, 170.73186896, 175.1930032 ])"
      ]
     },
     "execution_count": 73,
     "metadata": {},
     "output_type": "execute_result"
    }
   ],
   "source": [
    "y_pred_8_train = lr_8.predict(X_train)\n",
    "y_pred_8_train[0:20]"
   ]
  },
  {
   "cell_type": "code",
   "execution_count": 74,
   "metadata": {},
   "outputs": [
    {
     "name": "stdout",
     "output_type": "stream",
     "text": [
      "Training Set R^2: 0.6208507015781555\n",
      "Training Set Root Mean Squared Error: 17.182148761147744\n"
     ]
    }
   ],
   "source": [
    "print(\"Training Set R^2: {}\".format(lr_8.score(X_train, y_train)))\n",
    "rmse_8_train = np.sqrt(mean_squared_error(y_train, y_pred_8_train))\n",
    "print(\"Training Set Root Mean Squared Error: {}\".format(rmse_8_train))"
   ]
  },
  {
   "cell_type": "markdown",
   "metadata": {},
   "source": [
    "A training set accuracy score/R Squared of 0.621 and a training set RMSE of 17.2 is returned."
   ]
  },
  {
   "cell_type": "code",
   "execution_count": 75,
   "metadata": {},
   "outputs": [
    {
     "data": {
      "text/plain": [
       "array([183.68141199, 173.6074642 , 162.40412632, 173.34668137,\n",
       "       173.94359093, 196.84462872, 174.83216629, 167.23118828,\n",
       "       172.329785  , 175.49194851, 181.82877993, 199.6096779 ,\n",
       "       155.46650297, 157.40525247, 220.99979022, 126.20640218,\n",
       "       193.99067576, 207.39410635, 204.84855803, 182.33624218])"
      ]
     },
     "execution_count": 75,
     "metadata": {},
     "output_type": "execute_result"
    }
   ],
   "source": [
    "y_pred_8_test = lr_8.predict(X_test)\n",
    "y_pred_8_test[0:20]"
   ]
  },
  {
   "cell_type": "code",
   "execution_count": 76,
   "metadata": {},
   "outputs": [
    {
     "name": "stdout",
     "output_type": "stream",
     "text": [
      "Test Set R^2: 0.6077184878002422\n",
      "Test Set Root Mean Squared Error: 16.924990852305804\n"
     ]
    }
   ],
   "source": [
    "print(\"Test Set R^2: {}\".format(lr_8.score(X_test, y_test)))\n",
    "rmse_8_test = np.sqrt(mean_squared_error(y_test, y_pred_8_test))\n",
    "print(\"Test Set Root Mean Squared Error: {}\".format(rmse_8_test))"
   ]
  },
  {
   "cell_type": "markdown",
   "metadata": {},
   "source": [
    "A test set accuracy score/R Squared of 0.608 and a training set RMSE of 16.9 is returned."
   ]
  },
  {
   "cell_type": "code",
   "execution_count": 77,
   "metadata": {},
   "outputs": [],
   "source": [
    "filename = 'cancer_lr_8.sav'\n",
    "pickle.dump(lr_8, open(filename, 'wb'))"
   ]
  },
  {
   "cell_type": "markdown",
   "metadata": {},
   "source": [
    "## LASSO"
   ]
  },
  {
   "cell_type": "markdown",
   "metadata": {},
   "source": [
    "LASSO will never converge without normalization. Although the MinMax Scaler will be experimented later in the notebook in conjunction with LASSO, the LASSO function with internal normalization is first tried below."
   ]
  },
  {
   "cell_type": "code",
   "execution_count": 78,
   "metadata": {},
   "outputs": [],
   "source": [
    "lr_9 = linear_model.Lasso(alpha=0.001, normalize=True, max_iter=2000)"
   ]
  },
  {
   "cell_type": "code",
   "execution_count": 79,
   "metadata": {},
   "outputs": [
    {
     "data": {
      "text/plain": [
       "Lasso(alpha=0.001, copy_X=True, fit_intercept=True, max_iter=2000,\n",
       "   normalize=True, positive=False, precompute=False, random_state=None,\n",
       "   selection='cyclic', tol=0.0001, warm_start=False)"
      ]
     },
     "execution_count": 79,
     "metadata": {},
     "output_type": "execute_result"
    }
   ],
   "source": [
    "lr_9.fit(X_train, y_train)"
   ]
  },
  {
   "cell_type": "code",
   "execution_count": 80,
   "metadata": {},
   "outputs": [
    {
     "data": {
      "text/plain": [
       "array([195.39363953, 191.71837334, 210.65349601, 142.63213555,\n",
       "       221.67547544, 195.06202143, 175.5714302 , 172.04906281,\n",
       "       193.66268546, 220.96647609, 208.49938573, 180.31202623,\n",
       "       202.90988258, 190.52271457, 151.86201164, 188.27804431,\n",
       "       200.6001508 , 154.55684617, 171.15715976, 174.86999563])"
      ]
     },
     "execution_count": 80,
     "metadata": {},
     "output_type": "execute_result"
    }
   ],
   "source": [
    "y_pred_9_train = lr_9.predict(X_train)\n",
    "y_pred_9_train[0:20]"
   ]
  },
  {
   "cell_type": "code",
   "execution_count": 81,
   "metadata": {},
   "outputs": [
    {
     "name": "stdout",
     "output_type": "stream",
     "text": [
      "Training Set R^2: 0.6208488778202208\n",
      "Training Set Root Mean Squared Error: 17.18219008529444\n"
     ]
    }
   ],
   "source": [
    "print(\"Training Set R^2: {}\".format(lr_9.score(X_train, y_train)))\n",
    "rmse_9_train = np.sqrt(mean_squared_error(y_train, y_pred_9_train))\n",
    "print(\"Training Set Root Mean Squared Error: {}\".format(rmse_9_train))"
   ]
  },
  {
   "cell_type": "markdown",
   "metadata": {},
   "source": [
    "A training set accuracy score/R Squared of 0.621 and a training set RMSE of 17.2 is returned."
   ]
  },
  {
   "cell_type": "code",
   "execution_count": 82,
   "metadata": {},
   "outputs": [
    {
     "data": {
      "text/plain": [
       "array([179.08404156, 176.19810179, 159.42083273, 175.09287334,\n",
       "       177.27253781, 196.87050706, 173.28475525, 165.38649936,\n",
       "       170.85577602, 171.49963144, 177.28394713, 203.97845259,\n",
       "       159.40360776, 156.60794932, 221.34930729, 115.3806991 ,\n",
       "       187.57933552, 205.12641528, 206.61495516, 183.56065352])"
      ]
     },
     "execution_count": 82,
     "metadata": {},
     "output_type": "execute_result"
    }
   ],
   "source": [
    "y_pred_9_test = lr_9.predict(X_test)\n",
    "y_pred_9_test[0:20]"
   ]
  },
  {
   "cell_type": "code",
   "execution_count": 83,
   "metadata": {},
   "outputs": [
    {
     "name": "stdout",
     "output_type": "stream",
     "text": [
      "Test Set R^2: 0.59983204015626\n",
      "Test Set Root Mean Squared Error: 17.094274705428003\n"
     ]
    }
   ],
   "source": [
    "print(\"Test Set R^2: {}\".format(lr_9.score(X_test, y_test)))\n",
    "rmse_9_test = np.sqrt(mean_squared_error(y_test, y_pred_9_test))\n",
    "print(\"Test Set Root Mean Squared Error: {}\".format(rmse_9_test))"
   ]
  },
  {
   "cell_type": "markdown",
   "metadata": {},
   "source": [
    "A test set accuracy score/R Squared of 0.6 and a training set RMSE of 17.1 is returned."
   ]
  },
  {
   "cell_type": "code",
   "execution_count": 84,
   "metadata": {},
   "outputs": [],
   "source": [
    "filename = 'cancer_lr_9.sav'\n",
    "pickle.dump(lr_9, open(filename, 'wb'))"
   ]
  },
  {
   "cell_type": "code",
   "execution_count": 85,
   "metadata": {},
   "outputs": [],
   "source": [
    "lr_10 = linear_model.Lasso(alpha=0.01, normalize=True, max_iter=2000)"
   ]
  },
  {
   "cell_type": "code",
   "execution_count": 86,
   "metadata": {},
   "outputs": [
    {
     "data": {
      "text/plain": [
       "Lasso(alpha=0.01, copy_X=True, fit_intercept=True, max_iter=2000,\n",
       "   normalize=True, positive=False, precompute=False, random_state=None,\n",
       "   selection='cyclic', tol=0.0001, warm_start=False)"
      ]
     },
     "execution_count": 86,
     "metadata": {},
     "output_type": "execute_result"
    }
   ],
   "source": [
    "lr_10.fit(X_train, y_train)"
   ]
  },
  {
   "cell_type": "code",
   "execution_count": 87,
   "metadata": {},
   "outputs": [
    {
     "data": {
      "text/plain": [
       "array([197.55932908, 192.88046139, 207.09423971, 149.80980275,\n",
       "       213.76130427, 194.55987119, 178.23352096, 165.04493606,\n",
       "       191.27094394, 217.68123005, 212.36956635, 180.28711277,\n",
       "       201.31084792, 191.8949879 , 158.95197794, 183.74193488,\n",
       "       197.89094535, 159.20241699, 169.39084201, 175.98987864])"
      ]
     },
     "execution_count": 87,
     "metadata": {},
     "output_type": "execute_result"
    }
   ],
   "source": [
    "y_pred_10_train = lr_10.predict(X_train)\n",
    "y_pred_10_train[0:20]"
   ]
  },
  {
   "cell_type": "code",
   "execution_count": 88,
   "metadata": {},
   "outputs": [
    {
     "name": "stdout",
     "output_type": "stream",
     "text": [
      "Training Set R^2: 0.5806847206343142\n",
      "Training Set Root Mean Squared Error: 18.06935666540806\n"
     ]
    }
   ],
   "source": [
    "print(\"Training Set R^2: {}\".format(lr_10.score(X_train, y_train)))\n",
    "rmse_10_train = np.sqrt(mean_squared_error(y_train, y_pred_10_train))\n",
    "print(\"Training Set Root Mean Squared Error: {}\".format(rmse_10_train))"
   ]
  },
  {
   "cell_type": "markdown",
   "metadata": {},
   "source": [
    "A training set accuracy score/R Squared of 0.581 and a training set RMSE of 18.1 is returned."
   ]
  },
  {
   "cell_type": "code",
   "execution_count": 89,
   "metadata": {},
   "outputs": [
    {
     "data": {
      "text/plain": [
       "array([185.11889985, 176.30771271, 166.3214211 , 176.98537907,\n",
       "       170.28123545, 200.57791348, 173.72497031, 172.01673999,\n",
       "       172.08606202, 170.06650012, 183.86795521, 194.1600771 ,\n",
       "       163.7421692 , 161.67062688, 220.46487863, 122.25124148,\n",
       "       190.42182788, 199.79208002, 201.43295303, 183.92432696])"
      ]
     },
     "execution_count": 89,
     "metadata": {},
     "output_type": "execute_result"
    }
   ],
   "source": [
    "y_pred_10_test = lr_10.predict(X_test)\n",
    "y_pred_10_test[0:20]"
   ]
  },
  {
   "cell_type": "code",
   "execution_count": 90,
   "metadata": {},
   "outputs": [
    {
     "name": "stdout",
     "output_type": "stream",
     "text": [
      "Test Set R^2: 0.5944752553234316\n",
      "Test Set Root Mean Squared Error: 17.20830924435254\n"
     ]
    }
   ],
   "source": [
    "print(\"Test Set R^2: {}\".format(lr_10.score(X_test, y_test)))\n",
    "rmse_10_test = np.sqrt(mean_squared_error(y_test, y_pred_10_test))\n",
    "print(\"Test Set Root Mean Squared Error: {}\".format(rmse_10_test))"
   ]
  },
  {
   "cell_type": "markdown",
   "metadata": {},
   "source": [
    "A test set accuracy score/R Squared of 0.595 and a training set RMSE of 17.2 is returned."
   ]
  },
  {
   "cell_type": "code",
   "execution_count": 91,
   "metadata": {},
   "outputs": [],
   "source": [
    "filename = 'cancer_lr_10.sav'\n",
    "pickle.dump(lr_10, open(filename, 'wb'))"
   ]
  },
  {
   "cell_type": "code",
   "execution_count": 92,
   "metadata": {},
   "outputs": [],
   "source": [
    "lr_11 = linear_model.Lasso(alpha=0.1, normalize=True, max_iter=2000)"
   ]
  },
  {
   "cell_type": "code",
   "execution_count": 93,
   "metadata": {
    "scrolled": true
   },
   "outputs": [
    {
     "data": {
      "text/plain": [
       "Lasso(alpha=0.1, copy_X=True, fit_intercept=True, max_iter=2000,\n",
       "   normalize=True, positive=False, precompute=False, random_state=None,\n",
       "   selection='cyclic', tol=0.0001, warm_start=False)"
      ]
     },
     "execution_count": 93,
     "metadata": {},
     "output_type": "execute_result"
    }
   ],
   "source": [
    "lr_11.fit(X_train, y_train)"
   ]
  },
  {
   "cell_type": "code",
   "execution_count": 94,
   "metadata": {},
   "outputs": [
    {
     "data": {
      "text/plain": [
       "array([194.94556298, 189.44173396, 193.59686353, 156.26174291,\n",
       "       200.40753668, 190.08201545, 179.06111026, 168.16856974,\n",
       "       180.27350044, 206.03461295, 195.45675894, 174.41740489,\n",
       "       186.72209989, 190.72352434, 169.15777534, 179.7713397 ,\n",
       "       189.4072948 , 162.37881562, 174.46865568, 179.84799674])"
      ]
     },
     "execution_count": 94,
     "metadata": {},
     "output_type": "execute_result"
    }
   ],
   "source": [
    "y_pred_11_train = lr_11.predict(X_train)\n",
    "y_pred_11_train[0:20]"
   ]
  },
  {
   "cell_type": "code",
   "execution_count": 95,
   "metadata": {
    "scrolled": true
   },
   "outputs": [
    {
     "name": "stdout",
     "output_type": "stream",
     "text": [
      "Training Set R^2: 0.432862589079535\n",
      "Training Set Root Mean Squared Error: 21.014375803801023\n"
     ]
    }
   ],
   "source": [
    "print(\"Training Set R^2: {}\".format(lr_11.score(X_train, y_train)))\n",
    "rmse_11_train = np.sqrt(mean_squared_error(y_train, y_pred_11_train))\n",
    "print(\"Training Set Root Mean Squared Error: {}\".format(rmse_11_train))"
   ]
  },
  {
   "cell_type": "markdown",
   "metadata": {},
   "source": [
    "A training set accuracy score/R Squared of 0.433 and a training set RMSE of 21 is returned."
   ]
  },
  {
   "cell_type": "code",
   "execution_count": 96,
   "metadata": {},
   "outputs": [
    {
     "data": {
      "text/plain": [
       "array([187.81731941, 176.3460354 , 171.92094489, 176.59754822,\n",
       "       172.80994977, 191.12387984, 177.23686082, 181.80709606,\n",
       "       172.2819364 , 177.99533327, 183.23656609, 185.27581794,\n",
       "       174.67196715, 170.54334155, 201.03917248, 136.80641452,\n",
       "       188.87892173, 191.15520665, 188.31907096, 183.94689769])"
      ]
     },
     "execution_count": 96,
     "metadata": {},
     "output_type": "execute_result"
    }
   ],
   "source": [
    "y_pred_11_test = lr_11.predict(X_test)\n",
    "y_pred_11_test[0:20]"
   ]
  },
  {
   "cell_type": "code",
   "execution_count": 97,
   "metadata": {
    "scrolled": true
   },
   "outputs": [
    {
     "name": "stdout",
     "output_type": "stream",
     "text": [
      "Test Set R^2: 0.4554854293828936\n",
      "Test Set Root Mean Squared Error: 19.940418782158286\n"
     ]
    }
   ],
   "source": [
    "print(\"Test Set R^2: {}\".format(lr_11.score(X_test, y_test)))\n",
    "rmse_11_test = np.sqrt(mean_squared_error(y_test, y_pred_11_test))\n",
    "print(\"Test Set Root Mean Squared Error: {}\".format(rmse_11_test))"
   ]
  },
  {
   "cell_type": "markdown",
   "metadata": {},
   "source": [
    "A test set accuracy score/R Squared of 0.46 and a training set RMSE of 19.9 is returned."
   ]
  },
  {
   "cell_type": "code",
   "execution_count": 98,
   "metadata": {},
   "outputs": [],
   "source": [
    "filename = 'cancer_lr_11.sav'\n",
    "pickle.dump(lr_11, open(filename, 'wb'))"
   ]
  },
  {
   "cell_type": "code",
   "execution_count": 99,
   "metadata": {},
   "outputs": [],
   "source": [
    "lr_12 = linear_model.Lasso(alpha=1, normalize=True, max_iter=2000)"
   ]
  },
  {
   "cell_type": "code",
   "execution_count": 100,
   "metadata": {},
   "outputs": [
    {
     "data": {
      "text/plain": [
       "Lasso(alpha=1, copy_X=True, fit_intercept=True, max_iter=2000, normalize=True,\n",
       "   positive=False, precompute=False, random_state=None, selection='cyclic',\n",
       "   tol=0.0001, warm_start=False)"
      ]
     },
     "execution_count": 100,
     "metadata": {},
     "output_type": "execute_result"
    }
   ],
   "source": [
    "lr_12.fit(X_train, y_train)"
   ]
  },
  {
   "cell_type": "code",
   "execution_count": 101,
   "metadata": {},
   "outputs": [
    {
     "data": {
      "text/plain": [
       "array([179.14755847, 179.14755847, 179.14755847, 179.14755847,\n",
       "       179.14755847, 179.14755847, 179.14755847, 179.14755847,\n",
       "       179.14755847, 179.14755847, 179.14755847, 179.14755847,\n",
       "       179.14755847, 179.14755847, 179.14755847, 179.14755847,\n",
       "       179.14755847, 179.14755847, 179.14755847, 179.14755847])"
      ]
     },
     "execution_count": 101,
     "metadata": {},
     "output_type": "execute_result"
    }
   ],
   "source": [
    "y_pred_12_train = lr_12.predict(X_train)\n",
    "y_pred_12_train[0:20]"
   ]
  },
  {
   "cell_type": "code",
   "execution_count": 102,
   "metadata": {},
   "outputs": [
    {
     "name": "stdout",
     "output_type": "stream",
     "text": [
      "Training Set R^2: 0.0\n",
      "Training Set Root Mean Squared Error: 27.90437800503229\n"
     ]
    }
   ],
   "source": [
    "print(\"Training Set R^2: {}\".format(lr_12.score(X_train, y_train)))\n",
    "rmse_12_train = np.sqrt(mean_squared_error(y_train, y_pred_12_train))\n",
    "print(\"Training Set Root Mean Squared Error: {}\".format(rmse_12_train))"
   ]
  },
  {
   "cell_type": "markdown",
   "metadata": {},
   "source": [
    "A training set accuracy score/R Squared of 0 and a training set RMSE of 27.9 is returned."
   ]
  },
  {
   "cell_type": "code",
   "execution_count": 103,
   "metadata": {},
   "outputs": [
    {
     "data": {
      "text/plain": [
       "array([179.14755847, 179.14755847, 179.14755847, 179.14755847,\n",
       "       179.14755847, 179.14755847, 179.14755847, 179.14755847,\n",
       "       179.14755847, 179.14755847, 179.14755847, 179.14755847,\n",
       "       179.14755847, 179.14755847, 179.14755847, 179.14755847,\n",
       "       179.14755847, 179.14755847, 179.14755847, 179.14755847])"
      ]
     },
     "execution_count": 103,
     "metadata": {},
     "output_type": "execute_result"
    }
   ],
   "source": [
    "y_pred_12_test = lr_12.predict(X_test)\n",
    "y_pred_12_test[0:20]"
   ]
  },
  {
   "cell_type": "code",
   "execution_count": 104,
   "metadata": {
    "scrolled": true
   },
   "outputs": [
    {
     "name": "stdout",
     "output_type": "stream",
     "text": [
      "Test Set R^2: -0.00798750229846834\n",
      "Test Set Root Mean Squared Error: 27.130456166458586\n"
     ]
    }
   ],
   "source": [
    "print(\"Test Set R^2: {}\".format(lr_12.score(X_test, y_test)))\n",
    "rmse_12_test = np.sqrt(mean_squared_error(y_test, y_pred_12_test))\n",
    "print(\"Test Set Root Mean Squared Error: {}\".format(rmse_12_test))"
   ]
  },
  {
   "cell_type": "markdown",
   "metadata": {},
   "source": [
    "A test set accuracy score/R Squared of -0.008 and a training set RMSE of 27.1 is returned."
   ]
  },
  {
   "cell_type": "code",
   "execution_count": 105,
   "metadata": {},
   "outputs": [],
   "source": [
    "filename = 'cancer_lr_12.sav'\n",
    "pickle.dump(lr_12, open(filename, 'wb'))"
   ]
  },
  {
   "cell_type": "code",
   "execution_count": 106,
   "metadata": {},
   "outputs": [],
   "source": [
    "lr_13 = linear_model.Lasso(alpha=10, normalize=True, max_iter=2000)"
   ]
  },
  {
   "cell_type": "code",
   "execution_count": 107,
   "metadata": {},
   "outputs": [
    {
     "data": {
      "text/plain": [
       "Lasso(alpha=10, copy_X=True, fit_intercept=True, max_iter=2000,\n",
       "   normalize=True, positive=False, precompute=False, random_state=None,\n",
       "   selection='cyclic', tol=0.0001, warm_start=False)"
      ]
     },
     "execution_count": 107,
     "metadata": {},
     "output_type": "execute_result"
    }
   ],
   "source": [
    "lr_13.fit(X_train, y_train)"
   ]
  },
  {
   "cell_type": "code",
   "execution_count": 108,
   "metadata": {},
   "outputs": [
    {
     "data": {
      "text/plain": [
       "array([179.14755847, 179.14755847, 179.14755847, 179.14755847,\n",
       "       179.14755847, 179.14755847, 179.14755847, 179.14755847,\n",
       "       179.14755847, 179.14755847, 179.14755847, 179.14755847,\n",
       "       179.14755847, 179.14755847, 179.14755847, 179.14755847,\n",
       "       179.14755847, 179.14755847, 179.14755847, 179.14755847])"
      ]
     },
     "execution_count": 108,
     "metadata": {},
     "output_type": "execute_result"
    }
   ],
   "source": [
    "y_pred_13_train = lr_13.predict(X_train)\n",
    "y_pred_13_train[0:20]"
   ]
  },
  {
   "cell_type": "code",
   "execution_count": 109,
   "metadata": {},
   "outputs": [
    {
     "name": "stdout",
     "output_type": "stream",
     "text": [
      "Training Set R^2: 0.0\n",
      "Training Set Root Mean Squared Error: 27.90437800503229\n"
     ]
    }
   ],
   "source": [
    "print(\"Training Set R^2: {}\".format(lr_13.score(X_train, y_train)))\n",
    "rmse_13_train = np.sqrt(mean_squared_error(y_train, y_pred_13_train))\n",
    "print(\"Training Set Root Mean Squared Error: {}\".format(rmse_13_train))"
   ]
  },
  {
   "cell_type": "markdown",
   "metadata": {},
   "source": [
    "A training set accuracy score/R Squared of 0 and a training set RMSE of 27.9 is returned."
   ]
  },
  {
   "cell_type": "code",
   "execution_count": 110,
   "metadata": {},
   "outputs": [
    {
     "data": {
      "text/plain": [
       "array([179.14755847, 179.14755847, 179.14755847, 179.14755847,\n",
       "       179.14755847, 179.14755847, 179.14755847, 179.14755847,\n",
       "       179.14755847, 179.14755847, 179.14755847, 179.14755847,\n",
       "       179.14755847, 179.14755847, 179.14755847, 179.14755847,\n",
       "       179.14755847, 179.14755847, 179.14755847, 179.14755847])"
      ]
     },
     "execution_count": 110,
     "metadata": {},
     "output_type": "execute_result"
    }
   ],
   "source": [
    "y_pred_13_test = lr_13.predict(X_test)\n",
    "y_pred_13_test[0:20]"
   ]
  },
  {
   "cell_type": "code",
   "execution_count": 111,
   "metadata": {},
   "outputs": [
    {
     "name": "stdout",
     "output_type": "stream",
     "text": [
      "Test Set R^2: -0.00798750229846834\n",
      "Test Set Root Mean Squared Error: 27.130456166458586\n"
     ]
    }
   ],
   "source": [
    "print(\"Test Set R^2: {}\".format(lr_13.score(X_test, y_test)))\n",
    "rmse_13_test = np.sqrt(mean_squared_error(y_test, y_pred_13_test))\n",
    "print(\"Test Set Root Mean Squared Error: {}\".format(rmse_13_test))"
   ]
  },
  {
   "cell_type": "markdown",
   "metadata": {},
   "source": [
    "A test set accuracy score/R Squared of -0.008 and a training set RMSE of 27.1 is returned."
   ]
  },
  {
   "cell_type": "code",
   "execution_count": 112,
   "metadata": {},
   "outputs": [],
   "source": [
    "filename = 'cancer_lr_13.sav'\n",
    "pickle.dump(lr_13, open(filename, 'wb'))"
   ]
  },
  {
   "cell_type": "code",
   "execution_count": 113,
   "metadata": {},
   "outputs": [],
   "source": [
    "lr_14 = linear_model.Lasso(alpha=100, normalize=True, max_iter=2000)"
   ]
  },
  {
   "cell_type": "code",
   "execution_count": 114,
   "metadata": {
    "scrolled": false
   },
   "outputs": [
    {
     "data": {
      "text/plain": [
       "Lasso(alpha=100, copy_X=True, fit_intercept=True, max_iter=2000,\n",
       "   normalize=True, positive=False, precompute=False, random_state=None,\n",
       "   selection='cyclic', tol=0.0001, warm_start=False)"
      ]
     },
     "execution_count": 114,
     "metadata": {},
     "output_type": "execute_result"
    }
   ],
   "source": [
    "lr_14.fit(X_train, y_train)"
   ]
  },
  {
   "cell_type": "code",
   "execution_count": 115,
   "metadata": {
    "scrolled": true
   },
   "outputs": [
    {
     "data": {
      "text/plain": [
       "array([179.14755847, 179.14755847, 179.14755847, 179.14755847,\n",
       "       179.14755847, 179.14755847, 179.14755847, 179.14755847,\n",
       "       179.14755847, 179.14755847, 179.14755847, 179.14755847,\n",
       "       179.14755847, 179.14755847, 179.14755847, 179.14755847,\n",
       "       179.14755847, 179.14755847, 179.14755847, 179.14755847])"
      ]
     },
     "execution_count": 115,
     "metadata": {},
     "output_type": "execute_result"
    }
   ],
   "source": [
    "y_pred_14_train = lr_14.predict(X_train)\n",
    "y_pred_14_train[0:20]"
   ]
  },
  {
   "cell_type": "code",
   "execution_count": 116,
   "metadata": {
    "scrolled": true
   },
   "outputs": [
    {
     "name": "stdout",
     "output_type": "stream",
     "text": [
      "Training Set R^2: 0.0\n",
      "Training Set Root Mean Squared Error: 27.90437800503229\n"
     ]
    }
   ],
   "source": [
    "print(\"Training Set R^2: {}\".format(lr_14.score(X_train, y_train)))\n",
    "rmse_14_train = np.sqrt(mean_squared_error(y_train, y_pred_14_train))\n",
    "print(\"Training Set Root Mean Squared Error: {}\".format(rmse_14_train))"
   ]
  },
  {
   "cell_type": "markdown",
   "metadata": {},
   "source": [
    "A training set accuracy score/R Squared of 0 and a training set RMSE of 27.9 is returned."
   ]
  },
  {
   "cell_type": "code",
   "execution_count": 117,
   "metadata": {},
   "outputs": [
    {
     "data": {
      "text/plain": [
       "array([179.14755847, 179.14755847, 179.14755847, 179.14755847,\n",
       "       179.14755847, 179.14755847, 179.14755847, 179.14755847,\n",
       "       179.14755847, 179.14755847, 179.14755847, 179.14755847,\n",
       "       179.14755847, 179.14755847, 179.14755847, 179.14755847,\n",
       "       179.14755847, 179.14755847, 179.14755847, 179.14755847])"
      ]
     },
     "execution_count": 117,
     "metadata": {},
     "output_type": "execute_result"
    }
   ],
   "source": [
    "y_pred_14_test = lr_14.predict(X_test)\n",
    "y_pred_14_test[0:20]"
   ]
  },
  {
   "cell_type": "code",
   "execution_count": 118,
   "metadata": {},
   "outputs": [
    {
     "name": "stdout",
     "output_type": "stream",
     "text": [
      "Test Set R^2: -0.00798750229846834\n",
      "Test Set Root Mean Squared Error: 27.130456166458586\n"
     ]
    }
   ],
   "source": [
    "print(\"Test Set R^2: {}\".format(lr_14.score(X_test, y_test)))\n",
    "rmse_14_test = np.sqrt(mean_squared_error(y_test, y_pred_14_test))\n",
    "print(\"Test Set Root Mean Squared Error: {}\".format(rmse_14_test))"
   ]
  },
  {
   "cell_type": "markdown",
   "metadata": {},
   "source": [
    "A test set accuracy score/R Squared of -0.008 and a training set RMSE of 27.1 is returned."
   ]
  },
  {
   "cell_type": "code",
   "execution_count": 119,
   "metadata": {},
   "outputs": [],
   "source": [
    "filename = 'cancer_lr_14.sav'\n",
    "pickle.dump(lr_14, open(filename, 'wb'))"
   ]
  },
  {
   "cell_type": "markdown",
   "metadata": {},
   "source": [
    "## Elastic Net with L1 Ratio of 0.25"
   ]
  },
  {
   "cell_type": "code",
   "execution_count": 120,
   "metadata": {},
   "outputs": [],
   "source": [
    "lr_15 = linear_model.ElasticNet(alpha=0.001, l1_ratio=0.25, normalize=True)"
   ]
  },
  {
   "cell_type": "code",
   "execution_count": 121,
   "metadata": {},
   "outputs": [
    {
     "data": {
      "text/plain": [
       "ElasticNet(alpha=0.001, copy_X=True, fit_intercept=True, l1_ratio=0.25,\n",
       "      max_iter=1000, normalize=True, positive=False, precompute=False,\n",
       "      random_state=None, selection='cyclic', tol=0.0001, warm_start=False)"
      ]
     },
     "execution_count": 121,
     "metadata": {},
     "output_type": "execute_result"
    }
   ],
   "source": [
    "lr_15.fit(X_train, y_train)"
   ]
  },
  {
   "cell_type": "code",
   "execution_count": 122,
   "metadata": {
    "scrolled": true
   },
   "outputs": [
    {
     "data": {
      "text/plain": [
       "array([202.30629423, 192.19170755, 205.94711832, 151.18398882,\n",
       "       203.48712571, 189.92578695, 171.24495903, 162.92371268,\n",
       "       185.24402148, 212.92837923, 205.52227905, 178.01225955,\n",
       "       198.53637795, 196.65089689, 158.14568024, 180.3461094 ,\n",
       "       200.17554069, 158.06131007, 164.16481966, 169.2741957 ])"
      ]
     },
     "execution_count": 122,
     "metadata": {},
     "output_type": "execute_result"
    }
   ],
   "source": [
    "y_pred_15_train = lr_15.predict(X_train)\n",
    "y_pred_15_train[0:20]"
   ]
  },
  {
   "cell_type": "code",
   "execution_count": 123,
   "metadata": {
    "scrolled": true
   },
   "outputs": [
    {
     "name": "stdout",
     "output_type": "stream",
     "text": [
      "Training Set R^2: 0.5319134290706964\n",
      "Training Set Root Mean Squared Error: 19.091297147447065\n"
     ]
    }
   ],
   "source": [
    "print(\"Training Set R^2: {}\".format(lr_15.score(X_train, y_train)))\n",
    "rmse_15_train = np.sqrt(mean_squared_error(y_train, y_pred_15_train))\n",
    "print(\"Training Set Root Mean Squared Error: {}\".format(rmse_15_train))"
   ]
  },
  {
   "cell_type": "markdown",
   "metadata": {},
   "source": [
    "A training set accuracy score/R Squared of 0.532 and a training set RMSE of 19.1 is returned."
   ]
  },
  {
   "cell_type": "code",
   "execution_count": 124,
   "metadata": {},
   "outputs": [
    {
     "data": {
      "text/plain": [
       "array([170.95437434, 176.36094391, 164.45840771, 175.63669807,\n",
       "       178.08345981, 193.98510616, 175.32038492, 167.86477987,\n",
       "       165.50403982, 174.36013448, 181.79767063, 203.00044749,\n",
       "       162.33978454, 161.07682502, 213.08867172, 127.14256212,\n",
       "       189.16329271, 201.59158518, 195.99667923, 187.37673869])"
      ]
     },
     "execution_count": 124,
     "metadata": {},
     "output_type": "execute_result"
    }
   ],
   "source": [
    "y_pred_15_test = lr_15.predict(X_test)\n",
    "y_pred_15_test[0:20]"
   ]
  },
  {
   "cell_type": "code",
   "execution_count": 125,
   "metadata": {},
   "outputs": [
    {
     "name": "stdout",
     "output_type": "stream",
     "text": [
      "Test Set R^2: 0.4919015523501885\n",
      "Test Set Root Mean Squared Error: 19.262092152749762\n"
     ]
    }
   ],
   "source": [
    "print(\"Test Set R^2: {}\".format(lr_15.score(X_test, y_test)))\n",
    "rmse_15_test = np.sqrt(mean_squared_error(y_test, y_pred_15_test))\n",
    "print(\"Test Set Root Mean Squared Error: {}\".format(rmse_15_test))"
   ]
  },
  {
   "cell_type": "markdown",
   "metadata": {},
   "source": [
    "A test set accuracy score/R Squared of 0.492 and a training set RMSE of 19.3 is returned."
   ]
  },
  {
   "cell_type": "code",
   "execution_count": 126,
   "metadata": {},
   "outputs": [],
   "source": [
    "filename = 'cancer_lr_15.sav'\n",
    "pickle.dump(lr_15, open(filename, 'wb'))"
   ]
  },
  {
   "cell_type": "code",
   "execution_count": 127,
   "metadata": {},
   "outputs": [],
   "source": [
    "lr_16 = linear_model.ElasticNet(alpha=0.01, l1_ratio=0.25, normalize=True)"
   ]
  },
  {
   "cell_type": "code",
   "execution_count": 128,
   "metadata": {
    "scrolled": true
   },
   "outputs": [
    {
     "data": {
      "text/plain": [
       "ElasticNet(alpha=0.01, copy_X=True, fit_intercept=True, l1_ratio=0.25,\n",
       "      max_iter=1000, normalize=True, positive=False, precompute=False,\n",
       "      random_state=None, selection='cyclic', tol=0.0001, warm_start=False)"
      ]
     },
     "execution_count": 128,
     "metadata": {},
     "output_type": "execute_result"
    }
   ],
   "source": [
    "lr_16.fit(X_train, y_train)"
   ]
  },
  {
   "cell_type": "code",
   "execution_count": 129,
   "metadata": {
    "scrolled": true
   },
   "outputs": [
    {
     "data": {
      "text/plain": [
       "array([194.75269535, 189.36140402, 195.66034545, 165.37308346,\n",
       "       191.59754022, 185.74419728, 167.31694446, 164.29500225,\n",
       "       182.57311026, 199.15422408, 195.14467332, 175.20695711,\n",
       "       189.13632826, 193.10254262, 167.21705072, 179.56349922,\n",
       "       192.6770344 , 168.61551795, 167.80267808, 171.35981213])"
      ]
     },
     "execution_count": 129,
     "metadata": {},
     "output_type": "execute_result"
    }
   ],
   "source": [
    "y_pred_16_train = lr_16.predict(X_train)\n",
    "y_pred_16_train[0:20]"
   ]
  },
  {
   "cell_type": "code",
   "execution_count": 130,
   "metadata": {
    "scrolled": true
   },
   "outputs": [
    {
     "name": "stdout",
     "output_type": "stream",
     "text": [
      "Training Set R^2: 0.3566989500543001\n",
      "Training Set Root Mean Squared Error: 22.380999449452453\n"
     ]
    }
   ],
   "source": [
    "print(\"Training Set R^2: {}\".format(lr_16.score(X_train, y_train)))\n",
    "rmse_16_train = np.sqrt(mean_squared_error(y_train, y_pred_16_train))\n",
    "print(\"Training Set Root Mean Squared Error: {}\".format(rmse_16_train))"
   ]
  },
  {
   "cell_type": "markdown",
   "metadata": {},
   "source": [
    "A training set accuracy score/R Squared of 0.357 and a training set RMSE of 22.4 is returned."
   ]
  },
  {
   "cell_type": "code",
   "execution_count": 131,
   "metadata": {},
   "outputs": [
    {
     "data": {
      "text/plain": [
       "array([170.76237575, 177.20255587, 171.01026219, 177.40422787,\n",
       "       179.15725048, 188.30935096, 178.11517384, 173.8346168 ,\n",
       "       168.40437921, 176.21044743, 183.77945311, 194.91755311,\n",
       "       170.63556204, 169.14381897, 195.87889423, 151.55066664,\n",
       "       187.90977896, 191.60971668, 188.02412752, 187.55979514])"
      ]
     },
     "execution_count": 131,
     "metadata": {},
     "output_type": "execute_result"
    }
   ],
   "source": [
    "y_pred_16_test = lr_16.predict(X_test)\n",
    "y_pred_16_test[0:20]"
   ]
  },
  {
   "cell_type": "code",
   "execution_count": 132,
   "metadata": {},
   "outputs": [
    {
     "name": "stdout",
     "output_type": "stream",
     "text": [
      "Test Set R^2: 0.30787577693585433\n",
      "Test Set Root Mean Squared Error: 22.481306505506556\n"
     ]
    }
   ],
   "source": [
    "print(\"Test Set R^2: {}\".format(lr_16.score(X_test, y_test)))\n",
    "rmse_16_test = np.sqrt(mean_squared_error(y_test, y_pred_16_test))\n",
    "print(\"Test Set Root Mean Squared Error: {}\".format(rmse_16_test))"
   ]
  },
  {
   "cell_type": "markdown",
   "metadata": {},
   "source": [
    "A test set accuracy score/R Squared of 0.308 and a training set RMSE of 22.5 is returned."
   ]
  },
  {
   "cell_type": "code",
   "execution_count": 133,
   "metadata": {},
   "outputs": [],
   "source": [
    "filename = 'cancer_lr_16.sav'\n",
    "pickle.dump(lr_16, open(filename, 'wb'))"
   ]
  },
  {
   "cell_type": "code",
   "execution_count": 134,
   "metadata": {},
   "outputs": [],
   "source": [
    "lr_17 = linear_model.ElasticNet(alpha=0.1, l1_ratio=0.25, normalize=True)"
   ]
  },
  {
   "cell_type": "code",
   "execution_count": 135,
   "metadata": {},
   "outputs": [
    {
     "data": {
      "text/plain": [
       "ElasticNet(alpha=0.1, copy_X=True, fit_intercept=True, l1_ratio=0.25,\n",
       "      max_iter=1000, normalize=True, positive=False, precompute=False,\n",
       "      random_state=None, selection='cyclic', tol=0.0001, warm_start=False)"
      ]
     },
     "execution_count": 135,
     "metadata": {},
     "output_type": "execute_result"
    }
   ],
   "source": [
    "lr_17.fit(X_train, y_train)"
   ]
  },
  {
   "cell_type": "code",
   "execution_count": 136,
   "metadata": {
    "scrolled": true
   },
   "outputs": [
    {
     "data": {
      "text/plain": [
       "array([182.20874739, 181.29585541, 182.44779682, 176.41242996,\n",
       "       181.48543926, 180.64598001, 175.94898091, 175.88724648,\n",
       "       179.97822639, 182.92460164, 182.46313674, 178.4095897 ,\n",
       "       181.06515388, 182.03931785, 176.99659611, 179.05297742,\n",
       "       181.9172123 , 177.57619387, 176.90146549, 177.56957951])"
      ]
     },
     "execution_count": 136,
     "metadata": {},
     "output_type": "execute_result"
    }
   ],
   "source": [
    "y_pred_17_train = lr_17.predict(X_train)\n",
    "y_pred_17_train[0:20]"
   ]
  },
  {
   "cell_type": "code",
   "execution_count": 137,
   "metadata": {
    "scrolled": true
   },
   "outputs": [
    {
     "name": "stdout",
     "output_type": "stream",
     "text": [
      "Training Set R^2: 0.09029427884975072\n",
      "Training Set Root Mean Squared Error: 26.614775638471766\n"
     ]
    }
   ],
   "source": [
    "print(\"Training Set R^2: {}\".format(lr_17.score(X_train, y_train)))\n",
    "rmse_17_train = np.sqrt(mean_squared_error(y_train, y_pred_17_train))\n",
    "print(\"Training Set Root Mean Squared Error: {}\".format(rmse_17_train))"
   ]
  },
  {
   "cell_type": "markdown",
   "metadata": {},
   "source": [
    "A training set accuracy score/R Squared of 0.09 and a training set RMSE of 26.6 is returned."
   ]
  },
  {
   "cell_type": "code",
   "execution_count": 138,
   "metadata": {},
   "outputs": [
    {
     "data": {
      "text/plain": [
       "array([176.81419944, 178.87146455, 177.56952794, 178.71108992,\n",
       "       178.94841071, 181.06972995, 179.28864234, 178.03382554,\n",
       "       176.96131869, 178.53663968, 180.39169398, 182.19726188,\n",
       "       177.57181621, 177.22082932, 182.37613486, 173.81807071,\n",
       "       181.0517028 , 181.35501076, 180.69809804, 181.11019085])"
      ]
     },
     "execution_count": 138,
     "metadata": {},
     "output_type": "execute_result"
    }
   ],
   "source": [
    "y_pred_17_test = lr_17.predict(X_test)\n",
    "y_pred_17_test[0:20]"
   ]
  },
  {
   "cell_type": "code",
   "execution_count": 139,
   "metadata": {},
   "outputs": [
    {
     "name": "stdout",
     "output_type": "stream",
     "text": [
      "Test Set R^2: 0.072535709130781\n",
      "Test Set Root Mean Squared Error: 26.02424392670071\n"
     ]
    }
   ],
   "source": [
    "print(\"Test Set R^2: {}\".format(lr_17.score(X_test, y_test)))\n",
    "rmse_17_test = np.sqrt(mean_squared_error(y_test, y_pred_17_test))\n",
    "print(\"Test Set Root Mean Squared Error: {}\".format(rmse_17_test))"
   ]
  },
  {
   "cell_type": "markdown",
   "metadata": {},
   "source": [
    "A test set accuracy score/R Squared of 0.07 and a training set RMSE of 26 is returned."
   ]
  },
  {
   "cell_type": "code",
   "execution_count": 140,
   "metadata": {},
   "outputs": [],
   "source": [
    "filename = 'cancer_lr_17.sav'\n",
    "pickle.dump(lr_17, open(filename, 'wb'))"
   ]
  },
  {
   "cell_type": "code",
   "execution_count": 141,
   "metadata": {},
   "outputs": [],
   "source": [
    "lr_18 = linear_model.ElasticNet(alpha=1, l1_ratio=0.25, normalize=True)"
   ]
  },
  {
   "cell_type": "code",
   "execution_count": 142,
   "metadata": {},
   "outputs": [
    {
     "data": {
      "text/plain": [
       "ElasticNet(alpha=1, copy_X=True, fit_intercept=True, l1_ratio=0.25,\n",
       "      max_iter=1000, normalize=True, positive=False, precompute=False,\n",
       "      random_state=None, selection='cyclic', tol=0.0001, warm_start=False)"
      ]
     },
     "execution_count": 142,
     "metadata": {},
     "output_type": "execute_result"
    }
   ],
   "source": [
    "lr_18.fit(X_train, y_train)"
   ]
  },
  {
   "cell_type": "code",
   "execution_count": 143,
   "metadata": {
    "scrolled": true
   },
   "outputs": [
    {
     "data": {
      "text/plain": [
       "array([179.16101939, 179.15033658, 179.15525323, 179.13489048,\n",
       "       179.15423898, 179.15384802, 179.14574887, 179.1404956 ,\n",
       "       179.14803531, 179.16014358, 179.15350573, 179.14349084,\n",
       "       179.15022152, 179.15393369, 179.14151603, 179.14927245,\n",
       "       179.1517171 , 179.13309887, 179.1432941 , 179.14635068])"
      ]
     },
     "execution_count": 143,
     "metadata": {},
     "output_type": "execute_result"
    }
   ],
   "source": [
    "y_pred_18_train = lr_18.predict(X_train)\n",
    "y_pred_18_train[0:20]"
   ]
  },
  {
   "cell_type": "code",
   "execution_count": 144,
   "metadata": {
    "scrolled": true
   },
   "outputs": [
    {
     "name": "stdout",
     "output_type": "stream",
     "text": [
      "Training Set R^2: 0.00028779474453977105\n",
      "Training Set Root Mean Squared Error: 27.900362349420604\n"
     ]
    }
   ],
   "source": [
    "print(\"Training Set R^2: {}\".format(lr_18.score(X_train, y_train)))\n",
    "rmse_18_train = np.sqrt(mean_squared_error(y_train, y_pred_18_train))\n",
    "print(\"Training Set Root Mean Squared Error: {}\".format(rmse_18_train))"
   ]
  },
  {
   "cell_type": "markdown",
   "metadata": {},
   "source": [
    "A training set accuracy score/R Squared of 0.0003 and a training set RMSE of 27.9 is returned."
   ]
  },
  {
   "cell_type": "code",
   "execution_count": 145,
   "metadata": {},
   "outputs": [
    {
     "data": {
      "text/plain": [
       "array([179.1480978 , 179.14316307, 179.1467997 , 179.14705374,\n",
       "       179.1476209 , 179.15174564, 179.14472912, 179.15098806,\n",
       "       179.1397567 , 179.14746986, 179.14925033, 179.15845061,\n",
       "       179.14442068, 179.14286662, 179.15587489, 179.1244432 ,\n",
       "       179.1518528 , 179.15487349, 179.14990126, 179.15109355])"
      ]
     },
     "execution_count": 145,
     "metadata": {},
     "output_type": "execute_result"
    }
   ],
   "source": [
    "y_pred_18_test = lr_18.predict(X_test)\n",
    "y_pred_18_test[0:20]"
   ]
  },
  {
   "cell_type": "code",
   "execution_count": 146,
   "metadata": {},
   "outputs": [
    {
     "name": "stdout",
     "output_type": "stream",
     "text": [
      "Test Set R^2: -0.007738882107694689\n",
      "Test Set Root Mean Squared Error: 27.1271100956251\n"
     ]
    }
   ],
   "source": [
    "print(\"Test Set R^2: {}\".format(lr_18.score(X_test, y_test)))\n",
    "rmse_18_test = np.sqrt(mean_squared_error(y_test, y_pred_18_test))\n",
    "print(\"Test Set Root Mean Squared Error: {}\".format(rmse_18_test))"
   ]
  },
  {
   "cell_type": "markdown",
   "metadata": {},
   "source": [
    "A test set accuracy score/R Squared of -0.008 and a training set RMSE of 27.1 is returned."
   ]
  },
  {
   "cell_type": "code",
   "execution_count": 147,
   "metadata": {},
   "outputs": [],
   "source": [
    "filename = 'cancer_lr_18.sav'\n",
    "pickle.dump(lr_18, open(filename, 'wb'))"
   ]
  },
  {
   "cell_type": "code",
   "execution_count": 148,
   "metadata": {},
   "outputs": [],
   "source": [
    "lr_19 = linear_model.ElasticNet(alpha=10, l1_ratio=0.25, normalize=True)"
   ]
  },
  {
   "cell_type": "code",
   "execution_count": 149,
   "metadata": {
    "scrolled": true
   },
   "outputs": [
    {
     "data": {
      "text/plain": [
       "ElasticNet(alpha=10, copy_X=True, fit_intercept=True, l1_ratio=0.25,\n",
       "      max_iter=1000, normalize=True, positive=False, precompute=False,\n",
       "      random_state=None, selection='cyclic', tol=0.0001, warm_start=False)"
      ]
     },
     "execution_count": 149,
     "metadata": {},
     "output_type": "execute_result"
    }
   ],
   "source": [
    "lr_19.fit(X_train, y_train)"
   ]
  },
  {
   "cell_type": "code",
   "execution_count": 150,
   "metadata": {
    "scrolled": true
   },
   "outputs": [
    {
     "data": {
      "text/plain": [
       "array([179.14755847, 179.14755847, 179.14755847, 179.14755847,\n",
       "       179.14755847, 179.14755847, 179.14755847, 179.14755847,\n",
       "       179.14755847, 179.14755847, 179.14755847, 179.14755847,\n",
       "       179.14755847, 179.14755847, 179.14755847, 179.14755847,\n",
       "       179.14755847, 179.14755847, 179.14755847, 179.14755847])"
      ]
     },
     "execution_count": 150,
     "metadata": {},
     "output_type": "execute_result"
    }
   ],
   "source": [
    "y_pred_19_train = lr_19.predict(X_train)\n",
    "y_pred_19_train[0:20]"
   ]
  },
  {
   "cell_type": "code",
   "execution_count": 151,
   "metadata": {
    "scrolled": true
   },
   "outputs": [
    {
     "name": "stdout",
     "output_type": "stream",
     "text": [
      "Training Set R^2: 0.0\n",
      "Training Set Root Mean Squared Error: 27.90437800503229\n"
     ]
    }
   ],
   "source": [
    "print(\"Training Set R^2: {}\".format(lr_19.score(X_train, y_train)))\n",
    "rmse_19_train = np.sqrt(mean_squared_error(y_train, y_pred_19_train))\n",
    "print(\"Training Set Root Mean Squared Error: {}\".format(rmse_19_train))"
   ]
  },
  {
   "cell_type": "markdown",
   "metadata": {},
   "source": [
    "A training set accuracy score/R Squared of 0 and a training set RMSE of 27.9 is returned."
   ]
  },
  {
   "cell_type": "code",
   "execution_count": 152,
   "metadata": {},
   "outputs": [
    {
     "data": {
      "text/plain": [
       "array([179.14755847, 179.14755847, 179.14755847, 179.14755847,\n",
       "       179.14755847, 179.14755847, 179.14755847, 179.14755847,\n",
       "       179.14755847, 179.14755847, 179.14755847, 179.14755847,\n",
       "       179.14755847, 179.14755847, 179.14755847, 179.14755847,\n",
       "       179.14755847, 179.14755847, 179.14755847, 179.14755847])"
      ]
     },
     "execution_count": 152,
     "metadata": {},
     "output_type": "execute_result"
    }
   ],
   "source": [
    "y_pred_19_test = lr_19.predict(X_test)\n",
    "y_pred_19_test[0:20]"
   ]
  },
  {
   "cell_type": "code",
   "execution_count": 153,
   "metadata": {
    "scrolled": true
   },
   "outputs": [
    {
     "name": "stdout",
     "output_type": "stream",
     "text": [
      "Test Set R^2: -0.00798750229846834\n",
      "Test Set Root Mean Squared Error: 27.130456166458586\n"
     ]
    }
   ],
   "source": [
    "print(\"Test Set R^2: {}\".format(lr_19.score(X_test, y_test)))\n",
    "rmse_19_test = np.sqrt(mean_squared_error(y_test, y_pred_19_test))\n",
    "print(\"Test Set Root Mean Squared Error: {}\".format(rmse_19_test))"
   ]
  },
  {
   "cell_type": "markdown",
   "metadata": {},
   "source": [
    "A test set accuracy score/R Squared of -0.008 and a training set RMSE of 27.1 is returned."
   ]
  },
  {
   "cell_type": "code",
   "execution_count": 154,
   "metadata": {},
   "outputs": [],
   "source": [
    "filename = 'cancer_lr_19.sav'\n",
    "pickle.dump(lr_19, open(filename, 'wb'))"
   ]
  },
  {
   "cell_type": "code",
   "execution_count": 155,
   "metadata": {},
   "outputs": [],
   "source": [
    "lr_20 = linear_model.ElasticNet(alpha=100, l1_ratio=0.25, normalize=True)"
   ]
  },
  {
   "cell_type": "code",
   "execution_count": 156,
   "metadata": {},
   "outputs": [
    {
     "data": {
      "text/plain": [
       "ElasticNet(alpha=100, copy_X=True, fit_intercept=True, l1_ratio=0.25,\n",
       "      max_iter=1000, normalize=True, positive=False, precompute=False,\n",
       "      random_state=None, selection='cyclic', tol=0.0001, warm_start=False)"
      ]
     },
     "execution_count": 156,
     "metadata": {},
     "output_type": "execute_result"
    }
   ],
   "source": [
    "lr_20.fit(X_train, y_train)"
   ]
  },
  {
   "cell_type": "code",
   "execution_count": 157,
   "metadata": {
    "scrolled": true
   },
   "outputs": [
    {
     "data": {
      "text/plain": [
       "array([179.14755847, 179.14755847, 179.14755847, 179.14755847,\n",
       "       179.14755847, 179.14755847, 179.14755847, 179.14755847,\n",
       "       179.14755847, 179.14755847, 179.14755847, 179.14755847,\n",
       "       179.14755847, 179.14755847, 179.14755847, 179.14755847,\n",
       "       179.14755847, 179.14755847, 179.14755847, 179.14755847])"
      ]
     },
     "execution_count": 157,
     "metadata": {},
     "output_type": "execute_result"
    }
   ],
   "source": [
    "y_pred_20_train = lr_20.predict(X_train)\n",
    "y_pred_20_train[0:20]"
   ]
  },
  {
   "cell_type": "code",
   "execution_count": 158,
   "metadata": {
    "scrolled": true
   },
   "outputs": [
    {
     "name": "stdout",
     "output_type": "stream",
     "text": [
      "Training Set R^2: 0.0\n",
      "Training Set Root Mean Squared Error: 27.90437800503229\n"
     ]
    }
   ],
   "source": [
    "print(\"Training Set R^2: {}\".format(lr_20.score(X_train, y_train)))\n",
    "rmse_20_train = np.sqrt(mean_squared_error(y_train, y_pred_20_train))\n",
    "print(\"Training Set Root Mean Squared Error: {}\".format(rmse_20_train))"
   ]
  },
  {
   "cell_type": "markdown",
   "metadata": {},
   "source": [
    "A training set accuracy score/R Squared of 0 and a training set RMSE of 27.9 is returned."
   ]
  },
  {
   "cell_type": "code",
   "execution_count": 159,
   "metadata": {},
   "outputs": [
    {
     "data": {
      "text/plain": [
       "array([179.14755847, 179.14755847, 179.14755847, 179.14755847,\n",
       "       179.14755847, 179.14755847, 179.14755847, 179.14755847,\n",
       "       179.14755847, 179.14755847, 179.14755847, 179.14755847,\n",
       "       179.14755847, 179.14755847, 179.14755847, 179.14755847,\n",
       "       179.14755847, 179.14755847, 179.14755847, 179.14755847])"
      ]
     },
     "execution_count": 159,
     "metadata": {},
     "output_type": "execute_result"
    }
   ],
   "source": [
    "y_pred_20_test = lr_20.predict(X_test)\n",
    "y_pred_20_test[0:20]"
   ]
  },
  {
   "cell_type": "code",
   "execution_count": 160,
   "metadata": {
    "scrolled": true
   },
   "outputs": [
    {
     "name": "stdout",
     "output_type": "stream",
     "text": [
      "Test Set R^2: -0.00798750229846834\n",
      "Test Set Root Mean Squared Error: 27.130456166458586\n"
     ]
    }
   ],
   "source": [
    "print(\"Test Set R^2: {}\".format(lr_20.score(X_test, y_test)))\n",
    "rmse_20_test = np.sqrt(mean_squared_error(y_test, y_pred_20_test))\n",
    "print(\"Test Set Root Mean Squared Error: {}\".format(rmse_20_test))"
   ]
  },
  {
   "cell_type": "markdown",
   "metadata": {},
   "source": [
    "A test set accuracy score/R Squared of -0.008 and a training set RMSE of 27.1 is returned."
   ]
  },
  {
   "cell_type": "code",
   "execution_count": 161,
   "metadata": {},
   "outputs": [],
   "source": [
    "filename = 'cancer_lr_20.sav'\n",
    "pickle.dump(lr_20, open(filename, 'wb'))"
   ]
  },
  {
   "cell_type": "markdown",
   "metadata": {},
   "source": [
    "## Elastic Net with L1 Ratio of 0.5"
   ]
  },
  {
   "cell_type": "code",
   "execution_count": 162,
   "metadata": {},
   "outputs": [],
   "source": [
    "lr_21 = linear_model.ElasticNet(alpha=0.001, l1_ratio=0.5, normalize=True)"
   ]
  },
  {
   "cell_type": "code",
   "execution_count": 163,
   "metadata": {},
   "outputs": [
    {
     "data": {
      "text/plain": [
       "ElasticNet(alpha=0.001, copy_X=True, fit_intercept=True, l1_ratio=0.5,\n",
       "      max_iter=1000, normalize=True, positive=False, precompute=False,\n",
       "      random_state=None, selection='cyclic', tol=0.0001, warm_start=False)"
      ]
     },
     "execution_count": 163,
     "metadata": {},
     "output_type": "execute_result"
    }
   ],
   "source": [
    "lr_21.fit(X_train, y_train)"
   ]
  },
  {
   "cell_type": "code",
   "execution_count": 164,
   "metadata": {
    "scrolled": true
   },
   "outputs": [
    {
     "data": {
      "text/plain": [
       "array([201.88619461, 191.96397795, 206.55017843, 149.25946579,\n",
       "       205.32329944, 190.32697193, 172.38623239, 164.09080309,\n",
       "       186.17827125, 214.35792764, 206.21241951, 179.09359505,\n",
       "       199.63516109, 196.08299444, 157.34173426, 181.01506372,\n",
       "       200.51792446, 157.32653937, 164.56548991, 169.6914623 ])"
      ]
     },
     "execution_count": 164,
     "metadata": {},
     "output_type": "execute_result"
    }
   ],
   "source": [
    "y_pred_21_train = lr_21.predict(X_train)\n",
    "y_pred_21_train[0:20]"
   ]
  },
  {
   "cell_type": "code",
   "execution_count": 165,
   "metadata": {
    "scrolled": true
   },
   "outputs": [
    {
     "name": "stdout",
     "output_type": "stream",
     "text": [
      "Training Set R^2: 0.5514803769651211\n",
      "Training Set Root Mean Squared Error: 18.68801055287659\n"
     ]
    }
   ],
   "source": [
    "print(\"Training Set R^2: {}\".format(lr_21.score(X_train, y_train)))\n",
    "rmse_21_train = np.sqrt(mean_squared_error(y_train, y_pred_21_train))\n",
    "print(\"Training Set Root Mean Squared Error: {}\".format(rmse_21_train))"
   ]
  },
  {
   "cell_type": "markdown",
   "metadata": {},
   "source": [
    "A training set accuracy score/R Squared of 0.552 and a training set RMSE of 18.7 is returned."
   ]
  },
  {
   "cell_type": "code",
   "execution_count": 166,
   "metadata": {},
   "outputs": [
    {
     "data": {
      "text/plain": [
       "array([171.66842242, 176.4294506 , 163.30730721, 175.69270898,\n",
       "       177.84493978, 194.36741686, 175.14652324, 166.88145197,\n",
       "       165.9978823 , 173.82642174, 181.10044387, 203.15344217,\n",
       "       161.4461275 , 160.2450128 , 215.53400894, 124.29084818,\n",
       "       188.89226082, 202.33228132, 197.22356577, 186.65856415])"
      ]
     },
     "execution_count": 166,
     "metadata": {},
     "output_type": "execute_result"
    }
   ],
   "source": [
    "y_pred_21_test = lr_21.predict(X_test)\n",
    "y_pred_21_test[0:20]"
   ]
  },
  {
   "cell_type": "code",
   "execution_count": 167,
   "metadata": {
    "scrolled": true
   },
   "outputs": [
    {
     "name": "stdout",
     "output_type": "stream",
     "text": [
      "Test Set R^2: 0.517138310113884\n",
      "Test Set Root Mean Squared Error: 18.77763518306763\n"
     ]
    }
   ],
   "source": [
    "print(\"Test Set R^2: {}\".format(lr_21.score(X_test, y_test)))\n",
    "rmse_21_test = np.sqrt(mean_squared_error(y_test, y_pred_21_test))\n",
    "print(\"Test Set Root Mean Squared Error: {}\".format(rmse_21_test))"
   ]
  },
  {
   "cell_type": "markdown",
   "metadata": {},
   "source": [
    "A test set accuracy score/R Squared of 0.517 and a training set RMSE of 18.8 is returned."
   ]
  },
  {
   "cell_type": "code",
   "execution_count": 168,
   "metadata": {},
   "outputs": [],
   "source": [
    "filename = 'cancer_lr_21.sav'\n",
    "pickle.dump(lr_21, open(filename, 'wb'))"
   ]
  },
  {
   "cell_type": "code",
   "execution_count": 169,
   "metadata": {},
   "outputs": [],
   "source": [
    "lr_22 = linear_model.ElasticNet(alpha=0.01, l1_ratio=0.5, normalize=True)"
   ]
  },
  {
   "cell_type": "code",
   "execution_count": 170,
   "metadata": {
    "scrolled": true
   },
   "outputs": [
    {
     "data": {
      "text/plain": [
       "ElasticNet(alpha=0.01, copy_X=True, fit_intercept=True, l1_ratio=0.5,\n",
       "      max_iter=1000, normalize=True, positive=False, precompute=False,\n",
       "      random_state=None, selection='cyclic', tol=0.0001, warm_start=False)"
      ]
     },
     "execution_count": 170,
     "metadata": {},
     "output_type": "execute_result"
    }
   ],
   "source": [
    "lr_22.fit(X_train, y_train)"
   ]
  },
  {
   "cell_type": "code",
   "execution_count": 171,
   "metadata": {
    "scrolled": true
   },
   "outputs": [
    {
     "data": {
      "text/plain": [
       "array([196.80537588, 190.38572002, 197.86748105, 163.2025598 ,\n",
       "       193.62527469, 186.69863817, 167.22375318, 162.91915809,\n",
       "       182.84492958, 201.65177635, 197.43692434, 174.86238893,\n",
       "       190.77735673, 194.52396802, 165.60933656, 179.48278438,\n",
       "       194.23343559, 166.63860577, 166.42883941, 170.87972551])"
      ]
     },
     "execution_count": 171,
     "metadata": {},
     "output_type": "execute_result"
    }
   ],
   "source": [
    "y_pred_22_train = lr_22.predict(X_train)\n",
    "y_pred_22_train[0:20]"
   ]
  },
  {
   "cell_type": "code",
   "execution_count": 172,
   "metadata": {
    "scrolled": true
   },
   "outputs": [
    {
     "name": "stdout",
     "output_type": "stream",
     "text": [
      "Training Set R^2: 0.39095030222497174\n",
      "Training Set Root Mean Squared Error: 21.77703316115587\n"
     ]
    }
   ],
   "source": [
    "print(\"Training Set R^2: {}\".format(lr_22.score(X_train, y_train)))\n",
    "rmse_22_train = np.sqrt(mean_squared_error(y_train, y_pred_22_train))\n",
    "print(\"Training Set Root Mean Squared Error: {}\".format(rmse_22_train))"
   ]
  },
  {
   "cell_type": "markdown",
   "metadata": {},
   "source": [
    "A training set accuracy score/R Squared of 0.391 and a training set RMSE of 21.8 is returned."
   ]
  },
  {
   "cell_type": "code",
   "execution_count": 173,
   "metadata": {},
   "outputs": [
    {
     "data": {
      "text/plain": [
       "array([170.61636163, 176.86268322, 170.04027523, 176.89932787,\n",
       "       178.93232248, 189.40310438, 177.51211655, 173.52147116,\n",
       "       167.22292419, 175.887877  , 184.04899179, 196.69059728,\n",
       "       169.22150973, 167.71674436, 198.73571331, 147.25453886,\n",
       "       188.59718556, 193.30814215, 189.15295386, 188.28880949])"
      ]
     },
     "execution_count": 173,
     "metadata": {},
     "output_type": "execute_result"
    }
   ],
   "source": [
    "y_pred_22_test = lr_22.predict(X_test)\n",
    "y_pred_22_test[0:20]"
   ]
  },
  {
   "cell_type": "code",
   "execution_count": 174,
   "metadata": {
    "scrolled": true
   },
   "outputs": [
    {
     "name": "stdout",
     "output_type": "stream",
     "text": [
      "Test Set R^2: 0.34045079746713997\n",
      "Test Set Root Mean Squared Error: 21.94588615828974\n"
     ]
    }
   ],
   "source": [
    "print(\"Test Set R^2: {}\".format(lr_22.score(X_test, y_test)))\n",
    "rmse_22_test = np.sqrt(mean_squared_error(y_test, y_pred_22_test))\n",
    "print(\"Test Set Root Mean Squared Error: {}\".format(rmse_22_test))"
   ]
  },
  {
   "cell_type": "markdown",
   "metadata": {},
   "source": [
    "A test set accuracy score/R Squared of 0.341 and a training set RMSE of 22 is returned."
   ]
  },
  {
   "cell_type": "code",
   "execution_count": 175,
   "metadata": {},
   "outputs": [],
   "source": [
    "filename = 'cancer_lr_22.sav'\n",
    "pickle.dump(lr_22, open(filename, 'wb'))"
   ]
  },
  {
   "cell_type": "code",
   "execution_count": 176,
   "metadata": {},
   "outputs": [],
   "source": [
    "lr_23 = linear_model.ElasticNet(alpha=0.1, l1_ratio=0.5, normalize=True)"
   ]
  },
  {
   "cell_type": "code",
   "execution_count": 177,
   "metadata": {
    "scrolled": true
   },
   "outputs": [
    {
     "data": {
      "text/plain": [
       "ElasticNet(alpha=0.1, copy_X=True, fit_intercept=True, l1_ratio=0.5,\n",
       "      max_iter=1000, normalize=True, positive=False, precompute=False,\n",
       "      random_state=None, selection='cyclic', tol=0.0001, warm_start=False)"
      ]
     },
     "execution_count": 177,
     "metadata": {},
     "output_type": "execute_result"
    }
   ],
   "source": [
    "lr_23.fit(X_train, y_train)"
   ]
  },
  {
   "cell_type": "code",
   "execution_count": 178,
   "metadata": {
    "scrolled": true
   },
   "outputs": [
    {
     "data": {
      "text/plain": [
       "array([182.74462316, 181.55174335, 182.97181246, 176.00122447,\n",
       "       181.90814915, 180.94724017, 175.82088747, 175.43803469,\n",
       "       180.08224356, 183.43585023, 183.04865361, 178.11288386,\n",
       "       181.30750304, 182.43558846, 176.69243837, 178.95380425,\n",
       "       182.27496207, 177.05349347, 176.51970494, 177.62224424])"
      ]
     },
     "execution_count": 178,
     "metadata": {},
     "output_type": "execute_result"
    }
   ],
   "source": [
    "y_pred_23_train = lr_23.predict(X_train)\n",
    "y_pred_23_train[0:20]"
   ]
  },
  {
   "cell_type": "code",
   "execution_count": 179,
   "metadata": {
    "scrolled": true
   },
   "outputs": [
    {
     "name": "stdout",
     "output_type": "stream",
     "text": [
      "Training Set R^2: 0.10275859245447139\n",
      "Training Set Root Mean Squared Error: 26.43181588074592\n"
     ]
    }
   ],
   "source": [
    "print(\"Training Set R^2: {}\".format(lr_23.score(X_train, y_train)))\n",
    "rmse_23_train = np.sqrt(mean_squared_error(y_train, y_pred_23_train))\n",
    "print(\"Training Set Root Mean Squared Error: {}\".format(rmse_23_train))"
   ]
  },
  {
   "cell_type": "markdown",
   "metadata": {},
   "source": [
    "A training set accuracy score/R Squared of 0.103 and a training set RMSE of 26.4 is returned."
   ]
  },
  {
   "cell_type": "code",
   "execution_count": 180,
   "metadata": {},
   "outputs": [
    {
     "data": {
      "text/plain": [
       "array([176.74512687, 178.7977992 , 177.30246787, 178.54119787,\n",
       "       178.89101848, 181.28248327, 179.16331977, 178.25666609,\n",
       "       176.53706307, 178.44269821, 180.51507686, 182.5840665 ,\n",
       "       177.34045126, 176.94545028, 182.91069337, 172.89178476,\n",
       "       181.27084026, 181.56904081, 180.8195803 , 181.3809751 ])"
      ]
     },
     "execution_count": 180,
     "metadata": {},
     "output_type": "execute_result"
    }
   ],
   "source": [
    "y_pred_23_test = lr_23.predict(X_test)\n",
    "y_pred_23_test[0:20]"
   ]
  },
  {
   "cell_type": "code",
   "execution_count": 181,
   "metadata": {
    "scrolled": false
   },
   "outputs": [
    {
     "name": "stdout",
     "output_type": "stream",
     "text": [
      "Test Set R^2: 0.08364511785943718\n",
      "Test Set Root Mean Squared Error: 25.867911785167912\n"
     ]
    }
   ],
   "source": [
    "print(\"Test Set R^2: {}\".format(lr_23.score(X_test, y_test)))\n",
    "rmse_23_test = np.sqrt(mean_squared_error(y_test, y_pred_23_test))\n",
    "print(\"Test Set Root Mean Squared Error: {}\".format(rmse_23_test))"
   ]
  },
  {
   "cell_type": "markdown",
   "metadata": {},
   "source": [
    "A test set accuracy score/R Squared of 0.084 and a training set RMSE of 25.9 is returned."
   ]
  },
  {
   "cell_type": "code",
   "execution_count": 182,
   "metadata": {},
   "outputs": [],
   "source": [
    "filename = 'cancer_lr_23.sav'\n",
    "pickle.dump(lr_23, open(filename, 'wb'))"
   ]
  },
  {
   "cell_type": "code",
   "execution_count": 183,
   "metadata": {},
   "outputs": [],
   "source": [
    "lr_24 = linear_model.ElasticNet(alpha=1, l1_ratio=0.5, normalize=True)"
   ]
  },
  {
   "cell_type": "code",
   "execution_count": 184,
   "metadata": {},
   "outputs": [
    {
     "data": {
      "text/plain": [
       "ElasticNet(alpha=1, copy_X=True, fit_intercept=True, l1_ratio=0.5,\n",
       "      max_iter=1000, normalize=True, positive=False, precompute=False,\n",
       "      random_state=None, selection='cyclic', tol=0.0001, warm_start=False)"
      ]
     },
     "execution_count": 184,
     "metadata": {},
     "output_type": "execute_result"
    }
   ],
   "source": [
    "lr_24.fit(X_train, y_train)"
   ]
  },
  {
   "cell_type": "code",
   "execution_count": 185,
   "metadata": {
    "scrolled": false
   },
   "outputs": [
    {
     "data": {
      "text/plain": [
       "array([179.14755847, 179.14755847, 179.14755847, 179.14755847,\n",
       "       179.14755847, 179.14755847, 179.14755847, 179.14755847,\n",
       "       179.14755847, 179.14755847, 179.14755847, 179.14755847,\n",
       "       179.14755847, 179.14755847, 179.14755847, 179.14755847,\n",
       "       179.14755847, 179.14755847, 179.14755847, 179.14755847])"
      ]
     },
     "execution_count": 185,
     "metadata": {},
     "output_type": "execute_result"
    }
   ],
   "source": [
    "y_pred_24_train = lr_24.predict(X_train)\n",
    "y_pred_24_train[0:20]"
   ]
  },
  {
   "cell_type": "code",
   "execution_count": 186,
   "metadata": {
    "scrolled": false
   },
   "outputs": [
    {
     "name": "stdout",
     "output_type": "stream",
     "text": [
      "Training Set R^2: 0.0\n",
      "Training Set Root Mean Squared Error: 27.90437800503229\n"
     ]
    }
   ],
   "source": [
    "print(\"Training Set R^2: {}\".format(lr_24.score(X_train, y_train)))\n",
    "rmse_24_train = np.sqrt(mean_squared_error(y_train, y_pred_24_train))\n",
    "print(\"Training Set Root Mean Squared Error: {}\".format(rmse_24_train))"
   ]
  },
  {
   "cell_type": "markdown",
   "metadata": {},
   "source": [
    "A training set accuracy score/R Squared of 0 and a training set RMSE of 27.9 is returned."
   ]
  },
  {
   "cell_type": "code",
   "execution_count": 187,
   "metadata": {},
   "outputs": [
    {
     "data": {
      "text/plain": [
       "array([179.14755847, 179.14755847, 179.14755847, 179.14755847,\n",
       "       179.14755847, 179.14755847, 179.14755847, 179.14755847,\n",
       "       179.14755847, 179.14755847, 179.14755847, 179.14755847,\n",
       "       179.14755847, 179.14755847, 179.14755847, 179.14755847,\n",
       "       179.14755847, 179.14755847, 179.14755847, 179.14755847])"
      ]
     },
     "execution_count": 187,
     "metadata": {},
     "output_type": "execute_result"
    }
   ],
   "source": [
    "y_pred_24_test = lr_24.predict(X_test)\n",
    "y_pred_24_test[0:20]"
   ]
  },
  {
   "cell_type": "code",
   "execution_count": 188,
   "metadata": {
    "scrolled": false
   },
   "outputs": [
    {
     "name": "stdout",
     "output_type": "stream",
     "text": [
      "Test Set R^2: -0.00798750229846834\n",
      "Test Set Root Mean Squared Error: 27.130456166458586\n"
     ]
    }
   ],
   "source": [
    "print(\"Test Set R^2: {}\".format(lr_24.score(X_test, y_test)))\n",
    "rmse_24_test = np.sqrt(mean_squared_error(y_test, y_pred_24_test))\n",
    "print(\"Test Set Root Mean Squared Error: {}\".format(rmse_24_test))"
   ]
  },
  {
   "cell_type": "markdown",
   "metadata": {},
   "source": [
    "A test set accuracy score/R Squared of -0.008 and a training set RMSE of 27.1 is returned."
   ]
  },
  {
   "cell_type": "code",
   "execution_count": 189,
   "metadata": {},
   "outputs": [],
   "source": [
    "filename = 'cancer_lr_24.sav'\n",
    "pickle.dump(lr_24, open(filename, 'wb'))"
   ]
  },
  {
   "cell_type": "code",
   "execution_count": 190,
   "metadata": {},
   "outputs": [],
   "source": [
    "lr_25 = linear_model.ElasticNet(alpha=10, l1_ratio=0.5, normalize=True)"
   ]
  },
  {
   "cell_type": "code",
   "execution_count": 191,
   "metadata": {
    "scrolled": true
   },
   "outputs": [
    {
     "data": {
      "text/plain": [
       "ElasticNet(alpha=10, copy_X=True, fit_intercept=True, l1_ratio=0.5,\n",
       "      max_iter=1000, normalize=True, positive=False, precompute=False,\n",
       "      random_state=None, selection='cyclic', tol=0.0001, warm_start=False)"
      ]
     },
     "execution_count": 191,
     "metadata": {},
     "output_type": "execute_result"
    }
   ],
   "source": [
    "lr_25.fit(X_train, y_train)"
   ]
  },
  {
   "cell_type": "code",
   "execution_count": 192,
   "metadata": {
    "scrolled": false
   },
   "outputs": [
    {
     "data": {
      "text/plain": [
       "array([179.14755847, 179.14755847, 179.14755847, 179.14755847,\n",
       "       179.14755847, 179.14755847, 179.14755847, 179.14755847,\n",
       "       179.14755847, 179.14755847, 179.14755847, 179.14755847,\n",
       "       179.14755847, 179.14755847, 179.14755847, 179.14755847,\n",
       "       179.14755847, 179.14755847, 179.14755847, 179.14755847])"
      ]
     },
     "execution_count": 192,
     "metadata": {},
     "output_type": "execute_result"
    }
   ],
   "source": [
    "y_pred_25_train = lr_25.predict(X_train)\n",
    "y_pred_25_train[0:20]"
   ]
  },
  {
   "cell_type": "code",
   "execution_count": 193,
   "metadata": {
    "scrolled": true
   },
   "outputs": [
    {
     "name": "stdout",
     "output_type": "stream",
     "text": [
      "Training Set R^2: 0.0\n",
      "Training Set Root Mean Squared Error: 27.90437800503229\n"
     ]
    }
   ],
   "source": [
    "print(\"Training Set R^2: {}\".format(lr_25.score(X_train, y_train)))\n",
    "rmse_25_train = np.sqrt(mean_squared_error(y_train, y_pred_25_train))\n",
    "print(\"Training Set Root Mean Squared Error: {}\".format(rmse_25_train))"
   ]
  },
  {
   "cell_type": "markdown",
   "metadata": {},
   "source": [
    "A training set accuracy score/R Squared of 0 and a training set RMSE of 27.9 is returned."
   ]
  },
  {
   "cell_type": "code",
   "execution_count": 194,
   "metadata": {},
   "outputs": [
    {
     "data": {
      "text/plain": [
       "array([179.14755847, 179.14755847, 179.14755847, 179.14755847,\n",
       "       179.14755847, 179.14755847, 179.14755847, 179.14755847,\n",
       "       179.14755847, 179.14755847, 179.14755847, 179.14755847,\n",
       "       179.14755847, 179.14755847, 179.14755847, 179.14755847,\n",
       "       179.14755847, 179.14755847, 179.14755847, 179.14755847])"
      ]
     },
     "execution_count": 194,
     "metadata": {},
     "output_type": "execute_result"
    }
   ],
   "source": [
    "y_pred_25_test = lr_25.predict(X_test)\n",
    "y_pred_25_test[0:20]"
   ]
  },
  {
   "cell_type": "code",
   "execution_count": 195,
   "metadata": {
    "scrolled": false
   },
   "outputs": [
    {
     "name": "stdout",
     "output_type": "stream",
     "text": [
      "Test Set R^2: -0.00798750229846834\n",
      "Test Set Root Mean Squared Error: 27.130456166458586\n"
     ]
    }
   ],
   "source": [
    "print(\"Test Set R^2: {}\".format(lr_25.score(X_test, y_test)))\n",
    "rmse_25_test = np.sqrt(mean_squared_error(y_test, y_pred_25_test))\n",
    "print(\"Test Set Root Mean Squared Error: {}\".format(rmse_25_test))"
   ]
  },
  {
   "cell_type": "markdown",
   "metadata": {},
   "source": [
    "A test set accuracy score/R Squared of -0.008 and a training set RMSE of 27.1 is returned."
   ]
  },
  {
   "cell_type": "code",
   "execution_count": 196,
   "metadata": {},
   "outputs": [],
   "source": [
    "filename = 'cancer_lr_25.sav'\n",
    "pickle.dump(lr_25, open(filename, 'wb'))"
   ]
  },
  {
   "cell_type": "code",
   "execution_count": 197,
   "metadata": {},
   "outputs": [],
   "source": [
    "lr_26 = linear_model.ElasticNet(alpha=100, l1_ratio=0.5, normalize=True)"
   ]
  },
  {
   "cell_type": "code",
   "execution_count": 198,
   "metadata": {},
   "outputs": [
    {
     "data": {
      "text/plain": [
       "ElasticNet(alpha=100, copy_X=True, fit_intercept=True, l1_ratio=0.5,\n",
       "      max_iter=1000, normalize=True, positive=False, precompute=False,\n",
       "      random_state=None, selection='cyclic', tol=0.0001, warm_start=False)"
      ]
     },
     "execution_count": 198,
     "metadata": {},
     "output_type": "execute_result"
    }
   ],
   "source": [
    "lr_26.fit(X_train, y_train)"
   ]
  },
  {
   "cell_type": "code",
   "execution_count": 199,
   "metadata": {
    "scrolled": false
   },
   "outputs": [
    {
     "data": {
      "text/plain": [
       "array([179.14755847, 179.14755847, 179.14755847, 179.14755847,\n",
       "       179.14755847, 179.14755847, 179.14755847, 179.14755847,\n",
       "       179.14755847, 179.14755847, 179.14755847, 179.14755847,\n",
       "       179.14755847, 179.14755847, 179.14755847, 179.14755847,\n",
       "       179.14755847, 179.14755847, 179.14755847, 179.14755847])"
      ]
     },
     "execution_count": 199,
     "metadata": {},
     "output_type": "execute_result"
    }
   ],
   "source": [
    "y_pred_26_train = lr_26.predict(X_train)\n",
    "y_pred_26_train[0:20]"
   ]
  },
  {
   "cell_type": "code",
   "execution_count": 200,
   "metadata": {
    "scrolled": true
   },
   "outputs": [
    {
     "name": "stdout",
     "output_type": "stream",
     "text": [
      "Training Set R^2: 0.0\n",
      "Training Set Root Mean Squared Error: 27.90437800503229\n"
     ]
    }
   ],
   "source": [
    "print(\"Training Set R^2: {}\".format(lr_26.score(X_train, y_train)))\n",
    "rmse_26_train = np.sqrt(mean_squared_error(y_train, y_pred_26_train))\n",
    "print(\"Training Set Root Mean Squared Error: {}\".format(rmse_26_train))"
   ]
  },
  {
   "cell_type": "markdown",
   "metadata": {},
   "source": [
    "A training set accuracy score/R Squared of 0 and a training set RMSE of 27.9 is returned."
   ]
  },
  {
   "cell_type": "code",
   "execution_count": 201,
   "metadata": {},
   "outputs": [
    {
     "data": {
      "text/plain": [
       "array([179.14755847, 179.14755847, 179.14755847, 179.14755847,\n",
       "       179.14755847, 179.14755847, 179.14755847, 179.14755847,\n",
       "       179.14755847, 179.14755847, 179.14755847, 179.14755847,\n",
       "       179.14755847, 179.14755847, 179.14755847, 179.14755847,\n",
       "       179.14755847, 179.14755847, 179.14755847, 179.14755847])"
      ]
     },
     "execution_count": 201,
     "metadata": {},
     "output_type": "execute_result"
    }
   ],
   "source": [
    "y_pred_26_test = lr_26.predict(X_test)\n",
    "y_pred_26_test[0:20]"
   ]
  },
  {
   "cell_type": "code",
   "execution_count": 202,
   "metadata": {
    "scrolled": true
   },
   "outputs": [
    {
     "name": "stdout",
     "output_type": "stream",
     "text": [
      "Test Set R^2: -0.00798750229846834\n",
      "Test Set Root Mean Squared Error: 27.130456166458586\n"
     ]
    }
   ],
   "source": [
    "print(\"Test Set R^2: {}\".format(lr_26.score(X_test, y_test)))\n",
    "rmse_26_test = np.sqrt(mean_squared_error(y_test, y_pred_26_test))\n",
    "print(\"Test Set Root Mean Squared Error: {}\".format(rmse_26_test))"
   ]
  },
  {
   "cell_type": "markdown",
   "metadata": {},
   "source": [
    "A test set accuracy score/R Squared of -0.008 and a training set RMSE of 27.1 is returned."
   ]
  },
  {
   "cell_type": "code",
   "execution_count": 203,
   "metadata": {},
   "outputs": [],
   "source": [
    "filename = 'cancer_lr_26.sav'\n",
    "pickle.dump(lr_26, open(filename, 'wb'))"
   ]
  },
  {
   "cell_type": "markdown",
   "metadata": {},
   "source": [
    "## Elastic Net with L1 Ratio of 0.75"
   ]
  },
  {
   "cell_type": "code",
   "execution_count": 204,
   "metadata": {},
   "outputs": [],
   "source": [
    "lr_27 = linear_model.ElasticNet(alpha=0.001, l1_ratio=0.75, normalize=True)"
   ]
  },
  {
   "cell_type": "code",
   "execution_count": 205,
   "metadata": {},
   "outputs": [
    {
     "data": {
      "text/plain": [
       "ElasticNet(alpha=0.001, copy_X=True, fit_intercept=True, l1_ratio=0.75,\n",
       "      max_iter=1000, normalize=True, positive=False, precompute=False,\n",
       "      random_state=None, selection='cyclic', tol=0.0001, warm_start=False)"
      ]
     },
     "execution_count": 205,
     "metadata": {},
     "output_type": "execute_result"
    }
   ],
   "source": [
    "lr_27.fit(X_train, y_train)"
   ]
  },
  {
   "cell_type": "code",
   "execution_count": 206,
   "metadata": {
    "scrolled": false
   },
   "outputs": [
    {
     "data": {
      "text/plain": [
       "array([200.7292074 , 191.41646294, 207.30567058, 146.75513924,\n",
       "       208.60586548, 191.13413699, 174.19274636, 166.25550164,\n",
       "       188.06079322, 216.32597704, 206.93716458, 180.50732382,\n",
       "       201.10039229, 194.92146322, 156.33133869, 182.48634946,\n",
       "       200.77910046, 156.4510579 , 165.70428572, 170.69116318])"
      ]
     },
     "execution_count": 206,
     "metadata": {},
     "output_type": "execute_result"
    }
   ],
   "source": [
    "y_pred_27_train = lr_27.predict(X_train)\n",
    "y_pred_27_train[0:20]"
   ]
  },
  {
   "cell_type": "code",
   "execution_count": 207,
   "metadata": {
    "scrolled": true
   },
   "outputs": [
    {
     "name": "stdout",
     "output_type": "stream",
     "text": [
      "Training Set R^2: 0.5772959569150442\n",
      "Training Set Root Mean Squared Error: 18.142224940275913\n"
     ]
    }
   ],
   "source": [
    "print(\"Training Set R^2: {}\".format(lr_27.score(X_train, y_train)))\n",
    "rmse_27_train = np.sqrt(mean_squared_error(y_train, y_pred_27_train))\n",
    "print(\"Training Set Root Mean Squared Error: {}\".format(rmse_27_train))"
   ]
  },
  {
   "cell_type": "markdown",
   "metadata": {},
   "source": [
    "A training set accuracy score/R Squared of 0.58 and a training set RMSE of 18.1 is returned."
   ]
  },
  {
   "cell_type": "code",
   "execution_count": 208,
   "metadata": {},
   "outputs": [
    {
     "data": {
      "text/plain": [
       "array([173.05814565, 176.3736161 , 161.55932881, 175.86873185,\n",
       "       177.33470984, 195.0620429 , 174.89435439, 165.50164657,\n",
       "       167.08055001, 172.92321233, 180.1114842 , 202.85071936,\n",
       "       160.35898262, 159.03549412, 218.80713232, 120.58610835,\n",
       "       188.49627093, 202.86697181, 199.41163971, 185.61934068])"
      ]
     },
     "execution_count": 208,
     "metadata": {},
     "output_type": "execute_result"
    }
   ],
   "source": [
    "y_pred_27_test = lr_27.predict(X_test)\n",
    "y_pred_27_test[0:20]"
   ]
  },
  {
   "cell_type": "code",
   "execution_count": 209,
   "metadata": {
    "scrolled": true
   },
   "outputs": [
    {
     "name": "stdout",
     "output_type": "stream",
     "text": [
      "Test Set R^2: 0.5517773798689217\n",
      "Test Set Root Mean Squared Error: 18.091576262350873\n"
     ]
    }
   ],
   "source": [
    "print(\"Test Set R^2: {}\".format(lr_27.score(X_test, y_test)))\n",
    "rmse_27_test = np.sqrt(mean_squared_error(y_test, y_pred_27_test))\n",
    "print(\"Test Set Root Mean Squared Error: {}\".format(rmse_27_test))"
   ]
  },
  {
   "cell_type": "markdown",
   "metadata": {},
   "source": [
    "A test set accuracy score/R Squared of 0.55 and a training set RMSE of 18.1 is returned."
   ]
  },
  {
   "cell_type": "code",
   "execution_count": 210,
   "metadata": {},
   "outputs": [],
   "source": [
    "filename = 'cancer_lr_27.sav'\n",
    "pickle.dump(lr_27, open(filename, 'wb'))"
   ]
  },
  {
   "cell_type": "code",
   "execution_count": 211,
   "metadata": {},
   "outputs": [],
   "source": [
    "lr_28 = linear_model.ElasticNet(alpha=0.01, l1_ratio=0.75, normalize=True)"
   ]
  },
  {
   "cell_type": "code",
   "execution_count": 212,
   "metadata": {
    "scrolled": true
   },
   "outputs": [
    {
     "data": {
      "text/plain": [
       "ElasticNet(alpha=0.01, copy_X=True, fit_intercept=True, l1_ratio=0.75,\n",
       "      max_iter=1000, normalize=True, positive=False, precompute=False,\n",
       "      random_state=None, selection='cyclic', tol=0.0001, warm_start=False)"
      ]
     },
     "execution_count": 212,
     "metadata": {},
     "output_type": "execute_result"
    }
   ],
   "source": [
    "lr_28.fit(X_train, y_train)"
   ]
  },
  {
   "cell_type": "code",
   "execution_count": 213,
   "metadata": {
    "scrolled": false
   },
   "outputs": [
    {
     "data": {
      "text/plain": [
       "array([199.43811801, 191.72235026, 200.99538421, 159.22771479,\n",
       "       196.94010923, 188.06243488, 167.85911956, 161.11869943,\n",
       "       183.39035021, 205.30032529, 200.89202442, 174.92487702,\n",
       "       193.51096007, 196.12037042, 163.27520126, 179.44041556,\n",
       "       196.46561131, 163.5956201 , 164.93947816, 170.612035  ])"
      ]
     },
     "execution_count": 213,
     "metadata": {},
     "output_type": "execute_result"
    }
   ],
   "source": [
    "y_pred_28_train = lr_28.predict(X_train)\n",
    "y_pred_28_train[0:20]"
   ]
  },
  {
   "cell_type": "code",
   "execution_count": 214,
   "metadata": {
    "scrolled": false
   },
   "outputs": [
    {
     "name": "stdout",
     "output_type": "stream",
     "text": [
      "Training Set R^2: 0.4414720681545616\n",
      "Training Set Root Mean Squared Error: 20.854260533973523\n"
     ]
    }
   ],
   "source": [
    "print(\"Training Set R^2: {}\".format(lr_28.score(X_train, y_train)))\n",
    "rmse_28_train = np.sqrt(mean_squared_error(y_train, y_pred_28_train))\n",
    "print(\"Training Set Root Mean Squared Error: {}\".format(rmse_28_train))"
   ]
  },
  {
   "cell_type": "markdown",
   "metadata": {},
   "source": [
    "A training set accuracy score/R Squared of 0.44 and a training set RMSE of 20.9 is returned."
   ]
  },
  {
   "cell_type": "code",
   "execution_count": 215,
   "metadata": {},
   "outputs": [
    {
     "data": {
      "text/plain": [
       "array([171.0469776 , 176.35002549, 168.83794284, 176.35551687,\n",
       "       178.63255147, 191.31705295, 176.30740184, 173.01952326,\n",
       "       165.95534085, 175.53181274, 183.9738743 , 198.8669463 ,\n",
       "       167.19036601, 165.86671323, 203.5200834 , 140.13127039,\n",
       "       189.48343678, 195.96556675, 191.17258393, 188.73709384])"
      ]
     },
     "execution_count": 215,
     "metadata": {},
     "output_type": "execute_result"
    }
   ],
   "source": [
    "y_pred_28_test = lr_28.predict(X_test)\n",
    "y_pred_28_test[0:20]"
   ]
  },
  {
   "cell_type": "code",
   "execution_count": 216,
   "metadata": {
    "scrolled": true
   },
   "outputs": [
    {
     "name": "stdout",
     "output_type": "stream",
     "text": [
      "Test Set R^2: 0.39299117789921756\n",
      "Test Set Root Mean Squared Error: 21.053631815570398\n"
     ]
    }
   ],
   "source": [
    "print(\"Test Set R^2: {}\".format(lr_28.score(X_test, y_test)))\n",
    "rmse_28_test = np.sqrt(mean_squared_error(y_test, y_pred_28_test))\n",
    "print(\"Test Set Root Mean Squared Error: {}\".format(rmse_28_test))"
   ]
  },
  {
   "cell_type": "markdown",
   "metadata": {},
   "source": [
    "A test set accuracy score/R Squared of 0.39 and a training set RMSE of 21.1 is returned."
   ]
  },
  {
   "cell_type": "code",
   "execution_count": 217,
   "metadata": {},
   "outputs": [],
   "source": [
    "filename = 'cancer_lr_28.sav'\n",
    "pickle.dump(lr_28, open(filename, 'wb'))"
   ]
  },
  {
   "cell_type": "code",
   "execution_count": 218,
   "metadata": {},
   "outputs": [],
   "source": [
    "lr_29 = linear_model.ElasticNet(alpha=0.1, l1_ratio=0.75, normalize=True)"
   ]
  },
  {
   "cell_type": "code",
   "execution_count": 219,
   "metadata": {},
   "outputs": [
    {
     "data": {
      "text/plain": [
       "ElasticNet(alpha=0.1, copy_X=True, fit_intercept=True, l1_ratio=0.75,\n",
       "      max_iter=1000, normalize=True, positive=False, precompute=False,\n",
       "      random_state=None, selection='cyclic', tol=0.0001, warm_start=False)"
      ]
     },
     "execution_count": 219,
     "metadata": {},
     "output_type": "execute_result"
    }
   ],
   "source": [
    "lr_29.fit(X_train, y_train)"
   ]
  },
  {
   "cell_type": "code",
   "execution_count": 220,
   "metadata": {
    "scrolled": false
   },
   "outputs": [
    {
     "data": {
      "text/plain": [
       "array([184.11780986, 182.35179484, 184.36406387, 175.03755628,\n",
       "       182.90508175, 181.57118983, 175.37760009, 174.26031939,\n",
       "       180.29955807, 184.84993521, 184.49921574, 177.4177025 ,\n",
       "       181.9524251 , 183.65042337, 175.78107085, 179.11077999,\n",
       "       183.3105398 , 175.6370248 , 175.5023602 , 177.14383342])"
      ]
     },
     "execution_count": 220,
     "metadata": {},
     "output_type": "execute_result"
    }
   ],
   "source": [
    "y_pred_29_train = lr_29.predict(X_train)\n",
    "y_pred_29_train[0:20]"
   ]
  },
  {
   "cell_type": "code",
   "execution_count": 221,
   "metadata": {
    "scrolled": true
   },
   "outputs": [
    {
     "name": "stdout",
     "output_type": "stream",
     "text": [
      "Training Set R^2: 0.1366903804401024\n",
      "Training Set Root Mean Squared Error: 25.927201116393906\n"
     ]
    }
   ],
   "source": [
    "print(\"Training Set R^2: {}\".format(lr_29.score(X_train, y_train)))\n",
    "rmse_29_train = np.sqrt(mean_squared_error(y_train, y_pred_29_train))\n",
    "print(\"Training Set Root Mean Squared Error: {}\".format(rmse_29_train))"
   ]
  },
  {
   "cell_type": "markdown",
   "metadata": {},
   "source": [
    "A training set accuracy score/R Squared of 0.14 and a training set RMSE of 25.9 is returned."
   ]
  },
  {
   "cell_type": "code",
   "execution_count": 222,
   "metadata": {},
   "outputs": [
    {
     "data": {
      "text/plain": [
       "array([176.56514742, 178.54369489, 176.56874677, 178.37242339,\n",
       "       179.01528181, 181.94004916, 178.75331567, 178.51974704,\n",
       "       175.470963  , 178.22901419, 180.73520631, 183.76332844,\n",
       "       176.70625696, 176.17858516, 184.31529576, 170.37338747,\n",
       "       181.91524665, 182.46060596, 181.35170544, 182.06965917])"
      ]
     },
     "execution_count": 222,
     "metadata": {},
     "output_type": "execute_result"
    }
   ],
   "source": [
    "y_pred_29_test = lr_29.predict(X_test)\n",
    "y_pred_29_test[0:20]"
   ]
  },
  {
   "cell_type": "code",
   "execution_count": 223,
   "metadata": {
    "scrolled": true
   },
   "outputs": [
    {
     "name": "stdout",
     "output_type": "stream",
     "text": [
      "Test Set R^2: 0.11405651855818588\n",
      "Test Set Root Mean Squared Error: 25.43504619681397\n"
     ]
    }
   ],
   "source": [
    "print(\"Test Set R^2: {}\".format(lr_29.score(X_test, y_test)))\n",
    "rmse_29_test = np.sqrt(mean_squared_error(y_test, y_pred_29_test))\n",
    "print(\"Test Set Root Mean Squared Error: {}\".format(rmse_29_test))"
   ]
  },
  {
   "cell_type": "markdown",
   "metadata": {},
   "source": [
    "A test set accuracy score/R Squared of 0.114 and a training set RMSE of 25.4 is returned."
   ]
  },
  {
   "cell_type": "code",
   "execution_count": 224,
   "metadata": {},
   "outputs": [],
   "source": [
    "filename = 'cancer_lr_29.sav'\n",
    "pickle.dump(lr_29, open(filename, 'wb'))"
   ]
  },
  {
   "cell_type": "code",
   "execution_count": 225,
   "metadata": {},
   "outputs": [],
   "source": [
    "lr_30 = linear_model.ElasticNet(alpha=1, l1_ratio=0.75, normalize=True)"
   ]
  },
  {
   "cell_type": "code",
   "execution_count": 226,
   "metadata": {},
   "outputs": [
    {
     "data": {
      "text/plain": [
       "ElasticNet(alpha=1, copy_X=True, fit_intercept=True, l1_ratio=0.75,\n",
       "      max_iter=1000, normalize=True, positive=False, precompute=False,\n",
       "      random_state=None, selection='cyclic', tol=0.0001, warm_start=False)"
      ]
     },
     "execution_count": 226,
     "metadata": {},
     "output_type": "execute_result"
    }
   ],
   "source": [
    "lr_30.fit(X_train, y_train)"
   ]
  },
  {
   "cell_type": "code",
   "execution_count": 227,
   "metadata": {
    "scrolled": true
   },
   "outputs": [
    {
     "data": {
      "text/plain": [
       "array([179.14755847, 179.14755847, 179.14755847, 179.14755847,\n",
       "       179.14755847, 179.14755847, 179.14755847, 179.14755847,\n",
       "       179.14755847, 179.14755847, 179.14755847, 179.14755847,\n",
       "       179.14755847, 179.14755847, 179.14755847, 179.14755847,\n",
       "       179.14755847, 179.14755847, 179.14755847, 179.14755847])"
      ]
     },
     "execution_count": 227,
     "metadata": {},
     "output_type": "execute_result"
    }
   ],
   "source": [
    "y_pred_30_train = lr_30.predict(X_train)\n",
    "y_pred_30_train[0:20]"
   ]
  },
  {
   "cell_type": "code",
   "execution_count": 228,
   "metadata": {
    "scrolled": true
   },
   "outputs": [
    {
     "name": "stdout",
     "output_type": "stream",
     "text": [
      "Training Set R^2: 0.0\n",
      "Training Set Root Mean Squared Error: 27.90437800503229\n"
     ]
    }
   ],
   "source": [
    "print(\"Training Set R^2: {}\".format(lr_30.score(X_train, y_train)))\n",
    "rmse_30_train = np.sqrt(mean_squared_error(y_train, y_pred_30_train))\n",
    "print(\"Training Set Root Mean Squared Error: {}\".format(rmse_30_train))"
   ]
  },
  {
   "cell_type": "markdown",
   "metadata": {},
   "source": [
    "A training set accuracy score/R Squared of 0 and a training set RMSE of 27.9 is returned."
   ]
  },
  {
   "cell_type": "code",
   "execution_count": 229,
   "metadata": {},
   "outputs": [
    {
     "data": {
      "text/plain": [
       "array([179.14755847, 179.14755847, 179.14755847, 179.14755847,\n",
       "       179.14755847, 179.14755847, 179.14755847, 179.14755847,\n",
       "       179.14755847, 179.14755847, 179.14755847, 179.14755847,\n",
       "       179.14755847, 179.14755847, 179.14755847, 179.14755847,\n",
       "       179.14755847, 179.14755847, 179.14755847, 179.14755847])"
      ]
     },
     "execution_count": 229,
     "metadata": {},
     "output_type": "execute_result"
    }
   ],
   "source": [
    "y_pred_30_test = lr_30.predict(X_test)\n",
    "y_pred_30_test[0:20]"
   ]
  },
  {
   "cell_type": "code",
   "execution_count": 230,
   "metadata": {
    "scrolled": true
   },
   "outputs": [
    {
     "name": "stdout",
     "output_type": "stream",
     "text": [
      "Test Set R^2: -0.00798750229846834\n",
      "Test Set Root Mean Squared Error: 27.130456166458586\n"
     ]
    }
   ],
   "source": [
    "print(\"Test Set R^2: {}\".format(lr_30.score(X_test, y_test)))\n",
    "rmse_30_test = np.sqrt(mean_squared_error(y_test, y_pred_30_test))\n",
    "print(\"Test Set Root Mean Squared Error: {}\".format(rmse_30_test))"
   ]
  },
  {
   "cell_type": "markdown",
   "metadata": {},
   "source": [
    "A test set accuracy score/R Squared of -0.008 and a training set RMSE of 27.1 is returned."
   ]
  },
  {
   "cell_type": "code",
   "execution_count": 231,
   "metadata": {},
   "outputs": [],
   "source": [
    "filename = 'cancer_lr_30.sav'\n",
    "pickle.dump(lr_30, open(filename, 'wb'))"
   ]
  },
  {
   "cell_type": "code",
   "execution_count": 232,
   "metadata": {},
   "outputs": [],
   "source": [
    "lr_31 = linear_model.ElasticNet(alpha=10, l1_ratio=0.75, normalize=True)"
   ]
  },
  {
   "cell_type": "code",
   "execution_count": 233,
   "metadata": {
    "scrolled": false
   },
   "outputs": [
    {
     "data": {
      "text/plain": [
       "ElasticNet(alpha=10, copy_X=True, fit_intercept=True, l1_ratio=0.75,\n",
       "      max_iter=1000, normalize=True, positive=False, precompute=False,\n",
       "      random_state=None, selection='cyclic', tol=0.0001, warm_start=False)"
      ]
     },
     "execution_count": 233,
     "metadata": {},
     "output_type": "execute_result"
    }
   ],
   "source": [
    "lr_31.fit(X_train, y_train)"
   ]
  },
  {
   "cell_type": "code",
   "execution_count": 234,
   "metadata": {
    "scrolled": true
   },
   "outputs": [
    {
     "data": {
      "text/plain": [
       "array([179.14755847, 179.14755847, 179.14755847, 179.14755847,\n",
       "       179.14755847, 179.14755847, 179.14755847, 179.14755847,\n",
       "       179.14755847, 179.14755847, 179.14755847, 179.14755847,\n",
       "       179.14755847, 179.14755847, 179.14755847, 179.14755847,\n",
       "       179.14755847, 179.14755847, 179.14755847, 179.14755847])"
      ]
     },
     "execution_count": 234,
     "metadata": {},
     "output_type": "execute_result"
    }
   ],
   "source": [
    "y_pred_31_train = lr_31.predict(X_train)\n",
    "y_pred_31_train[0:20]"
   ]
  },
  {
   "cell_type": "code",
   "execution_count": 235,
   "metadata": {
    "scrolled": true
   },
   "outputs": [
    {
     "name": "stdout",
     "output_type": "stream",
     "text": [
      "Training Set R^2: 0.0\n",
      "Training Set Root Mean Squared Error: 27.90437800503229\n"
     ]
    }
   ],
   "source": [
    "print(\"Training Set R^2: {}\".format(lr_31.score(X_train, y_train)))\n",
    "rmse_31_train = np.sqrt(mean_squared_error(y_train, y_pred_31_train))\n",
    "print(\"Training Set Root Mean Squared Error: {}\".format(rmse_31_train))"
   ]
  },
  {
   "cell_type": "markdown",
   "metadata": {},
   "source": [
    "A training set accuracy score/R Squared of 0 and a training set RMSE of 27.9 is returned."
   ]
  },
  {
   "cell_type": "code",
   "execution_count": 236,
   "metadata": {},
   "outputs": [
    {
     "data": {
      "text/plain": [
       "array([179.14755847, 179.14755847, 179.14755847, 179.14755847,\n",
       "       179.14755847, 179.14755847, 179.14755847, 179.14755847,\n",
       "       179.14755847, 179.14755847, 179.14755847, 179.14755847,\n",
       "       179.14755847, 179.14755847, 179.14755847, 179.14755847,\n",
       "       179.14755847, 179.14755847, 179.14755847, 179.14755847])"
      ]
     },
     "execution_count": 236,
     "metadata": {},
     "output_type": "execute_result"
    }
   ],
   "source": [
    "y_pred_31_test = lr_31.predict(X_test)\n",
    "y_pred_31_test[0:20]"
   ]
  },
  {
   "cell_type": "code",
   "execution_count": 237,
   "metadata": {
    "scrolled": false
   },
   "outputs": [
    {
     "name": "stdout",
     "output_type": "stream",
     "text": [
      "Test Set R^2: -0.00798750229846834\n",
      "Test Set Root Mean Squared Error: 27.130456166458586\n"
     ]
    }
   ],
   "source": [
    "print(\"Test Set R^2: {}\".format(lr_31.score(X_test, y_test)))\n",
    "rmse_31_test = np.sqrt(mean_squared_error(y_test, y_pred_31_test))\n",
    "print(\"Test Set Root Mean Squared Error: {}\".format(rmse_31_test))"
   ]
  },
  {
   "cell_type": "markdown",
   "metadata": {},
   "source": [
    "A test set accuracy score/R Squared of -0.008 and a training set RMSE of 27.1 is returned."
   ]
  },
  {
   "cell_type": "code",
   "execution_count": 238,
   "metadata": {},
   "outputs": [],
   "source": [
    "filename = 'cancer_lr_31.sav'\n",
    "pickle.dump(lr_31, open(filename, 'wb'))"
   ]
  },
  {
   "cell_type": "code",
   "execution_count": 239,
   "metadata": {},
   "outputs": [],
   "source": [
    "lr_32 = linear_model.ElasticNet(alpha=100, l1_ratio=0.75, normalize=True)"
   ]
  },
  {
   "cell_type": "code",
   "execution_count": 240,
   "metadata": {},
   "outputs": [
    {
     "data": {
      "text/plain": [
       "ElasticNet(alpha=100, copy_X=True, fit_intercept=True, l1_ratio=0.75,\n",
       "      max_iter=1000, normalize=True, positive=False, precompute=False,\n",
       "      random_state=None, selection='cyclic', tol=0.0001, warm_start=False)"
      ]
     },
     "execution_count": 240,
     "metadata": {},
     "output_type": "execute_result"
    }
   ],
   "source": [
    "lr_32.fit(X_train, y_train)"
   ]
  },
  {
   "cell_type": "code",
   "execution_count": 241,
   "metadata": {
    "scrolled": true
   },
   "outputs": [
    {
     "data": {
      "text/plain": [
       "array([179.14755847, 179.14755847, 179.14755847, 179.14755847,\n",
       "       179.14755847, 179.14755847, 179.14755847, 179.14755847,\n",
       "       179.14755847, 179.14755847, 179.14755847, 179.14755847,\n",
       "       179.14755847, 179.14755847, 179.14755847, 179.14755847,\n",
       "       179.14755847, 179.14755847, 179.14755847, 179.14755847])"
      ]
     },
     "execution_count": 241,
     "metadata": {},
     "output_type": "execute_result"
    }
   ],
   "source": [
    "y_pred_32_train = lr_32.predict(X_train)\n",
    "y_pred_32_train[0:20]"
   ]
  },
  {
   "cell_type": "code",
   "execution_count": 242,
   "metadata": {
    "scrolled": false
   },
   "outputs": [
    {
     "name": "stdout",
     "output_type": "stream",
     "text": [
      "Training Set R^2: 0.0\n",
      "Training Set Root Mean Squared Error: 27.90437800503229\n"
     ]
    }
   ],
   "source": [
    "print(\"Training Set R^2: {}\".format(lr_32.score(X_train, y_train)))\n",
    "rmse_32_train = np.sqrt(mean_squared_error(y_train, y_pred_32_train))\n",
    "print(\"Training Set Root Mean Squared Error: {}\".format(rmse_32_train))"
   ]
  },
  {
   "cell_type": "markdown",
   "metadata": {},
   "source": [
    "A training set accuracy score/R Squared of 0 and a training set RMSE of 27.9 is returned."
   ]
  },
  {
   "cell_type": "code",
   "execution_count": 243,
   "metadata": {},
   "outputs": [
    {
     "data": {
      "text/plain": [
       "array([179.14755847, 179.14755847, 179.14755847, 179.14755847,\n",
       "       179.14755847, 179.14755847, 179.14755847, 179.14755847,\n",
       "       179.14755847, 179.14755847, 179.14755847, 179.14755847,\n",
       "       179.14755847, 179.14755847, 179.14755847, 179.14755847,\n",
       "       179.14755847, 179.14755847, 179.14755847, 179.14755847])"
      ]
     },
     "execution_count": 243,
     "metadata": {},
     "output_type": "execute_result"
    }
   ],
   "source": [
    "y_pred_32_test = lr_32.predict(X_test)\n",
    "y_pred_32_test[0:20]"
   ]
  },
  {
   "cell_type": "code",
   "execution_count": 244,
   "metadata": {
    "scrolled": true
   },
   "outputs": [
    {
     "name": "stdout",
     "output_type": "stream",
     "text": [
      "Test Set R^2: -0.00798750229846834\n",
      "Test Set Root Mean Squared Error: 27.130456166458586\n"
     ]
    }
   ],
   "source": [
    "print(\"Test Set R^2: {}\".format(lr_32.score(X_test, y_test)))\n",
    "rmse_32_test = np.sqrt(mean_squared_error(y_test, y_pred_32_test))\n",
    "print(\"Test Set Root Mean Squared Error: {}\".format(rmse_32_test))"
   ]
  },
  {
   "cell_type": "markdown",
   "metadata": {},
   "source": [
    "A test set accuracy score/R Squared of -0.008 and a training set RMSE of 27.1 is returned."
   ]
  },
  {
   "cell_type": "code",
   "execution_count": 245,
   "metadata": {},
   "outputs": [],
   "source": [
    "filename = 'cancer_lr_32.sav'\n",
    "pickle.dump(lr_32, open(filename, 'wb'))"
   ]
  },
  {
   "cell_type": "markdown",
   "metadata": {},
   "source": [
    "## Stochastic Gradient Descent with L2 Penalty (Ridge Regression)"
   ]
  },
  {
   "cell_type": "code",
   "execution_count": 246,
   "metadata": {},
   "outputs": [],
   "source": [
    "lr_33 = linear_model.SGDRegressor(loss='huber', penalty='l2', alpha=0.00001, random_state=42)"
   ]
  },
  {
   "cell_type": "code",
   "execution_count": 247,
   "metadata": {
    "scrolled": true
   },
   "outputs": [
    {
     "name": "stderr",
     "output_type": "stream",
     "text": [
      "/Users/DanLoew/anaconda3/lib/python3.7/site-packages/sklearn/linear_model/stochastic_gradient.py:166: FutureWarning: max_iter and tol parameters have been added in SGDRegressor in 0.19. If both are left unset, they default to max_iter=5 and tol=None. If tol is not None, max_iter defaults to max_iter=1000. From 0.21, default max_iter will be 1000, and default tol will be 1e-3.\n",
      "  FutureWarning)\n"
     ]
    },
    {
     "data": {
      "text/plain": [
       "SGDRegressor(alpha=1e-05, average=False, early_stopping=False, epsilon=0.1,\n",
       "       eta0=0.01, fit_intercept=True, l1_ratio=0.15,\n",
       "       learning_rate='invscaling', loss='huber', max_iter=None,\n",
       "       n_iter=None, n_iter_no_change=5, penalty='l2', power_t=0.25,\n",
       "       random_state=42, shuffle=True, tol=None, validation_fraction=0.1,\n",
       "       verbose=0, warm_start=False)"
      ]
     },
     "execution_count": 247,
     "metadata": {},
     "output_type": "execute_result"
    }
   ],
   "source": [
    "lr_33.fit(X_train, y_train)"
   ]
  },
  {
   "cell_type": "code",
   "execution_count": 248,
   "metadata": {
    "scrolled": true
   },
   "outputs": [
    {
     "data": {
      "text/plain": [
       "array([  404938.24503574, -1208766.93300601,  6705276.55579317,\n",
       "        5654048.58377967,  -897491.97211116, 38962505.17960329,\n",
       "       12416729.36957454, 13562854.00948853, -2429871.71595133,\n",
       "        -439872.78463801,  2072747.21289994, 22537413.13955067,\n",
       "        -893314.18900416, -1189419.69109166,  4675759.27001442,\n",
       "         839213.17127178,  -558173.20808035, 21731071.50820049,\n",
       "        -407649.00844505, -3989243.80793243])"
      ]
     },
     "execution_count": 248,
     "metadata": {},
     "output_type": "execute_result"
    }
   ],
   "source": [
    "y_pred_33_train = lr_33.predict(X_train)\n",
    "y_pred_33_train[0:20]"
   ]
  },
  {
   "cell_type": "code",
   "execution_count": 249,
   "metadata": {
    "scrolled": false
   },
   "outputs": [
    {
     "name": "stdout",
     "output_type": "stream",
     "text": [
      "Training Set R^2: -7438889288368.192\n",
      "Training Set Root Mean Squared Error: 76107313.8387275\n"
     ]
    }
   ],
   "source": [
    "print(\"Training Set R^2: {}\".format(lr_33.score(X_train, y_train)))\n",
    "rmse_33_train = np.sqrt(mean_squared_error(y_train, y_pred_33_train))\n",
    "print(\"Training Set Root Mean Squared Error: {}\".format(rmse_33_train))"
   ]
  },
  {
   "cell_type": "code",
   "execution_count": 250,
   "metadata": {},
   "outputs": [
    {
     "data": {
      "text/plain": [
       "array([-2986165.35597238, 28260058.79967964, -1196990.43673893,\n",
       "         580188.11044881, -1829909.25185928,  3051650.43439223,\n",
       "       29375321.30179185,  4170776.24352542, 36441898.2200378 ,\n",
       "       -1617693.37115664,  9970311.81083487, -1115925.34240356,\n",
       "       -1064948.67619251,  8527462.03511787,  9979351.59897834,\n",
       "        -402756.83178986,   567085.51791467,  1413829.35442049,\n",
       "        5269276.83014207, 13349077.11162243])"
      ]
     },
     "execution_count": 250,
     "metadata": {},
     "output_type": "execute_result"
    }
   ],
   "source": [
    "y_pred_33_test = lr_33.predict(X_test)\n",
    "y_pred_33_test[0:20]"
   ]
  },
  {
   "cell_type": "code",
   "execution_count": 251,
   "metadata": {
    "scrolled": true
   },
   "outputs": [
    {
     "name": "stdout",
     "output_type": "stream",
     "text": [
      "Test Set R^2: -7782336279022.103\n",
      "Test Set Root Mean Squared Error: 75384927.01897977\n"
     ]
    }
   ],
   "source": [
    "print(\"Test Set R^2: {}\".format(lr_33.score(X_test, y_test)))\n",
    "rmse_33_test = np.sqrt(mean_squared_error(y_test, y_pred_33_test))\n",
    "print(\"Test Set Root Mean Squared Error: {}\".format(rmse_33_test))"
   ]
  },
  {
   "cell_type": "code",
   "execution_count": 252,
   "metadata": {},
   "outputs": [],
   "source": [
    "filename = 'cancer_lr_33.sav'\n",
    "pickle.dump(lr_33, open(filename, 'wb'))"
   ]
  },
  {
   "cell_type": "code",
   "execution_count": 253,
   "metadata": {},
   "outputs": [],
   "source": [
    "lr_34 = linear_model.SGDRegressor(loss='huber', penalty='l2', alpha=0.0001, random_state=42)"
   ]
  },
  {
   "cell_type": "code",
   "execution_count": 254,
   "metadata": {
    "scrolled": true
   },
   "outputs": [
    {
     "name": "stderr",
     "output_type": "stream",
     "text": [
      "/Users/DanLoew/anaconda3/lib/python3.7/site-packages/sklearn/linear_model/stochastic_gradient.py:166: FutureWarning: max_iter and tol parameters have been added in SGDRegressor in 0.19. If both are left unset, they default to max_iter=5 and tol=None. If tol is not None, max_iter defaults to max_iter=1000. From 0.21, default max_iter will be 1000, and default tol will be 1e-3.\n",
      "  FutureWarning)\n"
     ]
    },
    {
     "data": {
      "text/plain": [
       "SGDRegressor(alpha=0.0001, average=False, early_stopping=False, epsilon=0.1,\n",
       "       eta0=0.01, fit_intercept=True, l1_ratio=0.15,\n",
       "       learning_rate='invscaling', loss='huber', max_iter=None,\n",
       "       n_iter=None, n_iter_no_change=5, penalty='l2', power_t=0.25,\n",
       "       random_state=42, shuffle=True, tol=None, validation_fraction=0.1,\n",
       "       verbose=0, warm_start=False)"
      ]
     },
     "execution_count": 254,
     "metadata": {},
     "output_type": "execute_result"
    }
   ],
   "source": [
    "lr_34.fit(X_train, y_train)"
   ]
  },
  {
   "cell_type": "code",
   "execution_count": 255,
   "metadata": {
    "scrolled": true
   },
   "outputs": [
    {
     "data": {
      "text/plain": [
       "array([  404570.39739385, -1209305.85883767,  6705688.31437749,\n",
       "        5653182.0074695 ,  -897991.73710752, 38966694.60862876,\n",
       "       12417473.65438917, 13563293.37421957, -2430552.43128711,\n",
       "        -440392.88984106,  2072400.37033463, 22539433.0383914 ,\n",
       "        -893504.11737511, -1189989.17527026,  4676081.10627719,\n",
       "         837415.19703247,  -558582.34386167, 21733070.41247602,\n",
       "        -408202.51604297, -3990092.48480406])"
      ]
     },
     "execution_count": 255,
     "metadata": {},
     "output_type": "execute_result"
    }
   ],
   "source": [
    "y_pred_34_train = lr_34.predict(X_train)\n",
    "y_pred_34_train[0:20]"
   ]
  },
  {
   "cell_type": "code",
   "execution_count": 256,
   "metadata": {
    "scrolled": false
   },
   "outputs": [
    {
     "name": "stdout",
     "output_type": "stream",
     "text": [
      "Training Set R^2: -7440463647073.458\n",
      "Training Set Root Mean Squared Error: 76115367.04858495\n"
     ]
    }
   ],
   "source": [
    "print(\"Training Set R^2: {}\".format(lr_34.score(X_train, y_train)))\n",
    "rmse_34_train = np.sqrt(mean_squared_error(y_train, y_pred_34_train))\n",
    "print(\"Training Set Root Mean Squared Error: {}\".format(rmse_34_train))"
   ]
  },
  {
   "cell_type": "code",
   "execution_count": 257,
   "metadata": {},
   "outputs": [
    {
     "data": {
      "text/plain": [
       "array([-2986816.46614697, 28262892.71764994, -1197544.11694695,\n",
       "         579842.47445581, -1830464.37950328,  3055703.55245992,\n",
       "       29378211.96995367,  4170831.92338083, 36445597.10627712,\n",
       "       -1618148.33302385,  9970926.25232351, -1116227.80534262,\n",
       "       -1065468.13695325,  8527658.12115797,  9980555.22489668,\n",
       "        -408290.75160693,   566727.65854204,  1413334.15480753,\n",
       "        5269434.93660161, 13348514.06822818])"
      ]
     },
     "execution_count": 257,
     "metadata": {},
     "output_type": "execute_result"
    }
   ],
   "source": [
    "y_pred_34_test = lr_34.predict(X_test)\n",
    "y_pred_34_test[0:20]"
   ]
  },
  {
   "cell_type": "code",
   "execution_count": 258,
   "metadata": {
    "scrolled": true
   },
   "outputs": [
    {
     "name": "stdout",
     "output_type": "stream",
     "text": [
      "Test Set R^2: -7783959231784.263\n",
      "Test Set Root Mean Squared Error: 75392787.11350639\n"
     ]
    }
   ],
   "source": [
    "print(\"Test Set R^2: {}\".format(lr_34.score(X_test, y_test)))\n",
    "rmse_34_test = np.sqrt(mean_squared_error(y_test, y_pred_34_test))\n",
    "print(\"Test Set Root Mean Squared Error: {}\".format(rmse_34_test))"
   ]
  },
  {
   "cell_type": "code",
   "execution_count": 259,
   "metadata": {},
   "outputs": [],
   "source": [
    "filename = 'cancer_lr_34.sav'\n",
    "pickle.dump(lr_34, open(filename, 'wb'))"
   ]
  },
  {
   "cell_type": "code",
   "execution_count": 260,
   "metadata": {},
   "outputs": [],
   "source": [
    "lr_35 = linear_model.SGDRegressor(loss='huber', penalty='l2', alpha=0.001, random_state=42)"
   ]
  },
  {
   "cell_type": "code",
   "execution_count": 261,
   "metadata": {
    "scrolled": false
   },
   "outputs": [
    {
     "name": "stderr",
     "output_type": "stream",
     "text": [
      "/Users/DanLoew/anaconda3/lib/python3.7/site-packages/sklearn/linear_model/stochastic_gradient.py:166: FutureWarning: max_iter and tol parameters have been added in SGDRegressor in 0.19. If both are left unset, they default to max_iter=5 and tol=None. If tol is not None, max_iter defaults to max_iter=1000. From 0.21, default max_iter will be 1000, and default tol will be 1e-3.\n",
      "  FutureWarning)\n"
     ]
    },
    {
     "data": {
      "text/plain": [
       "SGDRegressor(alpha=0.001, average=False, early_stopping=False, epsilon=0.1,\n",
       "       eta0=0.01, fit_intercept=True, l1_ratio=0.15,\n",
       "       learning_rate='invscaling', loss='huber', max_iter=None,\n",
       "       n_iter=None, n_iter_no_change=5, penalty='l2', power_t=0.25,\n",
       "       random_state=42, shuffle=True, tol=None, validation_fraction=0.1,\n",
       "       verbose=0, warm_start=False)"
      ]
     },
     "execution_count": 261,
     "metadata": {},
     "output_type": "execute_result"
    }
   ],
   "source": [
    "lr_35.fit(X_train, y_train)"
   ]
  },
  {
   "cell_type": "code",
   "execution_count": 262,
   "metadata": {
    "scrolled": false
   },
   "outputs": [
    {
     "data": {
      "text/plain": [
       "array([  -608383.3058113 ,    875481.63929512,  -6346612.83077702,\n",
       "        -5434884.46582697,    673826.04954187, -36415786.17668787,\n",
       "       -12226405.59913513, -12869571.31965439,   2043946.18841568,\n",
       "          161760.62982556,  -1951884.34032485, -21230348.07144286,\n",
       "          591473.95142152,    932868.08739853,  -4644518.28499472,\n",
       "         -942935.96261709,    355236.19221262, -20639070.79268571,\n",
       "          -89478.21785217,   3456576.50931624])"
      ]
     },
     "execution_count": 262,
     "metadata": {},
     "output_type": "execute_result"
    }
   ],
   "source": [
    "y_pred_35_train = lr_35.predict(X_train)\n",
    "y_pred_35_train[0:20]"
   ]
  },
  {
   "cell_type": "code",
   "execution_count": 263,
   "metadata": {
    "scrolled": false
   },
   "outputs": [
    {
     "name": "stdout",
     "output_type": "stream",
     "text": [
      "Training Set R^2: -6432791181541.995\n",
      "Training Set Root Mean Squared Error: 70773728.11096293\n"
     ]
    }
   ],
   "source": [
    "print(\"Training Set R^2: {}\".format(lr_35.score(X_train, y_train)))\n",
    "rmse_35_train = np.sqrt(mean_squared_error(y_train, y_pred_35_train))\n",
    "print(\"Training Set Root Mean Squared Error: {}\".format(rmse_35_train))"
   ]
  },
  {
   "cell_type": "code",
   "execution_count": 264,
   "metadata": {},
   "outputs": [
    {
     "data": {
      "text/plain": [
       "array([  2413616.54167402, -26480828.17705314,    792324.18238239,\n",
       "         -868857.53822511,   1401329.0680718 ,  -9457748.73504529,\n",
       "       -27586974.15387113,  -4202270.87960976, -34012186.77152277,\n",
       "         1066509.95138837,  -9489207.55243387,    773206.67127287,\n",
       "          812313.24348802,  -7982768.68395404,  -9403223.61156393,\n",
       "          178539.83465923,   -687972.04016712,  -1553240.89147694,\n",
       "        -5158504.54672142, -12484976.88258232])"
      ]
     },
     "execution_count": 264,
     "metadata": {},
     "output_type": "execute_result"
    }
   ],
   "source": [
    "y_pred_35_test = lr_35.predict(X_test)\n",
    "y_pred_35_test[0:20]"
   ]
  },
  {
   "cell_type": "code",
   "execution_count": 265,
   "metadata": {
    "scrolled": true
   },
   "outputs": [
    {
     "name": "stdout",
     "output_type": "stream",
     "text": [
      "Test Set R^2: -6733688972856.393\n",
      "Test Set Root Mean Squared Error: 70122283.2209382\n"
     ]
    }
   ],
   "source": [
    "print(\"Test Set R^2: {}\".format(lr_35.score(X_test, y_test)))\n",
    "rmse_35_test = np.sqrt(mean_squared_error(y_test, y_pred_35_test))\n",
    "print(\"Test Set Root Mean Squared Error: {}\".format(rmse_35_test))"
   ]
  },
  {
   "cell_type": "code",
   "execution_count": 266,
   "metadata": {},
   "outputs": [],
   "source": [
    "filename = 'cancer_lr_35.sav'\n",
    "pickle.dump(lr_35, open(filename, 'wb'))"
   ]
  },
  {
   "cell_type": "code",
   "execution_count": 267,
   "metadata": {},
   "outputs": [],
   "source": [
    "lr_36 = linear_model.SGDRegressor(loss='huber', penalty='l2', alpha=0.01, random_state=42)"
   ]
  },
  {
   "cell_type": "code",
   "execution_count": 268,
   "metadata": {
    "scrolled": true
   },
   "outputs": [
    {
     "name": "stderr",
     "output_type": "stream",
     "text": [
      "/Users/DanLoew/anaconda3/lib/python3.7/site-packages/sklearn/linear_model/stochastic_gradient.py:166: FutureWarning: max_iter and tol parameters have been added in SGDRegressor in 0.19. If both are left unset, they default to max_iter=5 and tol=None. If tol is not None, max_iter defaults to max_iter=1000. From 0.21, default max_iter will be 1000, and default tol will be 1e-3.\n",
      "  FutureWarning)\n"
     ]
    },
    {
     "data": {
      "text/plain": [
       "SGDRegressor(alpha=0.01, average=False, early_stopping=False, epsilon=0.1,\n",
       "       eta0=0.01, fit_intercept=True, l1_ratio=0.15,\n",
       "       learning_rate='invscaling', loss='huber', max_iter=None,\n",
       "       n_iter=None, n_iter_no_change=5, penalty='l2', power_t=0.25,\n",
       "       random_state=42, shuffle=True, tol=None, validation_fraction=0.1,\n",
       "       verbose=0, warm_start=False)"
      ]
     },
     "execution_count": 268,
     "metadata": {},
     "output_type": "execute_result"
    }
   ],
   "source": [
    "lr_36.fit(X_train, y_train)"
   ]
  },
  {
   "cell_type": "code",
   "execution_count": 269,
   "metadata": {
    "scrolled": false
   },
   "outputs": [
    {
     "data": {
      "text/plain": [
       "array([ -790604.04390036, -2467135.86701966,  5219561.94498232,\n",
       "        1538691.72585423, -2122298.43338145, 36610282.06556002,\n",
       "       11056983.57062576, 10120457.74576723, -3694767.77364682,\n",
       "       -1652637.37385329,   240911.65416618, 20172267.66438334,\n",
       "       -1508334.70116394, -2410716.86687316,  3582490.73631701,\n",
       "       -3940752.44145362, -1810949.09492217, 19464033.64177566,\n",
       "       -1978077.7463449 , -5245448.17169849])"
      ]
     },
     "execution_count": 269,
     "metadata": {},
     "output_type": "execute_result"
    }
   ],
   "source": [
    "y_pred_36_train = lr_36.predict(X_train)\n",
    "y_pred_36_train[0:20]"
   ]
  },
  {
   "cell_type": "code",
   "execution_count": 270,
   "metadata": {
    "scrolled": false
   },
   "outputs": [
    {
     "name": "stdout",
     "output_type": "stream",
     "text": [
      "Training Set R^2: -6839058016155.265\n",
      "Training Set Root Mean Squared Error: 72974392.85980293\n"
     ]
    }
   ],
   "source": [
    "print(\"Training Set R^2: {}\".format(lr_36.score(X_train, y_train)))\n",
    "rmse_36_train = np.sqrt(mean_squared_error(y_train, y_pred_36_train))\n",
    "print(\"Training Set Root Mean Squared Error: {}\".format(rmse_36_train))"
   ]
  },
  {
   "cell_type": "code",
   "execution_count": 271,
   "metadata": {},
   "outputs": [
    {
     "data": {
      "text/plain": [
       "array([ -4027109.99230977,  26048184.32885276,  -2532995.36645663,\n",
       "         -750998.54443155,  -2950700.7548731 ,   7933149.13161564,\n",
       "        27026269.17644726,   2755067.55672521,  33828604.65072083,\n",
       "        -2727491.83220564,   8212226.78938858,  -1737301.65458654,\n",
       "        -2400945.66979162,   5981461.78887547,   9312492.22132008,\n",
       "       -13459645.61567714,   -760863.75691727,   -402319.46584395,\n",
       "         3803315.74107964,   7598428.81657802])"
      ]
     },
     "execution_count": 271,
     "metadata": {},
     "output_type": "execute_result"
    }
   ],
   "source": [
    "y_pred_36_test = lr_36.predict(X_test)\n",
    "y_pred_36_test[0:20]"
   ]
  },
  {
   "cell_type": "code",
   "execution_count": 272,
   "metadata": {
    "scrolled": true
   },
   "outputs": [
    {
     "name": "stdout",
     "output_type": "stream",
     "text": [
      "Test Set R^2: -7071077767497.158\n",
      "Test Set Root Mean Squared Error: 71857537.30931292\n"
     ]
    }
   ],
   "source": [
    "print(\"Test Set R^2: {}\".format(lr_36.score(X_test, y_test)))\n",
    "rmse_36_test = np.sqrt(mean_squared_error(y_test, y_pred_36_test))\n",
    "print(\"Test Set Root Mean Squared Error: {}\".format(rmse_36_test))"
   ]
  },
  {
   "cell_type": "code",
   "execution_count": 273,
   "metadata": {},
   "outputs": [],
   "source": [
    "filename = 'cancer_lr_36.sav'\n",
    "pickle.dump(lr_36, open(filename, 'wb'))"
   ]
  },
  {
   "cell_type": "code",
   "execution_count": 274,
   "metadata": {},
   "outputs": [],
   "source": [
    "lr_37 = linear_model.SGDRegressor(loss='huber', penalty='l2', alpha=0.1, random_state=42)"
   ]
  },
  {
   "cell_type": "code",
   "execution_count": 275,
   "metadata": {
    "scrolled": true
   },
   "outputs": [
    {
     "name": "stderr",
     "output_type": "stream",
     "text": [
      "/Users/DanLoew/anaconda3/lib/python3.7/site-packages/sklearn/linear_model/stochastic_gradient.py:166: FutureWarning: max_iter and tol parameters have been added in SGDRegressor in 0.19. If both are left unset, they default to max_iter=5 and tol=None. If tol is not None, max_iter defaults to max_iter=1000. From 0.21, default max_iter will be 1000, and default tol will be 1e-3.\n",
      "  FutureWarning)\n"
     ]
    },
    {
     "data": {
      "text/plain": [
       "SGDRegressor(alpha=0.1, average=False, early_stopping=False, epsilon=0.1,\n",
       "       eta0=0.01, fit_intercept=True, l1_ratio=0.15,\n",
       "       learning_rate='invscaling', loss='huber', max_iter=None,\n",
       "       n_iter=None, n_iter_no_change=5, penalty='l2', power_t=0.25,\n",
       "       random_state=42, shuffle=True, tol=None, validation_fraction=0.1,\n",
       "       verbose=0, warm_start=False)"
      ]
     },
     "execution_count": 275,
     "metadata": {},
     "output_type": "execute_result"
    }
   ],
   "source": [
    "lr_37.fit(X_train, y_train)"
   ]
  },
  {
   "cell_type": "code",
   "execution_count": 276,
   "metadata": {
    "scrolled": false
   },
   "outputs": [
    {
     "data": {
      "text/plain": [
       "array([   325811.50818609,   1779628.68859365,  -4934020.07520218,\n",
       "        -1954843.86170342,   1485148.17075529, -32455617.09631767,\n",
       "       -10360951.07248366,  -9403741.88574593,   2838607.41599816,\n",
       "          986442.96727707,   -690327.08263192, -18225986.16653354,\n",
       "         1018945.58560635,   1663662.07008684,  -3522755.13760985,\n",
       "         2746986.28728915,   1223409.84866349, -17670126.41631797,\n",
       "         1197803.04020342,   4173991.38672846])"
      ]
     },
     "execution_count": 276,
     "metadata": {},
     "output_type": "execute_result"
    }
   ],
   "source": [
    "y_pred_37_train = lr_37.predict(X_train)\n",
    "y_pred_37_train[0:20]"
   ]
  },
  {
   "cell_type": "code",
   "execution_count": 277,
   "metadata": {
    "scrolled": false
   },
   "outputs": [
    {
     "name": "stdout",
     "output_type": "stream",
     "text": [
      "Training Set R^2: -5333291813572.22\n",
      "Training Set Root Mean Squared Error: 64442149.77001455\n"
     ]
    }
   ],
   "source": [
    "print(\"Training Set R^2: {}\".format(lr_37.score(X_train, y_train)))\n",
    "rmse_37_train = np.sqrt(mean_squared_error(y_train, y_pred_37_train))\n",
    "print(\"Training Set Root Mean Squared Error: {}\".format(rmse_37_train))"
   ]
  },
  {
   "cell_type": "code",
   "execution_count": 278,
   "metadata": {},
   "outputs": [
    {
     "data": {
      "text/plain": [
       "array([  3243492.96175158, -23233813.35137711,   1830132.53638953,\n",
       "          280645.92527092,   2281276.89927215,  -7718923.71639744,\n",
       "       -24200096.9620602 ,  -2704570.93714281, -30067598.81514797,\n",
       "         1995520.35353378,  -7653289.62872056,   1254606.670776  ,\n",
       "         1773957.56165858,  -5654225.20485169,  -8388892.70543871,\n",
       "        10018967.72408115,    199648.2681415 ,    -86774.24672043,\n",
       "        -3726218.94046637,  -7503776.80206263])"
      ]
     },
     "execution_count": 278,
     "metadata": {},
     "output_type": "execute_result"
    }
   ],
   "source": [
    "y_pred_37_test = lr_37.predict(X_test)\n",
    "y_pred_37_test[0:20]"
   ]
  },
  {
   "cell_type": "code",
   "execution_count": 279,
   "metadata": {
    "scrolled": true
   },
   "outputs": [
    {
     "name": "stdout",
     "output_type": "stream",
     "text": [
      "Test Set R^2: -5480822480914.056\n",
      "Test Set Root Mean Squared Error: 63263379.81574492\n"
     ]
    }
   ],
   "source": [
    "print(\"Test Set R^2: {}\".format(lr_37.score(X_test, y_test)))\n",
    "rmse_37_test = np.sqrt(mean_squared_error(y_test, y_pred_37_test))\n",
    "print(\"Test Set Root Mean Squared Error: {}\".format(rmse_37_test))"
   ]
  },
  {
   "cell_type": "code",
   "execution_count": 280,
   "metadata": {},
   "outputs": [],
   "source": [
    "filename = 'cancer_lr_37.sav'\n",
    "pickle.dump(lr_37, open(filename, 'wb'))"
   ]
  },
  {
   "cell_type": "code",
   "execution_count": 281,
   "metadata": {},
   "outputs": [],
   "source": [
    "lr_38 = linear_model.SGDRegressor(loss='huber', penalty='l2', alpha=1, random_state=42)"
   ]
  },
  {
   "cell_type": "code",
   "execution_count": 282,
   "metadata": {
    "scrolled": false
   },
   "outputs": [
    {
     "name": "stderr",
     "output_type": "stream",
     "text": [
      "/Users/DanLoew/anaconda3/lib/python3.7/site-packages/sklearn/linear_model/stochastic_gradient.py:166: FutureWarning: max_iter and tol parameters have been added in SGDRegressor in 0.19. If both are left unset, they default to max_iter=5 and tol=None. If tol is not None, max_iter defaults to max_iter=1000. From 0.21, default max_iter will be 1000, and default tol will be 1e-3.\n",
      "  FutureWarning)\n"
     ]
    },
    {
     "data": {
      "text/plain": [
       "SGDRegressor(alpha=1, average=False, early_stopping=False, epsilon=0.1,\n",
       "       eta0=0.01, fit_intercept=True, l1_ratio=0.15,\n",
       "       learning_rate='invscaling', loss='huber', max_iter=None,\n",
       "       n_iter=None, n_iter_no_change=5, penalty='l2', power_t=0.25,\n",
       "       random_state=42, shuffle=True, tol=None, validation_fraction=0.1,\n",
       "       verbose=0, warm_start=False)"
      ]
     },
     "execution_count": 282,
     "metadata": {},
     "output_type": "execute_result"
    }
   ],
   "source": [
    "lr_38.fit(X_train, y_train)"
   ]
  },
  {
   "cell_type": "code",
   "execution_count": 283,
   "metadata": {
    "scrolled": true
   },
   "outputs": [
    {
     "data": {
      "text/plain": [
       "array([ -462122.80288141, -2082046.9749741 ,  5446188.82021954,\n",
       "        2070972.11831799, -1790504.07799684, 36142367.017613  ,\n",
       "       11292131.01775451, 10553036.34401591, -3276928.72467295,\n",
       "       -1245404.68959497,   552023.42626119, 20446482.74469508,\n",
       "       -1240290.65441515, -2058011.99915636,  3885220.63484084,\n",
       "       -3206682.33039036, -1478951.11818386, 19687156.56961341,\n",
       "       -1403012.43562216, -4798502.18067251])"
      ]
     },
     "execution_count": 283,
     "metadata": {},
     "output_type": "execute_result"
    }
   ],
   "source": [
    "y_pred_38_train = lr_38.predict(X_train)\n",
    "y_pred_38_train[0:20]"
   ]
  },
  {
   "cell_type": "code",
   "execution_count": 284,
   "metadata": {
    "scrolled": false
   },
   "outputs": [
    {
     "name": "stdout",
     "output_type": "stream",
     "text": [
      "Training Set R^2: -6628368816166.835\n",
      "Training Set Root Mean Squared Error: 71841547.58373539\n"
     ]
    }
   ],
   "source": [
    "print(\"Training Set R^2: {}\".format(lr_38.score(X_train, y_train)))\n",
    "rmse_38_train = np.sqrt(mean_squared_error(y_train, y_pred_38_train))\n",
    "print(\"Training Set Root Mean Squared Error: {}\".format(rmse_38_train))"
   ]
  },
  {
   "cell_type": "code",
   "execution_count": 285,
   "metadata": {},
   "outputs": [
    {
     "data": {
      "text/plain": [
       "array([-3.77014031e+06,  2.59808668e+07, -2.13042946e+06, -3.92242386e+05,\n",
       "       -2.65895184e+06,  3.93615405e+06,  2.70262985e+07,  3.01146000e+06,\n",
       "        3.37231018e+07, -2.47767014e+06,  8.55919179e+06, -1.49449546e+06,\n",
       "       -2.08958631e+06,  6.24393547e+06,  9.32276500e+06, -1.15507526e+07,\n",
       "       -4.37321208e+05,  5.40832793e+02,  4.11950979e+06,  8.13794631e+06])"
      ]
     },
     "execution_count": 285,
     "metadata": {},
     "output_type": "execute_result"
    }
   ],
   "source": [
    "y_pred_38_test = lr_38.predict(X_test)\n",
    "y_pred_38_test[0:20]"
   ]
  },
  {
   "cell_type": "code",
   "execution_count": 286,
   "metadata": {
    "scrolled": true
   },
   "outputs": [
    {
     "name": "stdout",
     "output_type": "stream",
     "text": [
      "Test Set R^2: -6836227879532.301\n",
      "Test Set Root Mean Squared Error: 70654168.18493927\n"
     ]
    }
   ],
   "source": [
    "print(\"Test Set R^2: {}\".format(lr_38.score(X_test, y_test)))\n",
    "rmse_38_test = np.sqrt(mean_squared_error(y_test, y_pred_38_test))\n",
    "print(\"Test Set Root Mean Squared Error: {}\".format(rmse_38_test))"
   ]
  },
  {
   "cell_type": "code",
   "execution_count": 287,
   "metadata": {},
   "outputs": [],
   "source": [
    "filename = 'cancer_lr_38.sav'\n",
    "pickle.dump(lr_38, open(filename, 'wb'))"
   ]
  },
  {
   "cell_type": "code",
   "execution_count": 288,
   "metadata": {},
   "outputs": [],
   "source": [
    "lr_39 = linear_model.SGDRegressor(loss='huber', penalty='l2', alpha=10, random_state=42)"
   ]
  },
  {
   "cell_type": "code",
   "execution_count": 289,
   "metadata": {
    "scrolled": false
   },
   "outputs": [
    {
     "name": "stderr",
     "output_type": "stream",
     "text": [
      "/Users/DanLoew/anaconda3/lib/python3.7/site-packages/sklearn/linear_model/stochastic_gradient.py:166: FutureWarning: max_iter and tol parameters have been added in SGDRegressor in 0.19. If both are left unset, they default to max_iter=5 and tol=None. If tol is not None, max_iter defaults to max_iter=1000. From 0.21, default max_iter will be 1000, and default tol will be 1e-3.\n",
      "  FutureWarning)\n"
     ]
    },
    {
     "data": {
      "text/plain": [
       "SGDRegressor(alpha=10, average=False, early_stopping=False, epsilon=0.1,\n",
       "       eta0=0.01, fit_intercept=True, l1_ratio=0.15,\n",
       "       learning_rate='invscaling', loss='huber', max_iter=None,\n",
       "       n_iter=None, n_iter_no_change=5, penalty='l2', power_t=0.25,\n",
       "       random_state=42, shuffle=True, tol=None, validation_fraction=0.1,\n",
       "       verbose=0, warm_start=False)"
      ]
     },
     "execution_count": 289,
     "metadata": {},
     "output_type": "execute_result"
    }
   ],
   "source": [
    "lr_39.fit(X_train, y_train)"
   ]
  },
  {
   "cell_type": "code",
   "execution_count": 290,
   "metadata": {
    "scrolled": true
   },
   "outputs": [
    {
     "data": {
      "text/plain": [
       "array([-1.09033598e+06, -2.44368713e+06,  3.23403431e+06,  2.38454232e+04,\n",
       "       -2.09241475e+06,  2.59535117e+07,  7.47737479e+06,  6.31053301e+06,\n",
       "       -3.34178540e+06, -1.67410395e+06, -4.35044343e+05,  1.37478826e+07,\n",
       "       -1.67430483e+06, -2.31164538e+06,  1.71278011e+06, -3.91877241e+06,\n",
       "       -1.90810251e+06,  1.32307181e+07, -2.41503764e+06, -4.53032652e+06])"
      ]
     },
     "execution_count": 290,
     "metadata": {},
     "output_type": "execute_result"
    }
   ],
   "source": [
    "y_pred_39_train = lr_39.predict(X_train)\n",
    "y_pred_39_train[0:20]"
   ]
  },
  {
   "cell_type": "code",
   "execution_count": 291,
   "metadata": {
    "scrolled": false
   },
   "outputs": [
    {
     "name": "stdout",
     "output_type": "stream",
     "text": [
      "Training Set R^2: -3633573883148.8896\n",
      "Training Set Root Mean Squared Error: 53191145.61214076\n"
     ]
    }
   ],
   "source": [
    "print(\"Training Set R^2: {}\".format(lr_39.score(X_train, y_train)))\n",
    "rmse_39_train = np.sqrt(mean_squared_error(y_train, y_pred_39_train))\n",
    "print(\"Training Set Root Mean Squared Error: {}\".format(rmse_39_train))"
   ]
  },
  {
   "cell_type": "code",
   "execution_count": 292,
   "metadata": {},
   "outputs": [
    {
     "data": {
      "text/plain": [
       "array([ -3659947.84445833,  18251269.90359093,  -2661658.78548128,\n",
       "        -1297010.04116495,  -2800204.60834727,   5734328.74516563,\n",
       "        18906589.41029056,   1229324.21104274,  23811581.81426162,\n",
       "        -2688853.46571323,   5278401.09292021,  -1734842.74704664,\n",
       "        -2635238.14482169,   3345150.3904242 ,   6320579.85095956,\n",
       "       -11997940.44562588,  -1172248.68395629,   -940315.5663826 ,\n",
       "         2133779.27752749,   4572511.15769191])"
      ]
     },
     "execution_count": 292,
     "metadata": {},
     "output_type": "execute_result"
    }
   ],
   "source": [
    "y_pred_39_test = lr_39.predict(X_test)\n",
    "y_pred_39_test[0:20]"
   ]
  },
  {
   "cell_type": "code",
   "execution_count": 293,
   "metadata": {
    "scrolled": true
   },
   "outputs": [
    {
     "name": "stdout",
     "output_type": "stream",
     "text": [
      "Test Set R^2: -3736845002167.366\n",
      "Test Set Root Mean Squared Error: 52237461.54666501\n"
     ]
    }
   ],
   "source": [
    "print(\"Test Set R^2: {}\".format(lr_39.score(X_test, y_test)))\n",
    "rmse_39_test = np.sqrt(mean_squared_error(y_test, y_pred_39_test))\n",
    "print(\"Test Set Root Mean Squared Error: {}\".format(rmse_39_test))"
   ]
  },
  {
   "cell_type": "code",
   "execution_count": 294,
   "metadata": {},
   "outputs": [],
   "source": [
    "filename = 'cancer_lr_39.sav'\n",
    "pickle.dump(lr_39, open(filename, 'wb'))"
   ]
  },
  {
   "cell_type": "code",
   "execution_count": 295,
   "metadata": {},
   "outputs": [],
   "source": [
    "lr_40 = linear_model.SGDRegressor(loss='huber', penalty='l2', alpha=100, random_state=42)"
   ]
  },
  {
   "cell_type": "code",
   "execution_count": 296,
   "metadata": {
    "scrolled": false
   },
   "outputs": [
    {
     "name": "stderr",
     "output_type": "stream",
     "text": [
      "/Users/DanLoew/anaconda3/lib/python3.7/site-packages/sklearn/linear_model/stochastic_gradient.py:166: FutureWarning: max_iter and tol parameters have been added in SGDRegressor in 0.19. If both are left unset, they default to max_iter=5 and tol=None. If tol is not None, max_iter defaults to max_iter=1000. From 0.21, default max_iter will be 1000, and default tol will be 1e-3.\n",
      "  FutureWarning)\n"
     ]
    },
    {
     "data": {
      "text/plain": [
       "SGDRegressor(alpha=100, average=False, early_stopping=False, epsilon=0.1,\n",
       "       eta0=0.01, fit_intercept=True, l1_ratio=0.15,\n",
       "       learning_rate='invscaling', loss='huber', max_iter=None,\n",
       "       n_iter=None, n_iter_no_change=5, penalty='l2', power_t=0.25,\n",
       "       random_state=42, shuffle=True, tol=None, validation_fraction=0.1,\n",
       "       verbose=0, warm_start=False)"
      ]
     },
     "execution_count": 296,
     "metadata": {},
     "output_type": "execute_result"
    }
   ],
   "source": [
    "lr_40.fit(X_train, y_train)"
   ]
  },
  {
   "cell_type": "code",
   "execution_count": 297,
   "metadata": {
    "scrolled": true
   },
   "outputs": [
    {
     "data": {
      "text/plain": [
       "array([ 197451.0798399 ,  289543.41309973,   59764.31109748,\n",
       "        263668.83598944,  246916.14043229, -709985.62849083,\n",
       "        -41006.41659055,   60247.47139123,  327676.13249919,\n",
       "        214220.68056249,  198570.77768967, -202393.64231992,\n",
       "        251966.64861662,  259545.68864973,  213414.06577922,\n",
       "        386921.71762138,  254735.11728043, -145762.57389269,\n",
       "        397005.85272514,  391855.03786495])"
      ]
     },
     "execution_count": 297,
     "metadata": {},
     "output_type": "execute_result"
    }
   ],
   "source": [
    "y_pred_40_train = lr_40.predict(X_train)\n",
    "y_pred_40_train[0:20]"
   ]
  },
  {
   "cell_type": "code",
   "execution_count": 298,
   "metadata": {
    "scrolled": false
   },
   "outputs": [
    {
     "name": "stdout",
     "output_type": "stream",
     "text": [
      "Training Set R^2: -4870662025.42258\n",
      "Training Set Root Mean Squared Error: 1947450.1247597954\n"
     ]
    }
   ],
   "source": [
    "print(\"Training Set R^2: {}\".format(lr_40.score(X_train, y_train)))\n",
    "rmse_40_train = np.sqrt(mean_squared_error(y_train, y_pred_40_train))\n",
    "print(\"Training Set Root Mean Squared Error: {}\".format(rmse_40_train))"
   ]
  },
  {
   "cell_type": "code",
   "execution_count": 299,
   "metadata": {},
   "outputs": [
    {
     "data": {
      "text/plain": [
       "array([ 337586.33222327, -438329.33629538,  343984.33312313,\n",
       "        272475.8890534 ,  290926.63794862,  734254.5209055 ,\n",
       "       -420065.05270218,  178315.89649703, -621566.32673866,\n",
       "        338203.75071579,   28983.27447518,  210788.89128367,\n",
       "        338506.19778256,  137041.23043524,  -73995.68049381,\n",
       "        911275.19617899,  237794.63371455,  221553.75434919,\n",
       "        118232.24727224,   76035.72294609])"
      ]
     },
     "execution_count": 299,
     "metadata": {},
     "output_type": "execute_result"
    }
   ],
   "source": [
    "y_pred_40_test = lr_40.predict(X_test)\n",
    "y_pred_40_test[0:20]"
   ]
  },
  {
   "cell_type": "code",
   "execution_count": 300,
   "metadata": {
    "scrolled": true
   },
   "outputs": [
    {
     "name": "stdout",
     "output_type": "stream",
     "text": [
      "Test Set R^2: -4765091605.647747\n",
      "Test Set Root Mean Squared Error: 1865370.6933154766\n"
     ]
    }
   ],
   "source": [
    "print(\"Test Set R^2: {}\".format(lr_40.score(X_test, y_test)))\n",
    "rmse_40_test = np.sqrt(mean_squared_error(y_test, y_pred_40_test))\n",
    "print(\"Test Set Root Mean Squared Error: {}\".format(rmse_40_test))"
   ]
  },
  {
   "cell_type": "code",
   "execution_count": 301,
   "metadata": {},
   "outputs": [],
   "source": [
    "filename = 'cancer_lr_40.sav'\n",
    "pickle.dump(lr_40, open(filename, 'wb'))"
   ]
  },
  {
   "cell_type": "code",
   "execution_count": 302,
   "metadata": {},
   "outputs": [],
   "source": [
    "lr_41 = linear_model.SGDRegressor(loss='huber', penalty='l2', alpha=0.00001, random_state=42, \n",
    "                                  learning_rate='constant')"
   ]
  },
  {
   "cell_type": "code",
   "execution_count": 303,
   "metadata": {
    "scrolled": true
   },
   "outputs": [
    {
     "name": "stderr",
     "output_type": "stream",
     "text": [
      "/Users/DanLoew/anaconda3/lib/python3.7/site-packages/sklearn/linear_model/stochastic_gradient.py:166: FutureWarning: max_iter and tol parameters have been added in SGDRegressor in 0.19. If both are left unset, they default to max_iter=5 and tol=None. If tol is not None, max_iter defaults to max_iter=1000. From 0.21, default max_iter will be 1000, and default tol will be 1e-3.\n",
      "  FutureWarning)\n"
     ]
    },
    {
     "data": {
      "text/plain": [
       "SGDRegressor(alpha=1e-05, average=False, early_stopping=False, epsilon=0.1,\n",
       "       eta0=0.01, fit_intercept=True, l1_ratio=0.15,\n",
       "       learning_rate='constant', loss='huber', max_iter=None, n_iter=None,\n",
       "       n_iter_no_change=5, penalty='l2', power_t=0.25, random_state=42,\n",
       "       shuffle=True, tol=None, validation_fraction=0.1, verbose=0,\n",
       "       warm_start=False)"
      ]
     },
     "execution_count": 303,
     "metadata": {},
     "output_type": "execute_result"
    }
   ],
   "source": [
    "lr_41.fit(X_train, y_train)"
   ]
  },
  {
   "cell_type": "code",
   "execution_count": 304,
   "metadata": {
    "scrolled": true
   },
   "outputs": [
    {
     "data": {
      "text/plain": [
       "array([-3.31697037e+06, -2.05106055e+07,  5.84398473e+07,  3.63847380e+07,\n",
       "       -1.68415326e+07,  3.79377576e+08,  1.17217431e+08,  1.18055530e+08,\n",
       "       -3.30393893e+07, -1.15916071e+07,  1.07800036e+07,  2.12730267e+08,\n",
       "       -1.49080132e+07, -1.95182708e+07,  3.73098652e+07, -1.33442563e+07,\n",
       "       -1.37771825e+07,  2.05272891e+08, -1.53510977e+07, -4.90257664e+07])"
      ]
     },
     "execution_count": 304,
     "metadata": {},
     "output_type": "execute_result"
    }
   ],
   "source": [
    "y_pred_41_train = lr_41.predict(X_train)\n",
    "y_pred_41_train[0:20]"
   ]
  },
  {
   "cell_type": "code",
   "execution_count": 305,
   "metadata": {
    "scrolled": false
   },
   "outputs": [
    {
     "name": "stdout",
     "output_type": "stream",
     "text": [
      "Training Set R^2: -731990046485499.1\n",
      "Training Set Root Mean Squared Error: 754961724.8083209\n"
     ]
    }
   ],
   "source": [
    "print(\"Training Set R^2: {}\".format(lr_41.score(X_train, y_train)))\n",
    "rmse_41_train = np.sqrt(mean_squared_error(y_train, y_pred_41_train))\n",
    "print(\"Training Set Root Mean Squared Error: {}\".format(rmse_41_train))"
   ]
  },
  {
   "cell_type": "code",
   "execution_count": 306,
   "metadata": {},
   "outputs": [
    {
     "data": {
      "text/plain": [
       "array([-3.81785996e+07,  2.72197848e+08, -2.13759580e+07, -3.31472724e+06,\n",
       "       -2.62818972e+07,  6.67619362e+07,  2.82615009e+08,  3.18370110e+07,\n",
       "        3.52292538e+08, -2.37917358e+07,  8.97133891e+07, -1.63971947e+07,\n",
       "       -2.13457092e+07,  6.98678789e+07,  9.46542446e+07, -5.81785759e+07,\n",
       "       -2.58438333e+06,  4.16181007e+06,  4.39824324e+07,  1.09972006e+08])"
      ]
     },
     "execution_count": 306,
     "metadata": {},
     "output_type": "execute_result"
    }
   ],
   "source": [
    "y_pred_41_test = lr_41.predict(X_test)\n",
    "y_pred_41_test[0:20]"
   ]
  },
  {
   "cell_type": "code",
   "execution_count": 307,
   "metadata": {
    "scrolled": true
   },
   "outputs": [
    {
     "name": "stdout",
     "output_type": "stream",
     "text": [
      "Test Set R^2: -758480624721869.8\n",
      "Test Set Root Mean Squared Error: 744220738.4000801\n"
     ]
    }
   ],
   "source": [
    "print(\"Test Set R^2: {}\".format(lr_41.score(X_test, y_test)))\n",
    "rmse_41_test = np.sqrt(mean_squared_error(y_test, y_pred_41_test))\n",
    "print(\"Test Set Root Mean Squared Error: {}\".format(rmse_41_test))"
   ]
  },
  {
   "cell_type": "code",
   "execution_count": 308,
   "metadata": {},
   "outputs": [],
   "source": [
    "filename = 'cancer_lr_41.sav'\n",
    "pickle.dump(lr_41, open(filename, 'wb'))"
   ]
  },
  {
   "cell_type": "code",
   "execution_count": 309,
   "metadata": {},
   "outputs": [],
   "source": [
    "lr_42 = linear_model.SGDRegressor(loss='huber', penalty='l2', alpha=0.00001, random_state=42, \n",
    "                                  learning_rate='optimal')"
   ]
  },
  {
   "cell_type": "code",
   "execution_count": 310,
   "metadata": {
    "scrolled": true
   },
   "outputs": [
    {
     "name": "stderr",
     "output_type": "stream",
     "text": [
      "/Users/DanLoew/anaconda3/lib/python3.7/site-packages/sklearn/linear_model/stochastic_gradient.py:166: FutureWarning: max_iter and tol parameters have been added in SGDRegressor in 0.19. If both are left unset, they default to max_iter=5 and tol=None. If tol is not None, max_iter defaults to max_iter=1000. From 0.21, default max_iter will be 1000, and default tol will be 1e-3.\n",
      "  FutureWarning)\n"
     ]
    },
    {
     "data": {
      "text/plain": [
       "SGDRegressor(alpha=1e-05, average=False, early_stopping=False, epsilon=0.1,\n",
       "       eta0=0.01, fit_intercept=True, l1_ratio=0.15,\n",
       "       learning_rate='optimal', loss='huber', max_iter=None, n_iter=None,\n",
       "       n_iter_no_change=5, penalty='l2', power_t=0.25, random_state=42,\n",
       "       shuffle=True, tol=None, validation_fraction=0.1, verbose=0,\n",
       "       warm_start=False)"
      ]
     },
     "execution_count": 310,
     "metadata": {},
     "output_type": "execute_result"
    }
   ],
   "source": [
    "lr_42.fit(X_train, y_train)"
   ]
  },
  {
   "cell_type": "code",
   "execution_count": 311,
   "metadata": {
    "scrolled": true
   },
   "outputs": [
    {
     "data": {
      "text/plain": [
       "array([-1.86342815e+09, -1.15187023e+10,  3.28175869e+10,  2.04313594e+10,\n",
       "       -9.45842407e+09,  2.13048351e+11,  6.58257644e+10,  6.62958857e+10,\n",
       "       -1.85545127e+10, -6.51024165e+09,  6.05295691e+09,  1.19463490e+11,\n",
       "       -8.37233932e+09, -1.09615858e+10,  2.09522248e+10, -7.49530131e+09,\n",
       "       -7.73749826e+09,  1.15276098e+11, -8.62101316e+09, -2.75322139e+10])"
      ]
     },
     "execution_count": 311,
     "metadata": {},
     "output_type": "execute_result"
    }
   ],
   "source": [
    "y_pred_42_train = lr_42.predict(X_train)\n",
    "y_pred_42_train[0:20]"
   ]
  },
  {
   "cell_type": "code",
   "execution_count": 312,
   "metadata": {
    "scrolled": false
   },
   "outputs": [
    {
     "name": "stdout",
     "output_type": "stream",
     "text": [
      "Training Set R^2: -2.3084377965004037e+20\n",
      "Training Set Root Mean Squared Error: 423966395351.9561\n"
     ]
    }
   ],
   "source": [
    "print(\"Training Set R^2: {}\".format(lr_42.score(X_train, y_train)))\n",
    "rmse_42_train = np.sqrt(mean_squared_error(y_train, y_pred_42_train))\n",
    "print(\"Training Set Root Mean Squared Error: {}\".format(rmse_42_train))"
   ]
  },
  {
   "cell_type": "code",
   "execution_count": 313,
   "metadata": {},
   "outputs": [
    {
     "data": {
      "text/plain": [
       "array([-2.14411588e+10,  1.52858557e+11, -1.20045194e+10, -1.86202049e+09,\n",
       "       -1.47599807e+10,  3.75009728e+10,  1.58709030e+11,  1.78780294e+10,\n",
       "        1.97837486e+11, -1.33610662e+10,  5.03803641e+10, -9.20878857e+09,\n",
       "       -1.19872971e+10,  3.92355237e+10,  5.31547408e+10, -3.26742541e+10,\n",
       "       -1.45193272e+09,  2.33641569e+09,  2.46987800e+10,  6.17559014e+10])"
      ]
     },
     "execution_count": 313,
     "metadata": {},
     "output_type": "execute_result"
    }
   ],
   "source": [
    "y_pred_42_test = lr_42.predict(X_test)\n",
    "y_pred_42_test[0:20]"
   ]
  },
  {
   "cell_type": "code",
   "execution_count": 314,
   "metadata": {
    "scrolled": true
   },
   "outputs": [
    {
     "name": "stdout",
     "output_type": "stream",
     "text": [
      "Test Set R^2: -2.3919777835096703e+20\n",
      "Test Set Root Mean Squared Error: 417934374835.78534\n"
     ]
    }
   ],
   "source": [
    "print(\"Test Set R^2: {}\".format(lr_42.score(X_test, y_test)))\n",
    "rmse_42_test = np.sqrt(mean_squared_error(y_test, y_pred_42_test))\n",
    "print(\"Test Set Root Mean Squared Error: {}\".format(rmse_42_test))"
   ]
  },
  {
   "cell_type": "code",
   "execution_count": 315,
   "metadata": {},
   "outputs": [],
   "source": [
    "filename = 'cancer_lr_42.sav'\n",
    "pickle.dump(lr_42, open(filename, 'wb'))"
   ]
  },
  {
   "cell_type": "code",
   "execution_count": 316,
   "metadata": {},
   "outputs": [],
   "source": [
    "lr_43 = linear_model.SGDRegressor(loss='huber', penalty='l2', alpha=0.00001, epsilon=0.01, random_state=42)"
   ]
  },
  {
   "cell_type": "code",
   "execution_count": 317,
   "metadata": {
    "scrolled": true
   },
   "outputs": [
    {
     "name": "stderr",
     "output_type": "stream",
     "text": [
      "/Users/DanLoew/anaconda3/lib/python3.7/site-packages/sklearn/linear_model/stochastic_gradient.py:166: FutureWarning: max_iter and tol parameters have been added in SGDRegressor in 0.19. If both are left unset, they default to max_iter=5 and tol=None. If tol is not None, max_iter defaults to max_iter=1000. From 0.21, default max_iter will be 1000, and default tol will be 1e-3.\n",
      "  FutureWarning)\n"
     ]
    },
    {
     "data": {
      "text/plain": [
       "SGDRegressor(alpha=1e-05, average=False, early_stopping=False, epsilon=0.01,\n",
       "       eta0=0.01, fit_intercept=True, l1_ratio=0.15,\n",
       "       learning_rate='invscaling', loss='huber', max_iter=None,\n",
       "       n_iter=None, n_iter_no_change=5, penalty='l2', power_t=0.25,\n",
       "       random_state=42, shuffle=True, tol=None, validation_fraction=0.1,\n",
       "       verbose=0, warm_start=False)"
      ]
     },
     "execution_count": 317,
     "metadata": {},
     "output_type": "execute_result"
    }
   ],
   "source": [
    "lr_43.fit(X_train, y_train)"
   ]
  },
  {
   "cell_type": "code",
   "execution_count": 318,
   "metadata": {
    "scrolled": true
   },
   "outputs": [
    {
     "data": {
      "text/plain": [
       "array([ -34382.04655817, -205424.89617664,  585988.88711715,\n",
       "        277136.80697449, -168202.48405109, 3832480.77825172,\n",
       "       1172602.97409338, 1141476.6322998 , -329583.46959199,\n",
       "       -116583.14272361,   90119.6724764 , 2156059.93026516,\n",
       "       -126457.49447655, -191560.88721159,  422408.59671321,\n",
       "       -270090.56972139, -140933.30083337, 2086177.55736788,\n",
       "       -137072.16317213, -486219.66149627])"
      ]
     },
     "execution_count": 318,
     "metadata": {},
     "output_type": "execute_result"
    }
   ],
   "source": [
    "y_pred_43_train = lr_43.predict(X_train)\n",
    "y_pred_43_train[0:20]"
   ]
  },
  {
   "cell_type": "code",
   "execution_count": 319,
   "metadata": {
    "scrolled": false
   },
   "outputs": [
    {
     "name": "stdout",
     "output_type": "stream",
     "text": [
      "Training Set R^2: -73349618718.54965\n",
      "Training Set Root Mean Squared Error: 7557380.292691661\n"
     ]
    }
   ],
   "source": [
    "print(\"Training Set R^2: {}\".format(lr_43.score(X_train, y_train)))\n",
    "rmse_43_train = np.sqrt(mean_squared_error(y_train, y_pred_43_train))\n",
    "print(\"Training Set Root Mean Squared Error: {}\".format(rmse_43_train))"
   ]
  },
  {
   "cell_type": "code",
   "execution_count": 320,
   "metadata": {},
   "outputs": [
    {
     "data": {
      "text/plain": [
       "array([ -381745.23648431,  2741086.20853161,  -212624.52864064,\n",
       "         -29026.64736905,  -265394.66502298,   605310.16877392,\n",
       "        2856313.36874192,   330310.15022764,  3550385.05015135,\n",
       "        -241035.86905355,   912731.8457181 ,  -151807.66819232,\n",
       "        -185626.1202967 ,   704133.70459787,   978555.24456043,\n",
       "       -1015159.64743894,   -20863.36618534,    22869.44470161,\n",
       "         445857.88760869,   941576.50332128])"
      ]
     },
     "execution_count": 320,
     "metadata": {},
     "output_type": "execute_result"
    }
   ],
   "source": [
    "y_pred_43_test = lr_43.predict(X_test)\n",
    "y_pred_43_test[0:20]"
   ]
  },
  {
   "cell_type": "code",
   "execution_count": 321,
   "metadata": {
    "scrolled": true
   },
   "outputs": [
    {
     "name": "stdout",
     "output_type": "stream",
     "text": [
      "Test Set R^2: -75816723696.58592\n",
      "Test Set Root Mean Squared Error: 7440669.745803612\n"
     ]
    }
   ],
   "source": [
    "print(\"Test Set R^2: {}\".format(lr_43.score(X_test, y_test)))\n",
    "rmse_43_test = np.sqrt(mean_squared_error(y_test, y_pred_43_test))\n",
    "print(\"Test Set Root Mean Squared Error: {}\".format(rmse_43_test))"
   ]
  },
  {
   "cell_type": "code",
   "execution_count": 322,
   "metadata": {},
   "outputs": [],
   "source": [
    "filename = 'cancer_lr_43.sav'\n",
    "pickle.dump(lr_43, open(filename, 'wb'))"
   ]
  },
  {
   "cell_type": "code",
   "execution_count": 323,
   "metadata": {},
   "outputs": [],
   "source": [
    "lr_44 = linear_model.SGDRegressor(loss='huber', penalty='l2', alpha=0.0001, epsilon=0.01, random_state=42)"
   ]
  },
  {
   "cell_type": "code",
   "execution_count": 324,
   "metadata": {
    "scrolled": true
   },
   "outputs": [
    {
     "name": "stderr",
     "output_type": "stream",
     "text": [
      "/Users/DanLoew/anaconda3/lib/python3.7/site-packages/sklearn/linear_model/stochastic_gradient.py:166: FutureWarning: max_iter and tol parameters have been added in SGDRegressor in 0.19. If both are left unset, they default to max_iter=5 and tol=None. If tol is not None, max_iter defaults to max_iter=1000. From 0.21, default max_iter will be 1000, and default tol will be 1e-3.\n",
      "  FutureWarning)\n"
     ]
    },
    {
     "data": {
      "text/plain": [
       "SGDRegressor(alpha=0.0001, average=False, early_stopping=False, epsilon=0.01,\n",
       "       eta0=0.01, fit_intercept=True, l1_ratio=0.15,\n",
       "       learning_rate='invscaling', loss='huber', max_iter=None,\n",
       "       n_iter=None, n_iter_no_change=5, penalty='l2', power_t=0.25,\n",
       "       random_state=42, shuffle=True, tol=None, validation_fraction=0.1,\n",
       "       verbose=0, warm_start=False)"
      ]
     },
     "execution_count": 324,
     "metadata": {},
     "output_type": "execute_result"
    }
   ],
   "source": [
    "lr_44.fit(X_train, y_train)"
   ]
  },
  {
   "cell_type": "code",
   "execution_count": 325,
   "metadata": {
    "scrolled": true
   },
   "outputs": [
    {
     "data": {
      "text/plain": [
       "array([ -61867.13709435, -224429.11322135,  542654.98079786,\n",
       "        199237.49922451, -189590.687595  , 3668073.43206903,\n",
       "       1072898.80329179, 1053242.25017695, -343132.15000326,\n",
       "       -144866.55521071,   55062.99240714, 2053255.74883574,\n",
       "       -137794.29941788, -213423.92254053,  386866.12322991,\n",
       "       -341621.39572993, -160098.87698618, 1981822.81739407,\n",
       "       -163706.86472661, -498593.42341759])"
      ]
     },
     "execution_count": 325,
     "metadata": {},
     "output_type": "execute_result"
    }
   ],
   "source": [
    "y_pred_44_train = lr_44.predict(X_train)\n",
    "y_pred_44_train[0:20]"
   ]
  },
  {
   "cell_type": "code",
   "execution_count": 326,
   "metadata": {
    "scrolled": false
   },
   "outputs": [
    {
     "name": "stdout",
     "output_type": "stream",
     "text": [
      "Training Set R^2: -67729837014.42692\n",
      "Training Set Root Mean Squared Error: 7262102.287410041\n"
     ]
    }
   ],
   "source": [
    "print(\"Training Set R^2: {}\".format(lr_44.score(X_train, y_train)))\n",
    "rmse_44_train = np.sqrt(mean_squared_error(y_train, y_pred_44_train))\n",
    "print(\"Training Set Root Mean Squared Error: {}\".format(rmse_44_train))"
   ]
  },
  {
   "cell_type": "code",
   "execution_count": 327,
   "metadata": {},
   "outputs": [
    {
     "data": {
      "text/plain": [
       "array([ -400653.71115004,  2618086.49967817,  -234297.01067444,\n",
       "         -56365.96358197,  -284529.1779247 ,   398968.18078221,\n",
       "        2727144.42583286,   291379.29635886,  3400819.98853161,\n",
       "        -264606.88681443,   854215.00050637,  -166156.25898326,\n",
       "        -207710.67750172,   640852.51906529,   935015.16805137,\n",
       "       -1193803.49517595,   -47242.99441442,   -14817.29125785,\n",
       "         401853.64765352,   818034.08896064])"
      ]
     },
     "execution_count": 327,
     "metadata": {},
     "output_type": "execute_result"
    }
   ],
   "source": [
    "y_pred_44_test = lr_44.predict(X_test)\n",
    "y_pred_44_test[0:20]"
   ]
  },
  {
   "cell_type": "code",
   "execution_count": 328,
   "metadata": {
    "scrolled": true
   },
   "outputs": [
    {
     "name": "stdout",
     "output_type": "stream",
     "text": [
      "Test Set R^2: -70101578353.15921\n",
      "Test Set Root Mean Squared Error: 7154732.818449184\n"
     ]
    }
   ],
   "source": [
    "print(\"Test Set R^2: {}\".format(lr_44.score(X_test, y_test)))\n",
    "rmse_44_test = np.sqrt(mean_squared_error(y_test, y_pred_44_test))\n",
    "print(\"Test Set Root Mean Squared Error: {}\".format(rmse_44_test))"
   ]
  },
  {
   "cell_type": "code",
   "execution_count": 329,
   "metadata": {},
   "outputs": [],
   "source": [
    "filename = 'cancer_lr_44.sav'\n",
    "pickle.dump(lr_44, open(filename, 'wb'))"
   ]
  },
  {
   "cell_type": "code",
   "execution_count": 330,
   "metadata": {},
   "outputs": [],
   "source": [
    "lr_45 = linear_model.SGDRegressor(loss='huber', penalty='l2', alpha=0.001, epsilon=0.01, random_state=42)"
   ]
  },
  {
   "cell_type": "code",
   "execution_count": 331,
   "metadata": {
    "scrolled": true
   },
   "outputs": [
    {
     "name": "stderr",
     "output_type": "stream",
     "text": [
      "/Users/DanLoew/anaconda3/lib/python3.7/site-packages/sklearn/linear_model/stochastic_gradient.py:166: FutureWarning: max_iter and tol parameters have been added in SGDRegressor in 0.19. If both are left unset, they default to max_iter=5 and tol=None. If tol is not None, max_iter defaults to max_iter=1000. From 0.21, default max_iter will be 1000, and default tol will be 1e-3.\n",
      "  FutureWarning)\n"
     ]
    },
    {
     "data": {
      "text/plain": [
       "SGDRegressor(alpha=0.001, average=False, early_stopping=False, epsilon=0.01,\n",
       "       eta0=0.01, fit_intercept=True, l1_ratio=0.15,\n",
       "       learning_rate='invscaling', loss='huber', max_iter=None,\n",
       "       n_iter=None, n_iter_no_change=5, penalty='l2', power_t=0.25,\n",
       "       random_state=42, shuffle=True, tol=None, validation_fraction=0.1,\n",
       "       verbose=0, warm_start=False)"
      ]
     },
     "execution_count": 331,
     "metadata": {},
     "output_type": "execute_result"
    }
   ],
   "source": [
    "lr_45.fit(X_train, y_train)"
   ]
  },
  {
   "cell_type": "code",
   "execution_count": 332,
   "metadata": {
    "scrolled": true
   },
   "outputs": [
    {
     "data": {
      "text/plain": [
       "array([  -60838.33058113,    87548.16392951,  -634661.2830777 ,\n",
       "        -543488.4465827 ,    67382.60495419, -3641578.61766876,\n",
       "       -1222640.5599135 , -1286957.13196543,   204394.61884157,\n",
       "          16176.06298256,  -195188.43403248, -2123034.80714427,\n",
       "          59147.39514215,    93286.80873985,  -464451.82849947,\n",
       "         -94293.59626172,    35523.61922126, -2063907.07926855,\n",
       "          -8947.82178522,   345657.65093162])"
      ]
     },
     "execution_count": 332,
     "metadata": {},
     "output_type": "execute_result"
    }
   ],
   "source": [
    "y_pred_45_train = lr_45.predict(X_train)\n",
    "y_pred_45_train[0:20]"
   ]
  },
  {
   "cell_type": "code",
   "execution_count": 333,
   "metadata": {
    "scrolled": false
   },
   "outputs": [
    {
     "name": "stdout",
     "output_type": "stream",
     "text": [
      "Training Set R^2: -64328580429.61135\n",
      "Training Set Root Mean Squared Error: 7077409.591604758\n"
     ]
    }
   ],
   "source": [
    "print(\"Training Set R^2: {}\".format(lr_45.score(X_train, y_train)))\n",
    "rmse_45_train = np.sqrt(mean_squared_error(y_train, y_pred_45_train))\n",
    "print(\"Training Set Root Mean Squared Error: {}\".format(rmse_45_train))"
   ]
  },
  {
   "cell_type": "code",
   "execution_count": 334,
   "metadata": {},
   "outputs": [
    {
     "data": {
      "text/plain": [
       "array([  241361.6541674 , -2648082.81770529,    79232.41823824,\n",
       "         -86885.75382251,   140132.90680718,  -945774.87350452,\n",
       "       -2758697.41538709,  -420227.08796097, -3401218.67715225,\n",
       "         106650.99513884,  -948920.75524338,    77320.66712729,\n",
       "          81231.3243488 ,  -798276.8683954 ,  -940322.36115638,\n",
       "          17853.9834659 ,   -68797.20401671,  -155324.08914769,\n",
       "        -515850.45467214, -1248497.68825823])"
      ]
     },
     "execution_count": 334,
     "metadata": {},
     "output_type": "execute_result"
    }
   ],
   "source": [
    "y_pred_45_test = lr_45.predict(X_test)\n",
    "y_pred_45_test[0:20]"
   ]
  },
  {
   "cell_type": "code",
   "execution_count": 335,
   "metadata": {
    "scrolled": true
   },
   "outputs": [
    {
     "name": "stdout",
     "output_type": "stream",
     "text": [
      "Test Set R^2: -67337724013.75197\n",
      "Test Set Root Mean Squared Error: 7012271.761782448\n"
     ]
    }
   ],
   "source": [
    "print(\"Test Set R^2: {}\".format(lr_45.score(X_test, y_test)))\n",
    "rmse_45_test = np.sqrt(mean_squared_error(y_test, y_pred_45_test))\n",
    "print(\"Test Set Root Mean Squared Error: {}\".format(rmse_45_test))"
   ]
  },
  {
   "cell_type": "code",
   "execution_count": 336,
   "metadata": {},
   "outputs": [],
   "source": [
    "filename = 'cancer_lr_45.sav'\n",
    "pickle.dump(lr_45, open(filename, 'wb'))"
   ]
  },
  {
   "cell_type": "code",
   "execution_count": 337,
   "metadata": {},
   "outputs": [],
   "source": [
    "lr_46 = linear_model.SGDRegressor(loss='huber', penalty='l2', alpha=0.01, epsilon=0.01, random_state=42)"
   ]
  },
  {
   "cell_type": "code",
   "execution_count": 338,
   "metadata": {
    "scrolled": true
   },
   "outputs": [
    {
     "name": "stderr",
     "output_type": "stream",
     "text": [
      "/Users/DanLoew/anaconda3/lib/python3.7/site-packages/sklearn/linear_model/stochastic_gradient.py:166: FutureWarning: max_iter and tol parameters have been added in SGDRegressor in 0.19. If both are left unset, they default to max_iter=5 and tol=None. If tol is not None, max_iter defaults to max_iter=1000. From 0.21, default max_iter will be 1000, and default tol will be 1e-3.\n",
      "  FutureWarning)\n"
     ]
    },
    {
     "data": {
      "text/plain": [
       "SGDRegressor(alpha=0.01, average=False, early_stopping=False, epsilon=0.01,\n",
       "       eta0=0.01, fit_intercept=True, l1_ratio=0.15,\n",
       "       learning_rate='invscaling', loss='huber', max_iter=None,\n",
       "       n_iter=None, n_iter_no_change=5, penalty='l2', power_t=0.25,\n",
       "       random_state=42, shuffle=True, tol=None, validation_fraction=0.1,\n",
       "       verbose=0, warm_start=False)"
      ]
     },
     "execution_count": 338,
     "metadata": {},
     "output_type": "execute_result"
    }
   ],
   "source": [
    "lr_46.fit(X_train, y_train)"
   ]
  },
  {
   "cell_type": "code",
   "execution_count": 339,
   "metadata": {
    "scrolled": true
   },
   "outputs": [
    {
     "data": {
      "text/plain": [
       "array([ -46578.70811167, -191268.80840801,  504255.55284547,\n",
       "        192443.04062599, -162497.51697787, 3347138.7155044 ,\n",
       "       1107602.75390544,  961347.01317271, -299576.86944579,\n",
       "       -127685.56056634,   59733.40532754, 1865800.80111852,\n",
       "       -108670.88911294, -184811.78849811,  357875.85774278,\n",
       "       -301468.98907755, -131310.3122709 , 1809901.75970604,\n",
       "       -135711.09465626, -439304.76420669])"
      ]
     },
     "execution_count": 339,
     "metadata": {},
     "output_type": "execute_result"
    }
   ],
   "source": [
    "y_pred_46_train = lr_46.predict(X_train)\n",
    "y_pred_46_train[0:20]"
   ]
  },
  {
   "cell_type": "code",
   "execution_count": 340,
   "metadata": {
    "scrolled": true
   },
   "outputs": [
    {
     "name": "stdout",
     "output_type": "stream",
     "text": [
      "Training Set R^2: -57199754726.245346\n",
      "Training Set Root Mean Squared Error: 6673742.252664704\n"
     ]
    }
   ],
   "source": [
    "print(\"Training Set R^2: {}\".format(lr_46.score(X_train, y_train)))\n",
    "rmse_46_train = np.sqrt(mean_squared_error(y_train, y_pred_46_train))\n",
    "print(\"Training Set Root Mean Squared Error: {}\".format(rmse_46_train))"
   ]
  },
  {
   "cell_type": "code",
   "execution_count": 341,
   "metadata": {},
   "outputs": [
    {
     "data": {
      "text/plain": [
       "array([ -332747.43953063,  2389203.52123728,  -196190.39480774,\n",
       "         -34661.77109009,  -237645.7042936 ,   867954.47280599,\n",
       "        2484426.27509549,   279310.92537116,  3093056.97531809,\n",
       "        -211545.10144384,   775725.61278396,  -136551.88670887,\n",
       "        -185944.18567777,   580870.7188665 ,   866986.76559799,\n",
       "       -1093701.16530743,   -31307.52417787,    -4986.17795117,\n",
       "         372620.08569729,   754104.60363214])"
      ]
     },
     "execution_count": 341,
     "metadata": {},
     "output_type": "execute_result"
    }
   ],
   "source": [
    "y_pred_46_test = lr_46.predict(X_test)\n",
    "y_pred_46_test[0:20]"
   ]
  },
  {
   "cell_type": "code",
   "execution_count": 342,
   "metadata": {
    "scrolled": true
   },
   "outputs": [
    {
     "name": "stdout",
     "output_type": "stream",
     "text": [
      "Test Set R^2: -58585604217.45802\n",
      "Test Set Root Mean Squared Error: 6540711.279621655\n"
     ]
    }
   ],
   "source": [
    "print(\"Test Set R^2: {}\".format(lr_46.score(X_test, y_test)))\n",
    "rmse_46_test = np.sqrt(mean_squared_error(y_test, y_pred_46_test))\n",
    "print(\"Test Set Root Mean Squared Error: {}\".format(rmse_46_test))"
   ]
  },
  {
   "cell_type": "code",
   "execution_count": 343,
   "metadata": {},
   "outputs": [],
   "source": [
    "filename = 'cancer_lr_46.sav'\n",
    "pickle.dump(lr_46, open(filename, 'wb'))"
   ]
  },
  {
   "cell_type": "code",
   "execution_count": 344,
   "metadata": {},
   "outputs": [],
   "source": [
    "lr_47 = linear_model.SGDRegressor(loss='huber', penalty='l2', alpha=0.1, epsilon=0.01, random_state=42)"
   ]
  },
  {
   "cell_type": "code",
   "execution_count": 345,
   "metadata": {
    "scrolled": true
   },
   "outputs": [
    {
     "name": "stderr",
     "output_type": "stream",
     "text": [
      "/Users/DanLoew/anaconda3/lib/python3.7/site-packages/sklearn/linear_model/stochastic_gradient.py:166: FutureWarning: max_iter and tol parameters have been added in SGDRegressor in 0.19. If both are left unset, they default to max_iter=5 and tol=None. If tol is not None, max_iter defaults to max_iter=1000. From 0.21, default max_iter will be 1000, and default tol will be 1e-3.\n",
      "  FutureWarning)\n"
     ]
    },
    {
     "data": {
      "text/plain": [
       "SGDRegressor(alpha=0.1, average=False, early_stopping=False, epsilon=0.01,\n",
       "       eta0=0.01, fit_intercept=True, l1_ratio=0.15,\n",
       "       learning_rate='invscaling', loss='huber', max_iter=None,\n",
       "       n_iter=None, n_iter_no_change=5, penalty='l2', power_t=0.25,\n",
       "       random_state=42, shuffle=True, tol=None, validation_fraction=0.1,\n",
       "       verbose=0, warm_start=False)"
      ]
     },
     "execution_count": 345,
     "metadata": {},
     "output_type": "execute_result"
    }
   ],
   "source": [
    "lr_47.fit(X_train, y_train)"
   ]
  },
  {
   "cell_type": "code",
   "execution_count": 346,
   "metadata": {
    "scrolled": true
   },
   "outputs": [
    {
     "data": {
      "text/plain": [
       "array([-3.60271933e+03,  1.44922197e+05, -6.05422455e+05, -3.03270326e+05,\n",
       "        1.20982150e+05, -3.66256528e+06, -1.25825584e+06, -1.14753631e+06,\n",
       "        2.61541524e+05,  7.70498168e+04, -1.26338633e+05, -2.11086487e+06,\n",
       "        6.19837383e+04,  1.49330093e+05, -4.58482619e+05,  2.23828108e+05,\n",
       "        8.13824678e+04, -2.03772731e+06,  5.98611734e+04,  4.01932726e+05])"
      ]
     },
     "execution_count": 346,
     "metadata": {},
     "output_type": "execute_result"
    }
   ],
   "source": [
    "y_pred_47_train = lr_47.predict(X_train)\n",
    "y_pred_47_train[0:20]"
   ]
  },
  {
   "cell_type": "code",
   "execution_count": 347,
   "metadata": {
    "scrolled": true
   },
   "outputs": [
    {
     "name": "stdout",
     "output_type": "stream",
     "text": [
      "Training Set R^2: -66905907506.31408\n",
      "Training Set Root Mean Squared Error: 7217795.603136425\n"
     ]
    }
   ],
   "source": [
    "print(\"Training Set R^2: {}\".format(lr_47.score(X_train, y_train)))\n",
    "rmse_47_train = np.sqrt(mean_squared_error(y_train, y_pred_47_train))\n",
    "print(\"Training Set Root Mean Squared Error: {}\".format(rmse_47_train))"
   ]
  },
  {
   "cell_type": "code",
   "execution_count": 348,
   "metadata": {},
   "outputs": [
    {
     "data": {
      "text/plain": [
       "array([  301824.8902023 , -2654175.85018881,   136280.42086161,\n",
       "         -29030.3305346 ,   200429.9545111 ,  -585427.83120059,\n",
       "       -2756050.28864333,  -369975.05643515, -3432183.82790071,\n",
       "         169415.48358226,  -907938.8577488 ,   101976.65543134,\n",
       "         139854.8586354 ,  -701793.06802378,  -986146.70847804,\n",
       "         970759.66670324,   -21786.22455249,   -58946.43149535,\n",
       "        -467797.35573066,  -909912.82096553])"
      ]
     },
     "execution_count": 348,
     "metadata": {},
     "output_type": "execute_result"
    }
   ],
   "source": [
    "y_pred_47_test = lr_47.predict(X_test)\n",
    "y_pred_47_test[0:20]"
   ]
  },
  {
   "cell_type": "code",
   "execution_count": 349,
   "metadata": {
    "scrolled": true
   },
   "outputs": [
    {
     "name": "stdout",
     "output_type": "stream",
     "text": [
      "Test Set R^2: -68656441100.695\n",
      "Test Set Root Mean Squared Error: 7080601.71525738\n"
     ]
    }
   ],
   "source": [
    "print(\"Test Set R^2: {}\".format(lr_47.score(X_test, y_test)))\n",
    "rmse_47_test = np.sqrt(mean_squared_error(y_test, y_pred_47_test))\n",
    "print(\"Test Set Root Mean Squared Error: {}\".format(rmse_47_test))"
   ]
  },
  {
   "cell_type": "code",
   "execution_count": 350,
   "metadata": {},
   "outputs": [],
   "source": [
    "filename = 'cancer_lr_47.sav'\n",
    "pickle.dump(lr_47, open(filename, 'wb'))"
   ]
  },
  {
   "cell_type": "code",
   "execution_count": 351,
   "metadata": {},
   "outputs": [],
   "source": [
    "lr_48 = linear_model.SGDRegressor(loss='huber', penalty='l2', alpha=0.001, epsilon=0.5, random_state=42)"
   ]
  },
  {
   "cell_type": "code",
   "execution_count": 352,
   "metadata": {
    "scrolled": true
   },
   "outputs": [
    {
     "name": "stderr",
     "output_type": "stream",
     "text": [
      "/Users/DanLoew/anaconda3/lib/python3.7/site-packages/sklearn/linear_model/stochastic_gradient.py:166: FutureWarning: max_iter and tol parameters have been added in SGDRegressor in 0.19. If both are left unset, they default to max_iter=5 and tol=None. If tol is not None, max_iter defaults to max_iter=1000. From 0.21, default max_iter will be 1000, and default tol will be 1e-3.\n",
      "  FutureWarning)\n"
     ]
    },
    {
     "data": {
      "text/plain": [
       "SGDRegressor(alpha=0.001, average=False, early_stopping=False, epsilon=0.5,\n",
       "       eta0=0.01, fit_intercept=True, l1_ratio=0.15,\n",
       "       learning_rate='invscaling', loss='huber', max_iter=None,\n",
       "       n_iter=None, n_iter_no_change=5, penalty='l2', power_t=0.25,\n",
       "       random_state=42, shuffle=True, tol=None, validation_fraction=0.1,\n",
       "       verbose=0, warm_start=False)"
      ]
     },
     "execution_count": 352,
     "metadata": {},
     "output_type": "execute_result"
    }
   ],
   "source": [
    "lr_48.fit(X_train, y_train)"
   ]
  },
  {
   "cell_type": "code",
   "execution_count": 353,
   "metadata": {
    "scrolled": true
   },
   "outputs": [
    {
     "data": {
      "text/plain": [
       "array([-3.04191653e+06,  4.37740820e+06, -3.17330642e+07, -2.71744223e+07,\n",
       "        3.36913025e+06, -1.82078931e+08, -6.11320280e+07, -6.43478566e+07,\n",
       "        1.02197309e+07,  8.08803149e+05, -9.75942170e+06, -1.06151740e+08,\n",
       "        2.95736976e+06,  4.66434044e+06, -2.32225914e+07, -4.71467981e+06,\n",
       "        1.77618096e+06, -1.03195354e+08, -4.47391089e+05,  1.72828825e+07])"
      ]
     },
     "execution_count": 353,
     "metadata": {},
     "output_type": "execute_result"
    }
   ],
   "source": [
    "y_pred_48_train = lr_48.predict(X_train)\n",
    "y_pred_48_train[0:20]"
   ]
  },
  {
   "cell_type": "code",
   "execution_count": 354,
   "metadata": {
    "scrolled": false
   },
   "outputs": [
    {
     "name": "stdout",
     "output_type": "stream",
     "text": [
      "Training Set R^2: -160819630965698.06\n",
      "Training Set Root Mean Squared Error: 353868477.0945305\n"
     ]
    }
   ],
   "source": [
    "print(\"Training Set R^2: {}\".format(lr_48.score(X_train, y_train)))\n",
    "rmse_48_train = np.sqrt(mean_squared_error(y_train, y_pred_48_train))\n",
    "print(\"Training Set Root Mean Squared Error: {}\".format(rmse_48_train))"
   ]
  },
  {
   "cell_type": "code",
   "execution_count": 355,
   "metadata": {},
   "outputs": [
    {
     "data": {
      "text/plain": [
       "array([ 1.20680827e+07, -1.32404141e+08,  3.96162091e+06, -4.34428769e+06,\n",
       "        7.00664534e+06, -4.72887437e+07, -1.37934871e+08, -2.10113544e+07,\n",
       "       -1.70060934e+08,  5.33254976e+06, -4.74460378e+07,  3.86603336e+06,\n",
       "        4.06156622e+06, -3.99138434e+07, -4.70161181e+07,  8.92699173e+05,\n",
       "       -3.43986020e+06, -7.76620446e+06, -2.57925227e+07, -6.24248844e+07])"
      ]
     },
     "execution_count": 355,
     "metadata": {},
     "output_type": "execute_result"
    }
   ],
   "source": [
    "y_pred_48_test = lr_48.predict(X_test)\n",
    "y_pred_48_test[0:20]"
   ]
  },
  {
   "cell_type": "code",
   "execution_count": 356,
   "metadata": {
    "scrolled": true
   },
   "outputs": [
    {
     "name": "stdout",
     "output_type": "stream",
     "text": [
      "Test Set R^2: -168342038933085.8\n",
      "Test Set Root Mean Squared Error: 350611223.0476924\n"
     ]
    }
   ],
   "source": [
    "print(\"Test Set R^2: {}\".format(lr_48.score(X_test, y_test)))\n",
    "rmse_48_test = np.sqrt(mean_squared_error(y_test, y_pred_48_test))\n",
    "print(\"Test Set Root Mean Squared Error: {}\".format(rmse_48_test))"
   ]
  },
  {
   "cell_type": "code",
   "execution_count": 357,
   "metadata": {},
   "outputs": [],
   "source": [
    "filename = 'cancer_lr_48.sav'\n",
    "pickle.dump(lr_48, open(filename, 'wb'))"
   ]
  },
  {
   "cell_type": "markdown",
   "metadata": {},
   "source": [
    "## Kernel Ridge"
   ]
  },
  {
   "cell_type": "code",
   "execution_count": 358,
   "metadata": {},
   "outputs": [],
   "source": [
    "lr_49 = KernelRidge(alpha=0.001)"
   ]
  },
  {
   "cell_type": "code",
   "execution_count": 359,
   "metadata": {
    "scrolled": true
   },
   "outputs": [
    {
     "name": "stderr",
     "output_type": "stream",
     "text": [
      "/Users/DanLoew/anaconda3/lib/python3.7/site-packages/sklearn/linear_model/ridge.py:167: UserWarning: Singular matrix in solving dual problem. Using least-squares solution instead.\n",
      "  warnings.warn(\"Singular matrix in solving dual problem. Using \"\n"
     ]
    },
    {
     "data": {
      "text/plain": [
       "KernelRidge(alpha=0.001, coef0=1, degree=3, gamma=None, kernel='linear',\n",
       "      kernel_params=None)"
      ]
     },
     "execution_count": 359,
     "metadata": {},
     "output_type": "execute_result"
    }
   ],
   "source": [
    "lr_49.fit(X_train, y_train)"
   ]
  },
  {
   "cell_type": "code",
   "execution_count": 360,
   "metadata": {
    "scrolled": true
   },
   "outputs": [
    {
     "data": {
      "text/plain": [
       "array([194.328125  , 187.11279297, 218.63476562, 140.09375   ,\n",
       "       223.91455078, 195.19726562, 174.00390625, 166.44140625,\n",
       "       203.45800781, 230.49853516, 192.21582031, 174.88867188,\n",
       "       209.08056641, 188.92724609, 158.68847656, 189.15625   ,\n",
       "       202.39404297, 158.49707031, 173.74365234, 172.62841797])"
      ]
     },
     "execution_count": 360,
     "metadata": {},
     "output_type": "execute_result"
    }
   ],
   "source": [
    "y_pred_49_train = lr_49.predict(X_train)\n",
    "y_pred_49_train[0:20]"
   ]
  },
  {
   "cell_type": "code",
   "execution_count": 361,
   "metadata": {
    "scrolled": false
   },
   "outputs": [
    {
     "name": "stdout",
     "output_type": "stream",
     "text": [
      "Training Set R^2: 0.6291103084866185\n",
      "Training Set Root Mean Squared Error: 16.993965326455413\n"
     ]
    }
   ],
   "source": [
    "print(\"Training Set R^2: {}\".format(lr_49.score(X_train, y_train)))\n",
    "rmse_49_train = np.sqrt(mean_squared_error(y_train, y_pred_49_train))\n",
    "print(\"Training Set Root Mean Squared Error: {}\".format(rmse_49_train))"
   ]
  },
  {
   "cell_type": "code",
   "execution_count": 362,
   "metadata": {},
   "outputs": [
    {
     "data": {
      "text/plain": [
       "array([180.71337891, 167.59277344, 160.66894531, 169.24316406,\n",
       "       182.73681641, 195.61767578, 174.82421875, 162.75244141,\n",
       "       175.49511719, 172.58837891, 175.39160156, 214.3972168 ,\n",
       "       158.22802734, 158.34765625, 221.13232422, 115.6875    ,\n",
       "       194.80957031, 211.68847656, 212.22851562, 181.5       ])"
      ]
     },
     "execution_count": 362,
     "metadata": {},
     "output_type": "execute_result"
    }
   ],
   "source": [
    "y_pred_49_test = lr_49.predict(X_test)\n",
    "y_pred_49_test[0:20]"
   ]
  },
  {
   "cell_type": "code",
   "execution_count": 363,
   "metadata": {
    "scrolled": true
   },
   "outputs": [
    {
     "name": "stdout",
     "output_type": "stream",
     "text": [
      "Test Set R^2: 0.603181107989073\n",
      "Test Set Root Mean Squared Error: 17.022592089033253\n"
     ]
    }
   ],
   "source": [
    "print(\"Test Set R^2: {}\".format(lr_49.score(X_test, y_test)))\n",
    "rmse_49_test = np.sqrt(mean_squared_error(y_test, y_pred_49_test))\n",
    "print(\"Test Set Root Mean Squared Error: {}\".format(rmse_49_test))"
   ]
  },
  {
   "cell_type": "code",
   "execution_count": 364,
   "metadata": {},
   "outputs": [],
   "source": [
    "filename = 'cancer_lr_49.sav'\n",
    "pickle.dump(lr_49, open(filename, 'wb'))"
   ]
  },
  {
   "cell_type": "code",
   "execution_count": 365,
   "metadata": {},
   "outputs": [],
   "source": [
    "lr_50 = KernelRidge(alpha=0.01)"
   ]
  },
  {
   "cell_type": "code",
   "execution_count": 366,
   "metadata": {
    "scrolled": false
   },
   "outputs": [
    {
     "name": "stderr",
     "output_type": "stream",
     "text": [
      "/Users/DanLoew/anaconda3/lib/python3.7/site-packages/sklearn/linear_model/ridge.py:167: UserWarning: Singular matrix in solving dual problem. Using least-squares solution instead.\n",
      "  warnings.warn(\"Singular matrix in solving dual problem. Using \"\n"
     ]
    },
    {
     "data": {
      "text/plain": [
       "KernelRidge(alpha=0.01, coef0=1, degree=3, gamma=None, kernel='linear',\n",
       "      kernel_params=None)"
      ]
     },
     "execution_count": 366,
     "metadata": {},
     "output_type": "execute_result"
    }
   ],
   "source": [
    "lr_50.fit(X_train, y_train)"
   ]
  },
  {
   "cell_type": "code",
   "execution_count": 367,
   "metadata": {
    "scrolled": true
   },
   "outputs": [
    {
     "data": {
      "text/plain": [
       "array([191.40185547, 187.95019531, 222.46899414, 136.38671875,\n",
       "       227.4375    , 194.4140625 , 173.64819336, 173.65722656,\n",
       "       194.81347656, 225.89208984, 202.29101562, 172.99316406,\n",
       "       202.61523438, 187.43847656, 157.39916992, 184.81445312,\n",
       "       199.26904297, 150.95019531, 173.95458984, 179.80566406])"
      ]
     },
     "execution_count": 367,
     "metadata": {},
     "output_type": "execute_result"
    }
   ],
   "source": [
    "y_pred_50_train = lr_50.predict(X_train)\n",
    "y_pred_50_train[0:20]"
   ]
  },
  {
   "cell_type": "code",
   "execution_count": 368,
   "metadata": {
    "scrolled": false
   },
   "outputs": [
    {
     "name": "stdout",
     "output_type": "stream",
     "text": [
      "Training Set R^2: 0.630038350739973\n",
      "Training Set Root Mean Squared Error: 16.972690812438007\n"
     ]
    }
   ],
   "source": [
    "print(\"Training Set R^2: {}\".format(lr_50.score(X_train, y_train)))\n",
    "rmse_50_train = np.sqrt(mean_squared_error(y_train, y_pred_50_train))\n",
    "print(\"Training Set Root Mean Squared Error: {}\".format(rmse_50_train))"
   ]
  },
  {
   "cell_type": "code",
   "execution_count": 369,
   "metadata": {},
   "outputs": [
    {
     "data": {
      "text/plain": [
       "array([176.32470703, 175.87402344, 159.48779297, 174.99707031,\n",
       "       180.28564453, 197.8203125 , 173.80566406, 158.22167969,\n",
       "       176.15332031, 168.86181641, 178.43798828, 206.50048828,\n",
       "       158.88818359, 155.96289062, 224.34423828, 113.25      ,\n",
       "       188.57177734, 210.54980469, 202.35888672, 184.76953125])"
      ]
     },
     "execution_count": 369,
     "metadata": {},
     "output_type": "execute_result"
    }
   ],
   "source": [
    "y_pred_50_test = lr_50.predict(X_test)\n",
    "y_pred_50_test[0:20]"
   ]
  },
  {
   "cell_type": "code",
   "execution_count": 370,
   "metadata": {
    "scrolled": true
   },
   "outputs": [
    {
     "name": "stdout",
     "output_type": "stream",
     "text": [
      "Test Set R^2: 0.6181338599567342\n",
      "Test Set Root Mean Squared Error: 16.69879364248533\n"
     ]
    }
   ],
   "source": [
    "print(\"Test Set R^2: {}\".format(lr_50.score(X_test, y_test)))\n",
    "rmse_50_test = np.sqrt(mean_squared_error(y_test, y_pred_50_test))\n",
    "print(\"Test Set Root Mean Squared Error: {}\".format(rmse_50_test))"
   ]
  },
  {
   "cell_type": "code",
   "execution_count": 371,
   "metadata": {},
   "outputs": [],
   "source": [
    "filename = 'cancer_lr_50.sav'\n",
    "pickle.dump(lr_50, open(filename, 'wb'))"
   ]
  },
  {
   "cell_type": "code",
   "execution_count": 372,
   "metadata": {},
   "outputs": [],
   "source": [
    "lr_51 = KernelRidge(alpha=0.1)"
   ]
  },
  {
   "cell_type": "code",
   "execution_count": 373,
   "metadata": {
    "scrolled": true
   },
   "outputs": [
    {
     "name": "stderr",
     "output_type": "stream",
     "text": [
      "/Users/DanLoew/anaconda3/lib/python3.7/site-packages/sklearn/linear_model/ridge.py:167: UserWarning: Singular matrix in solving dual problem. Using least-squares solution instead.\n",
      "  warnings.warn(\"Singular matrix in solving dual problem. Using \"\n"
     ]
    },
    {
     "data": {
      "text/plain": [
       "KernelRidge(alpha=0.1, coef0=1, degree=3, gamma=None, kernel='linear',\n",
       "      kernel_params=None)"
      ]
     },
     "execution_count": 373,
     "metadata": {},
     "output_type": "execute_result"
    }
   ],
   "source": [
    "lr_51.fit(X_train, y_train)"
   ]
  },
  {
   "cell_type": "code",
   "execution_count": 374,
   "metadata": {
    "scrolled": true
   },
   "outputs": [
    {
     "data": {
      "text/plain": [
       "array([201.875    , 198.671875 , 201.421875 , 145.5      , 242.375    ,\n",
       "       177.09375  , 167.3125   , 191.78125  , 194.578125 , 215.59375  ,\n",
       "       180.03125  , 172.875    , 195.59375  , 196.734375 , 154.9609375,\n",
       "       198.6875   , 218.625    , 138.0625   , 170.125    , 190.75     ])"
      ]
     },
     "execution_count": 374,
     "metadata": {},
     "output_type": "execute_result"
    }
   ],
   "source": [
    "y_pred_51_train = lr_51.predict(X_train)\n",
    "y_pred_51_train[0:20]"
   ]
  },
  {
   "cell_type": "code",
   "execution_count": 375,
   "metadata": {
    "scrolled": false
   },
   "outputs": [
    {
     "name": "stdout",
     "output_type": "stream",
     "text": [
      "Training Set R^2: 0.44655258186024793\n",
      "Training Set Root Mean Squared Error: 20.759195998773926\n"
     ]
    }
   ],
   "source": [
    "print(\"Training Set R^2: {}\".format(lr_51.score(X_train, y_train)))\n",
    "rmse_51_train = np.sqrt(mean_squared_error(y_train, y_pred_51_train))\n",
    "print(\"Training Set Root Mean Squared Error: {}\".format(rmse_51_train))"
   ]
  },
  {
   "cell_type": "code",
   "execution_count": 376,
   "metadata": {},
   "outputs": [
    {
     "data": {
      "text/plain": [
       "array([163.0625   , 152.875    , 160.140625 , 175.34375  , 170.34375  ,\n",
       "       209.5234375, 179.8125   , 159.40625  , 160.5      , 177.15625  ,\n",
       "       167.609375 , 206.828125 , 163.765625 , 155.9375   , 221.4921875,\n",
       "       143.25     , 177.15625  , 201.890625 , 231.28125  , 189.25     ])"
      ]
     },
     "execution_count": 376,
     "metadata": {},
     "output_type": "execute_result"
    }
   ],
   "source": [
    "y_pred_51_test = lr_51.predict(X_test)\n",
    "y_pred_51_test[0:20]"
   ]
  },
  {
   "cell_type": "code",
   "execution_count": 377,
   "metadata": {
    "scrolled": true
   },
   "outputs": [
    {
     "name": "stdout",
     "output_type": "stream",
     "text": [
      "Test Set R^2: 0.37831458951180963\n",
      "Test Set Root Mean Squared Error: 21.306634701441272\n"
     ]
    }
   ],
   "source": [
    "print(\"Test Set R^2: {}\".format(lr_51.score(X_test, y_test)))\n",
    "rmse_51_test = np.sqrt(mean_squared_error(y_test, y_pred_51_test))\n",
    "print(\"Test Set Root Mean Squared Error: {}\".format(rmse_51_test))"
   ]
  },
  {
   "cell_type": "code",
   "execution_count": 378,
   "metadata": {},
   "outputs": [],
   "source": [
    "filename = 'cancer_lr_51.sav'\n",
    "pickle.dump(lr_51, open(filename, 'wb'))"
   ]
  },
  {
   "cell_type": "code",
   "execution_count": 379,
   "metadata": {},
   "outputs": [],
   "source": [
    "lr_52 = KernelRidge(alpha=1)"
   ]
  },
  {
   "cell_type": "code",
   "execution_count": 380,
   "metadata": {
    "scrolled": true
   },
   "outputs": [
    {
     "name": "stderr",
     "output_type": "stream",
     "text": [
      "/Users/DanLoew/anaconda3/lib/python3.7/site-packages/sklearn/linear_model/ridge.py:165: LinAlgWarning: Ill-conditioned matrix (rcond=2.929e-17): result may not be accurate.\n",
      "  overwrite_a=False)\n"
     ]
    },
    {
     "data": {
      "text/plain": [
       "KernelRidge(alpha=1, coef0=1, degree=3, gamma=None, kernel='linear',\n",
       "      kernel_params=None)"
      ]
     },
     "execution_count": 380,
     "metadata": {},
     "output_type": "execute_result"
    }
   ],
   "source": [
    "lr_52.fit(X_train, y_train)"
   ]
  },
  {
   "cell_type": "code",
   "execution_count": 381,
   "metadata": {
    "scrolled": true
   },
   "outputs": [
    {
     "data": {
      "text/plain": [
       "array([193.625     , 189.25488281, 217.14257812, 141.390625  ,\n",
       "       224.11328125, 196.20898438, 175.10546875, 168.9375    ,\n",
       "       197.72167969, 228.29394531, 197.48828125, 176.27734375,\n",
       "       203.99853516, 190.0546875 , 153.36083984, 187.3515625 ,\n",
       "       199.84375   , 158.39453125, 175.2578125 , 173.89453125])"
      ]
     },
     "execution_count": 381,
     "metadata": {},
     "output_type": "execute_result"
    }
   ],
   "source": [
    "y_pred_52_train = lr_52.predict(X_train)\n",
    "y_pred_52_train[0:20]"
   ]
  },
  {
   "cell_type": "code",
   "execution_count": 382,
   "metadata": {
    "scrolled": false
   },
   "outputs": [
    {
     "name": "stdout",
     "output_type": "stream",
     "text": [
      "Training Set R^2: 0.6386811725115132\n",
      "Training Set Root Mean Squared Error: 16.773266318033475\n"
     ]
    }
   ],
   "source": [
    "print(\"Training Set R^2: {}\".format(lr_52.score(X_train, y_train)))\n",
    "rmse_52_train = np.sqrt(mean_squared_error(y_train, y_pred_52_train))\n",
    "print(\"Training Set Root Mean Squared Error: {}\".format(rmse_52_train))"
   ]
  },
  {
   "cell_type": "code",
   "execution_count": 383,
   "metadata": {
    "scrolled": true
   },
   "outputs": [
    {
     "data": {
      "text/plain": [
       "array([178.38867188, 174.3359375 , 162.31347656, 172.25097656,\n",
       "       176.93554688, 194.81054688, 172.359375  , 164.22070312,\n",
       "       174.30273438, 174.80761719, 176.32226562, 205.87939453,\n",
       "       156.2109375 , 157.62890625, 221.03955078, 118.984375  ,\n",
       "       190.14453125, 208.2734375 , 209.22460938, 181.390625  ])"
      ]
     },
     "execution_count": 383,
     "metadata": {},
     "output_type": "execute_result"
    }
   ],
   "source": [
    "y_pred_52_test = lr_52.predict(X_test)\n",
    "y_pred_52_test[0:20]"
   ]
  },
  {
   "cell_type": "code",
   "execution_count": 384,
   "metadata": {
    "scrolled": false
   },
   "outputs": [
    {
     "name": "stdout",
     "output_type": "stream",
     "text": [
      "Test Set R^2: 0.6214959313334742\n",
      "Test Set Root Mean Squared Error: 16.625120368740458\n"
     ]
    }
   ],
   "source": [
    "print(\"Test Set R^2: {}\".format(lr_52.score(X_test, y_test)))\n",
    "rmse_52_test = np.sqrt(mean_squared_error(y_test, y_pred_52_test))\n",
    "print(\"Test Set Root Mean Squared Error: {}\".format(rmse_52_test))"
   ]
  },
  {
   "cell_type": "code",
   "execution_count": 385,
   "metadata": {},
   "outputs": [],
   "source": [
    "filename = 'cancer_lr_52.sav'\n",
    "pickle.dump(lr_52, open(filename, 'wb'))"
   ]
  },
  {
   "cell_type": "code",
   "execution_count": 386,
   "metadata": {},
   "outputs": [],
   "source": [
    "lr_53 = KernelRidge(alpha=10)"
   ]
  },
  {
   "cell_type": "code",
   "execution_count": 387,
   "metadata": {
    "scrolled": true
   },
   "outputs": [
    {
     "data": {
      "text/plain": [
       "KernelRidge(alpha=10, coef0=1, degree=3, gamma=None, kernel='linear',\n",
       "      kernel_params=None)"
      ]
     },
     "execution_count": 387,
     "metadata": {},
     "output_type": "execute_result"
    }
   ],
   "source": [
    "lr_53.fit(X_train, y_train)"
   ]
  },
  {
   "cell_type": "code",
   "execution_count": 388,
   "metadata": {
    "scrolled": true
   },
   "outputs": [
    {
     "data": {
      "text/plain": [
       "array([194.03503418, 189.13989258, 216.0703125 , 142.99169922,\n",
       "       222.52612305, 196.88623047, 175.72167969, 167.33496094,\n",
       "       196.08496094, 224.34521484, 200.53588867, 176.9309082 ,\n",
       "       204.23400879, 191.92492676, 150.90991211, 187.34570312,\n",
       "       200.32922363, 157.98046875, 174.4083252 , 173.82983398])"
      ]
     },
     "execution_count": 388,
     "metadata": {},
     "output_type": "execute_result"
    }
   ],
   "source": [
    "y_pred_53_train = lr_53.predict(X_train)\n",
    "y_pred_53_train[0:20]"
   ]
  },
  {
   "cell_type": "code",
   "execution_count": 389,
   "metadata": {
    "scrolled": false
   },
   "outputs": [
    {
     "name": "stdout",
     "output_type": "stream",
     "text": [
      "Training Set R^2: 0.6316864121353101\n",
      "Training Set Root Mean Squared Error: 16.934844649507372\n"
     ]
    }
   ],
   "source": [
    "print(\"Training Set R^2: {}\".format(lr_53.score(X_train, y_train)))\n",
    "rmse_53_train = np.sqrt(mean_squared_error(y_train, y_pred_53_train))\n",
    "print(\"Training Set Root Mean Squared Error: {}\".format(rmse_53_train))"
   ]
  },
  {
   "cell_type": "code",
   "execution_count": 390,
   "metadata": {
    "scrolled": true
   },
   "outputs": [
    {
     "data": {
      "text/plain": [
       "array([181.58728027, 174.14404297, 162.22131348, 172.22045898,\n",
       "       174.53308105, 195.29263306, 174.00512695, 165.0201416 ,\n",
       "       173.32641602, 175.67053223, 177.41589355, 204.43237305,\n",
       "       155.89208984, 157.5625    , 221.60031128, 123.77734375,\n",
       "       192.3671875 , 208.20361328, 208.70166016, 181.30078125])"
      ]
     },
     "execution_count": 390,
     "metadata": {},
     "output_type": "execute_result"
    }
   ],
   "source": [
    "y_pred_53_test = lr_53.predict(X_test)\n",
    "y_pred_53_test[0:20]"
   ]
  },
  {
   "cell_type": "code",
   "execution_count": 391,
   "metadata": {
    "scrolled": false
   },
   "outputs": [
    {
     "name": "stdout",
     "output_type": "stream",
     "text": [
      "Test Set R^2: 0.6130379530239716\n",
      "Test Set Root Mean Squared Error: 16.80984496849494\n"
     ]
    }
   ],
   "source": [
    "print(\"Test Set R^2: {}\".format(lr_53.score(X_test, y_test)))\n",
    "rmse_53_test = np.sqrt(mean_squared_error(y_test, y_pred_53_test))\n",
    "print(\"Test Set Root Mean Squared Error: {}\".format(rmse_53_test))"
   ]
  },
  {
   "cell_type": "code",
   "execution_count": 392,
   "metadata": {},
   "outputs": [],
   "source": [
    "filename = 'cancer_lr_53.sav'\n",
    "pickle.dump(lr_53, open(filename, 'wb'))"
   ]
  },
  {
   "cell_type": "code",
   "execution_count": 393,
   "metadata": {},
   "outputs": [],
   "source": [
    "lr_54 = KernelRidge(alpha=100)"
   ]
  },
  {
   "cell_type": "code",
   "execution_count": 394,
   "metadata": {
    "scrolled": true
   },
   "outputs": [
    {
     "data": {
      "text/plain": [
       "KernelRidge(alpha=100, coef0=1, degree=3, gamma=None, kernel='linear',\n",
       "      kernel_params=None)"
      ]
     },
     "execution_count": 394,
     "metadata": {},
     "output_type": "execute_result"
    }
   ],
   "source": [
    "lr_54.fit(X_train, y_train)"
   ]
  },
  {
   "cell_type": "code",
   "execution_count": 395,
   "metadata": {
    "scrolled": true
   },
   "outputs": [
    {
     "data": {
      "text/plain": [
       "array([194.27999878, 191.63922119, 213.5586853 , 144.55993652,\n",
       "       219.12432861, 196.34516907, 177.9866333 , 164.39651489,\n",
       "       192.6421051 , 218.21209717, 206.08609009, 177.22161865,\n",
       "       204.41228867, 193.63691711, 150.74695969, 187.35882568,\n",
       "       202.11616516, 156.47476196, 170.81845093, 175.20217896])"
      ]
     },
     "execution_count": 395,
     "metadata": {},
     "output_type": "execute_result"
    }
   ],
   "source": [
    "y_pred_54_train = lr_54.predict(X_train)\n",
    "y_pred_54_train[0:20]"
   ]
  },
  {
   "cell_type": "code",
   "execution_count": 396,
   "metadata": {
    "scrolled": false
   },
   "outputs": [
    {
     "name": "stdout",
     "output_type": "stream",
     "text": [
      "Training Set R^2: 0.6208188127114724\n",
      "Training Set Root Mean Squared Error: 17.182871309934015\n"
     ]
    }
   ],
   "source": [
    "print(\"Training Set R^2: {}\".format(lr_54.score(X_train, y_train)))\n",
    "rmse_54_train = np.sqrt(mean_squared_error(y_train, y_pred_54_train))\n",
    "print(\"Training Set Root Mean Squared Error: {}\".format(rmse_54_train))"
   ]
  },
  {
   "cell_type": "code",
   "execution_count": 397,
   "metadata": {
    "scrolled": true
   },
   "outputs": [
    {
     "data": {
      "text/plain": [
       "array([183.81860352, 173.63378906, 162.44210815, 173.29011536,\n",
       "       173.89500427, 196.84836197, 174.80953979, 167.34169006,\n",
       "       172.41021729, 175.53666687, 181.84016418, 199.61958313,\n",
       "       155.51068115, 157.33041382, 220.95731735, 126.10766602,\n",
       "       193.97149658, 207.45852661, 204.79031372, 182.30212402])"
      ]
     },
     "execution_count": 397,
     "metadata": {},
     "output_type": "execute_result"
    }
   ],
   "source": [
    "y_pred_54_test = lr_54.predict(X_test)\n",
    "y_pred_54_test[0:20]"
   ]
  },
  {
   "cell_type": "code",
   "execution_count": 398,
   "metadata": {
    "scrolled": false
   },
   "outputs": [
    {
     "name": "stdout",
     "output_type": "stream",
     "text": [
      "Test Set R^2: 0.6075548661582504\n",
      "Test Set Root Mean Squared Error: 16.928520213234147\n"
     ]
    }
   ],
   "source": [
    "print(\"Test Set R^2: {}\".format(lr_54.score(X_test, y_test)))\n",
    "rmse_54_test = np.sqrt(mean_squared_error(y_test, y_pred_54_test))\n",
    "print(\"Test Set Root Mean Squared Error: {}\".format(rmse_54_test))"
   ]
  },
  {
   "cell_type": "code",
   "execution_count": 399,
   "metadata": {},
   "outputs": [],
   "source": [
    "filename = 'cancer_lr_54.sav'\n",
    "pickle.dump(lr_54, open(filename, 'wb'))"
   ]
  },
  {
   "cell_type": "markdown",
   "metadata": {},
   "source": [
    "## Random Forest"
   ]
  },
  {
   "cell_type": "code",
   "execution_count": 400,
   "metadata": {},
   "outputs": [],
   "source": [
    "rfr_1 = RandomForestRegressor(n_estimators=10, random_state=0)"
   ]
  },
  {
   "cell_type": "code",
   "execution_count": 401,
   "metadata": {
    "scrolled": true
   },
   "outputs": [
    {
     "data": {
      "text/plain": [
       "RandomForestRegressor(bootstrap=True, criterion='mse', max_depth=None,\n",
       "           max_features='auto', max_leaf_nodes=None,\n",
       "           min_impurity_decrease=0.0, min_impurity_split=None,\n",
       "           min_samples_leaf=1, min_samples_split=2,\n",
       "           min_weight_fraction_leaf=0.0, n_estimators=10, n_jobs=None,\n",
       "           oob_score=False, random_state=0, verbose=0, warm_start=False)"
      ]
     },
     "execution_count": 401,
     "metadata": {},
     "output_type": "execute_result"
    }
   ],
   "source": [
    "rfr_1.fit(X_train, y_train)"
   ]
  },
  {
   "cell_type": "code",
   "execution_count": 402,
   "metadata": {},
   "outputs": [],
   "source": [
    "rfr_pred_1_train = rfr_1.predict(X_train)"
   ]
  },
  {
   "cell_type": "code",
   "execution_count": 403,
   "metadata": {},
   "outputs": [
    {
     "data": {
      "text/plain": [
       "0.9154742926585733"
      ]
     },
     "execution_count": 403,
     "metadata": {},
     "output_type": "execute_result"
    }
   ],
   "source": [
    "rfr_1.score(X_train, y_train)"
   ]
  },
  {
   "cell_type": "code",
   "execution_count": 404,
   "metadata": {
    "scrolled": false
   },
   "outputs": [
    {
     "name": "stdout",
     "output_type": "stream",
     "text": [
      "Mean Absolute Error Train: 5.717845711940911\n",
      "Mean Squared Error Train: 65.81630648338121\n",
      "Root Mean Squared Error Train: 8.11272497274382\n"
     ]
    }
   ],
   "source": [
    "print('Mean Absolute Error Train:', metrics.mean_absolute_error(y_train, rfr_pred_1_train))\n",
    "print('Mean Squared Error Train:', metrics.mean_squared_error(y_train, rfr_pred_1_train))\n",
    "print('Root Mean Squared Error Train:', np.sqrt(metrics.mean_squared_error(y_train, rfr_pred_1_train)))"
   ]
  },
  {
   "cell_type": "code",
   "execution_count": 405,
   "metadata": {},
   "outputs": [],
   "source": [
    "rfr_pred_1_test = rfr_1.predict(X_test)"
   ]
  },
  {
   "cell_type": "code",
   "execution_count": 406,
   "metadata": {},
   "outputs": [
    {
     "data": {
      "text/plain": [
       "0.5165718288315223"
      ]
     },
     "execution_count": 406,
     "metadata": {},
     "output_type": "execute_result"
    }
   ],
   "source": [
    "rfr_1.score(X_test, y_test)"
   ]
  },
  {
   "cell_type": "code",
   "execution_count": 407,
   "metadata": {
    "scrolled": true
   },
   "outputs": [
    {
     "name": "stdout",
     "output_type": "stream",
     "text": [
      "Mean Absolute Error Test: 14.058147540983606\n",
      "Mean Squared Error Test: 353.0132440983606\n",
      "Root Mean Squared Error Test: 18.7886466808645\n"
     ]
    }
   ],
   "source": [
    "print('Mean Absolute Error Test:', metrics.mean_absolute_error(y_test, rfr_pred_1_test))\n",
    "print('Mean Squared Error Test:', metrics.mean_squared_error(y_test, rfr_pred_1_test))\n",
    "print('Root Mean Squared Error Test:', np.sqrt(metrics.mean_squared_error(y_test, rfr_pred_1_test)))"
   ]
  },
  {
   "cell_type": "code",
   "execution_count": 408,
   "metadata": {},
   "outputs": [],
   "source": [
    "rfr_2 = RandomForestRegressor(n_estimators=100, random_state=0)"
   ]
  },
  {
   "cell_type": "code",
   "execution_count": 409,
   "metadata": {
    "scrolled": true
   },
   "outputs": [
    {
     "data": {
      "text/plain": [
       "RandomForestRegressor(bootstrap=True, criterion='mse', max_depth=None,\n",
       "           max_features='auto', max_leaf_nodes=None,\n",
       "           min_impurity_decrease=0.0, min_impurity_split=None,\n",
       "           min_samples_leaf=1, min_samples_split=2,\n",
       "           min_weight_fraction_leaf=0.0, n_estimators=100, n_jobs=None,\n",
       "           oob_score=False, random_state=0, verbose=0, warm_start=False)"
      ]
     },
     "execution_count": 409,
     "metadata": {},
     "output_type": "execute_result"
    }
   ],
   "source": [
    "rfr_2.fit(X_train, y_train)"
   ]
  },
  {
   "cell_type": "code",
   "execution_count": 410,
   "metadata": {},
   "outputs": [],
   "source": [
    "rfr_pred_2_train = rfr_2.predict(X_train)"
   ]
  },
  {
   "cell_type": "code",
   "execution_count": 411,
   "metadata": {},
   "outputs": [
    {
     "data": {
      "text/plain": [
       "0.9389100918635918"
      ]
     },
     "execution_count": 411,
     "metadata": {},
     "output_type": "execute_result"
    }
   ],
   "source": [
    "rfr_2.score(X_train, y_train)"
   ]
  },
  {
   "cell_type": "code",
   "execution_count": 412,
   "metadata": {
    "scrolled": false
   },
   "outputs": [
    {
     "name": "stdout",
     "output_type": "stream",
     "text": [
      "Mean Absolute Error Train: 5.02971768567911\n",
      "Mean Squared Error Train: 47.56792038079601\n",
      "Root Mean Squared Error Train: 6.896950078171946\n"
     ]
    }
   ],
   "source": [
    "print('Mean Absolute Error Train:', metrics.mean_absolute_error(y_train, rfr_pred_2_train))\n",
    "print('Mean Squared Error Train:', metrics.mean_squared_error(y_train, rfr_pred_2_train))\n",
    "print('Root Mean Squared Error Train:', np.sqrt(metrics.mean_squared_error(y_train, rfr_pred_2_train)))"
   ]
  },
  {
   "cell_type": "code",
   "execution_count": 413,
   "metadata": {},
   "outputs": [],
   "source": [
    "rfr_pred_2_test = rfr_2.predict(X_test)"
   ]
  },
  {
   "cell_type": "code",
   "execution_count": 414,
   "metadata": {},
   "outputs": [
    {
     "data": {
      "text/plain": [
       "0.567818289853375"
      ]
     },
     "execution_count": 414,
     "metadata": {},
     "output_type": "execute_result"
    }
   ],
   "source": [
    "rfr_2.score(X_test, y_test)"
   ]
  },
  {
   "cell_type": "code",
   "execution_count": 415,
   "metadata": {
    "scrolled": false
   },
   "outputs": [
    {
     "name": "stdout",
     "output_type": "stream",
     "text": [
      "Mean Absolute Error Test: 13.18401639344262\n",
      "Mean Squared Error Test: 315.59159485901637\n",
      "Root Mean Squared Error Test: 17.76489782855551\n"
     ]
    }
   ],
   "source": [
    "print('Mean Absolute Error Test:', metrics.mean_absolute_error(y_test, rfr_pred_2_test))\n",
    "print('Mean Squared Error Test:', metrics.mean_squared_error(y_test, rfr_pred_2_test))\n",
    "print('Root Mean Squared Error Test:', np.sqrt(metrics.mean_squared_error(y_test, rfr_pred_2_test)))"
   ]
  },
  {
   "cell_type": "code",
   "execution_count": 416,
   "metadata": {},
   "outputs": [],
   "source": [
    "rfr_3 = RandomForestRegressor(n_estimators=1000, random_state=0)"
   ]
  },
  {
   "cell_type": "code",
   "execution_count": 417,
   "metadata": {
    "scrolled": true
   },
   "outputs": [
    {
     "data": {
      "text/plain": [
       "RandomForestRegressor(bootstrap=True, criterion='mse', max_depth=None,\n",
       "           max_features='auto', max_leaf_nodes=None,\n",
       "           min_impurity_decrease=0.0, min_impurity_split=None,\n",
       "           min_samples_leaf=1, min_samples_split=2,\n",
       "           min_weight_fraction_leaf=0.0, n_estimators=1000, n_jobs=None,\n",
       "           oob_score=False, random_state=0, verbose=0, warm_start=False)"
      ]
     },
     "execution_count": 417,
     "metadata": {},
     "output_type": "execute_result"
    }
   ],
   "source": [
    "rfr_3.fit(X_train, y_train)"
   ]
  },
  {
   "cell_type": "code",
   "execution_count": 418,
   "metadata": {},
   "outputs": [],
   "source": [
    "rfr_pred_3_train = rfr_3.predict(X_train)"
   ]
  },
  {
   "cell_type": "code",
   "execution_count": 419,
   "metadata": {},
   "outputs": [
    {
     "data": {
      "text/plain": [
       "0.9426262185276223"
      ]
     },
     "execution_count": 419,
     "metadata": {},
     "output_type": "execute_result"
    }
   ],
   "source": [
    "rfr_3.score(X_train, y_train)"
   ]
  },
  {
   "cell_type": "code",
   "execution_count": 420,
   "metadata": {
    "scrolled": false
   },
   "outputs": [
    {
     "name": "stdout",
     "output_type": "stream",
     "text": [
      "Mean Absolute Error Train: 4.890899917931911\n",
      "Mean Squared Error Train: 44.67434233047628\n",
      "Root Mean Squared Error Train: 6.683886768226724\n"
     ]
    }
   ],
   "source": [
    "print('Mean Absolute Error Train:', metrics.mean_absolute_error(y_train, rfr_pred_3_train))\n",
    "print('Mean Squared Error Train:', metrics.mean_squared_error(y_train, rfr_pred_3_train))\n",
    "print('Root Mean Squared Error Train:', np.sqrt(metrics.mean_squared_error(y_train, rfr_pred_3_train)))"
   ]
  },
  {
   "cell_type": "code",
   "execution_count": 421,
   "metadata": {},
   "outputs": [],
   "source": [
    "rfr_pred_3_test = rfr_3.predict(X_test)"
   ]
  },
  {
   "cell_type": "code",
   "execution_count": 422,
   "metadata": {},
   "outputs": [
    {
     "data": {
      "text/plain": [
       "0.5713508272227407"
      ]
     },
     "execution_count": 422,
     "metadata": {},
     "output_type": "execute_result"
    }
   ],
   "source": [
    "rfr_3.score(X_test, y_test)"
   ]
  },
  {
   "cell_type": "code",
   "execution_count": 423,
   "metadata": {
    "scrolled": false
   },
   "outputs": [
    {
     "name": "stdout",
     "output_type": "stream",
     "text": [
      "Mean Absolute Error Test: 13.116432295081951\n",
      "Mean Squared Error Test: 313.01203381762264\n",
      "Root Mean Squared Error Test: 17.692146105479196\n"
     ]
    }
   ],
   "source": [
    "print('Mean Absolute Error Test:', metrics.mean_absolute_error(y_test, rfr_pred_3_test))\n",
    "print('Mean Squared Error Test:', metrics.mean_squared_error(y_test, rfr_pred_3_test))\n",
    "print('Root Mean Squared Error Test:', np.sqrt(metrics.mean_squared_error(y_test, rfr_pred_3_test)))"
   ]
  },
  {
   "cell_type": "markdown",
   "metadata": {},
   "source": [
    "## Best Performing Algorithm"
   ]
  },
  {
   "cell_type": "markdown",
   "metadata": {},
   "source": [
    "The best performing algorithm is the unscaled, Ridge Regression algorithm using unscaled data and the automatic solver with an Alpha of 0.001. This algorithm has an accuracy of 0.6465 and a Root Mean Squared Error (RMSE) of 16.6 for the training set. The test set has an accuracy of 0.6408 and a Root Mean Squared Error (RMSE) of 16.2."
   ]
  }
 ],
 "metadata": {
  "kernelspec": {
   "display_name": "Python 3",
   "language": "python",
   "name": "python3"
  },
  "language_info": {
   "codemirror_mode": {
    "name": "ipython",
    "version": 3
   },
   "file_extension": ".py",
   "mimetype": "text/x-python",
   "name": "python",
   "nbconvert_exporter": "python",
   "pygments_lexer": "ipython3",
   "version": "3.7.3"
  }
 },
 "nbformat": 4,
 "nbformat_minor": 2
}
