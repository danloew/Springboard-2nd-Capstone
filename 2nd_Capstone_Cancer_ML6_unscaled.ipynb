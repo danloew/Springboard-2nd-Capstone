{
 "cells": [
  {
   "cell_type": "markdown",
   "metadata": {},
   "source": [
    "# Exploration of Socioeconomic Influences on Cancer Mortality:\n",
    "# Machine Learning with Unscaled Data"
   ]
  },
  {
   "cell_type": "code",
   "execution_count": 264,
   "metadata": {},
   "outputs": [],
   "source": [
    "import csv\n",
    "import numpy as np\n",
    "import pandas as pd\n",
    "import matplotlib.pyplot as plt\n",
    "import sklearn\n",
    "from tensorflow import keras\n",
    "from sklearn.preprocessing import MinMaxScaler #StandardScaler?\n",
    "from sklearn import linear_model\n",
    "from sklearn.linear_model import Ridge\n",
    "from sklearn.kernel_ridge import KernelRidge\n",
    "from sklearn.linear_model import Lasso\n",
    "from sklearn.linear_model import ElasticNet\n",
    "from sklearn.linear_model import SGDRegressor\n",
    "from sklearn.ensemble import RandomForestRegressor\n",
    "from sklearn.model_selection import train_test_split\n",
    "from sklearn.model_selection import cross_val_score\n",
    "from sklearn import metrics\n",
    "from sklearn.metrics import roc_curve\n",
    "from sklearn.metrics import roc_auc_score\n",
    "from sklearn.metrics import mean_squared_error\n",
    "from tensorflow.keras.layers import Dense\n",
    "from tensorflow.keras.models import Sequential\n",
    "import pickle"
   ]
  },
  {
   "cell_type": "code",
   "execution_count": 2,
   "metadata": {},
   "outputs": [],
   "source": [
    "df = pd.read_csv('cancer_ml6_ml.csv', index_col=['Geography'])"
   ]
  },
  {
   "cell_type": "code",
   "execution_count": 3,
   "metadata": {
    "scrolled": true
   },
   "outputs": [
    {
     "data": {
      "text/html": [
       "<div>\n",
       "<style scoped>\n",
       "    .dataframe tbody tr th:only-of-type {\n",
       "        vertical-align: middle;\n",
       "    }\n",
       "\n",
       "    .dataframe tbody tr th {\n",
       "        vertical-align: top;\n",
       "    }\n",
       "\n",
       "    .dataframe thead th {\n",
       "        text-align: right;\n",
       "    }\n",
       "</style>\n",
       "<table border=\"1\" class=\"dataframe\">\n",
       "  <thead>\n",
       "    <tr style=\"text-align: right;\">\n",
       "      <th></th>\n",
       "      <th>avgAnnCount</th>\n",
       "      <th>TARGET_deathRate</th>\n",
       "      <th>incidenceRate</th>\n",
       "      <th>medIncome</th>\n",
       "      <th>popEst2015</th>\n",
       "      <th>povertyPercent</th>\n",
       "      <th>studyPerCap</th>\n",
       "      <th>MedianAge</th>\n",
       "      <th>MedianAgeMale</th>\n",
       "      <th>MedianAgeFemale</th>\n",
       "      <th>...</th>\n",
       "      <th>city_min_distsl1_sqrd</th>\n",
       "      <th>sc_min_dists_l1_log</th>\n",
       "      <th>PCT_LACCESS_CHILD10_sqrd</th>\n",
       "      <th>PCT_LACCESS_HHNV10_sqrd</th>\n",
       "      <th>PC_DIRSALES07_sqrd</th>\n",
       "      <th>FMRKT13_sqrd</th>\n",
       "      <th>PCH_FMRKT_09_13_sqrd</th>\n",
       "      <th>PCT_OBESE_ADULTS13_log</th>\n",
       "      <th>PCT_OBESE_ADULTS13_sqrd</th>\n",
       "      <th>CHILDPOVRATE10_log</th>\n",
       "    </tr>\n",
       "    <tr>\n",
       "      <th>Geography</th>\n",
       "      <th></th>\n",
       "      <th></th>\n",
       "      <th></th>\n",
       "      <th></th>\n",
       "      <th></th>\n",
       "      <th></th>\n",
       "      <th></th>\n",
       "      <th></th>\n",
       "      <th></th>\n",
       "      <th></th>\n",
       "      <th></th>\n",
       "      <th></th>\n",
       "      <th></th>\n",
       "      <th></th>\n",
       "      <th></th>\n",
       "      <th></th>\n",
       "      <th></th>\n",
       "      <th></th>\n",
       "      <th></th>\n",
       "      <th></th>\n",
       "      <th></th>\n",
       "    </tr>\n",
       "  </thead>\n",
       "  <tbody>\n",
       "    <tr>\n",
       "      <th>Abbeville County, South Carolina</th>\n",
       "      <td>143.0</td>\n",
       "      <td>183.7</td>\n",
       "      <td>430.9</td>\n",
       "      <td>35525</td>\n",
       "      <td>24932</td>\n",
       "      <td>21.4</td>\n",
       "      <td>0.000000</td>\n",
       "      <td>43.3</td>\n",
       "      <td>40.7</td>\n",
       "      <td>44.9</td>\n",
       "      <td>...</td>\n",
       "      <td>5.827314</td>\n",
       "      <td>-0.674641</td>\n",
       "      <td>49.425404</td>\n",
       "      <td>36.601854</td>\n",
       "      <td>13.9129</td>\n",
       "      <td>4</td>\n",
       "      <td>0.00000</td>\n",
       "      <td>3.456317</td>\n",
       "      <td>1004.89</td>\n",
       "      <td>3.280911</td>\n",
       "    </tr>\n",
       "    <tr>\n",
       "      <th>Acadia Parish, Louisiana</th>\n",
       "      <td>323.0</td>\n",
       "      <td>230.5</td>\n",
       "      <td>492.7</td>\n",
       "      <td>40269</td>\n",
       "      <td>62577</td>\n",
       "      <td>22.0</td>\n",
       "      <td>0.000000</td>\n",
       "      <td>35.7</td>\n",
       "      <td>34.7</td>\n",
       "      <td>37.2</td>\n",
       "      <td>...</td>\n",
       "      <td>47.212922</td>\n",
       "      <td>-1.386678</td>\n",
       "      <td>0.243122</td>\n",
       "      <td>3.229274</td>\n",
       "      <td>58.9824</td>\n",
       "      <td>0</td>\n",
       "      <td>0.00000</td>\n",
       "      <td>3.499533</td>\n",
       "      <td>1095.61</td>\n",
       "      <td>3.387774</td>\n",
       "    </tr>\n",
       "    <tr>\n",
       "      <th>Accomack County, Virginia</th>\n",
       "      <td>221.0</td>\n",
       "      <td>216.2</td>\n",
       "      <td>479.4</td>\n",
       "      <td>38390</td>\n",
       "      <td>32973</td>\n",
       "      <td>19.4</td>\n",
       "      <td>0.000000</td>\n",
       "      <td>45.3</td>\n",
       "      <td>42.7</td>\n",
       "      <td>47.3</td>\n",
       "      <td>...</td>\n",
       "      <td>22.077434</td>\n",
       "      <td>0.153911</td>\n",
       "      <td>0.516719</td>\n",
       "      <td>59.388869</td>\n",
       "      <td>2.9584</td>\n",
       "      <td>4</td>\n",
       "      <td>10000.00000</td>\n",
       "      <td>3.303217</td>\n",
       "      <td>739.84</td>\n",
       "      <td>3.356897</td>\n",
       "    </tr>\n",
       "    <tr>\n",
       "      <th>Ada County, Idaho</th>\n",
       "      <td>1757.0</td>\n",
       "      <td>151.6</td>\n",
       "      <td>469.0</td>\n",
       "      <td>57908</td>\n",
       "      <td>434211</td>\n",
       "      <td>11.6</td>\n",
       "      <td>414.545002</td>\n",
       "      <td>35.8</td>\n",
       "      <td>35.0</td>\n",
       "      <td>36.6</td>\n",
       "      <td>...</td>\n",
       "      <td>104.907721</td>\n",
       "      <td>-0.244491</td>\n",
       "      <td>24.459579</td>\n",
       "      <td>0.336674</td>\n",
       "      <td>5.2441</td>\n",
       "      <td>100</td>\n",
       "      <td>123.45679</td>\n",
       "      <td>3.387774</td>\n",
       "      <td>876.16</td>\n",
       "      <td>2.778819</td>\n",
       "    </tr>\n",
       "    <tr>\n",
       "      <th>Adair County, Iowa</th>\n",
       "      <td>51.0</td>\n",
       "      <td>178.9</td>\n",
       "      <td>440.7</td>\n",
       "      <td>48216</td>\n",
       "      <td>7228</td>\n",
       "      <td>10.3</td>\n",
       "      <td>138.350858</td>\n",
       "      <td>45.9</td>\n",
       "      <td>45.0</td>\n",
       "      <td>47.7</td>\n",
       "      <td>...</td>\n",
       "      <td>54.729457</td>\n",
       "      <td>-0.522917</td>\n",
       "      <td>3.281391</td>\n",
       "      <td>3.520720</td>\n",
       "      <td>48.3025</td>\n",
       "      <td>4</td>\n",
       "      <td>0.00000</td>\n",
       "      <td>3.443618</td>\n",
       "      <td>979.69</td>\n",
       "      <td>2.646175</td>\n",
       "    </tr>\n",
       "  </tbody>\n",
       "</table>\n",
       "<p>5 rows × 329 columns</p>\n",
       "</div>"
      ],
      "text/plain": [
       "                                  avgAnnCount  TARGET_deathRate  \\\n",
       "Geography                                                         \n",
       "Abbeville County, South Carolina        143.0             183.7   \n",
       "Acadia Parish, Louisiana                323.0             230.5   \n",
       "Accomack County, Virginia               221.0             216.2   \n",
       "Ada County, Idaho                      1757.0             151.6   \n",
       "Adair County, Iowa                       51.0             178.9   \n",
       "\n",
       "                                  incidenceRate  medIncome  popEst2015  \\\n",
       "Geography                                                                \n",
       "Abbeville County, South Carolina          430.9      35525       24932   \n",
       "Acadia Parish, Louisiana                  492.7      40269       62577   \n",
       "Accomack County, Virginia                 479.4      38390       32973   \n",
       "Ada County, Idaho                         469.0      57908      434211   \n",
       "Adair County, Iowa                        440.7      48216        7228   \n",
       "\n",
       "                                  povertyPercent  studyPerCap  MedianAge  \\\n",
       "Geography                                                                  \n",
       "Abbeville County, South Carolina            21.4     0.000000       43.3   \n",
       "Acadia Parish, Louisiana                    22.0     0.000000       35.7   \n",
       "Accomack County, Virginia                   19.4     0.000000       45.3   \n",
       "Ada County, Idaho                           11.6   414.545002       35.8   \n",
       "Adair County, Iowa                          10.3   138.350858       45.9   \n",
       "\n",
       "                                  MedianAgeMale  MedianAgeFemale  ...  \\\n",
       "Geography                                                         ...   \n",
       "Abbeville County, South Carolina           40.7             44.9  ...   \n",
       "Acadia Parish, Louisiana                   34.7             37.2  ...   \n",
       "Accomack County, Virginia                  42.7             47.3  ...   \n",
       "Ada County, Idaho                          35.0             36.6  ...   \n",
       "Adair County, Iowa                         45.0             47.7  ...   \n",
       "\n",
       "                                  city_min_distsl1_sqrd  sc_min_dists_l1_log  \\\n",
       "Geography                                                                      \n",
       "Abbeville County, South Carolina               5.827314            -0.674641   \n",
       "Acadia Parish, Louisiana                      47.212922            -1.386678   \n",
       "Accomack County, Virginia                     22.077434             0.153911   \n",
       "Ada County, Idaho                            104.907721            -0.244491   \n",
       "Adair County, Iowa                            54.729457            -0.522917   \n",
       "\n",
       "                                  PCT_LACCESS_CHILD10_sqrd  \\\n",
       "Geography                                                    \n",
       "Abbeville County, South Carolina                 49.425404   \n",
       "Acadia Parish, Louisiana                          0.243122   \n",
       "Accomack County, Virginia                         0.516719   \n",
       "Ada County, Idaho                                24.459579   \n",
       "Adair County, Iowa                                3.281391   \n",
       "\n",
       "                                  PCT_LACCESS_HHNV10_sqrd  PC_DIRSALES07_sqrd  \\\n",
       "Geography                                                                       \n",
       "Abbeville County, South Carolina                36.601854             13.9129   \n",
       "Acadia Parish, Louisiana                         3.229274             58.9824   \n",
       "Accomack County, Virginia                       59.388869              2.9584   \n",
       "Ada County, Idaho                                0.336674              5.2441   \n",
       "Adair County, Iowa                               3.520720             48.3025   \n",
       "\n",
       "                                  FMRKT13_sqrd  PCH_FMRKT_09_13_sqrd  \\\n",
       "Geography                                                              \n",
       "Abbeville County, South Carolina             4               0.00000   \n",
       "Acadia Parish, Louisiana                     0               0.00000   \n",
       "Accomack County, Virginia                    4           10000.00000   \n",
       "Ada County, Idaho                          100             123.45679   \n",
       "Adair County, Iowa                           4               0.00000   \n",
       "\n",
       "                                  PCT_OBESE_ADULTS13_log  \\\n",
       "Geography                                                  \n",
       "Abbeville County, South Carolina                3.456317   \n",
       "Acadia Parish, Louisiana                        3.499533   \n",
       "Accomack County, Virginia                       3.303217   \n",
       "Ada County, Idaho                               3.387774   \n",
       "Adair County, Iowa                              3.443618   \n",
       "\n",
       "                                  PCT_OBESE_ADULTS13_sqrd  CHILDPOVRATE10_log  \n",
       "Geography                                                                      \n",
       "Abbeville County, South Carolina                  1004.89            3.280911  \n",
       "Acadia Parish, Louisiana                          1095.61            3.387774  \n",
       "Accomack County, Virginia                          739.84            3.356897  \n",
       "Ada County, Idaho                                  876.16            2.778819  \n",
       "Adair County, Iowa                                 979.69            2.646175  \n",
       "\n",
       "[5 rows x 329 columns]"
      ]
     },
     "execution_count": 3,
     "metadata": {},
     "output_type": "execute_result"
    }
   ],
   "source": [
    "df.head()"
   ]
  },
  {
   "cell_type": "code",
   "execution_count": 4,
   "metadata": {},
   "outputs": [
    {
     "data": {
      "text/plain": [
       "Index(['avgAnnCount', 'TARGET_deathRate', 'incidenceRate', 'medIncome',\n",
       "       'popEst2015', 'povertyPercent', 'studyPerCap', 'MedianAge',\n",
       "       'MedianAgeMale', 'MedianAgeFemale',\n",
       "       ...\n",
       "       'city_min_distsl1_sqrd', 'sc_min_dists_l1_log',\n",
       "       'PCT_LACCESS_CHILD10_sqrd', 'PCT_LACCESS_HHNV10_sqrd',\n",
       "       'PC_DIRSALES07_sqrd', 'FMRKT13_sqrd', 'PCH_FMRKT_09_13_sqrd',\n",
       "       'PCT_OBESE_ADULTS13_log', 'PCT_OBESE_ADULTS13_sqrd',\n",
       "       'CHILDPOVRATE10_log'],\n",
       "      dtype='object', length=329)"
      ]
     },
     "execution_count": 4,
     "metadata": {},
     "output_type": "execute_result"
    }
   ],
   "source": [
    "df.columns"
   ]
  },
  {
   "cell_type": "code",
   "execution_count": 5,
   "metadata": {},
   "outputs": [
    {
     "data": {
      "text/plain": [
       "3047"
      ]
     },
     "execution_count": 5,
     "metadata": {},
     "output_type": "execute_result"
    }
   ],
   "source": [
    "len(df.index.unique())"
   ]
  },
  {
   "cell_type": "code",
   "execution_count": 6,
   "metadata": {
    "scrolled": true
   },
   "outputs": [
    {
     "data": {
      "text/plain": [
       "(3047, 329)"
      ]
     },
     "execution_count": 6,
     "metadata": {},
     "output_type": "execute_result"
    }
   ],
   "source": [
    "df.shape"
   ]
  },
  {
   "cell_type": "code",
   "execution_count": 7,
   "metadata": {
    "scrolled": true
   },
   "outputs": [
    {
     "name": "stdout",
     "output_type": "stream",
     "text": [
      "<class 'pandas.core.frame.DataFrame'>\n",
      "Index: 3047 entries, Abbeville County, South Carolina to Zavala County, Texas\n",
      "Data columns (total 329 columns):\n",
      "avgAnnCount                       float64\n",
      "TARGET_deathRate                  float64\n",
      "incidenceRate                     float64\n",
      "medIncome                         int64\n",
      "popEst2015                        int64\n",
      "povertyPercent                    float64\n",
      "studyPerCap                       float64\n",
      "MedianAge                         float64\n",
      "MedianAgeMale                     float64\n",
      "MedianAgeFemale                   float64\n",
      "AvgHouseholdSize                  float64\n",
      "PercentMarried                    float64\n",
      "PctNoHS18_24                      float64\n",
      "PctHS18_24                        float64\n",
      "PctSomeCol18_24                   float64\n",
      "PctBachDeg18_24                   float64\n",
      "PctHS25_Over                      float64\n",
      "PctBachDeg25_Over                 float64\n",
      "PctEmployed16_Over                float64\n",
      "PctUnemployed16_Over              float64\n",
      "PctPrivateCoverage                float64\n",
      "PctPrivateCoverageAlone           float64\n",
      "PctEmpPrivCoverage                float64\n",
      "PctPublicCoverage                 float64\n",
      "PctPublicCoverageAlone            float64\n",
      "PctWhite                          float64\n",
      "PctBlack                          float64\n",
      "PctAsian                          float64\n",
      "PctOtherRace                      float64\n",
      "PctMarriedHouseholds              float64\n",
      "BirthRate                         float64\n",
      "PctSomeCol18_24_isnull            bool\n",
      "PctEmployed16_Over_isnull         bool\n",
      "PctPrivateCoverageAlone_isnull    bool\n",
      "age_gt_100                        bool\n",
      "household_lt_1                    bool\n",
      "binnedInc_(34218.1, 37413.8]      int64\n",
      "binnedInc_(37413.8, 40362.7]      int64\n",
      "binnedInc_(40362.7, 42724.4]      int64\n",
      "binnedInc_(42724.4, 45201]        int64\n",
      "binnedInc_(45201, 48021.6]        int64\n",
      "binnedInc_(48021.6, 51046.4]      int64\n",
      "binnedInc_(51046.4, 54545.6]      int64\n",
      "binnedInc_(54545.6, 61494.5]      int64\n",
      "binnedInc_(61494.5, 125635]       int64\n",
      "binnedInc_[22640, 34218.1]        int64\n",
      "ALAND_SQMI                        float64\n",
      "AWATER_SQMI                       float64\n",
      "INTPTLAT                          float64\n",
      "INTPTLONG                         float64\n",
      "State_Alabama                     int64\n",
      "State_Alaska                      int64\n",
      "State_Arizona                     int64\n",
      "State_Arkansas                    int64\n",
      "State_California                  int64\n",
      "State_Colorado                    int64\n",
      "State_Connecticut                 int64\n",
      "State_Delaware                    int64\n",
      "State_District of Columbia        int64\n",
      "State_Florida                     int64\n",
      "State_Georgia                     int64\n",
      "State_Hawaii                      int64\n",
      "State_Idaho                       int64\n",
      "State_Illinois                    int64\n",
      "State_Indiana                     int64\n",
      "State_Iowa                        int64\n",
      "State_Kansas                      int64\n",
      "State_Kentucky                    int64\n",
      "State_Louisiana                   int64\n",
      "State_Maine                       int64\n",
      "State_Maryland                    int64\n",
      "State_Massachusetts               int64\n",
      "State_Michigan                    int64\n",
      "State_Minnesota                   int64\n",
      "State_Mississippi                 int64\n",
      "State_Missouri                    int64\n",
      "State_Montana                     int64\n",
      "State_Nebraska                    int64\n",
      "State_Nevada                      int64\n",
      "State_New Hampshire               int64\n",
      "State_New Jersey                  int64\n",
      "State_New Mexico                  int64\n",
      "State_New York                    int64\n",
      "State_North Carolina              int64\n",
      "State_North Dakota                int64\n",
      "State_Ohio                        int64\n",
      "State_Oklahoma                    int64\n",
      "State_Oregon                      int64\n",
      "State_Pennsylvania                int64\n",
      "State_Rhode Island                int64\n",
      "State_South Carolina              int64\n",
      "State_South Dakota                int64\n",
      "State_Tennessee                   int64\n",
      "State_Texas                       int64\n",
      "State_Utah                        int64\n",
      "State_Vermont                     int64\n",
      "State_Virginia                    int64\n",
      "State_Washington                  int64\n",
      "State_West Virginia               int64\n",
      "State_Wisconsin                   int64\n",
      "State_Wyoming                     int64\n",
      "utmda_l1                          float64\n",
      "mskcc_l1                          float64\n",
      "mayo_l1                           float64\n",
      "hopkins_l1                        float64\n",
      "dfb_l1                            float64\n",
      "cleveland_l1                      float64\n",
      "upmcps_l1                         float64\n",
      "hlmcc_l1                          float64\n",
      "mgs_l1                            float64\n",
      "nw_mem_l1                         float64\n",
      "chi_l1                            float64\n",
      "nyc_l1                            float64\n",
      "atlanta_l1                        float64\n",
      "dallas_l1                         float64\n",
      "denver_l1                         float64\n",
      "los_ang_l1                        float64\n",
      "seattle_l1                        float64\n",
      "san_fran_l1                       float64\n",
      "utmda_l2                          float64\n",
      "mskcc_l2                          float64\n",
      "mayo_l2                           float64\n",
      "hopkins_l2                        float64\n",
      "dfb_l2                            float64\n",
      "cleveland_l2                      float64\n",
      "upmcps_l2                         float64\n",
      "hlmcc_l2                          float64\n",
      "mgs_l2                            float64\n",
      "nw_mem_l2                         float64\n",
      "chi_l2                            float64\n",
      "nyc_l2                            float64\n",
      "atlanta_l2                        float64\n",
      "dallas_l2                         float64\n",
      "denver_l2                         float64\n",
      "los_ang_l2                        float64\n",
      "seattle_l2                        float64\n",
      "san_fran_l2                       float64\n",
      "onc_min_distsl1                   float64\n",
      "onc_min_distsl2                   float64\n",
      "city_min_distsl1                  float64\n",
      "city_min_distsl2                  float64\n",
      "sc_min_dists_l1                   float64\n",
      "sc_min_dists_l2                   float64\n",
      "PCT_LACCESS_POP10                 float64\n",
      "PCT_LACCESS_LOWI10                float64\n",
      "PCT_LACCESS_CHILD10               float64\n",
      "PCT_LACCESS_SENIORS10             float64\n",
      "PCT_LACCESS_HHNV10                float64\n",
      "PCT_LACCESS_POP10_isnull          bool\n",
      "PCT_LACCESS_LOWI10_isnull         bool\n",
      "PCT_LACCESS_CHILD10_isnull        bool\n",
      "PCT_LACCESS_SENIORS10_isnull      bool\n",
      "PCT_LACCESS_HHNV10_isnull         bool\n",
      "FOODINSEC_00_02                   float64\n",
      "FOODINSEC_07_09                   float64\n",
      "FOODINSEC_10_12                   float64\n",
      "CH_FOODINSEC_02_12                float64\n",
      "CH_FOODINSEC_09_12                float64\n",
      "VLFOODSEC_00_02                   float64\n",
      "VLFOODSEC_07_09                   float64\n",
      "VLFOODSEC_10_12                   float64\n",
      "CH_VLFOODSEC_02_12                float64\n",
      "CH_VLFOODSEC_09_12                float64\n",
      "FOODINSEC_CHILD_01_07             float64\n",
      "FOODINSEC_CHILD_03_11             float64\n",
      "FOODINSEC_00_02_isnull            bool\n",
      "FOODINSEC_07_09_isnull            bool\n",
      "FOODINSEC_10_12_isnull            bool\n",
      "CH_FOODINSEC_02_12_isnull         bool\n",
      "CH_FOODINSEC_09_12_isnull         bool\n",
      "VLFOODSEC_00_02_isnull            bool\n",
      "VLFOODSEC_07_09_isnull            bool\n",
      "VLFOODSEC_10_12_isnull            bool\n",
      "CH_VLFOODSEC_02_12_isnull         bool\n",
      "CH_VLFOODSEC_09_12_isnull         bool\n",
      "FOODINSEC_CHILD_01_07_isnull      bool\n",
      "FOODINSEC_CHILD_03_11_isnull      bool\n",
      "PCT_LOCLFARM07                    float64\n",
      "PCT_LOCLSALE07                    float64\n",
      "PC_DIRSALES07                     float64\n",
      "FMRKT09                           int64\n",
      "FMRKT13                           int64\n",
      "PCH_FMRKT_09_13                   float64\n",
      "FMRKTPTH09                        float64\n",
      "FMRKTPTH13                        float64\n",
      "PCH_FMRKTPTH_09_13                float64\n",
      "PCT_FMRKT_SNAP13                  int64\n",
      "PCT_FMRKT_WIC13                   float64\n",
      "PCT_FMRKT_WICCASH13               float64\n",
      "PCT_FMRKT_SFMNP13                 int64\n",
      "PCT_FRMKT_FRVEG13                 float64\n",
      "PCT_FRMKT_ANMLPROD13              float64\n",
      "PCT_FMRKT_OTHER13                 float64\n",
      "VEG_FARMS07                       int64\n",
      "VEG_ACRES07                       int64\n",
      "VEG_ACRESPTH07                    float64\n",
      "FRESHVEG_FARMS07                  int64\n",
      "FRESHVEG_ACRES07                  int64\n",
      "FRESHVEG_ACRESPTH07               float64\n",
      "ORCHARD_FARMS07                   int64\n",
      "ORCHARD_ACRES07                   int64\n",
      "ORCHARD_ACRESPTH07                float64\n",
      "BERRY_FARMS07                     int64\n",
      "BERRY_ACRES07                     int64\n",
      "BERRY_ACRESPTH07                  float64\n",
      "SLHOUSE07                         int64\n",
      "GHVEG_FARMS07                     int64\n",
      "GHVEG_SQFT07                      int64\n",
      "GHVEG_SQFTPTH07                   float64\n",
      "FOODHUB12                         int64\n",
      "CSA07                             int64\n",
      "AGRITRSM_OPS07                    int64\n",
      "AGRITRSM_RCT07                    int64\n",
      "FARM_TO_SCHOOL                    int64\n",
      "PCT_LOCLFARM07_isnull             bool\n",
      "PCT_LOCLSALE07_isnull             bool\n",
      "PC_DIRSALES07_isnull              bool\n",
      "FMRKT09_isnull                    bool\n",
      "FMRKT13_isnull                    bool\n",
      "PCH_FMRKT_09_13_isnull            bool\n",
      "FMRKTPTH09_isnull                 bool\n",
      "FMRKTPTH13_isnull                 bool\n",
      "PCH_FMRKTPTH_09_13_isnull         bool\n",
      "PCT_FMRKT_SNAP13_isnull           bool\n",
      "PCT_FMRKT_WIC13_isnull            bool\n",
      "PCT_FMRKT_WICCASH13_isnull        bool\n",
      "PCT_FMRKT_SFMNP13_isnull          bool\n",
      "PCT_FRMKT_FRVEG13_isnull          bool\n",
      "PCT_FRMKT_ANMLPROD13_isnull       bool\n",
      "PCT_FMRKT_OTHER13_isnull          bool\n",
      "VEG_FARMS07_isnull                bool\n",
      "VEG_ACRES07_isnull                bool\n",
      "VEG_ACRESPTH07_isnull             bool\n",
      "FRESHVEG_FARMS07_isnull           bool\n",
      "FRESHVEG_ACRES07_isnull           bool\n",
      "FRESHVEG_ACRESPTH07_isnull        bool\n",
      "ORCHARD_FARMS07_isnull            bool\n",
      "ORCHARD_ACRES07_isnull            bool\n",
      "ORCHARD_ACRESPTH07_isnull         bool\n",
      "BERRY_FARMS07_isnull              bool\n",
      "BERRY_ACRES07_isnull              bool\n",
      "BERRY_ACRESPTH07_isnull           bool\n",
      "SLHOUSE07_isnull                  bool\n",
      "GHVEG_FARMS07_isnull              bool\n",
      "GHVEG_SQFT07_isnull               bool\n",
      "GHVEG_SQFTPTH07_isnull            bool\n",
      "FOODHUB12_isnull                  bool\n",
      "CSA07_isnull                      bool\n",
      "AGRITRSM_OPS07_isnull             bool\n",
      "AGRITRSM_RCT07_isnull             bool\n",
      "FARM_TO_SCHOOL_isnull             bool\n",
      "PCT_DIABETES_ADULTS09             float64\n",
      "PCT_DIABETES_ADULTS10             float64\n",
      "PCT_OBESE_ADULTS09                float64\n",
      "PCT_OBESE_ADULTS10                float64\n",
      "PCT_OBESE_ADULTS13                float64\n",
      "PCT_OBESE_CHILD08                 float64\n",
      "PCT_OBESE_CHILD11                 float64\n",
      "PCH_OBESE_CHILD_08_11             float64\n",
      "PCT_HSPA09                        float64\n",
      "RECFAC07                          int64\n",
      "RECFAC12                          int64\n",
      "PCH_RECFAC_07_12                  float64\n",
      "RECFACPTH07                       float64\n",
      "RECFACPTH12                       float64\n",
      "PCH_RECFACPTH_07_12               float64\n",
      "NATAMEN                           int64\n",
      "PCT_OBESE_CHILD08_isnull          bool\n",
      "PCT_OBESE_CHILD11_isnull          bool\n",
      "PCH_OBESE_CHILD_08_11_isnull      bool\n",
      "PCT_HSPA09_isnull                 bool\n",
      "PCH_RECFAC_07_12_isnull           bool\n",
      "PCH_RECFACPTH_07_12_isnull        bool\n",
      "NATAMEN_isnull                    bool\n",
      "PERPOV10                          int64\n",
      "CHILDPOVRATE10                    float64\n",
      "PERCHLDPOV10                      int64\n",
      "METRO13                           int64\n",
      "POPLOSS00                         int64\n",
      "povertyPercent_log                float64\n",
      "povertyPercent_sqrd               float64\n",
      "MedianAge_log                     float64\n",
      "MedianAgeFemale_sqrd              float64\n",
      "AvgHouseholdSize_log              float64\n",
      "PercentMarried_log                float64\n",
      "PercentMarried_sqrd               float64\n",
      "PctSomeCol18_24_log               float64\n",
      "PctSomeCol18_24_sqrd              float64\n",
      "PctHS25_Over_sqrd                 float64\n",
      "PctBachDeg25_Over_log             float64\n",
      "PctEmployed16_Over_log            float64\n",
      "PctEmployed16_Over_sqrd           float64\n",
      "PctPrivateCoverage_log            float64\n",
      "PctEmpPrivCoverage_log            float64\n",
      "PctPublicCoverage_log             float64\n",
      "PctPublicCoverageAlone_log        float64\n",
      "PctPublicCoverageAlone_sqrd       float64\n",
      "PctWhite_sqrd                     float64\n",
      "PctBlack_sqrd                     float64\n",
      "INTPTLONG_sqrd                    float64\n",
      "mskcc_l1_log                      float64\n",
      "mayo_l1_log                       float64\n",
      "mayo_l1_sqrd                      float64\n",
      "dfb_l1_log                        float64\n",
      "dfb_l1_sqrd                       float64\n",
      "cleveland_l1_log                  float64\n",
      "cleveland_l1_sqrd                 float64\n",
      "upmcps_l1_log                     float64\n",
      "mgs_l1_log                        float64\n",
      "atlanta_l1_log                    float64\n",
      "denver_l1_sqrd                    float64\n",
      "los_ang_l1_sqrd                   float64\n",
      "seattle_l1_log                    float64\n",
      "hopkins_l2_log                    float64\n",
      "dfb_l2_log                        float64\n",
      "cleveland_l2_log                  float64\n",
      "upmcps_l2_log                     float64\n",
      "mgs_l2_log                        float64\n",
      "atlanta_l2_log                    float64\n",
      "city_min_distsl1_sqrd             float64\n",
      "sc_min_dists_l1_log               float64\n",
      "PCT_LACCESS_CHILD10_sqrd          float64\n",
      "PCT_LACCESS_HHNV10_sqrd           float64\n",
      "PC_DIRSALES07_sqrd                float64\n",
      "FMRKT13_sqrd                      int64\n",
      "PCH_FMRKT_09_13_sqrd              float64\n",
      "PCT_OBESE_ADULTS13_log            float64\n",
      "PCT_OBESE_ADULTS13_sqrd           float64\n",
      "CHILDPOVRATE10_log                float64\n",
      "dtypes: bool(66), float64(172), int64(91)\n",
      "memory usage: 6.3+ MB\n"
     ]
    }
   ],
   "source": [
    "df.info(verbose=True)"
   ]
  },
  {
   "cell_type": "markdown",
   "metadata": {},
   "source": [
    "# Machine Learning with Unscaled Data"
   ]
  },
  {
   "cell_type": "markdown",
   "metadata": {},
   "source": [
    "To find the best performing algorithm, unscaled data is first experimented with and then scaled data is used. A simple 1-fold cross-validation of a train-test split will be used; multifold cross-validation may be explored later in the Machine Learning pipeline."
   ]
  },
  {
   "cell_type": "markdown",
   "metadata": {},
   "source": [
    "## Linear Regression: Basic OLS with no Hyperparameter Tuning or Train-Test Split"
   ]
  },
  {
   "cell_type": "markdown",
   "metadata": {},
   "source": [
    "The target variable is set as 'TARGET_deathRate', the per capita cancer mortality rate (per 100,000 people)."
   ]
  },
  {
   "cell_type": "code",
   "execution_count": 8,
   "metadata": {},
   "outputs": [],
   "source": [
    "y = df['TARGET_deathRate']"
   ]
  },
  {
   "cell_type": "markdown",
   "metadata": {},
   "source": [
    "The predictive feature set X is defined as the rest of the columns in the DataFrame."
   ]
  },
  {
   "cell_type": "code",
   "execution_count": 9,
   "metadata": {},
   "outputs": [],
   "source": [
    "target_name = ['TARGET_deathRate']\n",
    "X = df[[cn for cn in df.columns if cn not in target_name]]"
   ]
  },
  {
   "cell_type": "markdown",
   "metadata": {},
   "source": [
    "First, a simple Linear Regression algorithm is run with no scaling, no hyperparameter tuning and no train/test split."
   ]
  },
  {
   "cell_type": "code",
   "execution_count": 10,
   "metadata": {
    "scrolled": true
   },
   "outputs": [
    {
     "data": {
      "text/plain": [
       "LinearRegression(copy_X=True, fit_intercept=True, n_jobs=None,\n",
       "         normalize=False)"
      ]
     },
     "execution_count": 10,
     "metadata": {},
     "output_type": "execute_result"
    }
   ],
   "source": [
    "lr_1 = linear_model.LinearRegression()\n",
    "lr_1"
   ]
  },
  {
   "cell_type": "code",
   "execution_count": 11,
   "metadata": {
    "scrolled": true
   },
   "outputs": [
    {
     "data": {
      "text/plain": [
       "LinearRegression(copy_X=True, fit_intercept=True, n_jobs=None,\n",
       "         normalize=False)"
      ]
     },
     "execution_count": 11,
     "metadata": {},
     "output_type": "execute_result"
    }
   ],
   "source": [
    "lr_1.fit(X, y)"
   ]
  },
  {
   "cell_type": "code",
   "execution_count": 12,
   "metadata": {},
   "outputs": [
    {
     "data": {
      "text/plain": [
       "0.6528892459212396"
      ]
     },
     "execution_count": 12,
     "metadata": {},
     "output_type": "execute_result"
    }
   ],
   "source": [
    "lr_1.score(X, y)"
   ]
  },
  {
   "cell_type": "code",
   "execution_count": 13,
   "metadata": {},
   "outputs": [
    {
     "data": {
      "text/plain": [
       "array([188.49306902, 204.21317523, 208.04168356, 144.3527763 ,\n",
       "       172.08713342, 208.03640582, 177.36422251, 211.13721016,\n",
       "       157.36076551, 164.04873457, 178.13226564, 188.25829087,\n",
       "       180.11453527, 209.17514377, 178.23192636, 154.9184619 ,\n",
       "       222.78217363, 166.29058502, 148.85989629, 178.30619184])"
      ]
     },
     "execution_count": 13,
     "metadata": {},
     "output_type": "execute_result"
    }
   ],
   "source": [
    "y_pred_1 = lr_1.predict(X)\n",
    "y_pred_1[0:20]"
   ]
  },
  {
   "cell_type": "code",
   "execution_count": 14,
   "metadata": {},
   "outputs": [
    {
     "name": "stdout",
     "output_type": "stream",
     "text": [
      "R^2: 0.6528892459212396\n",
      "Root Mean Squared Error: 16.347426607269345\n"
     ]
    }
   ],
   "source": [
    "print(\"R^2: {}\".format(lr_1.score(X, y)))\n",
    "rmse = np.sqrt(mean_squared_error(y, y_pred_1))\n",
    "print(\"Root Mean Squared Error: {}\".format(rmse))"
   ]
  },
  {
   "cell_type": "code",
   "execution_count": 15,
   "metadata": {},
   "outputs": [],
   "source": [
    "filename = 'cancer_lr_1.sav'\n",
    "pickle.dump(lr_1, open(filename, 'wb'))"
   ]
  },
  {
   "cell_type": "markdown",
   "metadata": {},
   "source": [
    "## Linear Regression: Basic OLS with no Normalization and 80/20 Train-Test Split"
   ]
  },
  {
   "cell_type": "code",
   "execution_count": 16,
   "metadata": {
    "scrolled": true
   },
   "outputs": [
    {
     "data": {
      "text/plain": [
       "LinearRegression(copy_X=True, fit_intercept=True, n_jobs=None,\n",
       "         normalize=False)"
      ]
     },
     "execution_count": 16,
     "metadata": {},
     "output_type": "execute_result"
    }
   ],
   "source": [
    "lr_2 = linear_model.LinearRegression()\n",
    "lr_2"
   ]
  },
  {
   "cell_type": "markdown",
   "metadata": {},
   "source": [
    "Next, a train/test split is created and the OLS linear regression algorithm is re-run."
   ]
  },
  {
   "cell_type": "code",
   "execution_count": 17,
   "metadata": {},
   "outputs": [],
   "source": [
    "X_train, X_test, y_train, y_test = train_test_split(X, y, test_size=0.2, random_state=42)"
   ]
  },
  {
   "cell_type": "markdown",
   "metadata": {},
   "source": [
    "The algorithm is fitted on the training set, and the accuracy is returned on the test set."
   ]
  },
  {
   "cell_type": "code",
   "execution_count": 18,
   "metadata": {
    "scrolled": true
   },
   "outputs": [
    {
     "data": {
      "text/plain": [
       "LinearRegression(copy_X=True, fit_intercept=True, n_jobs=None,\n",
       "         normalize=False)"
      ]
     },
     "execution_count": 18,
     "metadata": {},
     "output_type": "execute_result"
    }
   ],
   "source": [
    "lr_2.fit(X_train, y_train)"
   ]
  },
  {
   "cell_type": "markdown",
   "metadata": {},
   "source": [
    "An accuracy of 64.1% is returned."
   ]
  },
  {
   "cell_type": "code",
   "execution_count": 19,
   "metadata": {
    "scrolled": true
   },
   "outputs": [
    {
     "data": {
      "text/plain": [
       "0.6406253860729231"
      ]
     },
     "execution_count": 19,
     "metadata": {},
     "output_type": "execute_result"
    }
   ],
   "source": [
    "lr_2.score(X_test, y_test)"
   ]
  },
  {
   "cell_type": "code",
   "execution_count": 20,
   "metadata": {
    "scrolled": true
   },
   "outputs": [
    {
     "data": {
      "text/plain": [
       "array([177.32330972, 174.71390582, 162.20675859, 175.78673742,\n",
       "       178.88472738, 195.88785682, 173.28360858, 164.24285477,\n",
       "       175.00771197, 171.91171726, 177.00965023, 206.91234944,\n",
       "       158.15670133, 157.5426522 , 219.88087468, 108.69273994,\n",
       "       188.34900034, 205.93368446, 208.31387692, 183.87287744])"
      ]
     },
     "execution_count": 20,
     "metadata": {},
     "output_type": "execute_result"
    }
   ],
   "source": [
    "y_pred_2 = lr_2.predict(X_test)\n",
    "y_pred_2[0:20]"
   ]
  },
  {
   "cell_type": "markdown",
   "metadata": {},
   "source": [
    "An RMSE of 16.2 is returned."
   ]
  },
  {
   "cell_type": "code",
   "execution_count": 21,
   "metadata": {
    "scrolled": false
   },
   "outputs": [
    {
     "name": "stdout",
     "output_type": "stream",
     "text": [
      "R^2: 0.6406253860729231\n",
      "Root Mean Squared Error: 16.199560046349408\n"
     ]
    }
   ],
   "source": [
    "print(\"R^2: {}\".format(lr_2.score(X_test, y_test)))\n",
    "rmse = np.sqrt(mean_squared_error(y_test, y_pred_2))\n",
    "print(\"Root Mean Squared Error: {}\".format(rmse))"
   ]
  },
  {
   "cell_type": "code",
   "execution_count": 22,
   "metadata": {},
   "outputs": [],
   "source": [
    "filename = 'cancer_lr_2.sav'\n",
    "pickle.dump(lr_2, open(filename, 'wb'))"
   ]
  },
  {
   "cell_type": "markdown",
   "metadata": {},
   "source": [
    "## Linear Regression: Basic OLS with Normalization and 80/20 Train-Test Split"
   ]
  },
  {
   "cell_type": "code",
   "execution_count": 23,
   "metadata": {
    "scrolled": true
   },
   "outputs": [
    {
     "data": {
      "text/plain": [
       "LinearRegression(copy_X=True, fit_intercept=True, n_jobs=None, normalize=True)"
      ]
     },
     "execution_count": 23,
     "metadata": {},
     "output_type": "execute_result"
    }
   ],
   "source": [
    "lr_2n = linear_model.LinearRegression(normalize=True)\n",
    "lr_2n"
   ]
  },
  {
   "cell_type": "markdown",
   "metadata": {},
   "source": [
    "The algorithm is fitted on the training set, and the accuracy is returned on the test set."
   ]
  },
  {
   "cell_type": "code",
   "execution_count": 24,
   "metadata": {
    "scrolled": true
   },
   "outputs": [
    {
     "data": {
      "text/plain": [
       "LinearRegression(copy_X=True, fit_intercept=True, n_jobs=None, normalize=True)"
      ]
     },
     "execution_count": 24,
     "metadata": {},
     "output_type": "execute_result"
    }
   ],
   "source": [
    "lr_2n.fit(X_train, y_train)"
   ]
  },
  {
   "cell_type": "markdown",
   "metadata": {},
   "source": [
    "An accuracy of -4.86% is returned. This path of normalization should obviously not be followed."
   ]
  },
  {
   "cell_type": "code",
   "execution_count": 25,
   "metadata": {
    "scrolled": true
   },
   "outputs": [
    {
     "data": {
      "text/plain": [
       "-4.485371328856633e+22"
      ]
     },
     "execution_count": 25,
     "metadata": {},
     "output_type": "execute_result"
    }
   ],
   "source": [
    "lr_2n.score(X_test, y_test)"
   ]
  },
  {
   "cell_type": "code",
   "execution_count": 26,
   "metadata": {
    "scrolled": true
   },
   "outputs": [
    {
     "data": {
      "text/plain": [
       "array([176.8984375, 174.3125   , 160.9609375, 175.953125 , 179.3515625,\n",
       "       196.3984375, 173.1875   , 163.75     , 174.7734375, 173.03125  ,\n",
       "       177.015625 , 206.9453125, 158.375    , 157.25     , 220.046875 ,\n",
       "       110.421875 , 188.90625  , 206.8515625, 207.8359375, 183.8125   ])"
      ]
     },
     "execution_count": 26,
     "metadata": {},
     "output_type": "execute_result"
    }
   ],
   "source": [
    "y_pred_2n = lr_2n.predict(X_test)\n",
    "y_pred_2n[0:20]"
   ]
  },
  {
   "cell_type": "markdown",
   "metadata": {},
   "source": [
    "An RMSE of 5723065594363.49 is returned."
   ]
  },
  {
   "cell_type": "code",
   "execution_count": 27,
   "metadata": {
    "scrolled": false
   },
   "outputs": [
    {
     "name": "stdout",
     "output_type": "stream",
     "text": [
      "R^2: -4.485371328856633e+22\n",
      "Root Mean Squared Error: 5723065594363.49\n"
     ]
    }
   ],
   "source": [
    "print(\"R^2: {}\".format(lr_2n.score(X_test, y_test)))\n",
    "rmse = np.sqrt(mean_squared_error(y_test, y_pred_2n))\n",
    "print(\"Root Mean Squared Error: {}\".format(rmse))"
   ]
  },
  {
   "cell_type": "code",
   "execution_count": 28,
   "metadata": {},
   "outputs": [],
   "source": [
    "filename = 'cancer_lr_2n.sav'\n",
    "pickle.dump(lr_2n, open(filename, 'wb'))"
   ]
  },
  {
   "cell_type": "markdown",
   "metadata": {},
   "source": [
    "## Ridge Regression"
   ]
  },
  {
   "cell_type": "code",
   "execution_count": 29,
   "metadata": {},
   "outputs": [],
   "source": [
    "lr_3 = linear_model.Ridge(alpha=0.001)"
   ]
  },
  {
   "cell_type": "code",
   "execution_count": 30,
   "metadata": {},
   "outputs": [
    {
     "name": "stderr",
     "output_type": "stream",
     "text": [
      "/Users/DanLoew/anaconda3/lib/python3.7/site-packages/sklearn/linear_model/ridge.py:125: LinAlgWarning: Ill-conditioned matrix (rcond=1.63404e-18): result may not be accurate.\n",
      "  overwrite_a=True).T\n"
     ]
    },
    {
     "data": {
      "text/plain": [
       "Ridge(alpha=0.001, copy_X=True, fit_intercept=True, max_iter=None,\n",
       "   normalize=False, random_state=None, solver='auto', tol=0.001)"
      ]
     },
     "execution_count": 30,
     "metadata": {},
     "output_type": "execute_result"
    }
   ],
   "source": [
    "lr_3.fit(X_train, y_train)"
   ]
  },
  {
   "cell_type": "code",
   "execution_count": 31,
   "metadata": {},
   "outputs": [
    {
     "data": {
      "text/plain": [
       "0.640764496169676"
      ]
     },
     "execution_count": 31,
     "metadata": {},
     "output_type": "execute_result"
    }
   ],
   "source": [
    "lr_3.score(X_test, y_test)"
   ]
  },
  {
   "cell_type": "code",
   "execution_count": 32,
   "metadata": {},
   "outputs": [
    {
     "data": {
      "text/plain": [
       "array([177.35025528, 175.37003441, 162.28118062, 175.61564994,\n",
       "       178.79949237, 195.82574326, 173.0892533 , 164.0994861 ,\n",
       "       174.86180419, 172.19905287, 177.03470202, 206.91320063,\n",
       "       157.80007646, 157.37575809, 220.00185219, 108.90253059,\n",
       "       188.29362249, 205.92327747, 208.22259907, 183.78457325])"
      ]
     },
     "execution_count": 32,
     "metadata": {},
     "output_type": "execute_result"
    }
   ],
   "source": [
    "y_pred_3 = lr_3.predict(X_test)\n",
    "y_pred_3[0:20]"
   ]
  },
  {
   "cell_type": "code",
   "execution_count": 33,
   "metadata": {
    "scrolled": true
   },
   "outputs": [
    {
     "name": "stdout",
     "output_type": "stream",
     "text": [
      "R^2: 0.640764496169676\n",
      "Root Mean Squared Error: 16.196424404043412\n"
     ]
    }
   ],
   "source": [
    "print(\"R^2: {}\".format(lr_3.score(X_test, y_test)))\n",
    "rmse = np.sqrt(mean_squared_error(y_test, y_pred_3))\n",
    "print(\"Root Mean Squared Error: {}\".format(rmse))"
   ]
  },
  {
   "cell_type": "code",
   "execution_count": 34,
   "metadata": {},
   "outputs": [],
   "source": [
    "filename = 'cancer_lr_3.sav'\n",
    "pickle.dump(lr_3, open(filename, 'wb'))"
   ]
  },
  {
   "cell_type": "code",
   "execution_count": 35,
   "metadata": {},
   "outputs": [],
   "source": [
    "lr_4 = linear_model.Ridge(alpha=0.01)"
   ]
  },
  {
   "cell_type": "code",
   "execution_count": 36,
   "metadata": {},
   "outputs": [
    {
     "name": "stderr",
     "output_type": "stream",
     "text": [
      "/Users/DanLoew/anaconda3/lib/python3.7/site-packages/sklearn/linear_model/ridge.py:125: LinAlgWarning: Ill-conditioned matrix (rcond=1.6332e-17): result may not be accurate.\n",
      "  overwrite_a=True).T\n"
     ]
    },
    {
     "data": {
      "text/plain": [
       "Ridge(alpha=0.01, copy_X=True, fit_intercept=True, max_iter=None,\n",
       "   normalize=False, random_state=None, solver='auto', tol=0.001)"
      ]
     },
     "execution_count": 36,
     "metadata": {},
     "output_type": "execute_result"
    }
   ],
   "source": [
    "lr_4.fit(X_train, y_train)"
   ]
  },
  {
   "cell_type": "code",
   "execution_count": 37,
   "metadata": {},
   "outputs": [
    {
     "data": {
      "text/plain": [
       "0.6398034038943229"
      ]
     },
     "execution_count": 37,
     "metadata": {},
     "output_type": "execute_result"
    }
   ],
   "source": [
    "lr_4.score(X_test, y_test)"
   ]
  },
  {
   "cell_type": "code",
   "execution_count": 38,
   "metadata": {},
   "outputs": [
    {
     "data": {
      "text/plain": [
       "array([177.27737461, 175.84086151, 162.39717802, 175.15845425,\n",
       "       178.70525048, 195.52244817, 173.3364408 , 164.07576811,\n",
       "       174.89145599, 172.53565544, 176.99916744, 206.934674  ,\n",
       "       157.34917026, 157.17733021, 220.12558738, 109.72125012,\n",
       "       188.33461623, 205.93000184, 208.11227026, 183.61566338])"
      ]
     },
     "execution_count": 38,
     "metadata": {},
     "output_type": "execute_result"
    }
   ],
   "source": [
    "y_pred_4 = lr_4.predict(X_test)\n",
    "y_pred_4[0:20]"
   ]
  },
  {
   "cell_type": "code",
   "execution_count": 39,
   "metadata": {
    "scrolled": true
   },
   "outputs": [
    {
     "name": "stdout",
     "output_type": "stream",
     "text": [
      "R^2: 0.6398034038943229\n",
      "Root Mean Squared Error: 16.218075745153282\n"
     ]
    }
   ],
   "source": [
    "print(\"R^2: {}\".format(lr_4.score(X_test, y_test)))\n",
    "rmse = np.sqrt(mean_squared_error(y_test, y_pred_4))\n",
    "print(\"Root Mean Squared Error: {}\".format(rmse))"
   ]
  },
  {
   "cell_type": "code",
   "execution_count": 40,
   "metadata": {},
   "outputs": [],
   "source": [
    "filename = 'cancer_lr_4.sav'\n",
    "pickle.dump(lr_4, open(filename, 'wb'))"
   ]
  },
  {
   "cell_type": "code",
   "execution_count": 41,
   "metadata": {},
   "outputs": [],
   "source": [
    "lr_5 = linear_model.Ridge(alpha=0.1)"
   ]
  },
  {
   "cell_type": "code",
   "execution_count": 42,
   "metadata": {},
   "outputs": [
    {
     "data": {
      "text/plain": [
       "Ridge(alpha=0.1, copy_X=True, fit_intercept=True, max_iter=None,\n",
       "   normalize=False, random_state=None, solver='auto', tol=0.001)"
      ]
     },
     "execution_count": 42,
     "metadata": {},
     "output_type": "execute_result"
    }
   ],
   "source": [
    "lr_5.fit(X_train, y_train)"
   ]
  },
  {
   "cell_type": "code",
   "execution_count": 43,
   "metadata": {},
   "outputs": [
    {
     "data": {
      "text/plain": [
       "0.6342414810354621"
      ]
     },
     "execution_count": 43,
     "metadata": {},
     "output_type": "execute_result"
    }
   ],
   "source": [
    "lr_5.score(X_test, y_test)"
   ]
  },
  {
   "cell_type": "code",
   "execution_count": 44,
   "metadata": {
    "scrolled": true
   },
   "outputs": [
    {
     "data": {
      "text/plain": [
       "array([177.13405645, 175.00340625, 162.34699436, 173.79786501,\n",
       "       178.48061028, 194.9497753 , 173.09927587, 164.42108045,\n",
       "       175.15798399, 173.22456357, 176.72338185, 206.77115793,\n",
       "       156.94780335, 157.19234894, 220.28363922, 113.02093137,\n",
       "       188.878909  , 206.64952077, 208.33444119, 182.93581045])"
      ]
     },
     "execution_count": 44,
     "metadata": {},
     "output_type": "execute_result"
    }
   ],
   "source": [
    "y_pred_5 = lr_5.predict(X_test)\n",
    "y_pred_5[0:20]"
   ]
  },
  {
   "cell_type": "code",
   "execution_count": 45,
   "metadata": {
    "scrolled": true
   },
   "outputs": [
    {
     "name": "stdout",
     "output_type": "stream",
     "text": [
      "R^2: 0.6342414810354621\n",
      "Root Mean Squared Error: 16.34281058890365\n"
     ]
    }
   ],
   "source": [
    "print(\"R^2: {}\".format(lr_5.score(X_test, y_test)))\n",
    "rmse = np.sqrt(mean_squared_error(y_test, y_pred_5))\n",
    "print(\"Root Mean Squared Error: {}\".format(rmse))"
   ]
  },
  {
   "cell_type": "code",
   "execution_count": 46,
   "metadata": {},
   "outputs": [],
   "source": [
    "filename = 'cancer_lr_5.sav'\n",
    "pickle.dump(lr_5, open(filename, 'wb'))"
   ]
  },
  {
   "cell_type": "code",
   "execution_count": 47,
   "metadata": {},
   "outputs": [],
   "source": [
    "lr_6 = linear_model.Ridge(alpha=1)"
   ]
  },
  {
   "cell_type": "code",
   "execution_count": 48,
   "metadata": {},
   "outputs": [
    {
     "data": {
      "text/plain": [
       "Ridge(alpha=1, copy_X=True, fit_intercept=True, max_iter=None,\n",
       "   normalize=False, random_state=None, solver='auto', tol=0.001)"
      ]
     },
     "execution_count": 48,
     "metadata": {},
     "output_type": "execute_result"
    }
   ],
   "source": [
    "lr_6.fit(X_train, y_train)"
   ]
  },
  {
   "cell_type": "code",
   "execution_count": 49,
   "metadata": {},
   "outputs": [
    {
     "data": {
      "text/plain": [
       "0.621875687695347"
      ]
     },
     "execution_count": 49,
     "metadata": {},
     "output_type": "execute_result"
    }
   ],
   "source": [
    "lr_6.score(X_test, y_test)"
   ]
  },
  {
   "cell_type": "code",
   "execution_count": 50,
   "metadata": {
    "scrolled": true
   },
   "outputs": [
    {
     "data": {
      "text/plain": [
       "array([178.28647303, 174.17563067, 162.27984663, 172.30645936,\n",
       "       177.01143381, 194.83043131, 172.5284356 , 164.25192961,\n",
       "       174.2756491 , 174.77172973, 176.31234177, 205.97603669,\n",
       "       156.19165277, 157.61862647, 221.01656062, 118.96910465,\n",
       "       190.12973799, 208.2054883 , 209.28291173, 181.50484775])"
      ]
     },
     "execution_count": 50,
     "metadata": {},
     "output_type": "execute_result"
    }
   ],
   "source": [
    "y_pred_6 = lr_6.predict(X_test)\n",
    "y_pred_6[0:20]"
   ]
  },
  {
   "cell_type": "code",
   "execution_count": 51,
   "metadata": {
    "scrolled": true
   },
   "outputs": [
    {
     "name": "stdout",
     "output_type": "stream",
     "text": [
      "R^2: 0.621875687695347\n",
      "Root Mean Squared Error: 16.616778213212243\n"
     ]
    }
   ],
   "source": [
    "print(\"R^2: {}\".format(lr_6.score(X_test, y_test)))\n",
    "rmse = np.sqrt(mean_squared_error(y_test, y_pred_6))\n",
    "print(\"Root Mean Squared Error: {}\".format(rmse))"
   ]
  },
  {
   "cell_type": "code",
   "execution_count": 52,
   "metadata": {},
   "outputs": [],
   "source": [
    "filename = 'cancer_lr_6.sav'\n",
    "pickle.dump(lr_6, open(filename, 'wb'))"
   ]
  },
  {
   "cell_type": "code",
   "execution_count": 53,
   "metadata": {},
   "outputs": [],
   "source": [
    "lr_7 = linear_model.Ridge(alpha=10)"
   ]
  },
  {
   "cell_type": "code",
   "execution_count": 54,
   "metadata": {},
   "outputs": [
    {
     "data": {
      "text/plain": [
       "Ridge(alpha=10, copy_X=True, fit_intercept=True, max_iter=None,\n",
       "   normalize=False, random_state=None, solver='auto', tol=0.001)"
      ]
     },
     "execution_count": 54,
     "metadata": {},
     "output_type": "execute_result"
    }
   ],
   "source": [
    "lr_7.fit(X_train, y_train)"
   ]
  },
  {
   "cell_type": "code",
   "execution_count": 55,
   "metadata": {},
   "outputs": [
    {
     "data": {
      "text/plain": [
       "0.6130069769511672"
      ]
     },
     "execution_count": 55,
     "metadata": {},
     "output_type": "execute_result"
    }
   ],
   "source": [
    "lr_7.score(X_test, y_test)"
   ]
  },
  {
   "cell_type": "code",
   "execution_count": 56,
   "metadata": {
    "scrolled": true
   },
   "outputs": [
    {
     "data": {
      "text/plain": [
       "array([181.51286025, 174.10250058, 162.20529353, 172.25515681,\n",
       "       174.55663576, 195.29457997, 174.05345022, 164.98582162,\n",
       "       173.29383255, 175.64665633, 177.42640552, 204.45822472,\n",
       "       155.87860822, 157.57432719, 221.611936  , 123.83752835,\n",
       "       192.35713456, 208.18793317, 208.72564655, 181.32054181])"
      ]
     },
     "execution_count": 56,
     "metadata": {},
     "output_type": "execute_result"
    }
   ],
   "source": [
    "y_pred_7 = lr_7.predict(X_test)\n",
    "y_pred_7[0:20]"
   ]
  },
  {
   "cell_type": "code",
   "execution_count": 57,
   "metadata": {
    "scrolled": true
   },
   "outputs": [
    {
     "name": "stdout",
     "output_type": "stream",
     "text": [
      "R^2: 0.6130069769511672\n",
      "Root Mean Squared Error: 16.810517763883496\n"
     ]
    }
   ],
   "source": [
    "print(\"R^2: {}\".format(lr_7.score(X_test, y_test)))\n",
    "rmse = np.sqrt(mean_squared_error(y_test, y_pred_7))\n",
    "print(\"Root Mean Squared Error: {}\".format(rmse))"
   ]
  },
  {
   "cell_type": "code",
   "execution_count": 58,
   "metadata": {},
   "outputs": [],
   "source": [
    "filename = 'cancer_lr_7.sav'\n",
    "pickle.dump(lr_7, open(filename, 'wb'))"
   ]
  },
  {
   "cell_type": "code",
   "execution_count": 59,
   "metadata": {},
   "outputs": [],
   "source": [
    "lr_8 = linear_model.Ridge(alpha=100)"
   ]
  },
  {
   "cell_type": "code",
   "execution_count": 60,
   "metadata": {},
   "outputs": [
    {
     "data": {
      "text/plain": [
       "Ridge(alpha=100, copy_X=True, fit_intercept=True, max_iter=None,\n",
       "   normalize=False, random_state=None, solver='auto', tol=0.001)"
      ]
     },
     "execution_count": 60,
     "metadata": {},
     "output_type": "execute_result"
    }
   ],
   "source": [
    "lr_8.fit(X_train, y_train)"
   ]
  },
  {
   "cell_type": "code",
   "execution_count": 61,
   "metadata": {},
   "outputs": [
    {
     "data": {
      "text/plain": [
       "0.6077184879304566"
      ]
     },
     "execution_count": 61,
     "metadata": {},
     "output_type": "execute_result"
    }
   ],
   "source": [
    "lr_8.score(X_test, y_test)"
   ]
  },
  {
   "cell_type": "code",
   "execution_count": 62,
   "metadata": {
    "scrolled": true
   },
   "outputs": [
    {
     "data": {
      "text/plain": [
       "array([183.68141199, 173.60746417, 162.40412631, 173.34668138,\n",
       "       173.94359086, 196.84462871, 174.8321663 , 167.2311882 ,\n",
       "       172.32978501, 175.49194848, 181.82877995, 199.60967788,\n",
       "       155.46650297, 157.4052525 , 220.99979024, 126.20640224,\n",
       "       193.99067578, 207.39410635, 204.84855801, 182.33624219])"
      ]
     },
     "execution_count": 62,
     "metadata": {},
     "output_type": "execute_result"
    }
   ],
   "source": [
    "y_pred_8 = lr_8.predict(X_test)\n",
    "y_pred_8[0:20]"
   ]
  },
  {
   "cell_type": "code",
   "execution_count": 63,
   "metadata": {
    "scrolled": true
   },
   "outputs": [
    {
     "name": "stdout",
     "output_type": "stream",
     "text": [
      "R^2: 0.6077184879304566\n",
      "Root Mean Squared Error: 16.92499084949676\n"
     ]
    }
   ],
   "source": [
    "print(\"R^2: {}\".format(lr_8.score(X_test, y_test)))\n",
    "rmse = np.sqrt(mean_squared_error(y_test, y_pred_8))\n",
    "print(\"Root Mean Squared Error: {}\".format(rmse))"
   ]
  },
  {
   "cell_type": "code",
   "execution_count": 64,
   "metadata": {},
   "outputs": [],
   "source": [
    "filename = 'cancer_lr_8.sav'\n",
    "pickle.dump(lr_8, open(filename, 'wb'))"
   ]
  },
  {
   "cell_type": "markdown",
   "metadata": {},
   "source": [
    "## LASSO"
   ]
  },
  {
   "cell_type": "markdown",
   "metadata": {},
   "source": [
    "LASSO will never converge without normalization. Although the MinMax Scaler will be experimented later in the notebook in conjunction with LASSO, the LASSO function with internal normalization is first tried below."
   ]
  },
  {
   "cell_type": "code",
   "execution_count": 65,
   "metadata": {},
   "outputs": [],
   "source": [
    "lr_9 = linear_model.Lasso(alpha=0.001, normalize=True, max_iter=2000)"
   ]
  },
  {
   "cell_type": "code",
   "execution_count": 66,
   "metadata": {},
   "outputs": [
    {
     "data": {
      "text/plain": [
       "Lasso(alpha=0.001, copy_X=True, fit_intercept=True, max_iter=2000,\n",
       "   normalize=True, positive=False, precompute=False, random_state=None,\n",
       "   selection='cyclic', tol=0.0001, warm_start=False)"
      ]
     },
     "execution_count": 66,
     "metadata": {},
     "output_type": "execute_result"
    }
   ],
   "source": [
    "lr_9.fit(X_train, y_train)"
   ]
  },
  {
   "cell_type": "code",
   "execution_count": 67,
   "metadata": {},
   "outputs": [
    {
     "data": {
      "text/plain": [
       "0.5998320401737283"
      ]
     },
     "execution_count": 67,
     "metadata": {},
     "output_type": "execute_result"
    }
   ],
   "source": [
    "lr_9.score(X_test, y_test)"
   ]
  },
  {
   "cell_type": "code",
   "execution_count": 68,
   "metadata": {
    "scrolled": false
   },
   "outputs": [
    {
     "data": {
      "text/plain": [
       "array([179.08404154, 176.19810178, 159.42083274, 175.09287333,\n",
       "       177.27253783, 196.87050709, 173.28475524, 165.38649937,\n",
       "       170.85577602, 171.49963145, 177.28394713, 203.97845261,\n",
       "       159.40360776, 156.60794932, 221.34930732, 115.38069907,\n",
       "       187.57933553, 205.12641525, 206.61495516, 183.56065355])"
      ]
     },
     "execution_count": 68,
     "metadata": {},
     "output_type": "execute_result"
    }
   ],
   "source": [
    "y_pred_9 = lr_9.predict(X_test)\n",
    "y_pred_9[0:20]"
   ]
  },
  {
   "cell_type": "code",
   "execution_count": 69,
   "metadata": {
    "scrolled": true
   },
   "outputs": [
    {
     "name": "stdout",
     "output_type": "stream",
     "text": [
      "R^2: 0.5998320401737283\n",
      "Root Mean Squared Error: 17.094274705054904\n"
     ]
    }
   ],
   "source": [
    "print(\"R^2: {}\".format(lr_9.score(X_test, y_test)))\n",
    "rmse = np.sqrt(mean_squared_error(y_test, y_pred_9))\n",
    "print(\"Root Mean Squared Error: {}\".format(rmse))"
   ]
  },
  {
   "cell_type": "code",
   "execution_count": 70,
   "metadata": {},
   "outputs": [],
   "source": [
    "filename = 'cancer_lr_9.sav'\n",
    "pickle.dump(lr_9, open(filename, 'wb'))"
   ]
  },
  {
   "cell_type": "code",
   "execution_count": 71,
   "metadata": {},
   "outputs": [],
   "source": [
    "lr_10 = linear_model.Lasso(alpha=0.01, normalize=True, max_iter=2000)"
   ]
  },
  {
   "cell_type": "code",
   "execution_count": 72,
   "metadata": {},
   "outputs": [
    {
     "data": {
      "text/plain": [
       "Lasso(alpha=0.01, copy_X=True, fit_intercept=True, max_iter=2000,\n",
       "   normalize=True, positive=False, precompute=False, random_state=None,\n",
       "   selection='cyclic', tol=0.0001, warm_start=False)"
      ]
     },
     "execution_count": 72,
     "metadata": {},
     "output_type": "execute_result"
    }
   ],
   "source": [
    "lr_10.fit(X_train, y_train)"
   ]
  },
  {
   "cell_type": "code",
   "execution_count": 73,
   "metadata": {},
   "outputs": [
    {
     "data": {
      "text/plain": [
       "0.594475255322545"
      ]
     },
     "execution_count": 73,
     "metadata": {},
     "output_type": "execute_result"
    }
   ],
   "source": [
    "lr_10.score(X_test, y_test)"
   ]
  },
  {
   "cell_type": "code",
   "execution_count": 74,
   "metadata": {
    "scrolled": false
   },
   "outputs": [
    {
     "data": {
      "text/plain": [
       "array([185.11889985, 176.30771271, 166.3214211 , 176.98537907,\n",
       "       170.28123545, 200.57791348, 173.72497032, 172.01673999,\n",
       "       172.08606202, 170.06650011, 183.86795521, 194.1600771 ,\n",
       "       163.7421692 , 161.67062688, 220.46487863, 122.25124147,\n",
       "       190.42182788, 199.79208002, 201.43295303, 183.92432696])"
      ]
     },
     "execution_count": 74,
     "metadata": {},
     "output_type": "execute_result"
    }
   ],
   "source": [
    "y_pred_10 = lr_10.predict(X_test)\n",
    "y_pred_10[0:20]"
   ]
  },
  {
   "cell_type": "code",
   "execution_count": 75,
   "metadata": {
    "scrolled": true
   },
   "outputs": [
    {
     "name": "stdout",
     "output_type": "stream",
     "text": [
      "R^2: 0.594475255322545\n",
      "Root Mean Squared Error: 17.208309244371353\n"
     ]
    }
   ],
   "source": [
    "print(\"R^2: {}\".format(lr_10.score(X_test, y_test)))\n",
    "rmse = np.sqrt(mean_squared_error(y_test, y_pred_10))\n",
    "print(\"Root Mean Squared Error: {}\".format(rmse))"
   ]
  },
  {
   "cell_type": "code",
   "execution_count": 76,
   "metadata": {},
   "outputs": [],
   "source": [
    "filename = 'cancer_lr_10.sav'\n",
    "pickle.dump(lr_10, open(filename, 'wb'))"
   ]
  },
  {
   "cell_type": "code",
   "execution_count": 77,
   "metadata": {},
   "outputs": [],
   "source": [
    "lr_11 = linear_model.Lasso(alpha=0.1, normalize=True, max_iter=2000)"
   ]
  },
  {
   "cell_type": "code",
   "execution_count": 78,
   "metadata": {},
   "outputs": [
    {
     "data": {
      "text/plain": [
       "Lasso(alpha=0.1, copy_X=True, fit_intercept=True, max_iter=2000,\n",
       "   normalize=True, positive=False, precompute=False, random_state=None,\n",
       "   selection='cyclic', tol=0.0001, warm_start=False)"
      ]
     },
     "execution_count": 78,
     "metadata": {},
     "output_type": "execute_result"
    }
   ],
   "source": [
    "lr_11.fit(X_train, y_train)"
   ]
  },
  {
   "cell_type": "code",
   "execution_count": 79,
   "metadata": {},
   "outputs": [
    {
     "data": {
      "text/plain": [
       "0.45548542937157255"
      ]
     },
     "execution_count": 79,
     "metadata": {},
     "output_type": "execute_result"
    }
   ],
   "source": [
    "lr_11.score(X_test, y_test)"
   ]
  },
  {
   "cell_type": "code",
   "execution_count": 80,
   "metadata": {
    "scrolled": false
   },
   "outputs": [
    {
     "data": {
      "text/plain": [
       "array([187.81731941, 176.3460354 , 171.92094489, 176.59754821,\n",
       "       172.80994976, 191.12387984, 177.23686082, 181.80709607,\n",
       "       172.2819364 , 177.99533327, 183.23656609, 185.27581793,\n",
       "       174.67196715, 170.54334155, 201.03917248, 136.80641452,\n",
       "       188.87892173, 191.15520664, 188.31907096, 183.94689769])"
      ]
     },
     "execution_count": 80,
     "metadata": {},
     "output_type": "execute_result"
    }
   ],
   "source": [
    "y_pred_11 = lr_11.predict(X_test)\n",
    "y_pred_11[0:20]"
   ]
  },
  {
   "cell_type": "code",
   "execution_count": 81,
   "metadata": {
    "scrolled": true
   },
   "outputs": [
    {
     "name": "stdout",
     "output_type": "stream",
     "text": [
      "R^2: 0.45548542937157255\n",
      "Root Mean Squared Error: 19.940418782365576\n"
     ]
    }
   ],
   "source": [
    "print(\"R^2: {}\".format(lr_11.score(X_test, y_test)))\n",
    "rmse = np.sqrt(mean_squared_error(y_test, y_pred_11))\n",
    "print(\"Root Mean Squared Error: {}\".format(rmse))"
   ]
  },
  {
   "cell_type": "code",
   "execution_count": 82,
   "metadata": {},
   "outputs": [],
   "source": [
    "filename = 'cancer_lr_11.sav'\n",
    "pickle.dump(lr_11, open(filename, 'wb'))"
   ]
  },
  {
   "cell_type": "code",
   "execution_count": 83,
   "metadata": {},
   "outputs": [],
   "source": [
    "lr_12 = linear_model.Lasso(alpha=1, normalize=True, max_iter=2000)"
   ]
  },
  {
   "cell_type": "code",
   "execution_count": 84,
   "metadata": {},
   "outputs": [
    {
     "data": {
      "text/plain": [
       "Lasso(alpha=1, copy_X=True, fit_intercept=True, max_iter=2000, normalize=True,\n",
       "   positive=False, precompute=False, random_state=None, selection='cyclic',\n",
       "   tol=0.0001, warm_start=False)"
      ]
     },
     "execution_count": 84,
     "metadata": {},
     "output_type": "execute_result"
    }
   ],
   "source": [
    "lr_12.fit(X_train, y_train)"
   ]
  },
  {
   "cell_type": "code",
   "execution_count": 85,
   "metadata": {},
   "outputs": [
    {
     "data": {
      "text/plain": [
       "-0.00798750229846834"
      ]
     },
     "execution_count": 85,
     "metadata": {},
     "output_type": "execute_result"
    }
   ],
   "source": [
    "lr_12.score(X_test, y_test)"
   ]
  },
  {
   "cell_type": "code",
   "execution_count": 86,
   "metadata": {
    "scrolled": false
   },
   "outputs": [
    {
     "data": {
      "text/plain": [
       "array([179.14755847, 179.14755847, 179.14755847, 179.14755847,\n",
       "       179.14755847, 179.14755847, 179.14755847, 179.14755847,\n",
       "       179.14755847, 179.14755847, 179.14755847, 179.14755847,\n",
       "       179.14755847, 179.14755847, 179.14755847, 179.14755847,\n",
       "       179.14755847, 179.14755847, 179.14755847, 179.14755847])"
      ]
     },
     "execution_count": 86,
     "metadata": {},
     "output_type": "execute_result"
    }
   ],
   "source": [
    "y_pred_12 = lr_12.predict(X_test)\n",
    "y_pred_12[0:20]"
   ]
  },
  {
   "cell_type": "code",
   "execution_count": 87,
   "metadata": {
    "scrolled": true
   },
   "outputs": [
    {
     "name": "stdout",
     "output_type": "stream",
     "text": [
      "R^2: -0.00798750229846834\n",
      "Root Mean Squared Error: 27.130456166458586\n"
     ]
    }
   ],
   "source": [
    "print(\"R^2: {}\".format(lr_12.score(X_test, y_test)))\n",
    "rmse = np.sqrt(mean_squared_error(y_test, y_pred_12))\n",
    "print(\"Root Mean Squared Error: {}\".format(rmse))"
   ]
  },
  {
   "cell_type": "code",
   "execution_count": 88,
   "metadata": {},
   "outputs": [],
   "source": [
    "filename = 'cancer_lr_12.sav'\n",
    "pickle.dump(lr_12, open(filename, 'wb'))"
   ]
  },
  {
   "cell_type": "code",
   "execution_count": 89,
   "metadata": {},
   "outputs": [],
   "source": [
    "lr_13 = linear_model.Lasso(alpha=10, normalize=True, max_iter=2000)"
   ]
  },
  {
   "cell_type": "code",
   "execution_count": 90,
   "metadata": {},
   "outputs": [
    {
     "data": {
      "text/plain": [
       "Lasso(alpha=10, copy_X=True, fit_intercept=True, max_iter=2000,\n",
       "   normalize=True, positive=False, precompute=False, random_state=None,\n",
       "   selection='cyclic', tol=0.0001, warm_start=False)"
      ]
     },
     "execution_count": 90,
     "metadata": {},
     "output_type": "execute_result"
    }
   ],
   "source": [
    "lr_13.fit(X_train, y_train)"
   ]
  },
  {
   "cell_type": "code",
   "execution_count": 91,
   "metadata": {},
   "outputs": [
    {
     "data": {
      "text/plain": [
       "-0.00798750229846834"
      ]
     },
     "execution_count": 91,
     "metadata": {},
     "output_type": "execute_result"
    }
   ],
   "source": [
    "lr_13.score(X_test, y_test)"
   ]
  },
  {
   "cell_type": "code",
   "execution_count": 92,
   "metadata": {
    "scrolled": false
   },
   "outputs": [
    {
     "data": {
      "text/plain": [
       "array([179.14755847, 179.14755847, 179.14755847, 179.14755847,\n",
       "       179.14755847, 179.14755847, 179.14755847, 179.14755847,\n",
       "       179.14755847, 179.14755847, 179.14755847, 179.14755847,\n",
       "       179.14755847, 179.14755847, 179.14755847, 179.14755847,\n",
       "       179.14755847, 179.14755847, 179.14755847, 179.14755847])"
      ]
     },
     "execution_count": 92,
     "metadata": {},
     "output_type": "execute_result"
    }
   ],
   "source": [
    "y_pred_13 = lr_13.predict(X_test)\n",
    "y_pred_13[0:20]"
   ]
  },
  {
   "cell_type": "code",
   "execution_count": 93,
   "metadata": {
    "scrolled": true
   },
   "outputs": [
    {
     "name": "stdout",
     "output_type": "stream",
     "text": [
      "R^2: -0.00798750229846834\n",
      "Root Mean Squared Error: 27.130456166458586\n"
     ]
    }
   ],
   "source": [
    "print(\"R^2: {}\".format(lr_13.score(X_test, y_test)))\n",
    "rmse = np.sqrt(mean_squared_error(y_test, y_pred_13))\n",
    "print(\"Root Mean Squared Error: {}\".format(rmse))"
   ]
  },
  {
   "cell_type": "code",
   "execution_count": 94,
   "metadata": {},
   "outputs": [],
   "source": [
    "filename = 'cancer_lr_13.sav'\n",
    "pickle.dump(lr_13, open(filename, 'wb'))"
   ]
  },
  {
   "cell_type": "code",
   "execution_count": 95,
   "metadata": {},
   "outputs": [],
   "source": [
    "lr_14 = linear_model.Lasso(alpha=100, normalize=True, max_iter=2000)"
   ]
  },
  {
   "cell_type": "code",
   "execution_count": 96,
   "metadata": {},
   "outputs": [
    {
     "data": {
      "text/plain": [
       "Lasso(alpha=100, copy_X=True, fit_intercept=True, max_iter=2000,\n",
       "   normalize=True, positive=False, precompute=False, random_state=None,\n",
       "   selection='cyclic', tol=0.0001, warm_start=False)"
      ]
     },
     "execution_count": 96,
     "metadata": {},
     "output_type": "execute_result"
    }
   ],
   "source": [
    "lr_14.fit(X_train, y_train)"
   ]
  },
  {
   "cell_type": "code",
   "execution_count": 97,
   "metadata": {},
   "outputs": [
    {
     "data": {
      "text/plain": [
       "-0.00798750229846834"
      ]
     },
     "execution_count": 97,
     "metadata": {},
     "output_type": "execute_result"
    }
   ],
   "source": [
    "lr_14.score(X_test, y_test)"
   ]
  },
  {
   "cell_type": "code",
   "execution_count": 98,
   "metadata": {
    "scrolled": false
   },
   "outputs": [
    {
     "data": {
      "text/plain": [
       "array([179.14755847, 179.14755847, 179.14755847, 179.14755847,\n",
       "       179.14755847, 179.14755847, 179.14755847, 179.14755847,\n",
       "       179.14755847, 179.14755847, 179.14755847, 179.14755847,\n",
       "       179.14755847, 179.14755847, 179.14755847, 179.14755847,\n",
       "       179.14755847, 179.14755847, 179.14755847, 179.14755847])"
      ]
     },
     "execution_count": 98,
     "metadata": {},
     "output_type": "execute_result"
    }
   ],
   "source": [
    "y_pred_14 = lr_14.predict(X_test)\n",
    "y_pred_14[0:20]"
   ]
  },
  {
   "cell_type": "code",
   "execution_count": 99,
   "metadata": {
    "scrolled": true
   },
   "outputs": [
    {
     "name": "stdout",
     "output_type": "stream",
     "text": [
      "R^2: -0.00798750229846834\n",
      "Root Mean Squared Error: 27.130456166458586\n"
     ]
    }
   ],
   "source": [
    "print(\"R^2: {}\".format(lr_14.score(X_test, y_test)))\n",
    "rmse = np.sqrt(mean_squared_error(y_test, y_pred_14))\n",
    "print(\"Root Mean Squared Error: {}\".format(rmse))"
   ]
  },
  {
   "cell_type": "code",
   "execution_count": 100,
   "metadata": {},
   "outputs": [],
   "source": [
    "filename = 'cancer_lr_14.sav'\n",
    "pickle.dump(lr_14, open(filename, 'wb'))"
   ]
  },
  {
   "cell_type": "markdown",
   "metadata": {},
   "source": [
    "## Elastic Net with L1 Ratio of 0.25"
   ]
  },
  {
   "cell_type": "code",
   "execution_count": 101,
   "metadata": {},
   "outputs": [],
   "source": [
    "lr_15 = linear_model.ElasticNet(alpha=0.001, l1_ratio=0.25, normalize=True)"
   ]
  },
  {
   "cell_type": "code",
   "execution_count": 102,
   "metadata": {},
   "outputs": [
    {
     "data": {
      "text/plain": [
       "ElasticNet(alpha=0.001, copy_X=True, fit_intercept=True, l1_ratio=0.25,\n",
       "      max_iter=1000, normalize=True, positive=False, precompute=False,\n",
       "      random_state=None, selection='cyclic', tol=0.0001, warm_start=False)"
      ]
     },
     "execution_count": 102,
     "metadata": {},
     "output_type": "execute_result"
    }
   ],
   "source": [
    "lr_15.fit(X_train, y_train)"
   ]
  },
  {
   "cell_type": "code",
   "execution_count": 103,
   "metadata": {},
   "outputs": [
    {
     "data": {
      "text/plain": [
       "0.49190155235439337"
      ]
     },
     "execution_count": 103,
     "metadata": {},
     "output_type": "execute_result"
    }
   ],
   "source": [
    "lr_15.score(X_test, y_test)"
   ]
  },
  {
   "cell_type": "code",
   "execution_count": 104,
   "metadata": {
    "scrolled": true
   },
   "outputs": [
    {
     "data": {
      "text/plain": [
       "array([170.95437434, 176.36094391, 164.45840772, 175.63669806,\n",
       "       178.08345981, 193.98510616, 175.32038492, 167.86477987,\n",
       "       165.50403983, 174.36013448, 181.79767063, 203.00044749,\n",
       "       162.33978453, 161.07682502, 213.08867172, 127.14256212,\n",
       "       189.16329271, 201.59158519, 195.99667923, 187.37673869])"
      ]
     },
     "execution_count": 104,
     "metadata": {},
     "output_type": "execute_result"
    }
   ],
   "source": [
    "y_pred_15 = lr_15.predict(X_test)\n",
    "y_pred_15[0:20]"
   ]
  },
  {
   "cell_type": "code",
   "execution_count": 105,
   "metadata": {
    "scrolled": false
   },
   "outputs": [
    {
     "name": "stdout",
     "output_type": "stream",
     "text": [
      "R^2: 0.49190155235439337\n",
      "Root Mean Squared Error: 19.26209215267006\n"
     ]
    }
   ],
   "source": [
    "print(\"R^2: {}\".format(lr_15.score(X_test, y_test)))\n",
    "rmse = np.sqrt(mean_squared_error(y_test, y_pred_15))\n",
    "print(\"Root Mean Squared Error: {}\".format(rmse))"
   ]
  },
  {
   "cell_type": "code",
   "execution_count": 106,
   "metadata": {},
   "outputs": [],
   "source": [
    "lr_16 = linear_model.ElasticNet(alpha=0.01, l1_ratio=0.25, normalize=True)"
   ]
  },
  {
   "cell_type": "code",
   "execution_count": 107,
   "metadata": {},
   "outputs": [
    {
     "data": {
      "text/plain": [
       "ElasticNet(alpha=0.01, copy_X=True, fit_intercept=True, l1_ratio=0.25,\n",
       "      max_iter=1000, normalize=True, positive=False, precompute=False,\n",
       "      random_state=None, selection='cyclic', tol=0.0001, warm_start=False)"
      ]
     },
     "execution_count": 107,
     "metadata": {},
     "output_type": "execute_result"
    }
   ],
   "source": [
    "lr_16.fit(X_train, y_train)"
   ]
  },
  {
   "cell_type": "code",
   "execution_count": 108,
   "metadata": {},
   "outputs": [
    {
     "data": {
      "text/plain": [
       "0.30787577694259743"
      ]
     },
     "execution_count": 108,
     "metadata": {},
     "output_type": "execute_result"
    }
   ],
   "source": [
    "lr_16.score(X_test, y_test)"
   ]
  },
  {
   "cell_type": "code",
   "execution_count": 109,
   "metadata": {
    "scrolled": true
   },
   "outputs": [
    {
     "data": {
      "text/plain": [
       "array([170.76237575, 177.20255587, 171.01026219, 177.40422787,\n",
       "       179.15725048, 188.30935096, 178.11517384, 173.8346168 ,\n",
       "       168.40437921, 176.21044743, 183.77945312, 194.91755311,\n",
       "       170.63556204, 169.14381897, 195.87889423, 151.55066664,\n",
       "       187.90977896, 191.60971669, 188.02412753, 187.55979514])"
      ]
     },
     "execution_count": 109,
     "metadata": {},
     "output_type": "execute_result"
    }
   ],
   "source": [
    "y_pred_16 = lr_16.predict(X_test)\n",
    "y_pred_16[0:20]"
   ]
  },
  {
   "cell_type": "code",
   "execution_count": 110,
   "metadata": {
    "scrolled": true
   },
   "outputs": [
    {
     "name": "stdout",
     "output_type": "stream",
     "text": [
      "R^2: 0.30787577694259743\n",
      "Root Mean Squared Error: 22.481306505397043\n"
     ]
    }
   ],
   "source": [
    "print(\"R^2: {}\".format(lr_16.score(X_test, y_test)))\n",
    "rmse = np.sqrt(mean_squared_error(y_test, y_pred_16))\n",
    "print(\"Root Mean Squared Error: {}\".format(rmse))"
   ]
  },
  {
   "cell_type": "code",
   "execution_count": 111,
   "metadata": {},
   "outputs": [],
   "source": [
    "lr_17 = linear_model.ElasticNet(alpha=0.1, l1_ratio=0.25, normalize=True)"
   ]
  },
  {
   "cell_type": "code",
   "execution_count": 112,
   "metadata": {},
   "outputs": [
    {
     "data": {
      "text/plain": [
       "ElasticNet(alpha=0.1, copy_X=True, fit_intercept=True, l1_ratio=0.25,\n",
       "      max_iter=1000, normalize=True, positive=False, precompute=False,\n",
       "      random_state=None, selection='cyclic', tol=0.0001, warm_start=False)"
      ]
     },
     "execution_count": 112,
     "metadata": {},
     "output_type": "execute_result"
    }
   ],
   "source": [
    "lr_17.fit(X_train, y_train)"
   ]
  },
  {
   "cell_type": "code",
   "execution_count": 113,
   "metadata": {},
   "outputs": [
    {
     "data": {
      "text/plain": [
       "0.0725357091321811"
      ]
     },
     "execution_count": 113,
     "metadata": {},
     "output_type": "execute_result"
    }
   ],
   "source": [
    "lr_17.score(X_test, y_test)"
   ]
  },
  {
   "cell_type": "code",
   "execution_count": 114,
   "metadata": {
    "scrolled": true
   },
   "outputs": [
    {
     "data": {
      "text/plain": [
       "array([176.81419944, 178.87146455, 177.56952794, 178.71108992,\n",
       "       178.94841071, 181.06972995, 179.28864234, 178.03382554,\n",
       "       176.96131869, 178.53663968, 180.39169398, 182.19726188,\n",
       "       177.57181621, 177.22082932, 182.37613486, 173.81807071,\n",
       "       181.0517028 , 181.35501076, 180.69809804, 181.11019085])"
      ]
     },
     "execution_count": 114,
     "metadata": {},
     "output_type": "execute_result"
    }
   ],
   "source": [
    "y_pred_17 = lr_17.predict(X_test)\n",
    "y_pred_17[0:20]"
   ]
  },
  {
   "cell_type": "code",
   "execution_count": 115,
   "metadata": {
    "scrolled": true
   },
   "outputs": [
    {
     "name": "stdout",
     "output_type": "stream",
     "text": [
      "R^2: 0.0725357091321811\n",
      "Root Mean Squared Error: 26.024243926681066\n"
     ]
    }
   ],
   "source": [
    "print(\"R^2: {}\".format(lr_17.score(X_test, y_test)))\n",
    "rmse = np.sqrt(mean_squared_error(y_test, y_pred_17))\n",
    "print(\"Root Mean Squared Error: {}\".format(rmse))"
   ]
  },
  {
   "cell_type": "code",
   "execution_count": 116,
   "metadata": {},
   "outputs": [],
   "source": [
    "lr_18 = linear_model.ElasticNet(alpha=1, l1_ratio=0.25, normalize=True)"
   ]
  },
  {
   "cell_type": "code",
   "execution_count": 117,
   "metadata": {},
   "outputs": [
    {
     "data": {
      "text/plain": [
       "ElasticNet(alpha=1, copy_X=True, fit_intercept=True, l1_ratio=0.25,\n",
       "      max_iter=1000, normalize=True, positive=False, precompute=False,\n",
       "      random_state=None, selection='cyclic', tol=0.0001, warm_start=False)"
      ]
     },
     "execution_count": 117,
     "metadata": {},
     "output_type": "execute_result"
    }
   ],
   "source": [
    "lr_18.fit(X_train, y_train)"
   ]
  },
  {
   "cell_type": "code",
   "execution_count": 118,
   "metadata": {},
   "outputs": [
    {
     "data": {
      "text/plain": [
       "-0.007738882107724887"
      ]
     },
     "execution_count": 118,
     "metadata": {},
     "output_type": "execute_result"
    }
   ],
   "source": [
    "lr_18.score(X_test, y_test)"
   ]
  },
  {
   "cell_type": "code",
   "execution_count": 119,
   "metadata": {
    "scrolled": true
   },
   "outputs": [
    {
     "data": {
      "text/plain": [
       "array([179.1480978 , 179.14316307, 179.1467997 , 179.14705374,\n",
       "       179.1476209 , 179.15174564, 179.14472912, 179.15098806,\n",
       "       179.1397567 , 179.14746986, 179.14925033, 179.15845061,\n",
       "       179.14442068, 179.14286662, 179.15587489, 179.1244432 ,\n",
       "       179.1518528 , 179.15487349, 179.14990126, 179.15109355])"
      ]
     },
     "execution_count": 119,
     "metadata": {},
     "output_type": "execute_result"
    }
   ],
   "source": [
    "y_pred_18 = lr_18.predict(X_test)\n",
    "y_pred_18[0:20]"
   ]
  },
  {
   "cell_type": "code",
   "execution_count": 120,
   "metadata": {
    "scrolled": true
   },
   "outputs": [
    {
     "name": "stdout",
     "output_type": "stream",
     "text": [
      "R^2: -0.007738882107724887\n",
      "Root Mean Squared Error: 27.127110095625508\n"
     ]
    }
   ],
   "source": [
    "print(\"R^2: {}\".format(lr_18.score(X_test, y_test)))\n",
    "rmse = np.sqrt(mean_squared_error(y_test, y_pred_18))\n",
    "print(\"Root Mean Squared Error: {}\".format(rmse))"
   ]
  },
  {
   "cell_type": "code",
   "execution_count": 121,
   "metadata": {},
   "outputs": [],
   "source": [
    "filename = 'cancer_lr_18.sav'\n",
    "pickle.dump(lr_18, open(filename, 'wb'))"
   ]
  },
  {
   "cell_type": "code",
   "execution_count": 122,
   "metadata": {},
   "outputs": [],
   "source": [
    "lr_19 = linear_model.ElasticNet(alpha=10, l1_ratio=0.25, normalize=True)"
   ]
  },
  {
   "cell_type": "code",
   "execution_count": 123,
   "metadata": {},
   "outputs": [
    {
     "data": {
      "text/plain": [
       "ElasticNet(alpha=10, copy_X=True, fit_intercept=True, l1_ratio=0.25,\n",
       "      max_iter=1000, normalize=True, positive=False, precompute=False,\n",
       "      random_state=None, selection='cyclic', tol=0.0001, warm_start=False)"
      ]
     },
     "execution_count": 123,
     "metadata": {},
     "output_type": "execute_result"
    }
   ],
   "source": [
    "lr_19.fit(X_train, y_train)"
   ]
  },
  {
   "cell_type": "code",
   "execution_count": 124,
   "metadata": {},
   "outputs": [
    {
     "data": {
      "text/plain": [
       "-0.00798750229846834"
      ]
     },
     "execution_count": 124,
     "metadata": {},
     "output_type": "execute_result"
    }
   ],
   "source": [
    "lr_19.score(X_test, y_test)"
   ]
  },
  {
   "cell_type": "code",
   "execution_count": 125,
   "metadata": {
    "scrolled": true
   },
   "outputs": [
    {
     "data": {
      "text/plain": [
       "array([179.14755847, 179.14755847, 179.14755847, 179.14755847,\n",
       "       179.14755847, 179.14755847, 179.14755847, 179.14755847,\n",
       "       179.14755847, 179.14755847, 179.14755847, 179.14755847,\n",
       "       179.14755847, 179.14755847, 179.14755847, 179.14755847,\n",
       "       179.14755847, 179.14755847, 179.14755847, 179.14755847])"
      ]
     },
     "execution_count": 125,
     "metadata": {},
     "output_type": "execute_result"
    }
   ],
   "source": [
    "y_pred_19 = lr_19.predict(X_test)\n",
    "y_pred_19[0:20]"
   ]
  },
  {
   "cell_type": "code",
   "execution_count": 126,
   "metadata": {
    "scrolled": true
   },
   "outputs": [
    {
     "name": "stdout",
     "output_type": "stream",
     "text": [
      "R^2: -0.00798750229846834\n",
      "Root Mean Squared Error: 27.130456166458586\n"
     ]
    }
   ],
   "source": [
    "print(\"R^2: {}\".format(lr_19.score(X_test, y_test)))\n",
    "rmse = np.sqrt(mean_squared_error(y_test, y_pred_19))\n",
    "print(\"Root Mean Squared Error: {}\".format(rmse))"
   ]
  },
  {
   "cell_type": "code",
   "execution_count": 127,
   "metadata": {},
   "outputs": [],
   "source": [
    "lr_20 = linear_model.ElasticNet(alpha=100, l1_ratio=0.25, normalize=True)"
   ]
  },
  {
   "cell_type": "code",
   "execution_count": 128,
   "metadata": {},
   "outputs": [
    {
     "data": {
      "text/plain": [
       "ElasticNet(alpha=100, copy_X=True, fit_intercept=True, l1_ratio=0.25,\n",
       "      max_iter=1000, normalize=True, positive=False, precompute=False,\n",
       "      random_state=None, selection='cyclic', tol=0.0001, warm_start=False)"
      ]
     },
     "execution_count": 128,
     "metadata": {},
     "output_type": "execute_result"
    }
   ],
   "source": [
    "lr_20.fit(X_train, y_train)"
   ]
  },
  {
   "cell_type": "code",
   "execution_count": 129,
   "metadata": {},
   "outputs": [
    {
     "data": {
      "text/plain": [
       "-0.00798750229846834"
      ]
     },
     "execution_count": 129,
     "metadata": {},
     "output_type": "execute_result"
    }
   ],
   "source": [
    "lr_20.score(X_test, y_test)"
   ]
  },
  {
   "cell_type": "code",
   "execution_count": 130,
   "metadata": {
    "scrolled": true
   },
   "outputs": [
    {
     "data": {
      "text/plain": [
       "array([179.14755847, 179.14755847, 179.14755847, 179.14755847,\n",
       "       179.14755847, 179.14755847, 179.14755847, 179.14755847,\n",
       "       179.14755847, 179.14755847, 179.14755847, 179.14755847,\n",
       "       179.14755847, 179.14755847, 179.14755847, 179.14755847,\n",
       "       179.14755847, 179.14755847, 179.14755847, 179.14755847])"
      ]
     },
     "execution_count": 130,
     "metadata": {},
     "output_type": "execute_result"
    }
   ],
   "source": [
    "y_pred_20 = lr_20.predict(X_test)\n",
    "y_pred_20[0:20]"
   ]
  },
  {
   "cell_type": "code",
   "execution_count": 131,
   "metadata": {
    "scrolled": true
   },
   "outputs": [
    {
     "name": "stdout",
     "output_type": "stream",
     "text": [
      "R^2: -0.00798750229846834\n",
      "Root Mean Squared Error: 27.130456166458586\n"
     ]
    }
   ],
   "source": [
    "print(\"R^2: {}\".format(lr_20.score(X_test, y_test)))\n",
    "rmse = np.sqrt(mean_squared_error(y_test, y_pred_20))\n",
    "print(\"Root Mean Squared Error: {}\".format(rmse))"
   ]
  },
  {
   "cell_type": "markdown",
   "metadata": {},
   "source": [
    "## Elastic Net with L1 Ratio of 0.5"
   ]
  },
  {
   "cell_type": "code",
   "execution_count": 132,
   "metadata": {},
   "outputs": [],
   "source": [
    "lr_21 = linear_model.ElasticNet(alpha=0.001, l1_ratio=0.5, normalize=True)"
   ]
  },
  {
   "cell_type": "code",
   "execution_count": 133,
   "metadata": {},
   "outputs": [
    {
     "data": {
      "text/plain": [
       "ElasticNet(alpha=0.001, copy_X=True, fit_intercept=True, l1_ratio=0.5,\n",
       "      max_iter=1000, normalize=True, positive=False, precompute=False,\n",
       "      random_state=None, selection='cyclic', tol=0.0001, warm_start=False)"
      ]
     },
     "execution_count": 133,
     "metadata": {},
     "output_type": "execute_result"
    }
   ],
   "source": [
    "lr_21.fit(X_train, y_train)"
   ]
  },
  {
   "cell_type": "code",
   "execution_count": 134,
   "metadata": {},
   "outputs": [
    {
     "data": {
      "text/plain": [
       "0.5171383101166998"
      ]
     },
     "execution_count": 134,
     "metadata": {},
     "output_type": "execute_result"
    }
   ],
   "source": [
    "lr_21.score(X_test, y_test)"
   ]
  },
  {
   "cell_type": "code",
   "execution_count": 135,
   "metadata": {
    "scrolled": true
   },
   "outputs": [
    {
     "data": {
      "text/plain": [
       "array([171.66842242, 176.42945061, 163.30730721, 175.69270898,\n",
       "       177.84493978, 194.36741685, 175.14652324, 166.88145197,\n",
       "       165.9978823 , 173.82642174, 181.10044387, 203.15344217,\n",
       "       161.44612749, 160.2450128 , 215.53400894, 124.29084818,\n",
       "       188.89226082, 202.33228133, 197.22356577, 186.65856415])"
      ]
     },
     "execution_count": 135,
     "metadata": {},
     "output_type": "execute_result"
    }
   ],
   "source": [
    "y_pred_21 = lr_21.predict(X_test)\n",
    "y_pred_21[0:20]"
   ]
  },
  {
   "cell_type": "code",
   "execution_count": 136,
   "metadata": {
    "scrolled": false
   },
   "outputs": [
    {
     "name": "stdout",
     "output_type": "stream",
     "text": [
      "R^2: 0.5171383101166998\n",
      "Root Mean Squared Error: 18.777635183012883\n"
     ]
    }
   ],
   "source": [
    "print(\"R^2: {}\".format(lr_21.score(X_test, y_test)))\n",
    "rmse = np.sqrt(mean_squared_error(y_test, y_pred_21))\n",
    "print(\"Root Mean Squared Error: {}\".format(rmse))"
   ]
  },
  {
   "cell_type": "code",
   "execution_count": 137,
   "metadata": {},
   "outputs": [],
   "source": [
    "lr_22 = linear_model.ElasticNet(alpha=0.01, l1_ratio=0.5, normalize=True)"
   ]
  },
  {
   "cell_type": "code",
   "execution_count": 138,
   "metadata": {},
   "outputs": [
    {
     "data": {
      "text/plain": [
       "ElasticNet(alpha=0.01, copy_X=True, fit_intercept=True, l1_ratio=0.5,\n",
       "      max_iter=1000, normalize=True, positive=False, precompute=False,\n",
       "      random_state=None, selection='cyclic', tol=0.0001, warm_start=False)"
      ]
     },
     "execution_count": 138,
     "metadata": {},
     "output_type": "execute_result"
    }
   ],
   "source": [
    "lr_22.fit(X_train, y_train)"
   ]
  },
  {
   "cell_type": "code",
   "execution_count": 139,
   "metadata": {},
   "outputs": [
    {
     "data": {
      "text/plain": [
       "0.3404507974746751"
      ]
     },
     "execution_count": 139,
     "metadata": {},
     "output_type": "execute_result"
    }
   ],
   "source": [
    "lr_22.score(X_test, y_test)"
   ]
  },
  {
   "cell_type": "code",
   "execution_count": 140,
   "metadata": {
    "scrolled": true
   },
   "outputs": [
    {
     "data": {
      "text/plain": [
       "array([170.61636164, 176.86268322, 170.04027523, 176.89932787,\n",
       "       178.93232248, 189.40310438, 177.51211655, 173.52147116,\n",
       "       167.22292419, 175.887877  , 184.04899179, 196.69059728,\n",
       "       169.22150972, 167.71674436, 198.73571331, 147.25453885,\n",
       "       188.59718556, 193.30814215, 189.15295386, 188.28880949])"
      ]
     },
     "execution_count": 140,
     "metadata": {},
     "output_type": "execute_result"
    }
   ],
   "source": [
    "y_pred_22 = lr_22.predict(X_test)\n",
    "y_pred_22[0:20]"
   ]
  },
  {
   "cell_type": "code",
   "execution_count": 141,
   "metadata": {
    "scrolled": true
   },
   "outputs": [
    {
     "name": "stdout",
     "output_type": "stream",
     "text": [
      "R^2: 0.3404507974746751\n",
      "Root Mean Squared Error: 21.945886158164377\n"
     ]
    }
   ],
   "source": [
    "print(\"R^2: {}\".format(lr_22.score(X_test, y_test)))\n",
    "rmse = np.sqrt(mean_squared_error(y_test, y_pred_22))\n",
    "print(\"Root Mean Squared Error: {}\".format(rmse))"
   ]
  },
  {
   "cell_type": "code",
   "execution_count": 142,
   "metadata": {},
   "outputs": [],
   "source": [
    "lr_23 = linear_model.ElasticNet(alpha=0.1, l1_ratio=0.5, normalize=True)"
   ]
  },
  {
   "cell_type": "code",
   "execution_count": 143,
   "metadata": {},
   "outputs": [
    {
     "data": {
      "text/plain": [
       "ElasticNet(alpha=0.1, copy_X=True, fit_intercept=True, l1_ratio=0.5,\n",
       "      max_iter=1000, normalize=True, positive=False, precompute=False,\n",
       "      random_state=None, selection='cyclic', tol=0.0001, warm_start=False)"
      ]
     },
     "execution_count": 143,
     "metadata": {},
     "output_type": "execute_result"
    }
   ],
   "source": [
    "lr_23.fit(X_train, y_train)"
   ]
  },
  {
   "cell_type": "code",
   "execution_count": 144,
   "metadata": {},
   "outputs": [
    {
     "data": {
      "text/plain": [
       "0.08364511786129704"
      ]
     },
     "execution_count": 144,
     "metadata": {},
     "output_type": "execute_result"
    }
   ],
   "source": [
    "lr_23.score(X_test, y_test)"
   ]
  },
  {
   "cell_type": "code",
   "execution_count": 145,
   "metadata": {
    "scrolled": true
   },
   "outputs": [
    {
     "data": {
      "text/plain": [
       "array([176.74512687, 178.7977992 , 177.30246787, 178.54119787,\n",
       "       178.89101848, 181.28248327, 179.16331977, 178.25666609,\n",
       "       176.53706307, 178.44269821, 180.51507686, 182.58406651,\n",
       "       177.34045126, 176.94545028, 182.91069337, 172.89178476,\n",
       "       181.27084026, 181.56904081, 180.8195803 , 181.3809751 ])"
      ]
     },
     "execution_count": 145,
     "metadata": {},
     "output_type": "execute_result"
    }
   ],
   "source": [
    "y_pred_23 = lr_23.predict(X_test)\n",
    "y_pred_23[0:20]"
   ]
  },
  {
   "cell_type": "code",
   "execution_count": 146,
   "metadata": {
    "scrolled": false
   },
   "outputs": [
    {
     "name": "stdout",
     "output_type": "stream",
     "text": [
      "R^2: 0.08364511786129704\n",
      "Root Mean Squared Error: 25.86791178514166\n"
     ]
    }
   ],
   "source": [
    "print(\"R^2: {}\".format(lr_23.score(X_test, y_test)))\n",
    "rmse = np.sqrt(mean_squared_error(y_test, y_pred_23))\n",
    "print(\"Root Mean Squared Error: {}\".format(rmse))"
   ]
  },
  {
   "cell_type": "code",
   "execution_count": 147,
   "metadata": {},
   "outputs": [],
   "source": [
    "lr_24 = linear_model.ElasticNet(alpha=1, l1_ratio=0.5, normalize=True)"
   ]
  },
  {
   "cell_type": "code",
   "execution_count": 148,
   "metadata": {},
   "outputs": [
    {
     "data": {
      "text/plain": [
       "ElasticNet(alpha=1, copy_X=True, fit_intercept=True, l1_ratio=0.5,\n",
       "      max_iter=1000, normalize=True, positive=False, precompute=False,\n",
       "      random_state=None, selection='cyclic', tol=0.0001, warm_start=False)"
      ]
     },
     "execution_count": 148,
     "metadata": {},
     "output_type": "execute_result"
    }
   ],
   "source": [
    "lr_24.fit(X_train, y_train)"
   ]
  },
  {
   "cell_type": "code",
   "execution_count": 149,
   "metadata": {},
   "outputs": [
    {
     "data": {
      "text/plain": [
       "-0.00798750229846834"
      ]
     },
     "execution_count": 149,
     "metadata": {},
     "output_type": "execute_result"
    }
   ],
   "source": [
    "lr_24.score(X_test, y_test)"
   ]
  },
  {
   "cell_type": "code",
   "execution_count": 150,
   "metadata": {
    "scrolled": true
   },
   "outputs": [
    {
     "data": {
      "text/plain": [
       "array([179.14755847, 179.14755847, 179.14755847, 179.14755847,\n",
       "       179.14755847, 179.14755847, 179.14755847, 179.14755847,\n",
       "       179.14755847, 179.14755847, 179.14755847, 179.14755847,\n",
       "       179.14755847, 179.14755847, 179.14755847, 179.14755847,\n",
       "       179.14755847, 179.14755847, 179.14755847, 179.14755847])"
      ]
     },
     "execution_count": 150,
     "metadata": {},
     "output_type": "execute_result"
    }
   ],
   "source": [
    "y_pred_24 = lr_24.predict(X_test)\n",
    "y_pred_24[0:20]"
   ]
  },
  {
   "cell_type": "code",
   "execution_count": 151,
   "metadata": {
    "scrolled": false
   },
   "outputs": [
    {
     "name": "stdout",
     "output_type": "stream",
     "text": [
      "R^2: -0.00798750229846834\n",
      "Root Mean Squared Error: 27.130456166458586\n"
     ]
    }
   ],
   "source": [
    "print(\"R^2: {}\".format(lr_24.score(X_test, y_test)))\n",
    "rmse = np.sqrt(mean_squared_error(y_test, y_pred_24))\n",
    "print(\"Root Mean Squared Error: {}\".format(rmse))"
   ]
  },
  {
   "cell_type": "code",
   "execution_count": 152,
   "metadata": {},
   "outputs": [],
   "source": [
    "lr_25 = linear_model.ElasticNet(alpha=10, l1_ratio=0.5, normalize=True)"
   ]
  },
  {
   "cell_type": "code",
   "execution_count": 153,
   "metadata": {},
   "outputs": [
    {
     "data": {
      "text/plain": [
       "ElasticNet(alpha=10, copy_X=True, fit_intercept=True, l1_ratio=0.5,\n",
       "      max_iter=1000, normalize=True, positive=False, precompute=False,\n",
       "      random_state=None, selection='cyclic', tol=0.0001, warm_start=False)"
      ]
     },
     "execution_count": 153,
     "metadata": {},
     "output_type": "execute_result"
    }
   ],
   "source": [
    "lr_25.fit(X_train, y_train)"
   ]
  },
  {
   "cell_type": "code",
   "execution_count": 154,
   "metadata": {},
   "outputs": [
    {
     "data": {
      "text/plain": [
       "-0.00798750229846834"
      ]
     },
     "execution_count": 154,
     "metadata": {},
     "output_type": "execute_result"
    }
   ],
   "source": [
    "lr_25.score(X_test, y_test)"
   ]
  },
  {
   "cell_type": "code",
   "execution_count": 155,
   "metadata": {
    "scrolled": true
   },
   "outputs": [
    {
     "data": {
      "text/plain": [
       "array([179.14755847, 179.14755847, 179.14755847, 179.14755847,\n",
       "       179.14755847, 179.14755847, 179.14755847, 179.14755847,\n",
       "       179.14755847, 179.14755847, 179.14755847, 179.14755847,\n",
       "       179.14755847, 179.14755847, 179.14755847, 179.14755847,\n",
       "       179.14755847, 179.14755847, 179.14755847, 179.14755847])"
      ]
     },
     "execution_count": 155,
     "metadata": {},
     "output_type": "execute_result"
    }
   ],
   "source": [
    "y_pred_25 = lr_25.predict(X_test)\n",
    "y_pred_25[0:20]"
   ]
  },
  {
   "cell_type": "code",
   "execution_count": 156,
   "metadata": {
    "scrolled": true
   },
   "outputs": [
    {
     "name": "stdout",
     "output_type": "stream",
     "text": [
      "R^2: -0.00798750229846834\n",
      "Root Mean Squared Error: 27.130456166458586\n"
     ]
    }
   ],
   "source": [
    "print(\"R^2: {}\".format(lr_25.score(X_test, y_test)))\n",
    "rmse = np.sqrt(mean_squared_error(y_test, y_pred_25))\n",
    "print(\"Root Mean Squared Error: {}\".format(rmse))"
   ]
  },
  {
   "cell_type": "code",
   "execution_count": 157,
   "metadata": {},
   "outputs": [],
   "source": [
    "lr_26 = linear_model.ElasticNet(alpha=100, l1_ratio=0.5, normalize=True)"
   ]
  },
  {
   "cell_type": "code",
   "execution_count": 158,
   "metadata": {},
   "outputs": [
    {
     "data": {
      "text/plain": [
       "ElasticNet(alpha=100, copy_X=True, fit_intercept=True, l1_ratio=0.5,\n",
       "      max_iter=1000, normalize=True, positive=False, precompute=False,\n",
       "      random_state=None, selection='cyclic', tol=0.0001, warm_start=False)"
      ]
     },
     "execution_count": 158,
     "metadata": {},
     "output_type": "execute_result"
    }
   ],
   "source": [
    "lr_26.fit(X_train, y_train)"
   ]
  },
  {
   "cell_type": "code",
   "execution_count": 159,
   "metadata": {},
   "outputs": [
    {
     "data": {
      "text/plain": [
       "-0.00798750229846834"
      ]
     },
     "execution_count": 159,
     "metadata": {},
     "output_type": "execute_result"
    }
   ],
   "source": [
    "lr_26.score(X_test, y_test)"
   ]
  },
  {
   "cell_type": "code",
   "execution_count": 160,
   "metadata": {
    "scrolled": true
   },
   "outputs": [
    {
     "data": {
      "text/plain": [
       "array([179.14755847, 179.14755847, 179.14755847, 179.14755847,\n",
       "       179.14755847, 179.14755847, 179.14755847, 179.14755847,\n",
       "       179.14755847, 179.14755847, 179.14755847, 179.14755847,\n",
       "       179.14755847, 179.14755847, 179.14755847, 179.14755847,\n",
       "       179.14755847, 179.14755847, 179.14755847, 179.14755847])"
      ]
     },
     "execution_count": 160,
     "metadata": {},
     "output_type": "execute_result"
    }
   ],
   "source": [
    "y_pred_26 = lr_26.predict(X_test)\n",
    "y_pred_26[0:20]"
   ]
  },
  {
   "cell_type": "code",
   "execution_count": 161,
   "metadata": {
    "scrolled": true
   },
   "outputs": [
    {
     "name": "stdout",
     "output_type": "stream",
     "text": [
      "R^2: -0.00798750229846834\n",
      "Root Mean Squared Error: 27.130456166458586\n"
     ]
    }
   ],
   "source": [
    "print(\"R^2: {}\".format(lr_26.score(X_test, y_test)))\n",
    "rmse = np.sqrt(mean_squared_error(y_test, y_pred_26))\n",
    "print(\"Root Mean Squared Error: {}\".format(rmse))"
   ]
  },
  {
   "cell_type": "markdown",
   "metadata": {},
   "source": [
    "## Elastic Net with L1 Ratio of 0.75"
   ]
  },
  {
   "cell_type": "code",
   "execution_count": 162,
   "metadata": {},
   "outputs": [],
   "source": [
    "lr_27 = linear_model.ElasticNet(alpha=0.001, l1_ratio=0.75, normalize=True)"
   ]
  },
  {
   "cell_type": "code",
   "execution_count": 163,
   "metadata": {},
   "outputs": [
    {
     "data": {
      "text/plain": [
       "ElasticNet(alpha=0.001, copy_X=True, fit_intercept=True, l1_ratio=0.75,\n",
       "      max_iter=1000, normalize=True, positive=False, precompute=False,\n",
       "      random_state=None, selection='cyclic', tol=0.0001, warm_start=False)"
      ]
     },
     "execution_count": 163,
     "metadata": {},
     "output_type": "execute_result"
    }
   ],
   "source": [
    "lr_27.fit(X_train, y_train)"
   ]
  },
  {
   "cell_type": "code",
   "execution_count": 164,
   "metadata": {},
   "outputs": [
    {
     "data": {
      "text/plain": [
       "0.5517773798702275"
      ]
     },
     "execution_count": 164,
     "metadata": {},
     "output_type": "execute_result"
    }
   ],
   "source": [
    "lr_27.score(X_test, y_test)"
   ]
  },
  {
   "cell_type": "code",
   "execution_count": 165,
   "metadata": {
    "scrolled": true
   },
   "outputs": [
    {
     "data": {
      "text/plain": [
       "array([173.05814565, 176.3736161 , 161.55932882, 175.86873184,\n",
       "       177.33470983, 195.06204289, 174.89435439, 165.50164657,\n",
       "       167.08055001, 172.92321233, 180.1114842 , 202.85071936,\n",
       "       160.35898262, 159.03549412, 218.80713232, 120.58610834,\n",
       "       188.49627093, 202.86697182, 199.41163971, 185.61934068])"
      ]
     },
     "execution_count": 165,
     "metadata": {},
     "output_type": "execute_result"
    }
   ],
   "source": [
    "y_pred_27 = lr_27.predict(X_test)\n",
    "y_pred_27[0:20]"
   ]
  },
  {
   "cell_type": "code",
   "execution_count": 166,
   "metadata": {
    "scrolled": false
   },
   "outputs": [
    {
     "name": "stdout",
     "output_type": "stream",
     "text": [
      "R^2: 0.5517773798702275\n",
      "Root Mean Squared Error: 18.09157626232452\n"
     ]
    }
   ],
   "source": [
    "print(\"R^2: {}\".format(lr_27.score(X_test, y_test)))\n",
    "rmse = np.sqrt(mean_squared_error(y_test, y_pred_27))\n",
    "print(\"Root Mean Squared Error: {}\".format(rmse))"
   ]
  },
  {
   "cell_type": "code",
   "execution_count": 167,
   "metadata": {},
   "outputs": [],
   "source": [
    "lr_28 = linear_model.ElasticNet(alpha=0.01, l1_ratio=0.75, normalize=True)"
   ]
  },
  {
   "cell_type": "code",
   "execution_count": 168,
   "metadata": {},
   "outputs": [
    {
     "data": {
      "text/plain": [
       "ElasticNet(alpha=0.01, copy_X=True, fit_intercept=True, l1_ratio=0.75,\n",
       "      max_iter=1000, normalize=True, positive=False, precompute=False,\n",
       "      random_state=None, selection='cyclic', tol=0.0001, warm_start=False)"
      ]
     },
     "execution_count": 168,
     "metadata": {},
     "output_type": "execute_result"
    }
   ],
   "source": [
    "lr_28.fit(X_train, y_train)"
   ]
  },
  {
   "cell_type": "code",
   "execution_count": 169,
   "metadata": {},
   "outputs": [
    {
     "data": {
      "text/plain": [
       "0.39299117790692584"
      ]
     },
     "execution_count": 169,
     "metadata": {},
     "output_type": "execute_result"
    }
   ],
   "source": [
    "lr_28.score(X_test, y_test)"
   ]
  },
  {
   "cell_type": "code",
   "execution_count": 170,
   "metadata": {
    "scrolled": true
   },
   "outputs": [
    {
     "data": {
      "text/plain": [
       "array([171.0469776 , 176.3500255 , 168.83794284, 176.35551687,\n",
       "       178.63255147, 191.31705295, 176.30740184, 173.01952326,\n",
       "       165.95534085, 175.53181274, 183.9738743 , 198.8669463 ,\n",
       "       167.19036601, 165.86671323, 203.5200834 , 140.13127039,\n",
       "       189.48343678, 195.96556675, 191.17258393, 188.73709384])"
      ]
     },
     "execution_count": 170,
     "metadata": {},
     "output_type": "execute_result"
    }
   ],
   "source": [
    "y_pred_28 = lr_28.predict(X_test)\n",
    "y_pred_28[0:20]"
   ]
  },
  {
   "cell_type": "code",
   "execution_count": 171,
   "metadata": {
    "scrolled": false
   },
   "outputs": [
    {
     "name": "stdout",
     "output_type": "stream",
     "text": [
      "R^2: 0.39299117790692584\n",
      "Root Mean Squared Error: 21.05363181543672\n"
     ]
    }
   ],
   "source": [
    "print(\"R^2: {}\".format(lr_28.score(X_test, y_test)))\n",
    "rmse = np.sqrt(mean_squared_error(y_test, y_pred_28))\n",
    "print(\"Root Mean Squared Error: {}\".format(rmse))"
   ]
  },
  {
   "cell_type": "code",
   "execution_count": 172,
   "metadata": {},
   "outputs": [],
   "source": [
    "lr_29 = linear_model.ElasticNet(alpha=0.1, l1_ratio=0.75, normalize=True)"
   ]
  },
  {
   "cell_type": "code",
   "execution_count": 173,
   "metadata": {},
   "outputs": [
    {
     "data": {
      "text/plain": [
       "ElasticNet(alpha=0.1, copy_X=True, fit_intercept=True, l1_ratio=0.75,\n",
       "      max_iter=1000, normalize=True, positive=False, precompute=False,\n",
       "      random_state=None, selection='cyclic', tol=0.0001, warm_start=False)"
      ]
     },
     "execution_count": 173,
     "metadata": {},
     "output_type": "execute_result"
    }
   ],
   "source": [
    "lr_29.fit(X_train, y_train)"
   ]
  },
  {
   "cell_type": "code",
   "execution_count": 174,
   "metadata": {},
   "outputs": [
    {
     "data": {
      "text/plain": [
       "0.11405651856112609"
      ]
     },
     "execution_count": 174,
     "metadata": {},
     "output_type": "execute_result"
    }
   ],
   "source": [
    "lr_29.score(X_test, y_test)"
   ]
  },
  {
   "cell_type": "code",
   "execution_count": 175,
   "metadata": {
    "scrolled": true
   },
   "outputs": [
    {
     "data": {
      "text/plain": [
       "array([176.56514742, 178.54369489, 176.56874677, 178.37242339,\n",
       "       179.01528181, 181.94004916, 178.75331567, 178.51974704,\n",
       "       175.470963  , 178.22901419, 180.73520631, 183.76332844,\n",
       "       176.70625696, 176.17858516, 184.31529576, 170.37338747,\n",
       "       181.91524665, 182.46060596, 181.35170544, 182.06965917])"
      ]
     },
     "execution_count": 175,
     "metadata": {},
     "output_type": "execute_result"
    }
   ],
   "source": [
    "y_pred_29 = lr_29.predict(X_test)\n",
    "y_pred_29[0:20]"
   ]
  },
  {
   "cell_type": "code",
   "execution_count": 176,
   "metadata": {
    "scrolled": false
   },
   "outputs": [
    {
     "name": "stdout",
     "output_type": "stream",
     "text": [
      "R^2: 0.11405651856112609\n",
      "Root Mean Squared Error: 25.435046196771765\n"
     ]
    }
   ],
   "source": [
    "print(\"R^2: {}\".format(lr_29.score(X_test, y_test)))\n",
    "rmse = np.sqrt(mean_squared_error(y_test, y_pred_29))\n",
    "print(\"Root Mean Squared Error: {}\".format(rmse))"
   ]
  },
  {
   "cell_type": "code",
   "execution_count": 177,
   "metadata": {},
   "outputs": [],
   "source": [
    "lr_30 = linear_model.ElasticNet(alpha=1, l1_ratio=0.75, normalize=True)"
   ]
  },
  {
   "cell_type": "code",
   "execution_count": 178,
   "metadata": {},
   "outputs": [
    {
     "data": {
      "text/plain": [
       "ElasticNet(alpha=1, copy_X=True, fit_intercept=True, l1_ratio=0.75,\n",
       "      max_iter=1000, normalize=True, positive=False, precompute=False,\n",
       "      random_state=None, selection='cyclic', tol=0.0001, warm_start=False)"
      ]
     },
     "execution_count": 178,
     "metadata": {},
     "output_type": "execute_result"
    }
   ],
   "source": [
    "lr_30.fit(X_train, y_train)"
   ]
  },
  {
   "cell_type": "code",
   "execution_count": 179,
   "metadata": {},
   "outputs": [
    {
     "data": {
      "text/plain": [
       "-0.00798750229846834"
      ]
     },
     "execution_count": 179,
     "metadata": {},
     "output_type": "execute_result"
    }
   ],
   "source": [
    "lr_30.score(X_test, y_test)"
   ]
  },
  {
   "cell_type": "code",
   "execution_count": 180,
   "metadata": {
    "scrolled": true
   },
   "outputs": [
    {
     "data": {
      "text/plain": [
       "array([179.14755847, 179.14755847, 179.14755847, 179.14755847,\n",
       "       179.14755847, 179.14755847, 179.14755847, 179.14755847,\n",
       "       179.14755847, 179.14755847, 179.14755847, 179.14755847,\n",
       "       179.14755847, 179.14755847, 179.14755847, 179.14755847,\n",
       "       179.14755847, 179.14755847, 179.14755847, 179.14755847])"
      ]
     },
     "execution_count": 180,
     "metadata": {},
     "output_type": "execute_result"
    }
   ],
   "source": [
    "y_pred_30 = lr_30.predict(X_test)\n",
    "y_pred_30[0:20]"
   ]
  },
  {
   "cell_type": "code",
   "execution_count": 181,
   "metadata": {
    "scrolled": true
   },
   "outputs": [
    {
     "name": "stdout",
     "output_type": "stream",
     "text": [
      "R^2: -0.00798750229846834\n",
      "Root Mean Squared Error: 27.130456166458586\n"
     ]
    }
   ],
   "source": [
    "print(\"R^2: {}\".format(lr_30.score(X_test, y_test)))\n",
    "rmse = np.sqrt(mean_squared_error(y_test, y_pred_30))\n",
    "print(\"Root Mean Squared Error: {}\".format(rmse))"
   ]
  },
  {
   "cell_type": "code",
   "execution_count": 182,
   "metadata": {},
   "outputs": [],
   "source": [
    "lr_31 = linear_model.ElasticNet(alpha=10, l1_ratio=0.75, normalize=True)"
   ]
  },
  {
   "cell_type": "code",
   "execution_count": 183,
   "metadata": {},
   "outputs": [
    {
     "data": {
      "text/plain": [
       "ElasticNet(alpha=10, copy_X=True, fit_intercept=True, l1_ratio=0.75,\n",
       "      max_iter=1000, normalize=True, positive=False, precompute=False,\n",
       "      random_state=None, selection='cyclic', tol=0.0001, warm_start=False)"
      ]
     },
     "execution_count": 183,
     "metadata": {},
     "output_type": "execute_result"
    }
   ],
   "source": [
    "lr_31.fit(X_train, y_train)"
   ]
  },
  {
   "cell_type": "code",
   "execution_count": 184,
   "metadata": {},
   "outputs": [
    {
     "data": {
      "text/plain": [
       "-0.00798750229846834"
      ]
     },
     "execution_count": 184,
     "metadata": {},
     "output_type": "execute_result"
    }
   ],
   "source": [
    "lr_31.score(X_test, y_test)"
   ]
  },
  {
   "cell_type": "code",
   "execution_count": 185,
   "metadata": {
    "scrolled": true
   },
   "outputs": [
    {
     "data": {
      "text/plain": [
       "array([179.14755847, 179.14755847, 179.14755847, 179.14755847,\n",
       "       179.14755847, 179.14755847, 179.14755847, 179.14755847,\n",
       "       179.14755847, 179.14755847, 179.14755847, 179.14755847,\n",
       "       179.14755847, 179.14755847, 179.14755847, 179.14755847,\n",
       "       179.14755847, 179.14755847, 179.14755847, 179.14755847])"
      ]
     },
     "execution_count": 185,
     "metadata": {},
     "output_type": "execute_result"
    }
   ],
   "source": [
    "y_pred_31 = lr_31.predict(X_test)\n",
    "y_pred_31[0:20]"
   ]
  },
  {
   "cell_type": "code",
   "execution_count": 186,
   "metadata": {
    "scrolled": true
   },
   "outputs": [
    {
     "name": "stdout",
     "output_type": "stream",
     "text": [
      "R^2: -0.00798750229846834\n",
      "Root Mean Squared Error: 27.130456166458586\n"
     ]
    }
   ],
   "source": [
    "print(\"R^2: {}\".format(lr_31.score(X_test, y_test)))\n",
    "rmse = np.sqrt(mean_squared_error(y_test, y_pred_31))\n",
    "print(\"Root Mean Squared Error: {}\".format(rmse))"
   ]
  },
  {
   "cell_type": "code",
   "execution_count": 187,
   "metadata": {},
   "outputs": [],
   "source": [
    "lr_32 = linear_model.ElasticNet(alpha=100, l1_ratio=0.75, normalize=True)"
   ]
  },
  {
   "cell_type": "code",
   "execution_count": 188,
   "metadata": {},
   "outputs": [
    {
     "data": {
      "text/plain": [
       "ElasticNet(alpha=100, copy_X=True, fit_intercept=True, l1_ratio=0.75,\n",
       "      max_iter=1000, normalize=True, positive=False, precompute=False,\n",
       "      random_state=None, selection='cyclic', tol=0.0001, warm_start=False)"
      ]
     },
     "execution_count": 188,
     "metadata": {},
     "output_type": "execute_result"
    }
   ],
   "source": [
    "lr_32.fit(X_train, y_train)"
   ]
  },
  {
   "cell_type": "code",
   "execution_count": 189,
   "metadata": {},
   "outputs": [
    {
     "data": {
      "text/plain": [
       "-0.00798750229846834"
      ]
     },
     "execution_count": 189,
     "metadata": {},
     "output_type": "execute_result"
    }
   ],
   "source": [
    "lr_32.score(X_test, y_test)"
   ]
  },
  {
   "cell_type": "code",
   "execution_count": 190,
   "metadata": {
    "scrolled": true
   },
   "outputs": [
    {
     "data": {
      "text/plain": [
       "array([179.14755847, 179.14755847, 179.14755847, 179.14755847,\n",
       "       179.14755847, 179.14755847, 179.14755847, 179.14755847,\n",
       "       179.14755847, 179.14755847, 179.14755847, 179.14755847,\n",
       "       179.14755847, 179.14755847, 179.14755847, 179.14755847,\n",
       "       179.14755847, 179.14755847, 179.14755847, 179.14755847])"
      ]
     },
     "execution_count": 190,
     "metadata": {},
     "output_type": "execute_result"
    }
   ],
   "source": [
    "y_pred_32 = lr_32.predict(X_test)\n",
    "y_pred_32[0:20]"
   ]
  },
  {
   "cell_type": "code",
   "execution_count": 191,
   "metadata": {
    "scrolled": false
   },
   "outputs": [
    {
     "name": "stdout",
     "output_type": "stream",
     "text": [
      "R^2: -0.00798750229846834\n",
      "Root Mean Squared Error: 27.130456166458586\n"
     ]
    }
   ],
   "source": [
    "print(\"R^2: {}\".format(lr_32.score(X_test, y_test)))\n",
    "rmse = np.sqrt(mean_squared_error(y_test, y_pred_32))\n",
    "print(\"Root Mean Squared Error: {}\".format(rmse))"
   ]
  },
  {
   "cell_type": "markdown",
   "metadata": {},
   "source": [
    "## Stochastic Gradient Descent with L1 Penalty"
   ]
  },
  {
   "cell_type": "code",
   "execution_count": 192,
   "metadata": {},
   "outputs": [],
   "source": [
    "lr_33 = linear_model.SGDRegressor(loss='huber', penalty='l1', alpha=0.00001)"
   ]
  },
  {
   "cell_type": "code",
   "execution_count": 193,
   "metadata": {},
   "outputs": [
    {
     "name": "stderr",
     "output_type": "stream",
     "text": [
      "/Users/DanLoew/anaconda3/lib/python3.7/site-packages/sklearn/linear_model/stochastic_gradient.py:166: FutureWarning: max_iter and tol parameters have been added in SGDRegressor in 0.19. If both are left unset, they default to max_iter=5 and tol=None. If tol is not None, max_iter defaults to max_iter=1000. From 0.21, default max_iter will be 1000, and default tol will be 1e-3.\n",
      "  FutureWarning)\n"
     ]
    },
    {
     "data": {
      "text/plain": [
       "SGDRegressor(alpha=1e-05, average=False, early_stopping=False, epsilon=0.1,\n",
       "       eta0=0.01, fit_intercept=True, l1_ratio=0.15,\n",
       "       learning_rate='invscaling', loss='huber', max_iter=None,\n",
       "       n_iter=None, n_iter_no_change=5, penalty='l1', power_t=0.25,\n",
       "       random_state=None, shuffle=True, tol=None, validation_fraction=0.1,\n",
       "       verbose=0, warm_start=False)"
      ]
     },
     "execution_count": 193,
     "metadata": {},
     "output_type": "execute_result"
    }
   ],
   "source": [
    "lr_33.fit(X_train, y_train)"
   ]
  },
  {
   "cell_type": "code",
   "execution_count": 194,
   "metadata": {},
   "outputs": [
    {
     "data": {
      "text/plain": [
       "-1684463487429.632"
      ]
     },
     "execution_count": 194,
     "metadata": {},
     "output_type": "execute_result"
    }
   ],
   "source": [
    "lr_33.score(X_test, y_test)"
   ]
  },
  {
   "cell_type": "code",
   "execution_count": 195,
   "metadata": {
    "scrolled": true
   },
   "outputs": [
    {
     "data": {
      "text/plain": [
       "array([  4805606.61378396,  -6572477.25158047,   5478359.45157729,\n",
       "         4164701.96138232,   4003051.02384702,   -256800.0470064 ,\n",
       "        -6104005.56785677,   2634814.65929894,  -8838996.13992465,\n",
       "         4734173.05091088,    588810.59713576,   3615827.47463434,\n",
       "         4806855.69008278,   -127472.60359337,    470508.60934598,\n",
       "       -12388153.33974496,   3325830.34914112,   1747439.01116739,\n",
       "         1596844.778505  ,  -9112723.31760527])"
      ]
     },
     "execution_count": 195,
     "metadata": {},
     "output_type": "execute_result"
    }
   ],
   "source": [
    "y_pred_33 = lr_33.predict(X_test)\n",
    "y_pred_33[0:20]"
   ]
  },
  {
   "cell_type": "code",
   "execution_count": 196,
   "metadata": {
    "scrolled": false
   },
   "outputs": [
    {
     "name": "stdout",
     "output_type": "stream",
     "text": [
      "R^2: -1684463487429.632\n",
      "Root Mean Squared Error: 35071983.08759262\n"
     ]
    }
   ],
   "source": [
    "print(\"R^2: {}\".format(lr_33.score(X_test, y_test)))\n",
    "rmse = np.sqrt(mean_squared_error(y_test, y_pred_33))\n",
    "print(\"Root Mean Squared Error: {}\".format(rmse))"
   ]
  },
  {
   "cell_type": "code",
   "execution_count": 197,
   "metadata": {},
   "outputs": [],
   "source": [
    "lr_34 = linear_model.SGDRegressor(loss='huber', penalty='l1', alpha=0.0001)"
   ]
  },
  {
   "cell_type": "code",
   "execution_count": 198,
   "metadata": {
    "scrolled": true
   },
   "outputs": [
    {
     "name": "stderr",
     "output_type": "stream",
     "text": [
      "/Users/DanLoew/anaconda3/lib/python3.7/site-packages/sklearn/linear_model/stochastic_gradient.py:166: FutureWarning: max_iter and tol parameters have been added in SGDRegressor in 0.19. If both are left unset, they default to max_iter=5 and tol=None. If tol is not None, max_iter defaults to max_iter=1000. From 0.21, default max_iter will be 1000, and default tol will be 1e-3.\n",
      "  FutureWarning)\n"
     ]
    },
    {
     "data": {
      "text/plain": [
       "SGDRegressor(alpha=0.0001, average=False, early_stopping=False, epsilon=0.1,\n",
       "       eta0=0.01, fit_intercept=True, l1_ratio=0.15,\n",
       "       learning_rate='invscaling', loss='huber', max_iter=None,\n",
       "       n_iter=None, n_iter_no_change=5, penalty='l1', power_t=0.25,\n",
       "       random_state=None, shuffle=True, tol=None, validation_fraction=0.1,\n",
       "       verbose=0, warm_start=False)"
      ]
     },
     "execution_count": 198,
     "metadata": {},
     "output_type": "execute_result"
    }
   ],
   "source": [
    "lr_34.fit(X_train, y_train)"
   ]
  },
  {
   "cell_type": "code",
   "execution_count": 199,
   "metadata": {},
   "outputs": [
    {
     "data": {
      "text/plain": [
       "-431124369467.1897"
      ]
     },
     "execution_count": 199,
     "metadata": {},
     "output_type": "execute_result"
    }
   ],
   "source": [
    "lr_34.score(X_test, y_test)"
   ]
  },
  {
   "cell_type": "code",
   "execution_count": 200,
   "metadata": {
    "scrolled": true
   },
   "outputs": [
    {
     "data": {
      "text/plain": [
       "array([ 1755127.94108787,  3740342.74554397,  2051469.76198468,\n",
       "        2078366.97108213,  1768382.86482292,  2510904.96136763,\n",
       "        3974829.56041152,  2210672.98910004,  4310080.72671576,\n",
       "        1958573.10570216,  2613476.44658265,   963985.61589711,\n",
       "        1655771.73263497,  3511479.22203542,  1186869.86817024,\n",
       "       19791968.60735921,  1980650.82150231,  2717229.32267018,\n",
       "        2202965.49583436,  8999389.46216077])"
      ]
     },
     "execution_count": 200,
     "metadata": {},
     "output_type": "execute_result"
    }
   ],
   "source": [
    "y_pred_34 = lr_34.predict(X_test)\n",
    "y_pred_34[0:20]"
   ]
  },
  {
   "cell_type": "code",
   "execution_count": 201,
   "metadata": {
    "scrolled": true
   },
   "outputs": [
    {
     "name": "stdout",
     "output_type": "stream",
     "text": [
      "R^2: -431124369467.1897\n",
      "Root Mean Squared Error: 17743153.442649473\n"
     ]
    }
   ],
   "source": [
    "print(\"R^2: {}\".format(lr_34.score(X_test, y_test)))\n",
    "rmse = np.sqrt(mean_squared_error(y_test, y_pred_34))\n",
    "print(\"Root Mean Squared Error: {}\".format(rmse))"
   ]
  },
  {
   "cell_type": "code",
   "execution_count": 202,
   "metadata": {},
   "outputs": [],
   "source": [
    "lr_35 = linear_model.SGDRegressor(loss='huber', penalty='l1', alpha=0.001)"
   ]
  },
  {
   "cell_type": "code",
   "execution_count": 203,
   "metadata": {
    "scrolled": true
   },
   "outputs": [
    {
     "name": "stderr",
     "output_type": "stream",
     "text": [
      "/Users/DanLoew/anaconda3/lib/python3.7/site-packages/sklearn/linear_model/stochastic_gradient.py:166: FutureWarning: max_iter and tol parameters have been added in SGDRegressor in 0.19. If both are left unset, they default to max_iter=5 and tol=None. If tol is not None, max_iter defaults to max_iter=1000. From 0.21, default max_iter will be 1000, and default tol will be 1e-3.\n",
      "  FutureWarning)\n"
     ]
    },
    {
     "data": {
      "text/plain": [
       "SGDRegressor(alpha=0.001, average=False, early_stopping=False, epsilon=0.1,\n",
       "       eta0=0.01, fit_intercept=True, l1_ratio=0.15,\n",
       "       learning_rate='invscaling', loss='huber', max_iter=None,\n",
       "       n_iter=None, n_iter_no_change=5, penalty='l1', power_t=0.25,\n",
       "       random_state=None, shuffle=True, tol=None, validation_fraction=0.1,\n",
       "       verbose=0, warm_start=False)"
      ]
     },
     "execution_count": 203,
     "metadata": {},
     "output_type": "execute_result"
    }
   ],
   "source": [
    "lr_35.fit(X_train, y_train)"
   ]
  },
  {
   "cell_type": "code",
   "execution_count": 204,
   "metadata": {},
   "outputs": [
    {
     "data": {
      "text/plain": [
       "-571632155748.7104"
      ]
     },
     "execution_count": 204,
     "metadata": {},
     "output_type": "execute_result"
    }
   ],
   "source": [
    "lr_35.score(X_test, y_test)"
   ]
  },
  {
   "cell_type": "code",
   "execution_count": 205,
   "metadata": {
    "scrolled": true
   },
   "outputs": [
    {
     "data": {
      "text/plain": [
       "array([  -554757.80116258,   1262602.21043634,   -239322.62936354,\n",
       "         -245940.68884345,   -625498.01981573,   4452615.08110651,\n",
       "         1594450.81342583,    -54740.25141891,   1856571.54483308,\n",
       "         -374769.32495607,    269778.98434479,    191126.50182935,\n",
       "         -275348.51014361,  -1527416.25486249,   1589307.78718789,\n",
       "       -23545078.81675937,   -409297.67113839,  -1543494.37566134,\n",
       "         -150941.00044507,  -8456985.04201551])"
      ]
     },
     "execution_count": 205,
     "metadata": {},
     "output_type": "execute_result"
    }
   ],
   "source": [
    "y_pred_35 = lr_35.predict(X_test)\n",
    "y_pred_35[0:20]"
   ]
  },
  {
   "cell_type": "code",
   "execution_count": 206,
   "metadata": {
    "scrolled": true
   },
   "outputs": [
    {
     "name": "stdout",
     "output_type": "stream",
     "text": [
      "R^2: -571632155748.7104\n",
      "Root Mean Squared Error: 20430916.446123432\n"
     ]
    }
   ],
   "source": [
    "print(\"R^2: {}\".format(lr_35.score(X_test, y_test)))\n",
    "rmse = np.sqrt(mean_squared_error(y_test, y_pred_35))\n",
    "print(\"Root Mean Squared Error: {}\".format(rmse))"
   ]
  },
  {
   "cell_type": "code",
   "execution_count": 207,
   "metadata": {},
   "outputs": [],
   "source": [
    "lr_36 = linear_model.SGDRegressor(loss='huber', penalty='l1', alpha=0.01)"
   ]
  },
  {
   "cell_type": "code",
   "execution_count": 208,
   "metadata": {
    "scrolled": true
   },
   "outputs": [
    {
     "name": "stderr",
     "output_type": "stream",
     "text": [
      "/Users/DanLoew/anaconda3/lib/python3.7/site-packages/sklearn/linear_model/stochastic_gradient.py:166: FutureWarning: max_iter and tol parameters have been added in SGDRegressor in 0.19. If both are left unset, they default to max_iter=5 and tol=None. If tol is not None, max_iter defaults to max_iter=1000. From 0.21, default max_iter will be 1000, and default tol will be 1e-3.\n",
      "  FutureWarning)\n"
     ]
    },
    {
     "data": {
      "text/plain": [
       "SGDRegressor(alpha=0.01, average=False, early_stopping=False, epsilon=0.1,\n",
       "       eta0=0.01, fit_intercept=True, l1_ratio=0.15,\n",
       "       learning_rate='invscaling', loss='huber', max_iter=None,\n",
       "       n_iter=None, n_iter_no_change=5, penalty='l1', power_t=0.25,\n",
       "       random_state=None, shuffle=True, tol=None, validation_fraction=0.1,\n",
       "       verbose=0, warm_start=False)"
      ]
     },
     "execution_count": 208,
     "metadata": {},
     "output_type": "execute_result"
    }
   ],
   "source": [
    "lr_36.fit(X_train, y_train)"
   ]
  },
  {
   "cell_type": "code",
   "execution_count": 209,
   "metadata": {},
   "outputs": [
    {
     "data": {
      "text/plain": [
       "-234585135211.05222"
      ]
     },
     "execution_count": 209,
     "metadata": {},
     "output_type": "execute_result"
    }
   ],
   "source": [
    "lr_36.score(X_test, y_test)"
   ]
  },
  {
   "cell_type": "code",
   "execution_count": 210,
   "metadata": {
    "scrolled": true
   },
   "outputs": [
    {
     "data": {
      "text/plain": [
       "array([ -418723.57165135, -3775513.82952902,  -687974.21696748,\n",
       "        -763962.26492945,  -331018.53828296, -4119440.7295293 ,\n",
       "       -4010636.97682366, -1291529.86398461, -4870114.89230471,\n",
       "        -536180.25965856, -1657530.36193911,  -623541.12588027,\n",
       "        -865689.66954556, -1037765.3156918 , -2366997.18119827,\n",
       "       11975979.56559417,  -541123.58764514,    43396.38265694,\n",
       "       -1087254.80610882,  2940294.27969031])"
      ]
     },
     "execution_count": 210,
     "metadata": {},
     "output_type": "execute_result"
    }
   ],
   "source": [
    "y_pred_36 = lr_36.predict(X_test)\n",
    "y_pred_36[0:20]"
   ]
  },
  {
   "cell_type": "code",
   "execution_count": 211,
   "metadata": {
    "scrolled": true
   },
   "outputs": [
    {
     "name": "stdout",
     "output_type": "stream",
     "text": [
      "R^2: -234585135211.05222\n",
      "Root Mean Squared Error: 13088195.296902977\n"
     ]
    }
   ],
   "source": [
    "print(\"R^2: {}\".format(lr_36.score(X_test, y_test)))\n",
    "rmse = np.sqrt(mean_squared_error(y_test, y_pred_36))\n",
    "print(\"Root Mean Squared Error: {}\".format(rmse))"
   ]
  },
  {
   "cell_type": "code",
   "execution_count": 212,
   "metadata": {},
   "outputs": [],
   "source": [
    "lr_37 = linear_model.SGDRegressor(loss='huber', penalty='l1', alpha=0.1)"
   ]
  },
  {
   "cell_type": "code",
   "execution_count": 213,
   "metadata": {
    "scrolled": true
   },
   "outputs": [
    {
     "name": "stderr",
     "output_type": "stream",
     "text": [
      "/Users/DanLoew/anaconda3/lib/python3.7/site-packages/sklearn/linear_model/stochastic_gradient.py:166: FutureWarning: max_iter and tol parameters have been added in SGDRegressor in 0.19. If both are left unset, they default to max_iter=5 and tol=None. If tol is not None, max_iter defaults to max_iter=1000. From 0.21, default max_iter will be 1000, and default tol will be 1e-3.\n",
      "  FutureWarning)\n"
     ]
    },
    {
     "data": {
      "text/plain": [
       "SGDRegressor(alpha=0.1, average=False, early_stopping=False, epsilon=0.1,\n",
       "       eta0=0.01, fit_intercept=True, l1_ratio=0.15,\n",
       "       learning_rate='invscaling', loss='huber', max_iter=None,\n",
       "       n_iter=None, n_iter_no_change=5, penalty='l1', power_t=0.25,\n",
       "       random_state=None, shuffle=True, tol=None, validation_fraction=0.1,\n",
       "       verbose=0, warm_start=False)"
      ]
     },
     "execution_count": 213,
     "metadata": {},
     "output_type": "execute_result"
    }
   ],
   "source": [
    "lr_37.fit(X_train, y_train)"
   ]
  },
  {
   "cell_type": "code",
   "execution_count": 214,
   "metadata": {},
   "outputs": [
    {
     "data": {
      "text/plain": [
       "-5325723711077.835"
      ]
     },
     "execution_count": 214,
     "metadata": {},
     "output_type": "execute_result"
    }
   ],
   "source": [
    "lr_37.score(X_test, y_test)"
   ]
  },
  {
   "cell_type": "code",
   "execution_count": 215,
   "metadata": {
    "scrolled": true
   },
   "outputs": [
    {
     "data": {
      "text/plain": [
       "array([ 4534213.52161916, 11555492.67100715,  5178173.00430864,\n",
       "        5500538.27757471,  4800747.41111056, -5382513.99715459,\n",
       "       11904725.05736755,  6241265.07986538, 13516589.0929867 ,\n",
       "        4768967.51632361,  7704840.25191826,  2314034.52100915,\n",
       "        5190652.33565062, 12044553.49898134,  2592250.15582983,\n",
       "       69303158.2405696 ,  5438731.36855177,  8521117.75558183,\n",
       "        6501565.16345504, 30924676.27314443])"
      ]
     },
     "execution_count": 215,
     "metadata": {},
     "output_type": "execute_result"
    }
   ],
   "source": [
    "y_pred_37 = lr_37.predict(X_test)\n",
    "y_pred_37[0:20]"
   ]
  },
  {
   "cell_type": "code",
   "execution_count": 216,
   "metadata": {
    "scrolled": true
   },
   "outputs": [
    {
     "name": "stdout",
     "output_type": "stream",
     "text": [
      "R^2: -5325723711077.835\n",
      "Root Mean Squared Error: 62361828.183784515\n"
     ]
    }
   ],
   "source": [
    "print(\"R^2: {}\".format(lr_37.score(X_test, y_test)))\n",
    "rmse = np.sqrt(mean_squared_error(y_test, y_pred_37))\n",
    "print(\"Root Mean Squared Error: {}\".format(rmse))"
   ]
  },
  {
   "cell_type": "code",
   "execution_count": 217,
   "metadata": {},
   "outputs": [],
   "source": [
    "lr_38 = linear_model.SGDRegressor(loss='huber', penalty='l1', alpha=1)"
   ]
  },
  {
   "cell_type": "code",
   "execution_count": 218,
   "metadata": {
    "scrolled": true
   },
   "outputs": [
    {
     "name": "stderr",
     "output_type": "stream",
     "text": [
      "/Users/DanLoew/anaconda3/lib/python3.7/site-packages/sklearn/linear_model/stochastic_gradient.py:166: FutureWarning: max_iter and tol parameters have been added in SGDRegressor in 0.19. If both are left unset, they default to max_iter=5 and tol=None. If tol is not None, max_iter defaults to max_iter=1000. From 0.21, default max_iter will be 1000, and default tol will be 1e-3.\n",
      "  FutureWarning)\n"
     ]
    },
    {
     "data": {
      "text/plain": [
       "SGDRegressor(alpha=1, average=False, early_stopping=False, epsilon=0.1,\n",
       "       eta0=0.01, fit_intercept=True, l1_ratio=0.15,\n",
       "       learning_rate='invscaling', loss='huber', max_iter=None,\n",
       "       n_iter=None, n_iter_no_change=5, penalty='l1', power_t=0.25,\n",
       "       random_state=None, shuffle=True, tol=None, validation_fraction=0.1,\n",
       "       verbose=0, warm_start=False)"
      ]
     },
     "execution_count": 218,
     "metadata": {},
     "output_type": "execute_result"
    }
   ],
   "source": [
    "lr_38.fit(X_train, y_train)"
   ]
  },
  {
   "cell_type": "code",
   "execution_count": 219,
   "metadata": {},
   "outputs": [
    {
     "data": {
      "text/plain": [
       "-4252598995555.149"
      ]
     },
     "execution_count": 219,
     "metadata": {},
     "output_type": "execute_result"
    }
   ],
   "source": [
    "lr_38.score(X_test, y_test)"
   ]
  },
  {
   "cell_type": "code",
   "execution_count": 220,
   "metadata": {
    "scrolled": true
   },
   "outputs": [
    {
     "data": {
      "text/plain": [
       "array([ 4477482.68868022,  9605163.06196534,  4855629.67009252,\n",
       "        5073054.95024541,  4587014.37504087, 20227933.11141673,\n",
       "       10152559.58106465,  5656551.09786826, 10750135.68763793,\n",
       "        5218704.64262902,  6523589.4496639 ,  2240506.28345486,\n",
       "        4858724.85388658, 10593966.50784375,  2084357.16455002,\n",
       "       62903412.98869274,  4945754.01166057,  7687461.40759845,\n",
       "        5725362.40916836, 27943627.72483522])"
      ]
     },
     "execution_count": 220,
     "metadata": {},
     "output_type": "execute_result"
    }
   ],
   "source": [
    "y_pred_38 = lr_38.predict(X_test)\n",
    "y_pred_38[0:20]"
   ]
  },
  {
   "cell_type": "code",
   "execution_count": 221,
   "metadata": {
    "scrolled": true
   },
   "outputs": [
    {
     "name": "stdout",
     "output_type": "stream",
     "text": [
      "R^2: -4252598995555.149\n",
      "Root Mean Squared Error: 55725854.717884585\n"
     ]
    }
   ],
   "source": [
    "print(\"R^2: {}\".format(lr_38.score(X_test, y_test)))\n",
    "rmse = np.sqrt(mean_squared_error(y_test, y_pred_38))\n",
    "print(\"Root Mean Squared Error: {}\".format(rmse))"
   ]
  },
  {
   "cell_type": "code",
   "execution_count": 222,
   "metadata": {},
   "outputs": [],
   "source": [
    "lr_39 = linear_model.SGDRegressor(loss='huber', penalty='l1', alpha=10)"
   ]
  },
  {
   "cell_type": "code",
   "execution_count": 223,
   "metadata": {
    "scrolled": true
   },
   "outputs": [
    {
     "name": "stderr",
     "output_type": "stream",
     "text": [
      "/Users/DanLoew/anaconda3/lib/python3.7/site-packages/sklearn/linear_model/stochastic_gradient.py:166: FutureWarning: max_iter and tol parameters have been added in SGDRegressor in 0.19. If both are left unset, they default to max_iter=5 and tol=None. If tol is not None, max_iter defaults to max_iter=1000. From 0.21, default max_iter will be 1000, and default tol will be 1e-3.\n",
      "  FutureWarning)\n"
     ]
    },
    {
     "data": {
      "text/plain": [
       "SGDRegressor(alpha=10, average=False, early_stopping=False, epsilon=0.1,\n",
       "       eta0=0.01, fit_intercept=True, l1_ratio=0.15,\n",
       "       learning_rate='invscaling', loss='huber', max_iter=None,\n",
       "       n_iter=None, n_iter_no_change=5, penalty='l1', power_t=0.25,\n",
       "       random_state=None, shuffle=True, tol=None, validation_fraction=0.1,\n",
       "       verbose=0, warm_start=False)"
      ]
     },
     "execution_count": 223,
     "metadata": {},
     "output_type": "execute_result"
    }
   ],
   "source": [
    "lr_39.fit(X_train, y_train)"
   ]
  },
  {
   "cell_type": "code",
   "execution_count": 224,
   "metadata": {},
   "outputs": [
    {
     "data": {
      "text/plain": [
       "-42.77282312174619"
      ]
     },
     "execution_count": 224,
     "metadata": {},
     "output_type": "execute_result"
    }
   ],
   "source": [
    "lr_39.score(X_test, y_test)"
   ]
  },
  {
   "cell_type": "code",
   "execution_count": 225,
   "metadata": {
    "scrolled": true
   },
   "outputs": [
    {
     "data": {
      "text/plain": [
       "array([0.00115572, 0.00115572, 0.00115572, 0.00115572, 0.00115572,\n",
       "       0.00115572, 0.00115572, 0.00115572, 0.00115572, 0.00115572,\n",
       "       0.00115572, 0.00115572, 0.00115572, 0.00115572, 0.00115572,\n",
       "       0.00115572, 0.00115572, 0.00115572, 0.00115572, 0.00115572])"
      ]
     },
     "execution_count": 225,
     "metadata": {},
     "output_type": "execute_result"
    }
   ],
   "source": [
    "y_pred_39 = lr_39.predict(X_test)\n",
    "y_pred_39[0:20]"
   ]
  },
  {
   "cell_type": "code",
   "execution_count": 226,
   "metadata": {
    "scrolled": false
   },
   "outputs": [
    {
     "name": "stdout",
     "output_type": "stream",
     "text": [
      "R^2: -42.77282312174619\n",
      "Root Mean Squared Error: 178.7852972413635\n"
     ]
    }
   ],
   "source": [
    "print(\"R^2: {}\".format(lr_39.score(X_test, y_test)))\n",
    "rmse = np.sqrt(mean_squared_error(y_test, y_pred_39))\n",
    "print(\"Root Mean Squared Error: {}\".format(rmse))"
   ]
  },
  {
   "cell_type": "code",
   "execution_count": 227,
   "metadata": {},
   "outputs": [],
   "source": [
    "lr_40 = linear_model.SGDRegressor(loss='huber', penalty='l1', alpha=100)"
   ]
  },
  {
   "cell_type": "code",
   "execution_count": 228,
   "metadata": {
    "scrolled": true
   },
   "outputs": [
    {
     "name": "stderr",
     "output_type": "stream",
     "text": [
      "/Users/DanLoew/anaconda3/lib/python3.7/site-packages/sklearn/linear_model/stochastic_gradient.py:166: FutureWarning: max_iter and tol parameters have been added in SGDRegressor in 0.19. If both are left unset, they default to max_iter=5 and tol=None. If tol is not None, max_iter defaults to max_iter=1000. From 0.21, default max_iter will be 1000, and default tol will be 1e-3.\n",
      "  FutureWarning)\n"
     ]
    },
    {
     "data": {
      "text/plain": [
       "SGDRegressor(alpha=100, average=False, early_stopping=False, epsilon=0.1,\n",
       "       eta0=0.01, fit_intercept=True, l1_ratio=0.15,\n",
       "       learning_rate='invscaling', loss='huber', max_iter=None,\n",
       "       n_iter=None, n_iter_no_change=5, penalty='l1', power_t=0.25,\n",
       "       random_state=None, shuffle=True, tol=None, validation_fraction=0.1,\n",
       "       verbose=0, warm_start=False)"
      ]
     },
     "execution_count": 228,
     "metadata": {},
     "output_type": "execute_result"
    }
   ],
   "source": [
    "lr_40.fit(X_train, y_train)"
   ]
  },
  {
   "cell_type": "code",
   "execution_count": 229,
   "metadata": {},
   "outputs": [
    {
     "data": {
      "text/plain": [
       "-1564098059.8320208"
      ]
     },
     "execution_count": 229,
     "metadata": {},
     "output_type": "execute_result"
    }
   ],
   "source": [
    "lr_40.score(X_test, y_test)"
   ]
  },
  {
   "cell_type": "code",
   "execution_count": 230,
   "metadata": {
    "scrolled": true
   },
   "outputs": [
    {
     "data": {
      "text/plain": [
       "array([ 11792.9130716 , 454824.98485076,  49748.68300463,  68146.10457692,\n",
       "        23445.75461562, 213865.75955801, 481190.16132494, 117231.83213853,\n",
       "       576407.94480679,  38808.58203582, 198291.28864823,  25465.70497942,\n",
       "        48152.01961999, 179635.53752247, 187036.83484931,  24522.64648908,\n",
       "        59456.27188705,  63875.88593419, 124944.36989122, 213205.9298552 ])"
      ]
     },
     "execution_count": 230,
     "metadata": {},
     "output_type": "execute_result"
    }
   ],
   "source": [
    "y_pred_40 = lr_40.predict(X_test)\n",
    "y_pred_40[0:20]"
   ]
  },
  {
   "cell_type": "code",
   "execution_count": 231,
   "metadata": {
    "scrolled": true
   },
   "outputs": [
    {
     "name": "stdout",
     "output_type": "stream",
     "text": [
      "R^2: -1564098059.8320208\n",
      "Root Mean Squared Error: 1068714.030527726\n"
     ]
    }
   ],
   "source": [
    "print(\"R^2: {}\".format(lr_40.score(X_test, y_test)))\n",
    "rmse = np.sqrt(mean_squared_error(y_test, y_pred_40))\n",
    "print(\"Root Mean Squared Error: {}\".format(rmse))"
   ]
  },
  {
   "cell_type": "code",
   "execution_count": 232,
   "metadata": {},
   "outputs": [],
   "source": [
    "lr_41 = linear_model.SGDRegressor(loss='huber', penalty='l2', alpha=0.00001)"
   ]
  },
  {
   "cell_type": "code",
   "execution_count": 233,
   "metadata": {
    "scrolled": true
   },
   "outputs": [
    {
     "name": "stderr",
     "output_type": "stream",
     "text": [
      "/Users/DanLoew/anaconda3/lib/python3.7/site-packages/sklearn/linear_model/stochastic_gradient.py:166: FutureWarning: max_iter and tol parameters have been added in SGDRegressor in 0.19. If both are left unset, they default to max_iter=5 and tol=None. If tol is not None, max_iter defaults to max_iter=1000. From 0.21, default max_iter will be 1000, and default tol will be 1e-3.\n",
      "  FutureWarning)\n"
     ]
    },
    {
     "data": {
      "text/plain": [
       "SGDRegressor(alpha=1e-05, average=False, early_stopping=False, epsilon=0.1,\n",
       "       eta0=0.01, fit_intercept=True, l1_ratio=0.15,\n",
       "       learning_rate='invscaling', loss='huber', max_iter=None,\n",
       "       n_iter=None, n_iter_no_change=5, penalty='l2', power_t=0.25,\n",
       "       random_state=None, shuffle=True, tol=None, validation_fraction=0.1,\n",
       "       verbose=0, warm_start=False)"
      ]
     },
     "execution_count": 233,
     "metadata": {},
     "output_type": "execute_result"
    }
   ],
   "source": [
    "lr_41.fit(X_train, y_train)"
   ]
  },
  {
   "cell_type": "code",
   "execution_count": 234,
   "metadata": {},
   "outputs": [
    {
     "data": {
      "text/plain": [
       "-10738269233975.428"
      ]
     },
     "execution_count": 234,
     "metadata": {},
     "output_type": "execute_result"
    }
   ],
   "source": [
    "lr_41.score(X_test, y_test)"
   ]
  },
  {
   "cell_type": "code",
   "execution_count": 235,
   "metadata": {
    "scrolled": true
   },
   "outputs": [
    {
     "data": {
      "text/plain": [
       "array([ 7.88115879e+06, -1.91277204e+04,  7.66292317e+06,  7.14312069e+06,\n",
       "        7.70585203e+06, -1.89389605e+06, -1.85990606e+05,  6.11678231e+06,\n",
       "       -2.15129363e+06,  7.71437835e+06,  4.85409403e+06,  3.45891821e+06,\n",
       "        7.63774271e+06,  1.26165598e+07, -2.78753041e+06,  1.08701069e+08,\n",
       "        7.28643507e+06,  1.16017312e+07,  5.96459791e+06,  4.02664850e+07])"
      ]
     },
     "execution_count": 235,
     "metadata": {},
     "output_type": "execute_result"
    }
   ],
   "source": [
    "y_pred_41 = lr_41.predict(X_test)\n",
    "y_pred_41[0:20]"
   ]
  },
  {
   "cell_type": "code",
   "execution_count": 236,
   "metadata": {
    "scrolled": true
   },
   "outputs": [
    {
     "name": "stdout",
     "output_type": "stream",
     "text": [
      "R^2: -10738269233975.428\n",
      "Root Mean Squared Error: 88551651.7577043\n"
     ]
    }
   ],
   "source": [
    "print(\"R^2: {}\".format(lr_41.score(X_test, y_test)))\n",
    "rmse = np.sqrt(mean_squared_error(y_test, y_pred_41))\n",
    "print(\"Root Mean Squared Error: {}\".format(rmse))"
   ]
  },
  {
   "cell_type": "code",
   "execution_count": 237,
   "metadata": {},
   "outputs": [],
   "source": [
    "lr_42 = linear_model.SGDRegressor(loss='huber', penalty='l2', alpha=0.0001)"
   ]
  },
  {
   "cell_type": "code",
   "execution_count": 238,
   "metadata": {
    "scrolled": true
   },
   "outputs": [
    {
     "name": "stderr",
     "output_type": "stream",
     "text": [
      "/Users/DanLoew/anaconda3/lib/python3.7/site-packages/sklearn/linear_model/stochastic_gradient.py:166: FutureWarning: max_iter and tol parameters have been added in SGDRegressor in 0.19. If both are left unset, they default to max_iter=5 and tol=None. If tol is not None, max_iter defaults to max_iter=1000. From 0.21, default max_iter will be 1000, and default tol will be 1e-3.\n",
      "  FutureWarning)\n"
     ]
    },
    {
     "data": {
      "text/plain": [
       "SGDRegressor(alpha=0.0001, average=False, early_stopping=False, epsilon=0.1,\n",
       "       eta0=0.01, fit_intercept=True, l1_ratio=0.15,\n",
       "       learning_rate='invscaling', loss='huber', max_iter=None,\n",
       "       n_iter=None, n_iter_no_change=5, penalty='l2', power_t=0.25,\n",
       "       random_state=None, shuffle=True, tol=None, validation_fraction=0.1,\n",
       "       verbose=0, warm_start=False)"
      ]
     },
     "execution_count": 238,
     "metadata": {},
     "output_type": "execute_result"
    }
   ],
   "source": [
    "lr_42.fit(X_train, y_train)"
   ]
  },
  {
   "cell_type": "code",
   "execution_count": 239,
   "metadata": {},
   "outputs": [
    {
     "data": {
      "text/plain": [
       "-1418778365667.9895"
      ]
     },
     "execution_count": 239,
     "metadata": {},
     "output_type": "execute_result"
    }
   ],
   "source": [
    "lr_42.score(X_test, y_test)"
   ]
  },
  {
   "cell_type": "code",
   "execution_count": 240,
   "metadata": {
    "scrolled": true
   },
   "outputs": [
    {
     "data": {
      "text/plain": [
       "array([ 2141679.51774515,  -697778.23749604,  1963462.47789632,\n",
       "        1862955.87525944,  2165225.12278237,  1290059.45590844,\n",
       "        -741115.63074814,  1558351.39742491, -1607434.53185459,\n",
       "        2152275.6285099 ,  1099707.53626138,   772111.06114145,\n",
       "        1737285.1876826 ,  3541742.71409441, -1591465.81681921,\n",
       "       38927300.04218837,  2085204.79204478,  3675108.21955998,\n",
       "        1565033.67447   , 14296071.45768733])"
      ]
     },
     "execution_count": 240,
     "metadata": {},
     "output_type": "execute_result"
    }
   ],
   "source": [
    "y_pred_42 = lr_42.predict(X_test)\n",
    "y_pred_42[0:20]"
   ]
  },
  {
   "cell_type": "code",
   "execution_count": 241,
   "metadata": {
    "scrolled": false
   },
   "outputs": [
    {
     "name": "stdout",
     "output_type": "stream",
     "text": [
      "R^2: -1418778365667.9895\n",
      "Root Mean Squared Error: 32187466.988798093\n"
     ]
    }
   ],
   "source": [
    "print(\"R^2: {}\".format(lr_42.score(X_test, y_test)))\n",
    "rmse = np.sqrt(mean_squared_error(y_test, y_pred_42))\n",
    "print(\"Root Mean Squared Error: {}\".format(rmse))"
   ]
  },
  {
   "cell_type": "code",
   "execution_count": 242,
   "metadata": {},
   "outputs": [],
   "source": [
    "lr_43 = linear_model.SGDRegressor(loss='huber', penalty='elasticnet', alpha=0.0001)"
   ]
  },
  {
   "cell_type": "code",
   "execution_count": 243,
   "metadata": {
    "scrolled": true
   },
   "outputs": [
    {
     "name": "stderr",
     "output_type": "stream",
     "text": [
      "/Users/DanLoew/anaconda3/lib/python3.7/site-packages/sklearn/linear_model/stochastic_gradient.py:166: FutureWarning: max_iter and tol parameters have been added in SGDRegressor in 0.19. If both are left unset, they default to max_iter=5 and tol=None. If tol is not None, max_iter defaults to max_iter=1000. From 0.21, default max_iter will be 1000, and default tol will be 1e-3.\n",
      "  FutureWarning)\n"
     ]
    },
    {
     "data": {
      "text/plain": [
       "SGDRegressor(alpha=0.0001, average=False, early_stopping=False, epsilon=0.1,\n",
       "       eta0=0.01, fit_intercept=True, l1_ratio=0.15,\n",
       "       learning_rate='invscaling', loss='huber', max_iter=None,\n",
       "       n_iter=None, n_iter_no_change=5, penalty='elasticnet', power_t=0.25,\n",
       "       random_state=None, shuffle=True, tol=None, validation_fraction=0.1,\n",
       "       verbose=0, warm_start=False)"
      ]
     },
     "execution_count": 243,
     "metadata": {},
     "output_type": "execute_result"
    }
   ],
   "source": [
    "lr_43.fit(X_train, y_train)"
   ]
  },
  {
   "cell_type": "code",
   "execution_count": 244,
   "metadata": {},
   "outputs": [
    {
     "data": {
      "text/plain": [
       "-211099765173.92786"
      ]
     },
     "execution_count": 244,
     "metadata": {},
     "output_type": "execute_result"
    }
   ],
   "source": [
    "lr_43.score(X_test, y_test)"
   ]
  },
  {
   "cell_type": "code",
   "execution_count": 245,
   "metadata": {
    "scrolled": false
   },
   "outputs": [
    {
     "data": {
      "text/plain": [
       "array([ -740728.12149812,  -294394.27324116, -1248119.89835627,\n",
       "        -974260.15121306,  -634011.80901428, -4408810.72326653,\n",
       "        -721363.36414488,  -920018.1979965 ,  -331214.17444253,\n",
       "       -1023864.27786275,  -849445.40152353,  -935626.15482859,\n",
       "       -1320548.46483373,   -97753.65350883, -1185886.53067186,\n",
       "       12365808.37859571,  -805700.88886046,    72322.41391468,\n",
       "        -639672.64276608,  4922161.03726372])"
      ]
     },
     "execution_count": 245,
     "metadata": {},
     "output_type": "execute_result"
    }
   ],
   "source": [
    "y_pred_43 = lr_43.predict(X_test)\n",
    "y_pred_43[0:20]"
   ]
  },
  {
   "cell_type": "code",
   "execution_count": 246,
   "metadata": {
    "scrolled": false
   },
   "outputs": [
    {
     "name": "stdout",
     "output_type": "stream",
     "text": [
      "R^2: -211099765173.92786\n",
      "Root Mean Squared Error: 12415762.52638403\n"
     ]
    }
   ],
   "source": [
    "print(\"R^2: {}\".format(lr_43.score(X_test, y_test)))\n",
    "rmse = np.sqrt(mean_squared_error(y_test, y_pred_43))\n",
    "print(\"Root Mean Squared Error: {}\".format(rmse))"
   ]
  },
  {
   "cell_type": "markdown",
   "metadata": {},
   "source": [
    "## Kernel Ridge"
   ]
  },
  {
   "cell_type": "code",
   "execution_count": 265,
   "metadata": {},
   "outputs": [],
   "source": [
    "lr_44 = KernelRidge(alpha=0.001)"
   ]
  },
  {
   "cell_type": "code",
   "execution_count": 266,
   "metadata": {
    "scrolled": false
   },
   "outputs": [
    {
     "name": "stderr",
     "output_type": "stream",
     "text": [
      "/Users/DanLoew/anaconda3/lib/python3.7/site-packages/sklearn/linear_model/ridge.py:167: UserWarning: Singular matrix in solving dual problem. Using least-squares solution instead.\n",
      "  warnings.warn(\"Singular matrix in solving dual problem. Using \"\n"
     ]
    },
    {
     "data": {
      "text/plain": [
       "KernelRidge(alpha=0.001, coef0=1, degree=3, gamma=None, kernel='linear',\n",
       "      kernel_params=None)"
      ]
     },
     "execution_count": 266,
     "metadata": {},
     "output_type": "execute_result"
    }
   ],
   "source": [
    "lr_44.fit(X_train, y_train)"
   ]
  },
  {
   "cell_type": "code",
   "execution_count": 267,
   "metadata": {},
   "outputs": [
    {
     "data": {
      "text/plain": [
       "0.6166500004431256"
      ]
     },
     "execution_count": 267,
     "metadata": {},
     "output_type": "execute_result"
    }
   ],
   "source": [
    "lr_44.score(X_test, y_test)"
   ]
  },
  {
   "cell_type": "code",
   "execution_count": 268,
   "metadata": {
    "scrolled": false
   },
   "outputs": [
    {
     "data": {
      "text/plain": [
       "array([171.31933594, 182.15234375, 165.21557617, 177.56420898,\n",
       "       173.06542969, 195.51171875, 169.60546875, 167.9296875 ,\n",
       "       178.1953125 , 174.59619141, 178.9296875 , 196.88708496,\n",
       "       157.62866211, 154.1875    , 219.109375  , 109.7890625 ,\n",
       "       181.87353516, 200.62060547, 202.02734375, 183.99023438])"
      ]
     },
     "execution_count": 268,
     "metadata": {},
     "output_type": "execute_result"
    }
   ],
   "source": [
    "y_pred_44 = lr_44.predict(X_test)\n",
    "y_pred_44[0:20]"
   ]
  },
  {
   "cell_type": "code",
   "execution_count": 269,
   "metadata": {
    "scrolled": false
   },
   "outputs": [
    {
     "name": "stdout",
     "output_type": "stream",
     "text": [
      "R^2: 0.6166500004431256\n",
      "Root Mean Squared Error: 16.73120636067689\n"
     ]
    }
   ],
   "source": [
    "print(\"R^2: {}\".format(lr_44.score(X_test, y_test)))\n",
    "rmse = np.sqrt(mean_squared_error(y_test, y_pred_44))\n",
    "print(\"Root Mean Squared Error: {}\".format(rmse))"
   ]
  },
  {
   "cell_type": "code",
   "execution_count": 270,
   "metadata": {},
   "outputs": [],
   "source": [
    "lr_45 = KernelRidge(alpha=0.01)"
   ]
  },
  {
   "cell_type": "code",
   "execution_count": 271,
   "metadata": {
    "scrolled": true
   },
   "outputs": [
    {
     "name": "stderr",
     "output_type": "stream",
     "text": [
      "/Users/DanLoew/anaconda3/lib/python3.7/site-packages/sklearn/linear_model/ridge.py:167: UserWarning: Singular matrix in solving dual problem. Using least-squares solution instead.\n",
      "  warnings.warn(\"Singular matrix in solving dual problem. Using \"\n"
     ]
    },
    {
     "data": {
      "text/plain": [
       "KernelRidge(alpha=0.01, coef0=1, degree=3, gamma=None, kernel='linear',\n",
       "      kernel_params=None)"
      ]
     },
     "execution_count": 271,
     "metadata": {},
     "output_type": "execute_result"
    }
   ],
   "source": [
    "lr_45.fit(X_train, y_train)"
   ]
  },
  {
   "cell_type": "code",
   "execution_count": 272,
   "metadata": {
    "scrolled": true
   },
   "outputs": [
    {
     "data": {
      "text/plain": [
       "-1.1531403237383362"
      ]
     },
     "execution_count": 272,
     "metadata": {},
     "output_type": "execute_result"
    }
   ],
   "source": [
    "lr_45.score(X_test, y_test)"
   ]
  },
  {
   "cell_type": "code",
   "execution_count": 273,
   "metadata": {
    "scrolled": false
   },
   "outputs": [
    {
     "data": {
      "text/plain": [
       "array([124.04882812, 241.125     , 191.0546875 , 203.03515625,\n",
       "       123.63476562, 201.84912109, 140.53710938, 200.07617188,\n",
       "       186.22851562, 193.0546875 , 197.54492188, 106.73144531,\n",
       "       154.07421875, 138.91992188, 210.07226562, 113.53125   ,\n",
       "       120.10449219, 162.73046875, 158.59570312, 188.6171875 ])"
      ]
     },
     "execution_count": 273,
     "metadata": {},
     "output_type": "execute_result"
    }
   ],
   "source": [
    "y_pred_45 = lr_45.predict(X_test)\n",
    "y_pred_45[0:20]"
   ]
  },
  {
   "cell_type": "code",
   "execution_count": 274,
   "metadata": {
    "scrolled": true
   },
   "outputs": [
    {
     "name": "stdout",
     "output_type": "stream",
     "text": [
      "R^2: -1.1531403237383362\n",
      "Root Mean Squared Error: 39.65205404618008\n"
     ]
    }
   ],
   "source": [
    "print(\"R^2: {}\".format(lr_45.score(X_test, y_test)))\n",
    "rmse = np.sqrt(mean_squared_error(y_test, y_pred_45))\n",
    "print(\"Root Mean Squared Error: {}\".format(rmse))"
   ]
  },
  {
   "cell_type": "code",
   "execution_count": 275,
   "metadata": {},
   "outputs": [],
   "source": [
    "lr_46 = KernelRidge(alpha=0.1)"
   ]
  },
  {
   "cell_type": "code",
   "execution_count": 276,
   "metadata": {
    "scrolled": false
   },
   "outputs": [
    {
     "name": "stderr",
     "output_type": "stream",
     "text": [
      "/Users/DanLoew/anaconda3/lib/python3.7/site-packages/sklearn/linear_model/ridge.py:165: LinAlgWarning: Ill-conditioned matrix (rcond=6.09404e-19): result may not be accurate.\n",
      "  overwrite_a=False)\n"
     ]
    },
    {
     "data": {
      "text/plain": [
       "KernelRidge(alpha=0.1, coef0=1, degree=3, gamma=None, kernel='linear',\n",
       "      kernel_params=None)"
      ]
     },
     "execution_count": 276,
     "metadata": {},
     "output_type": "execute_result"
    }
   ],
   "source": [
    "lr_46.fit(X_train, y_train)"
   ]
  },
  {
   "cell_type": "code",
   "execution_count": 277,
   "metadata": {
    "scrolled": true
   },
   "outputs": [
    {
     "data": {
      "text/plain": [
       "0.6327295325360558"
      ]
     },
     "execution_count": 277,
     "metadata": {},
     "output_type": "execute_result"
    }
   ],
   "source": [
    "lr_46.score(X_test, y_test)"
   ]
  },
  {
   "cell_type": "code",
   "execution_count": 278,
   "metadata": {
    "scrolled": false
   },
   "outputs": [
    {
     "data": {
      "text/plain": [
       "array([177.5       , 175.484375  , 162.5234375 , 172.84375   ,\n",
       "       177.4375    , 195.3046875 , 173.796875  , 163.6640625 ,\n",
       "       175.1875    , 173.6328125 , 176.390625  , 208.10546875,\n",
       "       155.453125  , 158.390625  , 220.51757812, 118.75      ,\n",
       "       188.21875   , 207.65625   , 208.203125  , 182.8125    ])"
      ]
     },
     "execution_count": 278,
     "metadata": {},
     "output_type": "execute_result"
    }
   ],
   "source": [
    "y_pred_46 = lr_46.predict(X_test)\n",
    "y_pred_46[0:20]"
   ]
  },
  {
   "cell_type": "code",
   "execution_count": 279,
   "metadata": {
    "scrolled": true
   },
   "outputs": [
    {
     "name": "stdout",
     "output_type": "stream",
     "text": [
      "R^2: 0.6327295325360558\n",
      "Root Mean Squared Error: 16.37655417065911\n"
     ]
    }
   ],
   "source": [
    "print(\"R^2: {}\".format(lr_46.score(X_test, y_test)))\n",
    "rmse = np.sqrt(mean_squared_error(y_test, y_pred_46))\n",
    "print(\"Root Mean Squared Error: {}\".format(rmse))"
   ]
  },
  {
   "cell_type": "code",
   "execution_count": 280,
   "metadata": {},
   "outputs": [],
   "source": [
    "lr_47 = KernelRidge(alpha=1)"
   ]
  },
  {
   "cell_type": "code",
   "execution_count": 281,
   "metadata": {
    "scrolled": true
   },
   "outputs": [
    {
     "name": "stderr",
     "output_type": "stream",
     "text": [
      "/Users/DanLoew/anaconda3/lib/python3.7/site-packages/sklearn/linear_model/ridge.py:165: LinAlgWarning: Ill-conditioned matrix (rcond=2.92758e-17): result may not be accurate.\n",
      "  overwrite_a=False)\n"
     ]
    },
    {
     "data": {
      "text/plain": [
       "KernelRidge(alpha=1, coef0=1, degree=3, gamma=None, kernel='linear',\n",
       "      kernel_params=None)"
      ]
     },
     "execution_count": 281,
     "metadata": {},
     "output_type": "execute_result"
    }
   ],
   "source": [
    "lr_47.fit(X_train, y_train)"
   ]
  },
  {
   "cell_type": "code",
   "execution_count": 282,
   "metadata": {
    "scrolled": true
   },
   "outputs": [
    {
     "data": {
      "text/plain": [
       "0.6215538051580854"
      ]
     },
     "execution_count": 282,
     "metadata": {},
     "output_type": "execute_result"
    }
   ],
   "source": [
    "lr_47.score(X_test, y_test)"
   ]
  },
  {
   "cell_type": "code",
   "execution_count": 283,
   "metadata": {
    "scrolled": false
   },
   "outputs": [
    {
     "data": {
      "text/plain": [
       "array([178.39648438, 174.34765625, 162.29980469, 172.21679688,\n",
       "       176.91015625, 194.85498047, 172.4765625 , 164.20703125,\n",
       "       174.26757812, 174.81640625, 176.296875  , 205.90185547,\n",
       "       156.203125  , 157.6015625 , 221.03222656, 118.875     ,\n",
       "       190.15722656, 208.20117188, 209.2265625 , 181.4453125 ])"
      ]
     },
     "execution_count": 283,
     "metadata": {},
     "output_type": "execute_result"
    }
   ],
   "source": [
    "y_pred_47 = lr_47.predict(X_test)\n",
    "y_pred_47[0:20]"
   ]
  },
  {
   "cell_type": "code",
   "execution_count": 284,
   "metadata": {
    "scrolled": true
   },
   "outputs": [
    {
     "name": "stdout",
     "output_type": "stream",
     "text": [
      "R^2: 0.6215538051580854\n",
      "Root Mean Squared Error: 16.62384931756596\n"
     ]
    }
   ],
   "source": [
    "print(\"R^2: {}\".format(lr_47.score(X_test, y_test)))\n",
    "rmse = np.sqrt(mean_squared_error(y_test, y_pred_47))\n",
    "print(\"Root Mean Squared Error: {}\".format(rmse))"
   ]
  },
  {
   "cell_type": "code",
   "execution_count": 285,
   "metadata": {},
   "outputs": [],
   "source": [
    "lr_48 = KernelRidge(alpha=10)"
   ]
  },
  {
   "cell_type": "code",
   "execution_count": 286,
   "metadata": {
    "scrolled": true
   },
   "outputs": [
    {
     "data": {
      "text/plain": [
       "KernelRidge(alpha=10, coef0=1, degree=3, gamma=None, kernel='linear',\n",
       "      kernel_params=None)"
      ]
     },
     "execution_count": 286,
     "metadata": {},
     "output_type": "execute_result"
    }
   ],
   "source": [
    "lr_48.fit(X_train, y_train)"
   ]
  },
  {
   "cell_type": "code",
   "execution_count": 287,
   "metadata": {
    "scrolled": true
   },
   "outputs": [
    {
     "data": {
      "text/plain": [
       "0.6130167553240591"
      ]
     },
     "execution_count": 287,
     "metadata": {},
     "output_type": "execute_result"
    }
   ],
   "source": [
    "lr_48.score(X_test, y_test)"
   ]
  },
  {
   "cell_type": "code",
   "execution_count": 288,
   "metadata": {
    "scrolled": false
   },
   "outputs": [
    {
     "data": {
      "text/plain": [
       "array([181.58984375, 174.14208984, 162.21936035, 172.21887207,\n",
       "       174.53308105, 195.28686523, 174.00268555, 165.01391602,\n",
       "       173.32568359, 175.67236328, 177.41259766, 204.43432617,\n",
       "       155.89025879, 157.5637207 , 221.60331726, 123.80859375,\n",
       "       192.36755371, 208.20532227, 208.69787598, 181.29199219])"
      ]
     },
     "execution_count": 288,
     "metadata": {},
     "output_type": "execute_result"
    }
   ],
   "source": [
    "y_pred_48 = lr_48.predict(X_test)\n",
    "y_pred_48[0:20]"
   ]
  },
  {
   "cell_type": "code",
   "execution_count": 289,
   "metadata": {
    "scrolled": true
   },
   "outputs": [
    {
     "name": "stdout",
     "output_type": "stream",
     "text": [
      "R^2: 0.6130167553240591\n",
      "Root Mean Squared Error: 16.810305382083577\n"
     ]
    }
   ],
   "source": [
    "print(\"R^2: {}\".format(lr_48.score(X_test, y_test)))\n",
    "rmse = np.sqrt(mean_squared_error(y_test, y_pred_48))\n",
    "print(\"Root Mean Squared Error: {}\".format(rmse))"
   ]
  },
  {
   "cell_type": "code",
   "execution_count": 290,
   "metadata": {},
   "outputs": [],
   "source": [
    "lr_49 = KernelRidge(alpha=100)"
   ]
  },
  {
   "cell_type": "code",
   "execution_count": 291,
   "metadata": {
    "scrolled": true
   },
   "outputs": [
    {
     "data": {
      "text/plain": [
       "KernelRidge(alpha=100, coef0=1, degree=3, gamma=None, kernel='linear',\n",
       "      kernel_params=None)"
      ]
     },
     "execution_count": 291,
     "metadata": {},
     "output_type": "execute_result"
    }
   ],
   "source": [
    "lr_49.fit(X_train, y_train)"
   ]
  },
  {
   "cell_type": "code",
   "execution_count": 292,
   "metadata": {
    "scrolled": true
   },
   "outputs": [
    {
     "data": {
      "text/plain": [
       "0.6075483807778729"
      ]
     },
     "execution_count": 292,
     "metadata": {},
     "output_type": "execute_result"
    }
   ],
   "source": [
    "lr_49.score(X_test, y_test)"
   ]
  },
  {
   "cell_type": "code",
   "execution_count": 293,
   "metadata": {
    "scrolled": false
   },
   "outputs": [
    {
     "data": {
      "text/plain": [
       "array([183.81863403, 173.63423157, 162.44210815, 173.29025269,\n",
       "       173.89501953, 196.8480835 , 174.81037903, 167.3421936 ,\n",
       "       172.41014099, 175.53692627, 181.84005737, 199.61955261,\n",
       "       155.51078796, 157.33041382, 220.95731831, 126.10913086,\n",
       "       193.97167969, 207.45880127, 204.79071045, 182.30224609])"
      ]
     },
     "execution_count": 293,
     "metadata": {},
     "output_type": "execute_result"
    }
   ],
   "source": [
    "y_pred_49 = lr_49.predict(X_test)\n",
    "y_pred_49[0:20]"
   ]
  },
  {
   "cell_type": "code",
   "execution_count": 294,
   "metadata": {
    "scrolled": true
   },
   "outputs": [
    {
     "name": "stdout",
     "output_type": "stream",
     "text": [
      "R^2: 0.6075483807778729\n",
      "Root Mean Squared Error: 16.92866008939742\n"
     ]
    }
   ],
   "source": [
    "print(\"R^2: {}\".format(lr_49.score(X_test, y_test)))\n",
    "rmse = np.sqrt(mean_squared_error(y_test, y_pred_49))\n",
    "print(\"Root Mean Squared Error: {}\".format(rmse))"
   ]
  },
  {
   "cell_type": "markdown",
   "metadata": {},
   "source": [
    "## Random Forest"
   ]
  },
  {
   "cell_type": "code",
   "execution_count": 247,
   "metadata": {},
   "outputs": [],
   "source": [
    "rfr_1 = RandomForestRegressor(n_estimators=10, random_state=0)"
   ]
  },
  {
   "cell_type": "code",
   "execution_count": 248,
   "metadata": {
    "scrolled": true
   },
   "outputs": [
    {
     "data": {
      "text/plain": [
       "RandomForestRegressor(bootstrap=True, criterion='mse', max_depth=None,\n",
       "           max_features='auto', max_leaf_nodes=None,\n",
       "           min_impurity_decrease=0.0, min_impurity_split=None,\n",
       "           min_samples_leaf=1, min_samples_split=2,\n",
       "           min_weight_fraction_leaf=0.0, n_estimators=10, n_jobs=None,\n",
       "           oob_score=False, random_state=0, verbose=0, warm_start=False)"
      ]
     },
     "execution_count": 248,
     "metadata": {},
     "output_type": "execute_result"
    }
   ],
   "source": [
    "rfr_1.fit(X_train, y_train)"
   ]
  },
  {
   "cell_type": "code",
   "execution_count": 249,
   "metadata": {},
   "outputs": [],
   "source": [
    "rfr_pred_1 = rfr_1.predict(X_test)"
   ]
  },
  {
   "cell_type": "code",
   "execution_count": 250,
   "metadata": {},
   "outputs": [
    {
     "data": {
      "text/plain": [
       "0.5165718288315223"
      ]
     },
     "execution_count": 250,
     "metadata": {},
     "output_type": "execute_result"
    }
   ],
   "source": [
    "rfr_1.score(X_test, y_test)"
   ]
  },
  {
   "cell_type": "code",
   "execution_count": 251,
   "metadata": {
    "scrolled": false
   },
   "outputs": [
    {
     "name": "stdout",
     "output_type": "stream",
     "text": [
      "Mean Absolute Error: 14.058147540983606\n",
      "Mean Squared Error: 353.0132440983606\n",
      "Root Mean Squared Error: 18.7886466808645\n"
     ]
    }
   ],
   "source": [
    "print('Mean Absolute Error:', metrics.mean_absolute_error(y_test, rfr_pred_1))\n",
    "print('Mean Squared Error:', metrics.mean_squared_error(y_test, rfr_pred_1))\n",
    "print('Root Mean Squared Error:', np.sqrt(metrics.mean_squared_error(y_test, rfr_pred_1)))"
   ]
  },
  {
   "cell_type": "code",
   "execution_count": 252,
   "metadata": {},
   "outputs": [],
   "source": [
    "rfr_2 = RandomForestRegressor(n_estimators=100, random_state=0)"
   ]
  },
  {
   "cell_type": "code",
   "execution_count": 253,
   "metadata": {
    "scrolled": true
   },
   "outputs": [
    {
     "data": {
      "text/plain": [
       "RandomForestRegressor(bootstrap=True, criterion='mse', max_depth=None,\n",
       "           max_features='auto', max_leaf_nodes=None,\n",
       "           min_impurity_decrease=0.0, min_impurity_split=None,\n",
       "           min_samples_leaf=1, min_samples_split=2,\n",
       "           min_weight_fraction_leaf=0.0, n_estimators=100, n_jobs=None,\n",
       "           oob_score=False, random_state=0, verbose=0, warm_start=False)"
      ]
     },
     "execution_count": 253,
     "metadata": {},
     "output_type": "execute_result"
    }
   ],
   "source": [
    "rfr_2.fit(X_train, y_train)"
   ]
  },
  {
   "cell_type": "code",
   "execution_count": 254,
   "metadata": {},
   "outputs": [],
   "source": [
    "rfr_pred_2 = rfr_2.predict(X_test)"
   ]
  },
  {
   "cell_type": "code",
   "execution_count": 255,
   "metadata": {},
   "outputs": [
    {
     "data": {
      "text/plain": [
       "0.567818289853375"
      ]
     },
     "execution_count": 255,
     "metadata": {},
     "output_type": "execute_result"
    }
   ],
   "source": [
    "rfr_2.score(X_test, y_test)"
   ]
  },
  {
   "cell_type": "code",
   "execution_count": 256,
   "metadata": {
    "scrolled": true
   },
   "outputs": [
    {
     "name": "stdout",
     "output_type": "stream",
     "text": [
      "Mean Absolute Error: 13.18401639344262\n",
      "Mean Squared Error: 315.59159485901637\n",
      "Root Mean Squared Error: 17.76489782855551\n"
     ]
    }
   ],
   "source": [
    "print('Mean Absolute Error:', metrics.mean_absolute_error(y_test, rfr_pred_2))\n",
    "print('Mean Squared Error:', metrics.mean_squared_error(y_test, rfr_pred_2))\n",
    "print('Root Mean Squared Error:', np.sqrt(metrics.mean_squared_error(y_test, rfr_pred_2)))"
   ]
  },
  {
   "cell_type": "code",
   "execution_count": 257,
   "metadata": {},
   "outputs": [],
   "source": [
    "rfr_3 = RandomForestRegressor(n_estimators=1000, random_state=0)"
   ]
  },
  {
   "cell_type": "code",
   "execution_count": 258,
   "metadata": {
    "scrolled": true
   },
   "outputs": [
    {
     "data": {
      "text/plain": [
       "RandomForestRegressor(bootstrap=True, criterion='mse', max_depth=None,\n",
       "           max_features='auto', max_leaf_nodes=None,\n",
       "           min_impurity_decrease=0.0, min_impurity_split=None,\n",
       "           min_samples_leaf=1, min_samples_split=2,\n",
       "           min_weight_fraction_leaf=0.0, n_estimators=1000, n_jobs=None,\n",
       "           oob_score=False, random_state=0, verbose=0, warm_start=False)"
      ]
     },
     "execution_count": 258,
     "metadata": {},
     "output_type": "execute_result"
    }
   ],
   "source": [
    "rfr_3.fit(X_train, y_train)"
   ]
  },
  {
   "cell_type": "code",
   "execution_count": 259,
   "metadata": {},
   "outputs": [],
   "source": [
    "rfr_pred_3 = rfr_3.predict(X_test)"
   ]
  },
  {
   "cell_type": "code",
   "execution_count": 260,
   "metadata": {},
   "outputs": [
    {
     "data": {
      "text/plain": [
       "0.5713508272227407"
      ]
     },
     "execution_count": 260,
     "metadata": {},
     "output_type": "execute_result"
    }
   ],
   "source": [
    "rfr_3.score(X_test, y_test)"
   ]
  },
  {
   "cell_type": "code",
   "execution_count": 261,
   "metadata": {
    "scrolled": true
   },
   "outputs": [
    {
     "name": "stdout",
     "output_type": "stream",
     "text": [
      "Mean Absolute Error: 13.116432295081951\n",
      "Mean Squared Error: 313.01203381762264\n",
      "Root Mean Squared Error: 17.692146105479196\n"
     ]
    }
   ],
   "source": [
    "print('Mean Absolute Error:', metrics.mean_absolute_error(y_test, rfr_pred_3))\n",
    "print('Mean Squared Error:', metrics.mean_squared_error(y_test, rfr_pred_3))\n",
    "print('Root Mean Squared Error:', np.sqrt(metrics.mean_squared_error(y_test, rfr_pred_3)))"
   ]
  },
  {
   "cell_type": "markdown",
   "metadata": {},
   "source": [
    "## Deep Learning"
   ]
  },
  {
   "cell_type": "code",
   "execution_count": 303,
   "metadata": {},
   "outputs": [],
   "source": [
    "df_for_dl = pd.read_csv('cancer_ml6_ml.csv', index_col=['Geography'])"
   ]
  },
  {
   "cell_type": "code",
   "execution_count": 304,
   "metadata": {},
   "outputs": [
    {
     "data": {
      "text/plain": [
       "(3047, 329)"
      ]
     },
     "execution_count": 304,
     "metadata": {},
     "output_type": "execute_result"
    }
   ],
   "source": [
    "df_for_dl.shape"
   ]
  },
  {
   "cell_type": "code",
   "execution_count": 305,
   "metadata": {},
   "outputs": [],
   "source": [
    "boolean_cols = ['PctSomeCol18_24_isnull', 'PctEmployed16_Over_isnull', 'PctPrivateCoverageAlone_isnull', \n",
    "               'age_gt_100', 'household_lt_1', 'PCT_LACCESS_POP10_isnull', 'PCT_LACCESS_LOWI10_isnull', \n",
    "               'PCT_LACCESS_CHILD10_isnull', 'PCT_LACCESS_SENIORS10_isnull', 'PCT_LACCESS_HHNV10_isnull', \n",
    "               'FOODINSEC_00_02_isnull', 'FOODINSEC_07_09_isnull', 'FOODINSEC_10_12_isnull', \n",
    "               'CH_FOODINSEC_02_12_isnull', 'CH_FOODINSEC_09_12_isnull', 'VLFOODSEC_00_02_isnull', \n",
    "               'VLFOODSEC_07_09_isnull', 'VLFOODSEC_10_12_isnull', 'CH_VLFOODSEC_02_12_isnull', \n",
    "               'CH_VLFOODSEC_09_12_isnull', 'FOODINSEC_CHILD_01_07_isnull', 'FOODINSEC_CHILD_03_11_isnull', \n",
    "               'PCT_LOCLFARM07_isnull', 'PCT_LOCLSALE07_isnull', 'PC_DIRSALES07_isnull', 'FMRKT09_isnull', \n",
    "               'FMRKT13_isnull', 'PCH_FMRKT_09_13_isnull', 'FMRKTPTH09_isnull', 'FMRKTPTH13_isnull', \n",
    "               'PCH_FMRKTPTH_09_13_isnull', 'PCT_FMRKT_SNAP13_isnull', 'PCT_FMRKT_WIC13_isnull', \n",
    "               'PCT_FMRKT_WICCASH13_isnull', 'PCT_FMRKT_SFMNP13_isnull', 'PCT_FRMKT_FRVEG13_isnull', \n",
    "               'PCT_FRMKT_ANMLPROD13_isnull', 'PCT_FMRKT_OTHER13_isnull', 'VEG_FARMS07_isnull', \n",
    "               'VEG_ACRES07_isnull', 'VEG_ACRESPTH07_isnull', 'FRESHVEG_FARMS07_isnull', 'FRESHVEG_ACRES07_isnull', \n",
    "               'FRESHVEG_ACRESPTH07_isnull', 'ORCHARD_FARMS07_isnull', 'ORCHARD_ACRES07_isnull', \n",
    "               'ORCHARD_ACRESPTH07_isnull', 'BERRY_FARMS07_isnull', 'BERRY_ACRES07_isnull', \n",
    "               'BERRY_ACRESPTH07_isnull', 'SLHOUSE07_isnull', 'GHVEG_FARMS07_isnull', 'GHVEG_SQFT07_isnull', \n",
    "               'GHVEG_SQFTPTH07_isnull', 'FOODHUB12_isnull', 'CSA07_isnull', 'AGRITRSM_OPS07_isnull', \n",
    "               'AGRITRSM_RCT07_isnull', 'FARM_TO_SCHOOL_isnull', 'PCT_OBESE_CHILD08_isnull', \n",
    "               'PCT_OBESE_CHILD11_isnull', 'PCH_OBESE_CHILD_08_11_isnull', 'PCT_HSPA09_isnull', \n",
    "               'PCH_RECFAC_07_12_isnull', 'PCH_RECFACPTH_07_12_isnull', 'NATAMEN_isnull']"
   ]
  },
  {
   "cell_type": "code",
   "execution_count": 306,
   "metadata": {},
   "outputs": [],
   "source": [
    "for col in boolean_cols:\n",
    "    df_for_dl[col] = df_for_dl[col].astype(int)"
   ]
  },
  {
   "cell_type": "code",
   "execution_count": 307,
   "metadata": {},
   "outputs": [],
   "source": [
    "df_for_dl.to_csv('cancer_ml6_dl.csv')"
   ]
  },
  {
   "cell_type": "code",
   "execution_count": 321,
   "metadata": {},
   "outputs": [],
   "source": [
    "del df_for_dl"
   ]
  },
  {
   "cell_type": "code",
   "execution_count": 322,
   "metadata": {},
   "outputs": [],
   "source": [
    "df_for_dl = pd.read_csv('cancer_ml6_dl.csv', index_col=['Geography'])"
   ]
  },
  {
   "cell_type": "code",
   "execution_count": 323,
   "metadata": {
    "scrolled": true
   },
   "outputs": [
    {
     "data": {
      "text/plain": [
       "array([[1.43000000e+02, 4.30900000e+02, 3.55250000e+04, ...,\n",
       "        3.45631668e+00, 1.00489000e+03, 3.28091122e+00],\n",
       "       [3.23000000e+02, 4.92700000e+02, 4.02690000e+04, ...,\n",
       "        3.49953328e+00, 1.09561000e+03, 3.38777436e+00],\n",
       "       [2.21000000e+02, 4.79400000e+02, 3.83900000e+04, ...,\n",
       "        3.30321697e+00, 7.39840000e+02, 3.35689712e+00],\n",
       "       ...,\n",
       "       [5.40000000e+01, 4.27200000e+02, 4.68380000e+04, ...,\n",
       "        3.05870707e+00, 4.53690000e+02, 2.85070650e+00],\n",
       "       [4.10000000e+01, 3.40900000e+02, 3.32910000e+04, ...,\n",
       "        3.43075618e+00, 9.54810000e+02, 3.84160054e+00],\n",
       "       [3.70000000e+01, 3.21000000e+02, 2.63360000e+04, ...,\n",
       "        3.43075618e+00, 9.54810000e+02, 3.93573953e+00]])"
      ]
     },
     "execution_count": 323,
     "metadata": {},
     "output_type": "execute_result"
    }
   ],
   "source": [
    "predictors = np.loadtxt('cancer_ml6_dl.csv', skiprows=1, usecols=np.arange(3,331), delimiter=',')\n",
    "predictors"
   ]
  },
  {
   "cell_type": "code",
   "execution_count": 324,
   "metadata": {},
   "outputs": [
    {
     "data": {
      "text/plain": [
       "328"
      ]
     },
     "execution_count": 324,
     "metadata": {},
     "output_type": "execute_result"
    }
   ],
   "source": [
    "n_cols = predictors.shape[1]\n",
    "n_cols"
   ]
  },
  {
   "cell_type": "code",
   "execution_count": 325,
   "metadata": {},
   "outputs": [],
   "source": [
    "target = df_for_dl['TARGET_deathRate']"
   ]
  },
  {
   "cell_type": "code",
   "execution_count": 326,
   "metadata": {},
   "outputs": [
    {
     "name": "stdout",
     "output_type": "stream",
     "text": [
      "96/96 [==============================] - 0s 1ms/step - loss: 36888544.0000\n"
     ]
    },
    {
     "data": {
      "text/plain": [
       "<tensorflow.python.keras.callbacks.History at 0x1a54a5978>"
      ]
     },
     "execution_count": 326,
     "metadata": {},
     "output_type": "execute_result"
    }
   ],
   "source": [
    "model = Sequential()\n",
    "model.add(Dense(100, activation='relu', input_shape=(n_cols,)))\n",
    "model.add(Dense(100, activation='relu'))\n",
    "model.add(Dense(1))\n",
    "model.compile(optimizer='adam', loss='mean_squared_error')\n",
    "model.fit(predictors, target)"
   ]
  }
 ],
 "metadata": {
  "kernelspec": {
   "display_name": "Python 3",
   "language": "python",
   "name": "python3"
  },
  "language_info": {
   "codemirror_mode": {
    "name": "ipython",
    "version": 3
   },
   "file_extension": ".py",
   "mimetype": "text/x-python",
   "name": "python",
   "nbconvert_exporter": "python",
   "pygments_lexer": "ipython3",
   "version": "3.7.3"
  }
 },
 "nbformat": 4,
 "nbformat_minor": 2
}
