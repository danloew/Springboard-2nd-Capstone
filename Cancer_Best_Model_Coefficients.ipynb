{
 "cells": [
  {
   "cell_type": "markdown",
   "metadata": {},
   "source": [
    "# Exploration of Socioeconomic Influences on Cancer Mortality:\n",
    "# Coefficients of Best Performing Machine Learning Model"
   ]
  },
  {
   "cell_type": "markdown",
   "metadata": {},
   "source": [
    "Now that the best performing regressor (unscaled Ridge Regression with an alpha of 0.001) has been identified through the iterative process of hyperparameter tuning, its regression coefficients are examined in this notebook in an effort to discover further significant contributors to cancer mortality that weren't identified in the Visual EDA notebook with predictive features' Pearson's correlation coefficients or in the Hypothesis Testing notebook."
   ]
  },
  {
   "cell_type": "code",
   "execution_count": 1,
   "metadata": {},
   "outputs": [],
   "source": [
    "import csv\n",
    "import numpy as np\n",
    "import pandas as pd\n",
    "import matplotlib.pyplot as plt\n",
    "import sklearn\n",
    "from sklearn import linear_model\n",
    "from sklearn.linear_model import Ridge\n",
    "from sklearn.model_selection import train_test_split\n",
    "from sklearn import metrics\n",
    "from sklearn.metrics import roc_curve\n",
    "from sklearn.metrics import roc_auc_score\n",
    "from sklearn.metrics import mean_squared_error\n",
    "from sklearn.preprocessing import MinMaxScaler"
   ]
  },
  {
   "cell_type": "code",
   "execution_count": 2,
   "metadata": {},
   "outputs": [],
   "source": [
    "df = pd.read_csv('cancer_ml7.csv', index_col=['Geography'])"
   ]
  },
  {
   "cell_type": "markdown",
   "metadata": {},
   "source": [
    "## Top Performing Regressor"
   ]
  },
  {
   "cell_type": "markdown",
   "metadata": {},
   "source": [
    "The target variable is set as 'TARGET_deathRate', the per capita cancer mortality rate (per 100,000 people)."
   ]
  },
  {
   "cell_type": "code",
   "execution_count": 3,
   "metadata": {},
   "outputs": [],
   "source": [
    "y = df['TARGET_deathRate']"
   ]
  },
  {
   "cell_type": "markdown",
   "metadata": {},
   "source": [
    "The predictive feature set X is defined as the rest of the columns in the DataFrame."
   ]
  },
  {
   "cell_type": "code",
   "execution_count": 4,
   "metadata": {},
   "outputs": [],
   "source": [
    "target_name = ['TARGET_deathRate']\n",
    "X = df[[cn for cn in df.columns if cn not in target_name]]"
   ]
  },
  {
   "cell_type": "markdown",
   "metadata": {},
   "source": [
    "The best performing algorithm is the unscaled, Ridge Regression algorithm using unscaled data and the automatic solver with an Alpha of 0.001. This algorithm has an accuracy of 0.6465 and a Root Mean Squared Error (RMSE) of 16.6 for the training set. The test set has an accuracy of 0.6408 and a Root Mean Squared Error (RMSE) of 16.2."
   ]
  },
  {
   "cell_type": "code",
   "execution_count": 5,
   "metadata": {},
   "outputs": [
    {
     "data": {
      "text/plain": [
       "Ridge(alpha=0.001, copy_X=True, fit_intercept=True, max_iter=None,\n",
       "   normalize=False, random_state=None, solver='auto', tol=0.001)"
      ]
     },
     "execution_count": 5,
     "metadata": {},
     "output_type": "execute_result"
    }
   ],
   "source": [
    "lr_3 = linear_model.Ridge(alpha=0.001)\n",
    "lr_3"
   ]
  },
  {
   "cell_type": "code",
   "execution_count": 6,
   "metadata": {},
   "outputs": [],
   "source": [
    "X_train, X_test, y_train, y_test = train_test_split(X, y, test_size=0.2, random_state=42)"
   ]
  },
  {
   "cell_type": "code",
   "execution_count": 7,
   "metadata": {
    "scrolled": true
   },
   "outputs": [
    {
     "name": "stderr",
     "output_type": "stream",
     "text": [
      "/Users/DanLoew/anaconda3/lib/python3.7/site-packages/sklearn/linear_model/ridge.py:125: LinAlgWarning: Ill-conditioned matrix (rcond=1.63404e-18): result may not be accurate.\n",
      "  overwrite_a=True).T\n"
     ]
    },
    {
     "data": {
      "text/plain": [
       "Ridge(alpha=0.001, copy_X=True, fit_intercept=True, max_iter=None,\n",
       "   normalize=False, random_state=None, solver='auto', tol=0.001)"
      ]
     },
     "execution_count": 7,
     "metadata": {},
     "output_type": "execute_result"
    }
   ],
   "source": [
    "lr_3.fit(X_train, y_train)"
   ]
  },
  {
   "cell_type": "code",
   "execution_count": 8,
   "metadata": {
    "scrolled": false
   },
   "outputs": [
    {
     "data": {
      "text/plain": [
       "array([193.6814711 , 190.81999526, 216.23272617, 139.13920381,\n",
       "       225.16635654, 195.66524864, 172.79393977, 170.42103655,\n",
       "       196.48290334, 230.26460023, 197.25887577, 175.61009965,\n",
       "       202.61717549, 187.70993108, 155.03822506, 188.09679189,\n",
       "       201.12734623, 156.97725576, 174.21388088, 179.27723478])"
      ]
     },
     "execution_count": 8,
     "metadata": {},
     "output_type": "execute_result"
    }
   ],
   "source": [
    "y_pred_3_train = lr_3.predict(X_train)\n",
    "y_pred_3_train[0:20]"
   ]
  },
  {
   "cell_type": "code",
   "execution_count": 9,
   "metadata": {},
   "outputs": [
    {
     "name": "stdout",
     "output_type": "stream",
     "text": [
      "Training Set R^2: 0.6465369736893312\n",
      "Training Set Root Mean Squared Error: 16.58992192614389\n"
     ]
    }
   ],
   "source": [
    "print(\"Training Set R^2: {}\".format(lr_3.score(X_train, y_train)))\n",
    "rmse_3_train = np.sqrt(mean_squared_error(y_train, y_pred_3_train))\n",
    "print(\"Training Set Root Mean Squared Error: {}\".format(rmse_3_train))"
   ]
  },
  {
   "cell_type": "code",
   "execution_count": 10,
   "metadata": {},
   "outputs": [
    {
     "data": {
      "text/plain": [
       "array([177.35025576, 175.37003439, 162.28118045, 175.61565049,\n",
       "       178.79949234, 195.82574314, 173.08925325, 164.09948603,\n",
       "       174.86180399, 172.19905272, 177.03470199, 206.9132008 ,\n",
       "       157.80007659, 157.37575802, 220.00185197, 108.9025308 ,\n",
       "       188.29362207, 205.9232775 , 208.2225993 , 183.78457323])"
      ]
     },
     "execution_count": 10,
     "metadata": {},
     "output_type": "execute_result"
    }
   ],
   "source": [
    "y_pred_3_test = lr_3.predict(X_test)\n",
    "y_pred_3_test[0:20]"
   ]
  },
  {
   "cell_type": "code",
   "execution_count": 11,
   "metadata": {},
   "outputs": [
    {
     "name": "stdout",
     "output_type": "stream",
     "text": [
      "Test Set R^2: 0.6407644965711742\n",
      "Test Set Root Mean Squared Error: 16.196424394992476\n"
     ]
    }
   ],
   "source": [
    "print(\"Test Set R^2: {}\".format(lr_3.score(X_test, y_test)))\n",
    "rmse_3_test = np.sqrt(mean_squared_error(y_test, y_pred_3_test))\n",
    "print(\"Test Set Root Mean Squared Error: {}\".format(rmse_3_test))"
   ]
  },
  {
   "cell_type": "code",
   "execution_count": 12,
   "metadata": {},
   "outputs": [],
   "source": [
    "pd.set_option('display.max_rows', 350)"
   ]
  },
  {
   "cell_type": "code",
   "execution_count": 13,
   "metadata": {
    "scrolled": true
   },
   "outputs": [
    {
     "data": {
      "text/plain": [
       "avgAnnCount                      -3.311788e-03\n",
       "incidenceRate                     1.579581e-01\n",
       "medIncome                         3.962400e-05\n",
       "popEst2015                       -2.945975e-07\n",
       "povertyPercent                   -2.999942e+00\n",
       "studyPerCap                       1.610786e-04\n",
       "MedianAge                         1.048151e+00\n",
       "MedianAgeMale                    -5.903435e-01\n",
       "MedianAgeFemale                   1.346875e+00\n",
       "AvgHouseholdSize                 -6.493734e+00\n",
       "PercentMarried                    2.234602e+00\n",
       "PctNoHS18_24                     -1.135149e-02\n",
       "PctHS18_24                        2.003942e-01\n",
       "PctSomeCol18_24                  -2.494795e-01\n",
       "PctBachDeg18_24                  -1.619434e-01\n",
       "PctHS25_Over                      1.478055e+00\n",
       "PctBachDeg25_Over                -4.930227e-01\n",
       "PctEmployed16_Over                6.498003e+00\n",
       "PctUnemployed16_Over              1.192618e-01\n",
       "PctPrivateCoverage               -4.395087e+00\n",
       "PctPrivateCoverageAlone           1.323289e-01\n",
       "PctEmpPrivCoverage                1.053040e+00\n",
       "PctPublicCoverage                -1.238955e+00\n",
       "PctPublicCoverageAlone           -4.734840e-01\n",
       "PctWhite                         -1.325408e+00\n",
       "PctBlack                          2.766056e-01\n",
       "PctAsian                         -3.779948e-01\n",
       "PctOtherRace                     -2.798917e-01\n",
       "PctMarriedHouseholds             -8.179308e-01\n",
       "BirthRate                        -6.189144e-01\n",
       "PctSomeCol18_24_isnull            3.027247e-01\n",
       "PctEmployed16_Over_isnull         5.764277e-01\n",
       "PctPrivateCoverageAlone_isnull    3.520977e-01\n",
       "age_gt_100                        3.940965e+00\n",
       "household_lt_1                   -5.152421e-01\n",
       "binnedInc_(34218.1, 37413.8]      2.195684e+00\n",
       "binnedInc_(37413.8, 40362.7]      4.773566e-03\n",
       "binnedInc_(40362.7, 42724.4]     -1.393742e+00\n",
       "binnedInc_(42724.4, 45201]       -7.114925e-02\n",
       "binnedInc_(45201, 48021.6]       -5.724296e-01\n",
       "binnedInc_(48021.6, 51046.4]     -1.957248e+00\n",
       "binnedInc_(51046.4, 54545.6]     -1.910403e+00\n",
       "binnedInc_(54545.6, 61494.5]     -1.665081e+00\n",
       "binnedInc_(61494.5, 125635]      -5.318539e-01\n",
       "binnedInc_[22640, 34218.1]        5.901450e+00\n",
       "ALAND_SQMI                        6.190739e-06\n",
       "AWATER_SQMI                      -2.433043e-03\n",
       "INTPTLAT                         -3.772941e+00\n",
       "INTPTLONG                        -2.674112e+01\n",
       "State_Alabama                     5.080412e+00\n",
       "State_Alaska                      3.512214e+01\n",
       "State_Arizona                     1.802644e+01\n",
       "State_Arkansas                    5.682139e+00\n",
       "State_California                  2.992599e+01\n",
       "State_Colorado                    2.613880e-01\n",
       "State_Connecticut                -1.719479e+01\n",
       "State_Delaware                   -4.402421e+00\n",
       "State_District of Columbia        1.431427e+01\n",
       "State_Florida                     1.996096e+01\n",
       "State_Georgia                    -1.713732e+00\n",
       "State_Hawaii                     -4.305845e+01\n",
       "State_Idaho                      -9.672172e+00\n",
       "State_Illinois                   -1.383722e+01\n",
       "State_Indiana                    -6.644210e+00\n",
       "State_Iowa                       -1.519923e+01\n",
       "State_Kansas                      2.659105e+00\n",
       "State_Kentucky                    2.203531e-01\n",
       "State_Louisiana                   4.320379e+00\n",
       "State_Maine                      -1.428049e+00\n",
       "State_Maryland                    2.240773e+00\n",
       "State_Massachusetts               6.296753e-02\n",
       "State_Michigan                   -1.065116e+01\n",
       "State_Minnesota                  -6.829018e+00\n",
       "State_Mississippi                 9.357084e+00\n",
       "State_Missouri                   -5.680484e+00\n",
       "State_Montana                    -7.935563e+00\n",
       "State_Nebraska                   -6.229377e+00\n",
       "State_Nevada                      4.279767e+01\n",
       "State_New Hampshire              -1.034052e+01\n",
       "State_New Jersey                 -5.735148e+00\n",
       "State_New Mexico                  5.955380e+00\n",
       "State_New York                   -2.913545e+00\n",
       "State_North Carolina             -1.370977e+01\n",
       "State_North Dakota               -5.917723e+00\n",
       "State_Ohio                       -1.260597e+01\n",
       "State_Oklahoma                    1.065815e+01\n",
       "State_Oregon                      2.164970e+00\n",
       "State_Pennsylvania               -8.728011e+00\n",
       "State_Rhode Island               -1.900081e+01\n",
       "State_South Carolina              9.442584e+00\n",
       "State_South Dakota               -3.183380e+00\n",
       "State_Tennessee                   1.202283e-01\n",
       "State_Texas                       2.615907e+00\n",
       "State_Utah                        1.741215e+01\n",
       "State_Vermont                    -6.351672e+00\n",
       "State_Virginia                    1.513824e+00\n",
       "State_Washington                 -4.545719e+00\n",
       "State_West Virginia              -1.703287e-01\n",
       "State_Wisconsin                  -9.992682e-01\n",
       "State_Wyoming                     4.762492e+00\n",
       "utmda_l1                         -1.859364e+00\n",
       "mskcc_l1                          9.160719e-02\n",
       "mayo_l1                           1.769828e+00\n",
       "hopkins_l1                        2.325272e+00\n",
       "dfb_l1                           -2.138701e+01\n",
       "cleveland_l1                     -1.122251e+01\n",
       "upmcps_l1                         1.672678e+00\n",
       "hlmcc_l1                          1.982735e+00\n",
       "mgs_l1                            4.001968e+01\n",
       "nw_mem_l1                         5.175472e+01\n",
       "chi_l1                           -5.093429e+01\n",
       "nyc_l1                           -2.303114e+00\n",
       "atlanta_l1                       -1.634843e+00\n",
       "dallas_l1                         2.219957e+00\n",
       "denver_l1                        -1.881121e+00\n",
       "los_ang_l1                       -2.396801e-01\n",
       "seattle_l1                       -3.062198e+00\n",
       "san_fran_l1                      -2.330910e+00\n",
       "utmda_l2                          7.197293e-01\n",
       "mskcc_l2                          1.215137e+02\n",
       "mayo_l2                          -1.510548e-01\n",
       "hopkins_l2                        1.250331e+00\n",
       "dfb_l2                           -7.126583e+01\n",
       "cleveland_l2                     -1.109783e+01\n",
       "upmcps_l2                         1.802796e+01\n",
       "hlmcc_l2                         -8.288755e-01\n",
       "mgs_l2                            4.815532e+01\n",
       "nw_mem_l2                         3.408147e+02\n",
       "chi_l2                           -3.386405e+02\n",
       "nyc_l2                           -1.233645e+02\n",
       "atlanta_l2                        2.308934e+00\n",
       "dallas_l2                        -3.337654e-01\n",
       "denver_l2                         3.409665e+00\n",
       "los_ang_l2                        3.438173e+00\n",
       "seattle_l2                        4.330320e+00\n",
       "san_fran_l2                       2.427954e+00\n",
       "onc_min_distsl1                   1.346105e+00\n",
       "onc_min_distsl2                  -2.324078e+00\n",
       "city_min_distsl1                 -4.118785e+00\n",
       "city_min_distsl2                  2.115211e+00\n",
       "sc_min_dists_l1                  -2.758268e+00\n",
       "sc_min_dists_l2                   1.754514e+00\n",
       "PCT_LACCESS_POP10                 3.537893e-02\n",
       "PCT_LACCESS_LOWI10               -4.034600e-02\n",
       "PCT_LACCESS_CHILD10              -6.227237e-01\n",
       "PCT_LACCESS_SENIORS10            -2.431128e-02\n",
       "PCT_LACCESS_HHNV10                1.920685e-01\n",
       "PCT_LACCESS_POP10_isnull          1.634438e-01\n",
       "PCT_LACCESS_LOWI10_isnull         1.634438e-01\n",
       "PCT_LACCESS_CHILD10_isnull        1.634438e-01\n",
       "PCT_LACCESS_SENIORS10_isnull      1.634438e-01\n",
       "PCT_LACCESS_HHNV10_isnull        -8.240840e+00\n",
       "FOODINSEC_00_02                   3.917220e-01\n",
       "FOODINSEC_07_09                  -3.734221e-01\n",
       "FOODINSEC_10_12                   4.012787e-01\n",
       "CH_FOODINSEC_02_12                9.841172e-03\n",
       "CH_FOODINSEC_09_12                7.751314e-01\n",
       "VLFOODSEC_00_02                  -8.751875e-01\n",
       "VLFOODSEC_07_09                   8.773215e-01\n",
       "VLFOODSEC_10_12                   1.196430e-01\n",
       "CH_VLFOODSEC_02_12                9.952634e-01\n",
       "CH_VLFOODSEC_09_12               -7.572460e-01\n",
       "FOODINSEC_CHILD_01_07             1.266317e+00\n",
       "FOODINSEC_CHILD_03_11            -1.692835e+00\n",
       "FOODINSEC_00_02_isnull           -1.442360e-03\n",
       "FOODINSEC_07_09_isnull           -1.442360e-03\n",
       "FOODINSEC_10_12_isnull           -1.442360e-03\n",
       "CH_FOODINSEC_02_12_isnull        -1.442360e-03\n",
       "CH_FOODINSEC_09_12_isnull        -1.442359e-03\n",
       "VLFOODSEC_00_02_isnull           -1.442359e-03\n",
       "VLFOODSEC_07_09_isnull           -1.442359e-03\n",
       "VLFOODSEC_10_12_isnull           -1.442359e-03\n",
       "CH_VLFOODSEC_02_12_isnull        -1.442359e-03\n",
       "CH_VLFOODSEC_09_12_isnull        -1.442359e-03\n",
       "FOODINSEC_CHILD_01_07_isnull     -1.442359e-03\n",
       "FOODINSEC_CHILD_03_11_isnull     -1.442359e-03\n",
       "PCT_LOCLFARM07                    3.227965e-01\n",
       "PCT_LOCLSALE07                    2.430070e-01\n",
       "PC_DIRSALES07                    -1.262541e-01\n",
       "FMRKT09                           2.829221e-01\n",
       "FMRKT13                          -2.136960e-01\n",
       "PCH_FMRKT_09_13                  -1.540977e-01\n",
       "FMRKTPTH09                        4.894622e+00\n",
       "FMRKTPTH13                       -5.534143e+00\n",
       "PCH_FMRKTPTH_09_13                1.579940e-01\n",
       "PCT_FMRKT_SNAP13                 -2.905792e-02\n",
       "PCT_FMRKT_WIC13                   1.873759e-02\n",
       "PCT_FMRKT_WICCASH13               1.431160e-02\n",
       "PCT_FMRKT_SFMNP13                -2.055403e-03\n",
       "PCT_FRMKT_FRVEG13                -1.566592e-02\n",
       "PCT_FRMKT_ANMLPROD13              7.797797e-03\n",
       "PCT_FMRKT_OTHER13                 2.399057e-03\n",
       "VEG_FARMS07                      -3.041331e-02\n",
       "VEG_ACRES07                       1.634414e-04\n",
       "VEG_ACRESPTH07                   -5.775185e-03\n",
       "FRESHVEG_FARMS07                  3.607098e-03\n",
       "FRESHVEG_ACRES07                 -1.542954e-04\n",
       "FRESHVEG_ACRESPTH07               2.789564e-03\n",
       "ORCHARD_FARMS07                   1.039970e-03\n",
       "ORCHARD_ACRES07                  -1.299029e-05\n",
       "ORCHARD_ACRESPTH07               -4.739862e-03\n",
       "BERRY_FARMS07                     1.344695e-02\n",
       "BERRY_ACRES07                    -2.977239e-04\n",
       "BERRY_ACRESPTH07                  3.135429e-02\n",
       "SLHOUSE07                        -2.509109e-01\n",
       "GHVEG_FARMS07                     7.990794e-02\n",
       "GHVEG_SQFT07                      1.812415e-06\n",
       "GHVEG_SQFTPTH07                  -4.690972e-04\n",
       "FOODHUB12                        -1.222226e-01\n",
       "CSA07                            -2.974975e-02\n",
       "AGRITRSM_OPS07                    8.061957e-03\n",
       "AGRITRSM_RCT07                    1.541811e-06\n",
       "FARM_TO_SCHOOL                   -3.277520e+00\n",
       "PCT_LOCLFARM07_isnull             8.253386e+00\n",
       "PCT_LOCLSALE07_isnull            -2.305861e+00\n",
       "PC_DIRSALES07_isnull              1.819871e+00\n",
       "FMRKT09_isnull                    1.868850e+01\n",
       "FMRKT13_isnull                    0.000000e+00\n",
       "PCH_FMRKT_09_13_isnull            8.001662e-01\n",
       "FMRKTPTH09_isnull                 1.868850e+01\n",
       "FMRKTPTH13_isnull                 0.000000e+00\n",
       "PCH_FMRKTPTH_09_13_isnull         8.001662e-01\n",
       "PCT_FMRKT_SNAP13_isnull           1.051916e-01\n",
       "PCT_FMRKT_WIC13_isnull            1.051916e-01\n",
       "PCT_FMRKT_WICCASH13_isnull        1.051916e-01\n",
       "PCT_FMRKT_SFMNP13_isnull          1.051916e-01\n",
       "PCT_FRMKT_FRVEG13_isnull          1.051916e-01\n",
       "PCT_FRMKT_ANMLPROD13_isnull       1.051916e-01\n",
       "PCT_FMRKT_OTHER13_isnull          1.051916e-01\n",
       "VEG_FARMS07_isnull               -1.742495e+00\n",
       "VEG_ACRES07_isnull               -8.791752e+00\n",
       "VEG_ACRESPTH07_isnull             9.896747e+00\n",
       "FRESHVEG_FARMS07_isnull          -1.742495e+00\n",
       "FRESHVEG_ACRES07_isnull           4.490631e-01\n",
       "FRESHVEG_ACRESPTH07_isnull        4.490631e-01\n",
       "ORCHARD_FARMS07_isnull           -1.742495e+00\n",
       "ORCHARD_ACRES07_isnull           -3.085975e-01\n",
       "ORCHARD_ACRESPTH07_isnull        -3.085975e-01\n",
       "BERRY_FARMS07_isnull             -1.742495e+00\n",
       "BERRY_ACRES07_isnull             -1.151325e-01\n",
       "BERRY_ACRESPTH07_isnull          -1.151325e-01\n",
       "SLHOUSE07_isnull                  0.000000e+00\n",
       "GHVEG_FARMS07_isnull             -1.742495e+00\n",
       "GHVEG_SQFT07_isnull              -4.531185e-01\n",
       "GHVEG_SQFTPTH07_isnull           -4.531185e-01\n",
       "FOODHUB12_isnull                  0.000000e+00\n",
       "CSA07_isnull                      0.000000e+00\n",
       "AGRITRSM_OPS07_isnull             0.000000e+00\n",
       "AGRITRSM_RCT07_isnull             4.189802e-01\n",
       "FARM_TO_SCHOOL_isnull             0.000000e+00\n",
       "PCT_DIABETES_ADULTS09             4.178602e-01\n",
       "PCT_DIABETES_ADULTS10            -3.510315e-01\n",
       "PCT_OBESE_ADULTS09               -1.131211e-01\n",
       "PCT_OBESE_ADULTS10                7.726839e-01\n",
       "PCT_OBESE_ADULTS13                3.031626e+00\n",
       "PCT_OBESE_CHILD08                -7.469103e-01\n",
       "PCT_OBESE_CHILD11                 5.324287e-01\n",
       "PCH_OBESE_CHILD_08_11            -7.628174e-01\n",
       "PCT_HSPA09                        8.789151e-01\n",
       "RECFAC07                         -1.719944e-02\n",
       "RECFAC12                          1.574673e-01\n",
       "PCH_RECFAC_07_12                 -2.410697e-01\n",
       "RECFACPTH07                      -1.889053e+01\n",
       "RECFACPTH12                       1.634411e+01\n",
       "PCH_RECFACPTH_07_12               2.299821e-01\n",
       "NATAMEN                          -8.239570e-01\n",
       "PCT_OBESE_CHILD08_isnull          8.649288e+00\n",
       "PCT_OBESE_CHILD11_isnull          3.585599e+00\n",
       "PCH_OBESE_CHILD_08_11_isnull     -8.909861e+00\n",
       "PCT_HSPA09_isnull                 2.509745e+00\n",
       "PCH_RECFAC_07_12_isnull           7.599867e-01\n",
       "PCH_RECFACPTH_07_12_isnull        7.599867e-01\n",
       "NATAMEN_isnull                    1.075218e+01\n",
       "PERPOV10                          1.191778e+00\n",
       "CHILDPOVRATE10                    1.508893e+00\n",
       "PERCHLDPOV10                      3.329998e-01\n",
       "METRO13                           7.971817e-01\n",
       "POPLOSS00                         4.002964e+00\n",
       "povertyPercent_log                3.561534e+01\n",
       "povertyPercent_sqrd               2.418473e-02\n",
       "MedianAge_log                    -2.380979e+01\n",
       "MedianAgeFemale_sqrd             -1.976851e-02\n",
       "AvgHouseholdSize_log              2.910125e+01\n",
       "PercentMarried_log               -2.838895e+01\n",
       "PercentMarried_sqrd              -1.217146e-02\n",
       "PctSomeCol18_24_log               1.192314e+01\n",
       "PctSomeCol18_24_sqrd              2.316095e-04\n",
       "PctHS25_Over_sqrd                -1.869830e-02\n",
       "PctBachDeg25_Over_log             1.467285e+00\n",
       "PctEmployed16_Over_log           -1.790171e+02\n",
       "PctEmployed16_Over_sqrd          -2.995869e-02\n",
       "PctPrivateCoverage_log            2.525173e+02\n",
       "PctEmpPrivCoverage_log           -4.388248e+01\n",
       "PctPublicCoverage_log             3.712718e+01\n",
       "PctPublicCoverageAlone_log       -1.592917e+01\n",
       "PctPublicCoverageAlone_sqrd       3.696494e-02\n",
       "PctWhite_sqrd                     8.844581e-03\n",
       "PctBlack_sqrd                    -1.108948e-02\n",
       "INTPTLONG_sqrd                   -7.540460e-02\n",
       "mskcc_l1_log                      1.669146e+01\n",
       "mayo_l1_log                      -1.992774e+00\n",
       "mayo_l1_sqrd                     -4.969637e-02\n",
       "dfb_l1_log                       -7.652371e+00\n",
       "dfb_l1_sqrd                      -3.641726e-01\n",
       "cleveland_l1_log                  1.762623e+01\n",
       "cleveland_l1_sqrd                 3.603538e-01\n",
       "upmcps_l1_log                     9.223769e+00\n",
       "mgs_l1_log                       -4.448588e+01\n",
       "atlanta_l1_log                    2.207967e+01\n",
       "denver_l1_sqrd                    2.268001e-02\n",
       "los_ang_l1_sqrd                  -3.522171e-02\n",
       "seattle_l1_log                    5.468347e+00\n",
       "hopkins_l2_log                   -1.077532e+00\n",
       "dfb_l2_log                        1.656173e+01\n",
       "cleveland_l2_log                  1.311818e+00\n",
       "upmcps_l2_log                    -1.701284e+01\n",
       "mgs_l2_log                        3.692593e+01\n",
       "atlanta_l2_log                   -1.320177e+01\n",
       "city_min_distsl1_sqrd             1.598539e-01\n",
       "sc_min_dists_l1_log              -3.624154e-01\n",
       "PCT_LACCESS_CHILD10_sqrd          9.860906e-03\n",
       "PCT_LACCESS_HHNV10_sqrd          -8.738673e-04\n",
       "PC_DIRSALES07_sqrd                1.049606e-03\n",
       "FMRKT13_sqrd                      1.957072e-03\n",
       "PCH_FMRKT_09_13_sqrd             -1.514347e-06\n",
       "PCT_OBESE_ADULTS13_log            4.031272e-01\n",
       "PCT_OBESE_ADULTS13_sqrd          -5.482629e-02\n",
       "CHILDPOVRATE10_log               -2.956122e+01\n",
       "dtype: float64"
      ]
     },
     "execution_count": 13,
     "metadata": {},
     "output_type": "execute_result"
    }
   ],
   "source": [
    "lr_3_coeffs = pd.Series(lr_3.coef_, index=X.columns) \n",
    "lr_3_coeffs"
   ]
  },
  {
   "cell_type": "markdown",
   "metadata": {},
   "source": [
    "The Ridge Regression coefficients often do not have similar values to the Pearson's correlation coefficients, frequently not even sharing the same polarities (positive or negative). This is an interesting finding suggesting that statistical relationships between predictive features and the target feature within a whole model can be quite different than one-on-one statistical relationships between individual features and the target feature.\n",
    "\n",
    "The correlation coefficients between each predictive feature and the cancer mortality are called below with the .corrwith() method."
   ]
  },
  {
   "cell_type": "code",
   "execution_count": 14,
   "metadata": {},
   "outputs": [
    {
     "data": {
      "text/plain": [
       "avgAnnCount                      -0.139998\n",
       "incidenceRate                     0.429436\n",
       "medIncome                        -0.432210\n",
       "popEst2015                       -0.115986\n",
       "povertyPercent                    0.435167\n",
       "studyPerCap                      -0.024890\n",
       "MedianAge                         0.001862\n",
       "MedianAgeMale                    -0.017983\n",
       "MedianAgeFemale                   0.019013\n",
       "AvgHouseholdSize                 -0.041219\n",
       "PercentMarried                   -0.263055\n",
       "PctNoHS18_24                      0.090024\n",
       "PctHS18_24                        0.276894\n",
       "PctSomeCol18_24                  -0.104714\n",
       "PctBachDeg18_24                  -0.287782\n",
       "PctHS25_Over                      0.408759\n",
       "PctBachDeg25_Over                -0.493734\n",
       "PctEmployed16_Over               -0.413245\n",
       "PctUnemployed16_Over              0.375829\n",
       "PctPrivateCoverage               -0.394586\n",
       "PctPrivateCoverageAlone          -0.341052\n",
       "PctEmpPrivCoverage               -0.280062\n",
       "PctPublicCoverage                 0.413010\n",
       "PctPublicCoverageAlone            0.456392\n",
       "PctWhite                         -0.177141\n",
       "PctBlack                          0.259112\n",
       "PctAsian                         -0.195755\n",
       "PctOtherRace                     -0.197665\n",
       "PctMarriedHouseholds             -0.293178\n",
       "BirthRate                        -0.066529\n",
       "PctSomeCol18_24_isnull            0.010296\n",
       "PctEmployed16_Over_isnull        -0.014518\n",
       "PctPrivateCoverageAlone_isnull   -0.024639\n",
       "age_gt_100                        0.008669\n",
       "household_lt_1                    0.030676\n",
       "binnedInc_(34218.1, 37413.8]      0.169119\n",
       "binnedInc_(37413.8, 40362.7]      0.101870\n",
       "binnedInc_(40362.7, 42724.4]      0.049598\n",
       "binnedInc_(42724.4, 45201]        0.010155\n",
       "binnedInc_(45201, 48021.6]       -0.015803\n",
       "binnedInc_(48021.6, 51046.4]     -0.106190\n",
       "binnedInc_(51046.4, 54545.6]     -0.112792\n",
       "binnedInc_(54545.6, 61494.5]     -0.170496\n",
       "binnedInc_(61494.5, 125635]      -0.226613\n",
       "binnedInc_[22640, 34218.1]        0.294821\n",
       "ALAND_SQMI                       -0.050821\n",
       "AWATER_SQMI                       0.000514\n",
       "INTPTLAT                         -0.185177\n",
       "INTPTLONG                         0.276047\n",
       "State_Alabama                     0.075783\n",
       "State_Alaska                      0.054500\n",
       "State_Arizona                    -0.082994\n",
       "State_Arkansas                    0.119621\n",
       "State_California                 -0.103529\n",
       "State_Colorado                   -0.200528\n",
       "State_Connecticut                -0.033437\n",
       "State_Delaware                    0.004932\n",
       "State_District of Columbia        0.002289\n",
       "State_Florida                    -0.003579\n",
       "State_Georgia                     0.037446\n",
       "State_Hawaii                     -0.044220\n",
       "State_Idaho                      -0.105613\n",
       "State_Illinois                    0.023283\n",
       "State_Indiana                     0.066095\n",
       "State_Iowa                       -0.086340\n",
       "State_Kansas                     -0.073783\n",
       "State_Kentucky                    0.271715\n",
       "State_Louisiana                   0.101204\n",
       "State_Maine                       0.015787\n",
       "State_Maryland                   -0.007721\n",
       "State_Massachusetts              -0.030770\n",
       "State_Michigan                   -0.009836\n",
       "State_Minnesota                  -0.106694\n",
       "State_Mississippi                 0.147819\n",
       "State_Missouri                    0.057783\n",
       "State_Montana                    -0.064201\n",
       "State_Nebraska                   -0.101575\n",
       "State_Nevada                     -0.002917\n",
       "State_New Hampshire              -0.014391\n",
       "State_New Jersey                 -0.034649\n",
       "State_New Mexico                 -0.094130\n",
       "State_New York                   -0.035172\n",
       "State_North Carolina              0.014049\n",
       "State_North Dakota               -0.080001\n",
       "State_Ohio                        0.049821\n",
       "State_Oklahoma                    0.089426\n",
       "State_Oregon                     -0.037558\n",
       "State_Pennsylvania               -0.024602\n",
       "State_Rhode Island               -0.024929\n",
       "State_South Carolina              0.055832\n",
       "State_South Dakota               -0.066206\n",
       "State_Tennessee                   0.142068\n",
       "State_Texas                      -0.068307\n",
       "State_Utah                       -0.156488\n",
       "State_Vermont                    -0.012620\n",
       "State_Virginia                    0.040228\n",
       "State_Washington                 -0.053009\n",
       "State_West Virginia               0.089444\n",
       "State_Wisconsin                  -0.035840\n",
       "State_Wyoming                    -0.057790\n",
       "utmda_l1                         -0.136567\n",
       "mskcc_l1                         -0.232390\n",
       "mayo_l1                          -0.060940\n",
       "hopkins_l1                       -0.266875\n",
       "dfb_l1                           -0.207442\n",
       "cleveland_l1                     -0.261447\n",
       "upmcps_l1                        -0.266849\n",
       "hlmcc_l1                         -0.340472\n",
       "mgs_l1                           -0.207147\n",
       "nw_mem_l1                        -0.229712\n",
       "chi_l1                           -0.229855\n",
       "nyc_l1                           -0.233314\n",
       "atlanta_l1                       -0.357372\n",
       "dallas_l1                        -0.096663\n",
       "denver_l1                         0.258811\n",
       "los_ang_l1                        0.231239\n",
       "seattle_l1                        0.354138\n",
       "san_fran_l1                       0.278900\n",
       "utmda_l2                         -0.159682\n",
       "mskcc_l2                         -0.274257\n",
       "mayo_l2                          -0.084661\n",
       "hopkins_l2                       -0.292775\n",
       "dfb_l2                           -0.263515\n",
       "cleveland_l2                     -0.300735\n",
       "upmcps_l2                        -0.304242\n",
       "hlmcc_l2                         -0.337991\n",
       "mgs_l2                           -0.263412\n",
       "nw_mem_l2                        -0.256159\n",
       "chi_l2                           -0.256319\n",
       "nyc_l2                           -0.274649\n",
       "atlanta_l2                       -0.354811\n",
       "dallas_l2                        -0.093831\n",
       "denver_l2                         0.257148\n",
       "los_ang_l2                        0.308879\n",
       "seattle_l2                        0.325172\n",
       "san_fran_l2                       0.316731\n",
       "onc_min_distsl1                  -0.168976\n",
       "onc_min_distsl2                  -0.172797\n",
       "city_min_distsl1                 -0.042435\n",
       "city_min_distsl2                 -0.043975\n",
       "sc_min_dists_l1                  -0.066692\n",
       "sc_min_dists_l2                  -0.063516\n",
       "PCT_LACCESS_POP10                -0.228200\n",
       "PCT_LACCESS_LOWI10               -0.095829\n",
       "PCT_LACCESS_CHILD10              -0.220051\n",
       "PCT_LACCESS_SENIORS10            -0.207766\n",
       "PCT_LACCESS_HHNV10                0.339486\n",
       "PCT_LACCESS_POP10_isnull         -0.010314\n",
       "PCT_LACCESS_LOWI10_isnull        -0.010314\n",
       "PCT_LACCESS_CHILD10_isnull       -0.010314\n",
       "PCT_LACCESS_SENIORS10_isnull     -0.010314\n",
       "PCT_LACCESS_HHNV10_isnull        -0.032058\n",
       "FOODINSEC_00_02                   0.061573\n",
       "FOODINSEC_07_09                   0.146702\n",
       "FOODINSEC_10_12                   0.188080\n",
       "CH_FOODINSEC_02_12                0.221847\n",
       "CH_FOODINSEC_09_12                0.134299\n",
       "VLFOODSEC_00_02                   0.027564\n",
       "VLFOODSEC_07_09                   0.118158\n",
       "VLFOODSEC_10_12                   0.181548\n",
       "CH_VLFOODSEC_02_12                0.194726\n",
       "CH_VLFOODSEC_09_12                0.133990\n",
       "FOODINSEC_CHILD_01_07             0.024132\n",
       "FOODINSEC_CHILD_03_11             0.081665\n",
       "FOODINSEC_00_02_isnull           -0.017098\n",
       "FOODINSEC_07_09_isnull           -0.017098\n",
       "FOODINSEC_10_12_isnull           -0.017098\n",
       "CH_FOODINSEC_02_12_isnull        -0.017098\n",
       "CH_FOODINSEC_09_12_isnull        -0.017098\n",
       "VLFOODSEC_00_02_isnull           -0.017098\n",
       "VLFOODSEC_07_09_isnull           -0.017098\n",
       "VLFOODSEC_10_12_isnull           -0.017098\n",
       "CH_VLFOODSEC_02_12_isnull        -0.017098\n",
       "CH_VLFOODSEC_09_12_isnull        -0.017098\n",
       "FOODINSEC_CHILD_01_07_isnull     -0.017098\n",
       "FOODINSEC_CHILD_03_11_isnull     -0.017098\n",
       "PCT_LOCLFARM07                   -0.092918\n",
       "PCT_LOCLSALE07                   -0.020471\n",
       "PC_DIRSALES07                    -0.120764\n",
       "FMRKT09                          -0.134898\n",
       "FMRKT13                          -0.139147\n",
       "PCH_FMRKT_09_13                  -0.094603\n",
       "FMRKTPTH09                       -0.086926\n",
       "FMRKTPTH13                       -0.103780\n",
       "PCH_FMRKTPTH_09_13               -0.084482\n",
       "PCT_FMRKT_SNAP13                 -0.081165\n",
       "PCT_FMRKT_WIC13                  -0.025214\n",
       "PCT_FMRKT_WICCASH13              -0.024742\n",
       "PCT_FMRKT_SFMNP13                 0.000859\n",
       "PCT_FRMKT_FRVEG13                 0.022737\n",
       "PCT_FRMKT_ANMLPROD13             -0.019248\n",
       "PCT_FMRKT_OTHER13                 0.012024\n",
       "VEG_FARMS07                      -0.112615\n",
       "VEG_ACRES07                      -0.104728\n",
       "VEG_ACRESPTH07                   -0.112142\n",
       "FRESHVEG_FARMS07                 -0.101797\n",
       "FRESHVEG_ACRES07                 -0.079297\n",
       "FRESHVEG_ACRESPTH07              -0.071041\n",
       "ORCHARD_FARMS07                  -0.085779\n",
       "ORCHARD_ACRES07                  -0.062331\n",
       "ORCHARD_ACRESPTH07               -0.041907\n",
       "BERRY_FARMS07                    -0.051270\n",
       "BERRY_ACRES07                    -0.023492\n",
       "BERRY_ACRESPTH07                  0.023666\n",
       "SLHOUSE07                        -0.103664\n",
       "GHVEG_FARMS07                    -0.110282\n",
       "GHVEG_SQFT07                     -0.066036\n",
       "GHVEG_SQFTPTH07                   0.001211\n",
       "FOODHUB12                        -0.067566\n",
       "CSA07                            -0.133491\n",
       "AGRITRSM_OPS07                   -0.168127\n",
       "AGRITRSM_RCT07                   -0.158079\n",
       "FARM_TO_SCHOOL                   -0.099052\n",
       "PCT_LOCLFARM07_isnull             0.062115\n",
       "PCT_LOCLSALE07_isnull             0.041440\n",
       "PC_DIRSALES07_isnull              0.040988\n",
       "FMRKT09_isnull                   -0.015065\n",
       "FMRKT13_isnull                         NaN\n",
       "PCH_FMRKT_09_13_isnull            0.062339\n",
       "FMRKTPTH09_isnull                -0.015065\n",
       "FMRKTPTH13_isnull                      NaN\n",
       "PCH_FMRKTPTH_09_13_isnull         0.062339\n",
       "PCT_FMRKT_SNAP13_isnull           0.068873\n",
       "PCT_FMRKT_WIC13_isnull            0.068873\n",
       "PCT_FMRKT_WICCASH13_isnull        0.068873\n",
       "PCT_FMRKT_SFMNP13_isnull          0.068873\n",
       "PCT_FRMKT_FRVEG13_isnull          0.068873\n",
       "PCT_FRMKT_ANMLPROD13_isnull       0.068873\n",
       "PCT_FMRKT_OTHER13_isnull          0.068873\n",
       "VEG_FARMS07_isnull                0.067595\n",
       "VEG_ACRES07_isnull               -0.035981\n",
       "VEG_ACRESPTH07_isnull            -0.036729\n",
       "FRESHVEG_FARMS07_isnull           0.067595\n",
       "FRESHVEG_ACRES07_isnull           0.044529\n",
       "FRESHVEG_ACRESPTH07_isnull        0.044529\n",
       "ORCHARD_FARMS07_isnull            0.067595\n",
       "ORCHARD_ACRES07_isnull            0.006085\n",
       "ORCHARD_ACRESPTH07_isnull         0.006085\n",
       "BERRY_FARMS07_isnull              0.067595\n",
       "BERRY_ACRES07_isnull              0.082510\n",
       "BERRY_ACRESPTH07_isnull           0.082510\n",
       "SLHOUSE07_isnull                       NaN\n",
       "GHVEG_FARMS07_isnull              0.067595\n",
       "GHVEG_SQFT07_isnull              -0.049208\n",
       "GHVEG_SQFTPTH07_isnull           -0.049208\n",
       "FOODHUB12_isnull                       NaN\n",
       "CSA07_isnull                           NaN\n",
       "AGRITRSM_OPS07_isnull                  NaN\n",
       "AGRITRSM_RCT07_isnull             0.025211\n",
       "FARM_TO_SCHOOL_isnull                  NaN\n",
       "PCT_DIABETES_ADULTS09             0.535441\n",
       "PCT_DIABETES_ADULTS10             0.539451\n",
       "PCT_OBESE_ADULTS09                0.517969\n",
       "PCT_OBESE_ADULTS10                0.529023\n",
       "PCT_OBESE_ADULTS13                0.439013\n",
       "PCT_OBESE_CHILD08                 0.076485\n",
       "PCT_OBESE_CHILD11                 0.139029\n",
       "PCH_OBESE_CHILD_08_11             0.017480\n",
       "PCT_HSPA09                       -0.145572\n",
       "RECFAC07                         -0.143733\n",
       "RECFAC12                         -0.138830\n",
       "PCH_RECFAC_07_12                 -0.032902\n",
       "RECFACPTH07                      -0.215701\n",
       "RECFACPTH12                      -0.204573\n",
       "PCH_RECFACPTH_07_12              -0.015862\n",
       "NATAMEN                          -0.179379\n",
       "PCT_OBESE_CHILD08_isnull         -0.111130\n",
       "PCT_OBESE_CHILD11_isnull         -0.027754\n",
       "PCH_OBESE_CHILD_08_11_isnull     -0.086346\n",
       "PCT_HSPA09_isnull                -0.140397\n",
       "PCH_RECFAC_07_12_isnull           0.071813\n",
       "PCH_RECFACPTH_07_12_isnull        0.071813\n",
       "NATAMEN_isnull                    0.024261\n",
       "PERPOV10                          0.273511\n",
       "CHILDPOVRATE10                    0.453325\n",
       "PERCHLDPOV10                      0.302056\n",
       "METRO13                          -0.085642\n",
       "POPLOSS00                         0.043742\n",
       "povertyPercent_log                0.443893\n",
       "povertyPercent_sqrd               0.399314\n",
       "MedianAge_log                     0.020197\n",
       "MedianAgeFemale_sqrd              0.000720\n",
       "AvgHouseholdSize_log             -0.026491\n",
       "PercentMarried_log               -0.253300\n",
       "PercentMarried_sqrd              -0.270606\n",
       "PctSomeCol18_24_log              -0.089871\n",
       "PctSomeCol18_24_sqrd             -0.105170\n",
       "PctHS25_Over_sqrd                 0.389445\n",
       "PctBachDeg25_Over_log            -0.504272\n",
       "PctEmployed16_Over_log           -0.395799\n",
       "PctEmployed16_Over_sqrd          -0.422093\n",
       "PctPrivateCoverage_log           -0.372819\n",
       "PctEmpPrivCoverage_log           -0.263689\n",
       "PctPublicCoverage_log             0.415566\n",
       "PctPublicCoverageAlone_log        0.454496\n",
       "PctPublicCoverageAlone_sqrd       0.434545\n",
       "PctWhite_sqrd                    -0.161471\n",
       "PctBlack_sqrd                     0.229249\n",
       "INTPTLONG_sqrd                   -0.266463\n",
       "mskcc_l1_log                     -0.140322\n",
       "mayo_l1_log                       0.017882\n",
       "mayo_l1_sqrd                     -0.040980\n",
       "dfb_l1_log                       -0.119276\n",
       "dfb_l1_sqrd                      -0.166065\n",
       "cleveland_l1_log                 -0.272177\n",
       "cleveland_l1_sqrd                -0.144453\n",
       "upmcps_l1_log                    -0.257720\n",
       "mgs_l1_log                       -0.119360\n",
       "atlanta_l1_log                   -0.396230\n",
       "denver_l1_sqrd                    0.165899\n",
       "los_ang_l1_sqrd                   0.176109\n",
       "seattle_l1_log                    0.285513\n",
       "hopkins_l2_log                   -0.222774\n",
       "dfb_l2_log                       -0.164756\n",
       "cleveland_l2_log                 -0.312810\n",
       "upmcps_l2_log                    -0.294679\n",
       "mgs_l2_log                       -0.164757\n",
       "atlanta_l2_log                   -0.388316\n",
       "city_min_distsl1_sqrd             0.010424\n",
       "sc_min_dists_l1_log              -0.053466\n",
       "PCT_LACCESS_CHILD10_sqrd         -0.153021\n",
       "PCT_LACCESS_HHNV10_sqrd           0.130630\n",
       "PC_DIRSALES07_sqrd               -0.055254\n",
       "FMRKT13_sqrd                     -0.043233\n",
       "PCH_FMRKT_09_13_sqrd             -0.039259\n",
       "PCT_OBESE_ADULTS13_log            0.433522\n",
       "PCT_OBESE_ADULTS13_sqrd           0.442870\n",
       "CHILDPOVRATE10_log                0.446911\n",
       "dtype: float64"
      ]
     },
     "execution_count": 14,
     "metadata": {},
     "output_type": "execute_result"
    }
   ],
   "source": [
    "X_train_corrwith = X_train.corrwith(y_train)\n",
    "X_train_corrwith"
   ]
  },
  {
   "cell_type": "markdown",
   "metadata": {},
   "source": [
    "The following cell returns the proportion of features' whose correlation coefficients and ridge regression coefficients share the same polarity, positive or negative. The proportion is 0.54, or roughly half of the feature set."
   ]
  },
  {
   "cell_type": "code",
   "execution_count": 15,
   "metadata": {},
   "outputs": [
    {
     "data": {
      "text/plain": [
       "0.5426829268292683"
      ]
     },
     "execution_count": 15,
     "metadata": {},
     "output_type": "execute_result"
    }
   ],
   "source": [
    "same_sign = ((X_train_corrwith >= 0) & (lr_3_coeffs >= 0) | (X_train_corrwith < 0) & (lr_3_coeffs < 0))\n",
    "same_sign.sum()/len(same_sign)"
   ]
  },
  {
   "cell_type": "code",
   "execution_count": 16,
   "metadata": {
    "scrolled": true
   },
   "outputs": [
    {
     "data": {
      "text/plain": [
       "True     178\n",
       "False    150\n",
       "dtype: int64"
      ]
     },
     "execution_count": 16,
     "metadata": {},
     "output_type": "execute_result"
    }
   ],
   "source": [
    "same_sign.value_counts()"
   ]
  },
  {
   "cell_type": "markdown",
   "metadata": {},
   "source": [
    "This difference between the two types of coefficients is explored more deeply below, to determine if there is something about the feature set that is causing this counterintuitive model behavior."
   ]
  },
  {
   "cell_type": "markdown",
   "metadata": {},
   "source": [
    "## Running the top performing regressor after removing logarithmic and exponential features"
   ]
  },
  {
   "cell_type": "markdown",
   "metadata": {},
   "source": [
    "First, the logarithmic and exponential transformations of features which contributed to the model's accuracy are removed, as the nonlinear statistical relationships they uncovered may be causing volatility in the higher dimensional feature set. The best performing ridge regression regressor is then re-run and the 'same_sign' object is returned to see if there is any change in the proportion of features whose Pearson's correlation coefficients and Ridge Regression coefficients share the same polarity."
   ]
  },
  {
   "cell_type": "code",
   "execution_count": 17,
   "metadata": {},
   "outputs": [],
   "source": [
    "log_exp_features = ['povertyPercent_log', 'povertyPercent_sqrd', 'MedianAge_log', 'MedianAgeFemale_sqrd', \n",
    "                    'AvgHouseholdSize_log', 'PercentMarried_log', 'PercentMarried_sqrd', 'PctSomeCol18_24_log', \n",
    "                    'PctSomeCol18_24_sqrd', 'PctHS25_Over_sqrd', 'PctBachDeg25_Over_log', \n",
    "                    'PctEmployed16_Over_log', 'PctEmployed16_Over_sqrd', 'PctPrivateCoverage_log', \n",
    "                    'PctEmpPrivCoverage_log', 'PctPublicCoverage_log', 'PctPublicCoverageAlone_log', \n",
    "                    'PctPublicCoverageAlone_sqrd', 'PctWhite_sqrd', 'PctBlack_sqrd', 'INTPTLONG_sqrd', \n",
    "                    'mskcc_l1_log', 'mayo_l1_log', 'mayo_l1_sqrd', 'dfb_l1_log', 'dfb_l1_sqrd', \n",
    "                    'cleveland_l1_log', 'cleveland_l1_sqrd', 'upmcps_l1_log', 'mgs_l1_log', 'atlanta_l1_log', \n",
    "                    'denver_l1_sqrd', 'los_ang_l1_sqrd', 'seattle_l1_log', 'hopkins_l2_log', 'dfb_l2_log', \n",
    "                    'cleveland_l2_log', 'upmcps_l2_log', 'mgs_l2_log', 'atlanta_l2_log', 'city_min_distsl1_sqrd', \n",
    "                    'sc_min_dists_l1_log', 'PCT_LACCESS_CHILD10_sqrd', 'PCT_LACCESS_HHNV10_sqrd', \n",
    "                    'PC_DIRSALES07_sqrd', 'FMRKT13_sqrd', 'PCH_FMRKT_09_13_sqrd', 'PCT_OBESE_ADULTS13_log', \n",
    "                    'PCT_OBESE_ADULTS13_sqrd', 'CHILDPOVRATE10_log']"
   ]
  },
  {
   "cell_type": "code",
   "execution_count": 18,
   "metadata": {},
   "outputs": [],
   "source": [
    "df_no_log_exp = df.drop(columns = log_exp_features)"
   ]
  },
  {
   "cell_type": "code",
   "execution_count": 19,
   "metadata": {},
   "outputs": [],
   "source": [
    "y_no_log_exp = df_no_log_exp['TARGET_deathRate']"
   ]
  },
  {
   "cell_type": "markdown",
   "metadata": {},
   "source": [
    "The predictive feature set X is defined as the rest of the columns in the DataFrame."
   ]
  },
  {
   "cell_type": "code",
   "execution_count": 20,
   "metadata": {},
   "outputs": [],
   "source": [
    "target_name = ['TARGET_deathRate']\n",
    "X_no_log_exp = df_no_log_exp[[cn for cn in df_no_log_exp.columns if cn not in target_name]]"
   ]
  },
  {
   "cell_type": "code",
   "execution_count": 21,
   "metadata": {},
   "outputs": [
    {
     "data": {
      "text/plain": [
       "Ridge(alpha=0.001, copy_X=True, fit_intercept=True, max_iter=None,\n",
       "   normalize=False, random_state=None, solver='auto', tol=0.001)"
      ]
     },
     "execution_count": 21,
     "metadata": {},
     "output_type": "execute_result"
    }
   ],
   "source": [
    "lr_3_no_log_exp = linear_model.Ridge(alpha=0.001)\n",
    "lr_3_no_log_exp"
   ]
  },
  {
   "cell_type": "code",
   "execution_count": 22,
   "metadata": {},
   "outputs": [],
   "source": [
    "X_train_no_log_exp, X_test_no_log_exp, y_train_no_log_exp, y_test_no_log_exp = train_test_split(X_no_log_exp, y_no_log_exp, test_size=0.2, random_state=42)"
   ]
  },
  {
   "cell_type": "code",
   "execution_count": 23,
   "metadata": {
    "scrolled": true
   },
   "outputs": [
    {
     "name": "stderr",
     "output_type": "stream",
     "text": [
      "/Users/DanLoew/anaconda3/lib/python3.7/site-packages/sklearn/linear_model/ridge.py:125: LinAlgWarning: Ill-conditioned matrix (rcond=1.63971e-18): result may not be accurate.\n",
      "  overwrite_a=True).T\n"
     ]
    },
    {
     "data": {
      "text/plain": [
       "Ridge(alpha=0.001, copy_X=True, fit_intercept=True, max_iter=None,\n",
       "   normalize=False, random_state=None, solver='auto', tol=0.001)"
      ]
     },
     "execution_count": 23,
     "metadata": {},
     "output_type": "execute_result"
    }
   ],
   "source": [
    "lr_3_no_log_exp.fit(X_train_no_log_exp, y_train_no_log_exp)"
   ]
  },
  {
   "cell_type": "code",
   "execution_count": 24,
   "metadata": {},
   "outputs": [
    {
     "data": {
      "text/plain": [
       "array([193.1354574 , 189.47407918, 212.79050444, 137.93672939,\n",
       "       222.25173963, 195.78307285, 175.23207322, 169.86445022,\n",
       "       199.02298553, 233.44128926, 205.14056248, 177.36911884,\n",
       "       204.47908468, 189.90139084, 148.67438434, 187.29930083,\n",
       "       200.86680266, 155.70901687, 178.42238663, 175.65795097])"
      ]
     },
     "execution_count": 24,
     "metadata": {},
     "output_type": "execute_result"
    }
   ],
   "source": [
    "y_pred_3_train_no_log_exp = lr_3_no_log_exp.predict(X_train_no_log_exp)\n",
    "y_pred_3_train_no_log_exp[0:20]"
   ]
  },
  {
   "cell_type": "code",
   "execution_count": 25,
   "metadata": {},
   "outputs": [
    {
     "name": "stdout",
     "output_type": "stream",
     "text": [
      "Training Set R^2: 0.6287484338824065\n",
      "Training Set Root Mean Squared Error: 17.002253754655197\n"
     ]
    }
   ],
   "source": [
    "print(\"Training Set R^2: {}\".format(lr_3_no_log_exp.score(X_train_no_log_exp, y_train_no_log_exp)))\n",
    "rmse_3_train_no_log_exp = np.sqrt(mean_squared_error(y_train_no_log_exp, y_pred_3_train_no_log_exp))\n",
    "print(\"Training Set Root Mean Squared Error: {}\".format(rmse_3_train_no_log_exp))"
   ]
  },
  {
   "cell_type": "code",
   "execution_count": 26,
   "metadata": {},
   "outputs": [
    {
     "data": {
      "text/plain": [
       "array([180.61053715, 171.1252763 , 163.65259791, 171.67521823,\n",
       "       177.44061123, 193.77795347, 172.86294423, 168.37960704,\n",
       "       172.93836371, 172.84704751, 173.18651543, 204.29125291,\n",
       "       156.82398779, 158.26004046, 220.13155275, 114.9226515 ,\n",
       "       191.53689625, 205.50567657, 203.73335524, 182.28232812])"
      ]
     },
     "execution_count": 26,
     "metadata": {},
     "output_type": "execute_result"
    }
   ],
   "source": [
    "y_pred_3_test_no_log_exp = lr_3_no_log_exp.predict(X_test_no_log_exp)\n",
    "y_pred_3_test_no_log_exp[0:20]"
   ]
  },
  {
   "cell_type": "code",
   "execution_count": 27,
   "metadata": {},
   "outputs": [
    {
     "name": "stdout",
     "output_type": "stream",
     "text": [
      "Test Set R^2: 0.5944108066503957\n",
      "Test Set Root Mean Squared Error: 17.20967661915464\n"
     ]
    }
   ],
   "source": [
    "print(\"Test Set R^2: {}\".format(lr_3_no_log_exp.score(X_test_no_log_exp, y_test_no_log_exp)))\n",
    "rmse_3_test_no_log_exp = np.sqrt(mean_squared_error(y_test_no_log_exp, y_pred_3_test_no_log_exp))\n",
    "print(\"Test Set Root Mean Squared Error: {}\".format(rmse_3_test_no_log_exp))"
   ]
  },
  {
   "cell_type": "code",
   "execution_count": 28,
   "metadata": {
    "scrolled": true
   },
   "outputs": [
    {
     "data": {
      "text/plain": [
       "avgAnnCount                      -3.276022e-03\n",
       "incidenceRate                     1.574450e-01\n",
       "medIncome                         5.252100e-05\n",
       "popEst2015                        3.553815e-06\n",
       "povertyPercent                   -3.821746e-01\n",
       "studyPerCap                       7.936552e-05\n",
       "MedianAge                         2.003663e-01\n",
       "MedianAgeMale                    -5.520945e-01\n",
       "MedianAgeFemale                  -2.177048e-01\n",
       "AvgHouseholdSize                  2.464381e-01\n",
       "PercentMarried                    2.636885e-01\n",
       "PctNoHS18_24                      6.359269e-03\n",
       "PctHS18_24                        2.198701e-01\n",
       "PctSomeCol18_24                   6.376414e-02\n",
       "PctBachDeg18_24                  -2.460465e-01\n",
       "PctHS25_Over                      2.122190e-01\n",
       "PctBachDeg25_Over                -4.779373e-01\n",
       "PctEmployed16_Over               -1.594904e-01\n",
       "PctUnemployed16_Over              8.542233e-02\n",
       "PctPrivateCoverage                5.623283e-02\n",
       "PctPrivateCoverageAlone           8.815375e-02\n",
       "PctEmpPrivCoverage               -1.586787e-01\n",
       "PctPublicCoverage                -1.927651e-01\n",
       "PctPublicCoverageAlone            5.178147e-01\n",
       "PctWhite                         -2.521133e-03\n",
       "PctBlack                         -2.828066e-01\n",
       "PctAsian                         -5.090799e-01\n",
       "PctOtherRace                     -2.693123e-01\n",
       "PctMarriedHouseholds             -7.512646e-01\n",
       "BirthRate                        -5.699846e-01\n",
       "PctSomeCol18_24_isnull            5.706970e-01\n",
       "PctEmployed16_Over_isnull         4.818841e-01\n",
       "PctPrivateCoverageAlone_isnull    4.004774e-01\n",
       "age_gt_100                        3.971441e+00\n",
       "household_lt_1                   -6.782305e-01\n",
       "binnedInc_(34218.1, 37413.8]      1.588648e+00\n",
       "binnedInc_(37413.8, 40362.7]     -1.575909e-01\n",
       "binnedInc_(40362.7, 42724.4]     -1.007741e+00\n",
       "binnedInc_(42724.4, 45201]        5.471159e-02\n",
       "binnedInc_(45201, 48021.6]       -2.055854e-01\n",
       "binnedInc_(48021.6, 51046.4]     -1.826640e+00\n",
       "binnedInc_(51046.4, 54545.6]     -1.846952e+00\n",
       "binnedInc_(54545.6, 61494.5]     -1.177138e+00\n",
       "binnedInc_(61494.5, 125635]       9.711204e-02\n",
       "binnedInc_[22640, 34218.1]        4.481177e+00\n",
       "ALAND_SQMI                        8.938162e-05\n",
       "AWATER_SQMI                      -2.145158e-03\n",
       "INTPTLAT                          4.292898e+00\n",
       "INTPTLONG                         1.770053e-01\n",
       "State_Alabama                     4.646266e+00\n",
       "State_Alaska                     -1.736323e+01\n",
       "State_Arizona                     1.413473e+01\n",
       "State_Arkansas                    6.588541e+00\n",
       "State_California                  1.567574e+01\n",
       "State_Colorado                   -2.437703e+00\n",
       "State_Connecticut                -2.465057e+01\n",
       "State_Delaware                   -2.264124e+00\n",
       "State_District of Columbia       -1.650123e+00\n",
       "State_Florida                     1.152917e+01\n",
       "State_Georgia                    -5.625968e+00\n",
       "State_Hawaii                      3.103409e+01\n",
       "State_Idaho                       5.590382e+00\n",
       "State_Illinois                   -9.753206e+00\n",
       "State_Indiana                    -1.651946e+00\n",
       "State_Iowa                       -8.705152e+00\n",
       "State_Kansas                      2.468879e+00\n",
       "State_Kentucky                    4.818345e+00\n",
       "State_Louisiana                   5.731407e+00\n",
       "State_Maine                      -1.062946e+01\n",
       "State_Maryland                   -1.489294e+00\n",
       "State_Massachusetts              -1.589504e+01\n",
       "State_Michigan                   -7.149256e+00\n",
       "State_Minnesota                  -3.663543e+00\n",
       "State_Mississippi                 1.002158e+01\n",
       "State_Missouri                   -2.799145e+00\n",
       "State_Montana                     3.599433e+00\n",
       "State_Nebraska                   -3.012173e+00\n",
       "State_Nevada                      3.359129e+01\n",
       "State_New Hampshire              -1.354952e+01\n",
       "State_New Jersey                 -1.071566e+01\n",
       "State_New Mexico                  5.924054e+00\n",
       "State_New York                   -1.294841e+01\n",
       "State_North Carolina             -8.674502e+00\n",
       "State_North Dakota                5.409918e+00\n",
       "State_Ohio                       -1.167853e+01\n",
       "State_Oklahoma                    7.872114e+00\n",
       "State_Oregon                      1.311248e+01\n",
       "State_Pennsylvania               -1.326683e+01\n",
       "State_Rhode Island               -2.994317e+01\n",
       "State_South Carolina              8.322545e+00\n",
       "State_South Dakota                1.783271e+00\n",
       "State_Tennessee                   2.367325e+00\n",
       "State_Texas                       5.541774e+00\n",
       "State_Utah                        1.108640e+01\n",
       "State_Vermont                    -1.173185e+01\n",
       "State_Virginia                    1.948794e+00\n",
       "State_Washington                  9.827628e-01\n",
       "State_West Virginia              -4.567390e-01\n",
       "State_Wisconsin                   2.784012e+00\n",
       "State_Wyoming                     1.513985e+01\n",
       "utmda_l1                         -1.887908e+00\n",
       "mskcc_l1                          3.130730e+00\n",
       "mayo_l1                           7.172884e-01\n",
       "hopkins_l1                        1.254232e+00\n",
       "dfb_l1                           -4.745170e+00\n",
       "cleveland_l1                     -1.955736e+00\n",
       "upmcps_l1                         2.452790e+00\n",
       "hlmcc_l1                         -1.738361e+00\n",
       "mgs_l1                            4.272519e+00\n",
       "nw_mem_l1                         3.500233e+00\n",
       "chi_l1                           -2.248628e+00\n",
       "nyc_l1                           -4.619381e+00\n",
       "atlanta_l1                       -2.379024e-01\n",
       "dallas_l1                         1.437147e+00\n",
       "denver_l1                        -4.551411e-02\n",
       "los_ang_l1                       -2.046727e+00\n",
       "seattle_l1                       -2.983052e+00\n",
       "san_fran_l1                      -2.173189e+00\n",
       "utmda_l2                         -1.320260e-01\n",
       "mskcc_l2                          1.333412e+02\n",
       "mayo_l2                           1.889597e+00\n",
       "hopkins_l2                       -2.220709e+00\n",
       "dfb_l2                           -1.590206e+02\n",
       "cleveland_l2                     -1.634275e+00\n",
       "upmcps_l2                         4.500746e+00\n",
       "hlmcc_l2                          4.852223e-01\n",
       "mgs_l2                            1.577286e+02\n",
       "nw_mem_l2                         4.194403e+02\n",
       "chi_l2                           -4.222060e+02\n",
       "nyc_l2                           -1.301083e+02\n",
       "atlanta_l2                        4.558693e-01\n",
       "dallas_l2                        -1.712962e+00\n",
       "denver_l2                        -4.011417e-01\n",
       "los_ang_l2                        4.779099e+00\n",
       "seattle_l2                        4.915113e+00\n",
       "san_fran_l2                       3.802737e-01\n",
       "onc_min_distsl1                   9.424029e-02\n",
       "onc_min_distsl2                  -2.507414e-01\n",
       "city_min_distsl1                 -6.504756e-01\n",
       "city_min_distsl2                  1.167736e+00\n",
       "sc_min_dists_l1                  -2.770487e+00\n",
       "sc_min_dists_l2                   1.677276e+00\n",
       "PCT_LACCESS_POP10                 9.008269e-02\n",
       "PCT_LACCESS_LOWI10               -1.482470e-01\n",
       "PCT_LACCESS_CHILD10              -3.304561e-01\n",
       "PCT_LACCESS_SENIORS10            -2.435474e-01\n",
       "PCT_LACCESS_HHNV10                4.995776e-01\n",
       "PCT_LACCESS_POP10_isnull          6.044808e-02\n",
       "PCT_LACCESS_LOWI10_isnull         6.044808e-02\n",
       "PCT_LACCESS_CHILD10_isnull        6.044808e-02\n",
       "PCT_LACCESS_SENIORS10_isnull      6.044808e-02\n",
       "PCT_LACCESS_HHNV10_isnull        -1.150632e+01\n",
       "FOODINSEC_00_02                   3.102923e-01\n",
       "FOODINSEC_07_09                  -2.509763e-01\n",
       "FOODINSEC_10_12                   5.388915e-01\n",
       "CH_FOODINSEC_02_12                2.492434e-01\n",
       "CH_FOODINSEC_09_12                8.208385e-01\n",
       "VLFOODSEC_00_02                  -3.331073e-01\n",
       "VLFOODSEC_07_09                   6.682333e-01\n",
       "VLFOODSEC_10_12                   7.351264e-02\n",
       "CH_VLFOODSEC_02_12                4.375939e-01\n",
       "CH_VLFOODSEC_09_12               -5.637474e-01\n",
       "FOODINSEC_CHILD_01_07             8.472573e-01\n",
       "FOODINSEC_CHILD_03_11            -1.542622e+00\n",
       "FOODINSEC_00_02_isnull           -1.032462e-01\n",
       "FOODINSEC_07_09_isnull           -1.032462e-01\n",
       "FOODINSEC_10_12_isnull           -1.032462e-01\n",
       "CH_FOODINSEC_02_12_isnull        -1.032462e-01\n",
       "CH_FOODINSEC_09_12_isnull        -1.032462e-01\n",
       "VLFOODSEC_00_02_isnull           -1.032462e-01\n",
       "VLFOODSEC_07_09_isnull           -1.032462e-01\n",
       "VLFOODSEC_10_12_isnull           -1.032462e-01\n",
       "CH_VLFOODSEC_02_12_isnull        -1.032462e-01\n",
       "CH_VLFOODSEC_09_12_isnull        -1.032462e-01\n",
       "FOODINSEC_CHILD_01_07_isnull     -1.032462e-01\n",
       "FOODINSEC_CHILD_03_11_isnull     -1.032462e-01\n",
       "PCT_LOCLFARM07                    3.129103e-01\n",
       "PCT_LOCLSALE07                    1.498510e-01\n",
       "PC_DIRSALES07                    -2.767232e-02\n",
       "FMRKT09                           2.723337e-02\n",
       "FMRKT13                           1.690736e-01\n",
       "PCH_FMRKT_09_13                  -1.110165e-01\n",
       "FMRKTPTH09                        3.753103e+00\n",
       "FMRKTPTH13                       -6.246690e+00\n",
       "PCH_FMRKTPTH_09_13                1.109441e-01\n",
       "PCT_FMRKT_SNAP13                 -3.483026e-02\n",
       "PCT_FMRKT_WIC13                   2.300246e-02\n",
       "PCT_FMRKT_WICCASH13               1.577316e-02\n",
       "PCT_FMRKT_SFMNP13                -4.927265e-05\n",
       "PCT_FRMKT_FRVEG13                -1.253805e-02\n",
       "PCT_FRMKT_ANMLPROD13              1.786414e-03\n",
       "PCT_FMRKT_OTHER13                 7.267554e-03\n",
       "VEG_FARMS07                      -2.624652e-02\n",
       "VEG_ACRES07                       2.049184e-04\n",
       "VEG_ACRESPTH07                   -7.798624e-03\n",
       "FRESHVEG_FARMS07                 -4.051819e-03\n",
       "FRESHVEG_ACRES07                 -2.171552e-04\n",
       "FRESHVEG_ACRESPTH07               4.704852e-03\n",
       "ORCHARD_FARMS07                   2.831207e-03\n",
       "ORCHARD_ACRES07                  -3.107407e-05\n",
       "ORCHARD_ACRESPTH07               -6.181564e-03\n",
       "BERRY_FARMS07                    -4.345501e-04\n",
       "BERRY_ACRES07                    -8.355915e-05\n",
       "BERRY_ACRESPTH07                  2.312973e-02\n",
       "SLHOUSE07                        -2.049449e-01\n",
       "GHVEG_FARMS07                     1.824346e-01\n",
       "GHVEG_SQFT07                     -2.882402e-07\n",
       "GHVEG_SQFTPTH07                  -6.436998e-04\n",
       "FOODHUB12                         4.546126e-01\n",
       "CSA07                            -1.103721e-01\n",
       "AGRITRSM_OPS07                    4.225916e-03\n",
       "AGRITRSM_RCT07                    1.659965e-06\n",
       "FARM_TO_SCHOOL                   -4.120085e+00\n",
       "PCT_LOCLFARM07_isnull             7.720113e+00\n",
       "PCT_LOCLSALE07_isnull            -3.035757e+00\n",
       "PC_DIRSALES07_isnull              1.764562e+00\n",
       "FMRKT09_isnull                    9.551553e+00\n",
       "FMRKT13_isnull                    0.000000e+00\n",
       "PCH_FMRKT_09_13_isnull            7.091476e-01\n",
       "FMRKTPTH09_isnull                 9.551553e+00\n",
       "FMRKTPTH13_isnull                 0.000000e+00\n",
       "PCH_FMRKTPTH_09_13_isnull         7.091476e-01\n",
       "PCT_FMRKT_SNAP13_isnull           1.290949e-01\n",
       "PCT_FMRKT_WIC13_isnull            1.290949e-01\n",
       "PCT_FMRKT_WICCASH13_isnull        1.290949e-01\n",
       "PCT_FMRKT_SFMNP13_isnull          1.290949e-01\n",
       "PCT_FRMKT_FRVEG13_isnull          1.290949e-01\n",
       "PCT_FRMKT_ANMLPROD13_isnull       1.290949e-01\n",
       "PCT_FMRKT_OTHER13_isnull          1.290949e-01\n",
       "VEG_FARMS07_isnull               -1.996597e+00\n",
       "VEG_ACRES07_isnull               -4.152948e+00\n",
       "VEG_ACRESPTH07_isnull             5.398605e+00\n",
       "FRESHVEG_FARMS07_isnull          -1.996597e+00\n",
       "FRESHVEG_ACRES07_isnull           4.782809e-01\n",
       "FRESHVEG_ACRESPTH07_isnull        4.782809e-01\n",
       "ORCHARD_FARMS07_isnull           -1.996597e+00\n",
       "ORCHARD_ACRES07_isnull           -2.178823e-01\n",
       "ORCHARD_ACRESPTH07_isnull        -2.178823e-01\n",
       "BERRY_FARMS07_isnull             -1.996597e+00\n",
       "BERRY_ACRES07_isnull             -4.795572e-02\n",
       "BERRY_ACRESPTH07_isnull          -4.795572e-02\n",
       "SLHOUSE07_isnull                  0.000000e+00\n",
       "GHVEG_FARMS07_isnull             -1.996597e+00\n",
       "GHVEG_SQFT07_isnull              -3.911016e-01\n",
       "GHVEG_SQFTPTH07_isnull           -3.911016e-01\n",
       "FOODHUB12_isnull                  0.000000e+00\n",
       "CSA07_isnull                      0.000000e+00\n",
       "AGRITRSM_OPS07_isnull             0.000000e+00\n",
       "AGRITRSM_RCT07_isnull             1.502151e-01\n",
       "FARM_TO_SCHOOL_isnull             0.000000e+00\n",
       "PCT_DIABETES_ADULTS09             6.708134e-01\n",
       "PCT_DIABETES_ADULTS10            -2.649041e-01\n",
       "PCT_OBESE_ADULTS09               -1.048974e-01\n",
       "PCT_OBESE_ADULTS10                9.172896e-01\n",
       "PCT_OBESE_ADULTS13               -8.696826e-01\n",
       "PCT_OBESE_CHILD08                -5.556810e-01\n",
       "PCT_OBESE_CHILD11                 3.640726e-01\n",
       "PCH_OBESE_CHILD_08_11            -5.106904e-01\n",
       "PCT_HSPA09                        7.333915e-01\n",
       "RECFAC07                         -1.736277e-02\n",
       "RECFAC12                          1.273056e-01\n",
       "PCH_RECFAC_07_12                 -2.935185e-01\n",
       "RECFACPTH07                      -1.424555e+01\n",
       "RECFACPTH12                       1.398373e+01\n",
       "PCH_RECFACPTH_07_12               2.887083e-01\n",
       "NATAMEN                          -1.305200e+00\n",
       "PCT_OBESE_CHILD08_isnull          7.006943e+00\n",
       "PCT_OBESE_CHILD11_isnull          3.453823e+00\n",
       "PCH_OBESE_CHILD_08_11_isnull     -6.909636e+00\n",
       "PCT_HSPA09_isnull                 3.010262e+00\n",
       "PCH_RECFAC_07_12_isnull           1.148211e+00\n",
       "PCH_RECFACPTH_07_12_isnull        1.148211e+00\n",
       "NATAMEN_isnull                    2.322242e+01\n",
       "PERPOV10                          7.480655e-01\n",
       "CHILDPOVRATE10                    4.185591e-01\n",
       "PERCHLDPOV10                      1.106846e+00\n",
       "METRO13                           1.256991e+00\n",
       "POPLOSS00                         3.928868e+00\n",
       "dtype: float64"
      ]
     },
     "execution_count": 28,
     "metadata": {},
     "output_type": "execute_result"
    }
   ],
   "source": [
    "lr_3_coeffs_no_log_exp = pd.Series(lr_3_no_log_exp.coef_, index=X_no_log_exp.columns) \n",
    "lr_3_coeffs_no_log_exp"
   ]
  },
  {
   "cell_type": "code",
   "execution_count": 29,
   "metadata": {},
   "outputs": [
    {
     "data": {
      "text/plain": [
       "avgAnnCount                      -0.139998\n",
       "incidenceRate                     0.429436\n",
       "medIncome                        -0.432210\n",
       "popEst2015                       -0.115986\n",
       "povertyPercent                    0.435167\n",
       "studyPerCap                      -0.024890\n",
       "MedianAge                         0.001862\n",
       "MedianAgeMale                    -0.017983\n",
       "MedianAgeFemale                   0.019013\n",
       "AvgHouseholdSize                 -0.041219\n",
       "PercentMarried                   -0.263055\n",
       "PctNoHS18_24                      0.090024\n",
       "PctHS18_24                        0.276894\n",
       "PctSomeCol18_24                  -0.104714\n",
       "PctBachDeg18_24                  -0.287782\n",
       "PctHS25_Over                      0.408759\n",
       "PctBachDeg25_Over                -0.493734\n",
       "PctEmployed16_Over               -0.413245\n",
       "PctUnemployed16_Over              0.375829\n",
       "PctPrivateCoverage               -0.394586\n",
       "PctPrivateCoverageAlone          -0.341052\n",
       "PctEmpPrivCoverage               -0.280062\n",
       "PctPublicCoverage                 0.413010\n",
       "PctPublicCoverageAlone            0.456392\n",
       "PctWhite                         -0.177141\n",
       "PctBlack                          0.259112\n",
       "PctAsian                         -0.195755\n",
       "PctOtherRace                     -0.197665\n",
       "PctMarriedHouseholds             -0.293178\n",
       "BirthRate                        -0.066529\n",
       "PctSomeCol18_24_isnull            0.010296\n",
       "PctEmployed16_Over_isnull        -0.014518\n",
       "PctPrivateCoverageAlone_isnull   -0.024639\n",
       "age_gt_100                        0.008669\n",
       "household_lt_1                    0.030676\n",
       "binnedInc_(34218.1, 37413.8]      0.169119\n",
       "binnedInc_(37413.8, 40362.7]      0.101870\n",
       "binnedInc_(40362.7, 42724.4]      0.049598\n",
       "binnedInc_(42724.4, 45201]        0.010155\n",
       "binnedInc_(45201, 48021.6]       -0.015803\n",
       "binnedInc_(48021.6, 51046.4]     -0.106190\n",
       "binnedInc_(51046.4, 54545.6]     -0.112792\n",
       "binnedInc_(54545.6, 61494.5]     -0.170496\n",
       "binnedInc_(61494.5, 125635]      -0.226613\n",
       "binnedInc_[22640, 34218.1]        0.294821\n",
       "ALAND_SQMI                       -0.050821\n",
       "AWATER_SQMI                       0.000514\n",
       "INTPTLAT                         -0.185177\n",
       "INTPTLONG                         0.276047\n",
       "State_Alabama                     0.075783\n",
       "State_Alaska                      0.054500\n",
       "State_Arizona                    -0.082994\n",
       "State_Arkansas                    0.119621\n",
       "State_California                 -0.103529\n",
       "State_Colorado                   -0.200528\n",
       "State_Connecticut                -0.033437\n",
       "State_Delaware                    0.004932\n",
       "State_District of Columbia        0.002289\n",
       "State_Florida                    -0.003579\n",
       "State_Georgia                     0.037446\n",
       "State_Hawaii                     -0.044220\n",
       "State_Idaho                      -0.105613\n",
       "State_Illinois                    0.023283\n",
       "State_Indiana                     0.066095\n",
       "State_Iowa                       -0.086340\n",
       "State_Kansas                     -0.073783\n",
       "State_Kentucky                    0.271715\n",
       "State_Louisiana                   0.101204\n",
       "State_Maine                       0.015787\n",
       "State_Maryland                   -0.007721\n",
       "State_Massachusetts              -0.030770\n",
       "State_Michigan                   -0.009836\n",
       "State_Minnesota                  -0.106694\n",
       "State_Mississippi                 0.147819\n",
       "State_Missouri                    0.057783\n",
       "State_Montana                    -0.064201\n",
       "State_Nebraska                   -0.101575\n",
       "State_Nevada                     -0.002917\n",
       "State_New Hampshire              -0.014391\n",
       "State_New Jersey                 -0.034649\n",
       "State_New Mexico                 -0.094130\n",
       "State_New York                   -0.035172\n",
       "State_North Carolina              0.014049\n",
       "State_North Dakota               -0.080001\n",
       "State_Ohio                        0.049821\n",
       "State_Oklahoma                    0.089426\n",
       "State_Oregon                     -0.037558\n",
       "State_Pennsylvania               -0.024602\n",
       "State_Rhode Island               -0.024929\n",
       "State_South Carolina              0.055832\n",
       "State_South Dakota               -0.066206\n",
       "State_Tennessee                   0.142068\n",
       "State_Texas                      -0.068307\n",
       "State_Utah                       -0.156488\n",
       "State_Vermont                    -0.012620\n",
       "State_Virginia                    0.040228\n",
       "State_Washington                 -0.053009\n",
       "State_West Virginia               0.089444\n",
       "State_Wisconsin                  -0.035840\n",
       "State_Wyoming                    -0.057790\n",
       "utmda_l1                         -0.136567\n",
       "mskcc_l1                         -0.232390\n",
       "mayo_l1                          -0.060940\n",
       "hopkins_l1                       -0.266875\n",
       "dfb_l1                           -0.207442\n",
       "cleveland_l1                     -0.261447\n",
       "upmcps_l1                        -0.266849\n",
       "hlmcc_l1                         -0.340472\n",
       "mgs_l1                           -0.207147\n",
       "nw_mem_l1                        -0.229712\n",
       "chi_l1                           -0.229855\n",
       "nyc_l1                           -0.233314\n",
       "atlanta_l1                       -0.357372\n",
       "dallas_l1                        -0.096663\n",
       "denver_l1                         0.258811\n",
       "los_ang_l1                        0.231239\n",
       "seattle_l1                        0.354138\n",
       "san_fran_l1                       0.278900\n",
       "utmda_l2                         -0.159682\n",
       "mskcc_l2                         -0.274257\n",
       "mayo_l2                          -0.084661\n",
       "hopkins_l2                       -0.292775\n",
       "dfb_l2                           -0.263515\n",
       "cleveland_l2                     -0.300735\n",
       "upmcps_l2                        -0.304242\n",
       "hlmcc_l2                         -0.337991\n",
       "mgs_l2                           -0.263412\n",
       "nw_mem_l2                        -0.256159\n",
       "chi_l2                           -0.256319\n",
       "nyc_l2                           -0.274649\n",
       "atlanta_l2                       -0.354811\n",
       "dallas_l2                        -0.093831\n",
       "denver_l2                         0.257148\n",
       "los_ang_l2                        0.308879\n",
       "seattle_l2                        0.325172\n",
       "san_fran_l2                       0.316731\n",
       "onc_min_distsl1                  -0.168976\n",
       "onc_min_distsl2                  -0.172797\n",
       "city_min_distsl1                 -0.042435\n",
       "city_min_distsl2                 -0.043975\n",
       "sc_min_dists_l1                  -0.066692\n",
       "sc_min_dists_l2                  -0.063516\n",
       "PCT_LACCESS_POP10                -0.228200\n",
       "PCT_LACCESS_LOWI10               -0.095829\n",
       "PCT_LACCESS_CHILD10              -0.220051\n",
       "PCT_LACCESS_SENIORS10            -0.207766\n",
       "PCT_LACCESS_HHNV10                0.339486\n",
       "PCT_LACCESS_POP10_isnull         -0.010314\n",
       "PCT_LACCESS_LOWI10_isnull        -0.010314\n",
       "PCT_LACCESS_CHILD10_isnull       -0.010314\n",
       "PCT_LACCESS_SENIORS10_isnull     -0.010314\n",
       "PCT_LACCESS_HHNV10_isnull        -0.032058\n",
       "FOODINSEC_00_02                   0.061573\n",
       "FOODINSEC_07_09                   0.146702\n",
       "FOODINSEC_10_12                   0.188080\n",
       "CH_FOODINSEC_02_12                0.221847\n",
       "CH_FOODINSEC_09_12                0.134299\n",
       "VLFOODSEC_00_02                   0.027564\n",
       "VLFOODSEC_07_09                   0.118158\n",
       "VLFOODSEC_10_12                   0.181548\n",
       "CH_VLFOODSEC_02_12                0.194726\n",
       "CH_VLFOODSEC_09_12                0.133990\n",
       "FOODINSEC_CHILD_01_07             0.024132\n",
       "FOODINSEC_CHILD_03_11             0.081665\n",
       "FOODINSEC_00_02_isnull           -0.017098\n",
       "FOODINSEC_07_09_isnull           -0.017098\n",
       "FOODINSEC_10_12_isnull           -0.017098\n",
       "CH_FOODINSEC_02_12_isnull        -0.017098\n",
       "CH_FOODINSEC_09_12_isnull        -0.017098\n",
       "VLFOODSEC_00_02_isnull           -0.017098\n",
       "VLFOODSEC_07_09_isnull           -0.017098\n",
       "VLFOODSEC_10_12_isnull           -0.017098\n",
       "CH_VLFOODSEC_02_12_isnull        -0.017098\n",
       "CH_VLFOODSEC_09_12_isnull        -0.017098\n",
       "FOODINSEC_CHILD_01_07_isnull     -0.017098\n",
       "FOODINSEC_CHILD_03_11_isnull     -0.017098\n",
       "PCT_LOCLFARM07                   -0.092918\n",
       "PCT_LOCLSALE07                   -0.020471\n",
       "PC_DIRSALES07                    -0.120764\n",
       "FMRKT09                          -0.134898\n",
       "FMRKT13                          -0.139147\n",
       "PCH_FMRKT_09_13                  -0.094603\n",
       "FMRKTPTH09                       -0.086926\n",
       "FMRKTPTH13                       -0.103780\n",
       "PCH_FMRKTPTH_09_13               -0.084482\n",
       "PCT_FMRKT_SNAP13                 -0.081165\n",
       "PCT_FMRKT_WIC13                  -0.025214\n",
       "PCT_FMRKT_WICCASH13              -0.024742\n",
       "PCT_FMRKT_SFMNP13                 0.000859\n",
       "PCT_FRMKT_FRVEG13                 0.022737\n",
       "PCT_FRMKT_ANMLPROD13             -0.019248\n",
       "PCT_FMRKT_OTHER13                 0.012024\n",
       "VEG_FARMS07                      -0.112615\n",
       "VEG_ACRES07                      -0.104728\n",
       "VEG_ACRESPTH07                   -0.112142\n",
       "FRESHVEG_FARMS07                 -0.101797\n",
       "FRESHVEG_ACRES07                 -0.079297\n",
       "FRESHVEG_ACRESPTH07              -0.071041\n",
       "ORCHARD_FARMS07                  -0.085779\n",
       "ORCHARD_ACRES07                  -0.062331\n",
       "ORCHARD_ACRESPTH07               -0.041907\n",
       "BERRY_FARMS07                    -0.051270\n",
       "BERRY_ACRES07                    -0.023492\n",
       "BERRY_ACRESPTH07                  0.023666\n",
       "SLHOUSE07                        -0.103664\n",
       "GHVEG_FARMS07                    -0.110282\n",
       "GHVEG_SQFT07                     -0.066036\n",
       "GHVEG_SQFTPTH07                   0.001211\n",
       "FOODHUB12                        -0.067566\n",
       "CSA07                            -0.133491\n",
       "AGRITRSM_OPS07                   -0.168127\n",
       "AGRITRSM_RCT07                   -0.158079\n",
       "FARM_TO_SCHOOL                   -0.099052\n",
       "PCT_LOCLFARM07_isnull             0.062115\n",
       "PCT_LOCLSALE07_isnull             0.041440\n",
       "PC_DIRSALES07_isnull              0.040988\n",
       "FMRKT09_isnull                   -0.015065\n",
       "FMRKT13_isnull                         NaN\n",
       "PCH_FMRKT_09_13_isnull            0.062339\n",
       "FMRKTPTH09_isnull                -0.015065\n",
       "FMRKTPTH13_isnull                      NaN\n",
       "PCH_FMRKTPTH_09_13_isnull         0.062339\n",
       "PCT_FMRKT_SNAP13_isnull           0.068873\n",
       "PCT_FMRKT_WIC13_isnull            0.068873\n",
       "PCT_FMRKT_WICCASH13_isnull        0.068873\n",
       "PCT_FMRKT_SFMNP13_isnull          0.068873\n",
       "PCT_FRMKT_FRVEG13_isnull          0.068873\n",
       "PCT_FRMKT_ANMLPROD13_isnull       0.068873\n",
       "PCT_FMRKT_OTHER13_isnull          0.068873\n",
       "VEG_FARMS07_isnull                0.067595\n",
       "VEG_ACRES07_isnull               -0.035981\n",
       "VEG_ACRESPTH07_isnull            -0.036729\n",
       "FRESHVEG_FARMS07_isnull           0.067595\n",
       "FRESHVEG_ACRES07_isnull           0.044529\n",
       "FRESHVEG_ACRESPTH07_isnull        0.044529\n",
       "ORCHARD_FARMS07_isnull            0.067595\n",
       "ORCHARD_ACRES07_isnull            0.006085\n",
       "ORCHARD_ACRESPTH07_isnull         0.006085\n",
       "BERRY_FARMS07_isnull              0.067595\n",
       "BERRY_ACRES07_isnull              0.082510\n",
       "BERRY_ACRESPTH07_isnull           0.082510\n",
       "SLHOUSE07_isnull                       NaN\n",
       "GHVEG_FARMS07_isnull              0.067595\n",
       "GHVEG_SQFT07_isnull              -0.049208\n",
       "GHVEG_SQFTPTH07_isnull           -0.049208\n",
       "FOODHUB12_isnull                       NaN\n",
       "CSA07_isnull                           NaN\n",
       "AGRITRSM_OPS07_isnull                  NaN\n",
       "AGRITRSM_RCT07_isnull             0.025211\n",
       "FARM_TO_SCHOOL_isnull                  NaN\n",
       "PCT_DIABETES_ADULTS09             0.535441\n",
       "PCT_DIABETES_ADULTS10             0.539451\n",
       "PCT_OBESE_ADULTS09                0.517969\n",
       "PCT_OBESE_ADULTS10                0.529023\n",
       "PCT_OBESE_ADULTS13                0.439013\n",
       "PCT_OBESE_CHILD08                 0.076485\n",
       "PCT_OBESE_CHILD11                 0.139029\n",
       "PCH_OBESE_CHILD_08_11             0.017480\n",
       "PCT_HSPA09                       -0.145572\n",
       "RECFAC07                         -0.143733\n",
       "RECFAC12                         -0.138830\n",
       "PCH_RECFAC_07_12                 -0.032902\n",
       "RECFACPTH07                      -0.215701\n",
       "RECFACPTH12                      -0.204573\n",
       "PCH_RECFACPTH_07_12              -0.015862\n",
       "NATAMEN                          -0.179379\n",
       "PCT_OBESE_CHILD08_isnull         -0.111130\n",
       "PCT_OBESE_CHILD11_isnull         -0.027754\n",
       "PCH_OBESE_CHILD_08_11_isnull     -0.086346\n",
       "PCT_HSPA09_isnull                -0.140397\n",
       "PCH_RECFAC_07_12_isnull           0.071813\n",
       "PCH_RECFACPTH_07_12_isnull        0.071813\n",
       "NATAMEN_isnull                    0.024261\n",
       "PERPOV10                          0.273511\n",
       "CHILDPOVRATE10                    0.453325\n",
       "PERCHLDPOV10                      0.302056\n",
       "METRO13                          -0.085642\n",
       "POPLOSS00                         0.043742\n",
       "dtype: float64"
      ]
     },
     "execution_count": 29,
     "metadata": {},
     "output_type": "execute_result"
    }
   ],
   "source": [
    "X_train_no_log_exp_corrwith = X_train_no_log_exp.corrwith(y_train_no_log_exp)\n",
    "X_train_no_log_exp_corrwith"
   ]
  },
  {
   "cell_type": "code",
   "execution_count": 30,
   "metadata": {},
   "outputs": [
    {
     "data": {
      "text/plain": [
       "0.5251798561151079"
      ]
     },
     "execution_count": 30,
     "metadata": {},
     "output_type": "execute_result"
    }
   ],
   "source": [
    "same_sign_no_log_exp = ((X_train_no_log_exp_corrwith >= 0) & (lr_3_coeffs_no_log_exp >= 0) | (X_train_no_log_exp_corrwith < 0) & (lr_3_coeffs_no_log_exp < 0))\n",
    "same_sign_no_log_exp.sum()/len(same_sign_no_log_exp)"
   ]
  },
  {
   "cell_type": "code",
   "execution_count": 31,
   "metadata": {
    "scrolled": false
   },
   "outputs": [
    {
     "data": {
      "text/plain": [
       "True     146\n",
       "False    132\n",
       "dtype: int64"
      ]
     },
     "execution_count": 31,
     "metadata": {},
     "output_type": "execute_result"
    }
   ],
   "source": [
    "same_sign_no_log_exp.value_counts()"
   ]
  },
  {
   "cell_type": "markdown",
   "metadata": {},
   "source": [
    "The 'same_sign' proportion actually drops slightly with the removal of the logarithmic and exponential features."
   ]
  },
  {
   "cell_type": "markdown",
   "metadata": {},
   "source": [
    "## Running the top performing regressor after keeping only the features with the strongest correlations with cancer mortality"
   ]
  },
  {
   "cell_type": "markdown",
   "metadata": {},
   "source": [
    "The ridge regression algorithm is re-run just using the features with the strongest correlations with the target feature. To do this, a Boolean mask is created assigning a 'True' value to those features whose absolute value coefficient is greater than 0.3."
   ]
  },
  {
   "cell_type": "code",
   "execution_count": 32,
   "metadata": {},
   "outputs": [
    {
     "data": {
      "text/plain": [
       "avgAnnCount       False\n",
       "incidenceRate      True\n",
       "medIncome          True\n",
       "popEst2015        False\n",
       "povertyPercent     True\n",
       "dtype: bool"
      ]
     },
     "execution_count": 32,
     "metadata": {},
     "output_type": "execute_result"
    }
   ],
   "source": [
    "is_strong_feature = X_train_corrwith.abs() > 0.3\n",
    "is_strong_feature.head()"
   ]
  },
  {
   "cell_type": "code",
   "execution_count": 33,
   "metadata": {},
   "outputs": [
    {
     "data": {
      "text/plain": [
       "Index(['incidenceRate', 'medIncome', 'povertyPercent', 'PctHS25_Over',\n",
       "       'PctBachDeg25_Over', 'PctEmployed16_Over', 'PctUnemployed16_Over',\n",
       "       'PctPrivateCoverage', 'PctPrivateCoverageAlone', 'PctPublicCoverage',\n",
       "       'PctPublicCoverageAlone', 'hlmcc_l1', 'atlanta_l1', 'seattle_l1',\n",
       "       'cleveland_l2', 'upmcps_l2', 'hlmcc_l2', 'atlanta_l2', 'los_ang_l2',\n",
       "       'seattle_l2', 'san_fran_l2', 'PCT_LACCESS_HHNV10',\n",
       "       'PCT_DIABETES_ADULTS09', 'PCT_DIABETES_ADULTS10', 'PCT_OBESE_ADULTS09',\n",
       "       'PCT_OBESE_ADULTS10', 'PCT_OBESE_ADULTS13', 'CHILDPOVRATE10',\n",
       "       'PERCHLDPOV10', 'povertyPercent_log', 'povertyPercent_sqrd',\n",
       "       'PctHS25_Over_sqrd', 'PctBachDeg25_Over_log', 'PctEmployed16_Over_log',\n",
       "       'PctEmployed16_Over_sqrd', 'PctPrivateCoverage_log',\n",
       "       'PctPublicCoverage_log', 'PctPublicCoverageAlone_log',\n",
       "       'PctPublicCoverageAlone_sqrd', 'atlanta_l1_log', 'cleveland_l2_log',\n",
       "       'atlanta_l2_log', 'PCT_OBESE_ADULTS13_log', 'PCT_OBESE_ADULTS13_sqrd',\n",
       "       'CHILDPOVRATE10_log'],\n",
       "      dtype='object')"
      ]
     },
     "execution_count": 33,
     "metadata": {},
     "output_type": "execute_result"
    }
   ],
   "source": [
    "strong_feature_names = X_train.columns[is_strong_feature]\n",
    "strong_feature_names"
   ]
  },
  {
   "cell_type": "code",
   "execution_count": 34,
   "metadata": {
    "scrolled": true
   },
   "outputs": [
    {
     "data": {
      "text/plain": [
       "['incidenceRate',\n",
       " 'medIncome',\n",
       " 'povertyPercent',\n",
       " 'PctHS25_Over',\n",
       " 'PctBachDeg25_Over',\n",
       " 'PctEmployed16_Over',\n",
       " 'PctUnemployed16_Over',\n",
       " 'PctPrivateCoverage',\n",
       " 'PctPrivateCoverageAlone',\n",
       " 'PctPublicCoverage',\n",
       " 'PctPublicCoverageAlone',\n",
       " 'hlmcc_l1',\n",
       " 'atlanta_l1',\n",
       " 'seattle_l1',\n",
       " 'cleveland_l2',\n",
       " 'upmcps_l2',\n",
       " 'hlmcc_l2',\n",
       " 'atlanta_l2',\n",
       " 'los_ang_l2',\n",
       " 'seattle_l2',\n",
       " 'san_fran_l2',\n",
       " 'PCT_LACCESS_HHNV10',\n",
       " 'PCT_DIABETES_ADULTS09',\n",
       " 'PCT_DIABETES_ADULTS10',\n",
       " 'PCT_OBESE_ADULTS09',\n",
       " 'PCT_OBESE_ADULTS10',\n",
       " 'PCT_OBESE_ADULTS13',\n",
       " 'CHILDPOVRATE10',\n",
       " 'PERCHLDPOV10',\n",
       " 'povertyPercent_log',\n",
       " 'povertyPercent_sqrd',\n",
       " 'PctHS25_Over_sqrd',\n",
       " 'PctBachDeg25_Over_log',\n",
       " 'PctEmployed16_Over_log',\n",
       " 'PctEmployed16_Over_sqrd',\n",
       " 'PctPrivateCoverage_log',\n",
       " 'PctPublicCoverage_log',\n",
       " 'PctPublicCoverageAlone_log',\n",
       " 'PctPublicCoverageAlone_sqrd',\n",
       " 'atlanta_l1_log',\n",
       " 'cleveland_l2_log',\n",
       " 'atlanta_l2_log',\n",
       " 'PCT_OBESE_ADULTS13_log',\n",
       " 'PCT_OBESE_ADULTS13_sqrd',\n",
       " 'CHILDPOVRATE10_log']"
      ]
     },
     "execution_count": 34,
     "metadata": {},
     "output_type": "execute_result"
    }
   ],
   "source": [
    "strong_feature_names_list = list(strong_feature_names)\n",
    "strong_feature_names_list"
   ]
  },
  {
   "cell_type": "code",
   "execution_count": 35,
   "metadata": {},
   "outputs": [],
   "source": [
    "df_weak = df.drop(columns = strong_feature_names_list)"
   ]
  },
  {
   "cell_type": "code",
   "execution_count": 36,
   "metadata": {},
   "outputs": [
    {
     "data": {
      "text/plain": [
       "Index(['TARGET_deathRate', 'avgAnnCount', 'popEst2015', 'studyPerCap',\n",
       "       'MedianAge', 'MedianAgeMale', 'MedianAgeFemale', 'AvgHouseholdSize',\n",
       "       'PercentMarried', 'PctNoHS18_24',\n",
       "       ...\n",
       "       'dfb_l2_log', 'upmcps_l2_log', 'mgs_l2_log', 'city_min_distsl1_sqrd',\n",
       "       'sc_min_dists_l1_log', 'PCT_LACCESS_CHILD10_sqrd',\n",
       "       'PCT_LACCESS_HHNV10_sqrd', 'PC_DIRSALES07_sqrd', 'FMRKT13_sqrd',\n",
       "       'PCH_FMRKT_09_13_sqrd'],\n",
       "      dtype='object', length=284)"
      ]
     },
     "execution_count": 36,
     "metadata": {},
     "output_type": "execute_result"
    }
   ],
   "source": [
    "df_weak.columns"
   ]
  },
  {
   "cell_type": "code",
   "execution_count": 37,
   "metadata": {},
   "outputs": [],
   "source": [
    "df_weak = df_weak.drop(columns = 'TARGET_deathRate')"
   ]
  },
  {
   "cell_type": "code",
   "execution_count": 38,
   "metadata": {},
   "outputs": [],
   "source": [
    "weak_columns_list = list(df_weak.columns)"
   ]
  },
  {
   "cell_type": "code",
   "execution_count": 39,
   "metadata": {},
   "outputs": [],
   "source": [
    "df_strong = df.drop(columns = weak_columns_list)"
   ]
  },
  {
   "cell_type": "code",
   "execution_count": 40,
   "metadata": {
    "scrolled": true
   },
   "outputs": [
    {
     "name": "stdout",
     "output_type": "stream",
     "text": [
      "<class 'pandas.core.frame.DataFrame'>\n",
      "Index: 3047 entries, Abbeville County, South Carolina to Zavala County, Texas\n",
      "Data columns (total 46 columns):\n",
      "TARGET_deathRate               3047 non-null float64\n",
      "incidenceRate                  3047 non-null float64\n",
      "medIncome                      3047 non-null int64\n",
      "povertyPercent                 3047 non-null float64\n",
      "PctHS25_Over                   3047 non-null float64\n",
      "PctBachDeg25_Over              3047 non-null float64\n",
      "PctEmployed16_Over             3047 non-null float64\n",
      "PctUnemployed16_Over           3047 non-null float64\n",
      "PctPrivateCoverage             3047 non-null float64\n",
      "PctPrivateCoverageAlone        3047 non-null float64\n",
      "PctPublicCoverage              3047 non-null float64\n",
      "PctPublicCoverageAlone         3047 non-null float64\n",
      "hlmcc_l1                       3047 non-null float64\n",
      "atlanta_l1                     3047 non-null float64\n",
      "seattle_l1                     3047 non-null float64\n",
      "cleveland_l2                   3047 non-null float64\n",
      "upmcps_l2                      3047 non-null float64\n",
      "hlmcc_l2                       3047 non-null float64\n",
      "atlanta_l2                     3047 non-null float64\n",
      "los_ang_l2                     3047 non-null float64\n",
      "seattle_l2                     3047 non-null float64\n",
      "san_fran_l2                    3047 non-null float64\n",
      "PCT_LACCESS_HHNV10             3047 non-null float64\n",
      "PCT_DIABETES_ADULTS09          3047 non-null float64\n",
      "PCT_DIABETES_ADULTS10          3047 non-null float64\n",
      "PCT_OBESE_ADULTS09             3047 non-null float64\n",
      "PCT_OBESE_ADULTS10             3047 non-null float64\n",
      "PCT_OBESE_ADULTS13             3047 non-null float64\n",
      "CHILDPOVRATE10                 3047 non-null float64\n",
      "PERCHLDPOV10                   3047 non-null int64\n",
      "povertyPercent_log             3047 non-null float64\n",
      "povertyPercent_sqrd            3047 non-null float64\n",
      "PctHS25_Over_sqrd              3047 non-null float64\n",
      "PctBachDeg25_Over_log          3047 non-null float64\n",
      "PctEmployed16_Over_log         3047 non-null float64\n",
      "PctEmployed16_Over_sqrd        3047 non-null float64\n",
      "PctPrivateCoverage_log         3047 non-null float64\n",
      "PctPublicCoverage_log          3047 non-null float64\n",
      "PctPublicCoverageAlone_log     3047 non-null float64\n",
      "PctPublicCoverageAlone_sqrd    3047 non-null float64\n",
      "atlanta_l1_log                 3047 non-null float64\n",
      "cleveland_l2_log               3047 non-null float64\n",
      "atlanta_l2_log                 3047 non-null float64\n",
      "PCT_OBESE_ADULTS13_log         3047 non-null float64\n",
      "PCT_OBESE_ADULTS13_sqrd        3047 non-null float64\n",
      "CHILDPOVRATE10_log             3047 non-null float64\n",
      "dtypes: float64(44), int64(2)\n",
      "memory usage: 1.2+ MB\n"
     ]
    }
   ],
   "source": [
    "df_strong.info(verbose=True)"
   ]
  },
  {
   "cell_type": "code",
   "execution_count": 41,
   "metadata": {},
   "outputs": [],
   "source": [
    "y_strong = df_strong['TARGET_deathRate']"
   ]
  },
  {
   "cell_type": "markdown",
   "metadata": {},
   "source": [
    "The predictive feature set X is defined as the rest of the columns in the DataFrame."
   ]
  },
  {
   "cell_type": "code",
   "execution_count": 42,
   "metadata": {},
   "outputs": [],
   "source": [
    "target_name = ['TARGET_deathRate']\n",
    "X_strong = df_strong[[cn for cn in df_strong.columns if cn not in target_name]]"
   ]
  },
  {
   "cell_type": "code",
   "execution_count": 43,
   "metadata": {},
   "outputs": [
    {
     "data": {
      "text/plain": [
       "Ridge(alpha=0.001, copy_X=True, fit_intercept=True, max_iter=None,\n",
       "   normalize=False, random_state=None, solver='auto', tol=0.001)"
      ]
     },
     "execution_count": 43,
     "metadata": {},
     "output_type": "execute_result"
    }
   ],
   "source": [
    "lr_3_strong = linear_model.Ridge(alpha=0.001)\n",
    "lr_3_strong"
   ]
  },
  {
   "cell_type": "code",
   "execution_count": 44,
   "metadata": {},
   "outputs": [],
   "source": [
    "X_train_strong, X_test_strong, y_train_strong, y_test_strong = train_test_split(X_strong, y_strong, test_size=0.2, random_state=42)"
   ]
  },
  {
   "cell_type": "code",
   "execution_count": 45,
   "metadata": {
    "scrolled": true
   },
   "outputs": [
    {
     "data": {
      "text/plain": [
       "Ridge(alpha=0.001, copy_X=True, fit_intercept=True, max_iter=None,\n",
       "   normalize=False, random_state=None, solver='auto', tol=0.001)"
      ]
     },
     "execution_count": 45,
     "metadata": {},
     "output_type": "execute_result"
    }
   ],
   "source": [
    "lr_3_strong.fit(X_train_strong, y_train_strong)"
   ]
  },
  {
   "cell_type": "code",
   "execution_count": 46,
   "metadata": {},
   "outputs": [
    {
     "data": {
      "text/plain": [
       "array([200.86521904, 193.77917402, 204.06070836, 144.87941304,\n",
       "       224.44338897, 194.9364148 , 176.24435359, 157.65484388,\n",
       "       185.00606335, 227.57661833, 206.80605854, 173.39462449,\n",
       "       196.20679521, 194.33243619, 163.80309224, 178.42196292,\n",
       "       203.16755069, 162.235815  , 167.70482752, 183.1082433 ])"
      ]
     },
     "execution_count": 46,
     "metadata": {},
     "output_type": "execute_result"
    }
   ],
   "source": [
    "y_pred_3_train_strong = lr_3_strong.predict(X_train_strong)\n",
    "y_pred_3_train_strong[0:20]"
   ]
  },
  {
   "cell_type": "code",
   "execution_count": 47,
   "metadata": {},
   "outputs": [
    {
     "name": "stdout",
     "output_type": "stream",
     "text": [
      "Training Set R^2: 0.5624285643339696\n",
      "Training Set Root Mean Squared Error: 18.4585179557503\n"
     ]
    }
   ],
   "source": [
    "print(\"Training Set R^2: {}\".format(lr_3_strong.score(X_train_strong, y_train_strong)))\n",
    "rmse_3_train_strong = np.sqrt(mean_squared_error(y_train_strong, y_pred_3_train_strong))\n",
    "print(\"Training Set Root Mean Squared Error: {}\".format(rmse_3_train_strong))"
   ]
  },
  {
   "cell_type": "code",
   "execution_count": 48,
   "metadata": {},
   "outputs": [
    {
     "data": {
      "text/plain": [
       "array([190.87409952, 176.66895925, 162.0335521 , 170.64802007,\n",
       "       169.19942938, 195.31789543, 170.88186319, 169.17013045,\n",
       "       166.32963449, 167.93619522, 190.13936157, 195.40973955,\n",
       "       171.6354447 , 157.5461496 , 222.16316141, 115.3633002 ,\n",
       "       189.87085075, 208.46775794, 202.12178461, 186.32402645])"
      ]
     },
     "execution_count": 48,
     "metadata": {},
     "output_type": "execute_result"
    }
   ],
   "source": [
    "y_pred_3_test_strong = lr_3_strong.predict(X_test_strong)\n",
    "y_pred_3_test_strong[0:20]"
   ]
  },
  {
   "cell_type": "code",
   "execution_count": 49,
   "metadata": {},
   "outputs": [
    {
     "name": "stdout",
     "output_type": "stream",
     "text": [
      "Test Set R^2: 0.5991849598412256\n",
      "Test Set Root Mean Squared Error: 17.10809003019704\n"
     ]
    }
   ],
   "source": [
    "print(\"Test Set R^2: {}\".format(lr_3_strong.score(X_test_strong, y_test_strong)))\n",
    "rmse_3_test_strong = np.sqrt(mean_squared_error(y_test_strong, y_pred_3_test_strong))\n",
    "print(\"Test Set Root Mean Squared Error: {}\".format(rmse_3_test_strong))"
   ]
  },
  {
   "cell_type": "code",
   "execution_count": 50,
   "metadata": {
    "scrolled": true
   },
   "outputs": [
    {
     "data": {
      "text/plain": [
       "incidenceRate                    0.176537\n",
       "medIncome                       -0.000041\n",
       "povertyPercent                  -3.025795\n",
       "PctHS25_Over                     1.397358\n",
       "PctBachDeg25_Over                0.352229\n",
       "PctEmployed16_Over               2.918746\n",
       "PctUnemployed16_Over             0.099523\n",
       "PctPrivateCoverage              -4.090137\n",
       "PctPrivateCoverageAlone          0.122191\n",
       "PctPublicCoverage               -0.786887\n",
       "PctPublicCoverageAlone          -1.076725\n",
       "hlmcc_l1                         0.579080\n",
       "atlanta_l1                      -1.275515\n",
       "seattle_l1                       0.469379\n",
       "cleveland_l2                     1.424848\n",
       "upmcps_l2                        1.351819\n",
       "hlmcc_l2                         2.987665\n",
       "atlanta_l2                      -5.569238\n",
       "los_ang_l2                       3.893287\n",
       "seattle_l2                      -0.286151\n",
       "san_fran_l2                     -2.900157\n",
       "PCT_LACCESS_HHNV10               0.201656\n",
       "PCT_DIABETES_ADULTS09            1.176338\n",
       "PCT_DIABETES_ADULTS10           -0.456098\n",
       "PCT_OBESE_ADULTS09              -0.133181\n",
       "PCT_OBESE_ADULTS10               0.904856\n",
       "PCT_OBESE_ADULTS13             -46.852998\n",
       "CHILDPOVRATE10                   1.234082\n",
       "PERCHLDPOV10                     0.814286\n",
       "povertyPercent_log              38.447453\n",
       "povertyPercent_sqrd              0.021479\n",
       "PctHS25_Over_sqrd               -0.015356\n",
       "PctBachDeg25_Over_log           -7.465375\n",
       "PctEmployed16_Over_log         -78.136244\n",
       "PctEmployed16_Over_sqrd         -0.015925\n",
       "PctPrivateCoverage_log         196.878803\n",
       "PctPublicCoverage_log           17.809782\n",
       "PctPublicCoverageAlone_log     -20.076079\n",
       "PctPublicCoverageAlone_sqrd      0.050242\n",
       "atlanta_l1_log                  -4.205406\n",
       "cleveland_l2_log                -7.967465\n",
       "atlanta_l2_log                  21.176906\n",
       "PCT_OBESE_ADULTS13_log         671.837952\n",
       "PCT_OBESE_ADULTS13_sqrd          0.402394\n",
       "CHILDPOVRATE10_log             -28.935260\n",
       "dtype: float64"
      ]
     },
     "execution_count": 50,
     "metadata": {},
     "output_type": "execute_result"
    }
   ],
   "source": [
    "lr_3_coeffs_strong = pd.Series(lr_3_strong.coef_, index=X_strong.columns) \n",
    "lr_3_coeffs_strong"
   ]
  },
  {
   "cell_type": "code",
   "execution_count": 51,
   "metadata": {},
   "outputs": [
    {
     "data": {
      "text/plain": [
       "incidenceRate                  0.429436\n",
       "medIncome                     -0.432210\n",
       "povertyPercent                 0.435167\n",
       "PctHS25_Over                   0.408759\n",
       "PctBachDeg25_Over             -0.493734\n",
       "PctEmployed16_Over            -0.413245\n",
       "PctUnemployed16_Over           0.375829\n",
       "PctPrivateCoverage            -0.394586\n",
       "PctPrivateCoverageAlone       -0.341052\n",
       "PctPublicCoverage              0.413010\n",
       "PctPublicCoverageAlone         0.456392\n",
       "hlmcc_l1                      -0.340472\n",
       "atlanta_l1                    -0.357372\n",
       "seattle_l1                     0.354138\n",
       "cleveland_l2                  -0.300735\n",
       "upmcps_l2                     -0.304242\n",
       "hlmcc_l2                      -0.337991\n",
       "atlanta_l2                    -0.354811\n",
       "los_ang_l2                     0.308879\n",
       "seattle_l2                     0.325172\n",
       "san_fran_l2                    0.316731\n",
       "PCT_LACCESS_HHNV10             0.339486\n",
       "PCT_DIABETES_ADULTS09          0.535441\n",
       "PCT_DIABETES_ADULTS10          0.539451\n",
       "PCT_OBESE_ADULTS09             0.517969\n",
       "PCT_OBESE_ADULTS10             0.529023\n",
       "PCT_OBESE_ADULTS13             0.439013\n",
       "CHILDPOVRATE10                 0.453325\n",
       "PERCHLDPOV10                   0.302056\n",
       "povertyPercent_log             0.443893\n",
       "povertyPercent_sqrd            0.399314\n",
       "PctHS25_Over_sqrd              0.389445\n",
       "PctBachDeg25_Over_log         -0.504272\n",
       "PctEmployed16_Over_log        -0.395799\n",
       "PctEmployed16_Over_sqrd       -0.422093\n",
       "PctPrivateCoverage_log        -0.372819\n",
       "PctPublicCoverage_log          0.415566\n",
       "PctPublicCoverageAlone_log     0.454496\n",
       "PctPublicCoverageAlone_sqrd    0.434545\n",
       "atlanta_l1_log                -0.396230\n",
       "cleveland_l2_log              -0.312810\n",
       "atlanta_l2_log                -0.388316\n",
       "PCT_OBESE_ADULTS13_log         0.433522\n",
       "PCT_OBESE_ADULTS13_sqrd        0.442870\n",
       "CHILDPOVRATE10_log             0.446911\n",
       "dtype: float64"
      ]
     },
     "execution_count": 51,
     "metadata": {},
     "output_type": "execute_result"
    }
   ],
   "source": [
    "X_train_strong_corrwith = X_train_strong.corrwith(y_train_strong)\n",
    "X_train_strong_corrwith"
   ]
  },
  {
   "cell_type": "code",
   "execution_count": 52,
   "metadata": {},
   "outputs": [
    {
     "data": {
      "text/plain": [
       "0.5555555555555556"
      ]
     },
     "execution_count": 52,
     "metadata": {},
     "output_type": "execute_result"
    }
   ],
   "source": [
    "same_sign_strong = ((X_train_strong_corrwith >= 0) & (lr_3_coeffs_strong >= 0) | (X_train_strong_corrwith < 0) & (lr_3_coeffs_strong < 0))\n",
    "same_sign_strong.sum()/len(same_sign_strong)"
   ]
  },
  {
   "cell_type": "code",
   "execution_count": 53,
   "metadata": {
    "scrolled": false
   },
   "outputs": [
    {
     "data": {
      "text/plain": [
       "True     25\n",
       "False    20\n",
       "dtype: int64"
      ]
     },
     "execution_count": 53,
     "metadata": {},
     "output_type": "execute_result"
    }
   ],
   "source": [
    "same_sign_strong.value_counts()"
   ]
  },
  {
   "cell_type": "markdown",
   "metadata": {},
   "source": [
    "The 'same_sign' proportion only improves by a percentage point after only the features with a correlation coefficient absolute value of greater than 0.3."
   ]
  },
  {
   "cell_type": "markdown",
   "metadata": {},
   "source": [
    "## Full DataFrame using top performing regressor and MinMax scaler"
   ]
  },
  {
   "cell_type": "code",
   "execution_count": 54,
   "metadata": {},
   "outputs": [],
   "source": [
    "scaler = MinMaxScaler()"
   ]
  },
  {
   "cell_type": "markdown",
   "metadata": {},
   "source": [
    "Next, the full DataFrame with all features is scaled using the MinMax Scaler to see if this changes the 'same_sign' proportion. "
   ]
  },
  {
   "cell_type": "code",
   "execution_count": 55,
   "metadata": {},
   "outputs": [
    {
     "name": "stderr",
     "output_type": "stream",
     "text": [
      "/Users/DanLoew/anaconda3/lib/python3.7/site-packages/sklearn/preprocessing/data.py:334: DataConversionWarning: Data with input dtype int64, float64 were all converted to float64 by MinMaxScaler.\n",
      "  return self.partial_fit(X, y)\n"
     ]
    }
   ],
   "source": [
    "df_scaled = pd.DataFrame(scaler.fit_transform(df), columns=df.columns, index=df.index)"
   ]
  },
  {
   "cell_type": "code",
   "execution_count": 56,
   "metadata": {},
   "outputs": [
    {
     "data": {
      "text/html": [
       "<div>\n",
       "<style scoped>\n",
       "    .dataframe tbody tr th:only-of-type {\n",
       "        vertical-align: middle;\n",
       "    }\n",
       "\n",
       "    .dataframe tbody tr th {\n",
       "        vertical-align: top;\n",
       "    }\n",
       "\n",
       "    .dataframe thead th {\n",
       "        text-align: right;\n",
       "    }\n",
       "</style>\n",
       "<table border=\"1\" class=\"dataframe\">\n",
       "  <thead>\n",
       "    <tr style=\"text-align: right;\">\n",
       "      <th></th>\n",
       "      <th>TARGET_deathRate</th>\n",
       "      <th>avgAnnCount</th>\n",
       "      <th>incidenceRate</th>\n",
       "      <th>medIncome</th>\n",
       "      <th>popEst2015</th>\n",
       "      <th>povertyPercent</th>\n",
       "      <th>studyPerCap</th>\n",
       "      <th>MedianAge</th>\n",
       "      <th>MedianAgeMale</th>\n",
       "      <th>MedianAgeFemale</th>\n",
       "      <th>...</th>\n",
       "      <th>city_min_distsl1_sqrd</th>\n",
       "      <th>sc_min_dists_l1_log</th>\n",
       "      <th>PCT_LACCESS_CHILD10_sqrd</th>\n",
       "      <th>PCT_LACCESS_HHNV10_sqrd</th>\n",
       "      <th>PC_DIRSALES07_sqrd</th>\n",
       "      <th>FMRKT13_sqrd</th>\n",
       "      <th>PCH_FMRKT_09_13_sqrd</th>\n",
       "      <th>PCT_OBESE_ADULTS13_log</th>\n",
       "      <th>PCT_OBESE_ADULTS13_sqrd</th>\n",
       "      <th>CHILDPOVRATE10_log</th>\n",
       "    </tr>\n",
       "    <tr>\n",
       "      <th>Geography</th>\n",
       "      <th></th>\n",
       "      <th></th>\n",
       "      <th></th>\n",
       "      <th></th>\n",
       "      <th></th>\n",
       "      <th></th>\n",
       "      <th></th>\n",
       "      <th></th>\n",
       "      <th></th>\n",
       "      <th></th>\n",
       "      <th></th>\n",
       "      <th></th>\n",
       "      <th></th>\n",
       "      <th></th>\n",
       "      <th></th>\n",
       "      <th></th>\n",
       "      <th></th>\n",
       "      <th></th>\n",
       "      <th></th>\n",
       "      <th></th>\n",
       "      <th></th>\n",
       "    </tr>\n",
       "  </thead>\n",
       "  <tbody>\n",
       "    <tr>\n",
       "      <th>Abbeville County, South Carolina</th>\n",
       "      <td>0.409106</td>\n",
       "      <td>0.003592</td>\n",
       "      <td>0.228321</td>\n",
       "      <td>0.125103</td>\n",
       "      <td>0.002370</td>\n",
       "      <td>0.411765</td>\n",
       "      <td>0.000000</td>\n",
       "      <td>0.488372</td>\n",
       "      <td>0.432624</td>\n",
       "      <td>0.520737</td>\n",
       "      <td>...</td>\n",
       "      <td>0.001672</td>\n",
       "      <td>0.580436</td>\n",
       "      <td>0.042716</td>\n",
       "      <td>0.009878</td>\n",
       "      <td>0.000438</td>\n",
       "      <td>0.000233</td>\n",
       "      <td>0.000000</td>\n",
       "      <td>0.796025</td>\n",
       "      <td>0.708192</td>\n",
       "      <td>0.733398</td>\n",
       "    </tr>\n",
       "    <tr>\n",
       "      <th>Acadia Parish, Louisiana</th>\n",
       "      <td>0.563510</td>\n",
       "      <td>0.008311</td>\n",
       "      <td>0.289777</td>\n",
       "      <td>0.171164</td>\n",
       "      <td>0.006072</td>\n",
       "      <td>0.425339</td>\n",
       "      <td>0.000000</td>\n",
       "      <td>0.311628</td>\n",
       "      <td>0.290780</td>\n",
       "      <td>0.343318</td>\n",
       "      <td>...</td>\n",
       "      <td>0.013547</td>\n",
       "      <td>0.494716</td>\n",
       "      <td>0.000210</td>\n",
       "      <td>0.000872</td>\n",
       "      <td>0.001855</td>\n",
       "      <td>0.000000</td>\n",
       "      <td>0.000000</td>\n",
       "      <td>0.882545</td>\n",
       "      <td>0.824751</td>\n",
       "      <td>0.767657</td>\n",
       "    </tr>\n",
       "    <tr>\n",
       "      <th>Accomack County, Virginia</th>\n",
       "      <td>0.516331</td>\n",
       "      <td>0.005637</td>\n",
       "      <td>0.276551</td>\n",
       "      <td>0.152920</td>\n",
       "      <td>0.003161</td>\n",
       "      <td>0.366516</td>\n",
       "      <td>0.000000</td>\n",
       "      <td>0.534884</td>\n",
       "      <td>0.479905</td>\n",
       "      <td>0.576037</td>\n",
       "      <td>...</td>\n",
       "      <td>0.006335</td>\n",
       "      <td>0.680184</td>\n",
       "      <td>0.000447</td>\n",
       "      <td>0.016028</td>\n",
       "      <td>0.000093</td>\n",
       "      <td>0.000233</td>\n",
       "      <td>0.005102</td>\n",
       "      <td>0.489515</td>\n",
       "      <td>0.367651</td>\n",
       "      <td>0.757758</td>\n",
       "    </tr>\n",
       "    <tr>\n",
       "      <th>Ada County, Idaho</th>\n",
       "      <td>0.303200</td>\n",
       "      <td>0.045905</td>\n",
       "      <td>0.266209</td>\n",
       "      <td>0.342424</td>\n",
       "      <td>0.042616</td>\n",
       "      <td>0.190045</td>\n",
       "      <td>0.042464</td>\n",
       "      <td>0.313953</td>\n",
       "      <td>0.297872</td>\n",
       "      <td>0.329493</td>\n",
       "      <td>...</td>\n",
       "      <td>0.030102</td>\n",
       "      <td>0.632221</td>\n",
       "      <td>0.021139</td>\n",
       "      <td>0.000091</td>\n",
       "      <td>0.000165</td>\n",
       "      <td>0.005827</td>\n",
       "      <td>0.000063</td>\n",
       "      <td>0.658801</td>\n",
       "      <td>0.542797</td>\n",
       "      <td>0.572433</td>\n",
       "    </tr>\n",
       "    <tr>\n",
       "      <th>Adair County, Iowa</th>\n",
       "      <td>0.393270</td>\n",
       "      <td>0.001180</td>\n",
       "      <td>0.238067</td>\n",
       "      <td>0.248323</td>\n",
       "      <td>0.000629</td>\n",
       "      <td>0.160633</td>\n",
       "      <td>0.014172</td>\n",
       "      <td>0.548837</td>\n",
       "      <td>0.534279</td>\n",
       "      <td>0.585253</td>\n",
       "      <td>...</td>\n",
       "      <td>0.015704</td>\n",
       "      <td>0.598702</td>\n",
       "      <td>0.002836</td>\n",
       "      <td>0.000950</td>\n",
       "      <td>0.001519</td>\n",
       "      <td>0.000233</td>\n",
       "      <td>0.000000</td>\n",
       "      <td>0.770602</td>\n",
       "      <td>0.675815</td>\n",
       "      <td>0.529909</td>\n",
       "    </tr>\n",
       "  </tbody>\n",
       "</table>\n",
       "<p>5 rows × 329 columns</p>\n",
       "</div>"
      ],
      "text/plain": [
       "                                  TARGET_deathRate  avgAnnCount  \\\n",
       "Geography                                                         \n",
       "Abbeville County, South Carolina          0.409106     0.003592   \n",
       "Acadia Parish, Louisiana                  0.563510     0.008311   \n",
       "Accomack County, Virginia                 0.516331     0.005637   \n",
       "Ada County, Idaho                         0.303200     0.045905   \n",
       "Adair County, Iowa                        0.393270     0.001180   \n",
       "\n",
       "                                  incidenceRate  medIncome  popEst2015  \\\n",
       "Geography                                                                \n",
       "Abbeville County, South Carolina       0.228321   0.125103    0.002370   \n",
       "Acadia Parish, Louisiana               0.289777   0.171164    0.006072   \n",
       "Accomack County, Virginia              0.276551   0.152920    0.003161   \n",
       "Ada County, Idaho                      0.266209   0.342424    0.042616   \n",
       "Adair County, Iowa                     0.238067   0.248323    0.000629   \n",
       "\n",
       "                                  povertyPercent  studyPerCap  MedianAge  \\\n",
       "Geography                                                                  \n",
       "Abbeville County, South Carolina        0.411765     0.000000   0.488372   \n",
       "Acadia Parish, Louisiana                0.425339     0.000000   0.311628   \n",
       "Accomack County, Virginia               0.366516     0.000000   0.534884   \n",
       "Ada County, Idaho                       0.190045     0.042464   0.313953   \n",
       "Adair County, Iowa                      0.160633     0.014172   0.548837   \n",
       "\n",
       "                                  MedianAgeMale  MedianAgeFemale  ...  \\\n",
       "Geography                                                         ...   \n",
       "Abbeville County, South Carolina       0.432624         0.520737  ...   \n",
       "Acadia Parish, Louisiana               0.290780         0.343318  ...   \n",
       "Accomack County, Virginia              0.479905         0.576037  ...   \n",
       "Ada County, Idaho                      0.297872         0.329493  ...   \n",
       "Adair County, Iowa                     0.534279         0.585253  ...   \n",
       "\n",
       "                                  city_min_distsl1_sqrd  sc_min_dists_l1_log  \\\n",
       "Geography                                                                      \n",
       "Abbeville County, South Carolina               0.001672             0.580436   \n",
       "Acadia Parish, Louisiana                       0.013547             0.494716   \n",
       "Accomack County, Virginia                      0.006335             0.680184   \n",
       "Ada County, Idaho                              0.030102             0.632221   \n",
       "Adair County, Iowa                             0.015704             0.598702   \n",
       "\n",
       "                                  PCT_LACCESS_CHILD10_sqrd  \\\n",
       "Geography                                                    \n",
       "Abbeville County, South Carolina                  0.042716   \n",
       "Acadia Parish, Louisiana                          0.000210   \n",
       "Accomack County, Virginia                         0.000447   \n",
       "Ada County, Idaho                                 0.021139   \n",
       "Adair County, Iowa                                0.002836   \n",
       "\n",
       "                                  PCT_LACCESS_HHNV10_sqrd  PC_DIRSALES07_sqrd  \\\n",
       "Geography                                                                       \n",
       "Abbeville County, South Carolina                 0.009878            0.000438   \n",
       "Acadia Parish, Louisiana                         0.000872            0.001855   \n",
       "Accomack County, Virginia                        0.016028            0.000093   \n",
       "Ada County, Idaho                                0.000091            0.000165   \n",
       "Adair County, Iowa                               0.000950            0.001519   \n",
       "\n",
       "                                  FMRKT13_sqrd  PCH_FMRKT_09_13_sqrd  \\\n",
       "Geography                                                              \n",
       "Abbeville County, South Carolina      0.000233              0.000000   \n",
       "Acadia Parish, Louisiana              0.000000              0.000000   \n",
       "Accomack County, Virginia             0.000233              0.005102   \n",
       "Ada County, Idaho                     0.005827              0.000063   \n",
       "Adair County, Iowa                    0.000233              0.000000   \n",
       "\n",
       "                                  PCT_OBESE_ADULTS13_log  \\\n",
       "Geography                                                  \n",
       "Abbeville County, South Carolina                0.796025   \n",
       "Acadia Parish, Louisiana                        0.882545   \n",
       "Accomack County, Virginia                       0.489515   \n",
       "Ada County, Idaho                               0.658801   \n",
       "Adair County, Iowa                              0.770602   \n",
       "\n",
       "                                  PCT_OBESE_ADULTS13_sqrd  CHILDPOVRATE10_log  \n",
       "Geography                                                                      \n",
       "Abbeville County, South Carolina                 0.708192            0.733398  \n",
       "Acadia Parish, Louisiana                         0.824751            0.767657  \n",
       "Accomack County, Virginia                        0.367651            0.757758  \n",
       "Ada County, Idaho                                0.542797            0.572433  \n",
       "Adair County, Iowa                               0.675815            0.529909  \n",
       "\n",
       "[5 rows x 329 columns]"
      ]
     },
     "execution_count": 56,
     "metadata": {},
     "output_type": "execute_result"
    }
   ],
   "source": [
    "df_scaled.head()"
   ]
  },
  {
   "cell_type": "code",
   "execution_count": 57,
   "metadata": {},
   "outputs": [],
   "source": [
    "y_scaled = df_scaled['TARGET_deathRate']"
   ]
  },
  {
   "cell_type": "code",
   "execution_count": 58,
   "metadata": {},
   "outputs": [],
   "source": [
    "X_scaled = df_scaled[[cn for cn in df_scaled.columns if cn not in target_name]]"
   ]
  },
  {
   "cell_type": "code",
   "execution_count": 59,
   "metadata": {},
   "outputs": [],
   "source": [
    "X_train_scaled, X_test_scaled, y_train_scaled, y_test_scaled = train_test_split(X_scaled, y_scaled, test_size=0.2, random_state=42)"
   ]
  },
  {
   "cell_type": "code",
   "execution_count": 60,
   "metadata": {},
   "outputs": [
    {
     "data": {
      "text/plain": [
       "Ridge(alpha=0.001, copy_X=True, fit_intercept=True, max_iter=None,\n",
       "   normalize=False, random_state=None, solver='auto', tol=0.001)"
      ]
     },
     "execution_count": 60,
     "metadata": {},
     "output_type": "execute_result"
    }
   ],
   "source": [
    "lr_3.fit(X_train_scaled, y_train_scaled)"
   ]
  },
  {
   "cell_type": "code",
   "execution_count": 61,
   "metadata": {},
   "outputs": [
    {
     "data": {
      "text/plain": [
       "array([0.44493762, 0.43109871, 0.51299069, 0.26711805, 0.54446537,\n",
       "       0.44679615, 0.37691202, 0.36009024, 0.44867764, 0.55845893,\n",
       "       0.46169088, 0.38143237, 0.47327573, 0.42451011, 0.31053857,\n",
       "       0.4234604 , 0.4672356 , 0.32277313, 0.37531404, 0.3891214 ])"
      ]
     },
     "execution_count": 61,
     "metadata": {},
     "output_type": "execute_result"
    }
   ],
   "source": [
    "y_pred_3_train_scaled = lr_3.predict(X_train_scaled)\n",
    "y_pred_3_train_scaled[0:20]"
   ]
  },
  {
   "cell_type": "code",
   "execution_count": 62,
   "metadata": {},
   "outputs": [
    {
     "name": "stdout",
     "output_type": "stream",
     "text": [
      "Training Set R^2: 0.6443999375373357\n",
      "Training Set Root Mean Squared Error: 0.054899365404627955\n"
     ]
    }
   ],
   "source": [
    "print(\"Training Set R^2: {}\".format(lr_3.score(X_train_scaled, y_train_scaled)))\n",
    "rmse_3_train_scaled = np.sqrt(mean_squared_error(y_train_scaled, y_pred_3_train_scaled))\n",
    "print(\"Training Set Root Mean Squared Error: {}\".format(rmse_3_train_scaled))"
   ]
  },
  {
   "cell_type": "code",
   "execution_count": 63,
   "metadata": {},
   "outputs": [
    {
     "data": {
      "text/plain": [
       "array([0.38988462, 0.38239639, 0.33830041, 0.38303357, 0.3921521 ,\n",
       "       0.45145717, 0.37606612, 0.34454399, 0.38523108, 0.372456  ,\n",
       "       0.38591119, 0.48510493, 0.32386365, 0.31947295, 0.53130749,\n",
       "       0.17173156, 0.42484876, 0.48238201, 0.49212788, 0.40509016])"
      ]
     },
     "execution_count": 63,
     "metadata": {},
     "output_type": "execute_result"
    }
   ],
   "source": [
    "y_pred_3_test_scaled = lr_3.predict(X_test_scaled)\n",
    "y_pred_3_test_scaled[0:20]"
   ]
  },
  {
   "cell_type": "code",
   "execution_count": 64,
   "metadata": {},
   "outputs": [
    {
     "name": "stdout",
     "output_type": "stream",
     "text": [
      "Test Set R^2: 0.6305999938088809\n",
      "Test Set Root Mean Squared Error: 0.05418661665592595\n"
     ]
    }
   ],
   "source": [
    "print(\"Test Set R^2: {}\".format(lr_3.score(X_test_scaled, y_test_scaled)))\n",
    "rmse_3_test_scaled = np.sqrt(mean_squared_error(y_test_scaled, y_pred_3_test_scaled))\n",
    "print(\"Test Set Root Mean Squared Error: {}\".format(rmse_3_test_scaled))"
   ]
  },
  {
   "cell_type": "code",
   "execution_count": 65,
   "metadata": {},
   "outputs": [
    {
     "data": {
      "text/plain": [
       "avgAnnCount                      -0.412942\n",
       "incidenceRate                     0.526562\n",
       "medIncome                         0.025883\n",
       "popEst2015                        0.024980\n",
       "povertyPercent                   -0.467214\n",
       "studyPerCap                       0.005271\n",
       "MedianAge                         0.118236\n",
       "MedianAgeMale                    -0.079948\n",
       "MedianAgeFemale                   0.176237\n",
       "AvgHouseholdSize                 -0.031973\n",
       "PercentMarried                    0.323118\n",
       "PctNoHS18_24                     -0.003259\n",
       "PctHS18_24                        0.047229\n",
       "PctSomeCol18_24                  -0.024950\n",
       "PctBachDeg18_24                  -0.028001\n",
       "PctHS25_Over                      0.231353\n",
       "PctBachDeg25_Over                -0.064317\n",
       "PctEmployed16_Over                1.027827\n",
       "PctUnemployed16_Over              0.012912\n",
       "PctPrivateCoverage               -0.954980\n",
       "PctPrivateCoverageAlone           0.026920\n",
       "PctEmpPrivCoverage                0.181727\n",
       "PctPublicCoverage                -0.211387\n",
       "PctPublicCoverageAlone           -0.047208\n",
       "PctWhite                         -0.367722\n",
       "PctBlack                          0.073195\n",
       "PctAsian                         -0.048745\n",
       "PctOtherRace                     -0.040395\n",
       "PctMarriedHouseholds             -0.153554\n",
       "BirthRate                        -0.044669\n",
       "PctSomeCol18_24_isnull            0.000899\n",
       "PctEmployed16_Over_isnull         0.002400\n",
       "PctPrivateCoverageAlone_isnull    0.001385\n",
       "age_gt_100                        0.012465\n",
       "household_lt_1                   -0.002375\n",
       "binnedInc_(34218.1, 37413.8]      0.007860\n",
       "binnedInc_(37413.8, 40362.7]      0.000381\n",
       "binnedInc_(40362.7, 42724.4]     -0.004151\n",
       "binnedInc_(42724.4, 45201]       -0.000248\n",
       "binnedInc_(45201, 48021.6]       -0.001933\n",
       "binnedInc_(48021.6, 51046.4]     -0.006752\n",
       "binnedInc_(51046.4, 54545.6]     -0.006666\n",
       "binnedInc_(54545.6, 61494.5]     -0.006051\n",
       "binnedInc_(61494.5, 125635]      -0.002603\n",
       "binnedInc_[22640, 34218.1]        0.020164\n",
       "ALAND_SQMI                        0.000797\n",
       "AWATER_SQMI                      -0.083951\n",
       "INTPTLAT                          0.040139\n",
       "INTPTLONG                         0.100024\n",
       "State_Alabama                     0.012834\n",
       "State_Alaska                      0.119987\n",
       "State_Arizona                     0.049076\n",
       "State_Arkansas                    0.008331\n",
       "State_California                  0.060184\n",
       "State_Colorado                    0.007437\n",
       "State_Connecticut                -0.064751\n",
       "State_Delaware                   -0.000587\n",
       "State_District of Columbia        0.053992\n",
       "State_Florida                     0.071045\n",
       "State_Georgia                    -0.007658\n",
       "State_Hawaii                     -0.165768\n",
       "State_Idaho                      -0.001354\n",
       "State_Illinois                   -0.029892\n",
       "State_Indiana                    -0.011858\n",
       "State_Iowa                       -0.055867\n",
       "State_Kansas                      0.008857\n",
       "State_Kentucky                    0.002826\n",
       "State_Louisiana                   0.007612\n",
       "State_Maine                      -0.039964\n",
       "State_Maryland                    0.023819\n",
       "State_Massachusetts              -0.007023\n",
       "State_Michigan                   -0.037226\n",
       "State_Minnesota                  -0.021926\n",
       "State_Mississippi                 0.018244\n",
       "State_Missouri                   -0.015527\n",
       "State_Montana                     0.005300\n",
       "State_Nebraska                   -0.025798\n",
       "State_Nevada                      0.115740\n",
       "State_New Hampshire              -0.047724\n",
       "State_New Jersey                  0.001720\n",
       "State_New Mexico                  0.024588\n",
       "State_New York                   -0.024129\n",
       "State_North Carolina             -0.037396\n",
       "State_North Dakota               -0.008977\n",
       "State_Ohio                       -0.041633\n",
       "State_Oklahoma                    0.030241\n",
       "State_Oregon                      0.038715\n",
       "State_Pennsylvania               -0.030251\n",
       "State_Rhode Island               -0.068689\n",
       "State_South Carolina              0.035257\n",
       "State_South Dakota               -0.003694\n",
       "State_Tennessee                  -0.005312\n",
       "State_Texas                       0.008605\n",
       "State_Utah                        0.050503\n",
       "State_Vermont                    -0.036088\n",
       "State_Virginia                    0.004125\n",
       "State_Washington                  0.007664\n",
       "State_West Virginia              -0.011568\n",
       "State_Wisconsin                  -0.005568\n",
       "State_Wyoming                     0.039522\n",
       "utmda_l1                         -0.423640\n",
       "mskcc_l1                         -0.580895\n",
       "mayo_l1                           0.168082\n",
       "hopkins_l1                        0.612535\n",
       "dfb_l1                            0.340205\n",
       "cleveland_l1                     -0.693127\n",
       "upmcps_l1                         1.095039\n",
       "hlmcc_l1                          0.140508\n",
       "mgs_l1                            0.385832\n",
       "nw_mem_l1                         0.222713\n",
       "chi_l1                            0.191981\n",
       "nyc_l1                           -0.649670\n",
       "atlanta_l1                       -0.557716\n",
       "dallas_l1                         0.569463\n",
       "denver_l1                        -0.398889\n",
       "los_ang_l1                        0.107690\n",
       "seattle_l1                       -0.654747\n",
       "san_fran_l1                      -0.485240\n",
       "utmda_l2                          0.054332\n",
       "mskcc_l2                         -0.314569\n",
       "mayo_l2                           0.066304\n",
       "hopkins_l2                        0.318843\n",
       "dfb_l2                            0.056354\n",
       "cleveland_l2                     -1.169038\n",
       "upmcps_l2                         0.561893\n",
       "hlmcc_l2                          0.350943\n",
       "mgs_l2                            0.084116\n",
       "nw_mem_l2                         0.100351\n",
       "chi_l2                            0.019921\n",
       "nyc_l2                           -0.361195\n",
       "atlanta_l2                       -0.329649\n",
       "dallas_l2                        -0.216936\n",
       "denver_l2                         0.603674\n",
       "los_ang_l2                        0.362503\n",
       "seattle_l2                        0.566244\n",
       "san_fran_l2                       0.416073\n",
       "onc_min_distsl1                   0.203732\n",
       "onc_min_distsl2                  -0.395432\n",
       "city_min_distsl1                 -0.572818\n",
       "city_min_distsl2                  0.327976\n",
       "sc_min_dists_l1                  -0.133971\n",
       "sc_min_dists_l2                   0.063284\n",
       "PCT_LACCESS_POP10                 0.004608\n",
       "PCT_LACCESS_LOWI10               -0.007459\n",
       "PCT_LACCESS_CHILD10              -0.063205\n",
       "PCT_LACCESS_SENIORS10            -0.000981\n",
       "PCT_LACCESS_HHNV10                0.044875\n",
       "PCT_LACCESS_POP10_isnull          0.000915\n",
       "PCT_LACCESS_LOWI10_isnull         0.000915\n",
       "PCT_LACCESS_CHILD10_isnull        0.000915\n",
       "PCT_LACCESS_SENIORS10_isnull      0.000915\n",
       "PCT_LACCESS_HHNV10_isnull        -0.026791\n",
       "FOODINSEC_00_02                   0.011638\n",
       "FOODINSEC_07_09                  -0.004006\n",
       "FOODINSEC_10_12                   0.008050\n",
       "CH_FOODINSEC_02_12               -0.000524\n",
       "CH_FOODINSEC_09_12                0.021595\n",
       "VLFOODSEC_00_02                  -0.010776\n",
       "VLFOODSEC_07_09                   0.009846\n",
       "VLFOODSEC_10_12                   0.004365\n",
       "CH_VLFOODSEC_02_12                0.013619\n",
       "CH_VLFOODSEC_09_12               -0.007583\n",
       "FOODINSEC_CHILD_01_07             0.034305\n",
       "FOODINSEC_CHILD_03_11            -0.045582\n",
       "FOODINSEC_00_02_isnull           -0.000828\n",
       "FOODINSEC_07_09_isnull           -0.000828\n",
       "FOODINSEC_10_12_isnull           -0.000828\n",
       "CH_FOODINSEC_02_12_isnull        -0.000828\n",
       "CH_FOODINSEC_09_12_isnull        -0.000828\n",
       "VLFOODSEC_00_02_isnull           -0.000828\n",
       "VLFOODSEC_07_09_isnull           -0.000828\n",
       "VLFOODSEC_10_12_isnull           -0.000828\n",
       "CH_VLFOODSEC_02_12_isnull        -0.000828\n",
       "CH_VLFOODSEC_09_12_isnull        -0.000828\n",
       "FOODINSEC_CHILD_01_07_isnull     -0.000828\n",
       "FOODINSEC_CHILD_03_11_isnull     -0.000828\n",
       "PCT_LOCLFARM07                    0.098353\n",
       "PCT_LOCLSALE07                    0.026850\n",
       "PC_DIRSALES07                    -0.074385\n",
       "FMRKT09                           0.058916\n",
       "FMRKT13                          -0.076176\n",
       "PCH_FMRKT_09_13                  -0.744230\n",
       "FMRKTPTH09                        0.018925\n",
       "FMRKTPTH13                       -0.014993\n",
       "PCH_FMRKTPTH_09_13                0.804181\n",
       "PCT_FMRKT_SNAP13                 -0.009986\n",
       "PCT_FMRKT_WIC13                   0.005838\n",
       "PCT_FMRKT_WICCASH13               0.005435\n",
       "PCT_FMRKT_SFMNP13                -0.000339\n",
       "PCT_FRMKT_FRVEG13                -0.005808\n",
       "PCT_FRMKT_ANMLPROD13              0.002359\n",
       "PCT_FMRKT_OTHER13                 0.002316\n",
       "VEG_FARMS07                      -0.119403\n",
       "VEG_ACRES07                       0.144140\n",
       "VEG_ACRESPTH07                   -0.086441\n",
       "FRESHVEG_FARMS07                  0.021904\n",
       "FRESHVEG_ACRES07                 -0.126902\n",
       "FRESHVEG_ACRESPTH07               0.014309\n",
       "ORCHARD_FARMS07                   0.026984\n",
       "ORCHARD_ACRES07                  -0.030743\n",
       "ORCHARD_ACRESPTH07               -0.050503\n",
       "BERRY_FARMS07                     0.006911\n",
       "BERRY_ACRES07                    -0.039701\n",
       "BERRY_ACRESPTH07                  0.101595\n",
       "SLHOUSE07                        -0.035620\n",
       "GHVEG_FARMS07                     0.037954\n",
       "GHVEG_SQFT07                      0.006764\n",
       "GHVEG_SQFTPTH07                  -0.036405\n",
       "FOODHUB12                         0.000106\n",
       "CSA07                            -0.006461\n",
       "AGRITRSM_OPS07                    0.004579\n",
       "AGRITRSM_RCT07                    0.039918\n",
       "FARM_TO_SCHOOL                   -0.012196\n",
       "PCT_LOCLFARM07_isnull             0.026892\n",
       "PCT_LOCLSALE07_isnull            -0.007825\n",
       "PC_DIRSALES07_isnull              0.006309\n",
       "FMRKT09_isnull                    0.068444\n",
       "FMRKT13_isnull                    0.000000\n",
       "PCH_FMRKT_09_13_isnull            0.002559\n",
       "FMRKTPTH09_isnull                 0.068444\n",
       "FMRKTPTH13_isnull                 0.000000\n",
       "PCH_FMRKTPTH_09_13_isnull         0.002559\n",
       "PCT_FMRKT_SNAP13_isnull           0.000364\n",
       "PCT_FMRKT_WIC13_isnull            0.000364\n",
       "PCT_FMRKT_WICCASH13_isnull        0.000364\n",
       "PCT_FMRKT_SFMNP13_isnull          0.000364\n",
       "PCT_FRMKT_FRVEG13_isnull          0.000364\n",
       "PCT_FRMKT_ANMLPROD13_isnull       0.000364\n",
       "PCT_FMRKT_OTHER13_isnull          0.000364\n",
       "VEG_FARMS07_isnull               -0.006274\n",
       "VEG_ACRES07_isnull               -0.032197\n",
       "VEG_ACRESPTH07_isnull             0.036247\n",
       "FRESHVEG_FARMS07_isnull          -0.006274\n",
       "FRESHVEG_ACRES07_isnull           0.001361\n",
       "FRESHVEG_ACRESPTH07_isnull        0.001361\n",
       "ORCHARD_FARMS07_isnull           -0.006274\n",
       "ORCHARD_ACRES07_isnull           -0.000982\n",
       "ORCHARD_ACRESPTH07_isnull        -0.000982\n",
       "BERRY_FARMS07_isnull             -0.006274\n",
       "BERRY_ACRES07_isnull             -0.000156\n",
       "BERRY_ACRESPTH07_isnull          -0.000156\n",
       "SLHOUSE07_isnull                  0.000000\n",
       "GHVEG_FARMS07_isnull             -0.006274\n",
       "GHVEG_SQFT07_isnull              -0.001538\n",
       "GHVEG_SQFTPTH07_isnull           -0.001538\n",
       "FOODHUB12_isnull                  0.000000\n",
       "CSA07_isnull                      0.000000\n",
       "AGRITRSM_OPS07_isnull             0.000000\n",
       "AGRITRSM_RCT07_isnull             0.001356\n",
       "FARM_TO_SCHOOL_isnull             0.000000\n",
       "PCT_DIABETES_ADULTS09             0.021555\n",
       "PCT_DIABETES_ADULTS10            -0.015680\n",
       "PCT_OBESE_ADULTS09               -0.011761\n",
       "PCT_OBESE_ADULTS10                0.090292\n",
       "PCT_OBESE_ADULTS13                0.005671\n",
       "PCT_OBESE_CHILD08                -0.089592\n",
       "PCT_OBESE_CHILD11                 0.058263\n",
       "PCH_OBESE_CHILD_08_11            -0.075917\n",
       "PCT_HSPA09                        0.035455\n",
       "RECFAC07                          0.040095\n",
       "RECFAC12                          0.282045\n",
       "PCH_RECFAC_07_12                 -0.326801\n",
       "RECFACPTH07                      -0.091802\n",
       "RECFACPTH12                       0.042145\n",
       "PCH_RECFACPTH_07_12               0.328436\n",
       "NATAMEN                          -0.018938\n",
       "PCT_OBESE_CHILD08_isnull          0.027807\n",
       "PCT_OBESE_CHILD11_isnull          0.011486\n",
       "PCH_OBESE_CHILD_08_11_isnull     -0.028481\n",
       "PCT_HSPA09_isnull                 0.019456\n",
       "PCH_RECFAC_07_12_isnull           0.002844\n",
       "PCH_RECFACPTH_07_12_isnull        0.002844\n",
       "NATAMEN_isnull                    0.022663\n",
       "PERPOV10                          0.004214\n",
       "CHILDPOVRATE10                    0.282228\n",
       "PERCHLDPOV10                      0.001310\n",
       "METRO13                           0.003124\n",
       "POPLOSS00                         0.012914\n",
       "povertyPercent_log                0.334399\n",
       "povertyPercent_sqrd               0.192828\n",
       "MedianAge_log                    -0.059034\n",
       "MedianAgeFemale_sqrd             -0.233077\n",
       "AvgHouseholdSize_log              0.059129\n",
       "PercentMarried_log               -0.091666\n",
       "PercentMarried_sqrd              -0.162167\n",
       "PctSomeCol18_24_log               0.076260\n",
       "PctSomeCol18_24_sqrd             -0.016021\n",
       "PctHS25_Over_sqrd                -0.183779\n",
       "PctBachDeg25_Over_log             0.011673\n",
       "PctEmployed16_Over_log           -0.728627\n",
       "PctEmployed16_Over_sqrd          -0.439946\n",
       "PctPrivateCoverage_log            1.118310\n",
       "PctEmpPrivCoverage_log           -0.224624\n",
       "PctPublicCoverage_log             0.210337\n",
       "PctPublicCoverageAlone_log       -0.150046\n",
       "PctPublicCoverageAlone_sqrd       0.238117\n",
       "PctWhite_sqrd                     0.269418\n",
       "PctBlack_sqrd                    -0.262882\n",
       "INTPTLONG_sqrd                   -0.031233\n",
       "mskcc_l1_log                      0.453731\n",
       "mayo_l1_log                       0.024714\n",
       "mayo_l1_sqrd                     -0.490143\n",
       "dfb_l1_log                       -0.255841\n",
       "dfb_l1_sqrd                      -0.801685\n",
       "cleveland_l1_log                 -0.044946\n",
       "cleveland_l1_sqrd                 0.547305\n",
       "upmcps_l1_log                    -0.038655\n",
       "mgs_l1_log                        0.086242\n",
       "atlanta_l1_log                    0.383312\n",
       "denver_l1_sqrd                    0.216790\n",
       "los_ang_l1_sqrd                  -0.768679\n",
       "seattle_l1_log                    0.100844\n",
       "hopkins_l2_log                    0.048275\n",
       "dfb_l2_log                        0.105696\n",
       "cleveland_l2_log                  0.127481\n",
       "upmcps_l2_log                     0.157068\n",
       "mgs_l2_log                        0.117210\n",
       "atlanta_l2_log                   -0.145663\n",
       "city_min_distsl1_sqrd             1.203190\n",
       "sc_min_dists_l1_log              -0.007819\n",
       "PCT_LACCESS_CHILD10_sqrd          0.036778\n",
       "PCT_LACCESS_HHNV10_sqrd          -0.007085\n",
       "PC_DIRSALES07_sqrd                0.112094\n",
       "FMRKT13_sqrd                      0.116470\n",
       "PCH_FMRKT_09_13_sqrd             -0.004914\n",
       "PCT_OBESE_ADULTS13_log            0.011088\n",
       "PCT_OBESE_ADULTS13_sqrd           0.001227\n",
       "CHILDPOVRATE10_log               -0.294509\n",
       "dtype: float64"
      ]
     },
     "execution_count": 65,
     "metadata": {},
     "output_type": "execute_result"
    }
   ],
   "source": [
    "lr_3_coeffs_scaled = pd.Series(lr_3.coef_, index=X_scaled.columns) \n",
    "lr_3_coeffs_scaled"
   ]
  },
  {
   "cell_type": "code",
   "execution_count": 66,
   "metadata": {},
   "outputs": [],
   "source": [
    "X_train_corrwith_scaled = X_train_scaled.corrwith(y_train_scaled)"
   ]
  },
  {
   "cell_type": "code",
   "execution_count": 67,
   "metadata": {},
   "outputs": [
    {
     "data": {
      "text/plain": [
       "0.5213414634146342"
      ]
     },
     "execution_count": 67,
     "metadata": {},
     "output_type": "execute_result"
    }
   ],
   "source": [
    "same_sign_scaled = ((X_train_corrwith_scaled >= 0) & (lr_3_coeffs_scaled >= 0) | (X_train_corrwith_scaled < 0) & (lr_3_coeffs_scaled < 0))\n",
    "same_sign_scaled.sum()/len(same_sign_scaled)"
   ]
  },
  {
   "cell_type": "code",
   "execution_count": 68,
   "metadata": {
    "scrolled": true
   },
   "outputs": [
    {
     "data": {
      "text/plain": [
       "True     171\n",
       "False    157\n",
       "dtype: int64"
      ]
     },
     "execution_count": 68,
     "metadata": {},
     "output_type": "execute_result"
    }
   ],
   "source": [
    "same_sign_scaled.value_counts()"
   ]
  },
  {
   "cell_type": "markdown",
   "metadata": {},
   "source": [
    "The 'same_sign' proportion decreases slightly, showing that scaling won't change this proportion significantly."
   ]
  },
  {
   "cell_type": "markdown",
   "metadata": {},
   "source": [
    "## Full DataFrame with Normalized Ridge Regression"
   ]
  },
  {
   "cell_type": "markdown",
   "metadata": {},
   "source": [
    "Next, the normalization parameter for Ridge Regression is tried."
   ]
  },
  {
   "cell_type": "code",
   "execution_count": 69,
   "metadata": {},
   "outputs": [
    {
     "data": {
      "text/plain": [
       "Ridge(alpha=0.001, copy_X=True, fit_intercept=True, max_iter=None,\n",
       "   normalize=True, random_state=None, solver='auto', tol=0.001)"
      ]
     },
     "execution_count": 69,
     "metadata": {},
     "output_type": "execute_result"
    }
   ],
   "source": [
    "lr_3n = linear_model.Ridge(alpha=0.001, normalize = True)\n",
    "lr_3n"
   ]
  },
  {
   "cell_type": "code",
   "execution_count": 70,
   "metadata": {},
   "outputs": [],
   "source": [
    "X_train_n, X_test_n, y_train_n, y_test_n = train_test_split(X, y, test_size=0.2, random_state=42)"
   ]
  },
  {
   "cell_type": "code",
   "execution_count": 71,
   "metadata": {
    "scrolled": false
   },
   "outputs": [
    {
     "data": {
      "text/plain": [
       "Ridge(alpha=0.001, copy_X=True, fit_intercept=True, max_iter=None,\n",
       "   normalize=True, random_state=None, solver='auto', tol=0.001)"
      ]
     },
     "execution_count": 71,
     "metadata": {},
     "output_type": "execute_result"
    }
   ],
   "source": [
    "lr_3n.fit(X_train_n, y_train_n)"
   ]
  },
  {
   "cell_type": "code",
   "execution_count": 72,
   "metadata": {},
   "outputs": [
    {
     "data": {
      "text/plain": [
       "array([193.52076956, 190.00029232, 213.90371792, 140.56854298,\n",
       "       224.65419743, 195.58593097, 175.70206504, 169.70481956,\n",
       "       194.99969583, 225.98053407, 203.1442749 , 177.49882336,\n",
       "       203.24392608, 188.89962477, 151.39027409, 188.64776982,\n",
       "       201.29350085, 155.69004109, 172.0786913 , 175.65970383])"
      ]
     },
     "execution_count": 72,
     "metadata": {},
     "output_type": "execute_result"
    }
   ],
   "source": [
    "y_pred_3n_train = lr_3n.predict(X_train_n)\n",
    "y_pred_3n_train[0:20]"
   ]
  },
  {
   "cell_type": "code",
   "execution_count": 73,
   "metadata": {},
   "outputs": [
    {
     "name": "stdout",
     "output_type": "stream",
     "text": [
      "Training Set R^2: 0.6391005116938605\n",
      "Training Set Root Mean Squared Error: 16.76353013876298\n"
     ]
    }
   ],
   "source": [
    "print(\"Training Set R^2: {}\".format(lr_3n.score(X_train_n, y_train_n)))\n",
    "rmse_3n_train = np.sqrt(mean_squared_error(y_train_n, y_pred_3n_train))\n",
    "print(\"Training Set Root Mean Squared Error: {}\".format(rmse_3n_train))"
   ]
  },
  {
   "cell_type": "code",
   "execution_count": 74,
   "metadata": {},
   "outputs": [
    {
     "data": {
      "text/plain": [
       "array([177.56281272, 174.82601959, 160.78204496, 176.20152971,\n",
       "       178.64130635, 196.50829496, 172.58157318, 165.22272956,\n",
       "       176.15359247, 172.07162774, 175.67700837, 205.92641467,\n",
       "       158.40841898, 155.76765757, 220.92569225, 113.14000725,\n",
       "       188.61185021, 206.78276153, 208.94959069, 181.93953815])"
      ]
     },
     "execution_count": 74,
     "metadata": {},
     "output_type": "execute_result"
    }
   ],
   "source": [
    "y_pred_3n_test = lr_3n.predict(X_test_n)\n",
    "y_pred_3n_test[0:20]"
   ]
  },
  {
   "cell_type": "code",
   "execution_count": 75,
   "metadata": {},
   "outputs": [
    {
     "name": "stdout",
     "output_type": "stream",
     "text": [
      "Test Set R^2: 0.613717280323078\n",
      "Test Set Root Mean Squared Error: 16.795083310509035\n"
     ]
    }
   ],
   "source": [
    "print(\"Test Set R^2: {}\".format(lr_3n.score(X_test_n, y_test_n)))\n",
    "rmse_3n_test = np.sqrt(mean_squared_error(y_test_n, y_pred_3n_test))\n",
    "print(\"Test Set Root Mean Squared Error: {}\".format(rmse_3n_test))"
   ]
  },
  {
   "cell_type": "code",
   "execution_count": 76,
   "metadata": {
    "scrolled": true
   },
   "outputs": [
    {
     "data": {
      "text/plain": [
       "avgAnnCount                      -3.185257e-03\n",
       "incidenceRate                     1.588717e-01\n",
       "medIncome                         6.086941e-05\n",
       "popEst2015                       -5.386750e-08\n",
       "povertyPercent                   -1.186347e+00\n",
       "studyPerCap                       1.854982e-04\n",
       "MedianAge                        -1.917716e-01\n",
       "MedianAgeMale                    -4.936142e-01\n",
       "MedianAgeFemale                   3.834989e-01\n",
       "AvgHouseholdSize                 -1.382834e+01\n",
       "PercentMarried                    4.241531e-01\n",
       "PctNoHS18_24                     -1.313290e-02\n",
       "PctHS18_24                        2.106072e-01\n",
       "PctSomeCol18_24                   1.408073e-01\n",
       "PctBachDeg18_24                  -2.069110e-01\n",
       "PctHS25_Over                      1.215832e+00\n",
       "PctBachDeg25_Over                -6.908604e-01\n",
       "PctEmployed16_Over                5.519394e-01\n",
       "PctUnemployed16_Over              1.270967e-01\n",
       "PctPrivateCoverage               -2.135922e+00\n",
       "PctPrivateCoverageAlone           9.591723e-02\n",
       "PctEmpPrivCoverage                2.673522e-01\n",
       "PctPublicCoverage                -6.195820e-01\n",
       "PctPublicCoverageAlone           -2.503262e-01\n",
       "PctWhite                         -6.317939e-01\n",
       "PctBlack                          2.823788e-02\n",
       "PctAsian                         -2.553394e-01\n",
       "PctOtherRace                     -2.998829e-01\n",
       "PctMarriedHouseholds             -8.518509e-01\n",
       "BirthRate                        -6.403039e-01\n",
       "PctSomeCol18_24_isnull            1.726860e-01\n",
       "PctEmployed16_Over_isnull         1.042838e+00\n",
       "PctPrivateCoverageAlone_isnull    3.627542e-01\n",
       "age_gt_100                        3.307547e+00\n",
       "household_lt_1                   -1.214816e+00\n",
       "binnedInc_(34218.1, 37413.8]      1.842515e+00\n",
       "binnedInc_(37413.8, 40362.7]     -1.873905e-02\n",
       "binnedInc_(40362.7, 42724.4]     -1.367374e+00\n",
       "binnedInc_(42724.4, 45201]        3.080730e-02\n",
       "binnedInc_(45201, 48021.6]       -3.970914e-01\n",
       "binnedInc_(48021.6, 51046.4]     -1.835232e+00\n",
       "binnedInc_(51046.4, 54545.6]     -1.871373e+00\n",
       "binnedInc_(54545.6, 61494.5]     -1.471812e+00\n",
       "binnedInc_(61494.5, 125635]      -3.522925e-01\n",
       "binnedInc_[22640, 34218.1]        5.262438e+00\n",
       "ALAND_SQMI                       -1.246743e-04\n",
       "AWATER_SQMI                      -2.742276e-03\n",
       "INTPTLAT                          1.899710e+00\n",
       "INTPTLONG                         1.604629e-02\n",
       "State_Alabama                    -7.570728e-01\n",
       "State_Alaska                      7.705332e+00\n",
       "State_Arizona                     1.039674e+01\n",
       "State_Arkansas                    6.035979e+00\n",
       "State_California                  1.893717e+01\n",
       "State_Colorado                   -1.609405e+00\n",
       "State_Connecticut                -2.308055e+01\n",
       "State_Delaware                    5.760620e-01\n",
       "State_District of Columbia        1.574430e+01\n",
       "State_Florida                     1.532869e+01\n",
       "State_Georgia                    -5.358310e+00\n",
       "State_Hawaii                     -1.029130e+01\n",
       "State_Idaho                       1.187658e+00\n",
       "State_Illinois                   -8.851115e+00\n",
       "State_Indiana                    -1.562064e+00\n",
       "State_Iowa                       -9.666658e+00\n",
       "State_Kansas                      3.107284e+00\n",
       "State_Kentucky                    2.433750e+00\n",
       "State_Louisiana                   3.358957e+00\n",
       "State_Maine                      -1.312048e+01\n",
       "State_Maryland                    4.062757e+00\n",
       "State_Massachusetts              -1.283415e+01\n",
       "State_Michigan                   -1.067208e+01\n",
       "State_Minnesota                  -2.980093e+00\n",
       "State_Mississippi                 5.896368e+00\n",
       "State_Missouri                   -1.742681e+00\n",
       "State_Montana                     1.141625e+00\n",
       "State_Nebraska                   -3.432202e+00\n",
       "State_Nevada                      2.858246e+01\n",
       "State_New Hampshire              -1.592893e+01\n",
       "State_New Jersey                 -4.963348e+00\n",
       "State_New Mexico                  5.178583e+00\n",
       "State_New York                   -1.392539e+01\n",
       "State_North Carolina             -1.115034e+01\n",
       "State_North Dakota                1.191203e-01\n",
       "State_Ohio                       -6.864345e+00\n",
       "State_Oklahoma                    1.058731e+01\n",
       "State_Oregon                      1.325608e+01\n",
       "State_Pennsylvania               -8.724413e+00\n",
       "State_Rhode Island               -2.288576e+01\n",
       "State_South Carolina              3.089577e+00\n",
       "State_South Dakota               -1.799983e+00\n",
       "State_Tennessee                   2.822538e-01\n",
       "State_Texas                       6.120650e+00\n",
       "State_Utah                        5.934805e+00\n",
       "State_Vermont                    -1.413271e+01\n",
       "State_Virginia                    5.628524e+00\n",
       "State_Washington                  3.392168e+00\n",
       "State_West Virginia              -3.058774e+00\n",
       "State_Wisconsin                  -3.068754e+00\n",
       "State_Wyoming                     1.153134e+01\n",
       "utmda_l1                         -5.160015e-01\n",
       "mskcc_l1                         -3.539685e-01\n",
       "mayo_l1                           1.489187e-01\n",
       "hopkins_l1                        1.672211e-01\n",
       "dfb_l1                            5.693347e-03\n",
       "cleveland_l1                     -2.437368e-01\n",
       "upmcps_l1                         4.004582e-01\n",
       "hlmcc_l1                         -8.621462e-03\n",
       "mgs_l1                            1.576029e-02\n",
       "nw_mem_l1                         4.038479e-01\n",
       "chi_l1                            3.935781e-01\n",
       "nyc_l1                           -3.554255e-01\n",
       "atlanta_l1                       -5.218207e-01\n",
       "dallas_l1                         3.411333e-01\n",
       "denver_l1                        -3.034370e-01\n",
       "los_ang_l1                       -1.109314e-01\n",
       "seattle_l1                       -3.302907e-01\n",
       "san_fran_l1                      -9.329462e-01\n",
       "utmda_l2                         -2.552168e-01\n",
       "mskcc_l2                         -2.164586e-01\n",
       "mayo_l2                           1.820239e-01\n",
       "hopkins_l2                       -6.625014e-02\n",
       "dfb_l2                           -2.107442e-01\n",
       "cleveland_l2                     -3.446665e-01\n",
       "upmcps_l2                        -4.262941e-02\n",
       "hlmcc_l2                          3.748433e-01\n",
       "mgs_l2                           -2.074846e-01\n",
       "nw_mem_l2                        -3.487490e-01\n",
       "chi_l2                           -3.630758e-01\n",
       "nyc_l2                           -2.181730e-01\n",
       "atlanta_l2                       -4.970831e-01\n",
       "dallas_l2                        -1.977086e-01\n",
       "denver_l2                         1.313015e+00\n",
       "los_ang_l2                        1.343833e+00\n",
       "seattle_l2                        3.523360e-01\n",
       "san_fran_l2                       3.428940e-01\n",
       "onc_min_distsl1                   1.132528e-02\n",
       "onc_min_distsl2                  -1.467577e-01\n",
       "city_min_distsl1                 -1.680839e+00\n",
       "city_min_distsl2                  1.194448e+00\n",
       "sc_min_dists_l1                  -2.152753e+00\n",
       "sc_min_dists_l2                   1.116878e+00\n",
       "PCT_LACCESS_POP10                 9.409709e-03\n",
       "PCT_LACCESS_LOWI10               -4.837560e-02\n",
       "PCT_LACCESS_CHILD10              -4.734989e-01\n",
       "PCT_LACCESS_SENIORS10            -9.129028e-02\n",
       "PCT_LACCESS_HHNV10                3.187009e-01\n",
       "PCT_LACCESS_POP10_isnull          2.340103e-01\n",
       "PCT_LACCESS_LOWI10_isnull         2.340103e-01\n",
       "PCT_LACCESS_CHILD10_isnull        2.340103e-01\n",
       "PCT_LACCESS_SENIORS10_isnull      2.340103e-01\n",
       "PCT_LACCESS_HHNV10_isnull        -7.898708e+00\n",
       "FOODINSEC_00_02                   2.576040e-01\n",
       "FOODINSEC_07_09                   6.848823e-03\n",
       "FOODINSEC_10_12                   2.180339e-01\n",
       "CH_FOODINSEC_02_12                3.186558e-02\n",
       "CH_FOODINSEC_09_12                1.150907e+00\n",
       "VLFOODSEC_00_02                  -7.180690e-01\n",
       "VLFOODSEC_07_09                   6.040356e-01\n",
       "VLFOODSEC_10_12                   1.965191e-01\n",
       "CH_VLFOODSEC_02_12                8.317114e-01\n",
       "CH_VLFOODSEC_09_12               -8.652222e-01\n",
       "FOODINSEC_CHILD_01_07             1.195384e+00\n",
       "FOODINSEC_CHILD_03_11            -1.621299e+00\n",
       "FOODINSEC_00_02_isnull           -4.183033e-01\n",
       "FOODINSEC_07_09_isnull           -4.183033e-01\n",
       "FOODINSEC_10_12_isnull           -4.183033e-01\n",
       "CH_FOODINSEC_02_12_isnull        -4.183033e-01\n",
       "CH_FOODINSEC_09_12_isnull        -4.183033e-01\n",
       "VLFOODSEC_00_02_isnull           -4.183033e-01\n",
       "VLFOODSEC_07_09_isnull           -4.183033e-01\n",
       "VLFOODSEC_10_12_isnull           -4.183033e-01\n",
       "CH_VLFOODSEC_02_12_isnull        -4.183033e-01\n",
       "CH_VLFOODSEC_09_12_isnull        -4.183033e-01\n",
       "FOODINSEC_CHILD_01_07_isnull     -4.183033e-01\n",
       "FOODINSEC_CHILD_03_11_isnull     -4.183033e-01\n",
       "PCT_LOCLFARM07                    2.839026e-01\n",
       "PCT_LOCLSALE07                    2.477681e-01\n",
       "PC_DIRSALES07                    -1.138689e-01\n",
       "FMRKT09                           1.117185e-01\n",
       "FMRKT13                          -9.977854e-02\n",
       "PCH_FMRKT_09_13                  -1.073666e-01\n",
       "FMRKTPTH09                        6.308630e+00\n",
       "FMRKTPTH13                       -4.566428e+00\n",
       "PCH_FMRKTPTH_09_13                1.118156e-01\n",
       "PCT_FMRKT_SNAP13                 -2.984519e-02\n",
       "PCT_FMRKT_WIC13                   2.059633e-02\n",
       "PCT_FMRKT_WICCASH13               1.487809e-02\n",
       "PCT_FMRKT_SFMNP13                -1.982893e-03\n",
       "PCT_FRMKT_FRVEG13                -1.723144e-02\n",
       "PCT_FRMKT_ANMLPROD13              5.763182e-03\n",
       "PCT_FMRKT_OTHER13                 8.069486e-03\n",
       "VEG_FARMS07                      -3.069144e-02\n",
       "VEG_ACRES07                       1.831747e-04\n",
       "VEG_ACRESPTH07                   -6.664179e-03\n",
       "FRESHVEG_FARMS07                  3.916023e-03\n",
       "FRESHVEG_ACRES07                 -1.792523e-04\n",
       "FRESHVEG_ACRESPTH07               3.221037e-03\n",
       "ORCHARD_FARMS07                   1.552326e-03\n",
       "ORCHARD_ACRES07                  -2.812141e-05\n",
       "ORCHARD_ACRESPTH07               -5.373214e-03\n",
       "BERRY_FARMS07                     1.088667e-02\n",
       "BERRY_ACRES07                    -3.937121e-04\n",
       "BERRY_ACRESPTH07                  3.579467e-02\n",
       "SLHOUSE07                        -2.768737e-01\n",
       "GHVEG_FARMS07                     1.362096e-01\n",
       "GHVEG_SQFT07                      2.758269e-06\n",
       "GHVEG_SQFTPTH07                  -5.780353e-04\n",
       "FOODHUB12                         1.613236e-01\n",
       "CSA07                            -5.033012e-02\n",
       "AGRITRSM_OPS07                    1.405993e-02\n",
       "AGRITRSM_RCT07                    1.451269e-06\n",
       "FARM_TO_SCHOOL                   -3.655458e+00\n",
       "PCT_LOCLFARM07_isnull             7.589944e+00\n",
       "PCT_LOCLSALE07_isnull            -2.273343e+00\n",
       "PC_DIRSALES07_isnull              1.884054e+00\n",
       "FMRKT09_isnull                    2.378870e+01\n",
       "FMRKT13_isnull                    0.000000e+00\n",
       "PCH_FMRKT_09_13_isnull            8.017748e-01\n",
       "FMRKTPTH09_isnull                 2.378870e+01\n",
       "FMRKTPTH13_isnull                 0.000000e+00\n",
       "PCH_FMRKTPTH_09_13_isnull         8.017748e-01\n",
       "PCT_FMRKT_SNAP13_isnull           1.464214e-01\n",
       "PCT_FMRKT_WIC13_isnull            1.464214e-01\n",
       "PCT_FMRKT_WICCASH13_isnull        1.464214e-01\n",
       "PCT_FMRKT_SFMNP13_isnull          1.464214e-01\n",
       "PCT_FRMKT_FRVEG13_isnull          1.464214e-01\n",
       "PCT_FRMKT_ANMLPROD13_isnull       1.464214e-01\n",
       "PCT_FMRKT_OTHER13_isnull          1.464214e-01\n",
       "VEG_FARMS07_isnull               -1.993766e+00\n",
       "VEG_ACRES07_isnull                5.789359e-01\n",
       "VEG_ACRESPTH07_isnull             6.413826e-01\n",
       "FRESHVEG_FARMS07_isnull          -1.993766e+00\n",
       "FRESHVEG_ACRES07_isnull           4.579913e-01\n",
       "FRESHVEG_ACRESPTH07_isnull        4.579913e-01\n",
       "ORCHARD_FARMS07_isnull           -1.993766e+00\n",
       "ORCHARD_ACRES07_isnull           -2.255853e-01\n",
       "ORCHARD_ACRESPTH07_isnull        -2.255853e-01\n",
       "BERRY_FARMS07_isnull             -1.993766e+00\n",
       "BERRY_ACRES07_isnull             -5.118889e-03\n",
       "BERRY_ACRESPTH07_isnull          -5.118889e-03\n",
       "SLHOUSE07_isnull                  0.000000e+00\n",
       "GHVEG_FARMS07_isnull             -1.993766e+00\n",
       "GHVEG_SQFT07_isnull              -4.817854e-01\n",
       "GHVEG_SQFTPTH07_isnull           -4.817854e-01\n",
       "FOODHUB12_isnull                  0.000000e+00\n",
       "CSA07_isnull                      0.000000e+00\n",
       "AGRITRSM_OPS07_isnull             0.000000e+00\n",
       "AGRITRSM_RCT07_isnull             3.670872e-01\n",
       "FARM_TO_SCHOOL_isnull             0.000000e+00\n",
       "PCT_DIABETES_ADULTS09             4.794645e-01\n",
       "PCT_DIABETES_ADULTS10            -2.892925e-01\n",
       "PCT_OBESE_ADULTS09               -5.979574e-02\n",
       "PCT_OBESE_ADULTS10                8.328847e-01\n",
       "PCT_OBESE_ADULTS13               -7.932666e-02\n",
       "PCT_OBESE_CHILD08                -6.319803e-01\n",
       "PCT_OBESE_CHILD11                 4.257153e-01\n",
       "PCH_OBESE_CHILD_08_11            -6.339459e-01\n",
       "PCT_HSPA09                        3.663855e-01\n",
       "RECFAC07                          6.627734e-02\n",
       "RECFAC12                          6.294189e-02\n",
       "PCH_RECFAC_07_12                 -2.009823e-01\n",
       "RECFACPTH07                      -1.799798e+01\n",
       "RECFACPTH12                       1.581645e+01\n",
       "PCH_RECFACPTH_07_12               1.930005e-01\n",
       "NATAMEN                          -1.125918e+00\n",
       "PCT_OBESE_CHILD08_isnull          6.693695e+00\n",
       "PCT_OBESE_CHILD11_isnull          3.901652e+00\n",
       "PCH_OBESE_CHILD_08_11_isnull     -7.002057e+00\n",
       "PCT_HSPA09_isnull                 6.522783e-01\n",
       "PCH_RECFAC_07_12_isnull           9.823055e-01\n",
       "PCH_RECFACPTH_07_12_isnull        9.823055e-01\n",
       "NATAMEN_isnull                    5.344573e+00\n",
       "PERPOV10                          1.167089e+00\n",
       "CHILDPOVRATE10                    1.131746e+00\n",
       "PERCHLDPOV10                      3.458303e-01\n",
       "METRO13                           1.075610e+00\n",
       "POPLOSS00                         3.942463e+00\n",
       "povertyPercent_log                1.772863e+01\n",
       "povertyPercent_sqrd               3.075048e-03\n",
       "MedianAge_log                     2.290711e+01\n",
       "MedianAgeFemale_sqrd             -8.742405e-03\n",
       "AvgHouseholdSize_log              4.449850e+01\n",
       "PercentMarried_log                5.809690e+00\n",
       "PercentMarried_sqrd              -1.244488e-03\n",
       "PctSomeCol18_24_log               5.647804e+00\n",
       "PctSomeCol18_24_sqrd             -2.431092e-03\n",
       "PctHS25_Over_sqrd                -1.519272e-02\n",
       "PctBachDeg25_Over_log             3.639368e+00\n",
       "PctEmployed16_Over_log           -4.411335e+01\n",
       "PctEmployed16_Over_sqrd           1.293873e-03\n",
       "PctPrivateCoverage_log            1.288318e+02\n",
       "PctEmpPrivCoverage_log           -1.614865e+01\n",
       "PctPublicCoverage_log             1.518649e+01\n",
       "PctPublicCoverageAlone_log       -4.069936e+00\n",
       "PctPublicCoverageAlone_sqrd       2.108298e-02\n",
       "PctWhite_sqrd                     4.029339e-03\n",
       "PctBlack_sqrd                    -6.742529e-03\n",
       "INTPTLONG_sqrd                    1.077540e-03\n",
       "mskcc_l1_log                      7.164647e+00\n",
       "mayo_l1_log                       2.689155e+00\n",
       "mayo_l1_sqrd                      5.303835e-04\n",
       "dfb_l1_log                        2.061489e+00\n",
       "dfb_l1_sqrd                       3.336160e-04\n",
       "cleveland_l1_log                 -4.665993e+00\n",
       "cleveland_l1_sqrd                 4.593423e-03\n",
       "upmcps_l1_log                     7.866267e+00\n",
       "mgs_l1_log                        3.635718e+00\n",
       "atlanta_l1_log                    5.553847e+00\n",
       "denver_l1_sqrd                   -3.507549e-03\n",
       "los_ang_l1_sqrd                  -1.099161e-02\n",
       "seattle_l1_log                    2.153747e+00\n",
       "hopkins_l2_log                    4.375116e+00\n",
       "dfb_l2_log                       -2.307278e+00\n",
       "cleveland_l2_log                  1.926713e+00\n",
       "upmcps_l2_log                     1.012893e+00\n",
       "mgs_l2_log                       -1.680207e+00\n",
       "atlanta_l2_log                   -5.413215e-01\n",
       "city_min_distsl1_sqrd             4.040447e-02\n",
       "sc_min_dists_l1_log              -3.384185e-01\n",
       "PCT_LACCESS_CHILD10_sqrd          9.847191e-03\n",
       "PCT_LACCESS_HHNV10_sqrd           3.737732e-03\n",
       "PC_DIRSALES07_sqrd                1.011766e-03\n",
       "FMRKT13_sqrd                      2.314650e-03\n",
       "PCH_FMRKT_09_13_sqrd             -3.505876e-06\n",
       "PCT_OBESE_ADULTS13_log           -3.019389e+00\n",
       "PCT_OBESE_ADULTS13_sqrd          -8.474665e-04\n",
       "CHILDPOVRATE10_log               -1.932566e+01\n",
       "dtype: float64"
      ]
     },
     "execution_count": 76,
     "metadata": {},
     "output_type": "execute_result"
    }
   ],
   "source": [
    "lr_3n_coeffs = pd.Series(lr_3n.coef_, index=X.columns) \n",
    "lr_3n_coeffs"
   ]
  },
  {
   "cell_type": "code",
   "execution_count": 77,
   "metadata": {},
   "outputs": [
    {
     "data": {
      "text/plain": [
       "avgAnnCount                      -0.139998\n",
       "incidenceRate                     0.429436\n",
       "medIncome                        -0.432210\n",
       "popEst2015                       -0.115986\n",
       "povertyPercent                    0.435167\n",
       "studyPerCap                      -0.024890\n",
       "MedianAge                         0.001862\n",
       "MedianAgeMale                    -0.017983\n",
       "MedianAgeFemale                   0.019013\n",
       "AvgHouseholdSize                 -0.041219\n",
       "PercentMarried                   -0.263055\n",
       "PctNoHS18_24                      0.090024\n",
       "PctHS18_24                        0.276894\n",
       "PctSomeCol18_24                  -0.104714\n",
       "PctBachDeg18_24                  -0.287782\n",
       "PctHS25_Over                      0.408759\n",
       "PctBachDeg25_Over                -0.493734\n",
       "PctEmployed16_Over               -0.413245\n",
       "PctUnemployed16_Over              0.375829\n",
       "PctPrivateCoverage               -0.394586\n",
       "PctPrivateCoverageAlone          -0.341052\n",
       "PctEmpPrivCoverage               -0.280062\n",
       "PctPublicCoverage                 0.413010\n",
       "PctPublicCoverageAlone            0.456392\n",
       "PctWhite                         -0.177141\n",
       "PctBlack                          0.259112\n",
       "PctAsian                         -0.195755\n",
       "PctOtherRace                     -0.197665\n",
       "PctMarriedHouseholds             -0.293178\n",
       "BirthRate                        -0.066529\n",
       "PctSomeCol18_24_isnull            0.010296\n",
       "PctEmployed16_Over_isnull        -0.014518\n",
       "PctPrivateCoverageAlone_isnull   -0.024639\n",
       "age_gt_100                        0.008669\n",
       "household_lt_1                    0.030676\n",
       "binnedInc_(34218.1, 37413.8]      0.169119\n",
       "binnedInc_(37413.8, 40362.7]      0.101870\n",
       "binnedInc_(40362.7, 42724.4]      0.049598\n",
       "binnedInc_(42724.4, 45201]        0.010155\n",
       "binnedInc_(45201, 48021.6]       -0.015803\n",
       "binnedInc_(48021.6, 51046.4]     -0.106190\n",
       "binnedInc_(51046.4, 54545.6]     -0.112792\n",
       "binnedInc_(54545.6, 61494.5]     -0.170496\n",
       "binnedInc_(61494.5, 125635]      -0.226613\n",
       "binnedInc_[22640, 34218.1]        0.294821\n",
       "ALAND_SQMI                       -0.050821\n",
       "AWATER_SQMI                       0.000514\n",
       "INTPTLAT                         -0.185177\n",
       "INTPTLONG                         0.276047\n",
       "State_Alabama                     0.075783\n",
       "State_Alaska                      0.054500\n",
       "State_Arizona                    -0.082994\n",
       "State_Arkansas                    0.119621\n",
       "State_California                 -0.103529\n",
       "State_Colorado                   -0.200528\n",
       "State_Connecticut                -0.033437\n",
       "State_Delaware                    0.004932\n",
       "State_District of Columbia        0.002289\n",
       "State_Florida                    -0.003579\n",
       "State_Georgia                     0.037446\n",
       "State_Hawaii                     -0.044220\n",
       "State_Idaho                      -0.105613\n",
       "State_Illinois                    0.023283\n",
       "State_Indiana                     0.066095\n",
       "State_Iowa                       -0.086340\n",
       "State_Kansas                     -0.073783\n",
       "State_Kentucky                    0.271715\n",
       "State_Louisiana                   0.101204\n",
       "State_Maine                       0.015787\n",
       "State_Maryland                   -0.007721\n",
       "State_Massachusetts              -0.030770\n",
       "State_Michigan                   -0.009836\n",
       "State_Minnesota                  -0.106694\n",
       "State_Mississippi                 0.147819\n",
       "State_Missouri                    0.057783\n",
       "State_Montana                    -0.064201\n",
       "State_Nebraska                   -0.101575\n",
       "State_Nevada                     -0.002917\n",
       "State_New Hampshire              -0.014391\n",
       "State_New Jersey                 -0.034649\n",
       "State_New Mexico                 -0.094130\n",
       "State_New York                   -0.035172\n",
       "State_North Carolina              0.014049\n",
       "State_North Dakota               -0.080001\n",
       "State_Ohio                        0.049821\n",
       "State_Oklahoma                    0.089426\n",
       "State_Oregon                     -0.037558\n",
       "State_Pennsylvania               -0.024602\n",
       "State_Rhode Island               -0.024929\n",
       "State_South Carolina              0.055832\n",
       "State_South Dakota               -0.066206\n",
       "State_Tennessee                   0.142068\n",
       "State_Texas                      -0.068307\n",
       "State_Utah                       -0.156488\n",
       "State_Vermont                    -0.012620\n",
       "State_Virginia                    0.040228\n",
       "State_Washington                 -0.053009\n",
       "State_West Virginia               0.089444\n",
       "State_Wisconsin                  -0.035840\n",
       "State_Wyoming                    -0.057790\n",
       "utmda_l1                         -0.136567\n",
       "mskcc_l1                         -0.232390\n",
       "mayo_l1                          -0.060940\n",
       "hopkins_l1                       -0.266875\n",
       "dfb_l1                           -0.207442\n",
       "cleveland_l1                     -0.261447\n",
       "upmcps_l1                        -0.266849\n",
       "hlmcc_l1                         -0.340472\n",
       "mgs_l1                           -0.207147\n",
       "nw_mem_l1                        -0.229712\n",
       "chi_l1                           -0.229855\n",
       "nyc_l1                           -0.233314\n",
       "atlanta_l1                       -0.357372\n",
       "dallas_l1                        -0.096663\n",
       "denver_l1                         0.258811\n",
       "los_ang_l1                        0.231239\n",
       "seattle_l1                        0.354138\n",
       "san_fran_l1                       0.278900\n",
       "utmda_l2                         -0.159682\n",
       "mskcc_l2                         -0.274257\n",
       "mayo_l2                          -0.084661\n",
       "hopkins_l2                       -0.292775\n",
       "dfb_l2                           -0.263515\n",
       "cleveland_l2                     -0.300735\n",
       "upmcps_l2                        -0.304242\n",
       "hlmcc_l2                         -0.337991\n",
       "mgs_l2                           -0.263412\n",
       "nw_mem_l2                        -0.256159\n",
       "chi_l2                           -0.256319\n",
       "nyc_l2                           -0.274649\n",
       "atlanta_l2                       -0.354811\n",
       "dallas_l2                        -0.093831\n",
       "denver_l2                         0.257148\n",
       "los_ang_l2                        0.308879\n",
       "seattle_l2                        0.325172\n",
       "san_fran_l2                       0.316731\n",
       "onc_min_distsl1                  -0.168976\n",
       "onc_min_distsl2                  -0.172797\n",
       "city_min_distsl1                 -0.042435\n",
       "city_min_distsl2                 -0.043975\n",
       "sc_min_dists_l1                  -0.066692\n",
       "sc_min_dists_l2                  -0.063516\n",
       "PCT_LACCESS_POP10                -0.228200\n",
       "PCT_LACCESS_LOWI10               -0.095829\n",
       "PCT_LACCESS_CHILD10              -0.220051\n",
       "PCT_LACCESS_SENIORS10            -0.207766\n",
       "PCT_LACCESS_HHNV10                0.339486\n",
       "PCT_LACCESS_POP10_isnull         -0.010314\n",
       "PCT_LACCESS_LOWI10_isnull        -0.010314\n",
       "PCT_LACCESS_CHILD10_isnull       -0.010314\n",
       "PCT_LACCESS_SENIORS10_isnull     -0.010314\n",
       "PCT_LACCESS_HHNV10_isnull        -0.032058\n",
       "FOODINSEC_00_02                   0.061573\n",
       "FOODINSEC_07_09                   0.146702\n",
       "FOODINSEC_10_12                   0.188080\n",
       "CH_FOODINSEC_02_12                0.221847\n",
       "CH_FOODINSEC_09_12                0.134299\n",
       "VLFOODSEC_00_02                   0.027564\n",
       "VLFOODSEC_07_09                   0.118158\n",
       "VLFOODSEC_10_12                   0.181548\n",
       "CH_VLFOODSEC_02_12                0.194726\n",
       "CH_VLFOODSEC_09_12                0.133990\n",
       "FOODINSEC_CHILD_01_07             0.024132\n",
       "FOODINSEC_CHILD_03_11             0.081665\n",
       "FOODINSEC_00_02_isnull           -0.017098\n",
       "FOODINSEC_07_09_isnull           -0.017098\n",
       "FOODINSEC_10_12_isnull           -0.017098\n",
       "CH_FOODINSEC_02_12_isnull        -0.017098\n",
       "CH_FOODINSEC_09_12_isnull        -0.017098\n",
       "VLFOODSEC_00_02_isnull           -0.017098\n",
       "VLFOODSEC_07_09_isnull           -0.017098\n",
       "VLFOODSEC_10_12_isnull           -0.017098\n",
       "CH_VLFOODSEC_02_12_isnull        -0.017098\n",
       "CH_VLFOODSEC_09_12_isnull        -0.017098\n",
       "FOODINSEC_CHILD_01_07_isnull     -0.017098\n",
       "FOODINSEC_CHILD_03_11_isnull     -0.017098\n",
       "PCT_LOCLFARM07                   -0.092918\n",
       "PCT_LOCLSALE07                   -0.020471\n",
       "PC_DIRSALES07                    -0.120764\n",
       "FMRKT09                          -0.134898\n",
       "FMRKT13                          -0.139147\n",
       "PCH_FMRKT_09_13                  -0.094603\n",
       "FMRKTPTH09                       -0.086926\n",
       "FMRKTPTH13                       -0.103780\n",
       "PCH_FMRKTPTH_09_13               -0.084482\n",
       "PCT_FMRKT_SNAP13                 -0.081165\n",
       "PCT_FMRKT_WIC13                  -0.025214\n",
       "PCT_FMRKT_WICCASH13              -0.024742\n",
       "PCT_FMRKT_SFMNP13                 0.000859\n",
       "PCT_FRMKT_FRVEG13                 0.022737\n",
       "PCT_FRMKT_ANMLPROD13             -0.019248\n",
       "PCT_FMRKT_OTHER13                 0.012024\n",
       "VEG_FARMS07                      -0.112615\n",
       "VEG_ACRES07                      -0.104728\n",
       "VEG_ACRESPTH07                   -0.112142\n",
       "FRESHVEG_FARMS07                 -0.101797\n",
       "FRESHVEG_ACRES07                 -0.079297\n",
       "FRESHVEG_ACRESPTH07              -0.071041\n",
       "ORCHARD_FARMS07                  -0.085779\n",
       "ORCHARD_ACRES07                  -0.062331\n",
       "ORCHARD_ACRESPTH07               -0.041907\n",
       "BERRY_FARMS07                    -0.051270\n",
       "BERRY_ACRES07                    -0.023492\n",
       "BERRY_ACRESPTH07                  0.023666\n",
       "SLHOUSE07                        -0.103664\n",
       "GHVEG_FARMS07                    -0.110282\n",
       "GHVEG_SQFT07                     -0.066036\n",
       "GHVEG_SQFTPTH07                   0.001211\n",
       "FOODHUB12                        -0.067566\n",
       "CSA07                            -0.133491\n",
       "AGRITRSM_OPS07                   -0.168127\n",
       "AGRITRSM_RCT07                   -0.158079\n",
       "FARM_TO_SCHOOL                   -0.099052\n",
       "PCT_LOCLFARM07_isnull             0.062115\n",
       "PCT_LOCLSALE07_isnull             0.041440\n",
       "PC_DIRSALES07_isnull              0.040988\n",
       "FMRKT09_isnull                   -0.015065\n",
       "FMRKT13_isnull                         NaN\n",
       "PCH_FMRKT_09_13_isnull            0.062339\n",
       "FMRKTPTH09_isnull                -0.015065\n",
       "FMRKTPTH13_isnull                      NaN\n",
       "PCH_FMRKTPTH_09_13_isnull         0.062339\n",
       "PCT_FMRKT_SNAP13_isnull           0.068873\n",
       "PCT_FMRKT_WIC13_isnull            0.068873\n",
       "PCT_FMRKT_WICCASH13_isnull        0.068873\n",
       "PCT_FMRKT_SFMNP13_isnull          0.068873\n",
       "PCT_FRMKT_FRVEG13_isnull          0.068873\n",
       "PCT_FRMKT_ANMLPROD13_isnull       0.068873\n",
       "PCT_FMRKT_OTHER13_isnull          0.068873\n",
       "VEG_FARMS07_isnull                0.067595\n",
       "VEG_ACRES07_isnull               -0.035981\n",
       "VEG_ACRESPTH07_isnull            -0.036729\n",
       "FRESHVEG_FARMS07_isnull           0.067595\n",
       "FRESHVEG_ACRES07_isnull           0.044529\n",
       "FRESHVEG_ACRESPTH07_isnull        0.044529\n",
       "ORCHARD_FARMS07_isnull            0.067595\n",
       "ORCHARD_ACRES07_isnull            0.006085\n",
       "ORCHARD_ACRESPTH07_isnull         0.006085\n",
       "BERRY_FARMS07_isnull              0.067595\n",
       "BERRY_ACRES07_isnull              0.082510\n",
       "BERRY_ACRESPTH07_isnull           0.082510\n",
       "SLHOUSE07_isnull                       NaN\n",
       "GHVEG_FARMS07_isnull              0.067595\n",
       "GHVEG_SQFT07_isnull              -0.049208\n",
       "GHVEG_SQFTPTH07_isnull           -0.049208\n",
       "FOODHUB12_isnull                       NaN\n",
       "CSA07_isnull                           NaN\n",
       "AGRITRSM_OPS07_isnull                  NaN\n",
       "AGRITRSM_RCT07_isnull             0.025211\n",
       "FARM_TO_SCHOOL_isnull                  NaN\n",
       "PCT_DIABETES_ADULTS09             0.535441\n",
       "PCT_DIABETES_ADULTS10             0.539451\n",
       "PCT_OBESE_ADULTS09                0.517969\n",
       "PCT_OBESE_ADULTS10                0.529023\n",
       "PCT_OBESE_ADULTS13                0.439013\n",
       "PCT_OBESE_CHILD08                 0.076485\n",
       "PCT_OBESE_CHILD11                 0.139029\n",
       "PCH_OBESE_CHILD_08_11             0.017480\n",
       "PCT_HSPA09                       -0.145572\n",
       "RECFAC07                         -0.143733\n",
       "RECFAC12                         -0.138830\n",
       "PCH_RECFAC_07_12                 -0.032902\n",
       "RECFACPTH07                      -0.215701\n",
       "RECFACPTH12                      -0.204573\n",
       "PCH_RECFACPTH_07_12              -0.015862\n",
       "NATAMEN                          -0.179379\n",
       "PCT_OBESE_CHILD08_isnull         -0.111130\n",
       "PCT_OBESE_CHILD11_isnull         -0.027754\n",
       "PCH_OBESE_CHILD_08_11_isnull     -0.086346\n",
       "PCT_HSPA09_isnull                -0.140397\n",
       "PCH_RECFAC_07_12_isnull           0.071813\n",
       "PCH_RECFACPTH_07_12_isnull        0.071813\n",
       "NATAMEN_isnull                    0.024261\n",
       "PERPOV10                          0.273511\n",
       "CHILDPOVRATE10                    0.453325\n",
       "PERCHLDPOV10                      0.302056\n",
       "METRO13                          -0.085642\n",
       "POPLOSS00                         0.043742\n",
       "povertyPercent_log                0.443893\n",
       "povertyPercent_sqrd               0.399314\n",
       "MedianAge_log                     0.020197\n",
       "MedianAgeFemale_sqrd              0.000720\n",
       "AvgHouseholdSize_log             -0.026491\n",
       "PercentMarried_log               -0.253300\n",
       "PercentMarried_sqrd              -0.270606\n",
       "PctSomeCol18_24_log              -0.089871\n",
       "PctSomeCol18_24_sqrd             -0.105170\n",
       "PctHS25_Over_sqrd                 0.389445\n",
       "PctBachDeg25_Over_log            -0.504272\n",
       "PctEmployed16_Over_log           -0.395799\n",
       "PctEmployed16_Over_sqrd          -0.422093\n",
       "PctPrivateCoverage_log           -0.372819\n",
       "PctEmpPrivCoverage_log           -0.263689\n",
       "PctPublicCoverage_log             0.415566\n",
       "PctPublicCoverageAlone_log        0.454496\n",
       "PctPublicCoverageAlone_sqrd       0.434545\n",
       "PctWhite_sqrd                    -0.161471\n",
       "PctBlack_sqrd                     0.229249\n",
       "INTPTLONG_sqrd                   -0.266463\n",
       "mskcc_l1_log                     -0.140322\n",
       "mayo_l1_log                       0.017882\n",
       "mayo_l1_sqrd                     -0.040980\n",
       "dfb_l1_log                       -0.119276\n",
       "dfb_l1_sqrd                      -0.166065\n",
       "cleveland_l1_log                 -0.272177\n",
       "cleveland_l1_sqrd                -0.144453\n",
       "upmcps_l1_log                    -0.257720\n",
       "mgs_l1_log                       -0.119360\n",
       "atlanta_l1_log                   -0.396230\n",
       "denver_l1_sqrd                    0.165899\n",
       "los_ang_l1_sqrd                   0.176109\n",
       "seattle_l1_log                    0.285513\n",
       "hopkins_l2_log                   -0.222774\n",
       "dfb_l2_log                       -0.164756\n",
       "cleveland_l2_log                 -0.312810\n",
       "upmcps_l2_log                    -0.294679\n",
       "mgs_l2_log                       -0.164757\n",
       "atlanta_l2_log                   -0.388316\n",
       "city_min_distsl1_sqrd             0.010424\n",
       "sc_min_dists_l1_log              -0.053466\n",
       "PCT_LACCESS_CHILD10_sqrd         -0.153021\n",
       "PCT_LACCESS_HHNV10_sqrd           0.130630\n",
       "PC_DIRSALES07_sqrd               -0.055254\n",
       "FMRKT13_sqrd                     -0.043233\n",
       "PCH_FMRKT_09_13_sqrd             -0.039259\n",
       "PCT_OBESE_ADULTS13_log            0.433522\n",
       "PCT_OBESE_ADULTS13_sqrd           0.442870\n",
       "CHILDPOVRATE10_log                0.446911\n",
       "dtype: float64"
      ]
     },
     "execution_count": 77,
     "metadata": {},
     "output_type": "execute_result"
    }
   ],
   "source": [
    "X_train_corrwith_n = X_train_n.corrwith(y_train_n)\n",
    "X_train_corrwith_n"
   ]
  },
  {
   "cell_type": "code",
   "execution_count": 78,
   "metadata": {},
   "outputs": [
    {
     "data": {
      "text/plain": [
       "0.5274390243902439"
      ]
     },
     "execution_count": 78,
     "metadata": {},
     "output_type": "execute_result"
    }
   ],
   "source": [
    "same_sign_n = ((X_train_corrwith_n >= 0) & (lr_3n_coeffs >= 0) | (X_train_corrwith_n < 0) & (lr_3n_coeffs < 0))\n",
    "same_sign_n.sum()/len(same_sign_n)"
   ]
  },
  {
   "cell_type": "code",
   "execution_count": 79,
   "metadata": {
    "scrolled": false
   },
   "outputs": [
    {
     "data": {
      "text/plain": [
       "True     173\n",
       "False    155\n",
       "dtype: int64"
      ]
     },
     "execution_count": 79,
     "metadata": {},
     "output_type": "execute_result"
    }
   ],
   "source": [
    "same_sign_n.value_counts()"
   ]
  },
  {
   "cell_type": "markdown",
   "metadata": {},
   "source": [
    "Again, the 'same_sign' proportion does not change much."
   ]
  },
  {
   "cell_type": "markdown",
   "metadata": {},
   "source": [
    "## Full DataFrame with svd Ridge Regression"
   ]
  },
  {
   "cell_type": "markdown",
   "metadata": {},
   "source": [
    "Next, two different solvers of the Ridge Regression algorithm are tried to see if they make any difference in the 'same_sign' proportion. First, the 'svd' solver is used."
   ]
  },
  {
   "cell_type": "code",
   "execution_count": 80,
   "metadata": {},
   "outputs": [
    {
     "data": {
      "text/plain": [
       "Ridge(alpha=0.001, copy_X=True, fit_intercept=True, max_iter=None,\n",
       "   normalize=False, random_state=None, solver='svd', tol=0.001)"
      ]
     },
     "execution_count": 80,
     "metadata": {},
     "output_type": "execute_result"
    }
   ],
   "source": [
    "lr_3svd = linear_model.Ridge(alpha=0.001, solver = 'svd')\n",
    "lr_3svd"
   ]
  },
  {
   "cell_type": "code",
   "execution_count": 81,
   "metadata": {},
   "outputs": [],
   "source": [
    "X_train_svd, X_test_svd, y_train_svd, y_test_svd = train_test_split(X, y, test_size=0.2, random_state=42)"
   ]
  },
  {
   "cell_type": "code",
   "execution_count": 82,
   "metadata": {
    "scrolled": false
   },
   "outputs": [
    {
     "data": {
      "text/plain": [
       "Ridge(alpha=0.001, copy_X=True, fit_intercept=True, max_iter=None,\n",
       "   normalize=False, random_state=None, solver='svd', tol=0.001)"
      ]
     },
     "execution_count": 82,
     "metadata": {},
     "output_type": "execute_result"
    }
   ],
   "source": [
    "lr_3svd.fit(X_train_svd, y_train_svd)"
   ]
  },
  {
   "cell_type": "code",
   "execution_count": 83,
   "metadata": {},
   "outputs": [
    {
     "data": {
      "text/plain": [
       "array([193.68147108, 190.81999526, 216.23272616, 139.13920382,\n",
       "       225.16635656, 195.66524868, 172.79393979, 170.42103656,\n",
       "       196.48290337, 230.26460023, 197.25887576, 175.61009964,\n",
       "       202.61717548, 187.70993108, 155.03822504, 188.09679189,\n",
       "       201.12734623, 156.97725576, 174.21388092, 179.27723481])"
      ]
     },
     "execution_count": 83,
     "metadata": {},
     "output_type": "execute_result"
    }
   ],
   "source": [
    "y_pred_3svd_train = lr_3svd.predict(X_train_svd)\n",
    "y_pred_3svd_train[0:20]"
   ]
  },
  {
   "cell_type": "code",
   "execution_count": 84,
   "metadata": {},
   "outputs": [
    {
     "name": "stdout",
     "output_type": "stream",
     "text": [
      "Training Set R^2: 0.6465369737006035\n",
      "Training Set Root Mean Squared Error: 16.589921925879356\n"
     ]
    }
   ],
   "source": [
    "print(\"Training Set R^2: {}\".format(lr_3svd.score(X_train_svd, y_train_svd)))\n",
    "rmse_3svd_train = np.sqrt(mean_squared_error(y_train_svd, y_pred_3svd_train))\n",
    "print(\"Training Set Root Mean Squared Error: {}\".format(rmse_3svd_train))"
   ]
  },
  {
   "cell_type": "code",
   "execution_count": 85,
   "metadata": {},
   "outputs": [
    {
     "data": {
      "text/plain": [
       "array([177.35025577, 175.37003436, 162.28118044, 175.61565048,\n",
       "       178.79949234, 195.82574314, 173.08925326, 164.09948605,\n",
       "       174.861804  , 172.19905271, 177.03470198, 206.9132008 ,\n",
       "       157.8000766 , 157.37575802, 220.00185196, 108.90253078,\n",
       "       188.29362207, 205.9232775 , 208.22259928, 183.78457325])"
      ]
     },
     "execution_count": 85,
     "metadata": {},
     "output_type": "execute_result"
    }
   ],
   "source": [
    "y_pred_3svd_test = lr_3svd.predict(X_test_svd)\n",
    "y_pred_3svd_test[0:20]"
   ]
  },
  {
   "cell_type": "code",
   "execution_count": 86,
   "metadata": {},
   "outputs": [
    {
     "name": "stdout",
     "output_type": "stream",
     "text": [
      "Test Set R^2: 0.6407645009808149\n",
      "Test Set Root Mean Squared Error: 16.196424295586358\n"
     ]
    }
   ],
   "source": [
    "print(\"Test Set R^2: {}\".format(lr_3svd.score(X_test_svd, y_test_svd)))\n",
    "rmse_3svd_test = np.sqrt(mean_squared_error(y_test_svd, y_pred_3svd_test))\n",
    "print(\"Test Set Root Mean Squared Error: {}\".format(rmse_3svd_test))"
   ]
  },
  {
   "cell_type": "code",
   "execution_count": 87,
   "metadata": {
    "scrolled": true
   },
   "outputs": [
    {
     "data": {
      "text/plain": [
       "avgAnnCount                      -3.311788e-03\n",
       "incidenceRate                     1.579581e-01\n",
       "medIncome                         3.962400e-05\n",
       "popEst2015                       -2.945975e-07\n",
       "povertyPercent                   -2.999942e+00\n",
       "studyPerCap                       1.610786e-04\n",
       "MedianAge                         1.048151e+00\n",
       "MedianAgeMale                    -5.903435e-01\n",
       "MedianAgeFemale                   1.346875e+00\n",
       "AvgHouseholdSize                 -6.493734e+00\n",
       "PercentMarried                    2.234602e+00\n",
       "PctNoHS18_24                     -1.135149e-02\n",
       "PctHS18_24                        2.003942e-01\n",
       "PctSomeCol18_24                  -2.494795e-01\n",
       "PctBachDeg18_24                  -1.619434e-01\n",
       "PctHS25_Over                      1.478055e+00\n",
       "PctBachDeg25_Over                -4.930227e-01\n",
       "PctEmployed16_Over                6.498003e+00\n",
       "PctUnemployed16_Over              1.192618e-01\n",
       "PctPrivateCoverage               -4.395087e+00\n",
       "PctPrivateCoverageAlone           1.323289e-01\n",
       "PctEmpPrivCoverage                1.053040e+00\n",
       "PctPublicCoverage                -1.238955e+00\n",
       "PctPublicCoverageAlone           -4.734840e-01\n",
       "PctWhite                         -1.325408e+00\n",
       "PctBlack                          2.766056e-01\n",
       "PctAsian                         -3.779948e-01\n",
       "PctOtherRace                     -2.798917e-01\n",
       "PctMarriedHouseholds             -8.179308e-01\n",
       "BirthRate                        -6.189144e-01\n",
       "PctSomeCol18_24_isnull            3.027247e-01\n",
       "PctEmployed16_Over_isnull         5.764277e-01\n",
       "PctPrivateCoverageAlone_isnull    3.520977e-01\n",
       "age_gt_100                        3.940965e+00\n",
       "household_lt_1                   -5.152421e-01\n",
       "binnedInc_(34218.1, 37413.8]      2.195680e+00\n",
       "binnedInc_(37413.8, 40362.7]      4.769657e-03\n",
       "binnedInc_(40362.7, 42724.4]     -1.393746e+00\n",
       "binnedInc_(42724.4, 45201]       -7.115316e-02\n",
       "binnedInc_(45201, 48021.6]       -5.724335e-01\n",
       "binnedInc_(48021.6, 51046.4]     -1.957252e+00\n",
       "binnedInc_(51046.4, 54545.6]     -1.910407e+00\n",
       "binnedInc_(54545.6, 61494.5]     -1.665085e+00\n",
       "binnedInc_(61494.5, 125635]      -5.318578e-01\n",
       "binnedInc_[22640, 34218.1]        5.901446e+00\n",
       "ALAND_SQMI                        6.190739e-06\n",
       "AWATER_SQMI                      -2.433043e-03\n",
       "INTPTLAT                         -3.772941e+00\n",
       "INTPTLONG                        -2.674112e+01\n",
       "State_Alabama                     5.080409e+00\n",
       "State_Alaska                      3.512213e+01\n",
       "State_Arizona                     1.802644e+01\n",
       "State_Arkansas                    5.682145e+00\n",
       "State_California                  2.992599e+01\n",
       "State_Colorado                    2.613862e-01\n",
       "State_Connecticut                -1.719479e+01\n",
       "State_Delaware                   -4.402421e+00\n",
       "State_District of Columbia        1.431428e+01\n",
       "State_Florida                     1.996096e+01\n",
       "State_Georgia                    -1.713733e+00\n",
       "State_Hawaii                     -4.305847e+01\n",
       "State_Idaho                      -9.672168e+00\n",
       "State_Illinois                   -1.383723e+01\n",
       "State_Indiana                    -6.644210e+00\n",
       "State_Iowa                       -1.519922e+01\n",
       "State_Kansas                      2.659109e+00\n",
       "State_Kentucky                    2.203529e-01\n",
       "State_Louisiana                   4.320381e+00\n",
       "State_Maine                      -1.428058e+00\n",
       "State_Maryland                    2.240766e+00\n",
       "State_Massachusetts               6.295394e-02\n",
       "State_Michigan                   -1.065116e+01\n",
       "State_Minnesota                  -6.829012e+00\n",
       "State_Mississippi                 9.357088e+00\n",
       "State_Missouri                   -5.680481e+00\n",
       "State_Montana                    -7.935571e+00\n",
       "State_Nebraska                   -6.229368e+00\n",
       "State_Nevada                      4.279767e+01\n",
       "State_New Hampshire              -1.034053e+01\n",
       "State_New Jersey                 -5.735155e+00\n",
       "State_New Mexico                  5.955375e+00\n",
       "State_New York                   -2.913550e+00\n",
       "State_North Carolina             -1.370977e+01\n",
       "State_North Dakota               -5.917724e+00\n",
       "State_Ohio                       -1.260596e+01\n",
       "State_Oklahoma                    1.065815e+01\n",
       "State_Oregon                      2.164976e+00\n",
       "State_Pennsylvania               -8.728008e+00\n",
       "State_Rhode Island               -1.900081e+01\n",
       "State_South Carolina              9.442577e+00\n",
       "State_South Dakota               -3.183378e+00\n",
       "State_Tennessee                   1.202322e-01\n",
       "State_Texas                       2.615911e+00\n",
       "State_Utah                        1.741214e+01\n",
       "State_Vermont                    -6.351677e+00\n",
       "State_Virginia                    1.513831e+00\n",
       "State_Washington                 -4.545712e+00\n",
       "State_West Virginia              -1.703247e-01\n",
       "State_Wisconsin                  -9.992693e-01\n",
       "State_Wyoming                     4.762492e+00\n",
       "utmda_l1                         -1.859364e+00\n",
       "mskcc_l1                          9.160696e-02\n",
       "mayo_l1                           1.769828e+00\n",
       "hopkins_l1                        2.325272e+00\n",
       "dfb_l1                           -2.138701e+01\n",
       "cleveland_l1                     -1.122251e+01\n",
       "upmcps_l1                         1.672678e+00\n",
       "hlmcc_l1                          1.982735e+00\n",
       "mgs_l1                            4.001967e+01\n",
       "nw_mem_l1                         5.175472e+01\n",
       "chi_l1                           -5.093429e+01\n",
       "nyc_l1                           -2.303114e+00\n",
       "atlanta_l1                       -1.634843e+00\n",
       "dallas_l1                         2.219957e+00\n",
       "denver_l1                        -1.881121e+00\n",
       "los_ang_l1                       -2.396801e-01\n",
       "seattle_l1                       -3.062198e+00\n",
       "san_fran_l1                      -2.330910e+00\n",
       "utmda_l2                          7.197293e-01\n",
       "mskcc_l2                          1.215137e+02\n",
       "mayo_l2                          -1.510548e-01\n",
       "hopkins_l2                        1.250331e+00\n",
       "dfb_l2                           -7.126583e+01\n",
       "cleveland_l2                     -1.109783e+01\n",
       "upmcps_l2                         1.802796e+01\n",
       "hlmcc_l2                         -8.288755e-01\n",
       "mgs_l2                            4.815533e+01\n",
       "nw_mem_l2                         3.408147e+02\n",
       "chi_l2                           -3.386406e+02\n",
       "nyc_l2                           -1.233645e+02\n",
       "atlanta_l2                        2.308934e+00\n",
       "dallas_l2                        -3.337654e-01\n",
       "denver_l2                         3.409665e+00\n",
       "los_ang_l2                        3.438173e+00\n",
       "seattle_l2                        4.330320e+00\n",
       "san_fran_l2                       2.427954e+00\n",
       "onc_min_distsl1                   1.346105e+00\n",
       "onc_min_distsl2                  -2.324078e+00\n",
       "city_min_distsl1                 -4.118785e+00\n",
       "city_min_distsl2                  2.115211e+00\n",
       "sc_min_dists_l1                  -2.758268e+00\n",
       "sc_min_dists_l2                   1.754514e+00\n",
       "PCT_LACCESS_POP10                 3.537893e-02\n",
       "PCT_LACCESS_LOWI10               -4.034600e-02\n",
       "PCT_LACCESS_CHILD10              -6.227237e-01\n",
       "PCT_LACCESS_SENIORS10            -2.431128e-02\n",
       "PCT_LACCESS_HHNV10                1.920685e-01\n",
       "PCT_LACCESS_POP10_isnull          1.634457e-01\n",
       "PCT_LACCESS_LOWI10_isnull         1.634661e-01\n",
       "PCT_LACCESS_CHILD10_isnull        1.633998e-01\n",
       "PCT_LACCESS_SENIORS10_isnull      1.634638e-01\n",
       "PCT_LACCESS_HHNV10_isnull        -8.240840e+00\n",
       "FOODINSEC_00_02                   3.917040e-01\n",
       "FOODINSEC_07_09                  -3.733907e-01\n",
       "FOODINSEC_10_12                   4.012653e-01\n",
       "CH_FOODINSEC_02_12                9.823121e-03\n",
       "CH_FOODINSEC_09_12                7.751628e-01\n",
       "VLFOODSEC_00_02                  -8.751816e-01\n",
       "VLFOODSEC_07_09                   8.773097e-01\n",
       "VLFOODSEC_10_12                   1.196489e-01\n",
       "CH_VLFOODSEC_02_12                9.952693e-01\n",
       "CH_VLFOODSEC_09_12               -7.572577e-01\n",
       "FOODINSEC_CHILD_01_07             1.266317e+00\n",
       "FOODINSEC_CHILD_03_11            -1.692835e+00\n",
       "FOODINSEC_00_02_isnull           -1.433767e-03\n",
       "FOODINSEC_07_09_isnull           -1.427086e-03\n",
       "FOODINSEC_10_12_isnull           -1.441264e-03\n",
       "CH_FOODINSEC_02_12_isnull        -1.392276e-03\n",
       "CH_FOODINSEC_09_12_isnull        -1.452424e-03\n",
       "VLFOODSEC_00_02_isnull           -1.425694e-03\n",
       "VLFOODSEC_07_09_isnull           -1.428525e-03\n",
       "VLFOODSEC_10_12_isnull           -1.470382e-03\n",
       "CH_VLFOODSEC_02_12_isnull        -1.459071e-03\n",
       "CH_VLFOODSEC_09_12_isnull        -1.450267e-03\n",
       "FOODINSEC_CHILD_01_07_isnull     -1.475060e-03\n",
       "FOODINSEC_CHILD_03_11_isnull     -1.448397e-03\n",
       "PCT_LOCLFARM07                    3.227965e-01\n",
       "PCT_LOCLSALE07                    2.430070e-01\n",
       "PC_DIRSALES07                    -1.262541e-01\n",
       "FMRKT09                           2.829221e-01\n",
       "FMRKT13                          -2.136960e-01\n",
       "PCH_FMRKT_09_13                  -1.540977e-01\n",
       "FMRKTPTH09                        4.894622e+00\n",
       "FMRKTPTH13                       -5.534143e+00\n",
       "PCH_FMRKTPTH_09_13                1.579940e-01\n",
       "PCT_FMRKT_SNAP13                 -2.905792e-02\n",
       "PCT_FMRKT_WIC13                   1.873759e-02\n",
       "PCT_FMRKT_WICCASH13               1.431160e-02\n",
       "PCT_FMRKT_SFMNP13                -2.055403e-03\n",
       "PCT_FRMKT_FRVEG13                -1.566592e-02\n",
       "PCT_FRMKT_ANMLPROD13              7.797797e-03\n",
       "PCT_FMRKT_OTHER13                 2.399057e-03\n",
       "VEG_FARMS07                      -3.041331e-02\n",
       "VEG_ACRES07                       1.634414e-04\n",
       "VEG_ACRESPTH07                   -5.775185e-03\n",
       "FRESHVEG_FARMS07                  3.607098e-03\n",
       "FRESHVEG_ACRES07                 -1.542954e-04\n",
       "FRESHVEG_ACRESPTH07               2.789564e-03\n",
       "ORCHARD_FARMS07                   1.039969e-03\n",
       "ORCHARD_ACRES07                  -1.299029e-05\n",
       "ORCHARD_ACRESPTH07               -4.739862e-03\n",
       "BERRY_FARMS07                     1.344695e-02\n",
       "BERRY_ACRES07                    -2.977239e-04\n",
       "BERRY_ACRESPTH07                  3.135429e-02\n",
       "SLHOUSE07                        -2.509109e-01\n",
       "GHVEG_FARMS07                     7.990794e-02\n",
       "GHVEG_SQFT07                      1.812415e-06\n",
       "GHVEG_SQFTPTH07                  -4.690972e-04\n",
       "FOODHUB12                        -1.222226e-01\n",
       "CSA07                            -2.974975e-02\n",
       "AGRITRSM_OPS07                    8.061957e-03\n",
       "AGRITRSM_RCT07                    1.541811e-06\n",
       "FARM_TO_SCHOOL                   -3.277520e+00\n",
       "PCT_LOCLFARM07_isnull             8.253386e+00\n",
       "PCT_LOCLSALE07_isnull            -2.305861e+00\n",
       "PC_DIRSALES07_isnull              1.819871e+00\n",
       "FMRKT09_isnull                    1.868850e+01\n",
       "FMRKT13_isnull                   -3.393373e-06\n",
       "PCH_FMRKT_09_13_isnull            8.001910e-01\n",
       "FMRKTPTH09_isnull                 1.868849e+01\n",
       "FMRKTPTH13_isnull                -2.550082e-05\n",
       "PCH_FMRKTPTH_09_13_isnull         8.001414e-01\n",
       "PCT_FMRKT_SNAP13_isnull           1.051659e-01\n",
       "PCT_FMRKT_WIC13_isnull            1.051702e-01\n",
       "PCT_FMRKT_WICCASH13_isnull        1.051999e-01\n",
       "PCT_FMRKT_SFMNP13_isnull          1.051619e-01\n",
       "PCT_FRMKT_FRVEG13_isnull          1.052250e-01\n",
       "PCT_FRMKT_ANMLPROD13_isnull       1.051849e-01\n",
       "PCT_FMRKT_OTHER13_isnull          1.052330e-01\n",
       "VEG_FARMS07_isnull               -1.742494e+00\n",
       "VEG_ACRES07_isnull               -8.791758e+00\n",
       "VEG_ACRESPTH07_isnull             9.896752e+00\n",
       "FRESHVEG_FARMS07_isnull          -1.742463e+00\n",
       "FRESHVEG_ACRES07_isnull           4.490412e-01\n",
       "FRESHVEG_ACRESPTH07_isnull        4.490849e-01\n",
       "ORCHARD_FARMS07_isnull           -1.742550e+00\n",
       "ORCHARD_ACRES07_isnull           -3.085784e-01\n",
       "ORCHARD_ACRESPTH07_isnull        -3.086167e-01\n",
       "BERRY_FARMS07_isnull             -1.742500e+00\n",
       "BERRY_ACRES07_isnull             -1.151215e-01\n",
       "BERRY_ACRESPTH07_isnull          -1.151435e-01\n",
       "SLHOUSE07_isnull                 -2.081677e-05\n",
       "GHVEG_FARMS07_isnull             -1.742468e+00\n",
       "GHVEG_SQFT07_isnull              -4.531694e-01\n",
       "GHVEG_SQFTPTH07_isnull           -4.530676e-01\n",
       "FOODHUB12_isnull                 -5.277163e-05\n",
       "CSA07_isnull                      5.800771e-06\n",
       "AGRITRSM_OPS07_isnull             6.440628e-06\n",
       "AGRITRSM_RCT07_isnull             4.189802e-01\n",
       "FARM_TO_SCHOOL_isnull            -2.775662e-06\n",
       "PCT_DIABETES_ADULTS09             4.178602e-01\n",
       "PCT_DIABETES_ADULTS10            -3.510315e-01\n",
       "PCT_OBESE_ADULTS09               -1.131211e-01\n",
       "PCT_OBESE_ADULTS10                7.726839e-01\n",
       "PCT_OBESE_ADULTS13                3.031626e+00\n",
       "PCT_OBESE_CHILD08                -7.469103e-01\n",
       "PCT_OBESE_CHILD11                 5.324287e-01\n",
       "PCH_OBESE_CHILD_08_11            -7.628174e-01\n",
       "PCT_HSPA09                        8.789139e-01\n",
       "RECFAC07                         -1.719944e-02\n",
       "RECFAC12                          1.574673e-01\n",
       "PCH_RECFAC_07_12                 -2.410697e-01\n",
       "RECFACPTH07                      -1.889053e+01\n",
       "RECFACPTH12                       1.634411e+01\n",
       "PCH_RECFACPTH_07_12               2.299821e-01\n",
       "NATAMEN                          -8.239569e-01\n",
       "PCT_OBESE_CHILD08_isnull          8.649288e+00\n",
       "PCT_OBESE_CHILD11_isnull          3.585599e+00\n",
       "PCH_OBESE_CHILD_08_11_isnull     -8.909861e+00\n",
       "PCT_HSPA09_isnull                 2.509735e+00\n",
       "PCH_RECFAC_07_12_isnull           7.599834e-01\n",
       "PCH_RECFACPTH_07_12_isnull        7.599901e-01\n",
       "NATAMEN_isnull                    1.075218e+01\n",
       "PERPOV10                          1.191778e+00\n",
       "CHILDPOVRATE10                    1.508893e+00\n",
       "PERCHLDPOV10                      3.329998e-01\n",
       "METRO13                           7.971816e-01\n",
       "POPLOSS00                         4.002964e+00\n",
       "povertyPercent_log                3.561534e+01\n",
       "povertyPercent_sqrd               2.418473e-02\n",
       "MedianAge_log                    -2.380979e+01\n",
       "MedianAgeFemale_sqrd             -1.976851e-02\n",
       "AvgHouseholdSize_log              2.910125e+01\n",
       "PercentMarried_log               -2.838895e+01\n",
       "PercentMarried_sqrd              -1.217146e-02\n",
       "PctSomeCol18_24_log               1.192314e+01\n",
       "PctSomeCol18_24_sqrd              2.316095e-04\n",
       "PctHS25_Over_sqrd                -1.869830e-02\n",
       "PctBachDeg25_Over_log             1.467285e+00\n",
       "PctEmployed16_Over_log           -1.790171e+02\n",
       "PctEmployed16_Over_sqrd          -2.995869e-02\n",
       "PctPrivateCoverage_log            2.525173e+02\n",
       "PctEmpPrivCoverage_log           -4.388248e+01\n",
       "PctPublicCoverage_log             3.712718e+01\n",
       "PctPublicCoverageAlone_log       -1.592917e+01\n",
       "PctPublicCoverageAlone_sqrd       3.696494e-02\n",
       "PctWhite_sqrd                     8.844581e-03\n",
       "PctBlack_sqrd                    -1.108948e-02\n",
       "INTPTLONG_sqrd                   -7.540460e-02\n",
       "mskcc_l1_log                      1.669146e+01\n",
       "mayo_l1_log                      -1.992774e+00\n",
       "mayo_l1_sqrd                     -4.969637e-02\n",
       "dfb_l1_log                       -7.652372e+00\n",
       "dfb_l1_sqrd                      -3.641726e-01\n",
       "cleveland_l1_log                  1.762623e+01\n",
       "cleveland_l1_sqrd                 3.603538e-01\n",
       "upmcps_l1_log                     9.223769e+00\n",
       "mgs_l1_log                       -4.448587e+01\n",
       "atlanta_l1_log                    2.207967e+01\n",
       "denver_l1_sqrd                    2.268001e-02\n",
       "los_ang_l1_sqrd                  -3.522171e-02\n",
       "seattle_l1_log                    5.468347e+00\n",
       "hopkins_l2_log                   -1.077532e+00\n",
       "dfb_l2_log                        1.656173e+01\n",
       "cleveland_l2_log                  1.311818e+00\n",
       "upmcps_l2_log                    -1.701284e+01\n",
       "mgs_l2_log                        3.692593e+01\n",
       "atlanta_l2_log                   -1.320177e+01\n",
       "city_min_distsl1_sqrd             1.598539e-01\n",
       "sc_min_dists_l1_log              -3.624154e-01\n",
       "PCT_LACCESS_CHILD10_sqrd          9.860906e-03\n",
       "PCT_LACCESS_HHNV10_sqrd          -8.738674e-04\n",
       "PC_DIRSALES07_sqrd                1.049606e-03\n",
       "FMRKT13_sqrd                      1.957072e-03\n",
       "PCH_FMRKT_09_13_sqrd             -1.514347e-06\n",
       "PCT_OBESE_ADULTS13_log            4.031535e-01\n",
       "PCT_OBESE_ADULTS13_sqrd          -5.482633e-02\n",
       "CHILDPOVRATE10_log               -2.956122e+01\n",
       "dtype: float64"
      ]
     },
     "execution_count": 87,
     "metadata": {},
     "output_type": "execute_result"
    }
   ],
   "source": [
    "lr_3svd_coeffs = pd.Series(lr_3svd.coef_, index=X.columns) \n",
    "lr_3svd_coeffs"
   ]
  },
  {
   "cell_type": "code",
   "execution_count": 88,
   "metadata": {},
   "outputs": [
    {
     "data": {
      "text/plain": [
       "avgAnnCount                      -0.139998\n",
       "incidenceRate                     0.429436\n",
       "medIncome                        -0.432210\n",
       "popEst2015                       -0.115986\n",
       "povertyPercent                    0.435167\n",
       "studyPerCap                      -0.024890\n",
       "MedianAge                         0.001862\n",
       "MedianAgeMale                    -0.017983\n",
       "MedianAgeFemale                   0.019013\n",
       "AvgHouseholdSize                 -0.041219\n",
       "PercentMarried                   -0.263055\n",
       "PctNoHS18_24                      0.090024\n",
       "PctHS18_24                        0.276894\n",
       "PctSomeCol18_24                  -0.104714\n",
       "PctBachDeg18_24                  -0.287782\n",
       "PctHS25_Over                      0.408759\n",
       "PctBachDeg25_Over                -0.493734\n",
       "PctEmployed16_Over               -0.413245\n",
       "PctUnemployed16_Over              0.375829\n",
       "PctPrivateCoverage               -0.394586\n",
       "PctPrivateCoverageAlone          -0.341052\n",
       "PctEmpPrivCoverage               -0.280062\n",
       "PctPublicCoverage                 0.413010\n",
       "PctPublicCoverageAlone            0.456392\n",
       "PctWhite                         -0.177141\n",
       "PctBlack                          0.259112\n",
       "PctAsian                         -0.195755\n",
       "PctOtherRace                     -0.197665\n",
       "PctMarriedHouseholds             -0.293178\n",
       "BirthRate                        -0.066529\n",
       "PctSomeCol18_24_isnull            0.010296\n",
       "PctEmployed16_Over_isnull        -0.014518\n",
       "PctPrivateCoverageAlone_isnull   -0.024639\n",
       "age_gt_100                        0.008669\n",
       "household_lt_1                    0.030676\n",
       "binnedInc_(34218.1, 37413.8]      0.169119\n",
       "binnedInc_(37413.8, 40362.7]      0.101870\n",
       "binnedInc_(40362.7, 42724.4]      0.049598\n",
       "binnedInc_(42724.4, 45201]        0.010155\n",
       "binnedInc_(45201, 48021.6]       -0.015803\n",
       "binnedInc_(48021.6, 51046.4]     -0.106190\n",
       "binnedInc_(51046.4, 54545.6]     -0.112792\n",
       "binnedInc_(54545.6, 61494.5]     -0.170496\n",
       "binnedInc_(61494.5, 125635]      -0.226613\n",
       "binnedInc_[22640, 34218.1]        0.294821\n",
       "ALAND_SQMI                       -0.050821\n",
       "AWATER_SQMI                       0.000514\n",
       "INTPTLAT                         -0.185177\n",
       "INTPTLONG                         0.276047\n",
       "State_Alabama                     0.075783\n",
       "State_Alaska                      0.054500\n",
       "State_Arizona                    -0.082994\n",
       "State_Arkansas                    0.119621\n",
       "State_California                 -0.103529\n",
       "State_Colorado                   -0.200528\n",
       "State_Connecticut                -0.033437\n",
       "State_Delaware                    0.004932\n",
       "State_District of Columbia        0.002289\n",
       "State_Florida                    -0.003579\n",
       "State_Georgia                     0.037446\n",
       "State_Hawaii                     -0.044220\n",
       "State_Idaho                      -0.105613\n",
       "State_Illinois                    0.023283\n",
       "State_Indiana                     0.066095\n",
       "State_Iowa                       -0.086340\n",
       "State_Kansas                     -0.073783\n",
       "State_Kentucky                    0.271715\n",
       "State_Louisiana                   0.101204\n",
       "State_Maine                       0.015787\n",
       "State_Maryland                   -0.007721\n",
       "State_Massachusetts              -0.030770\n",
       "State_Michigan                   -0.009836\n",
       "State_Minnesota                  -0.106694\n",
       "State_Mississippi                 0.147819\n",
       "State_Missouri                    0.057783\n",
       "State_Montana                    -0.064201\n",
       "State_Nebraska                   -0.101575\n",
       "State_Nevada                     -0.002917\n",
       "State_New Hampshire              -0.014391\n",
       "State_New Jersey                 -0.034649\n",
       "State_New Mexico                 -0.094130\n",
       "State_New York                   -0.035172\n",
       "State_North Carolina              0.014049\n",
       "State_North Dakota               -0.080001\n",
       "State_Ohio                        0.049821\n",
       "State_Oklahoma                    0.089426\n",
       "State_Oregon                     -0.037558\n",
       "State_Pennsylvania               -0.024602\n",
       "State_Rhode Island               -0.024929\n",
       "State_South Carolina              0.055832\n",
       "State_South Dakota               -0.066206\n",
       "State_Tennessee                   0.142068\n",
       "State_Texas                      -0.068307\n",
       "State_Utah                       -0.156488\n",
       "State_Vermont                    -0.012620\n",
       "State_Virginia                    0.040228\n",
       "State_Washington                 -0.053009\n",
       "State_West Virginia               0.089444\n",
       "State_Wisconsin                  -0.035840\n",
       "State_Wyoming                    -0.057790\n",
       "utmda_l1                         -0.136567\n",
       "mskcc_l1                         -0.232390\n",
       "mayo_l1                          -0.060940\n",
       "hopkins_l1                       -0.266875\n",
       "dfb_l1                           -0.207442\n",
       "cleveland_l1                     -0.261447\n",
       "upmcps_l1                        -0.266849\n",
       "hlmcc_l1                         -0.340472\n",
       "mgs_l1                           -0.207147\n",
       "nw_mem_l1                        -0.229712\n",
       "chi_l1                           -0.229855\n",
       "nyc_l1                           -0.233314\n",
       "atlanta_l1                       -0.357372\n",
       "dallas_l1                        -0.096663\n",
       "denver_l1                         0.258811\n",
       "los_ang_l1                        0.231239\n",
       "seattle_l1                        0.354138\n",
       "san_fran_l1                       0.278900\n",
       "utmda_l2                         -0.159682\n",
       "mskcc_l2                         -0.274257\n",
       "mayo_l2                          -0.084661\n",
       "hopkins_l2                       -0.292775\n",
       "dfb_l2                           -0.263515\n",
       "cleveland_l2                     -0.300735\n",
       "upmcps_l2                        -0.304242\n",
       "hlmcc_l2                         -0.337991\n",
       "mgs_l2                           -0.263412\n",
       "nw_mem_l2                        -0.256159\n",
       "chi_l2                           -0.256319\n",
       "nyc_l2                           -0.274649\n",
       "atlanta_l2                       -0.354811\n",
       "dallas_l2                        -0.093831\n",
       "denver_l2                         0.257148\n",
       "los_ang_l2                        0.308879\n",
       "seattle_l2                        0.325172\n",
       "san_fran_l2                       0.316731\n",
       "onc_min_distsl1                  -0.168976\n",
       "onc_min_distsl2                  -0.172797\n",
       "city_min_distsl1                 -0.042435\n",
       "city_min_distsl2                 -0.043975\n",
       "sc_min_dists_l1                  -0.066692\n",
       "sc_min_dists_l2                  -0.063516\n",
       "PCT_LACCESS_POP10                -0.228200\n",
       "PCT_LACCESS_LOWI10               -0.095829\n",
       "PCT_LACCESS_CHILD10              -0.220051\n",
       "PCT_LACCESS_SENIORS10            -0.207766\n",
       "PCT_LACCESS_HHNV10                0.339486\n",
       "PCT_LACCESS_POP10_isnull         -0.010314\n",
       "PCT_LACCESS_LOWI10_isnull        -0.010314\n",
       "PCT_LACCESS_CHILD10_isnull       -0.010314\n",
       "PCT_LACCESS_SENIORS10_isnull     -0.010314\n",
       "PCT_LACCESS_HHNV10_isnull        -0.032058\n",
       "FOODINSEC_00_02                   0.061573\n",
       "FOODINSEC_07_09                   0.146702\n",
       "FOODINSEC_10_12                   0.188080\n",
       "CH_FOODINSEC_02_12                0.221847\n",
       "CH_FOODINSEC_09_12                0.134299\n",
       "VLFOODSEC_00_02                   0.027564\n",
       "VLFOODSEC_07_09                   0.118158\n",
       "VLFOODSEC_10_12                   0.181548\n",
       "CH_VLFOODSEC_02_12                0.194726\n",
       "CH_VLFOODSEC_09_12                0.133990\n",
       "FOODINSEC_CHILD_01_07             0.024132\n",
       "FOODINSEC_CHILD_03_11             0.081665\n",
       "FOODINSEC_00_02_isnull           -0.017098\n",
       "FOODINSEC_07_09_isnull           -0.017098\n",
       "FOODINSEC_10_12_isnull           -0.017098\n",
       "CH_FOODINSEC_02_12_isnull        -0.017098\n",
       "CH_FOODINSEC_09_12_isnull        -0.017098\n",
       "VLFOODSEC_00_02_isnull           -0.017098\n",
       "VLFOODSEC_07_09_isnull           -0.017098\n",
       "VLFOODSEC_10_12_isnull           -0.017098\n",
       "CH_VLFOODSEC_02_12_isnull        -0.017098\n",
       "CH_VLFOODSEC_09_12_isnull        -0.017098\n",
       "FOODINSEC_CHILD_01_07_isnull     -0.017098\n",
       "FOODINSEC_CHILD_03_11_isnull     -0.017098\n",
       "PCT_LOCLFARM07                   -0.092918\n",
       "PCT_LOCLSALE07                   -0.020471\n",
       "PC_DIRSALES07                    -0.120764\n",
       "FMRKT09                          -0.134898\n",
       "FMRKT13                          -0.139147\n",
       "PCH_FMRKT_09_13                  -0.094603\n",
       "FMRKTPTH09                       -0.086926\n",
       "FMRKTPTH13                       -0.103780\n",
       "PCH_FMRKTPTH_09_13               -0.084482\n",
       "PCT_FMRKT_SNAP13                 -0.081165\n",
       "PCT_FMRKT_WIC13                  -0.025214\n",
       "PCT_FMRKT_WICCASH13              -0.024742\n",
       "PCT_FMRKT_SFMNP13                 0.000859\n",
       "PCT_FRMKT_FRVEG13                 0.022737\n",
       "PCT_FRMKT_ANMLPROD13             -0.019248\n",
       "PCT_FMRKT_OTHER13                 0.012024\n",
       "VEG_FARMS07                      -0.112615\n",
       "VEG_ACRES07                      -0.104728\n",
       "VEG_ACRESPTH07                   -0.112142\n",
       "FRESHVEG_FARMS07                 -0.101797\n",
       "FRESHVEG_ACRES07                 -0.079297\n",
       "FRESHVEG_ACRESPTH07              -0.071041\n",
       "ORCHARD_FARMS07                  -0.085779\n",
       "ORCHARD_ACRES07                  -0.062331\n",
       "ORCHARD_ACRESPTH07               -0.041907\n",
       "BERRY_FARMS07                    -0.051270\n",
       "BERRY_ACRES07                    -0.023492\n",
       "BERRY_ACRESPTH07                  0.023666\n",
       "SLHOUSE07                        -0.103664\n",
       "GHVEG_FARMS07                    -0.110282\n",
       "GHVEG_SQFT07                     -0.066036\n",
       "GHVEG_SQFTPTH07                   0.001211\n",
       "FOODHUB12                        -0.067566\n",
       "CSA07                            -0.133491\n",
       "AGRITRSM_OPS07                   -0.168127\n",
       "AGRITRSM_RCT07                   -0.158079\n",
       "FARM_TO_SCHOOL                   -0.099052\n",
       "PCT_LOCLFARM07_isnull             0.062115\n",
       "PCT_LOCLSALE07_isnull             0.041440\n",
       "PC_DIRSALES07_isnull              0.040988\n",
       "FMRKT09_isnull                   -0.015065\n",
       "FMRKT13_isnull                         NaN\n",
       "PCH_FMRKT_09_13_isnull            0.062339\n",
       "FMRKTPTH09_isnull                -0.015065\n",
       "FMRKTPTH13_isnull                      NaN\n",
       "PCH_FMRKTPTH_09_13_isnull         0.062339\n",
       "PCT_FMRKT_SNAP13_isnull           0.068873\n",
       "PCT_FMRKT_WIC13_isnull            0.068873\n",
       "PCT_FMRKT_WICCASH13_isnull        0.068873\n",
       "PCT_FMRKT_SFMNP13_isnull          0.068873\n",
       "PCT_FRMKT_FRVEG13_isnull          0.068873\n",
       "PCT_FRMKT_ANMLPROD13_isnull       0.068873\n",
       "PCT_FMRKT_OTHER13_isnull          0.068873\n",
       "VEG_FARMS07_isnull                0.067595\n",
       "VEG_ACRES07_isnull               -0.035981\n",
       "VEG_ACRESPTH07_isnull            -0.036729\n",
       "FRESHVEG_FARMS07_isnull           0.067595\n",
       "FRESHVEG_ACRES07_isnull           0.044529\n",
       "FRESHVEG_ACRESPTH07_isnull        0.044529\n",
       "ORCHARD_FARMS07_isnull            0.067595\n",
       "ORCHARD_ACRES07_isnull            0.006085\n",
       "ORCHARD_ACRESPTH07_isnull         0.006085\n",
       "BERRY_FARMS07_isnull              0.067595\n",
       "BERRY_ACRES07_isnull              0.082510\n",
       "BERRY_ACRESPTH07_isnull           0.082510\n",
       "SLHOUSE07_isnull                       NaN\n",
       "GHVEG_FARMS07_isnull              0.067595\n",
       "GHVEG_SQFT07_isnull              -0.049208\n",
       "GHVEG_SQFTPTH07_isnull           -0.049208\n",
       "FOODHUB12_isnull                       NaN\n",
       "CSA07_isnull                           NaN\n",
       "AGRITRSM_OPS07_isnull                  NaN\n",
       "AGRITRSM_RCT07_isnull             0.025211\n",
       "FARM_TO_SCHOOL_isnull                  NaN\n",
       "PCT_DIABETES_ADULTS09             0.535441\n",
       "PCT_DIABETES_ADULTS10             0.539451\n",
       "PCT_OBESE_ADULTS09                0.517969\n",
       "PCT_OBESE_ADULTS10                0.529023\n",
       "PCT_OBESE_ADULTS13                0.439013\n",
       "PCT_OBESE_CHILD08                 0.076485\n",
       "PCT_OBESE_CHILD11                 0.139029\n",
       "PCH_OBESE_CHILD_08_11             0.017480\n",
       "PCT_HSPA09                       -0.145572\n",
       "RECFAC07                         -0.143733\n",
       "RECFAC12                         -0.138830\n",
       "PCH_RECFAC_07_12                 -0.032902\n",
       "RECFACPTH07                      -0.215701\n",
       "RECFACPTH12                      -0.204573\n",
       "PCH_RECFACPTH_07_12              -0.015862\n",
       "NATAMEN                          -0.179379\n",
       "PCT_OBESE_CHILD08_isnull         -0.111130\n",
       "PCT_OBESE_CHILD11_isnull         -0.027754\n",
       "PCH_OBESE_CHILD_08_11_isnull     -0.086346\n",
       "PCT_HSPA09_isnull                -0.140397\n",
       "PCH_RECFAC_07_12_isnull           0.071813\n",
       "PCH_RECFACPTH_07_12_isnull        0.071813\n",
       "NATAMEN_isnull                    0.024261\n",
       "PERPOV10                          0.273511\n",
       "CHILDPOVRATE10                    0.453325\n",
       "PERCHLDPOV10                      0.302056\n",
       "METRO13                          -0.085642\n",
       "POPLOSS00                         0.043742\n",
       "povertyPercent_log                0.443893\n",
       "povertyPercent_sqrd               0.399314\n",
       "MedianAge_log                     0.020197\n",
       "MedianAgeFemale_sqrd              0.000720\n",
       "AvgHouseholdSize_log             -0.026491\n",
       "PercentMarried_log               -0.253300\n",
       "PercentMarried_sqrd              -0.270606\n",
       "PctSomeCol18_24_log              -0.089871\n",
       "PctSomeCol18_24_sqrd             -0.105170\n",
       "PctHS25_Over_sqrd                 0.389445\n",
       "PctBachDeg25_Over_log            -0.504272\n",
       "PctEmployed16_Over_log           -0.395799\n",
       "PctEmployed16_Over_sqrd          -0.422093\n",
       "PctPrivateCoverage_log           -0.372819\n",
       "PctEmpPrivCoverage_log           -0.263689\n",
       "PctPublicCoverage_log             0.415566\n",
       "PctPublicCoverageAlone_log        0.454496\n",
       "PctPublicCoverageAlone_sqrd       0.434545\n",
       "PctWhite_sqrd                    -0.161471\n",
       "PctBlack_sqrd                     0.229249\n",
       "INTPTLONG_sqrd                   -0.266463\n",
       "mskcc_l1_log                     -0.140322\n",
       "mayo_l1_log                       0.017882\n",
       "mayo_l1_sqrd                     -0.040980\n",
       "dfb_l1_log                       -0.119276\n",
       "dfb_l1_sqrd                      -0.166065\n",
       "cleveland_l1_log                 -0.272177\n",
       "cleveland_l1_sqrd                -0.144453\n",
       "upmcps_l1_log                    -0.257720\n",
       "mgs_l1_log                       -0.119360\n",
       "atlanta_l1_log                   -0.396230\n",
       "denver_l1_sqrd                    0.165899\n",
       "los_ang_l1_sqrd                   0.176109\n",
       "seattle_l1_log                    0.285513\n",
       "hopkins_l2_log                   -0.222774\n",
       "dfb_l2_log                       -0.164756\n",
       "cleveland_l2_log                 -0.312810\n",
       "upmcps_l2_log                    -0.294679\n",
       "mgs_l2_log                       -0.164757\n",
       "atlanta_l2_log                   -0.388316\n",
       "city_min_distsl1_sqrd             0.010424\n",
       "sc_min_dists_l1_log              -0.053466\n",
       "PCT_LACCESS_CHILD10_sqrd         -0.153021\n",
       "PCT_LACCESS_HHNV10_sqrd           0.130630\n",
       "PC_DIRSALES07_sqrd               -0.055254\n",
       "FMRKT13_sqrd                     -0.043233\n",
       "PCH_FMRKT_09_13_sqrd             -0.039259\n",
       "PCT_OBESE_ADULTS13_log            0.433522\n",
       "PCT_OBESE_ADULTS13_sqrd           0.442870\n",
       "CHILDPOVRATE10_log                0.446911\n",
       "dtype: float64"
      ]
     },
     "execution_count": 88,
     "metadata": {},
     "output_type": "execute_result"
    }
   ],
   "source": [
    "X_train_corrwith_svd = X_train_svd.corrwith(y_train_svd)\n",
    "X_train_corrwith_svd"
   ]
  },
  {
   "cell_type": "code",
   "execution_count": 89,
   "metadata": {},
   "outputs": [
    {
     "data": {
      "text/plain": [
       "0.5426829268292683"
      ]
     },
     "execution_count": 89,
     "metadata": {},
     "output_type": "execute_result"
    }
   ],
   "source": [
    "same_sign_svd = ((X_train_corrwith_svd >= 0) & (lr_3svd_coeffs >= 0) | (X_train_corrwith_svd < 0) & (lr_3svd_coeffs < 0))\n",
    "same_sign_svd.sum()/len(same_sign_svd)"
   ]
  },
  {
   "cell_type": "code",
   "execution_count": 90,
   "metadata": {
    "scrolled": true
   },
   "outputs": [
    {
     "data": {
      "text/plain": [
       "True     178\n",
       "False    150\n",
       "dtype: int64"
      ]
     },
     "execution_count": 90,
     "metadata": {},
     "output_type": "execute_result"
    }
   ],
   "source": [
    "same_sign_svd.value_counts()"
   ]
  },
  {
   "cell_type": "markdown",
   "metadata": {},
   "source": [
    "There is no significant change in the 'same_sign' proportion after using the 'svd' solver."
   ]
  },
  {
   "cell_type": "markdown",
   "metadata": {},
   "source": [
    "## Full DataFrame with cholesky Ridge Regression"
   ]
  },
  {
   "cell_type": "markdown",
   "metadata": {},
   "source": [
    "Next, the 'cholesky' solver is tried."
   ]
  },
  {
   "cell_type": "code",
   "execution_count": 91,
   "metadata": {},
   "outputs": [
    {
     "data": {
      "text/plain": [
       "Ridge(alpha=0.001, copy_X=True, fit_intercept=True, max_iter=None,\n",
       "   normalize=False, random_state=None, solver='cholesky', tol=0.001)"
      ]
     },
     "execution_count": 91,
     "metadata": {},
     "output_type": "execute_result"
    }
   ],
   "source": [
    "lr_3chol = linear_model.Ridge(alpha=0.001, solver = 'cholesky')\n",
    "lr_3chol"
   ]
  },
  {
   "cell_type": "code",
   "execution_count": 92,
   "metadata": {},
   "outputs": [],
   "source": [
    "X_train_chol, X_test_chol, y_train_chol, y_test_chol = train_test_split(X, y, test_size=0.2, random_state=42)"
   ]
  },
  {
   "cell_type": "code",
   "execution_count": 93,
   "metadata": {
    "scrolled": false
   },
   "outputs": [
    {
     "name": "stderr",
     "output_type": "stream",
     "text": [
      "/Users/DanLoew/anaconda3/lib/python3.7/site-packages/sklearn/linear_model/ridge.py:125: LinAlgWarning: Ill-conditioned matrix (rcond=1.63404e-18): result may not be accurate.\n",
      "  overwrite_a=True).T\n"
     ]
    },
    {
     "data": {
      "text/plain": [
       "Ridge(alpha=0.001, copy_X=True, fit_intercept=True, max_iter=None,\n",
       "   normalize=False, random_state=None, solver='cholesky', tol=0.001)"
      ]
     },
     "execution_count": 93,
     "metadata": {},
     "output_type": "execute_result"
    }
   ],
   "source": [
    "lr_3chol.fit(X_train_chol, y_train_chol)"
   ]
  },
  {
   "cell_type": "code",
   "execution_count": 94,
   "metadata": {},
   "outputs": [
    {
     "data": {
      "text/plain": [
       "array([193.6814711 , 190.81999526, 216.23272617, 139.13920381,\n",
       "       225.16635654, 195.66524864, 172.79393977, 170.42103655,\n",
       "       196.48290334, 230.26460023, 197.25887577, 175.61009965,\n",
       "       202.61717549, 187.70993108, 155.03822506, 188.09679189,\n",
       "       201.12734623, 156.97725576, 174.21388088, 179.27723478])"
      ]
     },
     "execution_count": 94,
     "metadata": {},
     "output_type": "execute_result"
    }
   ],
   "source": [
    "y_pred_3chol_train = lr_3chol.predict(X_train_chol)\n",
    "y_pred_3chol_train[0:20]"
   ]
  },
  {
   "cell_type": "code",
   "execution_count": 95,
   "metadata": {},
   "outputs": [
    {
     "name": "stdout",
     "output_type": "stream",
     "text": [
      "Training Set R^2: 0.6465369736893312\n",
      "Training Set Root Mean Squared Error: 16.58992192614389\n"
     ]
    }
   ],
   "source": [
    "print(\"Training Set R^2: {}\".format(lr_3chol.score(X_train_chol, y_train_chol)))\n",
    "rmse_3chol_train = np.sqrt(mean_squared_error(y_train_chol, y_pred_3chol_train))\n",
    "print(\"Training Set Root Mean Squared Error: {}\".format(rmse_3chol_train))"
   ]
  },
  {
   "cell_type": "code",
   "execution_count": 96,
   "metadata": {},
   "outputs": [
    {
     "data": {
      "text/plain": [
       "array([177.35025576, 175.37003439, 162.28118045, 175.61565049,\n",
       "       178.79949234, 195.82574314, 173.08925325, 164.09948603,\n",
       "       174.86180399, 172.19905272, 177.03470199, 206.9132008 ,\n",
       "       157.80007659, 157.37575802, 220.00185197, 108.9025308 ,\n",
       "       188.29362207, 205.9232775 , 208.2225993 , 183.78457323])"
      ]
     },
     "execution_count": 96,
     "metadata": {},
     "output_type": "execute_result"
    }
   ],
   "source": [
    "y_pred_3chol_test = lr_3chol.predict(X_test_chol)\n",
    "y_pred_3chol_test[0:20]"
   ]
  },
  {
   "cell_type": "code",
   "execution_count": 97,
   "metadata": {},
   "outputs": [
    {
     "name": "stdout",
     "output_type": "stream",
     "text": [
      "Test Set R^2: 0.6407644965711742\n",
      "Test Set Root Mean Squared Error: 16.196424394992476\n"
     ]
    }
   ],
   "source": [
    "print(\"Test Set R^2: {}\".format(lr_3chol.score(X_test_chol, y_test_chol)))\n",
    "rmse_3chol_test = np.sqrt(mean_squared_error(y_test_chol, y_pred_3chol_test))\n",
    "print(\"Test Set Root Mean Squared Error: {}\".format(rmse_3chol_test))"
   ]
  },
  {
   "cell_type": "code",
   "execution_count": 98,
   "metadata": {
    "scrolled": true
   },
   "outputs": [
    {
     "data": {
      "text/plain": [
       "avgAnnCount                      -3.311788e-03\n",
       "incidenceRate                     1.579581e-01\n",
       "medIncome                         3.962400e-05\n",
       "popEst2015                       -2.945975e-07\n",
       "povertyPercent                   -2.999942e+00\n",
       "studyPerCap                       1.610786e-04\n",
       "MedianAge                         1.048151e+00\n",
       "MedianAgeMale                    -5.903435e-01\n",
       "MedianAgeFemale                   1.346875e+00\n",
       "AvgHouseholdSize                 -6.493734e+00\n",
       "PercentMarried                    2.234602e+00\n",
       "PctNoHS18_24                     -1.135149e-02\n",
       "PctHS18_24                        2.003942e-01\n",
       "PctSomeCol18_24                  -2.494795e-01\n",
       "PctBachDeg18_24                  -1.619434e-01\n",
       "PctHS25_Over                      1.478055e+00\n",
       "PctBachDeg25_Over                -4.930227e-01\n",
       "PctEmployed16_Over                6.498003e+00\n",
       "PctUnemployed16_Over              1.192618e-01\n",
       "PctPrivateCoverage               -4.395087e+00\n",
       "PctPrivateCoverageAlone           1.323289e-01\n",
       "PctEmpPrivCoverage                1.053040e+00\n",
       "PctPublicCoverage                -1.238955e+00\n",
       "PctPublicCoverageAlone           -4.734840e-01\n",
       "PctWhite                         -1.325408e+00\n",
       "PctBlack                          2.766056e-01\n",
       "PctAsian                         -3.779948e-01\n",
       "PctOtherRace                     -2.798917e-01\n",
       "PctMarriedHouseholds             -8.179308e-01\n",
       "BirthRate                        -6.189144e-01\n",
       "PctSomeCol18_24_isnull            3.027247e-01\n",
       "PctEmployed16_Over_isnull         5.764277e-01\n",
       "PctPrivateCoverageAlone_isnull    3.520977e-01\n",
       "age_gt_100                        3.940965e+00\n",
       "household_lt_1                   -5.152421e-01\n",
       "binnedInc_(34218.1, 37413.8]      2.195684e+00\n",
       "binnedInc_(37413.8, 40362.7]      4.773566e-03\n",
       "binnedInc_(40362.7, 42724.4]     -1.393742e+00\n",
       "binnedInc_(42724.4, 45201]       -7.114925e-02\n",
       "binnedInc_(45201, 48021.6]       -5.724296e-01\n",
       "binnedInc_(48021.6, 51046.4]     -1.957248e+00\n",
       "binnedInc_(51046.4, 54545.6]     -1.910403e+00\n",
       "binnedInc_(54545.6, 61494.5]     -1.665081e+00\n",
       "binnedInc_(61494.5, 125635]      -5.318539e-01\n",
       "binnedInc_[22640, 34218.1]        5.901450e+00\n",
       "ALAND_SQMI                        6.190739e-06\n",
       "AWATER_SQMI                      -2.433043e-03\n",
       "INTPTLAT                         -3.772941e+00\n",
       "INTPTLONG                        -2.674112e+01\n",
       "State_Alabama                     5.080412e+00\n",
       "State_Alaska                      3.512214e+01\n",
       "State_Arizona                     1.802644e+01\n",
       "State_Arkansas                    5.682139e+00\n",
       "State_California                  2.992599e+01\n",
       "State_Colorado                    2.613880e-01\n",
       "State_Connecticut                -1.719479e+01\n",
       "State_Delaware                   -4.402421e+00\n",
       "State_District of Columbia        1.431427e+01\n",
       "State_Florida                     1.996096e+01\n",
       "State_Georgia                    -1.713732e+00\n",
       "State_Hawaii                     -4.305845e+01\n",
       "State_Idaho                      -9.672172e+00\n",
       "State_Illinois                   -1.383722e+01\n",
       "State_Indiana                    -6.644210e+00\n",
       "State_Iowa                       -1.519923e+01\n",
       "State_Kansas                      2.659105e+00\n",
       "State_Kentucky                    2.203531e-01\n",
       "State_Louisiana                   4.320379e+00\n",
       "State_Maine                      -1.428049e+00\n",
       "State_Maryland                    2.240773e+00\n",
       "State_Massachusetts               6.296753e-02\n",
       "State_Michigan                   -1.065116e+01\n",
       "State_Minnesota                  -6.829018e+00\n",
       "State_Mississippi                 9.357084e+00\n",
       "State_Missouri                   -5.680484e+00\n",
       "State_Montana                    -7.935563e+00\n",
       "State_Nebraska                   -6.229377e+00\n",
       "State_Nevada                      4.279767e+01\n",
       "State_New Hampshire              -1.034052e+01\n",
       "State_New Jersey                 -5.735148e+00\n",
       "State_New Mexico                  5.955380e+00\n",
       "State_New York                   -2.913545e+00\n",
       "State_North Carolina             -1.370977e+01\n",
       "State_North Dakota               -5.917723e+00\n",
       "State_Ohio                       -1.260597e+01\n",
       "State_Oklahoma                    1.065815e+01\n",
       "State_Oregon                      2.164970e+00\n",
       "State_Pennsylvania               -8.728011e+00\n",
       "State_Rhode Island               -1.900081e+01\n",
       "State_South Carolina              9.442584e+00\n",
       "State_South Dakota               -3.183380e+00\n",
       "State_Tennessee                   1.202283e-01\n",
       "State_Texas                       2.615907e+00\n",
       "State_Utah                        1.741215e+01\n",
       "State_Vermont                    -6.351672e+00\n",
       "State_Virginia                    1.513824e+00\n",
       "State_Washington                 -4.545719e+00\n",
       "State_West Virginia              -1.703287e-01\n",
       "State_Wisconsin                  -9.992682e-01\n",
       "State_Wyoming                     4.762492e+00\n",
       "utmda_l1                         -1.859364e+00\n",
       "mskcc_l1                          9.160719e-02\n",
       "mayo_l1                           1.769828e+00\n",
       "hopkins_l1                        2.325272e+00\n",
       "dfb_l1                           -2.138701e+01\n",
       "cleveland_l1                     -1.122251e+01\n",
       "upmcps_l1                         1.672678e+00\n",
       "hlmcc_l1                          1.982735e+00\n",
       "mgs_l1                            4.001968e+01\n",
       "nw_mem_l1                         5.175472e+01\n",
       "chi_l1                           -5.093429e+01\n",
       "nyc_l1                           -2.303114e+00\n",
       "atlanta_l1                       -1.634843e+00\n",
       "dallas_l1                         2.219957e+00\n",
       "denver_l1                        -1.881121e+00\n",
       "los_ang_l1                       -2.396801e-01\n",
       "seattle_l1                       -3.062198e+00\n",
       "san_fran_l1                      -2.330910e+00\n",
       "utmda_l2                          7.197293e-01\n",
       "mskcc_l2                          1.215137e+02\n",
       "mayo_l2                          -1.510548e-01\n",
       "hopkins_l2                        1.250331e+00\n",
       "dfb_l2                           -7.126583e+01\n",
       "cleveland_l2                     -1.109783e+01\n",
       "upmcps_l2                         1.802796e+01\n",
       "hlmcc_l2                         -8.288755e-01\n",
       "mgs_l2                            4.815532e+01\n",
       "nw_mem_l2                         3.408147e+02\n",
       "chi_l2                           -3.386405e+02\n",
       "nyc_l2                           -1.233645e+02\n",
       "atlanta_l2                        2.308934e+00\n",
       "dallas_l2                        -3.337654e-01\n",
       "denver_l2                         3.409665e+00\n",
       "los_ang_l2                        3.438173e+00\n",
       "seattle_l2                        4.330320e+00\n",
       "san_fran_l2                       2.427954e+00\n",
       "onc_min_distsl1                   1.346105e+00\n",
       "onc_min_distsl2                  -2.324078e+00\n",
       "city_min_distsl1                 -4.118785e+00\n",
       "city_min_distsl2                  2.115211e+00\n",
       "sc_min_dists_l1                  -2.758268e+00\n",
       "sc_min_dists_l2                   1.754514e+00\n",
       "PCT_LACCESS_POP10                 3.537893e-02\n",
       "PCT_LACCESS_LOWI10               -4.034600e-02\n",
       "PCT_LACCESS_CHILD10              -6.227237e-01\n",
       "PCT_LACCESS_SENIORS10            -2.431128e-02\n",
       "PCT_LACCESS_HHNV10                1.920685e-01\n",
       "PCT_LACCESS_POP10_isnull          1.634438e-01\n",
       "PCT_LACCESS_LOWI10_isnull         1.634438e-01\n",
       "PCT_LACCESS_CHILD10_isnull        1.634438e-01\n",
       "PCT_LACCESS_SENIORS10_isnull      1.634438e-01\n",
       "PCT_LACCESS_HHNV10_isnull        -8.240840e+00\n",
       "FOODINSEC_00_02                   3.917220e-01\n",
       "FOODINSEC_07_09                  -3.734221e-01\n",
       "FOODINSEC_10_12                   4.012787e-01\n",
       "CH_FOODINSEC_02_12                9.841172e-03\n",
       "CH_FOODINSEC_09_12                7.751314e-01\n",
       "VLFOODSEC_00_02                  -8.751875e-01\n",
       "VLFOODSEC_07_09                   8.773215e-01\n",
       "VLFOODSEC_10_12                   1.196430e-01\n",
       "CH_VLFOODSEC_02_12                9.952634e-01\n",
       "CH_VLFOODSEC_09_12               -7.572460e-01\n",
       "FOODINSEC_CHILD_01_07             1.266317e+00\n",
       "FOODINSEC_CHILD_03_11            -1.692835e+00\n",
       "FOODINSEC_00_02_isnull           -1.442360e-03\n",
       "FOODINSEC_07_09_isnull           -1.442360e-03\n",
       "FOODINSEC_10_12_isnull           -1.442360e-03\n",
       "CH_FOODINSEC_02_12_isnull        -1.442360e-03\n",
       "CH_FOODINSEC_09_12_isnull        -1.442359e-03\n",
       "VLFOODSEC_00_02_isnull           -1.442359e-03\n",
       "VLFOODSEC_07_09_isnull           -1.442359e-03\n",
       "VLFOODSEC_10_12_isnull           -1.442359e-03\n",
       "CH_VLFOODSEC_02_12_isnull        -1.442359e-03\n",
       "CH_VLFOODSEC_09_12_isnull        -1.442359e-03\n",
       "FOODINSEC_CHILD_01_07_isnull     -1.442359e-03\n",
       "FOODINSEC_CHILD_03_11_isnull     -1.442359e-03\n",
       "PCT_LOCLFARM07                    3.227965e-01\n",
       "PCT_LOCLSALE07                    2.430070e-01\n",
       "PC_DIRSALES07                    -1.262541e-01\n",
       "FMRKT09                           2.829221e-01\n",
       "FMRKT13                          -2.136960e-01\n",
       "PCH_FMRKT_09_13                  -1.540977e-01\n",
       "FMRKTPTH09                        4.894622e+00\n",
       "FMRKTPTH13                       -5.534143e+00\n",
       "PCH_FMRKTPTH_09_13                1.579940e-01\n",
       "PCT_FMRKT_SNAP13                 -2.905792e-02\n",
       "PCT_FMRKT_WIC13                   1.873759e-02\n",
       "PCT_FMRKT_WICCASH13               1.431160e-02\n",
       "PCT_FMRKT_SFMNP13                -2.055403e-03\n",
       "PCT_FRMKT_FRVEG13                -1.566592e-02\n",
       "PCT_FRMKT_ANMLPROD13              7.797797e-03\n",
       "PCT_FMRKT_OTHER13                 2.399057e-03\n",
       "VEG_FARMS07                      -3.041331e-02\n",
       "VEG_ACRES07                       1.634414e-04\n",
       "VEG_ACRESPTH07                   -5.775185e-03\n",
       "FRESHVEG_FARMS07                  3.607098e-03\n",
       "FRESHVEG_ACRES07                 -1.542954e-04\n",
       "FRESHVEG_ACRESPTH07               2.789564e-03\n",
       "ORCHARD_FARMS07                   1.039970e-03\n",
       "ORCHARD_ACRES07                  -1.299029e-05\n",
       "ORCHARD_ACRESPTH07               -4.739862e-03\n",
       "BERRY_FARMS07                     1.344695e-02\n",
       "BERRY_ACRES07                    -2.977239e-04\n",
       "BERRY_ACRESPTH07                  3.135429e-02\n",
       "SLHOUSE07                        -2.509109e-01\n",
       "GHVEG_FARMS07                     7.990794e-02\n",
       "GHVEG_SQFT07                      1.812415e-06\n",
       "GHVEG_SQFTPTH07                  -4.690972e-04\n",
       "FOODHUB12                        -1.222226e-01\n",
       "CSA07                            -2.974975e-02\n",
       "AGRITRSM_OPS07                    8.061957e-03\n",
       "AGRITRSM_RCT07                    1.541811e-06\n",
       "FARM_TO_SCHOOL                   -3.277520e+00\n",
       "PCT_LOCLFARM07_isnull             8.253386e+00\n",
       "PCT_LOCLSALE07_isnull            -2.305861e+00\n",
       "PC_DIRSALES07_isnull              1.819871e+00\n",
       "FMRKT09_isnull                    1.868850e+01\n",
       "FMRKT13_isnull                    0.000000e+00\n",
       "PCH_FMRKT_09_13_isnull            8.001662e-01\n",
       "FMRKTPTH09_isnull                 1.868850e+01\n",
       "FMRKTPTH13_isnull                 0.000000e+00\n",
       "PCH_FMRKTPTH_09_13_isnull         8.001662e-01\n",
       "PCT_FMRKT_SNAP13_isnull           1.051916e-01\n",
       "PCT_FMRKT_WIC13_isnull            1.051916e-01\n",
       "PCT_FMRKT_WICCASH13_isnull        1.051916e-01\n",
       "PCT_FMRKT_SFMNP13_isnull          1.051916e-01\n",
       "PCT_FRMKT_FRVEG13_isnull          1.051916e-01\n",
       "PCT_FRMKT_ANMLPROD13_isnull       1.051916e-01\n",
       "PCT_FMRKT_OTHER13_isnull          1.051916e-01\n",
       "VEG_FARMS07_isnull               -1.742495e+00\n",
       "VEG_ACRES07_isnull               -8.791752e+00\n",
       "VEG_ACRESPTH07_isnull             9.896747e+00\n",
       "FRESHVEG_FARMS07_isnull          -1.742495e+00\n",
       "FRESHVEG_ACRES07_isnull           4.490631e-01\n",
       "FRESHVEG_ACRESPTH07_isnull        4.490631e-01\n",
       "ORCHARD_FARMS07_isnull           -1.742495e+00\n",
       "ORCHARD_ACRES07_isnull           -3.085975e-01\n",
       "ORCHARD_ACRESPTH07_isnull        -3.085975e-01\n",
       "BERRY_FARMS07_isnull             -1.742495e+00\n",
       "BERRY_ACRES07_isnull             -1.151325e-01\n",
       "BERRY_ACRESPTH07_isnull          -1.151325e-01\n",
       "SLHOUSE07_isnull                  0.000000e+00\n",
       "GHVEG_FARMS07_isnull             -1.742495e+00\n",
       "GHVEG_SQFT07_isnull              -4.531185e-01\n",
       "GHVEG_SQFTPTH07_isnull           -4.531185e-01\n",
       "FOODHUB12_isnull                  0.000000e+00\n",
       "CSA07_isnull                      0.000000e+00\n",
       "AGRITRSM_OPS07_isnull             0.000000e+00\n",
       "AGRITRSM_RCT07_isnull             4.189802e-01\n",
       "FARM_TO_SCHOOL_isnull             0.000000e+00\n",
       "PCT_DIABETES_ADULTS09             4.178602e-01\n",
       "PCT_DIABETES_ADULTS10            -3.510315e-01\n",
       "PCT_OBESE_ADULTS09               -1.131211e-01\n",
       "PCT_OBESE_ADULTS10                7.726839e-01\n",
       "PCT_OBESE_ADULTS13                3.031626e+00\n",
       "PCT_OBESE_CHILD08                -7.469103e-01\n",
       "PCT_OBESE_CHILD11                 5.324287e-01\n",
       "PCH_OBESE_CHILD_08_11            -7.628174e-01\n",
       "PCT_HSPA09                        8.789151e-01\n",
       "RECFAC07                         -1.719944e-02\n",
       "RECFAC12                          1.574673e-01\n",
       "PCH_RECFAC_07_12                 -2.410697e-01\n",
       "RECFACPTH07                      -1.889053e+01\n",
       "RECFACPTH12                       1.634411e+01\n",
       "PCH_RECFACPTH_07_12               2.299821e-01\n",
       "NATAMEN                          -8.239570e-01\n",
       "PCT_OBESE_CHILD08_isnull          8.649288e+00\n",
       "PCT_OBESE_CHILD11_isnull          3.585599e+00\n",
       "PCH_OBESE_CHILD_08_11_isnull     -8.909861e+00\n",
       "PCT_HSPA09_isnull                 2.509745e+00\n",
       "PCH_RECFAC_07_12_isnull           7.599867e-01\n",
       "PCH_RECFACPTH_07_12_isnull        7.599867e-01\n",
       "NATAMEN_isnull                    1.075218e+01\n",
       "PERPOV10                          1.191778e+00\n",
       "CHILDPOVRATE10                    1.508893e+00\n",
       "PERCHLDPOV10                      3.329998e-01\n",
       "METRO13                           7.971817e-01\n",
       "POPLOSS00                         4.002964e+00\n",
       "povertyPercent_log                3.561534e+01\n",
       "povertyPercent_sqrd               2.418473e-02\n",
       "MedianAge_log                    -2.380979e+01\n",
       "MedianAgeFemale_sqrd             -1.976851e-02\n",
       "AvgHouseholdSize_log              2.910125e+01\n",
       "PercentMarried_log               -2.838895e+01\n",
       "PercentMarried_sqrd              -1.217146e-02\n",
       "PctSomeCol18_24_log               1.192314e+01\n",
       "PctSomeCol18_24_sqrd              2.316095e-04\n",
       "PctHS25_Over_sqrd                -1.869830e-02\n",
       "PctBachDeg25_Over_log             1.467285e+00\n",
       "PctEmployed16_Over_log           -1.790171e+02\n",
       "PctEmployed16_Over_sqrd          -2.995869e-02\n",
       "PctPrivateCoverage_log            2.525173e+02\n",
       "PctEmpPrivCoverage_log           -4.388248e+01\n",
       "PctPublicCoverage_log             3.712718e+01\n",
       "PctPublicCoverageAlone_log       -1.592917e+01\n",
       "PctPublicCoverageAlone_sqrd       3.696494e-02\n",
       "PctWhite_sqrd                     8.844581e-03\n",
       "PctBlack_sqrd                    -1.108948e-02\n",
       "INTPTLONG_sqrd                   -7.540460e-02\n",
       "mskcc_l1_log                      1.669146e+01\n",
       "mayo_l1_log                      -1.992774e+00\n",
       "mayo_l1_sqrd                     -4.969637e-02\n",
       "dfb_l1_log                       -7.652371e+00\n",
       "dfb_l1_sqrd                      -3.641726e-01\n",
       "cleveland_l1_log                  1.762623e+01\n",
       "cleveland_l1_sqrd                 3.603538e-01\n",
       "upmcps_l1_log                     9.223769e+00\n",
       "mgs_l1_log                       -4.448588e+01\n",
       "atlanta_l1_log                    2.207967e+01\n",
       "denver_l1_sqrd                    2.268001e-02\n",
       "los_ang_l1_sqrd                  -3.522171e-02\n",
       "seattle_l1_log                    5.468347e+00\n",
       "hopkins_l2_log                   -1.077532e+00\n",
       "dfb_l2_log                        1.656173e+01\n",
       "cleveland_l2_log                  1.311818e+00\n",
       "upmcps_l2_log                    -1.701284e+01\n",
       "mgs_l2_log                        3.692593e+01\n",
       "atlanta_l2_log                   -1.320177e+01\n",
       "city_min_distsl1_sqrd             1.598539e-01\n",
       "sc_min_dists_l1_log              -3.624154e-01\n",
       "PCT_LACCESS_CHILD10_sqrd          9.860906e-03\n",
       "PCT_LACCESS_HHNV10_sqrd          -8.738673e-04\n",
       "PC_DIRSALES07_sqrd                1.049606e-03\n",
       "FMRKT13_sqrd                      1.957072e-03\n",
       "PCH_FMRKT_09_13_sqrd             -1.514347e-06\n",
       "PCT_OBESE_ADULTS13_log            4.031272e-01\n",
       "PCT_OBESE_ADULTS13_sqrd          -5.482629e-02\n",
       "CHILDPOVRATE10_log               -2.956122e+01\n",
       "dtype: float64"
      ]
     },
     "execution_count": 98,
     "metadata": {},
     "output_type": "execute_result"
    }
   ],
   "source": [
    "lr_3chol_coeffs = pd.Series(lr_3chol.coef_, index=X.columns) \n",
    "lr_3chol_coeffs"
   ]
  },
  {
   "cell_type": "code",
   "execution_count": 99,
   "metadata": {},
   "outputs": [
    {
     "data": {
      "text/plain": [
       "avgAnnCount                      -0.139998\n",
       "incidenceRate                     0.429436\n",
       "medIncome                        -0.432210\n",
       "popEst2015                       -0.115986\n",
       "povertyPercent                    0.435167\n",
       "studyPerCap                      -0.024890\n",
       "MedianAge                         0.001862\n",
       "MedianAgeMale                    -0.017983\n",
       "MedianAgeFemale                   0.019013\n",
       "AvgHouseholdSize                 -0.041219\n",
       "PercentMarried                   -0.263055\n",
       "PctNoHS18_24                      0.090024\n",
       "PctHS18_24                        0.276894\n",
       "PctSomeCol18_24                  -0.104714\n",
       "PctBachDeg18_24                  -0.287782\n",
       "PctHS25_Over                      0.408759\n",
       "PctBachDeg25_Over                -0.493734\n",
       "PctEmployed16_Over               -0.413245\n",
       "PctUnemployed16_Over              0.375829\n",
       "PctPrivateCoverage               -0.394586\n",
       "PctPrivateCoverageAlone          -0.341052\n",
       "PctEmpPrivCoverage               -0.280062\n",
       "PctPublicCoverage                 0.413010\n",
       "PctPublicCoverageAlone            0.456392\n",
       "PctWhite                         -0.177141\n",
       "PctBlack                          0.259112\n",
       "PctAsian                         -0.195755\n",
       "PctOtherRace                     -0.197665\n",
       "PctMarriedHouseholds             -0.293178\n",
       "BirthRate                        -0.066529\n",
       "PctSomeCol18_24_isnull            0.010296\n",
       "PctEmployed16_Over_isnull        -0.014518\n",
       "PctPrivateCoverageAlone_isnull   -0.024639\n",
       "age_gt_100                        0.008669\n",
       "household_lt_1                    0.030676\n",
       "binnedInc_(34218.1, 37413.8]      0.169119\n",
       "binnedInc_(37413.8, 40362.7]      0.101870\n",
       "binnedInc_(40362.7, 42724.4]      0.049598\n",
       "binnedInc_(42724.4, 45201]        0.010155\n",
       "binnedInc_(45201, 48021.6]       -0.015803\n",
       "binnedInc_(48021.6, 51046.4]     -0.106190\n",
       "binnedInc_(51046.4, 54545.6]     -0.112792\n",
       "binnedInc_(54545.6, 61494.5]     -0.170496\n",
       "binnedInc_(61494.5, 125635]      -0.226613\n",
       "binnedInc_[22640, 34218.1]        0.294821\n",
       "ALAND_SQMI                       -0.050821\n",
       "AWATER_SQMI                       0.000514\n",
       "INTPTLAT                         -0.185177\n",
       "INTPTLONG                         0.276047\n",
       "State_Alabama                     0.075783\n",
       "State_Alaska                      0.054500\n",
       "State_Arizona                    -0.082994\n",
       "State_Arkansas                    0.119621\n",
       "State_California                 -0.103529\n",
       "State_Colorado                   -0.200528\n",
       "State_Connecticut                -0.033437\n",
       "State_Delaware                    0.004932\n",
       "State_District of Columbia        0.002289\n",
       "State_Florida                    -0.003579\n",
       "State_Georgia                     0.037446\n",
       "State_Hawaii                     -0.044220\n",
       "State_Idaho                      -0.105613\n",
       "State_Illinois                    0.023283\n",
       "State_Indiana                     0.066095\n",
       "State_Iowa                       -0.086340\n",
       "State_Kansas                     -0.073783\n",
       "State_Kentucky                    0.271715\n",
       "State_Louisiana                   0.101204\n",
       "State_Maine                       0.015787\n",
       "State_Maryland                   -0.007721\n",
       "State_Massachusetts              -0.030770\n",
       "State_Michigan                   -0.009836\n",
       "State_Minnesota                  -0.106694\n",
       "State_Mississippi                 0.147819\n",
       "State_Missouri                    0.057783\n",
       "State_Montana                    -0.064201\n",
       "State_Nebraska                   -0.101575\n",
       "State_Nevada                     -0.002917\n",
       "State_New Hampshire              -0.014391\n",
       "State_New Jersey                 -0.034649\n",
       "State_New Mexico                 -0.094130\n",
       "State_New York                   -0.035172\n",
       "State_North Carolina              0.014049\n",
       "State_North Dakota               -0.080001\n",
       "State_Ohio                        0.049821\n",
       "State_Oklahoma                    0.089426\n",
       "State_Oregon                     -0.037558\n",
       "State_Pennsylvania               -0.024602\n",
       "State_Rhode Island               -0.024929\n",
       "State_South Carolina              0.055832\n",
       "State_South Dakota               -0.066206\n",
       "State_Tennessee                   0.142068\n",
       "State_Texas                      -0.068307\n",
       "State_Utah                       -0.156488\n",
       "State_Vermont                    -0.012620\n",
       "State_Virginia                    0.040228\n",
       "State_Washington                 -0.053009\n",
       "State_West Virginia               0.089444\n",
       "State_Wisconsin                  -0.035840\n",
       "State_Wyoming                    -0.057790\n",
       "utmda_l1                         -0.136567\n",
       "mskcc_l1                         -0.232390\n",
       "mayo_l1                          -0.060940\n",
       "hopkins_l1                       -0.266875\n",
       "dfb_l1                           -0.207442\n",
       "cleveland_l1                     -0.261447\n",
       "upmcps_l1                        -0.266849\n",
       "hlmcc_l1                         -0.340472\n",
       "mgs_l1                           -0.207147\n",
       "nw_mem_l1                        -0.229712\n",
       "chi_l1                           -0.229855\n",
       "nyc_l1                           -0.233314\n",
       "atlanta_l1                       -0.357372\n",
       "dallas_l1                        -0.096663\n",
       "denver_l1                         0.258811\n",
       "los_ang_l1                        0.231239\n",
       "seattle_l1                        0.354138\n",
       "san_fran_l1                       0.278900\n",
       "utmda_l2                         -0.159682\n",
       "mskcc_l2                         -0.274257\n",
       "mayo_l2                          -0.084661\n",
       "hopkins_l2                       -0.292775\n",
       "dfb_l2                           -0.263515\n",
       "cleveland_l2                     -0.300735\n",
       "upmcps_l2                        -0.304242\n",
       "hlmcc_l2                         -0.337991\n",
       "mgs_l2                           -0.263412\n",
       "nw_mem_l2                        -0.256159\n",
       "chi_l2                           -0.256319\n",
       "nyc_l2                           -0.274649\n",
       "atlanta_l2                       -0.354811\n",
       "dallas_l2                        -0.093831\n",
       "denver_l2                         0.257148\n",
       "los_ang_l2                        0.308879\n",
       "seattle_l2                        0.325172\n",
       "san_fran_l2                       0.316731\n",
       "onc_min_distsl1                  -0.168976\n",
       "onc_min_distsl2                  -0.172797\n",
       "city_min_distsl1                 -0.042435\n",
       "city_min_distsl2                 -0.043975\n",
       "sc_min_dists_l1                  -0.066692\n",
       "sc_min_dists_l2                  -0.063516\n",
       "PCT_LACCESS_POP10                -0.228200\n",
       "PCT_LACCESS_LOWI10               -0.095829\n",
       "PCT_LACCESS_CHILD10              -0.220051\n",
       "PCT_LACCESS_SENIORS10            -0.207766\n",
       "PCT_LACCESS_HHNV10                0.339486\n",
       "PCT_LACCESS_POP10_isnull         -0.010314\n",
       "PCT_LACCESS_LOWI10_isnull        -0.010314\n",
       "PCT_LACCESS_CHILD10_isnull       -0.010314\n",
       "PCT_LACCESS_SENIORS10_isnull     -0.010314\n",
       "PCT_LACCESS_HHNV10_isnull        -0.032058\n",
       "FOODINSEC_00_02                   0.061573\n",
       "FOODINSEC_07_09                   0.146702\n",
       "FOODINSEC_10_12                   0.188080\n",
       "CH_FOODINSEC_02_12                0.221847\n",
       "CH_FOODINSEC_09_12                0.134299\n",
       "VLFOODSEC_00_02                   0.027564\n",
       "VLFOODSEC_07_09                   0.118158\n",
       "VLFOODSEC_10_12                   0.181548\n",
       "CH_VLFOODSEC_02_12                0.194726\n",
       "CH_VLFOODSEC_09_12                0.133990\n",
       "FOODINSEC_CHILD_01_07             0.024132\n",
       "FOODINSEC_CHILD_03_11             0.081665\n",
       "FOODINSEC_00_02_isnull           -0.017098\n",
       "FOODINSEC_07_09_isnull           -0.017098\n",
       "FOODINSEC_10_12_isnull           -0.017098\n",
       "CH_FOODINSEC_02_12_isnull        -0.017098\n",
       "CH_FOODINSEC_09_12_isnull        -0.017098\n",
       "VLFOODSEC_00_02_isnull           -0.017098\n",
       "VLFOODSEC_07_09_isnull           -0.017098\n",
       "VLFOODSEC_10_12_isnull           -0.017098\n",
       "CH_VLFOODSEC_02_12_isnull        -0.017098\n",
       "CH_VLFOODSEC_09_12_isnull        -0.017098\n",
       "FOODINSEC_CHILD_01_07_isnull     -0.017098\n",
       "FOODINSEC_CHILD_03_11_isnull     -0.017098\n",
       "PCT_LOCLFARM07                   -0.092918\n",
       "PCT_LOCLSALE07                   -0.020471\n",
       "PC_DIRSALES07                    -0.120764\n",
       "FMRKT09                          -0.134898\n",
       "FMRKT13                          -0.139147\n",
       "PCH_FMRKT_09_13                  -0.094603\n",
       "FMRKTPTH09                       -0.086926\n",
       "FMRKTPTH13                       -0.103780\n",
       "PCH_FMRKTPTH_09_13               -0.084482\n",
       "PCT_FMRKT_SNAP13                 -0.081165\n",
       "PCT_FMRKT_WIC13                  -0.025214\n",
       "PCT_FMRKT_WICCASH13              -0.024742\n",
       "PCT_FMRKT_SFMNP13                 0.000859\n",
       "PCT_FRMKT_FRVEG13                 0.022737\n",
       "PCT_FRMKT_ANMLPROD13             -0.019248\n",
       "PCT_FMRKT_OTHER13                 0.012024\n",
       "VEG_FARMS07                      -0.112615\n",
       "VEG_ACRES07                      -0.104728\n",
       "VEG_ACRESPTH07                   -0.112142\n",
       "FRESHVEG_FARMS07                 -0.101797\n",
       "FRESHVEG_ACRES07                 -0.079297\n",
       "FRESHVEG_ACRESPTH07              -0.071041\n",
       "ORCHARD_FARMS07                  -0.085779\n",
       "ORCHARD_ACRES07                  -0.062331\n",
       "ORCHARD_ACRESPTH07               -0.041907\n",
       "BERRY_FARMS07                    -0.051270\n",
       "BERRY_ACRES07                    -0.023492\n",
       "BERRY_ACRESPTH07                  0.023666\n",
       "SLHOUSE07                        -0.103664\n",
       "GHVEG_FARMS07                    -0.110282\n",
       "GHVEG_SQFT07                     -0.066036\n",
       "GHVEG_SQFTPTH07                   0.001211\n",
       "FOODHUB12                        -0.067566\n",
       "CSA07                            -0.133491\n",
       "AGRITRSM_OPS07                   -0.168127\n",
       "AGRITRSM_RCT07                   -0.158079\n",
       "FARM_TO_SCHOOL                   -0.099052\n",
       "PCT_LOCLFARM07_isnull             0.062115\n",
       "PCT_LOCLSALE07_isnull             0.041440\n",
       "PC_DIRSALES07_isnull              0.040988\n",
       "FMRKT09_isnull                   -0.015065\n",
       "FMRKT13_isnull                         NaN\n",
       "PCH_FMRKT_09_13_isnull            0.062339\n",
       "FMRKTPTH09_isnull                -0.015065\n",
       "FMRKTPTH13_isnull                      NaN\n",
       "PCH_FMRKTPTH_09_13_isnull         0.062339\n",
       "PCT_FMRKT_SNAP13_isnull           0.068873\n",
       "PCT_FMRKT_WIC13_isnull            0.068873\n",
       "PCT_FMRKT_WICCASH13_isnull        0.068873\n",
       "PCT_FMRKT_SFMNP13_isnull          0.068873\n",
       "PCT_FRMKT_FRVEG13_isnull          0.068873\n",
       "PCT_FRMKT_ANMLPROD13_isnull       0.068873\n",
       "PCT_FMRKT_OTHER13_isnull          0.068873\n",
       "VEG_FARMS07_isnull                0.067595\n",
       "VEG_ACRES07_isnull               -0.035981\n",
       "VEG_ACRESPTH07_isnull            -0.036729\n",
       "FRESHVEG_FARMS07_isnull           0.067595\n",
       "FRESHVEG_ACRES07_isnull           0.044529\n",
       "FRESHVEG_ACRESPTH07_isnull        0.044529\n",
       "ORCHARD_FARMS07_isnull            0.067595\n",
       "ORCHARD_ACRES07_isnull            0.006085\n",
       "ORCHARD_ACRESPTH07_isnull         0.006085\n",
       "BERRY_FARMS07_isnull              0.067595\n",
       "BERRY_ACRES07_isnull              0.082510\n",
       "BERRY_ACRESPTH07_isnull           0.082510\n",
       "SLHOUSE07_isnull                       NaN\n",
       "GHVEG_FARMS07_isnull              0.067595\n",
       "GHVEG_SQFT07_isnull              -0.049208\n",
       "GHVEG_SQFTPTH07_isnull           -0.049208\n",
       "FOODHUB12_isnull                       NaN\n",
       "CSA07_isnull                           NaN\n",
       "AGRITRSM_OPS07_isnull                  NaN\n",
       "AGRITRSM_RCT07_isnull             0.025211\n",
       "FARM_TO_SCHOOL_isnull                  NaN\n",
       "PCT_DIABETES_ADULTS09             0.535441\n",
       "PCT_DIABETES_ADULTS10             0.539451\n",
       "PCT_OBESE_ADULTS09                0.517969\n",
       "PCT_OBESE_ADULTS10                0.529023\n",
       "PCT_OBESE_ADULTS13                0.439013\n",
       "PCT_OBESE_CHILD08                 0.076485\n",
       "PCT_OBESE_CHILD11                 0.139029\n",
       "PCH_OBESE_CHILD_08_11             0.017480\n",
       "PCT_HSPA09                       -0.145572\n",
       "RECFAC07                         -0.143733\n",
       "RECFAC12                         -0.138830\n",
       "PCH_RECFAC_07_12                 -0.032902\n",
       "RECFACPTH07                      -0.215701\n",
       "RECFACPTH12                      -0.204573\n",
       "PCH_RECFACPTH_07_12              -0.015862\n",
       "NATAMEN                          -0.179379\n",
       "PCT_OBESE_CHILD08_isnull         -0.111130\n",
       "PCT_OBESE_CHILD11_isnull         -0.027754\n",
       "PCH_OBESE_CHILD_08_11_isnull     -0.086346\n",
       "PCT_HSPA09_isnull                -0.140397\n",
       "PCH_RECFAC_07_12_isnull           0.071813\n",
       "PCH_RECFACPTH_07_12_isnull        0.071813\n",
       "NATAMEN_isnull                    0.024261\n",
       "PERPOV10                          0.273511\n",
       "CHILDPOVRATE10                    0.453325\n",
       "PERCHLDPOV10                      0.302056\n",
       "METRO13                          -0.085642\n",
       "POPLOSS00                         0.043742\n",
       "povertyPercent_log                0.443893\n",
       "povertyPercent_sqrd               0.399314\n",
       "MedianAge_log                     0.020197\n",
       "MedianAgeFemale_sqrd              0.000720\n",
       "AvgHouseholdSize_log             -0.026491\n",
       "PercentMarried_log               -0.253300\n",
       "PercentMarried_sqrd              -0.270606\n",
       "PctSomeCol18_24_log              -0.089871\n",
       "PctSomeCol18_24_sqrd             -0.105170\n",
       "PctHS25_Over_sqrd                 0.389445\n",
       "PctBachDeg25_Over_log            -0.504272\n",
       "PctEmployed16_Over_log           -0.395799\n",
       "PctEmployed16_Over_sqrd          -0.422093\n",
       "PctPrivateCoverage_log           -0.372819\n",
       "PctEmpPrivCoverage_log           -0.263689\n",
       "PctPublicCoverage_log             0.415566\n",
       "PctPublicCoverageAlone_log        0.454496\n",
       "PctPublicCoverageAlone_sqrd       0.434545\n",
       "PctWhite_sqrd                    -0.161471\n",
       "PctBlack_sqrd                     0.229249\n",
       "INTPTLONG_sqrd                   -0.266463\n",
       "mskcc_l1_log                     -0.140322\n",
       "mayo_l1_log                       0.017882\n",
       "mayo_l1_sqrd                     -0.040980\n",
       "dfb_l1_log                       -0.119276\n",
       "dfb_l1_sqrd                      -0.166065\n",
       "cleveland_l1_log                 -0.272177\n",
       "cleveland_l1_sqrd                -0.144453\n",
       "upmcps_l1_log                    -0.257720\n",
       "mgs_l1_log                       -0.119360\n",
       "atlanta_l1_log                   -0.396230\n",
       "denver_l1_sqrd                    0.165899\n",
       "los_ang_l1_sqrd                   0.176109\n",
       "seattle_l1_log                    0.285513\n",
       "hopkins_l2_log                   -0.222774\n",
       "dfb_l2_log                       -0.164756\n",
       "cleveland_l2_log                 -0.312810\n",
       "upmcps_l2_log                    -0.294679\n",
       "mgs_l2_log                       -0.164757\n",
       "atlanta_l2_log                   -0.388316\n",
       "city_min_distsl1_sqrd             0.010424\n",
       "sc_min_dists_l1_log              -0.053466\n",
       "PCT_LACCESS_CHILD10_sqrd         -0.153021\n",
       "PCT_LACCESS_HHNV10_sqrd           0.130630\n",
       "PC_DIRSALES07_sqrd               -0.055254\n",
       "FMRKT13_sqrd                     -0.043233\n",
       "PCH_FMRKT_09_13_sqrd             -0.039259\n",
       "PCT_OBESE_ADULTS13_log            0.433522\n",
       "PCT_OBESE_ADULTS13_sqrd           0.442870\n",
       "CHILDPOVRATE10_log                0.446911\n",
       "dtype: float64"
      ]
     },
     "execution_count": 99,
     "metadata": {},
     "output_type": "execute_result"
    }
   ],
   "source": [
    "X_train_corrwith_chol = X_train.corrwith(y_train_chol)\n",
    "X_train_corrwith_chol"
   ]
  },
  {
   "cell_type": "code",
   "execution_count": 100,
   "metadata": {},
   "outputs": [
    {
     "data": {
      "text/plain": [
       "0.5426829268292683"
      ]
     },
     "execution_count": 100,
     "metadata": {},
     "output_type": "execute_result"
    }
   ],
   "source": [
    "same_sign_chol = ((X_train_corrwith_chol >= 0) & (lr_3chol_coeffs >= 0) | (X_train_corrwith_chol < 0) & (lr_3chol_coeffs < 0))\n",
    "same_sign_chol.sum()/len(same_sign_chol)"
   ]
  },
  {
   "cell_type": "code",
   "execution_count": 101,
   "metadata": {
    "scrolled": false
   },
   "outputs": [
    {
     "data": {
      "text/plain": [
       "True     178\n",
       "False    150\n",
       "dtype: int64"
      ]
     },
     "execution_count": 101,
     "metadata": {},
     "output_type": "execute_result"
    }
   ],
   "source": [
    "same_sign_chol.value_counts()"
   ]
  },
  {
   "cell_type": "markdown",
   "metadata": {},
   "source": [
    "There is no change in the 'same_sign' proportion using the 'cholesky' solver."
   ]
  },
  {
   "cell_type": "markdown",
   "metadata": {},
   "source": [
    "## Trying the basic OLS Linear Regression regressor"
   ]
  },
  {
   "cell_type": "markdown",
   "metadata": {},
   "source": [
    "Next, the basic OLS Linear Regression algorithm is tried. This algorithm performed only slightly worse than Ridge Regression, but it is tried just in case there was something about the Ridge Regression algorithm which altered the relationship between the correlation coefficients and regression coefficients."
   ]
  },
  {
   "cell_type": "code",
   "execution_count": 102,
   "metadata": {},
   "outputs": [
    {
     "data": {
      "text/plain": [
       "LinearRegression(copy_X=True, fit_intercept=True, n_jobs=None,\n",
       "         normalize=False)"
      ]
     },
     "execution_count": 102,
     "metadata": {},
     "output_type": "execute_result"
    }
   ],
   "source": [
    "lr_2 = linear_model.LinearRegression()\n",
    "lr_2"
   ]
  },
  {
   "cell_type": "code",
   "execution_count": 103,
   "metadata": {
    "scrolled": true
   },
   "outputs": [
    {
     "data": {
      "text/plain": [
       "LinearRegression(copy_X=True, fit_intercept=True, n_jobs=None,\n",
       "         normalize=False)"
      ]
     },
     "execution_count": 103,
     "metadata": {},
     "output_type": "execute_result"
    }
   ],
   "source": [
    "lr_2.fit(X_train, y_train)"
   ]
  },
  {
   "cell_type": "code",
   "execution_count": 104,
   "metadata": {},
   "outputs": [
    {
     "data": {
      "text/plain": [
       "array([193.43076022, 190.79549479, 216.14766197, 139.15685695,\n",
       "       225.40659532, 196.12564798, 173.12573478, 170.47723738,\n",
       "       196.51814602, 230.39423481, 197.22011038, 175.54912298,\n",
       "       202.47658953, 187.68025628, 154.69078527, 188.18074488,\n",
       "       201.16786053, 156.98379718, 174.44087904, 179.39307531])"
      ]
     },
     "execution_count": 104,
     "metadata": {},
     "output_type": "execute_result"
    }
   ],
   "source": [
    "y_pred_2_train = lr_2.predict(X_train)\n",
    "y_pred_2_train[0:20]"
   ]
  },
  {
   "cell_type": "code",
   "execution_count": 105,
   "metadata": {},
   "outputs": [
    {
     "name": "stdout",
     "output_type": "stream",
     "text": [
      "Training Set R^2: 0.6466260171457876\n",
      "Training Set Root Mean Squared Error: 16.587832150231034\n"
     ]
    }
   ],
   "source": [
    "print(\"Training Set R^2: {}\".format(lr_2.score(X_train, y_train)))\n",
    "rmse_2_train = np.sqrt(mean_squared_error(y_train, y_pred_2_train))\n",
    "print(\"Training Set Root Mean Squared Error: {}\".format(rmse_2_train))"
   ]
  },
  {
   "cell_type": "code",
   "execution_count": 106,
   "metadata": {},
   "outputs": [
    {
     "data": {
      "text/plain": [
       "array([177.32331018, 174.71390586, 162.20675843, 175.78673799,\n",
       "       178.88472736, 195.88785672, 173.28360857, 164.24285469,\n",
       "       175.00771172, 171.91171712, 177.00965019, 206.91234961,\n",
       "       158.15670143, 157.54265212, 219.88087446, 108.69274019,\n",
       "       188.3489999 , 205.9336845 , 208.31387718, 183.87287741])"
      ]
     },
     "execution_count": 106,
     "metadata": {},
     "output_type": "execute_result"
    }
   ],
   "source": [
    "y_pred_2_test = lr_2.predict(X_test)\n",
    "y_pred_2_test[0:20]"
   ]
  },
  {
   "cell_type": "code",
   "execution_count": 107,
   "metadata": {},
   "outputs": [
    {
     "name": "stdout",
     "output_type": "stream",
     "text": [
      "Test Set R^2: 0.6406253865183126\n",
      "Test Set Root Mean Squared Error: 16.199560036310984\n"
     ]
    }
   ],
   "source": [
    "print(\"Test Set R^2: {}\".format(lr_2.score(X_test, y_test)))\n",
    "rmse_2_test = np.sqrt(mean_squared_error(y_test, y_pred_2_test))\n",
    "print(\"Test Set Root Mean Squared Error: {}\".format(rmse_2_test))"
   ]
  },
  {
   "cell_type": "code",
   "execution_count": 108,
   "metadata": {
    "scrolled": true
   },
   "outputs": [
    {
     "data": {
      "text/plain": [
       "avgAnnCount                      -3.338686e-03\n",
       "incidenceRate                     1.579467e-01\n",
       "medIncome                         3.944710e-05\n",
       "popEst2015                       -2.944186e-07\n",
       "povertyPercent                   -2.958029e+00\n",
       "studyPerCap                       1.737154e-04\n",
       "MedianAge                         1.132936e+00\n",
       "MedianAgeMale                    -5.998807e-01\n",
       "MedianAgeFemale                   1.407140e+00\n",
       "AvgHouseholdSize                 -6.469404e+00\n",
       "PercentMarried                    2.327768e+00\n",
       "PctNoHS18_24                     -1.062508e-02\n",
       "PctHS18_24                        1.991986e-01\n",
       "PctSomeCol18_24                  -2.701692e-01\n",
       "PctBachDeg18_24                  -1.615002e-01\n",
       "PctHS25_Over                      1.481759e+00\n",
       "PctBachDeg25_Over                -4.917822e-01\n",
       "PctEmployed16_Over                6.686158e+00\n",
       "PctUnemployed16_Over              1.184963e-01\n",
       "PctPrivateCoverage               -4.421976e+00\n",
       "PctPrivateCoverageAlone           1.308252e-01\n",
       "PctEmpPrivCoverage                1.064715e+00\n",
       "PctPublicCoverage                -1.264833e+00\n",
       "PctPublicCoverageAlone           -5.105585e-01\n",
       "PctWhite                         -1.328631e+00\n",
       "PctBlack                          2.792295e-01\n",
       "PctAsian                         -3.849777e-01\n",
       "PctOtherRace                     -2.777622e-01\n",
       "PctMarriedHouseholds             -8.136018e-01\n",
       "BirthRate                        -6.213497e-01\n",
       "PctSomeCol18_24_isnull            3.202290e-01\n",
       "PctEmployed16_Over_isnull         5.802127e-01\n",
       "PctPrivateCoverageAlone_isnull    3.594140e-01\n",
       "age_gt_100                        4.011693e+00\n",
       "household_lt_1                   -5.175235e-01\n",
       "binnedInc_(34218.1, 37413.8]      2.250760e+00\n",
       "binnedInc_(37413.8, 40362.7]      3.540869e-02\n",
       "binnedInc_(40362.7, 42724.4]     -1.361301e+00\n",
       "binnedInc_(42724.4, 45201]       -7.350653e-02\n",
       "binnedInc_(45201, 48021.6]       -5.675444e-01\n",
       "binnedInc_(48021.6, 51046.4]     -1.981477e+00\n",
       "binnedInc_(51046.4, 54545.6]     -1.945486e+00\n",
       "binnedInc_(54545.6, 61494.5]     -1.745001e+00\n",
       "binnedInc_(61494.5, 125635]      -6.054463e-01\n",
       "binnedInc_[22640, 34218.1]        5.993583e+00\n",
       "ALAND_SQMI                        8.161585e-06\n",
       "AWATER_SQMI                      -2.355102e-03\n",
       "INTPTLAT                         -3.659026e+00\n",
       "INTPTLONG                        -2.571893e+01\n",
       "State_Alabama                     5.450910e+00\n",
       "State_Alaska                      3.561674e+01\n",
       "State_Arizona                     1.796590e+01\n",
       "State_Arkansas                    5.309563e+00\n",
       "State_California                  2.991479e+01\n",
       "State_Colorado                    6.593541e-01\n",
       "State_Connecticut                -1.812478e+01\n",
       "State_Delaware                   -4.902798e+00\n",
       "State_District of Columbia        1.422274e+01\n",
       "State_Florida                     2.018212e+01\n",
       "State_Georgia                    -1.419640e+00\n",
       "State_Hawaii                     -4.284018e+01\n",
       "State_Idaho                      -9.026724e+00\n",
       "State_Illinois                   -1.484034e+01\n",
       "State_Indiana                    -7.111485e+00\n",
       "State_Iowa                       -1.552522e+01\n",
       "State_Kansas                      3.157126e+00\n",
       "State_Kentucky                    4.797875e-02\n",
       "State_Louisiana                   4.281527e+00\n",
       "State_Maine                      -1.658669e+00\n",
       "State_Maryland                    2.289170e+00\n",
       "State_Massachusetts              -5.882017e-01\n",
       "State_Michigan                   -9.897879e+00\n",
       "State_Minnesota                  -6.654537e+00\n",
       "State_Mississippi                 9.194414e+00\n",
       "State_Missouri                   -5.712145e+00\n",
       "State_Montana                    -6.961325e+00\n",
       "State_Nebraska                   -6.216528e+00\n",
       "State_Nevada                      4.351978e+01\n",
       "State_New Hampshire              -1.088509e+01\n",
       "State_New Jersey                 -6.774663e+00\n",
       "State_New Mexico                  6.031778e+00\n",
       "State_New York                   -3.356589e+00\n",
       "State_North Carolina             -1.348821e+01\n",
       "State_North Dakota               -5.454862e+00\n",
       "State_Ohio                       -1.271666e+01\n",
       "State_Oklahoma                    1.076829e+01\n",
       "State_Oregon                      2.624921e+00\n",
       "State_Pennsylvania               -9.333156e+00\n",
       "State_Rhode Island               -2.082508e+01\n",
       "State_South Carolina              9.823573e+00\n",
       "State_South Dakota               -2.940698e+00\n",
       "State_Tennessee                   2.599941e-03\n",
       "State_Texas                       2.632245e+00\n",
       "State_Utah                        1.816737e+01\n",
       "State_Vermont                    -7.001382e+00\n",
       "State_Virginia                    1.391591e+00\n",
       "State_Washington                 -4.101774e+00\n",
       "State_West Virginia              -2.200973e-01\n",
       "State_Wisconsin                   2.423047e-01\n",
       "State_Wyoming                     5.081930e+00\n",
       "utmda_l1                         -2.029473e+00\n",
       "mskcc_l1                         -2.168223e-01\n",
       "mayo_l1                           1.686959e+00\n",
       "hopkins_l1                        2.471808e+00\n",
       "dfb_l1                           -1.726735e+01\n",
       "cleveland_l1                     -1.082736e+01\n",
       "upmcps_l1                         1.592179e+00\n",
       "hlmcc_l1                          1.765452e+00\n",
       "mgs_l1                            3.525134e+01\n",
       "nw_mem_l1                         4.590829e+01\n",
       "chi_l1                           -4.509067e+01\n",
       "nyc_l1                           -1.849660e+00\n",
       "atlanta_l1                       -1.763293e+00\n",
       "dallas_l1                         2.199612e+00\n",
       "denver_l1                        -1.868714e+00\n",
       "los_ang_l1                       -1.561850e-01\n",
       "seattle_l1                       -3.031928e+00\n",
       "san_fran_l1                      -2.232025e+00\n",
       "utmda_l2                          9.557792e-01\n",
       "mskcc_l2                          1.473044e+02\n",
       "mayo_l2                           1.647210e-01\n",
       "hopkins_l2                        9.948624e-01\n",
       "dfb_l2                           -1.309860e+02\n",
       "cleveland_l2                     -1.138405e+01\n",
       "upmcps_l2                         1.771077e+01\n",
       "hlmcc_l2                         -4.066432e-01\n",
       "mgs_l2                            1.075829e+02\n",
       "nw_mem_l2                         5.689488e+02\n",
       "chi_l2                           -5.670137e+02\n",
       "nyc_l2                           -1.483476e+02\n",
       "atlanta_l2                        2.763707e+00\n",
       "dallas_l2                        -3.330946e-01\n",
       "denver_l2                         3.164065e+00\n",
       "los_ang_l2                        3.485718e+00\n",
       "seattle_l2                        4.030720e+00\n",
       "san_fran_l2                       2.232829e+00\n",
       "onc_min_distsl1                   1.450893e+00\n",
       "onc_min_distsl2                  -2.407664e+00\n",
       "city_min_distsl1                 -4.111022e+00\n",
       "city_min_distsl2                  2.167275e+00\n",
       "sc_min_dists_l1                  -2.749876e+00\n",
       "sc_min_dists_l2                   1.774031e+00\n",
       "PCT_LACCESS_POP10                 4.258407e-02\n",
       "PCT_LACCESS_LOWI10               -4.318730e-02\n",
       "PCT_LACCESS_CHILD10              -6.338426e-01\n",
       "PCT_LACCESS_SENIORS10            -3.722334e-02\n",
       "PCT_LACCESS_HHNV10                2.006725e-01\n",
       "PCT_LACCESS_POP10_isnull          1.537667e-01\n",
       "PCT_LACCESS_LOWI10_isnull         1.537667e-01\n",
       "PCT_LACCESS_CHILD10_isnull        1.537668e-01\n",
       "PCT_LACCESS_SENIORS10_isnull      1.537667e-01\n",
       "PCT_LACCESS_HHNV10_isnull        -8.239702e+00\n",
       "FOODINSEC_00_02                   3.875126e-01\n",
       "FOODINSEC_07_09                  -3.569766e-01\n",
       "FOODINSEC_10_12                   4.052928e-01\n",
       "CH_FOODINSEC_02_12                1.819453e-02\n",
       "CH_FOODINSEC_09_12                7.628920e-01\n",
       "VLFOODSEC_00_02                  -8.795956e-01\n",
       "VLFOODSEC_07_09                   8.599974e-01\n",
       "VLFOODSEC_10_12                   1.123025e-01\n",
       "CH_VLFOODSEC_02_12                9.925223e-01\n",
       "CH_VLFOODSEC_09_12               -7.470696e-01\n",
       "FOODINSEC_CHILD_01_07             1.268320e+00\n",
       "FOODINSEC_CHILD_03_11            -1.703673e+00\n",
       "FOODINSEC_00_02_isnull           -2.081728e-03\n",
       "FOODINSEC_07_09_isnull           -2.081730e-03\n",
       "FOODINSEC_10_12_isnull           -2.081727e-03\n",
       "CH_FOODINSEC_02_12_isnull        -2.081722e-03\n",
       "CH_FOODINSEC_09_12_isnull        -2.081731e-03\n",
       "VLFOODSEC_00_02_isnull           -2.081737e-03\n",
       "VLFOODSEC_07_09_isnull           -2.081725e-03\n",
       "VLFOODSEC_10_12_isnull           -2.081740e-03\n",
       "CH_VLFOODSEC_02_12_isnull        -2.081728e-03\n",
       "CH_VLFOODSEC_09_12_isnull        -2.081733e-03\n",
       "FOODINSEC_CHILD_01_07_isnull     -2.081737e-03\n",
       "FOODINSEC_CHILD_03_11_isnull     -2.081725e-03\n",
       "PCT_LOCLFARM07                    3.249575e-01\n",
       "PCT_LOCLSALE07                    2.492210e-01\n",
       "PC_DIRSALES07                    -1.247592e-01\n",
       "FMRKT09                           2.844277e-01\n",
       "FMRKT13                          -2.062892e-01\n",
       "PCH_FMRKT_09_13                  -1.534634e-01\n",
       "FMRKTPTH09                        5.105339e+00\n",
       "FMRKTPTH13                       -5.828474e+00\n",
       "PCH_FMRKTPTH_09_13                1.575053e-01\n",
       "PCT_FMRKT_SNAP13                 -2.919611e-02\n",
       "PCT_FMRKT_WIC13                   1.934259e-02\n",
       "PCT_FMRKT_WICCASH13               1.408704e-02\n",
       "PCT_FMRKT_SFMNP13                -2.133243e-03\n",
       "PCT_FRMKT_FRVEG13                -1.567018e-02\n",
       "PCT_FRMKT_ANMLPROD13              7.507180e-03\n",
       "PCT_FMRKT_OTHER13                 2.375140e-03\n",
       "VEG_FARMS07                      -2.683193e-02\n",
       "VEG_ACRES07                       1.605854e-04\n",
       "VEG_ACRESPTH07                   -5.792263e-03\n",
       "FRESHVEG_FARMS07                  1.584567e-04\n",
       "FRESHVEG_ACRES07                 -1.534637e-04\n",
       "FRESHVEG_ACRESPTH07               2.731510e-03\n",
       "ORCHARD_FARMS07                   1.091488e-03\n",
       "ORCHARD_ACRES07                  -1.305458e-05\n",
       "ORCHARD_ACRESPTH07               -4.683614e-03\n",
       "BERRY_FARMS07                     1.384459e-02\n",
       "BERRY_ACRES07                    -2.671705e-04\n",
       "BERRY_ACRESPTH07                  3.012116e-02\n",
       "SLHOUSE07                        -2.533018e-01\n",
       "GHVEG_FARMS07                     8.410438e-02\n",
       "GHVEG_SQFT07                      1.863231e-06\n",
       "GHVEG_SQFTPTH07                  -4.744428e-04\n",
       "FOODHUB12                        -1.836182e-01\n",
       "CSA07                            -3.476180e-02\n",
       "AGRITRSM_OPS07                    9.332293e-03\n",
       "AGRITRSM_RCT07                    1.516348e-06\n",
       "FARM_TO_SCHOOL                   -3.266286e+00\n",
       "PCT_LOCLFARM07_isnull             8.156590e+00\n",
       "PCT_LOCLSALE07_isnull            -2.254089e+00\n",
       "PC_DIRSALES07_isnull              1.772713e+00\n",
       "FMRKT09_isnull                    1.833282e+01\n",
       "FMRKT13_isnull                   -2.246557e-09\n",
       "PCH_FMRKT_09_13_isnull            8.192038e-01\n",
       "FMRKTPTH09_isnull                 1.833282e+01\n",
       "FMRKTPTH13_isnull                 1.866216e-09\n",
       "PCH_FMRKTPTH_09_13_isnull         8.192039e-01\n",
       "PCT_FMRKT_SNAP13_isnull           1.055129e-01\n",
       "PCT_FMRKT_WIC13_isnull            1.055130e-01\n",
       "PCT_FMRKT_WICCASH13_isnull        1.055130e-01\n",
       "PCT_FMRKT_SFMNP13_isnull          1.055130e-01\n",
       "PCT_FRMKT_FRVEG13_isnull          1.055130e-01\n",
       "PCT_FRMKT_ANMLPROD13_isnull       1.055130e-01\n",
       "PCT_FMRKT_OTHER13_isnull          1.055130e-01\n",
       "VEG_FARMS07_isnull               -1.695601e+00\n",
       "VEG_ACRES07_isnull               -8.619422e+00\n",
       "VEG_ACRESPTH07_isnull             9.713397e+00\n",
       "FRESHVEG_FARMS07_isnull          -1.695601e+00\n",
       "FRESHVEG_ACRES07_isnull           4.550181e-01\n",
       "FRESHVEG_ACRESPTH07_isnull        4.550180e-01\n",
       "ORCHARD_FARMS07_isnull           -1.695601e+00\n",
       "ORCHARD_ACRES07_isnull           -3.067784e-01\n",
       "ORCHARD_ACRESPTH07_isnull        -3.067783e-01\n",
       "BERRY_FARMS07_isnull             -1.695601e+00\n",
       "BERRY_ACRES07_isnull             -1.217247e-01\n",
       "BERRY_ACRESPTH07_isnull          -1.217246e-01\n",
       "SLHOUSE07_isnull                  4.666987e-10\n",
       "GHVEG_FARMS07_isnull             -1.695601e+00\n",
       "GHVEG_SQFT07_isnull              -4.547294e-01\n",
       "GHVEG_SQFTPTH07_isnull           -4.547294e-01\n",
       "FOODHUB12_isnull                 -1.890736e-10\n",
       "CSA07_isnull                     -3.452119e-10\n",
       "AGRITRSM_OPS07_isnull            -2.167393e-10\n",
       "AGRITRSM_RCT07_isnull             4.345118e-01\n",
       "FARM_TO_SCHOOL_isnull            -1.598384e-10\n",
       "PCT_DIABETES_ADULTS09             4.220174e-01\n",
       "PCT_DIABETES_ADULTS10            -3.492636e-01\n",
       "PCT_OBESE_ADULTS09               -1.148707e-01\n",
       "PCT_OBESE_ADULTS10                7.672443e-01\n",
       "PCT_OBESE_ADULTS13                3.070655e+00\n",
       "PCT_OBESE_CHILD08                -7.482017e-01\n",
       "PCT_OBESE_CHILD11                 5.322832e-01\n",
       "PCH_OBESE_CHILD_08_11            -7.621637e-01\n",
       "PCT_HSPA09                        9.098849e-01\n",
       "RECFAC07                         -2.599943e-02\n",
       "RECFAC12                          1.666872e-01\n",
       "PCH_RECFAC_07_12                 -2.440072e-01\n",
       "RECFACPTH07                      -1.879046e+01\n",
       "RECFACPTH12                       1.621429e+01\n",
       "PCH_RECFACPTH_07_12               2.328594e-01\n",
       "NATAMEN                          -8.194333e-01\n",
       "PCT_OBESE_CHILD08_isnull          8.681053e+00\n",
       "PCT_OBESE_CHILD11_isnull          3.566596e+00\n",
       "PCH_OBESE_CHILD_08_11_isnull     -8.905984e+00\n",
       "PCT_HSPA09_isnull                 2.939330e+00\n",
       "PCH_RECFAC_07_12_isnull           7.480178e-01\n",
       "PCH_RECFACPTH_07_12_isnull        7.480179e-01\n",
       "NATAMEN_isnull                    1.110938e+01\n",
       "PERPOV10                          1.167949e+00\n",
       "CHILDPOVRATE10                    1.514143e+00\n",
       "PERCHLDPOV10                      2.916787e-01\n",
       "METRO13                           7.729092e-01\n",
       "POPLOSS00                         4.040572e+00\n",
       "povertyPercent_log                3.517952e+01\n",
       "povertyPercent_sqrd               2.377090e-02\n",
       "MedianAge_log                    -2.689617e+01\n",
       "MedianAgeFemale_sqrd             -2.047541e-02\n",
       "AvgHouseholdSize_log              2.937678e+01\n",
       "PercentMarried_log               -3.002552e+01\n",
       "PercentMarried_sqrd              -1.273234e-02\n",
       "PctSomeCol18_24_log               1.223802e+01\n",
       "PctSomeCol18_24_sqrd              3.681698e-04\n",
       "PctHS25_Over_sqrd                -1.873259e-02\n",
       "PctBachDeg25_Over_log             1.581290e+00\n",
       "PctEmployed16_Over_log           -1.835596e+02\n",
       "PctEmployed16_Over_sqrd          -3.092740e-02\n",
       "PctPrivateCoverage_log            2.540600e+02\n",
       "PctEmpPrivCoverage_log           -4.413743e+01\n",
       "PctPublicCoverage_log             3.789337e+01\n",
       "PctPublicCoverageAlone_log       -1.568246e+01\n",
       "PctPublicCoverageAlone_sqrd       3.779662e-02\n",
       "PctWhite_sqrd                     8.878606e-03\n",
       "PctBlack_sqrd                    -1.112062e-02\n",
       "INTPTLONG_sqrd                   -7.228025e-02\n",
       "mskcc_l1_log                      1.584693e+01\n",
       "mayo_l1_log                      -2.092557e+00\n",
       "mayo_l1_sqrd                     -4.818608e-02\n",
       "dfb_l1_log                       -1.404618e+00\n",
       "dfb_l1_sqrd                      -3.516808e-01\n",
       "cleveland_l1_log                  1.620788e+01\n",
       "cleveland_l1_sqrd                 3.456488e-01\n",
       "upmcps_l1_log                     9.476072e+00\n",
       "mgs_l1_log                       -4.903956e+01\n",
       "atlanta_l1_log                    2.174779e+01\n",
       "denver_l1_sqrd                    2.557118e-02\n",
       "los_ang_l1_sqrd                  -3.449983e-02\n",
       "seattle_l1_log                    5.893179e+00\n",
       "hopkins_l2_log                   -1.010492e+00\n",
       "dfb_l2_log                        2.130957e+01\n",
       "cleveland_l2_log                  3.089754e+00\n",
       "upmcps_l2_log                    -1.727427e+01\n",
       "mgs_l2_log                        3.121592e+01\n",
       "atlanta_l2_log                   -1.329568e+01\n",
       "city_min_distsl1_sqrd             1.561329e-01\n",
       "sc_min_dists_l1_log              -3.777962e-01\n",
       "PCT_LACCESS_CHILD10_sqrd          9.701743e-03\n",
       "PCT_LACCESS_HHNV10_sqrd          -1.099593e-03\n",
       "PC_DIRSALES07_sqrd                1.034809e-03\n",
       "FMRKT13_sqrd                      1.940903e-03\n",
       "PCH_FMRKT_09_13_sqrd             -1.754283e-06\n",
       "PCT_OBESE_ADULTS13_log            4.012545e-01\n",
       "PCT_OBESE_ADULTS13_sqrd          -5.464598e-02\n",
       "CHILDPOVRATE10_log               -2.968553e+01\n",
       "dtype: float64"
      ]
     },
     "execution_count": 108,
     "metadata": {},
     "output_type": "execute_result"
    }
   ],
   "source": [
    "lr_2_coeffs = pd.Series(lr_2.coef_, index=X.columns) \n",
    "lr_2_coeffs"
   ]
  },
  {
   "cell_type": "code",
   "execution_count": 109,
   "metadata": {},
   "outputs": [],
   "source": [
    "X_train_corrwith = X_train.corrwith(y_train)"
   ]
  },
  {
   "cell_type": "code",
   "execution_count": 110,
   "metadata": {},
   "outputs": [
    {
     "data": {
      "text/plain": [
       "0.5426829268292683"
      ]
     },
     "execution_count": 110,
     "metadata": {},
     "output_type": "execute_result"
    }
   ],
   "source": [
    "same_sign = ((X_train_corrwith >= 0) & (lr_2_coeffs >= 0) | (X_train_corrwith < 0) & (lr_2_coeffs < 0))\n",
    "same_sign.sum()/len(same_sign)"
   ]
  },
  {
   "cell_type": "markdown",
   "metadata": {},
   "source": [
    "Again, there is no significant change in the 'same_sign' proportion. Although the difference between the feature set's individual correlation coefficients and its regression coefficients as a whole are unexpected, there does not seem to be anything fundamentally flawed with the model. Therefore, the features with the strongest ridge regression coefficients are explored further below."
   ]
  },
  {
   "cell_type": "markdown",
   "metadata": {},
   "source": [
    "## Working with the Ridge Regression Coefficients to Identify Salient Predictive Features of Cancer Mortality"
   ]
  },
  {
   "cell_type": "markdown",
   "metadata": {},
   "source": [
    "First, the ridge regression coefficients are sorted in descending order, with the strongest positive coefficients at the top of the series and the strongest negative coefficients at the bottom of the series. Although there surely is a complex web of interconnections and relationships between the features, one can look at the coefficients of each feature individually to see what impact they have on cancer mortality. Identifying the features with the strongest impact on cancer mortality can help inform policy interventions that could help reduce cancer mortality.\n",
    "\n",
    "Binary features' ridge regression coefficients can show that if a county's value is true for that binary feature, one can expect a change in the cancer mortality rate per 100,000 equal to the ridge regression coefficient of that feature. For example, the 'State_Nevada' feature can be examined. This feature stores data on whether a county is in Nevada (1) or not (0). If a county is in Nevada, one can expect an increase of 43 cancer deaths per 100,000 people.\n",
    "\n",
    "For a continuous feature, an increase of one unit for that feature will result in a change equal to that feature's ridge regression coefficient. For example, the 'PCT_OBESE_ADULTS13' feature stores the percentage of each county's adults in 2013 who qualify as being obese. For every percentage point increase in the value of this feature for any given county, one can expect an increase of three cancer mortalities in 2015."
   ]
  },
  {
   "cell_type": "code",
   "execution_count": 111,
   "metadata": {
    "scrolled": true
   },
   "outputs": [
    {
     "data": {
      "text/plain": [
       "nw_mem_l2                         3.408147e+02\n",
       "PctPrivateCoverage_log            2.525173e+02\n",
       "mskcc_l2                          1.215137e+02\n",
       "nw_mem_l1                         5.175472e+01\n",
       "mgs_l2                            4.815532e+01\n",
       "State_Nevada                      4.279767e+01\n",
       "mgs_l1                            4.001968e+01\n",
       "PctPublicCoverage_log             3.712718e+01\n",
       "mgs_l2_log                        3.692593e+01\n",
       "povertyPercent_log                3.561534e+01\n",
       "State_Alaska                      3.512214e+01\n",
       "State_California                  2.992599e+01\n",
       "AvgHouseholdSize_log              2.910125e+01\n",
       "atlanta_l1_log                    2.207967e+01\n",
       "State_Florida                     1.996096e+01\n",
       "FMRKT09_isnull                    1.868850e+01\n",
       "FMRKTPTH09_isnull                 1.868850e+01\n",
       "upmcps_l2                         1.802796e+01\n",
       "State_Arizona                     1.802644e+01\n",
       "cleveland_l1_log                  1.762623e+01\n",
       "State_Utah                        1.741215e+01\n",
       "mskcc_l1_log                      1.669146e+01\n",
       "dfb_l2_log                        1.656173e+01\n",
       "RECFACPTH12                       1.634411e+01\n",
       "State_District of Columbia        1.431427e+01\n",
       "PctSomeCol18_24_log               1.192314e+01\n",
       "NATAMEN_isnull                    1.075218e+01\n",
       "State_Oklahoma                    1.065815e+01\n",
       "VEG_ACRESPTH07_isnull             9.896747e+00\n",
       "State_South Carolina              9.442584e+00\n",
       "State_Mississippi                 9.357084e+00\n",
       "upmcps_l1_log                     9.223769e+00\n",
       "PCT_OBESE_CHILD08_isnull          8.649288e+00\n",
       "PCT_LOCLFARM07_isnull             8.253386e+00\n",
       "PctEmployed16_Over                6.498003e+00\n",
       "State_New Mexico                  5.955380e+00\n",
       "binnedInc_[22640, 34218.1]        5.901450e+00\n",
       "State_Arkansas                    5.682139e+00\n",
       "seattle_l1_log                    5.468347e+00\n",
       "State_Alabama                     5.080412e+00\n",
       "FMRKTPTH09                        4.894622e+00\n",
       "State_Wyoming                     4.762492e+00\n",
       "seattle_l2                        4.330320e+00\n",
       "State_Louisiana                   4.320379e+00\n",
       "POPLOSS00                         4.002964e+00\n",
       "age_gt_100                        3.940965e+00\n",
       "PCT_OBESE_CHILD11_isnull          3.585599e+00\n",
       "los_ang_l2                        3.438173e+00\n",
       "denver_l2                         3.409665e+00\n",
       "PCT_OBESE_ADULTS13                3.031626e+00\n",
       "State_Kansas                      2.659105e+00\n",
       "State_Texas                       2.615907e+00\n",
       "PCT_HSPA09_isnull                 2.509745e+00\n",
       "san_fran_l2                       2.427954e+00\n",
       "hopkins_l1                        2.325272e+00\n",
       "atlanta_l2                        2.308934e+00\n",
       "State_Maryland                    2.240773e+00\n",
       "PercentMarried                    2.234602e+00\n",
       "dallas_l1                         2.219957e+00\n",
       "binnedInc_(34218.1, 37413.8]      2.195684e+00\n",
       "State_Oregon                      2.164970e+00\n",
       "city_min_distsl2                  2.115211e+00\n",
       "hlmcc_l1                          1.982735e+00\n",
       "PC_DIRSALES07_isnull              1.819871e+00\n",
       "mayo_l1                           1.769828e+00\n",
       "sc_min_dists_l2                   1.754514e+00\n",
       "upmcps_l1                         1.672678e+00\n",
       "State_Virginia                    1.513824e+00\n",
       "CHILDPOVRATE10                    1.508893e+00\n",
       "PctHS25_Over                      1.478055e+00\n",
       "PctBachDeg25_Over_log             1.467285e+00\n",
       "MedianAgeFemale                   1.346875e+00\n",
       "onc_min_distsl1                   1.346105e+00\n",
       "cleveland_l2_log                  1.311818e+00\n",
       "FOODINSEC_CHILD_01_07             1.266317e+00\n",
       "hopkins_l2                        1.250331e+00\n",
       "PERPOV10                          1.191778e+00\n",
       "PctEmpPrivCoverage                1.053040e+00\n",
       "MedianAge                         1.048151e+00\n",
       "CH_VLFOODSEC_02_12                9.952634e-01\n",
       "PCT_HSPA09                        8.789151e-01\n",
       "VLFOODSEC_07_09                   8.773215e-01\n",
       "PCH_FMRKT_09_13_isnull            8.001662e-01\n",
       "PCH_FMRKTPTH_09_13_isnull         8.001662e-01\n",
       "METRO13                           7.971817e-01\n",
       "CH_FOODINSEC_09_12                7.751314e-01\n",
       "PCT_OBESE_ADULTS10                7.726839e-01\n",
       "PCH_RECFACPTH_07_12_isnull        7.599867e-01\n",
       "PCH_RECFAC_07_12_isnull           7.599867e-01\n",
       "utmda_l2                          7.197293e-01\n",
       "PctEmployed16_Over_isnull         5.764277e-01\n",
       "PCT_OBESE_CHILD11                 5.324287e-01\n",
       "FRESHVEG_ACRES07_isnull           4.490631e-01\n",
       "FRESHVEG_ACRESPTH07_isnull        4.490631e-01\n",
       "AGRITRSM_RCT07_isnull             4.189802e-01\n",
       "PCT_DIABETES_ADULTS09             4.178602e-01\n",
       "PCT_OBESE_ADULTS13_log            4.031272e-01\n",
       "FOODINSEC_10_12                   4.012787e-01\n",
       "FOODINSEC_00_02                   3.917220e-01\n",
       "cleveland_l1_sqrd                 3.603538e-01\n",
       "PctPrivateCoverageAlone_isnull    3.520977e-01\n",
       "PERCHLDPOV10                      3.329998e-01\n",
       "PCT_LOCLFARM07                    3.227965e-01\n",
       "PctSomeCol18_24_isnull            3.027247e-01\n",
       "FMRKT09                           2.829221e-01\n",
       "PctBlack                          2.766056e-01\n",
       "State_Colorado                    2.613880e-01\n",
       "PCT_LOCLSALE07                    2.430070e-01\n",
       "PCH_RECFACPTH_07_12               2.299821e-01\n",
       "State_Kentucky                    2.203531e-01\n",
       "PctHS18_24                        2.003942e-01\n",
       "PCT_LACCESS_HHNV10                1.920685e-01\n",
       "PCT_LACCESS_POP10_isnull          1.634438e-01\n",
       "PCT_LACCESS_CHILD10_isnull        1.634438e-01\n",
       "PCT_LACCESS_LOWI10_isnull         1.634438e-01\n",
       "PCT_LACCESS_SENIORS10_isnull      1.634438e-01\n",
       "city_min_distsl1_sqrd             1.598539e-01\n",
       "PCH_FMRKTPTH_09_13                1.579940e-01\n",
       "incidenceRate                     1.579581e-01\n",
       "RECFAC12                          1.574673e-01\n",
       "PctPrivateCoverageAlone           1.323289e-01\n",
       "State_Tennessee                   1.202283e-01\n",
       "VLFOODSEC_10_12                   1.196430e-01\n",
       "PctUnemployed16_Over              1.192618e-01\n",
       "PCT_FMRKT_OTHER13_isnull          1.051916e-01\n",
       "PCT_FMRKT_WICCASH13_isnull        1.051916e-01\n",
       "PCT_FMRKT_SFMNP13_isnull          1.051916e-01\n",
       "PCT_FRMKT_FRVEG13_isnull          1.051916e-01\n",
       "PCT_FRMKT_ANMLPROD13_isnull       1.051916e-01\n",
       "PCT_FMRKT_SNAP13_isnull           1.051916e-01\n",
       "PCT_FMRKT_WIC13_isnull            1.051916e-01\n",
       "mskcc_l1                          9.160719e-02\n",
       "GHVEG_FARMS07                     7.990794e-02\n",
       "State_Massachusetts               6.296753e-02\n",
       "PctPublicCoverageAlone_sqrd       3.696494e-02\n",
       "PCT_LACCESS_POP10                 3.537893e-02\n",
       "BERRY_ACRESPTH07                  3.135429e-02\n",
       "povertyPercent_sqrd               2.418473e-02\n",
       "denver_l1_sqrd                    2.268001e-02\n",
       "PCT_FMRKT_WIC13                   1.873759e-02\n",
       "PCT_FMRKT_WICCASH13               1.431160e-02\n",
       "BERRY_FARMS07                     1.344695e-02\n",
       "PCT_LACCESS_CHILD10_sqrd          9.860906e-03\n",
       "CH_FOODINSEC_02_12                9.841172e-03\n",
       "PctWhite_sqrd                     8.844581e-03\n",
       "AGRITRSM_OPS07                    8.061957e-03\n",
       "PCT_FRMKT_ANMLPROD13              7.797797e-03\n",
       "binnedInc_(37413.8, 40362.7]      4.773566e-03\n",
       "FRESHVEG_FARMS07                  3.607098e-03\n",
       "FRESHVEG_ACRESPTH07               2.789564e-03\n",
       "PCT_FMRKT_OTHER13                 2.399057e-03\n",
       "FMRKT13_sqrd                      1.957072e-03\n",
       "PC_DIRSALES07_sqrd                1.049606e-03\n",
       "ORCHARD_FARMS07                   1.039970e-03\n",
       "PctSomeCol18_24_sqrd              2.316095e-04\n",
       "VEG_ACRES07                       1.634414e-04\n",
       "studyPerCap                       1.610786e-04\n",
       "medIncome                         3.962400e-05\n",
       "ALAND_SQMI                        6.190739e-06\n",
       "GHVEG_SQFT07                      1.812415e-06\n",
       "AGRITRSM_RCT07                    1.541811e-06\n",
       "AGRITRSM_OPS07_isnull             0.000000e+00\n",
       "CSA07_isnull                      0.000000e+00\n",
       "FOODHUB12_isnull                  0.000000e+00\n",
       "SLHOUSE07_isnull                  0.000000e+00\n",
       "FMRKTPTH13_isnull                 0.000000e+00\n",
       "FMRKT13_isnull                    0.000000e+00\n",
       "FARM_TO_SCHOOL_isnull             0.000000e+00\n",
       "popEst2015                       -2.945975e-07\n",
       "PCH_FMRKT_09_13_sqrd             -1.514347e-06\n",
       "ORCHARD_ACRES07                  -1.299029e-05\n",
       "FRESHVEG_ACRES07                 -1.542954e-04\n",
       "BERRY_ACRES07                    -2.977239e-04\n",
       "GHVEG_SQFTPTH07                  -4.690972e-04\n",
       "PCT_LACCESS_HHNV10_sqrd          -8.738673e-04\n",
       "VLFOODSEC_10_12_isnull           -1.442359e-03\n",
       "VLFOODSEC_00_02_isnull           -1.442359e-03\n",
       "VLFOODSEC_07_09_isnull           -1.442359e-03\n",
       "CH_FOODINSEC_09_12_isnull        -1.442359e-03\n",
       "FOODINSEC_CHILD_03_11_isnull     -1.442359e-03\n",
       "FOODINSEC_CHILD_01_07_isnull     -1.442359e-03\n",
       "CH_VLFOODSEC_09_12_isnull        -1.442359e-03\n",
       "CH_VLFOODSEC_02_12_isnull        -1.442359e-03\n",
       "FOODINSEC_10_12_isnull           -1.442360e-03\n",
       "FOODINSEC_07_09_isnull           -1.442360e-03\n",
       "CH_FOODINSEC_02_12_isnull        -1.442360e-03\n",
       "FOODINSEC_00_02_isnull           -1.442360e-03\n",
       "PCT_FMRKT_SFMNP13                -2.055403e-03\n",
       "AWATER_SQMI                      -2.433043e-03\n",
       "avgAnnCount                      -3.311788e-03\n",
       "ORCHARD_ACRESPTH07               -4.739862e-03\n",
       "VEG_ACRESPTH07                   -5.775185e-03\n",
       "PctBlack_sqrd                    -1.108948e-02\n",
       "PctNoHS18_24                     -1.135149e-02\n",
       "PercentMarried_sqrd              -1.217146e-02\n",
       "PCT_FRMKT_FRVEG13                -1.566592e-02\n",
       "RECFAC07                         -1.719944e-02\n",
       "PctHS25_Over_sqrd                -1.869830e-02\n",
       "MedianAgeFemale_sqrd             -1.976851e-02\n",
       "PCT_LACCESS_SENIORS10            -2.431128e-02\n",
       "PCT_FMRKT_SNAP13                 -2.905792e-02\n",
       "CSA07                            -2.974975e-02\n",
       "PctEmployed16_Over_sqrd          -2.995869e-02\n",
       "VEG_FARMS07                      -3.041331e-02\n",
       "los_ang_l1_sqrd                  -3.522171e-02\n",
       "PCT_LACCESS_LOWI10               -4.034600e-02\n",
       "mayo_l1_sqrd                     -4.969637e-02\n",
       "PCT_OBESE_ADULTS13_sqrd          -5.482629e-02\n",
       "binnedInc_(42724.4, 45201]       -7.114925e-02\n",
       "INTPTLONG_sqrd                   -7.540460e-02\n",
       "PCT_OBESE_ADULTS09               -1.131211e-01\n",
       "BERRY_ACRESPTH07_isnull          -1.151325e-01\n",
       "BERRY_ACRES07_isnull             -1.151325e-01\n",
       "FOODHUB12                        -1.222226e-01\n",
       "PC_DIRSALES07                    -1.262541e-01\n",
       "mayo_l2                          -1.510548e-01\n",
       "PCH_FMRKT_09_13                  -1.540977e-01\n",
       "PctBachDeg18_24                  -1.619434e-01\n",
       "State_West Virginia              -1.703287e-01\n",
       "FMRKT13                          -2.136960e-01\n",
       "los_ang_l1                       -2.396801e-01\n",
       "PCH_RECFAC_07_12                 -2.410697e-01\n",
       "PctSomeCol18_24                  -2.494795e-01\n",
       "SLHOUSE07                        -2.509109e-01\n",
       "PctOtherRace                     -2.798917e-01\n",
       "ORCHARD_ACRES07_isnull           -3.085975e-01\n",
       "ORCHARD_ACRESPTH07_isnull        -3.085975e-01\n",
       "dallas_l2                        -3.337654e-01\n",
       "PCT_DIABETES_ADULTS10            -3.510315e-01\n",
       "sc_min_dists_l1_log              -3.624154e-01\n",
       "dfb_l1_sqrd                      -3.641726e-01\n",
       "FOODINSEC_07_09                  -3.734221e-01\n",
       "PctAsian                         -3.779948e-01\n",
       "GHVEG_SQFT07_isnull              -4.531185e-01\n",
       "GHVEG_SQFTPTH07_isnull           -4.531185e-01\n",
       "PctPublicCoverageAlone           -4.734840e-01\n",
       "PctBachDeg25_Over                -4.930227e-01\n",
       "household_lt_1                   -5.152421e-01\n",
       "binnedInc_(61494.5, 125635]      -5.318539e-01\n",
       "binnedInc_(45201, 48021.6]       -5.724296e-01\n",
       "MedianAgeMale                    -5.903435e-01\n",
       "BirthRate                        -6.189144e-01\n",
       "PCT_LACCESS_CHILD10              -6.227237e-01\n",
       "PCT_OBESE_CHILD08                -7.469103e-01\n",
       "CH_VLFOODSEC_09_12               -7.572460e-01\n",
       "PCH_OBESE_CHILD_08_11            -7.628174e-01\n",
       "PctMarriedHouseholds             -8.179308e-01\n",
       "NATAMEN                          -8.239570e-01\n",
       "hlmcc_l2                         -8.288755e-01\n",
       "VLFOODSEC_00_02                  -8.751875e-01\n",
       "State_Wisconsin                  -9.992682e-01\n",
       "hopkins_l2_log                   -1.077532e+00\n",
       "PctPublicCoverage                -1.238955e+00\n",
       "PctWhite                         -1.325408e+00\n",
       "binnedInc_(40362.7, 42724.4]     -1.393742e+00\n",
       "State_Maine                      -1.428049e+00\n",
       "atlanta_l1                       -1.634843e+00\n",
       "binnedInc_(54545.6, 61494.5]     -1.665081e+00\n",
       "FOODINSEC_CHILD_03_11            -1.692835e+00\n",
       "State_Georgia                    -1.713732e+00\n",
       "GHVEG_FARMS07_isnull             -1.742495e+00\n",
       "VEG_FARMS07_isnull               -1.742495e+00\n",
       "FRESHVEG_FARMS07_isnull          -1.742495e+00\n",
       "ORCHARD_FARMS07_isnull           -1.742495e+00\n",
       "BERRY_FARMS07_isnull             -1.742495e+00\n",
       "utmda_l1                         -1.859364e+00\n",
       "denver_l1                        -1.881121e+00\n",
       "binnedInc_(51046.4, 54545.6]     -1.910403e+00\n",
       "binnedInc_(48021.6, 51046.4]     -1.957248e+00\n",
       "mayo_l1_log                      -1.992774e+00\n",
       "nyc_l1                           -2.303114e+00\n",
       "PCT_LOCLSALE07_isnull            -2.305861e+00\n",
       "onc_min_distsl2                  -2.324078e+00\n",
       "san_fran_l1                      -2.330910e+00\n",
       "sc_min_dists_l1                  -2.758268e+00\n",
       "State_New York                   -2.913545e+00\n",
       "povertyPercent                   -2.999942e+00\n",
       "seattle_l1                       -3.062198e+00\n",
       "State_South Dakota               -3.183380e+00\n",
       "FARM_TO_SCHOOL                   -3.277520e+00\n",
       "INTPTLAT                         -3.772941e+00\n",
       "city_min_distsl1                 -4.118785e+00\n",
       "PctPrivateCoverage               -4.395087e+00\n",
       "State_Delaware                   -4.402421e+00\n",
       "State_Washington                 -4.545719e+00\n",
       "FMRKTPTH13                       -5.534143e+00\n",
       "State_Missouri                   -5.680484e+00\n",
       "State_New Jersey                 -5.735148e+00\n",
       "State_North Dakota               -5.917723e+00\n",
       "State_Nebraska                   -6.229377e+00\n",
       "State_Vermont                    -6.351672e+00\n",
       "AvgHouseholdSize                 -6.493734e+00\n",
       "State_Indiana                    -6.644210e+00\n",
       "State_Minnesota                  -6.829018e+00\n",
       "dfb_l1_log                       -7.652371e+00\n",
       "State_Montana                    -7.935563e+00\n",
       "PCT_LACCESS_HHNV10_isnull        -8.240840e+00\n",
       "State_Pennsylvania               -8.728011e+00\n",
       "VEG_ACRES07_isnull               -8.791752e+00\n",
       "PCH_OBESE_CHILD_08_11_isnull     -8.909861e+00\n",
       "State_Idaho                      -9.672172e+00\n",
       "State_New Hampshire              -1.034052e+01\n",
       "State_Michigan                   -1.065116e+01\n",
       "cleveland_l2                     -1.109783e+01\n",
       "cleveland_l1                     -1.122251e+01\n",
       "State_Ohio                       -1.260597e+01\n",
       "atlanta_l2_log                   -1.320177e+01\n",
       "State_North Carolina             -1.370977e+01\n",
       "State_Illinois                   -1.383722e+01\n",
       "State_Iowa                       -1.519923e+01\n",
       "PctPublicCoverageAlone_log       -1.592917e+01\n",
       "upmcps_l2_log                    -1.701284e+01\n",
       "State_Connecticut                -1.719479e+01\n",
       "RECFACPTH07                      -1.889053e+01\n",
       "State_Rhode Island               -1.900081e+01\n",
       "dfb_l1                           -2.138701e+01\n",
       "MedianAge_log                    -2.380979e+01\n",
       "INTPTLONG                        -2.674112e+01\n",
       "PercentMarried_log               -2.838895e+01\n",
       "CHILDPOVRATE10_log               -2.956122e+01\n",
       "State_Hawaii                     -4.305845e+01\n",
       "PctEmpPrivCoverage_log           -4.388248e+01\n",
       "mgs_l1_log                       -4.448588e+01\n",
       "chi_l1                           -5.093429e+01\n",
       "dfb_l2                           -7.126583e+01\n",
       "nyc_l2                           -1.233645e+02\n",
       "PctEmployed16_Over_log           -1.790171e+02\n",
       "chi_l2                           -3.386405e+02\n",
       "dtype: float64"
      ]
     },
     "execution_count": 111,
     "metadata": {},
     "output_type": "execute_result"
    }
   ],
   "source": [
    "lr_3_coeffs_sorted = lr_3_coeffs.sort_values(ascending=False)\n",
    "lr_3_coeffs_sorted"
   ]
  },
  {
   "cell_type": "markdown",
   "metadata": {},
   "source": [
    "## The features which have a positive coefficient of 10 or higher are detailed below:"
   ]
  },
  {
   "cell_type": "markdown",
   "metadata": {},
   "source": [
    "'nw_mem_l2', the feature which stores the L2 latitude/longitude distance of each county centroid from the top 10 oncology hospital Northwestern Memorial Hospital, has a Ridge Regression coefficient of 341 (rounded up). This means that for each latitude/longitude unit distance that a county centroid is from this hospital \"as the crow flies\", there was an increase in cancer mortality of 341 people per capita (100,000 people) in 2015.\n",
    "\n",
    "'PctPrivateCoverage_log', the logarithmic transformation of the percent of county residents with private health coverage, has a Ridge Regression coefficient of 254 (rounded up). This means that for each whole number increase for this feature, there was an increase in cancer mortality of 254 people per capita (100,000 people) in 2015. This seems to conflict with the negative correlation coefficient that the non-transformed version of this feature has, which is an area for future research.\n",
    "\n",
    "'mskcc_l2', the feature which stores the L2 latitude/longitude distance of each county centroid from the top 10 oncology hospital Memorial Sloan Kettering Cancer Center, has a Ridge Regression coefficient of 122 (rounded up). This means that for each latitude/longitude unit distance that a county centroid is from this hospital \"as the crow flies\", there was an increase in cancer mortality of 122 people per capita (100,000 people) in 2015.   \n",
    "\n",
    "'nw_mem_l1', the feature which stores the L1 latitude/longitude distance of each county centroid from the top 10 oncology hospital Northwestern Memorial Hospital, has a Ridge Regression coefficient of 52 (rounded up). This means that for each latitude/longitude unit distance that a county centroid is from this hospital in Euclidean distance, there was an increase in cancer mortality of 52 people per capita (100,000 people) in 2015.\n",
    "\n",
    "'mgs_l2', the feature which stores the L2 latitude/longitude distance of each county centroid from the top 10 oncology hospital Massachusetts General Hospital, has a Ridge Regression coefficient of 48 (rounded down). This means that for each latitude/longitude unit distance that a county centroid is from this hospital \"as the crow flies\", there was an increase in cancer mortality of 48 people per capita (100,000 people) in 2015.    \n",
    "\n",
    "'State_Nevada', the feature which stores whether a county is in Nevada or not, has a Ridge Regression coefficient of 43 (rounded up). This means that if a county is in the state of Nevada, there was an increase in cancer mortality of 43 people per capita (100,000) in 2015.\n",
    "\n",
    "'mgs_l1', the feature which stores the L1 latitude/longitude distance of each county centroid from the top 10 oncology hospital Massachusetts General Hospital, has a Ridge Regression coefficient of 40 (rounded down). This means that for each latitude/longitude unit distance that a county centroid is from this hospital in Euclidean distance, there was an increase in cancer mortality of 40 deaths per capita (100,000 people) in 2015.\n",
    "\n",
    "'PctPublicCoverage_log', the logarithmic transformation of the percent of county residents with public health coverage, has a Ridge Regression coefficient of 37 (rounded down). This means that for each whole number increase in this feature, there was an increase in cancer mortality of 37 deaths per capita (100,000 people) in 2015.\n",
    "\n",
    "'mgs_l2_log', the logarithmic transformation of the feature which stores the L2 latitude/longitude distance of each county centroid from the top 10 oncology hospital Massachusetts General Hospital, has a Ridge Regression coefficient of 37 (rounded up). This means that for the logarithmic transformation of each latitude/longitude unit distance that a county centroid is from this hospital \"as the crow flies\", there was an increase in cancer mortality of 37 deaths per capita (100,000 people) in 2015.\n",
    "\n",
    "'povertyPercent_log', the logarithmic transformation of the percent of county residents who live in poverty, has a Ridge Regression coefficient of 36 (rounded up). This means that for each percentage increase in the poverty measure, there was an increase in cancer mortality of 36 deaths per capita (100,000 people) in 2015.         \n",
    "\n",
    "'State_Alaska', the feature which stores whether a county is in Alaska or not, has a Ridge Regression coefficient of 35 (rounded down). This means that if a county is in the state of Alaska, there was an increase in cancer mortality of 35 deaths per capita (100,000) in 2015.\n",
    "\n",
    "'State_California', the feature which stores whether a county is in California or not, has a Ridge Regression coefficient of 30 (rounded up). This means that if a county is in the state of California, there was an increase in cancer mortality of 30 deaths per capita (100,000) in 2015.\n",
    "\n",
    "'AvgHouseholdSize_log', the feature which stores the logarithmic transformation of the average household size, has a Ridge Regression coefficient of 29 (rounded down). This means that for each one-person increase in average household size, there was an increase in cancer mortality of 29 deaths per capita (100,000) in 2015.\n",
    "\n",
    "'atlanta_l1_log', the logarithmic transformation of the feature which stores the L1 latitude/longitude distance of each county centroid from the city of Atlanta, Georgia, has a Ridge Regression coefficient of 22 (rounded down). This means that for the logarithmic transformation of each latitude/longitude unit distance that a county centroid is from Atlanta in Euclidean distance, there was an increase in cancer mortality of 22 deaths per capita (100,000 people) in 2015.\n",
    "\n",
    "'State_Florida', the feature which stores whether a county is in Florida or not, has a Ridge Regression coefficient of 20 (rounded up). This means that if a county is in the state of Florida, there was an increase in cancer mortality of 20 deaths per capita (100,000) in 2015.\n",
    "\n",
    "'FMRKT09_isnull', the feature which stores whether a county has a missing value for the number of farmer's markets it had in 2009, has a Ridge Regression coefficient of 19 (rounded up). This means that if a county has a missing value for the 'FMRKT09' feature, there was an increase in cancer mortality of 19 deaths per capita (100,000) in 2015.\n",
    "\n",
    "'upmcps_l2', the feature which stores the L2 latitude/longitude distance of each county centroid from the top 10 oncology hospital UPMC Presbyterian Shadyside, has a Ridge Regression coefficient of 18 (rounded up). This means that for each latitude/longitude unit distance that a county centroid is from this hospital \"as the crow flies\", there was an increase in cancer mortality of 18 people per capita (100,000 people) in 2015.                       \n",
    "\n",
    "'State_Arizona', the feature which stores whether a county is in Arizona or not, has a Ridge Regression coefficient of 18 (rounded down). This means that if a county is in the state of Arizona, there was an increase in cancer mortality of 18 deaths per capita (100,000) in 2015. \n",
    "\n",
    "'cleveland_l1_log', the logarithmic transformation of the feature which stores the L1 latitude/longitude distance of each county centroid from the top 10 oncology hospital Cleveland Clinic, has a Ridge Regression coefficient of 18 (rounded up). This means that for the logarithmic transformation of each latitude/longitude unit distance that a county centroid is from the Cleveland Clinic in Euclidean distance, there was an increase in cancer mortality of 18 deaths per capita (100,000 people) in 2015.\n",
    "\n",
    "'State_Utah', the feature which stores whether a county is in Utah or not, has a Ridge Regression coefficient of 17 (rounded down). This means that if a county is in the state of Utah, there was an increase in cancer mortality of 17 deaths per capita (100,000) in 2015.\n",
    "\n",
    "'mskcc_l1_log', the logarithmic transformation of the feature which stores the L1 latitude/longitude distance of each county centroid from the top 10 oncology hospital Memorial Sloan Kettering Cancer Center, has a Ridge Regression coefficient of 17 (rounded up). This means that for the logarithmic transformation of each latitude/longitude unit distance that a county centroid is from Memorial Sloan Kettering Cancer Center in Euclidean distance, there was an increase in cancer mortality of 17 deaths per capita (100,000 people) in 2015.  \n",
    "\n",
    "'dfb_l2_log', the logarithmic transformation of the feature which stores the L2 latitude/longitude distance of each county centroid from the top 10 oncology hospital Dana Farber/Brigham and Women's Cancer Center, has a Ridge Regression coefficient of 17 (rounded up). This means that for the logarithmic transformation of each latitude/longitude unit distance that a county centroid is from Dana Farber/Brigham and Women's Cancer Center \"as the crow flies\", there was an increase in cancer mortality of 17 deaths per capita (100,000 people) in 2015.     \n",
    "\n",
    "'RECFACPTH12', the feature holding the number of recreation and fitness facilities per 1,000 people in 2012, has a Ridge Regression coefficient of 16 (rounded up). This means that for each new facility per 1,000 people, there was an increase in cancer mortality of 16 deaths per capita (100,000 people) in 2015. This is a counterintuitive result that warrants further research.                      \n",
    "\n",
    "'State_District of Columbia', the feature which stores whether a county is Washington, DC or not, has a Ridge Regression coefficient of 14 (rounded down). This means that in Washington, DC, there was an increase in cancer mortality of 14 deaths per capita (100,000) in 2015.\n",
    "\n",
    "'PctSomeCol18_24_log', the feature which stores the logarithmic transformation of the percentage of county residents 18-24 years old whose highest education is some college, has a Ridge Regression coefficient of 12 (rounded up). This means that for each percentage point increase, there was an increase in cancer mortality of 12 deaths per capita (100,000) in 2015.\n",
    "\n",
    "'NATAMEN_isnull', the feature which stores whether there are missing values in the 'NATAMEN' feature which stores the quality of life 'ERS Natural Amenity Index' (for 1999), has a Ridge Regression coefficient of 11 (rounded up). This means that if a county has a missing value for the 'NATAMEN' feature, there was an increase in cancer mortality of 12 deaths per capita (100,000) in 2015.\n",
    "\n",
    "'State_Oklahoma', the feature which stores whether a county is in the state of Oklahoma or not, has a Ridge Regression coefficient of 11 (rounded up). This means that if a county is in the state of Oklahoma, there was an increase in cancer mortality of 11 deaths per capita (100,000) in 2015."
   ]
  },
  {
   "cell_type": "markdown",
   "metadata": {},
   "source": [
    "As can be seen above, the features with the strongest positive correlations with cancer mortality fall into the following categories:\n",
    "\n",
    "- L1 and L2 distances of counties from top 10 oncology hospitals, real number and logarithmic versions\n",
    "\n",
    "- State that the county is in\n",
    "\n",
    "- Recreation facility-related feature\n",
    "\n",
    "Logarithmic transformations of features:\n",
    "- Health insurance features (private)\n",
    "- Education-related: percentage some college 18-24\n",
    "- Poverty-related features\n",
    "- Average household size\n",
    "\n",
    "Missing value features:\n",
    "- Farmer’s market related features\n",
    "- ERS Natural Amenity Index"
   ]
  },
  {
   "cell_type": "markdown",
   "metadata": {},
   "source": [
    "## The features which have a negative coefficient of -10 or lower are detailed below:"
   ]
  },
  {
   "cell_type": "markdown",
   "metadata": {},
   "source": [
    "'State_New Hampshire', the feature which stores whether a county is in the state of New Hampshire or not, has a Ridge Regression coefficient of -10 (rounded up). This means that if a county is in the state of New Hampshire, there would be a decrease in cancer mortality of 10 deaths per capita (100,000) in 2015.\n",
    "\n",
    "'State_Michigan', the feature which stores whether a county is in the state of Michigan or not, has a Ridge Regression coefficient of -11 (rounded down). This means that if a county is in the state of New Hampshire, there would be a decrease in cancer mortality of 11 deaths per capita (100,000) in 2015.\n",
    "\n",
    "'cleveland_l2', the feature which stores the L2 latitude/longitude distance of each county centroid from the top 10 oncology hospital Cleveland Clinic, has a Ridge Regression coefficient of -11 (rounded up). This means that for each latitude/longitude unit distance that a county centroid is from the Cleveland Clinic \"as the crow flies\", there would be a decrease in cancer mortality of 11 deaths per capita (100,000 people) in 2015.           \n",
    "\n",
    "'cleveland_l1', the feature which stores the L1 latitude/longitude distance of each county centroid from the top 10 oncology hospital Cleveland Clinic, has a Ridge Regression coefficient of -11 (rounded up). This means that for each latitude/longitude unit distance that a county centroid is from the Cleveland Clinic in Euclidean distance, there would be a decrease in cancer mortality of 11 deaths per capita (100,000 people) in 2015.         \n",
    "\n",
    "'State_Ohio', the feature which stores whether a county is in the state of Ohio or not, has a Ridge Regression coefficient of -13 (rounded down). This means that if a county is in the state of Ohio, there would be a decrease in cancer mortality of 13 deaths per capita (100,000) in 2015.\n",
    "\n",
    "'atlanta_l2_log', the logarithmic transformation of the feature which stores the L2 latitude/longitude distance of each county centroid from the city of Atlanta, Georgia, has a Ridge Regression coefficient of -13 (rounded up). This means that for the logarithmic transformation of each latitude/longitude unit distance that a county centroid is from Atlanta \"as the crow flies\", there would be a decrease in cancer mortality of 13 deaths per capita (100,000 people) in 2015.\n",
    "\n",
    "'State_North Carolina', the feature which stores whether a county is in the state of North Carolina or not, has a Ridge Regression coefficient of -14 (rounded down). This means that if a county is in the state of North Carolina, there would be a decrease in cancer mortality of 14 deaths per capita (100,000) in 2015.              \n",
    "\n",
    "'State_Illinois', the feature which stores whether a county is in the state of Illinois or not, has a Ridge Regression coefficient of -14 (rounded down). This means that if a county is in the state of Illinois, there would be a decrease in cancer mortality of 14 deaths per capita (100,000) in 2015.                    \n",
    "\n",
    "'State_Iowa', the feature which stores whether a county is in the state of Iowa or not, has a Ridge Regression coefficient of -15 (rounded up). This means that if a county is in the state of Iowa, there would be a decrease in cancer mortality of 15 deaths per capita (100,000) in 2015.\n",
    "\n",
    "'PctPublicCoverageAlone_log', the logarithmic transformation of the feature which stores the percentage of counties' population who have public health coverage alone, has a Ridge Regression coefficient of -16 (rounded down). This means that for each percentage point increase of a county's population who have public health coverage alone, there would be a decrease in cancer mortality of 16 deaths per capita (100,000) in 2015. This finding contradicts the 'PctPublicCoverageAlone' feature's positive Pearson's correlation coefficient with cancer mortality, which warrants further research. \n",
    "\n",
    "'upmcps_l2_log', the logarithmic transformation of the feature which stores the L2 latitude/longitude distance of each county centroid from the top 10 oncology hospital UPMC Presbyterian Shadyside, has a Ridge Regression coefficient of -17 (rounded up). This means that for each latitude/longitude unit distance that a county centroid is from UPMC Presbyterian Shadyside \"as the crow flies\", there would be a decrease in cancer mortality of 17 deaths per capita (100,000 people) in 2015.\n",
    "\n",
    "'State_Connecticut', the feature which stores whether a county is in the state of Connecticut or not, has a Ridge Regression coefficient of -17 (rounded up). This means that if a county is in the state of Connecticut, there would be a decrease in cancer mortality of 17 deaths per capita (100,000) in 2015. \n",
    "\n",
    "'RECFACPTH07', which stores the number of recreation and fitness facilities per 1,000 people in 2007, has a Ridge Regression of -19 (rounded down). This means that for each whole number increase of recreation and fitness facilities per 1,000 people in 2007, there would be a decrease in cancer mortality of 19 deaths per capita (100,000) in 2015.\n",
    "\n",
    "'State_Rhode Island', the feature which stores whether a county is in the state of Rhode Island or not, has a Ridge Regression coefficient of -19 (rounded up). This means that if a county is in the state of Rhode Island, there would be a decrease in cancer mortality of 19 deaths per capita (100,000) in 2015.\n",
    "\n",
    "'dfb_l1', the feature which stores the L1 latitude/longitude distance of each county centroid from the top 10 oncology hospital Dana Farber/Brigham and Women's Cancer Center, has a Ridge Regression coefficient of -21 (rounded up). This means that for each latitude/longitude unit distance that a county centroid is from the Dana Farber/Brigham and Women's Cancer Center in Euclidean distance, there would be a decrease in cancer mortality of 21 deaths per capita (100,000 people) in 2015.\n",
    "\n",
    "'MedianAge_log', the logarithmic transformation of the feature which stores the median age of county residents, has a Ridge Regression coefficient of -24 (rounded down). This means that for each whole number increase of the logarithmic transformation of the median age of county residents, there would be a decrease in cancer mortality of 24 deaths per capita (100,000) in 2015. \n",
    "\n",
    "'INTPTLONG', the feature which stores the longitude location of county's centroids, has a Ridge Regression coefficient of -27 (rounded down). This means that for each whole number increase in longitude, which translates to moving East in the United States, there would be a decrease in cancer mortality of 27 deaths per capita (100,000) in 2015. This contradicts the Pearson's correlation of 0.26, which showed that the further East one goes in the United States, the higher the cancer mortality. However, that correlation was in isolation from all other features in the feature set, which shows that the effect of predictor features on the target feature can change when in combination with each other.\n",
    "\n",
    "'PercentMarried_log', the logarithmic transformation of the feature which stores the percentage of county residents who are married, has a Ridge Regression coefficient of -28 (rounded up). This means that for each percentage point increase in a county's populace that are married, there would be a decrease in cancer mortality of 28 deaths per capita (100,000) in 2015.\n",
    "\n",
    "'CHILDPOVRATE10_log', the logarithmic transformation of the feature which stores the percentage of children living in poverty in 2010, has a Ridge Regression coefficient of -30 (rounded down). This means that for each whole number increase in this feature's value, there would be a decrease in cancer mortality of 30 deaths per capita (100,000) in 2015. This contradicts other poverty-related features' positive Pearson's correlations, which warrants further research.\n",
    "\n",
    "'State_Hawaii', the feature which stores whether a county is in the state of Hawaii or not, has a Ridge Regression coefficient of -43 (rounded up). This means that if a county is in the state of Hawaii, there would be a decrease in cancer mortality of 43 deaths per capita (100,000) in 2015.\n",
    "\n",
    "'PctEmpPrivCoverage_log', the logarithmic transformation of the percentage of county residents with employee-provided private health coverage, has a Ridge Regression coefficient of -44 (rounded down). This means that for every whole number increase in this feature, there would be a decrease in cancer mortality of 44 deaths per capita (100,000) in 2015.\n",
    "\n",
    "'mgs_l1_log', the logarithmic transformation of the feature which stores the L1 latitude/longitude distance of each county centroid from the top 10 oncology hospital Massachusetts General Hospital, has a Ridge Regression coefficient of -45 (rounded down). This means that for each latitude/longitude unit distance that a county centroid is from the Massachusetts General Hospital in Euclidean distance, there would be a decrease in cancer mortality of 45 deaths per capita (100,000 people) in 2015.\n",
    "\n",
    "'chi_l1', the feature which stores the L1 latitude/longitude distance of each county centroid from the city of Chicago, Illinois, has a Ridge Regression coefficient of -51 (rounded up). This means that for each latitude/longitude unit distance that a county centroid is from Chicago in Euclidean distance, there would be a decrease in cancer mortality of 51 deaths per capita (100,000 people) in 2015.\n",
    "\n",
    "'dfb_l2', the feature which stores the L2 latitude/longitude distance of each county centroid from the top 10 oncology hospital Dana Farber/Brigham and Women's Cancer Center, has a Ridge Regression coefficient of -71 (rounded up). This means that for each latitude/longitude unit distance that a county centroid is from the Dana Farber/Brigham and Women's Cancer Center \"as the crow flies\", there would be a decrease in cancer mortality of 71 deaths per capita (100,000 people) in 2015.\n",
    "\n",
    "'nyc_l2', the feature which stores the L2 latitude/longitude distance of each county centroid from the city of New York, New York, has a Ridge Regression coefficient of -123 (rounded up). This means that for each latitude/longitude unit distance that a county centroid is from New York in Euclidean distance, there would be a decrease in cancer mortality of 123 deaths per capita (100,000 people) in 2015.\n",
    "\n",
    "'PctEmployed16_Over_log', the logarithmic transformation of the feature which stores the percentage of county residents ages 16 and over who were employed, has a Ridge Regression coefficient of -179 (rounded up). This means that for each whole number increase in this feature, there would be a decrease in cancer mortality of 179 deaths per capita (100,000) in 2015.\n",
    "\n",
    "'chi_l2', the feature which stores the L2 latitude/longitude distance of each county centroid from the city of Chicago, Illinois, has a Ridge Regression coefficient of -339 (rounded down). This means that for each latitude/longitude unit distance that a county centroid is from Chicago \"as the crow flies\", there would be a decrease in cancer mortality of 339 deaths per capita (100,000 people) in 2015."
   ]
  },
  {
   "cell_type": "markdown",
   "metadata": {},
   "source": [
    "As can be seen above, the features with the strongest negative correlations with cancer mortality fall into the following categories:\n",
    "\n",
    "- L1 and L2 distances of counties from top 10 oncology hospitals, real number and logarithmic versions\n",
    "\n",
    "- State that the county is in\n",
    "\n",
    "- Recreation facility-related feature\n",
    "\n",
    "Logarithmic transformations of features:\n",
    "- Health insurance features (public and private)\n",
    "- Median Age\n",
    "- Percentage of populace who are married\n",
    "- Percentage of children in poverty\n",
    "- Percentage of populace 16 years and older who are employed"
   ]
  },
  {
   "cell_type": "markdown",
   "metadata": {},
   "source": [
    "# Relationship of \"Feature Families\" on the Target Feature of Per-Capita Cancer Mortality"
   ]
  },
  {
   "cell_type": "markdown",
   "metadata": {},
   "source": [
    "Because there are so many features in the feature set, the interpretability of these features' Ridge Regression coefficients with per capita cancer mortality is supported by grouping the features into \"feature families\" (e.g. distance from major urban centers, healthcare-related features, etc.). This grouping strategy involves taking the sum of all positive coefficients in the feature set, then summing the positive coefficients for each \"feature family\", and then dividing the sum of each positive \"feature family\" by the total positive coefficient sum to uncover the proportion of the total predictive value that each \"feature family\" has on increasing cancer mortality. This strategy will then be repeated for negative coefficients to uncover the proportion of the total predictive value that each \"feature family\" has on decreasing cancer mortality."
   ]
  },
  {
   "cell_type": "markdown",
   "metadata": {},
   "source": [
    "# Positive Coefficients"
   ]
  },
  {
   "cell_type": "code",
   "execution_count": 113,
   "metadata": {},
   "outputs": [
    {
     "data": {
      "text/plain": [
       "1550.6351539757388"
      ]
     },
     "execution_count": 113,
     "metadata": {},
     "output_type": "execute_result"
    }
   ],
   "source": [
    "sum_of_all_pos_coeffs = np.sum(lr_3_coeffs_sorted[:161].values)\n",
    "sum_of_all_pos_coeffs"
   ]
  },
  {
   "cell_type": "code",
   "execution_count": 115,
   "metadata": {},
   "outputs": [],
   "source": [
    "lr_3_positive_coeffs = lr_3_coeffs_sorted[:161]"
   ]
  },
  {
   "cell_type": "markdown",
   "metadata": {},
   "source": [
    "## Age Features with Positive Coefficients"
   ]
  },
  {
   "cell_type": "code",
   "execution_count": 118,
   "metadata": {},
   "outputs": [],
   "source": [
    "is_age_pos_coeffs = []\n",
    "for name in lr_3_positive_coeffs.index.values:\n",
    "    is_age_pos_coeffs.append(name.startswith('MedianAge'))\n",
    "is_age_pos_coeffs = np.array(is_age_pos_coeffs)"
   ]
  },
  {
   "cell_type": "code",
   "execution_count": 124,
   "metadata": {},
   "outputs": [],
   "source": [
    "age_pos_coeffs = lr_3_positive_coeffs.loc[is_age_pos_coeffs]"
   ]
  },
  {
   "cell_type": "code",
   "execution_count": 125,
   "metadata": {},
   "outputs": [
    {
     "data": {
      "text/plain": [
       "2.395026059975188"
      ]
     },
     "execution_count": 125,
     "metadata": {},
     "output_type": "execute_result"
    }
   ],
   "source": [
    "sum_of_age_pos_coeffs = np.sum(age_pos_coeffs.values)\n",
    "sum_of_age_pos_coeffs"
   ]
  },
  {
   "cell_type": "code",
   "execution_count": 126,
   "metadata": {
    "scrolled": true
   },
   "outputs": [
    {
     "data": {
      "text/plain": [
       "0.0015445451844906778"
      ]
     },
     "execution_count": 126,
     "metadata": {},
     "output_type": "execute_result"
    }
   ],
   "source": [
    "age_proportion_of_pos_total = sum_of_age_pos_coeffs / sum_of_all_pos_coeffs\n",
    "age_proportion_of_pos_total"
   ]
  },
  {
   "cell_type": "markdown",
   "metadata": {},
   "source": [
    "## Average Household Size (Positive Coefficient)"
   ]
  },
  {
   "cell_type": "code",
   "execution_count": 137,
   "metadata": {},
   "outputs": [],
   "source": [
    "is_avg_household_pos_coeffs = []\n",
    "for name in lr_3_positive_coeffs.index.values:\n",
    "    is_avg_household_pos_coeffs.append(name.startswith('AvgHousehold'))\n",
    "is_avg_household_pos_coeffs = np.array(is_avg_household_pos_coeffs)"
   ]
  },
  {
   "cell_type": "code",
   "execution_count": 138,
   "metadata": {},
   "outputs": [],
   "source": [
    "avg_household_pos_coeffs = lr_3_positive_coeffs.loc[is_avg_household_pos_coeffs]"
   ]
  },
  {
   "cell_type": "code",
   "execution_count": 139,
   "metadata": {},
   "outputs": [
    {
     "data": {
      "text/plain": [
       "29.101251705141532"
      ]
     },
     "execution_count": 139,
     "metadata": {},
     "output_type": "execute_result"
    }
   ],
   "source": [
    "sum_of_avg_household_pos_coeffs = np.sum(avg_household_pos_coeffs.values)\n",
    "sum_of_avg_household_pos_coeffs"
   ]
  },
  {
   "cell_type": "code",
   "execution_count": 140,
   "metadata": {},
   "outputs": [
    {
     "data": {
      "text/plain": [
       "0.018767310692349264"
      ]
     },
     "execution_count": 140,
     "metadata": {},
     "output_type": "execute_result"
    }
   ],
   "source": [
    "avg_household_proportion_of_pos_total = sum_of_avg_household_pos_coeffs / sum_of_all_pos_coeffs\n",
    "avg_household_proportion_of_pos_total"
   ]
  },
  {
   "cell_type": "markdown",
   "metadata": {},
   "source": [
    "## Cancer Diagnoses (Positive Coefficient)"
   ]
  },
  {
   "cell_type": "code",
   "execution_count": 141,
   "metadata": {},
   "outputs": [],
   "source": [
    "is_cancer_diag_pos_coeffs = []\n",
    "for name in lr_3_positive_coeffs.index.values:\n",
    "    is_cancer_diag_pos_coeffs.append(name.startswith('incidenceRate'))\n",
    "is_cancer_diag_pos_coeffs = np.array(is_cancer_diag_pos_coeffs)"
   ]
  },
  {
   "cell_type": "code",
   "execution_count": 142,
   "metadata": {},
   "outputs": [],
   "source": [
    "cancer_diag_pos_coeffs = lr_3_positive_coeffs.loc[is_cancer_diag_pos_coeffs]"
   ]
  },
  {
   "cell_type": "code",
   "execution_count": 143,
   "metadata": {},
   "outputs": [
    {
     "data": {
      "text/plain": [
       "0.1579581006788597"
      ]
     },
     "execution_count": 143,
     "metadata": {},
     "output_type": "execute_result"
    }
   ],
   "source": [
    "sum_of_cancer_diag_pos_coeffs = np.sum(cancer_diag_pos_coeffs.values)\n",
    "sum_of_cancer_diag_pos_coeffs"
   ]
  },
  {
   "cell_type": "code",
   "execution_count": 144,
   "metadata": {
    "scrolled": true
   },
   "outputs": [
    {
     "data": {
      "text/plain": [
       "0.0001018667094408793"
      ]
     },
     "execution_count": 144,
     "metadata": {},
     "output_type": "execute_result"
    }
   ],
   "source": [
    "cancer_diag_proportion_of_pos_total = sum_of_cancer_diag_pos_coeffs / sum_of_all_pos_coeffs\n",
    "cancer_diag_proportion_of_pos_total"
   ]
  },
  {
   "cell_type": "markdown",
   "metadata": {},
   "source": [
    "## Clinical Cancer Trials (Positive Coefficient)"
   ]
  },
  {
   "cell_type": "code",
   "execution_count": 145,
   "metadata": {},
   "outputs": [],
   "source": [
    "is_cancer_trials_pos_coeffs = []\n",
    "for name in lr_3_positive_coeffs.index.values:\n",
    "    is_cancer_trials_pos_coeffs.append(name.startswith('studyPer'))\n",
    "is_cancer_trials_pos_coeffs = np.array(is_cancer_trials_pos_coeffs)"
   ]
  },
  {
   "cell_type": "code",
   "execution_count": 146,
   "metadata": {},
   "outputs": [],
   "source": [
    "cancer_trials_pos_coeffs = lr_3_positive_coeffs.loc[is_cancer_trials_pos_coeffs]"
   ]
  },
  {
   "cell_type": "code",
   "execution_count": 147,
   "metadata": {},
   "outputs": [
    {
     "data": {
      "text/plain": [
       "0.00016107860551759"
      ]
     },
     "execution_count": 147,
     "metadata": {},
     "output_type": "execute_result"
    }
   ],
   "source": [
    "sum_of_cancer_trials_pos_coeffs = np.sum(cancer_trials_pos_coeffs.values)\n",
    "sum_of_cancer_trials_pos_coeffs"
   ]
  },
  {
   "cell_type": "code",
   "execution_count": 148,
   "metadata": {
    "scrolled": true
   },
   "outputs": [
    {
     "data": {
      "text/plain": [
       "1.0387911373258486e-07"
      ]
     },
     "execution_count": 148,
     "metadata": {},
     "output_type": "execute_result"
    }
   ],
   "source": [
    "cancer_trials_proportion_of_pos_total = sum_of_cancer_trials_pos_coeffs / sum_of_all_pos_coeffs\n",
    "cancer_trials_proportion_of_pos_total"
   ]
  },
  {
   "cell_type": "markdown",
   "metadata": {},
   "source": [
    "## Comorbid Health Conditions Features with Positive Coefficients"
   ]
  },
  {
   "cell_type": "code",
   "execution_count": 282,
   "metadata": {},
   "outputs": [],
   "source": [
    "comorbidities_pos = ['PCT_OBESE_ADULTS13', 'PCT_OBESE_ADULTS10', 'PCT_OBESE_CHILD11', 'PCT_DIABETES_ADULTS09', \n",
    "                     'PCT_OBESE_ADULTS13_log']"
   ]
  },
  {
   "cell_type": "code",
   "execution_count": 158,
   "metadata": {},
   "outputs": [],
   "source": [
    "is_comorbid_pos_coeffs = []\n",
    "for name in lr_3_positive_coeffs.index.values:\n",
    "    is_comorbid_pos_coeffs.append(name in comorbidities_pos)\n",
    "is_comorbid_pos_coeffs = np.array(is_comorbid_pos_coeffs)"
   ]
  },
  {
   "cell_type": "code",
   "execution_count": 159,
   "metadata": {},
   "outputs": [],
   "source": [
    "comorbid_pos_coeffs = lr_3_positive_coeffs.loc[is_comorbid_pos_coeffs]"
   ]
  },
  {
   "cell_type": "code",
   "execution_count": 160,
   "metadata": {},
   "outputs": [
    {
     "data": {
      "text/plain": [
       "5.157726060717047"
      ]
     },
     "execution_count": 160,
     "metadata": {},
     "output_type": "execute_result"
    }
   ],
   "source": [
    "sum_of_comorbid_pos_coeffs = np.sum(comorbid_pos_coeffs.values)\n",
    "sum_of_comorbid_pos_coeffs"
   ]
  },
  {
   "cell_type": "code",
   "execution_count": 161,
   "metadata": {},
   "outputs": [
    {
     "data": {
      "text/plain": [
       "0.0033262022001067986"
      ]
     },
     "execution_count": 161,
     "metadata": {},
     "output_type": "execute_result"
    }
   ],
   "source": [
    "comorbid_proportion_of_pos_total = sum_of_comorbid_pos_coeffs / sum_of_all_pos_coeffs\n",
    "comorbid_proportion_of_pos_total"
   ]
  },
  {
   "cell_type": "markdown",
   "metadata": {},
   "source": [
    "## Distance to Major Urban Centers Features with Positive Coefficients"
   ]
  },
  {
   "cell_type": "code",
   "execution_count": 162,
   "metadata": {},
   "outputs": [],
   "source": [
    "dists_to_urban_centers_pos = ['atlanta_l1_log', 'seattle_l1_log', 'seattle_l2', 'los_ang_l2', 'denver_l2', \n",
    "                         'san_fran_l2', 'atlanta_l2', 'dallas_l1', 'city_min_distsl2', 'city_min_distsl1_sqrd', \n",
    "                         'denver_l1_sqrd']"
   ]
  },
  {
   "cell_type": "code",
   "execution_count": 163,
   "metadata": {},
   "outputs": [],
   "source": [
    "is_urban_pos_coeffs = []\n",
    "for name in lr_3_positive_coeffs.index.values:\n",
    "    is_urban_pos_coeffs.append(name in dists_to_urban_centers_pos)\n",
    "is_urban_pos_coeffs = np.array(is_urban_pos_coeffs)"
   ]
  },
  {
   "cell_type": "code",
   "execution_count": 164,
   "metadata": {},
   "outputs": [],
   "source": [
    "urban_pos_coeffs = lr_3_positive_coeffs.loc[is_urban_pos_coeffs]"
   ]
  },
  {
   "cell_type": "code",
   "execution_count": 165,
   "metadata": {},
   "outputs": [
    {
     "data": {
      "text/plain": [
       "47.980766212726415"
      ]
     },
     "execution_count": 165,
     "metadata": {},
     "output_type": "execute_result"
    }
   ],
   "source": [
    "sum_of_urban_pos_coeffs = np.sum(urban_pos_coeffs.values)\n",
    "sum_of_urban_pos_coeffs"
   ]
  },
  {
   "cell_type": "code",
   "execution_count": 166,
   "metadata": {},
   "outputs": [
    {
     "data": {
      "text/plain": [
       "0.030942653460233057"
      ]
     },
     "execution_count": 166,
     "metadata": {},
     "output_type": "execute_result"
    }
   ],
   "source": [
    "urban_proportion_of_pos_total = sum_of_urban_pos_coeffs / sum_of_all_pos_coeffs\n",
    "urban_proportion_of_pos_total"
   ]
  },
  {
   "cell_type": "markdown",
   "metadata": {},
   "source": [
    "## Distances to Top 10 Oncology Hospitals Features with Positive Coefficients"
   ]
  },
  {
   "cell_type": "code",
   "execution_count": 167,
   "metadata": {},
   "outputs": [],
   "source": [
    "dists_to_oncology_hosps_pos = ['nw_mem_l2', 'mskcc_l2', 'nw_mem_l1', 'mgs_l2', 'mgs_l1', 'mgs_l2_log', 'upmcps_l2', \n",
    "                          'cleveland_l1_log', 'mskcc_l1_log', 'dfb_l2_log', 'upmcps_l1_log', 'hopkins_l1', \n",
    "                          'hlmcc_l1', 'mayo_l1', 'upmcps_l1', 'onc_min_distsl1', 'cleveland_l2_log', \n",
    "                          'hopkins_l2', 'utmda_l2', 'cleveland_l1_sqrd', 'mskcc_l1']"
   ]
  },
  {
   "cell_type": "code",
   "execution_count": 168,
   "metadata": {},
   "outputs": [],
   "source": [
    "is_onc_pos_coeffs = []\n",
    "for name in lr_3_positive_coeffs.index.values:\n",
    "    is_onc_pos_coeffs.append(name in dists_to_oncology_hosps_pos)\n",
    "is_onc_pos_coeffs = np.array(is_onc_pos_coeffs)"
   ]
  },
  {
   "cell_type": "code",
   "execution_count": 169,
   "metadata": {},
   "outputs": [],
   "source": [
    "onc_pos_coeffs = lr_3_positive_coeffs.loc[is_onc_pos_coeffs]"
   ]
  },
  {
   "cell_type": "code",
   "execution_count": 170,
   "metadata": {},
   "outputs": [
    {
     "data": {
      "text/plain": [
       "730.1456512160687"
      ]
     },
     "execution_count": 170,
     "metadata": {},
     "output_type": "execute_result"
    }
   ],
   "source": [
    "sum_of_onc_pos_coeffs = np.sum(onc_pos_coeffs.values)\n",
    "sum_of_onc_pos_coeffs"
   ]
  },
  {
   "cell_type": "code",
   "execution_count": 171,
   "metadata": {
    "scrolled": true
   },
   "outputs": [
    {
     "data": {
      "text/plain": [
       "0.47086875938805944"
      ]
     },
     "execution_count": 171,
     "metadata": {},
     "output_type": "execute_result"
    }
   ],
   "source": [
    "onc_proportion_of_pos_total = sum_of_onc_pos_coeffs / sum_of_all_pos_coeffs\n",
    "onc_proportion_of_pos_total"
   ]
  },
  {
   "cell_type": "markdown",
   "metadata": {},
   "source": [
    "## Education Features with Positive Coefficients"
   ]
  },
  {
   "cell_type": "code",
   "execution_count": 172,
   "metadata": {},
   "outputs": [],
   "source": [
    "education_pos = ['PctSomeCol18_24_log', 'PctHS25_Over', 'PctBachDeg25_Over_log', 'PctHS18_24', 'PctSomeCol18_24_sqrd']"
   ]
  },
  {
   "cell_type": "code",
   "execution_count": 173,
   "metadata": {},
   "outputs": [],
   "source": [
    "is_edu_pos_coeffs = []\n",
    "for name in lr_3_positive_coeffs.index.values:\n",
    "    is_edu_pos_coeffs.append(name in education_pos)\n",
    "is_edu_pos_coeffs = np.array(is_edu_pos_coeffs)"
   ]
  },
  {
   "cell_type": "code",
   "execution_count": 174,
   "metadata": {},
   "outputs": [],
   "source": [
    "edu_pos_coeffs = lr_3_positive_coeffs.loc[is_edu_pos_coeffs]"
   ]
  },
  {
   "cell_type": "code",
   "execution_count": 175,
   "metadata": {},
   "outputs": [
    {
     "data": {
      "text/plain": [
       "15.069103540082184"
      ]
     },
     "execution_count": 175,
     "metadata": {},
     "output_type": "execute_result"
    }
   ],
   "source": [
    "sum_of_edu_pos_coeffs = np.sum(edu_pos_coeffs.values)\n",
    "sum_of_edu_pos_coeffs"
   ]
  },
  {
   "cell_type": "code",
   "execution_count": 176,
   "metadata": {
    "scrolled": true
   },
   "outputs": [
    {
     "data": {
      "text/plain": [
       "0.00971802006516225"
      ]
     },
     "execution_count": 176,
     "metadata": {},
     "output_type": "execute_result"
    }
   ],
   "source": [
    "edu_proportion_of_pos_total = sum_of_edu_pos_coeffs / sum_of_all_pos_coeffs\n",
    "edu_proportion_of_pos_total"
   ]
  },
  {
   "cell_type": "markdown",
   "metadata": {},
   "source": [
    "## Environmental Health (Positive Coefficient)"
   ]
  },
  {
   "cell_type": "code",
   "execution_count": 177,
   "metadata": {},
   "outputs": [],
   "source": [
    "is_env_health_pos_coeffs = []\n",
    "for name in lr_3_positive_coeffs.index.values:\n",
    "    is_env_health_pos_coeffs.append(name.startswith('sc_min_'))\n",
    "is_env_health_pos_coeffs = np.array(is_env_health_pos_coeffs)"
   ]
  },
  {
   "cell_type": "code",
   "execution_count": 178,
   "metadata": {},
   "outputs": [],
   "source": [
    "env_health_pos_coeffs = lr_3_positive_coeffs.loc[is_env_health_pos_coeffs]"
   ]
  },
  {
   "cell_type": "code",
   "execution_count": 179,
   "metadata": {},
   "outputs": [
    {
     "data": {
      "text/plain": [
       "1.7545141019737336"
      ]
     },
     "execution_count": 179,
     "metadata": {},
     "output_type": "execute_result"
    }
   ],
   "source": [
    "sum_of_env_health_pos_coeffs = np.sum(env_health_pos_coeffs.values)\n",
    "sum_of_env_health_pos_coeffs"
   ]
  },
  {
   "cell_type": "code",
   "execution_count": 180,
   "metadata": {
    "scrolled": true
   },
   "outputs": [
    {
     "data": {
      "text/plain": [
       "0.0011314809273317845"
      ]
     },
     "execution_count": 180,
     "metadata": {},
     "output_type": "execute_result"
    }
   ],
   "source": [
    "env_health_proportion_of_pos_total = sum_of_env_health_pos_coeffs / sum_of_all_pos_coeffs\n",
    "env_health_proportion_of_pos_total"
   ]
  },
  {
   "cell_type": "markdown",
   "metadata": {},
   "source": [
    "## Erroneous Data Indicator (Positive Coefficient)"
   ]
  },
  {
   "cell_type": "code",
   "execution_count": 181,
   "metadata": {},
   "outputs": [],
   "source": [
    "is_err_pos_coeffs = []\n",
    "for name in lr_3_positive_coeffs.index.values:\n",
    "    is_err_pos_coeffs.append(name.startswith('age_gt_'))\n",
    "is_err_pos_coeffs = np.array(is_err_pos_coeffs)"
   ]
  },
  {
   "cell_type": "code",
   "execution_count": 182,
   "metadata": {},
   "outputs": [],
   "source": [
    "err_pos_coeffs = lr_3_positive_coeffs.loc[is_err_pos_coeffs]"
   ]
  },
  {
   "cell_type": "code",
   "execution_count": 183,
   "metadata": {},
   "outputs": [
    {
     "data": {
      "text/plain": [
       "3.9409651172033926"
      ]
     },
     "execution_count": 183,
     "metadata": {},
     "output_type": "execute_result"
    }
   ],
   "source": [
    "sum_of_err_pos_coeffs = np.sum(err_pos_coeffs.values)\n",
    "sum_of_err_pos_coeffs"
   ]
  },
  {
   "cell_type": "code",
   "execution_count": 184,
   "metadata": {
    "scrolled": true
   },
   "outputs": [
    {
     "data": {
      "text/plain": [
       "0.002541516685661992"
      ]
     },
     "execution_count": 184,
     "metadata": {},
     "output_type": "execute_result"
    }
   ],
   "source": [
    "err_proportion_of_pos_total = sum_of_err_pos_coeffs / sum_of_all_pos_coeffs\n",
    "err_proportion_of_pos_total"
   ]
  },
  {
   "cell_type": "markdown",
   "metadata": {},
   "source": [
    "## Food Environment Features with Positive Coefficients"
   ]
  },
  {
   "cell_type": "code",
   "execution_count": 188,
   "metadata": {},
   "outputs": [],
   "source": [
    "food_env_pos_features = ['FMRKTPTH09', 'FOODINSEC_CHILD_01_07', 'CH_VLFOODSEC_02_12', 'VLFOODSEC_07_09', \n",
    "                    'CH_FOODINSEC_09_12', 'FOODINSEC_10_12', 'FOODINSEC_00_02', 'PCT_LOCLFARM07', 'FMRKT09', \n",
    "                    'PCT_LOCLSALE07', 'PCT_LACCESS_HHNV10', 'PCH_FMRKTPTH_09_13', 'VLFOODSEC_10_12', \n",
    "                    'GHVEG_FARMS07', 'PCT_LACCESS_POP10', 'BERRY_ACRESPTH07', 'PCT_FMRKT_WIC13', \n",
    "                    'PCT_FMRKT_WICCASH13', 'BERRY_FARMS07', 'PCT_LACCESS_CHILD10_sqrd', 'CH_FOODINSEC_02_12', \n",
    "                    'AGRITRSM_OPS07', 'PCT_FRMKT_ANMLPROD13', 'FRESHVEG_FARMS07', 'FRESHVEG_ACRESPTH07', \n",
    "                    'PCT_FMRKT_OTHER13', 'FMRKT13_sqrd', 'PC_DIRSALES07_sqrd', 'ORCHARD_FARMS07', 'VEG_ACRES07', \n",
    "                    'GHVEG_SQFT07', 'AGRITRSM_RCT07']"
   ]
  },
  {
   "cell_type": "code",
   "execution_count": 189,
   "metadata": {},
   "outputs": [],
   "source": [
    "is_food_env_pos_coeffs = []\n",
    "for name in lr_3_positive_coeffs.index.values:\n",
    "    is_food_env_pos_coeffs.append(name in food_env_pos_features)\n",
    "is_food_env_pos_coeffs = np.array(is_food_env_pos_coeffs)"
   ]
  },
  {
   "cell_type": "code",
   "execution_count": 190,
   "metadata": {},
   "outputs": [],
   "source": [
    "food_env_pos_coeffs = lr_3_positive_coeffs.loc[is_food_env_pos_coeffs]"
   ]
  },
  {
   "cell_type": "code",
   "execution_count": 191,
   "metadata": {},
   "outputs": [
    {
     "data": {
      "text/plain": [
       "11.161795788701639"
      ]
     },
     "execution_count": 191,
     "metadata": {},
     "output_type": "execute_result"
    }
   ],
   "source": [
    "sum_of_food_env_pos_coeffs = np.sum(food_env_pos_coeffs.values)\n",
    "sum_of_food_env_pos_coeffs"
   ]
  },
  {
   "cell_type": "code",
   "execution_count": 192,
   "metadata": {
    "scrolled": true
   },
   "outputs": [
    {
     "data": {
      "text/plain": [
       "0.007198208914639553"
      ]
     },
     "execution_count": 192,
     "metadata": {},
     "output_type": "execute_result"
    }
   ],
   "source": [
    "food_env_proportion_of_pos_total = sum_of_food_env_pos_coeffs / sum_of_all_pos_coeffs\n",
    "food_env_proportion_of_pos_total"
   ]
  },
  {
   "cell_type": "markdown",
   "metadata": {},
   "source": [
    "## Geography (Positive Coefficient)"
   ]
  },
  {
   "cell_type": "code",
   "execution_count": 197,
   "metadata": {},
   "outputs": [],
   "source": [
    "is_geography_pos_coeffs = []\n",
    "for name in lr_3_positive_coeffs.index.values:\n",
    "    is_geography_pos_coeffs.append(name.startswith('ALAND_'))\n",
    "is_geography_pos_coeffs = np.array(is_geography_pos_coeffs)"
   ]
  },
  {
   "cell_type": "code",
   "execution_count": 198,
   "metadata": {},
   "outputs": [],
   "source": [
    "geography_pos_coeffs = lr_3_positive_coeffs.loc[is_geography_pos_coeffs]"
   ]
  },
  {
   "cell_type": "code",
   "execution_count": 199,
   "metadata": {},
   "outputs": [
    {
     "data": {
      "text/plain": [
       "6.190738885197167e-06"
      ]
     },
     "execution_count": 199,
     "metadata": {},
     "output_type": "execute_result"
    }
   ],
   "source": [
    "sum_of_geography_pos_coeffs = np.sum(geography_pos_coeffs.values)\n",
    "sum_of_geography_pos_coeffs"
   ]
  },
  {
   "cell_type": "code",
   "execution_count": 200,
   "metadata": {
    "scrolled": true
   },
   "outputs": [
    {
     "data": {
      "text/plain": [
       "3.992389098960171e-09"
      ]
     },
     "execution_count": 200,
     "metadata": {},
     "output_type": "execute_result"
    }
   ],
   "source": [
    "geography_proportion_of_pos_total = sum_of_geography_pos_coeffs / sum_of_all_pos_coeffs\n",
    "geography_proportion_of_pos_total"
   ]
  },
  {
   "cell_type": "markdown",
   "metadata": {},
   "source": [
    "## Health Insurance Features with Positive Coefficients"
   ]
  },
  {
   "cell_type": "code",
   "execution_count": 201,
   "metadata": {},
   "outputs": [],
   "source": [
    "health_ins_pos_features = ['PctPrivateCoverage_log', 'PctPublicCoverage_log', 'PctEmpPrivCoverage', \n",
    "                          'PctPrivateCoverageAlone', 'PctPublicCoverageAlone_sqrd']"
   ]
  },
  {
   "cell_type": "code",
   "execution_count": 202,
   "metadata": {},
   "outputs": [],
   "source": [
    "is_health_ins_pos_coeffs = []\n",
    "for name in lr_3_positive_coeffs.index.values:\n",
    "    is_health_ins_pos_coeffs.append(name in health_ins_pos_features)\n",
    "is_health_ins_pos_coeffs = np.array(is_health_ins_pos_coeffs)"
   ]
  },
  {
   "cell_type": "code",
   "execution_count": 203,
   "metadata": {},
   "outputs": [],
   "source": [
    "health_ins_pos_coeffs = lr_3_positive_coeffs.loc[is_health_ins_pos_coeffs]"
   ]
  },
  {
   "cell_type": "code",
   "execution_count": 204,
   "metadata": {},
   "outputs": [
    {
     "data": {
      "text/plain": [
       "290.8667973979147"
      ]
     },
     "execution_count": 204,
     "metadata": {},
     "output_type": "execute_result"
    }
   ],
   "source": [
    "sum_of_health_ins_pos_coeffs = np.sum(health_ins_pos_coeffs.values)\n",
    "sum_of_health_ins_pos_coeffs"
   ]
  },
  {
   "cell_type": "code",
   "execution_count": 205,
   "metadata": {
    "scrolled": true
   },
   "outputs": [
    {
     "data": {
      "text/plain": [
       "0.1875791327522461"
      ]
     },
     "execution_count": 205,
     "metadata": {},
     "output_type": "execute_result"
    }
   ],
   "source": [
    "health_ins_proportion_of_pos_total = sum_of_health_ins_pos_coeffs / sum_of_all_pos_coeffs\n",
    "health_ins_proportion_of_pos_total"
   ]
  },
  {
   "cell_type": "markdown",
   "metadata": {},
   "source": [
    "## Income Features with Positive Coefficients"
   ]
  },
  {
   "cell_type": "code",
   "execution_count": 235,
   "metadata": {},
   "outputs": [],
   "source": [
    "income_pos_features = ['binnedInc_[22640, 34218.1]', 'binnedInc_(34218.1, 37413.8]', \n",
    "                      'binnedInc_(37413.8, 40362.7]', 'medIncome']"
   ]
  },
  {
   "cell_type": "code",
   "execution_count": 207,
   "metadata": {},
   "outputs": [],
   "source": [
    "is_income_pos_coeffs = []\n",
    "for name in lr_3_positive_coeffs.index.values:\n",
    "    is_income_pos_coeffs.append(name in income_pos_features)\n",
    "is_income_pos_coeffs = np.array(is_income_pos_coeffs)"
   ]
  },
  {
   "cell_type": "code",
   "execution_count": 208,
   "metadata": {},
   "outputs": [],
   "source": [
    "income_pos_coeffs = lr_3_positive_coeffs.loc[is_income_pos_coeffs]"
   ]
  },
  {
   "cell_type": "code",
   "execution_count": 209,
   "metadata": {},
   "outputs": [
    {
     "data": {
      "text/plain": [
       "8.101947197100321"
      ]
     },
     "execution_count": 209,
     "metadata": {},
     "output_type": "execute_result"
    }
   ],
   "source": [
    "sum_of_income_pos_coeffs = np.sum(income_pos_coeffs.values)\n",
    "sum_of_income_pos_coeffs"
   ]
  },
  {
   "cell_type": "code",
   "execution_count": 210,
   "metadata": {
    "scrolled": true
   },
   "outputs": [
    {
     "data": {
      "text/plain": [
       "0.005224921656346689"
      ]
     },
     "execution_count": 210,
     "metadata": {},
     "output_type": "execute_result"
    }
   ],
   "source": [
    "income_proportion_of_pos_total = sum_of_income_pos_coeffs / sum_of_all_pos_coeffs\n",
    "income_proportion_of_pos_total"
   ]
  },
  {
   "cell_type": "markdown",
   "metadata": {},
   "source": [
    "## Percentage Married (Positive Coefficient)"
   ]
  },
  {
   "cell_type": "code",
   "execution_count": 211,
   "metadata": {},
   "outputs": [],
   "source": [
    "is_married_pos_coeffs = []\n",
    "for name in lr_3_positive_coeffs.index.values:\n",
    "    is_married_pos_coeffs.append(name.startswith('PercentMarried'))\n",
    "is_married_pos_coeffs = np.array(is_married_pos_coeffs)"
   ]
  },
  {
   "cell_type": "code",
   "execution_count": 212,
   "metadata": {},
   "outputs": [],
   "source": [
    "married_pos_coeffs = lr_3_positive_coeffs.loc[is_married_pos_coeffs]"
   ]
  },
  {
   "cell_type": "code",
   "execution_count": 213,
   "metadata": {},
   "outputs": [
    {
     "data": {
      "text/plain": [
       "2.2346017534070017"
      ]
     },
     "execution_count": 213,
     "metadata": {},
     "output_type": "execute_result"
    }
   ],
   "source": [
    "sum_of_married_pos_coeffs = np.sum(married_pos_coeffs.values)\n",
    "sum_of_married_pos_coeffs"
   ]
  },
  {
   "cell_type": "code",
   "execution_count": 214,
   "metadata": {
    "scrolled": true
   },
   "outputs": [
    {
     "data": {
      "text/plain": [
       "0.0014410880262050116"
      ]
     },
     "execution_count": 214,
     "metadata": {},
     "output_type": "execute_result"
    }
   ],
   "source": [
    "married_proportion_of_pos_total = sum_of_married_pos_coeffs / sum_of_all_pos_coeffs\n",
    "married_proportion_of_pos_total"
   ]
  },
  {
   "cell_type": "markdown",
   "metadata": {},
   "source": [
    "## Metropolitan Indicator, 2013 (Positive Coefficient)"
   ]
  },
  {
   "cell_type": "code",
   "execution_count": 215,
   "metadata": {},
   "outputs": [],
   "source": [
    "is_metro_pos_coeffs = []\n",
    "for name in lr_3_positive_coeffs.index.values:\n",
    "    is_metro_pos_coeffs.append(name.startswith('METRO13'))\n",
    "is_metro_pos_coeffs = np.array(is_metro_pos_coeffs)"
   ]
  },
  {
   "cell_type": "code",
   "execution_count": 216,
   "metadata": {},
   "outputs": [],
   "source": [
    "metro_pos_coeffs = lr_3_positive_coeffs.loc[is_metro_pos_coeffs]"
   ]
  },
  {
   "cell_type": "code",
   "execution_count": 217,
   "metadata": {},
   "outputs": [
    {
     "data": {
      "text/plain": [
       "0.7971816514964501"
      ]
     },
     "execution_count": 217,
     "metadata": {},
     "output_type": "execute_result"
    }
   ],
   "source": [
    "sum_of_metro_pos_coeffs = np.sum(metro_pos_coeffs.values)\n",
    "sum_of_metro_pos_coeffs"
   ]
  },
  {
   "cell_type": "code",
   "execution_count": 218,
   "metadata": {
    "scrolled": true
   },
   "outputs": [
    {
     "data": {
      "text/plain": [
       "0.0005141000766379652"
      ]
     },
     "execution_count": 218,
     "metadata": {},
     "output_type": "execute_result"
    }
   ],
   "source": [
    "metro_proportion_of_pos_total = sum_of_metro_pos_coeffs / sum_of_all_pos_coeffs\n",
    "metro_proportion_of_pos_total"
   ]
  },
  {
   "cell_type": "markdown",
   "metadata": {},
   "source": [
    "## Missing Value Features with Positive Coefficients"
   ]
  },
  {
   "cell_type": "code",
   "execution_count": 223,
   "metadata": {},
   "outputs": [],
   "source": [
    "is_missing_pos_coeffs = []\n",
    "for name in lr_3_positive_coeffs.index.values:\n",
    "    is_missing_pos_coeffs.append(name.endswith('_isnull'))\n",
    "is_missing_pos_coeffs = np.array(is_missing_pos_coeffs)"
   ]
  },
  {
   "cell_type": "code",
   "execution_count": 224,
   "metadata": {},
   "outputs": [],
   "source": [
    "missing_pos_coeffs = lr_3_positive_coeffs.loc[is_missing_pos_coeffs]"
   ]
  },
  {
   "cell_type": "code",
   "execution_count": 225,
   "metadata": {},
   "outputs": [
    {
     "data": {
      "text/plain": [
       "89.90259364533352"
      ]
     },
     "execution_count": 225,
     "metadata": {},
     "output_type": "execute_result"
    }
   ],
   "source": [
    "sum_of_missing_pos_coeffs = np.sum(missing_pos_coeffs.values)\n",
    "sum_of_missing_pos_coeffs"
   ]
  },
  {
   "cell_type": "code",
   "execution_count": 226,
   "metadata": {
    "scrolled": true
   },
   "outputs": [
    {
     "data": {
      "text/plain": [
       "0.05797791531736429"
      ]
     },
     "execution_count": 226,
     "metadata": {},
     "output_type": "execute_result"
    }
   ],
   "source": [
    "missing_proportion_of_pos_total = sum_of_missing_pos_coeffs / sum_of_all_pos_coeffs\n",
    "missing_proportion_of_pos_total"
   ]
  },
  {
   "cell_type": "markdown",
   "metadata": {},
   "source": [
    "## Population Loss (Positive Coefficient)"
   ]
  },
  {
   "cell_type": "code",
   "execution_count": 229,
   "metadata": {},
   "outputs": [],
   "source": [
    "is_poploss_pos_coeffs = []\n",
    "for name in lr_3_positive_coeffs.index.values:\n",
    "    is_poploss_pos_coeffs.append(name.startswith('POPLOSS'))\n",
    "is_poploss_pos_coeffs = np.array(is_poploss_pos_coeffs)"
   ]
  },
  {
   "cell_type": "code",
   "execution_count": 230,
   "metadata": {},
   "outputs": [],
   "source": [
    "poploss_pos_coeffs = lr_3_positive_coeffs.loc[is_poploss_pos_coeffs]"
   ]
  },
  {
   "cell_type": "code",
   "execution_count": 231,
   "metadata": {},
   "outputs": [
    {
     "data": {
      "text/plain": [
       "4.002963784932161"
      ]
     },
     "execution_count": 231,
     "metadata": {},
     "output_type": "execute_result"
    }
   ],
   "source": [
    "sum_of_poploss_pos_coeffs = np.sum(poploss_pos_coeffs.values)\n",
    "sum_of_poploss_pos_coeffs"
   ]
  },
  {
   "cell_type": "code",
   "execution_count": 232,
   "metadata": {
    "scrolled": true
   },
   "outputs": [
    {
     "data": {
      "text/plain": [
       "0.002581499442127823"
      ]
     },
     "execution_count": 232,
     "metadata": {},
     "output_type": "execute_result"
    }
   ],
   "source": [
    "poploss_proportion_of_pos_total = sum_of_poploss_pos_coeffs / sum_of_all_pos_coeffs\n",
    "poploss_proportion_of_pos_total"
   ]
  },
  {
   "cell_type": "markdown",
   "metadata": {},
   "source": [
    "## Poverty-related Features with Positive Coefficients"
   ]
  },
  {
   "cell_type": "code",
   "execution_count": 234,
   "metadata": {},
   "outputs": [],
   "source": [
    "poverty_pos_features = ['povertyPercent_log', 'CHILDPOVRATE10', 'PERPOV10', 'PERCHLDPOV10', 'povertyPercent_sqrd']"
   ]
  },
  {
   "cell_type": "code",
   "execution_count": 236,
   "metadata": {},
   "outputs": [],
   "source": [
    "is_poverty_pos_coeffs = []\n",
    "for name in lr_3_positive_coeffs.index.values:\n",
    "    is_poverty_pos_coeffs.append(name in poverty_pos_features)\n",
    "is_poverty_pos_coeffs = np.array(is_poverty_pos_coeffs)"
   ]
  },
  {
   "cell_type": "code",
   "execution_count": 237,
   "metadata": {},
   "outputs": [],
   "source": [
    "poverty_pos_coeffs = lr_3_positive_coeffs.loc[is_poverty_pos_coeffs]"
   ]
  },
  {
   "cell_type": "code",
   "execution_count": 238,
   "metadata": {},
   "outputs": [
    {
     "data": {
      "text/plain": [
       "38.673196977156074"
      ]
     },
     "execution_count": 238,
     "metadata": {},
     "output_type": "execute_result"
    }
   ],
   "source": [
    "sum_of_poverty_pos_coeffs = np.sum(poverty_pos_coeffs.values)\n",
    "sum_of_poverty_pos_coeffs"
   ]
  },
  {
   "cell_type": "code",
   "execution_count": 239,
   "metadata": {
    "scrolled": false
   },
   "outputs": [
    {
     "data": {
      "text/plain": [
       "0.024940229736182772"
      ]
     },
     "execution_count": 239,
     "metadata": {},
     "output_type": "execute_result"
    }
   ],
   "source": [
    "poverty_proportion_of_pos_total = sum_of_poverty_pos_coeffs / sum_of_all_pos_coeffs\n",
    "poverty_proportion_of_pos_total"
   ]
  },
  {
   "cell_type": "markdown",
   "metadata": {},
   "source": [
    "## Race-related Features with Positive Coefficients"
   ]
  },
  {
   "cell_type": "code",
   "execution_count": 240,
   "metadata": {},
   "outputs": [],
   "source": [
    "race_pos_features = ['PctBlack', 'PctWhite_sqrd']"
   ]
  },
  {
   "cell_type": "code",
   "execution_count": 241,
   "metadata": {},
   "outputs": [],
   "source": [
    "is_race_pos_coeffs = []\n",
    "for name in lr_3_positive_coeffs.index.values:\n",
    "    is_race_pos_coeffs.append(name in race_pos_features)\n",
    "is_race_pos_coeffs = np.array(is_race_pos_coeffs)"
   ]
  },
  {
   "cell_type": "code",
   "execution_count": 242,
   "metadata": {},
   "outputs": [],
   "source": [
    "race_pos_coeffs = lr_3_positive_coeffs.loc[is_race_pos_coeffs]"
   ]
  },
  {
   "cell_type": "code",
   "execution_count": 243,
   "metadata": {},
   "outputs": [
    {
     "data": {
      "text/plain": [
       "0.2854501320576585"
      ]
     },
     "execution_count": 243,
     "metadata": {},
     "output_type": "execute_result"
    }
   ],
   "source": [
    "sum_of_race_pos_coeffs = np.sum(race_pos_coeffs.values)\n",
    "sum_of_race_pos_coeffs"
   ]
  },
  {
   "cell_type": "code",
   "execution_count": 244,
   "metadata": {
    "scrolled": false
   },
   "outputs": [
    {
     "data": {
      "text/plain": [
       "0.00018408594138071802"
      ]
     },
     "execution_count": 244,
     "metadata": {},
     "output_type": "execute_result"
    }
   ],
   "source": [
    "race_proportion_of_pos_total = sum_of_race_pos_coeffs / sum_of_all_pos_coeffs\n",
    "race_proportion_of_pos_total"
   ]
  },
  {
   "cell_type": "markdown",
   "metadata": {},
   "source": [
    "## Recreation and Fitness Features with Positive Coefficients"
   ]
  },
  {
   "cell_type": "code",
   "execution_count": 245,
   "metadata": {},
   "outputs": [],
   "source": [
    "recreation_pos_features = ['RECFACPTH12', 'PCT_HSPA09', 'PCH_RECFACPTH_07_12', 'RECFAC12']"
   ]
  },
  {
   "cell_type": "code",
   "execution_count": 246,
   "metadata": {},
   "outputs": [],
   "source": [
    "is_recreation_pos_coeffs = []\n",
    "for name in lr_3_positive_coeffs.index.values:\n",
    "    is_recreation_pos_coeffs.append(name in recreation_pos_features)\n",
    "is_recreation_pos_coeffs = np.array(is_recreation_pos_coeffs)"
   ]
  },
  {
   "cell_type": "code",
   "execution_count": 247,
   "metadata": {},
   "outputs": [],
   "source": [
    "recreation_pos_coeffs = lr_3_positive_coeffs.loc[is_recreation_pos_coeffs]"
   ]
  },
  {
   "cell_type": "code",
   "execution_count": 248,
   "metadata": {},
   "outputs": [
    {
     "data": {
      "text/plain": [
       "17.610477994065285"
      ]
     },
     "execution_count": 248,
     "metadata": {},
     "output_type": "execute_result"
    }
   ],
   "source": [
    "sum_of_recreation_pos_coeffs = np.sum(recreation_pos_coeffs.values)\n",
    "sum_of_recreation_pos_coeffs"
   ]
  },
  {
   "cell_type": "code",
   "execution_count": 249,
   "metadata": {
    "scrolled": false
   },
   "outputs": [
    {
     "data": {
      "text/plain": [
       "0.011356944893783066"
      ]
     },
     "execution_count": 249,
     "metadata": {},
     "output_type": "execute_result"
    }
   ],
   "source": [
    "recreation_proportion_of_pos_total = sum_of_recreation_pos_coeffs / sum_of_all_pos_coeffs\n",
    "recreation_proportion_of_pos_total"
   ]
  },
  {
   "cell_type": "markdown",
   "metadata": {},
   "source": [
    "## State Features with Positive Coefficients"
   ]
  },
  {
   "cell_type": "code",
   "execution_count": 251,
   "metadata": {},
   "outputs": [],
   "source": [
    "is_state_pos_coeffs = []\n",
    "for name in lr_3_positive_coeffs.index.values:\n",
    "    is_state_pos_coeffs.append(name.startswith('State_'))\n",
    "is_state_pos_coeffs = np.array(is_state_pos_coeffs)"
   ]
  },
  {
   "cell_type": "code",
   "execution_count": 252,
   "metadata": {},
   "outputs": [],
   "source": [
    "state_pos_coeffs = lr_3_positive_coeffs.loc[is_state_pos_coeffs]"
   ]
  },
  {
   "cell_type": "code",
   "execution_count": 253,
   "metadata": {},
   "outputs": [
    {
     "data": {
      "text/plain": [
       "244.677753171326"
      ]
     },
     "execution_count": 253,
     "metadata": {},
     "output_type": "execute_result"
    }
   ],
   "source": [
    "sum_of_state_pos_coeffs = np.sum(state_pos_coeffs.values)\n",
    "sum_of_state_pos_coeffs"
   ]
  },
  {
   "cell_type": "code",
   "execution_count": 254,
   "metadata": {
    "scrolled": false
   },
   "outputs": [
    {
     "data": {
      "text/plain": [
       "0.1577919554732049"
      ]
     },
     "execution_count": 254,
     "metadata": {},
     "output_type": "execute_result"
    }
   ],
   "source": [
    "state_proportion_of_pos_total = sum_of_state_pos_coeffs / sum_of_all_pos_coeffs\n",
    "state_proportion_of_pos_total"
   ]
  },
  {
   "cell_type": "markdown",
   "metadata": {},
   "source": [
    "## Summary Table of Feature Family Positive Coefficients"
   ]
  },
  {
   "cell_type": "code",
   "execution_count": 389,
   "metadata": {},
   "outputs": [
    {
     "data": {
      "text/html": [
       "<div>\n",
       "<style scoped>\n",
       "    .dataframe tbody tr th:only-of-type {\n",
       "        vertical-align: middle;\n",
       "    }\n",
       "\n",
       "    .dataframe tbody tr th {\n",
       "        vertical-align: top;\n",
       "    }\n",
       "\n",
       "    .dataframe thead th {\n",
       "        text-align: right;\n",
       "    }\n",
       "</style>\n",
       "<table border=\"1\" class=\"dataframe\">\n",
       "  <thead>\n",
       "    <tr style=\"text-align: right;\">\n",
       "      <th></th>\n",
       "      <th>Features</th>\n",
       "      <th>Coefficients</th>\n",
       "      <th>Feature Family</th>\n",
       "      <th>Feature Family Sums</th>\n",
       "      <th>Feature Family Proportion</th>\n",
       "      <th>Total Positive Sum</th>\n",
       "    </tr>\n",
       "  </thead>\n",
       "  <tbody>\n",
       "    <tr>\n",
       "      <th>0</th>\n",
       "      <td>MedianAgeFemale</td>\n",
       "      <td>1.346875</td>\n",
       "      <td>Age</td>\n",
       "      <td>2.39503</td>\n",
       "      <td>1.544545e-03</td>\n",
       "      <td>1550.635173</td>\n",
       "    </tr>\n",
       "    <tr>\n",
       "      <th>1</th>\n",
       "      <td>MedianAge</td>\n",
       "      <td>1.048151</td>\n",
       "      <td>Age</td>\n",
       "      <td>NaN</td>\n",
       "      <td>NaN</td>\n",
       "      <td>NaN</td>\n",
       "    </tr>\n",
       "    <tr>\n",
       "      <th>2</th>\n",
       "      <td>AvgHouseholdSize_log</td>\n",
       "      <td>29.101250</td>\n",
       "      <td>Average Household Size</td>\n",
       "      <td>29.1013</td>\n",
       "      <td>1.876731e-02</td>\n",
       "      <td>NaN</td>\n",
       "    </tr>\n",
       "    <tr>\n",
       "      <th>3</th>\n",
       "      <td>incidenceRate</td>\n",
       "      <td>0.157958</td>\n",
       "      <td>Cancer Diagnoses</td>\n",
       "      <td>0.157958</td>\n",
       "      <td>1.018667e-04</td>\n",
       "      <td>NaN</td>\n",
       "    </tr>\n",
       "    <tr>\n",
       "      <th>4</th>\n",
       "      <td>studyPerCap</td>\n",
       "      <td>0.000161</td>\n",
       "      <td>Clinical Cancer Trials</td>\n",
       "      <td>0.000161079</td>\n",
       "      <td>1.038791e-07</td>\n",
       "      <td>NaN</td>\n",
       "    </tr>\n",
       "    <tr>\n",
       "      <th>5</th>\n",
       "      <td>PCT_OBESE_ADULTS13</td>\n",
       "      <td>3.031626</td>\n",
       "      <td>Comorbid Health Conditions</td>\n",
       "      <td>5.15773</td>\n",
       "      <td>3.326202e-03</td>\n",
       "      <td>NaN</td>\n",
       "    </tr>\n",
       "    <tr>\n",
       "      <th>6</th>\n",
       "      <td>PCT_OBESE_ADULTS10</td>\n",
       "      <td>0.772684</td>\n",
       "      <td>Comorbid Health Conditions</td>\n",
       "      <td>NaN</td>\n",
       "      <td>NaN</td>\n",
       "      <td>NaN</td>\n",
       "    </tr>\n",
       "    <tr>\n",
       "      <th>7</th>\n",
       "      <td>PCT_OBESE_CHILD11</td>\n",
       "      <td>0.532429</td>\n",
       "      <td>Comorbid Health Conditions</td>\n",
       "      <td>NaN</td>\n",
       "      <td>NaN</td>\n",
       "      <td>NaN</td>\n",
       "    </tr>\n",
       "    <tr>\n",
       "      <th>8</th>\n",
       "      <td>PCT_DIABETES_ADULTS09</td>\n",
       "      <td>0.417860</td>\n",
       "      <td>Comorbid Health Conditions</td>\n",
       "      <td>NaN</td>\n",
       "      <td>NaN</td>\n",
       "      <td>NaN</td>\n",
       "    </tr>\n",
       "    <tr>\n",
       "      <th>9</th>\n",
       "      <td>PCT_OBESE_ADULTS13_log</td>\n",
       "      <td>0.403127</td>\n",
       "      <td>Comorbid Health Conditions</td>\n",
       "      <td>NaN</td>\n",
       "      <td>NaN</td>\n",
       "      <td>NaN</td>\n",
       "    </tr>\n",
       "    <tr>\n",
       "      <th>10</th>\n",
       "      <td>atlanta_l1_log</td>\n",
       "      <td>22.079670</td>\n",
       "      <td>Distance to Major Urban Center</td>\n",
       "      <td>47.9808</td>\n",
       "      <td>3.094265e-02</td>\n",
       "      <td>NaN</td>\n",
       "    </tr>\n",
       "    <tr>\n",
       "      <th>11</th>\n",
       "      <td>seattle_l1_log</td>\n",
       "      <td>5.468347</td>\n",
       "      <td>Distance to Major Urban Center</td>\n",
       "      <td>NaN</td>\n",
       "      <td>NaN</td>\n",
       "      <td>NaN</td>\n",
       "    </tr>\n",
       "    <tr>\n",
       "      <th>12</th>\n",
       "      <td>seattle_l2</td>\n",
       "      <td>4.330320</td>\n",
       "      <td>Distance to Major Urban Center</td>\n",
       "      <td>NaN</td>\n",
       "      <td>NaN</td>\n",
       "      <td>NaN</td>\n",
       "    </tr>\n",
       "    <tr>\n",
       "      <th>13</th>\n",
       "      <td>los_ang_l2</td>\n",
       "      <td>3.438173</td>\n",
       "      <td>Distance to Major Urban Center</td>\n",
       "      <td>NaN</td>\n",
       "      <td>NaN</td>\n",
       "      <td>NaN</td>\n",
       "    </tr>\n",
       "    <tr>\n",
       "      <th>14</th>\n",
       "      <td>denver_l2</td>\n",
       "      <td>3.409665</td>\n",
       "      <td>Distance to Major Urban Center</td>\n",
       "      <td>NaN</td>\n",
       "      <td>NaN</td>\n",
       "      <td>NaN</td>\n",
       "    </tr>\n",
       "    <tr>\n",
       "      <th>15</th>\n",
       "      <td>san_fran_l2</td>\n",
       "      <td>2.427954</td>\n",
       "      <td>Distance to Major Urban Center</td>\n",
       "      <td>NaN</td>\n",
       "      <td>NaN</td>\n",
       "      <td>NaN</td>\n",
       "    </tr>\n",
       "    <tr>\n",
       "      <th>16</th>\n",
       "      <td>atlanta_l2</td>\n",
       "      <td>2.308934</td>\n",
       "      <td>Distance to Major Urban Center</td>\n",
       "      <td>NaN</td>\n",
       "      <td>NaN</td>\n",
       "      <td>NaN</td>\n",
       "    </tr>\n",
       "    <tr>\n",
       "      <th>17</th>\n",
       "      <td>dallas_l1</td>\n",
       "      <td>2.219957</td>\n",
       "      <td>Distance to Major Urban Center</td>\n",
       "      <td>NaN</td>\n",
       "      <td>NaN</td>\n",
       "      <td>NaN</td>\n",
       "    </tr>\n",
       "    <tr>\n",
       "      <th>18</th>\n",
       "      <td>city_min_distsl2</td>\n",
       "      <td>2.115211</td>\n",
       "      <td>Distance to Major Urban Center</td>\n",
       "      <td>NaN</td>\n",
       "      <td>NaN</td>\n",
       "      <td>NaN</td>\n",
       "    </tr>\n",
       "    <tr>\n",
       "      <th>19</th>\n",
       "      <td>city_min_distsl1_sqrd</td>\n",
       "      <td>0.159854</td>\n",
       "      <td>Distance to Major Urban Center</td>\n",
       "      <td>NaN</td>\n",
       "      <td>NaN</td>\n",
       "      <td>NaN</td>\n",
       "    </tr>\n",
       "    <tr>\n",
       "      <th>20</th>\n",
       "      <td>denver_l1_sqrd</td>\n",
       "      <td>0.022680</td>\n",
       "      <td>Distance to Major Urban Center</td>\n",
       "      <td>NaN</td>\n",
       "      <td>NaN</td>\n",
       "      <td>NaN</td>\n",
       "    </tr>\n",
       "    <tr>\n",
       "      <th>21</th>\n",
       "      <td>nw_mem_l2</td>\n",
       "      <td>340.814700</td>\n",
       "      <td>Distances to Top 10 Oncology Hospitals</td>\n",
       "      <td>730.146</td>\n",
       "      <td>4.708688e-01</td>\n",
       "      <td>NaN</td>\n",
       "    </tr>\n",
       "    <tr>\n",
       "      <th>22</th>\n",
       "      <td>mskcc_l2</td>\n",
       "      <td>121.513700</td>\n",
       "      <td>Distances to Top 10 Oncology Hospitals</td>\n",
       "      <td>NaN</td>\n",
       "      <td>NaN</td>\n",
       "      <td>NaN</td>\n",
       "    </tr>\n",
       "    <tr>\n",
       "      <th>23</th>\n",
       "      <td>nw_mem_l1</td>\n",
       "      <td>51.754720</td>\n",
       "      <td>Distances to Top 10 Oncology Hospitals</td>\n",
       "      <td>NaN</td>\n",
       "      <td>NaN</td>\n",
       "      <td>NaN</td>\n",
       "    </tr>\n",
       "    <tr>\n",
       "      <th>24</th>\n",
       "      <td>mgs_l2</td>\n",
       "      <td>48.155320</td>\n",
       "      <td>Distances to Top 10 Oncology Hospitals</td>\n",
       "      <td>NaN</td>\n",
       "      <td>NaN</td>\n",
       "      <td>NaN</td>\n",
       "    </tr>\n",
       "    <tr>\n",
       "      <th>25</th>\n",
       "      <td>mgs_l1</td>\n",
       "      <td>40.019680</td>\n",
       "      <td>Distances to Top 10 Oncology Hospitals</td>\n",
       "      <td>NaN</td>\n",
       "      <td>NaN</td>\n",
       "      <td>NaN</td>\n",
       "    </tr>\n",
       "    <tr>\n",
       "      <th>26</th>\n",
       "      <td>mgs_l2_log</td>\n",
       "      <td>36.925930</td>\n",
       "      <td>Distances to Top 10 Oncology Hospitals</td>\n",
       "      <td>NaN</td>\n",
       "      <td>NaN</td>\n",
       "      <td>NaN</td>\n",
       "    </tr>\n",
       "    <tr>\n",
       "      <th>27</th>\n",
       "      <td>upmcps_l2</td>\n",
       "      <td>18.027960</td>\n",
       "      <td>Distances to Top 10 Oncology Hospitals</td>\n",
       "      <td>NaN</td>\n",
       "      <td>NaN</td>\n",
       "      <td>NaN</td>\n",
       "    </tr>\n",
       "    <tr>\n",
       "      <th>28</th>\n",
       "      <td>cleveland_l1_log</td>\n",
       "      <td>17.626230</td>\n",
       "      <td>Distances to Top 10 Oncology Hospitals</td>\n",
       "      <td>NaN</td>\n",
       "      <td>NaN</td>\n",
       "      <td>NaN</td>\n",
       "    </tr>\n",
       "    <tr>\n",
       "      <th>29</th>\n",
       "      <td>mskcc_l1_log</td>\n",
       "      <td>16.691460</td>\n",
       "      <td>Distances to Top 10 Oncology Hospitals</td>\n",
       "      <td>NaN</td>\n",
       "      <td>NaN</td>\n",
       "      <td>NaN</td>\n",
       "    </tr>\n",
       "    <tr>\n",
       "      <th>30</th>\n",
       "      <td>dfb_l2_log</td>\n",
       "      <td>16.561730</td>\n",
       "      <td>Distances to Top 10 Oncology Hospitals</td>\n",
       "      <td>NaN</td>\n",
       "      <td>NaN</td>\n",
       "      <td>NaN</td>\n",
       "    </tr>\n",
       "    <tr>\n",
       "      <th>31</th>\n",
       "      <td>upmcps_l1_log</td>\n",
       "      <td>9.223769</td>\n",
       "      <td>Distances to Top 10 Oncology Hospitals</td>\n",
       "      <td>NaN</td>\n",
       "      <td>NaN</td>\n",
       "      <td>NaN</td>\n",
       "    </tr>\n",
       "    <tr>\n",
       "      <th>32</th>\n",
       "      <td>hopkins_l1</td>\n",
       "      <td>2.325272</td>\n",
       "      <td>Distances to Top 10 Oncology Hospitals</td>\n",
       "      <td>NaN</td>\n",
       "      <td>NaN</td>\n",
       "      <td>NaN</td>\n",
       "    </tr>\n",
       "    <tr>\n",
       "      <th>33</th>\n",
       "      <td>hlmcc_l1</td>\n",
       "      <td>1.982735</td>\n",
       "      <td>Distances to Top 10 Oncology Hospitals</td>\n",
       "      <td>NaN</td>\n",
       "      <td>NaN</td>\n",
       "      <td>NaN</td>\n",
       "    </tr>\n",
       "    <tr>\n",
       "      <th>34</th>\n",
       "      <td>mayo_l1</td>\n",
       "      <td>1.769828</td>\n",
       "      <td>Distances to Top 10 Oncology Hospitals</td>\n",
       "      <td>NaN</td>\n",
       "      <td>NaN</td>\n",
       "      <td>NaN</td>\n",
       "    </tr>\n",
       "    <tr>\n",
       "      <th>35</th>\n",
       "      <td>upmcps_l1</td>\n",
       "      <td>1.672678</td>\n",
       "      <td>Distances to Top 10 Oncology Hospitals</td>\n",
       "      <td>NaN</td>\n",
       "      <td>NaN</td>\n",
       "      <td>NaN</td>\n",
       "    </tr>\n",
       "    <tr>\n",
       "      <th>36</th>\n",
       "      <td>onc_min_distsl1</td>\n",
       "      <td>1.346105</td>\n",
       "      <td>Distances to Top 10 Oncology Hospitals</td>\n",
       "      <td>NaN</td>\n",
       "      <td>NaN</td>\n",
       "      <td>NaN</td>\n",
       "    </tr>\n",
       "    <tr>\n",
       "      <th>37</th>\n",
       "      <td>cleveland_l2_log</td>\n",
       "      <td>1.311818</td>\n",
       "      <td>Distances to Top 10 Oncology Hospitals</td>\n",
       "      <td>NaN</td>\n",
       "      <td>NaN</td>\n",
       "      <td>NaN</td>\n",
       "    </tr>\n",
       "    <tr>\n",
       "      <th>38</th>\n",
       "      <td>hopkins_l2</td>\n",
       "      <td>1.250331</td>\n",
       "      <td>Distances to Top 10 Oncology Hospitals</td>\n",
       "      <td>NaN</td>\n",
       "      <td>NaN</td>\n",
       "      <td>NaN</td>\n",
       "    </tr>\n",
       "    <tr>\n",
       "      <th>39</th>\n",
       "      <td>utmda_l2</td>\n",
       "      <td>0.719729</td>\n",
       "      <td>Distances to Top 10 Oncology Hospitals</td>\n",
       "      <td>NaN</td>\n",
       "      <td>NaN</td>\n",
       "      <td>NaN</td>\n",
       "    </tr>\n",
       "    <tr>\n",
       "      <th>40</th>\n",
       "      <td>cleveland_l1_sqrd</td>\n",
       "      <td>0.360354</td>\n",
       "      <td>Distances to Top 10 Oncology Hospitals</td>\n",
       "      <td>NaN</td>\n",
       "      <td>NaN</td>\n",
       "      <td>NaN</td>\n",
       "    </tr>\n",
       "    <tr>\n",
       "      <th>41</th>\n",
       "      <td>mskcc_l1</td>\n",
       "      <td>0.091607</td>\n",
       "      <td>Distances to Top 10 Oncology Hospitals</td>\n",
       "      <td>NaN</td>\n",
       "      <td>NaN</td>\n",
       "      <td>NaN</td>\n",
       "    </tr>\n",
       "    <tr>\n",
       "      <th>42</th>\n",
       "      <td>PctSomeCol18_24_log</td>\n",
       "      <td>11.923140</td>\n",
       "      <td>Education</td>\n",
       "      <td>15.0691</td>\n",
       "      <td>9.718021e-03</td>\n",
       "      <td>NaN</td>\n",
       "    </tr>\n",
       "    <tr>\n",
       "      <th>43</th>\n",
       "      <td>PctHS25_Over</td>\n",
       "      <td>1.478055</td>\n",
       "      <td>Education</td>\n",
       "      <td>NaN</td>\n",
       "      <td>NaN</td>\n",
       "      <td>NaN</td>\n",
       "    </tr>\n",
       "    <tr>\n",
       "      <th>44</th>\n",
       "      <td>PctBachDeg25_Over_log</td>\n",
       "      <td>1.467285</td>\n",
       "      <td>Education</td>\n",
       "      <td>NaN</td>\n",
       "      <td>NaN</td>\n",
       "      <td>NaN</td>\n",
       "    </tr>\n",
       "    <tr>\n",
       "      <th>45</th>\n",
       "      <td>PctHS18_24</td>\n",
       "      <td>0.200394</td>\n",
       "      <td>Education</td>\n",
       "      <td>NaN</td>\n",
       "      <td>NaN</td>\n",
       "      <td>NaN</td>\n",
       "    </tr>\n",
       "    <tr>\n",
       "      <th>46</th>\n",
       "      <td>PctSomeCol18_24_sqrd</td>\n",
       "      <td>0.000232</td>\n",
       "      <td>Education</td>\n",
       "      <td>NaN</td>\n",
       "      <td>NaN</td>\n",
       "      <td>NaN</td>\n",
       "    </tr>\n",
       "    <tr>\n",
       "      <th>47</th>\n",
       "      <td>PctEmployed16_Over</td>\n",
       "      <td>6.498003</td>\n",
       "      <td>Employment</td>\n",
       "      <td>6.61726</td>\n",
       "      <td>4.267454e-03</td>\n",
       "      <td>NaN</td>\n",
       "    </tr>\n",
       "    <tr>\n",
       "      <th>48</th>\n",
       "      <td>PctUnemployed16_Over</td>\n",
       "      <td>0.119262</td>\n",
       "      <td>Employment</td>\n",
       "      <td>NaN</td>\n",
       "      <td>NaN</td>\n",
       "      <td>NaN</td>\n",
       "    </tr>\n",
       "    <tr>\n",
       "      <th>49</th>\n",
       "      <td>sc_min_dists_l2</td>\n",
       "      <td>1.754514</td>\n",
       "      <td>Environmental Health</td>\n",
       "      <td>1.75451</td>\n",
       "      <td>1.131481e-03</td>\n",
       "      <td>NaN</td>\n",
       "    </tr>\n",
       "    <tr>\n",
       "      <th>50</th>\n",
       "      <td>age_gt_100</td>\n",
       "      <td>3.940965</td>\n",
       "      <td>Erroneous data indicator</td>\n",
       "      <td>3.94096</td>\n",
       "      <td>2.541517e-03</td>\n",
       "      <td>NaN</td>\n",
       "    </tr>\n",
       "    <tr>\n",
       "      <th>51</th>\n",
       "      <td>FMRKTPTH09</td>\n",
       "      <td>4.894622</td>\n",
       "      <td>Food Environment</td>\n",
       "      <td>11.1618</td>\n",
       "      <td>7.198209e-03</td>\n",
       "      <td>NaN</td>\n",
       "    </tr>\n",
       "    <tr>\n",
       "      <th>52</th>\n",
       "      <td>FOODINSEC_CHILD_01_07</td>\n",
       "      <td>1.266317</td>\n",
       "      <td>Food Environment</td>\n",
       "      <td>NaN</td>\n",
       "      <td>NaN</td>\n",
       "      <td>NaN</td>\n",
       "    </tr>\n",
       "    <tr>\n",
       "      <th>53</th>\n",
       "      <td>CH_VLFOODSEC_02_12</td>\n",
       "      <td>0.995263</td>\n",
       "      <td>Food Environment</td>\n",
       "      <td>NaN</td>\n",
       "      <td>NaN</td>\n",
       "      <td>NaN</td>\n",
       "    </tr>\n",
       "    <tr>\n",
       "      <th>54</th>\n",
       "      <td>VLFOODSEC_07_09</td>\n",
       "      <td>0.877321</td>\n",
       "      <td>Food Environment</td>\n",
       "      <td>NaN</td>\n",
       "      <td>NaN</td>\n",
       "      <td>NaN</td>\n",
       "    </tr>\n",
       "    <tr>\n",
       "      <th>55</th>\n",
       "      <td>CH_FOODINSEC_09_12</td>\n",
       "      <td>0.775131</td>\n",
       "      <td>Food Environment</td>\n",
       "      <td>NaN</td>\n",
       "      <td>NaN</td>\n",
       "      <td>NaN</td>\n",
       "    </tr>\n",
       "    <tr>\n",
       "      <th>56</th>\n",
       "      <td>FOODINSEC_10_12</td>\n",
       "      <td>0.401279</td>\n",
       "      <td>Food Environment</td>\n",
       "      <td>NaN</td>\n",
       "      <td>NaN</td>\n",
       "      <td>NaN</td>\n",
       "    </tr>\n",
       "    <tr>\n",
       "      <th>57</th>\n",
       "      <td>FOODINSEC_00_02</td>\n",
       "      <td>0.391722</td>\n",
       "      <td>Food Environment</td>\n",
       "      <td>NaN</td>\n",
       "      <td>NaN</td>\n",
       "      <td>NaN</td>\n",
       "    </tr>\n",
       "    <tr>\n",
       "      <th>58</th>\n",
       "      <td>PCT_LOCLFARM07</td>\n",
       "      <td>0.322796</td>\n",
       "      <td>Food Environment</td>\n",
       "      <td>NaN</td>\n",
       "      <td>NaN</td>\n",
       "      <td>NaN</td>\n",
       "    </tr>\n",
       "    <tr>\n",
       "      <th>59</th>\n",
       "      <td>FMRKT09</td>\n",
       "      <td>0.282922</td>\n",
       "      <td>Food Environment</td>\n",
       "      <td>NaN</td>\n",
       "      <td>NaN</td>\n",
       "      <td>NaN</td>\n",
       "    </tr>\n",
       "    <tr>\n",
       "      <th>60</th>\n",
       "      <td>PCT_LOCLSALE07</td>\n",
       "      <td>0.243007</td>\n",
       "      <td>Food Environment</td>\n",
       "      <td>NaN</td>\n",
       "      <td>NaN</td>\n",
       "      <td>NaN</td>\n",
       "    </tr>\n",
       "    <tr>\n",
       "      <th>61</th>\n",
       "      <td>PCT_LACCESS_HHNV10</td>\n",
       "      <td>0.192069</td>\n",
       "      <td>Food Environment</td>\n",
       "      <td>NaN</td>\n",
       "      <td>NaN</td>\n",
       "      <td>NaN</td>\n",
       "    </tr>\n",
       "    <tr>\n",
       "      <th>62</th>\n",
       "      <td>PCH_FMRKTPTH_09_13</td>\n",
       "      <td>0.157994</td>\n",
       "      <td>Food Environment</td>\n",
       "      <td>NaN</td>\n",
       "      <td>NaN</td>\n",
       "      <td>NaN</td>\n",
       "    </tr>\n",
       "    <tr>\n",
       "      <th>63</th>\n",
       "      <td>VLFOODSEC_10_12</td>\n",
       "      <td>0.119643</td>\n",
       "      <td>Food Environment</td>\n",
       "      <td>NaN</td>\n",
       "      <td>NaN</td>\n",
       "      <td>NaN</td>\n",
       "    </tr>\n",
       "    <tr>\n",
       "      <th>64</th>\n",
       "      <td>GHVEG_FARMS07</td>\n",
       "      <td>0.079908</td>\n",
       "      <td>Food Environment</td>\n",
       "      <td>NaN</td>\n",
       "      <td>NaN</td>\n",
       "      <td>NaN</td>\n",
       "    </tr>\n",
       "    <tr>\n",
       "      <th>65</th>\n",
       "      <td>PCT_LACCESS_POP10</td>\n",
       "      <td>0.035379</td>\n",
       "      <td>Food Environment</td>\n",
       "      <td>NaN</td>\n",
       "      <td>NaN</td>\n",
       "      <td>NaN</td>\n",
       "    </tr>\n",
       "    <tr>\n",
       "      <th>66</th>\n",
       "      <td>BERRY_ACRESPTH07</td>\n",
       "      <td>0.031354</td>\n",
       "      <td>Food Environment</td>\n",
       "      <td>NaN</td>\n",
       "      <td>NaN</td>\n",
       "      <td>NaN</td>\n",
       "    </tr>\n",
       "    <tr>\n",
       "      <th>67</th>\n",
       "      <td>PCT_FMRKT_WIC13</td>\n",
       "      <td>0.018738</td>\n",
       "      <td>Food Environment</td>\n",
       "      <td>NaN</td>\n",
       "      <td>NaN</td>\n",
       "      <td>NaN</td>\n",
       "    </tr>\n",
       "    <tr>\n",
       "      <th>68</th>\n",
       "      <td>PCT_FMRKT_WICCASH13</td>\n",
       "      <td>0.014312</td>\n",
       "      <td>Food Environment</td>\n",
       "      <td>NaN</td>\n",
       "      <td>NaN</td>\n",
       "      <td>NaN</td>\n",
       "    </tr>\n",
       "    <tr>\n",
       "      <th>69</th>\n",
       "      <td>BERRY_FARMS07</td>\n",
       "      <td>0.013447</td>\n",
       "      <td>Food Environment</td>\n",
       "      <td>NaN</td>\n",
       "      <td>NaN</td>\n",
       "      <td>NaN</td>\n",
       "    </tr>\n",
       "    <tr>\n",
       "      <th>70</th>\n",
       "      <td>PCT_LACCESS_CHILD10_sqrd</td>\n",
       "      <td>0.009861</td>\n",
       "      <td>Food Environment</td>\n",
       "      <td>NaN</td>\n",
       "      <td>NaN</td>\n",
       "      <td>NaN</td>\n",
       "    </tr>\n",
       "    <tr>\n",
       "      <th>71</th>\n",
       "      <td>CH_FOODINSEC_02_12</td>\n",
       "      <td>0.009841</td>\n",
       "      <td>Food Environment</td>\n",
       "      <td>NaN</td>\n",
       "      <td>NaN</td>\n",
       "      <td>NaN</td>\n",
       "    </tr>\n",
       "    <tr>\n",
       "      <th>72</th>\n",
       "      <td>AGRITRSM_OPS07</td>\n",
       "      <td>0.008062</td>\n",
       "      <td>Food Environment</td>\n",
       "      <td>NaN</td>\n",
       "      <td>NaN</td>\n",
       "      <td>NaN</td>\n",
       "    </tr>\n",
       "    <tr>\n",
       "      <th>73</th>\n",
       "      <td>PCT_FRMKT_ANMLPROD13</td>\n",
       "      <td>0.007798</td>\n",
       "      <td>Food Environment</td>\n",
       "      <td>NaN</td>\n",
       "      <td>NaN</td>\n",
       "      <td>NaN</td>\n",
       "    </tr>\n",
       "    <tr>\n",
       "      <th>74</th>\n",
       "      <td>FRESHVEG_FARMS07</td>\n",
       "      <td>0.003607</td>\n",
       "      <td>Food Environment</td>\n",
       "      <td>NaN</td>\n",
       "      <td>NaN</td>\n",
       "      <td>NaN</td>\n",
       "    </tr>\n",
       "    <tr>\n",
       "      <th>75</th>\n",
       "      <td>FRESHVEG_ACRESPTH07</td>\n",
       "      <td>0.002790</td>\n",
       "      <td>Food Environment</td>\n",
       "      <td>NaN</td>\n",
       "      <td>NaN</td>\n",
       "      <td>NaN</td>\n",
       "    </tr>\n",
       "    <tr>\n",
       "      <th>76</th>\n",
       "      <td>PCT_FMRKT_OTHER13</td>\n",
       "      <td>0.002399</td>\n",
       "      <td>Food Environment</td>\n",
       "      <td>NaN</td>\n",
       "      <td>NaN</td>\n",
       "      <td>NaN</td>\n",
       "    </tr>\n",
       "    <tr>\n",
       "      <th>77</th>\n",
       "      <td>FMRKT13_sqrd</td>\n",
       "      <td>0.001957</td>\n",
       "      <td>Food Environment</td>\n",
       "      <td>NaN</td>\n",
       "      <td>NaN</td>\n",
       "      <td>NaN</td>\n",
       "    </tr>\n",
       "    <tr>\n",
       "      <th>78</th>\n",
       "      <td>PC_DIRSALES07_sqrd</td>\n",
       "      <td>0.001050</td>\n",
       "      <td>Food Environment</td>\n",
       "      <td>NaN</td>\n",
       "      <td>NaN</td>\n",
       "      <td>NaN</td>\n",
       "    </tr>\n",
       "    <tr>\n",
       "      <th>79</th>\n",
       "      <td>ORCHARD_FARMS07</td>\n",
       "      <td>0.001040</td>\n",
       "      <td>Food Environment</td>\n",
       "      <td>NaN</td>\n",
       "      <td>NaN</td>\n",
       "      <td>NaN</td>\n",
       "    </tr>\n",
       "    <tr>\n",
       "      <th>80</th>\n",
       "      <td>VEG_ACRES07</td>\n",
       "      <td>0.000163</td>\n",
       "      <td>Food Environment</td>\n",
       "      <td>NaN</td>\n",
       "      <td>NaN</td>\n",
       "      <td>NaN</td>\n",
       "    </tr>\n",
       "    <tr>\n",
       "      <th>81</th>\n",
       "      <td>GHVEG_SQFT07</td>\n",
       "      <td>0.000002</td>\n",
       "      <td>Food Environment</td>\n",
       "      <td>NaN</td>\n",
       "      <td>NaN</td>\n",
       "      <td>NaN</td>\n",
       "    </tr>\n",
       "    <tr>\n",
       "      <th>82</th>\n",
       "      <td>AGRITRSM_RCT07</td>\n",
       "      <td>0.000002</td>\n",
       "      <td>Food Environment</td>\n",
       "      <td>NaN</td>\n",
       "      <td>NaN</td>\n",
       "      <td>NaN</td>\n",
       "    </tr>\n",
       "    <tr>\n",
       "      <th>83</th>\n",
       "      <td>ALAND_SQMI</td>\n",
       "      <td>0.000006</td>\n",
       "      <td>Geography</td>\n",
       "      <td>6.19074e-06</td>\n",
       "      <td>3.992389e-09</td>\n",
       "      <td>NaN</td>\n",
       "    </tr>\n",
       "    <tr>\n",
       "      <th>84</th>\n",
       "      <td>PctPrivateCoverage_log</td>\n",
       "      <td>252.517300</td>\n",
       "      <td>Health Insurance</td>\n",
       "      <td>290.867</td>\n",
       "      <td>1.875791e-01</td>\n",
       "      <td>NaN</td>\n",
       "    </tr>\n",
       "    <tr>\n",
       "      <th>85</th>\n",
       "      <td>PctPublicCoverage_log</td>\n",
       "      <td>37.127180</td>\n",
       "      <td>Health Insurance</td>\n",
       "      <td>NaN</td>\n",
       "      <td>NaN</td>\n",
       "      <td>NaN</td>\n",
       "    </tr>\n",
       "    <tr>\n",
       "      <th>86</th>\n",
       "      <td>PctEmpPrivCoverage</td>\n",
       "      <td>1.053040</td>\n",
       "      <td>Health Insurance</td>\n",
       "      <td>NaN</td>\n",
       "      <td>NaN</td>\n",
       "      <td>NaN</td>\n",
       "    </tr>\n",
       "    <tr>\n",
       "      <th>87</th>\n",
       "      <td>PctPrivateCoverageAlone</td>\n",
       "      <td>0.132329</td>\n",
       "      <td>Health Insurance</td>\n",
       "      <td>NaN</td>\n",
       "      <td>NaN</td>\n",
       "      <td>NaN</td>\n",
       "    </tr>\n",
       "    <tr>\n",
       "      <th>88</th>\n",
       "      <td>PctPublicCoverageAlone_sqrd</td>\n",
       "      <td>0.036965</td>\n",
       "      <td>Health Insurance</td>\n",
       "      <td>NaN</td>\n",
       "      <td>NaN</td>\n",
       "      <td>NaN</td>\n",
       "    </tr>\n",
       "    <tr>\n",
       "      <th>89</th>\n",
       "      <td>binnedInc_[22640, 34218.1]</td>\n",
       "      <td>5.901450</td>\n",
       "      <td>Income</td>\n",
       "      <td>8.10195</td>\n",
       "      <td>5.224922e-03</td>\n",
       "      <td>NaN</td>\n",
       "    </tr>\n",
       "    <tr>\n",
       "      <th>90</th>\n",
       "      <td>binnedInc_(34218.1, 37413.8]</td>\n",
       "      <td>2.195684</td>\n",
       "      <td>Income</td>\n",
       "      <td>NaN</td>\n",
       "      <td>NaN</td>\n",
       "      <td>NaN</td>\n",
       "    </tr>\n",
       "    <tr>\n",
       "      <th>91</th>\n",
       "      <td>binnedInc_(37413.8, 40362.7]</td>\n",
       "      <td>0.004774</td>\n",
       "      <td>Income</td>\n",
       "      <td>NaN</td>\n",
       "      <td>NaN</td>\n",
       "      <td>NaN</td>\n",
       "    </tr>\n",
       "    <tr>\n",
       "      <th>92</th>\n",
       "      <td>medIncome</td>\n",
       "      <td>0.000040</td>\n",
       "      <td>Income</td>\n",
       "      <td>NaN</td>\n",
       "      <td>NaN</td>\n",
       "      <td>NaN</td>\n",
       "    </tr>\n",
       "    <tr>\n",
       "      <th>93</th>\n",
       "      <td>PercentMarried</td>\n",
       "      <td>2.234602</td>\n",
       "      <td>Marital feature</td>\n",
       "      <td>2.2346</td>\n",
       "      <td>1.441088e-03</td>\n",
       "      <td>NaN</td>\n",
       "    </tr>\n",
       "    <tr>\n",
       "      <th>94</th>\n",
       "      <td>METRO13</td>\n",
       "      <td>0.797182</td>\n",
       "      <td>Metropolitan indicator</td>\n",
       "      <td>0.797182</td>\n",
       "      <td>5.141001e-04</td>\n",
       "      <td>NaN</td>\n",
       "    </tr>\n",
       "    <tr>\n",
       "      <th>95</th>\n",
       "      <td>FMRKT09_isnull</td>\n",
       "      <td>18.688500</td>\n",
       "      <td>Missing Value Feature</td>\n",
       "      <td>89.9026</td>\n",
       "      <td>5.797792e-02</td>\n",
       "      <td>NaN</td>\n",
       "    </tr>\n",
       "    <tr>\n",
       "      <th>96</th>\n",
       "      <td>FMRKTPTH09_isnull</td>\n",
       "      <td>18.688500</td>\n",
       "      <td>Missing Value Feature</td>\n",
       "      <td>NaN</td>\n",
       "      <td>NaN</td>\n",
       "      <td>NaN</td>\n",
       "    </tr>\n",
       "    <tr>\n",
       "      <th>97</th>\n",
       "      <td>PCT_OBESE_CHILD08_isnull</td>\n",
       "      <td>8.649288</td>\n",
       "      <td>Missing Value Feature</td>\n",
       "      <td>NaN</td>\n",
       "      <td>NaN</td>\n",
       "      <td>NaN</td>\n",
       "    </tr>\n",
       "    <tr>\n",
       "      <th>98</th>\n",
       "      <td>PCT_OBESE_CHILD11_isnull</td>\n",
       "      <td>3.585599</td>\n",
       "      <td>Missing Value Feature</td>\n",
       "      <td>NaN</td>\n",
       "      <td>NaN</td>\n",
       "      <td>NaN</td>\n",
       "    </tr>\n",
       "    <tr>\n",
       "      <th>99</th>\n",
       "      <td>PCT_HSPA09_isnull</td>\n",
       "      <td>2.509745</td>\n",
       "      <td>Missing Value Feature</td>\n",
       "      <td>NaN</td>\n",
       "      <td>NaN</td>\n",
       "      <td>NaN</td>\n",
       "    </tr>\n",
       "    <tr>\n",
       "      <th>100</th>\n",
       "      <td>PCH_FMRKT_09_13_isnull</td>\n",
       "      <td>0.800166</td>\n",
       "      <td>Missing Value Feature</td>\n",
       "      <td>NaN</td>\n",
       "      <td>NaN</td>\n",
       "      <td>NaN</td>\n",
       "    </tr>\n",
       "    <tr>\n",
       "      <th>101</th>\n",
       "      <td>PCH_FMRKTPTH_09_13_isnull</td>\n",
       "      <td>0.800166</td>\n",
       "      <td>Missing Value Feature</td>\n",
       "      <td>NaN</td>\n",
       "      <td>NaN</td>\n",
       "      <td>NaN</td>\n",
       "    </tr>\n",
       "    <tr>\n",
       "      <th>102</th>\n",
       "      <td>PCH_RECFACPTH_07_12_isnull</td>\n",
       "      <td>0.759987</td>\n",
       "      <td>Missing Value Feature</td>\n",
       "      <td>NaN</td>\n",
       "      <td>NaN</td>\n",
       "      <td>NaN</td>\n",
       "    </tr>\n",
       "    <tr>\n",
       "      <th>103</th>\n",
       "      <td>PCH_RECFAC_07_12_isnull</td>\n",
       "      <td>0.759987</td>\n",
       "      <td>Missing Value Feature</td>\n",
       "      <td>NaN</td>\n",
       "      <td>NaN</td>\n",
       "      <td>NaN</td>\n",
       "    </tr>\n",
       "    <tr>\n",
       "      <th>104</th>\n",
       "      <td>PctEmployed16_Over_isnull</td>\n",
       "      <td>0.576428</td>\n",
       "      <td>Missing Value Feature</td>\n",
       "      <td>NaN</td>\n",
       "      <td>NaN</td>\n",
       "      <td>NaN</td>\n",
       "    </tr>\n",
       "    <tr>\n",
       "      <th>105</th>\n",
       "      <td>FRESHVEG_ACRES07_isnull</td>\n",
       "      <td>0.449063</td>\n",
       "      <td>Missing Value Feature</td>\n",
       "      <td>NaN</td>\n",
       "      <td>NaN</td>\n",
       "      <td>NaN</td>\n",
       "    </tr>\n",
       "    <tr>\n",
       "      <th>106</th>\n",
       "      <td>FRESHVEG_ACRESPTH07_isnull</td>\n",
       "      <td>0.449063</td>\n",
       "      <td>Missing Value Feature</td>\n",
       "      <td>NaN</td>\n",
       "      <td>NaN</td>\n",
       "      <td>NaN</td>\n",
       "    </tr>\n",
       "    <tr>\n",
       "      <th>107</th>\n",
       "      <td>AGRITRSM_RCT07_isnull</td>\n",
       "      <td>0.418980</td>\n",
       "      <td>Missing Value Feature</td>\n",
       "      <td>NaN</td>\n",
       "      <td>NaN</td>\n",
       "      <td>NaN</td>\n",
       "    </tr>\n",
       "    <tr>\n",
       "      <th>108</th>\n",
       "      <td>PctPrivateCoverageAlone_isnull</td>\n",
       "      <td>0.352098</td>\n",
       "      <td>Missing Value Feature</td>\n",
       "      <td>NaN</td>\n",
       "      <td>NaN</td>\n",
       "      <td>NaN</td>\n",
       "    </tr>\n",
       "    <tr>\n",
       "      <th>109</th>\n",
       "      <td>PctSomeCol18_24_isnull</td>\n",
       "      <td>0.302725</td>\n",
       "      <td>Missing Value Feature</td>\n",
       "      <td>NaN</td>\n",
       "      <td>NaN</td>\n",
       "      <td>NaN</td>\n",
       "    </tr>\n",
       "    <tr>\n",
       "      <th>110</th>\n",
       "      <td>PCT_LACCESS_POP10_isnull</td>\n",
       "      <td>0.163444</td>\n",
       "      <td>Missing Value Feature</td>\n",
       "      <td>NaN</td>\n",
       "      <td>NaN</td>\n",
       "      <td>NaN</td>\n",
       "    </tr>\n",
       "    <tr>\n",
       "      <th>111</th>\n",
       "      <td>PCT_LACCESS_CHILD10_isnull</td>\n",
       "      <td>0.163444</td>\n",
       "      <td>Missing Value Feature</td>\n",
       "      <td>NaN</td>\n",
       "      <td>NaN</td>\n",
       "      <td>NaN</td>\n",
       "    </tr>\n",
       "    <tr>\n",
       "      <th>112</th>\n",
       "      <td>PCT_LACCESS_LOWI10_isnull</td>\n",
       "      <td>0.163444</td>\n",
       "      <td>Missing Value Feature</td>\n",
       "      <td>NaN</td>\n",
       "      <td>NaN</td>\n",
       "      <td>NaN</td>\n",
       "    </tr>\n",
       "    <tr>\n",
       "      <th>113</th>\n",
       "      <td>PCT_LACCESS_SENIORS10_isnull</td>\n",
       "      <td>0.163444</td>\n",
       "      <td>Missing Value Feature</td>\n",
       "      <td>NaN</td>\n",
       "      <td>NaN</td>\n",
       "      <td>NaN</td>\n",
       "    </tr>\n",
       "    <tr>\n",
       "      <th>114</th>\n",
       "      <td>PCT_FMRKT_OTHER13_isnull</td>\n",
       "      <td>0.105192</td>\n",
       "      <td>Missing Value Feature</td>\n",
       "      <td>NaN</td>\n",
       "      <td>NaN</td>\n",
       "      <td>NaN</td>\n",
       "    </tr>\n",
       "    <tr>\n",
       "      <th>115</th>\n",
       "      <td>PCT_FMRKT_WICCASH13_isnull</td>\n",
       "      <td>0.105192</td>\n",
       "      <td>Missing Value Feature</td>\n",
       "      <td>NaN</td>\n",
       "      <td>NaN</td>\n",
       "      <td>NaN</td>\n",
       "    </tr>\n",
       "    <tr>\n",
       "      <th>116</th>\n",
       "      <td>PCT_FMRKT_SFMNP13_isnull</td>\n",
       "      <td>0.105192</td>\n",
       "      <td>Missing Value Feature</td>\n",
       "      <td>NaN</td>\n",
       "      <td>NaN</td>\n",
       "      <td>NaN</td>\n",
       "    </tr>\n",
       "    <tr>\n",
       "      <th>117</th>\n",
       "      <td>PCT_FRMKT_FRVEG13_isnull</td>\n",
       "      <td>0.105192</td>\n",
       "      <td>Missing Value Feature</td>\n",
       "      <td>NaN</td>\n",
       "      <td>NaN</td>\n",
       "      <td>NaN</td>\n",
       "    </tr>\n",
       "    <tr>\n",
       "      <th>118</th>\n",
       "      <td>PCT_FRMKT_ANMLPROD13_isnull</td>\n",
       "      <td>0.105192</td>\n",
       "      <td>Missing Value Feature</td>\n",
       "      <td>NaN</td>\n",
       "      <td>NaN</td>\n",
       "      <td>NaN</td>\n",
       "    </tr>\n",
       "    <tr>\n",
       "      <th>119</th>\n",
       "      <td>PCT_FMRKT_SNAP13_isnull</td>\n",
       "      <td>0.105192</td>\n",
       "      <td>Missing Value Feature</td>\n",
       "      <td>NaN</td>\n",
       "      <td>NaN</td>\n",
       "      <td>NaN</td>\n",
       "    </tr>\n",
       "    <tr>\n",
       "      <th>120</th>\n",
       "      <td>PCT_FMRKT_WIC13_isnull</td>\n",
       "      <td>0.105192</td>\n",
       "      <td>Missing Value Feature</td>\n",
       "      <td>NaN</td>\n",
       "      <td>NaN</td>\n",
       "      <td>NaN</td>\n",
       "    </tr>\n",
       "    <tr>\n",
       "      <th>121</th>\n",
       "      <td>VEG_ACRESPTH07_isnull</td>\n",
       "      <td>9.896747</td>\n",
       "      <td>Missing Value Feature</td>\n",
       "      <td>NaN</td>\n",
       "      <td>NaN</td>\n",
       "      <td>NaN</td>\n",
       "    </tr>\n",
       "    <tr>\n",
       "      <th>122</th>\n",
       "      <td>PCT_LOCLFARM07_isnull</td>\n",
       "      <td>8.253386</td>\n",
       "      <td>Missing Value Feature</td>\n",
       "      <td>NaN</td>\n",
       "      <td>NaN</td>\n",
       "      <td>NaN</td>\n",
       "    </tr>\n",
       "    <tr>\n",
       "      <th>123</th>\n",
       "      <td>PC_DIRSALES07_isnull</td>\n",
       "      <td>1.819871</td>\n",
       "      <td>Missing Value Feature</td>\n",
       "      <td>NaN</td>\n",
       "      <td>NaN</td>\n",
       "      <td>NaN</td>\n",
       "    </tr>\n",
       "    <tr>\n",
       "      <th>124</th>\n",
       "      <td>NATAMEN_isnull</td>\n",
       "      <td>10.752180</td>\n",
       "      <td>Missing Value Feature</td>\n",
       "      <td>NaN</td>\n",
       "      <td>NaN</td>\n",
       "      <td>NaN</td>\n",
       "    </tr>\n",
       "    <tr>\n",
       "      <th>125</th>\n",
       "      <td>POPLOSS00</td>\n",
       "      <td>4.002964</td>\n",
       "      <td>Population Loss</td>\n",
       "      <td>4.00296</td>\n",
       "      <td>2.581500e-03</td>\n",
       "      <td>NaN</td>\n",
       "    </tr>\n",
       "    <tr>\n",
       "      <th>126</th>\n",
       "      <td>povertyPercent_log</td>\n",
       "      <td>35.615340</td>\n",
       "      <td>Poverty-related</td>\n",
       "      <td>38.6732</td>\n",
       "      <td>2.494023e-02</td>\n",
       "      <td>NaN</td>\n",
       "    </tr>\n",
       "    <tr>\n",
       "      <th>127</th>\n",
       "      <td>CHILDPOVRATE10</td>\n",
       "      <td>1.508893</td>\n",
       "      <td>Poverty-related</td>\n",
       "      <td>NaN</td>\n",
       "      <td>NaN</td>\n",
       "      <td>NaN</td>\n",
       "    </tr>\n",
       "    <tr>\n",
       "      <th>128</th>\n",
       "      <td>PERPOV10</td>\n",
       "      <td>1.191778</td>\n",
       "      <td>Poverty-related</td>\n",
       "      <td>NaN</td>\n",
       "      <td>NaN</td>\n",
       "      <td>NaN</td>\n",
       "    </tr>\n",
       "    <tr>\n",
       "      <th>129</th>\n",
       "      <td>PERCHLDPOV10</td>\n",
       "      <td>0.333000</td>\n",
       "      <td>Poverty-related</td>\n",
       "      <td>NaN</td>\n",
       "      <td>NaN</td>\n",
       "      <td>NaN</td>\n",
       "    </tr>\n",
       "    <tr>\n",
       "      <th>130</th>\n",
       "      <td>povertyPercent_sqrd</td>\n",
       "      <td>0.024185</td>\n",
       "      <td>Poverty-related</td>\n",
       "      <td>NaN</td>\n",
       "      <td>NaN</td>\n",
       "      <td>NaN</td>\n",
       "    </tr>\n",
       "    <tr>\n",
       "      <th>131</th>\n",
       "      <td>PctBlack</td>\n",
       "      <td>0.276606</td>\n",
       "      <td>Race</td>\n",
       "      <td>0.28545</td>\n",
       "      <td>1.840860e-04</td>\n",
       "      <td>NaN</td>\n",
       "    </tr>\n",
       "    <tr>\n",
       "      <th>132</th>\n",
       "      <td>PctWhite_sqrd</td>\n",
       "      <td>0.008845</td>\n",
       "      <td>Race</td>\n",
       "      <td>NaN</td>\n",
       "      <td>NaN</td>\n",
       "      <td>NaN</td>\n",
       "    </tr>\n",
       "    <tr>\n",
       "      <th>133</th>\n",
       "      <td>RECFACPTH12</td>\n",
       "      <td>16.344110</td>\n",
       "      <td>Recreation and Fitness</td>\n",
       "      <td>17.6105</td>\n",
       "      <td>1.135694e-02</td>\n",
       "      <td>NaN</td>\n",
       "    </tr>\n",
       "    <tr>\n",
       "      <th>134</th>\n",
       "      <td>PCT_HSPA09</td>\n",
       "      <td>0.878915</td>\n",
       "      <td>Recreation and Fitness</td>\n",
       "      <td>NaN</td>\n",
       "      <td>NaN</td>\n",
       "      <td>NaN</td>\n",
       "    </tr>\n",
       "    <tr>\n",
       "      <th>135</th>\n",
       "      <td>PCH_RECFACPTH_07_12</td>\n",
       "      <td>0.229982</td>\n",
       "      <td>Recreation and Fitness</td>\n",
       "      <td>NaN</td>\n",
       "      <td>NaN</td>\n",
       "      <td>NaN</td>\n",
       "    </tr>\n",
       "    <tr>\n",
       "      <th>136</th>\n",
       "      <td>RECFAC12</td>\n",
       "      <td>0.157467</td>\n",
       "      <td>Recreation and Fitness</td>\n",
       "      <td>NaN</td>\n",
       "      <td>NaN</td>\n",
       "      <td>NaN</td>\n",
       "    </tr>\n",
       "    <tr>\n",
       "      <th>137</th>\n",
       "      <td>State_Nevada</td>\n",
       "      <td>42.797670</td>\n",
       "      <td>State</td>\n",
       "      <td>244.678</td>\n",
       "      <td>1.577920e-01</td>\n",
       "      <td>NaN</td>\n",
       "    </tr>\n",
       "    <tr>\n",
       "      <th>138</th>\n",
       "      <td>State_Alaska</td>\n",
       "      <td>35.122140</td>\n",
       "      <td>State</td>\n",
       "      <td>NaN</td>\n",
       "      <td>NaN</td>\n",
       "      <td>NaN</td>\n",
       "    </tr>\n",
       "    <tr>\n",
       "      <th>139</th>\n",
       "      <td>State_California</td>\n",
       "      <td>29.925990</td>\n",
       "      <td>State</td>\n",
       "      <td>NaN</td>\n",
       "      <td>NaN</td>\n",
       "      <td>NaN</td>\n",
       "    </tr>\n",
       "    <tr>\n",
       "      <th>140</th>\n",
       "      <td>State_Florida</td>\n",
       "      <td>19.960960</td>\n",
       "      <td>State</td>\n",
       "      <td>NaN</td>\n",
       "      <td>NaN</td>\n",
       "      <td>NaN</td>\n",
       "    </tr>\n",
       "    <tr>\n",
       "      <th>141</th>\n",
       "      <td>State_Arizona</td>\n",
       "      <td>18.026440</td>\n",
       "      <td>State</td>\n",
       "      <td>NaN</td>\n",
       "      <td>NaN</td>\n",
       "      <td>NaN</td>\n",
       "    </tr>\n",
       "    <tr>\n",
       "      <th>142</th>\n",
       "      <td>State_Utah</td>\n",
       "      <td>17.412150</td>\n",
       "      <td>State</td>\n",
       "      <td>NaN</td>\n",
       "      <td>NaN</td>\n",
       "      <td>NaN</td>\n",
       "    </tr>\n",
       "    <tr>\n",
       "      <th>143</th>\n",
       "      <td>State_District of Columbia</td>\n",
       "      <td>14.314270</td>\n",
       "      <td>State</td>\n",
       "      <td>NaN</td>\n",
       "      <td>NaN</td>\n",
       "      <td>NaN</td>\n",
       "    </tr>\n",
       "    <tr>\n",
       "      <th>144</th>\n",
       "      <td>State_Oklahoma</td>\n",
       "      <td>10.658150</td>\n",
       "      <td>State</td>\n",
       "      <td>NaN</td>\n",
       "      <td>NaN</td>\n",
       "      <td>NaN</td>\n",
       "    </tr>\n",
       "    <tr>\n",
       "      <th>145</th>\n",
       "      <td>State_South Carolina</td>\n",
       "      <td>9.442584</td>\n",
       "      <td>State</td>\n",
       "      <td>NaN</td>\n",
       "      <td>NaN</td>\n",
       "      <td>NaN</td>\n",
       "    </tr>\n",
       "    <tr>\n",
       "      <th>146</th>\n",
       "      <td>State_Mississippi</td>\n",
       "      <td>9.357084</td>\n",
       "      <td>State</td>\n",
       "      <td>NaN</td>\n",
       "      <td>NaN</td>\n",
       "      <td>NaN</td>\n",
       "    </tr>\n",
       "    <tr>\n",
       "      <th>147</th>\n",
       "      <td>State_New Mexico</td>\n",
       "      <td>5.955380</td>\n",
       "      <td>State</td>\n",
       "      <td>NaN</td>\n",
       "      <td>NaN</td>\n",
       "      <td>NaN</td>\n",
       "    </tr>\n",
       "    <tr>\n",
       "      <th>148</th>\n",
       "      <td>State_Arkansas</td>\n",
       "      <td>5.682139</td>\n",
       "      <td>State</td>\n",
       "      <td>NaN</td>\n",
       "      <td>NaN</td>\n",
       "      <td>NaN</td>\n",
       "    </tr>\n",
       "    <tr>\n",
       "      <th>149</th>\n",
       "      <td>State_Alabama</td>\n",
       "      <td>5.080412</td>\n",
       "      <td>State</td>\n",
       "      <td>NaN</td>\n",
       "      <td>NaN</td>\n",
       "      <td>NaN</td>\n",
       "    </tr>\n",
       "    <tr>\n",
       "      <th>150</th>\n",
       "      <td>State_Wyoming</td>\n",
       "      <td>4.762492</td>\n",
       "      <td>State</td>\n",
       "      <td>NaN</td>\n",
       "      <td>NaN</td>\n",
       "      <td>NaN</td>\n",
       "    </tr>\n",
       "    <tr>\n",
       "      <th>151</th>\n",
       "      <td>State_Louisiana</td>\n",
       "      <td>4.320379</td>\n",
       "      <td>State</td>\n",
       "      <td>NaN</td>\n",
       "      <td>NaN</td>\n",
       "      <td>NaN</td>\n",
       "    </tr>\n",
       "    <tr>\n",
       "      <th>152</th>\n",
       "      <td>State_Kansas</td>\n",
       "      <td>2.659105</td>\n",
       "      <td>State</td>\n",
       "      <td>NaN</td>\n",
       "      <td>NaN</td>\n",
       "      <td>NaN</td>\n",
       "    </tr>\n",
       "    <tr>\n",
       "      <th>153</th>\n",
       "      <td>State_Texas</td>\n",
       "      <td>2.615907</td>\n",
       "      <td>State</td>\n",
       "      <td>NaN</td>\n",
       "      <td>NaN</td>\n",
       "      <td>NaN</td>\n",
       "    </tr>\n",
       "    <tr>\n",
       "      <th>154</th>\n",
       "      <td>State_Maryland</td>\n",
       "      <td>2.240773</td>\n",
       "      <td>State</td>\n",
       "      <td>NaN</td>\n",
       "      <td>NaN</td>\n",
       "      <td>NaN</td>\n",
       "    </tr>\n",
       "    <tr>\n",
       "      <th>155</th>\n",
       "      <td>State_Oregon</td>\n",
       "      <td>2.164970</td>\n",
       "      <td>State</td>\n",
       "      <td>NaN</td>\n",
       "      <td>NaN</td>\n",
       "      <td>NaN</td>\n",
       "    </tr>\n",
       "    <tr>\n",
       "      <th>156</th>\n",
       "      <td>State_Virginia</td>\n",
       "      <td>1.513824</td>\n",
       "      <td>State</td>\n",
       "      <td>NaN</td>\n",
       "      <td>NaN</td>\n",
       "      <td>NaN</td>\n",
       "    </tr>\n",
       "    <tr>\n",
       "      <th>157</th>\n",
       "      <td>State_Colorado</td>\n",
       "      <td>0.261388</td>\n",
       "      <td>State</td>\n",
       "      <td>NaN</td>\n",
       "      <td>NaN</td>\n",
       "      <td>NaN</td>\n",
       "    </tr>\n",
       "    <tr>\n",
       "      <th>158</th>\n",
       "      <td>State_Kentucky</td>\n",
       "      <td>0.220353</td>\n",
       "      <td>State</td>\n",
       "      <td>NaN</td>\n",
       "      <td>NaN</td>\n",
       "      <td>NaN</td>\n",
       "    </tr>\n",
       "    <tr>\n",
       "      <th>159</th>\n",
       "      <td>State_Tennessee</td>\n",
       "      <td>0.120228</td>\n",
       "      <td>State</td>\n",
       "      <td>NaN</td>\n",
       "      <td>NaN</td>\n",
       "      <td>NaN</td>\n",
       "    </tr>\n",
       "    <tr>\n",
       "      <th>160</th>\n",
       "      <td>State_Massachusetts</td>\n",
       "      <td>0.062968</td>\n",
       "      <td>State</td>\n",
       "      <td>NaN</td>\n",
       "      <td>NaN</td>\n",
       "      <td>NaN</td>\n",
       "    </tr>\n",
       "    <tr>\n",
       "      <th>161</th>\n",
       "      <td>NaN</td>\n",
       "      <td>NaN</td>\n",
       "      <td>NaN</td>\n",
       "      <td>Total</td>\n",
       "      <td>1.000000e+00</td>\n",
       "      <td>NaN</td>\n",
       "    </tr>\n",
       "  </tbody>\n",
       "</table>\n",
       "</div>"
      ],
      "text/plain": [
       "                           Features  Coefficients  \\\n",
       "0                   MedianAgeFemale      1.346875   \n",
       "1                         MedianAge      1.048151   \n",
       "2              AvgHouseholdSize_log     29.101250   \n",
       "3                     incidenceRate      0.157958   \n",
       "4                       studyPerCap      0.000161   \n",
       "5                PCT_OBESE_ADULTS13      3.031626   \n",
       "6                PCT_OBESE_ADULTS10      0.772684   \n",
       "7                 PCT_OBESE_CHILD11      0.532429   \n",
       "8             PCT_DIABETES_ADULTS09      0.417860   \n",
       "9            PCT_OBESE_ADULTS13_log      0.403127   \n",
       "10                   atlanta_l1_log     22.079670   \n",
       "11                   seattle_l1_log      5.468347   \n",
       "12                       seattle_l2      4.330320   \n",
       "13                       los_ang_l2      3.438173   \n",
       "14                        denver_l2      3.409665   \n",
       "15                      san_fran_l2      2.427954   \n",
       "16                       atlanta_l2      2.308934   \n",
       "17                        dallas_l1      2.219957   \n",
       "18                 city_min_distsl2      2.115211   \n",
       "19            city_min_distsl1_sqrd      0.159854   \n",
       "20                   denver_l1_sqrd      0.022680   \n",
       "21                        nw_mem_l2    340.814700   \n",
       "22                         mskcc_l2    121.513700   \n",
       "23                        nw_mem_l1     51.754720   \n",
       "24                           mgs_l2     48.155320   \n",
       "25                           mgs_l1     40.019680   \n",
       "26                       mgs_l2_log     36.925930   \n",
       "27                        upmcps_l2     18.027960   \n",
       "28                 cleveland_l1_log     17.626230   \n",
       "29                     mskcc_l1_log     16.691460   \n",
       "30                       dfb_l2_log     16.561730   \n",
       "31                    upmcps_l1_log      9.223769   \n",
       "32                       hopkins_l1      2.325272   \n",
       "33                         hlmcc_l1      1.982735   \n",
       "34                          mayo_l1      1.769828   \n",
       "35                        upmcps_l1      1.672678   \n",
       "36                  onc_min_distsl1      1.346105   \n",
       "37                 cleveland_l2_log      1.311818   \n",
       "38                       hopkins_l2      1.250331   \n",
       "39                         utmda_l2      0.719729   \n",
       "40                cleveland_l1_sqrd      0.360354   \n",
       "41                         mskcc_l1      0.091607   \n",
       "42              PctSomeCol18_24_log     11.923140   \n",
       "43                     PctHS25_Over      1.478055   \n",
       "44            PctBachDeg25_Over_log      1.467285   \n",
       "45                       PctHS18_24      0.200394   \n",
       "46             PctSomeCol18_24_sqrd      0.000232   \n",
       "47               PctEmployed16_Over      6.498003   \n",
       "48             PctUnemployed16_Over      0.119262   \n",
       "49                  sc_min_dists_l2      1.754514   \n",
       "50                       age_gt_100      3.940965   \n",
       "51                       FMRKTPTH09      4.894622   \n",
       "52            FOODINSEC_CHILD_01_07      1.266317   \n",
       "53               CH_VLFOODSEC_02_12      0.995263   \n",
       "54                  VLFOODSEC_07_09      0.877321   \n",
       "55               CH_FOODINSEC_09_12      0.775131   \n",
       "56                  FOODINSEC_10_12      0.401279   \n",
       "57                  FOODINSEC_00_02      0.391722   \n",
       "58                   PCT_LOCLFARM07      0.322796   \n",
       "59                          FMRKT09      0.282922   \n",
       "60                   PCT_LOCLSALE07      0.243007   \n",
       "61               PCT_LACCESS_HHNV10      0.192069   \n",
       "62               PCH_FMRKTPTH_09_13      0.157994   \n",
       "63                  VLFOODSEC_10_12      0.119643   \n",
       "64                    GHVEG_FARMS07      0.079908   \n",
       "65                PCT_LACCESS_POP10      0.035379   \n",
       "66                 BERRY_ACRESPTH07      0.031354   \n",
       "67                  PCT_FMRKT_WIC13      0.018738   \n",
       "68              PCT_FMRKT_WICCASH13      0.014312   \n",
       "69                    BERRY_FARMS07      0.013447   \n",
       "70         PCT_LACCESS_CHILD10_sqrd      0.009861   \n",
       "71               CH_FOODINSEC_02_12      0.009841   \n",
       "72                   AGRITRSM_OPS07      0.008062   \n",
       "73             PCT_FRMKT_ANMLPROD13      0.007798   \n",
       "74                 FRESHVEG_FARMS07      0.003607   \n",
       "75              FRESHVEG_ACRESPTH07      0.002790   \n",
       "76                PCT_FMRKT_OTHER13      0.002399   \n",
       "77                     FMRKT13_sqrd      0.001957   \n",
       "78               PC_DIRSALES07_sqrd      0.001050   \n",
       "79                  ORCHARD_FARMS07      0.001040   \n",
       "80                      VEG_ACRES07      0.000163   \n",
       "81                     GHVEG_SQFT07      0.000002   \n",
       "82                   AGRITRSM_RCT07      0.000002   \n",
       "83                       ALAND_SQMI      0.000006   \n",
       "84           PctPrivateCoverage_log    252.517300   \n",
       "85            PctPublicCoverage_log     37.127180   \n",
       "86               PctEmpPrivCoverage      1.053040   \n",
       "87          PctPrivateCoverageAlone      0.132329   \n",
       "88      PctPublicCoverageAlone_sqrd      0.036965   \n",
       "89       binnedInc_[22640, 34218.1]      5.901450   \n",
       "90     binnedInc_(34218.1, 37413.8]      2.195684   \n",
       "91     binnedInc_(37413.8, 40362.7]      0.004774   \n",
       "92                        medIncome      0.000040   \n",
       "93                   PercentMarried      2.234602   \n",
       "94                          METRO13      0.797182   \n",
       "95                   FMRKT09_isnull     18.688500   \n",
       "96                FMRKTPTH09_isnull     18.688500   \n",
       "97         PCT_OBESE_CHILD08_isnull      8.649288   \n",
       "98         PCT_OBESE_CHILD11_isnull      3.585599   \n",
       "99                PCT_HSPA09_isnull      2.509745   \n",
       "100          PCH_FMRKT_09_13_isnull      0.800166   \n",
       "101       PCH_FMRKTPTH_09_13_isnull      0.800166   \n",
       "102      PCH_RECFACPTH_07_12_isnull      0.759987   \n",
       "103         PCH_RECFAC_07_12_isnull      0.759987   \n",
       "104       PctEmployed16_Over_isnull      0.576428   \n",
       "105         FRESHVEG_ACRES07_isnull      0.449063   \n",
       "106      FRESHVEG_ACRESPTH07_isnull      0.449063   \n",
       "107           AGRITRSM_RCT07_isnull      0.418980   \n",
       "108  PctPrivateCoverageAlone_isnull      0.352098   \n",
       "109          PctSomeCol18_24_isnull      0.302725   \n",
       "110        PCT_LACCESS_POP10_isnull      0.163444   \n",
       "111      PCT_LACCESS_CHILD10_isnull      0.163444   \n",
       "112       PCT_LACCESS_LOWI10_isnull      0.163444   \n",
       "113    PCT_LACCESS_SENIORS10_isnull      0.163444   \n",
       "114        PCT_FMRKT_OTHER13_isnull      0.105192   \n",
       "115      PCT_FMRKT_WICCASH13_isnull      0.105192   \n",
       "116        PCT_FMRKT_SFMNP13_isnull      0.105192   \n",
       "117        PCT_FRMKT_FRVEG13_isnull      0.105192   \n",
       "118     PCT_FRMKT_ANMLPROD13_isnull      0.105192   \n",
       "119         PCT_FMRKT_SNAP13_isnull      0.105192   \n",
       "120          PCT_FMRKT_WIC13_isnull      0.105192   \n",
       "121           VEG_ACRESPTH07_isnull      9.896747   \n",
       "122           PCT_LOCLFARM07_isnull      8.253386   \n",
       "123            PC_DIRSALES07_isnull      1.819871   \n",
       "124                  NATAMEN_isnull     10.752180   \n",
       "125                       POPLOSS00      4.002964   \n",
       "126              povertyPercent_log     35.615340   \n",
       "127                  CHILDPOVRATE10      1.508893   \n",
       "128                        PERPOV10      1.191778   \n",
       "129                    PERCHLDPOV10      0.333000   \n",
       "130             povertyPercent_sqrd      0.024185   \n",
       "131                        PctBlack      0.276606   \n",
       "132                   PctWhite_sqrd      0.008845   \n",
       "133                     RECFACPTH12     16.344110   \n",
       "134                      PCT_HSPA09      0.878915   \n",
       "135             PCH_RECFACPTH_07_12      0.229982   \n",
       "136                        RECFAC12      0.157467   \n",
       "137                    State_Nevada     42.797670   \n",
       "138                    State_Alaska     35.122140   \n",
       "139                State_California     29.925990   \n",
       "140                   State_Florida     19.960960   \n",
       "141                   State_Arizona     18.026440   \n",
       "142                      State_Utah     17.412150   \n",
       "143      State_District of Columbia     14.314270   \n",
       "144                  State_Oklahoma     10.658150   \n",
       "145            State_South Carolina      9.442584   \n",
       "146               State_Mississippi      9.357084   \n",
       "147                State_New Mexico      5.955380   \n",
       "148                  State_Arkansas      5.682139   \n",
       "149                   State_Alabama      5.080412   \n",
       "150                   State_Wyoming      4.762492   \n",
       "151                 State_Louisiana      4.320379   \n",
       "152                    State_Kansas      2.659105   \n",
       "153                     State_Texas      2.615907   \n",
       "154                  State_Maryland      2.240773   \n",
       "155                    State_Oregon      2.164970   \n",
       "156                  State_Virginia      1.513824   \n",
       "157                  State_Colorado      0.261388   \n",
       "158                  State_Kentucky      0.220353   \n",
       "159                 State_Tennessee      0.120228   \n",
       "160             State_Massachusetts      0.062968   \n",
       "161                             NaN           NaN   \n",
       "\n",
       "                             Feature Family Feature Family Sums  \\\n",
       "0                                       Age             2.39503   \n",
       "1                                       Age                 NaN   \n",
       "2                    Average Household Size             29.1013   \n",
       "3                          Cancer Diagnoses            0.157958   \n",
       "4                    Clinical Cancer Trials         0.000161079   \n",
       "5                Comorbid Health Conditions             5.15773   \n",
       "6                Comorbid Health Conditions                 NaN   \n",
       "7                Comorbid Health Conditions                 NaN   \n",
       "8                Comorbid Health Conditions                 NaN   \n",
       "9                Comorbid Health Conditions                 NaN   \n",
       "10           Distance to Major Urban Center             47.9808   \n",
       "11           Distance to Major Urban Center                 NaN   \n",
       "12           Distance to Major Urban Center                 NaN   \n",
       "13           Distance to Major Urban Center                 NaN   \n",
       "14           Distance to Major Urban Center                 NaN   \n",
       "15           Distance to Major Urban Center                 NaN   \n",
       "16           Distance to Major Urban Center                 NaN   \n",
       "17           Distance to Major Urban Center                 NaN   \n",
       "18           Distance to Major Urban Center                 NaN   \n",
       "19           Distance to Major Urban Center                 NaN   \n",
       "20           Distance to Major Urban Center                 NaN   \n",
       "21   Distances to Top 10 Oncology Hospitals             730.146   \n",
       "22   Distances to Top 10 Oncology Hospitals                 NaN   \n",
       "23   Distances to Top 10 Oncology Hospitals                 NaN   \n",
       "24   Distances to Top 10 Oncology Hospitals                 NaN   \n",
       "25   Distances to Top 10 Oncology Hospitals                 NaN   \n",
       "26   Distances to Top 10 Oncology Hospitals                 NaN   \n",
       "27   Distances to Top 10 Oncology Hospitals                 NaN   \n",
       "28   Distances to Top 10 Oncology Hospitals                 NaN   \n",
       "29   Distances to Top 10 Oncology Hospitals                 NaN   \n",
       "30   Distances to Top 10 Oncology Hospitals                 NaN   \n",
       "31   Distances to Top 10 Oncology Hospitals                 NaN   \n",
       "32   Distances to Top 10 Oncology Hospitals                 NaN   \n",
       "33   Distances to Top 10 Oncology Hospitals                 NaN   \n",
       "34   Distances to Top 10 Oncology Hospitals                 NaN   \n",
       "35   Distances to Top 10 Oncology Hospitals                 NaN   \n",
       "36   Distances to Top 10 Oncology Hospitals                 NaN   \n",
       "37   Distances to Top 10 Oncology Hospitals                 NaN   \n",
       "38   Distances to Top 10 Oncology Hospitals                 NaN   \n",
       "39   Distances to Top 10 Oncology Hospitals                 NaN   \n",
       "40   Distances to Top 10 Oncology Hospitals                 NaN   \n",
       "41   Distances to Top 10 Oncology Hospitals                 NaN   \n",
       "42                                Education             15.0691   \n",
       "43                                Education                 NaN   \n",
       "44                                Education                 NaN   \n",
       "45                                Education                 NaN   \n",
       "46                                Education                 NaN   \n",
       "47                               Employment             6.61726   \n",
       "48                               Employment                 NaN   \n",
       "49                     Environmental Health             1.75451   \n",
       "50                 Erroneous data indicator             3.94096   \n",
       "51                         Food Environment             11.1618   \n",
       "52                         Food Environment                 NaN   \n",
       "53                         Food Environment                 NaN   \n",
       "54                         Food Environment                 NaN   \n",
       "55                         Food Environment                 NaN   \n",
       "56                         Food Environment                 NaN   \n",
       "57                         Food Environment                 NaN   \n",
       "58                         Food Environment                 NaN   \n",
       "59                         Food Environment                 NaN   \n",
       "60                         Food Environment                 NaN   \n",
       "61                         Food Environment                 NaN   \n",
       "62                         Food Environment                 NaN   \n",
       "63                         Food Environment                 NaN   \n",
       "64                         Food Environment                 NaN   \n",
       "65                         Food Environment                 NaN   \n",
       "66                         Food Environment                 NaN   \n",
       "67                         Food Environment                 NaN   \n",
       "68                         Food Environment                 NaN   \n",
       "69                         Food Environment                 NaN   \n",
       "70                         Food Environment                 NaN   \n",
       "71                         Food Environment                 NaN   \n",
       "72                         Food Environment                 NaN   \n",
       "73                         Food Environment                 NaN   \n",
       "74                         Food Environment                 NaN   \n",
       "75                         Food Environment                 NaN   \n",
       "76                         Food Environment                 NaN   \n",
       "77                         Food Environment                 NaN   \n",
       "78                         Food Environment                 NaN   \n",
       "79                         Food Environment                 NaN   \n",
       "80                         Food Environment                 NaN   \n",
       "81                         Food Environment                 NaN   \n",
       "82                         Food Environment                 NaN   \n",
       "83                                Geography         6.19074e-06   \n",
       "84                         Health Insurance             290.867   \n",
       "85                         Health Insurance                 NaN   \n",
       "86                         Health Insurance                 NaN   \n",
       "87                         Health Insurance                 NaN   \n",
       "88                         Health Insurance                 NaN   \n",
       "89                                   Income             8.10195   \n",
       "90                                   Income                 NaN   \n",
       "91                                   Income                 NaN   \n",
       "92                                   Income                 NaN   \n",
       "93                          Marital feature              2.2346   \n",
       "94                   Metropolitan indicator            0.797182   \n",
       "95                    Missing Value Feature             89.9026   \n",
       "96                    Missing Value Feature                 NaN   \n",
       "97                    Missing Value Feature                 NaN   \n",
       "98                    Missing Value Feature                 NaN   \n",
       "99                    Missing Value Feature                 NaN   \n",
       "100                   Missing Value Feature                 NaN   \n",
       "101                   Missing Value Feature                 NaN   \n",
       "102                   Missing Value Feature                 NaN   \n",
       "103                   Missing Value Feature                 NaN   \n",
       "104                   Missing Value Feature                 NaN   \n",
       "105                   Missing Value Feature                 NaN   \n",
       "106                   Missing Value Feature                 NaN   \n",
       "107                   Missing Value Feature                 NaN   \n",
       "108                   Missing Value Feature                 NaN   \n",
       "109                   Missing Value Feature                 NaN   \n",
       "110                   Missing Value Feature                 NaN   \n",
       "111                   Missing Value Feature                 NaN   \n",
       "112                   Missing Value Feature                 NaN   \n",
       "113                   Missing Value Feature                 NaN   \n",
       "114                   Missing Value Feature                 NaN   \n",
       "115                   Missing Value Feature                 NaN   \n",
       "116                   Missing Value Feature                 NaN   \n",
       "117                   Missing Value Feature                 NaN   \n",
       "118                   Missing Value Feature                 NaN   \n",
       "119                   Missing Value Feature                 NaN   \n",
       "120                   Missing Value Feature                 NaN   \n",
       "121                   Missing Value Feature                 NaN   \n",
       "122                   Missing Value Feature                 NaN   \n",
       "123                   Missing Value Feature                 NaN   \n",
       "124                   Missing Value Feature                 NaN   \n",
       "125                         Population Loss             4.00296   \n",
       "126                         Poverty-related             38.6732   \n",
       "127                         Poverty-related                 NaN   \n",
       "128                         Poverty-related                 NaN   \n",
       "129                         Poverty-related                 NaN   \n",
       "130                         Poverty-related                 NaN   \n",
       "131                                    Race             0.28545   \n",
       "132                                    Race                 NaN   \n",
       "133                  Recreation and Fitness             17.6105   \n",
       "134                  Recreation and Fitness                 NaN   \n",
       "135                  Recreation and Fitness                 NaN   \n",
       "136                  Recreation and Fitness                 NaN   \n",
       "137                                   State             244.678   \n",
       "138                                   State                 NaN   \n",
       "139                                   State                 NaN   \n",
       "140                                   State                 NaN   \n",
       "141                                   State                 NaN   \n",
       "142                                   State                 NaN   \n",
       "143                                   State                 NaN   \n",
       "144                                   State                 NaN   \n",
       "145                                   State                 NaN   \n",
       "146                                   State                 NaN   \n",
       "147                                   State                 NaN   \n",
       "148                                   State                 NaN   \n",
       "149                                   State                 NaN   \n",
       "150                                   State                 NaN   \n",
       "151                                   State                 NaN   \n",
       "152                                   State                 NaN   \n",
       "153                                   State                 NaN   \n",
       "154                                   State                 NaN   \n",
       "155                                   State                 NaN   \n",
       "156                                   State                 NaN   \n",
       "157                                   State                 NaN   \n",
       "158                                   State                 NaN   \n",
       "159                                   State                 NaN   \n",
       "160                                   State                 NaN   \n",
       "161                                     NaN               Total   \n",
       "\n",
       "     Feature Family Proportion  Total Positive Sum  \n",
       "0                 1.544545e-03         1550.635173  \n",
       "1                          NaN                 NaN  \n",
       "2                 1.876731e-02                 NaN  \n",
       "3                 1.018667e-04                 NaN  \n",
       "4                 1.038791e-07                 NaN  \n",
       "5                 3.326202e-03                 NaN  \n",
       "6                          NaN                 NaN  \n",
       "7                          NaN                 NaN  \n",
       "8                          NaN                 NaN  \n",
       "9                          NaN                 NaN  \n",
       "10                3.094265e-02                 NaN  \n",
       "11                         NaN                 NaN  \n",
       "12                         NaN                 NaN  \n",
       "13                         NaN                 NaN  \n",
       "14                         NaN                 NaN  \n",
       "15                         NaN                 NaN  \n",
       "16                         NaN                 NaN  \n",
       "17                         NaN                 NaN  \n",
       "18                         NaN                 NaN  \n",
       "19                         NaN                 NaN  \n",
       "20                         NaN                 NaN  \n",
       "21                4.708688e-01                 NaN  \n",
       "22                         NaN                 NaN  \n",
       "23                         NaN                 NaN  \n",
       "24                         NaN                 NaN  \n",
       "25                         NaN                 NaN  \n",
       "26                         NaN                 NaN  \n",
       "27                         NaN                 NaN  \n",
       "28                         NaN                 NaN  \n",
       "29                         NaN                 NaN  \n",
       "30                         NaN                 NaN  \n",
       "31                         NaN                 NaN  \n",
       "32                         NaN                 NaN  \n",
       "33                         NaN                 NaN  \n",
       "34                         NaN                 NaN  \n",
       "35                         NaN                 NaN  \n",
       "36                         NaN                 NaN  \n",
       "37                         NaN                 NaN  \n",
       "38                         NaN                 NaN  \n",
       "39                         NaN                 NaN  \n",
       "40                         NaN                 NaN  \n",
       "41                         NaN                 NaN  \n",
       "42                9.718021e-03                 NaN  \n",
       "43                         NaN                 NaN  \n",
       "44                         NaN                 NaN  \n",
       "45                         NaN                 NaN  \n",
       "46                         NaN                 NaN  \n",
       "47                4.267454e-03                 NaN  \n",
       "48                         NaN                 NaN  \n",
       "49                1.131481e-03                 NaN  \n",
       "50                2.541517e-03                 NaN  \n",
       "51                7.198209e-03                 NaN  \n",
       "52                         NaN                 NaN  \n",
       "53                         NaN                 NaN  \n",
       "54                         NaN                 NaN  \n",
       "55                         NaN                 NaN  \n",
       "56                         NaN                 NaN  \n",
       "57                         NaN                 NaN  \n",
       "58                         NaN                 NaN  \n",
       "59                         NaN                 NaN  \n",
       "60                         NaN                 NaN  \n",
       "61                         NaN                 NaN  \n",
       "62                         NaN                 NaN  \n",
       "63                         NaN                 NaN  \n",
       "64                         NaN                 NaN  \n",
       "65                         NaN                 NaN  \n",
       "66                         NaN                 NaN  \n",
       "67                         NaN                 NaN  \n",
       "68                         NaN                 NaN  \n",
       "69                         NaN                 NaN  \n",
       "70                         NaN                 NaN  \n",
       "71                         NaN                 NaN  \n",
       "72                         NaN                 NaN  \n",
       "73                         NaN                 NaN  \n",
       "74                         NaN                 NaN  \n",
       "75                         NaN                 NaN  \n",
       "76                         NaN                 NaN  \n",
       "77                         NaN                 NaN  \n",
       "78                         NaN                 NaN  \n",
       "79                         NaN                 NaN  \n",
       "80                         NaN                 NaN  \n",
       "81                         NaN                 NaN  \n",
       "82                         NaN                 NaN  \n",
       "83                3.992389e-09                 NaN  \n",
       "84                1.875791e-01                 NaN  \n",
       "85                         NaN                 NaN  \n",
       "86                         NaN                 NaN  \n",
       "87                         NaN                 NaN  \n",
       "88                         NaN                 NaN  \n",
       "89                5.224922e-03                 NaN  \n",
       "90                         NaN                 NaN  \n",
       "91                         NaN                 NaN  \n",
       "92                         NaN                 NaN  \n",
       "93                1.441088e-03                 NaN  \n",
       "94                5.141001e-04                 NaN  \n",
       "95                5.797792e-02                 NaN  \n",
       "96                         NaN                 NaN  \n",
       "97                         NaN                 NaN  \n",
       "98                         NaN                 NaN  \n",
       "99                         NaN                 NaN  \n",
       "100                        NaN                 NaN  \n",
       "101                        NaN                 NaN  \n",
       "102                        NaN                 NaN  \n",
       "103                        NaN                 NaN  \n",
       "104                        NaN                 NaN  \n",
       "105                        NaN                 NaN  \n",
       "106                        NaN                 NaN  \n",
       "107                        NaN                 NaN  \n",
       "108                        NaN                 NaN  \n",
       "109                        NaN                 NaN  \n",
       "110                        NaN                 NaN  \n",
       "111                        NaN                 NaN  \n",
       "112                        NaN                 NaN  \n",
       "113                        NaN                 NaN  \n",
       "114                        NaN                 NaN  \n",
       "115                        NaN                 NaN  \n",
       "116                        NaN                 NaN  \n",
       "117                        NaN                 NaN  \n",
       "118                        NaN                 NaN  \n",
       "119                        NaN                 NaN  \n",
       "120                        NaN                 NaN  \n",
       "121                        NaN                 NaN  \n",
       "122                        NaN                 NaN  \n",
       "123                        NaN                 NaN  \n",
       "124                        NaN                 NaN  \n",
       "125               2.581500e-03                 NaN  \n",
       "126               2.494023e-02                 NaN  \n",
       "127                        NaN                 NaN  \n",
       "128                        NaN                 NaN  \n",
       "129                        NaN                 NaN  \n",
       "130                        NaN                 NaN  \n",
       "131               1.840860e-04                 NaN  \n",
       "132                        NaN                 NaN  \n",
       "133               1.135694e-02                 NaN  \n",
       "134                        NaN                 NaN  \n",
       "135                        NaN                 NaN  \n",
       "136                        NaN                 NaN  \n",
       "137               1.577920e-01                 NaN  \n",
       "138                        NaN                 NaN  \n",
       "139                        NaN                 NaN  \n",
       "140                        NaN                 NaN  \n",
       "141                        NaN                 NaN  \n",
       "142                        NaN                 NaN  \n",
       "143                        NaN                 NaN  \n",
       "144                        NaN                 NaN  \n",
       "145                        NaN                 NaN  \n",
       "146                        NaN                 NaN  \n",
       "147                        NaN                 NaN  \n",
       "148                        NaN                 NaN  \n",
       "149                        NaN                 NaN  \n",
       "150                        NaN                 NaN  \n",
       "151                        NaN                 NaN  \n",
       "152                        NaN                 NaN  \n",
       "153                        NaN                 NaN  \n",
       "154                        NaN                 NaN  \n",
       "155                        NaN                 NaN  \n",
       "156                        NaN                 NaN  \n",
       "157                        NaN                 NaN  \n",
       "158                        NaN                 NaN  \n",
       "159                        NaN                 NaN  \n",
       "160                        NaN                 NaN  \n",
       "161               1.000000e+00                 NaN  "
      ]
     },
     "execution_count": 389,
     "metadata": {},
     "output_type": "execute_result"
    }
   ],
   "source": [
    "positive_proportions_table = pd.read_excel('cancer_feature_family_proportions.xls', sheet_name='Positive')\n",
    "positive_proportions_table"
   ]
  },
  {
   "cell_type": "markdown",
   "metadata": {},
   "source": [
    "The proportions that each \"feature family\" has of the total positive influence of increasing cancer mortality in 97% of the counties in the United States during 2015 are as follows (in descending order):\n",
    "\n",
    "- L1 and L2 distances from county centroids to top 10 oncology hospitals (\"Distances to Top 10 Oncology Hospitals\"): 0.471\n",
    "- Types of health insurance for each county's populace (\"Health Insurance\"): 0.188\n",
    "- United States state each county is in (\"State\"): 0.158\n",
    "- Missing values (\"Missing Value Feature\"): 0.058\n",
    "- L1 and L2 distances from county centroids to major cities (\"Distance to Major Urban Centers\"): 0.031\n",
    "- Poverty (\"Poverty-related\"): 0.025\n",
    "- Average household size of each county (\"Average Household Size\"): 0.0188\n",
    "- Recreation and fitness facilities in each county (\"Recreation and Fitness\"): 0.0114\n",
    "- Education levels of each county's populace (\"Education\"): 0.0097\n",
    "- Food environment of each county (\"Food Environment\"): 0.0072\n",
    "- Financial income of each county's populace (\"Income\"): 0.0052\n",
    "- Employment status of each county's populace (\"Employment\"): 0.0043\n",
    "- Health conditions comorbid with cancer (\"Comorbid Health Conditions\"): 0.003\n",
    "- Counties' significant population loss as of the year 2000 (\"Population Loss\"): 0.0026\n",
    "- Erroneous data indicator referencing average household size (\"Erroneous data indicator\"): 0.0025\n",
    "- Age of each county's populace (\"Age\"): 0.0015\n",
    "- Marital status of county's populace (\"Marital feature\"): 0.0014\n",
    "- L2 distance to closest EPA Superfund Cleanup site (\"Environmental Health\"): 0.0011\n",
    "- Indicator of whether a county is in a metropolitan area or not (\"Metropolitan indicator\"): 0.0005\n",
    "- Race of each county's populace (\"Race\"): 0.0002\n",
    "- Rate of cancer diagnoses in each county (\"Cancer Diagnoses\"): 0.0001\n",
    "- Per capita number of cancer-related clinical trials per county (\"Clinical Cancer Trials\"): 0.0000001\n",
    "- Square mileage of land mass for each county (\"Geography\"): 0.000000003"
   ]
  },
  {
   "cell_type": "markdown",
   "metadata": {},
   "source": [
    "# Negative Coefficients"
   ]
  },
  {
   "cell_type": "markdown",
   "metadata": {},
   "source": [
    "For features with negative coefficients, the sum of all negative coefficients in the feature set is first taken, then the negative coefficients for each \"feature family\" is summed, and then the sum of each negative \"feature family\" is divided by the total negative coefficient sum to uncover the proportion of the total predictive value that each \"feature family\" has on decreasing cancer mortality."
   ]
  },
  {
   "cell_type": "code",
   "execution_count": 260,
   "metadata": {},
   "outputs": [
    {
     "data": {
      "text/plain": [
       "-1437.9887052681415"
      ]
     },
     "execution_count": 260,
     "metadata": {},
     "output_type": "execute_result"
    }
   ],
   "source": [
    "sum_of_all_neg_coeffs = np.sum(lr_3_coeffs_sorted[169:].values)\n",
    "sum_of_all_neg_coeffs"
   ]
  },
  {
   "cell_type": "code",
   "execution_count": 261,
   "metadata": {},
   "outputs": [],
   "source": [
    "lr_3_negative_coeffs = lr_3_coeffs_sorted[169:]"
   ]
  },
  {
   "cell_type": "markdown",
   "metadata": {},
   "source": [
    "## Age Features with Negative Coefficients"
   ]
  },
  {
   "cell_type": "code",
   "execution_count": 262,
   "metadata": {},
   "outputs": [],
   "source": [
    "is_age_neg_coeffs = []\n",
    "for name in lr_3_negative_coeffs.index.values:\n",
    "    is_age_neg_coeffs.append(name.startswith('MedianAge'))\n",
    "is_age_neg_coeffs = np.array(is_age_neg_coeffs)"
   ]
  },
  {
   "cell_type": "code",
   "execution_count": 263,
   "metadata": {},
   "outputs": [],
   "source": [
    "age_neg_coeffs = lr_3_negative_coeffs.loc[is_age_neg_coeffs]"
   ]
  },
  {
   "cell_type": "code",
   "execution_count": 264,
   "metadata": {},
   "outputs": [
    {
     "data": {
      "text/plain": [
       "-24.419898656879322"
      ]
     },
     "execution_count": 264,
     "metadata": {},
     "output_type": "execute_result"
    }
   ],
   "source": [
    "sum_of_age_neg_coeffs = np.sum(age_neg_coeffs.values)\n",
    "sum_of_age_neg_coeffs"
   ]
  },
  {
   "cell_type": "code",
   "execution_count": 265,
   "metadata": {
    "scrolled": true
   },
   "outputs": [
    {
     "data": {
      "text/plain": [
       "0.01698198224187425"
      ]
     },
     "execution_count": 265,
     "metadata": {},
     "output_type": "execute_result"
    }
   ],
   "source": [
    "age_proportion_of_neg_total = sum_of_age_neg_coeffs / sum_of_all_neg_coeffs\n",
    "age_proportion_of_neg_total"
   ]
  },
  {
   "cell_type": "markdown",
   "metadata": {},
   "source": [
    "## Average Household Size (Negative Coefficient)"
   ]
  },
  {
   "cell_type": "code",
   "execution_count": 266,
   "metadata": {},
   "outputs": [],
   "source": [
    "is_avg_household_neg_coeffs = []\n",
    "for name in lr_3_negative_coeffs.index.values:\n",
    "    is_avg_household_neg_coeffs.append(name.startswith('AvgHousehold'))\n",
    "is_avg_household_neg_coeffs = np.array(is_avg_household_neg_coeffs)"
   ]
  },
  {
   "cell_type": "code",
   "execution_count": 267,
   "metadata": {},
   "outputs": [],
   "source": [
    "avg_household_neg_coeffs = lr_3_negative_coeffs.loc[is_avg_household_neg_coeffs]"
   ]
  },
  {
   "cell_type": "code",
   "execution_count": 268,
   "metadata": {},
   "outputs": [
    {
     "data": {
      "text/plain": [
       "-6.493733729446952"
      ]
     },
     "execution_count": 268,
     "metadata": {},
     "output_type": "execute_result"
    }
   ],
   "source": [
    "sum_of_avg_household_neg_coeffs = np.sum(avg_household_neg_coeffs.values)\n",
    "sum_of_avg_household_neg_coeffs"
   ]
  },
  {
   "cell_type": "code",
   "execution_count": 269,
   "metadata": {},
   "outputs": [
    {
     "data": {
      "text/plain": [
       "0.004515844739014182"
      ]
     },
     "execution_count": 269,
     "metadata": {},
     "output_type": "execute_result"
    }
   ],
   "source": [
    "avg_household_proportion_of_neg_total = sum_of_avg_household_neg_coeffs / sum_of_all_neg_coeffs\n",
    "avg_household_proportion_of_neg_total"
   ]
  },
  {
   "cell_type": "markdown",
   "metadata": {},
   "source": [
    "## Birth Rate (Negative Coefficient)"
   ]
  },
  {
   "cell_type": "code",
   "execution_count": 270,
   "metadata": {},
   "outputs": [],
   "source": [
    "is_birthrate_neg_coeffs = []\n",
    "for name in lr_3_negative_coeffs.index.values:\n",
    "    is_birthrate_neg_coeffs.append(name.startswith('BirthRate'))\n",
    "is_birthrate_neg_coeffs = np.array(is_birthrate_neg_coeffs)"
   ]
  },
  {
   "cell_type": "code",
   "execution_count": 272,
   "metadata": {},
   "outputs": [],
   "source": [
    "birthrate_neg_coeffs = lr_3_negative_coeffs.loc[is_birthrate_neg_coeffs]"
   ]
  },
  {
   "cell_type": "code",
   "execution_count": 273,
   "metadata": {},
   "outputs": [
    {
     "data": {
      "text/plain": [
       "-0.6189143971866272"
      ]
     },
     "execution_count": 273,
     "metadata": {},
     "output_type": "execute_result"
    }
   ],
   "source": [
    "sum_of_birthrate_neg_coeffs = np.sum(birthrate_neg_coeffs.values)\n",
    "sum_of_birthrate_neg_coeffs"
   ]
  },
  {
   "cell_type": "code",
   "execution_count": 274,
   "metadata": {},
   "outputs": [
    {
     "data": {
      "text/plain": [
       "0.0004304028223025704"
      ]
     },
     "execution_count": 274,
     "metadata": {},
     "output_type": "execute_result"
    }
   ],
   "source": [
    "birthrate_proportion_of_neg_total = sum_of_birthrate_neg_coeffs / sum_of_all_neg_coeffs\n",
    "birthrate_proportion_of_neg_total"
   ]
  },
  {
   "cell_type": "markdown",
   "metadata": {},
   "source": [
    "## Cancer Diagnoses (Negative Coefficient)"
   ]
  },
  {
   "cell_type": "code",
   "execution_count": 275,
   "metadata": {},
   "outputs": [],
   "source": [
    "is_cancer_diag_neg_coeffs = []\n",
    "for name in lr_3_negative_coeffs.index.values:\n",
    "    is_cancer_diag_neg_coeffs.append(name.startswith('avgAnnCount'))\n",
    "is_cancer_diag_neg_coeffs = np.array(is_cancer_diag_neg_coeffs)"
   ]
  },
  {
   "cell_type": "code",
   "execution_count": 276,
   "metadata": {},
   "outputs": [],
   "source": [
    "cancer_diag_neg_coeffs = lr_3_negative_coeffs.loc[is_cancer_diag_neg_coeffs]"
   ]
  },
  {
   "cell_type": "code",
   "execution_count": 277,
   "metadata": {},
   "outputs": [
    {
     "data": {
      "text/plain": [
       "-0.0033117879877770317"
      ]
     },
     "execution_count": 277,
     "metadata": {},
     "output_type": "execute_result"
    }
   ],
   "source": [
    "sum_of_cancer_diag_neg_coeffs = np.sum(cancer_diag_neg_coeffs.values)\n",
    "sum_of_cancer_diag_neg_coeffs"
   ]
  },
  {
   "cell_type": "code",
   "execution_count": 278,
   "metadata": {
    "scrolled": true
   },
   "outputs": [
    {
     "data": {
      "text/plain": [
       "2.303069541258659e-06"
      ]
     },
     "execution_count": 278,
     "metadata": {},
     "output_type": "execute_result"
    }
   ],
   "source": [
    "cancer_diag_proportion_of_neg_total = sum_of_cancer_diag_neg_coeffs / sum_of_all_neg_coeffs\n",
    "cancer_diag_proportion_of_neg_total"
   ]
  },
  {
   "cell_type": "markdown",
   "metadata": {},
   "source": [
    "## Comorbid Health Conditions Features with Negative Coefficients"
   ]
  },
  {
   "cell_type": "code",
   "execution_count": 285,
   "metadata": {},
   "outputs": [],
   "source": [
    "comorbidities_neg = ['PCT_OBESE_ADULTS13_sqrd', 'PCT_OBESE_ADULTS09', 'PCT_DIABETES_ADULTS10', 'PCT_OBESE_CHILD08', \n",
    "                    'PCH_OBESE_CHILD_08_11']"
   ]
  },
  {
   "cell_type": "code",
   "execution_count": 286,
   "metadata": {},
   "outputs": [],
   "source": [
    "is_comorbid_neg_coeffs = []\n",
    "for name in lr_3_negative_coeffs.index.values:\n",
    "    is_comorbid_neg_coeffs.append(name in comorbidities_neg)\n",
    "is_comorbid_neg_coeffs = np.array(is_comorbid_neg_coeffs)"
   ]
  },
  {
   "cell_type": "code",
   "execution_count": 287,
   "metadata": {},
   "outputs": [],
   "source": [
    "comorbid_neg_coeffs = lr_3_negative_coeffs.loc[is_comorbid_neg_coeffs]"
   ]
  },
  {
   "cell_type": "code",
   "execution_count": 288,
   "metadata": {},
   "outputs": [
    {
     "data": {
      "text/plain": [
       "-2.0287065813744474"
      ]
     },
     "execution_count": 288,
     "metadata": {},
     "output_type": "execute_result"
    }
   ],
   "source": [
    "sum_of_comorbid_neg_coeffs = np.sum(comorbid_neg_coeffs.values)\n",
    "sum_of_comorbid_neg_coeffs"
   ]
  },
  {
   "cell_type": "code",
   "execution_count": 291,
   "metadata": {},
   "outputs": [
    {
     "data": {
      "text/plain": [
       "0.0014107945173297831"
      ]
     },
     "execution_count": 291,
     "metadata": {},
     "output_type": "execute_result"
    }
   ],
   "source": [
    "comorbid_proportion_of_neg_total = sum_of_comorbid_neg_coeffs / sum_of_all_neg_coeffs\n",
    "comorbid_proportion_of_neg_total"
   ]
  },
  {
   "cell_type": "markdown",
   "metadata": {},
   "source": [
    "## Distance to Major Urban Centers Features with Negative Coefficients"
   ]
  },
  {
   "cell_type": "code",
   "execution_count": 293,
   "metadata": {},
   "outputs": [],
   "source": [
    "dists_to_urban_centers_neg = ['los_ang_l1_sqrd', 'los_ang_l1', 'dallas_l2', 'atlanta_l1', 'denver_l1', 'nyc_l1', \n",
    "                         'san_fran_l1', 'seattle_l1', 'city_min_distsl1', 'atlanta_l2_log', 'chi_l1', 'nyc_l2', \n",
    "                         'chi_l2']"
   ]
  },
  {
   "cell_type": "code",
   "execution_count": 294,
   "metadata": {},
   "outputs": [],
   "source": [
    "is_urban_neg_coeffs = []\n",
    "for name in lr_3_negative_coeffs.index.values:\n",
    "    is_urban_neg_coeffs.append(name in dists_to_urban_centers_neg)\n",
    "is_urban_neg_coeffs = np.array(is_urban_neg_coeffs)"
   ]
  },
  {
   "cell_type": "code",
   "execution_count": 295,
   "metadata": {},
   "outputs": [],
   "source": [
    "urban_neg_coeffs = lr_3_negative_coeffs.loc[is_urban_neg_coeffs]"
   ]
  },
  {
   "cell_type": "code",
   "execution_count": 296,
   "metadata": {},
   "outputs": [
    {
     "data": {
      "text/plain": [
       "-542.0807520701892"
      ]
     },
     "execution_count": 296,
     "metadata": {},
     "output_type": "execute_result"
    }
   ],
   "source": [
    "sum_of_urban_neg_coeffs = np.sum(urban_neg_coeffs.values)\n",
    "sum_of_urban_neg_coeffs"
   ]
  },
  {
   "cell_type": "code",
   "execution_count": 297,
   "metadata": {},
   "outputs": [
    {
     "data": {
      "text/plain": [
       "0.37697149503626143"
      ]
     },
     "execution_count": 297,
     "metadata": {},
     "output_type": "execute_result"
    }
   ],
   "source": [
    "urban_proportion_of_neg_total = sum_of_urban_neg_coeffs / sum_of_all_neg_coeffs\n",
    "urban_proportion_of_neg_total"
   ]
  },
  {
   "cell_type": "markdown",
   "metadata": {},
   "source": [
    "## Distances to Top 10 Oncology Hospitals Features with Negative Coefficients"
   ]
  },
  {
   "cell_type": "code",
   "execution_count": 298,
   "metadata": {},
   "outputs": [],
   "source": [
    "dists_to_oncology_hosps_neg = ['mayo_l1_sqrd', 'mayo_l2', 'dfb_l1_sqrd', 'hlmcc_l2', 'hopkins_l2_log', \n",
    "                              'utmda_l1', 'mayo_l1_log', 'onc_min_distsl2', 'dfb_l1_log', 'cleveland_l2', \n",
    "                              'cleveland_l1', 'upmcps_l2_log', 'dfb_l1', 'mgs_l1_log', 'dfb_l2']"
   ]
  },
  {
   "cell_type": "code",
   "execution_count": 299,
   "metadata": {},
   "outputs": [],
   "source": [
    "is_onc_neg_coeffs = []\n",
    "for name in lr_3_negative_coeffs.index.values:\n",
    "    is_onc_neg_coeffs.append(name in dists_to_oncology_hosps_neg)\n",
    "is_onc_neg_coeffs = np.array(is_onc_neg_coeffs)"
   ]
  },
  {
   "cell_type": "code",
   "execution_count": 300,
   "metadata": {},
   "outputs": [],
   "source": [
    "onc_neg_coeffs = lr_3_negative_coeffs.loc[is_onc_neg_coeffs]"
   ]
  },
  {
   "cell_type": "code",
   "execution_count": 301,
   "metadata": {},
   "outputs": [
    {
     "data": {
      "text/plain": [
       "-192.77181926217986"
      ]
     },
     "execution_count": 301,
     "metadata": {},
     "output_type": "execute_result"
    }
   ],
   "source": [
    "sum_of_onc_neg_coeffs = np.sum(onc_neg_coeffs.values)\n",
    "sum_of_onc_neg_coeffs"
   ]
  },
  {
   "cell_type": "code",
   "execution_count": 302,
   "metadata": {
    "scrolled": true
   },
   "outputs": [
    {
     "data": {
      "text/plain": [
       "0.1340565600800277"
      ]
     },
     "execution_count": 302,
     "metadata": {},
     "output_type": "execute_result"
    }
   ],
   "source": [
    "onc_proportion_of_neg_total = sum_of_onc_neg_coeffs / sum_of_all_neg_coeffs\n",
    "onc_proportion_of_neg_total"
   ]
  },
  {
   "cell_type": "markdown",
   "metadata": {},
   "source": [
    "## Education Features with Negative Coefficients"
   ]
  },
  {
   "cell_type": "code",
   "execution_count": 303,
   "metadata": {},
   "outputs": [],
   "source": [
    "education_neg = ['PctNoHS18_24', 'PctHS25_Over_sqrd', 'PctBachDeg18_24', 'PctSomeCol18_24', 'PctBachDeg25_Over']"
   ]
  },
  {
   "cell_type": "code",
   "execution_count": 304,
   "metadata": {},
   "outputs": [],
   "source": [
    "is_edu_neg_coeffs = []\n",
    "for name in lr_3_negative_coeffs.index.values:\n",
    "    is_edu_neg_coeffs.append(name in education_neg)\n",
    "is_edu_neg_coeffs = np.array(is_edu_neg_coeffs)"
   ]
  },
  {
   "cell_type": "code",
   "execution_count": 305,
   "metadata": {},
   "outputs": [],
   "source": [
    "edu_neg_coeffs = lr_3_negative_coeffs.loc[is_edu_neg_coeffs]"
   ]
  },
  {
   "cell_type": "code",
   "execution_count": 306,
   "metadata": {},
   "outputs": [
    {
     "data": {
      "text/plain": [
       "-0.9344953916864842"
      ]
     },
     "execution_count": 306,
     "metadata": {},
     "output_type": "execute_result"
    }
   ],
   "source": [
    "sum_of_edu_neg_coeffs = np.sum(edu_neg_coeffs.values)\n",
    "sum_of_edu_neg_coeffs"
   ]
  },
  {
   "cell_type": "code",
   "execution_count": 307,
   "metadata": {
    "scrolled": true
   },
   "outputs": [
    {
     "data": {
      "text/plain": [
       "0.0006498628176027496"
      ]
     },
     "execution_count": 307,
     "metadata": {},
     "output_type": "execute_result"
    }
   ],
   "source": [
    "edu_proportion_of_neg_total = sum_of_edu_neg_coeffs / sum_of_all_neg_coeffs\n",
    "edu_proportion_of_neg_total"
   ]
  },
  {
   "cell_type": "markdown",
   "metadata": {},
   "source": [
    "## Employment Features with Negative Coefficients"
   ]
  },
  {
   "cell_type": "code",
   "execution_count": 308,
   "metadata": {},
   "outputs": [],
   "source": [
    "employment_neg = ['PctEmployed16_Over_sqrd', 'PctEmployed16_Over_log']"
   ]
  },
  {
   "cell_type": "code",
   "execution_count": 309,
   "metadata": {},
   "outputs": [],
   "source": [
    "is_employment_neg_coeffs = []\n",
    "for name in lr_3_negative_coeffs.index.values:\n",
    "    is_employment_neg_coeffs.append(name in employment_neg)\n",
    "is_employment_neg_coeffs = np.array(is_employment_neg_coeffs)"
   ]
  },
  {
   "cell_type": "code",
   "execution_count": 310,
   "metadata": {},
   "outputs": [],
   "source": [
    "employment_neg_coeffs = lr_3_negative_coeffs.loc[is_employment_neg_coeffs]"
   ]
  },
  {
   "cell_type": "code",
   "execution_count": 313,
   "metadata": {},
   "outputs": [
    {
     "data": {
      "text/plain": [
       "-179.04708889856155"
      ]
     },
     "execution_count": 313,
     "metadata": {},
     "output_type": "execute_result"
    }
   ],
   "source": [
    "sum_of_employment_neg_coeffs = np.sum(employment_neg_coeffs.values)\n",
    "sum_of_employment_neg_coeffs"
   ]
  },
  {
   "cell_type": "code",
   "execution_count": 314,
   "metadata": {
    "scrolled": true
   },
   "outputs": [
    {
     "data": {
      "text/plain": [
       "0.12451216636306936"
      ]
     },
     "execution_count": 314,
     "metadata": {},
     "output_type": "execute_result"
    }
   ],
   "source": [
    "employment_proportion_of_neg_total = sum_of_employment_neg_coeffs / sum_of_all_neg_coeffs\n",
    "employment_proportion_of_neg_total"
   ]
  },
  {
   "cell_type": "markdown",
   "metadata": {},
   "source": [
    "## Environmental Health (Negative Coefficient)"
   ]
  },
  {
   "cell_type": "code",
   "execution_count": 315,
   "metadata": {},
   "outputs": [],
   "source": [
    "is_env_health_neg_coeffs = []\n",
    "for name in lr_3_negative_coeffs.index.values:\n",
    "    is_env_health_neg_coeffs.append(name.startswith('sc_min_'))\n",
    "is_env_health_neg_coeffs = np.array(is_env_health_neg_coeffs)"
   ]
  },
  {
   "cell_type": "code",
   "execution_count": 316,
   "metadata": {},
   "outputs": [],
   "source": [
    "env_health_neg_coeffs = lr_3_negative_coeffs.loc[is_env_health_neg_coeffs]"
   ]
  },
  {
   "cell_type": "code",
   "execution_count": 317,
   "metadata": {},
   "outputs": [
    {
     "data": {
      "text/plain": [
       "-3.1206832574323986"
      ]
     },
     "execution_count": 317,
     "metadata": {},
     "output_type": "execute_result"
    }
   ],
   "source": [
    "sum_of_env_health_neg_coeffs = np.sum(env_health_neg_coeffs.values)\n",
    "sum_of_env_health_neg_coeffs"
   ]
  },
  {
   "cell_type": "code",
   "execution_count": 318,
   "metadata": {
    "scrolled": true
   },
   "outputs": [
    {
     "data": {
      "text/plain": [
       "0.0021701723010755397"
      ]
     },
     "execution_count": 318,
     "metadata": {},
     "output_type": "execute_result"
    }
   ],
   "source": [
    "env_health_proportion_of_neg_total = sum_of_env_health_neg_coeffs / sum_of_all_neg_coeffs\n",
    "env_health_proportion_of_neg_total"
   ]
  },
  {
   "cell_type": "markdown",
   "metadata": {},
   "source": [
    "## Erroneous Data Indicator (Negative Coefficient)"
   ]
  },
  {
   "cell_type": "code",
   "execution_count": 319,
   "metadata": {},
   "outputs": [],
   "source": [
    "is_err_neg_coeffs = []\n",
    "for name in lr_3_negative_coeffs.index.values:\n",
    "    is_err_neg_coeffs.append(name.startswith('household_lt'))\n",
    "is_err_neg_coeffs = np.array(is_err_neg_coeffs)"
   ]
  },
  {
   "cell_type": "code",
   "execution_count": 320,
   "metadata": {},
   "outputs": [],
   "source": [
    "err_neg_coeffs = lr_3_negative_coeffs.loc[is_err_neg_coeffs]"
   ]
  },
  {
   "cell_type": "code",
   "execution_count": 321,
   "metadata": {},
   "outputs": [
    {
     "data": {
      "text/plain": [
       "-0.5152421205203302"
      ]
     },
     "execution_count": 321,
     "metadata": {},
     "output_type": "execute_result"
    }
   ],
   "source": [
    "sum_of_err_neg_coeffs = np.sum(err_neg_coeffs.values)\n",
    "sum_of_err_neg_coeffs"
   ]
  },
  {
   "cell_type": "code",
   "execution_count": 322,
   "metadata": {
    "scrolled": true
   },
   "outputs": [
    {
     "data": {
      "text/plain": [
       "0.00035830748783541603"
      ]
     },
     "execution_count": 322,
     "metadata": {},
     "output_type": "execute_result"
    }
   ],
   "source": [
    "err_proportion_of_neg_total = sum_of_err_neg_coeffs / sum_of_all_neg_coeffs\n",
    "err_proportion_of_neg_total"
   ]
  },
  {
   "cell_type": "markdown",
   "metadata": {},
   "source": [
    "## Food Environment Features with Negative Coefficients"
   ]
  },
  {
   "cell_type": "code",
   "execution_count": 323,
   "metadata": {},
   "outputs": [],
   "source": [
    "food_env_neg_features = ['PCH_FMRKT_09_13_sqrd', 'ORCHARD_ACRES07', 'FRESHVEG_ACRES07', 'BERRY_ACRES07', \n",
    "                        'GHVEG_SQFTPTH07', 'PCT_LACCESS_HHNV10_sqrd', 'PCT_FMRKT_SFMNP13', 'ORCHARD_ACRESPTH07', \n",
    "                        'VEG_ACRESPTH07', 'PCT_FRMKT_FRVEG13', 'PCT_LACCESS_SENIORS10', 'PCT_FMRKT_SNAP13', \n",
    "                        'CSA07', 'VEG_FARMS07', 'PCT_LACCESS_LOWI10', 'FOODHUB12', 'PC_DIRSALES07', \n",
    "                        'PCH_FMRKT_09_13', 'FMRKT13', 'SLHOUSE07', 'FOODINSEC_07_09', 'PCT_LACCESS_CHILD10', \n",
    "                        'CH_VLFOODSEC_09_12', 'VLFOODSEC_00_02', 'FOODINSEC_CHILD_03_11', 'FARM_TO_SCHOOL', \n",
    "                        'FMRKTPTH13']"
   ]
  },
  {
   "cell_type": "code",
   "execution_count": 324,
   "metadata": {},
   "outputs": [],
   "source": [
    "is_food_env_neg_coeffs = []\n",
    "for name in lr_3_negative_coeffs.index.values:\n",
    "    is_food_env_neg_coeffs.append(name in food_env_neg_features)\n",
    "is_food_env_neg_coeffs = np.array(is_food_env_neg_coeffs)"
   ]
  },
  {
   "cell_type": "code",
   "execution_count": 325,
   "metadata": {},
   "outputs": [],
   "source": [
    "food_env_neg_coeffs = lr_3_negative_coeffs.loc[is_food_env_neg_coeffs]"
   ]
  },
  {
   "cell_type": "code",
   "execution_count": 326,
   "metadata": {},
   "outputs": [
    {
     "data": {
      "text/plain": [
       "-14.184182820253088"
      ]
     },
     "execution_count": 326,
     "metadata": {},
     "output_type": "execute_result"
    }
   ],
   "source": [
    "sum_of_food_env_neg_coeffs = np.sum(food_env_neg_coeffs.values)\n",
    "sum_of_food_env_neg_coeffs"
   ]
  },
  {
   "cell_type": "code",
   "execution_count": 327,
   "metadata": {
    "scrolled": true
   },
   "outputs": [
    {
     "data": {
      "text/plain": [
       "0.00986390419360642"
      ]
     },
     "execution_count": 327,
     "metadata": {},
     "output_type": "execute_result"
    }
   ],
   "source": [
    "food_env_proportion_of_neg_total = sum_of_food_env_neg_coeffs / sum_of_all_neg_coeffs\n",
    "food_env_proportion_of_neg_total"
   ]
  },
  {
   "cell_type": "markdown",
   "metadata": {},
   "source": [
    "## Geography (Negative Coefficient)"
   ]
  },
  {
   "cell_type": "code",
   "execution_count": 328,
   "metadata": {},
   "outputs": [],
   "source": [
    "is_geography_neg_coeffs = []\n",
    "for name in lr_3_negative_coeffs.index.values:\n",
    "    is_geography_neg_coeffs.append(name.startswith('AWATER_'))\n",
    "is_geography_neg_coeffs = np.array(is_geography_neg_coeffs)"
   ]
  },
  {
   "cell_type": "code",
   "execution_count": 329,
   "metadata": {},
   "outputs": [],
   "source": [
    "geography_neg_coeffs = lr_3_negative_coeffs.loc[is_geography_neg_coeffs]"
   ]
  },
  {
   "cell_type": "code",
   "execution_count": 330,
   "metadata": {},
   "outputs": [
    {
     "data": {
      "text/plain": [
       "-0.0024330431837883155"
      ]
     },
     "execution_count": 330,
     "metadata": {},
     "output_type": "execute_result"
    }
   ],
   "source": [
    "sum_of_geography_neg_coeffs = np.sum(geography_neg_coeffs.values)\n",
    "sum_of_geography_neg_coeffs"
   ]
  },
  {
   "cell_type": "code",
   "execution_count": 331,
   "metadata": {
    "scrolled": true
   },
   "outputs": [
    {
     "data": {
      "text/plain": [
       "1.6919765606466473e-06"
      ]
     },
     "execution_count": 331,
     "metadata": {},
     "output_type": "execute_result"
    }
   ],
   "source": [
    "geography_proportion_of_neg_total = sum_of_geography_neg_coeffs / sum_of_all_neg_coeffs\n",
    "geography_proportion_of_neg_total"
   ]
  },
  {
   "cell_type": "markdown",
   "metadata": {},
   "source": [
    "## Health Insurance Features with Negative Coefficients"
   ]
  },
  {
   "cell_type": "code",
   "execution_count": 332,
   "metadata": {},
   "outputs": [],
   "source": [
    "health_ins_neg_features = ['PctPublicCoverageAlone', 'PctPublicCoverage', 'PctPrivateCoverage', \n",
    "                           'PctPublicCoverageAlone_log', 'PctEmpPrivCoverage_log']"
   ]
  },
  {
   "cell_type": "code",
   "execution_count": 333,
   "metadata": {},
   "outputs": [],
   "source": [
    "is_health_ins_neg_coeffs = []\n",
    "for name in lr_3_negative_coeffs.index.values:\n",
    "    is_health_ins_neg_coeffs.append(name in health_ins_neg_features)\n",
    "is_health_ins_neg_coeffs = np.array(is_health_ins_neg_coeffs)"
   ]
  },
  {
   "cell_type": "code",
   "execution_count": 334,
   "metadata": {},
   "outputs": [],
   "source": [
    "health_ins_neg_coeffs = lr_3_negative_coeffs.loc[is_health_ins_neg_coeffs]"
   ]
  },
  {
   "cell_type": "code",
   "execution_count": 335,
   "metadata": {},
   "outputs": [
    {
     "data": {
      "text/plain": [
       "-65.91917105534378"
      ]
     },
     "execution_count": 335,
     "metadata": {},
     "output_type": "execute_result"
    }
   ],
   "source": [
    "sum_of_health_ins_neg_coeffs = np.sum(health_ins_neg_coeffs.values)\n",
    "sum_of_health_ins_neg_coeffs"
   ]
  },
  {
   "cell_type": "code",
   "execution_count": 336,
   "metadata": {
    "scrolled": true
   },
   "outputs": [
    {
     "data": {
      "text/plain": [
       "0.04584123005545571"
      ]
     },
     "execution_count": 336,
     "metadata": {},
     "output_type": "execute_result"
    }
   ],
   "source": [
    "health_ins_proportion_of_neg_total = sum_of_health_ins_neg_coeffs / sum_of_all_neg_coeffs\n",
    "health_ins_proportion_of_neg_total"
   ]
  },
  {
   "cell_type": "markdown",
   "metadata": {},
   "source": [
    "## Income Features with Negative Coefficients"
   ]
  },
  {
   "cell_type": "code",
   "execution_count": 337,
   "metadata": {},
   "outputs": [],
   "source": [
    "is_income_neg_coeffs = []\n",
    "for name in lr_3_negative_coeffs.index.values:\n",
    "    is_income_neg_coeffs.append(name.startswith('binnedInc_'))\n",
    "is_income_neg_coeffs = np.array(is_income_neg_coeffs)"
   ]
  },
  {
   "cell_type": "code",
   "execution_count": 338,
   "metadata": {},
   "outputs": [],
   "source": [
    "income_neg_coeffs = lr_3_negative_coeffs.loc[is_income_neg_coeffs]"
   ]
  },
  {
   "cell_type": "code",
   "execution_count": 339,
   "metadata": {},
   "outputs": [
    {
     "data": {
      "text/plain": [
       "-8.10190724435568"
      ]
     },
     "execution_count": 339,
     "metadata": {},
     "output_type": "execute_result"
    }
   ],
   "source": [
    "sum_of_income_neg_coeffs = np.sum(income_neg_coeffs.values)\n",
    "sum_of_income_neg_coeffs"
   ]
  },
  {
   "cell_type": "code",
   "execution_count": 340,
   "metadata": {
    "scrolled": true
   },
   "outputs": [
    {
     "data": {
      "text/plain": [
       "0.005634193936763167"
      ]
     },
     "execution_count": 340,
     "metadata": {},
     "output_type": "execute_result"
    }
   ],
   "source": [
    "income_proportion_of_neg_total = sum_of_income_neg_coeffs / sum_of_all_neg_coeffs\n",
    "income_proportion_of_neg_total"
   ]
  },
  {
   "cell_type": "markdown",
   "metadata": {},
   "source": [
    "## Latitude/Longitude Features with Negative Coefficients"
   ]
  },
  {
   "cell_type": "code",
   "execution_count": 341,
   "metadata": {},
   "outputs": [],
   "source": [
    "is_latlong_neg_coeffs = []\n",
    "for name in lr_3_negative_coeffs.index.values:\n",
    "    is_latlong_neg_coeffs.append(name.startswith('INTPT'))\n",
    "is_latlong_neg_coeffs = np.array(is_latlong_neg_coeffs)"
   ]
  },
  {
   "cell_type": "code",
   "execution_count": 342,
   "metadata": {},
   "outputs": [],
   "source": [
    "latlong_neg_coeffs = lr_3_negative_coeffs.loc[is_latlong_neg_coeffs]"
   ]
  },
  {
   "cell_type": "code",
   "execution_count": 343,
   "metadata": {},
   "outputs": [
    {
     "data": {
      "text/plain": [
       "-30.589464922497427"
      ]
     },
     "execution_count": 343,
     "metadata": {},
     "output_type": "execute_result"
    }
   ],
   "source": [
    "sum_of_latlong_neg_coeffs = np.sum(latlong_neg_coeffs.values)\n",
    "sum_of_latlong_neg_coeffs"
   ]
  },
  {
   "cell_type": "code",
   "execution_count": 344,
   "metadata": {
    "scrolled": true
   },
   "outputs": [
    {
     "data": {
      "text/plain": [
       "0.021272395819543946"
      ]
     },
     "execution_count": 344,
     "metadata": {},
     "output_type": "execute_result"
    }
   ],
   "source": [
    "latlong_proportion_of_neg_total = sum_of_latlong_neg_coeffs / sum_of_all_neg_coeffs\n",
    "latlong_proportion_of_neg_total"
   ]
  },
  {
   "cell_type": "markdown",
   "metadata": {},
   "source": [
    "## Marital Features with Negative Coefficients"
   ]
  },
  {
   "cell_type": "code",
   "execution_count": 345,
   "metadata": {},
   "outputs": [],
   "source": [
    "marital_features = ['PercentMarried_sqrd', 'PctMarriedHouseholds', 'PercentMarried_log']"
   ]
  },
  {
   "cell_type": "code",
   "execution_count": 346,
   "metadata": {},
   "outputs": [],
   "source": [
    "is_marital_neg_coeffs = []\n",
    "for name in lr_3_negative_coeffs.index.values:\n",
    "    is_marital_neg_coeffs.append(name in marital_features)\n",
    "is_marital_neg_coeffs = np.array(is_marital_neg_coeffs)"
   ]
  },
  {
   "cell_type": "code",
   "execution_count": 349,
   "metadata": {},
   "outputs": [],
   "source": [
    "marital_neg_coeffs = lr_3_negative_coeffs.loc[is_marital_neg_coeffs]"
   ]
  },
  {
   "cell_type": "code",
   "execution_count": 350,
   "metadata": {},
   "outputs": [
    {
     "data": {
      "text/plain": [
       "-29.219047929360602"
      ]
     },
     "execution_count": 350,
     "metadata": {},
     "output_type": "execute_result"
    }
   ],
   "source": [
    "sum_of_marital_neg_coeffs = np.sum(marital_neg_coeffs.values)\n",
    "sum_of_marital_neg_coeffs"
   ]
  },
  {
   "cell_type": "code",
   "execution_count": 351,
   "metadata": {
    "scrolled": true
   },
   "outputs": [
    {
     "data": {
      "text/plain": [
       "0.02031938625269809"
      ]
     },
     "execution_count": 351,
     "metadata": {},
     "output_type": "execute_result"
    }
   ],
   "source": [
    "marital_proportion_of_neg_total = sum_of_marital_neg_coeffs / sum_of_all_neg_coeffs\n",
    "marital_proportion_of_neg_total"
   ]
  },
  {
   "cell_type": "markdown",
   "metadata": {},
   "source": [
    "## Missing Value Features with Negative Coefficients"
   ]
  },
  {
   "cell_type": "code",
   "execution_count": 352,
   "metadata": {},
   "outputs": [],
   "source": [
    "is_missing_neg_coeffs = []\n",
    "for name in lr_3_negative_coeffs.index.values:\n",
    "    is_missing_neg_coeffs.append(name.endswith('_isnull'))\n",
    "is_missing_neg_coeffs = np.array(is_missing_neg_coeffs)"
   ]
  },
  {
   "cell_type": "code",
   "execution_count": 353,
   "metadata": {},
   "outputs": [],
   "source": [
    "missing_neg_coeffs = lr_3_negative_coeffs.loc[is_missing_neg_coeffs]"
   ]
  },
  {
   "cell_type": "code",
   "execution_count": 354,
   "metadata": {},
   "outputs": [
    {
     "data": {
      "text/plain": [
       "-38.73179462541644"
      ]
     },
     "execution_count": 354,
     "metadata": {},
     "output_type": "execute_result"
    }
   ],
   "source": [
    "sum_of_missing_neg_coeffs = np.sum(missing_neg_coeffs.values)\n",
    "sum_of_missing_neg_coeffs"
   ]
  },
  {
   "cell_type": "code",
   "execution_count": 355,
   "metadata": {
    "scrolled": true
   },
   "outputs": [
    {
     "data": {
      "text/plain": [
       "0.02693470017081541"
      ]
     },
     "execution_count": 355,
     "metadata": {},
     "output_type": "execute_result"
    }
   ],
   "source": [
    "missing_proportion_of_neg_total = sum_of_missing_neg_coeffs / sum_of_all_neg_coeffs\n",
    "missing_proportion_of_neg_total"
   ]
  },
  {
   "cell_type": "markdown",
   "metadata": {},
   "source": [
    "## Poverty-related Features with Negative Coefficients"
   ]
  },
  {
   "cell_type": "code",
   "execution_count": 365,
   "metadata": {},
   "outputs": [],
   "source": [
    "poverty_neg_features = ['povertyPercent', 'CHILDPOVRATE10_log']"
   ]
  },
  {
   "cell_type": "code",
   "execution_count": 366,
   "metadata": {},
   "outputs": [],
   "source": [
    "is_poverty_neg_coeffs = []\n",
    "for name in lr_3_negative_coeffs.index.values:\n",
    "    is_poverty_neg_coeffs.append(name in poverty_neg_features)\n",
    "is_poverty_neg_coeffs = np.array(is_poverty_neg_coeffs)"
   ]
  },
  {
   "cell_type": "code",
   "execution_count": 367,
   "metadata": {},
   "outputs": [],
   "source": [
    "poverty_neg_coeffs = lr_3_negative_coeffs.loc[is_poverty_neg_coeffs]"
   ]
  },
  {
   "cell_type": "code",
   "execution_count": 368,
   "metadata": {},
   "outputs": [
    {
     "data": {
      "text/plain": [
       "-32.56116241353354"
      ]
     },
     "execution_count": 368,
     "metadata": {},
     "output_type": "execute_result"
    }
   ],
   "source": [
    "sum_of_poverty_neg_coeffs = np.sum(poverty_neg_coeffs.values)\n",
    "sum_of_poverty_neg_coeffs"
   ]
  },
  {
   "cell_type": "code",
   "execution_count": 369,
   "metadata": {
    "scrolled": false
   },
   "outputs": [
    {
     "data": {
      "text/plain": [
       "0.022643545317320043"
      ]
     },
     "execution_count": 369,
     "metadata": {},
     "output_type": "execute_result"
    }
   ],
   "source": [
    "poverty_proportion_of_neg_total = sum_of_poverty_neg_coeffs / sum_of_all_neg_coeffs\n",
    "poverty_proportion_of_neg_total"
   ]
  },
  {
   "cell_type": "markdown",
   "metadata": {},
   "source": [
    "## Quality of Life (Negative Coefficient)"
   ]
  },
  {
   "cell_type": "code",
   "execution_count": 370,
   "metadata": {},
   "outputs": [],
   "source": [
    "is_quality_life_neg_coeffs = []\n",
    "for name in lr_3_negative_coeffs.index.values:\n",
    "    is_quality_life_neg_coeffs.append(name.startswith('NATAMEN'))\n",
    "is_quality_life_neg_coeffs = np.array(is_quality_life_neg_coeffs)"
   ]
  },
  {
   "cell_type": "code",
   "execution_count": 371,
   "metadata": {},
   "outputs": [],
   "source": [
    "quality_life_neg_coeffs = lr_3_negative_coeffs.loc[is_quality_life_neg_coeffs]"
   ]
  },
  {
   "cell_type": "code",
   "execution_count": 372,
   "metadata": {},
   "outputs": [
    {
     "data": {
      "text/plain": [
       "-0.8239569504337018"
      ]
     },
     "execution_count": 372,
     "metadata": {},
     "output_type": "execute_result"
    }
   ],
   "source": [
    "sum_of_quality_life_neg_coeffs = np.sum(quality_life_neg_coeffs.values)\n",
    "sum_of_quality_life_neg_coeffs"
   ]
  },
  {
   "cell_type": "code",
   "execution_count": 373,
   "metadata": {
    "scrolled": true
   },
   "outputs": [
    {
     "data": {
      "text/plain": [
       "0.0005729926441112474"
      ]
     },
     "execution_count": 373,
     "metadata": {},
     "output_type": "execute_result"
    }
   ],
   "source": [
    "quality_life_proportion_of_neg_total = sum_of_quality_life_neg_coeffs / sum_of_all_neg_coeffs\n",
    "quality_life_proportion_of_neg_total"
   ]
  },
  {
   "cell_type": "markdown",
   "metadata": {},
   "source": [
    "## Race-related Features with Negative Coefficients"
   ]
  },
  {
   "cell_type": "code",
   "execution_count": 374,
   "metadata": {},
   "outputs": [],
   "source": [
    "race_neg_features = ['PctBlack_sqrd', 'PctOtherRace', 'PctAsian', 'PctWhite']"
   ]
  },
  {
   "cell_type": "code",
   "execution_count": 375,
   "metadata": {},
   "outputs": [],
   "source": [
    "is_race_neg_coeffs = []\n",
    "for name in lr_3_negative_coeffs.index.values:\n",
    "    is_race_neg_coeffs.append(name in race_neg_features)\n",
    "is_race_neg_coeffs = np.array(is_race_neg_coeffs)"
   ]
  },
  {
   "cell_type": "code",
   "execution_count": 376,
   "metadata": {},
   "outputs": [],
   "source": [
    "race_neg_coeffs = lr_3_negative_coeffs.loc[is_race_neg_coeffs]"
   ]
  },
  {
   "cell_type": "code",
   "execution_count": 377,
   "metadata": {},
   "outputs": [
    {
     "data": {
      "text/plain": [
       "-1.9943839514575936"
      ]
     },
     "execution_count": 377,
     "metadata": {},
     "output_type": "execute_result"
    }
   ],
   "source": [
    "sum_of_race_neg_coeffs = np.sum(race_neg_coeffs.values)\n",
    "sum_of_race_neg_coeffs"
   ]
  },
  {
   "cell_type": "code",
   "execution_count": 378,
   "metadata": {
    "scrolled": false
   },
   "outputs": [
    {
     "data": {
      "text/plain": [
       "0.0013869260197601492"
      ]
     },
     "execution_count": 378,
     "metadata": {},
     "output_type": "execute_result"
    }
   ],
   "source": [
    "race_proportion_of_neg_total = sum_of_race_neg_coeffs / sum_of_all_neg_coeffs\n",
    "race_proportion_of_neg_total"
   ]
  },
  {
   "cell_type": "markdown",
   "metadata": {},
   "source": [
    "## Recreation and Fitness Features with Negative Coefficients"
   ]
  },
  {
   "cell_type": "code",
   "execution_count": 379,
   "metadata": {},
   "outputs": [],
   "source": [
    "recreation_neg_features = ['RECFAC07', 'PCH_RECFAC_07_12', 'RECFACPTH07']"
   ]
  },
  {
   "cell_type": "code",
   "execution_count": 380,
   "metadata": {},
   "outputs": [],
   "source": [
    "is_recreation_neg_coeffs = []\n",
    "for name in lr_3_negative_coeffs.index.values:\n",
    "    is_recreation_neg_coeffs.append(name in recreation_neg_features)\n",
    "is_recreation_neg_coeffs = np.array(is_recreation_neg_coeffs)"
   ]
  },
  {
   "cell_type": "code",
   "execution_count": 381,
   "metadata": {},
   "outputs": [],
   "source": [
    "recreation_neg_coeffs = lr_3_negative_coeffs.loc[is_recreation_neg_coeffs]"
   ]
  },
  {
   "cell_type": "code",
   "execution_count": 382,
   "metadata": {},
   "outputs": [
    {
     "data": {
      "text/plain": [
       "-19.148800809086453"
      ]
     },
     "execution_count": 382,
     "metadata": {},
     "output_type": "execute_result"
    }
   ],
   "source": [
    "sum_of_recreation_neg_coeffs = np.sum(recreation_neg_coeffs.values)\n",
    "sum_of_recreation_neg_coeffs"
   ]
  },
  {
   "cell_type": "code",
   "execution_count": 383,
   "metadata": {
    "scrolled": false
   },
   "outputs": [
    {
     "data": {
      "text/plain": [
       "0.013316377756608164"
      ]
     },
     "execution_count": 383,
     "metadata": {},
     "output_type": "execute_result"
    }
   ],
   "source": [
    "recreation_proportion_of_neg_total = sum_of_recreation_neg_coeffs / sum_of_all_neg_coeffs\n",
    "recreation_proportion_of_neg_total"
   ]
  },
  {
   "cell_type": "markdown",
   "metadata": {},
   "source": [
    "## State Features with Negative Coefficients"
   ]
  },
  {
   "cell_type": "code",
   "execution_count": 384,
   "metadata": {},
   "outputs": [],
   "source": [
    "is_state_neg_coeffs = []\n",
    "for name in lr_3_negative_coeffs.index.values:\n",
    "    is_state_neg_coeffs.append(name.startswith('State_'))\n",
    "is_state_neg_coeffs = np.array(is_state_neg_coeffs)"
   ]
  },
  {
   "cell_type": "code",
   "execution_count": 385,
   "metadata": {},
   "outputs": [],
   "source": [
    "state_neg_coeffs = lr_3_negative_coeffs.loc[is_state_neg_coeffs]"
   ]
  },
  {
   "cell_type": "code",
   "execution_count": 386,
   "metadata": {},
   "outputs": [
    {
     "data": {
      "text/plain": [
       "-244.67775334977455"
      ]
     },
     "execution_count": 386,
     "metadata": {},
     "output_type": "execute_result"
    }
   ],
   "source": [
    "sum_of_state_neg_coeffs = np.sum(state_neg_coeffs.values)\n",
    "sum_of_state_neg_coeffs"
   ]
  },
  {
   "cell_type": "code",
   "execution_count": 387,
   "metadata": {
    "scrolled": false
   },
   "outputs": [
    {
     "data": {
      "text/plain": [
       "0.1701527643808228"
      ]
     },
     "execution_count": 387,
     "metadata": {},
     "output_type": "execute_result"
    }
   ],
   "source": [
    "state_proportion_of_neg_total = sum_of_state_neg_coeffs / sum_of_all_neg_coeffs\n",
    "state_proportion_of_neg_total"
   ]
  },
  {
   "cell_type": "markdown",
   "metadata": {},
   "source": [
    "## Summary Table of Feature Family Negative Coefficients"
   ]
  },
  {
   "cell_type": "code",
   "execution_count": 390,
   "metadata": {},
   "outputs": [
    {
     "data": {
      "text/html": [
       "<div>\n",
       "<style scoped>\n",
       "    .dataframe tbody tr th:only-of-type {\n",
       "        vertical-align: middle;\n",
       "    }\n",
       "\n",
       "    .dataframe tbody tr th {\n",
       "        vertical-align: top;\n",
       "    }\n",
       "\n",
       "    .dataframe thead th {\n",
       "        text-align: right;\n",
       "    }\n",
       "</style>\n",
       "<table border=\"1\" class=\"dataframe\">\n",
       "  <thead>\n",
       "    <tr style=\"text-align: right;\">\n",
       "      <th></th>\n",
       "      <th>Features</th>\n",
       "      <th>Negative coefficients</th>\n",
       "      <th>Feature Family</th>\n",
       "      <th>Feature Family Sums</th>\n",
       "      <th>Feature Family Proportion</th>\n",
       "      <th>Total Negative  Sum</th>\n",
       "    </tr>\n",
       "  </thead>\n",
       "  <tbody>\n",
       "    <tr>\n",
       "      <th>0</th>\n",
       "      <td>MedianAgeFemale_sqrd</td>\n",
       "      <td>1.976851e-02</td>\n",
       "      <td>Age</td>\n",
       "      <td>2.441990e+01</td>\n",
       "      <td>1.698199e-02</td>\n",
       "      <td>1437.988619</td>\n",
       "    </tr>\n",
       "    <tr>\n",
       "      <th>1</th>\n",
       "      <td>MedianAgeMale</td>\n",
       "      <td>5.903435e-01</td>\n",
       "      <td>Age</td>\n",
       "      <td>NaN</td>\n",
       "      <td>NaN</td>\n",
       "      <td>NaN</td>\n",
       "    </tr>\n",
       "    <tr>\n",
       "      <th>2</th>\n",
       "      <td>MedianAge_log</td>\n",
       "      <td>2.380979e+01</td>\n",
       "      <td>Age</td>\n",
       "      <td>NaN</td>\n",
       "      <td>NaN</td>\n",
       "      <td>NaN</td>\n",
       "    </tr>\n",
       "    <tr>\n",
       "      <th>3</th>\n",
       "      <td>AvgHouseholdSize</td>\n",
       "      <td>6.493734e+00</td>\n",
       "      <td>Average Household Size</td>\n",
       "      <td>6.493734e+00</td>\n",
       "      <td>4.515845e-03</td>\n",
       "      <td>NaN</td>\n",
       "    </tr>\n",
       "    <tr>\n",
       "      <th>4</th>\n",
       "      <td>BirthRate</td>\n",
       "      <td>6.189144e-01</td>\n",
       "      <td>Birth Rate</td>\n",
       "      <td>6.189144e-01</td>\n",
       "      <td>4.304029e-04</td>\n",
       "      <td>NaN</td>\n",
       "    </tr>\n",
       "    <tr>\n",
       "      <th>5</th>\n",
       "      <td>avgAnnCount</td>\n",
       "      <td>3.311788e-03</td>\n",
       "      <td>Cancer Diagnoses</td>\n",
       "      <td>3.311788e-03</td>\n",
       "      <td>2.303070e-06</td>\n",
       "      <td>NaN</td>\n",
       "    </tr>\n",
       "    <tr>\n",
       "      <th>6</th>\n",
       "      <td>PCT_OBESE_ADULTS13_sqrd</td>\n",
       "      <td>5.482629e-02</td>\n",
       "      <td>Comorbid Health Conditions</td>\n",
       "      <td>2.028707e+00</td>\n",
       "      <td>1.410795e-03</td>\n",
       "      <td>NaN</td>\n",
       "    </tr>\n",
       "    <tr>\n",
       "      <th>7</th>\n",
       "      <td>PCT_OBESE_ADULTS09</td>\n",
       "      <td>1.131211e-01</td>\n",
       "      <td>Comorbid Health Conditions</td>\n",
       "      <td>NaN</td>\n",
       "      <td>NaN</td>\n",
       "      <td>NaN</td>\n",
       "    </tr>\n",
       "    <tr>\n",
       "      <th>8</th>\n",
       "      <td>PCT_DIABETES_ADULTS10</td>\n",
       "      <td>3.510315e-01</td>\n",
       "      <td>Comorbid Health Conditions</td>\n",
       "      <td>NaN</td>\n",
       "      <td>NaN</td>\n",
       "      <td>NaN</td>\n",
       "    </tr>\n",
       "    <tr>\n",
       "      <th>9</th>\n",
       "      <td>PCT_OBESE_CHILD08</td>\n",
       "      <td>7.469103e-01</td>\n",
       "      <td>Comorbid Health Conditions</td>\n",
       "      <td>NaN</td>\n",
       "      <td>NaN</td>\n",
       "      <td>NaN</td>\n",
       "    </tr>\n",
       "    <tr>\n",
       "      <th>10</th>\n",
       "      <td>PCH_OBESE_CHILD_08_11</td>\n",
       "      <td>7.628174e-01</td>\n",
       "      <td>Comorbid Health Conditions</td>\n",
       "      <td>NaN</td>\n",
       "      <td>NaN</td>\n",
       "      <td>NaN</td>\n",
       "    </tr>\n",
       "    <tr>\n",
       "      <th>11</th>\n",
       "      <td>los_ang_l1_sqrd</td>\n",
       "      <td>3.522171e-02</td>\n",
       "      <td>Distance to Major Urban Center</td>\n",
       "      <td>5.420807e+02</td>\n",
       "      <td>3.769715e-01</td>\n",
       "      <td>NaN</td>\n",
       "    </tr>\n",
       "    <tr>\n",
       "      <th>12</th>\n",
       "      <td>los_ang_l1</td>\n",
       "      <td>2.396801e-01</td>\n",
       "      <td>Distance to Major Urban Center</td>\n",
       "      <td>NaN</td>\n",
       "      <td>NaN</td>\n",
       "      <td>NaN</td>\n",
       "    </tr>\n",
       "    <tr>\n",
       "      <th>13</th>\n",
       "      <td>dallas_l2</td>\n",
       "      <td>3.337654e-01</td>\n",
       "      <td>Distance to Major Urban Center</td>\n",
       "      <td>NaN</td>\n",
       "      <td>NaN</td>\n",
       "      <td>NaN</td>\n",
       "    </tr>\n",
       "    <tr>\n",
       "      <th>14</th>\n",
       "      <td>atlanta_l1</td>\n",
       "      <td>1.634843e+00</td>\n",
       "      <td>Distance to Major Urban Center</td>\n",
       "      <td>NaN</td>\n",
       "      <td>NaN</td>\n",
       "      <td>NaN</td>\n",
       "    </tr>\n",
       "    <tr>\n",
       "      <th>15</th>\n",
       "      <td>denver_l1</td>\n",
       "      <td>1.881121e+00</td>\n",
       "      <td>Distance to Major Urban Center</td>\n",
       "      <td>NaN</td>\n",
       "      <td>NaN</td>\n",
       "      <td>NaN</td>\n",
       "    </tr>\n",
       "    <tr>\n",
       "      <th>16</th>\n",
       "      <td>nyc_l1</td>\n",
       "      <td>2.303114e+00</td>\n",
       "      <td>Distance to Major Urban Center</td>\n",
       "      <td>NaN</td>\n",
       "      <td>NaN</td>\n",
       "      <td>NaN</td>\n",
       "    </tr>\n",
       "    <tr>\n",
       "      <th>17</th>\n",
       "      <td>san_fran_l1</td>\n",
       "      <td>2.330910e+00</td>\n",
       "      <td>Distance to Major Urban Center</td>\n",
       "      <td>NaN</td>\n",
       "      <td>NaN</td>\n",
       "      <td>NaN</td>\n",
       "    </tr>\n",
       "    <tr>\n",
       "      <th>18</th>\n",
       "      <td>seattle_l1</td>\n",
       "      <td>3.062198e+00</td>\n",
       "      <td>Distance to Major Urban Center</td>\n",
       "      <td>NaN</td>\n",
       "      <td>NaN</td>\n",
       "      <td>NaN</td>\n",
       "    </tr>\n",
       "    <tr>\n",
       "      <th>19</th>\n",
       "      <td>city_min_distsl1</td>\n",
       "      <td>4.118785e+00</td>\n",
       "      <td>Distance to Major Urban Center</td>\n",
       "      <td>NaN</td>\n",
       "      <td>NaN</td>\n",
       "      <td>NaN</td>\n",
       "    </tr>\n",
       "    <tr>\n",
       "      <th>20</th>\n",
       "      <td>atlanta_l2_log</td>\n",
       "      <td>1.320177e+01</td>\n",
       "      <td>Distance to Major Urban Center</td>\n",
       "      <td>NaN</td>\n",
       "      <td>NaN</td>\n",
       "      <td>NaN</td>\n",
       "    </tr>\n",
       "    <tr>\n",
       "      <th>21</th>\n",
       "      <td>chi_l1</td>\n",
       "      <td>5.093429e+01</td>\n",
       "      <td>Distance to Major Urban Center</td>\n",
       "      <td>NaN</td>\n",
       "      <td>NaN</td>\n",
       "      <td>NaN</td>\n",
       "    </tr>\n",
       "    <tr>\n",
       "      <th>22</th>\n",
       "      <td>nyc_l2</td>\n",
       "      <td>1.233645e+02</td>\n",
       "      <td>Distance to Major Urban Center</td>\n",
       "      <td>NaN</td>\n",
       "      <td>NaN</td>\n",
       "      <td>NaN</td>\n",
       "    </tr>\n",
       "    <tr>\n",
       "      <th>23</th>\n",
       "      <td>chi_l2</td>\n",
       "      <td>3.386405e+02</td>\n",
       "      <td>Distance to Major Urban Center</td>\n",
       "      <td>NaN</td>\n",
       "      <td>NaN</td>\n",
       "      <td>NaN</td>\n",
       "    </tr>\n",
       "    <tr>\n",
       "      <th>24</th>\n",
       "      <td>mayo_l1_sqrd</td>\n",
       "      <td>4.969637e-02</td>\n",
       "      <td>Distances to Top 10 Oncology Hospitals</td>\n",
       "      <td>1.927718e+02</td>\n",
       "      <td>1.340566e-01</td>\n",
       "      <td>NaN</td>\n",
       "    </tr>\n",
       "    <tr>\n",
       "      <th>25</th>\n",
       "      <td>mayo_l2</td>\n",
       "      <td>1.510548e-01</td>\n",
       "      <td>Distances to Top 10 Oncology Hospitals</td>\n",
       "      <td>NaN</td>\n",
       "      <td>NaN</td>\n",
       "      <td>NaN</td>\n",
       "    </tr>\n",
       "    <tr>\n",
       "      <th>26</th>\n",
       "      <td>dfb_l1_sqrd</td>\n",
       "      <td>3.641726e-01</td>\n",
       "      <td>Distances to Top 10 Oncology Hospitals</td>\n",
       "      <td>NaN</td>\n",
       "      <td>NaN</td>\n",
       "      <td>NaN</td>\n",
       "    </tr>\n",
       "    <tr>\n",
       "      <th>27</th>\n",
       "      <td>hlmcc_l2</td>\n",
       "      <td>8.288755e-01</td>\n",
       "      <td>Distances to Top 10 Oncology Hospitals</td>\n",
       "      <td>NaN</td>\n",
       "      <td>NaN</td>\n",
       "      <td>NaN</td>\n",
       "    </tr>\n",
       "    <tr>\n",
       "      <th>28</th>\n",
       "      <td>hopkins_l2_log</td>\n",
       "      <td>1.077532e+00</td>\n",
       "      <td>Distances to Top 10 Oncology Hospitals</td>\n",
       "      <td>NaN</td>\n",
       "      <td>NaN</td>\n",
       "      <td>NaN</td>\n",
       "    </tr>\n",
       "    <tr>\n",
       "      <th>29</th>\n",
       "      <td>utmda_l1</td>\n",
       "      <td>1.859364e+00</td>\n",
       "      <td>Distances to Top 10 Oncology Hospitals</td>\n",
       "      <td>NaN</td>\n",
       "      <td>NaN</td>\n",
       "      <td>NaN</td>\n",
       "    </tr>\n",
       "    <tr>\n",
       "      <th>30</th>\n",
       "      <td>mayo_l1_log</td>\n",
       "      <td>1.992774e+00</td>\n",
       "      <td>Distances to Top 10 Oncology Hospitals</td>\n",
       "      <td>NaN</td>\n",
       "      <td>NaN</td>\n",
       "      <td>NaN</td>\n",
       "    </tr>\n",
       "    <tr>\n",
       "      <th>31</th>\n",
       "      <td>onc_min_distsl2</td>\n",
       "      <td>2.324078e+00</td>\n",
       "      <td>Distances to Top 10 Oncology Hospitals</td>\n",
       "      <td>NaN</td>\n",
       "      <td>NaN</td>\n",
       "      <td>NaN</td>\n",
       "    </tr>\n",
       "    <tr>\n",
       "      <th>32</th>\n",
       "      <td>dfb_l1_log</td>\n",
       "      <td>7.652371e+00</td>\n",
       "      <td>Distances to Top 10 Oncology Hospitals</td>\n",
       "      <td>NaN</td>\n",
       "      <td>NaN</td>\n",
       "      <td>NaN</td>\n",
       "    </tr>\n",
       "    <tr>\n",
       "      <th>33</th>\n",
       "      <td>cleveland_l2</td>\n",
       "      <td>1.109783e+01</td>\n",
       "      <td>Distances to Top 10 Oncology Hospitals</td>\n",
       "      <td>NaN</td>\n",
       "      <td>NaN</td>\n",
       "      <td>NaN</td>\n",
       "    </tr>\n",
       "    <tr>\n",
       "      <th>34</th>\n",
       "      <td>cleveland_l1</td>\n",
       "      <td>1.122251e+01</td>\n",
       "      <td>Distances to Top 10 Oncology Hospitals</td>\n",
       "      <td>NaN</td>\n",
       "      <td>NaN</td>\n",
       "      <td>NaN</td>\n",
       "    </tr>\n",
       "    <tr>\n",
       "      <th>35</th>\n",
       "      <td>upmcps_l2_log</td>\n",
       "      <td>1.701284e+01</td>\n",
       "      <td>Distances to Top 10 Oncology Hospitals</td>\n",
       "      <td>NaN</td>\n",
       "      <td>NaN</td>\n",
       "      <td>NaN</td>\n",
       "    </tr>\n",
       "    <tr>\n",
       "      <th>36</th>\n",
       "      <td>dfb_l1</td>\n",
       "      <td>2.138701e+01</td>\n",
       "      <td>Distances to Top 10 Oncology Hospitals</td>\n",
       "      <td>NaN</td>\n",
       "      <td>NaN</td>\n",
       "      <td>NaN</td>\n",
       "    </tr>\n",
       "    <tr>\n",
       "      <th>37</th>\n",
       "      <td>mgs_l1_log</td>\n",
       "      <td>4.448588e+01</td>\n",
       "      <td>Distances to Top 10 Oncology Hospitals</td>\n",
       "      <td>NaN</td>\n",
       "      <td>NaN</td>\n",
       "      <td>NaN</td>\n",
       "    </tr>\n",
       "    <tr>\n",
       "      <th>38</th>\n",
       "      <td>dfb_l2</td>\n",
       "      <td>7.126583e+01</td>\n",
       "      <td>Distances to Top 10 Oncology Hospitals</td>\n",
       "      <td>NaN</td>\n",
       "      <td>NaN</td>\n",
       "      <td>NaN</td>\n",
       "    </tr>\n",
       "    <tr>\n",
       "      <th>39</th>\n",
       "      <td>PctNoHS18_24</td>\n",
       "      <td>1.135149e-02</td>\n",
       "      <td>Education</td>\n",
       "      <td>9.344954e-01</td>\n",
       "      <td>6.498629e-04</td>\n",
       "      <td>NaN</td>\n",
       "    </tr>\n",
       "    <tr>\n",
       "      <th>40</th>\n",
       "      <td>PctHS25_Over_sqrd</td>\n",
       "      <td>1.869830e-02</td>\n",
       "      <td>Education</td>\n",
       "      <td>NaN</td>\n",
       "      <td>NaN</td>\n",
       "      <td>NaN</td>\n",
       "    </tr>\n",
       "    <tr>\n",
       "      <th>41</th>\n",
       "      <td>PctBachDeg18_24</td>\n",
       "      <td>1.619434e-01</td>\n",
       "      <td>Education</td>\n",
       "      <td>NaN</td>\n",
       "      <td>NaN</td>\n",
       "      <td>NaN</td>\n",
       "    </tr>\n",
       "    <tr>\n",
       "      <th>42</th>\n",
       "      <td>PctSomeCol18_24</td>\n",
       "      <td>2.494795e-01</td>\n",
       "      <td>Education</td>\n",
       "      <td>NaN</td>\n",
       "      <td>NaN</td>\n",
       "      <td>NaN</td>\n",
       "    </tr>\n",
       "    <tr>\n",
       "      <th>43</th>\n",
       "      <td>PctBachDeg25_Over</td>\n",
       "      <td>4.930227e-01</td>\n",
       "      <td>Education</td>\n",
       "      <td>NaN</td>\n",
       "      <td>NaN</td>\n",
       "      <td>NaN</td>\n",
       "    </tr>\n",
       "    <tr>\n",
       "      <th>44</th>\n",
       "      <td>PctEmployed16_Over_sqrd</td>\n",
       "      <td>2.995869e-02</td>\n",
       "      <td>Employment</td>\n",
       "      <td>1.790471e+02</td>\n",
       "      <td>1.245122e-01</td>\n",
       "      <td>NaN</td>\n",
       "    </tr>\n",
       "    <tr>\n",
       "      <th>45</th>\n",
       "      <td>PctEmployed16_Over_log</td>\n",
       "      <td>1.790171e+02</td>\n",
       "      <td>Employment</td>\n",
       "      <td>NaN</td>\n",
       "      <td>NaN</td>\n",
       "      <td>NaN</td>\n",
       "    </tr>\n",
       "    <tr>\n",
       "      <th>46</th>\n",
       "      <td>sc_min_dists_l1_log</td>\n",
       "      <td>3.624154e-01</td>\n",
       "      <td>Environmental Health</td>\n",
       "      <td>3.120683e+00</td>\n",
       "      <td>2.170173e-03</td>\n",
       "      <td>NaN</td>\n",
       "    </tr>\n",
       "    <tr>\n",
       "      <th>47</th>\n",
       "      <td>sc_min_dists_l1</td>\n",
       "      <td>2.758268e+00</td>\n",
       "      <td>Environmental Health</td>\n",
       "      <td>NaN</td>\n",
       "      <td>NaN</td>\n",
       "      <td>NaN</td>\n",
       "    </tr>\n",
       "    <tr>\n",
       "      <th>48</th>\n",
       "      <td>household_lt_1</td>\n",
       "      <td>5.152421e-01</td>\n",
       "      <td>Erroneous data indicator</td>\n",
       "      <td>5.152421e-01</td>\n",
       "      <td>3.583075e-04</td>\n",
       "      <td>NaN</td>\n",
       "    </tr>\n",
       "    <tr>\n",
       "      <th>49</th>\n",
       "      <td>PCH_FMRKT_09_13_sqrd</td>\n",
       "      <td>1.514347e-06</td>\n",
       "      <td>Food Environment</td>\n",
       "      <td>1.418418e+01</td>\n",
       "      <td>9.863905e-03</td>\n",
       "      <td>NaN</td>\n",
       "    </tr>\n",
       "    <tr>\n",
       "      <th>50</th>\n",
       "      <td>ORCHARD_ACRES07</td>\n",
       "      <td>1.299029e-05</td>\n",
       "      <td>Food Environment</td>\n",
       "      <td>NaN</td>\n",
       "      <td>NaN</td>\n",
       "      <td>NaN</td>\n",
       "    </tr>\n",
       "    <tr>\n",
       "      <th>51</th>\n",
       "      <td>FRESHVEG_ACRES07</td>\n",
       "      <td>1.542954e-04</td>\n",
       "      <td>Food Environment</td>\n",
       "      <td>NaN</td>\n",
       "      <td>NaN</td>\n",
       "      <td>NaN</td>\n",
       "    </tr>\n",
       "    <tr>\n",
       "      <th>52</th>\n",
       "      <td>BERRY_ACRES07</td>\n",
       "      <td>2.977239e-04</td>\n",
       "      <td>Food Environment</td>\n",
       "      <td>NaN</td>\n",
       "      <td>NaN</td>\n",
       "      <td>NaN</td>\n",
       "    </tr>\n",
       "    <tr>\n",
       "      <th>53</th>\n",
       "      <td>GHVEG_SQFTPTH07</td>\n",
       "      <td>4.690972e-04</td>\n",
       "      <td>Food Environment</td>\n",
       "      <td>NaN</td>\n",
       "      <td>NaN</td>\n",
       "      <td>NaN</td>\n",
       "    </tr>\n",
       "    <tr>\n",
       "      <th>54</th>\n",
       "      <td>PCT_LACCESS_HHNV10_sqrd</td>\n",
       "      <td>8.738673e-04</td>\n",
       "      <td>Food Environment</td>\n",
       "      <td>NaN</td>\n",
       "      <td>NaN</td>\n",
       "      <td>NaN</td>\n",
       "    </tr>\n",
       "    <tr>\n",
       "      <th>55</th>\n",
       "      <td>PCT_FMRKT_SFMNP13</td>\n",
       "      <td>2.055403e-03</td>\n",
       "      <td>Food Environment</td>\n",
       "      <td>NaN</td>\n",
       "      <td>NaN</td>\n",
       "      <td>NaN</td>\n",
       "    </tr>\n",
       "    <tr>\n",
       "      <th>56</th>\n",
       "      <td>ORCHARD_ACRESPTH07</td>\n",
       "      <td>4.739862e-03</td>\n",
       "      <td>Food Environment</td>\n",
       "      <td>NaN</td>\n",
       "      <td>NaN</td>\n",
       "      <td>NaN</td>\n",
       "    </tr>\n",
       "    <tr>\n",
       "      <th>57</th>\n",
       "      <td>VEG_ACRESPTH07</td>\n",
       "      <td>5.775185e-03</td>\n",
       "      <td>Food Environment</td>\n",
       "      <td>NaN</td>\n",
       "      <td>NaN</td>\n",
       "      <td>NaN</td>\n",
       "    </tr>\n",
       "    <tr>\n",
       "      <th>58</th>\n",
       "      <td>PCT_FRMKT_FRVEG13</td>\n",
       "      <td>1.566592e-02</td>\n",
       "      <td>Food Environment</td>\n",
       "      <td>NaN</td>\n",
       "      <td>NaN</td>\n",
       "      <td>NaN</td>\n",
       "    </tr>\n",
       "    <tr>\n",
       "      <th>59</th>\n",
       "      <td>PCT_LACCESS_SENIORS10</td>\n",
       "      <td>2.431128e-02</td>\n",
       "      <td>Food Environment</td>\n",
       "      <td>NaN</td>\n",
       "      <td>NaN</td>\n",
       "      <td>NaN</td>\n",
       "    </tr>\n",
       "    <tr>\n",
       "      <th>60</th>\n",
       "      <td>PCT_FMRKT_SNAP13</td>\n",
       "      <td>2.905792e-02</td>\n",
       "      <td>Food Environment</td>\n",
       "      <td>NaN</td>\n",
       "      <td>NaN</td>\n",
       "      <td>NaN</td>\n",
       "    </tr>\n",
       "    <tr>\n",
       "      <th>61</th>\n",
       "      <td>CSA07</td>\n",
       "      <td>2.974975e-02</td>\n",
       "      <td>Food Environment</td>\n",
       "      <td>NaN</td>\n",
       "      <td>NaN</td>\n",
       "      <td>NaN</td>\n",
       "    </tr>\n",
       "    <tr>\n",
       "      <th>62</th>\n",
       "      <td>VEG_FARMS07</td>\n",
       "      <td>3.041331e-02</td>\n",
       "      <td>Food Environment</td>\n",
       "      <td>NaN</td>\n",
       "      <td>NaN</td>\n",
       "      <td>NaN</td>\n",
       "    </tr>\n",
       "    <tr>\n",
       "      <th>63</th>\n",
       "      <td>PCT_LACCESS_LOWI10</td>\n",
       "      <td>4.034600e-02</td>\n",
       "      <td>Food Environment</td>\n",
       "      <td>NaN</td>\n",
       "      <td>NaN</td>\n",
       "      <td>NaN</td>\n",
       "    </tr>\n",
       "    <tr>\n",
       "      <th>64</th>\n",
       "      <td>FOODHUB12</td>\n",
       "      <td>1.222226e-01</td>\n",
       "      <td>Food Environment</td>\n",
       "      <td>NaN</td>\n",
       "      <td>NaN</td>\n",
       "      <td>NaN</td>\n",
       "    </tr>\n",
       "    <tr>\n",
       "      <th>65</th>\n",
       "      <td>PC_DIRSALES07</td>\n",
       "      <td>1.262541e-01</td>\n",
       "      <td>Food Environment</td>\n",
       "      <td>NaN</td>\n",
       "      <td>NaN</td>\n",
       "      <td>NaN</td>\n",
       "    </tr>\n",
       "    <tr>\n",
       "      <th>66</th>\n",
       "      <td>PCH_FMRKT_09_13</td>\n",
       "      <td>1.540977e-01</td>\n",
       "      <td>Food Environment</td>\n",
       "      <td>NaN</td>\n",
       "      <td>NaN</td>\n",
       "      <td>NaN</td>\n",
       "    </tr>\n",
       "    <tr>\n",
       "      <th>67</th>\n",
       "      <td>FMRKT13</td>\n",
       "      <td>2.136960e-01</td>\n",
       "      <td>Food Environment</td>\n",
       "      <td>NaN</td>\n",
       "      <td>NaN</td>\n",
       "      <td>NaN</td>\n",
       "    </tr>\n",
       "    <tr>\n",
       "      <th>68</th>\n",
       "      <td>SLHOUSE07</td>\n",
       "      <td>2.509109e-01</td>\n",
       "      <td>Food Environment</td>\n",
       "      <td>NaN</td>\n",
       "      <td>NaN</td>\n",
       "      <td>NaN</td>\n",
       "    </tr>\n",
       "    <tr>\n",
       "      <th>69</th>\n",
       "      <td>FOODINSEC_07_09</td>\n",
       "      <td>3.734221e-01</td>\n",
       "      <td>Food Environment</td>\n",
       "      <td>NaN</td>\n",
       "      <td>NaN</td>\n",
       "      <td>NaN</td>\n",
       "    </tr>\n",
       "    <tr>\n",
       "      <th>70</th>\n",
       "      <td>PCT_LACCESS_CHILD10</td>\n",
       "      <td>6.227237e-01</td>\n",
       "      <td>Food Environment</td>\n",
       "      <td>NaN</td>\n",
       "      <td>NaN</td>\n",
       "      <td>NaN</td>\n",
       "    </tr>\n",
       "    <tr>\n",
       "      <th>71</th>\n",
       "      <td>CH_VLFOODSEC_09_12</td>\n",
       "      <td>7.572460e-01</td>\n",
       "      <td>Food Environment</td>\n",
       "      <td>NaN</td>\n",
       "      <td>NaN</td>\n",
       "      <td>NaN</td>\n",
       "    </tr>\n",
       "    <tr>\n",
       "      <th>72</th>\n",
       "      <td>VLFOODSEC_00_02</td>\n",
       "      <td>8.751875e-01</td>\n",
       "      <td>Food Environment</td>\n",
       "      <td>NaN</td>\n",
       "      <td>NaN</td>\n",
       "      <td>NaN</td>\n",
       "    </tr>\n",
       "    <tr>\n",
       "      <th>73</th>\n",
       "      <td>FOODINSEC_CHILD_03_11</td>\n",
       "      <td>1.692835e+00</td>\n",
       "      <td>Food Environment</td>\n",
       "      <td>NaN</td>\n",
       "      <td>NaN</td>\n",
       "      <td>NaN</td>\n",
       "    </tr>\n",
       "    <tr>\n",
       "      <th>74</th>\n",
       "      <td>FARM_TO_SCHOOL</td>\n",
       "      <td>3.277520e+00</td>\n",
       "      <td>Food Environment</td>\n",
       "      <td>NaN</td>\n",
       "      <td>NaN</td>\n",
       "      <td>NaN</td>\n",
       "    </tr>\n",
       "    <tr>\n",
       "      <th>75</th>\n",
       "      <td>FMRKTPTH13</td>\n",
       "      <td>5.534143e+00</td>\n",
       "      <td>Food Environment</td>\n",
       "      <td>NaN</td>\n",
       "      <td>NaN</td>\n",
       "      <td>NaN</td>\n",
       "    </tr>\n",
       "    <tr>\n",
       "      <th>76</th>\n",
       "      <td>AWATER_SQMI</td>\n",
       "      <td>2.433043e-03</td>\n",
       "      <td>Geography</td>\n",
       "      <td>2.433043e-03</td>\n",
       "      <td>1.691977e-06</td>\n",
       "      <td>NaN</td>\n",
       "    </tr>\n",
       "    <tr>\n",
       "      <th>77</th>\n",
       "      <td>PctPublicCoverageAlone</td>\n",
       "      <td>4.734840e-01</td>\n",
       "      <td>Health Insurance</td>\n",
       "      <td>6.591918e+01</td>\n",
       "      <td>4.584124e-02</td>\n",
       "      <td>NaN</td>\n",
       "    </tr>\n",
       "    <tr>\n",
       "      <th>78</th>\n",
       "      <td>PctPublicCoverage</td>\n",
       "      <td>1.238955e+00</td>\n",
       "      <td>Health Insurance</td>\n",
       "      <td>NaN</td>\n",
       "      <td>NaN</td>\n",
       "      <td>NaN</td>\n",
       "    </tr>\n",
       "    <tr>\n",
       "      <th>79</th>\n",
       "      <td>PctPrivateCoverage</td>\n",
       "      <td>4.395087e+00</td>\n",
       "      <td>Health Insurance</td>\n",
       "      <td>NaN</td>\n",
       "      <td>NaN</td>\n",
       "      <td>NaN</td>\n",
       "    </tr>\n",
       "    <tr>\n",
       "      <th>80</th>\n",
       "      <td>PctPublicCoverageAlone_log</td>\n",
       "      <td>1.592917e+01</td>\n",
       "      <td>Health Insurance</td>\n",
       "      <td>NaN</td>\n",
       "      <td>NaN</td>\n",
       "      <td>NaN</td>\n",
       "    </tr>\n",
       "    <tr>\n",
       "      <th>81</th>\n",
       "      <td>PctEmpPrivCoverage_log</td>\n",
       "      <td>4.388248e+01</td>\n",
       "      <td>Health Insurance</td>\n",
       "      <td>NaN</td>\n",
       "      <td>NaN</td>\n",
       "      <td>NaN</td>\n",
       "    </tr>\n",
       "    <tr>\n",
       "      <th>82</th>\n",
       "      <td>binnedInc_(42724.4, 45201]</td>\n",
       "      <td>7.114925e-02</td>\n",
       "      <td>Income</td>\n",
       "      <td>8.101907e+00</td>\n",
       "      <td>5.634194e-03</td>\n",
       "      <td>NaN</td>\n",
       "    </tr>\n",
       "    <tr>\n",
       "      <th>83</th>\n",
       "      <td>binnedInc_(61494.5, 125635]</td>\n",
       "      <td>5.318539e-01</td>\n",
       "      <td>Income</td>\n",
       "      <td>NaN</td>\n",
       "      <td>NaN</td>\n",
       "      <td>NaN</td>\n",
       "    </tr>\n",
       "    <tr>\n",
       "      <th>84</th>\n",
       "      <td>binnedInc_(45201, 48021.6]</td>\n",
       "      <td>5.724296e-01</td>\n",
       "      <td>Income</td>\n",
       "      <td>NaN</td>\n",
       "      <td>NaN</td>\n",
       "      <td>NaN</td>\n",
       "    </tr>\n",
       "    <tr>\n",
       "      <th>85</th>\n",
       "      <td>binnedInc_(40362.7, 42724.4]</td>\n",
       "      <td>1.393742e+00</td>\n",
       "      <td>Income</td>\n",
       "      <td>NaN</td>\n",
       "      <td>NaN</td>\n",
       "      <td>NaN</td>\n",
       "    </tr>\n",
       "    <tr>\n",
       "      <th>86</th>\n",
       "      <td>binnedInc_(54545.6, 61494.5]</td>\n",
       "      <td>1.665081e+00</td>\n",
       "      <td>Income</td>\n",
       "      <td>NaN</td>\n",
       "      <td>NaN</td>\n",
       "      <td>NaN</td>\n",
       "    </tr>\n",
       "    <tr>\n",
       "      <th>87</th>\n",
       "      <td>binnedInc_(51046.4, 54545.6]</td>\n",
       "      <td>1.910403e+00</td>\n",
       "      <td>Income</td>\n",
       "      <td>NaN</td>\n",
       "      <td>NaN</td>\n",
       "      <td>NaN</td>\n",
       "    </tr>\n",
       "    <tr>\n",
       "      <th>88</th>\n",
       "      <td>binnedInc_(48021.6, 51046.4]</td>\n",
       "      <td>1.957248e+00</td>\n",
       "      <td>Income</td>\n",
       "      <td>NaN</td>\n",
       "      <td>NaN</td>\n",
       "      <td>NaN</td>\n",
       "    </tr>\n",
       "    <tr>\n",
       "      <th>89</th>\n",
       "      <td>INTPTLONG_sqrd</td>\n",
       "      <td>7.540460e-02</td>\n",
       "      <td>Latitude Longitude</td>\n",
       "      <td>3.058947e+01</td>\n",
       "      <td>2.127240e-02</td>\n",
       "      <td>NaN</td>\n",
       "    </tr>\n",
       "    <tr>\n",
       "      <th>90</th>\n",
       "      <td>INTPTLAT</td>\n",
       "      <td>3.772941e+00</td>\n",
       "      <td>Latitude Longitude</td>\n",
       "      <td>NaN</td>\n",
       "      <td>NaN</td>\n",
       "      <td>NaN</td>\n",
       "    </tr>\n",
       "    <tr>\n",
       "      <th>91</th>\n",
       "      <td>INTPTLONG</td>\n",
       "      <td>2.674112e+01</td>\n",
       "      <td>Latitude Longitude</td>\n",
       "      <td>NaN</td>\n",
       "      <td>NaN</td>\n",
       "      <td>NaN</td>\n",
       "    </tr>\n",
       "    <tr>\n",
       "      <th>92</th>\n",
       "      <td>PercentMarried_sqrd</td>\n",
       "      <td>1.217146e-02</td>\n",
       "      <td>Marital feature</td>\n",
       "      <td>2.921905e+01</td>\n",
       "      <td>2.031939e-02</td>\n",
       "      <td>NaN</td>\n",
       "    </tr>\n",
       "    <tr>\n",
       "      <th>93</th>\n",
       "      <td>PctMarriedHouseholds</td>\n",
       "      <td>8.179308e-01</td>\n",
       "      <td>Marital feature</td>\n",
       "      <td>NaN</td>\n",
       "      <td>NaN</td>\n",
       "      <td>NaN</td>\n",
       "    </tr>\n",
       "    <tr>\n",
       "      <th>94</th>\n",
       "      <td>PercentMarried_log</td>\n",
       "      <td>2.838895e+01</td>\n",
       "      <td>Marital feature</td>\n",
       "      <td>NaN</td>\n",
       "      <td>NaN</td>\n",
       "      <td>NaN</td>\n",
       "    </tr>\n",
       "    <tr>\n",
       "      <th>95</th>\n",
       "      <td>VLFOODSEC_10_12_isnull</td>\n",
       "      <td>1.442359e-03</td>\n",
       "      <td>Missing Value Feature</td>\n",
       "      <td>3.873179e+01</td>\n",
       "      <td>2.693470e-02</td>\n",
       "      <td>NaN</td>\n",
       "    </tr>\n",
       "    <tr>\n",
       "      <th>96</th>\n",
       "      <td>VLFOODSEC_00_02_isnull</td>\n",
       "      <td>1.442359e-03</td>\n",
       "      <td>Missing Value Feature</td>\n",
       "      <td>NaN</td>\n",
       "      <td>NaN</td>\n",
       "      <td>NaN</td>\n",
       "    </tr>\n",
       "    <tr>\n",
       "      <th>97</th>\n",
       "      <td>VLFOODSEC_07_09_isnull</td>\n",
       "      <td>1.442359e-03</td>\n",
       "      <td>Missing Value Feature</td>\n",
       "      <td>NaN</td>\n",
       "      <td>NaN</td>\n",
       "      <td>NaN</td>\n",
       "    </tr>\n",
       "    <tr>\n",
       "      <th>98</th>\n",
       "      <td>CH_FOODINSEC_09_12_isnull</td>\n",
       "      <td>1.442359e-03</td>\n",
       "      <td>Missing Value Feature</td>\n",
       "      <td>NaN</td>\n",
       "      <td>NaN</td>\n",
       "      <td>NaN</td>\n",
       "    </tr>\n",
       "    <tr>\n",
       "      <th>99</th>\n",
       "      <td>FOODINSEC_CHILD_03_11_isnull</td>\n",
       "      <td>1.442359e-03</td>\n",
       "      <td>Missing Value Feature</td>\n",
       "      <td>NaN</td>\n",
       "      <td>NaN</td>\n",
       "      <td>NaN</td>\n",
       "    </tr>\n",
       "    <tr>\n",
       "      <th>100</th>\n",
       "      <td>FOODINSEC_CHILD_01_07_isnull</td>\n",
       "      <td>1.442359e-03</td>\n",
       "      <td>Missing Value Feature</td>\n",
       "      <td>NaN</td>\n",
       "      <td>NaN</td>\n",
       "      <td>NaN</td>\n",
       "    </tr>\n",
       "    <tr>\n",
       "      <th>101</th>\n",
       "      <td>CH_VLFOODSEC_09_12_isnull</td>\n",
       "      <td>1.442359e-03</td>\n",
       "      <td>Missing Value Feature</td>\n",
       "      <td>NaN</td>\n",
       "      <td>NaN</td>\n",
       "      <td>NaN</td>\n",
       "    </tr>\n",
       "    <tr>\n",
       "      <th>102</th>\n",
       "      <td>CH_VLFOODSEC_02_12_isnull</td>\n",
       "      <td>1.442359e-03</td>\n",
       "      <td>Missing Value Feature</td>\n",
       "      <td>NaN</td>\n",
       "      <td>NaN</td>\n",
       "      <td>NaN</td>\n",
       "    </tr>\n",
       "    <tr>\n",
       "      <th>103</th>\n",
       "      <td>FOODINSEC_10_12_isnull</td>\n",
       "      <td>1.442360e-03</td>\n",
       "      <td>Missing Value Feature</td>\n",
       "      <td>NaN</td>\n",
       "      <td>NaN</td>\n",
       "      <td>NaN</td>\n",
       "    </tr>\n",
       "    <tr>\n",
       "      <th>104</th>\n",
       "      <td>FOODINSEC_07_09_isnull</td>\n",
       "      <td>1.442360e-03</td>\n",
       "      <td>Missing Value Feature</td>\n",
       "      <td>NaN</td>\n",
       "      <td>NaN</td>\n",
       "      <td>NaN</td>\n",
       "    </tr>\n",
       "    <tr>\n",
       "      <th>105</th>\n",
       "      <td>CH_FOODINSEC_02_12_isnull</td>\n",
       "      <td>1.442360e-03</td>\n",
       "      <td>Missing Value Feature</td>\n",
       "      <td>NaN</td>\n",
       "      <td>NaN</td>\n",
       "      <td>NaN</td>\n",
       "    </tr>\n",
       "    <tr>\n",
       "      <th>106</th>\n",
       "      <td>FOODINSEC_00_02_isnull</td>\n",
       "      <td>1.442360e-03</td>\n",
       "      <td>Missing Value Feature</td>\n",
       "      <td>NaN</td>\n",
       "      <td>NaN</td>\n",
       "      <td>NaN</td>\n",
       "    </tr>\n",
       "    <tr>\n",
       "      <th>107</th>\n",
       "      <td>BERRY_ACRESPTH07_isnull</td>\n",
       "      <td>1.151325e-01</td>\n",
       "      <td>Missing Value Feature</td>\n",
       "      <td>NaN</td>\n",
       "      <td>NaN</td>\n",
       "      <td>NaN</td>\n",
       "    </tr>\n",
       "    <tr>\n",
       "      <th>108</th>\n",
       "      <td>BERRY_ACRES07_isnull</td>\n",
       "      <td>1.151325e-01</td>\n",
       "      <td>Missing Value Feature</td>\n",
       "      <td>NaN</td>\n",
       "      <td>NaN</td>\n",
       "      <td>NaN</td>\n",
       "    </tr>\n",
       "    <tr>\n",
       "      <th>109</th>\n",
       "      <td>ORCHARD_ACRES07_isnull</td>\n",
       "      <td>3.085975e-01</td>\n",
       "      <td>Missing Value Feature</td>\n",
       "      <td>NaN</td>\n",
       "      <td>NaN</td>\n",
       "      <td>NaN</td>\n",
       "    </tr>\n",
       "    <tr>\n",
       "      <th>110</th>\n",
       "      <td>ORCHARD_ACRESPTH07_isnull</td>\n",
       "      <td>3.085975e-01</td>\n",
       "      <td>Missing Value Feature</td>\n",
       "      <td>NaN</td>\n",
       "      <td>NaN</td>\n",
       "      <td>NaN</td>\n",
       "    </tr>\n",
       "    <tr>\n",
       "      <th>111</th>\n",
       "      <td>GHVEG_SQFT07_isnull</td>\n",
       "      <td>4.531185e-01</td>\n",
       "      <td>Missing Value Feature</td>\n",
       "      <td>NaN</td>\n",
       "      <td>NaN</td>\n",
       "      <td>NaN</td>\n",
       "    </tr>\n",
       "    <tr>\n",
       "      <th>112</th>\n",
       "      <td>GHVEG_SQFTPTH07_isnull</td>\n",
       "      <td>4.531185e-01</td>\n",
       "      <td>Missing Value Feature</td>\n",
       "      <td>NaN</td>\n",
       "      <td>NaN</td>\n",
       "      <td>NaN</td>\n",
       "    </tr>\n",
       "    <tr>\n",
       "      <th>113</th>\n",
       "      <td>GHVEG_FARMS07_isnull</td>\n",
       "      <td>1.742495e+00</td>\n",
       "      <td>Missing Value Feature</td>\n",
       "      <td>NaN</td>\n",
       "      <td>NaN</td>\n",
       "      <td>NaN</td>\n",
       "    </tr>\n",
       "    <tr>\n",
       "      <th>114</th>\n",
       "      <td>VEG_FARMS07_isnull</td>\n",
       "      <td>1.742495e+00</td>\n",
       "      <td>Missing Value Feature</td>\n",
       "      <td>NaN</td>\n",
       "      <td>NaN</td>\n",
       "      <td>NaN</td>\n",
       "    </tr>\n",
       "    <tr>\n",
       "      <th>115</th>\n",
       "      <td>FRESHVEG_FARMS07_isnull</td>\n",
       "      <td>1.742495e+00</td>\n",
       "      <td>Missing Value Feature</td>\n",
       "      <td>NaN</td>\n",
       "      <td>NaN</td>\n",
       "      <td>NaN</td>\n",
       "    </tr>\n",
       "    <tr>\n",
       "      <th>116</th>\n",
       "      <td>ORCHARD_FARMS07_isnull</td>\n",
       "      <td>1.742495e+00</td>\n",
       "      <td>Missing Value Feature</td>\n",
       "      <td>NaN</td>\n",
       "      <td>NaN</td>\n",
       "      <td>NaN</td>\n",
       "    </tr>\n",
       "    <tr>\n",
       "      <th>117</th>\n",
       "      <td>BERRY_FARMS07_isnull</td>\n",
       "      <td>1.742495e+00</td>\n",
       "      <td>Missing Value Feature</td>\n",
       "      <td>NaN</td>\n",
       "      <td>NaN</td>\n",
       "      <td>NaN</td>\n",
       "    </tr>\n",
       "    <tr>\n",
       "      <th>118</th>\n",
       "      <td>PCT_LOCLSALE07_isnull</td>\n",
       "      <td>2.305861e+00</td>\n",
       "      <td>Missing Value Feature</td>\n",
       "      <td>NaN</td>\n",
       "      <td>NaN</td>\n",
       "      <td>NaN</td>\n",
       "    </tr>\n",
       "    <tr>\n",
       "      <th>119</th>\n",
       "      <td>PCT_LACCESS_HHNV10_isnull</td>\n",
       "      <td>8.240840e+00</td>\n",
       "      <td>Missing Value Feature</td>\n",
       "      <td>NaN</td>\n",
       "      <td>NaN</td>\n",
       "      <td>NaN</td>\n",
       "    </tr>\n",
       "    <tr>\n",
       "      <th>120</th>\n",
       "      <td>VEG_ACRES07_isnull</td>\n",
       "      <td>8.791752e+00</td>\n",
       "      <td>Missing Value Feature</td>\n",
       "      <td>NaN</td>\n",
       "      <td>NaN</td>\n",
       "      <td>NaN</td>\n",
       "    </tr>\n",
       "    <tr>\n",
       "      <th>121</th>\n",
       "      <td>PCH_OBESE_CHILD_08_11_isnull</td>\n",
       "      <td>8.909861e+00</td>\n",
       "      <td>Missing Value Feature</td>\n",
       "      <td>NaN</td>\n",
       "      <td>NaN</td>\n",
       "      <td>NaN</td>\n",
       "    </tr>\n",
       "    <tr>\n",
       "      <th>122</th>\n",
       "      <td>popEst2015</td>\n",
       "      <td>2.945975e-07</td>\n",
       "      <td>Population</td>\n",
       "      <td>2.945975e-07</td>\n",
       "      <td>2.048678e-10</td>\n",
       "      <td>NaN</td>\n",
       "    </tr>\n",
       "    <tr>\n",
       "      <th>123</th>\n",
       "      <td>povertyPercent</td>\n",
       "      <td>2.999942e+00</td>\n",
       "      <td>Poverty-related</td>\n",
       "      <td>3.256116e+01</td>\n",
       "      <td>2.264355e-02</td>\n",
       "      <td>NaN</td>\n",
       "    </tr>\n",
       "    <tr>\n",
       "      <th>124</th>\n",
       "      <td>CHILDPOVRATE10_log</td>\n",
       "      <td>2.956122e+01</td>\n",
       "      <td>Poverty-related</td>\n",
       "      <td>NaN</td>\n",
       "      <td>NaN</td>\n",
       "      <td>NaN</td>\n",
       "    </tr>\n",
       "    <tr>\n",
       "      <th>125</th>\n",
       "      <td>NATAMEN</td>\n",
       "      <td>8.239570e-01</td>\n",
       "      <td>Quality of Life</td>\n",
       "      <td>8.239570e-01</td>\n",
       "      <td>5.729927e-04</td>\n",
       "      <td>NaN</td>\n",
       "    </tr>\n",
       "    <tr>\n",
       "      <th>126</th>\n",
       "      <td>PctBlack_sqrd</td>\n",
       "      <td>1.108948e-02</td>\n",
       "      <td>Race</td>\n",
       "      <td>1.994384e+00</td>\n",
       "      <td>1.386926e-03</td>\n",
       "      <td>NaN</td>\n",
       "    </tr>\n",
       "    <tr>\n",
       "      <th>127</th>\n",
       "      <td>PctOtherRace</td>\n",
       "      <td>2.798917e-01</td>\n",
       "      <td>Race</td>\n",
       "      <td>NaN</td>\n",
       "      <td>NaN</td>\n",
       "      <td>NaN</td>\n",
       "    </tr>\n",
       "    <tr>\n",
       "      <th>128</th>\n",
       "      <td>PctAsian</td>\n",
       "      <td>3.779948e-01</td>\n",
       "      <td>Race</td>\n",
       "      <td>NaN</td>\n",
       "      <td>NaN</td>\n",
       "      <td>NaN</td>\n",
       "    </tr>\n",
       "    <tr>\n",
       "      <th>129</th>\n",
       "      <td>PctWhite</td>\n",
       "      <td>1.325408e+00</td>\n",
       "      <td>Race</td>\n",
       "      <td>NaN</td>\n",
       "      <td>NaN</td>\n",
       "      <td>NaN</td>\n",
       "    </tr>\n",
       "    <tr>\n",
       "      <th>130</th>\n",
       "      <td>RECFAC07</td>\n",
       "      <td>1.719944e-02</td>\n",
       "      <td>Recreation and Fitness</td>\n",
       "      <td>1.914880e+01</td>\n",
       "      <td>1.331638e-02</td>\n",
       "      <td>NaN</td>\n",
       "    </tr>\n",
       "    <tr>\n",
       "      <th>131</th>\n",
       "      <td>PCH_RECFAC_07_12</td>\n",
       "      <td>2.410697e-01</td>\n",
       "      <td>Recreation and Fitness</td>\n",
       "      <td>NaN</td>\n",
       "      <td>NaN</td>\n",
       "      <td>NaN</td>\n",
       "    </tr>\n",
       "    <tr>\n",
       "      <th>132</th>\n",
       "      <td>RECFACPTH07</td>\n",
       "      <td>1.889053e+01</td>\n",
       "      <td>Recreation and Fitness</td>\n",
       "      <td>NaN</td>\n",
       "      <td>NaN</td>\n",
       "      <td>NaN</td>\n",
       "    </tr>\n",
       "    <tr>\n",
       "      <th>133</th>\n",
       "      <td>State_West Virginia</td>\n",
       "      <td>1.703287e-01</td>\n",
       "      <td>State</td>\n",
       "      <td>2.446777e+02</td>\n",
       "      <td>1.701528e-01</td>\n",
       "      <td>NaN</td>\n",
       "    </tr>\n",
       "    <tr>\n",
       "      <th>134</th>\n",
       "      <td>State_Wisconsin</td>\n",
       "      <td>9.992682e-01</td>\n",
       "      <td>State</td>\n",
       "      <td>NaN</td>\n",
       "      <td>NaN</td>\n",
       "      <td>NaN</td>\n",
       "    </tr>\n",
       "    <tr>\n",
       "      <th>135</th>\n",
       "      <td>State_Maine</td>\n",
       "      <td>1.428049e+00</td>\n",
       "      <td>State</td>\n",
       "      <td>NaN</td>\n",
       "      <td>NaN</td>\n",
       "      <td>NaN</td>\n",
       "    </tr>\n",
       "    <tr>\n",
       "      <th>136</th>\n",
       "      <td>State_Georgia</td>\n",
       "      <td>1.713732e+00</td>\n",
       "      <td>State</td>\n",
       "      <td>NaN</td>\n",
       "      <td>NaN</td>\n",
       "      <td>NaN</td>\n",
       "    </tr>\n",
       "    <tr>\n",
       "      <th>137</th>\n",
       "      <td>State_New York</td>\n",
       "      <td>2.913545e+00</td>\n",
       "      <td>State</td>\n",
       "      <td>NaN</td>\n",
       "      <td>NaN</td>\n",
       "      <td>NaN</td>\n",
       "    </tr>\n",
       "    <tr>\n",
       "      <th>138</th>\n",
       "      <td>State_South Dakota</td>\n",
       "      <td>3.183380e+00</td>\n",
       "      <td>State</td>\n",
       "      <td>NaN</td>\n",
       "      <td>NaN</td>\n",
       "      <td>NaN</td>\n",
       "    </tr>\n",
       "    <tr>\n",
       "      <th>139</th>\n",
       "      <td>State_Delaware</td>\n",
       "      <td>4.402421e+00</td>\n",
       "      <td>State</td>\n",
       "      <td>NaN</td>\n",
       "      <td>NaN</td>\n",
       "      <td>NaN</td>\n",
       "    </tr>\n",
       "    <tr>\n",
       "      <th>140</th>\n",
       "      <td>State_Washington</td>\n",
       "      <td>4.545719e+00</td>\n",
       "      <td>State</td>\n",
       "      <td>NaN</td>\n",
       "      <td>NaN</td>\n",
       "      <td>NaN</td>\n",
       "    </tr>\n",
       "    <tr>\n",
       "      <th>141</th>\n",
       "      <td>State_Missouri</td>\n",
       "      <td>5.680484e+00</td>\n",
       "      <td>State</td>\n",
       "      <td>NaN</td>\n",
       "      <td>NaN</td>\n",
       "      <td>NaN</td>\n",
       "    </tr>\n",
       "    <tr>\n",
       "      <th>142</th>\n",
       "      <td>State_New Jersey</td>\n",
       "      <td>5.735148e+00</td>\n",
       "      <td>State</td>\n",
       "      <td>NaN</td>\n",
       "      <td>NaN</td>\n",
       "      <td>NaN</td>\n",
       "    </tr>\n",
       "    <tr>\n",
       "      <th>143</th>\n",
       "      <td>State_North Dakota</td>\n",
       "      <td>5.917723e+00</td>\n",
       "      <td>State</td>\n",
       "      <td>NaN</td>\n",
       "      <td>NaN</td>\n",
       "      <td>NaN</td>\n",
       "    </tr>\n",
       "    <tr>\n",
       "      <th>144</th>\n",
       "      <td>State_Nebraska</td>\n",
       "      <td>6.229377e+00</td>\n",
       "      <td>State</td>\n",
       "      <td>NaN</td>\n",
       "      <td>NaN</td>\n",
       "      <td>NaN</td>\n",
       "    </tr>\n",
       "    <tr>\n",
       "      <th>145</th>\n",
       "      <td>State_Vermont</td>\n",
       "      <td>6.351672e+00</td>\n",
       "      <td>State</td>\n",
       "      <td>NaN</td>\n",
       "      <td>NaN</td>\n",
       "      <td>NaN</td>\n",
       "    </tr>\n",
       "    <tr>\n",
       "      <th>146</th>\n",
       "      <td>State_Indiana</td>\n",
       "      <td>6.644210e+00</td>\n",
       "      <td>State</td>\n",
       "      <td>NaN</td>\n",
       "      <td>NaN</td>\n",
       "      <td>NaN</td>\n",
       "    </tr>\n",
       "    <tr>\n",
       "      <th>147</th>\n",
       "      <td>State_Minnesota</td>\n",
       "      <td>6.829018e+00</td>\n",
       "      <td>State</td>\n",
       "      <td>NaN</td>\n",
       "      <td>NaN</td>\n",
       "      <td>NaN</td>\n",
       "    </tr>\n",
       "    <tr>\n",
       "      <th>148</th>\n",
       "      <td>State_Montana</td>\n",
       "      <td>7.935563e+00</td>\n",
       "      <td>State</td>\n",
       "      <td>NaN</td>\n",
       "      <td>NaN</td>\n",
       "      <td>NaN</td>\n",
       "    </tr>\n",
       "    <tr>\n",
       "      <th>149</th>\n",
       "      <td>State_Pennsylvania</td>\n",
       "      <td>8.728011e+00</td>\n",
       "      <td>State</td>\n",
       "      <td>NaN</td>\n",
       "      <td>NaN</td>\n",
       "      <td>NaN</td>\n",
       "    </tr>\n",
       "    <tr>\n",
       "      <th>150</th>\n",
       "      <td>State_Idaho</td>\n",
       "      <td>9.672172e+00</td>\n",
       "      <td>State</td>\n",
       "      <td>NaN</td>\n",
       "      <td>NaN</td>\n",
       "      <td>NaN</td>\n",
       "    </tr>\n",
       "    <tr>\n",
       "      <th>151</th>\n",
       "      <td>State_New Hampshire</td>\n",
       "      <td>1.034052e+01</td>\n",
       "      <td>State</td>\n",
       "      <td>NaN</td>\n",
       "      <td>NaN</td>\n",
       "      <td>NaN</td>\n",
       "    </tr>\n",
       "    <tr>\n",
       "      <th>152</th>\n",
       "      <td>State_Michigan</td>\n",
       "      <td>1.065116e+01</td>\n",
       "      <td>State</td>\n",
       "      <td>NaN</td>\n",
       "      <td>NaN</td>\n",
       "      <td>NaN</td>\n",
       "    </tr>\n",
       "    <tr>\n",
       "      <th>153</th>\n",
       "      <td>State_Ohio</td>\n",
       "      <td>1.260597e+01</td>\n",
       "      <td>State</td>\n",
       "      <td>NaN</td>\n",
       "      <td>NaN</td>\n",
       "      <td>NaN</td>\n",
       "    </tr>\n",
       "    <tr>\n",
       "      <th>154</th>\n",
       "      <td>State_North Carolina</td>\n",
       "      <td>1.370977e+01</td>\n",
       "      <td>State</td>\n",
       "      <td>NaN</td>\n",
       "      <td>NaN</td>\n",
       "      <td>NaN</td>\n",
       "    </tr>\n",
       "    <tr>\n",
       "      <th>155</th>\n",
       "      <td>State_Illinois</td>\n",
       "      <td>1.383722e+01</td>\n",
       "      <td>State</td>\n",
       "      <td>NaN</td>\n",
       "      <td>NaN</td>\n",
       "      <td>NaN</td>\n",
       "    </tr>\n",
       "    <tr>\n",
       "      <th>156</th>\n",
       "      <td>State_Iowa</td>\n",
       "      <td>1.519923e+01</td>\n",
       "      <td>State</td>\n",
       "      <td>NaN</td>\n",
       "      <td>NaN</td>\n",
       "      <td>NaN</td>\n",
       "    </tr>\n",
       "    <tr>\n",
       "      <th>157</th>\n",
       "      <td>State_Connecticut</td>\n",
       "      <td>1.719479e+01</td>\n",
       "      <td>State</td>\n",
       "      <td>NaN</td>\n",
       "      <td>NaN</td>\n",
       "      <td>NaN</td>\n",
       "    </tr>\n",
       "    <tr>\n",
       "      <th>158</th>\n",
       "      <td>State_Rhode Island</td>\n",
       "      <td>1.900081e+01</td>\n",
       "      <td>State</td>\n",
       "      <td>NaN</td>\n",
       "      <td>NaN</td>\n",
       "      <td>NaN</td>\n",
       "    </tr>\n",
       "    <tr>\n",
       "      <th>159</th>\n",
       "      <td>State_Hawaii</td>\n",
       "      <td>4.305845e+01</td>\n",
       "      <td>State</td>\n",
       "      <td>NaN</td>\n",
       "      <td>NaN</td>\n",
       "      <td>NaN</td>\n",
       "    </tr>\n",
       "  </tbody>\n",
       "</table>\n",
       "</div>"
      ],
      "text/plain": [
       "                         Features  Negative coefficients  \\\n",
       "0            MedianAgeFemale_sqrd           1.976851e-02   \n",
       "1                   MedianAgeMale           5.903435e-01   \n",
       "2                   MedianAge_log           2.380979e+01   \n",
       "3                AvgHouseholdSize           6.493734e+00   \n",
       "4                       BirthRate           6.189144e-01   \n",
       "5                     avgAnnCount           3.311788e-03   \n",
       "6         PCT_OBESE_ADULTS13_sqrd           5.482629e-02   \n",
       "7              PCT_OBESE_ADULTS09           1.131211e-01   \n",
       "8           PCT_DIABETES_ADULTS10           3.510315e-01   \n",
       "9               PCT_OBESE_CHILD08           7.469103e-01   \n",
       "10          PCH_OBESE_CHILD_08_11           7.628174e-01   \n",
       "11                los_ang_l1_sqrd           3.522171e-02   \n",
       "12                     los_ang_l1           2.396801e-01   \n",
       "13                      dallas_l2           3.337654e-01   \n",
       "14                     atlanta_l1           1.634843e+00   \n",
       "15                      denver_l1           1.881121e+00   \n",
       "16                         nyc_l1           2.303114e+00   \n",
       "17                    san_fran_l1           2.330910e+00   \n",
       "18                     seattle_l1           3.062198e+00   \n",
       "19               city_min_distsl1           4.118785e+00   \n",
       "20                 atlanta_l2_log           1.320177e+01   \n",
       "21                         chi_l1           5.093429e+01   \n",
       "22                         nyc_l2           1.233645e+02   \n",
       "23                         chi_l2           3.386405e+02   \n",
       "24                   mayo_l1_sqrd           4.969637e-02   \n",
       "25                        mayo_l2           1.510548e-01   \n",
       "26                    dfb_l1_sqrd           3.641726e-01   \n",
       "27                       hlmcc_l2           8.288755e-01   \n",
       "28                 hopkins_l2_log           1.077532e+00   \n",
       "29                       utmda_l1           1.859364e+00   \n",
       "30                    mayo_l1_log           1.992774e+00   \n",
       "31                onc_min_distsl2           2.324078e+00   \n",
       "32                     dfb_l1_log           7.652371e+00   \n",
       "33                   cleveland_l2           1.109783e+01   \n",
       "34                   cleveland_l1           1.122251e+01   \n",
       "35                  upmcps_l2_log           1.701284e+01   \n",
       "36                         dfb_l1           2.138701e+01   \n",
       "37                     mgs_l1_log           4.448588e+01   \n",
       "38                         dfb_l2           7.126583e+01   \n",
       "39                   PctNoHS18_24           1.135149e-02   \n",
       "40              PctHS25_Over_sqrd           1.869830e-02   \n",
       "41                PctBachDeg18_24           1.619434e-01   \n",
       "42                PctSomeCol18_24           2.494795e-01   \n",
       "43              PctBachDeg25_Over           4.930227e-01   \n",
       "44        PctEmployed16_Over_sqrd           2.995869e-02   \n",
       "45         PctEmployed16_Over_log           1.790171e+02   \n",
       "46            sc_min_dists_l1_log           3.624154e-01   \n",
       "47                sc_min_dists_l1           2.758268e+00   \n",
       "48                 household_lt_1           5.152421e-01   \n",
       "49           PCH_FMRKT_09_13_sqrd           1.514347e-06   \n",
       "50                ORCHARD_ACRES07           1.299029e-05   \n",
       "51               FRESHVEG_ACRES07           1.542954e-04   \n",
       "52                  BERRY_ACRES07           2.977239e-04   \n",
       "53                GHVEG_SQFTPTH07           4.690972e-04   \n",
       "54        PCT_LACCESS_HHNV10_sqrd           8.738673e-04   \n",
       "55              PCT_FMRKT_SFMNP13           2.055403e-03   \n",
       "56             ORCHARD_ACRESPTH07           4.739862e-03   \n",
       "57                 VEG_ACRESPTH07           5.775185e-03   \n",
       "58              PCT_FRMKT_FRVEG13           1.566592e-02   \n",
       "59          PCT_LACCESS_SENIORS10           2.431128e-02   \n",
       "60               PCT_FMRKT_SNAP13           2.905792e-02   \n",
       "61                          CSA07           2.974975e-02   \n",
       "62                    VEG_FARMS07           3.041331e-02   \n",
       "63             PCT_LACCESS_LOWI10           4.034600e-02   \n",
       "64                      FOODHUB12           1.222226e-01   \n",
       "65                  PC_DIRSALES07           1.262541e-01   \n",
       "66                PCH_FMRKT_09_13           1.540977e-01   \n",
       "67                        FMRKT13           2.136960e-01   \n",
       "68                      SLHOUSE07           2.509109e-01   \n",
       "69                FOODINSEC_07_09           3.734221e-01   \n",
       "70            PCT_LACCESS_CHILD10           6.227237e-01   \n",
       "71             CH_VLFOODSEC_09_12           7.572460e-01   \n",
       "72                VLFOODSEC_00_02           8.751875e-01   \n",
       "73          FOODINSEC_CHILD_03_11           1.692835e+00   \n",
       "74                 FARM_TO_SCHOOL           3.277520e+00   \n",
       "75                     FMRKTPTH13           5.534143e+00   \n",
       "76                    AWATER_SQMI           2.433043e-03   \n",
       "77         PctPublicCoverageAlone           4.734840e-01   \n",
       "78              PctPublicCoverage           1.238955e+00   \n",
       "79             PctPrivateCoverage           4.395087e+00   \n",
       "80     PctPublicCoverageAlone_log           1.592917e+01   \n",
       "81         PctEmpPrivCoverage_log           4.388248e+01   \n",
       "82     binnedInc_(42724.4, 45201]           7.114925e-02   \n",
       "83    binnedInc_(61494.5, 125635]           5.318539e-01   \n",
       "84     binnedInc_(45201, 48021.6]           5.724296e-01   \n",
       "85   binnedInc_(40362.7, 42724.4]           1.393742e+00   \n",
       "86   binnedInc_(54545.6, 61494.5]           1.665081e+00   \n",
       "87   binnedInc_(51046.4, 54545.6]           1.910403e+00   \n",
       "88   binnedInc_(48021.6, 51046.4]           1.957248e+00   \n",
       "89                 INTPTLONG_sqrd           7.540460e-02   \n",
       "90                       INTPTLAT           3.772941e+00   \n",
       "91                      INTPTLONG           2.674112e+01   \n",
       "92            PercentMarried_sqrd           1.217146e-02   \n",
       "93           PctMarriedHouseholds           8.179308e-01   \n",
       "94             PercentMarried_log           2.838895e+01   \n",
       "95         VLFOODSEC_10_12_isnull           1.442359e-03   \n",
       "96         VLFOODSEC_00_02_isnull           1.442359e-03   \n",
       "97         VLFOODSEC_07_09_isnull           1.442359e-03   \n",
       "98      CH_FOODINSEC_09_12_isnull           1.442359e-03   \n",
       "99   FOODINSEC_CHILD_03_11_isnull           1.442359e-03   \n",
       "100  FOODINSEC_CHILD_01_07_isnull           1.442359e-03   \n",
       "101     CH_VLFOODSEC_09_12_isnull           1.442359e-03   \n",
       "102     CH_VLFOODSEC_02_12_isnull           1.442359e-03   \n",
       "103        FOODINSEC_10_12_isnull           1.442360e-03   \n",
       "104        FOODINSEC_07_09_isnull           1.442360e-03   \n",
       "105     CH_FOODINSEC_02_12_isnull           1.442360e-03   \n",
       "106        FOODINSEC_00_02_isnull           1.442360e-03   \n",
       "107       BERRY_ACRESPTH07_isnull           1.151325e-01   \n",
       "108          BERRY_ACRES07_isnull           1.151325e-01   \n",
       "109        ORCHARD_ACRES07_isnull           3.085975e-01   \n",
       "110     ORCHARD_ACRESPTH07_isnull           3.085975e-01   \n",
       "111           GHVEG_SQFT07_isnull           4.531185e-01   \n",
       "112        GHVEG_SQFTPTH07_isnull           4.531185e-01   \n",
       "113          GHVEG_FARMS07_isnull           1.742495e+00   \n",
       "114            VEG_FARMS07_isnull           1.742495e+00   \n",
       "115       FRESHVEG_FARMS07_isnull           1.742495e+00   \n",
       "116        ORCHARD_FARMS07_isnull           1.742495e+00   \n",
       "117          BERRY_FARMS07_isnull           1.742495e+00   \n",
       "118         PCT_LOCLSALE07_isnull           2.305861e+00   \n",
       "119     PCT_LACCESS_HHNV10_isnull           8.240840e+00   \n",
       "120            VEG_ACRES07_isnull           8.791752e+00   \n",
       "121  PCH_OBESE_CHILD_08_11_isnull           8.909861e+00   \n",
       "122                    popEst2015           2.945975e-07   \n",
       "123                povertyPercent           2.999942e+00   \n",
       "124            CHILDPOVRATE10_log           2.956122e+01   \n",
       "125                       NATAMEN           8.239570e-01   \n",
       "126                 PctBlack_sqrd           1.108948e-02   \n",
       "127                  PctOtherRace           2.798917e-01   \n",
       "128                      PctAsian           3.779948e-01   \n",
       "129                      PctWhite           1.325408e+00   \n",
       "130                      RECFAC07           1.719944e-02   \n",
       "131              PCH_RECFAC_07_12           2.410697e-01   \n",
       "132                   RECFACPTH07           1.889053e+01   \n",
       "133           State_West Virginia           1.703287e-01   \n",
       "134               State_Wisconsin           9.992682e-01   \n",
       "135                   State_Maine           1.428049e+00   \n",
       "136                 State_Georgia           1.713732e+00   \n",
       "137                State_New York           2.913545e+00   \n",
       "138            State_South Dakota           3.183380e+00   \n",
       "139                State_Delaware           4.402421e+00   \n",
       "140              State_Washington           4.545719e+00   \n",
       "141                State_Missouri           5.680484e+00   \n",
       "142              State_New Jersey           5.735148e+00   \n",
       "143            State_North Dakota           5.917723e+00   \n",
       "144                State_Nebraska           6.229377e+00   \n",
       "145                 State_Vermont           6.351672e+00   \n",
       "146                 State_Indiana           6.644210e+00   \n",
       "147               State_Minnesota           6.829018e+00   \n",
       "148                 State_Montana           7.935563e+00   \n",
       "149            State_Pennsylvania           8.728011e+00   \n",
       "150                   State_Idaho           9.672172e+00   \n",
       "151           State_New Hampshire           1.034052e+01   \n",
       "152                State_Michigan           1.065116e+01   \n",
       "153                    State_Ohio           1.260597e+01   \n",
       "154          State_North Carolina           1.370977e+01   \n",
       "155                State_Illinois           1.383722e+01   \n",
       "156                    State_Iowa           1.519923e+01   \n",
       "157             State_Connecticut           1.719479e+01   \n",
       "158            State_Rhode Island           1.900081e+01   \n",
       "159                  State_Hawaii           4.305845e+01   \n",
       "\n",
       "                             Feature Family  Feature Family Sums  \\\n",
       "0                                       Age         2.441990e+01   \n",
       "1                                       Age                  NaN   \n",
       "2                                       Age                  NaN   \n",
       "3                    Average Household Size         6.493734e+00   \n",
       "4                                Birth Rate         6.189144e-01   \n",
       "5                          Cancer Diagnoses         3.311788e-03   \n",
       "6                Comorbid Health Conditions         2.028707e+00   \n",
       "7                Comorbid Health Conditions                  NaN   \n",
       "8                Comorbid Health Conditions                  NaN   \n",
       "9                Comorbid Health Conditions                  NaN   \n",
       "10               Comorbid Health Conditions                  NaN   \n",
       "11           Distance to Major Urban Center         5.420807e+02   \n",
       "12           Distance to Major Urban Center                  NaN   \n",
       "13           Distance to Major Urban Center                  NaN   \n",
       "14           Distance to Major Urban Center                  NaN   \n",
       "15           Distance to Major Urban Center                  NaN   \n",
       "16           Distance to Major Urban Center                  NaN   \n",
       "17           Distance to Major Urban Center                  NaN   \n",
       "18           Distance to Major Urban Center                  NaN   \n",
       "19           Distance to Major Urban Center                  NaN   \n",
       "20           Distance to Major Urban Center                  NaN   \n",
       "21           Distance to Major Urban Center                  NaN   \n",
       "22           Distance to Major Urban Center                  NaN   \n",
       "23           Distance to Major Urban Center                  NaN   \n",
       "24   Distances to Top 10 Oncology Hospitals         1.927718e+02   \n",
       "25   Distances to Top 10 Oncology Hospitals                  NaN   \n",
       "26   Distances to Top 10 Oncology Hospitals                  NaN   \n",
       "27   Distances to Top 10 Oncology Hospitals                  NaN   \n",
       "28   Distances to Top 10 Oncology Hospitals                  NaN   \n",
       "29   Distances to Top 10 Oncology Hospitals                  NaN   \n",
       "30   Distances to Top 10 Oncology Hospitals                  NaN   \n",
       "31   Distances to Top 10 Oncology Hospitals                  NaN   \n",
       "32   Distances to Top 10 Oncology Hospitals                  NaN   \n",
       "33   Distances to Top 10 Oncology Hospitals                  NaN   \n",
       "34   Distances to Top 10 Oncology Hospitals                  NaN   \n",
       "35   Distances to Top 10 Oncology Hospitals                  NaN   \n",
       "36   Distances to Top 10 Oncology Hospitals                  NaN   \n",
       "37   Distances to Top 10 Oncology Hospitals                  NaN   \n",
       "38   Distances to Top 10 Oncology Hospitals                  NaN   \n",
       "39                                Education         9.344954e-01   \n",
       "40                                Education                  NaN   \n",
       "41                                Education                  NaN   \n",
       "42                                Education                  NaN   \n",
       "43                                Education                  NaN   \n",
       "44                               Employment         1.790471e+02   \n",
       "45                               Employment                  NaN   \n",
       "46                     Environmental Health         3.120683e+00   \n",
       "47                     Environmental Health                  NaN   \n",
       "48                 Erroneous data indicator         5.152421e-01   \n",
       "49                         Food Environment         1.418418e+01   \n",
       "50                         Food Environment                  NaN   \n",
       "51                         Food Environment                  NaN   \n",
       "52                         Food Environment                  NaN   \n",
       "53                         Food Environment                  NaN   \n",
       "54                         Food Environment                  NaN   \n",
       "55                         Food Environment                  NaN   \n",
       "56                         Food Environment                  NaN   \n",
       "57                         Food Environment                  NaN   \n",
       "58                         Food Environment                  NaN   \n",
       "59                         Food Environment                  NaN   \n",
       "60                         Food Environment                  NaN   \n",
       "61                         Food Environment                  NaN   \n",
       "62                         Food Environment                  NaN   \n",
       "63                         Food Environment                  NaN   \n",
       "64                         Food Environment                  NaN   \n",
       "65                         Food Environment                  NaN   \n",
       "66                         Food Environment                  NaN   \n",
       "67                         Food Environment                  NaN   \n",
       "68                         Food Environment                  NaN   \n",
       "69                         Food Environment                  NaN   \n",
       "70                         Food Environment                  NaN   \n",
       "71                         Food Environment                  NaN   \n",
       "72                         Food Environment                  NaN   \n",
       "73                         Food Environment                  NaN   \n",
       "74                         Food Environment                  NaN   \n",
       "75                         Food Environment                  NaN   \n",
       "76                                Geography         2.433043e-03   \n",
       "77                         Health Insurance         6.591918e+01   \n",
       "78                         Health Insurance                  NaN   \n",
       "79                         Health Insurance                  NaN   \n",
       "80                         Health Insurance                  NaN   \n",
       "81                         Health Insurance                  NaN   \n",
       "82                                   Income         8.101907e+00   \n",
       "83                                   Income                  NaN   \n",
       "84                                   Income                  NaN   \n",
       "85                                   Income                  NaN   \n",
       "86                                   Income                  NaN   \n",
       "87                                   Income                  NaN   \n",
       "88                                   Income                  NaN   \n",
       "89                       Latitude Longitude         3.058947e+01   \n",
       "90                       Latitude Longitude                  NaN   \n",
       "91                       Latitude Longitude                  NaN   \n",
       "92                          Marital feature         2.921905e+01   \n",
       "93                          Marital feature                  NaN   \n",
       "94                          Marital feature                  NaN   \n",
       "95                    Missing Value Feature         3.873179e+01   \n",
       "96                    Missing Value Feature                  NaN   \n",
       "97                    Missing Value Feature                  NaN   \n",
       "98                    Missing Value Feature                  NaN   \n",
       "99                    Missing Value Feature                  NaN   \n",
       "100                   Missing Value Feature                  NaN   \n",
       "101                   Missing Value Feature                  NaN   \n",
       "102                   Missing Value Feature                  NaN   \n",
       "103                   Missing Value Feature                  NaN   \n",
       "104                   Missing Value Feature                  NaN   \n",
       "105                   Missing Value Feature                  NaN   \n",
       "106                   Missing Value Feature                  NaN   \n",
       "107                   Missing Value Feature                  NaN   \n",
       "108                   Missing Value Feature                  NaN   \n",
       "109                   Missing Value Feature                  NaN   \n",
       "110                   Missing Value Feature                  NaN   \n",
       "111                   Missing Value Feature                  NaN   \n",
       "112                   Missing Value Feature                  NaN   \n",
       "113                   Missing Value Feature                  NaN   \n",
       "114                   Missing Value Feature                  NaN   \n",
       "115                   Missing Value Feature                  NaN   \n",
       "116                   Missing Value Feature                  NaN   \n",
       "117                   Missing Value Feature                  NaN   \n",
       "118                   Missing Value Feature                  NaN   \n",
       "119                   Missing Value Feature                  NaN   \n",
       "120                   Missing Value Feature                  NaN   \n",
       "121                   Missing Value Feature                  NaN   \n",
       "122                              Population         2.945975e-07   \n",
       "123                         Poverty-related         3.256116e+01   \n",
       "124                         Poverty-related                  NaN   \n",
       "125                         Quality of Life         8.239570e-01   \n",
       "126                                    Race         1.994384e+00   \n",
       "127                                    Race                  NaN   \n",
       "128                                    Race                  NaN   \n",
       "129                                    Race                  NaN   \n",
       "130                  Recreation and Fitness         1.914880e+01   \n",
       "131                  Recreation and Fitness                  NaN   \n",
       "132                  Recreation and Fitness                  NaN   \n",
       "133                                   State         2.446777e+02   \n",
       "134                                   State                  NaN   \n",
       "135                                   State                  NaN   \n",
       "136                                   State                  NaN   \n",
       "137                                   State                  NaN   \n",
       "138                                   State                  NaN   \n",
       "139                                   State                  NaN   \n",
       "140                                   State                  NaN   \n",
       "141                                   State                  NaN   \n",
       "142                                   State                  NaN   \n",
       "143                                   State                  NaN   \n",
       "144                                   State                  NaN   \n",
       "145                                   State                  NaN   \n",
       "146                                   State                  NaN   \n",
       "147                                   State                  NaN   \n",
       "148                                   State                  NaN   \n",
       "149                                   State                  NaN   \n",
       "150                                   State                  NaN   \n",
       "151                                   State                  NaN   \n",
       "152                                   State                  NaN   \n",
       "153                                   State                  NaN   \n",
       "154                                   State                  NaN   \n",
       "155                                   State                  NaN   \n",
       "156                                   State                  NaN   \n",
       "157                                   State                  NaN   \n",
       "158                                   State                  NaN   \n",
       "159                                   State                  NaN   \n",
       "\n",
       "     Feature Family Proportion  Total Negative  Sum  \n",
       "0                 1.698199e-02          1437.988619  \n",
       "1                          NaN                  NaN  \n",
       "2                          NaN                  NaN  \n",
       "3                 4.515845e-03                  NaN  \n",
       "4                 4.304029e-04                  NaN  \n",
       "5                 2.303070e-06                  NaN  \n",
       "6                 1.410795e-03                  NaN  \n",
       "7                          NaN                  NaN  \n",
       "8                          NaN                  NaN  \n",
       "9                          NaN                  NaN  \n",
       "10                         NaN                  NaN  \n",
       "11                3.769715e-01                  NaN  \n",
       "12                         NaN                  NaN  \n",
       "13                         NaN                  NaN  \n",
       "14                         NaN                  NaN  \n",
       "15                         NaN                  NaN  \n",
       "16                         NaN                  NaN  \n",
       "17                         NaN                  NaN  \n",
       "18                         NaN                  NaN  \n",
       "19                         NaN                  NaN  \n",
       "20                         NaN                  NaN  \n",
       "21                         NaN                  NaN  \n",
       "22                         NaN                  NaN  \n",
       "23                         NaN                  NaN  \n",
       "24                1.340566e-01                  NaN  \n",
       "25                         NaN                  NaN  \n",
       "26                         NaN                  NaN  \n",
       "27                         NaN                  NaN  \n",
       "28                         NaN                  NaN  \n",
       "29                         NaN                  NaN  \n",
       "30                         NaN                  NaN  \n",
       "31                         NaN                  NaN  \n",
       "32                         NaN                  NaN  \n",
       "33                         NaN                  NaN  \n",
       "34                         NaN                  NaN  \n",
       "35                         NaN                  NaN  \n",
       "36                         NaN                  NaN  \n",
       "37                         NaN                  NaN  \n",
       "38                         NaN                  NaN  \n",
       "39                6.498629e-04                  NaN  \n",
       "40                         NaN                  NaN  \n",
       "41                         NaN                  NaN  \n",
       "42                         NaN                  NaN  \n",
       "43                         NaN                  NaN  \n",
       "44                1.245122e-01                  NaN  \n",
       "45                         NaN                  NaN  \n",
       "46                2.170173e-03                  NaN  \n",
       "47                         NaN                  NaN  \n",
       "48                3.583075e-04                  NaN  \n",
       "49                9.863905e-03                  NaN  \n",
       "50                         NaN                  NaN  \n",
       "51                         NaN                  NaN  \n",
       "52                         NaN                  NaN  \n",
       "53                         NaN                  NaN  \n",
       "54                         NaN                  NaN  \n",
       "55                         NaN                  NaN  \n",
       "56                         NaN                  NaN  \n",
       "57                         NaN                  NaN  \n",
       "58                         NaN                  NaN  \n",
       "59                         NaN                  NaN  \n",
       "60                         NaN                  NaN  \n",
       "61                         NaN                  NaN  \n",
       "62                         NaN                  NaN  \n",
       "63                         NaN                  NaN  \n",
       "64                         NaN                  NaN  \n",
       "65                         NaN                  NaN  \n",
       "66                         NaN                  NaN  \n",
       "67                         NaN                  NaN  \n",
       "68                         NaN                  NaN  \n",
       "69                         NaN                  NaN  \n",
       "70                         NaN                  NaN  \n",
       "71                         NaN                  NaN  \n",
       "72                         NaN                  NaN  \n",
       "73                         NaN                  NaN  \n",
       "74                         NaN                  NaN  \n",
       "75                         NaN                  NaN  \n",
       "76                1.691977e-06                  NaN  \n",
       "77                4.584124e-02                  NaN  \n",
       "78                         NaN                  NaN  \n",
       "79                         NaN                  NaN  \n",
       "80                         NaN                  NaN  \n",
       "81                         NaN                  NaN  \n",
       "82                5.634194e-03                  NaN  \n",
       "83                         NaN                  NaN  \n",
       "84                         NaN                  NaN  \n",
       "85                         NaN                  NaN  \n",
       "86                         NaN                  NaN  \n",
       "87                         NaN                  NaN  \n",
       "88                         NaN                  NaN  \n",
       "89                2.127240e-02                  NaN  \n",
       "90                         NaN                  NaN  \n",
       "91                         NaN                  NaN  \n",
       "92                2.031939e-02                  NaN  \n",
       "93                         NaN                  NaN  \n",
       "94                         NaN                  NaN  \n",
       "95                2.693470e-02                  NaN  \n",
       "96                         NaN                  NaN  \n",
       "97                         NaN                  NaN  \n",
       "98                         NaN                  NaN  \n",
       "99                         NaN                  NaN  \n",
       "100                        NaN                  NaN  \n",
       "101                        NaN                  NaN  \n",
       "102                        NaN                  NaN  \n",
       "103                        NaN                  NaN  \n",
       "104                        NaN                  NaN  \n",
       "105                        NaN                  NaN  \n",
       "106                        NaN                  NaN  \n",
       "107                        NaN                  NaN  \n",
       "108                        NaN                  NaN  \n",
       "109                        NaN                  NaN  \n",
       "110                        NaN                  NaN  \n",
       "111                        NaN                  NaN  \n",
       "112                        NaN                  NaN  \n",
       "113                        NaN                  NaN  \n",
       "114                        NaN                  NaN  \n",
       "115                        NaN                  NaN  \n",
       "116                        NaN                  NaN  \n",
       "117                        NaN                  NaN  \n",
       "118                        NaN                  NaN  \n",
       "119                        NaN                  NaN  \n",
       "120                        NaN                  NaN  \n",
       "121                        NaN                  NaN  \n",
       "122               2.048678e-10                  NaN  \n",
       "123               2.264355e-02                  NaN  \n",
       "124                        NaN                  NaN  \n",
       "125               5.729927e-04                  NaN  \n",
       "126               1.386926e-03                  NaN  \n",
       "127                        NaN                  NaN  \n",
       "128                        NaN                  NaN  \n",
       "129                        NaN                  NaN  \n",
       "130               1.331638e-02                  NaN  \n",
       "131                        NaN                  NaN  \n",
       "132                        NaN                  NaN  \n",
       "133               1.701528e-01                  NaN  \n",
       "134                        NaN                  NaN  \n",
       "135                        NaN                  NaN  \n",
       "136                        NaN                  NaN  \n",
       "137                        NaN                  NaN  \n",
       "138                        NaN                  NaN  \n",
       "139                        NaN                  NaN  \n",
       "140                        NaN                  NaN  \n",
       "141                        NaN                  NaN  \n",
       "142                        NaN                  NaN  \n",
       "143                        NaN                  NaN  \n",
       "144                        NaN                  NaN  \n",
       "145                        NaN                  NaN  \n",
       "146                        NaN                  NaN  \n",
       "147                        NaN                  NaN  \n",
       "148                        NaN                  NaN  \n",
       "149                        NaN                  NaN  \n",
       "150                        NaN                  NaN  \n",
       "151                        NaN                  NaN  \n",
       "152                        NaN                  NaN  \n",
       "153                        NaN                  NaN  \n",
       "154                        NaN                  NaN  \n",
       "155                        NaN                  NaN  \n",
       "156                        NaN                  NaN  \n",
       "157                        NaN                  NaN  \n",
       "158                        NaN                  NaN  \n",
       "159                        NaN                  NaN  "
      ]
     },
     "execution_count": 390,
     "metadata": {},
     "output_type": "execute_result"
    }
   ],
   "source": [
    "negative_proportions_table = pd.read_excel('cancer_feature_family_proportions.xls', sheet_name='Negative')\n",
    "negative_proportions_table"
   ]
  },
  {
   "cell_type": "markdown",
   "metadata": {},
   "source": [
    "The proportions that each \"feature family\" has of the total negative influence of decreasing cancer mortality in 97% of the counties in the United States during 2015 are as follows (in descending order):\n",
    "\n",
    "- L1 and L2 distances from county centroids to major cities (\"Distance to Major Urban Center\"): 0.377\n",
    "- United States state each county is in (\"State\"): 0.1702\n",
    "- L1 and L2 distances from county centroids to top 10 oncology hospitals (\"Distances to Top 10 Oncology Hospitals\"): 0.1341\n",
    "- Employment status of each county's populace (\"Employment\"): 0.1245\n",
    "- Types of health insurance for each county's populace (\"Health Insurance\"): 0.0458\n",
    "- Missing values (\"Missing Value Feature\"): 0.0269\n",
    "- Poverty (\"Poverty-related\"): 0.0226\n",
    "- Latitude and Longitude (\"Latitude Longitude\"): 0.0213\n",
    "- Marital status of county's populace (\"Marital feature\"): 0.0203\n",
    "- Age of each county's populace (\"Age\"): 0.017\n",
    "- Recreation and fitness facilities in each county (\"Recreation and Fitness\"): 0.0133\n",
    "- Food environment of each county (\"Food Environment\"): 0.0099\n",
    "- Financial income of each county's populace (\"Income\"): 0.0056\n",
    "- Average household size of each county (\"Average Household Size\"): 0.0045\n",
    "- L1 distance to closest EPA Superfund Cleanup site (\"Environmental Health\"): 0.0022\n",
    "- Health conditions comorbid with cancer (\"Comorbid Health Conditions\"): 0.0014\n",
    "- Race of each county's populace (\"Race\"): 0.0014\n",
    "- Education levels of each county's populace (\"Education\"): 0.0006\n",
    "- Quality of life index (\"Quality of Life\"): 0.0006\n",
    "- Birth Rate (\"Birth Rate\"): 0.0004\n",
    "- Erroneous data indicator referencing median age (\"Erroneous data indicator\"): 0.0004\n",
    "- Rate of cancer diagnoses in each county (\"Cancer Diagnoses\"): 0.000002\n",
    "- Square mileage of water for each county (\"Geography\"): 0.000002\n",
    "- Population of county (\"Population\"): 0.0000000002"
   ]
  }
 ],
 "metadata": {
  "kernelspec": {
   "display_name": "Python 3",
   "language": "python",
   "name": "python3"
  },
  "language_info": {
   "codemirror_mode": {
    "name": "ipython",
    "version": 3
   },
   "file_extension": ".py",
   "mimetype": "text/x-python",
   "name": "python",
   "nbconvert_exporter": "python",
   "pygments_lexer": "ipython3",
   "version": "3.7.3"
  }
 },
 "nbformat": 4,
 "nbformat_minor": 2
}
