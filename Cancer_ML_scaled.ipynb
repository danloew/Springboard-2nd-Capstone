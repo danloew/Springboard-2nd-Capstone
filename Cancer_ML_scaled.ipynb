{
 "cells": [
  {
   "cell_type": "markdown",
   "metadata": {},
   "source": [
    "# Exploration of Socioeconomic Influences on Cancer Mortality:\n",
    "# Machine Learning with Scaled Data"
   ]
  },
  {
   "cell_type": "markdown",
   "metadata": {},
   "source": [
    "This notebook uses the cleaned DataFrame built off of the \"cancer-reg.csv\" dataset (https://data.world/exercises/linear-regression-exercise-1) to build a series of classification models designed to identify the most salient predictors of cancer mortality at the county level for the year 2015 by looking at the coefficients of the best performing regressor algorithm. The cleaned DataFrame contains a series of features native to the \"cancer-reg.csv\" dataset, but also contains a series of derived features (as detailed in the Data Cleaning notebook).\n",
    "\n",
    "The target feature of the model is continuous, so regression is the focus in this report. Machine Learning regression models are carried out below using Ordinary Least Squares (OLS) Regression, Ridge Regression, LASSO, ElasticNet, Stochastic Gradient Descent (SGD) Regressor, Kernel Ridge Regression, and Random Forest algorithms to try and predict cancer mortality rates.\n",
    "\n",
    "These models are created not only to predict cancer mortality, but to also identify the most salient predictors of cancer mortality by looking at the coefficients of the best performing regression algorithm. By identifying the most salient predictors of cancer mortality, policy makers can use this study as a resource in which to guide public health policy as a component of the fight against cancer. Although these salient predictors cannot be identified as a cause of cancer mortality, identifying predictive features can help in the understanding of factors that contribute to cancer mortality. Random Forest is also used as a way to nonlinearly predict cancer mortality, but because the Random Forest method does not produce coefficients, it is not used to identify the most salient predictors of cancer mortality. \n",
    "\n",
    "The best performing regression algorithm for the model is identified by evaluating the accuracy score and root mean squared error (RMSE) of a set of regression algorithms. Generally speaking, these regression algorithms are run on unscaled and scaled data, and utilizee different values for the regularization hyperparameter ‘alpha’ (for all algorithms except for simple OLS linear regression), the L1 ratio (for ElasticNet and SGD Regressor), the penalty (L1, L2, or ElasticNet for SGD Regressor), and the number of estimators (for Random Forest). The LASSO and ElasticNet algorithms use their internal normalization setting to scale the data, as they would not converge otherwise. The MinMax scaler is used for scaling data on the other algorithms in this notebook. \n",
    "\n",
    "The best performing regression algorithm in terms of accuracy score and RMSE is then identified. These regression algorithms’ accuracy and RMSE scores are stored in a hyperparameter tuning table, which is displayed below."
   ]
  },
  {
   "cell_type": "code",
   "execution_count": 1,
   "metadata": {},
   "outputs": [],
   "source": [
    "import csv\n",
    "import numpy as np\n",
    "import pandas as pd\n",
    "import matplotlib.pyplot as plt\n",
    "import sklearn\n",
    "from sklearn.preprocessing import MinMaxScaler\n",
    "from sklearn import linear_model\n",
    "from sklearn.linear_model import Ridge\n",
    "from sklearn.kernel_ridge import KernelRidge\n",
    "from sklearn.linear_model import Lasso\n",
    "from sklearn.linear_model import ElasticNet\n",
    "from sklearn.linear_model import SGDRegressor\n",
    "from sklearn.ensemble import RandomForestRegressor\n",
    "from sklearn.model_selection import train_test_split\n",
    "from sklearn.model_selection import cross_val_score\n",
    "from sklearn import metrics\n",
    "from sklearn.metrics import roc_curve\n",
    "from sklearn.metrics import roc_auc_score\n",
    "from sklearn.metrics import mean_squared_error\n",
    "import pickle"
   ]
  },
  {
   "cell_type": "code",
   "execution_count": 2,
   "metadata": {},
   "outputs": [],
   "source": [
    "df = pd.read_csv('cancer_ml7.csv', index_col=['Geography'])"
   ]
  },
  {
   "cell_type": "code",
   "execution_count": 3,
   "metadata": {
    "scrolled": true
   },
   "outputs": [
    {
     "data": {
      "text/html": [
       "<div>\n",
       "<style scoped>\n",
       "    .dataframe tbody tr th:only-of-type {\n",
       "        vertical-align: middle;\n",
       "    }\n",
       "\n",
       "    .dataframe tbody tr th {\n",
       "        vertical-align: top;\n",
       "    }\n",
       "\n",
       "    .dataframe thead th {\n",
       "        text-align: right;\n",
       "    }\n",
       "</style>\n",
       "<table border=\"1\" class=\"dataframe\">\n",
       "  <thead>\n",
       "    <tr style=\"text-align: right;\">\n",
       "      <th></th>\n",
       "      <th>TARGET_deathRate</th>\n",
       "      <th>avgAnnCount</th>\n",
       "      <th>incidenceRate</th>\n",
       "      <th>medIncome</th>\n",
       "      <th>popEst2015</th>\n",
       "      <th>povertyPercent</th>\n",
       "      <th>studyPerCap</th>\n",
       "      <th>MedianAge</th>\n",
       "      <th>MedianAgeMale</th>\n",
       "      <th>MedianAgeFemale</th>\n",
       "      <th>...</th>\n",
       "      <th>city_min_distsl1_sqrd</th>\n",
       "      <th>sc_min_dists_l1_log</th>\n",
       "      <th>PCT_LACCESS_CHILD10_sqrd</th>\n",
       "      <th>PCT_LACCESS_HHNV10_sqrd</th>\n",
       "      <th>PC_DIRSALES07_sqrd</th>\n",
       "      <th>FMRKT13_sqrd</th>\n",
       "      <th>PCH_FMRKT_09_13_sqrd</th>\n",
       "      <th>PCT_OBESE_ADULTS13_log</th>\n",
       "      <th>PCT_OBESE_ADULTS13_sqrd</th>\n",
       "      <th>CHILDPOVRATE10_log</th>\n",
       "    </tr>\n",
       "    <tr>\n",
       "      <th>Geography</th>\n",
       "      <th></th>\n",
       "      <th></th>\n",
       "      <th></th>\n",
       "      <th></th>\n",
       "      <th></th>\n",
       "      <th></th>\n",
       "      <th></th>\n",
       "      <th></th>\n",
       "      <th></th>\n",
       "      <th></th>\n",
       "      <th></th>\n",
       "      <th></th>\n",
       "      <th></th>\n",
       "      <th></th>\n",
       "      <th></th>\n",
       "      <th></th>\n",
       "      <th></th>\n",
       "      <th></th>\n",
       "      <th></th>\n",
       "      <th></th>\n",
       "      <th></th>\n",
       "    </tr>\n",
       "  </thead>\n",
       "  <tbody>\n",
       "    <tr>\n",
       "      <th>Abbeville County, South Carolina</th>\n",
       "      <td>183.7</td>\n",
       "      <td>143.0</td>\n",
       "      <td>430.9</td>\n",
       "      <td>35525</td>\n",
       "      <td>24932</td>\n",
       "      <td>21.4</td>\n",
       "      <td>0.000000</td>\n",
       "      <td>43.3</td>\n",
       "      <td>40.7</td>\n",
       "      <td>44.9</td>\n",
       "      <td>...</td>\n",
       "      <td>5.827314</td>\n",
       "      <td>-0.674641</td>\n",
       "      <td>49.425404</td>\n",
       "      <td>36.601854</td>\n",
       "      <td>13.9129</td>\n",
       "      <td>4</td>\n",
       "      <td>0.00000</td>\n",
       "      <td>3.456317</td>\n",
       "      <td>1004.89</td>\n",
       "      <td>3.280911</td>\n",
       "    </tr>\n",
       "    <tr>\n",
       "      <th>Acadia Parish, Louisiana</th>\n",
       "      <td>230.5</td>\n",
       "      <td>323.0</td>\n",
       "      <td>492.7</td>\n",
       "      <td>40269</td>\n",
       "      <td>62577</td>\n",
       "      <td>22.0</td>\n",
       "      <td>0.000000</td>\n",
       "      <td>35.7</td>\n",
       "      <td>34.7</td>\n",
       "      <td>37.2</td>\n",
       "      <td>...</td>\n",
       "      <td>47.212922</td>\n",
       "      <td>-1.386678</td>\n",
       "      <td>0.243122</td>\n",
       "      <td>3.229274</td>\n",
       "      <td>58.9824</td>\n",
       "      <td>0</td>\n",
       "      <td>0.00000</td>\n",
       "      <td>3.499533</td>\n",
       "      <td>1095.61</td>\n",
       "      <td>3.387774</td>\n",
       "    </tr>\n",
       "    <tr>\n",
       "      <th>Accomack County, Virginia</th>\n",
       "      <td>216.2</td>\n",
       "      <td>221.0</td>\n",
       "      <td>479.4</td>\n",
       "      <td>38390</td>\n",
       "      <td>32973</td>\n",
       "      <td>19.4</td>\n",
       "      <td>0.000000</td>\n",
       "      <td>45.3</td>\n",
       "      <td>42.7</td>\n",
       "      <td>47.3</td>\n",
       "      <td>...</td>\n",
       "      <td>22.077434</td>\n",
       "      <td>0.153911</td>\n",
       "      <td>0.516719</td>\n",
       "      <td>59.388869</td>\n",
       "      <td>2.9584</td>\n",
       "      <td>4</td>\n",
       "      <td>10000.00000</td>\n",
       "      <td>3.303217</td>\n",
       "      <td>739.84</td>\n",
       "      <td>3.356897</td>\n",
       "    </tr>\n",
       "    <tr>\n",
       "      <th>Ada County, Idaho</th>\n",
       "      <td>151.6</td>\n",
       "      <td>1757.0</td>\n",
       "      <td>469.0</td>\n",
       "      <td>57908</td>\n",
       "      <td>434211</td>\n",
       "      <td>11.6</td>\n",
       "      <td>414.545002</td>\n",
       "      <td>35.8</td>\n",
       "      <td>35.0</td>\n",
       "      <td>36.6</td>\n",
       "      <td>...</td>\n",
       "      <td>104.907720</td>\n",
       "      <td>-0.244491</td>\n",
       "      <td>24.459579</td>\n",
       "      <td>0.336674</td>\n",
       "      <td>5.2441</td>\n",
       "      <td>100</td>\n",
       "      <td>123.45679</td>\n",
       "      <td>3.387774</td>\n",
       "      <td>876.16</td>\n",
       "      <td>2.778819</td>\n",
       "    </tr>\n",
       "    <tr>\n",
       "      <th>Adair County, Iowa</th>\n",
       "      <td>178.9</td>\n",
       "      <td>51.0</td>\n",
       "      <td>440.7</td>\n",
       "      <td>48216</td>\n",
       "      <td>7228</td>\n",
       "      <td>10.3</td>\n",
       "      <td>138.350858</td>\n",
       "      <td>45.9</td>\n",
       "      <td>45.0</td>\n",
       "      <td>47.7</td>\n",
       "      <td>...</td>\n",
       "      <td>54.729457</td>\n",
       "      <td>-0.522917</td>\n",
       "      <td>3.281391</td>\n",
       "      <td>3.520720</td>\n",
       "      <td>48.3025</td>\n",
       "      <td>4</td>\n",
       "      <td>0.00000</td>\n",
       "      <td>3.443618</td>\n",
       "      <td>979.69</td>\n",
       "      <td>2.646175</td>\n",
       "    </tr>\n",
       "  </tbody>\n",
       "</table>\n",
       "<p>5 rows × 329 columns</p>\n",
       "</div>"
      ],
      "text/plain": [
       "                                  TARGET_deathRate  avgAnnCount  \\\n",
       "Geography                                                         \n",
       "Abbeville County, South Carolina             183.7        143.0   \n",
       "Acadia Parish, Louisiana                     230.5        323.0   \n",
       "Accomack County, Virginia                    216.2        221.0   \n",
       "Ada County, Idaho                            151.6       1757.0   \n",
       "Adair County, Iowa                           178.9         51.0   \n",
       "\n",
       "                                  incidenceRate  medIncome  popEst2015  \\\n",
       "Geography                                                                \n",
       "Abbeville County, South Carolina          430.9      35525       24932   \n",
       "Acadia Parish, Louisiana                  492.7      40269       62577   \n",
       "Accomack County, Virginia                 479.4      38390       32973   \n",
       "Ada County, Idaho                         469.0      57908      434211   \n",
       "Adair County, Iowa                        440.7      48216        7228   \n",
       "\n",
       "                                  povertyPercent  studyPerCap  MedianAge  \\\n",
       "Geography                                                                  \n",
       "Abbeville County, South Carolina            21.4     0.000000       43.3   \n",
       "Acadia Parish, Louisiana                    22.0     0.000000       35.7   \n",
       "Accomack County, Virginia                   19.4     0.000000       45.3   \n",
       "Ada County, Idaho                           11.6   414.545002       35.8   \n",
       "Adair County, Iowa                          10.3   138.350858       45.9   \n",
       "\n",
       "                                  MedianAgeMale  MedianAgeFemale  ...  \\\n",
       "Geography                                                         ...   \n",
       "Abbeville County, South Carolina           40.7             44.9  ...   \n",
       "Acadia Parish, Louisiana                   34.7             37.2  ...   \n",
       "Accomack County, Virginia                  42.7             47.3  ...   \n",
       "Ada County, Idaho                          35.0             36.6  ...   \n",
       "Adair County, Iowa                         45.0             47.7  ...   \n",
       "\n",
       "                                  city_min_distsl1_sqrd  sc_min_dists_l1_log  \\\n",
       "Geography                                                                      \n",
       "Abbeville County, South Carolina               5.827314            -0.674641   \n",
       "Acadia Parish, Louisiana                      47.212922            -1.386678   \n",
       "Accomack County, Virginia                     22.077434             0.153911   \n",
       "Ada County, Idaho                            104.907720            -0.244491   \n",
       "Adair County, Iowa                            54.729457            -0.522917   \n",
       "\n",
       "                                  PCT_LACCESS_CHILD10_sqrd  \\\n",
       "Geography                                                    \n",
       "Abbeville County, South Carolina                 49.425404   \n",
       "Acadia Parish, Louisiana                          0.243122   \n",
       "Accomack County, Virginia                         0.516719   \n",
       "Ada County, Idaho                                24.459579   \n",
       "Adair County, Iowa                                3.281391   \n",
       "\n",
       "                                  PCT_LACCESS_HHNV10_sqrd  PC_DIRSALES07_sqrd  \\\n",
       "Geography                                                                       \n",
       "Abbeville County, South Carolina                36.601854             13.9129   \n",
       "Acadia Parish, Louisiana                         3.229274             58.9824   \n",
       "Accomack County, Virginia                       59.388869              2.9584   \n",
       "Ada County, Idaho                                0.336674              5.2441   \n",
       "Adair County, Iowa                               3.520720             48.3025   \n",
       "\n",
       "                                  FMRKT13_sqrd  PCH_FMRKT_09_13_sqrd  \\\n",
       "Geography                                                              \n",
       "Abbeville County, South Carolina             4               0.00000   \n",
       "Acadia Parish, Louisiana                     0               0.00000   \n",
       "Accomack County, Virginia                    4           10000.00000   \n",
       "Ada County, Idaho                          100             123.45679   \n",
       "Adair County, Iowa                           4               0.00000   \n",
       "\n",
       "                                  PCT_OBESE_ADULTS13_log  \\\n",
       "Geography                                                  \n",
       "Abbeville County, South Carolina                3.456317   \n",
       "Acadia Parish, Louisiana                        3.499533   \n",
       "Accomack County, Virginia                       3.303217   \n",
       "Ada County, Idaho                               3.387774   \n",
       "Adair County, Iowa                              3.443618   \n",
       "\n",
       "                                  PCT_OBESE_ADULTS13_sqrd  CHILDPOVRATE10_log  \n",
       "Geography                                                                      \n",
       "Abbeville County, South Carolina                  1004.89            3.280911  \n",
       "Acadia Parish, Louisiana                          1095.61            3.387774  \n",
       "Accomack County, Virginia                          739.84            3.356897  \n",
       "Ada County, Idaho                                  876.16            2.778819  \n",
       "Adair County, Iowa                                 979.69            2.646175  \n",
       "\n",
       "[5 rows x 329 columns]"
      ]
     },
     "execution_count": 3,
     "metadata": {},
     "output_type": "execute_result"
    }
   ],
   "source": [
    "df.head()"
   ]
  },
  {
   "cell_type": "code",
   "execution_count": 4,
   "metadata": {},
   "outputs": [
    {
     "data": {
      "text/plain": [
       "Index(['TARGET_deathRate', 'avgAnnCount', 'incidenceRate', 'medIncome',\n",
       "       'popEst2015', 'povertyPercent', 'studyPerCap', 'MedianAge',\n",
       "       'MedianAgeMale', 'MedianAgeFemale',\n",
       "       ...\n",
       "       'city_min_distsl1_sqrd', 'sc_min_dists_l1_log',\n",
       "       'PCT_LACCESS_CHILD10_sqrd', 'PCT_LACCESS_HHNV10_sqrd',\n",
       "       'PC_DIRSALES07_sqrd', 'FMRKT13_sqrd', 'PCH_FMRKT_09_13_sqrd',\n",
       "       'PCT_OBESE_ADULTS13_log', 'PCT_OBESE_ADULTS13_sqrd',\n",
       "       'CHILDPOVRATE10_log'],\n",
       "      dtype='object', length=329)"
      ]
     },
     "execution_count": 4,
     "metadata": {},
     "output_type": "execute_result"
    }
   ],
   "source": [
    "df.columns"
   ]
  },
  {
   "cell_type": "code",
   "execution_count": 5,
   "metadata": {},
   "outputs": [
    {
     "data": {
      "text/plain": [
       "3047"
      ]
     },
     "execution_count": 5,
     "metadata": {},
     "output_type": "execute_result"
    }
   ],
   "source": [
    "len(df.index.unique())"
   ]
  },
  {
   "cell_type": "code",
   "execution_count": 6,
   "metadata": {
    "scrolled": true
   },
   "outputs": [
    {
     "data": {
      "text/plain": [
       "(3047, 329)"
      ]
     },
     "execution_count": 6,
     "metadata": {},
     "output_type": "execute_result"
    }
   ],
   "source": [
    "df.shape"
   ]
  },
  {
   "cell_type": "code",
   "execution_count": 7,
   "metadata": {
    "scrolled": true
   },
   "outputs": [
    {
     "name": "stdout",
     "output_type": "stream",
     "text": [
      "<class 'pandas.core.frame.DataFrame'>\n",
      "Index: 3047 entries, Abbeville County, South Carolina to Zavala County, Texas\n",
      "Data columns (total 329 columns):\n",
      "TARGET_deathRate                  float64\n",
      "avgAnnCount                       float64\n",
      "incidenceRate                     float64\n",
      "medIncome                         int64\n",
      "popEst2015                        int64\n",
      "povertyPercent                    float64\n",
      "studyPerCap                       float64\n",
      "MedianAge                         float64\n",
      "MedianAgeMale                     float64\n",
      "MedianAgeFemale                   float64\n",
      "AvgHouseholdSize                  float64\n",
      "PercentMarried                    float64\n",
      "PctNoHS18_24                      float64\n",
      "PctHS18_24                        float64\n",
      "PctSomeCol18_24                   float64\n",
      "PctBachDeg18_24                   float64\n",
      "PctHS25_Over                      float64\n",
      "PctBachDeg25_Over                 float64\n",
      "PctEmployed16_Over                float64\n",
      "PctUnemployed16_Over              float64\n",
      "PctPrivateCoverage                float64\n",
      "PctPrivateCoverageAlone           float64\n",
      "PctEmpPrivCoverage                float64\n",
      "PctPublicCoverage                 float64\n",
      "PctPublicCoverageAlone            float64\n",
      "PctWhite                          float64\n",
      "PctBlack                          float64\n",
      "PctAsian                          float64\n",
      "PctOtherRace                      float64\n",
      "PctMarriedHouseholds              float64\n",
      "BirthRate                         float64\n",
      "PctSomeCol18_24_isnull            int64\n",
      "PctEmployed16_Over_isnull         int64\n",
      "PctPrivateCoverageAlone_isnull    int64\n",
      "age_gt_100                        int64\n",
      "household_lt_1                    int64\n",
      "binnedInc_(34218.1, 37413.8]      int64\n",
      "binnedInc_(37413.8, 40362.7]      int64\n",
      "binnedInc_(40362.7, 42724.4]      int64\n",
      "binnedInc_(42724.4, 45201]        int64\n",
      "binnedInc_(45201, 48021.6]        int64\n",
      "binnedInc_(48021.6, 51046.4]      int64\n",
      "binnedInc_(51046.4, 54545.6]      int64\n",
      "binnedInc_(54545.6, 61494.5]      int64\n",
      "binnedInc_(61494.5, 125635]       int64\n",
      "binnedInc_[22640, 34218.1]        int64\n",
      "ALAND_SQMI                        float64\n",
      "AWATER_SQMI                       float64\n",
      "INTPTLAT                          float64\n",
      "INTPTLONG                         float64\n",
      "State_Alabama                     int64\n",
      "State_Alaska                      int64\n",
      "State_Arizona                     int64\n",
      "State_Arkansas                    int64\n",
      "State_California                  int64\n",
      "State_Colorado                    int64\n",
      "State_Connecticut                 int64\n",
      "State_Delaware                    int64\n",
      "State_District of Columbia        int64\n",
      "State_Florida                     int64\n",
      "State_Georgia                     int64\n",
      "State_Hawaii                      int64\n",
      "State_Idaho                       int64\n",
      "State_Illinois                    int64\n",
      "State_Indiana                     int64\n",
      "State_Iowa                        int64\n",
      "State_Kansas                      int64\n",
      "State_Kentucky                    int64\n",
      "State_Louisiana                   int64\n",
      "State_Maine                       int64\n",
      "State_Maryland                    int64\n",
      "State_Massachusetts               int64\n",
      "State_Michigan                    int64\n",
      "State_Minnesota                   int64\n",
      "State_Mississippi                 int64\n",
      "State_Missouri                    int64\n",
      "State_Montana                     int64\n",
      "State_Nebraska                    int64\n",
      "State_Nevada                      int64\n",
      "State_New Hampshire               int64\n",
      "State_New Jersey                  int64\n",
      "State_New Mexico                  int64\n",
      "State_New York                    int64\n",
      "State_North Carolina              int64\n",
      "State_North Dakota                int64\n",
      "State_Ohio                        int64\n",
      "State_Oklahoma                    int64\n",
      "State_Oregon                      int64\n",
      "State_Pennsylvania                int64\n",
      "State_Rhode Island                int64\n",
      "State_South Carolina              int64\n",
      "State_South Dakota                int64\n",
      "State_Tennessee                   int64\n",
      "State_Texas                       int64\n",
      "State_Utah                        int64\n",
      "State_Vermont                     int64\n",
      "State_Virginia                    int64\n",
      "State_Washington                  int64\n",
      "State_West Virginia               int64\n",
      "State_Wisconsin                   int64\n",
      "State_Wyoming                     int64\n",
      "utmda_l1                          float64\n",
      "mskcc_l1                          float64\n",
      "mayo_l1                           float64\n",
      "hopkins_l1                        float64\n",
      "dfb_l1                            float64\n",
      "cleveland_l1                      float64\n",
      "upmcps_l1                         float64\n",
      "hlmcc_l1                          float64\n",
      "mgs_l1                            float64\n",
      "nw_mem_l1                         float64\n",
      "chi_l1                            float64\n",
      "nyc_l1                            float64\n",
      "atlanta_l1                        float64\n",
      "dallas_l1                         float64\n",
      "denver_l1                         float64\n",
      "los_ang_l1                        float64\n",
      "seattle_l1                        float64\n",
      "san_fran_l1                       float64\n",
      "utmda_l2                          float64\n",
      "mskcc_l2                          float64\n",
      "mayo_l2                           float64\n",
      "hopkins_l2                        float64\n",
      "dfb_l2                            float64\n",
      "cleveland_l2                      float64\n",
      "upmcps_l2                         float64\n",
      "hlmcc_l2                          float64\n",
      "mgs_l2                            float64\n",
      "nw_mem_l2                         float64\n",
      "chi_l2                            float64\n",
      "nyc_l2                            float64\n",
      "atlanta_l2                        float64\n",
      "dallas_l2                         float64\n",
      "denver_l2                         float64\n",
      "los_ang_l2                        float64\n",
      "seattle_l2                        float64\n",
      "san_fran_l2                       float64\n",
      "onc_min_distsl1                   float64\n",
      "onc_min_distsl2                   float64\n",
      "city_min_distsl1                  float64\n",
      "city_min_distsl2                  float64\n",
      "sc_min_dists_l1                   float64\n",
      "sc_min_dists_l2                   float64\n",
      "PCT_LACCESS_POP10                 float64\n",
      "PCT_LACCESS_LOWI10                float64\n",
      "PCT_LACCESS_CHILD10               float64\n",
      "PCT_LACCESS_SENIORS10             float64\n",
      "PCT_LACCESS_HHNV10                float64\n",
      "PCT_LACCESS_POP10_isnull          int64\n",
      "PCT_LACCESS_LOWI10_isnull         int64\n",
      "PCT_LACCESS_CHILD10_isnull        int64\n",
      "PCT_LACCESS_SENIORS10_isnull      int64\n",
      "PCT_LACCESS_HHNV10_isnull         int64\n",
      "FOODINSEC_00_02                   float64\n",
      "FOODINSEC_07_09                   float64\n",
      "FOODINSEC_10_12                   float64\n",
      "CH_FOODINSEC_02_12                float64\n",
      "CH_FOODINSEC_09_12                float64\n",
      "VLFOODSEC_00_02                   float64\n",
      "VLFOODSEC_07_09                   float64\n",
      "VLFOODSEC_10_12                   float64\n",
      "CH_VLFOODSEC_02_12                float64\n",
      "CH_VLFOODSEC_09_12                float64\n",
      "FOODINSEC_CHILD_01_07             float64\n",
      "FOODINSEC_CHILD_03_11             float64\n",
      "FOODINSEC_00_02_isnull            int64\n",
      "FOODINSEC_07_09_isnull            int64\n",
      "FOODINSEC_10_12_isnull            int64\n",
      "CH_FOODINSEC_02_12_isnull         int64\n",
      "CH_FOODINSEC_09_12_isnull         int64\n",
      "VLFOODSEC_00_02_isnull            int64\n",
      "VLFOODSEC_07_09_isnull            int64\n",
      "VLFOODSEC_10_12_isnull            int64\n",
      "CH_VLFOODSEC_02_12_isnull         int64\n",
      "CH_VLFOODSEC_09_12_isnull         int64\n",
      "FOODINSEC_CHILD_01_07_isnull      int64\n",
      "FOODINSEC_CHILD_03_11_isnull      int64\n",
      "PCT_LOCLFARM07                    float64\n",
      "PCT_LOCLSALE07                    float64\n",
      "PC_DIRSALES07                     float64\n",
      "FMRKT09                           int64\n",
      "FMRKT13                           int64\n",
      "PCH_FMRKT_09_13                   float64\n",
      "FMRKTPTH09                        float64\n",
      "FMRKTPTH13                        float64\n",
      "PCH_FMRKTPTH_09_13                float64\n",
      "PCT_FMRKT_SNAP13                  int64\n",
      "PCT_FMRKT_WIC13                   float64\n",
      "PCT_FMRKT_WICCASH13               float64\n",
      "PCT_FMRKT_SFMNP13                 int64\n",
      "PCT_FRMKT_FRVEG13                 float64\n",
      "PCT_FRMKT_ANMLPROD13              float64\n",
      "PCT_FMRKT_OTHER13                 float64\n",
      "VEG_FARMS07                       int64\n",
      "VEG_ACRES07                       int64\n",
      "VEG_ACRESPTH07                    float64\n",
      "FRESHVEG_FARMS07                  int64\n",
      "FRESHVEG_ACRES07                  int64\n",
      "FRESHVEG_ACRESPTH07               float64\n",
      "ORCHARD_FARMS07                   int64\n",
      "ORCHARD_ACRES07                   int64\n",
      "ORCHARD_ACRESPTH07                float64\n",
      "BERRY_FARMS07                     int64\n",
      "BERRY_ACRES07                     int64\n",
      "BERRY_ACRESPTH07                  float64\n",
      "SLHOUSE07                         int64\n",
      "GHVEG_FARMS07                     int64\n",
      "GHVEG_SQFT07                      int64\n",
      "GHVEG_SQFTPTH07                   float64\n",
      "FOODHUB12                         int64\n",
      "CSA07                             int64\n",
      "AGRITRSM_OPS07                    int64\n",
      "AGRITRSM_RCT07                    int64\n",
      "FARM_TO_SCHOOL                    int64\n",
      "PCT_LOCLFARM07_isnull             int64\n",
      "PCT_LOCLSALE07_isnull             int64\n",
      "PC_DIRSALES07_isnull              int64\n",
      "FMRKT09_isnull                    int64\n",
      "FMRKT13_isnull                    int64\n",
      "PCH_FMRKT_09_13_isnull            int64\n",
      "FMRKTPTH09_isnull                 int64\n",
      "FMRKTPTH13_isnull                 int64\n",
      "PCH_FMRKTPTH_09_13_isnull         int64\n",
      "PCT_FMRKT_SNAP13_isnull           int64\n",
      "PCT_FMRKT_WIC13_isnull            int64\n",
      "PCT_FMRKT_WICCASH13_isnull        int64\n",
      "PCT_FMRKT_SFMNP13_isnull          int64\n",
      "PCT_FRMKT_FRVEG13_isnull          int64\n",
      "PCT_FRMKT_ANMLPROD13_isnull       int64\n",
      "PCT_FMRKT_OTHER13_isnull          int64\n",
      "VEG_FARMS07_isnull                int64\n",
      "VEG_ACRES07_isnull                int64\n",
      "VEG_ACRESPTH07_isnull             int64\n",
      "FRESHVEG_FARMS07_isnull           int64\n",
      "FRESHVEG_ACRES07_isnull           int64\n",
      "FRESHVEG_ACRESPTH07_isnull        int64\n",
      "ORCHARD_FARMS07_isnull            int64\n",
      "ORCHARD_ACRES07_isnull            int64\n",
      "ORCHARD_ACRESPTH07_isnull         int64\n",
      "BERRY_FARMS07_isnull              int64\n",
      "BERRY_ACRES07_isnull              int64\n",
      "BERRY_ACRESPTH07_isnull           int64\n",
      "SLHOUSE07_isnull                  int64\n",
      "GHVEG_FARMS07_isnull              int64\n",
      "GHVEG_SQFT07_isnull               int64\n",
      "GHVEG_SQFTPTH07_isnull            int64\n",
      "FOODHUB12_isnull                  int64\n",
      "CSA07_isnull                      int64\n",
      "AGRITRSM_OPS07_isnull             int64\n",
      "AGRITRSM_RCT07_isnull             int64\n",
      "FARM_TO_SCHOOL_isnull             int64\n",
      "PCT_DIABETES_ADULTS09             float64\n",
      "PCT_DIABETES_ADULTS10             float64\n",
      "PCT_OBESE_ADULTS09                float64\n",
      "PCT_OBESE_ADULTS10                float64\n",
      "PCT_OBESE_ADULTS13                float64\n",
      "PCT_OBESE_CHILD08                 float64\n",
      "PCT_OBESE_CHILD11                 float64\n",
      "PCH_OBESE_CHILD_08_11             float64\n",
      "PCT_HSPA09                        float64\n",
      "RECFAC07                          int64\n",
      "RECFAC12                          int64\n",
      "PCH_RECFAC_07_12                  float64\n",
      "RECFACPTH07                       float64\n",
      "RECFACPTH12                       float64\n",
      "PCH_RECFACPTH_07_12               float64\n",
      "NATAMEN                           int64\n",
      "PCT_OBESE_CHILD08_isnull          int64\n",
      "PCT_OBESE_CHILD11_isnull          int64\n",
      "PCH_OBESE_CHILD_08_11_isnull      int64\n",
      "PCT_HSPA09_isnull                 int64\n",
      "PCH_RECFAC_07_12_isnull           int64\n",
      "PCH_RECFACPTH_07_12_isnull        int64\n",
      "NATAMEN_isnull                    int64\n",
      "PERPOV10                          int64\n",
      "CHILDPOVRATE10                    float64\n",
      "PERCHLDPOV10                      int64\n",
      "METRO13                           int64\n",
      "POPLOSS00                         int64\n",
      "povertyPercent_log                float64\n",
      "povertyPercent_sqrd               float64\n",
      "MedianAge_log                     float64\n",
      "MedianAgeFemale_sqrd              float64\n",
      "AvgHouseholdSize_log              float64\n",
      "PercentMarried_log                float64\n",
      "PercentMarried_sqrd               float64\n",
      "PctSomeCol18_24_log               float64\n",
      "PctSomeCol18_24_sqrd              float64\n",
      "PctHS25_Over_sqrd                 float64\n",
      "PctBachDeg25_Over_log             float64\n",
      "PctEmployed16_Over_log            float64\n",
      "PctEmployed16_Over_sqrd           float64\n",
      "PctPrivateCoverage_log            float64\n",
      "PctEmpPrivCoverage_log            float64\n",
      "PctPublicCoverage_log             float64\n",
      "PctPublicCoverageAlone_log        float64\n",
      "PctPublicCoverageAlone_sqrd       float64\n",
      "PctWhite_sqrd                     float64\n",
      "PctBlack_sqrd                     float64\n",
      "INTPTLONG_sqrd                    float64\n",
      "mskcc_l1_log                      float64\n",
      "mayo_l1_log                       float64\n",
      "mayo_l1_sqrd                      float64\n",
      "dfb_l1_log                        float64\n",
      "dfb_l1_sqrd                       float64\n",
      "cleveland_l1_log                  float64\n",
      "cleveland_l1_sqrd                 float64\n",
      "upmcps_l1_log                     float64\n",
      "mgs_l1_log                        float64\n",
      "atlanta_l1_log                    float64\n",
      "denver_l1_sqrd                    float64\n",
      "los_ang_l1_sqrd                   float64\n",
      "seattle_l1_log                    float64\n",
      "hopkins_l2_log                    float64\n",
      "dfb_l2_log                        float64\n",
      "cleveland_l2_log                  float64\n",
      "upmcps_l2_log                     float64\n",
      "mgs_l2_log                        float64\n",
      "atlanta_l2_log                    float64\n",
      "city_min_distsl1_sqrd             float64\n",
      "sc_min_dists_l1_log               float64\n",
      "PCT_LACCESS_CHILD10_sqrd          float64\n",
      "PCT_LACCESS_HHNV10_sqrd           float64\n",
      "PC_DIRSALES07_sqrd                float64\n",
      "FMRKT13_sqrd                      int64\n",
      "PCH_FMRKT_09_13_sqrd              float64\n",
      "PCT_OBESE_ADULTS13_log            float64\n",
      "PCT_OBESE_ADULTS13_sqrd           float64\n",
      "CHILDPOVRATE10_log                float64\n",
      "dtypes: float64(172), int64(157)\n",
      "memory usage: 7.7+ MB\n"
     ]
    }
   ],
   "source": [
    "df.info(verbose=True)"
   ]
  },
  {
   "cell_type": "markdown",
   "metadata": {},
   "source": [
    "A manual train/test split is done below for better control of the scaling process, which will use the MinMax scaler."
   ]
  },
  {
   "cell_type": "code",
   "execution_count": 8,
   "metadata": {},
   "outputs": [],
   "source": [
    "#Boolean masks\n",
    "is_test = np.random.rand(len(df)) < 0.2\n",
    "is_train = ~is_test"
   ]
  },
  {
   "cell_type": "code",
   "execution_count": 9,
   "metadata": {},
   "outputs": [],
   "source": [
    "df_test = df[is_test]"
   ]
  },
  {
   "cell_type": "code",
   "execution_count": 10,
   "metadata": {},
   "outputs": [],
   "source": [
    "df_train = df[is_train]"
   ]
  },
  {
   "cell_type": "code",
   "execution_count": 11,
   "metadata": {},
   "outputs": [
    {
     "data": {
      "text/plain": [
       "pandas.core.frame.DataFrame"
      ]
     },
     "execution_count": 11,
     "metadata": {},
     "output_type": "execute_result"
    }
   ],
   "source": [
    "type(df_test)"
   ]
  },
  {
   "cell_type": "code",
   "execution_count": 12,
   "metadata": {},
   "outputs": [
    {
     "data": {
      "text/plain": [
       "pandas.core.frame.DataFrame"
      ]
     },
     "execution_count": 12,
     "metadata": {},
     "output_type": "execute_result"
    }
   ],
   "source": [
    "type(df_train)"
   ]
  },
  {
   "cell_type": "markdown",
   "metadata": {},
   "source": [
    "For both training and test sets, the target variable is set as 'TARGET_deathRate', the per capita cancer mortality rate (per 100,000 people). The predictive feature set X is defined as all other columns in the DataFrame, for both training and test sets."
   ]
  },
  {
   "cell_type": "code",
   "execution_count": 13,
   "metadata": {},
   "outputs": [],
   "source": [
    "y_train_s = df_train['TARGET_deathRate']"
   ]
  },
  {
   "cell_type": "code",
   "execution_count": 14,
   "metadata": {},
   "outputs": [],
   "source": [
    "target_names = ['TARGET_deathRate']\n",
    "X_train_s = df_train[[cn for cn in df_train.columns if cn not in target_names]]"
   ]
  },
  {
   "cell_type": "code",
   "execution_count": 15,
   "metadata": {},
   "outputs": [],
   "source": [
    "y_test_s = df_test['TARGET_deathRate']"
   ]
  },
  {
   "cell_type": "code",
   "execution_count": 16,
   "metadata": {},
   "outputs": [],
   "source": [
    "X_test_s = df_test[[cn for cn in df_test.columns if cn not in target_names]]"
   ]
  },
  {
   "cell_type": "code",
   "execution_count": 17,
   "metadata": {},
   "outputs": [],
   "source": [
    "scaler = MinMaxScaler()"
   ]
  },
  {
   "cell_type": "markdown",
   "metadata": {},
   "source": [
    "The scaler is fitted to the training feature set, and is used to transform all values using the MinMaxScaler."
   ]
  },
  {
   "cell_type": "code",
   "execution_count": 18,
   "metadata": {
    "scrolled": true
   },
   "outputs": [
    {
     "name": "stderr",
     "output_type": "stream",
     "text": [
      "/Users/DanLoew/anaconda3/lib/python3.7/site-packages/sklearn/preprocessing/data.py:334: DataConversionWarning: Data with input dtype int64, float64 were all converted to float64 by MinMaxScaler.\n",
      "  return self.partial_fit(X, y)\n"
     ]
    },
    {
     "data": {
      "text/plain": [
       "MinMaxScaler(copy=True, feature_range=(0, 1))"
      ]
     },
     "execution_count": 18,
     "metadata": {},
     "output_type": "execute_result"
    }
   ],
   "source": [
    "scaler.fit(X_train_s)"
   ]
  },
  {
   "cell_type": "code",
   "execution_count": 19,
   "metadata": {},
   "outputs": [],
   "source": [
    "X_train_scaled = pd.DataFrame(scaler.transform(X_train_s), columns=X_train_s.columns, index=X_train_s.index)"
   ]
  },
  {
   "cell_type": "code",
   "execution_count": 20,
   "metadata": {},
   "outputs": [
    {
     "data": {
      "text/html": [
       "<div>\n",
       "<style scoped>\n",
       "    .dataframe tbody tr th:only-of-type {\n",
       "        vertical-align: middle;\n",
       "    }\n",
       "\n",
       "    .dataframe tbody tr th {\n",
       "        vertical-align: top;\n",
       "    }\n",
       "\n",
       "    .dataframe thead th {\n",
       "        text-align: right;\n",
       "    }\n",
       "</style>\n",
       "<table border=\"1\" class=\"dataframe\">\n",
       "  <thead>\n",
       "    <tr style=\"text-align: right;\">\n",
       "      <th></th>\n",
       "      <th>avgAnnCount</th>\n",
       "      <th>incidenceRate</th>\n",
       "      <th>medIncome</th>\n",
       "      <th>popEst2015</th>\n",
       "      <th>povertyPercent</th>\n",
       "      <th>studyPerCap</th>\n",
       "      <th>MedianAge</th>\n",
       "      <th>MedianAgeMale</th>\n",
       "      <th>MedianAgeFemale</th>\n",
       "      <th>AvgHouseholdSize</th>\n",
       "      <th>...</th>\n",
       "      <th>city_min_distsl1_sqrd</th>\n",
       "      <th>sc_min_dists_l1_log</th>\n",
       "      <th>PCT_LACCESS_CHILD10_sqrd</th>\n",
       "      <th>PCT_LACCESS_HHNV10_sqrd</th>\n",
       "      <th>PC_DIRSALES07_sqrd</th>\n",
       "      <th>FMRKT13_sqrd</th>\n",
       "      <th>PCH_FMRKT_09_13_sqrd</th>\n",
       "      <th>PCT_OBESE_ADULTS13_log</th>\n",
       "      <th>PCT_OBESE_ADULTS13_sqrd</th>\n",
       "      <th>CHILDPOVRATE10_log</th>\n",
       "    </tr>\n",
       "    <tr>\n",
       "      <th>Geography</th>\n",
       "      <th></th>\n",
       "      <th></th>\n",
       "      <th></th>\n",
       "      <th></th>\n",
       "      <th></th>\n",
       "      <th></th>\n",
       "      <th></th>\n",
       "      <th></th>\n",
       "      <th></th>\n",
       "      <th></th>\n",
       "      <th></th>\n",
       "      <th></th>\n",
       "      <th></th>\n",
       "      <th></th>\n",
       "      <th></th>\n",
       "      <th></th>\n",
       "      <th></th>\n",
       "      <th></th>\n",
       "      <th></th>\n",
       "      <th></th>\n",
       "      <th></th>\n",
       "    </tr>\n",
       "  </thead>\n",
       "  <tbody>\n",
       "    <tr>\n",
       "      <th>Acadia Parish, Louisiana</th>\n",
       "      <td>0.008311</td>\n",
       "      <td>0.554549</td>\n",
       "      <td>0.171164</td>\n",
       "      <td>0.006072</td>\n",
       "      <td>0.425339</td>\n",
       "      <td>0.0</td>\n",
       "      <td>0.365123</td>\n",
       "      <td>0.325397</td>\n",
       "      <td>0.399464</td>\n",
       "      <td>0.398104</td>\n",
       "      <td>...</td>\n",
       "      <td>0.014487</td>\n",
       "      <td>0.502579</td>\n",
       "      <td>0.00021</td>\n",
       "      <td>0.000872</td>\n",
       "      <td>0.001855</td>\n",
       "      <td>0.0</td>\n",
       "      <td>0.0</td>\n",
       "      <td>0.882545</td>\n",
       "      <td>0.824751</td>\n",
       "      <td>0.767657</td>\n",
       "    </tr>\n",
       "  </tbody>\n",
       "</table>\n",
       "<p>1 rows × 328 columns</p>\n",
       "</div>"
      ],
      "text/plain": [
       "                          avgAnnCount  incidenceRate  medIncome  popEst2015  \\\n",
       "Geography                                                                     \n",
       "Acadia Parish, Louisiana     0.008311       0.554549   0.171164    0.006072   \n",
       "\n",
       "                          povertyPercent  studyPerCap  MedianAge  \\\n",
       "Geography                                                          \n",
       "Acadia Parish, Louisiana        0.425339          0.0   0.365123   \n",
       "\n",
       "                          MedianAgeMale  MedianAgeFemale  AvgHouseholdSize  \\\n",
       "Geography                                                                    \n",
       "Acadia Parish, Louisiana       0.325397         0.399464          0.398104   \n",
       "\n",
       "                          ...  city_min_distsl1_sqrd  sc_min_dists_l1_log  \\\n",
       "Geography                 ...                                               \n",
       "Acadia Parish, Louisiana  ...               0.014487             0.502579   \n",
       "\n",
       "                          PCT_LACCESS_CHILD10_sqrd  PCT_LACCESS_HHNV10_sqrd  \\\n",
       "Geography                                                                     \n",
       "Acadia Parish, Louisiana                   0.00021                 0.000872   \n",
       "\n",
       "                          PC_DIRSALES07_sqrd  FMRKT13_sqrd  \\\n",
       "Geography                                                    \n",
       "Acadia Parish, Louisiana            0.001855           0.0   \n",
       "\n",
       "                          PCH_FMRKT_09_13_sqrd  PCT_OBESE_ADULTS13_log  \\\n",
       "Geography                                                                \n",
       "Acadia Parish, Louisiana                   0.0                0.882545   \n",
       "\n",
       "                          PCT_OBESE_ADULTS13_sqrd  CHILDPOVRATE10_log  \n",
       "Geography                                                              \n",
       "Acadia Parish, Louisiana                 0.824751            0.767657  \n",
       "\n",
       "[1 rows x 328 columns]"
      ]
     },
     "execution_count": 20,
     "metadata": {},
     "output_type": "execute_result"
    }
   ],
   "source": [
    "X_train_scaled.head(1)"
   ]
  },
  {
   "cell_type": "code",
   "execution_count": 21,
   "metadata": {},
   "outputs": [],
   "source": [
    "X_test_scaled = pd.DataFrame(scaler.transform(X_test_s), columns=X_test_s.columns, index=X_test_s.index)"
   ]
  },
  {
   "cell_type": "code",
   "execution_count": 22,
   "metadata": {},
   "outputs": [
    {
     "data": {
      "text/html": [
       "<div>\n",
       "<style scoped>\n",
       "    .dataframe tbody tr th:only-of-type {\n",
       "        vertical-align: middle;\n",
       "    }\n",
       "\n",
       "    .dataframe tbody tr th {\n",
       "        vertical-align: top;\n",
       "    }\n",
       "\n",
       "    .dataframe thead th {\n",
       "        text-align: right;\n",
       "    }\n",
       "</style>\n",
       "<table border=\"1\" class=\"dataframe\">\n",
       "  <thead>\n",
       "    <tr style=\"text-align: right;\">\n",
       "      <th></th>\n",
       "      <th>avgAnnCount</th>\n",
       "      <th>incidenceRate</th>\n",
       "      <th>medIncome</th>\n",
       "      <th>popEst2015</th>\n",
       "      <th>povertyPercent</th>\n",
       "      <th>studyPerCap</th>\n",
       "      <th>MedianAge</th>\n",
       "      <th>MedianAgeMale</th>\n",
       "      <th>MedianAgeFemale</th>\n",
       "      <th>AvgHouseholdSize</th>\n",
       "      <th>...</th>\n",
       "      <th>city_min_distsl1_sqrd</th>\n",
       "      <th>sc_min_dists_l1_log</th>\n",
       "      <th>PCT_LACCESS_CHILD10_sqrd</th>\n",
       "      <th>PCT_LACCESS_HHNV10_sqrd</th>\n",
       "      <th>PC_DIRSALES07_sqrd</th>\n",
       "      <th>FMRKT13_sqrd</th>\n",
       "      <th>PCH_FMRKT_09_13_sqrd</th>\n",
       "      <th>PCT_OBESE_ADULTS13_log</th>\n",
       "      <th>PCT_OBESE_ADULTS13_sqrd</th>\n",
       "      <th>CHILDPOVRATE10_log</th>\n",
       "    </tr>\n",
       "    <tr>\n",
       "      <th>Geography</th>\n",
       "      <th></th>\n",
       "      <th></th>\n",
       "      <th></th>\n",
       "      <th></th>\n",
       "      <th></th>\n",
       "      <th></th>\n",
       "      <th></th>\n",
       "      <th></th>\n",
       "      <th></th>\n",
       "      <th></th>\n",
       "      <th></th>\n",
       "      <th></th>\n",
       "      <th></th>\n",
       "      <th></th>\n",
       "      <th></th>\n",
       "      <th></th>\n",
       "      <th></th>\n",
       "      <th></th>\n",
       "      <th></th>\n",
       "      <th></th>\n",
       "      <th></th>\n",
       "    </tr>\n",
       "  </thead>\n",
       "  <tbody>\n",
       "    <tr>\n",
       "      <th>Abbeville County, South Carolina</th>\n",
       "      <td>0.003592</td>\n",
       "      <td>0.432848</td>\n",
       "      <td>0.125103</td>\n",
       "      <td>0.00237</td>\n",
       "      <td>0.411765</td>\n",
       "      <td>0.0</td>\n",
       "      <td>0.572207</td>\n",
       "      <td>0.484127</td>\n",
       "      <td>0.605898</td>\n",
       "      <td>0.312796</td>\n",
       "      <td>...</td>\n",
       "      <td>0.001788</td>\n",
       "      <td>0.589661</td>\n",
       "      <td>0.042716</td>\n",
       "      <td>0.009878</td>\n",
       "      <td>0.000438</td>\n",
       "      <td>0.000233</td>\n",
       "      <td>0.0</td>\n",
       "      <td>0.796025</td>\n",
       "      <td>0.708192</td>\n",
       "      <td>0.733398</td>\n",
       "    </tr>\n",
       "  </tbody>\n",
       "</table>\n",
       "<p>1 rows × 328 columns</p>\n",
       "</div>"
      ],
      "text/plain": [
       "                                  avgAnnCount  incidenceRate  medIncome  \\\n",
       "Geography                                                                 \n",
       "Abbeville County, South Carolina     0.003592       0.432848   0.125103   \n",
       "\n",
       "                                  popEst2015  povertyPercent  studyPerCap  \\\n",
       "Geography                                                                   \n",
       "Abbeville County, South Carolina     0.00237        0.411765          0.0   \n",
       "\n",
       "                                  MedianAge  MedianAgeMale  MedianAgeFemale  \\\n",
       "Geography                                                                     \n",
       "Abbeville County, South Carolina   0.572207       0.484127         0.605898   \n",
       "\n",
       "                                  AvgHouseholdSize  ...  \\\n",
       "Geography                                           ...   \n",
       "Abbeville County, South Carolina          0.312796  ...   \n",
       "\n",
       "                                  city_min_distsl1_sqrd  sc_min_dists_l1_log  \\\n",
       "Geography                                                                      \n",
       "Abbeville County, South Carolina               0.001788             0.589661   \n",
       "\n",
       "                                  PCT_LACCESS_CHILD10_sqrd  \\\n",
       "Geography                                                    \n",
       "Abbeville County, South Carolina                  0.042716   \n",
       "\n",
       "                                  PCT_LACCESS_HHNV10_sqrd  PC_DIRSALES07_sqrd  \\\n",
       "Geography                                                                       \n",
       "Abbeville County, South Carolina                 0.009878            0.000438   \n",
       "\n",
       "                                  FMRKT13_sqrd  PCH_FMRKT_09_13_sqrd  \\\n",
       "Geography                                                              \n",
       "Abbeville County, South Carolina      0.000233                   0.0   \n",
       "\n",
       "                                  PCT_OBESE_ADULTS13_log  \\\n",
       "Geography                                                  \n",
       "Abbeville County, South Carolina                0.796025   \n",
       "\n",
       "                                  PCT_OBESE_ADULTS13_sqrd  CHILDPOVRATE10_log  \n",
       "Geography                                                                      \n",
       "Abbeville County, South Carolina                 0.708192            0.733398  \n",
       "\n",
       "[1 rows x 328 columns]"
      ]
     },
     "execution_count": 22,
     "metadata": {},
     "output_type": "execute_result"
    }
   ],
   "source": [
    "X_test_scaled.head(1)"
   ]
  },
  {
   "cell_type": "markdown",
   "metadata": {},
   "source": [
    "# Machine Learning with Scaled Data"
   ]
  },
  {
   "cell_type": "markdown",
   "metadata": {},
   "source": [
    "The hyperparameter tuning table that records all of the train and test accuracy and Root Mean Squared Error (RMSE) is called below for reference."
   ]
  },
  {
   "cell_type": "code",
   "execution_count": 496,
   "metadata": {},
   "outputs": [
    {
     "data": {
      "text/html": [
       "<div>\n",
       "<style scoped>\n",
       "    .dataframe tbody tr th:only-of-type {\n",
       "        vertical-align: middle;\n",
       "    }\n",
       "\n",
       "    .dataframe tbody tr th {\n",
       "        vertical-align: top;\n",
       "    }\n",
       "\n",
       "    .dataframe thead th {\n",
       "        text-align: right;\n",
       "    }\n",
       "</style>\n",
       "<table border=\"1\" class=\"dataframe\">\n",
       "  <thead>\n",
       "    <tr style=\"text-align: right;\">\n",
       "      <th></th>\n",
       "      <th>Individual Algorithm Summary</th>\n",
       "      <th>LR_#</th>\n",
       "      <th>Train_Accuracy_Score</th>\n",
       "      <th>Train_RMSE</th>\n",
       "      <th>Test_Accuracy_Score</th>\n",
       "      <th>Test_RMSE</th>\n",
       "      <th>Model</th>\n",
       "      <th>Unscaled/Scaled</th>\n",
       "      <th>Non-normalized/Normalized</th>\n",
       "      <th>Alpha</th>\n",
       "      <th>Solver</th>\n",
       "      <th>Penalty</th>\n",
       "      <th>L1 Ratio (for ElasticNet)</th>\n",
       "      <th>epsilon (for SGD Regressor)</th>\n",
       "      <th>learning_rate (for SGD Regressor)</th>\n",
       "      <th>eta0 (for SGD Regressor)</th>\n",
       "      <th>power_t (for SGD Regressor)</th>\n",
       "      <th>estimators (for Random Forest)</th>\n",
       "    </tr>\n",
       "  </thead>\n",
       "  <tbody>\n",
       "    <tr>\n",
       "      <th>0</th>\n",
       "      <td>Scaled, OLS Linear Regression</td>\n",
       "      <td>2s</td>\n",
       "      <td>0.656942</td>\n",
       "      <td>16.114653</td>\n",
       "      <td>0.587403</td>\n",
       "      <td>18.396952</td>\n",
       "      <td>OLS Linear Regression</td>\n",
       "      <td>Scaled w/MinMaxScaler</td>\n",
       "      <td>Non-normalized</td>\n",
       "      <td>NaN</td>\n",
       "      <td>NaN</td>\n",
       "      <td>NaN</td>\n",
       "      <td>NaN</td>\n",
       "      <td>NaN</td>\n",
       "      <td>NaN</td>\n",
       "      <td>NaN</td>\n",
       "      <td>NaN</td>\n",
       "      <td>NaN</td>\n",
       "    </tr>\n",
       "    <tr>\n",
       "      <th>1</th>\n",
       "      <td>Scaled, Ridge Regression, Alpha 0.001, auto so...</td>\n",
       "      <td>3s</td>\n",
       "      <td>0.654067</td>\n",
       "      <td>16.182031</td>\n",
       "      <td>0.586034</td>\n",
       "      <td>18.427462</td>\n",
       "      <td>Ridge Regression</td>\n",
       "      <td>Scaled w/MinMaxScaler</td>\n",
       "      <td>Non-normalized</td>\n",
       "      <td>0.00100</td>\n",
       "      <td>Auto</td>\n",
       "      <td>NaN</td>\n",
       "      <td>NaN</td>\n",
       "      <td>NaN</td>\n",
       "      <td>NaN</td>\n",
       "      <td>NaN</td>\n",
       "      <td>NaN</td>\n",
       "      <td>NaN</td>\n",
       "    </tr>\n",
       "    <tr>\n",
       "      <th>2</th>\n",
       "      <td>Scaled, Ridge Regression, Alpha 0.01, auto solver</td>\n",
       "      <td>4s</td>\n",
       "      <td>0.650823</td>\n",
       "      <td>16.257739</td>\n",
       "      <td>0.589173</td>\n",
       "      <td>18.357456</td>\n",
       "      <td>Ridge Regression</td>\n",
       "      <td>Scaled w/MinMaxScaler</td>\n",
       "      <td>Non-normalized</td>\n",
       "      <td>0.01000</td>\n",
       "      <td>Auto</td>\n",
       "      <td>NaN</td>\n",
       "      <td>NaN</td>\n",
       "      <td>NaN</td>\n",
       "      <td>NaN</td>\n",
       "      <td>NaN</td>\n",
       "      <td>NaN</td>\n",
       "      <td>NaN</td>\n",
       "    </tr>\n",
       "    <tr>\n",
       "      <th>3</th>\n",
       "      <td>Scaled, Ridge Regression, Alpha 0.1, auto solver</td>\n",
       "      <td>5s</td>\n",
       "      <td>0.641879</td>\n",
       "      <td>16.464633</td>\n",
       "      <td>0.579563</td>\n",
       "      <td>18.570916</td>\n",
       "      <td>Ridge Regression</td>\n",
       "      <td>Scaled w/MinMaxScaler</td>\n",
       "      <td>Non-normalized</td>\n",
       "      <td>0.10000</td>\n",
       "      <td>Auto</td>\n",
       "      <td>NaN</td>\n",
       "      <td>NaN</td>\n",
       "      <td>NaN</td>\n",
       "      <td>NaN</td>\n",
       "      <td>NaN</td>\n",
       "      <td>NaN</td>\n",
       "      <td>NaN</td>\n",
       "    </tr>\n",
       "    <tr>\n",
       "      <th>4</th>\n",
       "      <td>Scaled, Ridge Regression, Alpha 1, auto solver</td>\n",
       "      <td>6s</td>\n",
       "      <td>0.627356</td>\n",
       "      <td>16.795160</td>\n",
       "      <td>0.569512</td>\n",
       "      <td>18.791586</td>\n",
       "      <td>Ridge Regression</td>\n",
       "      <td>Scaled w/MinMaxScaler</td>\n",
       "      <td>Non-normalized</td>\n",
       "      <td>1.00000</td>\n",
       "      <td>Auto</td>\n",
       "      <td>NaN</td>\n",
       "      <td>NaN</td>\n",
       "      <td>NaN</td>\n",
       "      <td>NaN</td>\n",
       "      <td>NaN</td>\n",
       "      <td>NaN</td>\n",
       "      <td>NaN</td>\n",
       "    </tr>\n",
       "    <tr>\n",
       "      <th>5</th>\n",
       "      <td>Scaled, Ridge Regression, Alpha 10, auto solver</td>\n",
       "      <td>7s</td>\n",
       "      <td>0.598495</td>\n",
       "      <td>17.433424</td>\n",
       "      <td>0.557742</td>\n",
       "      <td>19.046755</td>\n",
       "      <td>Ridge Regression</td>\n",
       "      <td>Scaled w/MinMaxScaler</td>\n",
       "      <td>Non-normalized</td>\n",
       "      <td>10.00000</td>\n",
       "      <td>Auto</td>\n",
       "      <td>NaN</td>\n",
       "      <td>NaN</td>\n",
       "      <td>NaN</td>\n",
       "      <td>NaN</td>\n",
       "      <td>NaN</td>\n",
       "      <td>NaN</td>\n",
       "      <td>NaN</td>\n",
       "    </tr>\n",
       "    <tr>\n",
       "      <th>6</th>\n",
       "      <td>Scaled, Ridge Regression, Alpha 100, auto solver</td>\n",
       "      <td>8s</td>\n",
       "      <td>0.506801</td>\n",
       "      <td>19.321831</td>\n",
       "      <td>0.448304</td>\n",
       "      <td>21.273216</td>\n",
       "      <td>Ridge Regression</td>\n",
       "      <td>Scaled w/MinMaxScaler</td>\n",
       "      <td>Non-normalized</td>\n",
       "      <td>100.00000</td>\n",
       "      <td>Auto</td>\n",
       "      <td>NaN</td>\n",
       "      <td>NaN</td>\n",
       "      <td>NaN</td>\n",
       "      <td>NaN</td>\n",
       "      <td>NaN</td>\n",
       "      <td>NaN</td>\n",
       "      <td>NaN</td>\n",
       "    </tr>\n",
       "    <tr>\n",
       "      <th>7</th>\n",
       "      <td>Scaled, LASSO, Alpha 0.001</td>\n",
       "      <td>9s</td>\n",
       "      <td>0.643860</td>\n",
       "      <td>16.419036</td>\n",
       "      <td>0.587094</td>\n",
       "      <td>18.403844</td>\n",
       "      <td>LASSO</td>\n",
       "      <td>Scaled w/MinMaxScaler</td>\n",
       "      <td>Non-normalized</td>\n",
       "      <td>0.00100</td>\n",
       "      <td>NaN</td>\n",
       "      <td>NaN</td>\n",
       "      <td>NaN</td>\n",
       "      <td>NaN</td>\n",
       "      <td>NaN</td>\n",
       "      <td>NaN</td>\n",
       "      <td>NaN</td>\n",
       "      <td>NaN</td>\n",
       "    </tr>\n",
       "    <tr>\n",
       "      <th>8</th>\n",
       "      <td>Scaled, LASSO, Alpha 0.01</td>\n",
       "      <td>10s</td>\n",
       "      <td>0.617542</td>\n",
       "      <td>17.014891</td>\n",
       "      <td>0.571804</td>\n",
       "      <td>18.741508</td>\n",
       "      <td>LASSO</td>\n",
       "      <td>Scaled w/MinMaxScaler</td>\n",
       "      <td>Non-normalized</td>\n",
       "      <td>0.01000</td>\n",
       "      <td>NaN</td>\n",
       "      <td>NaN</td>\n",
       "      <td>NaN</td>\n",
       "      <td>NaN</td>\n",
       "      <td>NaN</td>\n",
       "      <td>NaN</td>\n",
       "      <td>NaN</td>\n",
       "      <td>NaN</td>\n",
       "    </tr>\n",
       "    <tr>\n",
       "      <th>9</th>\n",
       "      <td>Scaled, LASSO, Alpha 0.1</td>\n",
       "      <td>11s</td>\n",
       "      <td>0.570733</td>\n",
       "      <td>18.026074</td>\n",
       "      <td>0.546129</td>\n",
       "      <td>19.295200</td>\n",
       "      <td>LASSO</td>\n",
       "      <td>Scaled w/MinMaxScaler</td>\n",
       "      <td>Non-normalized</td>\n",
       "      <td>0.10000</td>\n",
       "      <td>NaN</td>\n",
       "      <td>NaN</td>\n",
       "      <td>NaN</td>\n",
       "      <td>NaN</td>\n",
       "      <td>NaN</td>\n",
       "      <td>NaN</td>\n",
       "      <td>NaN</td>\n",
       "      <td>NaN</td>\n",
       "    </tr>\n",
       "    <tr>\n",
       "      <th>10</th>\n",
       "      <td>Scaled, LASSO, Alpha 1</td>\n",
       "      <td>12s</td>\n",
       "      <td>0.316435</td>\n",
       "      <td>22.747154</td>\n",
       "      <td>0.268863</td>\n",
       "      <td>24.489641</td>\n",
       "      <td>LASSO</td>\n",
       "      <td>Scaled w/MinMaxScaler</td>\n",
       "      <td>Non-normalized</td>\n",
       "      <td>1.00000</td>\n",
       "      <td>NaN</td>\n",
       "      <td>NaN</td>\n",
       "      <td>NaN</td>\n",
       "      <td>NaN</td>\n",
       "      <td>NaN</td>\n",
       "      <td>NaN</td>\n",
       "      <td>NaN</td>\n",
       "      <td>NaN</td>\n",
       "    </tr>\n",
       "    <tr>\n",
       "      <th>11</th>\n",
       "      <td>Scaled, LASSO, Alpha 10</td>\n",
       "      <td>13s</td>\n",
       "      <td>0.000000</td>\n",
       "      <td>27.512956</td>\n",
       "      <td>-0.001131</td>\n",
       "      <td>28.656861</td>\n",
       "      <td>LASSO</td>\n",
       "      <td>Scaled w/MinMaxScaler</td>\n",
       "      <td>Non-normalized</td>\n",
       "      <td>10.00000</td>\n",
       "      <td>NaN</td>\n",
       "      <td>NaN</td>\n",
       "      <td>NaN</td>\n",
       "      <td>NaN</td>\n",
       "      <td>NaN</td>\n",
       "      <td>NaN</td>\n",
       "      <td>NaN</td>\n",
       "      <td>NaN</td>\n",
       "    </tr>\n",
       "    <tr>\n",
       "      <th>12</th>\n",
       "      <td>Scaled, LASSO, Alpha 100</td>\n",
       "      <td>14s</td>\n",
       "      <td>0.000000</td>\n",
       "      <td>27.512956</td>\n",
       "      <td>-0.001131</td>\n",
       "      <td>28.656861</td>\n",
       "      <td>LASSO</td>\n",
       "      <td>Scaled w/MinMaxScaler</td>\n",
       "      <td>Non-normalized</td>\n",
       "      <td>100.00000</td>\n",
       "      <td>NaN</td>\n",
       "      <td>NaN</td>\n",
       "      <td>NaN</td>\n",
       "      <td>NaN</td>\n",
       "      <td>NaN</td>\n",
       "      <td>NaN</td>\n",
       "      <td>NaN</td>\n",
       "      <td>NaN</td>\n",
       "    </tr>\n",
       "    <tr>\n",
       "      <th>13</th>\n",
       "      <td>Scaled, ElasticNet, L1 Ratio 0.25,  Alpha 0.001</td>\n",
       "      <td>15s</td>\n",
       "      <td>0.622597</td>\n",
       "      <td>16.902075</td>\n",
       "      <td>0.569806</td>\n",
       "      <td>18.785180</td>\n",
       "      <td>ElasticNet</td>\n",
       "      <td>Scaled w/MinMaxScaler</td>\n",
       "      <td>Non-normalized</td>\n",
       "      <td>0.00100</td>\n",
       "      <td>NaN</td>\n",
       "      <td>NaN</td>\n",
       "      <td>0.25</td>\n",
       "      <td>NaN</td>\n",
       "      <td>NaN</td>\n",
       "      <td>NaN</td>\n",
       "      <td>NaN</td>\n",
       "      <td>NaN</td>\n",
       "    </tr>\n",
       "    <tr>\n",
       "      <th>14</th>\n",
       "      <td>Scaled, ElasticNet, L1 Ratio 0.25, Alpha 0.01</td>\n",
       "      <td>16s</td>\n",
       "      <td>0.579847</td>\n",
       "      <td>17.833676</td>\n",
       "      <td>0.538840</td>\n",
       "      <td>19.449525</td>\n",
       "      <td>ElasticNet</td>\n",
       "      <td>Scaled w/MinMaxScaler</td>\n",
       "      <td>Non-normalized</td>\n",
       "      <td>0.01000</td>\n",
       "      <td>NaN</td>\n",
       "      <td>NaN</td>\n",
       "      <td>0.25</td>\n",
       "      <td>NaN</td>\n",
       "      <td>NaN</td>\n",
       "      <td>NaN</td>\n",
       "      <td>NaN</td>\n",
       "      <td>NaN</td>\n",
       "    </tr>\n",
       "    <tr>\n",
       "      <th>15</th>\n",
       "      <td>Scaled, ElasticNet, L1 Ratio 0.25, Alpha 0.1</td>\n",
       "      <td>17s</td>\n",
       "      <td>0.481420</td>\n",
       "      <td>19.812770</td>\n",
       "      <td>0.422516</td>\n",
       "      <td>21.764719</td>\n",
       "      <td>ElasticNet</td>\n",
       "      <td>Scaled w/MinMaxScaler</td>\n",
       "      <td>Non-normalized</td>\n",
       "      <td>0.10000</td>\n",
       "      <td>NaN</td>\n",
       "      <td>NaN</td>\n",
       "      <td>0.25</td>\n",
       "      <td>NaN</td>\n",
       "      <td>NaN</td>\n",
       "      <td>NaN</td>\n",
       "      <td>NaN</td>\n",
       "      <td>NaN</td>\n",
       "    </tr>\n",
       "    <tr>\n",
       "      <th>16</th>\n",
       "      <td>Scaled, ElasticNet, L1 Ratio 0.25, Alpha 1</td>\n",
       "      <td>18s</td>\n",
       "      <td>0.251438</td>\n",
       "      <td>23.804070</td>\n",
       "      <td>0.208446</td>\n",
       "      <td>25.481407</td>\n",
       "      <td>ElasticNet</td>\n",
       "      <td>Scaled w/MinMaxScaler</td>\n",
       "      <td>Non-normalized</td>\n",
       "      <td>1.00000</td>\n",
       "      <td>NaN</td>\n",
       "      <td>NaN</td>\n",
       "      <td>0.25</td>\n",
       "      <td>NaN</td>\n",
       "      <td>NaN</td>\n",
       "      <td>NaN</td>\n",
       "      <td>NaN</td>\n",
       "      <td>NaN</td>\n",
       "    </tr>\n",
       "    <tr>\n",
       "      <th>17</th>\n",
       "      <td>Scaled, ElasticNet, L1 Ratio 0.25, Alpha 10</td>\n",
       "      <td>19s</td>\n",
       "      <td>0.001840</td>\n",
       "      <td>27.487634</td>\n",
       "      <td>0.000128</td>\n",
       "      <td>28.638825</td>\n",
       "      <td>ElasticNet</td>\n",
       "      <td>Scaled w/MinMaxScaler</td>\n",
       "      <td>Non-normalized</td>\n",
       "      <td>10.00000</td>\n",
       "      <td>NaN</td>\n",
       "      <td>NaN</td>\n",
       "      <td>0.25</td>\n",
       "      <td>NaN</td>\n",
       "      <td>NaN</td>\n",
       "      <td>NaN</td>\n",
       "      <td>NaN</td>\n",
       "      <td>NaN</td>\n",
       "    </tr>\n",
       "    <tr>\n",
       "      <th>18</th>\n",
       "      <td>Scaled, ElasticNet, L1 Ratio 0.25, Alpha 100</td>\n",
       "      <td>20s</td>\n",
       "      <td>0.000000</td>\n",
       "      <td>27.512956</td>\n",
       "      <td>-0.001131</td>\n",
       "      <td>28.656861</td>\n",
       "      <td>ElasticNet</td>\n",
       "      <td>Scaled w/MinMaxScaler</td>\n",
       "      <td>Non-normalized</td>\n",
       "      <td>100.00000</td>\n",
       "      <td>NaN</td>\n",
       "      <td>NaN</td>\n",
       "      <td>0.25</td>\n",
       "      <td>NaN</td>\n",
       "      <td>NaN</td>\n",
       "      <td>NaN</td>\n",
       "      <td>NaN</td>\n",
       "      <td>NaN</td>\n",
       "    </tr>\n",
       "    <tr>\n",
       "      <th>19</th>\n",
       "      <td>Scaled, ElasticNet, L1 Ratio 0.5,  Alpha 0.001</td>\n",
       "      <td>21s</td>\n",
       "      <td>0.624821</td>\n",
       "      <td>16.852201</td>\n",
       "      <td>0.569735</td>\n",
       "      <td>18.786717</td>\n",
       "      <td>ElasticNet</td>\n",
       "      <td>Scaled w/MinMaxScaler</td>\n",
       "      <td>Non-normalized</td>\n",
       "      <td>0.00100</td>\n",
       "      <td>NaN</td>\n",
       "      <td>NaN</td>\n",
       "      <td>0.50</td>\n",
       "      <td>NaN</td>\n",
       "      <td>NaN</td>\n",
       "      <td>NaN</td>\n",
       "      <td>NaN</td>\n",
       "      <td>NaN</td>\n",
       "    </tr>\n",
       "    <tr>\n",
       "      <th>20</th>\n",
       "      <td>Scaled, ElasticNet, L1 Ratio 0.5, Alpha 0.01</td>\n",
       "      <td>22s</td>\n",
       "      <td>0.590359</td>\n",
       "      <td>17.609164</td>\n",
       "      <td>0.551738</td>\n",
       "      <td>19.175608</td>\n",
       "      <td>ElasticNet</td>\n",
       "      <td>Scaled w/MinMaxScaler</td>\n",
       "      <td>Non-normalized</td>\n",
       "      <td>0.01000</td>\n",
       "      <td>NaN</td>\n",
       "      <td>NaN</td>\n",
       "      <td>0.50</td>\n",
       "      <td>NaN</td>\n",
       "      <td>NaN</td>\n",
       "      <td>NaN</td>\n",
       "      <td>NaN</td>\n",
       "      <td>NaN</td>\n",
       "    </tr>\n",
       "    <tr>\n",
       "      <th>21</th>\n",
       "      <td>Scaled, ElasticNet, L1 Ratio 0.5, Alpha 0.1</td>\n",
       "      <td>23s</td>\n",
       "      <td>0.481420</td>\n",
       "      <td>19.812770</td>\n",
       "      <td>0.422516</td>\n",
       "      <td>21.764719</td>\n",
       "      <td>ElasticNet</td>\n",
       "      <td>Scaled w/MinMaxScaler</td>\n",
       "      <td>Non-normalized</td>\n",
       "      <td>0.10000</td>\n",
       "      <td>NaN</td>\n",
       "      <td>NaN</td>\n",
       "      <td>0.50</td>\n",
       "      <td>NaN</td>\n",
       "      <td>NaN</td>\n",
       "      <td>NaN</td>\n",
       "      <td>NaN</td>\n",
       "      <td>NaN</td>\n",
       "    </tr>\n",
       "    <tr>\n",
       "      <th>22</th>\n",
       "      <td>Scaled, ElasticNet, L1 Ratio 0.5, Alpha 1</td>\n",
       "      <td>24s</td>\n",
       "      <td>0.245154</td>\n",
       "      <td>23.903780</td>\n",
       "      <td>0.201792</td>\n",
       "      <td>25.588284</td>\n",
       "      <td>ElasticNet</td>\n",
       "      <td>Scaled w/MinMaxScaler</td>\n",
       "      <td>Non-normalized</td>\n",
       "      <td>1.00000</td>\n",
       "      <td>NaN</td>\n",
       "      <td>NaN</td>\n",
       "      <td>0.50</td>\n",
       "      <td>NaN</td>\n",
       "      <td>NaN</td>\n",
       "      <td>NaN</td>\n",
       "      <td>NaN</td>\n",
       "      <td>NaN</td>\n",
       "    </tr>\n",
       "    <tr>\n",
       "      <th>23</th>\n",
       "      <td>Scaled, ElasticNet, L1 Ratio 0.5, Alpha 10</td>\n",
       "      <td>25s</td>\n",
       "      <td>0.000000</td>\n",
       "      <td>27.512956</td>\n",
       "      <td>-0.001131</td>\n",
       "      <td>28.656861</td>\n",
       "      <td>ElasticNet</td>\n",
       "      <td>Scaled w/MinMaxScaler</td>\n",
       "      <td>Non-normalized</td>\n",
       "      <td>10.00000</td>\n",
       "      <td>NaN</td>\n",
       "      <td>NaN</td>\n",
       "      <td>0.50</td>\n",
       "      <td>NaN</td>\n",
       "      <td>NaN</td>\n",
       "      <td>NaN</td>\n",
       "      <td>NaN</td>\n",
       "      <td>NaN</td>\n",
       "    </tr>\n",
       "    <tr>\n",
       "      <th>24</th>\n",
       "      <td>Scaled, ElasticNet, L1 Ratio 0.5, Alpha 100</td>\n",
       "      <td>26s</td>\n",
       "      <td>0.000000</td>\n",
       "      <td>27.512956</td>\n",
       "      <td>-0.001131</td>\n",
       "      <td>28.656861</td>\n",
       "      <td>ElasticNet</td>\n",
       "      <td>Scaled w/MinMaxScaler</td>\n",
       "      <td>Non-normalized</td>\n",
       "      <td>100.00000</td>\n",
       "      <td>NaN</td>\n",
       "      <td>NaN</td>\n",
       "      <td>0.50</td>\n",
       "      <td>NaN</td>\n",
       "      <td>NaN</td>\n",
       "      <td>NaN</td>\n",
       "      <td>NaN</td>\n",
       "      <td>NaN</td>\n",
       "    </tr>\n",
       "    <tr>\n",
       "      <th>25</th>\n",
       "      <td>Scaled, ElasticNet, L1 Ratio 0.75,  Alpha 0.001</td>\n",
       "      <td>27s</td>\n",
       "      <td>0.629599</td>\n",
       "      <td>16.744551</td>\n",
       "      <td>0.570192</td>\n",
       "      <td>18.776752</td>\n",
       "      <td>ElasticNet</td>\n",
       "      <td>Scaled w/MinMaxScaler</td>\n",
       "      <td>Non-normalized</td>\n",
       "      <td>0.00100</td>\n",
       "      <td>NaN</td>\n",
       "      <td>NaN</td>\n",
       "      <td>0.75</td>\n",
       "      <td>NaN</td>\n",
       "      <td>NaN</td>\n",
       "      <td>NaN</td>\n",
       "      <td>NaN</td>\n",
       "      <td>NaN</td>\n",
       "    </tr>\n",
       "    <tr>\n",
       "      <th>26</th>\n",
       "      <td>Scaled, ElasticNet, L1 Ratio 0.75, Alpha 0.01,...</td>\n",
       "      <td>28s</td>\n",
       "      <td>0.602795</td>\n",
       "      <td>17.339828</td>\n",
       "      <td>0.564731</td>\n",
       "      <td>18.895657</td>\n",
       "      <td>ElasticNet</td>\n",
       "      <td>Scaled w/MinMaxScaler</td>\n",
       "      <td>Non-normalized</td>\n",
       "      <td>0.01000</td>\n",
       "      <td>NaN</td>\n",
       "      <td>NaN</td>\n",
       "      <td>0.75</td>\n",
       "      <td>NaN</td>\n",
       "      <td>NaN</td>\n",
       "      <td>NaN</td>\n",
       "      <td>NaN</td>\n",
       "      <td>NaN</td>\n",
       "    </tr>\n",
       "    <tr>\n",
       "      <th>27</th>\n",
       "      <td>Scaled, ElasticNet, L1 Ratio 0.75, Alpha 0.1, ...</td>\n",
       "      <td>29s</td>\n",
       "      <td>0.505149</td>\n",
       "      <td>19.354176</td>\n",
       "      <td>0.454923</td>\n",
       "      <td>21.145209</td>\n",
       "      <td>ElasticNet</td>\n",
       "      <td>Scaled w/MinMaxScaler</td>\n",
       "      <td>Non-normalized</td>\n",
       "      <td>0.10000</td>\n",
       "      <td>NaN</td>\n",
       "      <td>NaN</td>\n",
       "      <td>0.75</td>\n",
       "      <td>NaN</td>\n",
       "      <td>NaN</td>\n",
       "      <td>NaN</td>\n",
       "      <td>NaN</td>\n",
       "      <td>NaN</td>\n",
       "    </tr>\n",
       "    <tr>\n",
       "      <th>28</th>\n",
       "      <td>Scaled, ElasticNet, L1 Ratio 0.75, Alpha 1, au...</td>\n",
       "      <td>30s</td>\n",
       "      <td>0.250498</td>\n",
       "      <td>23.819008</td>\n",
       "      <td>0.204771</td>\n",
       "      <td>25.540484</td>\n",
       "      <td>ElasticNet</td>\n",
       "      <td>Scaled w/MinMaxScaler</td>\n",
       "      <td>Non-normalized</td>\n",
       "      <td>1.00000</td>\n",
       "      <td>NaN</td>\n",
       "      <td>NaN</td>\n",
       "      <td>0.75</td>\n",
       "      <td>NaN</td>\n",
       "      <td>NaN</td>\n",
       "      <td>NaN</td>\n",
       "      <td>NaN</td>\n",
       "      <td>NaN</td>\n",
       "    </tr>\n",
       "    <tr>\n",
       "      <th>29</th>\n",
       "      <td>Scaled, ElasticNet, L1 Ratio 0.75, Alpha 10, a...</td>\n",
       "      <td>31s</td>\n",
       "      <td>0.000000</td>\n",
       "      <td>27.512956</td>\n",
       "      <td>-0.001131</td>\n",
       "      <td>28.656861</td>\n",
       "      <td>ElasticNet</td>\n",
       "      <td>Scaled w/MinMaxScaler</td>\n",
       "      <td>Non-normalized</td>\n",
       "      <td>10.00000</td>\n",
       "      <td>NaN</td>\n",
       "      <td>NaN</td>\n",
       "      <td>0.75</td>\n",
       "      <td>NaN</td>\n",
       "      <td>NaN</td>\n",
       "      <td>NaN</td>\n",
       "      <td>NaN</td>\n",
       "      <td>NaN</td>\n",
       "    </tr>\n",
       "    <tr>\n",
       "      <th>...</th>\n",
       "      <td>...</td>\n",
       "      <td>...</td>\n",
       "      <td>...</td>\n",
       "      <td>...</td>\n",
       "      <td>...</td>\n",
       "      <td>...</td>\n",
       "      <td>...</td>\n",
       "      <td>...</td>\n",
       "      <td>...</td>\n",
       "      <td>...</td>\n",
       "      <td>...</td>\n",
       "      <td>...</td>\n",
       "      <td>...</td>\n",
       "      <td>...</td>\n",
       "      <td>...</td>\n",
       "      <td>...</td>\n",
       "      <td>...</td>\n",
       "      <td>...</td>\n",
       "    </tr>\n",
       "    <tr>\n",
       "      <th>36</th>\n",
       "      <td>Scaled, SGD, loss=Huber, L2,  Alpha 1</td>\n",
       "      <td>38s</td>\n",
       "      <td>-39.980697</td>\n",
       "      <td>176.127403</td>\n",
       "      <td>-36.486598</td>\n",
       "      <td>175.356180</td>\n",
       "      <td>SGD Linear Regression</td>\n",
       "      <td>Scaled w/MinMaxScaler</td>\n",
       "      <td>Non-normalized</td>\n",
       "      <td>1.00000</td>\n",
       "      <td>NaN</td>\n",
       "      <td>L2</td>\n",
       "      <td>NaN</td>\n",
       "      <td>0.10</td>\n",
       "      <td>invscaling</td>\n",
       "      <td>0.010</td>\n",
       "      <td>0.25</td>\n",
       "      <td>NaN</td>\n",
       "    </tr>\n",
       "    <tr>\n",
       "      <th>37</th>\n",
       "      <td>Scaled, SGD, loss=Huber, L2,  Alpha 10</td>\n",
       "      <td>39s</td>\n",
       "      <td>-41.379342</td>\n",
       "      <td>179.107743</td>\n",
       "      <td>-37.770303</td>\n",
       "      <td>178.333387</td>\n",
       "      <td>SGD Linear Regression</td>\n",
       "      <td>Scaled w/MinMaxScaler</td>\n",
       "      <td>Non-normalized</td>\n",
       "      <td>10.00000</td>\n",
       "      <td>NaN</td>\n",
       "      <td>L2</td>\n",
       "      <td>NaN</td>\n",
       "      <td>0.10</td>\n",
       "      <td>invscaling</td>\n",
       "      <td>0.010</td>\n",
       "      <td>0.25</td>\n",
       "      <td>NaN</td>\n",
       "    </tr>\n",
       "    <tr>\n",
       "      <th>38</th>\n",
       "      <td>Scaled, SGD, loss=Huber, L2,  Alpha 100</td>\n",
       "      <td>40s</td>\n",
       "      <td>-41.519636</td>\n",
       "      <td>179.403961</td>\n",
       "      <td>-37.899099</td>\n",
       "      <td>178.629356</td>\n",
       "      <td>SGD Linear Regression</td>\n",
       "      <td>Scaled w/MinMaxScaler</td>\n",
       "      <td>Non-normalized</td>\n",
       "      <td>100.00000</td>\n",
       "      <td>NaN</td>\n",
       "      <td>L2</td>\n",
       "      <td>NaN</td>\n",
       "      <td>0.10</td>\n",
       "      <td>invscaling</td>\n",
       "      <td>0.010</td>\n",
       "      <td>0.25</td>\n",
       "      <td>NaN</td>\n",
       "    </tr>\n",
       "    <tr>\n",
       "      <th>39</th>\n",
       "      <td>Scaled, SGD, loss=Huber, L2,  Alpha 0.00001, c...</td>\n",
       "      <td>41s</td>\n",
       "      <td>0.086986</td>\n",
       "      <td>26.289115</td>\n",
       "      <td>0.081950</td>\n",
       "      <td>27.442037</td>\n",
       "      <td>SGD Linear Regression</td>\n",
       "      <td>Scaled w/MinMaxScaler</td>\n",
       "      <td>Non-normalized</td>\n",
       "      <td>0.00001</td>\n",
       "      <td>NaN</td>\n",
       "      <td>L2</td>\n",
       "      <td>NaN</td>\n",
       "      <td>0.10</td>\n",
       "      <td>Constant</td>\n",
       "      <td>0.010</td>\n",
       "      <td>0.25</td>\n",
       "      <td>NaN</td>\n",
       "    </tr>\n",
       "    <tr>\n",
       "      <th>40</th>\n",
       "      <td>Scaled, SGD, loss=Huber, L2,  Alpha 0.0001, co...</td>\n",
       "      <td>41s2</td>\n",
       "      <td>0.086254</td>\n",
       "      <td>26.299646</td>\n",
       "      <td>0.081557</td>\n",
       "      <td>27.447901</td>\n",
       "      <td>SGD Linear Regression</td>\n",
       "      <td>Scaled w/MinMaxScaler</td>\n",
       "      <td>Non-normalized</td>\n",
       "      <td>0.00010</td>\n",
       "      <td>NaN</td>\n",
       "      <td>L2</td>\n",
       "      <td>NaN</td>\n",
       "      <td>0.10</td>\n",
       "      <td>Constant</td>\n",
       "      <td>0.010</td>\n",
       "      <td>0.25</td>\n",
       "      <td>NaN</td>\n",
       "    </tr>\n",
       "    <tr>\n",
       "      <th>41</th>\n",
       "      <td>Scaled, SGD, loss=Huber, L2,  Alpha 0.001, con...</td>\n",
       "      <td>41s3</td>\n",
       "      <td>0.078746</td>\n",
       "      <td>26.407481</td>\n",
       "      <td>0.076678</td>\n",
       "      <td>27.520714</td>\n",
       "      <td>SGD Linear Regression</td>\n",
       "      <td>Scaled w/MinMaxScaler</td>\n",
       "      <td>Non-normalized</td>\n",
       "      <td>0.00100</td>\n",
       "      <td>NaN</td>\n",
       "      <td>L2</td>\n",
       "      <td>NaN</td>\n",
       "      <td>0.10</td>\n",
       "      <td>Constant</td>\n",
       "      <td>0.010</td>\n",
       "      <td>0.25</td>\n",
       "      <td>NaN</td>\n",
       "    </tr>\n",
       "    <tr>\n",
       "      <th>42</th>\n",
       "      <td>Scaled, SGD, loss=Huber, L2,  Alpha 0.01, cons...</td>\n",
       "      <td>41s4</td>\n",
       "      <td>-0.234071</td>\n",
       "      <td>30.563804</td>\n",
       "      <td>-0.184589</td>\n",
       "      <td>31.172155</td>\n",
       "      <td>SGD Linear Regression</td>\n",
       "      <td>Scaled w/MinMaxScaler</td>\n",
       "      <td>Non-normalized</td>\n",
       "      <td>0.01000</td>\n",
       "      <td>NaN</td>\n",
       "      <td>L2</td>\n",
       "      <td>NaN</td>\n",
       "      <td>0.10</td>\n",
       "      <td>Constant</td>\n",
       "      <td>0.010</td>\n",
       "      <td>0.25</td>\n",
       "      <td>NaN</td>\n",
       "    </tr>\n",
       "    <tr>\n",
       "      <th>43</th>\n",
       "      <td>Scaled, SGD, loss=Huber, L2,  Alpha 0.00001, e...</td>\n",
       "      <td>41s5</td>\n",
       "      <td>-24.766489</td>\n",
       "      <td>139.657699</td>\n",
       "      <td>-22.533040</td>\n",
       "      <td>138.938332</td>\n",
       "      <td>SGD Linear Regression</td>\n",
       "      <td>Scaled w/MinMaxScaler</td>\n",
       "      <td>Non-normalized</td>\n",
       "      <td>0.00001</td>\n",
       "      <td>NaN</td>\n",
       "      <td>L2</td>\n",
       "      <td>NaN</td>\n",
       "      <td>0.01</td>\n",
       "      <td>Constant</td>\n",
       "      <td>0.010</td>\n",
       "      <td>0.25</td>\n",
       "      <td>NaN</td>\n",
       "    </tr>\n",
       "    <tr>\n",
       "      <th>44</th>\n",
       "      <td>Scaled, SGD, loss=Huber, L2,  Alpha 0.00001, e...</td>\n",
       "      <td>41s6</td>\n",
       "      <td>0.420614</td>\n",
       "      <td>20.942158</td>\n",
       "      <td>0.380912</td>\n",
       "      <td>22.535091</td>\n",
       "      <td>SGD Linear Regression</td>\n",
       "      <td>Scaled w/MinMaxScaler</td>\n",
       "      <td>Non-normalized</td>\n",
       "      <td>0.00001</td>\n",
       "      <td>NaN</td>\n",
       "      <td>L2</td>\n",
       "      <td>NaN</td>\n",
       "      <td>1.00</td>\n",
       "      <td>Constant</td>\n",
       "      <td>0.010</td>\n",
       "      <td>0.25</td>\n",
       "      <td>NaN</td>\n",
       "    </tr>\n",
       "    <tr>\n",
       "      <th>45</th>\n",
       "      <td>Scaled, SGD, loss=Huber, L2,  Alpha 0.00001, e...</td>\n",
       "      <td>41s7</td>\n",
       "      <td>0.461651</td>\n",
       "      <td>20.186885</td>\n",
       "      <td>0.413013</td>\n",
       "      <td>21.943062</td>\n",
       "      <td>SGD Linear Regression</td>\n",
       "      <td>Scaled w/MinMaxScaler</td>\n",
       "      <td>Non-normalized</td>\n",
       "      <td>0.00001</td>\n",
       "      <td>NaN</td>\n",
       "      <td>L2</td>\n",
       "      <td>NaN</td>\n",
       "      <td>2.00</td>\n",
       "      <td>Constant</td>\n",
       "      <td>0.010</td>\n",
       "      <td>0.25</td>\n",
       "      <td>NaN</td>\n",
       "    </tr>\n",
       "    <tr>\n",
       "      <th>46</th>\n",
       "      <td>Scaled, SGD, loss=Huber, L2,  Alpha 0.00001, e...</td>\n",
       "      <td>41s8</td>\n",
       "      <td>0.492965</td>\n",
       "      <td>19.590986</td>\n",
       "      <td>0.447196</td>\n",
       "      <td>21.294553</td>\n",
       "      <td>SGD Linear Regression</td>\n",
       "      <td>Scaled w/MinMaxScaler</td>\n",
       "      <td>Non-normalized</td>\n",
       "      <td>0.00001</td>\n",
       "      <td>NaN</td>\n",
       "      <td>L2</td>\n",
       "      <td>NaN</td>\n",
       "      <td>4.00</td>\n",
       "      <td>Constant</td>\n",
       "      <td>0.010</td>\n",
       "      <td>0.25</td>\n",
       "      <td>NaN</td>\n",
       "    </tr>\n",
       "    <tr>\n",
       "      <th>47</th>\n",
       "      <td>Scaled, SGD, loss=Huber, L2,  Alpha 0.00001, e...</td>\n",
       "      <td>41s9</td>\n",
       "      <td>0.387535</td>\n",
       "      <td>21.531686</td>\n",
       "      <td>0.380060</td>\n",
       "      <td>22.550581</td>\n",
       "      <td>SGD Linear Regression</td>\n",
       "      <td>Scaled w/MinMaxScaler</td>\n",
       "      <td>Non-normalized</td>\n",
       "      <td>0.00001</td>\n",
       "      <td>NaN</td>\n",
       "      <td>L2</td>\n",
       "      <td>NaN</td>\n",
       "      <td>32.00</td>\n",
       "      <td>Constant</td>\n",
       "      <td>0.010</td>\n",
       "      <td>0.25</td>\n",
       "      <td>NaN</td>\n",
       "    </tr>\n",
       "    <tr>\n",
       "      <th>48</th>\n",
       "      <td>Scaled, SGD, loss=Huber, L2,  Alpha 0.00001, e...</td>\n",
       "      <td>41s10</td>\n",
       "      <td>0.470558</td>\n",
       "      <td>20.019184</td>\n",
       "      <td>0.451495</td>\n",
       "      <td>21.211604</td>\n",
       "      <td>SGD Linear Regression</td>\n",
       "      <td>Scaled w/MinMaxScaler</td>\n",
       "      <td>Non-normalized</td>\n",
       "      <td>0.00001</td>\n",
       "      <td>NaN</td>\n",
       "      <td>L2</td>\n",
       "      <td>NaN</td>\n",
       "      <td>18.00</td>\n",
       "      <td>Constant</td>\n",
       "      <td>0.010</td>\n",
       "      <td>0.25</td>\n",
       "      <td>NaN</td>\n",
       "    </tr>\n",
       "    <tr>\n",
       "      <th>49</th>\n",
       "      <td>Scaled, SGD, loss=Huber, L2,  Alpha 0.00001, e...</td>\n",
       "      <td>41s11</td>\n",
       "      <td>0.471749</td>\n",
       "      <td>19.996659</td>\n",
       "      <td>0.445585</td>\n",
       "      <td>21.325565</td>\n",
       "      <td>SGD Linear Regression</td>\n",
       "      <td>Scaled w/MinMaxScaler</td>\n",
       "      <td>Non-normalized</td>\n",
       "      <td>0.00001</td>\n",
       "      <td>NaN</td>\n",
       "      <td>L2</td>\n",
       "      <td>NaN</td>\n",
       "      <td>18.00</td>\n",
       "      <td>Constant</td>\n",
       "      <td>0.010</td>\n",
       "      <td>0.25</td>\n",
       "      <td>NaN</td>\n",
       "    </tr>\n",
       "    <tr>\n",
       "      <th>50</th>\n",
       "      <td>Scaled, SGD, loss=Huber, L2,  Alpha 0.00001, e...</td>\n",
       "      <td>41s12</td>\n",
       "      <td>0.499950</td>\n",
       "      <td>19.455568</td>\n",
       "      <td>0.456304</td>\n",
       "      <td>21.118403</td>\n",
       "      <td>SGD Linear Regression</td>\n",
       "      <td>Scaled w/MinMaxScaler</td>\n",
       "      <td>Non-normalized</td>\n",
       "      <td>0.00001</td>\n",
       "      <td>NaN</td>\n",
       "      <td>L2</td>\n",
       "      <td>NaN</td>\n",
       "      <td>5.00</td>\n",
       "      <td>Constant</td>\n",
       "      <td>0.010</td>\n",
       "      <td>0.25</td>\n",
       "      <td>NaN</td>\n",
       "    </tr>\n",
       "    <tr>\n",
       "      <th>51</th>\n",
       "      <td>Scaled, SGD, loss=Huber, L1,  Alpha 0.00001, e...</td>\n",
       "      <td>41s13</td>\n",
       "      <td>0.500008</td>\n",
       "      <td>19.454452</td>\n",
       "      <td>0.456348</td>\n",
       "      <td>21.117545</td>\n",
       "      <td>SGD Linear Regression</td>\n",
       "      <td>Scaled w/MinMaxScaler</td>\n",
       "      <td>Non-normalized</td>\n",
       "      <td>0.00001</td>\n",
       "      <td>NaN</td>\n",
       "      <td>L1</td>\n",
       "      <td>NaN</td>\n",
       "      <td>5.00</td>\n",
       "      <td>Constant</td>\n",
       "      <td>0.010</td>\n",
       "      <td>0.25</td>\n",
       "      <td>NaN</td>\n",
       "    </tr>\n",
       "    <tr>\n",
       "      <th>52</th>\n",
       "      <td>Scaled, SGD, loss=Huber, L2,  Alpha 0.001, eps...</td>\n",
       "      <td>41s14</td>\n",
       "      <td>0.495858</td>\n",
       "      <td>19.535009</td>\n",
       "      <td>0.451754</td>\n",
       "      <td>21.206593</td>\n",
       "      <td>SGD Linear Regression</td>\n",
       "      <td>Scaled w/MinMaxScaler</td>\n",
       "      <td>Non-normalized</td>\n",
       "      <td>0.00100</td>\n",
       "      <td>NaN</td>\n",
       "      <td>L2</td>\n",
       "      <td>NaN</td>\n",
       "      <td>5.00</td>\n",
       "      <td>Constant</td>\n",
       "      <td>0.010</td>\n",
       "      <td>0.25</td>\n",
       "      <td>NaN</td>\n",
       "    </tr>\n",
       "    <tr>\n",
       "      <th>53</th>\n",
       "      <td>Scaled, SGD, loss=Huber, L2,  Alpha 0.00001, e...</td>\n",
       "      <td>41s15</td>\n",
       "      <td>0.408442</td>\n",
       "      <td>21.160984</td>\n",
       "      <td>0.407773</td>\n",
       "      <td>22.040791</td>\n",
       "      <td>SGD Linear Regression</td>\n",
       "      <td>Scaled w/MinMaxScaler</td>\n",
       "      <td>Non-normalized</td>\n",
       "      <td>0.00001</td>\n",
       "      <td>NaN</td>\n",
       "      <td>L2</td>\n",
       "      <td>NaN</td>\n",
       "      <td>5.00</td>\n",
       "      <td>Constant</td>\n",
       "      <td>0.100</td>\n",
       "      <td>0.25</td>\n",
       "      <td>NaN</td>\n",
       "    </tr>\n",
       "    <tr>\n",
       "      <th>54</th>\n",
       "      <td>Scaled, SGD, loss=Huber, L2,  Alpha 0.00001, e...</td>\n",
       "      <td>41s16</td>\n",
       "      <td>0.357250</td>\n",
       "      <td>22.057600</td>\n",
       "      <td>0.333889</td>\n",
       "      <td>23.375250</td>\n",
       "      <td>SGD Linear Regression</td>\n",
       "      <td>Scaled w/MinMaxScaler</td>\n",
       "      <td>Non-normalized</td>\n",
       "      <td>0.00001</td>\n",
       "      <td>NaN</td>\n",
       "      <td>L2</td>\n",
       "      <td>NaN</td>\n",
       "      <td>5.00</td>\n",
       "      <td>Constant</td>\n",
       "      <td>0.001</td>\n",
       "      <td>NaN</td>\n",
       "      <td>NaN</td>\n",
       "    </tr>\n",
       "    <tr>\n",
       "      <th>55</th>\n",
       "      <td>Scaled, SGD, loss=Huber, L2,  Alpha 0.00001, o...</td>\n",
       "      <td>42s</td>\n",
       "      <td>0.296684</td>\n",
       "      <td>23.073445</td>\n",
       "      <td>0.321423</td>\n",
       "      <td>23.592975</td>\n",
       "      <td>SGD Linear Regression</td>\n",
       "      <td>Scaled w/MinMaxScaler</td>\n",
       "      <td>Non-normalized</td>\n",
       "      <td>0.00001</td>\n",
       "      <td>NaN</td>\n",
       "      <td>L2</td>\n",
       "      <td>NaN</td>\n",
       "      <td>0.10</td>\n",
       "      <td>Optimal</td>\n",
       "      <td>0.010</td>\n",
       "      <td>0.25</td>\n",
       "      <td>NaN</td>\n",
       "    </tr>\n",
       "    <tr>\n",
       "      <th>56</th>\n",
       "      <td>Scaled, SGD, loss=Huber, L2, Alpha 0.00001, le...</td>\n",
       "      <td>43s</td>\n",
       "      <td>-150.357637</td>\n",
       "      <td>338.485001</td>\n",
       "      <td>-144.075788</td>\n",
       "      <td>344.969366</td>\n",
       "      <td>SGD Linear Regression</td>\n",
       "      <td>Scaled w/MinMaxScaler</td>\n",
       "      <td>Non-normalized</td>\n",
       "      <td>0.00001</td>\n",
       "      <td>NaN</td>\n",
       "      <td>L2</td>\n",
       "      <td>NaN</td>\n",
       "      <td>5.00</td>\n",
       "      <td>Optimal</td>\n",
       "      <td>0.010</td>\n",
       "      <td>0.25</td>\n",
       "      <td>NaN</td>\n",
       "    </tr>\n",
       "    <tr>\n",
       "      <th>57</th>\n",
       "      <td>Scaled, Unscaled, Kernel Ridge, Alpha 0.001, a...</td>\n",
       "      <td>49s</td>\n",
       "      <td>0.654069</td>\n",
       "      <td>16.181989</td>\n",
       "      <td>0.586187</td>\n",
       "      <td>18.424057</td>\n",
       "      <td>Kernel Ridge</td>\n",
       "      <td>Scaled w/MinMaxScaler</td>\n",
       "      <td>NaN</td>\n",
       "      <td>0.00100</td>\n",
       "      <td>NaN</td>\n",
       "      <td>NaN</td>\n",
       "      <td>NaN</td>\n",
       "      <td>NaN</td>\n",
       "      <td>NaN</td>\n",
       "      <td>NaN</td>\n",
       "      <td>NaN</td>\n",
       "      <td>NaN</td>\n",
       "    </tr>\n",
       "    <tr>\n",
       "      <th>58</th>\n",
       "      <td>Scaled, Unscaled, Kernel Ridge, Alpha 0.01, au...</td>\n",
       "      <td>50s</td>\n",
       "      <td>0.650806</td>\n",
       "      <td>16.258136</td>\n",
       "      <td>0.589297</td>\n",
       "      <td>18.354680</td>\n",
       "      <td>Kernel Ridge</td>\n",
       "      <td>Scaled w/MinMaxScaler</td>\n",
       "      <td>NaN</td>\n",
       "      <td>0.01000</td>\n",
       "      <td>NaN</td>\n",
       "      <td>NaN</td>\n",
       "      <td>NaN</td>\n",
       "      <td>NaN</td>\n",
       "      <td>NaN</td>\n",
       "      <td>NaN</td>\n",
       "      <td>NaN</td>\n",
       "      <td>NaN</td>\n",
       "    </tr>\n",
       "    <tr>\n",
       "      <th>59</th>\n",
       "      <td>Scaled, Unscaled, Kernel Ridge, Alpha 0.1, aut...</td>\n",
       "      <td>51s</td>\n",
       "      <td>0.641969</td>\n",
       "      <td>16.462558</td>\n",
       "      <td>0.579669</td>\n",
       "      <td>18.568580</td>\n",
       "      <td>Kernel Ridge</td>\n",
       "      <td>Scaled w/MinMaxScaler</td>\n",
       "      <td>NaN</td>\n",
       "      <td>0.10000</td>\n",
       "      <td>NaN</td>\n",
       "      <td>NaN</td>\n",
       "      <td>NaN</td>\n",
       "      <td>NaN</td>\n",
       "      <td>NaN</td>\n",
       "      <td>NaN</td>\n",
       "      <td>NaN</td>\n",
       "      <td>NaN</td>\n",
       "    </tr>\n",
       "    <tr>\n",
       "      <th>60</th>\n",
       "      <td>Scaled, Unscaled, Kernel Ridge, Alpha 1, auto ...</td>\n",
       "      <td>52s</td>\n",
       "      <td>0.627088</td>\n",
       "      <td>16.801200</td>\n",
       "      <td>0.570025</td>\n",
       "      <td>18.780394</td>\n",
       "      <td>Kernel Ridge</td>\n",
       "      <td>Scaled w/MinMaxScaler</td>\n",
       "      <td>NaN</td>\n",
       "      <td>1.00000</td>\n",
       "      <td>NaN</td>\n",
       "      <td>NaN</td>\n",
       "      <td>NaN</td>\n",
       "      <td>NaN</td>\n",
       "      <td>NaN</td>\n",
       "      <td>NaN</td>\n",
       "      <td>NaN</td>\n",
       "      <td>NaN</td>\n",
       "    </tr>\n",
       "    <tr>\n",
       "      <th>61</th>\n",
       "      <td>Scaled, Unscaled, Kernel Ridge, Alpha 10, auto...</td>\n",
       "      <td>53s</td>\n",
       "      <td>0.596650</td>\n",
       "      <td>17.473436</td>\n",
       "      <td>0.557948</td>\n",
       "      <td>19.042318</td>\n",
       "      <td>Kernel Ridge</td>\n",
       "      <td>Scaled w/MinMaxScaler</td>\n",
       "      <td>NaN</td>\n",
       "      <td>10.00000</td>\n",
       "      <td>NaN</td>\n",
       "      <td>NaN</td>\n",
       "      <td>NaN</td>\n",
       "      <td>NaN</td>\n",
       "      <td>NaN</td>\n",
       "      <td>NaN</td>\n",
       "      <td>NaN</td>\n",
       "      <td>NaN</td>\n",
       "    </tr>\n",
       "    <tr>\n",
       "      <th>62</th>\n",
       "      <td>Scaled, Unscaled, Kernel Ridge, Alpha 100, aut...</td>\n",
       "      <td>54s</td>\n",
       "      <td>0.503827</td>\n",
       "      <td>19.379994</td>\n",
       "      <td>0.456887</td>\n",
       "      <td>21.107076</td>\n",
       "      <td>Kernel Ridge</td>\n",
       "      <td>Scaled w/MinMaxScaler</td>\n",
       "      <td>NaN</td>\n",
       "      <td>100.00000</td>\n",
       "      <td>NaN</td>\n",
       "      <td>NaN</td>\n",
       "      <td>NaN</td>\n",
       "      <td>NaN</td>\n",
       "      <td>NaN</td>\n",
       "      <td>NaN</td>\n",
       "      <td>NaN</td>\n",
       "      <td>NaN</td>\n",
       "    </tr>\n",
       "    <tr>\n",
       "      <th>63</th>\n",
       "      <td>Scaled, Unscaled, Random Forest, 10 estimators</td>\n",
       "      <td>rfc_1s</td>\n",
       "      <td>0.915494</td>\n",
       "      <td>7.997993</td>\n",
       "      <td>0.523218</td>\n",
       "      <td>19.776208</td>\n",
       "      <td>Random Forest Regressor</td>\n",
       "      <td>Scaled w/MinMaxScaler</td>\n",
       "      <td>NaN</td>\n",
       "      <td>NaN</td>\n",
       "      <td>NaN</td>\n",
       "      <td>NaN</td>\n",
       "      <td>NaN</td>\n",
       "      <td>NaN</td>\n",
       "      <td>NaN</td>\n",
       "      <td>NaN</td>\n",
       "      <td>NaN</td>\n",
       "      <td>10.0</td>\n",
       "    </tr>\n",
       "    <tr>\n",
       "      <th>64</th>\n",
       "      <td>Scaled, Unscaled, Random Forest, 100 estimators</td>\n",
       "      <td>rfc_2s</td>\n",
       "      <td>0.938262</td>\n",
       "      <td>6.836188</td>\n",
       "      <td>0.572861</td>\n",
       "      <td>18.718344</td>\n",
       "      <td>Random Forest Regressor</td>\n",
       "      <td>Scaled w/MinMaxScaler</td>\n",
       "      <td>NaN</td>\n",
       "      <td>NaN</td>\n",
       "      <td>NaN</td>\n",
       "      <td>NaN</td>\n",
       "      <td>NaN</td>\n",
       "      <td>NaN</td>\n",
       "      <td>NaN</td>\n",
       "      <td>NaN</td>\n",
       "      <td>NaN</td>\n",
       "      <td>100.0</td>\n",
       "    </tr>\n",
       "    <tr>\n",
       "      <th>65</th>\n",
       "      <td>Scaled, Unscaled, Random Forest, 1,000 estimators</td>\n",
       "      <td>rfc_3s</td>\n",
       "      <td>0.915474</td>\n",
       "      <td>8.112725</td>\n",
       "      <td>0.516572</td>\n",
       "      <td>18.788647</td>\n",
       "      <td>Random Forest Regressor</td>\n",
       "      <td>Scaled w/MinMaxScaler</td>\n",
       "      <td>NaN</td>\n",
       "      <td>NaN</td>\n",
       "      <td>NaN</td>\n",
       "      <td>NaN</td>\n",
       "      <td>NaN</td>\n",
       "      <td>NaN</td>\n",
       "      <td>NaN</td>\n",
       "      <td>NaN</td>\n",
       "      <td>NaN</td>\n",
       "      <td>1000.0</td>\n",
       "    </tr>\n",
       "  </tbody>\n",
       "</table>\n",
       "<p>66 rows × 18 columns</p>\n",
       "</div>"
      ],
      "text/plain": [
       "                         Individual Algorithm Summary    LR_#  \\\n",
       "0                       Scaled, OLS Linear Regression      2s   \n",
       "1   Scaled, Ridge Regression, Alpha 0.001, auto so...      3s   \n",
       "2   Scaled, Ridge Regression, Alpha 0.01, auto solver      4s   \n",
       "3    Scaled, Ridge Regression, Alpha 0.1, auto solver      5s   \n",
       "4      Scaled, Ridge Regression, Alpha 1, auto solver      6s   \n",
       "5     Scaled, Ridge Regression, Alpha 10, auto solver      7s   \n",
       "6    Scaled, Ridge Regression, Alpha 100, auto solver      8s   \n",
       "7                          Scaled, LASSO, Alpha 0.001      9s   \n",
       "8                           Scaled, LASSO, Alpha 0.01     10s   \n",
       "9                            Scaled, LASSO, Alpha 0.1     11s   \n",
       "10                             Scaled, LASSO, Alpha 1     12s   \n",
       "11                            Scaled, LASSO, Alpha 10     13s   \n",
       "12                           Scaled, LASSO, Alpha 100     14s   \n",
       "13    Scaled, ElasticNet, L1 Ratio 0.25,  Alpha 0.001     15s   \n",
       "14      Scaled, ElasticNet, L1 Ratio 0.25, Alpha 0.01     16s   \n",
       "15       Scaled, ElasticNet, L1 Ratio 0.25, Alpha 0.1     17s   \n",
       "16         Scaled, ElasticNet, L1 Ratio 0.25, Alpha 1     18s   \n",
       "17        Scaled, ElasticNet, L1 Ratio 0.25, Alpha 10     19s   \n",
       "18       Scaled, ElasticNet, L1 Ratio 0.25, Alpha 100     20s   \n",
       "19     Scaled, ElasticNet, L1 Ratio 0.5,  Alpha 0.001     21s   \n",
       "20       Scaled, ElasticNet, L1 Ratio 0.5, Alpha 0.01     22s   \n",
       "21        Scaled, ElasticNet, L1 Ratio 0.5, Alpha 0.1     23s   \n",
       "22          Scaled, ElasticNet, L1 Ratio 0.5, Alpha 1     24s   \n",
       "23         Scaled, ElasticNet, L1 Ratio 0.5, Alpha 10     25s   \n",
       "24        Scaled, ElasticNet, L1 Ratio 0.5, Alpha 100     26s   \n",
       "25    Scaled, ElasticNet, L1 Ratio 0.75,  Alpha 0.001     27s   \n",
       "26  Scaled, ElasticNet, L1 Ratio 0.75, Alpha 0.01,...     28s   \n",
       "27  Scaled, ElasticNet, L1 Ratio 0.75, Alpha 0.1, ...     29s   \n",
       "28  Scaled, ElasticNet, L1 Ratio 0.75, Alpha 1, au...     30s   \n",
       "29  Scaled, ElasticNet, L1 Ratio 0.75, Alpha 10, a...     31s   \n",
       "..                                                ...     ...   \n",
       "36              Scaled, SGD, loss=Huber, L2,  Alpha 1     38s   \n",
       "37             Scaled, SGD, loss=Huber, L2,  Alpha 10     39s   \n",
       "38            Scaled, SGD, loss=Huber, L2,  Alpha 100     40s   \n",
       "39  Scaled, SGD, loss=Huber, L2,  Alpha 0.00001, c...     41s   \n",
       "40  Scaled, SGD, loss=Huber, L2,  Alpha 0.0001, co...    41s2   \n",
       "41  Scaled, SGD, loss=Huber, L2,  Alpha 0.001, con...    41s3   \n",
       "42  Scaled, SGD, loss=Huber, L2,  Alpha 0.01, cons...    41s4   \n",
       "43  Scaled, SGD, loss=Huber, L2,  Alpha 0.00001, e...    41s5   \n",
       "44  Scaled, SGD, loss=Huber, L2,  Alpha 0.00001, e...    41s6   \n",
       "45  Scaled, SGD, loss=Huber, L2,  Alpha 0.00001, e...    41s7   \n",
       "46  Scaled, SGD, loss=Huber, L2,  Alpha 0.00001, e...    41s8   \n",
       "47  Scaled, SGD, loss=Huber, L2,  Alpha 0.00001, e...    41s9   \n",
       "48  Scaled, SGD, loss=Huber, L2,  Alpha 0.00001, e...   41s10   \n",
       "49  Scaled, SGD, loss=Huber, L2,  Alpha 0.00001, e...   41s11   \n",
       "50  Scaled, SGD, loss=Huber, L2,  Alpha 0.00001, e...   41s12   \n",
       "51  Scaled, SGD, loss=Huber, L1,  Alpha 0.00001, e...   41s13   \n",
       "52  Scaled, SGD, loss=Huber, L2,  Alpha 0.001, eps...   41s14   \n",
       "53  Scaled, SGD, loss=Huber, L2,  Alpha 0.00001, e...   41s15   \n",
       "54  Scaled, SGD, loss=Huber, L2,  Alpha 0.00001, e...   41s16   \n",
       "55  Scaled, SGD, loss=Huber, L2,  Alpha 0.00001, o...     42s   \n",
       "56  Scaled, SGD, loss=Huber, L2, Alpha 0.00001, le...     43s   \n",
       "57  Scaled, Unscaled, Kernel Ridge, Alpha 0.001, a...     49s   \n",
       "58  Scaled, Unscaled, Kernel Ridge, Alpha 0.01, au...     50s   \n",
       "59  Scaled, Unscaled, Kernel Ridge, Alpha 0.1, aut...     51s   \n",
       "60  Scaled, Unscaled, Kernel Ridge, Alpha 1, auto ...     52s   \n",
       "61  Scaled, Unscaled, Kernel Ridge, Alpha 10, auto...     53s   \n",
       "62  Scaled, Unscaled, Kernel Ridge, Alpha 100, aut...     54s   \n",
       "63     Scaled, Unscaled, Random Forest, 10 estimators  rfc_1s   \n",
       "64    Scaled, Unscaled, Random Forest, 100 estimators  rfc_2s   \n",
       "65  Scaled, Unscaled, Random Forest, 1,000 estimators  rfc_3s   \n",
       "\n",
       "    Train_Accuracy_Score  Train_RMSE  Test_Accuracy_Score   Test_RMSE  \\\n",
       "0               0.656942   16.114653             0.587403   18.396952   \n",
       "1               0.654067   16.182031             0.586034   18.427462   \n",
       "2               0.650823   16.257739             0.589173   18.357456   \n",
       "3               0.641879   16.464633             0.579563   18.570916   \n",
       "4               0.627356   16.795160             0.569512   18.791586   \n",
       "5               0.598495   17.433424             0.557742   19.046755   \n",
       "6               0.506801   19.321831             0.448304   21.273216   \n",
       "7               0.643860   16.419036             0.587094   18.403844   \n",
       "8               0.617542   17.014891             0.571804   18.741508   \n",
       "9               0.570733   18.026074             0.546129   19.295200   \n",
       "10              0.316435   22.747154             0.268863   24.489641   \n",
       "11              0.000000   27.512956            -0.001131   28.656861   \n",
       "12              0.000000   27.512956            -0.001131   28.656861   \n",
       "13              0.622597   16.902075             0.569806   18.785180   \n",
       "14              0.579847   17.833676             0.538840   19.449525   \n",
       "15              0.481420   19.812770             0.422516   21.764719   \n",
       "16              0.251438   23.804070             0.208446   25.481407   \n",
       "17              0.001840   27.487634             0.000128   28.638825   \n",
       "18              0.000000   27.512956            -0.001131   28.656861   \n",
       "19              0.624821   16.852201             0.569735   18.786717   \n",
       "20              0.590359   17.609164             0.551738   19.175608   \n",
       "21              0.481420   19.812770             0.422516   21.764719   \n",
       "22              0.245154   23.903780             0.201792   25.588284   \n",
       "23              0.000000   27.512956            -0.001131   28.656861   \n",
       "24              0.000000   27.512956            -0.001131   28.656861   \n",
       "25              0.629599   16.744551             0.570192   18.776752   \n",
       "26              0.602795   17.339828             0.564731   18.895657   \n",
       "27              0.505149   19.354176             0.454923   21.145209   \n",
       "28              0.250498   23.819008             0.204771   25.540484   \n",
       "29              0.000000   27.512956            -0.001131   28.656861   \n",
       "..                   ...         ...                  ...         ...   \n",
       "36            -39.980697  176.127403           -36.486598  175.356180   \n",
       "37            -41.379342  179.107743           -37.770303  178.333387   \n",
       "38            -41.519636  179.403961           -37.899099  178.629356   \n",
       "39              0.086986   26.289115             0.081950   27.442037   \n",
       "40              0.086254   26.299646             0.081557   27.447901   \n",
       "41              0.078746   26.407481             0.076678   27.520714   \n",
       "42             -0.234071   30.563804            -0.184589   31.172155   \n",
       "43            -24.766489  139.657699           -22.533040  138.938332   \n",
       "44              0.420614   20.942158             0.380912   22.535091   \n",
       "45              0.461651   20.186885             0.413013   21.943062   \n",
       "46              0.492965   19.590986             0.447196   21.294553   \n",
       "47              0.387535   21.531686             0.380060   22.550581   \n",
       "48              0.470558   20.019184             0.451495   21.211604   \n",
       "49              0.471749   19.996659             0.445585   21.325565   \n",
       "50              0.499950   19.455568             0.456304   21.118403   \n",
       "51              0.500008   19.454452             0.456348   21.117545   \n",
       "52              0.495858   19.535009             0.451754   21.206593   \n",
       "53              0.408442   21.160984             0.407773   22.040791   \n",
       "54              0.357250   22.057600             0.333889   23.375250   \n",
       "55              0.296684   23.073445             0.321423   23.592975   \n",
       "56           -150.357637  338.485001          -144.075788  344.969366   \n",
       "57              0.654069   16.181989             0.586187   18.424057   \n",
       "58              0.650806   16.258136             0.589297   18.354680   \n",
       "59              0.641969   16.462558             0.579669   18.568580   \n",
       "60              0.627088   16.801200             0.570025   18.780394   \n",
       "61              0.596650   17.473436             0.557948   19.042318   \n",
       "62              0.503827   19.379994             0.456887   21.107076   \n",
       "63              0.915494    7.997993             0.523218   19.776208   \n",
       "64              0.938262    6.836188             0.572861   18.718344   \n",
       "65              0.915474    8.112725             0.516572   18.788647   \n",
       "\n",
       "                      Model        Unscaled/Scaled Non-normalized/Normalized  \\\n",
       "0     OLS Linear Regression  Scaled w/MinMaxScaler            Non-normalized   \n",
       "1          Ridge Regression  Scaled w/MinMaxScaler            Non-normalized   \n",
       "2          Ridge Regression  Scaled w/MinMaxScaler            Non-normalized   \n",
       "3          Ridge Regression  Scaled w/MinMaxScaler            Non-normalized   \n",
       "4          Ridge Regression  Scaled w/MinMaxScaler            Non-normalized   \n",
       "5          Ridge Regression  Scaled w/MinMaxScaler            Non-normalized   \n",
       "6          Ridge Regression  Scaled w/MinMaxScaler            Non-normalized   \n",
       "7                     LASSO  Scaled w/MinMaxScaler            Non-normalized   \n",
       "8                     LASSO  Scaled w/MinMaxScaler            Non-normalized   \n",
       "9                     LASSO  Scaled w/MinMaxScaler            Non-normalized   \n",
       "10                    LASSO  Scaled w/MinMaxScaler            Non-normalized   \n",
       "11                    LASSO  Scaled w/MinMaxScaler            Non-normalized   \n",
       "12                    LASSO  Scaled w/MinMaxScaler            Non-normalized   \n",
       "13               ElasticNet  Scaled w/MinMaxScaler            Non-normalized   \n",
       "14               ElasticNet  Scaled w/MinMaxScaler            Non-normalized   \n",
       "15               ElasticNet  Scaled w/MinMaxScaler            Non-normalized   \n",
       "16               ElasticNet  Scaled w/MinMaxScaler            Non-normalized   \n",
       "17               ElasticNet  Scaled w/MinMaxScaler            Non-normalized   \n",
       "18               ElasticNet  Scaled w/MinMaxScaler            Non-normalized   \n",
       "19               ElasticNet  Scaled w/MinMaxScaler            Non-normalized   \n",
       "20               ElasticNet  Scaled w/MinMaxScaler            Non-normalized   \n",
       "21               ElasticNet  Scaled w/MinMaxScaler            Non-normalized   \n",
       "22               ElasticNet  Scaled w/MinMaxScaler            Non-normalized   \n",
       "23               ElasticNet  Scaled w/MinMaxScaler            Non-normalized   \n",
       "24               ElasticNet  Scaled w/MinMaxScaler            Non-normalized   \n",
       "25               ElasticNet  Scaled w/MinMaxScaler            Non-normalized   \n",
       "26               ElasticNet  Scaled w/MinMaxScaler            Non-normalized   \n",
       "27               ElasticNet  Scaled w/MinMaxScaler            Non-normalized   \n",
       "28               ElasticNet  Scaled w/MinMaxScaler            Non-normalized   \n",
       "29               ElasticNet  Scaled w/MinMaxScaler            Non-normalized   \n",
       "..                      ...                    ...                       ...   \n",
       "36    SGD Linear Regression  Scaled w/MinMaxScaler            Non-normalized   \n",
       "37    SGD Linear Regression  Scaled w/MinMaxScaler            Non-normalized   \n",
       "38    SGD Linear Regression  Scaled w/MinMaxScaler            Non-normalized   \n",
       "39    SGD Linear Regression  Scaled w/MinMaxScaler            Non-normalized   \n",
       "40    SGD Linear Regression  Scaled w/MinMaxScaler            Non-normalized   \n",
       "41    SGD Linear Regression  Scaled w/MinMaxScaler            Non-normalized   \n",
       "42    SGD Linear Regression  Scaled w/MinMaxScaler            Non-normalized   \n",
       "43    SGD Linear Regression  Scaled w/MinMaxScaler            Non-normalized   \n",
       "44    SGD Linear Regression  Scaled w/MinMaxScaler            Non-normalized   \n",
       "45    SGD Linear Regression  Scaled w/MinMaxScaler            Non-normalized   \n",
       "46    SGD Linear Regression  Scaled w/MinMaxScaler            Non-normalized   \n",
       "47    SGD Linear Regression  Scaled w/MinMaxScaler            Non-normalized   \n",
       "48    SGD Linear Regression  Scaled w/MinMaxScaler            Non-normalized   \n",
       "49    SGD Linear Regression  Scaled w/MinMaxScaler            Non-normalized   \n",
       "50    SGD Linear Regression  Scaled w/MinMaxScaler            Non-normalized   \n",
       "51    SGD Linear Regression  Scaled w/MinMaxScaler            Non-normalized   \n",
       "52    SGD Linear Regression  Scaled w/MinMaxScaler            Non-normalized   \n",
       "53    SGD Linear Regression  Scaled w/MinMaxScaler            Non-normalized   \n",
       "54    SGD Linear Regression  Scaled w/MinMaxScaler            Non-normalized   \n",
       "55    SGD Linear Regression  Scaled w/MinMaxScaler            Non-normalized   \n",
       "56    SGD Linear Regression  Scaled w/MinMaxScaler            Non-normalized   \n",
       "57             Kernel Ridge  Scaled w/MinMaxScaler                       NaN   \n",
       "58             Kernel Ridge  Scaled w/MinMaxScaler                       NaN   \n",
       "59             Kernel Ridge  Scaled w/MinMaxScaler                       NaN   \n",
       "60             Kernel Ridge  Scaled w/MinMaxScaler                       NaN   \n",
       "61             Kernel Ridge  Scaled w/MinMaxScaler                       NaN   \n",
       "62             Kernel Ridge  Scaled w/MinMaxScaler                       NaN   \n",
       "63  Random Forest Regressor  Scaled w/MinMaxScaler                       NaN   \n",
       "64  Random Forest Regressor  Scaled w/MinMaxScaler                       NaN   \n",
       "65  Random Forest Regressor  Scaled w/MinMaxScaler                       NaN   \n",
       "\n",
       "        Alpha Solver Penalty  L1 Ratio (for ElasticNet)  \\\n",
       "0         NaN    NaN     NaN                        NaN   \n",
       "1     0.00100   Auto     NaN                        NaN   \n",
       "2     0.01000   Auto     NaN                        NaN   \n",
       "3     0.10000   Auto     NaN                        NaN   \n",
       "4     1.00000   Auto     NaN                        NaN   \n",
       "5    10.00000   Auto     NaN                        NaN   \n",
       "6   100.00000   Auto     NaN                        NaN   \n",
       "7     0.00100    NaN     NaN                        NaN   \n",
       "8     0.01000    NaN     NaN                        NaN   \n",
       "9     0.10000    NaN     NaN                        NaN   \n",
       "10    1.00000    NaN     NaN                        NaN   \n",
       "11   10.00000    NaN     NaN                        NaN   \n",
       "12  100.00000    NaN     NaN                        NaN   \n",
       "13    0.00100    NaN     NaN                       0.25   \n",
       "14    0.01000    NaN     NaN                       0.25   \n",
       "15    0.10000    NaN     NaN                       0.25   \n",
       "16    1.00000    NaN     NaN                       0.25   \n",
       "17   10.00000    NaN     NaN                       0.25   \n",
       "18  100.00000    NaN     NaN                       0.25   \n",
       "19    0.00100    NaN     NaN                       0.50   \n",
       "20    0.01000    NaN     NaN                       0.50   \n",
       "21    0.10000    NaN     NaN                       0.50   \n",
       "22    1.00000    NaN     NaN                       0.50   \n",
       "23   10.00000    NaN     NaN                       0.50   \n",
       "24  100.00000    NaN     NaN                       0.50   \n",
       "25    0.00100    NaN     NaN                       0.75   \n",
       "26    0.01000    NaN     NaN                       0.75   \n",
       "27    0.10000    NaN     NaN                       0.75   \n",
       "28    1.00000    NaN     NaN                       0.75   \n",
       "29   10.00000    NaN     NaN                       0.75   \n",
       "..        ...    ...     ...                        ...   \n",
       "36    1.00000    NaN      L2                        NaN   \n",
       "37   10.00000    NaN      L2                        NaN   \n",
       "38  100.00000    NaN      L2                        NaN   \n",
       "39    0.00001    NaN      L2                        NaN   \n",
       "40    0.00010    NaN      L2                        NaN   \n",
       "41    0.00100    NaN      L2                        NaN   \n",
       "42    0.01000    NaN      L2                        NaN   \n",
       "43    0.00001    NaN      L2                        NaN   \n",
       "44    0.00001    NaN      L2                        NaN   \n",
       "45    0.00001    NaN      L2                        NaN   \n",
       "46    0.00001    NaN      L2                        NaN   \n",
       "47    0.00001    NaN      L2                        NaN   \n",
       "48    0.00001    NaN      L2                        NaN   \n",
       "49    0.00001    NaN      L2                        NaN   \n",
       "50    0.00001    NaN      L2                        NaN   \n",
       "51    0.00001    NaN      L1                        NaN   \n",
       "52    0.00100    NaN      L2                        NaN   \n",
       "53    0.00001    NaN      L2                        NaN   \n",
       "54    0.00001    NaN      L2                        NaN   \n",
       "55    0.00001    NaN      L2                        NaN   \n",
       "56    0.00001    NaN      L2                        NaN   \n",
       "57    0.00100    NaN     NaN                        NaN   \n",
       "58    0.01000    NaN     NaN                        NaN   \n",
       "59    0.10000    NaN     NaN                        NaN   \n",
       "60    1.00000    NaN     NaN                        NaN   \n",
       "61   10.00000    NaN     NaN                        NaN   \n",
       "62  100.00000    NaN     NaN                        NaN   \n",
       "63        NaN    NaN     NaN                        NaN   \n",
       "64        NaN    NaN     NaN                        NaN   \n",
       "65        NaN    NaN     NaN                        NaN   \n",
       "\n",
       "    epsilon (for SGD Regressor) learning_rate (for SGD Regressor)  \\\n",
       "0                           NaN                               NaN   \n",
       "1                           NaN                               NaN   \n",
       "2                           NaN                               NaN   \n",
       "3                           NaN                               NaN   \n",
       "4                           NaN                               NaN   \n",
       "5                           NaN                               NaN   \n",
       "6                           NaN                               NaN   \n",
       "7                           NaN                               NaN   \n",
       "8                           NaN                               NaN   \n",
       "9                           NaN                               NaN   \n",
       "10                          NaN                               NaN   \n",
       "11                          NaN                               NaN   \n",
       "12                          NaN                               NaN   \n",
       "13                          NaN                               NaN   \n",
       "14                          NaN                               NaN   \n",
       "15                          NaN                               NaN   \n",
       "16                          NaN                               NaN   \n",
       "17                          NaN                               NaN   \n",
       "18                          NaN                               NaN   \n",
       "19                          NaN                               NaN   \n",
       "20                          NaN                               NaN   \n",
       "21                          NaN                               NaN   \n",
       "22                          NaN                               NaN   \n",
       "23                          NaN                               NaN   \n",
       "24                          NaN                               NaN   \n",
       "25                          NaN                               NaN   \n",
       "26                          NaN                               NaN   \n",
       "27                          NaN                               NaN   \n",
       "28                          NaN                               NaN   \n",
       "29                          NaN                               NaN   \n",
       "..                          ...                               ...   \n",
       "36                         0.10                        invscaling   \n",
       "37                         0.10                        invscaling   \n",
       "38                         0.10                        invscaling   \n",
       "39                         0.10                          Constant   \n",
       "40                         0.10                          Constant   \n",
       "41                         0.10                          Constant   \n",
       "42                         0.10                          Constant   \n",
       "43                         0.01                          Constant   \n",
       "44                         1.00                          Constant   \n",
       "45                         2.00                          Constant   \n",
       "46                         4.00                          Constant   \n",
       "47                        32.00                          Constant   \n",
       "48                        18.00                          Constant   \n",
       "49                        18.00                          Constant   \n",
       "50                         5.00                          Constant   \n",
       "51                         5.00                          Constant   \n",
       "52                         5.00                          Constant   \n",
       "53                         5.00                          Constant   \n",
       "54                         5.00                          Constant   \n",
       "55                         0.10                           Optimal   \n",
       "56                         5.00                           Optimal   \n",
       "57                          NaN                               NaN   \n",
       "58                          NaN                               NaN   \n",
       "59                          NaN                               NaN   \n",
       "60                          NaN                               NaN   \n",
       "61                          NaN                               NaN   \n",
       "62                          NaN                               NaN   \n",
       "63                          NaN                               NaN   \n",
       "64                          NaN                               NaN   \n",
       "65                          NaN                               NaN   \n",
       "\n",
       "    eta0 (for SGD Regressor)  power_t (for SGD Regressor)  \\\n",
       "0                        NaN                          NaN   \n",
       "1                        NaN                          NaN   \n",
       "2                        NaN                          NaN   \n",
       "3                        NaN                          NaN   \n",
       "4                        NaN                          NaN   \n",
       "5                        NaN                          NaN   \n",
       "6                        NaN                          NaN   \n",
       "7                        NaN                          NaN   \n",
       "8                        NaN                          NaN   \n",
       "9                        NaN                          NaN   \n",
       "10                       NaN                          NaN   \n",
       "11                       NaN                          NaN   \n",
       "12                       NaN                          NaN   \n",
       "13                       NaN                          NaN   \n",
       "14                       NaN                          NaN   \n",
       "15                       NaN                          NaN   \n",
       "16                       NaN                          NaN   \n",
       "17                       NaN                          NaN   \n",
       "18                       NaN                          NaN   \n",
       "19                       NaN                          NaN   \n",
       "20                       NaN                          NaN   \n",
       "21                       NaN                          NaN   \n",
       "22                       NaN                          NaN   \n",
       "23                       NaN                          NaN   \n",
       "24                       NaN                          NaN   \n",
       "25                       NaN                          NaN   \n",
       "26                       NaN                          NaN   \n",
       "27                       NaN                          NaN   \n",
       "28                       NaN                          NaN   \n",
       "29                       NaN                          NaN   \n",
       "..                       ...                          ...   \n",
       "36                     0.010                         0.25   \n",
       "37                     0.010                         0.25   \n",
       "38                     0.010                         0.25   \n",
       "39                     0.010                         0.25   \n",
       "40                     0.010                         0.25   \n",
       "41                     0.010                         0.25   \n",
       "42                     0.010                         0.25   \n",
       "43                     0.010                         0.25   \n",
       "44                     0.010                         0.25   \n",
       "45                     0.010                         0.25   \n",
       "46                     0.010                         0.25   \n",
       "47                     0.010                         0.25   \n",
       "48                     0.010                         0.25   \n",
       "49                     0.010                         0.25   \n",
       "50                     0.010                         0.25   \n",
       "51                     0.010                         0.25   \n",
       "52                     0.010                         0.25   \n",
       "53                     0.100                         0.25   \n",
       "54                     0.001                          NaN   \n",
       "55                     0.010                         0.25   \n",
       "56                     0.010                         0.25   \n",
       "57                       NaN                          NaN   \n",
       "58                       NaN                          NaN   \n",
       "59                       NaN                          NaN   \n",
       "60                       NaN                          NaN   \n",
       "61                       NaN                          NaN   \n",
       "62                       NaN                          NaN   \n",
       "63                       NaN                          NaN   \n",
       "64                       NaN                          NaN   \n",
       "65                       NaN                          NaN   \n",
       "\n",
       "    estimators (for Random Forest)  \n",
       "0                              NaN  \n",
       "1                              NaN  \n",
       "2                              NaN  \n",
       "3                              NaN  \n",
       "4                              NaN  \n",
       "5                              NaN  \n",
       "6                              NaN  \n",
       "7                              NaN  \n",
       "8                              NaN  \n",
       "9                              NaN  \n",
       "10                             NaN  \n",
       "11                             NaN  \n",
       "12                             NaN  \n",
       "13                             NaN  \n",
       "14                             NaN  \n",
       "15                             NaN  \n",
       "16                             NaN  \n",
       "17                             NaN  \n",
       "18                             NaN  \n",
       "19                             NaN  \n",
       "20                             NaN  \n",
       "21                             NaN  \n",
       "22                             NaN  \n",
       "23                             NaN  \n",
       "24                             NaN  \n",
       "25                             NaN  \n",
       "26                             NaN  \n",
       "27                             NaN  \n",
       "28                             NaN  \n",
       "29                             NaN  \n",
       "..                             ...  \n",
       "36                             NaN  \n",
       "37                             NaN  \n",
       "38                             NaN  \n",
       "39                             NaN  \n",
       "40                             NaN  \n",
       "41                             NaN  \n",
       "42                             NaN  \n",
       "43                             NaN  \n",
       "44                             NaN  \n",
       "45                             NaN  \n",
       "46                             NaN  \n",
       "47                             NaN  \n",
       "48                             NaN  \n",
       "49                             NaN  \n",
       "50                             NaN  \n",
       "51                             NaN  \n",
       "52                             NaN  \n",
       "53                             NaN  \n",
       "54                             NaN  \n",
       "55                             NaN  \n",
       "56                             NaN  \n",
       "57                             NaN  \n",
       "58                             NaN  \n",
       "59                             NaN  \n",
       "60                             NaN  \n",
       "61                             NaN  \n",
       "62                             NaN  \n",
       "63                            10.0  \n",
       "64                           100.0  \n",
       "65                          1000.0  \n",
       "\n",
       "[66 rows x 18 columns]"
      ]
     },
     "execution_count": 496,
     "metadata": {},
     "output_type": "execute_result"
    }
   ],
   "source": [
    "hp_tuning_table_scaled = pd.read_excel('HP tuning table - 2nd Capstone_Loew.xlsx', \n",
    "                                         sheet_name = 'HP_Tuning_Scaled')\n",
    "hp_tuning_table_scaled"
   ]
  },
  {
   "cell_type": "markdown",
   "metadata": {},
   "source": [
    "## Linear Regression: Basic OLS with 80/20 Train-Test Split"
   ]
  },
  {
   "cell_type": "code",
   "execution_count": 23,
   "metadata": {
    "scrolled": true
   },
   "outputs": [
    {
     "data": {
      "text/plain": [
       "LinearRegression(copy_X=True, fit_intercept=True, n_jobs=None,\n",
       "         normalize=False)"
      ]
     },
     "execution_count": 23,
     "metadata": {},
     "output_type": "execute_result"
    }
   ],
   "source": [
    "lr_2s = linear_model.LinearRegression()\n",
    "lr_2s"
   ]
  },
  {
   "cell_type": "markdown",
   "metadata": {},
   "source": [
    "The algorithm is fitted on the training set, and the accuracy is returned on the training and test sets."
   ]
  },
  {
   "cell_type": "code",
   "execution_count": 24,
   "metadata": {
    "scrolled": false
   },
   "outputs": [
    {
     "data": {
      "text/plain": [
       "LinearRegression(copy_X=True, fit_intercept=True, n_jobs=None,\n",
       "         normalize=False)"
      ]
     },
     "execution_count": 24,
     "metadata": {},
     "output_type": "execute_result"
    }
   ],
   "source": [
    "lr_2s.fit(X_train_scaled, y_train_s)"
   ]
  },
  {
   "cell_type": "code",
   "execution_count": 25,
   "metadata": {
    "scrolled": false
   },
   "outputs": [
    {
     "data": {
      "text/plain": [
       "array([205.34965043, 144.40875261, 172.82581495, 207.42879221,\n",
       "       175.83027318, 205.79965587, 159.92975648, 164.26279351,\n",
       "       177.70119614, 188.12027613, 181.06853988, 154.31624421,\n",
       "       164.57319426, 152.9644585 , 181.71956604, 158.86328955,\n",
       "       165.18700099, 176.80968266, 155.70322452, 165.51491075])"
      ]
     },
     "execution_count": 25,
     "metadata": {},
     "output_type": "execute_result"
    }
   ],
   "source": [
    "y_pred_2s_train = lr_2s.predict(X_train_scaled)\n",
    "y_pred_2s_train[0:20]"
   ]
  },
  {
   "cell_type": "code",
   "execution_count": 26,
   "metadata": {
    "scrolled": false
   },
   "outputs": [
    {
     "name": "stdout",
     "output_type": "stream",
     "text": [
      "Training Set R^2: 0.6569421223282644\n",
      "Training Set Root Mean Squared Error: 16.114652945166245\n"
     ]
    }
   ],
   "source": [
    "print(\"Training Set R^2: {}\".format(lr_2s.score(X_train_scaled, y_train_s)))\n",
    "rmse_2s_train = np.sqrt(mean_squared_error(y_train_s, y_pred_2s_train))\n",
    "print(\"Training Set Root Mean Squared Error: {}\".format(rmse_2s_train))"
   ]
  },
  {
   "cell_type": "code",
   "execution_count": 27,
   "metadata": {
    "scrolled": false
   },
   "outputs": [
    {
     "data": {
      "text/plain": [
       "array([189.51006262, 210.45582131, 209.64045497, 178.19697654,\n",
       "       223.0685086 , 154.16860381, 176.98182981, 150.17886328,\n",
       "       178.58665787, 205.42524552, 195.19021305, 192.26975466,\n",
       "       193.33067064, 198.38772533, 180.66171092, 187.05399446,\n",
       "       180.84429804, 175.88308909, 185.28043424, 193.40841834])"
      ]
     },
     "execution_count": 27,
     "metadata": {},
     "output_type": "execute_result"
    }
   ],
   "source": [
    "y_pred_2s_test = lr_2s.predict(X_test_scaled)\n",
    "y_pred_2s_test[0:20]"
   ]
  },
  {
   "cell_type": "code",
   "execution_count": 28,
   "metadata": {
    "scrolled": false
   },
   "outputs": [
    {
     "name": "stdout",
     "output_type": "stream",
     "text": [
      "Test Set R^2: 0.5874033947522772\n",
      "Test Set Root Mean Squared Error: 18.39695246165718\n"
     ]
    }
   ],
   "source": [
    "print(\"Test Set R^2: {}\".format(lr_2s.score(X_test_scaled, y_test_s)))\n",
    "rmse_2s_test = np.sqrt(mean_squared_error(y_test_s, y_pred_2s_test))\n",
    "print(\"Test Set Root Mean Squared Error: {}\".format(rmse_2s_test))"
   ]
  },
  {
   "cell_type": "code",
   "execution_count": 29,
   "metadata": {},
   "outputs": [],
   "source": [
    "filename = 'cancer_lr_2s.sav'\n",
    "pickle.dump(lr_2s, open(filename, 'wb'))"
   ]
  },
  {
   "cell_type": "markdown",
   "metadata": {},
   "source": [
    "## Ridge Regression"
   ]
  },
  {
   "cell_type": "code",
   "execution_count": 30,
   "metadata": {},
   "outputs": [],
   "source": [
    "lr_3s = linear_model.Ridge(alpha=0.001)"
   ]
  },
  {
   "cell_type": "code",
   "execution_count": 31,
   "metadata": {
    "scrolled": false
   },
   "outputs": [
    {
     "data": {
      "text/plain": [
       "Ridge(alpha=0.001, copy_X=True, fit_intercept=True, max_iter=None,\n",
       "   normalize=False, random_state=None, solver='auto', tol=0.001)"
      ]
     },
     "execution_count": 31,
     "metadata": {},
     "output_type": "execute_result"
    }
   ],
   "source": [
    "lr_3s.fit(X_train_scaled, y_train_s)"
   ]
  },
  {
   "cell_type": "code",
   "execution_count": 32,
   "metadata": {
    "scrolled": false
   },
   "outputs": [
    {
     "data": {
      "text/plain": [
       "array([205.18264653, 142.49530512, 171.81864453, 206.87144113,\n",
       "       176.4434895 , 205.46001474, 158.99882779, 163.81926516,\n",
       "       179.18041282, 188.80541397, 181.15206823, 154.80151973,\n",
       "       164.80302034, 152.19525231, 182.83191044, 160.83949051,\n",
       "       166.67091248, 176.99585167, 155.19724844, 166.98878919])"
      ]
     },
     "execution_count": 32,
     "metadata": {},
     "output_type": "execute_result"
    }
   ],
   "source": [
    "y_pred_3s_train = lr_3s.predict(X_train_scaled)\n",
    "y_pred_3s_train[0:20]"
   ]
  },
  {
   "cell_type": "code",
   "execution_count": 33,
   "metadata": {
    "scrolled": false
   },
   "outputs": [
    {
     "name": "stdout",
     "output_type": "stream",
     "text": [
      "Training Set R^2: 0.6540673528075202\n",
      "Training Set Root Mean Squared Error: 16.18203117743646\n"
     ]
    }
   ],
   "source": [
    "print(\"Training Set R^2: {}\".format(lr_3s.score(X_train_scaled, y_train_s)))\n",
    "rmse_3s_train = np.sqrt(mean_squared_error(y_train_s, y_pred_3s_train))\n",
    "print(\"Training Set Root Mean Squared Error: {}\".format(rmse_3s_train))"
   ]
  },
  {
   "cell_type": "code",
   "execution_count": 34,
   "metadata": {
    "scrolled": false
   },
   "outputs": [
    {
     "data": {
      "text/plain": [
       "array([192.65408259, 207.43788917, 210.33981918, 179.61404224,\n",
       "       222.16353068, 153.64841087, 176.00177881, 149.08584092,\n",
       "       173.39235131, 228.03180165, 199.52292719, 158.40176722,\n",
       "       193.84301899, 193.6048713 , 181.4249357 , 187.71112517,\n",
       "       180.89650549, 176.32813709, 185.60477998, 190.7372278 ])"
      ]
     },
     "execution_count": 34,
     "metadata": {},
     "output_type": "execute_result"
    }
   ],
   "source": [
    "y_pred_3s_test = lr_3s.predict(X_test_scaled)\n",
    "y_pred_3s_test[0:20]"
   ]
  },
  {
   "cell_type": "code",
   "execution_count": 35,
   "metadata": {
    "scrolled": false
   },
   "outputs": [
    {
     "name": "stdout",
     "output_type": "stream",
     "text": [
      "Test Set R^2: 0.5860337685258903\n",
      "Test Set Root Mean Squared Error: 18.427461768318633\n"
     ]
    }
   ],
   "source": [
    "print(\"Test Set R^2: {}\".format(lr_3s.score(X_test_scaled, y_test_s)))\n",
    "rmse_3s_test = np.sqrt(mean_squared_error(y_test_s, y_pred_3s_test))\n",
    "print(\"Test Set Root Mean Squared Error: {}\".format(rmse_3s_test))"
   ]
  },
  {
   "cell_type": "code",
   "execution_count": 36,
   "metadata": {},
   "outputs": [],
   "source": [
    "filename = 'cancer_lr_3s.sav'\n",
    "pickle.dump(lr_3s, open(filename, 'wb'))"
   ]
  },
  {
   "cell_type": "code",
   "execution_count": 37,
   "metadata": {},
   "outputs": [],
   "source": [
    "lr_4s = linear_model.Ridge(alpha=0.01)"
   ]
  },
  {
   "cell_type": "code",
   "execution_count": 38,
   "metadata": {
    "scrolled": false
   },
   "outputs": [
    {
     "data": {
      "text/plain": [
       "Ridge(alpha=0.01, copy_X=True, fit_intercept=True, max_iter=None,\n",
       "   normalize=False, random_state=None, solver='auto', tol=0.001)"
      ]
     },
     "execution_count": 38,
     "metadata": {},
     "output_type": "execute_result"
    }
   ],
   "source": [
    "lr_4s.fit(X_train_scaled, y_train_s)"
   ]
  },
  {
   "cell_type": "code",
   "execution_count": 39,
   "metadata": {
    "scrolled": false
   },
   "outputs": [
    {
     "data": {
      "text/plain": [
       "array([204.480151  , 142.7420226 , 171.12747102, 206.36127337,\n",
       "       177.12941166, 206.23010439, 158.58882849, 164.68794744,\n",
       "       178.84551153, 186.54698151, 182.01959292, 156.46074426,\n",
       "       165.94714679, 151.67992035, 184.44251801, 161.62134964,\n",
       "       166.51031729, 177.56669267, 155.41833249, 165.48052568])"
      ]
     },
     "execution_count": 39,
     "metadata": {},
     "output_type": "execute_result"
    }
   ],
   "source": [
    "y_pred_4s_train = lr_4s.predict(X_train_scaled)\n",
    "y_pred_4s_train[0:20]"
   ]
  },
  {
   "cell_type": "code",
   "execution_count": 40,
   "metadata": {
    "scrolled": false
   },
   "outputs": [
    {
     "name": "stdout",
     "output_type": "stream",
     "text": [
      "Training Set R^2: 0.650822865570293\n",
      "Training Set Root Mean Squared Error: 16.25773935874027\n"
     ]
    }
   ],
   "source": [
    "print(\"Training Set R^2: {}\".format(lr_4s.score(X_train_scaled, y_train_s)))\n",
    "rmse_4s_train = np.sqrt(mean_squared_error(y_train_s, y_pred_4s_train))\n",
    "print(\"Training Set Root Mean Squared Error: {}\".format(rmse_4s_train))"
   ]
  },
  {
   "cell_type": "code",
   "execution_count": 41,
   "metadata": {
    "scrolled": true
   },
   "outputs": [
    {
     "data": {
      "text/plain": [
       "array([192.43199413, 201.9786454 , 210.94432554, 177.90724086,\n",
       "       221.7317404 , 153.64459494, 175.51474697, 146.93578327,\n",
       "       173.93364202, 196.01201495, 203.25218517, 149.60217406,\n",
       "       193.83718623, 193.53635505, 181.62659543, 189.61471295,\n",
       "       182.89457755, 176.78259585, 186.01849627, 191.34026065])"
      ]
     },
     "execution_count": 41,
     "metadata": {},
     "output_type": "execute_result"
    }
   ],
   "source": [
    "y_pred_4s_test = lr_4s.predict(X_test_scaled)\n",
    "y_pred_4s_test[0:20]"
   ]
  },
  {
   "cell_type": "code",
   "execution_count": 42,
   "metadata": {
    "scrolled": false
   },
   "outputs": [
    {
     "name": "stdout",
     "output_type": "stream",
     "text": [
      "Test Set R^2: 0.589173080262649\n",
      "Test Set Root Mean Squared Error: 18.357456492630245\n"
     ]
    }
   ],
   "source": [
    "print(\"Test Set R^2: {}\".format(lr_4s.score(X_test_scaled, y_test_s)))\n",
    "rmse_4s_test = np.sqrt(mean_squared_error(y_test_s, y_pred_4s_test))\n",
    "print(\"Test Set Root Mean Squared Error: {}\".format(rmse_4s_test))"
   ]
  },
  {
   "cell_type": "code",
   "execution_count": 43,
   "metadata": {},
   "outputs": [],
   "source": [
    "filename = 'cancer_lr_4s.sav'\n",
    "pickle.dump(lr_4s, open(filename, 'wb'))"
   ]
  },
  {
   "cell_type": "code",
   "execution_count": 44,
   "metadata": {},
   "outputs": [],
   "source": [
    "lr_5s = linear_model.Ridge(alpha=0.1)"
   ]
  },
  {
   "cell_type": "code",
   "execution_count": 45,
   "metadata": {
    "scrolled": false
   },
   "outputs": [
    {
     "data": {
      "text/plain": [
       "Ridge(alpha=0.1, copy_X=True, fit_intercept=True, max_iter=None,\n",
       "   normalize=False, random_state=None, solver='auto', tol=0.001)"
      ]
     },
     "execution_count": 45,
     "metadata": {},
     "output_type": "execute_result"
    }
   ],
   "source": [
    "lr_5s.fit(X_train_scaled, y_train_s)"
   ]
  },
  {
   "cell_type": "code",
   "execution_count": 46,
   "metadata": {
    "scrolled": false
   },
   "outputs": [
    {
     "data": {
      "text/plain": [
       "array([203.6574146 , 144.66772198, 170.4209919 , 205.73078724,\n",
       "       178.21017103, 209.36375925, 157.97428572, 163.47779811,\n",
       "       178.25255248, 183.83597852, 183.49020692, 156.38340407,\n",
       "       166.36823731, 149.80070408, 184.83431703, 162.38186634,\n",
       "       167.59664485, 178.21804995, 154.79747255, 164.65589411])"
      ]
     },
     "execution_count": 46,
     "metadata": {},
     "output_type": "execute_result"
    }
   ],
   "source": [
    "y_pred_5s_train = lr_5s.predict(X_train_scaled)\n",
    "y_pred_5s_train[0:20]"
   ]
  },
  {
   "cell_type": "code",
   "execution_count": 47,
   "metadata": {
    "scrolled": false
   },
   "outputs": [
    {
     "name": "stdout",
     "output_type": "stream",
     "text": [
      "Training Set R^2: 0.6418791411910627\n",
      "Training Set Root Mean Squared Error: 16.464633472682436\n"
     ]
    }
   ],
   "source": [
    "print(\"Training Set R^2: {}\".format(lr_5s.score(X_train_scaled, y_train_s)))\n",
    "rmse_5s_train = np.sqrt(mean_squared_error(y_train_s, y_pred_5s_train))\n",
    "print(\"Training Set Root Mean Squared Error: {}\".format(rmse_5s_train))"
   ]
  },
  {
   "cell_type": "code",
   "execution_count": 48,
   "metadata": {
    "scrolled": true
   },
   "outputs": [
    {
     "data": {
      "text/plain": [
       "array([192.10918089, 197.03485461, 210.25770237, 174.6993121 ,\n",
       "       221.16088094, 154.17307537, 173.68668666, 143.5086355 ,\n",
       "       174.75816934, 151.17847122, 206.22542267, 148.99643677,\n",
       "       192.13853939, 193.46681795, 180.50235502, 191.82179934,\n",
       "       186.18741751, 177.36825324, 188.02398965, 192.99736824])"
      ]
     },
     "execution_count": 48,
     "metadata": {},
     "output_type": "execute_result"
    }
   ],
   "source": [
    "y_pred_5s_test = lr_5s.predict(X_test_scaled)\n",
    "y_pred_5s_test[0:20]"
   ]
  },
  {
   "cell_type": "code",
   "execution_count": 49,
   "metadata": {
    "scrolled": false
   },
   "outputs": [
    {
     "name": "stdout",
     "output_type": "stream",
     "text": [
      "Test Set R^2: 0.5795633863670691\n",
      "Test Set Root Mean Squared Error: 18.57091600254896\n"
     ]
    }
   ],
   "source": [
    "print(\"Test Set R^2: {}\".format(lr_5s.score(X_test_scaled, y_test_s)))\n",
    "rmse_5s_test = np.sqrt(mean_squared_error(y_test_s, y_pred_5s_test))\n",
    "print(\"Test Set Root Mean Squared Error: {}\".format(rmse_5s_test))"
   ]
  },
  {
   "cell_type": "code",
   "execution_count": 50,
   "metadata": {},
   "outputs": [],
   "source": [
    "filename = 'cancer_lr_5s.sav'\n",
    "pickle.dump(lr_5s, open(filename, 'wb'))"
   ]
  },
  {
   "cell_type": "code",
   "execution_count": 51,
   "metadata": {},
   "outputs": [],
   "source": [
    "lr_6s = linear_model.Ridge(alpha=1)"
   ]
  },
  {
   "cell_type": "code",
   "execution_count": 52,
   "metadata": {
    "scrolled": false
   },
   "outputs": [
    {
     "data": {
      "text/plain": [
       "Ridge(alpha=1, copy_X=True, fit_intercept=True, max_iter=None,\n",
       "   normalize=False, random_state=None, solver='auto', tol=0.001)"
      ]
     },
     "execution_count": 52,
     "metadata": {},
     "output_type": "execute_result"
    }
   ],
   "source": [
    "lr_6s.fit(X_train_scaled, y_train_s)"
   ]
  },
  {
   "cell_type": "code",
   "execution_count": 53,
   "metadata": {
    "scrolled": true
   },
   "outputs": [
    {
     "data": {
      "text/plain": [
       "array([203.41664674, 147.82958219, 169.93640144, 205.92821388,\n",
       "       180.72182806, 210.65049046, 157.63171549, 163.40608133,\n",
       "       177.75854988, 181.83373949, 183.5952137 , 157.23891981,\n",
       "       166.43950685, 149.99089514, 186.07457666, 164.12240843,\n",
       "       170.0138751 , 177.91884991, 154.42102851, 165.73709122])"
      ]
     },
     "execution_count": 53,
     "metadata": {},
     "output_type": "execute_result"
    }
   ],
   "source": [
    "y_pred_6s_train = lr_6s.predict(X_train_scaled)\n",
    "y_pred_6s_train[0:20]"
   ]
  },
  {
   "cell_type": "code",
   "execution_count": 54,
   "metadata": {
    "scrolled": false
   },
   "outputs": [
    {
     "name": "stdout",
     "output_type": "stream",
     "text": [
      "Training Set R^2: 0.6273563244805943\n",
      "Training Set Root Mean Squared Error: 16.79515962646763\n"
     ]
    }
   ],
   "source": [
    "print(\"Training Set R^2: {}\".format(lr_6s.score(X_train_scaled, y_train_s)))\n",
    "rmse_6s_train = np.sqrt(mean_squared_error(y_train_s, y_pred_6s_train))\n",
    "print(\"Training Set Root Mean Squared Error: {}\".format(rmse_6s_train))"
   ]
  },
  {
   "cell_type": "code",
   "execution_count": 55,
   "metadata": {
    "scrolled": true
   },
   "outputs": [
    {
     "data": {
      "text/plain": [
       "array([192.69621577, 194.84197716, 209.48106115, 171.70115287,\n",
       "       220.60503021, 154.28314164, 171.66486688, 142.54282334,\n",
       "       176.18876346, 133.50828666, 207.9060614 , 156.07284387,\n",
       "       191.79404114, 192.61583168, 179.0420062 , 191.23556704,\n",
       "       190.18319521, 178.59566084, 189.43999065, 193.97726946])"
      ]
     },
     "execution_count": 55,
     "metadata": {},
     "output_type": "execute_result"
    }
   ],
   "source": [
    "y_pred_6s_test = lr_6s.predict(X_test_scaled)\n",
    "y_pred_6s_test[0:20]"
   ]
  },
  {
   "cell_type": "code",
   "execution_count": 56,
   "metadata": {
    "scrolled": false
   },
   "outputs": [
    {
     "name": "stdout",
     "output_type": "stream",
     "text": [
      "Test Set R^2: 0.5695122928590417\n",
      "Test Set Root Mean Squared Error: 18.791586097954305\n"
     ]
    }
   ],
   "source": [
    "print(\"Test Set R^2: {}\".format(lr_6s.score(X_test_scaled, y_test_s)))\n",
    "rmse_6s_test = np.sqrt(mean_squared_error(y_test_s, y_pred_6s_test))\n",
    "print(\"Test Set Root Mean Squared Error: {}\".format(rmse_6s_test))"
   ]
  },
  {
   "cell_type": "code",
   "execution_count": 57,
   "metadata": {},
   "outputs": [],
   "source": [
    "filename = 'cancer_lr_6s.sav'\n",
    "pickle.dump(lr_6s, open(filename, 'wb'))"
   ]
  },
  {
   "cell_type": "code",
   "execution_count": 58,
   "metadata": {},
   "outputs": [],
   "source": [
    "lr_7s = linear_model.Ridge(alpha=10)"
   ]
  },
  {
   "cell_type": "code",
   "execution_count": 59,
   "metadata": {
    "scrolled": false
   },
   "outputs": [
    {
     "data": {
      "text/plain": [
       "Ridge(alpha=10, copy_X=True, fit_intercept=True, max_iter=None,\n",
       "   normalize=False, random_state=None, solver='auto', tol=0.001)"
      ]
     },
     "execution_count": 59,
     "metadata": {},
     "output_type": "execute_result"
    }
   ],
   "source": [
    "lr_7s.fit(X_train_scaled, y_train_s)"
   ]
  },
  {
   "cell_type": "code",
   "execution_count": 60,
   "metadata": {
    "scrolled": true
   },
   "outputs": [
    {
     "data": {
      "text/plain": [
       "array([201.57626931, 148.77051173, 171.36197474, 208.48213973,\n",
       "       182.77620998, 208.40007555, 154.40855766, 165.79230438,\n",
       "       178.28731614, 181.95613455, 180.27232663, 160.4605656 ,\n",
       "       166.98114928, 158.33893748, 188.04408047, 168.08846405,\n",
       "       171.53906044, 177.12573607, 154.33775461, 166.13999423])"
      ]
     },
     "execution_count": 60,
     "metadata": {},
     "output_type": "execute_result"
    }
   ],
   "source": [
    "y_pred_7s_train = lr_7s.predict(X_train_scaled)\n",
    "y_pred_7s_train[0:20]"
   ]
  },
  {
   "cell_type": "code",
   "execution_count": 61,
   "metadata": {
    "scrolled": false
   },
   "outputs": [
    {
     "name": "stdout",
     "output_type": "stream",
     "text": [
      "Training Set R^2: 0.5984951007221488\n",
      "Training Set Root Mean Squared Error: 17.43342360547904\n"
     ]
    }
   ],
   "source": [
    "print(\"Training Set R^2: {}\".format(lr_7s.score(X_train_scaled, y_train_s)))\n",
    "rmse_7s_train = np.sqrt(mean_squared_error(y_train_s, y_pred_7s_train))\n",
    "print(\"Training Set Root Mean Squared Error: {}\".format(rmse_7s_train))"
   ]
  },
  {
   "cell_type": "code",
   "execution_count": 62,
   "metadata": {
    "scrolled": true
   },
   "outputs": [
    {
     "data": {
      "text/plain": [
       "array([193.17929981, 191.05465427, 211.76523347, 166.6217507 ,\n",
       "       216.93200362, 155.9473915 , 167.08665129, 143.79588424,\n",
       "       180.36699144, 149.4351617 , 204.43597738, 165.14539715,\n",
       "       198.1774682 , 189.01288239, 179.12026056, 188.48536371,\n",
       "       194.44902818, 183.87913231, 187.74020085, 193.56762434])"
      ]
     },
     "execution_count": 62,
     "metadata": {},
     "output_type": "execute_result"
    }
   ],
   "source": [
    "y_pred_7s_test = lr_7s.predict(X_test_scaled)\n",
    "y_pred_7s_test[0:20]"
   ]
  },
  {
   "cell_type": "code",
   "execution_count": 63,
   "metadata": {
    "scrolled": false
   },
   "outputs": [
    {
     "name": "stdout",
     "output_type": "stream",
     "text": [
      "Test Set R^2: 0.5577418307333255\n",
      "Test Set Root Mean Squared Error: 19.046754885197537\n"
     ]
    }
   ],
   "source": [
    "print(\"Test Set R^2: {}\".format(lr_7s.score(X_test_scaled, y_test_s)))\n",
    "rmse_7s_test = np.sqrt(mean_squared_error(y_test_s, y_pred_7s_test))\n",
    "print(\"Test Set Root Mean Squared Error: {}\".format(rmse_7s_test))"
   ]
  },
  {
   "cell_type": "code",
   "execution_count": 64,
   "metadata": {},
   "outputs": [],
   "source": [
    "filename = 'cancer_lr_7s.sav'\n",
    "pickle.dump(lr_7s, open(filename, 'wb'))"
   ]
  },
  {
   "cell_type": "code",
   "execution_count": 65,
   "metadata": {},
   "outputs": [],
   "source": [
    "lr_8s = linear_model.Ridge(alpha=100)"
   ]
  },
  {
   "cell_type": "code",
   "execution_count": 66,
   "metadata": {
    "scrolled": false
   },
   "outputs": [
    {
     "data": {
      "text/plain": [
       "Ridge(alpha=100, copy_X=True, fit_intercept=True, max_iter=None,\n",
       "   normalize=False, random_state=None, solver='auto', tol=0.001)"
      ]
     },
     "execution_count": 66,
     "metadata": {},
     "output_type": "execute_result"
    }
   ],
   "source": [
    "lr_8s.fit(X_train_scaled, y_train_s)"
   ]
  },
  {
   "cell_type": "code",
   "execution_count": 67,
   "metadata": {
    "scrolled": true
   },
   "outputs": [
    {
     "data": {
      "text/plain": [
       "array([198.22702402, 151.9354218 , 172.93864952, 205.88682878,\n",
       "       183.72741137, 201.64469563, 152.25499669, 170.24883683,\n",
       "       176.72422813, 183.79541107, 176.12351397, 163.33686939,\n",
       "       170.94906762, 168.45066052, 186.80923299, 176.54051333,\n",
       "       173.71065548, 177.94519493, 159.02088076, 166.4474197 ])"
      ]
     },
     "execution_count": 67,
     "metadata": {},
     "output_type": "execute_result"
    }
   ],
   "source": [
    "y_pred_8s_train = lr_8s.predict(X_train_scaled)\n",
    "y_pred_8s_train[0:20]"
   ]
  },
  {
   "cell_type": "code",
   "execution_count": 68,
   "metadata": {
    "scrolled": false
   },
   "outputs": [
    {
     "name": "stdout",
     "output_type": "stream",
     "text": [
      "Training Set R^2: 0.5068011426243204\n",
      "Training Set Root Mean Squared Error: 19.321831451454134\n"
     ]
    }
   ],
   "source": [
    "print(\"Training Set R^2: {}\".format(lr_8s.score(X_train_scaled, y_train_s)))\n",
    "rmse_8s_train = np.sqrt(mean_squared_error(y_train_s, y_pred_8s_train))\n",
    "print(\"Training Set Root Mean Squared Error: {}\".format(rmse_8s_train))"
   ]
  },
  {
   "cell_type": "code",
   "execution_count": 69,
   "metadata": {
    "scrolled": true
   },
   "outputs": [
    {
     "data": {
      "text/plain": [
       "array([193.65887069, 187.13631114, 212.03642239, 162.24650482,\n",
       "       208.07790014, 160.13041493, 168.75817452, 145.75235794,\n",
       "       187.42103187, 165.84476256, 195.25219432, 171.89001131,\n",
       "       208.49930118, 185.38052719, 179.86502344, 184.90525164,\n",
       "       195.65483674, 190.06899383, 184.16952211, 193.32627728])"
      ]
     },
     "execution_count": 69,
     "metadata": {},
     "output_type": "execute_result"
    }
   ],
   "source": [
    "y_pred_8s_test = lr_8s.predict(X_test_scaled)\n",
    "y_pred_8s_test[0:20]"
   ]
  },
  {
   "cell_type": "code",
   "execution_count": 70,
   "metadata": {
    "scrolled": false
   },
   "outputs": [
    {
     "name": "stdout",
     "output_type": "stream",
     "text": [
      "Test Set R^2: 0.4483035525689296\n",
      "Test Set Root Mean Squared Error: 21.273216237912873\n"
     ]
    }
   ],
   "source": [
    "print(\"Test Set R^2: {}\".format(lr_8s.score(X_test_scaled, y_test_s)))\n",
    "rmse_8s_test = np.sqrt(mean_squared_error(y_test_s, y_pred_8s_test))\n",
    "print(\"Test Set Root Mean Squared Error: {}\".format(rmse_8s_test))"
   ]
  },
  {
   "cell_type": "code",
   "execution_count": 71,
   "metadata": {},
   "outputs": [],
   "source": [
    "filename = 'cancer_lr_8s.sav'\n",
    "pickle.dump(lr_8s, open(filename, 'wb'))"
   ]
  },
  {
   "cell_type": "markdown",
   "metadata": {},
   "source": [
    "## LASSO"
   ]
  },
  {
   "cell_type": "code",
   "execution_count": 72,
   "metadata": {},
   "outputs": [],
   "source": [
    "lr_9s = linear_model.Lasso(alpha=0.001)"
   ]
  },
  {
   "cell_type": "code",
   "execution_count": 73,
   "metadata": {
    "scrolled": false
   },
   "outputs": [
    {
     "name": "stderr",
     "output_type": "stream",
     "text": [
      "/Users/DanLoew/anaconda3/lib/python3.7/site-packages/sklearn/linear_model/coordinate_descent.py:492: ConvergenceWarning: Objective did not converge. You might want to increase the number of iterations. Fitting data with very small alpha may cause precision problems.\n",
      "  ConvergenceWarning)\n"
     ]
    },
    {
     "data": {
      "text/plain": [
       "Lasso(alpha=0.001, copy_X=True, fit_intercept=True, max_iter=1000,\n",
       "   normalize=False, positive=False, precompute=False, random_state=None,\n",
       "   selection='cyclic', tol=0.0001, warm_start=False)"
      ]
     },
     "execution_count": 73,
     "metadata": {},
     "output_type": "execute_result"
    }
   ],
   "source": [
    "lr_9s.fit(X_train_scaled, y_train_s)"
   ]
  },
  {
   "cell_type": "code",
   "execution_count": 74,
   "metadata": {
    "scrolled": true
   },
   "outputs": [
    {
     "data": {
      "text/plain": [
       "array([203.87319419, 144.52947401, 170.10318486, 206.94520408,\n",
       "       179.43016652, 206.84464186, 158.48782974, 165.95163089,\n",
       "       178.38973278, 184.96507086, 183.23126048, 156.29553526,\n",
       "       167.17810085, 149.945287  , 184.34111349, 162.2230237 ,\n",
       "       166.32157473, 176.98155329, 154.59912284, 163.62736683])"
      ]
     },
     "execution_count": 74,
     "metadata": {},
     "output_type": "execute_result"
    }
   ],
   "source": [
    "y_pred_9s_train = lr_9s.predict(X_train_scaled)\n",
    "y_pred_9s_train[0:20]"
   ]
  },
  {
   "cell_type": "code",
   "execution_count": 75,
   "metadata": {
    "scrolled": false
   },
   "outputs": [
    {
     "name": "stdout",
     "output_type": "stream",
     "text": [
      "Training Set R^2: 0.6438599594494798\n",
      "Training Set Root Mean Squared Error: 16.419036199621015\n"
     ]
    }
   ],
   "source": [
    "print(\"Training Set R^2: {}\".format(lr_9s.score(X_train_scaled, y_train_s)))\n",
    "rmse_9s_train = np.sqrt(mean_squared_error(y_train_s, y_pred_9s_train))\n",
    "print(\"Training Set Root Mean Squared Error: {}\".format(rmse_9s_train))"
   ]
  },
  {
   "cell_type": "code",
   "execution_count": 76,
   "metadata": {
    "scrolled": true
   },
   "outputs": [
    {
     "data": {
      "text/plain": [
       "array([191.42189802, 197.17145395, 211.71508468, 176.0477865 ,\n",
       "       222.34902829, 153.226207  , 175.06177727, 143.76387772,\n",
       "       174.0623336 , 157.15425922, 205.73843768, 146.62092336,\n",
       "       193.97152087, 193.01933592, 181.01451025, 191.59947413,\n",
       "       184.46024326, 176.72526882, 186.28407869, 191.75722704])"
      ]
     },
     "execution_count": 76,
     "metadata": {},
     "output_type": "execute_result"
    }
   ],
   "source": [
    "y_pred_9s_test = lr_9s.predict(X_test_scaled)\n",
    "y_pred_9s_test[0:20]"
   ]
  },
  {
   "cell_type": "code",
   "execution_count": 77,
   "metadata": {
    "scrolled": false
   },
   "outputs": [
    {
     "name": "stdout",
     "output_type": "stream",
     "text": [
      "Test Set R^2: 0.5870942316260279\n",
      "Test Set Root Mean Squared Error: 18.40384368931988\n"
     ]
    }
   ],
   "source": [
    "print(\"Test Set R^2: {}\".format(lr_9s.score(X_test_scaled, y_test_s)))\n",
    "rmse_9s_test = np.sqrt(mean_squared_error(y_test_s, y_pred_9s_test))\n",
    "print(\"Test Set Root Mean Squared Error: {}\".format(rmse_9s_test))"
   ]
  },
  {
   "cell_type": "code",
   "execution_count": 78,
   "metadata": {},
   "outputs": [],
   "source": [
    "filename = 'cancer_lr_9s.sav'\n",
    "pickle.dump(lr_9s, open(filename, 'wb'))"
   ]
  },
  {
   "cell_type": "code",
   "execution_count": 79,
   "metadata": {},
   "outputs": [],
   "source": [
    "lr_10s = linear_model.Lasso(alpha=0.01)"
   ]
  },
  {
   "cell_type": "code",
   "execution_count": 80,
   "metadata": {
    "scrolled": false
   },
   "outputs": [
    {
     "data": {
      "text/plain": [
       "Lasso(alpha=0.01, copy_X=True, fit_intercept=True, max_iter=1000,\n",
       "   normalize=False, positive=False, precompute=False, random_state=None,\n",
       "   selection='cyclic', tol=0.0001, warm_start=False)"
      ]
     },
     "execution_count": 80,
     "metadata": {},
     "output_type": "execute_result"
    }
   ],
   "source": [
    "lr_10s.fit(X_train_scaled, y_train_s)"
   ]
  },
  {
   "cell_type": "code",
   "execution_count": 81,
   "metadata": {
    "scrolled": true
   },
   "outputs": [
    {
     "data": {
      "text/plain": [
       "array([203.3478159 , 150.01491957, 169.21907907, 204.70902948,\n",
       "       182.27795639, 209.40520333, 157.46653374, 165.20571563,\n",
       "       178.13422997, 181.28626234, 184.22766658, 157.46035546,\n",
       "       166.19517011, 150.72327089, 186.08065236, 165.94908734,\n",
       "       171.30887631, 176.8682076 , 156.4235478 , 166.42172189])"
      ]
     },
     "execution_count": 81,
     "metadata": {},
     "output_type": "execute_result"
    }
   ],
   "source": [
    "y_pred_10s_train = lr_10s.predict(X_train_scaled)\n",
    "y_pred_10s_train[0:20]"
   ]
  },
  {
   "cell_type": "code",
   "execution_count": 82,
   "metadata": {
    "scrolled": false
   },
   "outputs": [
    {
     "name": "stdout",
     "output_type": "stream",
     "text": [
      "Training Set R^2: 0.617541923000996\n",
      "Training Set Root Mean Squared Error: 17.01489122376773\n"
     ]
    }
   ],
   "source": [
    "print(\"Training Set R^2: {}\".format(lr_10s.score(X_train_scaled, y_train_s)))\n",
    "rmse_10s_train = np.sqrt(mean_squared_error(y_train_s, y_pred_10s_train))\n",
    "print(\"Training Set Root Mean Squared Error: {}\".format(rmse_10s_train))"
   ]
  },
  {
   "cell_type": "code",
   "execution_count": 83,
   "metadata": {
    "scrolled": true
   },
   "outputs": [
    {
     "data": {
      "text/plain": [
       "array([193.28335884, 196.38554285, 209.49494433, 171.51808836,\n",
       "       220.4011101 , 154.45054923, 171.02408262, 141.01012414,\n",
       "       176.62542541, 137.51422574, 207.35495765, 162.066284  ,\n",
       "       193.12820105, 194.8026353 , 179.25141666, 189.72944618,\n",
       "       190.16511445, 178.92989801, 188.62738205, 194.35841834])"
      ]
     },
     "execution_count": 83,
     "metadata": {},
     "output_type": "execute_result"
    }
   ],
   "source": [
    "y_pred_10s_test = lr_10s.predict(X_test_scaled)\n",
    "y_pred_10s_test[0:20]"
   ]
  },
  {
   "cell_type": "code",
   "execution_count": 84,
   "metadata": {
    "scrolled": false
   },
   "outputs": [
    {
     "name": "stdout",
     "output_type": "stream",
     "text": [
      "Test Set R^2: 0.5718036784987082\n",
      "Test Set Root Mean Squared Error: 18.741507755687078\n"
     ]
    }
   ],
   "source": [
    "print(\"Test Set R^2: {}\".format(lr_10s.score(X_test_scaled, y_test_s)))\n",
    "rmse_10s_test = np.sqrt(mean_squared_error(y_test_s, y_pred_10s_test))\n",
    "print(\"Test Set Root Mean Squared Error: {}\".format(rmse_10s_test))"
   ]
  },
  {
   "cell_type": "code",
   "execution_count": 85,
   "metadata": {},
   "outputs": [],
   "source": [
    "filename = 'cancer_lr_10s.sav'\n",
    "pickle.dump(lr_10s, open(filename, 'wb'))"
   ]
  },
  {
   "cell_type": "code",
   "execution_count": 86,
   "metadata": {},
   "outputs": [],
   "source": [
    "lr_11s = linear_model.Lasso(alpha=0.1)"
   ]
  },
  {
   "cell_type": "code",
   "execution_count": 87,
   "metadata": {
    "scrolled": false
   },
   "outputs": [
    {
     "data": {
      "text/plain": [
       "Lasso(alpha=0.1, copy_X=True, fit_intercept=True, max_iter=1000,\n",
       "   normalize=False, positive=False, precompute=False, random_state=None,\n",
       "   selection='cyclic', tol=0.0001, warm_start=False)"
      ]
     },
     "execution_count": 87,
     "metadata": {},
     "output_type": "execute_result"
    }
   ],
   "source": [
    "lr_11s.fit(X_train_scaled, y_train_s)"
   ]
  },
  {
   "cell_type": "code",
   "execution_count": 88,
   "metadata": {
    "scrolled": true
   },
   "outputs": [
    {
     "data": {
      "text/plain": [
       "array([202.07324243, 154.79904861, 169.57823141, 201.68576648,\n",
       "       176.65703226, 200.77907961, 154.31825584, 171.51864827,\n",
       "       176.54493176, 177.78903314, 185.77618865, 158.66696414,\n",
       "       170.87302782, 161.76319059, 187.70229987, 167.4606806 ,\n",
       "       174.30727434, 178.44621695, 157.67432494, 170.00626014])"
      ]
     },
     "execution_count": 88,
     "metadata": {},
     "output_type": "execute_result"
    }
   ],
   "source": [
    "y_pred_11s_train = lr_11s.predict(X_train_scaled)\n",
    "y_pred_11s_train[0:20]"
   ]
  },
  {
   "cell_type": "code",
   "execution_count": 89,
   "metadata": {
    "scrolled": false
   },
   "outputs": [
    {
     "name": "stdout",
     "output_type": "stream",
     "text": [
      "Training Set R^2: 0.5707327227410498\n",
      "Training Set Root Mean Squared Error: 18.02607403180161\n"
     ]
    }
   ],
   "source": [
    "print(\"Training Set R^2: {}\".format(lr_11s.score(X_train_scaled, y_train_s)))\n",
    "rmse_11s_train = np.sqrt(mean_squared_error(y_train_s, y_pred_11s_train))\n",
    "print(\"Training Set Root Mean Squared Error: {}\".format(rmse_11s_train))"
   ]
  },
  {
   "cell_type": "code",
   "execution_count": 90,
   "metadata": {
    "scrolled": true
   },
   "outputs": [
    {
     "data": {
      "text/plain": [
       "array([191.32911087, 197.04503565, 213.00326335, 168.96672337,\n",
       "       212.56269598, 157.44751625, 161.80957981, 143.36181389,\n",
       "       179.56974787, 132.33505204, 194.2915923 , 172.14504391,\n",
       "       202.83408572, 198.06058318, 178.34270339, 186.20768402,\n",
       "       197.61039779, 181.39026883, 183.84928791, 198.13887418])"
      ]
     },
     "execution_count": 90,
     "metadata": {},
     "output_type": "execute_result"
    }
   ],
   "source": [
    "y_pred_11s_test = lr_11s.predict(X_test_scaled)\n",
    "y_pred_11s_test[0:20]"
   ]
  },
  {
   "cell_type": "code",
   "execution_count": 91,
   "metadata": {
    "scrolled": false
   },
   "outputs": [
    {
     "name": "stdout",
     "output_type": "stream",
     "text": [
      "Test Set R^2: 0.5461289722547018\n",
      "Test Set Root Mean Squared Error: 19.295200308021585\n"
     ]
    }
   ],
   "source": [
    "print(\"Test Set R^2: {}\".format(lr_11s.score(X_test_scaled, y_test_s)))\n",
    "rmse_11s_test = np.sqrt(mean_squared_error(y_test_s, y_pred_11s_test))\n",
    "print(\"Test Set Root Mean Squared Error: {}\".format(rmse_11s_test))"
   ]
  },
  {
   "cell_type": "code",
   "execution_count": 92,
   "metadata": {},
   "outputs": [],
   "source": [
    "filename = 'cancer_lr_11s.sav'\n",
    "pickle.dump(lr_11s, open(filename, 'wb'))"
   ]
  },
  {
   "cell_type": "code",
   "execution_count": 93,
   "metadata": {},
   "outputs": [],
   "source": [
    "lr_12s = linear_model.Lasso(alpha=1)"
   ]
  },
  {
   "cell_type": "code",
   "execution_count": 94,
   "metadata": {
    "scrolled": false
   },
   "outputs": [
    {
     "data": {
      "text/plain": [
       "Lasso(alpha=1, copy_X=True, fit_intercept=True, max_iter=1000,\n",
       "   normalize=False, positive=False, precompute=False, random_state=None,\n",
       "   selection='cyclic', tol=0.0001, warm_start=False)"
      ]
     },
     "execution_count": 94,
     "metadata": {},
     "output_type": "execute_result"
    }
   ],
   "source": [
    "lr_12s.fit(X_train_scaled, y_train_s)"
   ]
  },
  {
   "cell_type": "code",
   "execution_count": 95,
   "metadata": {
    "scrolled": true
   },
   "outputs": [
    {
     "data": {
      "text/plain": [
       "array([190.94740774, 168.82767199, 179.06218212, 188.56844485,\n",
       "       174.05484113, 193.90880534, 159.55124151, 175.47495883,\n",
       "       174.25294504, 178.34189511, 179.74186509, 175.66038134,\n",
       "       178.63093048, 170.39317066, 178.93602247, 177.46699796,\n",
       "       170.74432509, 178.04246551, 166.18171127, 167.50938136])"
      ]
     },
     "execution_count": 95,
     "metadata": {},
     "output_type": "execute_result"
    }
   ],
   "source": [
    "y_pred_12s_train = lr_12s.predict(X_train_scaled)\n",
    "y_pred_12s_train[0:20]"
   ]
  },
  {
   "cell_type": "code",
   "execution_count": 96,
   "metadata": {
    "scrolled": false
   },
   "outputs": [
    {
     "name": "stdout",
     "output_type": "stream",
     "text": [
      "Training Set R^2: 0.31643531497143584\n",
      "Training Set Root Mean Squared Error: 22.74715397248038\n"
     ]
    }
   ],
   "source": [
    "print(\"Training Set R^2: {}\".format(lr_12s.score(X_train_scaled, y_train_s)))\n",
    "rmse_12s_train = np.sqrt(mean_squared_error(y_train_s, y_pred_12s_train))\n",
    "print(\"Training Set Root Mean Squared Error: {}\".format(rmse_12s_train))"
   ]
  },
  {
   "cell_type": "code",
   "execution_count": 97,
   "metadata": {
    "scrolled": true
   },
   "outputs": [
    {
     "data": {
      "text/plain": [
       "array([184.48755072, 183.9791089 , 200.83580773, 172.99563416,\n",
       "       190.61165335, 163.52976315, 165.78402595, 160.57867935,\n",
       "       184.19127949, 165.14816706, 179.56816323, 173.91142216,\n",
       "       194.55130529, 183.4437597 , 175.52345879, 175.2259492 ,\n",
       "       184.67567287, 188.78927101, 175.99181202, 182.200798  ])"
      ]
     },
     "execution_count": 97,
     "metadata": {},
     "output_type": "execute_result"
    }
   ],
   "source": [
    "y_pred_12s_test = lr_12s.predict(X_test_scaled)\n",
    "y_pred_12s_test[0:20]"
   ]
  },
  {
   "cell_type": "code",
   "execution_count": 98,
   "metadata": {
    "scrolled": false
   },
   "outputs": [
    {
     "name": "stdout",
     "output_type": "stream",
     "text": [
      "Test Set R^2: 0.2688630819685406\n",
      "Test Set Root Mean Squared Error: 24.489640947183958\n"
     ]
    }
   ],
   "source": [
    "print(\"Test Set R^2: {}\".format(lr_12s.score(X_test_scaled, y_test_s)))\n",
    "rmse_12s_test = np.sqrt(mean_squared_error(y_test_s, y_pred_12s_test))\n",
    "print(\"Test Set Root Mean Squared Error: {}\".format(rmse_12s_test))"
   ]
  },
  {
   "cell_type": "code",
   "execution_count": 99,
   "metadata": {},
   "outputs": [],
   "source": [
    "filename = 'cancer_lr_12s.sav'\n",
    "pickle.dump(lr_12s, open(filename, 'wb'))"
   ]
  },
  {
   "cell_type": "code",
   "execution_count": 100,
   "metadata": {},
   "outputs": [],
   "source": [
    "lr_13s = linear_model.Lasso(alpha=10)"
   ]
  },
  {
   "cell_type": "code",
   "execution_count": 101,
   "metadata": {
    "scrolled": false
   },
   "outputs": [
    {
     "data": {
      "text/plain": [
       "Lasso(alpha=10, copy_X=True, fit_intercept=True, max_iter=1000,\n",
       "   normalize=False, positive=False, precompute=False, random_state=None,\n",
       "   selection='cyclic', tol=0.0001, warm_start=False)"
      ]
     },
     "execution_count": 101,
     "metadata": {},
     "output_type": "execute_result"
    }
   ],
   "source": [
    "lr_13s.fit(X_train_scaled, y_train_s)"
   ]
  },
  {
   "cell_type": "code",
   "execution_count": 102,
   "metadata": {
    "scrolled": true
   },
   "outputs": [
    {
     "data": {
      "text/plain": [
       "array([178.85851151, 178.85851151, 178.85851151, 178.85851151,\n",
       "       178.85851151, 178.85851151, 178.85851151, 178.85851151,\n",
       "       178.85851151, 178.85851151, 178.85851151, 178.85851151,\n",
       "       178.85851151, 178.85851151, 178.85851151, 178.85851151,\n",
       "       178.85851151, 178.85851151, 178.85851151, 178.85851151])"
      ]
     },
     "execution_count": 102,
     "metadata": {},
     "output_type": "execute_result"
    }
   ],
   "source": [
    "y_pred_13s_train = lr_13s.predict(X_train_scaled)\n",
    "y_pred_13s_train[0:20]"
   ]
  },
  {
   "cell_type": "code",
   "execution_count": 103,
   "metadata": {
    "scrolled": false
   },
   "outputs": [
    {
     "name": "stdout",
     "output_type": "stream",
     "text": [
      "Training Set R^2: 0.0\n",
      "Training Set Root Mean Squared Error: 27.512956306533045\n"
     ]
    }
   ],
   "source": [
    "print(\"Training Set R^2: {}\".format(lr_13s.score(X_train_scaled, y_train_s)))\n",
    "rmse_13s_train = np.sqrt(mean_squared_error(y_train_s, y_pred_13s_train))\n",
    "print(\"Training Set Root Mean Squared Error: {}\".format(rmse_13s_train))"
   ]
  },
  {
   "cell_type": "code",
   "execution_count": 104,
   "metadata": {
    "scrolled": true
   },
   "outputs": [
    {
     "data": {
      "text/plain": [
       "array([178.85851151, 178.85851151, 178.85851151, 178.85851151,\n",
       "       178.85851151, 178.85851151, 178.85851151, 178.85851151,\n",
       "       178.85851151, 178.85851151, 178.85851151, 178.85851151,\n",
       "       178.85851151, 178.85851151, 178.85851151, 178.85851151,\n",
       "       178.85851151, 178.85851151, 178.85851151, 178.85851151])"
      ]
     },
     "execution_count": 104,
     "metadata": {},
     "output_type": "execute_result"
    }
   ],
   "source": [
    "y_pred_13s_test = lr_13s.predict(X_test_scaled)\n",
    "y_pred_13s_test[0:20]"
   ]
  },
  {
   "cell_type": "code",
   "execution_count": 105,
   "metadata": {
    "scrolled": false
   },
   "outputs": [
    {
     "name": "stdout",
     "output_type": "stream",
     "text": [
      "Test Set R^2: -0.001131456212104309\n",
      "Test Set Root Mean Squared Error: 28.656860834509846\n"
     ]
    }
   ],
   "source": [
    "print(\"Test Set R^2: {}\".format(lr_13s.score(X_test_scaled, y_test_s)))\n",
    "rmse_13s_test = np.sqrt(mean_squared_error(y_test_s, y_pred_13s_test))\n",
    "print(\"Test Set Root Mean Squared Error: {}\".format(rmse_13s_test))"
   ]
  },
  {
   "cell_type": "code",
   "execution_count": 106,
   "metadata": {},
   "outputs": [],
   "source": [
    "filename = 'cancer_lr_13s.sav'\n",
    "pickle.dump(lr_13s, open(filename, 'wb'))"
   ]
  },
  {
   "cell_type": "code",
   "execution_count": 107,
   "metadata": {},
   "outputs": [],
   "source": [
    "lr_14s = linear_model.Lasso(alpha=100)"
   ]
  },
  {
   "cell_type": "code",
   "execution_count": 108,
   "metadata": {
    "scrolled": false
   },
   "outputs": [
    {
     "data": {
      "text/plain": [
       "Lasso(alpha=100, copy_X=True, fit_intercept=True, max_iter=1000,\n",
       "   normalize=False, positive=False, precompute=False, random_state=None,\n",
       "   selection='cyclic', tol=0.0001, warm_start=False)"
      ]
     },
     "execution_count": 108,
     "metadata": {},
     "output_type": "execute_result"
    }
   ],
   "source": [
    "lr_14s.fit(X_train_scaled, y_train_s)"
   ]
  },
  {
   "cell_type": "code",
   "execution_count": 109,
   "metadata": {
    "scrolled": true
   },
   "outputs": [
    {
     "data": {
      "text/plain": [
       "array([178.85851151, 178.85851151, 178.85851151, 178.85851151,\n",
       "       178.85851151, 178.85851151, 178.85851151, 178.85851151,\n",
       "       178.85851151, 178.85851151, 178.85851151, 178.85851151,\n",
       "       178.85851151, 178.85851151, 178.85851151, 178.85851151,\n",
       "       178.85851151, 178.85851151, 178.85851151, 178.85851151])"
      ]
     },
     "execution_count": 109,
     "metadata": {},
     "output_type": "execute_result"
    }
   ],
   "source": [
    "y_pred_14s_train = lr_14s.predict(X_train_scaled)\n",
    "y_pred_14s_train[0:20]"
   ]
  },
  {
   "cell_type": "code",
   "execution_count": 110,
   "metadata": {
    "scrolled": false
   },
   "outputs": [
    {
     "name": "stdout",
     "output_type": "stream",
     "text": [
      "Training Set R^2: 0.0\n",
      "Training Set Root Mean Squared Error: 27.512956306533045\n"
     ]
    }
   ],
   "source": [
    "print(\"Training Set R^2: {}\".format(lr_14s.score(X_train_scaled, y_train_s)))\n",
    "rmse_14s_train = np.sqrt(mean_squared_error(y_train_s, y_pred_14s_train))\n",
    "print(\"Training Set Root Mean Squared Error: {}\".format(rmse_14s_train))"
   ]
  },
  {
   "cell_type": "code",
   "execution_count": 111,
   "metadata": {
    "scrolled": true
   },
   "outputs": [
    {
     "data": {
      "text/plain": [
       "array([178.85851151, 178.85851151, 178.85851151, 178.85851151,\n",
       "       178.85851151, 178.85851151, 178.85851151, 178.85851151,\n",
       "       178.85851151, 178.85851151, 178.85851151, 178.85851151,\n",
       "       178.85851151, 178.85851151, 178.85851151, 178.85851151,\n",
       "       178.85851151, 178.85851151, 178.85851151, 178.85851151])"
      ]
     },
     "execution_count": 111,
     "metadata": {},
     "output_type": "execute_result"
    }
   ],
   "source": [
    "y_pred_14s_test = lr_14s.predict(X_test_scaled)\n",
    "y_pred_14s_test[0:20]"
   ]
  },
  {
   "cell_type": "code",
   "execution_count": 112,
   "metadata": {
    "scrolled": false
   },
   "outputs": [
    {
     "name": "stdout",
     "output_type": "stream",
     "text": [
      "Test Set R^2: -0.001131456212104309\n",
      "Test Set Root Mean Squared Error: 28.656860834509846\n"
     ]
    }
   ],
   "source": [
    "print(\"Test Set R^2: {}\".format(lr_14s.score(X_test_scaled, y_test_s)))\n",
    "rmse_14s_test = np.sqrt(mean_squared_error(y_test_s, y_pred_14s_test))\n",
    "print(\"Test Set Root Mean Squared Error: {}\".format(rmse_14s_test))"
   ]
  },
  {
   "cell_type": "code",
   "execution_count": 113,
   "metadata": {},
   "outputs": [],
   "source": [
    "filename = 'cancer_lr_14s.sav'\n",
    "pickle.dump(lr_14s, open(filename, 'wb'))"
   ]
  },
  {
   "cell_type": "markdown",
   "metadata": {},
   "source": [
    "## Elastic Net with L1 Ratio of 0.25"
   ]
  },
  {
   "cell_type": "code",
   "execution_count": 114,
   "metadata": {},
   "outputs": [],
   "source": [
    "lr_15s = linear_model.ElasticNet(alpha=0.001, l1_ratio=0.25)"
   ]
  },
  {
   "cell_type": "code",
   "execution_count": 115,
   "metadata": {
    "scrolled": false
   },
   "outputs": [
    {
     "name": "stderr",
     "output_type": "stream",
     "text": [
      "/Users/DanLoew/anaconda3/lib/python3.7/site-packages/sklearn/linear_model/coordinate_descent.py:492: ConvergenceWarning: Objective did not converge. You might want to increase the number of iterations. Fitting data with very small alpha may cause precision problems.\n",
      "  ConvergenceWarning)\n"
     ]
    },
    {
     "data": {
      "text/plain": [
       "ElasticNet(alpha=0.001, copy_X=True, fit_intercept=True, l1_ratio=0.25,\n",
       "      max_iter=1000, normalize=False, positive=False, precompute=False,\n",
       "      random_state=None, selection='cyclic', tol=0.0001, warm_start=False)"
      ]
     },
     "execution_count": 115,
     "metadata": {},
     "output_type": "execute_result"
    }
   ],
   "source": [
    "lr_15s.fit(X_train_scaled, y_train_s)"
   ]
  },
  {
   "cell_type": "code",
   "execution_count": 116,
   "metadata": {
    "scrolled": true
   },
   "outputs": [
    {
     "data": {
      "text/plain": [
       "array([203.15380778, 148.12474139, 170.09264256, 206.40866158,\n",
       "       181.24110819, 210.42897947, 157.18915282, 163.85176017,\n",
       "       177.66676756, 181.53056384, 183.08928713, 157.90404945,\n",
       "       166.35784545, 151.31707072, 186.73360821, 164.80261128,\n",
       "       170.56522808, 177.77520895, 154.43770965, 165.72491034])"
      ]
     },
     "execution_count": 116,
     "metadata": {},
     "output_type": "execute_result"
    }
   ],
   "source": [
    "y_pred_15s_train = lr_15s.predict(X_train_scaled)\n",
    "y_pred_15s_train[0:20]"
   ]
  },
  {
   "cell_type": "code",
   "execution_count": 117,
   "metadata": {
    "scrolled": false
   },
   "outputs": [
    {
     "name": "stdout",
     "output_type": "stream",
     "text": [
      "Training Set R^2: 0.6225968319525462\n",
      "Training Set Root Mean Squared Error: 16.90207518327997\n"
     ]
    }
   ],
   "source": [
    "print(\"Training Set R^2: {}\".format(lr_15s.score(X_train_scaled, y_train_s)))\n",
    "rmse_15s_train = np.sqrt(mean_squared_error(y_train_s, y_pred_15s_train))\n",
    "print(\"Training Set Root Mean Squared Error: {}\".format(rmse_15s_train))"
   ]
  },
  {
   "cell_type": "code",
   "execution_count": 118,
   "metadata": {
    "scrolled": true
   },
   "outputs": [
    {
     "data": {
      "text/plain": [
       "array([192.66640531, 194.07825169, 209.81900152, 170.74959653,\n",
       "       220.37206254, 154.8366827 , 170.6833422 , 142.73816561,\n",
       "       176.98612046, 134.69426596, 207.87089314, 158.31422176,\n",
       "       192.55777668, 192.11921705, 178.85907751, 190.45986973,\n",
       "       191.30240428, 179.64400089, 189.25576196, 193.96042295])"
      ]
     },
     "execution_count": 118,
     "metadata": {},
     "output_type": "execute_result"
    }
   ],
   "source": [
    "y_pred_15s_test = lr_15s.predict(X_test_scaled)\n",
    "y_pred_15s_test[0:20]"
   ]
  },
  {
   "cell_type": "code",
   "execution_count": 119,
   "metadata": {
    "scrolled": false
   },
   "outputs": [
    {
     "name": "stdout",
     "output_type": "stream",
     "text": [
      "Test Set R^2: 0.5698057362202045\n",
      "Test Set Root Mean Squared Error: 18.78518033291211\n"
     ]
    }
   ],
   "source": [
    "print(\"Test Set R^2: {}\".format(lr_15s.score(X_test_scaled, y_test_s)))\n",
    "rmse_15s_test = np.sqrt(mean_squared_error(y_test_s, y_pred_15s_test))\n",
    "print(\"Test Set Root Mean Squared Error: {}\".format(rmse_15s_test))"
   ]
  },
  {
   "cell_type": "code",
   "execution_count": 120,
   "metadata": {},
   "outputs": [],
   "source": [
    "filename = 'cancer_lr_15s.sav'\n",
    "pickle.dump(lr_15s, open(filename, 'wb'))"
   ]
  },
  {
   "cell_type": "code",
   "execution_count": 121,
   "metadata": {},
   "outputs": [],
   "source": [
    "lr_16s = linear_model.ElasticNet(alpha=0.01, l1_ratio=0.25)"
   ]
  },
  {
   "cell_type": "code",
   "execution_count": 122,
   "metadata": {
    "scrolled": false
   },
   "outputs": [
    {
     "data": {
      "text/plain": [
       "ElasticNet(alpha=0.01, copy_X=True, fit_intercept=True, l1_ratio=0.25,\n",
       "      max_iter=1000, normalize=False, positive=False, precompute=False,\n",
       "      random_state=None, selection='cyclic', tol=0.0001, warm_start=False)"
      ]
     },
     "execution_count": 122,
     "metadata": {},
     "output_type": "execute_result"
    }
   ],
   "source": [
    "lr_16s.fit(X_train_scaled, y_train_s)"
   ]
  },
  {
   "cell_type": "code",
   "execution_count": 123,
   "metadata": {
    "scrolled": true
   },
   "outputs": [
    {
     "data": {
      "text/plain": [
       "array([200.68481668, 149.42177211, 171.80058493, 208.78133815,\n",
       "       183.2591608 , 207.03733405, 153.18150477, 167.11905429,\n",
       "       178.30226634, 182.46470478, 178.98708122, 161.30821478,\n",
       "       167.85020307, 162.15596169, 188.02221323, 170.35710148,\n",
       "       172.17471316, 176.98756686, 154.89736154, 166.3126238 ])"
      ]
     },
     "execution_count": 123,
     "metadata": {},
     "output_type": "execute_result"
    }
   ],
   "source": [
    "y_pred_16s_train = lr_16s.predict(X_train_scaled)\n",
    "y_pred_16s_train[0:20]"
   ]
  },
  {
   "cell_type": "code",
   "execution_count": 124,
   "metadata": {
    "scrolled": false
   },
   "outputs": [
    {
     "name": "stdout",
     "output_type": "stream",
     "text": [
      "Training Set R^2: 0.5798472275369146\n",
      "Training Set Root Mean Squared Error: 17.833676128342507\n"
     ]
    }
   ],
   "source": [
    "print(\"Training Set R^2: {}\".format(lr_16s.score(X_train_scaled, y_train_s)))\n",
    "rmse_16s_train = np.sqrt(mean_squared_error(y_train_s, y_pred_16s_train))\n",
    "print(\"Training Set Root Mean Squared Error: {}\".format(rmse_16s_train))"
   ]
  },
  {
   "cell_type": "code",
   "execution_count": 125,
   "metadata": {
    "scrolled": true
   },
   "outputs": [
    {
     "data": {
      "text/plain": [
       "array([193.59858319, 189.75633655, 212.36465413, 164.58249212,\n",
       "       214.48118991, 156.76241225, 166.29829959, 144.17312783,\n",
       "       182.0885475 , 156.17291838, 201.75875753, 167.45000195,\n",
       "       201.87923021, 187.72916172, 179.44788904, 187.63913584,\n",
       "       195.40823288, 185.80982407, 186.6568321 , 193.40527894])"
      ]
     },
     "execution_count": 125,
     "metadata": {},
     "output_type": "execute_result"
    }
   ],
   "source": [
    "y_pred_16s_test = lr_16s.predict(X_test_scaled)\n",
    "y_pred_16s_test[0:20]"
   ]
  },
  {
   "cell_type": "code",
   "execution_count": 126,
   "metadata": {
    "scrolled": false
   },
   "outputs": [
    {
     "name": "stdout",
     "output_type": "stream",
     "text": [
      "Test Set R^2: 0.5388397529233431\n",
      "Test Set Root Mean Squared Error: 19.44952469389643\n"
     ]
    }
   ],
   "source": [
    "print(\"Test Set R^2: {}\".format(lr_16s.score(X_test_scaled, y_test_s)))\n",
    "rmse_16s_test = np.sqrt(mean_squared_error(y_test_s, y_pred_16s_test))\n",
    "print(\"Test Set Root Mean Squared Error: {}\".format(rmse_16s_test))"
   ]
  },
  {
   "cell_type": "code",
   "execution_count": 127,
   "metadata": {},
   "outputs": [],
   "source": [
    "filename = 'cancer_lr_16s.sav'\n",
    "pickle.dump(lr_16s, open(filename, 'wb'))"
   ]
  },
  {
   "cell_type": "code",
   "execution_count": 128,
   "metadata": {},
   "outputs": [],
   "source": [
    "lr_17s = linear_model.ElasticNet(alpha=0.1)"
   ]
  },
  {
   "cell_type": "code",
   "execution_count": 129,
   "metadata": {
    "scrolled": false
   },
   "outputs": [
    {
     "data": {
      "text/plain": [
       "ElasticNet(alpha=0.1, copy_X=True, fit_intercept=True, l1_ratio=0.5,\n",
       "      max_iter=1000, normalize=False, positive=False, precompute=False,\n",
       "      random_state=None, selection='cyclic', tol=0.0001, warm_start=False)"
      ]
     },
     "execution_count": 129,
     "metadata": {},
     "output_type": "execute_result"
    }
   ],
   "source": [
    "lr_17s.fit(X_train_scaled, y_train_s)"
   ]
  },
  {
   "cell_type": "code",
   "execution_count": 130,
   "metadata": {
    "scrolled": true
   },
   "outputs": [
    {
     "data": {
      "text/plain": [
       "array([196.45767432, 153.84411363, 173.20530248, 203.6544058 ,\n",
       "       181.46699727, 199.66445285, 152.87305899, 171.48248984,\n",
       "       176.49029083, 182.37112119, 176.6088619 , 164.14375936,\n",
       "       172.44288128, 168.66958287, 186.58622279, 178.49598983,\n",
       "       174.76517453, 178.26887881, 161.22528606, 165.95043945])"
      ]
     },
     "execution_count": 130,
     "metadata": {},
     "output_type": "execute_result"
    }
   ],
   "source": [
    "y_pred_17s_train = lr_17s.predict(X_train_scaled)\n",
    "y_pred_17s_train[0:20]"
   ]
  },
  {
   "cell_type": "code",
   "execution_count": 131,
   "metadata": {
    "scrolled": false
   },
   "outputs": [
    {
     "name": "stdout",
     "output_type": "stream",
     "text": [
      "Training Set R^2: 0.48141988336351615\n",
      "Training Set Root Mean Squared Error: 19.81276958985461\n"
     ]
    }
   ],
   "source": [
    "print(\"Training Set R^2: {}\".format(lr_17s.score(X_train_scaled, y_train_s)))\n",
    "rmse_17s_train = np.sqrt(mean_squared_error(y_train_s, y_pred_17s_train))\n",
    "print(\"Training Set Root Mean Squared Error: {}\".format(rmse_17s_train))"
   ]
  },
  {
   "cell_type": "code",
   "execution_count": 132,
   "metadata": {
    "scrolled": true
   },
   "outputs": [
    {
     "data": {
      "text/plain": [
       "array([193.24585928, 186.84998735, 210.84016281, 163.52404305,\n",
       "       204.06080114, 161.69460487, 168.41170841, 147.57153718,\n",
       "       188.03530083, 165.8128915 , 192.12156626, 173.45755483,\n",
       "       209.07386254, 184.93878712, 178.84381817, 183.21056767,\n",
       "       196.24725553, 190.55330414, 182.54857487, 192.71497492])"
      ]
     },
     "execution_count": 132,
     "metadata": {},
     "output_type": "execute_result"
    }
   ],
   "source": [
    "y_pred_17s_test = lr_17s.predict(X_test_scaled)\n",
    "y_pred_17s_test[0:20]"
   ]
  },
  {
   "cell_type": "code",
   "execution_count": 133,
   "metadata": {
    "scrolled": false
   },
   "outputs": [
    {
     "name": "stdout",
     "output_type": "stream",
     "text": [
      "Test Set R^2: 0.4225159514960658\n",
      "Test Set Root Mean Squared Error: 21.764718635860117\n"
     ]
    }
   ],
   "source": [
    "print(\"Test Set R^2: {}\".format(lr_17s.score(X_test_scaled, y_test_s)))\n",
    "rmse_17s_test = np.sqrt(mean_squared_error(y_test_s, y_pred_17s_test))\n",
    "print(\"Test Set Root Mean Squared Error: {}\".format(rmse_17s_test))"
   ]
  },
  {
   "cell_type": "code",
   "execution_count": 134,
   "metadata": {},
   "outputs": [],
   "source": [
    "filename = 'cancer_lr_17s.sav'\n",
    "pickle.dump(lr_17s, open(filename, 'wb'))"
   ]
  },
  {
   "cell_type": "code",
   "execution_count": 135,
   "metadata": {},
   "outputs": [],
   "source": [
    "lr_18s = linear_model.ElasticNet(alpha=1, l1_ratio=0.25)"
   ]
  },
  {
   "cell_type": "code",
   "execution_count": 136,
   "metadata": {
    "scrolled": false
   },
   "outputs": [
    {
     "data": {
      "text/plain": [
       "ElasticNet(alpha=1, copy_X=True, fit_intercept=True, l1_ratio=0.25,\n",
       "      max_iter=1000, normalize=False, positive=False, precompute=False,\n",
       "      random_state=None, selection='cyclic', tol=0.0001, warm_start=False)"
      ]
     },
     "execution_count": 136,
     "metadata": {},
     "output_type": "execute_result"
    }
   ],
   "source": [
    "lr_18s.fit(X_train_scaled, y_train_s)"
   ]
  },
  {
   "cell_type": "code",
   "execution_count": 137,
   "metadata": {
    "scrolled": true
   },
   "outputs": [
    {
     "data": {
      "text/plain": [
       "array([187.09590721, 166.86746582, 175.51475283, 187.96912719,\n",
       "       179.47715963, 187.81442734, 168.08572969, 174.55038778,\n",
       "       176.68002293, 179.89238399, 176.11439754, 171.70816021,\n",
       "       176.47869179, 173.33958614, 180.70561376, 179.62044288,\n",
       "       176.99455476, 180.3738892 , 174.84756555, 173.83336565])"
      ]
     },
     "execution_count": 137,
     "metadata": {},
     "output_type": "execute_result"
    }
   ],
   "source": [
    "y_pred_18s_train = lr_18s.predict(X_train_scaled)\n",
    "y_pred_18s_train[0:20]"
   ]
  },
  {
   "cell_type": "code",
   "execution_count": 138,
   "metadata": {
    "scrolled": false
   },
   "outputs": [
    {
     "name": "stdout",
     "output_type": "stream",
     "text": [
      "Training Set R^2: 0.2514377512484497\n",
      "Training Set Root Mean Squared Error: 23.804070017202598\n"
     ]
    }
   ],
   "source": [
    "print(\"Training Set R^2: {}\".format(lr_18s.score(X_train_scaled, y_train_s)))\n",
    "rmse_18s_train = np.sqrt(mean_squared_error(y_train_s, y_pred_18s_train))\n",
    "print(\"Training Set Root Mean Squared Error: {}\".format(rmse_18s_train))"
   ]
  },
  {
   "cell_type": "code",
   "execution_count": 139,
   "metadata": {
    "scrolled": true
   },
   "outputs": [
    {
     "data": {
      "text/plain": [
       "array([184.33005806, 182.78882288, 193.94834071, 171.78309037,\n",
       "       189.12507385, 173.75493328, 176.79498626, 164.65737806,\n",
       "       183.67408991, 165.54394648, 182.76316292, 177.36794113,\n",
       "       194.40008165, 181.06434675, 177.42553559, 179.20586182,\n",
       "       187.48342038, 187.5123929 , 179.78292979, 184.8405997 ])"
      ]
     },
     "execution_count": 139,
     "metadata": {},
     "output_type": "execute_result"
    }
   ],
   "source": [
    "y_pred_18s_test = lr_18s.predict(X_test_scaled)\n",
    "y_pred_18s_test[0:20]"
   ]
  },
  {
   "cell_type": "code",
   "execution_count": 140,
   "metadata": {
    "scrolled": false
   },
   "outputs": [
    {
     "name": "stdout",
     "output_type": "stream",
     "text": [
      "Test Set R^2: 0.20844573881662265\n",
      "Test Set Root Mean Squared Error: 25.481407110311743\n"
     ]
    }
   ],
   "source": [
    "print(\"Test Set R^2: {}\".format(lr_18s.score(X_test_scaled, y_test_s)))\n",
    "rmse_18s_test = np.sqrt(mean_squared_error(y_test_s, y_pred_18s_test))\n",
    "print(\"Test Set Root Mean Squared Error: {}\".format(rmse_18s_test))"
   ]
  },
  {
   "cell_type": "code",
   "execution_count": 141,
   "metadata": {},
   "outputs": [],
   "source": [
    "filename = 'cancer_lr_18s.sav'\n",
    "pickle.dump(lr_18s, open(filename, 'wb'))"
   ]
  },
  {
   "cell_type": "code",
   "execution_count": 142,
   "metadata": {},
   "outputs": [],
   "source": [
    "lr_19s = linear_model.ElasticNet(alpha=10, l1_ratio=0.25)"
   ]
  },
  {
   "cell_type": "code",
   "execution_count": 143,
   "metadata": {
    "scrolled": false
   },
   "outputs": [
    {
     "data": {
      "text/plain": [
       "ElasticNet(alpha=10, copy_X=True, fit_intercept=True, l1_ratio=0.25,\n",
       "      max_iter=1000, normalize=False, positive=False, precompute=False,\n",
       "      random_state=None, selection='cyclic', tol=0.0001, warm_start=False)"
      ]
     },
     "execution_count": 143,
     "metadata": {},
     "output_type": "execute_result"
    }
   ],
   "source": [
    "lr_19s.fit(X_train_scaled, y_train_s)"
   ]
  },
  {
   "cell_type": "code",
   "execution_count": 144,
   "metadata": {
    "scrolled": true
   },
   "outputs": [
    {
     "data": {
      "text/plain": [
       "array([178.98816875, 178.82178326, 178.82840359, 178.83608183,\n",
       "       178.82486938, 178.98571708, 178.79282005, 178.82178326,\n",
       "       178.82101987, 178.83039559, 178.82840359, 178.82721818,\n",
       "       178.8233198 , 178.81283702, 178.8225499 , 178.82999556,\n",
       "       178.8067824 , 178.82101987, 178.94531845, 178.80643351])"
      ]
     },
     "execution_count": 144,
     "metadata": {},
     "output_type": "execute_result"
    }
   ],
   "source": [
    "y_pred_19s_train = lr_19s.predict(X_train_scaled)\n",
    "y_pred_19s_train[0:20]"
   ]
  },
  {
   "cell_type": "code",
   "execution_count": 145,
   "metadata": {
    "scrolled": false
   },
   "outputs": [
    {
     "name": "stdout",
     "output_type": "stream",
     "text": [
      "Training Set R^2: 0.0018399277976327568\n",
      "Training Set Root Mean Squared Error: 27.48763372668891\n"
     ]
    }
   ],
   "source": [
    "print(\"Training Set R^2: {}\".format(lr_19s.score(X_train_scaled, y_train_s)))\n",
    "rmse_19s_train = np.sqrt(mean_squared_error(y_train_s, y_pred_19s_train))\n",
    "print(\"Training Set Root Mean Squared Error: {}\".format(rmse_19s_train))"
   ]
  },
  {
   "cell_type": "code",
   "execution_count": 146,
   "metadata": {
    "scrolled": true
   },
   "outputs": [
    {
     "data": {
      "text/plain": [
       "array([178.82999556, 178.96533541, 178.99655376, 178.82178326,\n",
       "       178.97736777, 178.80401385, 178.80995869, 178.80197122,\n",
       "       178.82919794, 178.81725169, 178.81687934, 178.8233198 ,\n",
       "       178.98249395, 178.82919794, 178.81283702, 178.81912562,\n",
       "       178.82101987, 178.97697916, 178.81283702, 178.82919794])"
      ]
     },
     "execution_count": 146,
     "metadata": {},
     "output_type": "execute_result"
    }
   ],
   "source": [
    "y_pred_19s_test = lr_19s.predict(X_test_scaled)\n",
    "y_pred_19s_test[0:20]"
   ]
  },
  {
   "cell_type": "code",
   "execution_count": 147,
   "metadata": {
    "scrolled": false
   },
   "outputs": [
    {
     "name": "stdout",
     "output_type": "stream",
     "text": [
      "Test Set R^2: 0.0001283405097105561\n",
      "Test Set Root Mean Squared Error: 28.638824649724974\n"
     ]
    }
   ],
   "source": [
    "print(\"Test Set R^2: {}\".format(lr_19s.score(X_test_scaled, y_test_s)))\n",
    "rmse_19s_test = np.sqrt(mean_squared_error(y_test_s, y_pred_19s_test))\n",
    "print(\"Test Set Root Mean Squared Error: {}\".format(rmse_19s_test))"
   ]
  },
  {
   "cell_type": "code",
   "execution_count": 148,
   "metadata": {},
   "outputs": [],
   "source": [
    "filename = 'cancer_lr_19s.sav'\n",
    "pickle.dump(lr_19s, open(filename, 'wb'))"
   ]
  },
  {
   "cell_type": "code",
   "execution_count": 149,
   "metadata": {},
   "outputs": [],
   "source": [
    "lr_20s = linear_model.ElasticNet(alpha=100, l1_ratio=0.25)"
   ]
  },
  {
   "cell_type": "code",
   "execution_count": 150,
   "metadata": {
    "scrolled": false
   },
   "outputs": [
    {
     "data": {
      "text/plain": [
       "ElasticNet(alpha=100, copy_X=True, fit_intercept=True, l1_ratio=0.25,\n",
       "      max_iter=1000, normalize=False, positive=False, precompute=False,\n",
       "      random_state=None, selection='cyclic', tol=0.0001, warm_start=False)"
      ]
     },
     "execution_count": 150,
     "metadata": {},
     "output_type": "execute_result"
    }
   ],
   "source": [
    "lr_20s.fit(X_train_scaled, y_train_s)"
   ]
  },
  {
   "cell_type": "code",
   "execution_count": 151,
   "metadata": {
    "scrolled": true
   },
   "outputs": [
    {
     "data": {
      "text/plain": [
       "array([178.85851151, 178.85851151, 178.85851151, 178.85851151,\n",
       "       178.85851151, 178.85851151, 178.85851151, 178.85851151,\n",
       "       178.85851151, 178.85851151, 178.85851151, 178.85851151,\n",
       "       178.85851151, 178.85851151, 178.85851151, 178.85851151,\n",
       "       178.85851151, 178.85851151, 178.85851151, 178.85851151])"
      ]
     },
     "execution_count": 151,
     "metadata": {},
     "output_type": "execute_result"
    }
   ],
   "source": [
    "y_pred_20s_train = lr_20s.predict(X_train_scaled)\n",
    "y_pred_20s_train[0:20]"
   ]
  },
  {
   "cell_type": "code",
   "execution_count": 152,
   "metadata": {
    "scrolled": false
   },
   "outputs": [
    {
     "name": "stdout",
     "output_type": "stream",
     "text": [
      "Training Set R^2: 0.0\n",
      "Training Set Root Mean Squared Error: 27.512956306533045\n"
     ]
    }
   ],
   "source": [
    "print(\"Training Set R^2: {}\".format(lr_20s.score(X_train_scaled, y_train_s)))\n",
    "rmse_20s_train = np.sqrt(mean_squared_error(y_train_s, y_pred_20s_train))\n",
    "print(\"Training Set Root Mean Squared Error: {}\".format(rmse_20s_train))"
   ]
  },
  {
   "cell_type": "code",
   "execution_count": 153,
   "metadata": {
    "scrolled": true
   },
   "outputs": [
    {
     "data": {
      "text/plain": [
       "array([178.85851151, 178.85851151, 178.85851151, 178.85851151,\n",
       "       178.85851151, 178.85851151, 178.85851151, 178.85851151,\n",
       "       178.85851151, 178.85851151, 178.85851151, 178.85851151,\n",
       "       178.85851151, 178.85851151, 178.85851151, 178.85851151,\n",
       "       178.85851151, 178.85851151, 178.85851151, 178.85851151])"
      ]
     },
     "execution_count": 153,
     "metadata": {},
     "output_type": "execute_result"
    }
   ],
   "source": [
    "y_pred_20s_test = lr_20s.predict(X_test_scaled)\n",
    "y_pred_20s_test[0:20]"
   ]
  },
  {
   "cell_type": "code",
   "execution_count": 154,
   "metadata": {
    "scrolled": false
   },
   "outputs": [
    {
     "name": "stdout",
     "output_type": "stream",
     "text": [
      "Test Set R^2: -0.001131456212104309\n",
      "Test Set Root Mean Squared Error: 28.656860834509846\n"
     ]
    }
   ],
   "source": [
    "print(\"Test Set R^2: {}\".format(lr_20s.score(X_test_scaled, y_test_s)))\n",
    "rmse_20s_test = np.sqrt(mean_squared_error(y_test_s, y_pred_20s_test))\n",
    "print(\"Test Set Root Mean Squared Error: {}\".format(rmse_20s_test))"
   ]
  },
  {
   "cell_type": "code",
   "execution_count": 155,
   "metadata": {},
   "outputs": [],
   "source": [
    "filename = 'cancer_lr_20s.sav'\n",
    "pickle.dump(lr_20s, open(filename, 'wb'))"
   ]
  },
  {
   "cell_type": "markdown",
   "metadata": {},
   "source": [
    "## Elastic Net with L1 Ratio of 0.5"
   ]
  },
  {
   "cell_type": "code",
   "execution_count": 156,
   "metadata": {},
   "outputs": [],
   "source": [
    "lr_21s = linear_model.ElasticNet(alpha=0.001, l1_ratio=0.5)"
   ]
  },
  {
   "cell_type": "code",
   "execution_count": 157,
   "metadata": {
    "scrolled": false
   },
   "outputs": [
    {
     "name": "stderr",
     "output_type": "stream",
     "text": [
      "/Users/DanLoew/anaconda3/lib/python3.7/site-packages/sklearn/linear_model/coordinate_descent.py:492: ConvergenceWarning: Objective did not converge. You might want to increase the number of iterations. Fitting data with very small alpha may cause precision problems.\n",
      "  ConvergenceWarning)\n"
     ]
    },
    {
     "data": {
      "text/plain": [
       "ElasticNet(alpha=0.001, copy_X=True, fit_intercept=True, l1_ratio=0.5,\n",
       "      max_iter=1000, normalize=False, positive=False, precompute=False,\n",
       "      random_state=None, selection='cyclic', tol=0.0001, warm_start=False)"
      ]
     },
     "execution_count": 157,
     "metadata": {},
     "output_type": "execute_result"
    }
   ],
   "source": [
    "lr_21s.fit(X_train_scaled, y_train_s)"
   ]
  },
  {
   "cell_type": "code",
   "execution_count": 158,
   "metadata": {
    "scrolled": true
   },
   "outputs": [
    {
     "data": {
      "text/plain": [
       "array([203.42447224, 148.34072263, 169.90128907, 205.92124076,\n",
       "       181.06879649, 210.46687333, 157.42333158, 163.66234617,\n",
       "       177.78434195, 181.67967297, 183.53426549, 157.6358598 ,\n",
       "       166.45726699, 150.35470012, 186.29944319, 164.43379515,\n",
       "       170.15929697, 177.68050202, 154.40180564, 165.90763231])"
      ]
     },
     "execution_count": 158,
     "metadata": {},
     "output_type": "execute_result"
    }
   ],
   "source": [
    "y_pred_21s_train = lr_21s.predict(X_train_scaled)\n",
    "y_pred_21s_train[0:20]"
   ]
  },
  {
   "cell_type": "code",
   "execution_count": 159,
   "metadata": {
    "scrolled": false
   },
   "outputs": [
    {
     "name": "stdout",
     "output_type": "stream",
     "text": [
      "Training Set R^2: 0.6248207971636459\n",
      "Training Set Root Mean Squared Error: 16.852201240384055\n"
     ]
    }
   ],
   "source": [
    "print(\"Training Set R^2: {}\".format(lr_21s.score(X_train_scaled, y_train_s)))\n",
    "rmse_21s_train = np.sqrt(mean_squared_error(y_train_s, y_pred_21s_train))\n",
    "print(\"Training Set Root Mean Squared Error: {}\".format(rmse_21s_train))"
   ]
  },
  {
   "cell_type": "code",
   "execution_count": 160,
   "metadata": {
    "scrolled": true
   },
   "outputs": [
    {
     "data": {
      "text/plain": [
       "array([192.84657492, 194.57875023, 209.58485011, 171.38291044,\n",
       "       220.46454139, 154.49568422, 171.32249751, 142.66787425,\n",
       "       176.57752035, 133.78253829, 207.86577552, 158.01546389,\n",
       "       192.11450392, 192.51848635, 178.83307004, 190.89629517,\n",
       "       190.5237148 , 178.83439089, 189.33370516, 194.09897211])"
      ]
     },
     "execution_count": 160,
     "metadata": {},
     "output_type": "execute_result"
    }
   ],
   "source": [
    "y_pred_21s_test = lr_21s.predict(X_test_scaled)\n",
    "y_pred_21s_test[0:20]"
   ]
  },
  {
   "cell_type": "code",
   "execution_count": 161,
   "metadata": {
    "scrolled": false
   },
   "outputs": [
    {
     "name": "stdout",
     "output_type": "stream",
     "text": [
      "Test Set R^2: 0.5697353324559896\n",
      "Test Set Root Mean Squared Error: 18.786717421399853\n"
     ]
    }
   ],
   "source": [
    "print(\"Test Set R^2: {}\".format(lr_21s.score(X_test_scaled, y_test_s)))\n",
    "rmse_21s_test = np.sqrt(mean_squared_error(y_test_s, y_pred_21s_test))\n",
    "print(\"Test Set Root Mean Squared Error: {}\".format(rmse_21s_test))"
   ]
  },
  {
   "cell_type": "code",
   "execution_count": 162,
   "metadata": {},
   "outputs": [],
   "source": [
    "filename = 'cancer_lr_21s.sav'\n",
    "pickle.dump(lr_21s, open(filename, 'wb'))"
   ]
  },
  {
   "cell_type": "code",
   "execution_count": 163,
   "metadata": {},
   "outputs": [],
   "source": [
    "lr_22s = linear_model.ElasticNet(alpha=0.01, l1_ratio=0.5)"
   ]
  },
  {
   "cell_type": "code",
   "execution_count": 164,
   "metadata": {
    "scrolled": false
   },
   "outputs": [
    {
     "data": {
      "text/plain": [
       "ElasticNet(alpha=0.01, copy_X=True, fit_intercept=True, l1_ratio=0.5,\n",
       "      max_iter=1000, normalize=False, positive=False, precompute=False,\n",
       "      random_state=None, selection='cyclic', tol=0.0001, warm_start=False)"
      ]
     },
     "execution_count": 164,
     "metadata": {},
     "output_type": "execute_result"
    }
   ],
   "source": [
    "lr_22s.fit(X_train_scaled, y_train_s)"
   ]
  },
  {
   "cell_type": "code",
   "execution_count": 165,
   "metadata": {
    "scrolled": true
   },
   "outputs": [
    {
     "data": {
      "text/plain": [
       "array([201.16810762, 149.37738571, 171.29486288, 208.27547915,\n",
       "       182.8776695 , 207.78594666, 153.96534045, 166.71536116,\n",
       "       178.30778785, 182.0680801 , 180.01028367, 160.92305246,\n",
       "       167.42664302, 160.5047761 , 187.92173853, 169.22784847,\n",
       "       172.01324653, 177.00827232, 154.96758111, 166.23747604])"
      ]
     },
     "execution_count": 165,
     "metadata": {},
     "output_type": "execute_result"
    }
   ],
   "source": [
    "y_pred_22s_train = lr_22s.predict(X_train_scaled)\n",
    "y_pred_22s_train[0:20]"
   ]
  },
  {
   "cell_type": "code",
   "execution_count": 166,
   "metadata": {
    "scrolled": false
   },
   "outputs": [
    {
     "name": "stdout",
     "output_type": "stream",
     "text": [
      "Training Set R^2: 0.5903594361695605\n",
      "Training Set Root Mean Squared Error: 17.609163913731898\n"
     ]
    }
   ],
   "source": [
    "print(\"Training Set R^2: {}\".format(lr_22s.score(X_train_scaled, y_train_s)))\n",
    "rmse_22s_train = np.sqrt(mean_squared_error(y_train_s, y_pred_22s_train))\n",
    "print(\"Training Set Root Mean Squared Error: {}\".format(rmse_22s_train))"
   ]
  },
  {
   "cell_type": "code",
   "execution_count": 167,
   "metadata": {
    "scrolled": true
   },
   "outputs": [
    {
     "data": {
      "text/plain": [
       "array([193.45655262, 190.63595285, 211.99395614, 165.72844691,\n",
       "       215.62697034, 156.46628503, 166.49606305, 143.77359322,\n",
       "       180.74379283, 152.32139   , 203.04255614, 167.16404067,\n",
       "       200.39500763, 188.91555189, 179.2993079 , 188.15064408,\n",
       "       194.99038019, 184.6596727 , 186.95880368, 193.53843276])"
      ]
     },
     "execution_count": 167,
     "metadata": {},
     "output_type": "execute_result"
    }
   ],
   "source": [
    "y_pred_22s_test = lr_22s.predict(X_test_scaled)\n",
    "y_pred_22s_test[0:20]"
   ]
  },
  {
   "cell_type": "code",
   "execution_count": 168,
   "metadata": {
    "scrolled": false
   },
   "outputs": [
    {
     "name": "stdout",
     "output_type": "stream",
     "text": [
      "Test Set R^2: 0.5517377595582946\n",
      "Test Set Root Mean Squared Error: 19.17560785246831\n"
     ]
    }
   ],
   "source": [
    "print(\"Test Set R^2: {}\".format(lr_22s.score(X_test_scaled, y_test_s)))\n",
    "rmse_22s_test = np.sqrt(mean_squared_error(y_test_s, y_pred_22s_test))\n",
    "print(\"Test Set Root Mean Squared Error: {}\".format(rmse_22s_test))"
   ]
  },
  {
   "cell_type": "code",
   "execution_count": 169,
   "metadata": {},
   "outputs": [],
   "source": [
    "filename = 'cancer_lr_22s.sav'\n",
    "pickle.dump(lr_22s, open(filename, 'wb'))"
   ]
  },
  {
   "cell_type": "code",
   "execution_count": 170,
   "metadata": {},
   "outputs": [],
   "source": [
    "lr_23s = linear_model.ElasticNet(alpha=0.1, l1_ratio=0.5)"
   ]
  },
  {
   "cell_type": "code",
   "execution_count": 171,
   "metadata": {
    "scrolled": false
   },
   "outputs": [
    {
     "data": {
      "text/plain": [
       "ElasticNet(alpha=0.1, copy_X=True, fit_intercept=True, l1_ratio=0.5,\n",
       "      max_iter=1000, normalize=False, positive=False, precompute=False,\n",
       "      random_state=None, selection='cyclic', tol=0.0001, warm_start=False)"
      ]
     },
     "execution_count": 171,
     "metadata": {},
     "output_type": "execute_result"
    }
   ],
   "source": [
    "lr_23s.fit(X_train_scaled, y_train_s)"
   ]
  },
  {
   "cell_type": "code",
   "execution_count": 172,
   "metadata": {
    "scrolled": true
   },
   "outputs": [
    {
     "data": {
      "text/plain": [
       "array([196.45767432, 153.84411363, 173.20530248, 203.6544058 ,\n",
       "       181.46699727, 199.66445285, 152.87305899, 171.48248984,\n",
       "       176.49029083, 182.37112119, 176.6088619 , 164.14375936,\n",
       "       172.44288128, 168.66958287, 186.58622279, 178.49598983,\n",
       "       174.76517453, 178.26887881, 161.22528606, 165.95043945])"
      ]
     },
     "execution_count": 172,
     "metadata": {},
     "output_type": "execute_result"
    }
   ],
   "source": [
    "y_pred_23s_train = lr_23s.predict(X_train_scaled)\n",
    "y_pred_23s_train[0:20]"
   ]
  },
  {
   "cell_type": "code",
   "execution_count": 173,
   "metadata": {
    "scrolled": false
   },
   "outputs": [
    {
     "name": "stdout",
     "output_type": "stream",
     "text": [
      "Training Set R^2: 0.48141988336351615\n",
      "Training Set Root Mean Squared Error: 19.81276958985461\n"
     ]
    }
   ],
   "source": [
    "print(\"Training Set R^2: {}\".format(lr_23s.score(X_train_scaled, y_train_s)))\n",
    "rmse_23s_train = np.sqrt(mean_squared_error(y_train_s, y_pred_23s_train))\n",
    "print(\"Training Set Root Mean Squared Error: {}\".format(rmse_23s_train))"
   ]
  },
  {
   "cell_type": "code",
   "execution_count": 174,
   "metadata": {
    "scrolled": true
   },
   "outputs": [
    {
     "data": {
      "text/plain": [
       "array([193.24585928, 186.84998735, 210.84016281, 163.52404305,\n",
       "       204.06080114, 161.69460487, 168.41170841, 147.57153718,\n",
       "       188.03530083, 165.8128915 , 192.12156626, 173.45755483,\n",
       "       209.07386254, 184.93878712, 178.84381817, 183.21056767,\n",
       "       196.24725553, 190.55330414, 182.54857487, 192.71497492])"
      ]
     },
     "execution_count": 174,
     "metadata": {},
     "output_type": "execute_result"
    }
   ],
   "source": [
    "y_pred_23s_test = lr_23s.predict(X_test_scaled)\n",
    "y_pred_23s_test[0:20]"
   ]
  },
  {
   "cell_type": "code",
   "execution_count": 175,
   "metadata": {
    "scrolled": false
   },
   "outputs": [
    {
     "name": "stdout",
     "output_type": "stream",
     "text": [
      "Test Set R^2: 0.4225159514960658\n",
      "Test Set Root Mean Squared Error: 21.764718635860117\n"
     ]
    }
   ],
   "source": [
    "print(\"Test Set R^2: {}\".format(lr_23s.score(X_test_scaled, y_test_s)))\n",
    "rmse_23s_test = np.sqrt(mean_squared_error(y_test_s, y_pred_23s_test))\n",
    "print(\"Test Set Root Mean Squared Error: {}\".format(rmse_23s_test))"
   ]
  },
  {
   "cell_type": "code",
   "execution_count": 176,
   "metadata": {},
   "outputs": [],
   "source": [
    "filename = 'cancer_lr_23s.sav'\n",
    "pickle.dump(lr_23s, open(filename, 'wb'))"
   ]
  },
  {
   "cell_type": "code",
   "execution_count": 177,
   "metadata": {},
   "outputs": [],
   "source": [
    "lr_24s = linear_model.ElasticNet(alpha=1, l1_ratio=0.5)"
   ]
  },
  {
   "cell_type": "code",
   "execution_count": 178,
   "metadata": {
    "scrolled": false
   },
   "outputs": [
    {
     "data": {
      "text/plain": [
       "ElasticNet(alpha=1, copy_X=True, fit_intercept=True, l1_ratio=0.5,\n",
       "      max_iter=1000, normalize=False, positive=False, precompute=False,\n",
       "      random_state=None, selection='cyclic', tol=0.0001, warm_start=False)"
      ]
     },
     "execution_count": 178,
     "metadata": {},
     "output_type": "execute_result"
    }
   ],
   "source": [
    "lr_24s.fit(X_train_scaled, y_train_s)"
   ]
  },
  {
   "cell_type": "code",
   "execution_count": 179,
   "metadata": {
    "scrolled": true
   },
   "outputs": [
    {
     "data": {
      "text/plain": [
       "array([186.62103847, 168.24749743, 176.58805952, 187.70297234,\n",
       "       178.51347297, 188.44437292, 168.16268348, 174.50176272,\n",
       "       176.8993598 , 179.70303362, 176.81456931, 172.5165359 ,\n",
       "       176.85824436, 174.2387066 , 180.71191291, 179.97679246,\n",
       "       176.11710217, 179.86710191, 175.32011083, 173.22949486])"
      ]
     },
     "execution_count": 179,
     "metadata": {},
     "output_type": "execute_result"
    }
   ],
   "source": [
    "y_pred_24s_train = lr_24s.predict(X_train_scaled)\n",
    "y_pred_24s_train[0:20]"
   ]
  },
  {
   "cell_type": "code",
   "execution_count": 180,
   "metadata": {
    "scrolled": false
   },
   "outputs": [
    {
     "name": "stdout",
     "output_type": "stream",
     "text": [
      "Training Set R^2: 0.24515351710575495\n",
      "Training Set Root Mean Squared Error: 23.903779630734515\n"
     ]
    }
   ],
   "source": [
    "print(\"Training Set R^2: {}\".format(lr_24s.score(X_train_scaled, y_train_s)))\n",
    "rmse_24s_train = np.sqrt(mean_squared_error(y_train_s, y_pred_24s_train))\n",
    "print(\"Training Set Root Mean Squared Error: {}\".format(rmse_24s_train))"
   ]
  },
  {
   "cell_type": "code",
   "execution_count": 181,
   "metadata": {
    "scrolled": true
   },
   "outputs": [
    {
     "data": {
      "text/plain": [
       "array([184.04857995, 182.6185709 , 193.67365278, 172.92979104,\n",
       "       188.33391122, 173.09264083, 176.26921183, 165.00645075,\n",
       "       183.73648018, 167.7163412 , 181.8673606 , 177.37259798,\n",
       "       193.96119885, 180.92364743, 177.36639678, 179.17601873,\n",
       "       186.45638025, 186.8103474 , 178.68646757, 184.16094288])"
      ]
     },
     "execution_count": 181,
     "metadata": {},
     "output_type": "execute_result"
    }
   ],
   "source": [
    "y_pred_24s_test = lr_24s.predict(X_test_scaled)\n",
    "y_pred_24s_test[0:20]"
   ]
  },
  {
   "cell_type": "code",
   "execution_count": 182,
   "metadata": {
    "scrolled": false
   },
   "outputs": [
    {
     "name": "stdout",
     "output_type": "stream",
     "text": [
      "Test Set R^2: 0.20179174711467218\n",
      "Test Set Root Mean Squared Error: 25.588284328873076\n"
     ]
    }
   ],
   "source": [
    "print(\"Test Set R^2: {}\".format(lr_24s.score(X_test_scaled, y_test_s)))\n",
    "rmse_24s_test = np.sqrt(mean_squared_error(y_test_s, y_pred_24s_test))\n",
    "print(\"Test Set Root Mean Squared Error: {}\".format(rmse_24s_test))"
   ]
  },
  {
   "cell_type": "code",
   "execution_count": 183,
   "metadata": {},
   "outputs": [],
   "source": [
    "filename = 'cancer_lr_24s.sav'\n",
    "pickle.dump(lr_24s, open(filename, 'wb'))"
   ]
  },
  {
   "cell_type": "code",
   "execution_count": 184,
   "metadata": {},
   "outputs": [],
   "source": [
    "lr_25s = linear_model.ElasticNet(alpha=10, l1_ratio=0.5)"
   ]
  },
  {
   "cell_type": "code",
   "execution_count": 185,
   "metadata": {
    "scrolled": false
   },
   "outputs": [
    {
     "data": {
      "text/plain": [
       "ElasticNet(alpha=10, copy_X=True, fit_intercept=True, l1_ratio=0.5,\n",
       "      max_iter=1000, normalize=False, positive=False, precompute=False,\n",
       "      random_state=None, selection='cyclic', tol=0.0001, warm_start=False)"
      ]
     },
     "execution_count": 185,
     "metadata": {},
     "output_type": "execute_result"
    }
   ],
   "source": [
    "lr_25s.fit(X_train_scaled, y_train_s)"
   ]
  },
  {
   "cell_type": "code",
   "execution_count": 186,
   "metadata": {
    "scrolled": true
   },
   "outputs": [
    {
     "data": {
      "text/plain": [
       "array([178.85851151, 178.85851151, 178.85851151, 178.85851151,\n",
       "       178.85851151, 178.85851151, 178.85851151, 178.85851151,\n",
       "       178.85851151, 178.85851151, 178.85851151, 178.85851151,\n",
       "       178.85851151, 178.85851151, 178.85851151, 178.85851151,\n",
       "       178.85851151, 178.85851151, 178.85851151, 178.85851151])"
      ]
     },
     "execution_count": 186,
     "metadata": {},
     "output_type": "execute_result"
    }
   ],
   "source": [
    "y_pred_25s_train = lr_25s.predict(X_train_scaled)\n",
    "y_pred_25s_train[0:20]"
   ]
  },
  {
   "cell_type": "code",
   "execution_count": 187,
   "metadata": {
    "scrolled": false
   },
   "outputs": [
    {
     "name": "stdout",
     "output_type": "stream",
     "text": [
      "Training Set R^2: 0.0\n",
      "Training Set Root Mean Squared Error: 27.512956306533045\n"
     ]
    }
   ],
   "source": [
    "print(\"Training Set R^2: {}\".format(lr_25s.score(X_train_scaled, y_train_s)))\n",
    "rmse_25s_train = np.sqrt(mean_squared_error(y_train_s, y_pred_25s_train))\n",
    "print(\"Training Set Root Mean Squared Error: {}\".format(rmse_25s_train))"
   ]
  },
  {
   "cell_type": "code",
   "execution_count": 188,
   "metadata": {
    "scrolled": true
   },
   "outputs": [
    {
     "data": {
      "text/plain": [
       "array([178.85851151, 178.85851151, 178.85851151, 178.85851151,\n",
       "       178.85851151, 178.85851151, 178.85851151, 178.85851151,\n",
       "       178.85851151, 178.85851151, 178.85851151, 178.85851151,\n",
       "       178.85851151, 178.85851151, 178.85851151, 178.85851151,\n",
       "       178.85851151, 178.85851151, 178.85851151, 178.85851151])"
      ]
     },
     "execution_count": 188,
     "metadata": {},
     "output_type": "execute_result"
    }
   ],
   "source": [
    "y_pred_25s_test = lr_25s.predict(X_test_scaled)\n",
    "y_pred_25s_test[0:20]"
   ]
  },
  {
   "cell_type": "code",
   "execution_count": 189,
   "metadata": {
    "scrolled": false
   },
   "outputs": [
    {
     "name": "stdout",
     "output_type": "stream",
     "text": [
      "Test Set R^2: -0.001131456212104309\n",
      "Test Set Root Mean Squared Error: 28.656860834509846\n"
     ]
    }
   ],
   "source": [
    "print(\"Test Set R^2: {}\".format(lr_25s.score(X_test_scaled, y_test_s)))\n",
    "rmse_25s_test = np.sqrt(mean_squared_error(y_test_s, y_pred_25s_test))\n",
    "print(\"Test Set Root Mean Squared Error: {}\".format(rmse_25s_test))"
   ]
  },
  {
   "cell_type": "code",
   "execution_count": 190,
   "metadata": {},
   "outputs": [],
   "source": [
    "filename = 'cancer_lr_25s.sav'\n",
    "pickle.dump(lr_25s, open(filename, 'wb'))"
   ]
  },
  {
   "cell_type": "code",
   "execution_count": 191,
   "metadata": {},
   "outputs": [],
   "source": [
    "lr_26s = linear_model.ElasticNet(alpha=100, l1_ratio=0.5)"
   ]
  },
  {
   "cell_type": "code",
   "execution_count": 192,
   "metadata": {
    "scrolled": false
   },
   "outputs": [
    {
     "data": {
      "text/plain": [
       "ElasticNet(alpha=100, copy_X=True, fit_intercept=True, l1_ratio=0.5,\n",
       "      max_iter=1000, normalize=False, positive=False, precompute=False,\n",
       "      random_state=None, selection='cyclic', tol=0.0001, warm_start=False)"
      ]
     },
     "execution_count": 192,
     "metadata": {},
     "output_type": "execute_result"
    }
   ],
   "source": [
    "lr_26s.fit(X_train_scaled, y_train_s)"
   ]
  },
  {
   "cell_type": "code",
   "execution_count": 193,
   "metadata": {
    "scrolled": true
   },
   "outputs": [
    {
     "data": {
      "text/plain": [
       "array([178.85851151, 178.85851151, 178.85851151, 178.85851151,\n",
       "       178.85851151, 178.85851151, 178.85851151, 178.85851151,\n",
       "       178.85851151, 178.85851151, 178.85851151, 178.85851151,\n",
       "       178.85851151, 178.85851151, 178.85851151, 178.85851151,\n",
       "       178.85851151, 178.85851151, 178.85851151, 178.85851151])"
      ]
     },
     "execution_count": 193,
     "metadata": {},
     "output_type": "execute_result"
    }
   ],
   "source": [
    "y_pred_26s_train = lr_26s.predict(X_train_scaled)\n",
    "y_pred_26s_train[0:20]"
   ]
  },
  {
   "cell_type": "code",
   "execution_count": 194,
   "metadata": {
    "scrolled": false
   },
   "outputs": [
    {
     "name": "stdout",
     "output_type": "stream",
     "text": [
      "Training Set R^2: 0.0\n",
      "Training Set Root Mean Squared Error: 27.512956306533045\n"
     ]
    }
   ],
   "source": [
    "print(\"Training Set R^2: {}\".format(lr_26s.score(X_train_scaled, y_train_s)))\n",
    "rmse_26s_train = np.sqrt(mean_squared_error(y_train_s, y_pred_26s_train))\n",
    "print(\"Training Set Root Mean Squared Error: {}\".format(rmse_26s_train))"
   ]
  },
  {
   "cell_type": "code",
   "execution_count": 195,
   "metadata": {
    "scrolled": true
   },
   "outputs": [
    {
     "data": {
      "text/plain": [
       "array([178.85851151, 178.85851151, 178.85851151, 178.85851151,\n",
       "       178.85851151, 178.85851151, 178.85851151, 178.85851151,\n",
       "       178.85851151, 178.85851151, 178.85851151, 178.85851151,\n",
       "       178.85851151, 178.85851151, 178.85851151, 178.85851151,\n",
       "       178.85851151, 178.85851151, 178.85851151, 178.85851151])"
      ]
     },
     "execution_count": 195,
     "metadata": {},
     "output_type": "execute_result"
    }
   ],
   "source": [
    "y_pred_26s_test = lr_26s.predict(X_test_scaled)\n",
    "y_pred_26s_test[0:20]"
   ]
  },
  {
   "cell_type": "code",
   "execution_count": 196,
   "metadata": {
    "scrolled": false
   },
   "outputs": [
    {
     "name": "stdout",
     "output_type": "stream",
     "text": [
      "Test Set R^2: -0.001131456212104309\n",
      "Test Set Root Mean Squared Error: 28.656860834509846\n"
     ]
    }
   ],
   "source": [
    "print(\"Test Set R^2: {}\".format(lr_26s.score(X_test_scaled, y_test_s)))\n",
    "rmse_26s_test = np.sqrt(mean_squared_error(y_test_s, y_pred_26s_test))\n",
    "print(\"Test Set Root Mean Squared Error: {}\".format(rmse_26s_test))"
   ]
  },
  {
   "cell_type": "code",
   "execution_count": 197,
   "metadata": {},
   "outputs": [],
   "source": [
    "filename = 'cancer_lr_26s.sav'\n",
    "pickle.dump(lr_26s, open(filename, 'wb'))"
   ]
  },
  {
   "cell_type": "markdown",
   "metadata": {},
   "source": [
    "## Elastic Net with L1 Ratio of 0.75"
   ]
  },
  {
   "cell_type": "code",
   "execution_count": 198,
   "metadata": {},
   "outputs": [],
   "source": [
    "lr_27s = linear_model.ElasticNet(alpha=0.001, l1_ratio=0.75)"
   ]
  },
  {
   "cell_type": "code",
   "execution_count": 199,
   "metadata": {
    "scrolled": false
   },
   "outputs": [
    {
     "name": "stderr",
     "output_type": "stream",
     "text": [
      "/Users/DanLoew/anaconda3/lib/python3.7/site-packages/sklearn/linear_model/coordinate_descent.py:492: ConvergenceWarning: Objective did not converge. You might want to increase the number of iterations. Fitting data with very small alpha may cause precision problems.\n",
      "  ConvergenceWarning)\n"
     ]
    },
    {
     "data": {
      "text/plain": [
       "ElasticNet(alpha=0.001, copy_X=True, fit_intercept=True, l1_ratio=0.75,\n",
       "      max_iter=1000, normalize=False, positive=False, precompute=False,\n",
       "      random_state=None, selection='cyclic', tol=0.0001, warm_start=False)"
      ]
     },
     "execution_count": 199,
     "metadata": {},
     "output_type": "execute_result"
    }
   ],
   "source": [
    "lr_27s.fit(X_train_scaled, y_train_s)"
   ]
  },
  {
   "cell_type": "code",
   "execution_count": 200,
   "metadata": {
    "scrolled": true
   },
   "outputs": [
    {
     "data": {
      "text/plain": [
       "array([203.45748997, 147.56664616, 169.73043022, 205.50330054,\n",
       "       180.59790174, 210.53464147, 157.91435672, 163.65829515,\n",
       "       177.59099826, 181.91576759, 183.72400836, 157.01577456,\n",
       "       166.5990756 , 149.68984773, 185.63290177, 163.93222733,\n",
       "       169.82785836, 177.93073012, 155.02797395, 165.80423209])"
      ]
     },
     "execution_count": 200,
     "metadata": {},
     "output_type": "execute_result"
    }
   ],
   "source": [
    "y_pred_27s_train = lr_27s.predict(X_train_scaled)\n",
    "y_pred_27s_train[0:20]"
   ]
  },
  {
   "cell_type": "code",
   "execution_count": 201,
   "metadata": {
    "scrolled": false
   },
   "outputs": [
    {
     "name": "stdout",
     "output_type": "stream",
     "text": [
      "Training Set R^2: 0.6295987067488629\n",
      "Training Set Root Mean Squared Error: 16.74455096433371\n"
     ]
    }
   ],
   "source": [
    "print(\"Training Set R^2: {}\".format(lr_27s.score(X_train_scaled, y_train_s)))\n",
    "rmse_27s_train = np.sqrt(mean_squared_error(y_train_s, y_pred_27s_train))\n",
    "print(\"Training Set Root Mean Squared Error: {}\".format(rmse_27s_train))"
   ]
  },
  {
   "cell_type": "code",
   "execution_count": 202,
   "metadata": {
    "scrolled": true
   },
   "outputs": [
    {
     "data": {
      "text/plain": [
       "array([192.73326893, 195.35135334, 209.5013098 , 172.10122854,\n",
       "       220.73417512, 154.07963059, 172.13485996, 142.50338721,\n",
       "       175.87383343, 134.26265195, 207.57696232, 155.66463737,\n",
       "       191.97807426, 192.72196998, 179.20733799, 191.13574841,\n",
       "       189.35740848, 178.13419091, 189.31270249, 193.58624686])"
      ]
     },
     "execution_count": 202,
     "metadata": {},
     "output_type": "execute_result"
    }
   ],
   "source": [
    "y_pred_27s_test = lr_27s.predict(X_test_scaled)\n",
    "y_pred_27s_test[0:20]"
   ]
  },
  {
   "cell_type": "code",
   "execution_count": 203,
   "metadata": {
    "scrolled": false
   },
   "outputs": [
    {
     "name": "stdout",
     "output_type": "stream",
     "text": [
      "Test Set R^2: 0.5701916692170508\n",
      "Test Set Root Mean Squared Error: 18.776752224659432\n"
     ]
    }
   ],
   "source": [
    "print(\"Test Set R^2: {}\".format(lr_27s.score(X_test_scaled, y_test_s)))\n",
    "rmse_27s_test = np.sqrt(mean_squared_error(y_test_s, y_pred_27s_test))\n",
    "print(\"Test Set Root Mean Squared Error: {}\".format(rmse_27s_test))"
   ]
  },
  {
   "cell_type": "code",
   "execution_count": 204,
   "metadata": {},
   "outputs": [],
   "source": [
    "filename = 'cancer_lr_27s.sav'\n",
    "pickle.dump(lr_27s, open(filename, 'wb'))"
   ]
  },
  {
   "cell_type": "code",
   "execution_count": 205,
   "metadata": {},
   "outputs": [],
   "source": [
    "lr_28s = linear_model.ElasticNet(alpha=0.01, l1_ratio=0.75)"
   ]
  },
  {
   "cell_type": "code",
   "execution_count": 206,
   "metadata": {
    "scrolled": false
   },
   "outputs": [
    {
     "data": {
      "text/plain": [
       "ElasticNet(alpha=0.01, copy_X=True, fit_intercept=True, l1_ratio=0.75,\n",
       "      max_iter=1000, normalize=False, positive=False, precompute=False,\n",
       "      random_state=None, selection='cyclic', tol=0.0001, warm_start=False)"
      ]
     },
     "execution_count": 206,
     "metadata": {},
     "output_type": "execute_result"
    }
   ],
   "source": [
    "lr_28s.fit(X_train_scaled, y_train_s)"
   ]
  },
  {
   "cell_type": "code",
   "execution_count": 207,
   "metadata": {
    "scrolled": true
   },
   "outputs": [
    {
     "data": {
      "text/plain": [
       "array([202.13038764, 149.4849316 , 170.46834092, 207.17949959,\n",
       "       182.42491719, 208.67584148, 155.02875669, 166.16182974,\n",
       "       178.14035755, 181.61429124, 181.7233686 , 160.21530874,\n",
       "       166.91021593, 157.77685194, 187.82121414, 167.6689607 ,\n",
       "       171.71978017, 177.01251035, 154.9330748 , 166.13251823])"
      ]
     },
     "execution_count": 207,
     "metadata": {},
     "output_type": "execute_result"
    }
   ],
   "source": [
    "y_pred_28s_train = lr_28s.predict(X_train_scaled)\n",
    "y_pred_28s_train[0:20]"
   ]
  },
  {
   "cell_type": "code",
   "execution_count": 208,
   "metadata": {
    "scrolled": false
   },
   "outputs": [
    {
     "name": "stdout",
     "output_type": "stream",
     "text": [
      "Training Set R^2: 0.6027946730318808\n",
      "Training Set Root Mean Squared Error: 17.33982821325987\n"
     ]
    }
   ],
   "source": [
    "print(\"Training Set R^2: {}\".format(lr_28s.score(X_train_scaled, y_train_s)))\n",
    "rmse_28s_train = np.sqrt(mean_squared_error(y_train_s, y_pred_28s_train))\n",
    "print(\"Training Set Root Mean Squared Error: {}\".format(rmse_28s_train))"
   ]
  },
  {
   "cell_type": "code",
   "execution_count": 209,
   "metadata": {
    "scrolled": true
   },
   "outputs": [
    {
     "data": {
      "text/plain": [
       "array([193.33883058, 192.0564998 , 211.34990388, 167.64380178,\n",
       "       217.35785596, 155.79125397, 167.33469672, 143.10094694,\n",
       "       179.00122118, 146.68746504, 204.93011502, 166.64966106,\n",
       "       198.0652912 , 190.98054538, 179.04674762, 188.91999059,\n",
       "       194.03406375, 182.66722651, 187.3124315 , 193.89613765])"
      ]
     },
     "execution_count": 209,
     "metadata": {},
     "output_type": "execute_result"
    }
   ],
   "source": [
    "y_pred_28s_test = lr_28s.predict(X_test_scaled)\n",
    "y_pred_28s_test[0:20]"
   ]
  },
  {
   "cell_type": "code",
   "execution_count": 210,
   "metadata": {
    "scrolled": false
   },
   "outputs": [
    {
     "name": "stdout",
     "output_type": "stream",
     "text": [
      "Test Set R^2: 0.5647308541111382\n",
      "Test Set Root Mean Squared Error: 18.895657246290014\n"
     ]
    }
   ],
   "source": [
    "print(\"Test Set R^2: {}\".format(lr_28s.score(X_test_scaled, y_test_s)))\n",
    "rmse_28s_test = np.sqrt(mean_squared_error(y_test_s, y_pred_28s_test))\n",
    "print(\"Test Set Root Mean Squared Error: {}\".format(rmse_28s_test))"
   ]
  },
  {
   "cell_type": "code",
   "execution_count": 211,
   "metadata": {},
   "outputs": [],
   "source": [
    "filename = 'cancer_lr_28s.sav'\n",
    "pickle.dump(lr_28s, open(filename, 'wb'))"
   ]
  },
  {
   "cell_type": "code",
   "execution_count": 212,
   "metadata": {},
   "outputs": [],
   "source": [
    "lr_29s = linear_model.ElasticNet(alpha=0.1, l1_ratio=0.75)"
   ]
  },
  {
   "cell_type": "code",
   "execution_count": 213,
   "metadata": {
    "scrolled": false
   },
   "outputs": [
    {
     "data": {
      "text/plain": [
       "ElasticNet(alpha=0.1, copy_X=True, fit_intercept=True, l1_ratio=0.75,\n",
       "      max_iter=1000, normalize=False, positive=False, precompute=False,\n",
       "      random_state=None, selection='cyclic', tol=0.0001, warm_start=False)"
      ]
     },
     "execution_count": 213,
     "metadata": {},
     "output_type": "execute_result"
    }
   ],
   "source": [
    "lr_29s.fit(X_train_scaled, y_train_s)"
   ]
  },
  {
   "cell_type": "code",
   "execution_count": 214,
   "metadata": {
    "scrolled": true
   },
   "outputs": [
    {
     "data": {
      "text/plain": [
       "array([196.33547144, 153.44303812, 172.88800808, 205.14304382,\n",
       "       179.82683833, 200.69797097, 152.43320856, 171.89530022,\n",
       "       176.95132294, 181.09837998, 178.0560797 , 163.14694442,\n",
       "       172.5272481 , 168.07190042, 187.48014915, 177.0972029 ,\n",
       "       174.51442224, 177.80051635, 159.25535026, 165.36817695])"
      ]
     },
     "execution_count": 214,
     "metadata": {},
     "output_type": "execute_result"
    }
   ],
   "source": [
    "y_pred_29s_train = lr_29s.predict(X_train_scaled)\n",
    "y_pred_29s_train[0:20]"
   ]
  },
  {
   "cell_type": "code",
   "execution_count": 215,
   "metadata": {
    "scrolled": false
   },
   "outputs": [
    {
     "name": "stdout",
     "output_type": "stream",
     "text": [
      "Training Set R^2: 0.5051485385136945\n",
      "Training Set Root Mean Squared Error: 19.35417604588162\n"
     ]
    }
   ],
   "source": [
    "print(\"Training Set R^2: {}\".format(lr_29s.score(X_train_scaled, y_train_s)))\n",
    "rmse_29s_train = np.sqrt(mean_squared_error(y_train_s, y_pred_29s_train))\n",
    "print(\"Training Set Root Mean Squared Error: {}\".format(rmse_29s_train))"
   ]
  },
  {
   "cell_type": "code",
   "execution_count": 216,
   "metadata": {
    "scrolled": true
   },
   "outputs": [
    {
     "data": {
      "text/plain": [
       "array([193.14881379, 188.08091328, 211.92086979, 163.49916471,\n",
       "       203.97346063, 160.4983305 , 165.7785689 , 147.45167242,\n",
       "       187.1500157 , 164.8863221 , 192.28984537, 172.4103628 ,\n",
       "       208.68642388, 185.52562916, 178.41954041, 183.69230115,\n",
       "       197.66349994, 189.15572678, 183.2526225 , 193.34912638])"
      ]
     },
     "execution_count": 216,
     "metadata": {},
     "output_type": "execute_result"
    }
   ],
   "source": [
    "y_pred_29s_test = lr_29s.predict(X_test_scaled)\n",
    "y_pred_29s_test[0:20]"
   ]
  },
  {
   "cell_type": "code",
   "execution_count": 217,
   "metadata": {
    "scrolled": false
   },
   "outputs": [
    {
     "name": "stdout",
     "output_type": "stream",
     "text": [
      "Test Set R^2: 0.45492299424631866\n",
      "Test Set Root Mean Squared Error: 21.145209468962772\n"
     ]
    }
   ],
   "source": [
    "print(\"Test Set R^2: {}\".format(lr_29s.score(X_test_scaled, y_test_s)))\n",
    "rmse_29s_test = np.sqrt(mean_squared_error(y_test_s, y_pred_29s_test))\n",
    "print(\"Test Set Root Mean Squared Error: {}\".format(rmse_29s_test))"
   ]
  },
  {
   "cell_type": "code",
   "execution_count": 218,
   "metadata": {},
   "outputs": [],
   "source": [
    "filename = 'cancer_lr_29s.sav'\n",
    "pickle.dump(lr_29s, open(filename, 'wb'))"
   ]
  },
  {
   "cell_type": "code",
   "execution_count": 219,
   "metadata": {},
   "outputs": [],
   "source": [
    "lr_30s = linear_model.ElasticNet(alpha=1, l1_ratio=0.75)"
   ]
  },
  {
   "cell_type": "code",
   "execution_count": 220,
   "metadata": {
    "scrolled": false
   },
   "outputs": [
    {
     "data": {
      "text/plain": [
       "ElasticNet(alpha=1, copy_X=True, fit_intercept=True, l1_ratio=0.75,\n",
       "      max_iter=1000, normalize=False, positive=False, precompute=False,\n",
       "      random_state=None, selection='cyclic', tol=0.0001, warm_start=False)"
      ]
     },
     "execution_count": 220,
     "metadata": {},
     "output_type": "execute_result"
    }
   ],
   "source": [
    "lr_30s.fit(X_train_scaled, y_train_s)"
   ]
  },
  {
   "cell_type": "code",
   "execution_count": 221,
   "metadata": {
    "scrolled": true
   },
   "outputs": [
    {
     "data": {
      "text/plain": [
       "array([187.34356282, 168.82503233, 177.77323033, 187.84508203,\n",
       "       177.04148432, 190.77573609, 166.29360753, 174.82129245,\n",
       "       176.6689854 , 179.40700281, 177.87813696, 174.23101481,\n",
       "       177.18034278, 174.53411923, 180.47526774, 179.92469821,\n",
       "       175.47652278, 179.08923623, 174.06423295, 171.97961559])"
      ]
     },
     "execution_count": 221,
     "metadata": {},
     "output_type": "execute_result"
    }
   ],
   "source": [
    "y_pred_30s_train = lr_30s.predict(X_train_scaled)\n",
    "y_pred_30s_train[0:20]"
   ]
  },
  {
   "cell_type": "code",
   "execution_count": 222,
   "metadata": {
    "scrolled": false
   },
   "outputs": [
    {
     "name": "stdout",
     "output_type": "stream",
     "text": [
      "Training Set R^2: 0.25049793742178184\n",
      "Training Set Root Mean Squared Error: 23.819008238305077\n"
     ]
    }
   ],
   "source": [
    "print(\"Training Set R^2: {}\".format(lr_30s.score(X_train_scaled, y_train_s)))\n",
    "rmse_30s_train = np.sqrt(mean_squared_error(y_train_s, y_pred_30s_train))\n",
    "print(\"Training Set Root Mean Squared Error: {}\".format(rmse_30s_train))"
   ]
  },
  {
   "cell_type": "code",
   "execution_count": 223,
   "metadata": {
    "scrolled": true
   },
   "outputs": [
    {
     "data": {
      "text/plain": [
       "array([183.58915943, 183.01724314, 194.53553804, 173.71538212,\n",
       "       188.67421286, 171.59289061, 174.31658101, 164.00675307,\n",
       "       183.44840565, 170.44530275, 180.53440498, 176.07273281,\n",
       "       194.03437084, 180.76101717, 177.1190198 , 178.7508666 ,\n",
       "       185.32544664, 186.75438634, 177.8295776 , 183.22683743])"
      ]
     },
     "execution_count": 223,
     "metadata": {},
     "output_type": "execute_result"
    }
   ],
   "source": [
    "y_pred_30s_test = lr_30s.predict(X_test_scaled)\n",
    "y_pred_30s_test[0:20]"
   ]
  },
  {
   "cell_type": "code",
   "execution_count": 224,
   "metadata": {
    "scrolled": false
   },
   "outputs": [
    {
     "name": "stdout",
     "output_type": "stream",
     "text": [
      "Test Set R^2: 0.20477116595288125\n",
      "Test Set Root Mean Squared Error: 25.540483838521595\n"
     ]
    }
   ],
   "source": [
    "print(\"Test Set R^2: {}\".format(lr_30s.score(X_test_scaled, y_test_s)))\n",
    "rmse_30s_test = np.sqrt(mean_squared_error(y_test_s, y_pred_30s_test))\n",
    "print(\"Test Set Root Mean Squared Error: {}\".format(rmse_30s_test))"
   ]
  },
  {
   "cell_type": "code",
   "execution_count": 225,
   "metadata": {},
   "outputs": [],
   "source": [
    "filename = 'cancer_lr_30s.sav'\n",
    "pickle.dump(lr_30s, open(filename, 'wb'))"
   ]
  },
  {
   "cell_type": "code",
   "execution_count": 226,
   "metadata": {},
   "outputs": [],
   "source": [
    "lr_31s = linear_model.ElasticNet(alpha=10, l1_ratio=0.75)"
   ]
  },
  {
   "cell_type": "code",
   "execution_count": 227,
   "metadata": {
    "scrolled": false
   },
   "outputs": [
    {
     "data": {
      "text/plain": [
       "ElasticNet(alpha=10, copy_X=True, fit_intercept=True, l1_ratio=0.75,\n",
       "      max_iter=1000, normalize=False, positive=False, precompute=False,\n",
       "      random_state=None, selection='cyclic', tol=0.0001, warm_start=False)"
      ]
     },
     "execution_count": 227,
     "metadata": {},
     "output_type": "execute_result"
    }
   ],
   "source": [
    "lr_31s.fit(X_train_scaled, y_train_s)"
   ]
  },
  {
   "cell_type": "code",
   "execution_count": 228,
   "metadata": {
    "scrolled": true
   },
   "outputs": [
    {
     "data": {
      "text/plain": [
       "array([178.85851151, 178.85851151, 178.85851151, 178.85851151,\n",
       "       178.85851151, 178.85851151, 178.85851151, 178.85851151,\n",
       "       178.85851151, 178.85851151, 178.85851151, 178.85851151,\n",
       "       178.85851151, 178.85851151, 178.85851151, 178.85851151,\n",
       "       178.85851151, 178.85851151, 178.85851151, 178.85851151])"
      ]
     },
     "execution_count": 228,
     "metadata": {},
     "output_type": "execute_result"
    }
   ],
   "source": [
    "y_pred_31s_train = lr_31s.predict(X_train_scaled)\n",
    "y_pred_31s_train[0:20]"
   ]
  },
  {
   "cell_type": "code",
   "execution_count": 229,
   "metadata": {
    "scrolled": false
   },
   "outputs": [
    {
     "name": "stdout",
     "output_type": "stream",
     "text": [
      "Training Set R^2: 0.0\n",
      "Training Set Root Mean Squared Error: 27.512956306533045\n"
     ]
    }
   ],
   "source": [
    "print(\"Training Set R^2: {}\".format(lr_31s.score(X_train_scaled, y_train_s)))\n",
    "rmse_31s_train = np.sqrt(mean_squared_error(y_train_s, y_pred_31s_train))\n",
    "print(\"Training Set Root Mean Squared Error: {}\".format(rmse_31s_train))"
   ]
  },
  {
   "cell_type": "code",
   "execution_count": 230,
   "metadata": {
    "scrolled": true
   },
   "outputs": [
    {
     "data": {
      "text/plain": [
       "array([178.85851151, 178.85851151, 178.85851151, 178.85851151,\n",
       "       178.85851151, 178.85851151, 178.85851151, 178.85851151,\n",
       "       178.85851151, 178.85851151, 178.85851151, 178.85851151,\n",
       "       178.85851151, 178.85851151, 178.85851151, 178.85851151,\n",
       "       178.85851151, 178.85851151, 178.85851151, 178.85851151])"
      ]
     },
     "execution_count": 230,
     "metadata": {},
     "output_type": "execute_result"
    }
   ],
   "source": [
    "y_pred_31s_test = lr_31s.predict(X_test_scaled)\n",
    "y_pred_31s_test[0:20]"
   ]
  },
  {
   "cell_type": "code",
   "execution_count": 231,
   "metadata": {
    "scrolled": false
   },
   "outputs": [
    {
     "name": "stdout",
     "output_type": "stream",
     "text": [
      "Test Set R^2: -0.001131456212104309\n",
      "Test Set Root Mean Squared Error: 28.656860834509846\n"
     ]
    }
   ],
   "source": [
    "print(\"Test Set R^2: {}\".format(lr_31s.score(X_test_scaled, y_test_s)))\n",
    "rmse_31s_test = np.sqrt(mean_squared_error(y_test_s, y_pred_31s_test))\n",
    "print(\"Test Set Root Mean Squared Error: {}\".format(rmse_31s_test))"
   ]
  },
  {
   "cell_type": "code",
   "execution_count": 232,
   "metadata": {},
   "outputs": [],
   "source": [
    "filename = 'cancer_lr_31s.sav'\n",
    "pickle.dump(lr_31s, open(filename, 'wb'))"
   ]
  },
  {
   "cell_type": "code",
   "execution_count": 233,
   "metadata": {},
   "outputs": [],
   "source": [
    "lr_32s = linear_model.ElasticNet(alpha=100, l1_ratio=0.75, normalize=True)"
   ]
  },
  {
   "cell_type": "code",
   "execution_count": 234,
   "metadata": {
    "scrolled": false
   },
   "outputs": [
    {
     "data": {
      "text/plain": [
       "ElasticNet(alpha=100, copy_X=True, fit_intercept=True, l1_ratio=0.75,\n",
       "      max_iter=1000, normalize=True, positive=False, precompute=False,\n",
       "      random_state=None, selection='cyclic', tol=0.0001, warm_start=False)"
      ]
     },
     "execution_count": 234,
     "metadata": {},
     "output_type": "execute_result"
    }
   ],
   "source": [
    "lr_32s.fit(X_train_scaled, y_train_s)"
   ]
  },
  {
   "cell_type": "code",
   "execution_count": 235,
   "metadata": {
    "scrolled": true
   },
   "outputs": [
    {
     "data": {
      "text/plain": [
       "array([178.85851151, 178.85851151, 178.85851151, 178.85851151,\n",
       "       178.85851151, 178.85851151, 178.85851151, 178.85851151,\n",
       "       178.85851151, 178.85851151, 178.85851151, 178.85851151,\n",
       "       178.85851151, 178.85851151, 178.85851151, 178.85851151,\n",
       "       178.85851151, 178.85851151, 178.85851151, 178.85851151])"
      ]
     },
     "execution_count": 235,
     "metadata": {},
     "output_type": "execute_result"
    }
   ],
   "source": [
    "y_pred_32s_train = lr_32s.predict(X_train_scaled)\n",
    "y_pred_32s_train[0:20]"
   ]
  },
  {
   "cell_type": "code",
   "execution_count": 236,
   "metadata": {
    "scrolled": false
   },
   "outputs": [
    {
     "name": "stdout",
     "output_type": "stream",
     "text": [
      "Training Set R^2: 0.0\n",
      "Training Set Root Mean Squared Error: 27.512956306533045\n"
     ]
    }
   ],
   "source": [
    "print(\"Training Set R^2: {}\".format(lr_32s.score(X_train_scaled, y_train_s)))\n",
    "rmse_32s_train = np.sqrt(mean_squared_error(y_train_s, y_pred_32s_train))\n",
    "print(\"Training Set Root Mean Squared Error: {}\".format(rmse_32s_train))"
   ]
  },
  {
   "cell_type": "code",
   "execution_count": 237,
   "metadata": {
    "scrolled": true
   },
   "outputs": [
    {
     "data": {
      "text/plain": [
       "array([178.85851151, 178.85851151, 178.85851151, 178.85851151,\n",
       "       178.85851151, 178.85851151, 178.85851151, 178.85851151,\n",
       "       178.85851151, 178.85851151, 178.85851151, 178.85851151,\n",
       "       178.85851151, 178.85851151, 178.85851151, 178.85851151,\n",
       "       178.85851151, 178.85851151, 178.85851151, 178.85851151])"
      ]
     },
     "execution_count": 237,
     "metadata": {},
     "output_type": "execute_result"
    }
   ],
   "source": [
    "y_pred_32s_test = lr_32s.predict(X_test_scaled)\n",
    "y_pred_32s_test[0:20]"
   ]
  },
  {
   "cell_type": "code",
   "execution_count": 238,
   "metadata": {
    "scrolled": false
   },
   "outputs": [
    {
     "name": "stdout",
     "output_type": "stream",
     "text": [
      "Test Set R^2: -0.001131456212104309\n",
      "Test Set Root Mean Squared Error: 28.656860834509846\n"
     ]
    }
   ],
   "source": [
    "print(\"Test Set R^2: {}\".format(lr_32s.score(X_test_scaled, y_test_s)))\n",
    "rmse_32s_test = np.sqrt(mean_squared_error(y_test_s, y_pred_32s_test))\n",
    "print(\"Test Set Root Mean Squared Error: {}\".format(rmse_32s_test))"
   ]
  },
  {
   "cell_type": "code",
   "execution_count": 239,
   "metadata": {},
   "outputs": [],
   "source": [
    "filename = 'cancer_lr_32s.sav'\n",
    "pickle.dump(lr_32s, open(filename, 'wb'))"
   ]
  },
  {
   "cell_type": "markdown",
   "metadata": {},
   "source": [
    "## Stochastic Gradient Descent with L2 Penalty (Ridge Regression)"
   ]
  },
  {
   "cell_type": "code",
   "execution_count": 240,
   "metadata": {},
   "outputs": [],
   "source": [
    "lr_33s = linear_model.SGDRegressor(loss='huber', penalty='l2', alpha=0.00001, random_state=42)"
   ]
  },
  {
   "cell_type": "code",
   "execution_count": 241,
   "metadata": {
    "scrolled": false
   },
   "outputs": [
    {
     "name": "stderr",
     "output_type": "stream",
     "text": [
      "/Users/DanLoew/anaconda3/lib/python3.7/site-packages/sklearn/linear_model/stochastic_gradient.py:166: FutureWarning: max_iter and tol parameters have been added in SGDRegressor in 0.19. If both are left unset, they default to max_iter=5 and tol=None. If tol is not None, max_iter defaults to max_iter=1000. From 0.21, default max_iter will be 1000, and default tol will be 1e-3.\n",
      "  FutureWarning)\n"
     ]
    },
    {
     "data": {
      "text/plain": [
       "SGDRegressor(alpha=1e-05, average=False, early_stopping=False, epsilon=0.1,\n",
       "       eta0=0.01, fit_intercept=True, l1_ratio=0.15,\n",
       "       learning_rate='invscaling', loss='huber', max_iter=None,\n",
       "       n_iter=None, n_iter_no_change=5, penalty='l2', power_t=0.25,\n",
       "       random_state=42, shuffle=True, tol=None, validation_fraction=0.1,\n",
       "       verbose=0, warm_start=False)"
      ]
     },
     "execution_count": 241,
     "metadata": {},
     "output_type": "execute_result"
    }
   ],
   "source": [
    "lr_33s.fit(X_train_scaled, y_train_s)"
   ]
  },
  {
   "cell_type": "code",
   "execution_count": 242,
   "metadata": {
    "scrolled": true
   },
   "outputs": [
    {
     "data": {
      "text/plain": [
       "array([56.6241195 , 53.86045923, 51.42825635, 51.49415511, 52.16946793,\n",
       "       56.14912863, 49.70013916, 59.63721479, 49.94974509, 49.93793021,\n",
       "       53.25755755, 53.3829297 , 49.51707274, 50.59398765, 52.156329  ,\n",
       "       50.46635012, 55.65336984, 50.52079978, 49.27595255, 46.96058755])"
      ]
     },
     "execution_count": 242,
     "metadata": {},
     "output_type": "execute_result"
    }
   ],
   "source": [
    "y_pred_33s_train = lr_33s.predict(X_train_scaled)\n",
    "y_pred_33s_train[0:20]"
   ]
  },
  {
   "cell_type": "code",
   "execution_count": 243,
   "metadata": {
    "scrolled": false
   },
   "outputs": [
    {
     "name": "stdout",
     "output_type": "stream",
     "text": [
      "Training Set R^2: -20.842733289492315\n",
      "Training Set Root Mean Squared Error: 128.585130477708\n"
     ]
    }
   ],
   "source": [
    "print(\"Training Set R^2: {}\".format(lr_33s.score(X_train_scaled, y_train_s)))\n",
    "rmse_33s_train = np.sqrt(mean_squared_error(y_train_s, y_pred_33s_train))\n",
    "print(\"Training Set Root Mean Squared Error: {}\".format(rmse_33s_train))"
   ]
  },
  {
   "cell_type": "code",
   "execution_count": 244,
   "metadata": {
    "scrolled": true
   },
   "outputs": [
    {
     "data": {
      "text/plain": [
       "array([49.5928203 , 49.81344182, 56.75170416, 52.62717543, 55.50688568,\n",
       "       48.13688581, 50.62767921, 54.22303393, 52.85366783, 67.40544747,\n",
       "       50.27251257, 47.20907954, 48.10454173, 52.76661863, 47.65942886,\n",
       "       53.14176286, 51.17824084, 54.38364019, 50.89187593, 52.15331657])"
      ]
     },
     "execution_count": 244,
     "metadata": {},
     "output_type": "execute_result"
    }
   ],
   "source": [
    "y_pred_33s_test = lr_33s.predict(X_test_scaled)\n",
    "y_pred_33s_test[0:20]"
   ]
  },
  {
   "cell_type": "code",
   "execution_count": 245,
   "metadata": {
    "scrolled": false
   },
   "outputs": [
    {
     "name": "stdout",
     "output_type": "stream",
     "text": [
      "Test Set R^2: -18.938878242454603\n",
      "Test Set Root Mean Squared Error: 127.88906775737071\n"
     ]
    }
   ],
   "source": [
    "print(\"Test Set R^2: {}\".format(lr_33s.score(X_test_scaled, y_test_s)))\n",
    "rmse_33s_test = np.sqrt(mean_squared_error(y_test_s, y_pred_33s_test))\n",
    "print(\"Test Set Root Mean Squared Error: {}\".format(rmse_33s_test))"
   ]
  },
  {
   "cell_type": "code",
   "execution_count": 246,
   "metadata": {},
   "outputs": [],
   "source": [
    "filename = 'cancer_lr_33s.sav'\n",
    "pickle.dump(lr_33s, open(filename, 'wb'))"
   ]
  },
  {
   "cell_type": "code",
   "execution_count": 247,
   "metadata": {},
   "outputs": [],
   "source": [
    "lr_34s = linear_model.SGDRegressor(loss='huber', penalty='l2', alpha=0.0001, random_state=42)"
   ]
  },
  {
   "cell_type": "code",
   "execution_count": 248,
   "metadata": {
    "scrolled": false
   },
   "outputs": [
    {
     "name": "stderr",
     "output_type": "stream",
     "text": [
      "/Users/DanLoew/anaconda3/lib/python3.7/site-packages/sklearn/linear_model/stochastic_gradient.py:166: FutureWarning: max_iter and tol parameters have been added in SGDRegressor in 0.19. If both are left unset, they default to max_iter=5 and tol=None. If tol is not None, max_iter defaults to max_iter=1000. From 0.21, default max_iter will be 1000, and default tol will be 1e-3.\n",
      "  FutureWarning)\n"
     ]
    },
    {
     "data": {
      "text/plain": [
       "SGDRegressor(alpha=0.0001, average=False, early_stopping=False, epsilon=0.1,\n",
       "       eta0=0.01, fit_intercept=True, l1_ratio=0.15,\n",
       "       learning_rate='invscaling', loss='huber', max_iter=None,\n",
       "       n_iter=None, n_iter_no_change=5, penalty='l2', power_t=0.25,\n",
       "       random_state=42, shuffle=True, tol=None, validation_fraction=0.1,\n",
       "       verbose=0, warm_start=False)"
      ]
     },
     "execution_count": 248,
     "metadata": {},
     "output_type": "execute_result"
    }
   ],
   "source": [
    "lr_34s.fit(X_train_scaled, y_train_s)"
   ]
  },
  {
   "cell_type": "code",
   "execution_count": 249,
   "metadata": {
    "scrolled": true
   },
   "outputs": [
    {
     "data": {
      "text/plain": [
       "array([56.58588102, 53.82415689, 51.39363111, 51.45948176, 52.13433484,\n",
       "       56.11121452, 49.66671914, 59.59688626, 49.91615848, 49.9043462 ,\n",
       "       53.22166059, 53.34694467, 49.48377733, 50.55994746, 52.1212083 ,\n",
       "       50.43238865, 55.61581137, 50.48680272, 49.24283739, 46.92906538])"
      ]
     },
     "execution_count": 249,
     "metadata": {},
     "output_type": "execute_result"
    }
   ],
   "source": [
    "y_pred_34s_train = lr_34s.predict(X_train_scaled)\n",
    "y_pred_34s_train[0:20]"
   ]
  },
  {
   "cell_type": "code",
   "execution_count": 250,
   "metadata": {
    "scrolled": false
   },
   "outputs": [
    {
     "name": "stdout",
     "output_type": "stream",
     "text": [
      "Training Set R^2: -20.85464238938476\n",
      "Training Set Root Mean Squared Error: 128.62017930771657\n"
     ]
    }
   ],
   "source": [
    "print(\"Training Set R^2: {}\".format(lr_34s.score(X_train_scaled, y_train_s)))\n",
    "rmse_34s_train = np.sqrt(mean_squared_error(y_train_s, y_pred_34s_train))\n",
    "print(\"Training Set Root Mean Squared Error: {}\".format(rmse_34s_train))"
   ]
  },
  {
   "cell_type": "code",
   "execution_count": 251,
   "metadata": {
    "scrolled": true
   },
   "outputs": [
    {
     "data": {
      "text/plain": [
       "array([49.55946723, 49.77994739, 56.71338617, 52.59173129, 55.46942169,\n",
       "       48.10454916, 50.59361564, 54.18648374, 52.81805639, 67.35974161,\n",
       "       50.23869126, 47.17738392, 48.07221911, 52.73107145, 47.62742626,\n",
       "       53.10594829, 51.1437913 , 54.34695516, 50.85761774, 52.11819366])"
      ]
     },
     "execution_count": 251,
     "metadata": {},
     "output_type": "execute_result"
    }
   ],
   "source": [
    "y_pred_34s_test = lr_34s.predict(X_test_scaled)\n",
    "y_pred_34s_test[0:20]"
   ]
  },
  {
   "cell_type": "code",
   "execution_count": 252,
   "metadata": {
    "scrolled": false
   },
   "outputs": [
    {
     "name": "stdout",
     "output_type": "stream",
     "text": [
      "Test Set R^2: -18.94978340653399\n",
      "Test Set Root Mean Squared Error: 127.92403613946794\n"
     ]
    }
   ],
   "source": [
    "print(\"Test Set R^2: {}\".format(lr_34s.score(X_test_scaled, y_test_s)))\n",
    "rmse_34s_test = np.sqrt(mean_squared_error(y_test_s, y_pred_34s_test))\n",
    "print(\"Test Set Root Mean Squared Error: {}\".format(rmse_34s_test))"
   ]
  },
  {
   "cell_type": "code",
   "execution_count": 253,
   "metadata": {},
   "outputs": [],
   "source": [
    "filename = 'cancer_lr_34s.sav'\n",
    "pickle.dump(lr_34s, open(filename, 'wb'))"
   ]
  },
  {
   "cell_type": "code",
   "execution_count": 254,
   "metadata": {},
   "outputs": [],
   "source": [
    "lr_35s = linear_model.SGDRegressor(loss='huber', penalty='l2', alpha=0.001, random_state=42)"
   ]
  },
  {
   "cell_type": "code",
   "execution_count": 255,
   "metadata": {
    "scrolled": false
   },
   "outputs": [
    {
     "name": "stderr",
     "output_type": "stream",
     "text": [
      "/Users/DanLoew/anaconda3/lib/python3.7/site-packages/sklearn/linear_model/stochastic_gradient.py:166: FutureWarning: max_iter and tol parameters have been added in SGDRegressor in 0.19. If both are left unset, they default to max_iter=5 and tol=None. If tol is not None, max_iter defaults to max_iter=1000. From 0.21, default max_iter will be 1000, and default tol will be 1e-3.\n",
      "  FutureWarning)\n"
     ]
    },
    {
     "data": {
      "text/plain": [
       "SGDRegressor(alpha=0.001, average=False, early_stopping=False, epsilon=0.1,\n",
       "       eta0=0.01, fit_intercept=True, l1_ratio=0.15,\n",
       "       learning_rate='invscaling', loss='huber', max_iter=None,\n",
       "       n_iter=None, n_iter_no_change=5, penalty='l2', power_t=0.25,\n",
       "       random_state=42, shuffle=True, tol=None, validation_fraction=0.1,\n",
       "       verbose=0, warm_start=False)"
      ]
     },
     "execution_count": 255,
     "metadata": {},
     "output_type": "execute_result"
    }
   ],
   "source": [
    "lr_35s.fit(X_train_scaled, y_train_s)"
   ]
  },
  {
   "cell_type": "code",
   "execution_count": 256,
   "metadata": {
    "scrolled": true
   },
   "outputs": [
    {
     "data": {
      "text/plain": [
       "array([56.2054368 , 53.46297477, 51.04913523, 51.11450757, 51.78478613,\n",
       "       55.73399775, 49.33421415, 59.19564744, 49.58199567, 49.57020953,\n",
       "       52.86451223, 52.98892027, 49.15251214, 50.22127225, 51.77178253,\n",
       "       50.09449718, 55.24213231, 50.14855696, 48.91336498, 46.61544276])"
      ]
     },
     "execution_count": 256,
     "metadata": {},
     "output_type": "execute_result"
    }
   ],
   "source": [
    "y_pred_35s_train = lr_35s.predict(X_train_scaled)\n",
    "y_pred_35s_train[0:20]"
   ]
  },
  {
   "cell_type": "code",
   "execution_count": 257,
   "metadata": {
    "scrolled": false
   },
   "outputs": [
    {
     "name": "stdout",
     "output_type": "stream",
     "text": [
      "Training Set R^2: -20.973314819820978\n",
      "Training Set Root Mean Squared Error: 128.96891538734758\n"
     ]
    }
   ],
   "source": [
    "print(\"Training Set R^2: {}\".format(lr_35s.score(X_train_scaled, y_train_s)))\n",
    "rmse_35s_train = np.sqrt(mean_squared_error(y_train_s, y_pred_35s_train))\n",
    "print(\"Training Set Root Mean Squared Error: {}\".format(rmse_35s_train))"
   ]
  },
  {
   "cell_type": "code",
   "execution_count": 258,
   "metadata": {
    "scrolled": true
   },
   "outputs": [
    {
     "data": {
      "text/plain": [
       "array([49.22762876, 49.44670184, 56.33215034, 52.2390873 , 55.09668309,\n",
       "       47.78282294, 50.25470785, 53.82283541, 52.46374843, 66.90500176,\n",
       "       49.90219391, 46.8620356 , 47.75063313, 52.37740272, 47.30902348,\n",
       "       52.74961953, 50.80104369, 53.98196672, 50.51677437, 51.76874624])"
      ]
     },
     "execution_count": 258,
     "metadata": {},
     "output_type": "execute_result"
    }
   ],
   "source": [
    "y_pred_35s_test = lr_35s.predict(X_test_scaled)\n",
    "y_pred_35s_test[0:20]"
   ]
  },
  {
   "cell_type": "code",
   "execution_count": 259,
   "metadata": {
    "scrolled": false
   },
   "outputs": [
    {
     "name": "stdout",
     "output_type": "stream",
     "text": [
      "Test Set R^2: -19.058453146186928\n",
      "Test Set Root Mean Squared Error: 128.27197455829867\n"
     ]
    }
   ],
   "source": [
    "print(\"Test Set R^2: {}\".format(lr_35s.score(X_test_scaled, y_test_s)))\n",
    "rmse_35s_test = np.sqrt(mean_squared_error(y_test_s, y_pred_35s_test))\n",
    "print(\"Test Set Root Mean Squared Error: {}\".format(rmse_35s_test))"
   ]
  },
  {
   "cell_type": "code",
   "execution_count": 260,
   "metadata": {},
   "outputs": [],
   "source": [
    "filename = 'cancer_lr_35s.sav'\n",
    "pickle.dump(lr_35s, open(filename, 'wb'))"
   ]
  },
  {
   "cell_type": "code",
   "execution_count": 261,
   "metadata": {},
   "outputs": [],
   "source": [
    "lr_36s = linear_model.SGDRegressor(loss='huber', penalty='l2', alpha=0.01, random_state=42)"
   ]
  },
  {
   "cell_type": "code",
   "execution_count": 262,
   "metadata": {
    "scrolled": true
   },
   "outputs": [
    {
     "name": "stderr",
     "output_type": "stream",
     "text": [
      "/Users/DanLoew/anaconda3/lib/python3.7/site-packages/sklearn/linear_model/stochastic_gradient.py:166: FutureWarning: max_iter and tol parameters have been added in SGDRegressor in 0.19. If both are left unset, they default to max_iter=5 and tol=None. If tol is not None, max_iter defaults to max_iter=1000. From 0.21, default max_iter will be 1000, and default tol will be 1e-3.\n",
      "  FutureWarning)\n"
     ]
    },
    {
     "data": {
      "text/plain": [
       "SGDRegressor(alpha=0.01, average=False, early_stopping=False, epsilon=0.1,\n",
       "       eta0=0.01, fit_intercept=True, l1_ratio=0.15,\n",
       "       learning_rate='invscaling', loss='huber', max_iter=None,\n",
       "       n_iter=None, n_iter_no_change=5, penalty='l2', power_t=0.25,\n",
       "       random_state=42, shuffle=True, tol=None, validation_fraction=0.1,\n",
       "       verbose=0, warm_start=False)"
      ]
     },
     "execution_count": 262,
     "metadata": {},
     "output_type": "execute_result"
    }
   ],
   "source": [
    "lr_36s.fit(X_train_scaled, y_train_s)"
   ]
  },
  {
   "cell_type": "code",
   "execution_count": 263,
   "metadata": {
    "scrolled": true
   },
   "outputs": [
    {
     "data": {
      "text/plain": [
       "array([52.58779044, 50.02839115, 47.77326329, 47.83411146, 48.46085172,\n",
       "       52.14706466, 46.17234382, 55.38024964, 46.4043267 , 46.39281884,\n",
       "       49.46833804, 49.58443181, 46.00243747, 47.00073211, 48.44898775,\n",
       "       46.88145234, 51.68877298, 46.93213099, 45.78028269, 43.63314746])"
      ]
     },
     "execution_count": 263,
     "metadata": {},
     "output_type": "execute_result"
    }
   ],
   "source": [
    "y_pred_36s_train = lr_36s.predict(X_train_scaled)\n",
    "y_pred_36s_train[0:20]"
   ]
  },
  {
   "cell_type": "code",
   "execution_count": 264,
   "metadata": {
    "scrolled": false
   },
   "outputs": [
    {
     "name": "stdout",
     "output_type": "stream",
     "text": [
      "Training Set R^2: -22.118644745046833\n",
      "Training Set Root Mean Squared Error: 132.28738882792373\n"
     ]
    }
   ],
   "source": [
    "print(\"Training Set R^2: {}\".format(lr_36s.score(X_train_scaled, y_train_s)))\n",
    "rmse_36s_train = np.sqrt(mean_squared_error(y_train_s, y_pred_36s_train))\n",
    "print(\"Training Set Root Mean Squared Error: {}\".format(rmse_36s_train))"
   ]
  },
  {
   "cell_type": "code",
   "execution_count": 265,
   "metadata": {
    "scrolled": true
   },
   "outputs": [
    {
     "data": {
      "text/plain": [
       "array([46.07213628, 46.27777152, 52.70693062, 48.88567156, 51.55231533,\n",
       "       44.72345285, 47.03195551, 50.36477791, 49.09455852, 62.58080367,\n",
       "       46.70237885, 43.86332679, 44.69265411, 49.01427686, 44.28124512,\n",
       "       49.36122834, 47.54180034, 50.51130025, 47.27568524, 48.44576764])"
      ]
     },
     "execution_count": 265,
     "metadata": {},
     "output_type": "execute_result"
    }
   ],
   "source": [
    "y_pred_36s_test = lr_36s.predict(X_test_scaled)\n",
    "y_pred_36s_test[0:20]"
   ]
  },
  {
   "cell_type": "code",
   "execution_count": 266,
   "metadata": {
    "scrolled": false
   },
   "outputs": [
    {
     "name": "stdout",
     "output_type": "stream",
     "text": [
      "Test Set R^2: -20.107370558488515\n",
      "Test Set Root Mean Squared Error: 131.58310436747848\n"
     ]
    }
   ],
   "source": [
    "print(\"Test Set R^2: {}\".format(lr_36s.score(X_test_scaled, y_test_s)))\n",
    "rmse_36s_test = np.sqrt(mean_squared_error(y_test_s, y_pred_36s_test))\n",
    "print(\"Test Set Root Mean Squared Error: {}\".format(rmse_36s_test))"
   ]
  },
  {
   "cell_type": "code",
   "execution_count": 267,
   "metadata": {},
   "outputs": [],
   "source": [
    "filename = 'cancer_lr_36s.sav'\n",
    "pickle.dump(lr_36s, open(filename, 'wb'))"
   ]
  },
  {
   "cell_type": "code",
   "execution_count": 268,
   "metadata": {},
   "outputs": [],
   "source": [
    "lr_37s = linear_model.SGDRegressor(loss='huber', penalty='l2', alpha=0.1, random_state=42)"
   ]
  },
  {
   "cell_type": "code",
   "execution_count": 269,
   "metadata": {
    "scrolled": true
   },
   "outputs": [
    {
     "name": "stderr",
     "output_type": "stream",
     "text": [
      "/Users/DanLoew/anaconda3/lib/python3.7/site-packages/sklearn/linear_model/stochastic_gradient.py:166: FutureWarning: max_iter and tol parameters have been added in SGDRegressor in 0.19. If both are left unset, they default to max_iter=5 and tol=None. If tol is not None, max_iter defaults to max_iter=1000. From 0.21, default max_iter will be 1000, and default tol will be 1e-3.\n",
      "  FutureWarning)\n"
     ]
    },
    {
     "data": {
      "text/plain": [
       "SGDRegressor(alpha=0.1, average=False, early_stopping=False, epsilon=0.1,\n",
       "       eta0=0.01, fit_intercept=True, l1_ratio=0.15,\n",
       "       learning_rate='invscaling', loss='huber', max_iter=None,\n",
       "       n_iter=None, n_iter_no_change=5, penalty='l2', power_t=0.25,\n",
       "       random_state=42, shuffle=True, tol=None, validation_fraction=0.1,\n",
       "       verbose=0, warm_start=False)"
      ]
     },
     "execution_count": 269,
     "metadata": {},
     "output_type": "execute_result"
    }
   ],
   "source": [
    "lr_37s.fit(X_train_scaled, y_train_s)"
   ]
  },
  {
   "cell_type": "code",
   "execution_count": 270,
   "metadata": {
    "scrolled": true
   },
   "outputs": [
    {
     "data": {
      "text/plain": [
       "array([29.60850761, 28.20701461, 26.96206884, 26.99541851, 27.34355193,\n",
       "       29.36415055, 26.08434909, 31.14411014, 26.2141614 , 26.20591514,\n",
       "       27.89347249, 27.95753978, 25.98962866, 26.54023837, 27.33748082,\n",
       "       26.47065212, 29.11566604, 26.49923921, 25.87267599, 24.68693125])"
      ]
     },
     "execution_count": 270,
     "metadata": {},
     "output_type": "execute_result"
    }
   ],
   "source": [
    "y_pred_37s_train = lr_37s.predict(X_train_scaled)\n",
    "y_pred_37s_train[0:20]"
   ]
  },
  {
   "cell_type": "code",
   "execution_count": 271,
   "metadata": {
    "scrolled": false
   },
   "outputs": [
    {
     "name": "stdout",
     "output_type": "stream",
     "text": [
      "Training Set R^2: -30.107039895282966\n",
      "Training Set Root Mean Squared Error: 153.4498971050498\n"
     ]
    }
   ],
   "source": [
    "print(\"Training Set R^2: {}\".format(lr_37s.score(X_train_scaled, y_train_s)))\n",
    "rmse_37s_train = np.sqrt(mean_squared_error(y_train_s, y_pred_37s_train))\n",
    "print(\"Training Set Root Mean Squared Error: {}\".format(rmse_37s_train))"
   ]
  },
  {
   "cell_type": "code",
   "execution_count": 272,
   "metadata": {
    "scrolled": true
   },
   "outputs": [
    {
     "data": {
      "text/plain": [
       "array([26.02657413, 26.14392958, 29.67727137, 27.57871023, 29.03880455,\n",
       "       25.2867021 , 26.55728478, 28.39310474, 27.68986111, 35.10980515,\n",
       "       26.37417674, 24.81265385, 25.26767377, 27.64734118, 25.04465415,\n",
       "       27.83531466, 26.83644513, 28.46625765, 26.6878887 , 27.33418911])"
      ]
     },
     "execution_count": 272,
     "metadata": {},
     "output_type": "execute_result"
    }
   ],
   "source": [
    "y_pred_37s_test = lr_37s.predict(X_test_scaled)\n",
    "y_pred_37s_test[0:20]"
   ]
  },
  {
   "cell_type": "code",
   "execution_count": 273,
   "metadata": {
    "scrolled": false
   },
   "outputs": [
    {
     "name": "stdout",
     "output_type": "stream",
     "text": [
      "Test Set R^2: -27.428542007630302\n",
      "Test Set Root Mean Squared Error: 152.7074954654062\n"
     ]
    }
   ],
   "source": [
    "print(\"Test Set R^2: {}\".format(lr_37s.score(X_test_scaled, y_test_s)))\n",
    "rmse_37s_test = np.sqrt(mean_squared_error(y_test_s, y_pred_37s_test))\n",
    "print(\"Test Set Root Mean Squared Error: {}\".format(rmse_37s_test))"
   ]
  },
  {
   "cell_type": "code",
   "execution_count": 274,
   "metadata": {},
   "outputs": [],
   "source": [
    "filename = 'cancer_lr_37s.sav'\n",
    "pickle.dump(lr_37s, open(filename, 'wb'))"
   ]
  },
  {
   "cell_type": "code",
   "execution_count": 275,
   "metadata": {},
   "outputs": [],
   "source": [
    "lr_38s = linear_model.SGDRegressor(loss='huber', penalty='l2', alpha=1, random_state=42)"
   ]
  },
  {
   "cell_type": "code",
   "execution_count": 276,
   "metadata": {
    "scrolled": true
   },
   "outputs": [
    {
     "name": "stderr",
     "output_type": "stream",
     "text": [
      "/Users/DanLoew/anaconda3/lib/python3.7/site-packages/sklearn/linear_model/stochastic_gradient.py:166: FutureWarning: max_iter and tol parameters have been added in SGDRegressor in 0.19. If both are left unset, they default to max_iter=5 and tol=None. If tol is not None, max_iter defaults to max_iter=1000. From 0.21, default max_iter will be 1000, and default tol will be 1e-3.\n",
      "  FutureWarning)\n"
     ]
    },
    {
     "data": {
      "text/plain": [
       "SGDRegressor(alpha=1, average=False, early_stopping=False, epsilon=0.1,\n",
       "       eta0=0.01, fit_intercept=True, l1_ratio=0.15,\n",
       "       learning_rate='invscaling', loss='huber', max_iter=None,\n",
       "       n_iter=None, n_iter_no_change=5, penalty='l2', power_t=0.25,\n",
       "       random_state=42, shuffle=True, tol=None, validation_fraction=0.1,\n",
       "       verbose=0, warm_start=False)"
      ]
     },
     "execution_count": 276,
     "metadata": {},
     "output_type": "execute_result"
    }
   ],
   "source": [
    "lr_38s.fit(X_train_scaled, y_train_s)"
   ]
  },
  {
   "cell_type": "code",
   "execution_count": 277,
   "metadata": {
    "scrolled": true
   },
   "outputs": [
    {
     "data": {
      "text/plain": [
       "array([5.10783921, 4.93804057, 4.77380154, 4.77832755, 4.82492538,\n",
       "       5.07827229, 4.66581271, 5.30557368, 4.68019449, 4.6790049 ,\n",
       "       4.89166705, 4.89943015, 4.64964928, 4.72491711, 4.82213021,\n",
       "       4.71152262, 5.04585428, 4.71474233, 4.63834349, 4.4860846 ])"
      ]
     },
     "execution_count": 277,
     "metadata": {},
     "output_type": "execute_result"
    }
   ],
   "source": [
    "y_pred_38s_train = lr_38s.predict(X_train_scaled)\n",
    "y_pred_38s_train[0:20]"
   ]
  },
  {
   "cell_type": "code",
   "execution_count": 278,
   "metadata": {
    "scrolled": false
   },
   "outputs": [
    {
     "name": "stdout",
     "output_type": "stream",
     "text": [
      "Training Set R^2: -39.980697494234526\n",
      "Training Set Root Mean Squared Error: 176.127402966156\n"
     ]
    }
   ],
   "source": [
    "print(\"Training Set R^2: {}\".format(lr_38s.score(X_train_scaled, y_train_s)))\n",
    "rmse_38s_train = np.sqrt(mean_squared_error(y_train_s, y_pred_38s_train))\n",
    "print(\"Training Set Root Mean Squared Error: {}\".format(rmse_38s_train))"
   ]
  },
  {
   "cell_type": "code",
   "execution_count": 279,
   "metadata": {
    "scrolled": true
   },
   "outputs": [
    {
     "data": {
      "text/plain": [
       "array([4.65401884, 4.6698669 , 5.1205736 , 4.85417627, 5.03649628,\n",
       "       4.56026974, 4.72383999, 4.96020224, 4.86506103, 5.81500433,\n",
       "       4.69727377, 4.5003984 , 4.55767004, 4.86083686, 4.53116244,\n",
       "       4.88474589, 4.75825195, 4.96389713, 4.73715939, 4.8204353 ])"
      ]
     },
     "execution_count": 279,
     "metadata": {},
     "output_type": "execute_result"
    }
   ],
   "source": [
    "y_pred_38s_test = lr_38s.predict(X_test_scaled)\n",
    "y_pred_38s_test[0:20]"
   ]
  },
  {
   "cell_type": "code",
   "execution_count": 280,
   "metadata": {
    "scrolled": false
   },
   "outputs": [
    {
     "name": "stdout",
     "output_type": "stream",
     "text": [
      "Test Set R^2: -36.48659816150742\n",
      "Test Set Root Mean Squared Error: 175.3561800813042\n"
     ]
    }
   ],
   "source": [
    "print(\"Test Set R^2: {}\".format(lr_38s.score(X_test_scaled, y_test_s)))\n",
    "rmse_38s_test = np.sqrt(mean_squared_error(y_test_s, y_pred_38s_test))\n",
    "print(\"Test Set Root Mean Squared Error: {}\".format(rmse_38s_test))"
   ]
  },
  {
   "cell_type": "code",
   "execution_count": 281,
   "metadata": {},
   "outputs": [],
   "source": [
    "filename = 'cancer_lr_38s.sav'\n",
    "pickle.dump(lr_38s, open(filename, 'wb'))"
   ]
  },
  {
   "cell_type": "code",
   "execution_count": 282,
   "metadata": {},
   "outputs": [],
   "source": [
    "lr_39s = linear_model.SGDRegressor(loss='huber', penalty='l2', alpha=10, random_state=42)"
   ]
  },
  {
   "cell_type": "code",
   "execution_count": 283,
   "metadata": {
    "scrolled": true
   },
   "outputs": [
    {
     "name": "stderr",
     "output_type": "stream",
     "text": [
      "/Users/DanLoew/anaconda3/lib/python3.7/site-packages/sklearn/linear_model/stochastic_gradient.py:166: FutureWarning: max_iter and tol parameters have been added in SGDRegressor in 0.19. If both are left unset, they default to max_iter=5 and tol=None. If tol is not None, max_iter defaults to max_iter=1000. From 0.21, default max_iter will be 1000, and default tol will be 1e-3.\n",
      "  FutureWarning)\n"
     ]
    },
    {
     "data": {
      "text/plain": [
       "SGDRegressor(alpha=10, average=False, early_stopping=False, epsilon=0.1,\n",
       "       eta0=0.01, fit_intercept=True, l1_ratio=0.15,\n",
       "       learning_rate='invscaling', loss='huber', max_iter=None,\n",
       "       n_iter=None, n_iter_no_change=5, penalty='l2', power_t=0.25,\n",
       "       random_state=42, shuffle=True, tol=None, validation_fraction=0.1,\n",
       "       verbose=0, warm_start=False)"
      ]
     },
     "execution_count": 283,
     "metadata": {},
     "output_type": "execute_result"
    }
   ],
   "source": [
    "lr_39s.fit(X_train_scaled, y_train_s)"
   ]
  },
  {
   "cell_type": "code",
   "execution_count": 284,
   "metadata": {
    "scrolled": true
   },
   "outputs": [
    {
     "data": {
      "text/plain": [
       "array([1.89462136, 1.88397568, 1.86556755, 1.86592954, 1.87090127,\n",
       "       1.89056118, 1.85652939, 1.91563549, 1.85695293, 1.85644544,\n",
       "       1.877047  , 1.87596407, 1.85361964, 1.86196309, 1.87082975,\n",
       "       1.8589472 , 1.89015803, 1.85940087, 1.8521145 , 1.83730599])"
      ]
     },
     "execution_count": 284,
     "metadata": {},
     "output_type": "execute_result"
    }
   ],
   "source": [
    "y_pred_39s_train = lr_39s.predict(X_train_scaled)\n",
    "y_pred_39s_train[0:20]"
   ]
  },
  {
   "cell_type": "code",
   "execution_count": 285,
   "metadata": {
    "scrolled": false
   },
   "outputs": [
    {
     "name": "stdout",
     "output_type": "stream",
     "text": [
      "Training Set R^2: -41.37934178409891\n",
      "Training Set Root Mean Squared Error: 179.10774333938093\n"
     ]
    }
   ],
   "source": [
    "print(\"Training Set R^2: {}\".format(lr_39s.score(X_train_scaled, y_train_s)))\n",
    "rmse_39s_train = np.sqrt(mean_squared_error(y_train_s, y_pred_39s_train))\n",
    "print(\"Training Set Root Mean Squared Error: {}\".format(rmse_39s_train))"
   ]
  },
  {
   "cell_type": "code",
   "execution_count": 286,
   "metadata": {
    "scrolled": true
   },
   "outputs": [
    {
     "data": {
      "text/plain": [
       "array([1.85236487, 1.85510996, 1.89959722, 1.87479791, 1.88745761,\n",
       "       1.84466899, 1.86019279, 1.88592847, 1.8735895 , 1.97009012,\n",
       "       1.85755377, 1.83802673, 1.84237937, 1.87396185, 1.8417202 ,\n",
       "       1.87722757, 1.8640267 , 1.87970494, 1.85947278, 1.87030786])"
      ]
     },
     "execution_count": 286,
     "metadata": {},
     "output_type": "execute_result"
    }
   ],
   "source": [
    "y_pred_39s_test = lr_39s.predict(X_test_scaled)\n",
    "y_pred_39s_test[0:20]"
   ]
  },
  {
   "cell_type": "code",
   "execution_count": 287,
   "metadata": {
    "scrolled": false
   },
   "outputs": [
    {
     "name": "stdout",
     "output_type": "stream",
     "text": [
      "Test Set R^2: -37.770302784032445\n",
      "Test Set Root Mean Squared Error: 178.33338671392406\n"
     ]
    }
   ],
   "source": [
    "print(\"Test Set R^2: {}\".format(lr_39s.score(X_test_scaled, y_test_s)))\n",
    "rmse_39s_test = np.sqrt(mean_squared_error(y_test_s, y_pred_39s_test))\n",
    "print(\"Test Set Root Mean Squared Error: {}\".format(rmse_39s_test))"
   ]
  },
  {
   "cell_type": "code",
   "execution_count": 288,
   "metadata": {},
   "outputs": [],
   "source": [
    "filename = 'cancer_lr_39s.sav'\n",
    "pickle.dump(lr_39s, open(filename, 'wb'))"
   ]
  },
  {
   "cell_type": "code",
   "execution_count": 289,
   "metadata": {},
   "outputs": [],
   "source": [
    "lr_40s = linear_model.SGDRegressor(loss='huber', penalty='l2', alpha=100, random_state=42)"
   ]
  },
  {
   "cell_type": "code",
   "execution_count": 290,
   "metadata": {
    "scrolled": true
   },
   "outputs": [
    {
     "name": "stderr",
     "output_type": "stream",
     "text": [
      "/Users/DanLoew/anaconda3/lib/python3.7/site-packages/sklearn/linear_model/stochastic_gradient.py:166: FutureWarning: max_iter and tol parameters have been added in SGDRegressor in 0.19. If both are left unset, they default to max_iter=5 and tol=None. If tol is not None, max_iter defaults to max_iter=1000. From 0.21, default max_iter will be 1000, and default tol will be 1e-3.\n",
      "  FutureWarning)\n"
     ]
    },
    {
     "data": {
      "text/plain": [
       "SGDRegressor(alpha=100, average=False, early_stopping=False, epsilon=0.1,\n",
       "       eta0=0.01, fit_intercept=True, l1_ratio=0.15,\n",
       "       learning_rate='invscaling', loss='huber', max_iter=None,\n",
       "       n_iter=None, n_iter_no_change=5, penalty='l2', power_t=0.25,\n",
       "       random_state=42, shuffle=True, tol=None, validation_fraction=0.1,\n",
       "       verbose=0, warm_start=False)"
      ]
     },
     "execution_count": 290,
     "metadata": {},
     "output_type": "execute_result"
    }
   ],
   "source": [
    "lr_40s.fit(X_train_scaled, y_train_s)"
   ]
  },
  {
   "cell_type": "code",
   "execution_count": 291,
   "metadata": {
    "scrolled": true
   },
   "outputs": [
    {
     "data": {
      "text/plain": [
       "array([1.57965911, 1.57640227, 1.57490663, 1.57648073, 1.5756532 ,\n",
       "       1.5787565 , 1.57386527, 1.58079238, 1.57418523, 1.57450265,\n",
       "       1.57602673, 1.57676935, 1.57407759, 1.57489424, 1.57564942,\n",
       "       1.57450916, 1.57829748, 1.57463812, 1.5736695 , 1.57270253])"
      ]
     },
     "execution_count": 291,
     "metadata": {},
     "output_type": "execute_result"
    }
   ],
   "source": [
    "y_pred_40s_train = lr_40s.predict(X_train_scaled)\n",
    "y_pred_40s_train[0:20]"
   ]
  },
  {
   "cell_type": "code",
   "execution_count": 292,
   "metadata": {
    "scrolled": false
   },
   "outputs": [
    {
     "name": "stdout",
     "output_type": "stream",
     "text": [
      "Training Set R^2: -41.519635785382626\n",
      "Training Set Root Mean Squared Error: 179.40396054494346\n"
     ]
    }
   ],
   "source": [
    "print(\"Training Set R^2: {}\".format(lr_40s.score(X_train_scaled, y_train_s)))\n",
    "rmse_40s_train = np.sqrt(mean_squared_error(y_train_s, y_pred_40s_train))\n",
    "print(\"Training Set Root Mean Squared Error: {}\".format(rmse_40s_train))"
   ]
  },
  {
   "cell_type": "code",
   "execution_count": 293,
   "metadata": {
    "scrolled": true
   },
   "outputs": [
    {
     "data": {
      "text/plain": [
       "array([1.5739949 , 1.57531806, 1.57955582, 1.57584766, 1.5786258 ,\n",
       "       1.57320019, 1.57478853, 1.57690807, 1.5762023 , 1.5865057 ,\n",
       "       1.57445441, 1.57272291, 1.57444294, 1.57606241, 1.57354476,\n",
       "       1.57637684, 1.57601556, 1.57806824, 1.57641604, 1.57653847])"
      ]
     },
     "execution_count": 293,
     "metadata": {},
     "output_type": "execute_result"
    }
   ],
   "source": [
    "y_pred_40s_test = lr_40s.predict(X_test_scaled)\n",
    "y_pred_40s_test[0:20]"
   ]
  },
  {
   "cell_type": "code",
   "execution_count": 294,
   "metadata": {
    "scrolled": false
   },
   "outputs": [
    {
     "name": "stdout",
     "output_type": "stream",
     "text": [
      "Test Set R^2: -37.89909900180667\n",
      "Test Set Root Mean Squared Error: 178.6293557935772\n"
     ]
    }
   ],
   "source": [
    "print(\"Test Set R^2: {}\".format(lr_40s.score(X_test_scaled, y_test_s)))\n",
    "rmse_40s_test = np.sqrt(mean_squared_error(y_test_s, y_pred_40s_test))\n",
    "print(\"Test Set Root Mean Squared Error: {}\".format(rmse_40s_test))"
   ]
  },
  {
   "cell_type": "code",
   "execution_count": 295,
   "metadata": {},
   "outputs": [],
   "source": [
    "filename = 'cancer_lr_40s.sav'\n",
    "pickle.dump(lr_40s, open(filename, 'wb'))"
   ]
  },
  {
   "cell_type": "code",
   "execution_count": 296,
   "metadata": {},
   "outputs": [],
   "source": [
    "lr_41s = linear_model.SGDRegressor(loss='huber', penalty='l2', alpha=0.00001, random_state=42, \n",
    "                                   learning_rate='constant')"
   ]
  },
  {
   "cell_type": "code",
   "execution_count": 297,
   "metadata": {
    "scrolled": true
   },
   "outputs": [
    {
     "name": "stderr",
     "output_type": "stream",
     "text": [
      "/Users/DanLoew/anaconda3/lib/python3.7/site-packages/sklearn/linear_model/stochastic_gradient.py:166: FutureWarning: max_iter and tol parameters have been added in SGDRegressor in 0.19. If both are left unset, they default to max_iter=5 and tol=None. If tol is not None, max_iter defaults to max_iter=1000. From 0.21, default max_iter will be 1000, and default tol will be 1e-3.\n",
      "  FutureWarning)\n"
     ]
    },
    {
     "data": {
      "text/plain": [
       "SGDRegressor(alpha=1e-05, average=False, early_stopping=False, epsilon=0.1,\n",
       "       eta0=0.01, fit_intercept=True, l1_ratio=0.15,\n",
       "       learning_rate='constant', loss='huber', max_iter=None, n_iter=None,\n",
       "       n_iter_no_change=5, penalty='l2', power_t=0.25, random_state=42,\n",
       "       shuffle=True, tol=None, validation_fraction=0.1, verbose=0,\n",
       "       warm_start=False)"
      ]
     },
     "execution_count": 297,
     "metadata": {},
     "output_type": "execute_result"
    }
   ],
   "source": [
    "lr_41s.fit(X_train_scaled, y_train_s)"
   ]
  },
  {
   "cell_type": "code",
   "execution_count": 298,
   "metadata": {
    "scrolled": true
   },
   "outputs": [
    {
     "data": {
      "text/plain": [
       "array([189.00788908, 175.80044257, 172.84200501, 177.14673652,\n",
       "       175.83016866, 187.13164955, 163.74452818, 192.35251382,\n",
       "       168.63563193, 170.08719929, 177.7283409 , 173.68036617,\n",
       "       168.44064808, 167.0178002 , 177.08235147, 171.08730687,\n",
       "       183.79717056, 172.41022837, 164.47092135, 159.47242606])"
      ]
     },
     "execution_count": 298,
     "metadata": {},
     "output_type": "execute_result"
    }
   ],
   "source": [
    "y_pred_41s_train = lr_41s.predict(X_train_scaled)\n",
    "y_pred_41s_train[0:20]"
   ]
  },
  {
   "cell_type": "code",
   "execution_count": 299,
   "metadata": {
    "scrolled": false
   },
   "outputs": [
    {
     "name": "stdout",
     "output_type": "stream",
     "text": [
      "Training Set R^2: 0.0869860668793655\n",
      "Training Set Root Mean Squared Error: 26.28911468740667\n"
     ]
    }
   ],
   "source": [
    "print(\"Training Set R^2: {}\".format(lr_41s.score(X_train_scaled, y_train_s)))\n",
    "rmse_41s_train = np.sqrt(mean_squared_error(y_train_s, y_pred_41s_train))\n",
    "print(\"Training Set Root Mean Squared Error: {}\".format(rmse_41s_train))"
   ]
  },
  {
   "cell_type": "code",
   "execution_count": 300,
   "metadata": {
    "scrolled": true
   },
   "outputs": [
    {
     "data": {
      "text/plain": [
       "array([169.46883014, 170.96145337, 193.63849543, 174.87955842,\n",
       "       187.39928314, 163.14123799, 170.86849231, 175.55555965,\n",
       "       180.70542248, 214.18646212, 172.31201342, 161.0961076 ,\n",
       "       167.24510349, 179.78933367, 162.61591375, 180.43393624,\n",
       "       175.99694751, 183.43312736, 170.25848705, 178.87037902])"
      ]
     },
     "execution_count": 300,
     "metadata": {},
     "output_type": "execute_result"
    }
   ],
   "source": [
    "y_pred_41s_test = lr_41s.predict(X_test_scaled)\n",
    "y_pred_41s_test[0:20]"
   ]
  },
  {
   "cell_type": "code",
   "execution_count": 301,
   "metadata": {
    "scrolled": false
   },
   "outputs": [
    {
     "name": "stdout",
     "output_type": "stream",
     "text": [
      "Test Set R^2: 0.08194950445573113\n",
      "Test Set Root Mean Squared Error: 27.442037003924593\n"
     ]
    }
   ],
   "source": [
    "print(\"Test Set R^2: {}\".format(lr_41s.score(X_test_scaled, y_test_s)))\n",
    "rmse_41s_test = np.sqrt(mean_squared_error(y_test_s, y_pred_41s_test))\n",
    "print(\"Test Set Root Mean Squared Error: {}\".format(rmse_41s_test))"
   ]
  },
  {
   "cell_type": "code",
   "execution_count": 302,
   "metadata": {},
   "outputs": [],
   "source": [
    "filename = 'cancer_lr_41s.sav'\n",
    "pickle.dump(lr_41s, open(filename, 'wb'))"
   ]
  },
  {
   "cell_type": "code",
   "execution_count": 303,
   "metadata": {},
   "outputs": [],
   "source": [
    "lr_41s2 = linear_model.SGDRegressor(loss='huber', penalty='l2', alpha=0.0001, random_state=42, \n",
    "                                    learning_rate='constant')"
   ]
  },
  {
   "cell_type": "code",
   "execution_count": 304,
   "metadata": {
    "scrolled": true
   },
   "outputs": [
    {
     "name": "stderr",
     "output_type": "stream",
     "text": [
      "/Users/DanLoew/anaconda3/lib/python3.7/site-packages/sklearn/linear_model/stochastic_gradient.py:166: FutureWarning: max_iter and tol parameters have been added in SGDRegressor in 0.19. If both are left unset, they default to max_iter=5 and tol=None. If tol is not None, max_iter defaults to max_iter=1000. From 0.21, default max_iter will be 1000, and default tol will be 1e-3.\n",
      "  FutureWarning)\n"
     ]
    },
    {
     "data": {
      "text/plain": [
       "SGDRegressor(alpha=0.0001, average=False, early_stopping=False, epsilon=0.1,\n",
       "       eta0=0.01, fit_intercept=True, l1_ratio=0.15,\n",
       "       learning_rate='constant', loss='huber', max_iter=None, n_iter=None,\n",
       "       n_iter_no_change=5, penalty='l2', power_t=0.25, random_state=42,\n",
       "       shuffle=True, tol=None, validation_fraction=0.1, verbose=0,\n",
       "       warm_start=False)"
      ]
     },
     "execution_count": 304,
     "metadata": {},
     "output_type": "execute_result"
    }
   ],
   "source": [
    "lr_41s2.fit(X_train_scaled, y_train_s)"
   ]
  },
  {
   "cell_type": "code",
   "execution_count": 305,
   "metadata": {
    "scrolled": true
   },
   "outputs": [
    {
     "data": {
      "text/plain": [
       "array([188.87915728, 175.7134404 , 172.7287393 , 177.00547351,\n",
       "       175.72009474, 187.00897801, 163.65656186, 192.24421485,\n",
       "       168.53094977, 169.96817371, 177.61603074, 173.59119917,\n",
       "       168.3347908 , 166.92435758, 176.95110812, 170.98237872,\n",
       "       183.67663523, 172.29229794, 164.35182859, 159.37150823])"
      ]
     },
     "execution_count": 305,
     "metadata": {},
     "output_type": "execute_result"
    }
   ],
   "source": [
    "y_pred_41s2_train = lr_41s2.predict(X_train_scaled)\n",
    "y_pred_41s2_train[0:20]"
   ]
  },
  {
   "cell_type": "code",
   "execution_count": 306,
   "metadata": {
    "scrolled": false
   },
   "outputs": [
    {
     "name": "stdout",
     "output_type": "stream",
     "text": [
      "Training Set R^2: 0.08625441872467643\n",
      "Training Set Root Mean Squared Error: 26.29964603293361\n"
     ]
    }
   ],
   "source": [
    "print(\"Training Set R^2: {}\".format(lr_41s2.score(X_train_scaled, y_train_s)))\n",
    "rmse_41s2_train = np.sqrt(mean_squared_error(y_train_s, y_pred_41s2_train))\n",
    "print(\"Training Set Root Mean Squared Error: {}\".format(rmse_41s2_train))"
   ]
  },
  {
   "cell_type": "code",
   "execution_count": 307,
   "metadata": {
    "scrolled": true
   },
   "outputs": [
    {
     "data": {
      "text/plain": [
       "array([169.35145383, 170.82348958, 193.48626713, 174.7697625 ,\n",
       "       187.26538642, 163.02528035, 170.75904059, 175.46130919,\n",
       "       180.56394131, 214.05993743, 172.19031116, 160.98935365,\n",
       "       167.09771106, 179.66132838, 162.4969326 , 180.32634629,\n",
       "       175.86140194, 183.29855206, 170.1575938 , 178.72842372])"
      ]
     },
     "execution_count": 307,
     "metadata": {},
     "output_type": "execute_result"
    }
   ],
   "source": [
    "y_pred_41s2_test = lr_41s2.predict(X_test_scaled)\n",
    "y_pred_41s2_test[0:20]"
   ]
  },
  {
   "cell_type": "code",
   "execution_count": 308,
   "metadata": {
    "scrolled": false
   },
   "outputs": [
    {
     "name": "stdout",
     "output_type": "stream",
     "text": [
      "Test Set R^2: 0.08155710218058232\n",
      "Test Set Root Mean Squared Error: 27.447901151581934\n"
     ]
    }
   ],
   "source": [
    "print(\"Test Set R^2: {}\".format(lr_41s2.score(X_test_scaled, y_test_s)))\n",
    "rmse_41s2_test = np.sqrt(mean_squared_error(y_test_s, y_pred_41s2_test))\n",
    "print(\"Test Set Root Mean Squared Error: {}\".format(rmse_41s2_test))"
   ]
  },
  {
   "cell_type": "code",
   "execution_count": 309,
   "metadata": {},
   "outputs": [],
   "source": [
    "filename = 'cancer_lr_41s2.sav'\n",
    "pickle.dump(lr_41s2, open(filename, 'wb'))"
   ]
  },
  {
   "cell_type": "code",
   "execution_count": 310,
   "metadata": {},
   "outputs": [],
   "source": [
    "lr_41s3 = linear_model.SGDRegressor(loss='huber', penalty='l2', alpha=0.001, random_state=42, \n",
    "                                    learning_rate='constant')"
   ]
  },
  {
   "cell_type": "code",
   "execution_count": 311,
   "metadata": {
    "scrolled": true
   },
   "outputs": [
    {
     "name": "stderr",
     "output_type": "stream",
     "text": [
      "/Users/DanLoew/anaconda3/lib/python3.7/site-packages/sklearn/linear_model/stochastic_gradient.py:166: FutureWarning: max_iter and tol parameters have been added in SGDRegressor in 0.19. If both are left unset, they default to max_iter=5 and tol=None. If tol is not None, max_iter defaults to max_iter=1000. From 0.21, default max_iter will be 1000, and default tol will be 1e-3.\n",
      "  FutureWarning)\n"
     ]
    },
    {
     "data": {
      "text/plain": [
       "SGDRegressor(alpha=0.001, average=False, early_stopping=False, epsilon=0.1,\n",
       "       eta0=0.01, fit_intercept=True, l1_ratio=0.15,\n",
       "       learning_rate='constant', loss='huber', max_iter=None, n_iter=None,\n",
       "       n_iter_no_change=5, penalty='l2', power_t=0.25, random_state=42,\n",
       "       shuffle=True, tol=None, validation_fraction=0.1, verbose=0,\n",
       "       warm_start=False)"
      ]
     },
     "execution_count": 311,
     "metadata": {},
     "output_type": "execute_result"
    }
   ],
   "source": [
    "lr_41s3.fit(X_train_scaled, y_train_s)"
   ]
  },
  {
   "cell_type": "code",
   "execution_count": 312,
   "metadata": {
    "scrolled": true
   },
   "outputs": [
    {
     "data": {
      "text/plain": [
       "array([187.79217334, 175.16118114, 171.81128817, 175.88635229,\n",
       "       174.86729337, 185.88902679, 163.04357263, 191.40572382,\n",
       "       167.68004923, 169.01316974, 176.70887348, 172.77081492,\n",
       "       167.44828332, 166.20537042, 175.98015985, 170.02886243,\n",
       "       182.72393269, 171.30153153, 163.59465625, 158.58515054])"
      ]
     },
     "execution_count": 312,
     "metadata": {},
     "output_type": "execute_result"
    }
   ],
   "source": [
    "y_pred_41s3_train = lr_41s3.predict(X_train_scaled)\n",
    "y_pred_41s3_train[0:20]"
   ]
  },
  {
   "cell_type": "code",
   "execution_count": 313,
   "metadata": {
    "scrolled": false
   },
   "outputs": [
    {
     "name": "stdout",
     "output_type": "stream",
     "text": [
      "Training Set R^2: 0.07874592264980462\n",
      "Training Set Root Mean Squared Error: 26.407480633437256\n"
     ]
    }
   ],
   "source": [
    "print(\"Training Set R^2: {}\".format(lr_41s3.score(X_train_scaled, y_train_s)))\n",
    "rmse_41s3_train = np.sqrt(mean_squared_error(y_train_s, y_pred_41s3_train))\n",
    "print(\"Training Set Root Mean Squared Error: {}\".format(rmse_41s3_train))"
   ]
  },
  {
   "cell_type": "code",
   "execution_count": 314,
   "metadata": {
    "scrolled": true
   },
   "outputs": [
    {
     "data": {
      "text/plain": [
       "array([168.33801231, 169.81694206, 192.29855036, 174.01915209,\n",
       "       186.07843064, 162.17749992, 169.95286722, 174.92580551,\n",
       "       179.49208048, 213.18192435, 171.19922378, 160.15340553,\n",
       "       165.89222532, 178.6458459 , 161.57482953, 179.32470995,\n",
       "       174.79737168, 182.15452347, 169.23766865, 177.66723791])"
      ]
     },
     "execution_count": 314,
     "metadata": {},
     "output_type": "execute_result"
    }
   ],
   "source": [
    "y_pred_41s3_test = lr_41s3.predict(X_test_scaled)\n",
    "y_pred_41s3_test[0:20]"
   ]
  },
  {
   "cell_type": "code",
   "execution_count": 315,
   "metadata": {
    "scrolled": false
   },
   "outputs": [
    {
     "name": "stdout",
     "output_type": "stream",
     "text": [
      "Test Set R^2: 0.07667783383591076\n",
      "Test Set Root Mean Squared Error: 27.520713666619233\n"
     ]
    }
   ],
   "source": [
    "print(\"Test Set R^2: {}\".format(lr_41s3.score(X_test_scaled, y_test_s)))\n",
    "rmse_41s3_test = np.sqrt(mean_squared_error(y_test_s, y_pred_41s3_test))\n",
    "print(\"Test Set Root Mean Squared Error: {}\".format(rmse_41s3_test))"
   ]
  },
  {
   "cell_type": "code",
   "execution_count": 316,
   "metadata": {},
   "outputs": [],
   "source": [
    "filename = 'cancer_lr_41s3.sav'\n",
    "pickle.dump(lr_41s3, open(filename, 'wb'))"
   ]
  },
  {
   "cell_type": "code",
   "execution_count": 317,
   "metadata": {},
   "outputs": [],
   "source": [
    "lr_41s4 = linear_model.SGDRegressor(loss='huber', penalty='l2', alpha=0.01, random_state=42, \n",
    "                                    learning_rate='constant')"
   ]
  },
  {
   "cell_type": "code",
   "execution_count": 318,
   "metadata": {
    "scrolled": true
   },
   "outputs": [
    {
     "name": "stderr",
     "output_type": "stream",
     "text": [
      "/Users/DanLoew/anaconda3/lib/python3.7/site-packages/sklearn/linear_model/stochastic_gradient.py:166: FutureWarning: max_iter and tol parameters have been added in SGDRegressor in 0.19. If both are left unset, they default to max_iter=5 and tol=None. If tol is not None, max_iter defaults to max_iter=1000. From 0.21, default max_iter will be 1000, and default tol will be 1e-3.\n",
      "  FutureWarning)\n"
     ]
    },
    {
     "data": {
      "text/plain": [
       "SGDRegressor(alpha=0.01, average=False, early_stopping=False, epsilon=0.1,\n",
       "       eta0=0.01, fit_intercept=True, l1_ratio=0.15,\n",
       "       learning_rate='constant', loss='huber', max_iter=None, n_iter=None,\n",
       "       n_iter_no_change=5, penalty='l2', power_t=0.25, random_state=42,\n",
       "       shuffle=True, tol=None, validation_fraction=0.1, verbose=0,\n",
       "       warm_start=False)"
      ]
     },
     "execution_count": 318,
     "metadata": {},
     "output_type": "execute_result"
    }
   ],
   "source": [
    "lr_41s4.fit(X_train_scaled, y_train_s)"
   ]
  },
  {
   "cell_type": "code",
   "execution_count": 319,
   "metadata": {
    "scrolled": true
   },
   "outputs": [
    {
     "data": {
      "text/plain": [
       "array([173.95237506, 164.18154547, 159.18937642, 161.40444692,\n",
       "       162.09014144, 172.08138327, 152.51617134, 179.05003364,\n",
       "       155.54437689, 156.15384462, 164.06816775, 161.59951631,\n",
       "       154.92824304, 155.01583655, 162.57116778, 157.14871449,\n",
       "       170.04695884, 157.96970732, 152.27942089, 147.00222809])"
      ]
     },
     "execution_count": 319,
     "metadata": {},
     "output_type": "execute_result"
    }
   ],
   "source": [
    "y_pred_41s4_train = lr_41s4.predict(X_train_scaled)\n",
    "y_pred_41s4_train[0:20]"
   ]
  },
  {
   "cell_type": "code",
   "execution_count": 320,
   "metadata": {
    "scrolled": false
   },
   "outputs": [
    {
     "name": "stdout",
     "output_type": "stream",
     "text": [
      "Training Set R^2: -0.234071454232067\n",
      "Training Set Root Mean Squared Error: 30.56380440756597\n"
     ]
    }
   ],
   "source": [
    "print(\"Training Set R^2: {}\".format(lr_41s4.score(X_train_scaled, y_train_s)))\n",
    "rmse_41s4_train = np.sqrt(mean_squared_error(y_train_s, y_pred_41s4_train))\n",
    "print(\"Training Set Root Mean Squared Error: {}\".format(rmse_41s4_train))"
   ]
  },
  {
   "cell_type": "code",
   "execution_count": 321,
   "metadata": {
    "scrolled": true
   },
   "outputs": [
    {
     "data": {
      "text/plain": [
       "array([155.08944734, 156.3652976 , 176.75058155, 162.10364986,\n",
       "       171.81041006, 150.34396356, 157.66989686, 164.47876877,\n",
       "       165.21230186, 200.20086342, 157.61750211, 148.11099271,\n",
       "       151.69843189, 164.80588235, 149.22083621, 165.53863896,\n",
       "       160.64326464, 168.28657602, 157.19885755, 163.36976231])"
      ]
     },
     "execution_count": 321,
     "metadata": {},
     "output_type": "execute_result"
    }
   ],
   "source": [
    "y_pred_41s4_test = lr_41s4.predict(X_test_scaled)\n",
    "y_pred_41s4_test[0:20]"
   ]
  },
  {
   "cell_type": "code",
   "execution_count": 322,
   "metadata": {
    "scrolled": false
   },
   "outputs": [
    {
     "name": "stdout",
     "output_type": "stream",
     "text": [
      "Test Set R^2: -0.1845885919064285\n",
      "Test Set Root Mean Squared Error: 31.17215548992959\n"
     ]
    }
   ],
   "source": [
    "print(\"Test Set R^2: {}\".format(lr_41s4.score(X_test_scaled, y_test_s)))\n",
    "rmse_41s4_test = np.sqrt(mean_squared_error(y_test_s, y_pred_41s4_test))\n",
    "print(\"Test Set Root Mean Squared Error: {}\".format(rmse_41s4_test))"
   ]
  },
  {
   "cell_type": "code",
   "execution_count": 323,
   "metadata": {},
   "outputs": [],
   "source": [
    "filename = 'cancer_lr_41s4.sav'\n",
    "pickle.dump(lr_41s4, open(filename, 'wb'))"
   ]
  },
  {
   "cell_type": "code",
   "execution_count": 324,
   "metadata": {},
   "outputs": [],
   "source": [
    "lr_41s5 = linear_model.SGDRegressor(loss='huber', penalty='l2', alpha=0.00001, epsilon= 0.01, random_state=42, \n",
    "                                    learning_rate='constant')"
   ]
  },
  {
   "cell_type": "code",
   "execution_count": 325,
   "metadata": {
    "scrolled": false
   },
   "outputs": [
    {
     "name": "stderr",
     "output_type": "stream",
     "text": [
      "/Users/DanLoew/anaconda3/lib/python3.7/site-packages/sklearn/linear_model/stochastic_gradient.py:166: FutureWarning: max_iter and tol parameters have been added in SGDRegressor in 0.19. If both are left unset, they default to max_iter=5 and tol=None. If tol is not None, max_iter defaults to max_iter=1000. From 0.21, default max_iter will be 1000, and default tol will be 1e-3.\n",
      "  FutureWarning)\n"
     ]
    },
    {
     "data": {
      "text/plain": [
       "SGDRegressor(alpha=1e-05, average=False, early_stopping=False, epsilon=0.01,\n",
       "       eta0=0.01, fit_intercept=True, l1_ratio=0.15,\n",
       "       learning_rate='constant', loss='huber', max_iter=None, n_iter=None,\n",
       "       n_iter_no_change=5, penalty='l2', power_t=0.25, random_state=42,\n",
       "       shuffle=True, tol=None, validation_fraction=0.1, verbose=0,\n",
       "       warm_start=False)"
      ]
     },
     "execution_count": 325,
     "metadata": {},
     "output_type": "execute_result"
    }
   ],
   "source": [
    "lr_41s5.fit(X_train_scaled, y_train_s)"
   ]
  },
  {
   "cell_type": "code",
   "execution_count": 326,
   "metadata": {
    "scrolled": false
   },
   "outputs": [
    {
     "data": {
      "text/plain": [
       "array([44.58490892, 42.42423536, 40.49880117, 40.54877445, 41.08759639,\n",
       "       44.20647191, 39.14415016, 46.95833743, 39.34586283, 39.33088572,\n",
       "       41.9378157 , 42.03561499, 38.99863133, 39.84749177, 41.08060212,\n",
       "       39.7390055 , 43.82495525, 39.78411365, 38.81859806, 36.98413274])"
      ]
     },
     "execution_count": 326,
     "metadata": {},
     "output_type": "execute_result"
    }
   ],
   "source": [
    "y_pred_41s5_train = lr_41s5.predict(X_train_scaled)\n",
    "y_pred_41s5_train[0:20]"
   ]
  },
  {
   "cell_type": "code",
   "execution_count": 327,
   "metadata": {
    "scrolled": false
   },
   "outputs": [
    {
     "name": "stdout",
     "output_type": "stream",
     "text": [
      "Training Set R^2: -24.766489044999997\n",
      "Training Set Root Mean Squared Error: 139.65769862332934\n"
     ]
    }
   ],
   "source": [
    "print(\"Training Set R^2: {}\".format(lr_41s5.score(X_train_scaled, y_train_s)))\n",
    "rmse_41s5_train = np.sqrt(mean_squared_error(y_train_s, y_pred_41s5_train))\n",
    "print(\"Training Set Root Mean Squared Error: {}\".format(rmse_41s5_train))"
   ]
  },
  {
   "cell_type": "code",
   "execution_count": 328,
   "metadata": {
    "scrolled": true
   },
   "outputs": [
    {
     "data": {
      "text/plain": [
       "array([39.05274253, 39.2359871 , 44.69235525, 41.45417934, 43.7034828 ,\n",
       "       37.91195641, 39.87449118, 42.71318742, 41.6251052 , 53.08660797,\n",
       "       39.59069733, 37.17907686, 37.87816582, 41.55929063, 37.53658148,\n",
       "       41.84959176, 40.30430414, 42.81976984, 40.07175687, 41.07486175])"
      ]
     },
     "execution_count": 328,
     "metadata": {},
     "output_type": "execute_result"
    }
   ],
   "source": [
    "y_pred_41s5_test = lr_41s5.predict(X_test_scaled)\n",
    "y_pred_41s5_test[0:20]"
   ]
  },
  {
   "cell_type": "code",
   "execution_count": 329,
   "metadata": {
    "scrolled": false
   },
   "outputs": [
    {
     "name": "stdout",
     "output_type": "stream",
     "text": [
      "Test Set R^2: -22.533040219189918\n",
      "Test Set Root Mean Squared Error: 138.938331595043\n"
     ]
    }
   ],
   "source": [
    "print(\"Test Set R^2: {}\".format(lr_41s5.score(X_test_scaled, y_test_s)))\n",
    "rmse_41s5_test = np.sqrt(mean_squared_error(y_test_s, y_pred_41s5_test))\n",
    "print(\"Test Set Root Mean Squared Error: {}\".format(rmse_41s5_test))"
   ]
  },
  {
   "cell_type": "code",
   "execution_count": 330,
   "metadata": {},
   "outputs": [],
   "source": [
    "filename = 'cancer_lr_41s5.sav'\n",
    "pickle.dump(lr_41s5, open(filename, 'wb'))"
   ]
  },
  {
   "cell_type": "code",
   "execution_count": 331,
   "metadata": {},
   "outputs": [],
   "source": [
    "lr_41s6 = linear_model.SGDRegressor(loss='huber', penalty='l2', alpha=0.00001, epsilon=1, random_state=42, \n",
    "                                    learning_rate='constant')"
   ]
  },
  {
   "cell_type": "code",
   "execution_count": 332,
   "metadata": {
    "scrolled": true
   },
   "outputs": [
    {
     "name": "stderr",
     "output_type": "stream",
     "text": [
      "/Users/DanLoew/anaconda3/lib/python3.7/site-packages/sklearn/linear_model/stochastic_gradient.py:166: FutureWarning: max_iter and tol parameters have been added in SGDRegressor in 0.19. If both are left unset, they default to max_iter=5 and tol=None. If tol is not None, max_iter defaults to max_iter=1000. From 0.21, default max_iter will be 1000, and default tol will be 1e-3.\n",
      "  FutureWarning)\n"
     ]
    },
    {
     "data": {
      "text/plain": [
       "SGDRegressor(alpha=1e-05, average=False, early_stopping=False, epsilon=1,\n",
       "       eta0=0.01, fit_intercept=True, l1_ratio=0.15,\n",
       "       learning_rate='constant', loss='huber', max_iter=None, n_iter=None,\n",
       "       n_iter_no_change=5, penalty='l2', power_t=0.25, random_state=42,\n",
       "       shuffle=True, tol=None, validation_fraction=0.1, verbose=0,\n",
       "       warm_start=False)"
      ]
     },
     "execution_count": 332,
     "metadata": {},
     "output_type": "execute_result"
    }
   ],
   "source": [
    "lr_41s6.fit(X_train_scaled, y_train_s)"
   ]
  },
  {
   "cell_type": "code",
   "execution_count": 333,
   "metadata": {
    "scrolled": true
   },
   "outputs": [
    {
     "data": {
      "text/plain": [
       "array([196.18182301, 152.61544007, 173.66795503, 200.3476208 ,\n",
       "       176.22921876, 193.26110174, 149.05750317, 170.02270975,\n",
       "       171.92156287, 179.60373832, 175.85073467, 159.58509667,\n",
       "       173.07216926, 166.20412604, 183.6362625 , 177.06819374,\n",
       "       175.01152875, 181.28460373, 159.58909788, 162.06143811])"
      ]
     },
     "execution_count": 333,
     "metadata": {},
     "output_type": "execute_result"
    }
   ],
   "source": [
    "y_pred_41s6_train = lr_41s6.predict(X_train_scaled)\n",
    "y_pred_41s6_train[0:20]"
   ]
  },
  {
   "cell_type": "code",
   "execution_count": 334,
   "metadata": {
    "scrolled": false
   },
   "outputs": [
    {
     "name": "stdout",
     "output_type": "stream",
     "text": [
      "Training Set R^2: 0.4206135388212725\n",
      "Training Set Root Mean Squared Error: 20.942157899753244\n"
     ]
    }
   ],
   "source": [
    "print(\"Training Set R^2: {}\".format(lr_41s6.score(X_train_scaled, y_train_s)))\n",
    "rmse_41s6_train = np.sqrt(mean_squared_error(y_train_s, y_pred_41s6_train))\n",
    "print(\"Training Set Root Mean Squared Error: {}\".format(rmse_41s6_train))"
   ]
  },
  {
   "cell_type": "code",
   "execution_count": 335,
   "metadata": {
    "scrolled": true
   },
   "outputs": [
    {
     "data": {
      "text/plain": [
       "array([186.03651341, 188.37259424, 213.38207229, 162.27801866,\n",
       "       200.94374487, 163.63153635, 169.61415951, 146.61901694,\n",
       "       193.19095413, 179.93044518, 187.57943826, 168.31514081,\n",
       "       203.28585733, 188.1105665 , 175.15485259, 185.19833949,\n",
       "       194.73443578, 192.33126724, 177.01663535, 196.14257988])"
      ]
     },
     "execution_count": 335,
     "metadata": {},
     "output_type": "execute_result"
    }
   ],
   "source": [
    "y_pred_41s6_test = lr_41s6.predict(X_test_scaled)\n",
    "y_pred_41s6_test[0:20]"
   ]
  },
  {
   "cell_type": "code",
   "execution_count": 336,
   "metadata": {
    "scrolled": false
   },
   "outputs": [
    {
     "name": "stdout",
     "output_type": "stream",
     "text": [
      "Test Set R^2: 0.3809118166931488\n",
      "Test Set Root Mean Squared Error: 22.535091108061813\n"
     ]
    }
   ],
   "source": [
    "print(\"Test Set R^2: {}\".format(lr_41s6.score(X_test_scaled, y_test_s)))\n",
    "rmse_41s6_test = np.sqrt(mean_squared_error(y_test_s, y_pred_41s6_test))\n",
    "print(\"Test Set Root Mean Squared Error: {}\".format(rmse_41s6_test))"
   ]
  },
  {
   "cell_type": "code",
   "execution_count": 337,
   "metadata": {},
   "outputs": [],
   "source": [
    "filename = 'cancer_lr_41s6.sav'\n",
    "pickle.dump(lr_41s6, open(filename, 'wb'))"
   ]
  },
  {
   "cell_type": "code",
   "execution_count": 338,
   "metadata": {},
   "outputs": [],
   "source": [
    "lr_41s7 = linear_model.SGDRegressor(loss='huber', penalty='l2', alpha=0.00001, epsilon=2, random_state=42, \n",
    "                                    learning_rate='constant')"
   ]
  },
  {
   "cell_type": "code",
   "execution_count": 339,
   "metadata": {
    "scrolled": true
   },
   "outputs": [
    {
     "name": "stderr",
     "output_type": "stream",
     "text": [
      "/Users/DanLoew/anaconda3/lib/python3.7/site-packages/sklearn/linear_model/stochastic_gradient.py:166: FutureWarning: max_iter and tol parameters have been added in SGDRegressor in 0.19. If both are left unset, they default to max_iter=5 and tol=None. If tol is not None, max_iter defaults to max_iter=1000. From 0.21, default max_iter will be 1000, and default tol will be 1e-3.\n",
      "  FutureWarning)\n"
     ]
    },
    {
     "data": {
      "text/plain": [
       "SGDRegressor(alpha=1e-05, average=False, early_stopping=False, epsilon=2,\n",
       "       eta0=0.01, fit_intercept=True, l1_ratio=0.15,\n",
       "       learning_rate='constant', loss='huber', max_iter=None, n_iter=None,\n",
       "       n_iter_no_change=5, penalty='l2', power_t=0.25, random_state=42,\n",
       "       shuffle=True, tol=None, validation_fraction=0.1, verbose=0,\n",
       "       warm_start=False)"
      ]
     },
     "execution_count": 339,
     "metadata": {},
     "output_type": "execute_result"
    }
   ],
   "source": [
    "lr_41s7.fit(X_train_scaled, y_train_s)"
   ]
  },
  {
   "cell_type": "code",
   "execution_count": 340,
   "metadata": {
    "scrolled": true
   },
   "outputs": [
    {
     "data": {
      "text/plain": [
       "array([198.90097819, 150.51356069, 172.61810509, 202.23454174,\n",
       "       174.69494165, 195.24695359, 148.08899452, 167.33357459,\n",
       "       173.46076044, 180.22306508, 174.74931923, 159.99922885,\n",
       "       172.88734713, 169.91081714, 184.06997724, 175.72594846,\n",
       "       173.17294702, 179.0313156 , 158.68819296, 162.04702088])"
      ]
     },
     "execution_count": 340,
     "metadata": {},
     "output_type": "execute_result"
    }
   ],
   "source": [
    "y_pred_41s7_train = lr_41s7.predict(X_train_scaled)\n",
    "y_pred_41s7_train[0:20]"
   ]
  },
  {
   "cell_type": "code",
   "execution_count": 341,
   "metadata": {
    "scrolled": false
   },
   "outputs": [
    {
     "name": "stdout",
     "output_type": "stream",
     "text": [
      "Training Set R^2: 0.46165075816685297\n",
      "Training Set Root Mean Squared Error: 20.186885111025234\n"
     ]
    }
   ],
   "source": [
    "print(\"Training Set R^2: {}\".format(lr_41s7.score(X_train_scaled, y_train_s)))\n",
    "rmse_41s7_train = np.sqrt(mean_squared_error(y_train_s, y_pred_41s7_train))\n",
    "print(\"Training Set Root Mean Squared Error: {}\".format(rmse_41s7_train))"
   ]
  },
  {
   "cell_type": "code",
   "execution_count": 342,
   "metadata": {
    "scrolled": true
   },
   "outputs": [
    {
     "data": {
      "text/plain": [
       "array([187.47785389, 191.95091154, 213.18910252, 159.23409623,\n",
       "       203.67791188, 160.77287821, 167.0465279 , 144.06030419,\n",
       "       190.95425565, 180.01173446, 189.38757348, 168.59947973,\n",
       "       207.94775386, 187.62375474, 178.51720319, 183.30556652,\n",
       "       195.1888474 , 190.18958358, 182.29590535, 195.59130865])"
      ]
     },
     "execution_count": 342,
     "metadata": {},
     "output_type": "execute_result"
    }
   ],
   "source": [
    "y_pred_41s7_test = lr_41s7.predict(X_test_scaled)\n",
    "y_pred_41s7_test[0:20]"
   ]
  },
  {
   "cell_type": "code",
   "execution_count": 343,
   "metadata": {
    "scrolled": true
   },
   "outputs": [
    {
     "name": "stdout",
     "output_type": "stream",
     "text": [
      "Test Set R^2: 0.4130132037537061\n",
      "Test Set Root Mean Squared Error: 21.94306184183735\n"
     ]
    }
   ],
   "source": [
    "print(\"Test Set R^2: {}\".format(lr_41s7.score(X_test_scaled, y_test_s)))\n",
    "rmse_41s7_test = np.sqrt(mean_squared_error(y_test_s, y_pred_41s7_test))\n",
    "print(\"Test Set Root Mean Squared Error: {}\".format(rmse_41s7_test))"
   ]
  },
  {
   "cell_type": "code",
   "execution_count": 344,
   "metadata": {},
   "outputs": [],
   "source": [
    "filename = 'cancer_lr_41s7.sav'\n",
    "pickle.dump(lr_41s7, open(filename, 'wb'))"
   ]
  },
  {
   "cell_type": "code",
   "execution_count": 345,
   "metadata": {},
   "outputs": [],
   "source": [
    "lr_41s8 = linear_model.SGDRegressor(loss='huber', penalty='l2', alpha=0.00001, epsilon=4, random_state=42, \n",
    "                                    learning_rate='constant')"
   ]
  },
  {
   "cell_type": "code",
   "execution_count": 346,
   "metadata": {
    "scrolled": true
   },
   "outputs": [
    {
     "name": "stderr",
     "output_type": "stream",
     "text": [
      "/Users/DanLoew/anaconda3/lib/python3.7/site-packages/sklearn/linear_model/stochastic_gradient.py:166: FutureWarning: max_iter and tol parameters have been added in SGDRegressor in 0.19. If both are left unset, they default to max_iter=5 and tol=None. If tol is not None, max_iter defaults to max_iter=1000. From 0.21, default max_iter will be 1000, and default tol will be 1e-3.\n",
      "  FutureWarning)\n"
     ]
    },
    {
     "data": {
      "text/plain": [
       "SGDRegressor(alpha=1e-05, average=False, early_stopping=False, epsilon=4,\n",
       "       eta0=0.01, fit_intercept=True, l1_ratio=0.15,\n",
       "       learning_rate='constant', loss='huber', max_iter=None, n_iter=None,\n",
       "       n_iter_no_change=5, penalty='l2', power_t=0.25, random_state=42,\n",
       "       shuffle=True, tol=None, validation_fraction=0.1, verbose=0,\n",
       "       warm_start=False)"
      ]
     },
     "execution_count": 346,
     "metadata": {},
     "output_type": "execute_result"
    }
   ],
   "source": [
    "lr_41s8.fit(X_train_scaled, y_train_s)"
   ]
  },
  {
   "cell_type": "code",
   "execution_count": 347,
   "metadata": {
    "scrolled": true
   },
   "outputs": [
    {
     "data": {
      "text/plain": [
       "array([200.20357804, 150.01196937, 171.22852052, 204.10369979,\n",
       "       176.27434022, 199.21978753, 148.50743242, 166.24451359,\n",
       "       174.67746602, 181.73379552, 173.7613069 , 159.47729496,\n",
       "       171.61394205, 170.17109202, 183.93444799, 172.37438723,\n",
       "       171.04231016, 175.71269449, 158.05315841, 163.8410476 ])"
      ]
     },
     "execution_count": 347,
     "metadata": {},
     "output_type": "execute_result"
    }
   ],
   "source": [
    "y_pred_41s8_train = lr_41s8.predict(X_train_scaled)\n",
    "y_pred_41s8_train[0:20]"
   ]
  },
  {
   "cell_type": "code",
   "execution_count": 348,
   "metadata": {
    "scrolled": false
   },
   "outputs": [
    {
     "name": "stdout",
     "output_type": "stream",
     "text": [
      "Training Set R^2: 0.49296482264385066\n",
      "Training Set Root Mean Squared Error: 19.59098643928991\n"
     ]
    }
   ],
   "source": [
    "print(\"Training Set R^2: {}\".format(lr_41s8.score(X_train_scaled, y_train_s)))\n",
    "rmse_41s8_train = np.sqrt(mean_squared_error(y_train_s, y_pred_41s8_train))\n",
    "print(\"Training Set Root Mean Squared Error: {}\".format(rmse_41s8_train))"
   ]
  },
  {
   "cell_type": "code",
   "execution_count": 349,
   "metadata": {
    "scrolled": true
   },
   "outputs": [
    {
     "data": {
      "text/plain": [
       "array([187.55420366, 192.2662746 , 209.32932113, 157.28477126,\n",
       "       207.13563297, 157.78631215, 164.34874648, 143.8887776 ,\n",
       "       186.55793889, 175.01054358, 190.59382506, 167.57650407,\n",
       "       206.19672682, 186.75084471, 179.07783728, 181.62792944,\n",
       "       194.24771332, 188.33714196, 184.35851942, 193.26825675])"
      ]
     },
     "execution_count": 349,
     "metadata": {},
     "output_type": "execute_result"
    }
   ],
   "source": [
    "y_pred_41s8_test = lr_41s8.predict(X_test_scaled)\n",
    "y_pred_41s8_test[0:20]"
   ]
  },
  {
   "cell_type": "code",
   "execution_count": 350,
   "metadata": {
    "scrolled": true
   },
   "outputs": [
    {
     "name": "stdout",
     "output_type": "stream",
     "text": [
      "Test Set R^2: 0.44719633267733583\n",
      "Test Set Root Mean Squared Error: 21.294552538172667\n"
     ]
    }
   ],
   "source": [
    "print(\"Test Set R^2: {}\".format(lr_41s8.score(X_test_scaled, y_test_s)))\n",
    "rmse_41s8_test = np.sqrt(mean_squared_error(y_test_s, y_pred_41s8_test))\n",
    "print(\"Test Set Root Mean Squared Error: {}\".format(rmse_41s8_test))"
   ]
  },
  {
   "cell_type": "code",
   "execution_count": 351,
   "metadata": {},
   "outputs": [],
   "source": [
    "filename = 'cancer_lr_41s8.sav'\n",
    "pickle.dump(lr_41s8, open(filename, 'wb'))"
   ]
  },
  {
   "cell_type": "code",
   "execution_count": 352,
   "metadata": {},
   "outputs": [],
   "source": [
    "lr_41s9 = linear_model.SGDRegressor(loss='huber', penalty='l2', alpha=0.00001, epsilon=32, random_state=42, \n",
    "                                    learning_rate='constant')"
   ]
  },
  {
   "cell_type": "code",
   "execution_count": 353,
   "metadata": {
    "scrolled": true
   },
   "outputs": [
    {
     "name": "stderr",
     "output_type": "stream",
     "text": [
      "/Users/DanLoew/anaconda3/lib/python3.7/site-packages/sklearn/linear_model/stochastic_gradient.py:166: FutureWarning: max_iter and tol parameters have been added in SGDRegressor in 0.19. If both are left unset, they default to max_iter=5 and tol=None. If tol is not None, max_iter defaults to max_iter=1000. From 0.21, default max_iter will be 1000, and default tol will be 1e-3.\n",
      "  FutureWarning)\n"
     ]
    },
    {
     "data": {
      "text/plain": [
       "SGDRegressor(alpha=1e-05, average=False, early_stopping=False, epsilon=32,\n",
       "       eta0=0.01, fit_intercept=True, l1_ratio=0.15,\n",
       "       learning_rate='constant', loss='huber', max_iter=None, n_iter=None,\n",
       "       n_iter_no_change=5, penalty='l2', power_t=0.25, random_state=42,\n",
       "       shuffle=True, tol=None, validation_fraction=0.1, verbose=0,\n",
       "       warm_start=False)"
      ]
     },
     "execution_count": 353,
     "metadata": {},
     "output_type": "execute_result"
    }
   ],
   "source": [
    "lr_41s9.fit(X_train_scaled, y_train_s)"
   ]
  },
  {
   "cell_type": "code",
   "execution_count": 354,
   "metadata": {
    "scrolled": true
   },
   "outputs": [
    {
     "data": {
      "text/plain": [
       "array([181.04619442, 137.15588671, 167.74752665, 204.12943707,\n",
       "       169.49132355, 193.30523241, 139.39724889, 145.64053556,\n",
       "       175.85370772, 177.70423555, 164.98799653, 148.1584993 ,\n",
       "       163.20728793, 156.88892419, 184.45859171, 161.20941326,\n",
       "       157.37694967, 170.84158133, 145.85965214, 162.82957853])"
      ]
     },
     "execution_count": 354,
     "metadata": {},
     "output_type": "execute_result"
    }
   ],
   "source": [
    "y_pred_41s9_train = lr_41s9.predict(X_train_scaled)\n",
    "y_pred_41s9_train[0:20]"
   ]
  },
  {
   "cell_type": "code",
   "execution_count": 355,
   "metadata": {
    "scrolled": false
   },
   "outputs": [
    {
     "name": "stdout",
     "output_type": "stream",
     "text": [
      "Training Set R^2: 0.3875345989188239\n",
      "Training Set Root Mean Squared Error: 21.53168603014946\n"
     ]
    }
   ],
   "source": [
    "print(\"Training Set R^2: {}\".format(lr_41s9.score(X_train_scaled, y_train_s)))\n",
    "rmse_41s9_train = np.sqrt(mean_squared_error(y_train_s, y_pred_41s9_train))\n",
    "print(\"Training Set Root Mean Squared Error: {}\".format(rmse_41s9_train))"
   ]
  },
  {
   "cell_type": "code",
   "execution_count": 356,
   "metadata": {
    "scrolled": true
   },
   "outputs": [
    {
     "data": {
      "text/plain": [
       "array([186.18516094, 189.00890108, 196.80158989, 155.50792702,\n",
       "       204.57481786, 153.90339677, 150.97174973, 126.93107537,\n",
       "       176.98155723, 121.85957568, 188.80692317, 156.65136328,\n",
       "       195.6094302 , 183.05002903, 173.01828693, 180.42158432,\n",
       "       191.45418891, 180.09646177, 171.26423422, 189.49450462])"
      ]
     },
     "execution_count": 356,
     "metadata": {},
     "output_type": "execute_result"
    }
   ],
   "source": [
    "y_pred_41s9_test = lr_41s9.predict(X_test_scaled)\n",
    "y_pred_41s9_test[0:20]"
   ]
  },
  {
   "cell_type": "code",
   "execution_count": 357,
   "metadata": {
    "scrolled": true
   },
   "outputs": [
    {
     "name": "stdout",
     "output_type": "stream",
     "text": [
      "Test Set R^2: 0.38006043265959444\n",
      "Test Set Root Mean Squared Error: 22.55058116711339\n"
     ]
    }
   ],
   "source": [
    "print(\"Test Set R^2: {}\".format(lr_41s9.score(X_test_scaled, y_test_s)))\n",
    "rmse_41s9_test = np.sqrt(mean_squared_error(y_test_s, y_pred_41s9_test))\n",
    "print(\"Test Set Root Mean Squared Error: {}\".format(rmse_41s9_test))"
   ]
  },
  {
   "cell_type": "code",
   "execution_count": 358,
   "metadata": {},
   "outputs": [],
   "source": [
    "filename = 'cancer_lr_41s9.sav'\n",
    "pickle.dump(lr_41s9, open(filename, 'wb'))"
   ]
  },
  {
   "cell_type": "code",
   "execution_count": 366,
   "metadata": {},
   "outputs": [],
   "source": [
    "lr_41s10 = linear_model.SGDRegressor(loss='huber', penalty='l2', alpha=0.00001, epsilon=18, random_state=42, \n",
    "                                     learning_rate='constant')"
   ]
  },
  {
   "cell_type": "code",
   "execution_count": 367,
   "metadata": {
    "scrolled": true
   },
   "outputs": [
    {
     "name": "stderr",
     "output_type": "stream",
     "text": [
      "/Users/DanLoew/anaconda3/lib/python3.7/site-packages/sklearn/linear_model/stochastic_gradient.py:166: FutureWarning: max_iter and tol parameters have been added in SGDRegressor in 0.19. If both are left unset, they default to max_iter=5 and tol=None. If tol is not None, max_iter defaults to max_iter=1000. From 0.21, default max_iter will be 1000, and default tol will be 1e-3.\n",
      "  FutureWarning)\n"
     ]
    },
    {
     "data": {
      "text/plain": [
       "SGDRegressor(alpha=1e-05, average=False, early_stopping=False, epsilon=18,\n",
       "       eta0=0.01, fit_intercept=True, l1_ratio=0.15,\n",
       "       learning_rate='constant', loss='huber', max_iter=None, n_iter=None,\n",
       "       n_iter_no_change=5, penalty='l2', power_t=0.25, random_state=42,\n",
       "       shuffle=True, tol=None, validation_fraction=0.1, verbose=0,\n",
       "       warm_start=False)"
      ]
     },
     "execution_count": 367,
     "metadata": {},
     "output_type": "execute_result"
    }
   ],
   "source": [
    "lr_41s10.fit(X_train_scaled, y_train_s)"
   ]
  },
  {
   "cell_type": "code",
   "execution_count": 368,
   "metadata": {
    "scrolled": true
   },
   "outputs": [
    {
     "data": {
      "text/plain": [
       "array([187.10244013, 141.71967954, 169.56652979, 204.27672484,\n",
       "       172.19934399, 198.44351467, 144.22450857, 153.65255778,\n",
       "       176.0708845 , 179.6412929 , 167.88069925, 153.56365755,\n",
       "       165.84541741, 162.63088279, 184.71914849, 164.44860444,\n",
       "       162.68941231, 171.00413299, 149.94360766, 163.79275696])"
      ]
     },
     "execution_count": 368,
     "metadata": {},
     "output_type": "execute_result"
    }
   ],
   "source": [
    "y_pred_41s10_train = lr_41s10.predict(X_train_scaled)\n",
    "y_pred_41s10_train[0:20]"
   ]
  },
  {
   "cell_type": "code",
   "execution_count": 369,
   "metadata": {
    "scrolled": false
   },
   "outputs": [
    {
     "name": "stdout",
     "output_type": "stream",
     "text": [
      "Training Set R^2: 0.4705582106134505\n",
      "Training Set Root Mean Squared Error: 20.01918381590762\n"
     ]
    }
   ],
   "source": [
    "print(\"Training Set R^2: {}\".format(lr_41s10.score(X_train_scaled, y_train_s)))\n",
    "rmse_41s10_train = np.sqrt(mean_squared_error(y_train_s, y_pred_41s10_train))\n",
    "print(\"Training Set Root Mean Squared Error: {}\".format(rmse_41s10_train))"
   ]
  },
  {
   "cell_type": "code",
   "execution_count": 370,
   "metadata": {
    "scrolled": true
   },
   "outputs": [
    {
     "data": {
      "text/plain": [
       "array([186.91642668, 189.83124149, 199.45158495, 156.22806614,\n",
       "       206.87613869, 155.74678228, 153.76214382, 132.69566496,\n",
       "       178.84726629, 140.07504041, 190.16936954, 160.08252137,\n",
       "       199.62307257, 183.92143297, 175.93809709, 182.01842011,\n",
       "       193.50187239, 182.71982159, 176.4270832 , 190.20155366])"
      ]
     },
     "execution_count": 370,
     "metadata": {},
     "output_type": "execute_result"
    }
   ],
   "source": [
    "y_pred_41s10_test = lr_41s10.predict(X_test_scaled)\n",
    "y_pred_41s10_test[0:20]"
   ]
  },
  {
   "cell_type": "code",
   "execution_count": 371,
   "metadata": {
    "scrolled": true
   },
   "outputs": [
    {
     "name": "stdout",
     "output_type": "stream",
     "text": [
      "Test Set R^2: 0.4514946270789109\n",
      "Test Set Root Mean Squared Error: 21.21160367351703\n"
     ]
    }
   ],
   "source": [
    "print(\"Test Set R^2: {}\".format(lr_41s10.score(X_test_scaled, y_test_s)))\n",
    "rmse_41s10_test = np.sqrt(mean_squared_error(y_test_s, y_pred_41s10_test))\n",
    "print(\"Test Set Root Mean Squared Error: {}\".format(rmse_41s10_test))"
   ]
  },
  {
   "cell_type": "code",
   "execution_count": 372,
   "metadata": {},
   "outputs": [],
   "source": [
    "filename = 'cancer_lr_41s10.sav'\n",
    "pickle.dump(lr_41s10, open(filename, 'wb'))"
   ]
  },
  {
   "cell_type": "code",
   "execution_count": 373,
   "metadata": {},
   "outputs": [],
   "source": [
    "lr_41s11 = linear_model.SGDRegressor(loss='huber', penalty='l2', alpha=0.00001, epsilon=11, random_state=42, \n",
    "                                     learning_rate='constant')"
   ]
  },
  {
   "cell_type": "code",
   "execution_count": 374,
   "metadata": {
    "scrolled": false
   },
   "outputs": [
    {
     "name": "stderr",
     "output_type": "stream",
     "text": [
      "/Users/DanLoew/anaconda3/lib/python3.7/site-packages/sklearn/linear_model/stochastic_gradient.py:166: FutureWarning: max_iter and tol parameters have been added in SGDRegressor in 0.19. If both are left unset, they default to max_iter=5 and tol=None. If tol is not None, max_iter defaults to max_iter=1000. From 0.21, default max_iter will be 1000, and default tol will be 1e-3.\n",
      "  FutureWarning)\n"
     ]
    },
    {
     "data": {
      "text/plain": [
       "SGDRegressor(alpha=1e-05, average=False, early_stopping=False, epsilon=11,\n",
       "       eta0=0.01, fit_intercept=True, l1_ratio=0.15,\n",
       "       learning_rate='constant', loss='huber', max_iter=None, n_iter=None,\n",
       "       n_iter_no_change=5, penalty='l2', power_t=0.25, random_state=42,\n",
       "       shuffle=True, tol=None, validation_fraction=0.1, verbose=0,\n",
       "       warm_start=False)"
      ]
     },
     "execution_count": 374,
     "metadata": {},
     "output_type": "execute_result"
    }
   ],
   "source": [
    "lr_41s11.fit(X_train_scaled, y_train_s)"
   ]
  },
  {
   "cell_type": "code",
   "execution_count": 375,
   "metadata": {
    "scrolled": true
   },
   "outputs": [
    {
     "data": {
      "text/plain": [
       "array([190.70864788, 142.83149068, 168.27061274, 203.70121891,\n",
       "       173.08551643, 200.4899486 , 145.27700878, 157.12711699,\n",
       "       174.53354824, 179.32048766, 167.34867812, 155.32835185,\n",
       "       166.11406619, 164.75705354, 182.60223507, 165.82667003,\n",
       "       164.71427041, 169.94212315, 153.14826539, 163.10353653])"
      ]
     },
     "execution_count": 375,
     "metadata": {},
     "output_type": "execute_result"
    }
   ],
   "source": [
    "y_pred_41s11_train = lr_41s11.predict(X_train_scaled)\n",
    "y_pred_41s11_train[0:20]"
   ]
  },
  {
   "cell_type": "code",
   "execution_count": 376,
   "metadata": {
    "scrolled": false
   },
   "outputs": [
    {
     "name": "stdout",
     "output_type": "stream",
     "text": [
      "Training Set R^2: 0.4717489587881277\n",
      "Training Set Root Mean Squared Error: 19.996658936549938\n"
     ]
    }
   ],
   "source": [
    "print(\"Training Set R^2: {}\".format(lr_41s11.score(X_train_scaled, y_train_s)))\n",
    "rmse_41s11_train = np.sqrt(mean_squared_error(y_train_s, y_pred_41s11_train))\n",
    "print(\"Training Set Root Mean Squared Error: {}\".format(rmse_41s11_train))"
   ]
  },
  {
   "cell_type": "code",
   "execution_count": 377,
   "metadata": {
    "scrolled": true
   },
   "outputs": [
    {
     "data": {
      "text/plain": [
       "array([185.94968412, 189.83860271, 200.71841074, 154.39407758,\n",
       "       207.45913295, 155.4790971 , 155.83754966, 136.12647704,\n",
       "       178.86405821, 151.33252796, 189.037271  , 161.24829825,\n",
       "       202.16334264, 183.13091943, 176.70682253, 180.4902986 ,\n",
       "       193.03845981, 183.71499763, 179.47562066, 189.21273154])"
      ]
     },
     "execution_count": 377,
     "metadata": {},
     "output_type": "execute_result"
    }
   ],
   "source": [
    "y_pred_41s11_test = lr_41s11.predict(X_test_scaled)\n",
    "y_pred_41s11_test[0:20]"
   ]
  },
  {
   "cell_type": "code",
   "execution_count": 378,
   "metadata": {
    "scrolled": true
   },
   "outputs": [
    {
     "name": "stdout",
     "output_type": "stream",
     "text": [
      "Test Set R^2: 0.44558502710789427\n",
      "Test Set Root Mean Squared Error: 21.325564510802476\n"
     ]
    }
   ],
   "source": [
    "print(\"Test Set R^2: {}\".format(lr_41s11.score(X_test_scaled, y_test_s)))\n",
    "rmse_41s11_test = np.sqrt(mean_squared_error(y_test_s, y_pred_41s11_test))\n",
    "print(\"Test Set Root Mean Squared Error: {}\".format(rmse_41s11_test))"
   ]
  },
  {
   "cell_type": "code",
   "execution_count": 379,
   "metadata": {},
   "outputs": [],
   "source": [
    "filename = 'cancer_lr_41s11.sav'\n",
    "pickle.dump(lr_41s11, open(filename, 'wb'))"
   ]
  },
  {
   "cell_type": "code",
   "execution_count": 387,
   "metadata": {},
   "outputs": [],
   "source": [
    "lr_41s12 = linear_model.SGDRegressor(loss='huber', penalty='l2', alpha=0.00001, epsilon=5, random_state=42, \n",
    "                                     learning_rate='constant')"
   ]
  },
  {
   "cell_type": "code",
   "execution_count": 388,
   "metadata": {
    "scrolled": false
   },
   "outputs": [
    {
     "name": "stderr",
     "output_type": "stream",
     "text": [
      "/Users/DanLoew/anaconda3/lib/python3.7/site-packages/sklearn/linear_model/stochastic_gradient.py:166: FutureWarning: max_iter and tol parameters have been added in SGDRegressor in 0.19. If both are left unset, they default to max_iter=5 and tol=None. If tol is not None, max_iter defaults to max_iter=1000. From 0.21, default max_iter will be 1000, and default tol will be 1e-3.\n",
      "  FutureWarning)\n"
     ]
    },
    {
     "data": {
      "text/plain": [
       "SGDRegressor(alpha=1e-05, average=False, early_stopping=False, epsilon=5,\n",
       "       eta0=0.01, fit_intercept=True, l1_ratio=0.15,\n",
       "       learning_rate='constant', loss='huber', max_iter=None, n_iter=None,\n",
       "       n_iter_no_change=5, penalty='l2', power_t=0.25, random_state=42,\n",
       "       shuffle=True, tol=None, validation_fraction=0.1, verbose=0,\n",
       "       warm_start=False)"
      ]
     },
     "execution_count": 388,
     "metadata": {},
     "output_type": "execute_result"
    }
   ],
   "source": [
    "lr_41s12.fit(X_train_scaled, y_train_s)"
   ]
  },
  {
   "cell_type": "code",
   "execution_count": 389,
   "metadata": {
    "scrolled": true
   },
   "outputs": [
    {
     "data": {
      "text/plain": [
       "array([199.60403564, 149.31449397, 170.83052894, 204.90222745,\n",
       "       176.5006574 , 200.88839296, 148.42048183, 165.90346606,\n",
       "       174.93191556, 181.86707625, 173.20319124, 159.31582803,\n",
       "       170.73716174, 169.74262175, 183.77570712, 171.12416518,\n",
       "       170.54471875, 174.43649684, 157.6922754 , 164.31461178])"
      ]
     },
     "execution_count": 389,
     "metadata": {},
     "output_type": "execute_result"
    }
   ],
   "source": [
    "y_pred_41s12_train = lr_41s12.predict(X_train_scaled)\n",
    "y_pred_41s12_train[0:20]"
   ]
  },
  {
   "cell_type": "code",
   "execution_count": 390,
   "metadata": {
    "scrolled": true
   },
   "outputs": [
    {
     "name": "stdout",
     "output_type": "stream",
     "text": [
      "Training Set R^2: 0.49995016055950314\n",
      "Training Set Root Mean Squared Error: 19.45556755695575\n"
     ]
    }
   ],
   "source": [
    "print(\"Training Set R^2: {}\".format(lr_41s12.score(X_train_scaled, y_train_s)))\n",
    "rmse_41s12_train = np.sqrt(mean_squared_error(y_train_s, y_pred_41s12_train))\n",
    "print(\"Training Set Root Mean Squared Error: {}\".format(rmse_41s12_train))"
   ]
  },
  {
   "cell_type": "code",
   "execution_count": 391,
   "metadata": {
    "scrolled": true
   },
   "outputs": [
    {
     "data": {
      "text/plain": [
       "array([187.44922645, 191.88714479, 207.85301059, 156.55632914,\n",
       "       208.36072627, 157.47828672, 163.24631122, 143.49571833,\n",
       "       185.03202697, 172.15281341, 190.67048716, 166.64707786,\n",
       "       205.71467466, 186.05463751, 178.93447221, 181.33480878,\n",
       "       193.95221883, 187.86796299, 184.48593717, 192.55298393])"
      ]
     },
     "execution_count": 391,
     "metadata": {},
     "output_type": "execute_result"
    }
   ],
   "source": [
    "y_pred_41s12_test = lr_41s12.predict(X_test_scaled)\n",
    "y_pred_41s12_test[0:20]"
   ]
  },
  {
   "cell_type": "code",
   "execution_count": 392,
   "metadata": {
    "scrolled": true
   },
   "outputs": [
    {
     "name": "stdout",
     "output_type": "stream",
     "text": [
      "Test Set R^2: 0.456304140786877\n",
      "Test Set Root Mean Squared Error: 21.118403021289645\n"
     ]
    }
   ],
   "source": [
    "print(\"Test Set R^2: {}\".format(lr_41s12.score(X_test_scaled, y_test_s)))\n",
    "rmse_41s12_test = np.sqrt(mean_squared_error(y_test_s, y_pred_41s12_test))\n",
    "print(\"Test Set Root Mean Squared Error: {}\".format(rmse_41s12_test))"
   ]
  },
  {
   "cell_type": "code",
   "execution_count": 393,
   "metadata": {},
   "outputs": [],
   "source": [
    "filename = 'cancer_lr_41s12.sav'\n",
    "pickle.dump(lr_41s12, open(filename, 'wb'))"
   ]
  },
  {
   "cell_type": "code",
   "execution_count": 394,
   "metadata": {},
   "outputs": [],
   "source": [
    "lr_41s13 = linear_model.SGDRegressor(loss='huber', penalty='l1', alpha=0.00001, epsilon=5, random_state=42, \n",
    "                                     learning_rate='constant')"
   ]
  },
  {
   "cell_type": "code",
   "execution_count": 395,
   "metadata": {
    "scrolled": false
   },
   "outputs": [
    {
     "name": "stderr",
     "output_type": "stream",
     "text": [
      "/Users/DanLoew/anaconda3/lib/python3.7/site-packages/sklearn/linear_model/stochastic_gradient.py:166: FutureWarning: max_iter and tol parameters have been added in SGDRegressor in 0.19. If both are left unset, they default to max_iter=5 and tol=None. If tol is not None, max_iter defaults to max_iter=1000. From 0.21, default max_iter will be 1000, and default tol will be 1e-3.\n",
      "  FutureWarning)\n"
     ]
    },
    {
     "data": {
      "text/plain": [
       "SGDRegressor(alpha=1e-05, average=False, early_stopping=False, epsilon=5,\n",
       "       eta0=0.01, fit_intercept=True, l1_ratio=0.15,\n",
       "       learning_rate='constant', loss='huber', max_iter=None, n_iter=None,\n",
       "       n_iter_no_change=5, penalty='l1', power_t=0.25, random_state=42,\n",
       "       shuffle=True, tol=None, validation_fraction=0.1, verbose=0,\n",
       "       warm_start=False)"
      ]
     },
     "execution_count": 395,
     "metadata": {},
     "output_type": "execute_result"
    }
   ],
   "source": [
    "lr_41s13.fit(X_train_scaled, y_train_s)"
   ]
  },
  {
   "cell_type": "code",
   "execution_count": 396,
   "metadata": {
    "scrolled": true
   },
   "outputs": [
    {
     "data": {
      "text/plain": [
       "array([199.61823697, 149.31370015, 170.83109317, 204.9123623 ,\n",
       "       176.50007085, 200.90042478, 148.42151949, 165.91632103,\n",
       "       174.9329358 , 181.86652305, 173.20465206, 159.32360659,\n",
       "       170.73627753, 169.74846037, 183.77805766, 171.12445931,\n",
       "       170.55290191, 174.43476008, 157.68794309, 164.31361626])"
      ]
     },
     "execution_count": 396,
     "metadata": {},
     "output_type": "execute_result"
    }
   ],
   "source": [
    "y_pred_41s13_train = lr_41s13.predict(X_train_scaled)\n",
    "y_pred_41s13_train[0:20]"
   ]
  },
  {
   "cell_type": "code",
   "execution_count": 397,
   "metadata": {
    "scrolled": true
   },
   "outputs": [
    {
     "name": "stdout",
     "output_type": "stream",
     "text": [
      "Training Set R^2: 0.5000075200411056\n",
      "Training Set Root Mean Squared Error: 19.45445167491215\n"
     ]
    }
   ],
   "source": [
    "print(\"Training Set R^2: {}\".format(lr_41s13.score(X_train_scaled, y_train_s)))\n",
    "rmse_41s13_train = np.sqrt(mean_squared_error(y_train_s, y_pred_41s13_train))\n",
    "print(\"Training Set Root Mean Squared Error: {}\".format(rmse_41s13_train))"
   ]
  },
  {
   "cell_type": "code",
   "execution_count": 398,
   "metadata": {
    "scrolled": true
   },
   "outputs": [
    {
     "data": {
      "text/plain": [
       "array([187.45200438, 191.89272283, 207.8589527 , 156.5536868 ,\n",
       "       208.37076172, 157.47514462, 163.24150369, 143.49370024,\n",
       "       185.03273023, 172.16796816, 190.67237648, 166.64449559,\n",
       "       205.72355719, 186.05435326, 178.93743657, 181.33452813,\n",
       "       193.95879634, 187.87504993, 184.50094902, 192.55785366])"
      ]
     },
     "execution_count": 398,
     "metadata": {},
     "output_type": "execute_result"
    }
   ],
   "source": [
    "y_pred_41s13_test = lr_41s13.predict(X_test_scaled)\n",
    "y_pred_41s13_test[0:20]"
   ]
  },
  {
   "cell_type": "code",
   "execution_count": 399,
   "metadata": {
    "scrolled": true
   },
   "outputs": [
    {
     "name": "stdout",
     "output_type": "stream",
     "text": [
      "Test Set R^2: 0.4563483326879759\n",
      "Test Set Root Mean Squared Error: 21.117544746091607\n"
     ]
    }
   ],
   "source": [
    "print(\"Test Set R^2: {}\".format(lr_41s13.score(X_test_scaled, y_test_s)))\n",
    "rmse_41s13_test = np.sqrt(mean_squared_error(y_test_s, y_pred_41s13_test))\n",
    "print(\"Test Set Root Mean Squared Error: {}\".format(rmse_41s13_test))"
   ]
  },
  {
   "cell_type": "code",
   "execution_count": 400,
   "metadata": {},
   "outputs": [],
   "source": [
    "filename = 'cancer_lr_41s13.sav'\n",
    "pickle.dump(lr_41s13, open(filename, 'wb'))"
   ]
  },
  {
   "cell_type": "code",
   "execution_count": 401,
   "metadata": {},
   "outputs": [],
   "source": [
    "lr_41s14 = linear_model.SGDRegressor(loss='huber', penalty='l2', alpha=0.001, epsilon=5, random_state=42, \n",
    "                                     learning_rate='constant')"
   ]
  },
  {
   "cell_type": "code",
   "execution_count": 402,
   "metadata": {
    "scrolled": true
   },
   "outputs": [
    {
     "name": "stderr",
     "output_type": "stream",
     "text": [
      "/Users/DanLoew/anaconda3/lib/python3.7/site-packages/sklearn/linear_model/stochastic_gradient.py:166: FutureWarning: max_iter and tol parameters have been added in SGDRegressor in 0.19. If both are left unset, they default to max_iter=5 and tol=None. If tol is not None, max_iter defaults to max_iter=1000. From 0.21, default max_iter will be 1000, and default tol will be 1e-3.\n",
      "  FutureWarning)\n"
     ]
    },
    {
     "data": {
      "text/plain": [
       "SGDRegressor(alpha=0.001, average=False, early_stopping=False, epsilon=5,\n",
       "       eta0=0.01, fit_intercept=True, l1_ratio=0.15,\n",
       "       learning_rate='constant', loss='huber', max_iter=None, n_iter=None,\n",
       "       n_iter_no_change=5, penalty='l2', power_t=0.25, random_state=42,\n",
       "       shuffle=True, tol=None, validation_fraction=0.1, verbose=0,\n",
       "       warm_start=False)"
      ]
     },
     "execution_count": 402,
     "metadata": {},
     "output_type": "execute_result"
    }
   ],
   "source": [
    "lr_41s14.fit(X_train_scaled, y_train_s)"
   ]
  },
  {
   "cell_type": "code",
   "execution_count": 403,
   "metadata": {
    "scrolled": true
   },
   "outputs": [
    {
     "data": {
      "text/plain": [
       "array([199.22601154, 149.31775344, 170.77202201, 204.19270951,\n",
       "       176.21696283, 200.15547001, 148.24993818, 165.85202585,\n",
       "       174.61220419, 181.55561673, 173.15294788, 159.25444961,\n",
       "       170.8183172 , 169.35880672, 183.50008509, 171.2413688 ,\n",
       "       170.60071801, 174.60296398, 157.72150084, 164.08870665])"
      ]
     },
     "execution_count": 403,
     "metadata": {},
     "output_type": "execute_result"
    }
   ],
   "source": [
    "y_pred_41s14_train = lr_41s14.predict(X_train_scaled)\n",
    "y_pred_41s14_train[0:20]"
   ]
  },
  {
   "cell_type": "code",
   "execution_count": 404,
   "metadata": {
    "scrolled": true
   },
   "outputs": [
    {
     "name": "stdout",
     "output_type": "stream",
     "text": [
      "Training Set R^2: 0.4958581859237848\n",
      "Training Set Root Mean Squared Error: 19.53500912200216\n"
     ]
    }
   ],
   "source": [
    "print(\"Training Set R^2: {}\".format(lr_41s14.score(X_train_scaled, y_train_s)))\n",
    "rmse_41s14_train = np.sqrt(mean_squared_error(y_train_s, y_pred_41s14_train))\n",
    "print(\"Training Set Root Mean Squared Error: {}\".format(rmse_41s14_train))"
   ]
  },
  {
   "cell_type": "code",
   "execution_count": 405,
   "metadata": {
    "scrolled": true
   },
   "outputs": [
    {
     "data": {
      "text/plain": [
       "array([187.09724218, 191.51906079, 207.75511492, 156.65603946,\n",
       "       207.75403869, 157.70794829, 163.49421328, 143.52777852,\n",
       "       185.21033202, 171.92115421, 190.1093814 , 166.81988971,\n",
       "       205.22206371, 185.98194792, 178.51128204, 181.17374794,\n",
       "       193.58536468, 187.96779335, 183.97311622, 192.34548205])"
      ]
     },
     "execution_count": 405,
     "metadata": {},
     "output_type": "execute_result"
    }
   ],
   "source": [
    "y_pred_41s14_test = lr_41s14.predict(X_test_scaled)\n",
    "y_pred_41s14_test[0:20]"
   ]
  },
  {
   "cell_type": "code",
   "execution_count": 406,
   "metadata": {
    "scrolled": true
   },
   "outputs": [
    {
     "name": "stdout",
     "output_type": "stream",
     "text": [
      "Test Set R^2: 0.4517537359753423\n",
      "Test Set Root Mean Squared Error: 21.206592998396346\n"
     ]
    }
   ],
   "source": [
    "print(\"Test Set R^2: {}\".format(lr_41s14.score(X_test_scaled, y_test_s)))\n",
    "rmse_41s14_test = np.sqrt(mean_squared_error(y_test_s, y_pred_41s14_test))\n",
    "print(\"Test Set Root Mean Squared Error: {}\".format(rmse_41s14_test))"
   ]
  },
  {
   "cell_type": "code",
   "execution_count": 407,
   "metadata": {},
   "outputs": [],
   "source": [
    "filename = 'cancer_lr_41s14.sav'\n",
    "pickle.dump(lr_41s14, open(filename, 'wb'))"
   ]
  },
  {
   "cell_type": "code",
   "execution_count": 408,
   "metadata": {},
   "outputs": [],
   "source": [
    "lr_41s15 = linear_model.SGDRegressor(loss='huber', penalty='l2', alpha=0.00001, epsilon=5, random_state=42, \n",
    "                                     learning_rate='constant', eta0=0.1)"
   ]
  },
  {
   "cell_type": "code",
   "execution_count": 409,
   "metadata": {
    "scrolled": true
   },
   "outputs": [
    {
     "name": "stderr",
     "output_type": "stream",
     "text": [
      "/Users/DanLoew/anaconda3/lib/python3.7/site-packages/sklearn/linear_model/stochastic_gradient.py:166: FutureWarning: max_iter and tol parameters have been added in SGDRegressor in 0.19. If both are left unset, they default to max_iter=5 and tol=None. If tol is not None, max_iter defaults to max_iter=1000. From 0.21, default max_iter will be 1000, and default tol will be 1e-3.\n",
      "  FutureWarning)\n"
     ]
    },
    {
     "data": {
      "text/plain": [
       "SGDRegressor(alpha=1e-05, average=False, early_stopping=False, epsilon=5,\n",
       "       eta0=0.1, fit_intercept=True, l1_ratio=0.15,\n",
       "       learning_rate='constant', loss='huber', max_iter=None, n_iter=None,\n",
       "       n_iter_no_change=5, penalty='l2', power_t=0.25, random_state=42,\n",
       "       shuffle=True, tol=None, validation_fraction=0.1, verbose=0,\n",
       "       warm_start=False)"
      ]
     },
     "execution_count": 409,
     "metadata": {},
     "output_type": "execute_result"
    }
   ],
   "source": [
    "lr_41s15.fit(X_train_scaled, y_train_s)"
   ]
  },
  {
   "cell_type": "code",
   "execution_count": 410,
   "metadata": {
    "scrolled": true
   },
   "outputs": [
    {
     "data": {
      "text/plain": [
       "array([179.31250563, 143.45096653, 170.30488628, 207.75080048,\n",
       "       170.68919852, 193.39319006, 146.60394487, 154.78413677,\n",
       "       182.3904968 , 183.98470197, 168.12083981, 143.33742601,\n",
       "       174.17894114, 168.7617424 , 195.50430597, 170.73090727,\n",
       "       152.87896054, 188.24099842, 153.22692577, 166.66829484])"
      ]
     },
     "execution_count": 410,
     "metadata": {},
     "output_type": "execute_result"
    }
   ],
   "source": [
    "y_pred_41s15_train = lr_41s15.predict(X_train_scaled)\n",
    "y_pred_41s15_train[0:20]"
   ]
  },
  {
   "cell_type": "code",
   "execution_count": 411,
   "metadata": {
    "scrolled": true
   },
   "outputs": [
    {
     "name": "stdout",
     "output_type": "stream",
     "text": [
      "Training Set R^2: 0.40844217449264153\n",
      "Training Set Root Mean Squared Error: 21.16098407661788\n"
     ]
    }
   ],
   "source": [
    "print(\"Training Set R^2: {}\".format(lr_41s15.score(X_train_scaled, y_train_s)))\n",
    "rmse_41s15_train = np.sqrt(mean_squared_error(y_train_s, y_pred_41s15_train))\n",
    "print(\"Training Set Root Mean Squared Error: {}\".format(rmse_41s15_train))"
   ]
  },
  {
   "cell_type": "code",
   "execution_count": 412,
   "metadata": {
    "scrolled": true
   },
   "outputs": [
    {
     "data": {
      "text/plain": [
       "array([199.03788619, 194.64357073, 203.35034586, 164.48742413,\n",
       "       197.95305395, 161.8379677 , 159.65848945, 145.54606542,\n",
       "       185.25598175,  91.91098988, 192.4143021 , 173.72490504,\n",
       "       206.48293179, 186.10625048, 186.68782929, 192.69524384,\n",
       "       199.12872295, 179.2924761 , 166.74674879, 203.02543333])"
      ]
     },
     "execution_count": 412,
     "metadata": {},
     "output_type": "execute_result"
    }
   ],
   "source": [
    "y_pred_41s15_test = lr_41s15.predict(X_test_scaled)\n",
    "y_pred_41s15_test[0:20]"
   ]
  },
  {
   "cell_type": "code",
   "execution_count": 413,
   "metadata": {
    "scrolled": true
   },
   "outputs": [
    {
     "name": "stdout",
     "output_type": "stream",
     "text": [
      "Test Set R^2: 0.40777298839726783\n",
      "Test Set Root Mean Squared Error: 22.040790512795404\n"
     ]
    }
   ],
   "source": [
    "print(\"Test Set R^2: {}\".format(lr_41s15.score(X_test_scaled, y_test_s)))\n",
    "rmse_41s15_test = np.sqrt(mean_squared_error(y_test_s, y_pred_41s15_test))\n",
    "print(\"Test Set Root Mean Squared Error: {}\".format(rmse_41s15_test))"
   ]
  },
  {
   "cell_type": "code",
   "execution_count": 414,
   "metadata": {},
   "outputs": [],
   "source": [
    "filename = 'cancer_lr_41s15.sav'\n",
    "pickle.dump(lr_41s15, open(filename, 'wb'))"
   ]
  },
  {
   "cell_type": "code",
   "execution_count": 415,
   "metadata": {},
   "outputs": [],
   "source": [
    "lr_41s16 = linear_model.SGDRegressor(loss='huber', penalty='l2', alpha=0.00001, epsilon=5, random_state=42, \n",
    "                                     learning_rate='constant', eta0=0.001)"
   ]
  },
  {
   "cell_type": "code",
   "execution_count": 416,
   "metadata": {
    "scrolled": true
   },
   "outputs": [
    {
     "name": "stderr",
     "output_type": "stream",
     "text": [
      "/Users/DanLoew/anaconda3/lib/python3.7/site-packages/sklearn/linear_model/stochastic_gradient.py:166: FutureWarning: max_iter and tol parameters have been added in SGDRegressor in 0.19. If both are left unset, they default to max_iter=5 and tol=None. If tol is not None, max_iter defaults to max_iter=1000. From 0.21, default max_iter will be 1000, and default tol will be 1e-3.\n",
      "  FutureWarning)\n"
     ]
    },
    {
     "data": {
      "text/plain": [
       "SGDRegressor(alpha=1e-05, average=False, early_stopping=False, epsilon=5,\n",
       "       eta0=0.001, fit_intercept=True, l1_ratio=0.15,\n",
       "       learning_rate='constant', loss='huber', max_iter=None, n_iter=None,\n",
       "       n_iter_no_change=5, penalty='l2', power_t=0.25, random_state=42,\n",
       "       shuffle=True, tol=None, validation_fraction=0.1, verbose=0,\n",
       "       warm_start=False)"
      ]
     },
     "execution_count": 416,
     "metadata": {},
     "output_type": "execute_result"
    }
   ],
   "source": [
    "lr_41s16.fit(X_train_scaled, y_train_s)"
   ]
  },
  {
   "cell_type": "code",
   "execution_count": 417,
   "metadata": {
    "scrolled": true
   },
   "outputs": [
    {
     "data": {
      "text/plain": [
       "array([191.71112132, 157.65377301, 173.21450996, 193.88306123,\n",
       "       176.77284622, 189.20782465, 152.13425548, 172.63589209,\n",
       "       170.60087428, 177.28570789, 175.73667027, 159.9212155 ,\n",
       "       173.25996257, 162.27186324, 182.17065763, 175.98427372,\n",
       "       175.941941  , 180.47272833, 159.99387928, 162.58189148])"
      ]
     },
     "execution_count": 417,
     "metadata": {},
     "output_type": "execute_result"
    }
   ],
   "source": [
    "y_pred_41s16_train = lr_41s16.predict(X_train_scaled)\n",
    "y_pred_41s16_train[0:20]"
   ]
  },
  {
   "cell_type": "code",
   "execution_count": 418,
   "metadata": {
    "scrolled": true
   },
   "outputs": [
    {
     "name": "stdout",
     "output_type": "stream",
     "text": [
      "Training Set R^2: 0.3572501539633759\n",
      "Training Set Root Mean Squared Error: 22.057599608356693\n"
     ]
    }
   ],
   "source": [
    "print(\"Training Set R^2: {}\".format(lr_41s16.score(X_train_scaled, y_train_s)))\n",
    "rmse_41s16_train = np.sqrt(mean_squared_error(y_train_s, y_pred_41s16_train))\n",
    "print(\"Training Set Root Mean Squared Error: {}\".format(rmse_41s16_train))"
   ]
  },
  {
   "cell_type": "code",
   "execution_count": 419,
   "metadata": {
    "scrolled": true
   },
   "outputs": [
    {
     "data": {
      "text/plain": [
       "array([181.21480918, 183.52830951, 208.35954497, 166.04082735,\n",
       "       195.73412265, 165.32808431, 171.6101815 , 152.95841225,\n",
       "       191.18256409, 181.79632711, 183.75359974, 167.80950419,\n",
       "       192.29454798, 186.8104352 , 171.3205155 , 185.15936573,\n",
       "       190.60306246, 189.93586129, 172.79625516, 192.32289877])"
      ]
     },
     "execution_count": 419,
     "metadata": {},
     "output_type": "execute_result"
    }
   ],
   "source": [
    "y_pred_41s16_test = lr_41s16.predict(X_test_scaled)\n",
    "y_pred_41s16_test[0:20]"
   ]
  },
  {
   "cell_type": "code",
   "execution_count": 420,
   "metadata": {
    "scrolled": true
   },
   "outputs": [
    {
     "name": "stdout",
     "output_type": "stream",
     "text": [
      "Test Set R^2: 0.33388932306969166\n",
      "Test Set Root Mean Squared Error: 23.375249677804504\n"
     ]
    }
   ],
   "source": [
    "print(\"Test Set R^2: {}\".format(lr_41s16.score(X_test_scaled, y_test_s)))\n",
    "rmse_41s16_test = np.sqrt(mean_squared_error(y_test_s, y_pred_41s16_test))\n",
    "print(\"Test Set Root Mean Squared Error: {}\".format(rmse_41s16_test))"
   ]
  },
  {
   "cell_type": "code",
   "execution_count": 421,
   "metadata": {},
   "outputs": [],
   "source": [
    "filename = 'cancer_lr_41s16.sav'\n",
    "pickle.dump(lr_41s16, open(filename, 'wb'))"
   ]
  },
  {
   "cell_type": "code",
   "execution_count": 422,
   "metadata": {},
   "outputs": [],
   "source": [
    "lr_42 = linear_model.SGDRegressor(loss='huber', penalty='l2', alpha=0.00001, random_state=42, \n",
    "                                  learning_rate='optimal')"
   ]
  },
  {
   "cell_type": "code",
   "execution_count": 423,
   "metadata": {
    "scrolled": true
   },
   "outputs": [
    {
     "name": "stderr",
     "output_type": "stream",
     "text": [
      "/Users/DanLoew/anaconda3/lib/python3.7/site-packages/sklearn/linear_model/stochastic_gradient.py:166: FutureWarning: max_iter and tol parameters have been added in SGDRegressor in 0.19. If both are left unset, they default to max_iter=5 and tol=None. If tol is not None, max_iter defaults to max_iter=1000. From 0.21, default max_iter will be 1000, and default tol will be 1e-3.\n",
      "  FutureWarning)\n"
     ]
    },
    {
     "data": {
      "text/plain": [
       "SGDRegressor(alpha=1e-05, average=False, early_stopping=False, epsilon=0.1,\n",
       "       eta0=0.01, fit_intercept=True, l1_ratio=0.15,\n",
       "       learning_rate='optimal', loss='huber', max_iter=None, n_iter=None,\n",
       "       n_iter_no_change=5, penalty='l2', power_t=0.25, random_state=42,\n",
       "       shuffle=True, tol=None, validation_fraction=0.1, verbose=0,\n",
       "       warm_start=False)"
      ]
     },
     "execution_count": 423,
     "metadata": {},
     "output_type": "execute_result"
    }
   ],
   "source": [
    "lr_42.fit(X_train_scaled, y_train_s)"
   ]
  },
  {
   "cell_type": "code",
   "execution_count": 424,
   "metadata": {
    "scrolled": true
   },
   "outputs": [
    {
     "data": {
      "text/plain": [
       "array([182.12428934, 139.13563274, 171.55984251, 205.19437454,\n",
       "       180.73540923, 220.85799221, 139.28884374, 145.1796888 ,\n",
       "       193.05561395, 190.24138711, 159.83507092, 150.30317402,\n",
       "       182.51584676, 162.55438221, 207.78771464, 180.79779668,\n",
       "       164.83630114, 185.85939382, 156.9423591 , 169.90042464])"
      ]
     },
     "execution_count": 424,
     "metadata": {},
     "output_type": "execute_result"
    }
   ],
   "source": [
    "y_pred_42_train = lr_42.predict(X_train_scaled)\n",
    "y_pred_42_train[0:20]"
   ]
  },
  {
   "cell_type": "code",
   "execution_count": 425,
   "metadata": {
    "scrolled": true
   },
   "outputs": [
    {
     "name": "stdout",
     "output_type": "stream",
     "text": [
      "Training Set R^2: 0.2966841813582005\n",
      "Training Set Root Mean Squared Error: 23.073445485103896\n"
     ]
    }
   ],
   "source": [
    "print(\"Training Set R^2: {}\".format(lr_42.score(X_train_scaled, y_train_s)))\n",
    "rmse_42_train = np.sqrt(mean_squared_error(y_train_s, y_pred_42_train))\n",
    "print(\"Training Set Root Mean Squared Error: {}\".format(rmse_42_train))"
   ]
  },
  {
   "cell_type": "code",
   "execution_count": 426,
   "metadata": {
    "scrolled": true
   },
   "outputs": [
    {
     "data": {
      "text/plain": [
       "array([209.07679652, 207.27374944, 222.33883299, 178.09139607,\n",
       "       221.73802521, 174.26619287, 169.53715741, 121.18669701,\n",
       "       196.4269474 ,  86.06086938, 190.5285719 , 174.08350149,\n",
       "       213.11807551, 200.33509628, 174.44213205, 196.77043451,\n",
       "       214.1159916 , 203.14927477, 187.00760155, 205.18423139])"
      ]
     },
     "execution_count": 426,
     "metadata": {},
     "output_type": "execute_result"
    }
   ],
   "source": [
    "y_pred_42_test = lr_42.predict(X_test_scaled)\n",
    "y_pred_42_test[0:20]"
   ]
  },
  {
   "cell_type": "code",
   "execution_count": 427,
   "metadata": {
    "scrolled": true
   },
   "outputs": [
    {
     "name": "stdout",
     "output_type": "stream",
     "text": [
      "Test Set R^2: 0.3214227759464806\n",
      "Test Set Root Mean Squared Error: 23.592974609812302\n"
     ]
    }
   ],
   "source": [
    "print(\"Test Set R^2: {}\".format(lr_42.score(X_test_scaled, y_test_s)))\n",
    "rmse_42_test = np.sqrt(mean_squared_error(y_test_s, y_pred_42_test))\n",
    "print(\"Test Set Root Mean Squared Error: {}\".format(rmse_42_test))"
   ]
  },
  {
   "cell_type": "code",
   "execution_count": 428,
   "metadata": {},
   "outputs": [],
   "source": [
    "filename = 'cancer_lr_42.sav'\n",
    "pickle.dump(lr_42, open(filename, 'wb'))"
   ]
  },
  {
   "cell_type": "code",
   "execution_count": 429,
   "metadata": {},
   "outputs": [],
   "source": [
    "lr_43 = linear_model.SGDRegressor(loss='huber', penalty='l2', alpha=0.00001, random_state=42, \n",
    "                                  learning_rate='optimal', epsilon=5)"
   ]
  },
  {
   "cell_type": "code",
   "execution_count": 430,
   "metadata": {
    "scrolled": true
   },
   "outputs": [
    {
     "name": "stderr",
     "output_type": "stream",
     "text": [
      "/Users/DanLoew/anaconda3/lib/python3.7/site-packages/sklearn/linear_model/stochastic_gradient.py:166: FutureWarning: max_iter and tol parameters have been added in SGDRegressor in 0.19. If both are left unset, they default to max_iter=5 and tol=None. If tol is not None, max_iter defaults to max_iter=1000. From 0.21, default max_iter will be 1000, and default tol will be 1e-3.\n",
      "  FutureWarning)\n"
     ]
    },
    {
     "data": {
      "text/plain": [
       "SGDRegressor(alpha=1e-05, average=False, early_stopping=False, epsilon=5,\n",
       "       eta0=0.01, fit_intercept=True, l1_ratio=0.15,\n",
       "       learning_rate='optimal', loss='huber', max_iter=None, n_iter=None,\n",
       "       n_iter_no_change=5, penalty='l2', power_t=0.25, random_state=42,\n",
       "       shuffle=True, tol=None, validation_fraction=0.1, verbose=0,\n",
       "       warm_start=False)"
      ]
     },
     "execution_count": 430,
     "metadata": {},
     "output_type": "execute_result"
    }
   ],
   "source": [
    "lr_43.fit(X_train_scaled, y_train_s)"
   ]
  },
  {
   "cell_type": "code",
   "execution_count": 431,
   "metadata": {
    "scrolled": true
   },
   "outputs": [
    {
     "data": {
      "text/plain": [
       "array([ 858.26655854,  569.9251322 ,  259.12691722, -355.7590754 ,\n",
       "        365.80198221,   89.35603588,  885.34628913,   23.48279064,\n",
       "        266.02613479,    6.41385379,   64.81045183, -110.17952774,\n",
       "        -21.85530867,  417.09253842, -132.70767011, -120.24605567,\n",
       "         27.43929595, -208.9233352 ,  186.01972983,  -78.56375713])"
      ]
     },
     "execution_count": 431,
     "metadata": {},
     "output_type": "execute_result"
    }
   ],
   "source": [
    "y_pred_43_train = lr_43.predict(X_train_scaled)\n",
    "y_pred_43_train[0:20]"
   ]
  },
  {
   "cell_type": "code",
   "execution_count": 432,
   "metadata": {
    "scrolled": true
   },
   "outputs": [
    {
     "name": "stdout",
     "output_type": "stream",
     "text": [
      "Training Set R^2: -150.35763738026802\n",
      "Training Set Root Mean Squared Error: 338.48500063317636\n"
     ]
    }
   ],
   "source": [
    "print(\"Training Set R^2: {}\".format(lr_43.score(X_train_scaled, y_train_s)))\n",
    "rmse_43_train = np.sqrt(mean_squared_error(y_train_s, y_pred_43_train))\n",
    "print(\"Training Set Root Mean Squared Error: {}\".format(rmse_43_train))"
   ]
  },
  {
   "cell_type": "code",
   "execution_count": 433,
   "metadata": {
    "scrolled": true
   },
   "outputs": [
    {
     "data": {
      "text/plain": [
       "array([-331.81458814,  193.08642184,  719.70953722,  413.32450858,\n",
       "        241.8102644 , -320.36455158,  212.11861579,  296.71089476,\n",
       "       -493.63595282, -493.71662024,  775.85450982, -234.14289695,\n",
       "        148.53469073, -205.36977049,  419.82737919,  -11.38276865,\n",
       "          4.31661457,   -9.05225907,  603.21527184,  120.90273875])"
      ]
     },
     "execution_count": 433,
     "metadata": {},
     "output_type": "execute_result"
    }
   ],
   "source": [
    "y_pred_43_test = lr_43.predict(X_test_scaled)\n",
    "y_pred_43_test[0:20]"
   ]
  },
  {
   "cell_type": "code",
   "execution_count": 434,
   "metadata": {
    "scrolled": true
   },
   "outputs": [
    {
     "name": "stdout",
     "output_type": "stream",
     "text": [
      "Test Set R^2: -144.07578834477604\n",
      "Test Set Root Mean Squared Error: 344.9693660091798\n"
     ]
    }
   ],
   "source": [
    "print(\"Test Set R^2: {}\".format(lr_43.score(X_test_scaled, y_test_s)))\n",
    "rmse_43_test = np.sqrt(mean_squared_error(y_test_s, y_pred_43_test))\n",
    "print(\"Test Set Root Mean Squared Error: {}\".format(rmse_43_test))"
   ]
  },
  {
   "cell_type": "code",
   "execution_count": 435,
   "metadata": {},
   "outputs": [],
   "source": [
    "filename = 'cancer_lr_43.sav'\n",
    "pickle.dump(lr_43, open(filename, 'wb'))"
   ]
  },
  {
   "cell_type": "markdown",
   "metadata": {},
   "source": [
    "## Kernel Ridge"
   ]
  },
  {
   "cell_type": "code",
   "execution_count": 436,
   "metadata": {},
   "outputs": [],
   "source": [
    "lr_49s = KernelRidge(alpha=0.001)"
   ]
  },
  {
   "cell_type": "code",
   "execution_count": 437,
   "metadata": {
    "scrolled": true
   },
   "outputs": [
    {
     "data": {
      "text/plain": [
       "KernelRidge(alpha=0.001, coef0=1, degree=3, gamma=None, kernel='linear',\n",
       "      kernel_params=None)"
      ]
     },
     "execution_count": 437,
     "metadata": {},
     "output_type": "execute_result"
    }
   ],
   "source": [
    "lr_49s.fit(X_train_scaled, y_train_s)"
   ]
  },
  {
   "cell_type": "code",
   "execution_count": 438,
   "metadata": {
    "scrolled": true
   },
   "outputs": [
    {
     "data": {
      "text/plain": [
       "array([205.15832738, 142.50737704, 171.8147401 , 206.88919599,\n",
       "       176.41730152, 205.47482823, 158.99090677, 163.82973025,\n",
       "       179.18220161, 188.79643553, 181.14507708, 154.80469348,\n",
       "       164.80326288, 152.19491291, 182.86458249, 160.84016692,\n",
       "       166.6540871 , 177.01096054, 155.23195606, 166.95500442])"
      ]
     },
     "execution_count": 438,
     "metadata": {},
     "output_type": "execute_result"
    }
   ],
   "source": [
    "y_pred_49s_train = lr_49s.predict(X_train_scaled)\n",
    "y_pred_49s_train[0:20]"
   ]
  },
  {
   "cell_type": "code",
   "execution_count": 439,
   "metadata": {
    "scrolled": true
   },
   "outputs": [
    {
     "name": "stdout",
     "output_type": "stream",
     "text": [
      "Training Set R^2: 0.654069162015542\n",
      "Training Set Root Mean Squared Error: 16.1819888618309\n"
     ]
    }
   ],
   "source": [
    "print(\"Training Set R^2: {}\".format(lr_49s.score(X_train_scaled, y_train_s)))\n",
    "rmse_49s_train = np.sqrt(mean_squared_error(y_train_s, y_pred_49s_train))\n",
    "print(\"Training Set Root Mean Squared Error: {}\".format(rmse_49s_train))"
   ]
  },
  {
   "cell_type": "code",
   "execution_count": 440,
   "metadata": {
    "scrolled": true
   },
   "outputs": [
    {
     "data": {
      "text/plain": [
       "array([192.66211003, 207.41110375, 210.31846302, 179.61448163,\n",
       "       222.14595356, 153.67440874, 176.01109949, 149.06089116,\n",
       "       173.42922597, 227.33025485, 199.50468523, 158.59205065,\n",
       "       193.85741532, 193.63621748, 181.42942547, 187.85069192,\n",
       "       180.90023006, 176.3346381 , 185.62078071, 190.73695485])"
      ]
     },
     "execution_count": 440,
     "metadata": {},
     "output_type": "execute_result"
    }
   ],
   "source": [
    "y_pred_49s_test = lr_49s.predict(X_test_scaled)\n",
    "y_pred_49s_test[0:20]"
   ]
  },
  {
   "cell_type": "code",
   "execution_count": 441,
   "metadata": {
    "scrolled": true
   },
   "outputs": [
    {
     "name": "stdout",
     "output_type": "stream",
     "text": [
      "Test Set R^2: 0.5861867486014155\n",
      "Test Set Root Mean Squared Error: 18.424056544935134\n"
     ]
    }
   ],
   "source": [
    "print(\"Test Set R^2: {}\".format(lr_49s.score(X_test_scaled, y_test_s)))\n",
    "rmse_49s_test = np.sqrt(mean_squared_error(y_test_s, y_pred_49s_test))\n",
    "print(\"Test Set Root Mean Squared Error: {}\".format(rmse_49s_test))"
   ]
  },
  {
   "cell_type": "code",
   "execution_count": 442,
   "metadata": {},
   "outputs": [],
   "source": [
    "filename = 'cancer_lr_49s.sav'\n",
    "pickle.dump(lr_49s, open(filename, 'wb'))"
   ]
  },
  {
   "cell_type": "code",
   "execution_count": 443,
   "metadata": {},
   "outputs": [],
   "source": [
    "lr_50s = KernelRidge(alpha=0.01)"
   ]
  },
  {
   "cell_type": "code",
   "execution_count": 444,
   "metadata": {
    "scrolled": true
   },
   "outputs": [
    {
     "data": {
      "text/plain": [
       "KernelRidge(alpha=0.01, coef0=1, degree=3, gamma=None, kernel='linear',\n",
       "      kernel_params=None)"
      ]
     },
     "execution_count": 444,
     "metadata": {},
     "output_type": "execute_result"
    }
   ],
   "source": [
    "lr_50s.fit(X_train_scaled, y_train_s)"
   ]
  },
  {
   "cell_type": "code",
   "execution_count": 445,
   "metadata": {
    "scrolled": true
   },
   "outputs": [
    {
     "data": {
      "text/plain": [
       "array([204.44285618, 142.71061767, 171.13648741, 206.38711949,\n",
       "       177.10774441, 206.27014023, 158.5664729 , 164.68070649,\n",
       "       178.85119425, 186.5584191 , 182.02076295, 156.47185924,\n",
       "       165.95192937, 151.65176545, 184.49642096, 161.62258485,\n",
       "       166.49141114, 177.58539202, 155.43665894, 165.43848219])"
      ]
     },
     "execution_count": 445,
     "metadata": {},
     "output_type": "execute_result"
    }
   ],
   "source": [
    "y_pred_50s_train = lr_50s.predict(X_train_scaled)\n",
    "y_pred_50s_train[0:20]"
   ]
  },
  {
   "cell_type": "code",
   "execution_count": 446,
   "metadata": {
    "scrolled": true
   },
   "outputs": [
    {
     "name": "stdout",
     "output_type": "stream",
     "text": [
      "Training Set R^2: 0.6508058202057458\n",
      "Training Set Root Mean Squared Error: 16.258136171253025\n"
     ]
    }
   ],
   "source": [
    "print(\"Training Set R^2: {}\".format(lr_50s.score(X_train_scaled, y_train_s)))\n",
    "rmse_50s_train = np.sqrt(mean_squared_error(y_train_s, y_pred_50s_train))\n",
    "print(\"Training Set Root Mean Squared Error: {}\".format(rmse_50s_train))"
   ]
  },
  {
   "cell_type": "code",
   "execution_count": 447,
   "metadata": {
    "scrolled": true
   },
   "outputs": [
    {
     "data": {
      "text/plain": [
       "array([192.48804396, 201.93469465, 210.92009821, 177.91285416,\n",
       "       221.70358736, 153.70099021, 175.52622886, 146.87494013,\n",
       "       174.01403722, 195.66790901, 203.24032996, 149.69825943,\n",
       "       193.84831074, 193.58787886, 181.64684405, 189.8024866 ,\n",
       "       182.8867622 , 176.78100696, 186.0430941 , 191.35401704])"
      ]
     },
     "execution_count": 447,
     "metadata": {},
     "output_type": "execute_result"
    }
   ],
   "source": [
    "y_pred_50s_test = lr_50s.predict(X_test_scaled)\n",
    "y_pred_50s_test[0:20]"
   ]
  },
  {
   "cell_type": "code",
   "execution_count": 448,
   "metadata": {
    "scrolled": true
   },
   "outputs": [
    {
     "name": "stdout",
     "output_type": "stream",
     "text": [
      "Test Set R^2: 0.5892973645271045\n",
      "Test Set Root Mean Squared Error: 18.354679513508017\n"
     ]
    }
   ],
   "source": [
    "print(\"Test Set R^2: {}\".format(lr_50s.score(X_test_scaled, y_test_s)))\n",
    "rmse_50s_test = np.sqrt(mean_squared_error(y_test_s, y_pred_50s_test))\n",
    "print(\"Test Set Root Mean Squared Error: {}\".format(rmse_50s_test))"
   ]
  },
  {
   "cell_type": "code",
   "execution_count": 449,
   "metadata": {},
   "outputs": [],
   "source": [
    "filename = 'cancer_lr_50s.sav'\n",
    "pickle.dump(lr_50s, open(filename, 'wb'))"
   ]
  },
  {
   "cell_type": "code",
   "execution_count": 450,
   "metadata": {},
   "outputs": [],
   "source": [
    "lr_51s = KernelRidge(alpha=0.1)"
   ]
  },
  {
   "cell_type": "code",
   "execution_count": 451,
   "metadata": {
    "scrolled": false
   },
   "outputs": [
    {
     "data": {
      "text/plain": [
       "KernelRidge(alpha=0.1, coef0=1, degree=3, gamma=None, kernel='linear',\n",
       "      kernel_params=None)"
      ]
     },
     "execution_count": 451,
     "metadata": {},
     "output_type": "execute_result"
    }
   ],
   "source": [
    "lr_51s.fit(X_train_scaled, y_train_s)"
   ]
  },
  {
   "cell_type": "code",
   "execution_count": 452,
   "metadata": {
    "scrolled": true
   },
   "outputs": [
    {
     "data": {
      "text/plain": [
       "array([203.70066227, 144.77186935, 170.33188967, 205.68901293,\n",
       "       178.22487048, 209.15330712, 158.13973724, 163.53372095,\n",
       "       178.19273277, 183.79815052, 183.48539797, 156.39085309,\n",
       "       166.27081574, 149.999438  , 184.69831298, 162.36462648,\n",
       "       167.66429394, 178.17631726, 154.71374393, 164.65905502])"
      ]
     },
     "execution_count": 452,
     "metadata": {},
     "output_type": "execute_result"
    }
   ],
   "source": [
    "y_pred_51s_train = lr_51s.predict(X_train_scaled)\n",
    "y_pred_51s_train[0:20]"
   ]
  },
  {
   "cell_type": "code",
   "execution_count": 453,
   "metadata": {
    "scrolled": true
   },
   "outputs": [
    {
     "name": "stdout",
     "output_type": "stream",
     "text": [
      "Training Set R^2: 0.6419694127578425\n",
      "Training Set Root Mean Squared Error: 16.46255822085405\n"
     ]
    }
   ],
   "source": [
    "print(\"Training Set R^2: {}\".format(lr_51s.score(X_train_scaled, y_train_s)))\n",
    "rmse_51s_train = np.sqrt(mean_squared_error(y_train_s, y_pred_51s_train))\n",
    "print(\"Training Set Root Mean Squared Error: {}\".format(rmse_51s_train))"
   ]
  },
  {
   "cell_type": "code",
   "execution_count": 454,
   "metadata": {
    "scrolled": true
   },
   "outputs": [
    {
     "data": {
      "text/plain": [
       "array([191.82148711, 197.12847299, 210.31305638, 174.67812773,\n",
       "       221.2801264 , 154.04607245, 173.66472068, 143.93647976,\n",
       "       174.44425962, 151.7299257 , 206.30702088, 148.99446582,\n",
       "       192.17539855, 193.34528718, 180.42352269, 191.33602086,\n",
       "       186.23545187, 177.46451537, 187.96407799, 192.92914028])"
      ]
     },
     "execution_count": 454,
     "metadata": {},
     "output_type": "execute_result"
    }
   ],
   "source": [
    "y_pred_51s_test = lr_51s.predict(X_test_scaled)\n",
    "y_pred_51s_test[0:20]"
   ]
  },
  {
   "cell_type": "code",
   "execution_count": 455,
   "metadata": {
    "scrolled": true
   },
   "outputs": [
    {
     "name": "stdout",
     "output_type": "stream",
     "text": [
      "Test Set R^2: 0.5796691484204308\n",
      "Test Set Root Mean Squared Error: 18.56858007166218\n"
     ]
    }
   ],
   "source": [
    "print(\"Test Set R^2: {}\".format(lr_51s.score(X_test_scaled, y_test_s)))\n",
    "rmse_51s_test = np.sqrt(mean_squared_error(y_test_s, y_pred_51s_test))\n",
    "print(\"Test Set Root Mean Squared Error: {}\".format(rmse_51s_test))"
   ]
  },
  {
   "cell_type": "code",
   "execution_count": 456,
   "metadata": {},
   "outputs": [],
   "source": [
    "filename = 'cancer_lr_51s.sav'\n",
    "pickle.dump(lr_51s, open(filename, 'wb'))"
   ]
  },
  {
   "cell_type": "code",
   "execution_count": 457,
   "metadata": {},
   "outputs": [],
   "source": [
    "lr_52s = KernelRidge(alpha=1)"
   ]
  },
  {
   "cell_type": "code",
   "execution_count": 458,
   "metadata": {
    "scrolled": false
   },
   "outputs": [
    {
     "data": {
      "text/plain": [
       "KernelRidge(alpha=1, coef0=1, degree=3, gamma=None, kernel='linear',\n",
       "      kernel_params=None)"
      ]
     },
     "execution_count": 458,
     "metadata": {},
     "output_type": "execute_result"
    }
   ],
   "source": [
    "lr_52s.fit(X_train_scaled, y_train_s)"
   ]
  },
  {
   "cell_type": "code",
   "execution_count": 459,
   "metadata": {
    "scrolled": true
   },
   "outputs": [
    {
     "data": {
      "text/plain": [
       "array([203.25987796, 148.13753092, 169.63929541, 206.1088464 ,\n",
       "       180.62358837, 209.29087679, 158.52362056, 163.46116356,\n",
       "       177.64472392, 181.65122898, 183.86444512, 157.4335518 ,\n",
       "       165.8785651 , 150.71373405, 185.77896011, 163.96773308,\n",
       "       170.55973423, 178.02740379, 153.9265665 , 165.33515368])"
      ]
     },
     "execution_count": 459,
     "metadata": {},
     "output_type": "execute_result"
    }
   ],
   "source": [
    "y_pred_52s_train = lr_52s.predict(X_train_scaled)\n",
    "y_pred_52s_train[0:20]"
   ]
  },
  {
   "cell_type": "code",
   "execution_count": 460,
   "metadata": {
    "scrolled": true
   },
   "outputs": [
    {
     "name": "stdout",
     "output_type": "stream",
     "text": [
      "Training Set R^2: 0.6270882346399089\n",
      "Training Set Root Mean Squared Error: 16.80119998409424\n"
     ]
    }
   ],
   "source": [
    "print(\"Training Set R^2: {}\".format(lr_52s.score(X_train_scaled, y_train_s)))\n",
    "rmse_52s_train = np.sqrt(mean_squared_error(y_train_s, y_pred_52s_train))\n",
    "print(\"Training Set Root Mean Squared Error: {}\".format(rmse_52s_train))"
   ]
  },
  {
   "cell_type": "code",
   "execution_count": 461,
   "metadata": {
    "scrolled": true
   },
   "outputs": [
    {
     "data": {
      "text/plain": [
       "array([191.34867276, 195.34850617, 209.85032553, 171.30230756,\n",
       "       221.10333766, 153.84640392, 171.00995976, 144.07754616,\n",
       "       175.26260859, 133.45899774, 207.64870234, 154.48716203,\n",
       "       192.21694822, 192.47313718, 178.65078235, 189.53890592,\n",
       "       190.4330414 , 179.47926253, 189.2923031 , 193.97599527])"
      ]
     },
     "execution_count": 461,
     "metadata": {},
     "output_type": "execute_result"
    }
   ],
   "source": [
    "y_pred_52s_test = lr_52s.predict(X_test_scaled)\n",
    "y_pred_52s_test[0:20]"
   ]
  },
  {
   "cell_type": "code",
   "execution_count": 462,
   "metadata": {
    "scrolled": true
   },
   "outputs": [
    {
     "name": "stdout",
     "output_type": "stream",
     "text": [
      "Test Set R^2: 0.5700249467311902\n",
      "Test Set Root Mean Squared Error: 18.780393619045448\n"
     ]
    }
   ],
   "source": [
    "print(\"Test Set R^2: {}\".format(lr_52s.score(X_test_scaled, y_test_s)))\n",
    "rmse_52s_test = np.sqrt(mean_squared_error(y_test_s, y_pred_52s_test))\n",
    "print(\"Test Set Root Mean Squared Error: {}\".format(rmse_52s_test))"
   ]
  },
  {
   "cell_type": "code",
   "execution_count": 463,
   "metadata": {},
   "outputs": [],
   "source": [
    "filename = 'cancer_lr_52s.sav'\n",
    "pickle.dump(lr_52s, open(filename, 'wb'))"
   ]
  },
  {
   "cell_type": "code",
   "execution_count": 464,
   "metadata": {},
   "outputs": [],
   "source": [
    "lr_53s = KernelRidge(alpha=10)"
   ]
  },
  {
   "cell_type": "code",
   "execution_count": 465,
   "metadata": {
    "scrolled": false
   },
   "outputs": [
    {
     "data": {
      "text/plain": [
       "KernelRidge(alpha=10, coef0=1, degree=3, gamma=None, kernel='linear',\n",
       "      kernel_params=None)"
      ]
     },
     "execution_count": 465,
     "metadata": {},
     "output_type": "execute_result"
    }
   ],
   "source": [
    "lr_53s.fit(X_train_scaled, y_train_s)"
   ]
  },
  {
   "cell_type": "code",
   "execution_count": 466,
   "metadata": {
    "scrolled": true
   },
   "outputs": [
    {
     "data": {
      "text/plain": [
       "array([201.38146533, 149.26217733, 171.17220709, 209.22547395,\n",
       "       181.65677281, 206.16342015, 155.24778471, 165.5985388 ,\n",
       "       178.78508152, 181.03310623, 181.67408429, 160.71299408,\n",
       "       166.45193278, 158.8655463 , 187.75852905, 167.18959623,\n",
       "       172.55225393, 177.65410522, 153.94289919, 165.51893874])"
      ]
     },
     "execution_count": 466,
     "metadata": {},
     "output_type": "execute_result"
    }
   ],
   "source": [
    "y_pred_53s_train = lr_53s.predict(X_train_scaled)\n",
    "y_pred_53s_train[0:20]"
   ]
  },
  {
   "cell_type": "code",
   "execution_count": 467,
   "metadata": {
    "scrolled": true
   },
   "outputs": [
    {
     "name": "stdout",
     "output_type": "stream",
     "text": [
      "Training Set R^2: 0.5966499725153155\n",
      "Training Set Root Mean Squared Error: 17.47343560828238\n"
     ]
    }
   ],
   "source": [
    "print(\"Training Set R^2: {}\".format(lr_53s.score(X_train_scaled, y_train_s)))\n",
    "rmse_53s_train = np.sqrt(mean_squared_error(y_train_s, y_pred_53s_train))\n",
    "print(\"Training Set Root Mean Squared Error: {}\".format(rmse_53s_train))"
   ]
  },
  {
   "cell_type": "code",
   "execution_count": 468,
   "metadata": {
    "scrolled": true
   },
   "outputs": [
    {
     "data": {
      "text/plain": [
       "array([190.82265297, 192.97222914, 212.73014579, 165.83142277,\n",
       "       217.24276672, 155.39108867, 165.08800537, 144.73589234,\n",
       "       179.88515203, 150.37894763, 202.31079942, 160.36505701,\n",
       "       198.20491824, 189.52283825, 178.42323046, 187.758011  ,\n",
       "       194.91127596, 185.35962808, 187.56414253, 194.30786061])"
      ]
     },
     "execution_count": 468,
     "metadata": {},
     "output_type": "execute_result"
    }
   ],
   "source": [
    "y_pred_53s_test = lr_53s.predict(X_test_scaled)\n",
    "y_pred_53s_test[0:20]"
   ]
  },
  {
   "cell_type": "code",
   "execution_count": 469,
   "metadata": {
    "scrolled": true
   },
   "outputs": [
    {
     "name": "stdout",
     "output_type": "stream",
     "text": [
      "Test Set R^2: 0.5579478472499363\n",
      "Test Set Root Mean Squared Error: 19.042318106586112\n"
     ]
    }
   ],
   "source": [
    "print(\"Test Set R^2: {}\".format(lr_53s.score(X_test_scaled, y_test_s)))\n",
    "rmse_53s_test = np.sqrt(mean_squared_error(y_test_s, y_pred_53s_test))\n",
    "print(\"Test Set Root Mean Squared Error: {}\".format(rmse_53s_test))"
   ]
  },
  {
   "cell_type": "code",
   "execution_count": 470,
   "metadata": {},
   "outputs": [],
   "source": [
    "filename = 'cancer_lr_53s.sav'\n",
    "pickle.dump(lr_53s, open(filename, 'wb'))"
   ]
  },
  {
   "cell_type": "code",
   "execution_count": 471,
   "metadata": {},
   "outputs": [],
   "source": [
    "lr_54s = KernelRidge(alpha=100)"
   ]
  },
  {
   "cell_type": "code",
   "execution_count": 472,
   "metadata": {
    "scrolled": false
   },
   "outputs": [
    {
     "data": {
      "text/plain": [
       "KernelRidge(alpha=100, coef0=1, degree=3, gamma=None, kernel='linear',\n",
       "      kernel_params=None)"
      ]
     },
     "execution_count": 472,
     "metadata": {},
     "output_type": "execute_result"
    }
   ],
   "source": [
    "lr_54s.fit(X_train_scaled, y_train_s)"
   ]
  },
  {
   "cell_type": "code",
   "execution_count": 473,
   "metadata": {
    "scrolled": true
   },
   "outputs": [
    {
     "data": {
      "text/plain": [
       "array([199.11797859, 152.77840644, 173.02309497, 206.37183297,\n",
       "       179.71801404, 199.47576047, 150.50982621, 170.53259765,\n",
       "       176.28809658, 180.65574193, 178.91283506, 163.09767249,\n",
       "       170.43500071, 166.78886873, 186.29324821, 173.64394791,\n",
       "       175.29214173, 178.09980452, 155.90994113, 163.5496795 ])"
      ]
     },
     "execution_count": 473,
     "metadata": {},
     "output_type": "execute_result"
    }
   ],
   "source": [
    "y_pred_54s_train = lr_54s.predict(X_train_scaled)\n",
    "y_pred_54s_train[0:20]"
   ]
  },
  {
   "cell_type": "code",
   "execution_count": 474,
   "metadata": {
    "scrolled": true
   },
   "outputs": [
    {
     "name": "stdout",
     "output_type": "stream",
     "text": [
      "Training Set R^2: 0.5038273988607713\n",
      "Training Set Root Mean Squared Error: 19.37999442567625\n"
     ]
    }
   ],
   "source": [
    "print(\"Training Set R^2: {}\".format(lr_54s.score(X_train_scaled, y_train_s)))\n",
    "rmse_54s_train = np.sqrt(mean_squared_error(y_train_s, y_pred_54s_train))\n",
    "print(\"Training Set Root Mean Squared Error: {}\".format(rmse_54s_train))"
   ]
  },
  {
   "cell_type": "code",
   "execution_count": 475,
   "metadata": {
    "scrolled": true
   },
   "outputs": [
    {
     "data": {
      "text/plain": [
       "array([188.35876556, 188.98523231, 213.86314073, 161.53582933,\n",
       "       207.35453863, 158.58722025, 165.67515557, 146.77117004,\n",
       "       188.01391516, 179.08752295, 191.3586575 , 164.99500085,\n",
       "       203.82317055, 187.14333678, 177.9568548 , 186.76104953,\n",
       "       194.01565372, 189.9664754 , 182.65385887, 194.23897891])"
      ]
     },
     "execution_count": 475,
     "metadata": {},
     "output_type": "execute_result"
    }
   ],
   "source": [
    "y_pred_54s_test = lr_54s.predict(X_test_scaled)\n",
    "y_pred_54s_test[0:20]"
   ]
  },
  {
   "cell_type": "code",
   "execution_count": 476,
   "metadata": {
    "scrolled": true
   },
   "outputs": [
    {
     "name": "stdout",
     "output_type": "stream",
     "text": [
      "Test Set R^2: 0.4568871966510032\n",
      "Test Set Root Mean Squared Error: 21.107076365553624\n"
     ]
    }
   ],
   "source": [
    "print(\"Test Set R^2: {}\".format(lr_54s.score(X_test_scaled, y_test_s)))\n",
    "rmse_54s_test = np.sqrt(mean_squared_error(y_test_s, y_pred_54s_test))\n",
    "print(\"Test Set Root Mean Squared Error: {}\".format(rmse_54s_test))"
   ]
  },
  {
   "cell_type": "code",
   "execution_count": 477,
   "metadata": {},
   "outputs": [],
   "source": [
    "filename = 'cancer_lr_54s.sav'\n",
    "pickle.dump(lr_54s, open(filename, 'wb'))"
   ]
  },
  {
   "cell_type": "markdown",
   "metadata": {},
   "source": [
    "## Random Forest"
   ]
  },
  {
   "cell_type": "code",
   "execution_count": 478,
   "metadata": {},
   "outputs": [],
   "source": [
    "rfr_1s = RandomForestRegressor(n_estimators=10, random_state=0)"
   ]
  },
  {
   "cell_type": "code",
   "execution_count": 479,
   "metadata": {
    "scrolled": true
   },
   "outputs": [
    {
     "data": {
      "text/plain": [
       "RandomForestRegressor(bootstrap=True, criterion='mse', max_depth=None,\n",
       "           max_features='auto', max_leaf_nodes=None,\n",
       "           min_impurity_decrease=0.0, min_impurity_split=None,\n",
       "           min_samples_leaf=1, min_samples_split=2,\n",
       "           min_weight_fraction_leaf=0.0, n_estimators=10, n_jobs=None,\n",
       "           oob_score=False, random_state=0, verbose=0, warm_start=False)"
      ]
     },
     "execution_count": 479,
     "metadata": {},
     "output_type": "execute_result"
    }
   ],
   "source": [
    "rfr_1s.fit(X_train_scaled, y_train_s)"
   ]
  },
  {
   "cell_type": "code",
   "execution_count": 480,
   "metadata": {},
   "outputs": [],
   "source": [
    "rfr_pred_1s_train = rfr_1s.predict(X_train_scaled)"
   ]
  },
  {
   "cell_type": "code",
   "execution_count": 481,
   "metadata": {},
   "outputs": [
    {
     "data": {
      "text/plain": [
       "0.9154940070088083"
      ]
     },
     "execution_count": 481,
     "metadata": {},
     "output_type": "execute_result"
    }
   ],
   "source": [
    "rfr_1s.score(X_train_scaled, y_train_s)"
   ]
  },
  {
   "cell_type": "code",
   "execution_count": 482,
   "metadata": {
    "scrolled": false
   },
   "outputs": [
    {
     "name": "stdout",
     "output_type": "stream",
     "text": [
      "Mean Absolute Error Train: 5.612989309210526\n",
      "Mean Squared Error Train: 63.96789009046053\n",
      "Root Mean Squared Error Train: 7.997992878870331\n"
     ]
    }
   ],
   "source": [
    "print('Mean Absolute Error Train:', metrics.mean_absolute_error(y_train_s, rfr_pred_1s_train))\n",
    "print('Mean Squared Error Train:', metrics.mean_squared_error(y_train_s, rfr_pred_1s_train))\n",
    "print('Root Mean Squared Error Train:', np.sqrt(metrics.mean_squared_error(y_train_s, rfr_pred_1s_train)))"
   ]
  },
  {
   "cell_type": "code",
   "execution_count": 483,
   "metadata": {},
   "outputs": [],
   "source": [
    "rfr_pred_1s_test = rfr_1s.predict(X_test_scaled)"
   ]
  },
  {
   "cell_type": "code",
   "execution_count": 484,
   "metadata": {},
   "outputs": [
    {
     "data": {
      "text/plain": [
       "0.5232179327763447"
      ]
     },
     "execution_count": 484,
     "metadata": {},
     "output_type": "execute_result"
    }
   ],
   "source": [
    "rfr_1s.score(X_test_scaled, y_test_s)"
   ]
  },
  {
   "cell_type": "code",
   "execution_count": 485,
   "metadata": {
    "scrolled": true
   },
   "outputs": [
    {
     "name": "stdout",
     "output_type": "stream",
     "text": [
      "Mean Absolute Error Test: 13.81769105691057\n",
      "Mean Squared Error Test: 391.0983954471545\n",
      "Root Mean Squared Error Test: 19.776207812600333\n"
     ]
    }
   ],
   "source": [
    "print('Mean Absolute Error Test:', metrics.mean_absolute_error(y_test_s, rfr_pred_1s_test))\n",
    "print('Mean Squared Error Test:', metrics.mean_squared_error(y_test_s, rfr_pred_1s_test))\n",
    "print('Root Mean Squared Error Test:', np.sqrt(metrics.mean_squared_error(y_test_s, rfr_pred_1s_test)))"
   ]
  },
  {
   "cell_type": "code",
   "execution_count": 486,
   "metadata": {},
   "outputs": [],
   "source": [
    "rfr_2s = RandomForestRegressor(n_estimators=100, random_state=0)"
   ]
  },
  {
   "cell_type": "code",
   "execution_count": 487,
   "metadata": {
    "scrolled": true
   },
   "outputs": [
    {
     "data": {
      "text/plain": [
       "RandomForestRegressor(bootstrap=True, criterion='mse', max_depth=None,\n",
       "           max_features='auto', max_leaf_nodes=None,\n",
       "           min_impurity_decrease=0.0, min_impurity_split=None,\n",
       "           min_samples_leaf=1, min_samples_split=2,\n",
       "           min_weight_fraction_leaf=0.0, n_estimators=100, n_jobs=None,\n",
       "           oob_score=False, random_state=0, verbose=0, warm_start=False)"
      ]
     },
     "execution_count": 487,
     "metadata": {},
     "output_type": "execute_result"
    }
   ],
   "source": [
    "rfr_2s.fit(X_train_scaled, y_train_s)"
   ]
  },
  {
   "cell_type": "code",
   "execution_count": 488,
   "metadata": {},
   "outputs": [],
   "source": [
    "rfr_pred_2s_train = rfr_2s.predict(X_train_scaled)"
   ]
  },
  {
   "cell_type": "code",
   "execution_count": 489,
   "metadata": {},
   "outputs": [
    {
     "data": {
      "text/plain": [
       "0.9382618607826071"
      ]
     },
     "execution_count": 489,
     "metadata": {},
     "output_type": "execute_result"
    }
   ],
   "source": [
    "rfr_2s.score(X_train_scaled, y_train_s)"
   ]
  },
  {
   "cell_type": "code",
   "execution_count": 490,
   "metadata": {
    "scrolled": false
   },
   "outputs": [
    {
     "name": "stdout",
     "output_type": "stream",
     "text": [
      "Mean Absolute Error Train: 5.048208881578942\n",
      "Mean Squared Error Train: 46.73347255098679\n",
      "Root Mean Squared Error Train: 6.836188451980152\n"
     ]
    }
   ],
   "source": [
    "print('Mean Absolute Error Train:', metrics.mean_absolute_error(y_train_s, rfr_pred_2s_train))\n",
    "print('Mean Squared Error Train:', metrics.mean_squared_error(y_train_s, rfr_pred_2s_train))\n",
    "print('Root Mean Squared Error Train:', np.sqrt(metrics.mean_squared_error(y_train_s, rfr_pred_2s_train)))"
   ]
  },
  {
   "cell_type": "code",
   "execution_count": 491,
   "metadata": {},
   "outputs": [],
   "source": [
    "rfr_pred_2s_test = rfr_2s.predict(X_test_scaled)"
   ]
  },
  {
   "cell_type": "code",
   "execution_count": 492,
   "metadata": {},
   "outputs": [
    {
     "data": {
      "text/plain": [
       "0.5728614803663985"
      ]
     },
     "execution_count": 492,
     "metadata": {},
     "output_type": "execute_result"
    }
   ],
   "source": [
    "rfr_2s.score(X_test_scaled, y_test_s)"
   ]
  },
  {
   "cell_type": "code",
   "execution_count": 493,
   "metadata": {
    "scrolled": true
   },
   "outputs": [
    {
     "name": "stdout",
     "output_type": "stream",
     "text": [
      "Mean Absolute Error Test: 13.111354471544718\n",
      "Mean Squared Error Test: 350.37641125040653\n",
      "Root Mean Squared Error Test: 18.718344244361106\n"
     ]
    }
   ],
   "source": [
    "print('Mean Absolute Error Test:', metrics.mean_absolute_error(y_test_s, rfr_pred_2s_test))\n",
    "print('Mean Squared Error Test:', metrics.mean_squared_error(y_test_s, rfr_pred_2s_test))\n",
    "print('Root Mean Squared Error Test:', np.sqrt(metrics.mean_squared_error(y_test_s, rfr_pred_2s_test)))"
   ]
  },
  {
   "cell_type": "code",
   "execution_count": 428,
   "metadata": {},
   "outputs": [],
   "source": [
    "rfr_3s = RandomForestRegressor(n_estimators=1000, random_state=0)"
   ]
  },
  {
   "cell_type": "code",
   "execution_count": 429,
   "metadata": {
    "scrolled": true
   },
   "outputs": [
    {
     "data": {
      "text/plain": [
       "RandomForestRegressor(bootstrap=True, criterion='mse', max_depth=None,\n",
       "           max_features='auto', max_leaf_nodes=None,\n",
       "           min_impurity_decrease=0.0, min_impurity_split=None,\n",
       "           min_samples_leaf=1, min_samples_split=2,\n",
       "           min_weight_fraction_leaf=0.0, n_estimators=10, n_jobs=None,\n",
       "           oob_score=False, random_state=0, verbose=0, warm_start=False)"
      ]
     },
     "execution_count": 429,
     "metadata": {},
     "output_type": "execute_result"
    }
   ],
   "source": [
    "rfr_3s.fit(X_train_scaled, y_train_s)"
   ]
  },
  {
   "cell_type": "code",
   "execution_count": 430,
   "metadata": {},
   "outputs": [],
   "source": [
    "rfr_pred_3s_train = rfr_3s.predict(X_train_scaled)"
   ]
  },
  {
   "cell_type": "code",
   "execution_count": 431,
   "metadata": {},
   "outputs": [
    {
     "data": {
      "text/plain": [
       "0.9154742926585733"
      ]
     },
     "execution_count": 431,
     "metadata": {},
     "output_type": "execute_result"
    }
   ],
   "source": [
    "rfr_3s.score(X_train_scaled, y_train_s)"
   ]
  },
  {
   "cell_type": "code",
   "execution_count": 432,
   "metadata": {
    "scrolled": false
   },
   "outputs": [
    {
     "name": "stdout",
     "output_type": "stream",
     "text": [
      "Mean Absolute Error Train: 5.717845711940911\n",
      "Mean Squared Error Train: 65.81630648338121\n",
      "Root Mean Squared Error Train: 8.11272497274382\n"
     ]
    }
   ],
   "source": [
    "print('Mean Absolute Error Train:', metrics.mean_absolute_error(y_train_s, rfr_pred_3s_train))\n",
    "print('Mean Squared Error Train:', metrics.mean_squared_error(y_train_s, rfr_pred_3s_train))\n",
    "print('Root Mean Squared Error Train:', np.sqrt(metrics.mean_squared_error(y_train_s, rfr_pred_3s_train)))"
   ]
  },
  {
   "cell_type": "code",
   "execution_count": 433,
   "metadata": {},
   "outputs": [],
   "source": [
    "rfr_pred_3s_test = rfr_3s.predict(X_test_scaled)"
   ]
  },
  {
   "cell_type": "code",
   "execution_count": 434,
   "metadata": {},
   "outputs": [
    {
     "data": {
      "text/plain": [
       "0.5165718288315223"
      ]
     },
     "execution_count": 434,
     "metadata": {},
     "output_type": "execute_result"
    }
   ],
   "source": [
    "rfr_3s.score(X_test_scaled, y_test_s)"
   ]
  },
  {
   "cell_type": "code",
   "execution_count": 435,
   "metadata": {
    "scrolled": true
   },
   "outputs": [
    {
     "name": "stdout",
     "output_type": "stream",
     "text": [
      "Mean Absolute Error Test: 14.058147540983606\n",
      "Mean Squared Error Test: 353.0132440983606\n",
      "Root Mean Squared Error Test: 18.7886466808645\n"
     ]
    }
   ],
   "source": [
    "print('Mean Absolute Error Test:', metrics.mean_absolute_error(y_test_s, rfr_pred_3s_test))\n",
    "print('Mean Squared Error Test:', metrics.mean_squared_error(y_test_s, rfr_pred_3s_test))\n",
    "print('Root Mean Squared Error Test:', np.sqrt(metrics.mean_squared_error(y_test_s, rfr_pred_3s_test)))"
   ]
  },
  {
   "cell_type": "markdown",
   "metadata": {},
   "source": [
    "## Best Performing Algorithm"
   ]
  },
  {
   "cell_type": "markdown",
   "metadata": {},
   "source": [
    "The best performing algorithm is the unscaled, Ridge Regression algorithm using unscaled data and the automatic solver with an Alpha of 0.001. This algorithm has an accuracy of 0.6465 and a Root Mean Squared Error (RMSE) of 16.6 for the training set. The test set has an accuracy of 0.6408 and a Root Mean Squared Error (RMSE) of 16.2."
   ]
  }
 ],
 "metadata": {
  "kernelspec": {
   "display_name": "Python 3",
   "language": "python",
   "name": "python3"
  },
  "language_info": {
   "codemirror_mode": {
    "name": "ipython",
    "version": 3
   },
   "file_extension": ".py",
   "mimetype": "text/x-python",
   "name": "python",
   "nbconvert_exporter": "python",
   "pygments_lexer": "ipython3",
   "version": "3.7.3"
  }
 },
 "nbformat": 4,
 "nbformat_minor": 2
}
